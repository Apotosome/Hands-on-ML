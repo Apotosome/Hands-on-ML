{
 "cells": [
  {
   "cell_type": "code",
   "execution_count": 7,
   "metadata": {},
   "outputs": [
    {
     "name": "stdout",
     "output_type": "stream",
     "text": [
      "Looking in indexes: https://pypi.tuna.tsinghua.edu.cn/simple\n",
      "Collecting zh-core-web-sm==3.2.0 from https://github.com/explosion/spacy-models/releases/download/zh_core_web_sm-3.2.0/zh_core_web_sm-3.2.0-py3-none-any.whl#egg=zh_core_web_sm==3.2.0\n",
      "\u001b[33m  WARNING: Retrying (Retry(total=4, connect=None, read=None, redirect=None, status=None)) after connection broken by 'ReadTimeoutError(\"HTTPSConnectionPool(host='github.com', port=443): Read timed out. (read timeout=15)\")': /explosion/spacy-models/releases/download/zh_core_web_sm-3.2.0/zh_core_web_sm-3.2.0-py3-none-any.whl\u001b[0m\n",
      "\u001b[?25l  Downloading https://github.com/explosion/spacy-models/releases/download/zh_core_web_sm-3.2.0/zh_core_web_sm-3.2.0-py3-none-any.whl (49.5MB)\n",
      "\u001b[K     |████████████████████████████████| 49.5MB 780kB/s eta 0:00:01     |███████                         | 10.9MB 6.6MB/s eta 0:00:06     |████████████▌                   | 19.4MB 6.2MB/s eta 0:00:05\n",
      "\u001b[?25hCollecting spacy-pkuseg<0.1.0,>=0.0.27 (from zh-core-web-sm==3.2.0)\n",
      "\u001b[?25l  Downloading https://pypi.tuna.tsinghua.edu.cn/packages/b1/26/3d2b40c1a9d20519080c18d46b58cecf8edd401eb7eb9755ce00109c8b06/spacy_pkuseg-0.0.30-cp37-cp37m-macosx_10_9_x86_64.whl (2.4MB)\n",
      "\u001b[K     |████████████████████████████████| 2.4MB 1.2MB/s eta 0:00:01\n",
      "\u001b[?25hRequirement already satisfied: spacy<3.3.0,>=3.2.0 in /Users/jin/opt/anaconda3/lib/python3.7/site-packages (from zh-core-web-sm==3.2.0) (3.2.0)\n",
      "Requirement already satisfied: numpy>=1.16.0 in /Users/jin/opt/anaconda3/lib/python3.7/site-packages (from spacy-pkuseg<0.1.0,>=0.0.27->zh-core-web-sm==3.2.0) (1.21.6)\n",
      "Requirement already satisfied: srsly<3.0.0,>=2.3.0 in /Users/jin/opt/anaconda3/lib/python3.7/site-packages (from spacy-pkuseg<0.1.0,>=0.0.27->zh-core-web-sm==3.2.0) (2.4.3)\n",
      "Requirement already satisfied: cython>=0.25 in /Users/jin/opt/anaconda3/lib/python3.7/site-packages (from spacy-pkuseg<0.1.0,>=0.0.27->zh-core-web-sm==3.2.0) (0.29.13)\n",
      "Requirement already satisfied: pathy>=0.3.5 in /Users/jin/opt/anaconda3/lib/python3.7/site-packages (from spacy<3.3.0,>=3.2.0->zh-core-web-sm==3.2.0) (0.6.1)\n",
      "Requirement already satisfied: spacy-legacy<3.1.0,>=3.0.8 in /Users/jin/opt/anaconda3/lib/python3.7/site-packages (from spacy<3.3.0,>=3.2.0->zh-core-web-sm==3.2.0) (3.0.9)\n",
      "Requirement already satisfied: spacy-loggers<2.0.0,>=1.0.0 in /Users/jin/opt/anaconda3/lib/python3.7/site-packages (from spacy<3.3.0,>=3.2.0->zh-core-web-sm==3.2.0) (1.0.2)\n",
      "Requirement already satisfied: murmurhash<1.1.0,>=0.28.0 in /Users/jin/opt/anaconda3/lib/python3.7/site-packages (from spacy<3.3.0,>=3.2.0->zh-core-web-sm==3.2.0) (1.0.7)\n",
      "Requirement already satisfied: catalogue<2.1.0,>=2.0.6 in /Users/jin/opt/anaconda3/lib/python3.7/site-packages (from spacy<3.3.0,>=3.2.0->zh-core-web-sm==3.2.0) (2.0.7)\n",
      "Requirement already satisfied: tqdm<5.0.0,>=4.38.0 in /Users/jin/opt/anaconda3/lib/python3.7/site-packages (from spacy<3.3.0,>=3.2.0->zh-core-web-sm==3.2.0) (4.64.0)\n",
      "Requirement already satisfied: blis<0.8.0,>=0.4.0 in /Users/jin/opt/anaconda3/lib/python3.7/site-packages (from spacy<3.3.0,>=3.2.0->zh-core-web-sm==3.2.0) (0.7.7)\n",
      "Requirement already satisfied: wasabi<1.1.0,>=0.8.1 in /Users/jin/opt/anaconda3/lib/python3.7/site-packages (from spacy<3.3.0,>=3.2.0->zh-core-web-sm==3.2.0) (0.9.1)\n",
      "Requirement already satisfied: setuptools in /Users/jin/opt/anaconda3/lib/python3.7/site-packages (from spacy<3.3.0,>=3.2.0->zh-core-web-sm==3.2.0) (41.4.0)\n",
      "Requirement already satisfied: typer<0.5.0,>=0.3.0 in /Users/jin/opt/anaconda3/lib/python3.7/site-packages (from spacy<3.3.0,>=3.2.0->zh-core-web-sm==3.2.0) (0.4.1)\n",
      "Requirement already satisfied: thinc<8.1.0,>=8.0.12 in /Users/jin/opt/anaconda3/lib/python3.7/site-packages (from spacy<3.3.0,>=3.2.0->zh-core-web-sm==3.2.0) (8.0.15)\n",
      "Requirement already satisfied: jinja2 in /Users/jin/opt/anaconda3/lib/python3.7/site-packages (from spacy<3.3.0,>=3.2.0->zh-core-web-sm==3.2.0) (2.10.3)\n",
      "Requirement already satisfied: requests<3.0.0,>=2.13.0 in /Users/jin/opt/anaconda3/lib/python3.7/site-packages (from spacy<3.3.0,>=3.2.0->zh-core-web-sm==3.2.0) (2.27.1)\n",
      "Requirement already satisfied: preshed<3.1.0,>=3.0.2 in /Users/jin/opt/anaconda3/lib/python3.7/site-packages (from spacy<3.3.0,>=3.2.0->zh-core-web-sm==3.2.0) (3.0.6)\n",
      "Requirement already satisfied: cymem<2.1.0,>=2.0.2 in /Users/jin/opt/anaconda3/lib/python3.7/site-packages (from spacy<3.3.0,>=3.2.0->zh-core-web-sm==3.2.0) (2.0.6)\n",
      "Requirement already satisfied: langcodes<4.0.0,>=3.2.0 in /Users/jin/opt/anaconda3/lib/python3.7/site-packages (from spacy<3.3.0,>=3.2.0->zh-core-web-sm==3.2.0) (3.3.0)\n",
      "Requirement already satisfied: pydantic!=1.8,!=1.8.1,<1.9.0,>=1.7.4 in /Users/jin/opt/anaconda3/lib/python3.7/site-packages (from spacy<3.3.0,>=3.2.0->zh-core-web-sm==3.2.0) (1.8.2)\n",
      "Requirement already satisfied: typing-extensions<4.0.0.0,>=3.7.4; python_version < \"3.8\" in /Users/jin/opt/anaconda3/lib/python3.7/site-packages (from spacy<3.3.0,>=3.2.0->zh-core-web-sm==3.2.0) (3.10.0.2)\n",
      "Requirement already satisfied: packaging>=20.0 in /Users/jin/opt/anaconda3/lib/python3.7/site-packages (from spacy<3.3.0,>=3.2.0->zh-core-web-sm==3.2.0) (21.3)\n",
      "Requirement already satisfied: smart-open<6.0.0,>=5.0.0 in /Users/jin/opt/anaconda3/lib/python3.7/site-packages (from pathy>=0.3.5->spacy<3.3.0,>=3.2.0->zh-core-web-sm==3.2.0) (5.2.1)\n",
      "Requirement already satisfied: zipp>=0.5; python_version < \"3.8\" in /Users/jin/opt/anaconda3/lib/python3.7/site-packages (from catalogue<2.1.0,>=2.0.6->spacy<3.3.0,>=3.2.0->zh-core-web-sm==3.2.0) (3.6.0)\n",
      "Requirement already satisfied: click<9.0.0,>=7.1.1 in /Users/jin/opt/anaconda3/lib/python3.7/site-packages (from typer<0.5.0,>=0.3.0->spacy<3.3.0,>=3.2.0->zh-core-web-sm==3.2.0) (8.1.3)\n",
      "Requirement already satisfied: MarkupSafe>=0.23 in /Users/jin/opt/anaconda3/lib/python3.7/site-packages (from jinja2->spacy<3.3.0,>=3.2.0->zh-core-web-sm==3.2.0) (1.1.1)\n",
      "Requirement already satisfied: charset-normalizer~=2.0.0; python_version >= \"3\" in /Users/jin/opt/anaconda3/lib/python3.7/site-packages/charset_normalizer-2.0.12-py3.7.egg (from requests<3.0.0,>=2.13.0->spacy<3.3.0,>=3.2.0->zh-core-web-sm==3.2.0) (2.0.12)\n",
      "Requirement already satisfied: urllib3<1.27,>=1.21.1 in /Users/jin/opt/anaconda3/lib/python3.7/site-packages (from requests<3.0.0,>=2.13.0->spacy<3.3.0,>=3.2.0->zh-core-web-sm==3.2.0) (1.26.9)\n",
      "Requirement already satisfied: idna<4,>=2.5; python_version >= \"3\" in /Users/jin/opt/anaconda3/lib/python3.7/site-packages (from requests<3.0.0,>=2.13.0->spacy<3.3.0,>=3.2.0->zh-core-web-sm==3.2.0) (2.8)\n",
      "Requirement already satisfied: certifi>=2017.4.17 in /Users/jin/opt/anaconda3/lib/python3.7/site-packages (from requests<3.0.0,>=2.13.0->spacy<3.3.0,>=3.2.0->zh-core-web-sm==3.2.0) (2021.10.8)\n",
      "Requirement already satisfied: pyparsing!=3.0.5,>=2.0.2 in /Users/jin/opt/anaconda3/lib/python3.7/site-packages (from packaging>=20.0->spacy<3.3.0,>=3.2.0->zh-core-web-sm==3.2.0) (2.4.2)\n",
      "Requirement already satisfied: importlib-metadata; python_version < \"3.8\" in /Users/jin/opt/anaconda3/lib/python3.7/site-packages (from click<9.0.0,>=7.1.1->typer<0.5.0,>=0.3.0->spacy<3.3.0,>=3.2.0->zh-core-web-sm==3.2.0) (0.23)\n",
      "Installing collected packages: spacy-pkuseg, zh-core-web-sm\n",
      "Successfully installed spacy-pkuseg-0.0.30 zh-core-web-sm-3.2.0\n",
      "\u001b[38;5;2m✔ Download and installation successful\u001b[0m\n",
      "You can now load the package via spacy.load('zh_core_web_sm')\n"
     ]
    }
   ],
   "source": [
    "!python -m spacy download zh_core_web_sm"
   ]
  },
  {
   "cell_type": "code",
   "execution_count": null,
   "metadata": {},
   "outputs": [],
   "source": []
  },
  {
   "cell_type": "code",
   "execution_count": null,
   "metadata": {},
   "outputs": [],
   "source": []
  },
  {
   "cell_type": "code",
   "execution_count": null,
   "metadata": {},
   "outputs": [],
   "source": []
  }
 ],
 "metadata": {
  "hide_input": false,
  "kernelspec": {
   "display_name": "Python 3",
   "language": "python",
   "name": "python3"
  },
  "language_info": {
   "codemirror_mode": {
    "name": "ipython",
    "version": 3
   },
   "file_extension": ".py",
   "mimetype": "text/x-python",
   "name": "python",
   "nbconvert_exporter": "python",
   "pygments_lexer": "ipython3",
   "version": "3.7.4"
  },
  "toc": {
   "base_numbering": 1,
   "nav_menu": {},
   "number_sections": true,
   "sideBar": true,
   "skip_h1_title": false,
   "title_cell": "目录",
   "title_sidebar": "目录",
   "toc_cell": false,
   "toc_position": {},
   "toc_section_display": true,
   "toc_window_display": false
  }
 },
 "nbformat": 4,
 "nbformat_minor": 2
}
