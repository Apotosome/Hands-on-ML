{
 "cells": [
  {
   "cell_type": "markdown",
   "metadata": {},
   "source": [
    "# 像NumPy一样使用TensorFlow "
   ]
  },
  {
   "cell_type": "markdown",
   "metadata": {},
   "source": [
    "## 张量和操作 Tensors and Operations"
   ]
  },
  {
   "cell_type": "code",
   "execution_count": 1,
   "metadata": {},
   "outputs": [],
   "source": [
    "import numpy as np\n",
    "import pandas as pd\n",
    "import tensorflow as tf\n",
    "import tensorflow.keras as keras\n",
    "\n",
    "np.random.seed(42)\n",
    "tf.random.set_seed(42)"
   ]
  },
  {
   "cell_type": "markdown",
   "metadata": {},
   "source": [
    "### 张量 Tensors"
   ]
  },
  {
   "cell_type": "markdown",
   "metadata": {},
   "source": [
    "使用`tf.constant()`创建张量"
   ]
  },
  {
   "cell_type": "code",
   "execution_count": 2,
   "metadata": {},
   "outputs": [
    {
     "data": {
      "text/plain": [
       "<tf.Tensor: shape=(2, 3, 3), dtype=int32, numpy=\n",
       "array([[[ 1,  2,  3],\n",
       "        [ 4,  5,  6],\n",
       "        [ 7,  8,  9]],\n",
       "\n",
       "       [[10, 11, 12],\n",
       "        [13, 14, 15],\n",
       "        [16, 11, 12]]], dtype=int32)>"
      ]
     },
     "execution_count": 2,
     "metadata": {},
     "output_type": "execute_result"
    }
   ],
   "source": [
    "t = tf.constant([\n",
    "    [[1,2,3],[4,5,6],[7,8,9]],\n",
    "    [[10,11,12],[13,14,15],[16,11,12]],\n",
    "])\n",
    "t"
   ]
  },
  {
   "cell_type": "code",
   "execution_count": 3,
   "metadata": {
    "scrolled": true
   },
   "outputs": [
    {
     "data": {
      "text/plain": [
       "(TensorShape([2, 3, 3]), tf.int32)"
      ]
     },
     "execution_count": 3,
     "metadata": {},
     "output_type": "execute_result"
    }
   ],
   "source": [
    "t.shape, t.dtype"
   ]
  },
  {
   "cell_type": "markdown",
   "metadata": {},
   "source": [
    "### 索引 indexing"
   ]
  },
  {
   "cell_type": "code",
   "execution_count": 4,
   "metadata": {
    "scrolled": true
   },
   "outputs": [
    {
     "data": {
      "text/plain": [
       "<tf.Tensor: shape=(2, 2, 3), dtype=int32, numpy=\n",
       "array([[[ 4,  5,  6],\n",
       "        [ 7,  8,  9]],\n",
       "\n",
       "       [[13, 14, 15],\n",
       "        [16, 11, 12]]], dtype=int32)>"
      ]
     },
     "execution_count": 4,
     "metadata": {},
     "output_type": "execute_result"
    }
   ],
   "source": [
    "t[:, 1:]"
   ]
  },
  {
   "cell_type": "code",
   "execution_count": 5,
   "metadata": {
    "scrolled": true
   },
   "outputs": [
    {
     "data": {
      "text/plain": [
       "<tf.Tensor: shape=(2, 3, 1), dtype=int32, numpy=\n",
       "array([[[ 2],\n",
       "        [ 5],\n",
       "        [ 8]],\n",
       "\n",
       "       [[11],\n",
       "        [14],\n",
       "        [11]]], dtype=int32)>"
      ]
     },
     "execution_count": 5,
     "metadata": {},
     "output_type": "execute_result"
    }
   ],
   "source": [
    "t[..., 1, tf.newaxis]  \n",
    "# … 代表多个维度上的切片 \n",
    "# tf.newaxis  增加维度"
   ]
  },
  {
   "cell_type": "markdown",
   "metadata": {},
   "source": [
    "### 操作 ops"
   ]
  },
  {
   "cell_type": "code",
   "execution_count": 6,
   "metadata": {},
   "outputs": [
    {
     "data": {
      "text/plain": [
       "<tf.Tensor: shape=(2, 3, 3), dtype=int32, numpy=\n",
       "array([[[11, 12, 13],\n",
       "        [14, 15, 16],\n",
       "        [17, 18, 19]],\n",
       "\n",
       "       [[20, 21, 22],\n",
       "        [23, 24, 25],\n",
       "        [26, 21, 22]]], dtype=int32)>"
      ]
     },
     "execution_count": 6,
     "metadata": {},
     "output_type": "execute_result"
    }
   ],
   "source": [
    "t + 10   # tf.add(t, 10)"
   ]
  },
  {
   "cell_type": "code",
   "execution_count": 7,
   "metadata": {},
   "outputs": [
    {
     "data": {
      "text/plain": [
       "<tf.Tensor: shape=(2, 3, 3), dtype=int32, numpy=\n",
       "array([[[  1,   4,   9],\n",
       "        [ 16,  25,  36],\n",
       "        [ 49,  64,  81]],\n",
       "\n",
       "       [[100, 121, 144],\n",
       "        [169, 196, 225],\n",
       "        [256, 121, 144]]], dtype=int32)>"
      ]
     },
     "execution_count": 7,
     "metadata": {},
     "output_type": "execute_result"
    }
   ],
   "source": [
    "tf.square(t)"
   ]
  },
  {
   "cell_type": "code",
   "execution_count": 8,
   "metadata": {},
   "outputs": [
    {
     "data": {
      "text/plain": [
       "<tf.Tensor: shape=(2, 2), dtype=float32, numpy=\n",
       "array([[14., 32.],\n",
       "       [32., 77.]], dtype=float32)>"
      ]
     },
     "execution_count": 8,
     "metadata": {},
     "output_type": "execute_result"
    }
   ],
   "source": [
    "t = tf.constant([[1., 2., 3.], [4., 5., 6.]])\n",
    "t @ tf.transpose(t)   # t*(t^T)"
   ]
  },
  {
   "cell_type": "markdown",
   "metadata": {},
   "source": [
    "在tf中可以找到所有的基本数学运算和`Numpy`中的大多数运算.其中,某些名称与`Numpy`中有所不同:\n",
    "- `tf.reduce_mean()` ~ `np.mean()`\n",
    "- `tf.reduce_sum()` ~ `np.sum()`\n",
    "- `tf.reduce_max()` ~ `np.max()`\n",
    "- `tf.math.log()` ~ `np.log()`"
   ]
  },
  {
   "cell_type": "markdown",
   "metadata": {},
   "source": [
    "- 理解`reduce`\n",
    "\n",
    "    维度是用来索引一个多维数组中某个具体数所需要最少的坐标.`axis`是多维数组每个维度的坐标.`reduce`可以解释为“塌缩”,即`掉一层方括号`.\n",
    "\n",
    "    对于$k$维的，`tf.reduce_sum(x, axis=k-1)`的结果是对**最里面一维所有元素**进行求和。`tf.reduce_sum(x, axis=k-2)`是对**倒数第二层里的向量对应的元素**进行求和。`tf.reduce_sum(x, axis=k-3)`把**倒数第三层的每个向量对应元素**相加。\n"
   ]
  },
  {
   "cell_type": "markdown",
   "metadata": {},
   "source": [
    "<img src=\"./images/other/12-1.png\" width=\"700\">"
   ]
  },
  {
   "cell_type": "markdown",
   "metadata": {},
   "source": [
    "### Keras 的底层API"
   ]
  },
  {
   "cell_type": "markdown",
   "metadata": {},
   "source": [
    "`kerar API`在`keras.backend`中有自己的底层API.如果要编写可移植到其他`Keras`实现的代码,应当使用这些函数."
   ]
  },
  {
   "cell_type": "code",
   "execution_count": 9,
   "metadata": {},
   "outputs": [
    {
     "data": {
      "text/plain": [
       "<tf.Tensor: shape=(2, 3), dtype=float32, numpy=\n",
       "array([[1., 2., 3.],\n",
       "       [4., 5., 6.]], dtype=float32)>"
      ]
     },
     "execution_count": 9,
     "metadata": {},
     "output_type": "execute_result"
    }
   ],
   "source": [
    "t"
   ]
  },
  {
   "cell_type": "code",
   "execution_count": 10,
   "metadata": {},
   "outputs": [
    {
     "data": {
      "text/plain": [
       "<tf.Tensor: shape=(3, 2), dtype=float32, numpy=\n",
       "array([[11., 26.],\n",
       "       [14., 35.],\n",
       "       [19., 46.]], dtype=float32)>"
      ]
     },
     "execution_count": 10,
     "metadata": {},
     "output_type": "execute_result"
    }
   ],
   "source": [
    "from tensorflow import keras\n",
    "K = keras.backend\n",
    "K.square(K.transpose(t)) + 10"
   ]
  },
  {
   "cell_type": "markdown",
   "metadata": {},
   "source": [
    "##  张量和NumPy "
   ]
  },
  {
   "cell_type": "markdown",
   "metadata": {},
   "source": [
    "张量可以与Numpy配合使用.NumPy默认精度为`float64`, TensorFlow默认精度为`float32`"
   ]
  },
  {
   "cell_type": "code",
   "execution_count": 11,
   "metadata": {},
   "outputs": [
    {
     "data": {
      "text/plain": [
       "<tf.Tensor: shape=(3,), dtype=float32, numpy=array([2., 3., 4.], dtype=float32)>"
      ]
     },
     "execution_count": 11,
     "metadata": {},
     "output_type": "execute_result"
    }
   ],
   "source": [
    "a = np.array([2., 3., 4.])\n",
    "tf.constant(a, dtype=np.float32)   # 从Numpy中创建张量时,注意要设置dtype"
   ]
  },
  {
   "cell_type": "code",
   "execution_count": 12,
   "metadata": {},
   "outputs": [
    {
     "data": {
      "text/plain": [
       "array([[1., 2., 3.],\n",
       "       [4., 5., 6.]], dtype=float32)"
      ]
     },
     "execution_count": 12,
     "metadata": {},
     "output_type": "execute_result"
    }
   ],
   "source": [
    "t.numpy()  "
   ]
  },
  {
   "cell_type": "code",
   "execution_count": 13,
   "metadata": {},
   "outputs": [
    {
     "data": {
      "text/plain": [
       "<tf.Tensor: shape=(3,), dtype=float64, numpy=array([ 4.,  9., 16.])>"
      ]
     },
     "execution_count": 13,
     "metadata": {},
     "output_type": "execute_result"
    }
   ],
   "source": [
    "tf.square(a)   # 将TensorFlow操作应用于Numpy数组."
   ]
  },
  {
   "cell_type": "code",
   "execution_count": 14,
   "metadata": {},
   "outputs": [
    {
     "data": {
      "text/plain": [
       "array([[ 1.,  4.,  9.],\n",
       "       [16., 25., 36.]], dtype=float32)"
      ]
     },
     "execution_count": 14,
     "metadata": {},
     "output_type": "execute_result"
    }
   ],
   "source": [
    "np.square(t)"
   ]
  },
  {
   "cell_type": "markdown",
   "metadata": {},
   "source": [
    "## 类型转换 Type Conversions"
   ]
  },
  {
   "cell_type": "markdown",
   "metadata": {},
   "source": [
    "类型转换会严重影响性能,并且在自动完成转换时很容易被忽视.因此在TensorFlow不会自动执行任何类型转换."
   ]
  },
  {
   "cell_type": "code",
   "execution_count": 15,
   "metadata": {},
   "outputs": [
    {
     "name": "stdout",
     "output_type": "stream",
     "text": [
      "cannot compute AddV2 as input #1(zero-based) was expected to be a float tensor but is a int32 tensor [Op:AddV2]\n"
     ]
    }
   ],
   "source": [
    "try:\n",
    "    tf.constant(2.0) + tf.constant(1)\n",
    "except tf.errors.InvalidArgumentError as ex:\n",
    "    print(ex)"
   ]
  },
  {
   "cell_type": "markdown",
   "metadata": {},
   "source": [
    "当你确实需要使用类型转换时,使用`tf.cast()`"
   ]
  },
  {
   "cell_type": "code",
   "execution_count": 16,
   "metadata": {},
   "outputs": [
    {
     "data": {
      "text/plain": [
       "<tf.Tensor: shape=(), dtype=float32, numpy=42.0>"
      ]
     },
     "execution_count": 16,
     "metadata": {},
     "output_type": "execute_result"
    }
   ],
   "source": [
    "t2 = tf.constant(40., dtype=tf.float64)\n",
    "tf.constant(2.0) + tf.cast(t2, dtype=tf.float32)"
   ]
  },
  {
   "cell_type": "markdown",
   "metadata": {},
   "source": [
    "## 变量 Variables"
   ]
  },
  {
   "cell_type": "code",
   "execution_count": 17,
   "metadata": {},
   "outputs": [
    {
     "data": {
      "text/plain": [
       "<tf.Variable 'Variable:0' shape=(2, 3) dtype=float32, numpy=\n",
       "array([[1., 2., 3.],\n",
       "       [4., 5., 6.]], dtype=float32)>"
      ]
     },
     "execution_count": 17,
     "metadata": {},
     "output_type": "execute_result"
    }
   ],
   "source": [
    "v = tf.Variable([[1., 2., 3.], [4., 5., 6.]])\n",
    "v"
   ]
  },
  {
   "cell_type": "markdown",
   "metadata": {},
   "source": [
    "使用`assign()`给变量添加或减少变值,或通过切片的方法修改某个单元格的值."
   ]
  },
  {
   "cell_type": "code",
   "execution_count": 18,
   "metadata": {},
   "outputs": [
    {
     "data": {
      "text/plain": [
       "<tf.Variable 'UnreadVariable' shape=(2, 3) dtype=float32, numpy=\n",
       "array([[ 2.,  4.,  6.],\n",
       "       [ 8., 10., 12.]], dtype=float32)>"
      ]
     },
     "execution_count": 18,
     "metadata": {},
     "output_type": "execute_result"
    }
   ],
   "source": [
    "v.assign(v*2)"
   ]
  },
  {
   "cell_type": "code",
   "execution_count": 19,
   "metadata": {},
   "outputs": [
    {
     "data": {
      "text/plain": [
       "<tf.Variable 'UnreadVariable' shape=(2, 3) dtype=float32, numpy=\n",
       "array([[ 2., 42.,  6.],\n",
       "       [ 8., 10., 12.]], dtype=float32)>"
      ]
     },
     "execution_count": 19,
     "metadata": {},
     "output_type": "execute_result"
    }
   ],
   "source": [
    "v[0, 1].assign(42)"
   ]
  },
  {
   "cell_type": "code",
   "execution_count": 20,
   "metadata": {},
   "outputs": [
    {
     "data": {
      "text/plain": [
       "<tf.Variable 'UnreadVariable' shape=(2, 3) dtype=float32, numpy=\n",
       "array([[ 2., 42.,  0.],\n",
       "       [ 8., 10.,  1.]], dtype=float32)>"
      ]
     },
     "execution_count": 20,
     "metadata": {},
     "output_type": "execute_result"
    }
   ],
   "source": [
    "v[:, 2].assign([0., 1.])"
   ]
  },
  {
   "cell_type": "markdown",
   "metadata": {},
   "source": [
    "使用`scatter_nd_update()`修改某个单元格的值."
   ]
  },
  {
   "cell_type": "code",
   "execution_count": 21,
   "metadata": {},
   "outputs": [
    {
     "data": {
      "text/plain": [
       "<tf.Variable 'UnreadVariable' shape=(2, 3) dtype=float32, numpy=\n",
       "array([[100.,  42.,   0.],\n",
       "       [  8.,  10., 200.]], dtype=float32)>"
      ]
     },
     "execution_count": 21,
     "metadata": {},
     "output_type": "execute_result"
    }
   ],
   "source": [
    "v.scatter_nd_update(indices=[[0,0], [1,2]],\n",
    "                    updates=[100., 200.])"
   ]
  },
  {
   "cell_type": "markdown",
   "metadata": {},
   "source": [
    "事实上,几乎不需要手动创建变量,因为keras提供了`add_weight()`方法来解决问题.并且模型参数通常由优化器直接更新."
   ]
  },
  {
   "cell_type": "markdown",
   "metadata": {},
   "source": [
    "## 其他数据结构 Other Data Structures"
   ]
  },
  {
   "cell_type": "markdown",
   "metadata": {},
   "source": [
    "### 字符串 Strings"
   ]
  },
  {
   "cell_type": "markdown",
   "metadata": {},
   "source": [
    "张量可以容纳字符串,如果使用`Unicode`字符串创建一个张量,则会自动将其编码成`UTF-8`."
   ]
  },
  {
   "cell_type": "code",
   "execution_count": 22,
   "metadata": {
    "scrolled": true
   },
   "outputs": [
    {
     "data": {
      "text/plain": [
       "<tf.Tensor: shape=(), dtype=string, numpy=b'hello world!'>"
      ]
     },
     "execution_count": 22,
     "metadata": {},
     "output_type": "execute_result"
    }
   ],
   "source": [
    "tf.constant(\"hello world!\")"
   ]
  },
  {
   "cell_type": "code",
   "execution_count": 23,
   "metadata": {
    "scrolled": true
   },
   "outputs": [
    {
     "data": {
      "text/plain": [
       "<tf.Tensor: shape=(), dtype=string, numpy=b'\\xe4\\xbd\\xa0\\xe5\\xa5\\xbd \\xe4\\xb8\\x96\\xe7\\x95\\x8c!'>"
      ]
     },
     "execution_count": 23,
     "metadata": {},
     "output_type": "execute_result"
    }
   ],
   "source": [
    "u = tf.constant(\"你好 世界!\")\n",
    "u"
   ]
  },
  {
   "cell_type": "code",
   "execution_count": 24,
   "metadata": {
    "scrolled": true
   },
   "outputs": [
    {
     "data": {
      "text/plain": [
       "<tf.Tensor: shape=(), dtype=int32, numpy=6>"
      ]
     },
     "execution_count": 24,
     "metadata": {},
     "output_type": "execute_result"
    }
   ],
   "source": [
    "tf.strings.length(u, unit=\"UTF8_CHAR\")"
   ]
  },
  {
   "cell_type": "markdown",
   "metadata": {},
   "source": [
    "操作包含多个字符串的张量:"
   ]
  },
  {
   "cell_type": "code",
   "execution_count": 25,
   "metadata": {},
   "outputs": [
    {
     "data": {
      "text/plain": [
       "<tf.Tensor: shape=(4,), dtype=int32, numpy=array([4, 6, 5, 2], dtype=int32)>"
      ]
     },
     "execution_count": 25,
     "metadata": {},
     "output_type": "execute_result"
    }
   ],
   "source": [
    "p = tf.constant([\"Café\", \"Coffee\", \"caffè\", \"咖啡\"])\n",
    "\n",
    "tf.strings.length(p, unit=\"UTF8_CHAR\")"
   ]
  },
  {
   "cell_type": "markdown",
   "metadata": {},
   "source": [
    "# 定制模型和训练算法 Customizing Models and Training Algorithms"
   ]
  },
  {
   "cell_type": "markdown",
   "metadata": {},
   "source": [
    "以加州房价数据集为例加载数据集,并创建训练集,验证集以及测试集,并将其输入标准化."
   ]
  },
  {
   "cell_type": "code",
   "execution_count": 26,
   "metadata": {},
   "outputs": [],
   "source": [
    "from sklearn.datasets import fetch_california_housing\n",
    "from sklearn.model_selection import train_test_split\n",
    "from sklearn.preprocessing import StandardScaler"
   ]
  },
  {
   "cell_type": "code",
   "execution_count": 27,
   "metadata": {},
   "outputs": [],
   "source": [
    "housing = fetch_california_housing()\n",
    "X = housing.data\n",
    "y = housing.target\n",
    "X_train_full, X_test, y_train_full, y_test = train_test_split(X, y, random_state=42)\n",
    "X_train, X_val, y_train, y_val = train_test_split(X_train_full, y_train_full, random_state=42)\n",
    "\n",
    "scaler = StandardScaler()\n",
    "X_train_scaled = scaler.fit_transform(X_train)\n",
    "X_val_scaled = scaler.transform(X_val)\n",
    "X_test_scaled = scaler.transform(X_test)"
   ]
  },
  {
   "cell_type": "markdown",
   "metadata": {},
   "source": [
    "## 自定义损失函数  Custom Loss Functions"
   ]
  },
  {
   "cell_type": "markdown",
   "metadata": {},
   "source": [
    "**Huber损失函数** 整合了`平均绝对误差MAE`和`均方误差MSE`各自的优点, 并避免其缺点."
   ]
  },
  {
   "cell_type": "markdown",
   "metadata": {},
   "source": [
    "$$\n",
    "L_{\\delta}(y, f(x))=\\left\\{\\begin{array}{cc}\n",
    "\\frac{1}{2}(y-f(x))^{2} & |y-f(x)| \\leq \\delta \\\\\n",
    "\\delta|y-f(x)|-\\frac{1}{2} \\delta^{2} & \\text { otherwise }\n",
    "\\end{array}\\right.\n",
    "$$"
   ]
  },
  {
   "cell_type": "markdown",
   "metadata": {},
   "source": [
    "- $\\delta$ 是Huber的一个超参数, 当真实值和预测值的差值 $|y-f(x)| \\leq \\delta$ 时, `Huber`就是`MSE`; 当差值在 $(-\\infty, \\delta)$ 或者 $(\\delta,+\\infty)$ 时, `Huber`就是`MAE`。\n",
    "- 因此, 当误差较大时, 使用`MAE`对离群点不那么敏感; 在误差较小时使用`MSE`, 能够快速的收敛;\n",
    "- 使用`MAE`训练神经网络最大的一个问题就是不变的大梯度，这可能导致在使用梯度下降快要结束时，错过了最小点。而对于`MSE`，梯度会随着损失的减小而减小，使结果更加精确。在这种情况下，`Huber`损失就非常有用。它会由于梯度的减小而落在最小值附近。比起`MSE`，它对异常点更加鲁棒。\n",
    "- 因此，`Huber`损失结合了`MSE`和`MAE`的优点。但是，`Huber`损失的问题是我们可能需要不断调整超参数𝛿 .\n",
    "\n"
   ]
  },
  {
   "cell_type": "code",
   "execution_count": 28,
   "metadata": {},
   "outputs": [],
   "source": [
    "# tf.where():condition返回相对应的X或Y值\n",
    "# 若condition=True,则返回对应X的值，False则返回对应的Y值。\n",
    "\n",
    "def huber(y_true, y_pred, delta=1.):\n",
    "    error = y_true - y_pred\n",
    "    MSE = tf.square(error) / 2\n",
    "    MAE = (delta * tf.abs(error)) - (tf.square(delta) / 2)\n",
    "    \n",
    "    condition = tf.abs(error) <= delta\n",
    "    \n",
    "    return tf.where(condition=condition, x=MSE, y=MAE)"
   ]
  },
  {
   "cell_type": "markdown",
   "metadata": {},
   "source": [
    "- 绘制损失函数"
   ]
  },
  {
   "cell_type": "code",
   "execution_count": 29,
   "metadata": {
    "scrolled": true
   },
   "outputs": [],
   "source": [
    "import matplotlib.pyplot as plt"
   ]
  },
  {
   "cell_type": "code",
   "execution_count": 30,
   "metadata": {
    "scrolled": true
   },
   "outputs": [
    {
     "data": {
      "image/png": "[encoded data removed]",
      "text/plain": [
       "<Figure size 576x324 with 1 Axes>"
      ]
     },
     "metadata": {
      "needs_background": "light"
     },
     "output_type": "display_data"
    }
   ],
   "source": [
    "plt.figure(figsize=(8, 4.5))\n",
    "z = np.linspace(-10 ,10, 200)\n",
    "plt.plot(z, huber(0,z,1), label=\"$\\delta=1$\")\n",
    "plt.plot(z, huber(0,z,5), label=\"$\\delta=5$\")\n",
    "plt.plot(z, huber(0,z,100), label=\"$\\delta=100$\")\n",
    "\n",
    "plt.plot([5,5], [0, huber(0.,5.,5.)], \"r--\")\n",
    "plt.plot([-5,-5], [0, huber(0.,-5.,5.)], \"r--\")\n",
    "\n",
    "plt.axis([-10,10,0,50])\n",
    "plt.grid(True)\n",
    "plt.xlabel('Prediction')\n",
    "plt.ylabel('loss')\n",
    "plt.legend()\n",
    "\n",
    "plt.show()"
   ]
  },
  {
   "cell_type": "markdown",
   "metadata": {},
   "source": [
    "- 建立编译训练模型"
   ]
  },
  {
   "cell_type": "code",
   "execution_count": 31,
   "metadata": {},
   "outputs": [
    {
     "name": "stdout",
     "output_type": "stream",
     "text": [
      "Epoch 1/2\n",
      "363/363 [==============================] - 2s 3ms/step - loss: 0.6235 - mean_absolute_error: 0.9953 - val_loss: 0.2862 - val_mean_absolute_error: 0.5866\n",
      "Epoch 2/2\n",
      "363/363 [==============================] - 1s 2ms/step - loss: 0.2197 - mean_absolute_error: 0.5177 - val_loss: 0.2382 - val_mean_absolute_error: 0.5281\n"
     ]
    },
    {
     "data": {
      "text/plain": [
       "<tensorflow.python.keras.callbacks.History at 0x7f79e3ca5e10>"
      ]
     },
     "execution_count": 31,
     "metadata": {},
     "output_type": "execute_result"
    }
   ],
   "source": [
    "input_shape = X_train.shape[1:]   # (8,)\n",
    "\n",
    "model = keras.models.Sequential([\n",
    "    keras.layers.Dense(30, activation=keras.activations.selu,\n",
    "                       kernel_initializer=keras.initializers.lecun_normal,\n",
    "                       input_shape=input_shape),\n",
    "    keras.layers.Dense(1)\n",
    "])\n",
    "\n",
    "optimizer = keras.optimizers.Nadam(learning_rate=0.001, beta_1=0.9, beta_2=0.999)\n",
    "model.compile(loss=huber,\n",
    "              optimizer=optimizer,\n",
    "              metrics=[keras.metrics.mean_absolute_error])\n",
    "\n",
    "model.fit(X_train_scaled, y_train,\n",
    "          epochs=2,\n",
    "          validation_data=(X_val_scaled,y_val))"
   ]
  },
  {
   "cell_type": "markdown",
   "metadata": {},
   "source": [
    "## 保存并加载含有自定义组件的模型 Saving and Loading Models That Contain Custom Components"
   ]
  },
  {
   "cell_type": "code",
   "execution_count": 32,
   "metadata": {},
   "outputs": [],
   "source": [
    "model.save(\"./models/custom_loss.h5\")"
   ]
  },
  {
   "cell_type": "code",
   "execution_count": 33,
   "metadata": {},
   "outputs": [],
   "source": [
    "# 当加载含有自定义对象的模型时, 需要将名称映射到对象\n",
    "model = keras.models.load_model(\"./models/custom_loss.h5\",\n",
    "                                custom_objects={\"huber\":huber})"
   ]
  },
  {
   "cell_type": "code",
   "execution_count": 34,
   "metadata": {},
   "outputs": [
    {
     "name": "stdout",
     "output_type": "stream",
     "text": [
      "Epoch 1/2\n",
      "363/363 [==============================] - 1s 2ms/step - loss: 0.2054 - mean_absolute_error: 0.4982 - val_loss: 0.2209 - val_mean_absolute_error: 0.5050\n",
      "Epoch 2/2\n",
      "363/363 [==============================] - 0s 1ms/step - loss: 0.1999 - mean_absolute_error: 0.4900 - val_loss: 0.2127 - val_mean_absolute_error: 0.4986\n"
     ]
    },
    {
     "data": {
      "text/plain": [
       "<tensorflow.python.keras.callbacks.History at 0x7f79e47de190>"
      ]
     },
     "execution_count": 34,
     "metadata": {},
     "output_type": "execute_result"
    }
   ],
   "source": [
    "model.fit(X_train_scaled, y_train,\n",
    "          epochs=2,\n",
    "          validation_data=(X_val_scaled, y_val))"
   ]
  },
  {
   "cell_type": "markdown",
   "metadata": {},
   "source": [
    "### 解决阈值𝛿 的设置问题"
   ]
  },
  {
   "cell_type": "markdown",
   "metadata": {},
   "source": [
    "1. 创建函数,该函数创建已配置的损失函数."
   ]
  },
  {
   "cell_type": "code",
   "execution_count": 35,
   "metadata": {},
   "outputs": [],
   "source": [
    "def create_huber(delta=1.):\n",
    "    def huber(y_true, y_pred):\n",
    "        error = y_true - y_pred\n",
    "        MSE = tf.square(error) / 2\n",
    "        MAE = (delta * tf.abs(error)) - (tf.square(delta) / 2)\n",
    "\n",
    "        condition = tf.abs(error) <= delta\n",
    "\n",
    "        return tf.where(condition=condition, x=MSE, y=MAE) \n",
    "    return huber"
   ]
  },
  {
   "cell_type": "markdown",
   "metadata": {},
   "source": [
    "- 当保存模型时阈值不会被保存,这意味着每次加载模型都需要指定阈值."
   ]
  },
  {
   "cell_type": "code",
   "execution_count": 36,
   "metadata": {},
   "outputs": [],
   "source": [
    "model = keras.models.load_model(\"./models/custom_loss.h5\",\n",
    "                                custom_objects={\"huber\":create_huber(delta=5.0)})"
   ]
  },
  {
   "cell_type": "code",
   "execution_count": 37,
   "metadata": {},
   "outputs": [
    {
     "name": "stdout",
     "output_type": "stream",
     "text": [
      "Epoch 1/2\n",
      "363/363 [==============================] - 1s 2ms/step - loss: 0.2426 - mean_absolute_error: 0.5038 - val_loss: 0.3431 - val_mean_absolute_error: 0.5047\n",
      "Epoch 2/2\n",
      "363/363 [==============================] - 0s 1ms/step - loss: 0.2323 - mean_absolute_error: 0.4962 - val_loss: 0.2694 - val_mean_absolute_error: 0.4929\n"
     ]
    },
    {
     "data": {
      "text/plain": [
       "<tensorflow.python.keras.callbacks.History at 0x7f79e4b13350>"
      ]
     },
     "execution_count": 37,
     "metadata": {},
     "output_type": "execute_result"
    }
   ],
   "source": [
    "model.fit(X_train_scaled, y_train,\n",
    "          epochs=2,\n",
    "          validation_data=(X_val_scaled,y_val))"
   ]
  },
  {
   "cell_type": "markdown",
   "metadata": {},
   "source": [
    "2. 通过创建`keras.losses.Loss`类的子类,实现其`get_config()`"
   ]
  },
  {
   "cell_type": "code",
   "execution_count": 38,
   "metadata": {},
   "outputs": [],
   "source": [
    "class HuberLoss(keras.losses.Loss):\n",
    "    def __init__(self, delta=1., **kwargs):\n",
    "        self.delta = delta\n",
    "        super(HuberLoss, self).__init__(**kwargs)   # super().__init__(**kwargs)\n",
    "    def call(self, y_true, y_pred):\n",
    "        error = y_true - y_pred\n",
    "        MSE = tf.square(error) / 2\n",
    "        MAE = (self.delta * tf.abs(error)) - (tf.square(self.delta) / 2)\n",
    "        condition = tf.abs(error) <= self.delta\n",
    "        return tf.where(condition=condition, x=MSE, y=MAE) \n",
    "    def get_config(self):\n",
    "        base_config = super().get_config()\n",
    "        return {**base_config, \"delta\":self.delta}    "
   ]
  },
  {
   "cell_type": "markdown",
   "metadata": {},
   "source": [
    "- 构造函数接受` **kwargs`并将它们传递给父类构造函数,该父类构造函数处理标准超参数:损失的`name`和用于聚合单个实例损失的`reduction`算法。默认情况下它是`sum_over_batch_size`,这意味着损失将是实例损失的总和,由样本重(如果有)加权,再除以批量大小(而不是权重之和,因此不是权重的平均).\n",
    "- `ca11()`方法获取标签和顶测,计算所有实例损失,然后将其返回, \n",
    "- `get_config()`方法返回一个字典,将每个超参数名称映射到其值。它首先调用父类的`get_config()`方法,然后将新的超参数添加到此字典中."
   ]
  },
  {
   "cell_type": "code",
   "execution_count": 39,
   "metadata": {},
   "outputs": [
    {
     "name": "stdout",
     "output_type": "stream",
     "text": [
      "Epoch 1/2\n",
      "363/363 [==============================] - 1s 2ms/step - loss: 0.7095 - mean_absolute_error: 0.8863 - val_loss: 0.3378 - val_mean_absolute_error: 0.5485\n",
      "Epoch 2/2\n",
      "363/363 [==============================] - 1s 2ms/step - loss: 0.2416 - mean_absolute_error: 0.5083 - val_loss: 0.2660 - val_mean_absolute_error: 0.5089\n"
     ]
    },
    {
     "data": {
      "text/plain": [
       "<tensorflow.python.keras.callbacks.History at 0x7f79e4dde250>"
      ]
     },
     "execution_count": 39,
     "metadata": {},
     "output_type": "execute_result"
    }
   ],
   "source": [
    "model = keras.models.Sequential([\n",
    "    keras.layers.Dense(30, activation=keras.activations.selu,\n",
    "                       kernel_initializer=keras.initializers.lecun_normal,\n",
    "                       input_shape=input_shape),\n",
    "    keras.layers.Dense(1)\n",
    "])\n",
    "\n",
    "optimizer = keras.optimizers.Nadam(learning_rate=0.001, beta_1=0.9, beta_2=0.999)\n",
    "model.compile(loss=HuberLoss(delta=2.),\n",
    "              optimizer=optimizer,\n",
    "              metrics=[keras.metrics.mean_absolute_error])\n",
    "\n",
    "model.fit(X_train_scaled, y_train,\n",
    "          epochs=2,\n",
    "          validation_data=(X_val_scaled,y_val))"
   ]
  },
  {
   "cell_type": "code",
   "execution_count": 40,
   "metadata": {},
   "outputs": [],
   "source": [
    "model.save(\"./models/custom_loss_2.h5\")"
   ]
  },
  {
   "cell_type": "markdown",
   "metadata": {},
   "source": [
    "- 当保存模型时,阈值会同时被保存!当保存模型时, `Keras`会调用损失实例的`get_config()`方法,并将配置以`JSON`格式保存到`HDFS文件`中。\n",
    "\n",
    "- 加载模型时,它在`HuberLoss类`上调用`from_config()`类方法:此方法由基类(Loss)实现,并创建该类的实例,并将`**config`传递给构造函数."
   ]
  },
  {
   "cell_type": "code",
   "execution_count": 41,
   "metadata": {},
   "outputs": [],
   "source": [
    "model = keras.models.load_model(\"./models/custom_loss_2.h5\",\n",
    "                                custom_objects={\"HuberLoss\":HuberLoss})"
   ]
  },
  {
   "cell_type": "code",
   "execution_count": 42,
   "metadata": {
    "scrolled": true
   },
   "outputs": [
    {
     "name": "stdout",
     "output_type": "stream",
     "text": [
      "Epoch 1/2\n",
      "363/363 [==============================] - 1s 2ms/step - loss: 0.2286 - mean_absolute_error: 0.4970 - val_loss: 0.2120 - val_mean_absolute_error: 0.4723\n",
      "Epoch 2/2\n",
      "363/363 [==============================] - 0s 1ms/step - loss: 0.2216 - mean_absolute_error: 0.4904 - val_loss: 0.2045 - val_mean_absolute_error: 0.4725\n"
     ]
    },
    {
     "data": {
      "text/plain": [
       "<tensorflow.python.keras.callbacks.History at 0x7f79e42e9e10>"
      ]
     },
     "execution_count": 42,
     "metadata": {},
     "output_type": "execute_result"
    }
   ],
   "source": [
    "model.fit(X_train_scaled, y_train,\n",
    "          epochs=2,\n",
    "          validation_data=(X_val_scaled,y_val))"
   ]
  },
  {
   "cell_type": "code",
   "execution_count": 43,
   "metadata": {},
   "outputs": [
    {
     "data": {
      "text/plain": [
       "2.0"
      ]
     },
     "execution_count": 43,
     "metadata": {},
     "output_type": "execute_result"
    }
   ],
   "source": [
    "model.loss.delta"
   ]
  },
  {
   "cell_type": "markdown",
   "metadata": {},
   "source": [
    "## 自定义激活函数,初始化,正则化和约束"
   ]
  },
  {
   "cell_type": "markdown",
   "metadata": {},
   "source": [
    "> 1. Softplus函数:\n",
    "$$\n",
    "softplus(x) = log(1+e^x)\n",
    "$$\n",
    "2. Glorot初始化:\n",
    "若采用高斯分布来随机初始化参数，连接权重 $𝑤(𝑙)$ 可以按 $𝒩 (0, \\frac{2}{M_{l-1}\\  + M_{l}} )$\n",
    "的分布进行初始化.\n",
    "3. $\\ell_1$ 正则化:\n",
    "$$\n",
    "C||w||_1\n",
    "$$"
   ]
  },
  {
   "cell_type": "code",
   "execution_count": 44,
   "metadata": {},
   "outputs": [],
   "source": [
    "# ~keras.activations.softplus()\n",
    "def my_softplus(x):\n",
    "    return tf.math.log(1.0 + tf.exp(x))\n",
    "\n",
    "# ~keras.initializers.glorot_normal()\n",
    "def my_glorot_normal(shape, dtype=tf.float32):\n",
    "    # 标准差\n",
    "    stddev = tf.sqrt(2. / (shape[0]+shape[1]))\n",
    "    return tf.random.normal(shape=shape, stddev=stddev, dtype=dtype)\n",
    "\n",
    "# ~keras.regularizers.l1(0.01)\n",
    "def my_l1_regularizer(weights):\n",
    "    return tf.reduce_sum(tf.abs(0.01*weights))\n",
    "\n",
    "# ~keras.constraints.non_neg()  确保权重均为正\n",
    "def my_positive_weight(weights):\n",
    "    return tf.where(condition=weights<0.,\n",
    "                    x=tf.zeros_like(weights),   # 生成全0数组\n",
    "                    y=weights)"
   ]
  },
  {
   "cell_type": "code",
   "execution_count": 45,
   "metadata": {},
   "outputs": [
    {
     "name": "stdout",
     "output_type": "stream",
     "text": [
      "Epoch 1/4\n",
      "363/363 [==============================] - 1s 1ms/step - loss: 1.3809 - mean_absolute_error: 0.8429 - val_loss: inf - val_mean_absolute_error: inf\n",
      "Epoch 2/4\n",
      "363/363 [==============================] - 0s 1ms/step - loss: 0.6669 - mean_absolute_error: 0.5528 - val_loss: 2.7498 - val_mean_absolute_error: 0.5489\n",
      "Epoch 3/4\n",
      "363/363 [==============================] - 0s 1ms/step - loss: 0.5601 - mean_absolute_error: 0.5104 - val_loss: 1.8447 - val_mean_absolute_error: 0.5116\n",
      "Epoch 4/4\n",
      "363/363 [==============================] - 0s 1ms/step - loss: 0.5204 - mean_absolute_error: 0.4949 - val_loss: 1.3956 - val_mean_absolute_error: 0.4966\n"
     ]
    },
    {
     "data": {
      "text/plain": [
       "<tensorflow.python.keras.callbacks.History at 0x7f79e4b7a590>"
      ]
     },
     "execution_count": 45,
     "metadata": {},
     "output_type": "execute_result"
    }
   ],
   "source": [
    "model = keras.models.Sequential([\n",
    "    keras.layers.Dense(30, activation=keras.activations.selu,\n",
    "                       kernel_initializer=keras.initializers.lecun_normal,\n",
    "                       input_shape=input_shape),\n",
    "    keras.layers.Dense(1,activation=my_softplus,\n",
    "                       kernel_initializer=my_glorot_normal,\n",
    "                       kernel_regularizer=my_l1_regularizer,\n",
    "                       kernel_constraint=my_positive_weight)\n",
    "])\n",
    "\n",
    "optimizer = keras.optimizers.Nadam(learning_rate=0.001, beta_1=0.9, beta_2=0.999)\n",
    "model.compile(loss=\"mse\",\n",
    "              optimizer=optimizer,\n",
    "              metrics=[keras.metrics.mean_absolute_error])\n",
    "\n",
    "model.fit(X_train_scaled, y_train,\n",
    "          epochs=4,\n",
    "          validation_data=(X_val_scaled,y_val))"
   ]
  },
  {
   "cell_type": "markdown",
   "metadata": {},
   "source": [
    "- 保存和加载模型"
   ]
  },
  {
   "cell_type": "code",
   "execution_count": 46,
   "metadata": {},
   "outputs": [],
   "source": [
    "model.save(\"./models/custom_loss_3.h5\")"
   ]
  },
  {
   "cell_type": "code",
   "execution_count": 47,
   "metadata": {},
   "outputs": [],
   "source": [
    "model = keras.models.load_model(\"./models/custom_loss_3.h5\",\n",
    "                                custom_objects={\n",
    "                                    'my_softplus': my_softplus,\n",
    "                                    'my_glorot_normal':my_glorot_normal,\n",
    "                                    'my_l1_regularizer':my_l1_regularizer,\n",
    "                                    'my_positive_weight':my_positive_weight\n",
    "                                })"
   ]
  },
  {
   "cell_type": "markdown",
   "metadata": {},
   "source": [
    "- 对于函数需要与模型一起保存的超参数,需要继承适当的类."
   ]
  },
  {
   "cell_type": "code",
   "execution_count": 48,
   "metadata": {},
   "outputs": [],
   "source": [
    "# def my_l1_regularizer(weights):\n",
    "#     return tf.reduce_sum(tf.abs(0.01*weights))\n",
    "\n",
    "\n",
    "class my_l1_reg(keras.regularizers.Regularizer):\n",
    "    def __init__(self, factor):\n",
    "        self.factor = factor\n",
    "    def __call__(self, weights):\n",
    "        return tf.reduce_sum(tf.abs(self.factor*weights))\n",
    "    def get_config(self):\n",
    "        return {\"factor\":self.factor}"
   ]
  },
  {
   "cell_type": "markdown",
   "metadata": {},
   "source": [
    "注意:\n",
    "1. 为**损失函数,层(包括激活函数),模型**实现**`call()`**方法.\n",
    "2. 为**正则化,初始化,约束**实现**`__call()__`**方法."
   ]
  },
  {
   "cell_type": "markdown",
   "metadata": {},
   "source": [
    "## 自定义指标 Custom Metrics"
   ]
  },
  {
   "cell_type": "markdown",
   "metadata": {},
   "source": [
    "在大多数情况下,定义一个自定义指标函数与定义一个自定义损失函数**完全相同**."
   ]
  },
  {
   "cell_type": "code",
   "execution_count": 49,
   "metadata": {},
   "outputs": [
    {
     "name": "stdout",
     "output_type": "stream",
     "text": [
      "Epoch 1/2\n",
      "363/363 [==============================] - 1s 2ms/step - loss: 0.8157 - huber: 0.3689 - val_loss: 0.4798 - val_huber: 0.2252\n",
      "Epoch 2/2\n",
      "363/363 [==============================] - 0s 1ms/step - loss: 0.4678 - huber: 0.2292 - val_loss: 0.9202 - val_huber: 0.2418\n"
     ]
    },
    {
     "data": {
      "text/plain": [
       "<tensorflow.python.keras.callbacks.History at 0x7f79e554a190>"
      ]
     },
     "execution_count": 49,
     "metadata": {},
     "output_type": "execute_result"
    }
   ],
   "source": [
    "# 以前面的自定义损失函数Huber()作为指标函数\n",
    "model = keras.models.Sequential([\n",
    "    keras.layers.Dense(30, activation=keras.activations.selu,\n",
    "                       kernel_initializer=keras.initializers.lecun_normal,\n",
    "                       input_shape=input_shape),\n",
    "    keras.layers.Dense(1)\n",
    "])\n",
    "\n",
    "model.compile(loss=keras.losses.mean_squared_error,\n",
    "              optimizer=optimizer,\n",
    "              metrics=[create_huber(delta=2.)])\n",
    "\n",
    "model.fit(X_train_scaled, y_train,\n",
    "          epochs=2,\n",
    "          validation_data=(X_val_scaled,y_val))"
   ]
  },
  {
   "cell_type": "markdown",
   "metadata": {},
   "source": [
    "### 流式度量 Streaming metrics"
   ]
  },
  {
   "cell_type": "markdown",
   "metadata": {},
   "source": [
    "对于训练期间的每一批次, `Keras`都会计算该指标并跟踪**自轮次开始以来的均值**。\n",
    "\n",
    "- 以二元分类器的`精确率`为例.\n",
    "$$\n",
    "P = \\frac{TP}{TP+FP}\n",
    "$$\n",
    "\n",
    "    假设该模型在第一批次中做出了5个正预测,其中4个是正确的,即80%的精度。然后假设该模型在第二批次中做出了3个正预测,但它们都是不正确的,即第二批次的精度为0%。如果仅计算这两个精度的均值,则可以得到40%。实际上,在8个正预测(5+3)中,总共有4个真正(4+0),因此总体精度为 50%,而不是40%。\n",
    "    \n",
    "    我们需要的是一个对象,该对象可以跟踪真正的数量和假正的数量并且可以在请求时计算其比率。"
   ]
  },
  {
   "cell_type": "code",
   "execution_count": 50,
   "metadata": {},
   "outputs": [
    {
     "data": {
      "text/plain": [
       "<tf.Tensor: shape=(), dtype=float32, numpy=0.8>"
      ]
     },
     "execution_count": 50,
     "metadata": {},
     "output_type": "execute_result"
    }
   ],
   "source": [
    "precision = keras.metrics.Precision()\n",
    "precision([0, 1, 1, 1, 0, 1, 0, 1], [1, 1, 0, 1, 0, 1, 0, 1])"
   ]
  },
  {
   "cell_type": "code",
   "execution_count": 51,
   "metadata": {},
   "outputs": [
    {
     "data": {
      "text/plain": [
       "<tf.Tensor: shape=(), dtype=float32, numpy=0.5>"
      ]
     },
     "execution_count": 51,
     "metadata": {},
     "output_type": "execute_result"
    }
   ],
   "source": [
    "precision([0, 1, 0, 0, 1, 0, 1, 1], [1, 0, 1, 1, 0, 0, 0, 0])"
   ]
  },
  {
   "cell_type": "markdown",
   "metadata": {},
   "source": [
    "- 手动创建流式度量-方法1\n",
    "\n",
    "    跟踪Huber总损失, 当要求返回结果时返回比率,得到平均Huber损失"
   ]
  },
  {
   "cell_type": "code",
   "execution_count": 52,
   "metadata": {},
   "outputs": [],
   "source": [
    "class HuberMetric(keras.metrics.Metric):\n",
    "    def __init__(self, delta=1., **kwargs):\n",
    "        super(HuberMetric, self).__init__(**kwargs)\n",
    "        self.delta = delta\n",
    "        self.Huber = create_huber(delta)\n",
    "        self.total = self.add_weight(\"total\", initializer=tf.zeros)\n",
    "        self.count = self.add_weight(\"count\", initializer=tf.zeros)\n",
    "\n",
    "    def update_state(self, y_true, y_pred, sample_weight=None):\n",
    "        metrics = self.Huber(y_true, y_pred)\n",
    "        # 对于变量应该使用assign()方法\n",
    "        self.total.assign_add(tf.reduce_sum(metrics))\n",
    "        self.count.assign_add(tf.cast(tf.size(y_true), dtype=tf.float32))  # int -> float32\n",
    "\n",
    "    def result(self):\n",
    "        return self.total / self.count\n",
    "\n",
    "    def get_config(self):\n",
    "        base_config = super(HuberMetric, self).get_config()\n",
    "        return {**base_config, 'delta': self.delta}\n"
   ]
  },
  {
   "cell_type": "markdown",
   "metadata": {},
   "source": [
    "1. `add_weight()`创建用于跟踪多个批次的度量状态所需的变量.\n",
    "2. 当你使用度量作为函数时,首先调用`update_state()`,然后调用`result()`,并返回输出.\n",
    "3. 某些指标(如精确度)不能简单的按批次平均,这种情况下应该使用流式度量."
   ]
  },
  {
   "cell_type": "markdown",
   "metadata": {},
   "source": [
    "- 测试"
   ]
  },
  {
   "cell_type": "code",
   "execution_count": 53,
   "metadata": {},
   "outputs": [],
   "source": [
    "y_true = tf.constant([\n",
    "    [0.],\n",
    "    [5.]\n",
    "])\n",
    "y_pred = tf.constant([\n",
    "    [1.],\n",
    "    [9.25]\n",
    "])"
   ]
  },
  {
   "cell_type": "markdown",
   "metadata": {},
   "source": [
    "$$\n",
    "L_{\\delta}(y, f(x))=\\left\\{\\begin{array}{cc}\n",
    "\\frac{1}{2}(y-f(x))^{2} & |y-f(x)| \\leq \\delta \\\\\n",
    "\\delta|y-f(x)|-\\frac{1}{2} \\delta^{2} & \\text { otherwise }\n",
    "\\end{array}\\right.\\\\\n",
    "$$"
   ]
  },
  {
   "cell_type": "markdown",
   "metadata": {},
   "source": [
    "解:\n",
    "$$\n",
    "error_1 = |\\text{y_true}_1- \\text{y_pred}_1| = |0-1|=1 < \\delta \\\\\n",
    "error_2 = |5-9.25|=4.25 > \\delta \\\\\n",
    "total_1 = L_{\\delta=2.}(error_1)=\\frac{1}{2}(error_1)^{2}= \\frac{1}{2}  \\\\\n",
    "total_2 = L_{\\delta=2.}(error_2)=\\delta|error|-\\frac{1}{2} \\delta^{2}=8.5 - 2 = 6.5 \\\\\n",
    "total = total_1+total_2 = 7 \\\\\n",
    "count = 2 \\\\\n",
    "result = \\frac{7}{2} = 3.5\n",
    "$$"
   ]
  },
  {
   "cell_type": "code",
   "execution_count": 54,
   "metadata": {},
   "outputs": [
    {
     "data": {
      "text/plain": [
       "<tf.Tensor: shape=(), dtype=float32, numpy=3.5>"
      ]
     },
     "execution_count": 54,
     "metadata": {},
     "output_type": "execute_result"
    }
   ],
   "source": [
    "test = HuberMetric(delta=2.)\n",
    "test(y_true, y_pred)\n",
    "test.result()"
   ]
  },
  {
   "cell_type": "code",
   "execution_count": 55,
   "metadata": {},
   "outputs": [
    {
     "data": {
      "text/plain": [
       "[<tf.Variable 'total:0' shape=() dtype=float32, numpy=7.0>,\n",
       " <tf.Variable 'count:0' shape=() dtype=float32, numpy=2.0>]"
      ]
     },
     "execution_count": 55,
     "metadata": {},
     "output_type": "execute_result"
    }
   ],
   "source": [
    "test.variables    # 查看变量"
   ]
  },
  {
   "cell_type": "code",
   "execution_count": 56,
   "metadata": {},
   "outputs": [
    {
     "data": {
      "text/plain": [
       "[<tf.Variable 'total:0' shape=() dtype=float32, numpy=0.0>,\n",
       " <tf.Variable 'count:0' shape=() dtype=float32, numpy=0.0>]"
      ]
     },
     "execution_count": 56,
     "metadata": {},
     "output_type": "execute_result"
    }
   ],
   "source": [
    "test.reset_states()  # 重置变量\n",
    "test.variables"
   ]
  },
  {
   "cell_type": "markdown",
   "metadata": {},
   "source": [
    "- 在模型上进行测试"
   ]
  },
  {
   "cell_type": "code",
   "execution_count": 57,
   "metadata": {},
   "outputs": [
    {
     "name": "stdout",
     "output_type": "stream",
     "text": [
      "Epoch 1/2\n",
      "363/363 [==============================] - 1s 1ms/step - loss: 0.3016 - huber_metric_1: 0.3016\n",
      "Epoch 2/2\n",
      "363/363 [==============================] - 0s 1ms/step - loss: 0.2305 - huber_metric_1: 0.2305\n"
     ]
    },
    {
     "data": {
      "text/plain": [
       "<tensorflow.python.keras.callbacks.History at 0x7f79e5a30410>"
      ]
     },
     "execution_count": 57,
     "metadata": {},
     "output_type": "execute_result"
    }
   ],
   "source": [
    "model = keras.models.Sequential([\n",
    "    keras.layers.Dense(30, activation=keras.activations.selu,\n",
    "                       kernel_initializer=keras.initializers.lecun_normal,\n",
    "                       input_shape=input_shape),\n",
    "    keras.layers.Dense(1)\n",
    "])\n",
    "\n",
    "optimizer = keras.optimizers.Nadam(learning_rate=0.01, beta_1=0.9, beta_2=0.999)\n",
    "model.compile(optimizer=optimizer,\n",
    "              loss=create_huber(delta=2.),\n",
    "              metrics=[HuberMetric(delta=2.)])\n",
    "model.fit(X_train_scaled.astype(np.float32), y_train.astype(np.float32),  # float64->float32\n",
    "          epochs=2)"
   ]
  },
  {
   "cell_type": "code",
   "execution_count": 58,
   "metadata": {},
   "outputs": [
    {
     "name": "stdout",
     "output_type": "stream",
     "text": [
      "Epoch 1/2\n",
      "363/363 [==============================] - 1s 1ms/step - loss: 0.1829 - huber_metric_1: 0.2068\n",
      "Epoch 2/2\n",
      "363/363 [==============================] - 0s 1ms/step - loss: 0.1775 - huber_metric_1: 0.2004\n"
     ]
    },
    {
     "data": {
      "text/plain": [
       "<tensorflow.python.keras.callbacks.History at 0x7f79e5d023d0>"
      ]
     },
     "execution_count": 58,
     "metadata": {},
     "output_type": "execute_result"
    }
   ],
   "source": [
    "model.save(\"./models/custom_metrics.h5\")\n",
    "\n",
    "model = keras.models.load_model(\"./models/custom_metrics.h5\",\n",
    "                                custom_objects={\n",
    "                                    \"huber\":create_huber(delta=1.),\n",
    "                                    \"HuberMetric\":HuberMetric           # 已保存阈值\n",
    "                                })\n",
    "model.fit(X_train_scaled.astype(np.float32), y_train.astype(np.float32),  # float64->float32\n",
    "          epochs=2)"
   ]
  },
  {
   "cell_type": "code",
   "execution_count": 59,
   "metadata": {},
   "outputs": [
    {
     "data": {
      "text/plain": [
       "2.0"
      ]
     },
     "execution_count": 59,
     "metadata": {},
     "output_type": "execute_result"
    }
   ],
   "source": [
    "model.metrics[-1].delta    # 注意是在[-1]访问HuberMetric"
   ]
  },
  {
   "cell_type": "markdown",
   "metadata": {},
   "source": [
    "- 手动创建流式度量-方法2"
   ]
  },
  {
   "cell_type": "code",
   "execution_count": 60,
   "metadata": {},
   "outputs": [],
   "source": [
    "class HuberMetric(keras.metrics.Mean):\n",
    "    def __init__(self, delta=1., name='HuberMetric', dtype=None, **kwargs):\n",
    "        self.delta = delta\n",
    "        self.Huber = create_huber(delta)\n",
    "        super(HuberMetric, self).__init__(name=name, dtype=dtype)\n",
    "\n",
    "    def update_state(self, y_true, y_pred, sample_weight=None):\n",
    "        metrics = self.Huber(y_true, y_pred)\n",
    "        super(HuberMetric, self).update_state(metrics, sample_weight)\n",
    "\n",
    "    def get_config(self):\n",
    "        base_config = super(HuberMetric, self).get_config()\n",
    "        return {**base_config, 'delta': self.delta}"
   ]
  },
  {
   "cell_type": "code",
   "execution_count": 61,
   "metadata": {},
   "outputs": [],
   "source": [
    "model = keras.models.Sequential([\n",
    "    keras.layers.Dense(30, activation=keras.activations.selu,\n",
    "                       kernel_initializer=keras.initializers.lecun_normal,\n",
    "                       input_shape=input_shape),\n",
    "    keras.layers.Dense(1)\n",
    "])\n",
    "\n",
    "optimizer = keras.optimizers.Nadam(learning_rate=0.01, beta_1=0.9, beta_2=0.999)\n",
    "model.compile(optimizer=optimizer,\n",
    "              loss=create_huber(delta=2.),\n",
    "              metrics=[HuberMetric(delta=2.)])"
   ]
  },
  {
   "cell_type": "code",
   "execution_count": 62,
   "metadata": {},
   "outputs": [
    {
     "name": "stdout",
     "output_type": "stream",
     "text": [
      "Epoch 1/2\n",
      "363/363 [==============================] - 1s 1ms/step - loss: 0.1643 - HuberMetric: 0.3337\n",
      "Epoch 2/2\n",
      "363/363 [==============================] - 0s 1ms/step - loss: 0.1125 - HuberMetric: 0.2264\n"
     ]
    }
   ],
   "source": [
    "sample_weight = np.random.rand(len(y_train))\n",
    "history = model.fit(X_train_scaled.astype(np.float32), y_train.astype(np.float32),\n",
    "                    epochs=2, sample_weight=sample_weight)"
   ]
  },
  {
   "cell_type": "code",
   "execution_count": 63,
   "metadata": {},
   "outputs": [
    {
     "data": {
      "text/plain": [
       "(0.1643054336309433, 0.16561566126645977)"
      ]
     },
     "execution_count": 63,
     "metadata": {},
     "output_type": "execute_result"
    }
   ],
   "source": [
    "history.history[\"loss\"][0], history.history[\"HuberMetric\"][0] * sample_weight.mean()"
   ]
  },
  {
   "cell_type": "code",
   "execution_count": 64,
   "metadata": {},
   "outputs": [
    {
     "name": "stdout",
     "output_type": "stream",
     "text": [
      "Epoch 1/2\n",
      "363/363 [==============================] - 1s 1ms/step - loss: 0.1900 - HuberMetric: 0.2179\n",
      "Epoch 2/2\n",
      "363/363 [==============================] - 0s 1ms/step - loss: 0.1798 - HuberMetric: 0.2041\n"
     ]
    },
    {
     "data": {
      "text/plain": [
       "<tensorflow.python.keras.callbacks.History at 0x7f79e68aa690>"
      ]
     },
     "execution_count": 64,
     "metadata": {},
     "output_type": "execute_result"
    }
   ],
   "source": [
    "model.save(\"./models/custom_metrics_v2.h5\")\n",
    "\n",
    "model = keras.models.load_model(\"./models/custom_metrics_v2.h5\",\n",
    "                                custom_objects={\n",
    "                                    \"huber\":create_huber(delta=1.),\n",
    "                                    \"HuberMetric\":HuberMetric           # 已保存阈值\n",
    "                                })\n",
    "model.fit(X_train_scaled.astype(np.float32), y_train.astype(np.float32),  # float64->float32\n",
    "          epochs=2)"
   ]
  },
  {
   "cell_type": "code",
   "execution_count": 65,
   "metadata": {},
   "outputs": [
    {
     "data": {
      "text/plain": [
       "2.0"
      ]
     },
     "execution_count": 65,
     "metadata": {},
     "output_type": "execute_result"
    }
   ],
   "source": [
    "model.metrics[-1].delta    # 注意是在[-1]访问HuberMetric"
   ]
  },
  {
   "cell_type": "markdown",
   "metadata": {},
   "source": [
    "## 自定义层  Custom Layers"
   ]
  },
  {
   "cell_type": "markdown",
   "metadata": {},
   "source": [
    "如果想要构建一个包含独特层的架构,而`Tensorflow`没有为其提供默认实现的情况下,你将需要创建一个自定义层。或者你可能只是想构建一个重复的架构,其中包含重复多次的相同层块,因此将每个层块视为一个层会很方便。"
   ]
  },
  {
   "cell_type": "markdown",
   "metadata": {},
   "source": [
    "###  Lambda层"
   ]
  },
  {
   "cell_type": "markdown",
   "metadata": {},
   "source": [
    "对于创建无权重的层,如`Flatten`,`ReLU`等的简单应用,可以使用<mark>匿名函数层Lambda<mark>"
   ]
  },
  {
   "cell_type": "code",
   "execution_count": 66,
   "metadata": {},
   "outputs": [
    {
     "data": {
      "text/plain": [
       "<tf.Tensor: shape=(3,), dtype=float32, numpy=array([0.36787945, 1.        , 2.7182817 ], dtype=float32)>"
      ]
     },
     "execution_count": 66,
     "metadata": {},
     "output_type": "execute_result"
    }
   ],
   "source": [
    "# 对层的输入应用指数函数\n",
    "exp_layer = keras.layers.Lambda(lambda x:tf.exp(x))\n",
    "\n",
    "exp_layer([-1., 0., 1.])"
   ]
  },
  {
   "cell_type": "markdown",
   "metadata": {},
   "source": [
    "当要预测的值具有非常不同的标度(例如0.01,10,1000)时,有时会在回归模型的输出层中使用指数层."
   ]
  },
  {
   "cell_type": "code",
   "execution_count": 67,
   "metadata": {},
   "outputs": [
    {
     "name": "stdout",
     "output_type": "stream",
     "text": [
      "Epoch 1/5\n",
      "363/363 [==============================] - 1s 1ms/step - loss: 0.8267 - val_loss: 0.4922\n",
      "Epoch 2/5\n",
      "363/363 [==============================] - 0s 772us/step - loss: 0.4786 - val_loss: 0.4448\n",
      "Epoch 3/5\n",
      "363/363 [==============================] - 0s 667us/step - loss: 0.4560 - val_loss: 0.4267\n",
      "Epoch 4/5\n",
      "363/363 [==============================] - 0s 669us/step - loss: 0.4471 - val_loss: 0.4232\n",
      "Epoch 5/5\n",
      "363/363 [==============================] - 0s 653us/step - loss: 0.4399 - val_loss: 0.4172\n",
      "162/162 [==============================] - 0s 496us/step - loss: 0.4321\n"
     ]
    },
    {
     "data": {
      "text/plain": [
       "0.43210428953170776"
      ]
     },
     "execution_count": 67,
     "metadata": {},
     "output_type": "execute_result"
    }
   ],
   "source": [
    "model = keras.models.Sequential([\n",
    "    keras.layers.Dense(30, activation=keras.activations.relu,\n",
    "                       input_shape=input_shape),\n",
    "    keras.layers.Dense(1),\n",
    "    exp_layer\n",
    "])\n",
    "\n",
    "model.compile(optimizer=keras.optimizers.SGD(learning_rate=0.01),\n",
    "              loss=keras.losses.mean_absolute_error,)\n",
    "\n",
    "model.fit(X_train_scaled, y_train, epochs=5,\n",
    "          validation_data=(X_val_scaled, y_val))\n",
    "\n",
    "model.evaluate(X_test_scaled, y_test)"
   ]
  },
  {
   "cell_type": "markdown",
   "metadata": {},
   "source": [
    "### 自定义层"
   ]
  },
  {
   "cell_type": "markdown",
   "metadata": {},
   "source": [
    "对于带有训练参数的：比如`Dense层`、`Conv2D层`，等等，我们在训练的过程中需要训练层的权重和偏置项"
   ]
  },
  {
   "cell_type": "code",
   "execution_count": 68,
   "metadata": {},
   "outputs": [],
   "source": [
    "class MyDense(keras.layers.Layer):\n",
    "    def __init__(self, n_neurons, activation=None, **kwargs):\n",
    "        super(MyDense, self).__init__(**kwargs)\n",
    "        self.n_neurons = n_neurons\n",
    "        self.activation = keras.activations.get(activation)  # 接受函数或标准字符串(\"relu\")\n",
    "\n",
    "    def build(self, batch_input_shape):\n",
    "        self.kernel = self.add_weight(\n",
    "            name=\"kernel\", shape=[batch_input_shape[-1], self.n_neurons],\n",
    "            initializer=keras.initializers.glorot_normal)\n",
    "        self.bias = self.add_weight(\n",
    "            name=\"bias\", shape=[self.n_neurons],\n",
    "            initializer=tf.zeros)\n",
    "        # 必须在最后调用父类的build()\n",
    "        super(MyDense, self).build(batch_input_shape)\n",
    "\n",
    "    def call(self, X):\n",
    "        # 计算输入X与层内核的矩阵乘积,添加偏置向量,并对结果应用激活函数,从而获得层的输出。\n",
    "        return self.activation(X @ self.kernel + self.bias)\n",
    "\n",
    "    def compute_output_shape(self, batch_input_shape):\n",
    "        # 仅返回该层输出的形状:最后一个维度被替换为该层中神经元数量\n",
    "        # as_list()转换为python列表\n",
    "        return tf.TensorShape(batch_input_shape.as_list()[:-1] + [self.n_neurons])\n",
    "\n",
    "    def get_config(self):\n",
    "        base_config = super(MyDense, self).get_config()\n",
    "        return {**base_config, \"n_neurons\": self.n_neurons, \n",
    "                \"activation\": keras.activations.serialize(self.activation)}"
   ]
  },
  {
   "cell_type": "markdown",
   "metadata": {},
   "source": [
    "- `bui1d()`: 通过为每个权重调用`add_weight()`来创建层的变量。首次使用该层时,将调用`build()`。在方法的最后(并且仅在最后),你必须调用父类的bui1d()方法:这告诉 Keras这一层被构建了(它只是设置了self.built=True)。\n",
    "- 在`tf.keras`中,形状是`tf.Tensorshape类`的实例,你可以使用`as_list()`将其转换为 Python列表。\n",
    "- `get_config()`方法就像以前的自定义类中一样。请注意我们通过调用 `keras.activations.serialize()`保存激活函数的完整配置。"
   ]
  },
  {
   "cell_type": "code",
   "execution_count": 69,
   "metadata": {},
   "outputs": [
    {
     "name": "stdout",
     "output_type": "stream",
     "text": [
      "Epoch 1/2\n",
      "363/363 [==============================] - 1s 1ms/step - loss: 0.6651 - val_loss: 0.5982\n",
      "Epoch 2/2\n",
      "363/363 [==============================] - 0s 892us/step - loss: 0.4010 - val_loss: 3.8138\n",
      "162/162 [==============================] - 0s 617us/step - loss: 0.4121\n"
     ]
    },
    {
     "data": {
      "text/plain": [
       "0.41214150190353394"
      ]
     },
     "execution_count": 69,
     "metadata": {},
     "output_type": "execute_result"
    }
   ],
   "source": [
    "model = keras.models.Sequential([\n",
    "    MyDense(30, activation=\"relu\", input_shape=input_shape),\n",
    "    MyDense(1)\n",
    "])\n",
    "\n",
    "optimizer = keras.optimizers.Nadam(learning_rate=0.01, beta_1=0.9, beta_2=0.999)\n",
    "model.compile(optimizer=optimizer,\n",
    "              loss=keras.losses.mean_squared_error)\n",
    "model.fit(X_train_scaled, y_train,\n",
    "          epochs=2,\n",
    "          validation_data=(X_val_scaled,y_val))\n",
    "model.evaluate(X_test_scaled, y_test)"
   ]
  },
  {
   "cell_type": "code",
   "execution_count": 70,
   "metadata": {},
   "outputs": [
    {
     "name": "stdout",
     "output_type": "stream",
     "text": [
      "Epoch 1/2\n",
      "363/363 [==============================] - 1s 899us/step - loss: 0.4366 - val_loss: 0.3798\n",
      "Epoch 2/2\n",
      "363/363 [==============================] - 0s 654us/step - loss: 0.3958 - val_loss: 1.0223\n"
     ]
    },
    {
     "data": {
      "text/plain": [
       "<tensorflow.python.keras.callbacks.History at 0x7f79e3db0550>"
      ]
     },
     "execution_count": 70,
     "metadata": {},
     "output_type": "execute_result"
    }
   ],
   "source": [
    "model.save(\"./models/custom_layers.h5\")\n",
    "\n",
    "model = keras.models.load_model(\"./models/custom_layers.h5\",\n",
    "                                custom_objects={\n",
    "                                    \"MyDense\":MyDense,\n",
    "                                })\n",
    "model.fit(X_train_scaled, y_train,\n",
    "          epochs=2,\n",
    "          validation_data=(X_val_scaled,y_val))"
   ]
  },
  {
   "cell_type": "markdown",
   "metadata": {},
   "source": [
    "### 多输入多输出层"
   ]
  },
  {
   "cell_type": "markdown",
   "metadata": {},
   "source": [
    "假设这个层需要两个输入并返回两个输出`call()`应返回输出列表,`compute_output_shape()`应返回批处理输出的形状列表."
   ]
  },
  {
   "cell_type": "code",
   "execution_count": 71,
   "metadata": {},
   "outputs": [],
   "source": [
    "class MyMultiLayer(keras.layers.Layer):\n",
    "    def call(self, X):\n",
    "        X1, X2 = X\n",
    "        print(\"X1.shape: \", X1.shape ,\" X2.shape: \", X2.shape) # Debugging of custom layer\n",
    "        return X1 + X2, X1 * X2\n",
    "\n",
    "    def compute_output_shape(self, batch_input_shape):\n",
    "        batch_input_shape1, batch_input_shape2 = batch_input_shape\n",
    "        return [batch_input_shape1, batch_input_shape2]"
   ]
  },
  {
   "cell_type": "markdown",
   "metadata": {},
   "source": [
    "只能使用函数式和子类API,不能使用顺序API.注意:call()方法接收符号输入,其形状仅部分指定(因此一个维度为None)\n",
    "    \n",
    "使用以下方法调用自定义层:"
   ]
  },
  {
   "cell_type": "code",
   "execution_count": 72,
   "metadata": {},
   "outputs": [
    {
     "name": "stdout",
     "output_type": "stream",
     "text": [
      "X1.shape:  (None, 2)  X2.shape:  (None, 2)\n"
     ]
    }
   ],
   "source": [
    "inputs1 = keras.layers.Input(shape=[2])\n",
    "inputs2 = keras.layers.Input(shape=[2])\n",
    "outputs1, outputs2 = MyMultiLayer()((inputs1, inputs2))"
   ]
  },
  {
   "cell_type": "markdown",
   "metadata": {},
   "source": [
    "- 实例测试\n",
    "    1. 首先将每个数据集的输入(8个特征)分成两部分，每个部分有四个特征"
   ]
  },
  {
   "cell_type": "code",
   "execution_count": 73,
   "metadata": {},
   "outputs": [
    {
     "data": {
      "text/plain": [
       "((11610, 4), (11610, 4))"
      ]
     },
     "execution_count": 73,
     "metadata": {},
     "output_type": "execute_result"
    }
   ],
   "source": [
    "def spilt_feature(data):\n",
    "    feature_count = data.shape[-1]    # 8\n",
    "    spilt_half = feature_count // 2  \n",
    "    return data[:, :spilt_half], data[:, spilt_half:]\n",
    "\n",
    "\n",
    "X_train_scaled_A, X_train_scaled_B = spilt_feature(X_train_scaled)\n",
    "X_val_scaled_A, X_val_scaled_B = spilt_feature(X_val_scaled)\n",
    "X_test_scaled_A, X_test_scaled_B = spilt_feature(X_test_scaled)\n",
    "\n",
    "X_train_scaled_A.shape, X_train_scaled_B.shape"
   ]
  },
  {
   "cell_type": "code",
   "execution_count": 74,
   "metadata": {},
   "outputs": [
    {
     "name": "stdout",
     "output_type": "stream",
     "text": [
      "X1.shape:  (11610, 4)  X2.shape:  (11610, 4)\n"
     ]
    }
   ],
   "source": [
    "# 测试下输入的形状\n",
    "outputs1, outputs2 = MyMultiLayer()([X_train_scaled_A, X_train_scaled_B])"
   ]
  },
  {
   "cell_type": "markdown",
   "metadata": {},
   "source": [
    "2. 使用函数式API构建模型"
   ]
  },
  {
   "cell_type": "code",
   "execution_count": 75,
   "metadata": {},
   "outputs": [],
   "source": [
    "keras.backend.clear_session()"
   ]
  },
  {
   "cell_type": "code",
   "execution_count": 76,
   "metadata": {},
   "outputs": [
    {
     "name": "stdout",
     "output_type": "stream",
     "text": [
      "X1.shape:  (None, 4)  X2.shape:  (None, 4)\n"
     ]
    }
   ],
   "source": [
    "input_A = keras.layers.Input(shape=X_train_scaled_A.shape[-1])\n",
    "input_B = keras.layers.Input(shape=X_train_scaled_B.shape[-1])\n",
    "\n",
    "Multi_1, Multi_2 = MyMultiLayer()([input_A, input_B])\n",
    "hidden_1 = keras.layers.Dense(30, activation=keras.activations.relu)(Multi_1)\n",
    "hidden_2 = keras.layers.Dense(30, activation=keras.activations.relu)(Multi_2)\n",
    "\n",
    "concat = keras.layers.Concatenate()([hidden_1, hidden_2])\n",
    "output = keras.layers.Dense(1)(concat)\n",
    "\n",
    "model = keras.models.Model(inputs=[input_A, input_B], outputs=[output])"
   ]
  },
  {
   "cell_type": "code",
   "execution_count": 77,
   "metadata": {},
   "outputs": [
    {
     "data": {
      "image/png": "[encoded data removed]",
      "text/plain": [
       "<IPython.core.display.Image object>"
      ]
     },
     "execution_count": 77,
     "metadata": {},
     "output_type": "execute_result"
    }
   ],
   "source": [
    "keras.utils.plot_model(model, './models/Multi_custom_layers.png', show_shapes=True)"
   ]
  },
  {
   "cell_type": "code",
   "execution_count": 78,
   "metadata": {},
   "outputs": [
    {
     "name": "stdout",
     "output_type": "stream",
     "text": [
      "Epoch 1/2\n",
      "X1.shape:  (None, 4)  X2.shape:  (None, 4)\n",
      "X1.shape:  (None, 4)  X2.shape:  (None, 4)\n",
      "352/363 [============================>.] - ETA: 0s - loss: 1.2019X1.shape:  (None, 4)  X2.shape:  (None, 4)\n",
      "363/363 [==============================] - 1s 931us/step - loss: 1.1911 - val_loss: 69.6531\n",
      "Epoch 2/2\n",
      "363/363 [==============================] - 0s 707us/step - loss: 1.7518 - val_loss: 2.3838\n",
      "162/162 [==============================] - 0s 480us/step - loss: 0.7968\n"
     ]
    },
    {
     "data": {
      "text/plain": [
       "0.7968457341194153"
      ]
     },
     "execution_count": 78,
     "metadata": {},
     "output_type": "execute_result"
    }
   ],
   "source": [
    "optimizer = keras.optimizers.Nadam(learning_rate=0.01, beta_1=0.9, beta_2=0.999)\n",
    "model.compile(optimizer=optimizer,\n",
    "              loss=keras.losses.mean_squared_error)\n",
    "model.fit([X_train_scaled_A, X_train_scaled_B], y_train,\n",
    "          epochs=2,\n",
    "          validation_data=([X_val_scaled_A, X_val_scaled_B],y_val))\n",
    "model.evaluate([X_test_scaled_A, X_test_scaled_B], y_test)"
   ]
  },
  {
   "cell_type": "code",
   "execution_count": 79,
   "metadata": {},
   "outputs": [
    {
     "name": "stdout",
     "output_type": "stream",
     "text": [
      "X1.shape:  (None, 4)  X2.shape:  (None, 4)\n",
      "Epoch 1/2\n",
      "X1.shape:  (None, 4)  X2.shape:  (None, 4)\n",
      "352/363 [============================>.] - ETA: 0s - loss: 0.9767X1.shape:  (None, 4)  X2.shape:  (None, 4)\n",
      "363/363 [==============================] - 1s 916us/step - loss: 0.9767 - val_loss: 36.5446\n",
      "Epoch 2/2\n",
      "363/363 [==============================] - 0s 705us/step - loss: 1.6611 - val_loss: 201.5465\n"
     ]
    },
    {
     "data": {
      "text/plain": [
       "<tensorflow.python.keras.callbacks.History at 0x7f79e70ece10>"
      ]
     },
     "execution_count": 79,
     "metadata": {},
     "output_type": "execute_result"
    }
   ],
   "source": [
    "model.save(\"./models/Multi_custom_layers.h5\")\n",
    "\n",
    "model = keras.models.load_model(\"./models/Multi_custom_layers.h5\",\n",
    "                                custom_objects={\"MyMultiLayer\":MyMultiLayer})\n",
    "model.fit([X_train_scaled_A, X_train_scaled_B], y_train,\n",
    "          epochs=2,\n",
    "          validation_data=([X_val_scaled_A, X_val_scaled_B],y_val))"
   ]
  },
  {
   "cell_type": "markdown",
   "metadata": {},
   "source": [
    "### 测试与训练期间行为不同的层"
   ]
  },
  {
   "cell_type": "markdown",
   "metadata": {},
   "source": [
    "在训练和测试阶段行为差距较大的层，常用的有：`Drouout层`、`BatchNormalization层`,则必须将训练参数添加到`call()`并使用此参数来决定要做什么.\n",
    "\n",
    "以在训练期间添加高斯噪音,但在测试期间不执行任何操作的层为例:"
   ]
  },
  {
   "cell_type": "code",
   "execution_count": 80,
   "metadata": {},
   "outputs": [],
   "source": [
    "class AddGaussianNoise(keras.layers.Layer):\n",
    "    def __init__(self, stddev, **kwargs):\n",
    "        super(AddGaussianNoise, self).__init__(**kwargs)\n",
    "        self.stddev = stddev\n",
    "\n",
    "    def call(self, X, training=None):\n",
    "        if training:\n",
    "            noise = tf.random.normal(shape=tf.shape(X), stddev=self.stddev)\n",
    "            return X + noise\n",
    "        else:\n",
    "            return X\n",
    "\n",
    "    def compute_output_shape(self, batch_input_size):\n",
    "        return batch_input_size\n",
    "\n",
    "    def get_config(self):\n",
    "        base_config = super(AddGaussianNoise, self).get_config()\n",
    "        return {**base_config, \"stddev\": self.stddev}"
   ]
  },
  {
   "cell_type": "code",
   "execution_count": 81,
   "metadata": {},
   "outputs": [
    {
     "name": "stdout",
     "output_type": "stream",
     "text": [
      "Epoch 1/2\n",
      "363/363 [==============================] - 1s 903us/step - loss: 1.2363 - val_loss: 1.1476\n",
      "Epoch 2/2\n",
      "363/363 [==============================] - 0s 785us/step - loss: 1.0094 - val_loss: 0.6684\n",
      "162/162 [==============================] - 0s 458us/step - loss: 0.6875\n"
     ]
    },
    {
     "data": {
      "text/plain": [
       "0.6874946355819702"
      ]
     },
     "execution_count": 81,
     "metadata": {},
     "output_type": "execute_result"
    }
   ],
   "source": [
    "model = keras.models.Sequential([\n",
    "    AddGaussianNoise(stddev=1.),\n",
    "    keras.layers.Dense(30, activation=keras.activations.selu,\n",
    "                       kernel_initializer=keras.initializers.lecun_normal,\n",
    "                       input_shape=input_shape),\n",
    "    keras.layers.Dense(1)\n",
    "])\n",
    "\n",
    "optimizer = keras.optimizers.Nadam(learning_rate=0.01, beta_1=0.9, beta_2=0.999)\n",
    "model.compile(optimizer=optimizer,\n",
    "              loss=keras.losses.mean_squared_error)\n",
    "model.fit(X_train_scaled, y_train,\n",
    "          epochs=2,\n",
    "          validation_data=(X_val_scaled,y_val))\n",
    "model.evaluate(X_test_scaled, y_test)"
   ]
  },
  {
   "cell_type": "code",
   "execution_count": 82,
   "metadata": {},
   "outputs": [
    {
     "name": "stdout",
     "output_type": "stream",
     "text": [
      "Epoch 1/2\n",
      "363/363 [==============================] - 1s 793us/step - loss: 0.9963 - val_loss: 0.8085\n",
      "Epoch 2/2\n",
      "363/363 [==============================] - 0s 622us/step - loss: 0.9926 - val_loss: 3.2317\n"
     ]
    },
    {
     "data": {
      "text/plain": [
       "<tensorflow.python.keras.callbacks.History at 0x7f79e76f41d0>"
      ]
     },
     "execution_count": 82,
     "metadata": {},
     "output_type": "execute_result"
    }
   ],
   "source": [
    "model.save(\"./models/GaussianNoise_custom_layers.h5\")\n",
    "\n",
    "model = keras.models.load_model(\"./models/GaussianNoise_custom_layers.h5\",\n",
    "                                custom_objects={\"AddGaussianNoise\":AddGaussianNoise})\n",
    "model.fit(X_train_scaled, y_train,\n",
    "          epochs=2,\n",
    "          validation_data=(X_val_scaled,y_val))"
   ]
  },
  {
   "cell_type": "markdown",
   "metadata": {},
   "source": [
    "## 自定义模型 Custom Models"
   ]
  },
  {
   "cell_type": "markdown",
   "metadata": {},
   "source": [
    "自定义以下模型:具有自定义`残差网络ResidualBlock层`(包括跳过连接)的任意模型"
   ]
  },
  {
   "cell_type": "markdown",
   "metadata": {},
   "source": [
    "<img src=\"./images/other/12-2.png\" width=\"400\">"
   ]
  },
  {
   "cell_type": "markdown",
   "metadata": {},
   "source": [
    "输入经过第一个密集层,然后经过由两个密集层组成的残差块并执行加法运算,然后经过相同的残差块3次或者更多次,然后通过第二个残差块,最终结果通过密集输出层。\n",
    "\n",
    "要实现此模型,最好首先创建一个`Residualblock层`,因为我们将创建几个相同的块,并且我们可能想在另一个模型中重用它."
   ]
  },
  {
   "cell_type": "code",
   "execution_count": 83,
   "metadata": {},
   "outputs": [],
   "source": [
    "class ResidualBlock(keras.layers.Layer):\n",
    "    def __init__(self, n_layers, n_neurons, **kwargs):\n",
    "        super(ResidualBlock, self).__init__(**kwargs)\n",
    "        self.hidden = [keras.layers.Dense(units=n_neurons, activation=keras.activations.elu,\n",
    "                                          kernel_initializer=keras.initializers.he_normal)\n",
    "                       for _ in range(n_layers)]\n",
    "\n",
    "    def call(self, inputs):\n",
    "        Z = inputs\n",
    "        for layer in self.hidden:\n",
    "            Z = layer(Z)\n",
    "        return Z + inputs"
   ]
  },
  {
   "cell_type": "markdown",
   "metadata": {},
   "source": [
    "### 使用子类API定义模型"
   ]
  },
  {
   "cell_type": "code",
   "execution_count": 84,
   "metadata": {},
   "outputs": [],
   "source": [
    "class ResidualRegressor(keras.models.Model):\n",
    "    def __init__(self, output_dim, **kwargs):\n",
    "        super(ResidualRegressor, self).__init__(**kwargs)\n",
    "        self.hidden = keras.layers.Dense(30, activation=keras.activations.elu,\n",
    "                                         kernel_initializer=keras.initializers.he_normal)\n",
    "        self.ResidualBlock_1 = ResidualBlock(n_layers=2, n_neurons=30)\n",
    "        self.ResidualBlock_2 = ResidualBlock(n_layers=2, n_neurons=30)\n",
    "        self.output_dim = output_dim\n",
    "        self.outputLayer = keras.layers.Dense(self.output_dim)\n",
    "\n",
    "    def call(self, inputs):\n",
    "        Z = self.hidden(inputs)\n",
    "        for _ in range(4):  # 执行一次后再循环3次\n",
    "            Z = self.ResidualBlock_1(Z)\n",
    "        Z = self.ResidualBlock_2(Z)\n",
    "        out = self.outputLayer(Z)\n",
    "        return out"
   ]
  },
  {
   "cell_type": "code",
   "execution_count": 85,
   "metadata": {},
   "outputs": [
    {
     "name": "stdout",
     "output_type": "stream",
     "text": [
      "Epoch 1/5\n",
      "363/363 [==============================] - 1s 1ms/step - loss: 2.8833 - val_loss: 56.5210\n",
      "Epoch 2/5\n",
      "363/363 [==============================] - 0s 924us/step - loss: 1.7952 - val_loss: 29.5267\n",
      "Epoch 3/5\n",
      "363/363 [==============================] - 0s 939us/step - loss: 1.2363 - val_loss: 390.2773\n",
      "Epoch 4/5\n",
      "363/363 [==============================] - 0s 965us/step - loss: 1.9080 - val_loss: 1341.6788\n",
      "Epoch 5/5\n",
      "363/363 [==============================] - 0s 925us/step - loss: 9.2604 - val_loss: 9.7684\n",
      "162/162 [==============================] - 0s 549us/step - loss: 0.7844\n"
     ]
    },
    {
     "data": {
      "text/plain": [
       "0.7844001054763794"
      ]
     },
     "execution_count": 85,
     "metadata": {},
     "output_type": "execute_result"
    }
   ],
   "source": [
    "model = ResidualRegressor(output_dim=1)\n",
    "\n",
    "optimizer = keras.optimizers.Nadam(learning_rate=0.01, beta_1=0.9, beta_2=0.999)\n",
    "model.compile(optimizer=optimizer,\n",
    "              loss=keras.losses.mean_squared_error)\n",
    "history = model.fit(X_train_scaled, y_train,\n",
    "                    epochs=5,\n",
    "                    validation_data=(X_val_scaled,y_val))\n",
    "model.evaluate(X_test_scaled, y_test)"
   ]
  },
  {
   "cell_type": "markdown",
   "metadata": {},
   "source": [
    "- 保存加载模型"
   ]
  },
  {
   "cell_type": "code",
   "execution_count": 86,
   "metadata": {},
   "outputs": [
    {
     "name": "stderr",
     "output_type": "stream",
     "text": [
      "WARNING:absl:Found untraced functions such as dense_6_layer_call_fn, dense_6_layer_call_and_return_conditional_losses, dense_7_layer_call_fn, dense_7_layer_call_and_return_conditional_losses, dense_8_layer_call_fn while saving (showing 5 of 20). These functions will not be directly callable after loading.\n"
     ]
    },
    {
     "name": "stdout",
     "output_type": "stream",
     "text": [
      "INFO:tensorflow:Assets written to: ./models/custom_model.ckpt/assets\n"
     ]
    },
    {
     "name": "stderr",
     "output_type": "stream",
     "text": [
      "INFO:tensorflow:Assets written to: ./models/custom_model.ckpt/assets\n"
     ]
    },
    {
     "name": "stdout",
     "output_type": "stream",
     "text": [
      "Epoch 1/5\n",
      "363/363 [==============================] - 1s 1ms/step - loss: 0.9922 - val_loss: 5.5694\n",
      "Epoch 2/5\n",
      "363/363 [==============================] - 0s 991us/step - loss: 0.4360 - val_loss: 2.0670\n",
      "Epoch 3/5\n",
      "363/363 [==============================] - 0s 976us/step - loss: 0.4071 - val_loss: 0.4977\n",
      "Epoch 4/5\n",
      "363/363 [==============================] - 0s 1ms/step - loss: 0.3685 - val_loss: 0.5279\n",
      "Epoch 5/5\n",
      "363/363 [==============================] - 0s 990us/step - loss: 0.3555 - val_loss: 1.0294\n",
      "162/162 [==============================] - 0s 627us/step - loss: 0.3530\n"
     ]
    },
    {
     "data": {
      "text/plain": [
       "0.3530058264732361"
      ]
     },
     "execution_count": 86,
     "metadata": {},
     "output_type": "execute_result"
    }
   ],
   "source": [
    "model.save(\"./models/custom_model.ckpt\")   # tensorflow模型格式!\n",
    "\n",
    "model = keras.models.load_model(\"./models/custom_model.ckpt\")\n",
    "history = model.fit(X_train_scaled, y_train,\n",
    "                    epochs=5,\n",
    "                    validation_data=(X_val_scaled,y_val))\n",
    "model.evaluate(X_test_scaled, y_test)"
   ]
  },
  {
   "cell_type": "markdown",
   "metadata": {},
   "source": [
    "###   使用顺序API定义模型"
   ]
  },
  {
   "cell_type": "code",
   "execution_count": 87,
   "metadata": {},
   "outputs": [],
   "source": [
    "block_1 = ResidualBlock(n_layers=2, n_neurons=30)\n",
    "block_2 = ResidualBlock(n_layers=2, n_neurons=30)\n",
    "\n",
    "model = keras.models.Sequential([\n",
    "    keras.layers.Dense(30, activation=keras.activations.elu,\n",
    "                       kernel_initializer=keras.initializers.he_normal),\n",
    "    block_1, block_1, block_1, block_1,\n",
    "    block_2,\n",
    "    keras.layers.Dense(1)\n",
    "])"
   ]
  },
  {
   "cell_type": "code",
   "execution_count": 88,
   "metadata": {},
   "outputs": [
    {
     "name": "stdout",
     "output_type": "stream",
     "text": [
      "Epoch 1/5\n",
      "363/363 [==============================] - 1s 1ms/step - loss: 0.8625 - val_loss: 208.8641\n",
      "Epoch 2/5\n",
      "363/363 [==============================] - 0s 815us/step - loss: 1.7035 - val_loss: 8.5288\n",
      "Epoch 3/5\n",
      "363/363 [==============================] - 0s 792us/step - loss: 0.5877 - val_loss: 14.5597\n",
      "Epoch 4/5\n",
      "363/363 [==============================] - 0s 797us/step - loss: 1.3039 - val_loss: 607.7425\n",
      "Epoch 5/5\n",
      "363/363 [==============================] - 0s 802us/step - loss: 0.4847 - val_loss: 25.9399\n",
      "162/162 [==============================] - 0s 518us/step - loss: 0.3872\n"
     ]
    },
    {
     "data": {
      "text/plain": [
       "0.3872164189815521"
      ]
     },
     "execution_count": 88,
     "metadata": {},
     "output_type": "execute_result"
    }
   ],
   "source": [
    "optimizer = keras.optimizers.Nadam(learning_rate=0.01, beta_1=0.9, beta_2=0.999)\n",
    "model.compile(optimizer=optimizer,\n",
    "              loss=keras.losses.mean_squared_error)\n",
    "history = model.fit(X_train_scaled, y_train,\n",
    "                    epochs=5,\n",
    "                    validation_data=(X_val_scaled,y_val))\n",
    "model.evaluate(X_test_scaled, y_test)"
   ]
  },
  {
   "cell_type": "markdown",
   "metadata": {},
   "source": [
    "## 基于模型内部的损失与指标 Losses and Metrics Based on Model Internals "
   ]
  },
  {
   "cell_type": "markdown",
   "metadata": {},
   "source": [
    "有时候我们可能要根据模型内部,如权重或隐藏层的激活来定义损失,这对于进行正则化或监视模型内部的某些方面可能很有用.\n",
    "要基于模型内部定义自定义损失,根据所需模型的任何部分进行计算,然后将结果传递给`add_loss()`."
   ]
  },
  {
   "cell_type": "markdown",
   "metadata": {},
   "source": [
    "例: 构建一个自定义回归MLP模型,该模型由5个隐藏层和一个输出层的堆栈组成。在上部隐藏层的顶部有`辅助输出`.\n",
    "\n",
    "与该辅助输出相关的损失称为`重建损失`:它是重建与输入之间的均方差。通过将这种重建损失添加到主要损失中,我们鼓励模型通过隐藏层保留尽可能多的信息, 即使对回归任务本身没有直接用处的信息。实际中,这种损失有时会提高泛化性(正则化损失)."
   ]
  },
  {
   "cell_type": "markdown",
   "metadata": {},
   "source": [
    "<img src=\"./images/other/12-3.png\" width=\"200\">"
   ]
  },
  {
   "cell_type": "code",
   "execution_count": 89,
   "metadata": {},
   "outputs": [],
   "source": [
    "class ReconstructingRegressor(keras.Model):\n",
    "    def __init__(self, output_dim, **kwargs):\n",
    "        super(ReconstructingRegressor, self).__init__(**kwargs)\n",
    "        self.hidden = [keras.layers.Dense(30, activation=keras.activations.selu,\n",
    "                                          kernel_initializer=keras.initializers.lecun_normal)\n",
    "                       for _ in range(5)]\n",
    "        self.outputLayer = keras.layers.Dense(output_dim)\n",
    "        self.reconstruction_mean = keras.metrics.Mean(name=\"reconstruction_error\")\n",
    "\n",
    "    def build(self, batch_input_shape):\n",
    "        n_inputs = batch_input_shape[-1]\n",
    "        self.reconstruct = keras.layers.Dense(n_inputs)\n",
    "\n",
    "    def call(self, inputs, training=None, mask=None):\n",
    "        Z = inputs\n",
    "        for layer in self.hidden:\n",
    "            Z = layer(Z)\n",
    "        reconstruction = self.reconstruct(Z)\n",
    "        recon_loss = tf.reduce_mean(tf.square(reconstruction - inputs))\n",
    "        self.add_loss(0.05 * recon_loss)\n",
    "        \n",
    "        if training:\n",
    "            result = self.reconstruction_mean(recon_loss)\n",
    "            self.add_metric(result)\n",
    "            \n",
    "        return self.outputLayer(Z)"
   ]
  },
  {
   "cell_type": "markdown",
   "metadata": {},
   "source": [
    "- 构造函数创建具有5个密集隐藏层和一个密集输出层的DNN。\n",
    "- `build()`创建一个额外的密集层,该层用于重建模型的输入。必须在此处创建它,因为它的单元数必须等于输入数,并且在调用`build()`方法之前,此数是未知的。\n",
    "- `call()`处理所有5个隐藏层的输入,然后将结果传递到重建层,从而产生重构。然后`call()`计算重建损失(重建与输入之间的均方差),并使用`add_loss`将其添加到模型的损失列表中。请注意,我们通过将其乘以0.05按比例缩小了重构,确保了重建损失不会再主要损失中占大部分.\n",
    "- 它在构造函数中创建`keras.metrics.Mean()`，并在`call()`方法中使用它来跟踪平均重建损失。由于只在训练期间执行,因此向`call()`方法添加了一个训练参数，如果训练为True，那么我们将更新`reconstruction_mean`，并调用`self.add_metric`，以确保它正确显示。"
   ]
  },
  {
   "cell_type": "code",
   "execution_count": 90,
   "metadata": {},
   "outputs": [
    {
     "name": "stdout",
     "output_type": "stream",
     "text": [
      "Epoch 1/2\n",
      "363/363 [==============================] - 1s 759us/step - loss: 0.6228 - reconstruction_error: 0.4936\n",
      "Epoch 2/2\n",
      "363/363 [==============================] - 0s 672us/step - loss: 0.4822 - reconstruction_error: 0.3411\n",
      "162/162 [==============================] - 0s 499us/step - loss: 0.3804 - reconstruction_error: 0.0000e+00\n"
     ]
    },
    {
     "data": {
      "text/plain": [
       "[0.3803849220275879, 0.0]"
      ]
     },
     "execution_count": 90,
     "metadata": {},
     "output_type": "execute_result"
    }
   ],
   "source": [
    "model = ReconstructingRegressor(output_dim=1)\n",
    "\n",
    "optimizer = keras.optimizers.Nadam(learning_rate=0.01, beta_1=0.9, beta_2=0.999)\n",
    "model.compile(optimizer=optimizer,\n",
    "              loss=keras.losses.mean_squared_error)\n",
    "history = model.fit(X_train_scaled, y_train,\n",
    "                    epochs=2)\n",
    "model.evaluate(X_test_scaled, y_test)"
   ]
  },
  {
   "cell_type": "markdown",
   "metadata": {},
   "source": [
    "## 使用自动微分计算梯度 Computing Gradients Using Autodiff"
   ]
  },
  {
   "cell_type": "markdown",
   "metadata": {},
   "source": [
    "> 后续内容 等待补充!"
   ]
  },
  {
   "cell_type": "markdown",
   "metadata": {},
   "source": [
    "## 自定义训练循环 Custom Training Loops"
   ]
  },
  {
   "cell_type": "markdown",
   "metadata": {},
   "source": [
    "> 后续内容 等待补充!"
   ]
  },
  {
   "cell_type": "markdown",
   "metadata": {},
   "source": [
    "# TensorFlow 函数与图 TensorFlow Functions and Graphs"
   ]
  },
  {
   "cell_type": "markdown",
   "metadata": {},
   "source": [
    "##  TensorFlow 函数 TensorFlow Functions"
   ]
  },
  {
   "cell_type": "code",
   "execution_count": 91,
   "metadata": {},
   "outputs": [],
   "source": [
    "# 计算输入的立方的简单函数\n",
    "def cube(x):\n",
    "    return x ** 3"
   ]
  },
  {
   "cell_type": "code",
   "execution_count": 92,
   "metadata": {},
   "outputs": [
    {
     "data": {
      "text/plain": [
       "<tf.Tensor: shape=(), dtype=float32, numpy=8.0>"
      ]
     },
     "execution_count": 92,
     "metadata": {},
     "output_type": "execute_result"
    }
   ],
   "source": [
    "# 使用张量来调用函数\n",
    "cube(tf.constant(2.))"
   ]
  },
  {
   "cell_type": "markdown",
   "metadata": {},
   "source": [
    "- 将`Python函数`转化为`TensorFlow函数`"
   ]
  },
  {
   "cell_type": "code",
   "execution_count": 93,
   "metadata": {},
   "outputs": [
    {
     "data": {
      "text/plain": [
       "<tensorflow.python.eager.def_function.Function at 0x7f79e9ecbfd0>"
      ]
     },
     "execution_count": 93,
     "metadata": {},
     "output_type": "execute_result"
    }
   ],
   "source": [
    "tf_cube = tf.function(cube)\n",
    "tf_cube"
   ]
  },
  {
   "cell_type": "code",
   "execution_count": 94,
   "metadata": {},
   "outputs": [
    {
     "data": {
      "text/plain": [
       "<tf.Tensor: shape=(), dtype=float32, numpy=8.0>"
      ]
     },
     "execution_count": 94,
     "metadata": {},
     "output_type": "execute_result"
    }
   ],
   "source": [
    "tf_cube(2.)"
   ]
  },
  {
   "cell_type": "markdown",
   "metadata": {},
   "source": [
    "在后台,`tf.function`分析了`cube()`执行的计算,并生成等效的计算图."
   ]
  },
  {
   "cell_type": "markdown",
   "metadata": {},
   "source": [
    "### TF函数和具体函数 TF Functions and Concrete Functions"
   ]
  },
  {
   "cell_type": "markdown",
   "metadata": {},
   "source": [
    "> 后续内容 等待补充!"
   ]
  },
  {
   "cell_type": "markdown",
   "metadata": {},
   "source": [
    "> Apotosome 12/13/21"
   ]
  }
 ],
 "metadata": {
  "hide_input": false,
  "kernelspec": {
   "display_name": "Python 3",
   "language": "python",
   "name": "python3"
  },
  "language_info": {
   "codemirror_mode": {
    "name": "ipython",
    "version": 3
   },
   "file_extension": ".py",
   "mimetype": "text/x-python",
   "name": "python",
   "nbconvert_exporter": "python",
   "pygments_lexer": "ipython3",
   "version": "3.7.4"
  },
  "toc": {
   "base_numbering": 1,
   "nav_menu": {},
   "number_sections": true,
   "sideBar": true,
   "skip_h1_title": false,
   "title_cell": "Table of Contents",
   "title_sidebar": "Contents",
   "toc_cell": false,
   "toc_position": {
    "height": "calc(100% - 180px)",
    "left": "10px",
    "top": "150px",
    "width": "253.988px"
   },
   "toc_section_display": true,
   "toc_window_display": true
  }
 },
 "nbformat": 4,
 "nbformat_minor": 2
}
