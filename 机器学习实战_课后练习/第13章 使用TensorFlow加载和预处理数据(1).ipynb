{
 "cells": [
  {
   "cell_type": "markdown",
   "metadata": {},
   "source": [
    "# 数据API  The Data API"
   ]
  },
  {
   "cell_type": "code",
   "execution_count": 1,
   "metadata": {},
   "outputs": [],
   "source": [
    "import numpy as np\n",
    "import pandas as pd\n",
    "import tensorflow as tf\n",
    "import tensorflow.keras as keras\n",
    "import os\n",
    "\n",
    "def initialization():\n",
    "    keras.backend.clear_session()\n",
    "    np.random.seed(42)\n",
    "    tf.random.set_seed(42)"
   ]
  },
  {
   "cell_type": "code",
   "execution_count": 2,
   "metadata": {
    "scrolled": true
   },
   "outputs": [
    {
     "data": {
      "text/plain": [
       "<TensorSliceDataset shapes: (), types: tf.int32>"
      ]
     },
     "execution_count": 2,
     "metadata": {},
     "output_type": "execute_result"
    }
   ],
   "source": [
    "X = tf.range(10)\n",
    "\n",
    "# 在RAM中完全创建一个数据集\n",
    "dataset = tf.data.Dataset.from_tensor_slices(X)\n",
    "dataset"
   ]
  },
  {
   "cell_type": "markdown",
   "metadata": {},
   "source": [
    "`from_tensor_slices()`采用一个张量并创建一个`tf.data.Dataset`,其元素均为X的切片."
   ]
  },
  {
   "cell_type": "code",
   "execution_count": 3,
   "metadata": {},
   "outputs": [
    {
     "name": "stdout",
     "output_type": "stream",
     "text": [
      "tf.Tensor(0, shape=(), dtype=int32)\n",
      "tf.Tensor(1, shape=(), dtype=int32)\n",
      "tf.Tensor(2, shape=(), dtype=int32)\n",
      "tf.Tensor(3, shape=(), dtype=int32)\n",
      "tf.Tensor(4, shape=(), dtype=int32)\n",
      "tf.Tensor(5, shape=(), dtype=int32)\n",
      "tf.Tensor(6, shape=(), dtype=int32)\n",
      "tf.Tensor(7, shape=(), dtype=int32)\n",
      "tf.Tensor(8, shape=(), dtype=int32)\n",
      "tf.Tensor(9, shape=(), dtype=int32)\n"
     ]
    }
   ],
   "source": [
    "#dataset = tf.data.Dataset.range(10)\n",
    "\n",
    "for item in dataset:\n",
    "    print(item)"
   ]
  },
  {
   "cell_type": "markdown",
   "metadata": {},
   "source": [
    "## 链式转换 Chaining Transformations"
   ]
  },
  {
   "cell_type": "markdown",
   "metadata": {},
   "source": [
    "按照如下结构进行链式转换:"
   ]
  },
  {
   "cell_type": "markdown",
   "metadata": {},
   "source": [
    "<img src=\"./images/other/13-1.png\" width=\"400\">"
   ]
  },
  {
   "cell_type": "code",
   "execution_count": 4,
   "metadata": {},
   "outputs": [
    {
     "name": "stdout",
     "output_type": "stream",
     "text": [
      "tf.Tensor(0, shape=(), dtype=int32)\n",
      "tf.Tensor(1, shape=(), dtype=int32)\n",
      "tf.Tensor(2, shape=(), dtype=int32)\n",
      "tf.Tensor(3, shape=(), dtype=int32)\n",
      "tf.Tensor(4, shape=(), dtype=int32)\n",
      "tf.Tensor(5, shape=(), dtype=int32)\n",
      "tf.Tensor(6, shape=(), dtype=int32)\n",
      "tf.Tensor(7, shape=(), dtype=int32)\n",
      "tf.Tensor(8, shape=(), dtype=int32)\n",
      "tf.Tensor(9, shape=(), dtype=int32)\n"
     ]
    }
   ],
   "source": [
    "dataset = tf.data.Dataset.from_tensor_slices(X)\n",
    "dataset = dataset.repeat(1)\n",
    "for item in dataset:\n",
    "    print(item)"
   ]
  },
  {
   "cell_type": "code",
   "execution_count": 5,
   "metadata": {},
   "outputs": [
    {
     "name": "stdout",
     "output_type": "stream",
     "text": [
      "tf.Tensor([0 1 2 3 4 5 6], shape=(7,), dtype=int32)\n",
      "tf.Tensor([7 8 9 0 1 2 3], shape=(7,), dtype=int32)\n",
      "tf.Tensor([4 5 6 7 8 9 0], shape=(7,), dtype=int32)\n",
      "tf.Tensor([1 2 3 4 5 6 7], shape=(7,), dtype=int32)\n",
      "tf.Tensor([8 9], shape=(2,), dtype=int32)\n"
     ]
    }
   ],
   "source": [
    "dataset = tf.data.Dataset.from_tensor_slices(X)\n",
    "dataset = dataset.repeat(3).batch(7)\n",
    "for item in dataset:\n",
    "    print(item)"
   ]
  },
  {
   "cell_type": "markdown",
   "metadata": {},
   "source": [
    "- `repeat(n)`:返回一个新数据集,该数据集将重复原始数据n次.\n",
    "- `batch(n)`:将数据集中的元素按照n个元素为一个批次分组."
   ]
  },
  {
   "cell_type": "code",
   "execution_count": 6,
   "metadata": {},
   "outputs": [
    {
     "name": "stdout",
     "output_type": "stream",
     "text": [
      "tf.Tensor([0 1 2 3 4 5 6], shape=(7,), dtype=int32)\n",
      "tf.Tensor([7 8 9 0 1 2 3], shape=(7,), dtype=int32)\n",
      "tf.Tensor([4 5 6 7 8 9 0], shape=(7,), dtype=int32)\n",
      "tf.Tensor([1 2 3 4 5 6 7], shape=(7,), dtype=int32)\n"
     ]
    }
   ],
   "source": [
    "# 若需要删除余下的批次 令drop_remainder=True 使得所有批次具有完全相同的大小\n",
    "dataset = tf.data.Dataset.from_tensor_slices(X)\n",
    "dataset = dataset.repeat(3).batch(7, drop_remainder=True)\n",
    "for item in dataset:\n",
    "    print(item)"
   ]
  },
  {
   "cell_type": "markdown",
   "metadata": {},
   "source": [
    "- 通过`map()`方法变换元素,注意传递进去的参数必须可转换为`TF`函数."
   ]
  },
  {
   "cell_type": "code",
   "execution_count": 7,
   "metadata": {},
   "outputs": [
    {
     "name": "stdout",
     "output_type": "stream",
     "text": [
      "tf.Tensor([ 0  2  4  6  8 10 12], shape=(7,), dtype=int32)\n",
      "tf.Tensor([14 16 18  0  2  4  6], shape=(7,), dtype=int32)\n",
      "tf.Tensor([ 8 10 12 14 16 18  0], shape=(7,), dtype=int32)\n",
      "tf.Tensor([ 2  4  6  8 10 12 14], shape=(7,), dtype=int32)\n"
     ]
    }
   ],
   "source": [
    "dataset = dataset.map(lambda x: x*2)   # 原来的两倍\n",
    "for item in dataset:\n",
    "    print(item)"
   ]
  },
  {
   "cell_type": "markdown",
   "metadata": {},
   "source": [
    "- 通过`apply()`方法变换整个数据集"
   ]
  },
  {
   "cell_type": "code",
   "execution_count": 8,
   "metadata": {},
   "outputs": [],
   "source": [
    "# dataset = dataset.apply(tf.data.experimental.unbatch())  #已被弃用\n",
    "dataset = dataset.unbatch()   # 分离批次"
   ]
  },
  {
   "cell_type": "markdown",
   "metadata": {},
   "source": [
    "- `filter()`过滤数据集"
   ]
  },
  {
   "cell_type": "code",
   "execution_count": 9,
   "metadata": {},
   "outputs": [],
   "source": [
    "dataset = dataset.filter(lambda x: x<10)"
   ]
  },
  {
   "cell_type": "markdown",
   "metadata": {},
   "source": [
    "- `take()`获取部分数据集中的元素"
   ]
  },
  {
   "cell_type": "code",
   "execution_count": 10,
   "metadata": {},
   "outputs": [
    {
     "name": "stdout",
     "output_type": "stream",
     "text": [
      "tf.Tensor(0, shape=(), dtype=int32)\n",
      "tf.Tensor(2, shape=(), dtype=int32)\n",
      "tf.Tensor(4, shape=(), dtype=int32)\n"
     ]
    }
   ],
   "source": [
    "for item in dataset.take(3):   \n",
    "    print(item)"
   ]
  },
  {
   "cell_type": "markdown",
   "metadata": {},
   "source": [
    "## 构建输入流水线 Building an Input Pipeline"
   ]
  },
  {
   "cell_type": "markdown",
   "metadata": {},
   "source": [
    "### 乱序数据 Shuffling the Data"
   ]
  },
  {
   "cell_type": "markdown",
   "metadata": {},
   "source": [
    "当数据集中的实例相互独立且均匀分布时,梯度下降的效果是最佳的.可以通过`shuffle()`对实例进行混洗.\n",
    "- `shuffle()`:首先从源数据集中的第一项填充到缓冲区,要求提供数据时,将从缓冲区取出一个元素,并用源数据集中的一个新元素替换它,直到遍历整个源数据集和缓冲区.必须要指定缓冲区大小,使其足够大,但不要超过RAM的大小."
   ]
  },
  {
   "cell_type": "markdown",
   "metadata": {},
   "source": [
    "创建并显示一个包含0-9的数据集,重复三次,并使用大小为5的缓冲区进行乱序,并用7的批次大小进行批处理."
   ]
  },
  {
   "cell_type": "code",
   "execution_count": 11,
   "metadata": {},
   "outputs": [
    {
     "name": "stdout",
     "output_type": "stream",
     "text": [
      "tf.Tensor([0 2 3 6 7 9 4], shape=(7,), dtype=int64)\n",
      "tf.Tensor([5 0 1 1 8 6 5], shape=(7,), dtype=int64)\n",
      "tf.Tensor([4 8 7 1 2 3 0], shape=(7,), dtype=int64)\n",
      "tf.Tensor([5 4 2 7 8 9 9], shape=(7,), dtype=int64)\n",
      "tf.Tensor([3 6], shape=(2,), dtype=int64)\n"
     ]
    }
   ],
   "source": [
    "dataset = tf.data.Dataset.range(10).repeat(3)\n",
    "dataset = dataset.shuffle(buffer_size=5, seed=42).batch(7)   # seed:设置随机种子 \n",
    "for item in dataset:\n",
    "    print(item)"
   ]
  },
  {
   "cell_type": "markdown",
   "metadata": {},
   "source": [
    "对于不适合内存的大型数据集,这种简单的缓冲区乱序方法可能不够用,因为与数据集相比、缓冲区很小。\n",
    "\n",
    "进一步乱序实例,一种常见的方法是\n",
    "1. 将源数据拆分为多个文件,然后在训练过程中以随机顺序读取它们。\n",
    "2. 为了避免位于同一文件中的实例仍然相互接近的情况,可以随机选择多个文件并同时读取它们,并且交错它们的记录。\n",
    "3. 使用`shuffle()`添加一个乱序缓冲区。"
   ]
  },
  {
   "cell_type": "markdown",
   "metadata": {},
   "source": [
    "### 拆分数据集为多个CSV文件 Split dataset to multiple CSV files"
   ]
  },
  {
   "cell_type": "markdown",
   "metadata": {},
   "source": [
    "1. 以加州房价数据集为例加载数据集,并创建训练集,验证集以及测试集."
   ]
  },
  {
   "cell_type": "code",
   "execution_count": 12,
   "metadata": {},
   "outputs": [],
   "source": [
    "from sklearn.datasets import fetch_california_housing\n",
    "from sklearn.model_selection import train_test_split\n",
    "from sklearn.preprocessing import StandardScaler"
   ]
  },
  {
   "cell_type": "code",
   "execution_count": 13,
   "metadata": {},
   "outputs": [],
   "source": [
    "housing = fetch_california_housing()\n",
    "X = housing.data\n",
    "y = housing.target\n",
    "X_train_full, X_test, y_train_full, y_test = train_test_split(X, y, random_state=42)\n",
    "X_train, X_val, y_train, y_val = train_test_split(X_train_full, y_train_full, random_state=42)\n",
    "\n",
    "train_data = np.c_[X_train, y_train]\n",
    "val_data = np.c_[X_val, y_val]\n",
    "test_data = np.c_[X_test, y_test]"
   ]
  },
  {
   "cell_type": "markdown",
   "metadata": {},
   "source": [
    "2. 拆分为多个CSV文件,保留标题行,每行包含8个输入特征和目标房屋中间值"
   ]
  },
  {
   "cell_type": "code",
   "execution_count": 14,
   "metadata": {},
   "outputs": [],
   "source": [
    "def save_to_multiple_csv_file(data, name_prefix, n_parts=10, header=None):\n",
    "    housing_path_save = os.path.join(\"datasets\", \"housing\", \"split_file\")\n",
    "    os.makedirs(housing_path_save, exist_ok=True)\n",
    "    path_format = os.path.join(housing_path_save, \"my_{}_{:02d}.csv\")\n",
    "\n",
    "    file_paths = []  # 子文件的路径列表\n",
    "    m = len(data)    # len(train_data)=11610\n",
    "    \n",
    "    # file_index:文件索引  row_indices:行索引\n",
    "    for file_index, row_indices in enumerate(np.array_split(ary=np.arange(m),\n",
    "                                                            indices_or_sections=n_parts)):\n",
    "        # name_prefix:文件名前缀\n",
    "        path_csv = path_format.format(name_prefix, file_index)  \n",
    "        # 'datasets/housing/split_file/my_train_10.csv'\n",
    "        file_paths.append(path_csv)\n",
    "\n",
    "        with open(path_csv, mode=\"wt\", encoding=\"utf-8\") as f:\n",
    "            # 处理标题行:令每个子文件都有标题行\n",
    "            if header is not None:\n",
    "                f.write(header)\n",
    "                f.write(\"\\n\")\n",
    "            for row_index in row_indices:\n",
    "                # repr():返回对象的字符串形式\n",
    "                f.write(\",\".join([repr(col) for col in data[row_index]]))\n",
    "                f.write(\"\\n\")\n",
    "    return file_paths"
   ]
  },
  {
   "cell_type": "code",
   "execution_count": 15,
   "metadata": {},
   "outputs": [
    {
     "name": "stdout",
     "output_type": "stream",
     "text": [
      "(0, array([0, 1, 2, 3, 4]))\n",
      "(1, array([5, 6, 7, 8, 9]))\n"
     ]
    }
   ],
   "source": [
    "# array_split():返回一维的拆分数组,可以进行不均等的划分  \n",
    "# indices_or_sections:拆分的子数组个数\n",
    "test_split = enumerate(np.array_split(ary=np.arange(10), indices_or_sections=2))\n",
    "for i in test_split:\n",
    "    print(i)"
   ]
  },
  {
   "cell_type": "code",
   "execution_count": 16,
   "metadata": {},
   "outputs": [
    {
     "data": {
      "text/plain": [
       "'MedInc,HouseAge,AveRooms,AveBedrms,Population,AveOccup,Latitude,Longitude,MedianHouseValue'"
      ]
     },
     "execution_count": 16,
     "metadata": {},
     "output_type": "execute_result"
    }
   ],
   "source": [
    "# 标题行 \n",
    "header_cols = housing.feature_names + [\"MedianHouseValue\"]   # 添加上标签列\n",
    "header = \",\".join(header_cols)\n",
    "header"
   ]
  },
  {
   "cell_type": "code",
   "execution_count": 17,
   "metadata": {},
   "outputs": [
    {
     "data": {
      "text/plain": [
       "['datasets/housing/split_file/my_train_00.csv',\n",
       " 'datasets/housing/split_file/my_train_01.csv',\n",
       " 'datasets/housing/split_file/my_train_02.csv']"
      ]
     },
     "execution_count": 17,
     "metadata": {},
     "output_type": "execute_result"
    }
   ],
   "source": [
    "save_to_multiple_csv_file(data=train_data, name_prefix=\"train\",\n",
    "                          n_parts=20, header=header,)[:3]"
   ]
  },
  {
   "cell_type": "code",
   "execution_count": 18,
   "metadata": {},
   "outputs": [],
   "source": [
    "train_filepaths = save_to_multiple_csv_file(train_data, \"train\", 20, header)\n",
    "val_filepaths = save_to_multiple_csv_file(val_data, \"val\", 20, header)\n",
    "test_filepaths = save_to_multiple_csv_file(test_data, \"test\", 20, header)"
   ]
  },
  {
   "cell_type": "code",
   "execution_count": 19,
   "metadata": {},
   "outputs": [
    {
     "data": {
      "text/html": [
       "<div>\n",
       "<style scoped>\n",
       "    .dataframe tbody tr th:only-of-type {\n",
       "        vertical-align: middle;\n",
       "    }\n",
       "\n",
       "    .dataframe tbody tr th {\n",
       "        vertical-align: top;\n",
       "    }\n",
       "\n",
       "    .dataframe thead th {\n",
       "        text-align: right;\n",
       "    }\n",
       "</style>\n",
       "<table border=\"1\" class=\"dataframe\">\n",
       "  <thead>\n",
       "    <tr style=\"text-align: right;\">\n",
       "      <th></th>\n",
       "      <th>MedInc</th>\n",
       "      <th>HouseAge</th>\n",
       "      <th>AveRooms</th>\n",
       "      <th>AveBedrms</th>\n",
       "      <th>Population</th>\n",
       "      <th>AveOccup</th>\n",
       "      <th>Latitude</th>\n",
       "      <th>Longitude</th>\n",
       "      <th>MedianHouseValue</th>\n",
       "    </tr>\n",
       "  </thead>\n",
       "  <tbody>\n",
       "    <tr>\n",
       "      <td>0</td>\n",
       "      <td>3.5214</td>\n",
       "      <td>15.0</td>\n",
       "      <td>3.049945</td>\n",
       "      <td>1.106548</td>\n",
       "      <td>1447.0</td>\n",
       "      <td>1.605993</td>\n",
       "      <td>37.63</td>\n",
       "      <td>-122.43</td>\n",
       "      <td>1.442</td>\n",
       "    </tr>\n",
       "    <tr>\n",
       "      <td>1</td>\n",
       "      <td>5.3275</td>\n",
       "      <td>5.0</td>\n",
       "      <td>6.490060</td>\n",
       "      <td>0.991054</td>\n",
       "      <td>3464.0</td>\n",
       "      <td>3.443340</td>\n",
       "      <td>33.69</td>\n",
       "      <td>-117.39</td>\n",
       "      <td>1.687</td>\n",
       "    </tr>\n",
       "    <tr>\n",
       "      <td>2</td>\n",
       "      <td>3.1000</td>\n",
       "      <td>29.0</td>\n",
       "      <td>7.542373</td>\n",
       "      <td>1.591525</td>\n",
       "      <td>1328.0</td>\n",
       "      <td>2.250847</td>\n",
       "      <td>38.44</td>\n",
       "      <td>-122.98</td>\n",
       "      <td>1.621</td>\n",
       "    </tr>\n",
       "    <tr>\n",
       "      <td>3</td>\n",
       "      <td>7.1736</td>\n",
       "      <td>12.0</td>\n",
       "      <td>6.289003</td>\n",
       "      <td>0.997442</td>\n",
       "      <td>1054.0</td>\n",
       "      <td>2.695652</td>\n",
       "      <td>33.55</td>\n",
       "      <td>-117.70</td>\n",
       "      <td>2.621</td>\n",
       "    </tr>\n",
       "    <tr>\n",
       "      <td>4</td>\n",
       "      <td>2.0549</td>\n",
       "      <td>13.0</td>\n",
       "      <td>5.312457</td>\n",
       "      <td>1.085092</td>\n",
       "      <td>3297.0</td>\n",
       "      <td>2.244384</td>\n",
       "      <td>33.93</td>\n",
       "      <td>-116.93</td>\n",
       "      <td>0.956</td>\n",
       "    </tr>\n",
       "  </tbody>\n",
       "</table>\n",
       "</div>"
      ],
      "text/plain": [
       "   MedInc  HouseAge  AveRooms  AveBedrms  Population  AveOccup  Latitude  \\\n",
       "0  3.5214      15.0  3.049945   1.106548      1447.0  1.605993     37.63   \n",
       "1  5.3275       5.0  6.490060   0.991054      3464.0  3.443340     33.69   \n",
       "2  3.1000      29.0  7.542373   1.591525      1328.0  2.250847     38.44   \n",
       "3  7.1736      12.0  6.289003   0.997442      1054.0  2.695652     33.55   \n",
       "4  2.0549      13.0  5.312457   1.085092      3297.0  2.244384     33.93   \n",
       "\n",
       "   Longitude  MedianHouseValue  \n",
       "0    -122.43             1.442  \n",
       "1    -117.39             1.687  \n",
       "2    -122.98             1.621  \n",
       "3    -117.70             2.621  \n",
       "4    -116.93             0.956  "
      ]
     },
     "execution_count": 19,
     "metadata": {},
     "output_type": "execute_result"
    }
   ],
   "source": [
    "# 使用pd查看分割后的CSV文件\n",
    "pd.read_csv(train_filepaths[0]).head()"
   ]
  },
  {
   "cell_type": "code",
   "execution_count": 20,
   "metadata": {
    "scrolled": true
   },
   "outputs": [
    {
     "name": "stdout",
     "output_type": "stream",
     "text": [
      "MedInc,HouseAge,AveRooms,AveBedrms,Population,AveOccup,Latitude,Longitude,MedianHouseValue\n",
      "3.5214,15.0,3.0499445061043287,1.106548279689234,1447.0,1.6059933407325193,37.63,-122.43,1.442\n",
      "5.3275,5.0,6.490059642147117,0.9910536779324056,3464.0,3.4433399602385686,33.69,-117.39,1.687\n",
      "3.1,29.0,7.5423728813559325,1.5915254237288134,1328.0,2.2508474576271187,38.44,-122.98,1.621\n",
      "7.1736,12.0,6.289002557544757,0.9974424552429667,1054.0,2.6956521739130435,33.55,-117.7,2.621\n"
     ]
    }
   ],
   "source": [
    "# 使用文本模式查看分割后的CSV文件\n",
    "with open(train_filepaths[0]) as f:\n",
    "    for i in range(5):\n",
    "        print(f.readline(), end=\"\")"
   ]
  },
  {
   "cell_type": "markdown",
   "metadata": {},
   "source": [
    "### 交织来自多个文件的行 Interleaving lines from multiple files"
   ]
  },
  {
   "cell_type": "markdown",
   "metadata": {},
   "source": [
    "使用文件模式创建一个仅包含下面文件路径的数据集.\n",
    "1.  `list_files`默认将返回乱序的文件路径的数据集."
   ]
  },
  {
   "cell_type": "code",
   "execution_count": 21,
   "metadata": {},
   "outputs": [
    {
     "name": "stdout",
     "output_type": "stream",
     "text": [
      "tf.Tensor(b'datasets/housing/split_file/my_train_05.csv', shape=(), dtype=string)\n",
      "tf.Tensor(b'datasets/housing/split_file/my_train_16.csv', shape=(), dtype=string)\n",
      "tf.Tensor(b'datasets/housing/split_file/my_train_01.csv', shape=(), dtype=string)\n"
     ]
    }
   ],
   "source": [
    "filepath_dataset = tf.data.Dataset.list_files(train_filepaths, seed=42)\n",
    "for filepath in filepath_dataset.take(3):\n",
    "    print(filepath)"
   ]
  },
  {
   "cell_type": "markdown",
   "metadata": {},
   "source": [
    "2. `interleaver`实现不同文件的行交织"
   ]
  },
  {
   "cell_type": "code",
   "execution_count": 22,
   "metadata": {},
   "outputs": [],
   "source": [
    "n_readers = 5\n",
    "dataset = filepath_dataset.interleave(\n",
    "            map_func=lambda filepath:tf.data.TextLineDataset(filepath).skip(1),\n",
    "            cycle_length=n_readers,\n",
    "            num_parallel_calls=tf.data.AUTOTUNE)"
   ]
  },
  {
   "cell_type": "code",
   "execution_count": 23,
   "metadata": {
    "scrolled": true
   },
   "outputs": [
    {
     "name": "stdout",
     "output_type": "stream",
     "text": [
      "b'4.5909,16.0,5.475877192982456,1.0964912280701755,1357.0,2.9758771929824563,33.63,-117.71,2.418'\n",
      "b'2.4792,24.0,3.4547038327526134,1.1341463414634145,2251.0,3.921602787456446,34.18,-118.38,2.0'\n",
      "b'4.2708,45.0,5.121387283236994,0.953757225433526,492.0,2.8439306358381504,37.48,-122.19,2.67'\n"
     ]
    }
   ],
   "source": [
    "for line in dataset.take(3):\n",
    "    print(line.numpy())"
   ]
  },
  {
   "cell_type": "markdown",
   "metadata": {},
   "source": [
    "- 所获取的结果为随机选择的5个CSV文件的第一行(忽略标题行)\n",
    "- `TextLineDataset()`:从数据文件中读取并构造一个数据集，文本中每一行，就是一个元素.\n",
    "- `interleave()`工作原理:\n",
    "    1. 创建一个数据集,该数据集将从`filepath_dataset`中拉出`cycle_length`个文件路径\n",
    "    2. 对于每个路径,它将调用你为其提供的函数(在此示例中为 `lambda函数` )来创建新的数据集(在此示例中为 `TextLineDataset`),得到`cycle_length`个新的数据集对象.\n",
    "    3. 为了请楚起见,在此阶段总共有7个数据集:      \n",
    "        - 文件路径数据集\n",
    "        - 交织数据集\n",
    "        - 由交织数据集在内部创建的5个`TextLineDataset`。 \n",
    "    4. 然后从这些新生成的数据集对象中取数据，取数逻辑为顺序地从每个文件中一次读取一行.\n",
    " 当我们遍历交织数据集时,它将循环遍历这5个`TextLineDataset`,每次读取一行直到所有数据集都读出为止.然后它将从`filepath_dataset`再次获取5个文件路径,并以相同的方式对它们进行交织,以此类推,直到读完文件路径.\n"
   ]
  },
  {
   "cell_type": "markdown",
   "metadata": {},
   "source": [
    "- 为了交织效果更好,最好使用具有相同长度的文件。否则最长文件的结尾将不会交织。\n",
    "- 默认情况下, `interleave()`不使用并行。它只是顺序地从每个文件中一次读取行。如果你希望它并行读取文件,则可以将`num_parallel_ca11s`参数设置为所需的线程数(请注意`map()`方法也具有此参数)。你甚至可以将其设置为`tf.data.AUTOTUNE`,使 Tensorflow根据可用的CPU动态地选择合适的线程数."
   ]
  },
  {
   "cell_type": "markdown",
   "metadata": {},
   "source": [
    "### 预处理数据 Preprocessing the Data"
   ]
  },
  {
   "cell_type": "markdown",
   "metadata": {},
   "source": [
    "1. 预处理任务1:填充缺失值"
   ]
  },
  {
   "cell_type": "markdown",
   "metadata": {},
   "source": [
    " `decode_csv`解析一行csv文件内容,`record_defaults`字典存储各字段的默认值,缺失值将会被默认值替代."
   ]
  },
  {
   "cell_type": "code",
   "execution_count": 24,
   "metadata": {},
   "outputs": [
    {
     "data": {
      "text/plain": [
       "[<tf.Tensor: shape=(), dtype=int32, numpy=0>,\n",
       " <tf.Tensor: shape=(), dtype=float32, numpy=2.0>,\n",
       " <tf.Tensor: shape=(), dtype=float64, numpy=3.0>,\n",
       " <tf.Tensor: shape=(), dtype=string, numpy=b'Hello'>,\n",
       " <tf.Tensor: shape=(), dtype=float32, numpy=5.0>]"
      ]
     },
     "execution_count": 24,
     "metadata": {},
     "output_type": "execute_result"
    }
   ],
   "source": [
    "sample_str = \",2,3,,5\"\n",
    "record_defaults=[0, np.nan, tf.constant(np.nan, dtype=tf.float64), \"Hello\", tf.constant([])]\n",
    "parsed_fields = tf.io.decode_csv(sample_str, record_defaults)\n",
    "parsed_fields"
   ]
  },
  {
   "cell_type": "markdown",
   "metadata": {},
   "source": [
    "- 缺失值将会被默认值替代\n",
    "- 第5个值是强制性的(`tf.constant([])`),如果不提供会报错!\n",
    "- 字段数应与记录中的字段数完全匹配"
   ]
  },
  {
   "cell_type": "markdown",
   "metadata": {},
   "source": [
    "2. 预处理任务2:特征缩放"
   ]
  },
  {
   "cell_type": "code",
   "execution_count": 25,
   "metadata": {},
   "outputs": [],
   "source": [
    "scaler = StandardScaler()\n",
    "scaler.fit(X_train)\n",
    "X_mean = scaler.mean_   # 均值\n",
    "X_std = scaler.scale_   # 标准差"
   ]
  },
  {
   "cell_type": "markdown",
   "metadata": {},
   "source": [
    "3. 预处理函数"
   ]
  },
  {
   "cell_type": "code",
   "execution_count": 26,
   "metadata": {},
   "outputs": [],
   "source": [
    "@tf.function   # 使用AutoGraph机制 加快训练深度\n",
    "def preprocess(line):\n",
    "    # 默认所有特征列为浮点数0，同时提供float32的空数组作为标签并且是强制性的\n",
    "    defaults = [0.] * n_inputs + [tf.constant([], dtype=tf.float32)]\n",
    "    fields = tf.io.decode_csv(line, record_defaults=defaults)\n",
    "    # tf.stack():将这些张量堆叠到一维度量中\n",
    "    X = tf.stack(fields[:-1])\n",
    "    y = tf.stack(fields[-1])\n",
    "    return (X - X_mean) / X_std ,y"
   ]
  },
  {
   "cell_type": "code",
   "execution_count": 27,
   "metadata": {},
   "outputs": [
    {
     "data": {
      "text/plain": [
       "(<tf.Tensor: shape=(8,), dtype=float32, numpy=\n",
       " array([ 0.04035116,  0.9789995 , -0.07691002, -0.27522123, -0.46386182,\n",
       "         0.12743382, -0.78068835,  0.75683004], dtype=float32)>,\n",
       " <tf.Tensor: shape=(), dtype=float32, numpy=1.698>)"
      ]
     },
     "execution_count": 27,
     "metadata": {},
     "output_type": "execute_result"
    }
   ],
   "source": [
    "n_inputs = 8\n",
    "preprocess(b'3.9688,41.0,5.259786476868327,0.9715302491103203,916.0,3.2597864768683276,33.98,-118.07,1.698')"
   ]
  },
  {
   "cell_type": "markdown",
   "metadata": {},
   "source": [
    "### 合并在一起 Putting Everything Together"
   ]
  },
  {
   "cell_type": "markdown",
   "metadata": {},
   "source": [
    "将上述内容放在一个辅助函数里面:创建并返回一个数据集,该数据集从多个CSV文件中加载加州住房数据,对其进行预处理,随机乱序,可以选择重复,并进行批处理."
   ]
  },
  {
   "cell_type": "markdown",
   "metadata": {},
   "source": [
    "<img src=\"./images/other/13-2.png\" width=\"400\">"
   ]
  },
  {
   "cell_type": "code",
   "execution_count": 28,
   "metadata": {},
   "outputs": [],
   "source": [
    "def csv_reader_dataset(filepaths, repeat=1, n_reader=5, n_read_threads=tf.data.AUTOTUNE, \n",
    "                       shuffle_buffer_size=10000, batch_size=32):\n",
    "    filepath_dataset = tf.data.Dataset.list_files(filepaths).repeat(repeat)\n",
    "    dataset = filepath_dataset.interleave(\n",
    "        map_func=lambda filepath: tf.data.TextLineDataset(filepath).skip(1),\n",
    "        cycle_length=n_reader,\n",
    "        num_parallel_calls=n_read_threads,  # 设置并行处理的线程数\n",
    "    )\n",
    "    dataset = dataset.shuffle(shuffle_buffer_size)\n",
    "    dataset = dataset.map(map_func=preprocess, num_parallel_calls=n_read_threads)\n",
    "    dataset = dataset.batch(batch_size)\n",
    "    dataset = dataset.prefetch(1)  # 提升性能\n",
    "    return dataset"
   ]
  },
  {
   "cell_type": "markdown",
   "metadata": {},
   "source": [
    "### 预取 Prefetching"
   ]
  },
  {
   "cell_type": "markdown",
   "metadata": {},
   "source": [
    "`prefetch()`:使得数据集将尽最大可能提前准备一个批次.\n",
    "\n",
    "通过预取,CPU和GPU并行工作:当GPU处理一个批次时,CPU处理下个批次."
   ]
  },
  {
   "cell_type": "markdown",
   "metadata": {},
   "source": [
    "<img src=\"./images/other/13-3.png\" width=\"400\">"
   ]
  },
  {
   "cell_type": "markdown",
   "metadata": {},
   "source": [
    "如果数据集足够小,可以放到内存里,则可以使用数据集的`cache()`将其内容放到RAM中,从而加快训练速度."
   ]
  },
  {
   "cell_type": "markdown",
   "metadata": {},
   "source": [
    "###  和tf.keras一起使用数据集 Using the Dataset with tf.keras"
   ]
  },
  {
   "cell_type": "markdown",
   "metadata": {},
   "source": [
    "1. 将拆分后的CSV文件通过输入流水线创建数据集"
   ]
  },
  {
   "cell_type": "code",
   "execution_count": 29,
   "metadata": {},
   "outputs": [],
   "source": [
    "train_dataset = csv_reader_dataset(filepaths=train_filepaths,\n",
    "                                  # repeat=None\n",
    "                                  )\n",
    "# repeat=None 使用跨轮次的乱序缓冲区\n",
    "val_dataset = csv_reader_dataset(filepaths=val_filepaths)\n",
    "test_dataset = csv_reader_dataset(filepaths=test_filepaths)"
   ]
  },
  {
   "cell_type": "markdown",
   "metadata": {},
   "source": [
    "2. 构建模型编译及训练"
   ]
  },
  {
   "cell_type": "code",
   "execution_count": 30,
   "metadata": {},
   "outputs": [],
   "source": [
    "initialization()"
   ]
  },
  {
   "cell_type": "code",
   "execution_count": 31,
   "metadata": {},
   "outputs": [],
   "source": [
    "input_shape = X_train.shape[1:]\n",
    "model = keras.models.Sequential([\n",
    "    keras.layers.Dense(30, activation=keras.activations.relu,\n",
    "                       input_shape=input_shape),\n",
    "    keras.layers.Dense(1)\n",
    "])"
   ]
  },
  {
   "cell_type": "code",
   "execution_count": 32,
   "metadata": {},
   "outputs": [
    {
     "name": "stdout",
     "output_type": "stream",
     "text": [
      "Epoch 1/10\n",
      "363/363 [==============================] - 1s 1ms/step - loss: 1.6474 - val_loss: 0.8067\n",
      "Epoch 2/10\n",
      "363/363 [==============================] - 0s 822us/step - loss: 0.7083 - val_loss: 0.6589\n",
      "Epoch 3/10\n",
      "363/363 [==============================] - 0s 1ms/step - loss: 0.6347 - val_loss: 0.6020\n",
      "Epoch 4/10\n",
      "363/363 [==============================] - 0s 909us/step - loss: 0.5979 - val_loss: 0.5659\n",
      "Epoch 5/10\n",
      "363/363 [==============================] - 0s 832us/step - loss: 0.5703 - val_loss: 0.5362\n",
      "Epoch 6/10\n",
      "363/363 [==============================] - 0s 868us/step - loss: 0.5477 - val_loss: 0.5138\n",
      "Epoch 7/10\n",
      "363/363 [==============================] - 0s 876us/step - loss: 0.5286 - val_loss: 0.5060\n",
      "Epoch 8/10\n",
      "363/363 [==============================] - 0s 849us/step - loss: 0.5131 - val_loss: 0.4828\n",
      "Epoch 9/10\n",
      "363/363 [==============================] - 0s 876us/step - loss: 0.4994 - val_loss: 0.4686\n",
      "Epoch 10/10\n",
      "363/363 [==============================] - 0s 870us/step - loss: 0.4873 - val_loss: 0.4550\n"
     ]
    },
    {
     "data": {
      "text/plain": [
       "<tensorflow.python.keras.callbacks.History at 0x7fbf61ba56d0>"
      ]
     },
     "execution_count": 32,
     "metadata": {},
     "output_type": "execute_result"
    }
   ],
   "source": [
    "model.compile(loss=keras.losses.mean_squared_error,\n",
    "              optimizer=keras.optimizers.SGD(learning_rate=1e-3))\n",
    "\n",
    "batch_size=32\n",
    "model.fit(train_dataset,\n",
    "          #steps_per_epoch=len(X_train) // batch_size,\n",
    "          epochs=10,\n",
    "          validation_data=val_dataset\n",
    "         )"
   ]
  },
  {
   "cell_type": "markdown",
   "metadata": {},
   "source": [
    "3. 测试与预测"
   ]
  },
  {
   "cell_type": "code",
   "execution_count": 33,
   "metadata": {
    "scrolled": true
   },
   "outputs": [
    {
     "name": "stdout",
     "output_type": "stream",
     "text": [
      "162/162 [==============================] - 0s 611us/step - loss: 0.4765\n"
     ]
    },
    {
     "data": {
      "text/plain": [
       "0.4764833450317383"
      ]
     },
     "execution_count": 33,
     "metadata": {},
     "output_type": "execute_result"
    }
   ],
   "source": [
    "model.evaluate(test_dataset)"
   ]
  },
  {
   "cell_type": "code",
   "execution_count": 34,
   "metadata": {},
   "outputs": [
    {
     "data": {
      "text/plain": [
       "array([[1.3617018],\n",
       "       [5.936318 ],\n",
       "       [1.1038496],\n",
       "       ...,\n",
       "       [0.6972577],\n",
       "       [1.7134535],\n",
       "       [2.3925939]], dtype=float32)"
      ]
     },
     "execution_count": 34,
     "metadata": {},
     "output_type": "execute_result"
    }
   ],
   "source": [
    "new_set = test_dataset.map(lambda X, y: X) \n",
    "X_new = X_test\n",
    "model.predict(new_set, steps=len(X_new) // batch_size)"
   ]
  },
  {
   "cell_type": "markdown",
   "metadata": {},
   "source": [
    "# TFRecord格式 The TFRecord Format"
   ]
  },
  {
   "cell_type": "markdown",
   "metadata": {},
   "source": [
    "`TFRecord格式`是TensorFlow首选的格式,用于存储大量数据并有效读取数据。这是一种非常简单的二进制格式,只包含大小不同的二进制记录序列(每个记录由一个长度,一个用于检查长度是否损坏的CRC校验和,实际数据以及最后一个CRC校验和组成)"
   ]
  },
  {
   "cell_type": "markdown",
   "metadata": {},
   "source": [
    "- 创建TFRecord文件"
   ]
  },
  {
   "cell_type": "code",
   "execution_count": 35,
   "metadata": {},
   "outputs": [],
   "source": [
    "with tf.io.TFRecordWriter(\"./TFRecord/my_data.tfrecord\") as f:\n",
    "    f.write(b\"Hello world!___This is first record\")\n",
    "    f.write(b\"Hello world!___This is second record\")"
   ]
  },
  {
   "cell_type": "markdown",
   "metadata": {},
   "source": [
    "- 读取TFRecord文件"
   ]
  },
  {
   "cell_type": "code",
   "execution_count": 36,
   "metadata": {},
   "outputs": [
    {
     "name": "stdout",
     "output_type": "stream",
     "text": [
      "tf.Tensor(b'Hello world!___This is first record', shape=(), dtype=string)\n",
      "tf.Tensor(b'Hello world!___This is second record', shape=(), dtype=string)\n"
     ]
    }
   ],
   "source": [
    "filepath = [\"./TFRecord/my_data.tfrecord\"]\n",
    "dataset = tf.data.TFRecordDataset(filepath, num_parallel_reads=tf.data.AUTOTUNE)\n",
    "for item in dataset:\n",
    "    print(item)"
   ]
  },
  {
   "cell_type": "markdown",
   "metadata": {},
   "source": [
    "默认情况下, 将一个接一个地读取文件,可以设置`num_parallel_reads`使其并行读取多个文件并交织记录。"
   ]
  },
  {
   "cell_type": "markdown",
   "metadata": {},
   "source": [
    "## 压缩的TFRecord文件 Compressed TFRecord Files"
   ]
  },
  {
   "cell_type": "markdown",
   "metadata": {},
   "source": [
    "- 通过设置`options`创建压缩文件"
   ]
  },
  {
   "cell_type": "code",
   "execution_count": 37,
   "metadata": {},
   "outputs": [],
   "source": [
    "options = tf.io.TFRecordOptions(compression_type=\"GZIP\")\n",
    "with tf.io.TFRecordWriter(\"./TFRecord/my_compressed.tfrecord\", options=options) as f:\n",
    "    f.write(b\"Hello world!___This is first record\")\n",
    "    f.write(b\"Hello world!___This is second record\")"
   ]
  },
  {
   "cell_type": "markdown",
   "metadata": {},
   "source": [
    "- 解压文件时要主要指定压缩类型"
   ]
  },
  {
   "cell_type": "code",
   "execution_count": 38,
   "metadata": {
    "scrolled": true
   },
   "outputs": [
    {
     "name": "stdout",
     "output_type": "stream",
     "text": [
      "tf.Tensor(b'Hello world!___This is first record', shape=(), dtype=string)\n",
      "tf.Tensor(b'Hello world!___This is second record', shape=(), dtype=string)\n"
     ]
    }
   ],
   "source": [
    "filepath = [\"./TFRecord/my_compressed.tfrecord\"]\n",
    "dataset = tf.data.TFRecordDataset(filepath, compression_type=\"GZIP\",\n",
    "                                  num_parallel_reads=tf.data.AUTOTUNE)\n",
    "for item in dataset:\n",
    "    print(item)"
   ]
  },
  {
   "cell_type": "markdown",
   "metadata": {},
   "source": [
    "> 后续内容 等待补充!"
   ]
  },
  {
   "cell_type": "code",
   "execution_count": 39,
   "metadata": {},
   "outputs": [],
   "source": [
    "BytesList = tf.train.BytesList\n",
    "FloatList = tf.train.FloatList\n",
    "Int64List = tf.train.Int64List\n",
    "Feature = tf.train.Feature\n",
    "Features = tf.train.Features\n",
    "Example = tf.train.Example"
   ]
  },
  {
   "cell_type": "markdown",
   "metadata": {},
   "source": [
    "# 预处理输入特征 Preprocessing the Input Features"
   ]
  },
  {
   "cell_type": "markdown",
   "metadata": {},
   "source": [
    "1. 下载并解压CSV数据集"
   ]
  },
  {
   "cell_type": "code",
   "execution_count": 40,
   "metadata": {},
   "outputs": [],
   "source": [
    "import tarfile\n",
    "import urllib.request"
   ]
  },
  {
   "cell_type": "code",
   "execution_count": 41,
   "metadata": {},
   "outputs": [],
   "source": [
    "DOWNLOAD_ROOT = \"https://raw.githubusercontent.com/ageron/handson-ml2/master/\"\n",
    "HOUSING_PATH = os.path.join(\"datasets\", \"housing\")\n",
    "HOUSING_URL = DOWNLOAD_ROOT + \"datasets/housing/housing.tgz\"\n",
    "\n",
    "def fetch_housing_data(housing_url=HOUSING_URL, housing_path=HOUSING_PATH):\n",
    "    os.makedirs(housing_path, exist_ok=True)\n",
    "    tgz_path = os.path.join(housing_path, \"housing.tgz\")\n",
    "    urllib.request.urlretrieve(housing_url, tgz_path)\n",
    "    housing_tgz = tarfile.open(tgz_path)\n",
    "    housing_tgz.extractall(path=housing_path)\n",
    "    housing_tgz.close()\n",
    "    \n",
    "fetch_housing_data()"
   ]
  },
  {
   "cell_type": "markdown",
   "metadata": {},
   "source": [
    "2. 加载数据集"
   ]
  },
  {
   "cell_type": "code",
   "execution_count": 42,
   "metadata": {},
   "outputs": [],
   "source": [
    "def load_housing_data(housing_path=HOUSING_PATH):\n",
    "    csv_path = os.path.join(housing_path, \"housing.csv\")\n",
    "    return pd.read_csv(csv_path)"
   ]
  },
  {
   "cell_type": "code",
   "execution_count": 43,
   "metadata": {
    "scrolled": true
   },
   "outputs": [
    {
     "data": {
      "text/html": [
       "<div>\n",
       "<style scoped>\n",
       "    .dataframe tbody tr th:only-of-type {\n",
       "        vertical-align: middle;\n",
       "    }\n",
       "\n",
       "    .dataframe tbody tr th {\n",
       "        vertical-align: top;\n",
       "    }\n",
       "\n",
       "    .dataframe thead th {\n",
       "        text-align: right;\n",
       "    }\n",
       "</style>\n",
       "<table border=\"1\" class=\"dataframe\">\n",
       "  <thead>\n",
       "    <tr style=\"text-align: right;\">\n",
       "      <th></th>\n",
       "      <th>longitude</th>\n",
       "      <th>latitude</th>\n",
       "      <th>housing_median_age</th>\n",
       "      <th>total_rooms</th>\n",
       "      <th>total_bedrooms</th>\n",
       "      <th>population</th>\n",
       "      <th>households</th>\n",
       "      <th>median_income</th>\n",
       "      <th>median_house_value</th>\n",
       "      <th>ocean_proximity</th>\n",
       "    </tr>\n",
       "  </thead>\n",
       "  <tbody>\n",
       "    <tr>\n",
       "      <td>0</td>\n",
       "      <td>-122.23</td>\n",
       "      <td>37.88</td>\n",
       "      <td>41.0</td>\n",
       "      <td>880.0</td>\n",
       "      <td>129.0</td>\n",
       "      <td>322.0</td>\n",
       "      <td>126.0</td>\n",
       "      <td>8.3252</td>\n",
       "      <td>452600.0</td>\n",
       "      <td>NEAR BAY</td>\n",
       "    </tr>\n",
       "    <tr>\n",
       "      <td>1</td>\n",
       "      <td>-122.22</td>\n",
       "      <td>37.86</td>\n",
       "      <td>21.0</td>\n",
       "      <td>7099.0</td>\n",
       "      <td>1106.0</td>\n",
       "      <td>2401.0</td>\n",
       "      <td>1138.0</td>\n",
       "      <td>8.3014</td>\n",
       "      <td>358500.0</td>\n",
       "      <td>NEAR BAY</td>\n",
       "    </tr>\n",
       "    <tr>\n",
       "      <td>2</td>\n",
       "      <td>-122.24</td>\n",
       "      <td>37.85</td>\n",
       "      <td>52.0</td>\n",
       "      <td>1467.0</td>\n",
       "      <td>190.0</td>\n",
       "      <td>496.0</td>\n",
       "      <td>177.0</td>\n",
       "      <td>7.2574</td>\n",
       "      <td>352100.0</td>\n",
       "      <td>NEAR BAY</td>\n",
       "    </tr>\n",
       "    <tr>\n",
       "      <td>3</td>\n",
       "      <td>-122.25</td>\n",
       "      <td>37.85</td>\n",
       "      <td>52.0</td>\n",
       "      <td>1274.0</td>\n",
       "      <td>235.0</td>\n",
       "      <td>558.0</td>\n",
       "      <td>219.0</td>\n",
       "      <td>5.6431</td>\n",
       "      <td>341300.0</td>\n",
       "      <td>NEAR BAY</td>\n",
       "    </tr>\n",
       "    <tr>\n",
       "      <td>4</td>\n",
       "      <td>-122.25</td>\n",
       "      <td>37.85</td>\n",
       "      <td>52.0</td>\n",
       "      <td>1627.0</td>\n",
       "      <td>280.0</td>\n",
       "      <td>565.0</td>\n",
       "      <td>259.0</td>\n",
       "      <td>3.8462</td>\n",
       "      <td>342200.0</td>\n",
       "      <td>NEAR BAY</td>\n",
       "    </tr>\n",
       "  </tbody>\n",
       "</table>\n",
       "</div>"
      ],
      "text/plain": [
       "   longitude  latitude  housing_median_age  total_rooms  total_bedrooms  \\\n",
       "0    -122.23     37.88                41.0        880.0           129.0   \n",
       "1    -122.22     37.86                21.0       7099.0          1106.0   \n",
       "2    -122.24     37.85                52.0       1467.0           190.0   \n",
       "3    -122.25     37.85                52.0       1274.0           235.0   \n",
       "4    -122.25     37.85                52.0       1627.0           280.0   \n",
       "\n",
       "   population  households  median_income  median_house_value ocean_proximity  \n",
       "0       322.0       126.0         8.3252            452600.0        NEAR BAY  \n",
       "1      2401.0      1138.0         8.3014            358500.0        NEAR BAY  \n",
       "2       496.0       177.0         7.2574            352100.0        NEAR BAY  \n",
       "3       558.0       219.0         5.6431            341300.0        NEAR BAY  \n",
       "4       565.0       259.0         3.8462            342200.0        NEAR BAY  "
      ]
     },
     "execution_count": 43,
     "metadata": {},
     "output_type": "execute_result"
    }
   ],
   "source": [
    "housing = load_housing_data()\n",
    "housing.head()"
   ]
  },
  {
   "cell_type": "markdown",
   "metadata": {},
   "source": [
    "## 特征列 feature columns"
   ]
  },
  {
   "cell_type": "markdown",
   "metadata": {},
   "source": [
    "深度神经网络只能处理数值类型的数据，但我们收集的特征并不全是数值类型的。\n",
    "\n",
    "机器学习模型一般将分类值表示为简单的矢量，其中 1 表示存在某个值，0 表示不存在某个值。例如，如果将`product_class`设置为`sports`时，机器学习模型通常将`product_class`表示为[0, 0, 1]，即：\n",
    "\n",
    "- 0：kitchenware is absent。\n",
    "- 0：electronics is absent。\n",
    "- 1：sports is present。\n",
    "\n",
    "\n",
    "因此，虽然原始数据可以是数值或分类值，但机器学习模型会将所有特征表示为数值。"
   ]
  },
  {
   "cell_type": "markdown",
   "metadata": {},
   "source": [
    "如下图所示，你可以通过 `Estimator` 的 `feature_columns` 参数来指定模型的输入。特征列在输入数据（由`input_fn`返回）与模型之间架起了桥梁。"
   ]
  },
  {
   "cell_type": "markdown",
   "metadata": {},
   "source": [
    "<img src=\"./images/other/13-4.jpg\" width=\"700\">"
   ]
  },
  {
   "cell_type": "markdown",
   "metadata": {},
   "source": [
    "要创建特征列，请调用 `tf.feature_column` 模块的函数。本文档介绍了该模块中的 9 个函数。如下图所示，除了 `bucketized_column` 外的函数要么返回一个 `Categorical Column` 对象，要么返回一个 `Dense Column` 对象。\n",
    "<img src=\"./images/other/13-5.jpg\" width=\"500\">"
   ]
  },
  {
   "cell_type": "markdown",
   "metadata": {},
   "source": [
    "如下所示，并非所有 `Estimator` 都支持所有类型的 `feature_columns` 参数：\n",
    "\n",
    "- `LinearClassifier` 和 `LinearRegressor`：接受所有类型的特征列。\n",
    "- `DNNClassifier` 和 `DNNRegressor`：只接受密集列。其他类型的列必须封装在 `indicator_column` 或 `embedding_column` 中。\n",
    "- `DNNLinearCombinedClassifier` 和 `DNNLinearCombinedRegressor`：`linear_feature_columns `参数接受任何类型的特征列,`dnn_feature_columns` 参数只接受密集列。\n"
   ]
  },
  {
   "cell_type": "markdown",
   "metadata": {},
   "source": [
    "创建Demo数据集:"
   ]
  },
  {
   "cell_type": "code",
   "execution_count": 44,
   "metadata": {},
   "outputs": [
    {
     "data": {
      "text/html": [
       "<div>\n",
       "<style scoped>\n",
       "    .dataframe tbody tr th:only-of-type {\n",
       "        vertical-align: middle;\n",
       "    }\n",
       "\n",
       "    .dataframe tbody tr th {\n",
       "        vertical-align: top;\n",
       "    }\n",
       "\n",
       "    .dataframe thead th {\n",
       "        text-align: right;\n",
       "    }\n",
       "</style>\n",
       "<table border=\"1\" class=\"dataframe\">\n",
       "  <thead>\n",
       "    <tr style=\"text-align: right;\">\n",
       "      <th></th>\n",
       "      <th>marks</th>\n",
       "      <th>grade</th>\n",
       "      <th>point</th>\n",
       "    </tr>\n",
       "  </thead>\n",
       "  <tbody>\n",
       "    <tr>\n",
       "      <td>0</td>\n",
       "      <td>55</td>\n",
       "      <td>average</td>\n",
       "      <td>c</td>\n",
       "    </tr>\n",
       "    <tr>\n",
       "      <td>1</td>\n",
       "      <td>21</td>\n",
       "      <td>poor</td>\n",
       "      <td>f</td>\n",
       "    </tr>\n",
       "    <tr>\n",
       "      <td>2</td>\n",
       "      <td>63</td>\n",
       "      <td>average</td>\n",
       "      <td>c+</td>\n",
       "    </tr>\n",
       "    <tr>\n",
       "      <td>3</td>\n",
       "      <td>88</td>\n",
       "      <td>good</td>\n",
       "      <td>b+</td>\n",
       "    </tr>\n",
       "    <tr>\n",
       "      <td>4</td>\n",
       "      <td>74</td>\n",
       "      <td>good</td>\n",
       "      <td>b</td>\n",
       "    </tr>\n",
       "    <tr>\n",
       "      <td>5</td>\n",
       "      <td>54</td>\n",
       "      <td>average</td>\n",
       "      <td>c</td>\n",
       "    </tr>\n",
       "    <tr>\n",
       "      <td>6</td>\n",
       "      <td>95</td>\n",
       "      <td>good</td>\n",
       "      <td>a</td>\n",
       "    </tr>\n",
       "    <tr>\n",
       "      <td>7</td>\n",
       "      <td>41</td>\n",
       "      <td>average</td>\n",
       "      <td>d+</td>\n",
       "    </tr>\n",
       "    <tr>\n",
       "      <td>8</td>\n",
       "      <td>84</td>\n",
       "      <td>good</td>\n",
       "      <td>b+</td>\n",
       "    </tr>\n",
       "    <tr>\n",
       "      <td>9</td>\n",
       "      <td>52</td>\n",
       "      <td>average</td>\n",
       "      <td>c</td>\n",
       "    </tr>\n",
       "  </tbody>\n",
       "</table>\n",
       "</div>"
      ],
      "text/plain": [
       "   marks    grade point\n",
       "0     55  average     c\n",
       "1     21     poor     f\n",
       "2     63  average    c+\n",
       "3     88     good    b+\n",
       "4     74     good     b\n",
       "5     54  average     c\n",
       "6     95     good     a\n",
       "7     41  average    d+\n",
       "8     84     good    b+\n",
       "9     52  average     c"
      ]
     },
     "execution_count": 44,
     "metadata": {},
     "output_type": "execute_result"
    }
   ],
   "source": [
    "demo_data = {'marks': [55,21,63,88,74,54,95,41,84,52],\n",
    "        'grade': ['average','poor','average','good','good','average','good','average','good','average'],\n",
    "        'point': ['c','f','c+','b+','b','c','a','d+','b+','c']}\n",
    " \n",
    "demo_df = pd.DataFrame(demo_data)\n",
    "demo_df"
   ]
  },
  {
   "cell_type": "code",
   "execution_count": 45,
   "metadata": {},
   "outputs": [],
   "source": [
    "from tensorflow import feature_column"
   ]
  },
  {
   "cell_type": "code",
   "execution_count": 46,
   "metadata": {},
   "outputs": [],
   "source": [
    "# 用于创建特征列和转换批量数据\n",
    "def Conver_fn(feature_column, data):\n",
    "    # DenseFeatures:用来将原始数据根据需要转换为特征数据\n",
    "    feature_layer = keras.layers.DenseFeatures(feature_column)\n",
    "    print(feature_layer(data)[:5])"
   ]
  },
  {
   "cell_type": "markdown",
   "metadata": {},
   "source": [
    "### 数值列 Numeric column"
   ]
  },
  {
   "cell_type": "markdown",
   "metadata": {},
   "source": [
    "1. Demo数据集"
   ]
  },
  {
   "cell_type": "code",
   "execution_count": 47,
   "metadata": {
    "scrolled": false
   },
   "outputs": [
    {
     "name": "stdout",
     "output_type": "stream",
     "text": [
      "tf.Tensor(\n",
      "[[55.]\n",
      " [21.]\n",
      " [63.]\n",
      " [88.]\n",
      " [74.]], shape=(5, 1), dtype=float32)\n"
     ]
    }
   ],
   "source": [
    "marks = feature_column.numeric_column(\"marks\")\n",
    "Conver_fn(feature_column=marks, data=demo_data)"
   ]
  },
  {
   "cell_type": "markdown",
   "metadata": {},
   "source": [
    "2. 加州住房数据集:`housing_median_age`"
   ]
  },
  {
   "attachments": {
    "image.png": {
     "image/png": "[encoded data removed]"
    }
   },
   "cell_type": "markdown",
   "metadata": {},
   "source": [
    "- `DataFrame.to_dict()` 函数转化为字典类型:\n",
    "![image.png](attachment:image.png)"
   ]
  },
  {
   "cell_type": "code",
   "execution_count": 48,
   "metadata": {},
   "outputs": [
    {
     "data": {
      "text/plain": [
       "dict_keys(['longitude', 'latitude', 'housing_median_age', 'total_rooms', 'total_bedrooms', 'population', 'households', 'median_income', 'median_house_value', 'ocean_proximity'])"
      ]
     },
     "execution_count": 48,
     "metadata": {},
     "output_type": "execute_result"
    }
   ],
   "source": [
    "# 1. 首先进行数据类型转换\n",
    "housing_dict = housing.to_dict(orient=\"list\")\n",
    "housing_dict.keys()"
   ]
  },
  {
   "cell_type": "code",
   "execution_count": 49,
   "metadata": {},
   "outputs": [
    {
     "data": {
      "text/plain": [
       "NumericColumn(key='housing_median_age', shape=(1,), default_value=None, dtype=tf.float32, normalizer_fn=None)"
      ]
     },
     "execution_count": 49,
     "metadata": {},
     "output_type": "execute_result"
    }
   ],
   "source": [
    "# 2. 指定特征列\n",
    "housing_median_age = feature_column.numeric_column(\"housing_median_age\")\n",
    "housing_median_age  # normalizer_fn=None 未指定归一化函数"
   ]
  },
  {
   "cell_type": "code",
   "execution_count": 50,
   "metadata": {},
   "outputs": [
    {
     "name": "stdout",
     "output_type": "stream",
     "text": [
      "tf.Tensor(\n",
      "[[41.]\n",
      " [21.]\n",
      " [52.]\n",
      " [52.]\n",
      " [52.]], shape=(5, 1), dtype=float32)\n"
     ]
    }
   ],
   "source": [
    "# 3. 转换为特征数据\n",
    "Conver_fn(data=housing_dict, feature_column=housing_median_age)"
   ]
  },
  {
   "cell_type": "code",
   "execution_count": 51,
   "metadata": {},
   "outputs": [
    {
     "data": {
      "text/plain": [
       "NumericColumn(key='housing_median_age', shape=(1,), default_value=None, dtype=tf.float32, normalizer_fn=<function <lambda> at 0x7fbf7d7244d0>)"
      ]
     },
     "execution_count": 51,
     "metadata": {},
     "output_type": "execute_result"
    }
   ],
   "source": [
    "# 4. 指定normalizer_fn \n",
    "age_mean = X_mean[1]     # 由sklearn所加载的加州房价数据集 房龄类是在[1]上\n",
    "age_stds = X_std[1]\n",
    "housing_median_age = feature_column.numeric_column(\n",
    "                        key=\"housing_median_age\",\n",
    "                        normalizer_fn=lambda x:(x-age_mean)/age_stds)\n",
    "housing_median_age"
   ]
  },
  {
   "cell_type": "code",
   "execution_count": 52,
   "metadata": {},
   "outputs": [
    {
     "name": "stdout",
     "output_type": "stream",
     "text": [
      "tf.Tensor(\n",
      "[[ 0.9789995 ]\n",
      " [-0.60316414]\n",
      " [ 1.8491895 ]\n",
      " [ 1.8491895 ]\n",
      " [ 1.8491895 ]], shape=(5, 1), dtype=float32)\n"
     ]
    }
   ],
   "source": [
    "Conver_fn(data=housing_dict, feature_column=housing_median_age)"
   ]
  },
  {
   "cell_type": "markdown",
   "metadata": {},
   "source": [
    "### 分桶列 Bucketized column"
   ]
  },
  {
   "cell_type": "markdown",
   "metadata": {},
   "source": [
    "通常，我们不直接将一个数值直接传给模型，而是根据数值范围将其值分为不同的 `categories`。上述功能可以通过 `tf.feature_column.bucketized_column`实现。以表示房屋建造年份的原始数据为例。我们并非以标量数值列表示年份，而是将年份分成下列四个分桶：\n",
    "<img src=\"./images/other/13-6.png\" width=\"500\">\n",
    "模型将按以下方式表示这些 bucket：\n",
    "<img src=\"./images/other/13-7.png\" width=\"200\">\n",
    "\n",
    "为什么要将数字（一个完全有效的模型输入）拆分为分类值？\n",
    "\n",
    "首先，该分类将单个输入数字分成了一个四元素矢量。因此模型现在可以学习四个单独的权重而不是一个。四个权重能够创建一个更强大的模型。更重要的是，借助 bucket，模型能够清楚地区分不同年份类别，因为仅设置了一个元素 (1)，其他三个元素则被清除 (0)。例如，当我们仅将单个数字（年份）用作输入时，线性模型只能学习线性关系，而使用 bucket 后，模型可以学习更复杂的关系。请注意，指定一个三元素边界矢量可创建一个四元素 bucket 矢量."
   ]
  },
  {
   "cell_type": "markdown",
   "metadata": {},
   "source": [
    "- 分列桶演示"
   ]
  },
  {
   "cell_type": "markdown",
   "metadata": {},
   "source": [
    "1. Demo数据集"
   ]
  },
  {
   "cell_type": "code",
   "execution_count": 53,
   "metadata": {
    "scrolled": true
   },
   "outputs": [
    {
     "name": "stdout",
     "output_type": "stream",
     "text": [
      "tf.Tensor(\n",
      "[[55.]\n",
      " [21.]\n",
      " [63.]\n",
      " [88.]\n",
      " [74.]], shape=(5, 1), dtype=float32)\n"
     ]
    }
   ],
   "source": [
    "Conver_fn(feature_column=marks, data=demo_data)"
   ]
  },
  {
   "cell_type": "code",
   "execution_count": 54,
   "metadata": {
    "scrolled": true
   },
   "outputs": [
    {
     "name": "stdout",
     "output_type": "stream",
     "text": [
      "tf.Tensor(\n",
      "[[0. 0. 0. 1. 0. 0. 0. 0.]\n",
      " [1. 0. 0. 0. 0. 0. 0. 0.]\n",
      " [0. 0. 0. 0. 1. 0. 0. 0.]\n",
      " [0. 0. 0. 0. 0. 0. 1. 0.]\n",
      " [0. 0. 0. 0. 0. 1. 0. 0.]], shape=(5, 8), dtype=float32)\n"
     ]
    }
   ],
   "source": [
    "# 1. 首先转换成数值列\n",
    "marks = feature_column.numeric_column(\"marks\")\n",
    "# 2. 按照边界进行 bucket\n",
    "marks_buckets = feature_column.bucketized_column(\n",
    "                    source_column=marks, \n",
    "                    boundaries=[30,40,50,60,70,80,90])\n",
    "Conver_fn(feature_column=marks_buckets, data=demo_data)"
   ]
  },
  {
   "cell_type": "markdown",
   "metadata": {},
   "source": [
    "2. 加州住房数据集:`median_income`"
   ]
  },
  {
   "cell_type": "code",
   "execution_count": 55,
   "metadata": {},
   "outputs": [
    {
     "name": "stdout",
     "output_type": "stream",
     "text": [
      "tf.Tensor(\n",
      "[[8.3252]\n",
      " [8.3014]\n",
      " [7.2574]\n",
      " [5.6431]\n",
      " [3.8462]], shape=(5, 1), dtype=float32)\n"
     ]
    }
   ],
   "source": [
    "median_income = feature_column.numeric_column(\"median_income\")\n",
    "Conver_fn(feature_column=median_income, data=housing_dict)"
   ]
  },
  {
   "cell_type": "code",
   "execution_count": 56,
   "metadata": {},
   "outputs": [
    {
     "name": "stdout",
     "output_type": "stream",
     "text": [
      "tf.Tensor(\n",
      "[[0. 0. 0. 0. 1.]\n",
      " [0. 0. 0. 0. 1.]\n",
      " [0. 0. 0. 0. 1.]\n",
      " [0. 0. 0. 1. 0.]\n",
      " [0. 0. 1. 0. 0.]], shape=(5, 5), dtype=float32)\n"
     ]
    }
   ],
   "source": [
    "median_income = feature_column.numeric_column(\"median_income\")\n",
    "median_income_buckets = feature_column.bucketized_column(\n",
    "                            source_column=median_income,\n",
    "                            boundaries=[1.5, 3., 4.5, 6.])\n",
    "Conver_fn(feature_column=median_income_buckets, data=housing_dict)"
   ]
  },
  {
   "cell_type": "code",
   "execution_count": 57,
   "metadata": {},
   "outputs": [
    {
     "name": "stdout",
     "output_type": "stream",
     "text": [
      "tf.Tensor(\n",
      "[[ 0.9789995 ]\n",
      " [-0.60316414]\n",
      " [ 1.8491895 ]\n",
      " [ 1.8491895 ]\n",
      " [ 1.8491895 ]], shape=(5, 1), dtype=float32)\n"
     ]
    }
   ],
   "source": [
    "# 指定normalizer_fu进行归一化之后在进行bucket\n",
    "# 以housing_median_age为例:\n",
    "Conver_fn(data=housing_dict, feature_column=housing_median_age)"
   ]
  },
  {
   "cell_type": "code",
   "execution_count": 58,
   "metadata": {},
   "outputs": [
    {
     "name": "stdout",
     "output_type": "stream",
     "text": [
      "tf.Tensor(\n",
      "[[0. 0. 0. 0. 1. 0.]\n",
      " [0. 1. 0. 0. 0. 0.]\n",
      " [0. 0. 0. 0. 0. 1.]\n",
      " [0. 0. 0. 0. 0. 1.]\n",
      " [0. 0. 0. 0. 0. 1.]], shape=(5, 6), dtype=float32)\n"
     ]
    }
   ],
   "source": [
    "housing_median_age_bucket = feature_column.bucketized_column(\n",
    "                                source_column=housing_median_age,\n",
    "                                boundaries=[-1., -0.5, 0., 0.5, 1])\n",
    "Conver_fn(data=housing_dict, feature_column=housing_median_age_bucket)"
   ]
  },
  {
   "cell_type": "markdown",
   "metadata": {},
   "source": [
    "### 分类列 Categorical Column"
   ]
  },
  {
   "cell_type": "markdown",
   "metadata": {},
   "source": [
    "#### 类别标识列 Categorical identity column"
   ]
  },
  {
   "cell_type": "markdown",
   "metadata": {},
   "source": [
    "可以将`类别标识列`看成`分桶列`的一个特例。在一般的`分桶列`中，每一个 `分桶`表示值的一个范围。在一个`类别标识列`中，每个 `分桶` 表示单个、独一无二的整数。例如，假设您想要表示整数范围 [0, 4)。也就是说，您想要表示整数 0、1、2 或 3。在这种情况下，分类标识映射如下所示:\n",
    "<img src=\"./images/other/13-8.png\" width=\"300\">"
   ]
  },
  {
   "cell_type": "markdown",
   "metadata": {},
   "source": [
    "- `categorical_column_with_identity` 创建类别标识列"
   ]
  },
  {
   "cell_type": "markdown",
   "metadata": {},
   "source": [
    "####  类别词汇表 Categorical vocabulary column"
   ]
  },
  {
   "cell_type": "markdown",
   "metadata": {},
   "source": [
    "我们不能直接向模型中输入字符串。我们必须首先将字符串映射为数值或类别值。`类别词汇表` 可以将字符串表示为one_hot格式的向量。"
   ]
  },
  {
   "cell_type": "markdown",
   "metadata": {},
   "source": [
    "- `categorical_column_with_vocabulary_list`:由列表加载\n",
    "- `categorical_column_with_vocabulary_file`:由文件加载"
   ]
  },
  {
   "cell_type": "markdown",
   "metadata": {},
   "source": [
    "<img src=\"./images/other/13-9.jpg\" width=\"300\">"
   ]
  },
  {
   "cell_type": "markdown",
   "metadata": {},
   "source": [
    "### 指示列和嵌入列 Indicator and embedding columns"
   ]
  },
  {
   "cell_type": "markdown",
   "metadata": {},
   "source": [
    "`指标列`和`嵌入列`从不直接处理特征，而是将**`分类列`**视为输入。\n",
    "- `indicator_column` 把输入编码为`多热编码multi-hot`或者`独热编码one-hot的 dense形式`\n",
    "- `categorical` 把输入编码为`独热编码的sparse形式`\n",
    "\n",
    "所以如果要把`categorical` 特征送入 DNN 网络，必须使用`指示列`或`嵌入列`进行一次转换."
   ]
  },
  {
   "cell_type": "markdown",
   "metadata": {},
   "source": [
    "#### 指示列 Indicator columns"
   ]
  },
  {
   "cell_type": "markdown",
   "metadata": {},
   "source": [
    "`indicator_column`是一个onehot工具，用于把sparse特征进行onehot 变换.\n",
    "\n",
    "使用指标列时，我们指示 `TensorFlow` 完成我们在分类 `product_class` 样本中看到的确切操作。也就是说，指标列将每个类别视为独热矢量中的一个元素，其中匹配类别的值为 1，其余类别为 0.\n",
    "<img src=\"./images/other/13-8.png\" width=\"300\">"
   ]
  },
  {
   "cell_type": "markdown",
   "metadata": {},
   "source": [
    "- 指示列演示"
   ]
  },
  {
   "cell_type": "markdown",
   "metadata": {},
   "source": [
    "1. Demo数据集"
   ]
  },
  {
   "cell_type": "code",
   "execution_count": 59,
   "metadata": {},
   "outputs": [],
   "source": [
    "# 1.创建 分类列-类别词汇表\n",
    "grade = feature_column.categorical_column_with_vocabulary_list(\n",
    "            key='grade',\n",
    "            vocabulary_list=['poor','average','good'],\n",
    ")"
   ]
  },
  {
   "cell_type": "code",
   "execution_count": 60,
   "metadata": {},
   "outputs": [],
   "source": [
    "# 2.将分类列指定为指示列 \n",
    "grade_indictor = feature_column.indicator_column(grade)"
   ]
  },
  {
   "cell_type": "code",
   "execution_count": 61,
   "metadata": {},
   "outputs": [
    {
     "data": {
      "text/plain": [
       "IndicatorColumn(categorical_column=VocabularyListCategoricalColumn(key='grade', vocabulary_list=('poor', 'average', 'good'), dtype=tf.string, default_value=-1, num_oov_buckets=0))"
      ]
     },
     "execution_count": 61,
     "metadata": {},
     "output_type": "execute_result"
    }
   ],
   "source": [
    "grade_indictor"
   ]
  },
  {
   "cell_type": "code",
   "execution_count": 62,
   "metadata": {},
   "outputs": [
    {
     "name": "stdout",
     "output_type": "stream",
     "text": [
      "tf.Tensor(\n",
      "[[0. 1. 0.]\n",
      " [1. 0. 0.]\n",
      " [0. 1. 0.]\n",
      " [0. 0. 1.]\n",
      " [0. 0. 1.]], shape=(5, 3), dtype=float32)\n"
     ]
    }
   ],
   "source": [
    "# 3.转换为特征数据\n",
    "Conver_fn(feature_column=grade_indictor, data=demo_data)"
   ]
  },
  {
   "cell_type": "markdown",
   "metadata": {},
   "source": [
    "2. 加州住房数据集:`ocean_proximity`"
   ]
  },
  {
   "cell_type": "code",
   "execution_count": 63,
   "metadata": {},
   "outputs": [
    {
     "data": {
      "text/plain": [
       "0    NEAR BAY\n",
       "1    NEAR BAY\n",
       "2    NEAR BAY\n",
       "3    NEAR BAY\n",
       "4    NEAR BAY\n",
       "Name: ocean_proximity, dtype: object"
      ]
     },
     "execution_count": 63,
     "metadata": {},
     "output_type": "execute_result"
    }
   ],
   "source": [
    "housing.ocean_proximity.head()"
   ]
  },
  {
   "cell_type": "code",
   "execution_count": 64,
   "metadata": {
    "scrolled": true
   },
   "outputs": [
    {
     "name": "stdout",
     "output_type": "stream",
     "text": [
      "tf.Tensor(\n",
      "[[0. 0. 0. 1. 0.]\n",
      " [0. 0. 0. 1. 0.]\n",
      " [0. 0. 0. 1. 0.]\n",
      " [0. 0. 0. 1. 0.]\n",
      " [0. 0. 0. 1. 0.]], shape=(5, 5), dtype=float32)\n"
     ]
    }
   ],
   "source": [
    "vocab = [\"<1H OCEAN\", \"INLAND\", \"NEAR OCEAN\", \"NEAR BAY\", \"ISLAND\"]\n",
    "ocean_proximity = feature_column.categorical_column_with_vocabulary_list(\n",
    "                    key='ocean_proximity',\n",
    "                    vocabulary_list=vocab)\n",
    "\n",
    "ocean_indictor = feature_column.indicator_column(ocean_proximity)\n",
    "Conver_fn(feature_column=ocean_indictor, data=housing_dict)"
   ]
  },
  {
   "cell_type": "markdown",
   "metadata": {},
   "source": [
    "#### 嵌入列 Embedding columns"
   ]
  },
  {
   "cell_type": "markdown",
   "metadata": {},
   "source": [
    "假设我们有一百万个可能的类别，或者可能有十亿个，而不是只有三个。出于多种原因，随着类别数量的增加，使用指标列来训练神经网络变得不可行。\n",
    "\n",
    "我们可以使用嵌入列来克服这一限制。嵌入列并非将数据表示为很多维度的独热矢量，而是将数据表示为**低维度普通矢量，其中每个单元格可以包含任意数字**，而不仅仅是 0 或 1。通过使每个单元格能够包含更丰富的数字，嵌入列包含的单元格数量远远少于指标列。\n",
    "\n",
    "我们来看一个将指标列和嵌入列进行比较的示例。假设我们的输入样本包含多个不同的字词（取自仅有 81 个字词的有限词汇表）。我们进一步假设数据集在 4 个不同的样本中提供了下列输入字词："
   ]
  },
  {
   "cell_type": "markdown",
   "metadata": {},
   "source": [
    "- “dog”\n",
    "- “spoon”\n",
    "- “scissors”\n",
    "- “guitar”"
   ]
  },
  {
   "cell_type": "markdown",
   "metadata": {},
   "source": [
    "<img src=\"./images/other/13-10.jpg\" width=\"500\">"
   ]
  },
  {
   "cell_type": "markdown",
   "metadata": {},
   "source": [
    "处理样本时，其中一个 `categorical_column_with... `函数会将样本字符串映射到分类数值。然后通过作为`指示列`或`嵌入列`来表示这些分类数值.\n",
    "\n",
    "嵌入矢量中的值如何神奇地得到分配？实际上，分配值在训练期间进行。也就是说，**模型学习了将输入分类数值映射到嵌入矢量值以解决问题的最佳方法**。嵌入列可以增强模型的功能，因为嵌入矢量从训练数据中学习了类别之间的新关系。"
   ]
  },
  {
   "cell_type": "markdown",
   "metadata": {},
   "source": [
    "`dimension嵌入矢量维数`应该是类别数量的 4 次方根。\n",
    "\n",
    "\n",
    "由于本示例中的词汇量为 7，建议维数为 $7^{0.25}≈2$："
   ]
  },
  {
   "cell_type": "markdown",
   "metadata": {},
   "source": [
    "- 嵌入列演示"
   ]
  },
  {
   "cell_type": "markdown",
   "metadata": {},
   "source": [
    "1. Demo数据集"
   ]
  },
  {
   "cell_type": "code",
   "execution_count": 65,
   "metadata": {},
   "outputs": [],
   "source": [
    "# 1.创建分类列\n",
    "point_data = demo_df['point'].unique()\n",
    "# array(['c', 'f', 'c+', 'b+', 'b', 'a', 'd+'])\n",
    "point = feature_column.categorical_column_with_vocabulary_list(\n",
    "            key='point',\n",
    "            vocabulary_list=point_data)"
   ]
  },
  {
   "cell_type": "code",
   "execution_count": 66,
   "metadata": {},
   "outputs": [
    {
     "name": "stdout",
     "output_type": "stream",
     "text": [
      "tf.Tensor(\n",
      "[[1. 0. 0. 0. 0. 0. 0.]\n",
      " [0. 1. 0. 0. 0. 0. 0.]\n",
      " [0. 0. 1. 0. 0. 0. 0.]\n",
      " [0. 0. 0. 1. 0. 0. 0.]\n",
      " [0. 0. 0. 0. 1. 0. 0.]], shape=(5, 7), dtype=float32)\n"
     ]
    }
   ],
   "source": [
    "# 将分类列转换为指示列\n",
    "point_indicator = feature_column.indicator_column(point)\n",
    "# 转换为特征数据\n",
    "Conver_fn(feature_column=point_indicator, data=demo_data)"
   ]
  },
  {
   "cell_type": "code",
   "execution_count": 67,
   "metadata": {},
   "outputs": [
    {
     "name": "stdout",
     "output_type": "stream",
     "text": [
      "tf.Tensor(\n",
      "[[-0.39534152 -0.3781051 ]\n",
      " [-1.1119912   0.56957847]\n",
      " [-0.00292093  0.12198265]\n",
      " [ 0.20670882  0.31640428]\n",
      " [-0.14504611  0.7563394 ]], shape=(5, 2), dtype=float32)\n"
     ]
    }
   ],
   "source": [
    "# 2.将分类列指定为嵌入列\n",
    "point_embedding = feature_column.embedding_column(\n",
    "                    categorical_column=point,\n",
    "                    dimension=2)   # dimension 嵌入向量的维度\n",
    "\n",
    "# 3.转换为特征数据\n",
    "Conver_fn(feature_column=point_embedding, data=demo_data)"
   ]
  },
  {
   "cell_type": "markdown",
   "metadata": {},
   "source": [
    "### 哈希列 Hashed column"
   ]
  },
  {
   "cell_type": "markdown",
   "metadata": {},
   "source": [
    "当类别的数量特别大时，我们不可能为每个词汇或整数设置单独的类别，因为这将会消耗非常大的内存。\n",
    "\n",
    "`categorical_column_with_hash_bucket`使您能够指定类别的数量:无需提供词汇表,模型会计算输入值的 hash 值，然后使用**模运算** 将其置于其中一个 `hash_bucket_size` 类别中"
   ]
  },
  {
   "cell_type": "code",
   "execution_count": 68,
   "metadata": {},
   "outputs": [
    {
     "data": {
      "text/html": [
       "<div>\n",
       "<style scoped>\n",
       "    .dataframe tbody tr th:only-of-type {\n",
       "        vertical-align: middle;\n",
       "    }\n",
       "\n",
       "    .dataframe tbody tr th {\n",
       "        vertical-align: top;\n",
       "    }\n",
       "\n",
       "    .dataframe thead th {\n",
       "        text-align: right;\n",
       "    }\n",
       "</style>\n",
       "<table border=\"1\" class=\"dataframe\">\n",
       "  <thead>\n",
       "    <tr style=\"text-align: right;\">\n",
       "      <th></th>\n",
       "      <th>marks</th>\n",
       "      <th>grade</th>\n",
       "      <th>point</th>\n",
       "    </tr>\n",
       "  </thead>\n",
       "  <tbody>\n",
       "    <tr>\n",
       "      <td>0</td>\n",
       "      <td>55</td>\n",
       "      <td>average</td>\n",
       "      <td>c</td>\n",
       "    </tr>\n",
       "    <tr>\n",
       "      <td>1</td>\n",
       "      <td>21</td>\n",
       "      <td>poor</td>\n",
       "      <td>f</td>\n",
       "    </tr>\n",
       "    <tr>\n",
       "      <td>2</td>\n",
       "      <td>63</td>\n",
       "      <td>average</td>\n",
       "      <td>c+</td>\n",
       "    </tr>\n",
       "    <tr>\n",
       "      <td>3</td>\n",
       "      <td>88</td>\n",
       "      <td>good</td>\n",
       "      <td>b+</td>\n",
       "    </tr>\n",
       "    <tr>\n",
       "      <td>4</td>\n",
       "      <td>74</td>\n",
       "      <td>good</td>\n",
       "      <td>b</td>\n",
       "    </tr>\n",
       "    <tr>\n",
       "      <td>5</td>\n",
       "      <td>54</td>\n",
       "      <td>average</td>\n",
       "      <td>c</td>\n",
       "    </tr>\n",
       "    <tr>\n",
       "      <td>6</td>\n",
       "      <td>95</td>\n",
       "      <td>good</td>\n",
       "      <td>a</td>\n",
       "    </tr>\n",
       "    <tr>\n",
       "      <td>7</td>\n",
       "      <td>41</td>\n",
       "      <td>average</td>\n",
       "      <td>d+</td>\n",
       "    </tr>\n",
       "    <tr>\n",
       "      <td>8</td>\n",
       "      <td>84</td>\n",
       "      <td>good</td>\n",
       "      <td>b+</td>\n",
       "    </tr>\n",
       "    <tr>\n",
       "      <td>9</td>\n",
       "      <td>52</td>\n",
       "      <td>average</td>\n",
       "      <td>c</td>\n",
       "    </tr>\n",
       "  </tbody>\n",
       "</table>\n",
       "</div>"
      ],
      "text/plain": [
       "   marks    grade point\n",
       "0     55  average     c\n",
       "1     21     poor     f\n",
       "2     63  average    c+\n",
       "3     88     good    b+\n",
       "4     74     good     b\n",
       "5     54  average     c\n",
       "6     95     good     a\n",
       "7     41  average    d+\n",
       "8     84     good    b+\n",
       "9     52  average     c"
      ]
     },
     "execution_count": 68,
     "metadata": {},
     "output_type": "execute_result"
    }
   ],
   "source": [
    "demo_df"
   ]
  },
  {
   "cell_type": "code",
   "execution_count": 69,
   "metadata": {},
   "outputs": [],
   "source": [
    "# 创建分类列\n",
    "point_hash = feature_column.categorical_column_with_hash_bucket(\n",
    "                key='point',\n",
    "                hash_bucket_size=4)"
   ]
  },
  {
   "cell_type": "code",
   "execution_count": 70,
   "metadata": {},
   "outputs": [
    {
     "name": "stdout",
     "output_type": "stream",
     "text": [
      "tf.Tensor(\n",
      "[[1. 0. 0. 0.]\n",
      " [1. 0. 0. 0.]\n",
      " [0. 1. 0. 0.]\n",
      " [0. 0. 0. 1.]\n",
      " [0. 0. 1. 0.]], shape=(5, 4), dtype=float32)\n"
     ]
    }
   ],
   "source": [
    "# 将分类列指定为指示列\n",
    "point_indicator = feature_column.indicator_column(point_hash)\n",
    "# 转换为特征数据\n",
    "Conver_fn(feature_column=point_indicator, data=demo_data)"
   ]
  },
  {
   "cell_type": "markdown",
   "metadata": {},
   "source": [
    "存在的问题:不同字符串可能映射到同一个存储桶的冲突.事实证明哈希技术经常非常有用。这是因为哈希类别为模型提供了一些分隔方式。模型可以使用其他特征进一步将厨具与运动用品分隔开来。"
   ]
  },
  {
   "cell_type": "markdown",
   "metadata": {},
   "source": [
    "<img src=\"./images/other/13-13.jpg\" width=\"500\">"
   ]
  },
  {
   "cell_type": "markdown",
   "metadata": {},
   "source": [
    "### 组合列 Crossed column"
   ]
  },
  {
   "cell_type": "markdown",
   "metadata": {},
   "source": [
    "通过将多个特征组合为一个特征，模型可学习每个特征组合的单独权重。\n",
    "\n",
    "假设我们希望模型计算佐治亚州亚特兰大的房地产价格:这个城市的房地产价格在不同位置差异很大.在确定对房地产位置的依赖性方面，将纬度和经度表示为单独的特征用处不大；但是，将纬度和经度组合为一个特征则可精确定位位置。\n",
    "\n",
    "假设我们将亚特兰大表示为一个 100x100 的矩形网格区块，按纬度和经度的特征组合标识全部 10000 个区块。借助这种特征组合，模型可以针对与各个区块相关的房价条件进行训练，这比单独的经纬度信号强得多。"
   ]
  },
  {
   "cell_type": "markdown",
   "metadata": {},
   "source": [
    "<img src=\"./images/other/13-14.jpg\" width=\"500\">"
   ]
  },
  {
   "cell_type": "code",
   "execution_count": 71,
   "metadata": {},
   "outputs": [],
   "source": [
    "data = {'marks': [55,21,63,88,74,54,95,41,84,52],\n",
    "        'grade': ['average','poor','average','good','good','average','good','average','good','average'],\n",
    "        'point': ['c','f','c+',' b+','b','c','a','d+','b+','c']}\n",
    "        \n",
    "# 将数值列进行分桶\n",
    "marks = feature_column.numeric_column(\"marks\")  \n",
    "marks_buckets = feature_column.bucketized_column(\n",
    "                    source_column=marks, \n",
    "                    boundaries=[30,40,50,60,70,80,90])\n",
    " \n",
    "# 创建 类别词汇表\n",
    "grade = feature_column.categorical_column_with_vocabulary_list(\n",
    "    'grade', ['poor', 'average', 'good']\n",
    ")\n",
    "\n",
    "# 创建组合列\n",
    "crossed_feature = feature_column.crossed_column(\n",
    "                    keys=[marks_buckets, grade], \n",
    "                    hash_bucket_size=10)"
   ]
  },
  {
   "cell_type": "markdown",
   "metadata": {},
   "source": [
    "为了避免创建一个完整的巨大输入表，`crossed_column` 通过`hash_bucket_size` 参数来控制组合后的特征的维度。特征列通过对输入元组进行 hash 及 模运算 来为输入指定一个索引。\n",
    "\n",
    "如前面所说，进行“hash”和“模运算”可以限制`categories`的数量，但是可能导致`category`冲突：多个组合特征可能会位于相同的 `hash bucket`中。不过，在实践中特征组合仍能够有效地提升模型的效果。\n",
    "\n",
    "在创建特征组合时，通常**仍应在模型中包含原始（未组合）特征**。独立的纬度和经度特征有助于模型区分组合特征中发生哈希冲突的样本。"
   ]
  },
  {
   "cell_type": "code",
   "execution_count": 72,
   "metadata": {},
   "outputs": [
    {
     "name": "stdout",
     "output_type": "stream",
     "text": [
      "tf.Tensor(\n",
      "[[0. 0. 0. 0. 0. 0. 0. 0. 1. 0.]\n",
      " [0. 0. 0. 0. 1. 0. 0. 0. 0. 0.]\n",
      " [0. 0. 0. 0. 1. 0. 0. 0. 0. 0.]\n",
      " [0. 0. 0. 0. 1. 0. 0. 0. 0. 0.]\n",
      " [1. 0. 0. 0. 0. 0. 0. 0. 0. 0.]], shape=(5, 10), dtype=float32)\n"
     ]
    }
   ],
   "source": [
    "# 将分类列指定为指示列\n",
    "crossed_indicator = feature_column.indicator_column(crossed_feature)\n",
    "# 转换为特征数据\n",
    "Conver_fn(feature_column=crossed_indicator, data=demo_data)"
   ]
  },
  {
   "cell_type": "markdown",
   "metadata": {},
   "source": [
    "## 使用独热向量编码分类特征 Encoding Categorical Features Using One-Hot Vectors"
   ]
  },
  {
   "cell_type": "markdown",
   "metadata": {},
   "source": [
    "使用在第2章中使用的加州住房数据集，因为它包含分类特征`ocean_proximity`和缺少的值."
   ]
  },
  {
   "cell_type": "code",
   "execution_count": 73,
   "metadata": {},
   "outputs": [
    {
     "data": {
      "text/plain": [
       "array(['NEAR BAY', '<1H OCEAN', 'INLAND', 'NEAR OCEAN', 'ISLAND'],\n",
       "      dtype=object)"
      ]
     },
     "execution_count": 73,
     "metadata": {},
     "output_type": "execute_result"
    }
   ],
   "source": [
    "pd.unique(housing['ocean_proximity'])"
   ]
  },
  {
   "cell_type": "markdown",
   "metadata": {},
   "source": [
    "由于类别很少可以使用独热编码,为此需要将每个类别映射到其索引(0~4).这可以使用查找表完成:"
   ]
  },
  {
   "cell_type": "markdown",
   "metadata": {},
   "source": [
    "1. 首先**定义词汇表**,这是所有可能类别的列表.然后创建相应索引的张量."
   ]
  },
  {
   "cell_type": "code",
   "execution_count": 74,
   "metadata": {},
   "outputs": [
    {
     "data": {
      "text/plain": [
       "<tf.Tensor: shape=(5,), dtype=int64, numpy=array([0, 1, 2, 3, 4])>"
      ]
     },
     "execution_count": 74,
     "metadata": {},
     "output_type": "execute_result"
    }
   ],
   "source": [
    "vocab = [\"<1H OCEAN\", \"INLAND\", \"NEAR OCEAN\", \"NEAR BAY\", \"ISLAND\"]\n",
    "indices = tf.range(len(vocab), dtype=tf.int64)\n",
    "indices"
   ]
  },
  {
   "cell_type": "markdown",
   "metadata": {},
   "source": [
    "2. 接下来为查找表**创建一个初始化程序**,将类别列表及其索引传递给它."
   ]
  },
  {
   "cell_type": "code",
   "execution_count": 75,
   "metadata": {},
   "outputs": [],
   "source": [
    "table_init = tf.lookup.KeyValueTensorInitializer(keys=vocab, values=indices)"
   ]
  },
  {
   "cell_type": "markdown",
   "metadata": {},
   "source": [
    "3. **创建查找表**,并为其提供初始化程序并指定了词汇表外`out-of-vocabulary (oov)`桶的数量.如果我们査找词汇表中不存在的类别，则査找表将计算该类别的哈希并将这个未知类別分配给`oov`桶之中的一个。它们的素引从已知类别开始，因此在此示例中，两个`oov`桶的索引为5和6."
   ]
  },
  {
   "cell_type": "code",
   "execution_count": 76,
   "metadata": {},
   "outputs": [
    {
     "data": {
      "text/plain": [
       "<tensorflow.python.ops.lookup_ops.StaticVocabularyTable at 0x7fbf61b6be10>"
      ]
     },
     "execution_count": 76,
     "metadata": {},
     "output_type": "execute_result"
    }
   ],
   "source": [
    "num_oov_buckets = 2\n",
    "table = tf.lookup.StaticVocabularyTable(initializer=table_init,\n",
    "                                        num_oov_buckets=num_oov_buckets)\n",
    "table"
   ]
  },
  {
   "cell_type": "markdown",
   "metadata": {},
   "source": [
    "为什么要使用`oov`桶？如果类别数量很大(例如邮政编码、城市、单词，产品或用户) 且数据集也很大，或者将它们一直在变化，那么得到类别的完整列表可能不是很方便.\n",
    "\n",
    "一种解决方法是基于数据样本(而不是整个训练集)定义词汇表，并为不在数据样本的其他类别添加一些桶。你希望在训练期间找到的类别越多，就应该使用越多的`oov`桶。如果没有足够的`oov`桶，就会发生冲突：不同的类别最终会出现在同一个桶中，因神经网络将无法区分它们(至少不是基于这个特征)"
   ]
  },
  {
   "cell_type": "markdown",
   "metadata": {},
   "source": [
    "4. 使用查找表将一小批分类特征编码为**独热编码**."
   ]
  },
  {
   "cell_type": "code",
   "execution_count": 77,
   "metadata": {},
   "outputs": [
    {
     "data": {
      "text/plain": [
       "<tf.Tensor: shape=(5,), dtype=int64, numpy=array([3, 5, 1, 1, 5])>"
      ]
     },
     "execution_count": 77,
     "metadata": {},
     "output_type": "execute_result"
    }
   ],
   "source": [
    "categories = tf.constant([\"NEAR BAY\", \"DESERT\", \"INLAND\", \"INLAND\", \"DESERT\"])\n",
    "cat_indices = table.lookup(categories)\n",
    "cat_indices"
   ]
  },
  {
   "cell_type": "markdown",
   "metadata": {},
   "source": [
    "其中未知类别`DESERT`被映射到两个`oov`桶之一 (在索引5),而`INLAND`被映射到索引1两次."
   ]
  },
  {
   "cell_type": "markdown",
   "metadata": {},
   "source": [
    " `tf.one_hot()` 对这些素引进行独热编码。注意我们必须告诉该函数索引的总数，该总数等于**词汇表大小加上oov桶的数量**."
   ]
  },
  {
   "cell_type": "code",
   "execution_count": 78,
   "metadata": {},
   "outputs": [
    {
     "data": {
      "text/plain": [
       "<tf.Tensor: shape=(5, 7), dtype=float32, numpy=\n",
       "array([[0., 0., 0., 1., 0., 0., 0.],\n",
       "       [0., 0., 0., 0., 0., 1., 0.],\n",
       "       [0., 1., 0., 0., 0., 0., 0.],\n",
       "       [0., 1., 0., 0., 0., 0., 0.],\n",
       "       [0., 0., 0., 0., 0., 1., 0.]], dtype=float32)>"
      ]
     },
     "execution_count": 78,
     "metadata": {},
     "output_type": "execute_result"
    }
   ],
   "source": [
    "cat_one_hot = tf.one_hot(indices=cat_indices,\n",
    "                         depth=len(vocab)+num_oov_buckets)\n",
    "cat_one_hot"
   ]
  },
  {
   "cell_type": "markdown",
   "metadata": {},
   "source": [
    "这可能不是最佳解决方法。每个独热向量的大小是词汇表长度加上`oov`桶数。当只有几个可能的类別时这很可行,但是**如果词汇表很大,则使用`嵌入embedding`対它们进行编码会更有效**。\n",
    "\n",
    "- 如果类别数少于10,则通常采用独热编码方式.\n",
    "- 如果类别数大于50(通常这种情况需要使用哈希桶),通常最好使用嵌入.\n",
    "- 在10到50个类别中,你可能需要尝试两种方法,然后看看哪种最适合你."
   ]
  },
  {
   "cell_type": "markdown",
   "metadata": {},
   "source": [
    "## 使用嵌入编码类型特征 Encoding Categorical Features Using Embeddings"
   ]
  },
  {
   "cell_type": "markdown",
   "metadata": {},
   "source": [
    "`嵌入Embeddings`是一个可训练的表示类型的紧密矢量.默认,嵌入是随机初始化的.当嵌入表示相似的类时,梯度下降会使相似的嵌入靠的更近,反之则偏的越远.事实上,表征越好,越利于神经网络做出准确的预测."
   ]
  },
  {
   "cell_type": "markdown",
   "metadata": {},
   "source": [
    "<img src=\"./images/other/13-11.png\" width=\"400\">"
   ]
  },
  {
   "cell_type": "markdown",
   "metadata": {},
   "source": [
    "### 手动实现嵌入 implement embeddings manually"
   ]
  },
  {
   "cell_type": "markdown",
   "metadata": {},
   "source": [
    "1. 首先创建一个每个嵌入类别的嵌入矩阵,并随机初始化."
   ]
  },
  {
   "cell_type": "markdown",
   "metadata": {},
   "source": [
    "<img src=\"./images/other/13-12.png\" width=\"500\">"
   ]
  },
  {
   "cell_type": "code",
   "execution_count": 79,
   "metadata": {},
   "outputs": [],
   "source": [
    "initialization()"
   ]
  },
  {
   "cell_type": "code",
   "execution_count": 80,
   "metadata": {},
   "outputs": [
    {
     "data": {
      "text/plain": [
       "<tf.Variable 'Variable:0' shape=(7, 2) dtype=float32, numpy=\n",
       "array([[0.6645621 , 0.44100678],\n",
       "       [0.3528825 , 0.46448255],\n",
       "       [0.03366041, 0.68467236],\n",
       "       [0.74011743, 0.8724445 ],\n",
       "       [0.22632635, 0.22319686],\n",
       "       [0.3103881 , 0.7223358 ],\n",
       "       [0.13318717, 0.5480639 ]], dtype=float32)>"
      ]
     },
     "execution_count": 80,
     "metadata": {},
     "output_type": "execute_result"
    }
   ],
   "source": [
    "vocab = [\"<1H OCEAN\", \"INLAND\", \"NEAR OCEAN\", \"NEAR BAY\", \"ISLAND\"]\n",
    "num_oov_buckets = 2\n",
    "embeedings_dim = 2  # 嵌入维度\n",
    "\n",
    "row = len(vocab) + num_oov_buckets   # 5+2=7\n",
    "column = embeedings_dim\n",
    "input_shape = (row, column)     # 7*2\n",
    "\n",
    "embeddings_init = tf.random.uniform(shape=input_shape)\n",
    "embeddings_matric = tf.Variable(embeddings_init)      # tf.Variable声明训练参数\n",
    "embeddings_matric"
   ]
  },
  {
   "cell_type": "markdown",
   "metadata": {},
   "source": [
    "2. 使用查找表将一小批分类特征编码为**嵌入**."
   ]
  },
  {
   "cell_type": "code",
   "execution_count": 81,
   "metadata": {},
   "outputs": [
    {
     "data": {
      "text/plain": [
       "<tf.Tensor: shape=(5,), dtype=int64, numpy=array([3, 5, 1, 1, 5])>"
      ]
     },
     "execution_count": 81,
     "metadata": {},
     "output_type": "execute_result"
    }
   ],
   "source": [
    "categories = tf.constant([\"NEAR BAY\", \"DESERT\", \"INLAND\", \"INLAND\", \"DESERT\"])\n",
    "cat_indices = table.lookup(keys=categories)\n",
    "cat_indices"
   ]
  },
  {
   "cell_type": "code",
   "execution_count": 82,
   "metadata": {},
   "outputs": [
    {
     "data": {
      "text/plain": [
       "<tf.Tensor: shape=(5, 2), dtype=float32, numpy=\n",
       "array([[0.74011743, 0.8724445 ],\n",
       "       [0.3103881 , 0.7223358 ],\n",
       "       [0.3528825 , 0.46448255],\n",
       "       [0.3528825 , 0.46448255],\n",
       "       [0.3103881 , 0.7223358 ]], dtype=float32)>"
      ]
     },
     "execution_count": 82,
     "metadata": {},
     "output_type": "execute_result"
    }
   ],
   "source": [
    "# 根据给定的索引在嵌入矩阵中查找行\n",
    "tf.nn.embedding_lookup(params=embeddings_matric, ids=cat_indices)"
   ]
  },
  {
   "cell_type": "markdown",
   "metadata": {},
   "source": [
    "### 使用Keras提供的层"
   ]
  },
  {
   "cell_type": "code",
   "execution_count": 83,
   "metadata": {},
   "outputs": [
    {
     "data": {
      "text/plain": [
       "<tf.Tensor: shape=(5, 2), dtype=float32, numpy=\n",
       "array([[ 0.04467482,  0.02493341],\n",
       "       [-0.02383961,  0.01973433],\n",
       "       [ 0.04309944, -0.0247813 ],\n",
       "       [ 0.04309944, -0.0247813 ],\n",
       "       [-0.02383961,  0.01973433]], dtype=float32)>"
      ]
     },
     "execution_count": 83,
     "metadata": {},
     "output_type": "execute_result"
    }
   ],
   "source": [
    "row = len(vocab) + num_oov_buckets\n",
    "embedding = keras.layers.Embedding(input_dim=row,\n",
    "                                   output_dim=embeedings_dim)\n",
    "embedding(cat_indices)"
   ]
  },
  {
   "cell_type": "markdown",
   "metadata": {},
   "source": [
    "接下来我们将这些内容放在一起,创建一个`kreas`模型,用于处理类型特征和数值特征,并且学习每个类型的嵌入(包括词汇表外类型)."
   ]
  },
  {
   "cell_type": "code",
   "execution_count": 84,
   "metadata": {},
   "outputs": [],
   "source": [
    "initialization()"
   ]
  },
  {
   "cell_type": "code",
   "execution_count": 85,
   "metadata": {},
   "outputs": [],
   "source": [
    "# 1. 模型输入\n",
    "regular_inputs = keras.layers.Input(shape=[8])  # 8个数值特征\n",
    "categories = keras.layers.Input(shape=[], dtype=tf.string)  # 1个类别特征"
   ]
  },
  {
   "cell_type": "code",
   "execution_count": 86,
   "metadata": {},
   "outputs": [],
   "source": [
    "# 2. 处理类别特征 使用Lambda查找索引再查找嵌入\n",
    "cat_indices = keras.layers.Lambda(lambda cats:table.lookup(cats))(categories)\n",
    "cat_embedding = keras.layers.Embedding(input_dim=row,\n",
    "                                       output_dim=embeedings_dim)(cat_indices)"
   ]
  },
  {
   "cell_type": "code",
   "execution_count": 87,
   "metadata": {},
   "outputs": [],
   "source": [
    "# 3. 将数值特征和处理后的类别特征连接\n",
    "encoded_inputs = keras.layers.concatenate([regular_inputs, cat_embedding])"
   ]
  },
  {
   "cell_type": "code",
   "execution_count": 88,
   "metadata": {},
   "outputs": [],
   "source": [
    "# 4. 模型输出\n",
    "output = keras.layers.Dense(1)(encoded_inputs)\n",
    "model = keras.models.Model(inputs=[regular_inputs, categories],\n",
    "                           outputs=[output])"
   ]
  },
  {
   "cell_type": "code",
   "execution_count": 89,
   "metadata": {},
   "outputs": [
    {
     "data": {
      "image/png": "[encoded data removed]",
      "text/plain": [
       "<IPython.core.display.Image object>"
      ]
     },
     "execution_count": 89,
     "metadata": {},
     "output_type": "execute_result"
    }
   ],
   "source": [
    "keras.utils.plot_model(model, \"./models/plot_model/embedding_model.png\", show_shapes=True)"
   ]
  },
  {
   "cell_type": "markdown",
   "metadata": {},
   "source": [
    "使用独热编码再加`Dense层`等价于`嵌入层`,但`嵌入层`计算更少,`Dense层`的权重矩阵扮演的的是嵌入矩阵的角色."
   ]
  },
  {
   "cell_type": "markdown",
   "metadata": {},
   "source": [
    "## Keras 预处理层 Keras Preprocessing Layers"
   ]
  },
  {
   "cell_type": "markdown",
   "metadata": {},
   "source": [
    "对于`Feature Columns API`:\n",
    "- `Normalization`用来做特征标准化\n",
    "- `TextVectorization`层用于将 文本中的词 编码为 词典的索引.\n",
    "    - 当`TextVectorization`准备好之后，可以调用它的`adapt()`方法，从数据样本提取词表（会自动创建查找表）。然后加入到模型中，就可以执行索引查找了（替换前面代码的`Lambda`层）。\n",
    "    - 可以用于输出词频向量，而不是词索引。\n",
    "        - 例如，如果词典包括三个词，比如[\"and\", \"basketball\", \"more\"]，则\"more and more\"会映射为[1, 0, 2]：\"and\"出现了一次，\"basketball\"没有出现，\"more\"出现了两次。这种词表征称为`词袋bag of words`，因为它完全失去了词的顺序。\n",
    "        \n",
    "        - 常见词，比如\"and\"，会在文本中有更高的值，尽管没什么实际意义。因此应该用减少常用单词重要性的方式对单词计数进行归一化.\n",
    "        \n",
    "        - 一个常见的方法是将 词频除以出现该词的文档数的对数。这种方法称为`词频-逆文档频率TF-IDF`。\n",
    "            - 例如，假设\"and\"、\"basketball\"、\"more\"分别出现在了200、10、100个文档中：最终的矢量应该是[$\\frac{1}{log(200)}$, $\\frac{0}{log(100)}$, $\\frac{2}{log(100)}$]，大约是[0.19, 0., 0.43]。\n",
    "- `layers.Discretization`层，它能将连续数据切成不同的离散块，将每个块编码为独热矢量。\n",
    "    - 例如，可以用它将价格分成是三类，低、中、高，编码为[1, 0, 0]、[0, 1, 0]、[0, 0, 1].\n",
    "    - `Discretization`层是不可微的，只能在模型一开始使用。事实上，模型的预处理层会在训练时冻结，因此预处理层的参数不会被梯度下降影响.这还意味着，如果想让预处理层可训练的话，不能在自定义预处理层上直接使用嵌入层，而是应该像前面的例子那样将其单独添加到你的模型中.\n",
    "- `PreprocessingStage`类将多个预处理层链接起来.\n"
   ]
  },
  {
   "cell_type": "code",
   "execution_count": 90,
   "metadata": {
    "scrolled": true
   },
   "outputs": [
    {
     "data": {
      "text/html": [
       "<div>\n",
       "<style scoped>\n",
       "    .dataframe tbody tr th:only-of-type {\n",
       "        vertical-align: middle;\n",
       "    }\n",
       "\n",
       "    .dataframe tbody tr th {\n",
       "        vertical-align: top;\n",
       "    }\n",
       "\n",
       "    .dataframe thead th {\n",
       "        text-align: right;\n",
       "    }\n",
       "</style>\n",
       "<table border=\"1\" class=\"dataframe\">\n",
       "  <thead>\n",
       "    <tr style=\"text-align: right;\">\n",
       "      <th></th>\n",
       "      <th>longitude</th>\n",
       "      <th>latitude</th>\n",
       "      <th>housing_median_age</th>\n",
       "      <th>total_rooms</th>\n",
       "      <th>total_bedrooms</th>\n",
       "      <th>population</th>\n",
       "      <th>households</th>\n",
       "      <th>median_income</th>\n",
       "      <th>median_house_value</th>\n",
       "      <th>ocean_proximity</th>\n",
       "    </tr>\n",
       "  </thead>\n",
       "  <tbody>\n",
       "    <tr>\n",
       "      <td>0</td>\n",
       "      <td>-122.23</td>\n",
       "      <td>37.88</td>\n",
       "      <td>41.0</td>\n",
       "      <td>880.0</td>\n",
       "      <td>129.0</td>\n",
       "      <td>322.0</td>\n",
       "      <td>126.0</td>\n",
       "      <td>8.3252</td>\n",
       "      <td>452600.0</td>\n",
       "      <td>NEAR BAY</td>\n",
       "    </tr>\n",
       "    <tr>\n",
       "      <td>1</td>\n",
       "      <td>-122.22</td>\n",
       "      <td>37.86</td>\n",
       "      <td>21.0</td>\n",
       "      <td>7099.0</td>\n",
       "      <td>1106.0</td>\n",
       "      <td>2401.0</td>\n",
       "      <td>1138.0</td>\n",
       "      <td>8.3014</td>\n",
       "      <td>358500.0</td>\n",
       "      <td>NEAR BAY</td>\n",
       "    </tr>\n",
       "    <tr>\n",
       "      <td>2</td>\n",
       "      <td>-122.24</td>\n",
       "      <td>37.85</td>\n",
       "      <td>52.0</td>\n",
       "      <td>1467.0</td>\n",
       "      <td>190.0</td>\n",
       "      <td>496.0</td>\n",
       "      <td>177.0</td>\n",
       "      <td>7.2574</td>\n",
       "      <td>352100.0</td>\n",
       "      <td>NEAR BAY</td>\n",
       "    </tr>\n",
       "    <tr>\n",
       "      <td>3</td>\n",
       "      <td>-122.25</td>\n",
       "      <td>37.85</td>\n",
       "      <td>52.0</td>\n",
       "      <td>1274.0</td>\n",
       "      <td>235.0</td>\n",
       "      <td>558.0</td>\n",
       "      <td>219.0</td>\n",
       "      <td>5.6431</td>\n",
       "      <td>341300.0</td>\n",
       "      <td>NEAR BAY</td>\n",
       "    </tr>\n",
       "    <tr>\n",
       "      <td>4</td>\n",
       "      <td>-122.25</td>\n",
       "      <td>37.85</td>\n",
       "      <td>52.0</td>\n",
       "      <td>1627.0</td>\n",
       "      <td>280.0</td>\n",
       "      <td>565.0</td>\n",
       "      <td>259.0</td>\n",
       "      <td>3.8462</td>\n",
       "      <td>342200.0</td>\n",
       "      <td>NEAR BAY</td>\n",
       "    </tr>\n",
       "  </tbody>\n",
       "</table>\n",
       "</div>"
      ],
      "text/plain": [
       "   longitude  latitude  housing_median_age  total_rooms  total_bedrooms  \\\n",
       "0    -122.23     37.88                41.0        880.0           129.0   \n",
       "1    -122.22     37.86                21.0       7099.0          1106.0   \n",
       "2    -122.24     37.85                52.0       1467.0           190.0   \n",
       "3    -122.25     37.85                52.0       1274.0           235.0   \n",
       "4    -122.25     37.85                52.0       1627.0           280.0   \n",
       "\n",
       "   population  households  median_income  median_house_value ocean_proximity  \n",
       "0       322.0       126.0         8.3252            452600.0        NEAR BAY  \n",
       "1      2401.0      1138.0         8.3014            358500.0        NEAR BAY  \n",
       "2       496.0       177.0         7.2574            352100.0        NEAR BAY  \n",
       "3       558.0       219.0         5.6431            341300.0        NEAR BAY  \n",
       "4       565.0       259.0         3.8462            342200.0        NEAR BAY  "
      ]
     },
     "execution_count": 90,
     "metadata": {},
     "output_type": "execute_result"
    }
   ],
   "source": [
    "housing.head()"
   ]
  },
  {
   "cell_type": "markdown",
   "metadata": {},
   "source": [
    "1. `housing_median_age`指定为`数值列` 并且指定`normalizer_fn `.进一步指定为`分桶列`"
   ]
  },
  {
   "cell_type": "code",
   "execution_count": 91,
   "metadata": {},
   "outputs": [],
   "source": [
    "age_mean = X_mean[1]   \n",
    "age_stds = X_std[1]\n",
    "housing_median_age = feature_column.numeric_column(\n",
    "                        key=\"housing_median_age\",\n",
    "                        normalizer_fn=lambda x:(x-age_mean)/age_stds)\n",
    "bucketized_age = feature_column.bucketized_column(\n",
    "                source_column=housing_median_age,\n",
    "                boundaries=[-1., -0.5, 0., 0.5, 1.])"
   ]
  },
  {
   "cell_type": "markdown",
   "metadata": {},
   "source": [
    "2. `median_income`指定为`分桶列`"
   ]
  },
  {
   "cell_type": "code",
   "execution_count": 92,
   "metadata": {},
   "outputs": [],
   "source": [
    "median_income = feature_column.numeric_column(\"median_income\")\n",
    "median_income_buckets = feature_column.bucketized_column(\n",
    "                            source_column=median_income,\n",
    "                            boundaries=[1.5, 3., 4.5, 6.])"
   ]
  },
  {
   "cell_type": "markdown",
   "metadata": {},
   "source": [
    "3. `ocean_proximity`指定为`分类列-类别词汇表`"
   ]
  },
  {
   "cell_type": "code",
   "execution_count": 93,
   "metadata": {},
   "outputs": [],
   "source": [
    "vocab = [\"<1H OCEAN\", \"INLAND\", \"NEAR OCEAN\", \"NEAR BAY\", \"ISLAND\"]\n",
    "ocean_proximity = feature_column.categorical_column_with_vocabulary_list(\n",
    "                    key='ocean_proximity',\n",
    "                    vocabulary_list=vocab)"
   ]
  },
  {
   "cell_type": "markdown",
   "metadata": {},
   "source": [
    "4. `city`指定为`哈希列` (仅为示例)"
   ]
  },
  {
   "cell_type": "code",
   "execution_count": 94,
   "metadata": {},
   "outputs": [],
   "source": [
    "city = feature_column.categorical_column_with_hash_bucket(\n",
    "            key=\"city\",\n",
    "            hash_bucket_size=1000)"
   ]
  },
  {
   "cell_type": "markdown",
   "metadata": {},
   "source": [
    "5. `bucketized_age` 和`ocean_proximity`指定为`组合列`"
   ]
  },
  {
   "cell_type": "code",
   "execution_count": 95,
   "metadata": {},
   "outputs": [],
   "source": [
    "age_and_ocean_crossed = feature_column.crossed_column(\n",
    "                            keys=[bucketized_age, ocean_proximity],\n",
    "                            hash_bucket_size=100)"
   ]
  },
  {
   "cell_type": "markdown",
   "metadata": {},
   "source": [
    "6. `longitude`和`latitude`指定为`组合列`"
   ]
  },
  {
   "cell_type": "code",
   "execution_count": 96,
   "metadata": {},
   "outputs": [],
   "source": [
    "latitude = feature_column.numeric_column('latitude')\n",
    "longitude = feature_column.numeric_column('longitude')\n",
    "\n",
    "latitude_bucket = feature_column.bucketized_column(\n",
    "                    source_column=latitude,\n",
    "                    boundaries=list(np.linspace(32., 42., 20-1)))\n",
    "longitude_bucket = feature_column.bucketized_column(\n",
    "                    source_column=longitude,\n",
    "                    boundaries=list(np.linspace(-125., -114., 20 - 1)))\n",
    "\n",
    "location = feature_column.crossed_column(\n",
    "                keys=[latitude_bucket, longitude_bucket],\n",
    "                hash_bucket_size=1000)"
   ]
  },
  {
   "cell_type": "markdown",
   "metadata": {},
   "source": [
    "7. `ocean_proximity`进一步指定为`指示列`/`嵌入列`"
   ]
  },
  {
   "cell_type": "code",
   "execution_count": 97,
   "metadata": {},
   "outputs": [],
   "source": [
    "ocean_indictor = feature_column.indicator_column(ocean_proximity)\n",
    "\n",
    "ocean_embedding = feature_column.embedding_column(\n",
    "                    categorical_column=ocean_indictor,\n",
    "                    dimension=2)   "
   ]
  },
  {
   "cell_type": "markdown",
   "metadata": {},
   "source": [
    "### 使用特征列进行解析 Using Feature Columns for Parsing"
   ]
  },
  {
   "cell_type": "markdown",
   "metadata": {},
   "source": [
    "> 后续内容 等待补充!"
   ]
  },
  {
   "cell_type": "markdown",
   "metadata": {},
   "source": [
    "## TF Transform"
   ]
  },
  {
   "cell_type": "markdown",
   "metadata": {},
   "source": [
    "预处理非常消耗算力，训练前做预处理相对于实时处理，可以极大的提高速度：数据在训练前，每个实例就处理一次，而不是在训练中每个实例在每个周期就处理一次。\n",
    "\n",
    "前面提到过，如果数据集小到可以存入内存，可以使用`cache()`方法。但如果太大，可以使用`Apache Beam`或`Spark`。它们可以在大数据上做高效的数据预处理，还可以分布进行，使用它们就能在训练前处理所有训练数据了。\n",
    "\n",
    "存在的问题：一旦模型训练好了，假如想部署到移动app上，还是需要写一些预处理数据的代码。\n",
    "\n",
    "解决办法:\n",
    "- 在部署到app或浏览器之前，给训练好的模型加上额外的预处理层，来做实时的预处理.\n",
    "- 如果只需定义一次预处理操作呢？这就是`TF Transform`要做的。`TF Transform`是`TensorFlow Extended (TFX)`的一部分，这是一个端到端的TensorFlow模型生产化平台。通过`TF Transform`函数来做缩放、分桶等操作，一次性定义预处理函数。"
   ]
  },
  {
   "cell_type": "markdown",
   "metadata": {},
   "source": [
    "`TF Transform`可以使用任意需要的`TensorFlow`运算。如果只有两个特征，预处理函数可能如下："
   ]
  },
  {
   "cell_type": "code",
   "execution_count": 98,
   "metadata": {},
   "outputs": [],
   "source": [
    "# import tensorflow_transform as tft\n",
    "\n",
    "# def preprocess(inputs):  # inputs = 输入特征批次\n",
    "#     median_age = inputs[\"housing_median_age\"]\n",
    "#     ocean_proximity = inputs[\"ocean_proximity\"]\n",
    "#     standardized_age = tft.scale_to_z_score(median_age)\n",
    "#     ocean_proximity_id = tft.compute_and_apply_vocabulary(ocean_proximity)\n",
    "#     return {\n",
    "#         \"standardized_median_age\": standardized_age,\n",
    "#         \"ocean_proximity_id\": ocean_proximity_id\n",
    "#     }"
   ]
  },
  {
   "cell_type": "markdown",
   "metadata": {},
   "source": [
    "然后，`TF Transform`可以使用`Apache Beam`在整个训练集上应用这个`preprocess()`。\n",
    "\n",
    "在使用过程中，还会计算整个训练集上的必要统计数据,计算这些数据的组件称为`分析器analyzers`。\n",
    "\n",
    "更重要的，`TF Transform`还会生成一个等价的`TensorFlow`函数，可以放入部署的模型中。这个TF函数包括一些常量，对应于Apache Beam的统计值（平均值、标准差和词典）。\n",
    "\n",
    "有了`Data API`、`TFRecord`，`Keras预处理层`和`TF Transform`，可以搭建高度可扩展的输入流水线来进行训练，并且在生产环境中的快速而编写的数据预处理中收益。"
   ]
  },
  {
   "cell_type": "markdown",
   "metadata": {},
   "source": [
    "# TensorFlow 数据集项目The TensorFlow Datasets (TFDS) Project"
   ]
  },
  {
   "cell_type": "markdown",
   "metadata": {},
   "source": [
    "从`TensorFlow Datasets`项目，可以非常方便的下载一些常见的数据集，从小数据集，比如`MNIST`或`Fashion MNIST`，到大数据集，比如ImageNet（需要大硬盘）。包括了图片数据集、文本数据集（包括翻译数据集）、和音频视频数据集。"
   ]
  },
  {
   "cell_type": "code",
   "execution_count": 99,
   "metadata": {},
   "outputs": [],
   "source": [
    "import tensorflow_datasets as tfds\n",
    "\n",
    "datasets = tfds.load(name=\"mnist\")\n",
    "mnist_train, mnist_test = datasets[\"train\"], datasets[\"test\"]"
   ]
  },
  {
   "cell_type": "code",
   "execution_count": 100,
   "metadata": {},
   "outputs": [],
   "source": [
    "import matplotlib.pyplot as plt\n",
    "plt.figure(figsize=(6,3))\n",
    "mnist_train = mnist_train.repeat(5).batch(32).prefetch(1)\n",
    "for item in mnist_train:\n",
    "    images = item[\"image\"]\n",
    "    labels = item[\"label\"]\n",
    "    for index in range(5):\n",
    "        plt.subplot(1, 5, index + 1)\n",
    "        image = images[index, ..., 0]\n",
    "        label = labels[index].numpy()\n",
    "        plt.imshow(image, cmap=\"binary\")\n",
    "        plt.title(label)\n",
    "        plt.axis(\"off\")\n",
    "    break # just showing part of the first batch"
   ]
  },
  {
   "cell_type": "code",
   "execution_count": 101,
   "metadata": {},
   "outputs": [
    {
     "name": "stdout",
     "output_type": "stream",
     "text": [
      "(32, 28, 28, 1)\n",
      "[4 1 0 7 8 1 2 7 1 6 6 4 7 7 3 3 7 9 9 1 0 6 6 9 9 4 8 9 4 7 3 3]\n"
     ]
    }
   ],
   "source": [
    "datasets = tfds.load(name=\"mnist\")\n",
    "mnist_train, mnist_test = datasets[\"train\"], datasets[\"test\"]\n",
    "mnist_train = mnist_train.repeat(5).batch(32)\n",
    "mnist_train = mnist_train.map(lambda items: (items[\"image\"], items[\"label\"]))\n",
    "mnist_train = mnist_train.prefetch(1)\n",
    "for images, labels in mnist_train.take(1):\n",
    "    print(images.shape)\n",
    "    print(labels.numpy())"
   ]
  },
  {
   "cell_type": "code",
   "execution_count": 102,
   "metadata": {},
   "outputs": [
    {
     "name": "stdout",
     "output_type": "stream",
     "text": [
      "Epoch 1/5\n",
      "1875/1875 [==============================] - 2s 749us/step - loss: 31.8386 - accuracy: 0.8414\n",
      "Epoch 2/5\n",
      "1875/1875 [==============================] - 1s 499us/step - loss: 25.8769 - accuracy: 0.8686\n",
      "Epoch 3/5\n",
      "1875/1875 [==============================] - 1s 522us/step - loss: 24.9838 - accuracy: 0.8728\n",
      "Epoch 4/5\n",
      "1875/1875 [==============================] - 1s 499us/step - loss: 24.4950 - accuracy: 0.8767\n",
      "Epoch 5/5\n",
      "1875/1875 [==============================] - 1s 506us/step - loss: 23.8529 - accuracy: 0.8778\n"
     ]
    },
    {
     "data": {
      "text/plain": [
       "<tensorflow.python.keras.callbacks.History at 0x7fbf65772050>"
      ]
     },
     "execution_count": 102,
     "metadata": {},
     "output_type": "execute_result"
    }
   ],
   "source": [
    "datasets = tfds.load(name=\"mnist\", batch_size=32, as_supervised=True)\n",
    "mnist_train = datasets[\"train\"].repeat().prefetch(1)\n",
    "model = keras.models.Sequential([\n",
    "    keras.layers.Flatten(input_shape=[28, 28, 1]),\n",
    "    keras.layers.Lambda(lambda images: tf.cast(images, tf.float32)),\n",
    "    keras.layers.Dense(10, activation=\"softmax\")])\n",
    "model.compile(loss=\"sparse_categorical_crossentropy\",\n",
    "              optimizer=keras.optimizers.SGD(learning_rate=1e-3),\n",
    "              metrics=[\"accuracy\"])\n",
    "model.fit(mnist_train, steps_per_epoch=60000 // 32, epochs=5)"
   ]
  },
  {
   "cell_type": "markdown",
   "metadata": {},
   "source": [
    "# TensorFlow Hub"
   ]
  },
  {
   "cell_type": "markdown",
   "metadata": {},
   "source": [
    "`TensorFlow Hub` 是用于存储可重用机器学习资产的开放仓库和库.`hub.tensorflow.google.cn` 仓库中提供了许多预训练模型：文本嵌入向量、图像分类模型、TF.js/TFLite 模型等。该仓库向社区贡献者开放。\n",
    "\n",
    "借助 `tensorflow_hub` 库，您可以下载并以最少的代码量在 `TensorFlow `程序中重用这些模型。"
   ]
  },
  {
   "cell_type": "code",
   "execution_count": 103,
   "metadata": {},
   "outputs": [],
   "source": [
    "initialization()"
   ]
  },
  {
   "cell_type": "code",
   "execution_count": 104,
   "metadata": {},
   "outputs": [
    {
     "name": "stdout",
     "output_type": "stream",
     "text": [
      "Model: \"sequential\"\n",
      "_________________________________________________________________\n",
      "Layer (type)                 Output Shape              Param #   \n",
      "=================================================================\n",
      "keras_layer (KerasLayer)     (None, 50)                48190600  \n",
      "_________________________________________________________________\n",
      "dense (Dense)                (None, 16)                816       \n",
      "_________________________________________________________________\n",
      "dense_1 (Dense)              (None, 1)                 17        \n",
      "=================================================================\n",
      "Total params: 48,191,433\n",
      "Trainable params: 833\n",
      "Non-trainable params: 48,190,600\n",
      "_________________________________________________________________\n"
     ]
    }
   ],
   "source": [
    "import tensorflow_hub as hub\n",
    "\n",
    "hub_layer = hub.KerasLayer(\"https://tfhub.dev/google/nnlm-en-dim50/2\",\n",
    "                           output_shape=[50], input_shape=[], dtype=tf.string)\n",
    "\n",
    "model = keras.Sequential()\n",
    "model.add(hub_layer)\n",
    "model.add(keras.layers.Dense(16, activation='relu'))\n",
    "model.add(keras.layers.Dense(1, activation='sigmoid'))\n",
    "\n",
    "model.summary()"
   ]
  },
  {
   "cell_type": "code",
   "execution_count": 105,
   "metadata": {},
   "outputs": [],
   "source": [
    "sentences = tf.constant([\"It was a great movie\", \"The actors were amazing\"])\n",
    "embeddings = hub_layer(sentences)"
   ]
  },
  {
   "cell_type": "code",
   "execution_count": 106,
   "metadata": {},
   "outputs": [
    {
     "data": {
      "text/plain": [
       "<tf.Tensor: shape=(2, 50), dtype=float32, numpy=\n",
       "array([[ 7.45939985e-02,  2.76720114e-02,  9.38646123e-02,\n",
       "         1.25124469e-01,  5.40293928e-04, -1.09435350e-01,\n",
       "         1.34755149e-01, -9.57818255e-02, -1.85177118e-01,\n",
       "        -1.69703495e-02,  1.75612606e-02, -9.06603858e-02,\n",
       "         1.12110220e-01,  1.04646273e-01,  3.87700424e-02,\n",
       "        -7.71859884e-02, -3.12189370e-01,  6.99466765e-02,\n",
       "        -4.88970093e-02, -2.99049795e-01,  1.31183028e-01,\n",
       "        -2.12630898e-01,  6.96169436e-02,  1.63592950e-01,\n",
       "         1.05169769e-02,  7.79720694e-02, -2.55230188e-01,\n",
       "        -1.80790052e-01,  2.93739915e-01,  1.62875261e-02,\n",
       "        -2.80566931e-01,  1.60284728e-01,  9.87277832e-03,\n",
       "         8.44555616e-04,  8.39456245e-02,  3.24002892e-01,\n",
       "         1.53253034e-01, -3.01048346e-02,  8.94618109e-02,\n",
       "        -2.39153411e-02, -1.50188789e-01, -1.81733668e-02,\n",
       "        -1.20483577e-01,  1.32937476e-01, -3.35325629e-01,\n",
       "        -1.46504581e-01, -1.25251599e-02, -1.64428815e-01,\n",
       "        -7.00765476e-02,  3.60923223e-02],\n",
       "       [-1.56998575e-01,  4.24599349e-02, -5.57703003e-02,\n",
       "        -8.08446854e-03,  1.23733155e-01,  3.89427543e-02,\n",
       "        -4.37901802e-02, -1.86987907e-01, -2.29341656e-01,\n",
       "        -1.27766818e-01,  3.83025259e-02, -1.07057482e-01,\n",
       "        -6.11584112e-02,  2.49654502e-01, -1.39712945e-01,\n",
       "        -3.91289443e-02, -1.35873526e-01, -3.58613044e-01,\n",
       "         2.53462754e-02, -1.58370987e-01, -1.38350084e-01,\n",
       "        -3.90771806e-01, -6.63642734e-02, -3.24838236e-02,\n",
       "        -2.20453963e-02, -1.68282315e-01, -7.40613639e-02,\n",
       "        -2.49074101e-02,  2.46460736e-01,  9.87201929e-05,\n",
       "        -1.85390845e-01, -4.92824614e-02,  1.09015472e-01,\n",
       "        -9.54203904e-02, -1.60352528e-01, -2.59811729e-02,\n",
       "         1.13778859e-01, -2.09578887e-01,  2.18261331e-01,\n",
       "        -3.11211571e-02, -6.12562597e-02, -8.66057724e-02,\n",
       "        -1.10762455e-01, -5.73977083e-03, -1.08923554e-01,\n",
       "        -1.72919363e-01,  1.00515485e-01, -5.64153939e-02,\n",
       "        -4.97694984e-02, -1.07776590e-01]], dtype=float32)>"
      ]
     },
     "execution_count": 106,
     "metadata": {},
     "output_type": "execute_result"
    }
   ],
   "source": [
    "embeddings"
   ]
  },
  {
   "cell_type": "markdown",
   "metadata": {},
   "source": [
    "> Apotosome 12/13/21"
   ]
  }
 ],
 "metadata": {
  "hide_input": false,
  "kernelspec": {
   "display_name": "Python 3",
   "language": "python",
   "name": "python3"
  },
  "language_info": {
   "codemirror_mode": {
    "name": "ipython",
    "version": 3
   },
   "file_extension": ".py",
   "mimetype": "text/x-python",
   "name": "python",
   "nbconvert_exporter": "python",
   "pygments_lexer": "ipython3",
   "version": "3.7.4"
  },
  "toc": {
   "base_numbering": 1,
   "nav_menu": {},
   "number_sections": true,
   "sideBar": true,
   "skip_h1_title": false,
   "title_cell": "Table of Contents",
   "title_sidebar": "Contents",
   "toc_cell": false,
   "toc_position": {
    "height": "calc(100% - 180px)",
    "left": "10px",
    "top": "150px",
    "width": "225px"
   },
   "toc_section_display": true,
   "toc_window_display": true
  }
 },
 "nbformat": 4,
 "nbformat_minor": 2
}
