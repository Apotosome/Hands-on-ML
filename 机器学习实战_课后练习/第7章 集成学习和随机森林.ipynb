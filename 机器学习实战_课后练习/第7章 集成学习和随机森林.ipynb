{
 "cells": [
  {
   "cell_type": "markdown",
   "metadata": {},
   "source": [
    "# 投票分类器 Voting Classifiers"
   ]
  },
  {
   "cell_type": "markdown",
   "metadata": {},
   "source": [
    "要创建出一个更好的分类器最简单的办法就是聚合每一个分类器的预测，然后将得票数最多的结果，作为预测类别。这种大多数投票分类器被称为`硬投票分类器`"
   ]
  },
  {
   "cell_type": "markdown",
   "metadata": {},
   "source": [
    "<img src=\"./images/other/7-1.png\" width=\"400\">"
   ]
  },
  {
   "cell_type": "markdown",
   "metadata": {},
   "source": [
    "<img src=\"./images/other/7-2.png\" width=\"400\">"
   ]
  },
  {
   "cell_type": "markdown",
   "metadata": {},
   "source": [
    "这个投票分类器的准确率通常比集成中最好分类器还要高一些。事实上，即使每个分类器都是弱学习器，通过集成，依旧可以实现一个强学习器，只要有足够大数量并且足够多种类的弱学习器即可。"
   ]
  },
  {
   "cell_type": "markdown",
   "metadata": {},
   "source": [
    "    1. 以卫星数据集为例，创建并训练一个硬投票分类器"
   ]
  },
  {
   "cell_type": "code",
   "execution_count": 1,
   "metadata": {},
   "outputs": [],
   "source": [
    "import numpy as np\n",
    "import pandas as pd \n",
    "import matplotlib.pyplot as plt"
   ]
  },
  {
   "cell_type": "code",
   "execution_count": 2,
   "metadata": {},
   "outputs": [],
   "source": [
    "from sklearn.datasets import make_moons\n",
    "from sklearn.model_selection import train_test_split"
   ]
  },
  {
   "cell_type": "code",
   "execution_count": 3,
   "metadata": {},
   "outputs": [],
   "source": [
    "X, y = make_moons(n_samples=500, noise=0.3, random_state=42)\n",
    "X_train, X_test, y_train, y_test = train_test_split(X, y, random_state=41)"
   ]
  },
  {
   "cell_type": "code",
   "execution_count": 4,
   "metadata": {},
   "outputs": [
    {
     "data": {
      "text/plain": [
       "((375, 2), (125, 2))"
      ]
     },
     "execution_count": 4,
     "metadata": {},
     "output_type": "execute_result"
    }
   ],
   "source": [
    "X_train.shape, X_test.shape"
   ]
  },
  {
   "cell_type": "markdown",
   "metadata": {},
   "source": [
    "- `Scikit-Learn`的`VotingClassifier()`创建投票分类器"
   ]
  },
  {
   "cell_type": "code",
   "execution_count": 5,
   "metadata": {},
   "outputs": [],
   "source": [
    "from sklearn.ensemble import VotingClassifier"
   ]
  },
  {
   "cell_type": "code",
   "execution_count": 6,
   "metadata": {},
   "outputs": [],
   "source": [
    "from sklearn.ensemble import RandomForestClassifier\n",
    "from sklearn.linear_model import LogisticRegression\n",
    "from sklearn.svm import SVC"
   ]
  },
  {
   "cell_type": "code",
   "execution_count": 7,
   "metadata": {},
   "outputs": [],
   "source": [
    "# 弱分类器\n",
    "rf_model = RandomForestClassifier(n_estimators=100, random_state=42)\n",
    "log_model = LogisticRegression(solver='lbfgs', random_state=42)\n",
    "svm_model = SVC(gamma=\"scale\", random_state=42)"
   ]
  },
  {
   "cell_type": "code",
   "execution_count": 8,
   "metadata": {},
   "outputs": [],
   "source": [
    "# 硬投票分类器\n",
    "hard_voting_model = VotingClassifier(\n",
    "                estimators=[('RandomForest', rf_model), ('LogisticRegression', log_model), ('SVC', svm_model)],\n",
    "                voting='hard'\n",
    "             )"
   ]
  },
  {
   "cell_type": "code",
   "execution_count": 9,
   "metadata": {},
   "outputs": [
    {
     "name": "stdout",
     "output_type": "stream",
     "text": [
      "RandomForestClassifier 0.904\n",
      "LogisticRegression 0.848\n",
      "SVC 0.928\n",
      "VotingClassifier 0.92\n"
     ]
    }
   ],
   "source": [
    "# 查看测试集上每个分类器的精度\n",
    "from sklearn.metrics import accuracy_score\n",
    "\n",
    "models = [rf_model, log_model, svm_model, hard_voting_model]\n",
    "for model in models:\n",
    "    model.fit(X_train, y_train)\n",
    "    y_pred = model.predict(X_test)\n",
    "    score = accuracy_score(y_true=y_test, y_pred=y_pred)\n",
    "    print(model.__class__.__name__, score)"
   ]
  },
  {
   "cell_type": "markdown",
   "metadata": {},
   "source": [
    "如果所有分类器能够估算出类别的概率(即有`predict_proba()`方法)，那么你可以将概率在所有单个分类器上平均,然后让`Scikit-Learn`计算平均概率最高的类别进行预测，这被称为`软投票法`。通常来说，它比`硬投票法`表现更优，因为他给予了那些高度自信投票更高的权重。"
   ]
  },
  {
   "cell_type": "markdown",
   "metadata": {},
   "source": [
    "    2. 以卫星数据集为例，创建并训练一个软投票分类器"
   ]
  },
  {
   "cell_type": "code",
   "execution_count": 10,
   "metadata": {},
   "outputs": [],
   "source": [
    "# 弱分类器\n",
    "rf_model = RandomForestClassifier(n_estimators=100, random_state=42)\n",
    "log_model = LogisticRegression(solver='lbfgs', random_state=42)\n",
    "svm_model = SVC(gamma=\"scale\", random_state=42, probability=True) # 会添加predict_proba(), predict_log_proba()两个方法"
   ]
  },
  {
   "cell_type": "code",
   "execution_count": 11,
   "metadata": {},
   "outputs": [],
   "source": [
    "# 软投票分类器\n",
    "soft_voting_model = VotingClassifier(\n",
    "                estimators=[('RandomForest', rf_model), ('LogisticRegression', log_model), ('SVC', svm_model)],\n",
    "                voting='soft'\n",
    "            )"
   ]
  },
  {
   "cell_type": "code",
   "execution_count": 12,
   "metadata": {},
   "outputs": [
    {
     "name": "stdout",
     "output_type": "stream",
     "text": [
      "RandomForestClassifier 0.904\n",
      "LogisticRegression 0.848\n",
      "SVC 0.928\n",
      "VotingClassifier 0.904\n"
     ]
    }
   ],
   "source": [
    "# 查看测试集上每个分类器的精度\n",
    "models = [rf_model, log_model, svm_model, soft_voting_model]\n",
    "for model in models:\n",
    "    model.fit(X_train, y_train)\n",
    "    y_pred = model.predict(X_test)\n",
    "    score = accuracy_score(y_true=y_test, y_pred=y_pred)\n",
    "    print(model.__class__.__name__, score)"
   ]
  },
  {
   "cell_type": "markdown",
   "metadata": {},
   "source": [
    "# Bagging 和 Pasting"
   ]
  },
  {
   "cell_type": "markdown",
   "metadata": {},
   "source": [
    "获取不同种类分类器的方法除了使用不同的训练算法，另一种方法是每一个预测其使用相同的算法，但是在不同的训练集随机子集上进行训练，如果采样时将样本放回，这种方法叫`Bagging`,如采用时样本不放回这种方法叫做`Pasting`."
   ]
  },
  {
   "cell_type": "markdown",
   "metadata": {},
   "source": [
    "<img src=\"./images/other/7-3.png\" width=\"400\">"
   ]
  },
  {
   "cell_type": "markdown",
   "metadata": {},
   "source": [
    "一旦预测器训练完成，集成就可以通过简单的聚合所有预测器的预测来对新实例作出预测。每个预测器单独的偏差都高于原始训练集上训练的偏差，但通过聚合同时降低了偏差和方差。总体来说，最终结果是与 直接在原始训练集上训练的单个去预测器 相比集成的偏差相近，但方差更低。"
   ]
  },
  {
   "cell_type": "markdown",
   "metadata": {},
   "source": [
    "## Scikit-Learn 中的 Bagging 和 Pasting  "
   ]
  },
  {
   "cell_type": "markdown",
   "metadata": {},
   "source": [
    "    训练一个包括500个决策树的分类器的集成，每次从训练集中随机采样100个训练实例进行训练，然后放回。"
   ]
  },
  {
   "cell_type": "markdown",
   "metadata": {},
   "source": [
    "- `Scikit-Learn`的`BaggingClassifier()`进行Bagging 和 Pasting"
   ]
  },
  {
   "cell_type": "code",
   "execution_count": 13,
   "metadata": {},
   "outputs": [],
   "source": [
    "from sklearn.ensemble import BaggingClassifier\n",
    "from sklearn.tree import DecisionTreeClassifier"
   ]
  },
  {
   "cell_type": "code",
   "execution_count": 14,
   "metadata": {},
   "outputs": [
    {
     "data": {
      "text/plain": [
       "BaggingClassifier(base_estimator=DecisionTreeClassifier(class_weight=None,\n",
       "                                                        criterion='gini',\n",
       "                                                        max_depth=None,\n",
       "                                                        max_features=None,\n",
       "                                                        max_leaf_nodes=None,\n",
       "                                                        min_impurity_decrease=0.0,\n",
       "                                                        min_impurity_split=None,\n",
       "                                                        min_samples_leaf=1,\n",
       "                                                        min_samples_split=2,\n",
       "                                                        min_weight_fraction_leaf=0.0,\n",
       "                                                        presort=False,\n",
       "                                                        random_state=42,\n",
       "                                                        splitter='best'),\n",
       "                  bootstrap=True, bootstrap_features=False, max_features=1.0,\n",
       "                  max_samples=100, n_estimators=500, n_jobs=-1, oob_score=False,\n",
       "                  random_state=None, verbose=0, warm_start=False)"
      ]
     },
     "execution_count": 14,
     "metadata": {},
     "output_type": "execute_result"
    }
   ],
   "source": [
    "bagging_model = BaggingClassifier(\n",
    "                    base_estimator=DecisionTreeClassifier(random_state=42),\n",
    "                    n_estimators=500,\n",
    "                    max_samples=100,\n",
    "                    bootstrap=True,    # 采用时样本放回 如果不放回就是pasting\n",
    "                    n_jobs=-1\n",
    "                )\n",
    "bagging_model.fit(X_train, y_train)"
   ]
  },
  {
   "cell_type": "code",
   "execution_count": 15,
   "metadata": {},
   "outputs": [
    {
     "data": {
      "text/plain": [
       "0.92"
      ]
     },
     "execution_count": 15,
     "metadata": {},
     "output_type": "execute_result"
    }
   ],
   "source": [
    "y_pred = bagging_model.predict(X_test)\n",
    "accuracy_score(y_true=y_test, y_pred=y_pred)"
   ]
  },
  {
   "cell_type": "code",
   "execution_count": 16,
   "metadata": {},
   "outputs": [
    {
     "data": {
      "text/plain": [
       "0.864"
      ]
     },
     "execution_count": 16,
     "metadata": {},
     "output_type": "execute_result"
    }
   ],
   "source": [
    "tree_model = DecisionTreeClassifier(random_state=42)\n",
    "tree_model.fit(X_train, y_train)\n",
    "y_pred = tree_model.predict(X_test)\n",
    "accuracy_score(y_true=y_test, y_pred=y_pred)"
   ]
  },
  {
   "cell_type": "markdown",
   "metadata": {},
   "source": [
    "如果基本分类器能够估算出类别的概率(即有`predict_proba()`方法)，则`BaggingClassifier()`自动执行`软投票法`"
   ]
  },
  {
   "cell_type": "markdown",
   "metadata": {},
   "source": [
    "- 比较决策边界"
   ]
  },
  {
   "cell_type": "code",
   "execution_count": 17,
   "metadata": {},
   "outputs": [],
   "source": [
    "from matplotlib.colors import ListedColormap  # 用户自定义颜色库\n",
    "\n",
    "def plot_decision_boundary(model, X, y, axes):\n",
    "    x1s = np.linspace(axes[0], axes[1], 100)\n",
    "    x2s = np.linspace(axes[2], axes[3], 100) \n",
    "    x1, x2 = np.meshgrid(x1s, x2s)          # 生成网格点坐标矩阵   (100, 100)\n",
    "    \n",
    "    X_new = np.c_[x1.ravel(), x2.ravel()]   # (10000, 2)\n",
    "    y_pred = model.predict(X_new).reshape(x1.shape)  # (100, 100)\n",
    "    \n",
    "    custome_cmap = ListedColormap(['#fafab0','#9898ff','#a0faa0'])\n",
    "\n",
    "    # 绘制等高线图\n",
    "    plt.contourf(x1, x2, y_pred, cmap=custome_cmap)\n",
    "    \n",
    "    # 数据\n",
    "    plt.plot(X[:, 0][y==0], X[:, 1][y==0], \"yo\", alpha=0.5)\n",
    "    plt.plot(X[:, 0][y==1], X[:, 1][y==1], \"bs\", alpha=0.5)\n",
    "    plt.axis(axes)"
   ]
  },
  {
   "cell_type": "code",
   "execution_count": 18,
   "metadata": {},
   "outputs": [],
   "source": [
    "from matplotlib import font_manager\n",
    "my_font = font_manager.FontProperties(fname='./Fonts/SourceHanSerifSC-Medium.otf', size=12)"
   ]
  },
  {
   "cell_type": "code",
   "execution_count": 19,
   "metadata": {},
   "outputs": [
    {
     "data": {
      "image/png": "[encoded data removed]",
      "text/plain": [
       "<Figure size 720x288 with 2 Axes>"
      ]
     },
     "metadata": {
      "needs_background": "light"
     },
     "output_type": "display_data"
    }
   ],
   "source": [
    "fix, axes = plt.subplots(ncols=2, figsize=(10,4), sharey=True)\n",
    "ax = [-1.5, 2.4, -1, 1.5]\n",
    "\n",
    "plt.sca(axes[0])\n",
    "plot_decision_boundary(tree_model, X, y, ax)\n",
    "plt.title(\"决策树\", font_properties=my_font)\n",
    "\n",
    "plt.sca(axes[1])\n",
    "plot_decision_boundary(bagging_model, X, y, ax)\n",
    "plt.title(\"使用bagging的决策树\", font_properties=my_font)\n",
    "\n",
    "plt.show()"
   ]
  },
  {
   "cell_type": "markdown",
   "metadata": {},
   "source": [
    "由此看出，集成预测的泛化效果可能比单独的决策树要好一些。两者偏差相近，但集成的方差更小:两边训练集的错误数量差不多，但集成的决策边界更规则。"
   ]
  },
  {
   "cell_type": "markdown",
   "metadata": {},
   "source": [
    "## 包外评估 Out-of-Bag Evaluation"
   ]
  },
  {
   "cell_type": "markdown",
   "metadata": {},
   "source": [
    "对于任意给定的预测器,使用`bagging`,有些实例可能会被采样多次,而有些实例则可能根本不被采样。`BaggingClassifier`默认采样$m$个训练实例,然后放回样本(`bootstrap=true`),$m$是训练集的大小.\n",
    "\n",
    "这意味着对每个预测器来说,平均只对65%的训练实例进行采样。剩余37%未被采样的训练实例称为`包外oob实例`。注意, 对所有预测器来说,这是不一样的37%.\n",
    "\n",
    "由于预测器在训练过程中从未看到`oob实例`,因此可以在这些实例上进行评估,而无须单独的验证集。你可以通过平均每个预测器的`包外评估`来评估整体。"
   ]
  },
  {
   "cell_type": "markdown",
   "metadata": {},
   "source": [
    "- 在`Scikit-learn`中,创建 `BaggingClassifier`时,设置`oob_score=True`就可以请求在训练结束后自动进行`包外评估`"
   ]
  },
  {
   "cell_type": "code",
   "execution_count": 20,
   "metadata": {},
   "outputs": [
    {
     "data": {
      "text/plain": [
       "0.9173333333333333"
      ]
     },
     "execution_count": 20,
     "metadata": {},
     "output_type": "execute_result"
    }
   ],
   "source": [
    "bagging_model = BaggingClassifier(\n",
    "                    base_estimator=DecisionTreeClassifier(),\n",
    "                    n_estimators=500,\n",
    "                    max_samples=100,\n",
    "                    bootstrap=True,\n",
    "                    random_state=42,\n",
    "                    oob_score=True\n",
    "                )\n",
    "bagging_model.fit(X_train, y_train)\n",
    "bagging_model.oob_score_"
   ]
  },
  {
   "cell_type": "code",
   "execution_count": 21,
   "metadata": {},
   "outputs": [
    {
     "data": {
      "text/plain": [
       "0.92"
      ]
     },
     "execution_count": 21,
     "metadata": {},
     "output_type": "execute_result"
    }
   ],
   "source": [
    "y_pred = bagging_model.predict(X_test)\n",
    "accuracy_score(y_test, y_pred)"
   ]
  },
  {
   "cell_type": "markdown",
   "metadata": {},
   "source": [
    "可知`包外评估结果`与测试集上的所获得的准确率相接近"
   ]
  },
  {
   "cell_type": "code",
   "execution_count": 22,
   "metadata": {},
   "outputs": [
    {
     "data": {
      "text/plain": [
       "array([0.05929919, 0.94070081])"
      ]
     },
     "execution_count": 22,
     "metadata": {},
     "output_type": "execute_result"
    }
   ],
   "source": [
    "bagging_model.oob_decision_function_[0]"
   ]
  },
  {
   "cell_type": "markdown",
   "metadata": {},
   "source": [
    "可以通过`oob_decision_function_`获取包外决策函数，如第一个训练实例有5.9%的概率是正类，而有94.1%的概率为负类."
   ]
  },
  {
   "cell_type": "markdown",
   "metadata": {},
   "source": [
    "# 随机补丁和随机子空间 Random Patches and Random Subspaces"
   ]
  },
  {
   "cell_type": "markdown",
   "metadata": {},
   "source": [
    "`BaggingClassifier`类也支持对特征进行采样。采样由两个超参数控制:`max_features`和 `bootstrap_features`。它们的工作方式与`max_samples`和 `bootstrap` 相同,但用于特征采样而不是实例采样。因此,每个预测器将用**输入特征的随机子集**进行训练.\n",
    "\n",
    "这对于处理高维输入(例如图像)特别有用。\n",
    "1. 对训练实例和特征都进行抽样,这称为**随机补丁法**。\n",
    "2. 保留所有训练实例(即 `bootstrap= False`并且 `max_samples=1`)但是对特征进行抽样(即 `bootstrap_features=True`并且/或 `max_features<1` 这被称为**随机子空间法**。\n",
    "\n",
    "对特征抽样给预测器带来更大的多样性,所以以略高一点的偏差换取了更低的方差"
   ]
  },
  {
   "cell_type": "markdown",
   "metadata": {},
   "source": [
    "# 随机森林 Random Forests"
   ]
  },
  {
   "cell_type": "markdown",
   "metadata": {},
   "source": [
    "随机森林是决策树的集成,训练方法:\n",
    "1. 构建一个`BaggingClassifier`然后将其传输到 `DecisionTreeClassifier`来设置,训练集大小设置`max_samples=1.0`\n",
    "2. 使用 `RandomForestClassifier`类,这种方法更方便,对决策树更优化。"
   ]
  },
  {
   "cell_type": "markdown",
   "metadata": {},
   "source": [
    "    训练了一个拥有500棵树的随机森林分类器(每棵树限制为最多16个叶节点)"
   ]
  },
  {
   "cell_type": "code",
   "execution_count": 23,
   "metadata": {},
   "outputs": [
    {
     "data": {
      "text/plain": [
       "0.904"
      ]
     },
     "execution_count": 23,
     "metadata": {},
     "output_type": "execute_result"
    }
   ],
   "source": [
    "# 使用方法1:\n",
    "bagging_model = BaggingClassifier(\n",
    "                    base_estimator=DecisionTreeClassifier(max_leaf_nodes=16, splitter=\"random\"),\n",
    "                    n_estimators=500,\n",
    "                    max_samples=1.0,\n",
    "                    random_state=42,\n",
    "                    bootstrap=True\n",
    "                )\n",
    "bagging_model.fit(X_train, y_train)\n",
    "\n",
    "y_pred_bagging = rf_model.predict(X_test)\n",
    "accuracy_score(y_test, y_pred_bagging)"
   ]
  },
  {
   "cell_type": "markdown",
   "metadata": {},
   "source": [
    "- `Scikit-Learn`的`RandomForestClassifier()`类创建随机森林分类器"
   ]
  },
  {
   "cell_type": "code",
   "execution_count": 24,
   "metadata": {},
   "outputs": [],
   "source": [
    "from sklearn.ensemble import RandomForestClassifier"
   ]
  },
  {
   "cell_type": "code",
   "execution_count": 25,
   "metadata": {},
   "outputs": [
    {
     "data": {
      "text/plain": [
       "0.92"
      ]
     },
     "execution_count": 25,
     "metadata": {},
     "output_type": "execute_result"
    }
   ],
   "source": [
    "# 使用方法2:\n",
    "rf_model = RandomForestClassifier(\n",
    "                n_estimators=500,\n",
    "                max_leaf_nodes=16,\n",
    "                random_state=42\n",
    "            )\n",
    "rf_model.fit(X_train, y_train)\n",
    "\n",
    "y_pred_rf = rf_model.predict(X_test)\n",
    "accuracy_score(y_test, y_pred_rf)"
   ]
  },
  {
   "cell_type": "markdown",
   "metadata": {},
   "source": [
    "具体来说，`RandomForestClassifier`对比`DecisionTreeClassifier`和`BaggingClassifier`的超参数有以下的区别:\n",
    "1. 没有`splitter`:特征选择随机选项(强制为`random`)\n",
    "2. 没有`presort`:预排序(强制为`False`)\n",
    "3. 没有`max_samples`(强制为`1.0`)\n",
    "4. 没有`base_estimator`(给定为`DecisionTreeClassifier()`)"
   ]
  },
  {
   "cell_type": "markdown",
   "metadata": {},
   "source": [
    "随机森林在树的生长上引入了更多的随机性:分裂节点时不再是搜素最好的特征,而是在一个随机生成的特征子集里搜索最好的特征。这导致决策树具有更大的多样性,(再一次)用更高的偏差换取更低的方差,总之,还是产生了一个整体性能更优的模型。"
   ]
  },
  {
   "cell_type": "markdown",
   "metadata": {},
   "source": [
    "## 极端随机树 Extra-Trees"
   ]
  },
  {
   "cell_type": "markdown",
   "metadata": {},
   "source": [
    "随机森林里单棵树的生长过程中,每个节点在分裂时仅考虑到了一个随机子集所包含的特征,如果我们对每个特征使用`随机阈值`,而不是搜索得出的最佳值阈值,则可能让决策树生长得更加随机.\n",
    "\n",
    "这种极端随机的决策树组成的森林称为`极端随机树集成 Ertra-Tree`。同样，它也是以更高的偏差换取了更低的方差。`极端随机树`训练起来比常规随机森林要快很多,因为在每个节点上找到每个特征的最佳阈值是决策树生长中最耗时的任务之一.\n"
   ]
  },
  {
   "cell_type": "markdown",
   "metadata": {},
   "source": [
    "- `Scikit-Learn`的`ExtraTreesClassifier()`类创建极端随机树分类器"
   ]
  },
  {
   "cell_type": "markdown",
   "metadata": {},
   "source": [
    "通常来说,很难预先知道一个 `RandomForestClassifier`类是否会比一个`ExtraTreesClassifier()`类更好或是更差。唯一的方法是两种都尝试,然后使用`交叉验证`(还需要使用网格搜素调整超参数)进行比较."
   ]
  },
  {
   "cell_type": "markdown",
   "metadata": {},
   "source": [
    "## 特征重要性 Feature Importance"
   ]
  },
  {
   "cell_type": "markdown",
   "metadata": {},
   "source": [
    "随机森林的另一个好特性是它们使测量每个特征的相对重要性变得容易。`Scikit-Learn`通过查看使用该特征的树节点平均(在森林中的所有树上)减少不纯度的程度来衡量该特征的重要性。\n",
    "\n",
    "\n",
    "`Scikit-Learn`会在训练后为每个特征自动计算该分数,然后对结果进行缩放以使所有重要性的总和等于1。可以使用 `feature_importances_`变量来访问结果。\n"
   ]
  },
  {
   "cell_type": "markdown",
   "metadata": {},
   "source": [
    "    1. 以鸢尾花数据集为例"
   ]
  },
  {
   "cell_type": "code",
   "execution_count": 26,
   "metadata": {},
   "outputs": [
    {
     "data": {
      "text/plain": [
       "array([0.11249225, 0.02311929, 0.44103046, 0.423358  ])"
      ]
     },
     "execution_count": 26,
     "metadata": {},
     "output_type": "execute_result"
    }
   ],
   "source": [
    "from sklearn.datasets import load_iris\n",
    "\n",
    "iris = load_iris()\n",
    "iris_X = iris['data']\n",
    "iris_y = iris['target']\n",
    "\n",
    "rf_model = RandomForestClassifier(n_estimators=500, random_state=42)\n",
    "rf_model.fit(iris_X, iris_y)\n",
    "\n",
    "#特征重要性\n",
    "scores = rf_model.feature_importances_\n",
    "scores"
   ]
  },
  {
   "cell_type": "code",
   "execution_count": 27,
   "metadata": {},
   "outputs": [
    {
     "name": "stdout",
     "output_type": "stream",
     "text": [
      "sepal length (cm) 0.11249225099876375\n",
      "sepal width (cm) 0.02311928828251033\n",
      "petal length (cm) 0.4410304643639577\n",
      "petal width (cm) 0.4233579963547682\n"
     ]
    }
   ],
   "source": [
    "for feature, score in zip(iris['feature_names'], scores):\n",
    "    print(feature,score)"
   ]
  },
  {
   "cell_type": "markdown",
   "metadata": {},
   "source": [
    "由此可见最重要的特征是花瓣的长度(44.1%)和宽度(42.3%)和花萼的长度(11.2%)和宽度(2.3%)则不是那么重要."
   ]
  },
  {
   "cell_type": "markdown",
   "metadata": {},
   "source": [
    "    2. 以MNIST数据集为例"
   ]
  },
  {
   "cell_type": "code",
   "execution_count": 28,
   "metadata": {},
   "outputs": [],
   "source": [
    "from sklearn.datasets import fetch_openml\n",
    "\n",
    "mnist = fetch_openml('mnist_784', version=1, cache=True)\n",
    "X_mnist = mnist['data'].astype(np.float32)\n",
    "y_mnist = mnist['target'].astype(np.uint8)"
   ]
  },
  {
   "cell_type": "code",
   "execution_count": 29,
   "metadata": {},
   "outputs": [
    {
     "data": {
      "text/plain": [
       "RandomForestClassifier(bootstrap=True, class_weight=None, criterion='gini',\n",
       "                       max_depth=None, max_features='auto', max_leaf_nodes=None,\n",
       "                       min_impurity_decrease=0.0, min_impurity_split=None,\n",
       "                       min_samples_leaf=1, min_samples_split=2,\n",
       "                       min_weight_fraction_leaf=0.0, n_estimators=100,\n",
       "                       n_jobs=None, oob_score=False, random_state=42, verbose=0,\n",
       "                       warm_start=False)"
      ]
     },
     "execution_count": 29,
     "metadata": {},
     "output_type": "execute_result"
    }
   ],
   "source": [
    "rf_model = RandomForestClassifier(n_estimators=100, random_state=42)\n",
    "rf_model.fit(X_mnist, y_mnist)"
   ]
  },
  {
   "cell_type": "code",
   "execution_count": 30,
   "metadata": {},
   "outputs": [],
   "source": [
    "import matplotlib as mpl\n",
    "\n",
    "def plot_digit(data):\n",
    "    image = data.reshape(28,28)\n",
    "    plt.matshow(image, cmap=mpl.cm.hot)\n",
    "    plt.axis(\"off\")"
   ]
  },
  {
   "cell_type": "code",
   "execution_count": 31,
   "metadata": {
    "scrolled": true
   },
   "outputs": [
    {
     "data": {
      "image/png": "[encoded data removed]",
      "text/plain": [
       "<Figure size 288x288 with 2 Axes>"
      ]
     },
     "metadata": {
      "needs_background": "light"
     },
     "output_type": "display_data"
    }
   ],
   "source": [
    "# 绘制出根据随机森林分类器的MNIST像素的重要性\n",
    "plot_digit(rf_model.feature_importances_)\n",
    "\n",
    "\n",
    "cbar = plt.colorbar(ticks=[rf_model.feature_importances_.min(), rf_model.feature_importances_.max()])\n",
    "cbar.ax.set_yticklabels(['不重要','非常重要'], fontproperties=my_font)\n",
    "plt.show()"
   ]
  },
  {
   "cell_type": "markdown",
   "metadata": {},
   "source": [
    "随机森林非常便于你快速了解，哪些特征是真正重要的，特别是在执行特征选择时."
   ]
  },
  {
   "cell_type": "markdown",
   "metadata": {},
   "source": [
    "# 提升法 Boosting"
   ]
  },
  {
   "cell_type": "markdown",
   "metadata": {},
   "source": [
    "## AdaBoost"
   ]
  },
  {
   "cell_type": "markdown",
   "metadata": {},
   "source": [
    "`AdaBoost`是一种具有自适应性质的`Boosting`集成学习算法.自适应性主要表现在自动提升被错误预测样本的权重,自动减少被正确预测样本的权重,使得弱学习器训练过程能够根据模型预测性能自动进行调整."
   ]
  },
  {
   "cell_type": "markdown",
   "metadata": {},
   "source": [
    "<img src=\"./images/other/7-4.png\" width=\"400\">"
   ]
  },
  {
   "cell_type": "markdown",
   "metadata": {},
   "source": [
    "----\n",
    "**AdaBoost算法：**\n",
    "\n",
    "① 令 $i=1$ 并设定弱学习器的数目 $m$ 。使用均匀分布初始化训练样本集的权重分布, 令 $n$ 维向量 $w^{i}$ 表示第 $i$ 次需更新的样本权重, 则有: $$w^{1}=\\left(w_{i 1}, w_{i 2}, \\cdots, w_{i n}\\right)^{T}=\\left(\\frac{1}{n}, \\frac{1}{n}, \\cdots, \\frac{1}{n}\\right)^{T}$$\n",
    "\n",
    "②使用权重分布为 $w^{i}$ 的训练样本集 $D_{i}$ 学习得到第 $i$ 个弱学习器 $f_{i}$\n",
    "\n",
    "③计算 $f_{i}$ 在训练样本集 $D_{i}$ 上的分类错误率 $e_{i}$ :\n",
    "$$\n",
    "e_{i}=\\sum_{k=1}^{n} w_{i k} I\\left(f_{i}\\left(X_{k}\\right) \\neq y_{k}\\right)\n",
    "$$\n",
    "\n",
    "④ 确定弱学习器 $f_{i}$ 的组合权重 $\\alpha_{i}$ 由于弱学习器 $f_{i}$ 的\n",
    "     权重取值应与其分类性能 相关, 对于分类错误率 $e_{i}$ 越小的 $f_{i}$, \n",
    "     则其权重 $\\alpha_{i}$ 应该越大，故有 \n",
    "$$\\alpha_{i}=\\lambda \\ln \\frac{1-e_{i}}{e_{i}}$$\n",
    "\n",
    "⑤ 依据弱学习器 $f_{i}$ 对训练样本集 $D_{i}$ 的分类错误率 $e_{i}$ 更新样本权重, 更新公式为 $$w_{i+1, j}=\\frac{w_{i j} \\exp \\left(-\\alpha_{i} y_{k} f_{i}\\left(X_{k}\\right)\\right)}{z_{i}}$$其中归一化因子: $$Z_{i}=\\sum_{k=1}^{n} w_{i j} \\exp \\left(-\\alpha_{i} y_{k} f_{i}\\left(X_{k}\\right)\\right)$$ 保证更新后权重向量为概率分布\n",
    "\n",
    "⑥ 若 $i<m$, 则令 $i=i+1$ 并返回步骤（2）, 否则执行步骤 (7)\n",
    "\n",
    "⑦ 对于 $m$ 个弱分类器 $f_{1}, f_{2}, \\cdots, f_{m}$, 分别将每个 $f_{i}$ 按权重 $\\alpha_{i}$ 进行组合: $$G=\\operatorname{sign}\\left(\\sum_{i=1}^{m} \\alpha_{i} f_{i}(X)\\right)$$得到并输出所求集成模型 $G$, 算法结束"
   ]
  },
  {
   "cell_type": "markdown",
   "metadata": {},
   "source": [
    "---\n",
    "\n",
    "不改变训练数据而不断地改变训练数据权值的分布，使得训练数据在基学习器的学习中物体起不同的作用，就是`AdaBoost`的一个特点。\n",
    "\n"
   ]
  },
  {
   "cell_type": "markdown",
   "metadata": {},
   "source": [
    "- `Scikit- Learn`使用的其实是`AdaBoost`的一个多分类版本,叫作`SAMME`(基于多类指数损失函数的逐步添加模型),当只有两类时,`SAME`即等同于`Adaboost`.\n",
    "\n",
    "- 此外,如果预测器可以估算类概率(即具有`predict_proba()`方法), `Scikit- Learn`会使用`SAMME`的变体,称为 `SAMME.R`(R代表“Real”),它依赖的是类概率而不是类预测,通常表现更好。"
   ]
  },
  {
   "cell_type": "markdown",
   "metadata": {},
   "source": [
    "    训练了一个 Adaboost分类器:基于200个单层决策树(max_depth=1的决策树,默认使用的基础估算器)"
   ]
  },
  {
   "cell_type": "markdown",
   "metadata": {},
   "source": [
    "- `Scikit-Learn`的`AdaBoostClassifier()`类创建AdaBoost分类器"
   ]
  },
  {
   "cell_type": "code",
   "execution_count": 32,
   "metadata": {},
   "outputs": [],
   "source": [
    "from sklearn.ensemble import AdaBoostClassifier"
   ]
  },
  {
   "cell_type": "code",
   "execution_count": 33,
   "metadata": {},
   "outputs": [
    {
     "data": {
      "text/plain": [
       "AdaBoostClassifier(algorithm='SAMME.R',\n",
       "                   base_estimator=DecisionTreeClassifier(class_weight=None,\n",
       "                                                         criterion='gini',\n",
       "                                                         max_depth=1,\n",
       "                                                         max_features=None,\n",
       "                                                         max_leaf_nodes=None,\n",
       "                                                         min_impurity_decrease=0.0,\n",
       "                                                         min_impurity_split=None,\n",
       "                                                         min_samples_leaf=1,\n",
       "                                                         min_samples_split=2,\n",
       "                                                         min_weight_fraction_leaf=0.0,\n",
       "                                                         presort=False,\n",
       "                                                         random_state=None,\n",
       "                                                         splitter='best'),\n",
       "                   learning_rate=0.5, n_estimators=200, random_state=42)"
      ]
     },
     "execution_count": 33,
     "metadata": {},
     "output_type": "execute_result"
    }
   ],
   "source": [
    "ab_model = AdaBoostClassifier(\n",
    "            base_estimator=DecisionTreeClassifier(max_depth=1),\n",
    "            n_estimators=200,\n",
    "            algorithm='SAMME.R',\n",
    "            learning_rate=0.5,    # 𝜆\n",
    "            random_state=42\n",
    "        )\n",
    "ab_model.fit(X_train, y_train)"
   ]
  },
  {
   "cell_type": "code",
   "execution_count": 34,
   "metadata": {},
   "outputs": [
    {
     "data": {
      "image/png": "[encoded data removed]",
      "text/plain": [
       "<Figure size 432x288 with 1 Axes>"
      ]
     },
     "metadata": {
      "needs_background": "light"
     },
     "output_type": "display_data"
    }
   ],
   "source": [
    "ax = [-1.5, 2.45, -1, 1.5]\n",
    "plot_decision_boundary(ab_model, X, y, ax)"
   ]
  },
  {
   "cell_type": "markdown",
   "metadata": {},
   "source": [
    "如果你的`AdaBoost`集成过度拟合训练集，可以试试减少估算器数量或者提高基础估算器的正则化程度"
   ]
  },
  {
   "cell_type": "markdown",
   "metadata": {},
   "source": [
    "## 梯度提升 Gradient Boosting"
   ]
  },
  {
   "cell_type": "markdown",
   "metadata": {},
   "source": [
    "与`AdaBoost`不同的是，`梯度提升`是让新的预测器针对前一个预测器的残差进行拟合."
   ]
  },
  {
   "cell_type": "markdown",
   "metadata": {},
   "source": [
    "----\n",
    "\n",
    "**梯度提升算法：**\n",
    "\n",
    "输入: 训练数据集 $T=\\left\\{\\left(x_{1}, y_{1}\\right),\\left(x_{2}, y_{2}\\right), \\cdots,\\left(x_{N}, y_{N}\\right)\\right\\}, x_{i} \\in \\mathcal{X} \\subseteq \\mathbf{R}^{n}, y_{i} \\in \\mathcal{Y} \\subseteq \\mathbf{R}$;损失函数 $L(y, f(x))$; \n",
    "\n",
    "输出：回归树 $\\hat{f}(x)$.\n",
    "\n",
    "①  初始化\n",
    "$$\n",
    "f_{0}(x)=\\arg \\min _{c} \\sum_{i=1}^{N} L\\left(y_{i}, c\\right)\n",
    "$$\n",
    "\n",
    "② 对 $m=1,2, \\cdots, M$\n",
    "(1) 对 $i=1,2, \\cdots, N$, 计算\n",
    "$$\n",
    "r_{m i}=-\\left[\\frac{\\partial L\\left(y_{i}, f\\left(x_{i}\\right)\\right)}{\\partial f\\left(x_{i}\\right)}\\right]_{f(x)=f_{m-1}(x)}\n",
    "$$\n",
    "\n",
    "(2) 对 $r_{m i}$ 拟合一个回归树，得到第 $m$ 棵树的叶结点区域 $R_{m}, j=1,2, \\cdots, J$\n",
    "\n",
    "(3) 对 $j=1,2, \\cdots, J$, 计算\n",
    "$$\n",
    "c_{m j}=\\arg \\min _{c} \\sum_{x_{i} \\in R_{m}} L\\left(y_{i}, f_{m-1}\\left(x_{i}\\right)+c\\right)\n",
    "$$\n",
    "\n",
    "(4) 更新 $f_{m}(x)=f_{m-1}(x)+\\sum_{j=1}^{J} c_{m j} I\\left(x \\in R_{m j}\\right)$\n",
    "\n",
    "③ 得到回归树\n",
    "$$\n",
    "\\hat{f}(x)=f_{M}(x)=\\sum_{m=1}^{M} \\sum_{j=1}^{J} c_{m j} I\\left(x \\in R_{m j}\\right)\n",
    "$$\n",
    "\n",
    "----"
   ]
  },
  {
   "cell_type": "markdown",
   "metadata": {},
   "source": [
    "使用决策树作为基础预测器，这被称为`梯度树提升`或者是`梯度提升回归树GBRT`.\n",
    "在回归问题中，这称为`梯度提升回归树GBRT`，分类问题则称为`梯度提升决策树GBDT`."
   ]
  },
  {
   "cell_type": "markdown",
   "metadata": {},
   "source": [
    "    以一个简单的回归为例"
   ]
  },
  {
   "cell_type": "markdown",
   "metadata": {},
   "source": [
    "1. 生成一个带噪音的二次训练集"
   ]
  },
  {
   "cell_type": "code",
   "execution_count": 35,
   "metadata": {},
   "outputs": [],
   "source": [
    "np.random.seed(42)\n",
    "X = np.array(np.random.rand(100,1) - 0.5)\n",
    "y = np.array(3*(X[:, 0]**2) + 0.05 * np.random.randn(100))"
   ]
  },
  {
   "cell_type": "code",
   "execution_count": 36,
   "metadata": {},
   "outputs": [
    {
     "data": {
      "image/png": "[encoded data removed]",
      "text/plain": [
       "<Figure size 432x288 with 1 Axes>"
      ]
     },
     "metadata": {
      "needs_background": "light"
     },
     "output_type": "display_data"
    }
   ],
   "source": [
    "plt.plot(X, y, 'r.')\n",
    "plt.show()"
   ]
  },
  {
   "cell_type": "markdown",
   "metadata": {},
   "source": [
    "2. 首先拟合一个决策树模型"
   ]
  },
  {
   "cell_type": "code",
   "execution_count": 37,
   "metadata": {},
   "outputs": [
    {
     "data": {
      "text/plain": [
       "DecisionTreeRegressor(criterion='mse', max_depth=2, max_features=None,\n",
       "                      max_leaf_nodes=None, min_impurity_decrease=0.0,\n",
       "                      min_impurity_split=None, min_samples_leaf=1,\n",
       "                      min_samples_split=2, min_weight_fraction_leaf=0.0,\n",
       "                      presort=False, random_state=42, splitter='best')"
      ]
     },
     "execution_count": 37,
     "metadata": {},
     "output_type": "execute_result"
    }
   ],
   "source": [
    "from sklearn.tree import DecisionTreeRegressor\n",
    "\n",
    "tree_model_1 = DecisionTreeRegressor(max_depth=2, random_state=42)\n",
    "tree_model_1.fit(X, y)"
   ]
  },
  {
   "cell_type": "markdown",
   "metadata": {},
   "source": [
    "3. 针对第一个预测器的残差 训练第二个决策树模型"
   ]
  },
  {
   "cell_type": "code",
   "execution_count": 38,
   "metadata": {},
   "outputs": [
    {
     "data": {
      "text/plain": [
       "DecisionTreeRegressor(criterion='mse', max_depth=2, max_features=None,\n",
       "                      max_leaf_nodes=None, min_impurity_decrease=0.0,\n",
       "                      min_impurity_split=None, min_samples_leaf=1,\n",
       "                      min_samples_split=2, min_weight_fraction_leaf=0.0,\n",
       "                      presort=False, random_state=42, splitter='best')"
      ]
     },
     "execution_count": 38,
     "metadata": {},
     "output_type": "execute_result"
    }
   ],
   "source": [
    "y2 = y - tree_model_1.predict(X)  # 残差\n",
    "\n",
    "tree_model_2 = DecisionTreeRegressor(max_depth=2, random_state=42)\n",
    "tree_model_2.fit(X, y2)"
   ]
  },
  {
   "cell_type": "markdown",
   "metadata": {},
   "source": [
    "3. 针对第二个预测器的残差 训练第三个决策树模型"
   ]
  },
  {
   "cell_type": "code",
   "execution_count": 39,
   "metadata": {},
   "outputs": [
    {
     "data": {
      "text/plain": [
       "DecisionTreeRegressor(criterion='mse', max_depth=2, max_features=None,\n",
       "                      max_leaf_nodes=None, min_impurity_decrease=0.0,\n",
       "                      min_impurity_split=None, min_samples_leaf=1,\n",
       "                      min_samples_split=2, min_weight_fraction_leaf=0.0,\n",
       "                      presort=False, random_state=42, splitter='best')"
      ]
     },
     "execution_count": 39,
     "metadata": {},
     "output_type": "execute_result"
    }
   ],
   "source": [
    "y3 = y2 - tree_model_2.predict(X)  # 残差\n",
    "\n",
    "tree_model_3 = DecisionTreeRegressor(max_depth=2, random_state=42)\n",
    "tree_model_3.fit(X, y3)"
   ]
  },
  {
   "cell_type": "markdown",
   "metadata": {},
   "source": [
    "4. 集成三棵树:将所有树的预测相加，并对新实例进行预测"
   ]
  },
  {
   "cell_type": "code",
   "execution_count": 40,
   "metadata": {},
   "outputs": [],
   "source": [
    "X_new = np.array([[0.8]])"
   ]
  },
  {
   "cell_type": "code",
   "execution_count": 41,
   "metadata": {},
   "outputs": [
    {
     "data": {
      "text/plain": [
       "array([0.75026781])"
      ]
     },
     "execution_count": 41,
     "metadata": {},
     "output_type": "execute_result"
    }
   ],
   "source": [
    "y_pred = sum(tree.predict(X_new) for tree in (tree_model_1, tree_model_2, tree_model_3))\n",
    "y_pred"
   ]
  },
  {
   "cell_type": "markdown",
   "metadata": {},
   "source": [
    "<img src=\"./images/other/7-5.png\" width=\"600\">"
   ]
  },
  {
   "cell_type": "markdown",
   "metadata": {},
   "source": [
    "- `Scikit-Learn`的`GradientBoostingRegressor()`类创建GBRT集成分类器"
   ]
  },
  {
   "cell_type": "code",
   "execution_count": 42,
   "metadata": {},
   "outputs": [],
   "source": [
    "from sklearn.ensemble import GradientBoostingRegressor"
   ]
  },
  {
   "cell_type": "code",
   "execution_count": 43,
   "metadata": {},
   "outputs": [
    {
     "data": {
      "text/plain": [
       "GradientBoostingRegressor(alpha=0.9, criterion='friedman_mse', init=None,\n",
       "                          learning_rate=1.0, loss='ls', max_depth=2,\n",
       "                          max_features=None, max_leaf_nodes=None,\n",
       "                          min_impurity_decrease=0.0, min_impurity_split=None,\n",
       "                          min_samples_leaf=1, min_samples_split=2,\n",
       "                          min_weight_fraction_leaf=0.0, n_estimators=3,\n",
       "                          n_iter_no_change=None, presort='auto',\n",
       "                          random_state=42, subsample=1.0, tol=0.0001,\n",
       "                          validation_fraction=0.1, verbose=0, warm_start=False)"
      ]
     },
     "execution_count": 43,
     "metadata": {},
     "output_type": "execute_result"
    }
   ],
   "source": [
    "gbrt_model = GradientBoostingRegressor(\n",
    "                max_depth=2,\n",
    "                n_estimators=3,\n",
    "                learning_rate=1.0,\n",
    "                random_state=42\n",
    "            )\n",
    "gbrt_model.fit(X,y)"
   ]
  },
  {
   "cell_type": "markdown",
   "metadata": {},
   "source": [
    "超参数`learning_rate`对每棵树的贡献进行缩放。如果你已经设置为低值(如0.1)，则需要更多的树来拟合数据集。但预测的泛化效果通常更好，这是一种被称为`收缩的正则化`技术。"
   ]
  },
  {
   "cell_type": "code",
   "execution_count": 44,
   "metadata": {},
   "outputs": [
    {
     "data": {
      "text/plain": [
       "GradientBoostingRegressor(alpha=0.9, criterion='friedman_mse', init=None,\n",
       "                          learning_rate=0.1, loss='ls', max_depth=2,\n",
       "                          max_features=None, max_leaf_nodes=None,\n",
       "                          min_impurity_decrease=0.0, min_impurity_split=None,\n",
       "                          min_samples_leaf=1, min_samples_split=2,\n",
       "                          min_weight_fraction_leaf=0.0, n_estimators=200,\n",
       "                          n_iter_no_change=None, presort='auto',\n",
       "                          random_state=42, subsample=1.0, tol=0.0001,\n",
       "                          validation_fraction=0.1, verbose=0, warm_start=False)"
      ]
     },
     "execution_count": 44,
     "metadata": {},
     "output_type": "execute_result"
    }
   ],
   "source": [
    "gbrt_model_lr = GradientBoostingRegressor(\n",
    "                    max_depth=2,\n",
    "                    n_estimators=200,\n",
    "                    learning_rate=0.1,\n",
    "                    random_state=42\n",
    "            )\n",
    "gbrt_model_lr.fit(X,y)"
   ]
  },
  {
   "cell_type": "code",
   "execution_count": 45,
   "metadata": {},
   "outputs": [],
   "source": [
    "def plot_predictions(model, X, y, axes):\n",
    "    x1 = np.linspace(axes[0], axes[1], 500).reshape(-1,1)\n",
    "    y_pred = model.predict(x1)\n",
    "    plt.plot(X[:, 0], y, 'b.')\n",
    "    plt.plot(x1, y_pred, 'r-')\n",
    "    #plt.axis(axes)"
   ]
  },
  {
   "cell_type": "code",
   "execution_count": 46,
   "metadata": {
    "scrolled": true
   },
   "outputs": [
    {
     "data": {
      "image/png": "[encoded data removed]",
      "text/plain": [
       "<Figure size 720x288 with 2 Axes>"
      ]
     },
     "metadata": {
      "needs_background": "light"
     },
     "output_type": "display_data"
    }
   ],
   "source": [
    "fix ,axes = plt.subplots(ncols=2, figsize=(10,4), sharey=True)\n",
    "ax = [-0.5, 0.5, -0.1, 0.8]\n",
    "\n",
    "plt.sca(axes[0])\n",
    "plot_predictions(gbrt_model, X, y, ax)\n",
    "plt.xlabel('$x_1$')\n",
    "plt.ylabel('$y$')\n",
    "plt.title(\"learning_rate={}, n_estimators={}\".format(gbrt_model.learning_rate, gbrt_model.n_estimators))\n",
    "\n",
    "\n",
    "plt.sca(axes[1])\n",
    "plot_predictions(gbrt_model_lr, X, y, ax)\n",
    "plt.xlabel('$x_1$')\n",
    "plt.title(\"learning_rate={}, n_estimators={}\".format(gbrt_model_lr.learning_rate, gbrt_model_lr.n_estimators))\n",
    "\n",
    "plt.show()"
   ]
  },
  {
   "cell_type": "markdown",
   "metadata": {},
   "source": [
    "左图显示预测器太少欠拟合，右图显示预测器太多过拟合."
   ]
  },
  {
   "cell_type": "markdown",
   "metadata": {},
   "source": [
    "### 提前停止法 Early stopping"
   ]
  },
  {
   "cell_type": "markdown",
   "metadata": {},
   "source": [
    "- 要找到树的最佳数量`n_estimators`可以使用`提前停止法`."
   ]
  },
  {
   "cell_type": "markdown",
   "metadata": {},
   "source": [
    "1. 使用`staged_predict()`方法:在训练的每一阶段(一棵树,两棵树,三棵树时等),都对集成的预测返回一个迭代器。"
   ]
  },
  {
   "cell_type": "markdown",
   "metadata": {},
   "source": [
    "     训练一个拥有120棵树的GBRT集成，然后测量每个训练阶段的验证误差，从而找到树的最佳数量，最后使用最优树数重新训练一个GBRT集成"
   ]
  },
  {
   "cell_type": "code",
   "execution_count": 47,
   "metadata": {},
   "outputs": [],
   "source": [
    "from sklearn.model_selection import train_test_split\n",
    "from sklearn.metrics import mean_squared_error"
   ]
  },
  {
   "cell_type": "code",
   "execution_count": 48,
   "metadata": {},
   "outputs": [
    {
     "data": {
      "text/plain": [
       "GradientBoostingRegressor(alpha=0.9, criterion='friedman_mse', init=None,\n",
       "                          learning_rate=0.1, loss='ls', max_depth=2,\n",
       "                          max_features=None, max_leaf_nodes=None,\n",
       "                          min_impurity_decrease=0.0, min_impurity_split=None,\n",
       "                          min_samples_leaf=1, min_samples_split=2,\n",
       "                          min_weight_fraction_leaf=0.0, n_estimators=56,\n",
       "                          n_iter_no_change=None, presort='auto',\n",
       "                          random_state=42, subsample=1.0, tol=0.0001,\n",
       "                          validation_fraction=0.1, verbose=0, warm_start=False)"
      ]
     },
     "execution_count": 48,
     "metadata": {},
     "output_type": "execute_result"
    }
   ],
   "source": [
    "X_train, X_val, y_train, y_val = train_test_split(X, y, random_state=49)\n",
    "\n",
    "# 训练模型\n",
    "gbrt_model = GradientBoostingRegressor(\n",
    "                max_depth=2,\n",
    "                n_estimators=120,\n",
    "                random_state=42\n",
    "            )\n",
    "gbrt_model.fit(X_train, y_train)\n",
    "\n",
    "# 计算MSE\n",
    "errors = []\n",
    "for y_pred in gbrt_model.staged_predict(X_val):\n",
    "    mse = mean_squared_error(y_true=y_val, y_pred=y_pred)\n",
    "    errors.append(mse)\n",
    "    \n",
    "# 选择MSE最低的树数作为树的最佳数量\n",
    "min_error = np.min(errors)\n",
    "best_n_estimators = np.argmin(errors) + 1\n",
    "\n",
    "# 使用最优树数重新训练一个GBRT集成\n",
    "gbrt_model_best = GradientBoostingRegressor(\n",
    "                    max_depth=2,\n",
    "                    n_estimators=best_n_estimators,\n",
    "                    random_state=42\n",
    "                )\n",
    "gbrt_model_best.fit(X_train, y_train)"
   ]
  },
  {
   "cell_type": "code",
   "execution_count": 49,
   "metadata": {},
   "outputs": [
    {
     "data": {
      "image/png": "[encoded data removed]",
      "text/plain": [
       "<Figure size 720x288 with 2 Axes>"
      ]
     },
     "metadata": {
      "needs_background": "light"
     },
     "output_type": "display_data"
    }
   ],
   "source": [
    "fix ,axes = plt.subplots(ncols=2, figsize=(10,4))\n",
    "\n",
    "# 测试集错误\n",
    "plt.sca(axes[0])\n",
    "plt.plot(errors, \"b.-\")\n",
    "\n",
    "plt.plot([best_n_estimators, best_n_estimators], [0, min_error], \"k--\")\n",
    "plt.plot([0, best_n_estimators], [min_error*0.95, min_error*0.95], \"k--\")\n",
    "plt.plot(best_n_estimators, min_error, \"ko\")\n",
    "plt.scatter(best_n_estimators, min_error, s=180, facecolors='#FFAAAA')\n",
    "plt.text(x=best_n_estimators, y=min_error*1.5, s=\"误差最小值:%f\" % min_error, ha=\"center\", fontproperties=my_font)\n",
    "plt.text(x=best_n_estimators, y=min_error*1.2, s=\"树的数量:%d\" % best_n_estimators, ha=\"center\", fontproperties=my_font)\n",
    "\n",
    "plt.xlabel(\"树的数量\" ,fontproperties=my_font)\n",
    "plt.ylabel(\"MSE误差\", fontproperties=my_font)\n",
    "plt.title(\"测试错误\", fontproperties=my_font)\n",
    "plt.axis([0, 120, 0, 0.01])\n",
    "\n",
    "# 最佳模型\n",
    "plt.sca(axes[1])\n",
    "ax = [-0.5, 0.5, -0.1, 0.8]\n",
    "plot_predictions(gbrt_model_best, X, y, ax)\n",
    "plt.title(\"最佳模型 (%d 棵树)\" % best_n_estimators, fontproperties=my_font)\n",
    "plt.ylabel(\"$y$\", rotation=0, fontproperties=my_font)\n",
    "plt.xlabel(\"$x_1$\", fontproperties=my_font)\n",
    "\n",
    "\n",
    "plt.show()"
   ]
  },
  {
   "cell_type": "markdown",
   "metadata": {},
   "source": [
    "2. 要实现`提前停止法`，不一定要训练大量的树，然后再回头来找最优的数字，还可以`提前停止训练`:设置`warm_start=True`，当`fit()`方法被调用时，`Scikit-Learn`会保留现有的树，从而允许增量训练."
   ]
  },
  {
   "cell_type": "markdown",
   "metadata": {},
   "source": [
    "    当验证误差连续5次迭代未得到改善，直接停止训练"
   ]
  },
  {
   "cell_type": "code",
   "execution_count": 50,
   "metadata": {},
   "outputs": [],
   "source": [
    "gbrt_model = GradientBoostingRegressor(\n",
    "                max_depth=2,\n",
    "                warm_start=True,\n",
    "                random_state=42\n",
    "            )\n",
    "\n",
    "min_error = float(\"inf\")\n",
    "n_iter = 0      # 用于限制迭代次数 实现提前停止训练\n",
    "\n",
    "for n_estimators in range(1, 120):\n",
    "    gbrt_model.n_estimators = n_estimators\n",
    "    gbrt_model.fit(X_train, y_train)\n",
    "    \n",
    "    y_pred = gbrt_model.predict(X_val)\n",
    "    error = mean_squared_error(y_pred=y_pred, y_true=y_val)\n",
    "    \n",
    "    if error < min_error:\n",
    "        min_error = error\n",
    "        n_iter = 0\n",
    "    else:\n",
    "        n_iter+=1\n",
    "        if n_iter == 5:\n",
    "            break   # 提前停止训练"
   ]
  },
  {
   "cell_type": "code",
   "execution_count": 51,
   "metadata": {},
   "outputs": [
    {
     "data": {
      "text/plain": [
       "56"
      ]
     },
     "execution_count": 51,
     "metadata": {},
     "output_type": "execute_result"
    }
   ],
   "source": [
    "gbrt_model.n_estimators - 5"
   ]
  },
  {
   "cell_type": "code",
   "execution_count": 52,
   "metadata": {
    "scrolled": true
   },
   "outputs": [
    {
     "data": {
      "text/plain": [
       "0.002712853325235463"
      ]
     },
     "execution_count": 52,
     "metadata": {},
     "output_type": "execute_result"
    }
   ],
   "source": [
    "min_error"
   ]
  },
  {
   "cell_type": "markdown",
   "metadata": {},
   "source": [
    "`GradientBoostingRegressor()`的超参数`subsample`,指定用于训练每棵树的实例的比例。这也是用更高的偏差换取了更低的方差，同时加速了训练过程，这种技术被称为`随机梯度提升`"
   ]
  },
  {
   "cell_type": "markdown",
   "metadata": {},
   "source": [
    "### XGBoost"
   ]
  },
  {
   "cell_type": "code",
   "execution_count": 53,
   "metadata": {},
   "outputs": [],
   "source": [
    "import xgboost"
   ]
  },
  {
   "cell_type": "code",
   "execution_count": 54,
   "metadata": {},
   "outputs": [
    {
     "name": "stdout",
     "output_type": "stream",
     "text": [
      "Validation MSE: 0.004000408205406276\n"
     ]
    }
   ],
   "source": [
    "xgb_model = xgboost.XGBRegressor(random_state=42)\n",
    "xgb_model.fit(X_train, y_train)\n",
    "\n",
    "y_pred = xgb_model.predict(X_val)\n",
    "error = mean_squared_error(y_pred=y_pred, y_true=y_val)\n",
    "print(\"Validation MSE:\", error) "
   ]
  },
  {
   "cell_type": "code",
   "execution_count": 55,
   "metadata": {},
   "outputs": [
    {
     "name": "stdout",
     "output_type": "stream",
     "text": [
      "[0]\tvalidation_0-rmse:0.22834\n",
      "[1]\tvalidation_0-rmse:0.16224\n",
      "[2]\tvalidation_0-rmse:0.11843\n",
      "[3]\tvalidation_0-rmse:0.08760\n",
      "[4]\tvalidation_0-rmse:0.06848\n",
      "[5]\tvalidation_0-rmse:0.05709\n",
      "[6]\tvalidation_0-rmse:0.05297\n",
      "[7]\tvalidation_0-rmse:0.05129\n",
      "[8]\tvalidation_0-rmse:0.05155\n",
      "Validation MSE: 0.002630868681577655\n"
     ]
    }
   ],
   "source": [
    "# 实现自动处理提前停止\n",
    "xgb_model.fit(X_train, y_train, \n",
    "              eval_set=[(X_val, y_val)],\n",
    "              early_stopping_rounds=2\n",
    "             )\n",
    "y_pred = xgb_model.predict(X_val)\n",
    "error = mean_squared_error(y_pred=y_pred, y_true=y_val)\n",
    "print(\"Validation MSE:\", error) "
   ]
  },
  {
   "cell_type": "markdown",
   "metadata": {},
   "source": [
    "# 堆叠法 Stacking"
   ]
  },
  {
   "cell_type": "markdown",
   "metadata": {},
   "source": [
    "`堆叠法stacking`,又称`层叠泛化法`。它是基于一个简单的想法:与其使用一些简单的函数(比如硬投票)来聚合集成中所有预测器的预测,我们为什么不训练一个模型来执行这个聚合呢?"
   ]
  },
  {
   "cell_type": "markdown",
   "metadata": {},
   "source": [
    "<img src=\"./images/other/7-6.png\" width=\"400\">"
   ]
  },
  {
   "cell_type": "markdown",
   "metadata": {},
   "source": [
    "底部的三个预测器分别预测了不同的值(3.1,2.7和2.9),然后最终的预测器(称为`混合器`或`元学习器`)将这些预测作为输入,进行最终预测(3.0)."
   ]
  },
  {
   "cell_type": "markdown",
   "metadata": {},
   "source": [
    "调练`混合器`的常用方法是使用`留存集`。我们看看它是如何工作的。"
   ]
  },
  {
   "cell_type": "markdown",
   "metadata": {},
   "source": [
    "1. 首先,将训练集分为两个子集,第一个子集用来训练第一层的预测器"
   ]
  },
  {
   "cell_type": "markdown",
   "metadata": {},
   "source": [
    "<img src=\"./images/other/7-7.png\" width=\"400\">"
   ]
  },
  {
   "cell_type": "markdown",
   "metadata": {},
   "source": [
    "2. 然后,用第一层的预测器在第二个(留存)子集上进行预测,因为预测器在训练时从未见过这些实例,所以可以确保预测是“干净的”."
   ]
  },
  {
   "cell_type": "markdown",
   "metadata": {},
   "source": [
    "<img src=\"./images/other/7-8.png\" width=\"400\">"
   ]
  },
  {
   "cell_type": "markdown",
   "metadata": {},
   "source": [
    "3. 那么现在对于留存集中的每个实例都有了三个预测值。我们可以使用这些预测值作为输入特征,创建一个新的训练集(新的训练集有三个维度),并保留目标值。在这个新的训练集上训练混合器,让它学习根据第一层的预测来预测目标值。"
   ]
  },
  {
   "cell_type": "markdown",
   "metadata": {},
   "source": [
    "4. 事实上,通过这种方法可以训练多种不同的混合器(例如,一个使用线性回归、另一个使用随机森林回归,等等)。于是我们可以得到一个混合器层。"
   ]
  },
  {
   "cell_type": "markdown",
   "metadata": {},
   "source": [
    "诀窍在于在于将训练集分为三个子集:\n",
    "- 第一个:训练第一层\n",
    "- 第二个:用来创造训练第二层的新训练集(使用第一层的预测)\n",
    "- 第三个:用来创造训练第三层的新训练集(使用第二员的预测)\n",
    "\n",
    "一旦训练完成,我们可以按照顺序遍历每层来对新实例进行预测"
   ]
  },
  {
   "cell_type": "markdown",
   "metadata": {},
   "source": [
    "<img src=\"./images/other/7-9.png\" width=\"400\">"
   ]
  },
  {
   "cell_type": "markdown",
   "metadata": {},
   "source": [
    "# 练习题 Exercise"
   ]
  },
  {
   "cell_type": "markdown",
   "metadata": {},
   "source": [
    "## ex.1"
   ]
  },
  {
   "cell_type": "markdown",
   "metadata": {},
   "source": [
    "Q:如果你已经在完全相同的训练集上训练了5个不同的模型,并且它们都达到了95%的准确率,是否还有机会通过结合这些模型来获得更好的结果?如果可以,该怎么做?如果不行,为什么?"
   ]
  },
  {
   "cell_type": "markdown",
   "metadata": {},
   "source": [
    ">If you have trained five different models and they all achieve 95% precision, **you can try combining them into a voting ensemble, which will often give you even better results.** It works better if **the models are very different** (e.g., an SVM classifier, a Decision Tree classifier, a Logistic Regression classifier, and so on). It is even better if they are **trained on different training instances** (that’s the whole point of bagging and pasting ensembles), but if not this will still be effective as long as the models are very different."
   ]
  },
  {
   "cell_type": "markdown",
   "metadata": {},
   "source": [
    "## ex.2"
   ]
  },
  {
   "cell_type": "markdown",
   "metadata": {},
   "source": [
    "Q:硬投票分类器和软投票分类器有什么区别?"
   ]
  },
  {
   "cell_type": "markdown",
   "metadata": {},
   "source": [
    ">**A hard voting classifier** just counts the votes of each classifier in the ensemble and **picks the class that gets the most votes.** **A soft voting classifier** computes the average estimated class probability for each class and **picks the class with the highest probability.** This gives high-confidence votes more weight and often performs better, but it works only if every classifier is able to estimate class probabilities (e.g., for the SVM classifiers in Scikit-Learn you must set `probability=True`)."
   ]
  },
  {
   "cell_type": "markdown",
   "metadata": {},
   "source": [
    "## ex.3"
   ]
  },
  {
   "cell_type": "markdown",
   "metadata": {},
   "source": [
    "Q:是否可以通过在多个服务器上并行来加速`bagging集成`的训练? `pasting集成`呢?`boosting集成`呢?`随机森林`或 `Stacking集成`呢?"
   ]
  },
  {
   "cell_type": "markdown",
   "metadata": {},
   "source": [
    ">1. It is quite possible to **speed up** training of a **bagging ensemble** by distributing it across multiple servers, since each predictor in the ensemble is **independent of the others**. \n",
    "2. The **same** goes for **pasting ensembles** and **Random Forests**, for the same reason. \n",
    "3. However, each predictor in a **boosting ensemble** is built based on the previous predictor, so training is necessarily sequential, and you will **not gain anything** by distributing training across multiple servers. \n",
    "4. Regarding **stacking ensembles**, all the predictors in a given layer are independent of each other, so they **can be trained** in parallel on multiple servers. However, the predictors in one layer **can only be trained** after the predictors in the previous layer have all been trained."
   ]
  },
  {
   "cell_type": "markdown",
   "metadata": {},
   "source": [
    "## ex.4"
   ]
  },
  {
   "cell_type": "markdown",
   "metadata": {},
   "source": [
    "Q:包外评估的好处是什么?"
   ]
  },
  {
   "cell_type": "markdown",
   "metadata": {},
   "source": [
    ">With out-of-bag evaluation, each predictor in a bagging ensemble is evaluated using instances that it was not trained on (they were held out). This makes it possible to have a fairly unbiased evaluation of the ensemble **without the need for an additional validation set.** Thus, you have more instances available for training, and your ensemble can **perform slightly better.**"
   ]
  },
  {
   "cell_type": "markdown",
   "metadata": {},
   "source": [
    "## ex.5"
   ]
  },
  {
   "cell_type": "markdown",
   "metadata": {},
   "source": [
    "Q:是什么让极端随机树比一般随机森林更加随机?这部分增加的随机性有什么用?极端随机树比一般随机森林快还是慢?"
   ]
  },
  {
   "cell_type": "markdown",
   "metadata": {},
   "source": [
    ">1. When you are growing a tree in a Random Forest, only a random subset(子集) of the features is considered for splitting at each node. This is true as well for **ExtraTrees**, but they go one step further: rather than searching for the best possible thresholds(最佳阈值), like regular Decision Trees do, they **use random thresholds for each feature.** \n",
    "2. This extra randomness acts like a form of **regularization**: if a Random Forest overfits the training data, Extra-Trees might perform better. \n",
    "3. Moreover, since Extra-Trees don’t search for the best possible thresholds, they are **much faster to train than Random Forests**. However, they are **neither faster nor slower than Random Forests when making predictions**."
   ]
  },
  {
   "cell_type": "markdown",
   "metadata": {},
   "source": [
    "## ex.6"
   ]
  },
  {
   "cell_type": "markdown",
   "metadata": {},
   "source": [
    "Q:如果你的 Adaboost集成对训练数据欠拟合,你应该调整哪些超参数?怎么调整?"
   ]
  },
  {
   "cell_type": "markdown",
   "metadata": {},
   "source": [
    ">If your AdaBoost ensemble underfits the training data, you can try **increasing the number of estimators** (`n_estimators`) or **reducing the regularization hyperparameters of the base estimator**(like `max_depth`). You may also try **slightly increasing the learning rate**.(`learning_rate`)"
   ]
  },
  {
   "cell_type": "markdown",
   "metadata": {},
   "source": [
    "## ex.7"
   ]
  },
  {
   "cell_type": "markdown",
   "metadata": {},
   "source": [
    "Q:如果你的梯度提升集成对训练集过拟合,你是应该提升还是降低学习率?"
   ]
  },
  {
   "cell_type": "markdown",
   "metadata": {},
   "source": [
    ">If your Gradient Boosting ensemble overfits the training set, you should try **decreasing the learning rate.** You could also **use early stopping to find the right number of predictors** (you probably have too many)."
   ]
  },
  {
   "cell_type": "markdown",
   "metadata": {},
   "source": [
    "## ex.8"
   ]
  },
  {
   "cell_type": "markdown",
   "metadata": {},
   "source": [
    "Q:完成下面的任务\n",
    ">1. 加载 MNIST数据集(第3章中有介绍),将其分为一个训练集、一个验证集和一个测试集(例如,使用50000个实例训练、10000个实例验证、10000个实例测试)。 \n",
    "2. 训练多个分类器,比如一个随机森林分类器、一个极端随机树分类器、一个SVM分类器和一个神经网络分类器。\n",
    "3. 尝试使用软投票法或者硬投票法将它们组合成一个集成,这个集成在验证集上的表现要胜过它们各自单独的表现。\n",
    "4. 成功找到集成后,在测试集上测试。与单个的分类器相比,它的性能要好多少?\n"
   ]
  },
  {
   "cell_type": "markdown",
   "metadata": {},
   "source": [
    "    1. Load the MNIST data and split it into a training set, a validation set, and a test set (e.g., use 50,000 instances for training, 10,000 for validation, and 10,000 for testing)."
   ]
  },
  {
   "cell_type": "code",
   "execution_count": 56,
   "metadata": {},
   "outputs": [],
   "source": [
    "from sklearn.datasets import fetch_openml\n",
    "\n",
    "mnist = fetch_openml('mnist_784', version=1, cache=True)\n",
    "X_mnist = mnist['data'].astype(np.float32)\n",
    "y_mnist = mnist['target'].astype(np.uint8)"
   ]
  },
  {
   "cell_type": "code",
   "execution_count": 57,
   "metadata": {},
   "outputs": [],
   "source": [
    "X_train, X_test, y_train, y_test = train_test_split(X_mnist, y_mnist, \n",
    "                                                    test_size=10000, random_state=42)\n",
    "# 从训练集中划分出验证集\n",
    "X_train, X_val, y_train, y_val = train_test_split(X_train, y_train, \n",
    "                                                    test_size=10000, random_state=42)"
   ]
  },
  {
   "cell_type": "code",
   "execution_count": 58,
   "metadata": {
    "scrolled": false
   },
   "outputs": [
    {
     "data": {
      "text/plain": [
       "((50000,), (10000,), (10000,))"
      ]
     },
     "execution_count": 58,
     "metadata": {},
     "output_type": "execute_result"
    }
   ],
   "source": [
    "y_train.shape, y_val.shape, y_test.shape, "
   ]
  },
  {
   "cell_type": "markdown",
   "metadata": {},
   "source": [
    "    2. Then train various classifiers, such as a Random Forest classifier, an Extra-Trees classifier, and an SVM."
   ]
  },
  {
   "cell_type": "code",
   "execution_count": 59,
   "metadata": {},
   "outputs": [],
   "source": [
    "from sklearn.ensemble import RandomForestClassifier, ExtraTreesClassifier\n",
    "from sklearn.svm import LinearSVC\n",
    "from sklearn.neural_network import MLPClassifier"
   ]
  },
  {
   "cell_type": "code",
   "execution_count": 60,
   "metadata": {},
   "outputs": [],
   "source": [
    "rf_model = RandomForestClassifier(n_estimators=100, random_state=42)\n",
    "extra_model = ExtraTreesClassifier(n_estimators=100, random_state=42)\n",
    "svm_model = LinearSVC(max_iter=100, tol=20, random_state=42)\n",
    "mlp_model = MLPClassifier(random_state=42)"
   ]
  },
  {
   "cell_type": "code",
   "execution_count": 61,
   "metadata": {
    "scrolled": true
   },
   "outputs": [
    {
     "name": "stdout",
     "output_type": "stream",
     "text": [
      "<class 'sklearn.ensemble.forest.RandomForestClassifier'> 0.9692\n",
      "<class 'sklearn.ensemble.forest.ExtraTreesClassifier'> 0.9715\n",
      "<class 'sklearn.svm.classes.LinearSVC'> 0.8295\n",
      "<class 'sklearn.neural_network.multilayer_perceptron.MLPClassifier'> 0.963\n"
     ]
    }
   ],
   "source": [
    "estimators = [rf_model, extra_model, svm_model, mlp_model]\n",
    "\n",
    "# 训练模型并打印各个弱分类器的评分\n",
    "for estimator in estimators:\n",
    "    estimator.fit(X_train, y_train)\n",
    "    \n",
    "    score = estimator.score(X_val, y_val)\n",
    "    print(estimator.__class__,score)"
   ]
  },
  {
   "cell_type": "markdown",
   "metadata": {},
   "source": [
    "    3. Next, try to combine them into an ensemble that outperforms them all on the validation set, using a soft or hard voting classifier."
   ]
  },
  {
   "cell_type": "code",
   "execution_count": 62,
   "metadata": {},
   "outputs": [],
   "source": [
    "from sklearn.ensemble import VotingClassifier"
   ]
  },
  {
   "cell_type": "code",
   "execution_count": 63,
   "metadata": {},
   "outputs": [],
   "source": [
    "models = [\n",
    "    ('RandomForestClassifier', rf_model),\n",
    "    ('ExtraTreesClassifier', extra_model),\n",
    "    ('LinearSVC', svm_model),\n",
    "    ('MLPClassifier', mlp_model)\n",
    "]"
   ]
  },
  {
   "cell_type": "code",
   "execution_count": 64,
   "metadata": {
    "scrolled": true
   },
   "outputs": [
    {
     "data": {
      "text/plain": [
       "VotingClassifier(estimators=[('RandomForestClassifier',\n",
       "                              RandomForestClassifier(bootstrap=True,\n",
       "                                                     class_weight=None,\n",
       "                                                     criterion='gini',\n",
       "                                                     max_depth=None,\n",
       "                                                     max_features='auto',\n",
       "                                                     max_leaf_nodes=None,\n",
       "                                                     min_impurity_decrease=0.0,\n",
       "                                                     min_impurity_split=None,\n",
       "                                                     min_samples_leaf=1,\n",
       "                                                     min_samples_split=2,\n",
       "                                                     min_weight_fraction_leaf=0.0,\n",
       "                                                     n_estimators=100,\n",
       "                                                     n_jobs=None,\n",
       "                                                     oob_score=False,\n",
       "                                                     rand...\n",
       "                                            beta_2=0.999, early_stopping=False,\n",
       "                                            epsilon=1e-08,\n",
       "                                            hidden_layer_sizes=(100,),\n",
       "                                            learning_rate='constant',\n",
       "                                            learning_rate_init=0.001,\n",
       "                                            max_iter=200, momentum=0.9,\n",
       "                                            n_iter_no_change=10,\n",
       "                                            nesterovs_momentum=True,\n",
       "                                            power_t=0.5, random_state=42,\n",
       "                                            shuffle=True, solver='adam',\n",
       "                                            tol=0.0001, validation_fraction=0.1,\n",
       "                                            verbose=False, warm_start=False))],\n",
       "                 flatten_transform=True, n_jobs=None, voting='hard',\n",
       "                 weights=None)"
      ]
     },
     "execution_count": 64,
     "metadata": {},
     "output_type": "execute_result"
    }
   ],
   "source": [
    "voting_clf = VotingClassifier(estimators=models, voting='hard')\n",
    "voting_clf.fit(X_train, y_train)"
   ]
  },
  {
   "cell_type": "code",
   "execution_count": 65,
   "metadata": {},
   "outputs": [
    {
     "data": {
      "text/plain": [
       "0.9709"
      ]
     },
     "execution_count": 65,
     "metadata": {},
     "output_type": "execute_result"
    }
   ],
   "source": [
    "voting_clf.score(X_val, y_val)"
   ]
  },
  {
   "cell_type": "markdown",
   "metadata": {},
   "source": [
    "由于SVM预测器的评分器较低，我们在硬投票分分类器中尝试将其忽略."
   ]
  },
  {
   "cell_type": "code",
   "execution_count": 66,
   "metadata": {
    "scrolled": true
   },
   "outputs": [
    {
     "data": {
      "text/plain": [
       "('LinearSVC', None)"
      ]
     },
     "execution_count": 66,
     "metadata": {},
     "output_type": "execute_result"
    }
   ],
   "source": [
    "voting_clf.set_params(LinearSVC=None)\n",
    "voting_clf.estimators[2]"
   ]
  },
  {
   "cell_type": "code",
   "execution_count": 67,
   "metadata": {
    "scrolled": true
   },
   "outputs": [
    {
     "data": {
      "text/plain": [
       "LinearSVC(C=1.0, class_weight=None, dual=True, fit_intercept=True,\n",
       "          intercept_scaling=1, loss='squared_hinge', max_iter=100,\n",
       "          multi_class='ovr', penalty='l2', random_state=42, tol=20, verbose=0)"
      ]
     },
     "execution_count": 67,
     "metadata": {},
     "output_type": "execute_result"
    }
   ],
   "source": [
    "voting_clf.estimators_[2]"
   ]
  },
  {
   "cell_type": "markdown",
   "metadata": {},
   "source": [
    "虽然更新了估算器列表,但没有更新已训练的估算器列表.解决方法是可以重新训练,或者直接从已训练的估算器列表中移除."
   ]
  },
  {
   "cell_type": "code",
   "execution_count": 68,
   "metadata": {},
   "outputs": [
    {
     "data": {
      "text/plain": [
       "[RandomForestClassifier(bootstrap=True, class_weight=None, criterion='gini',\n",
       "                        max_depth=None, max_features='auto', max_leaf_nodes=None,\n",
       "                        min_impurity_decrease=0.0, min_impurity_split=None,\n",
       "                        min_samples_leaf=1, min_samples_split=2,\n",
       "                        min_weight_fraction_leaf=0.0, n_estimators=100,\n",
       "                        n_jobs=None, oob_score=False, random_state=42, verbose=0,\n",
       "                        warm_start=False),\n",
       " ExtraTreesClassifier(bootstrap=False, class_weight=None, criterion='gini',\n",
       "                      max_depth=None, max_features='auto', max_leaf_nodes=None,\n",
       "                      min_impurity_decrease=0.0, min_impurity_split=None,\n",
       "                      min_samples_leaf=1, min_samples_split=2,\n",
       "                      min_weight_fraction_leaf=0.0, n_estimators=100,\n",
       "                      n_jobs=None, oob_score=False, random_state=42, verbose=0,\n",
       "                      warm_start=False),\n",
       " MLPClassifier(activation='relu', alpha=0.0001, batch_size='auto', beta_1=0.9,\n",
       "               beta_2=0.999, early_stopping=False, epsilon=1e-08,\n",
       "               hidden_layer_sizes=(100,), learning_rate='constant',\n",
       "               learning_rate_init=0.001, max_iter=200, momentum=0.9,\n",
       "               n_iter_no_change=10, nesterovs_momentum=True, power_t=0.5,\n",
       "               random_state=42, shuffle=True, solver='adam', tol=0.0001,\n",
       "               validation_fraction=0.1, verbose=False, warm_start=False)]"
      ]
     },
     "execution_count": 68,
     "metadata": {},
     "output_type": "execute_result"
    }
   ],
   "source": [
    "del voting_clf.estimators_[2]\n",
    "voting_clf.estimators_"
   ]
  },
  {
   "cell_type": "code",
   "execution_count": 69,
   "metadata": {
    "scrolled": true
   },
   "outputs": [
    {
     "data": {
      "text/plain": [
       "0.9741"
      ]
     },
     "execution_count": 69,
     "metadata": {},
     "output_type": "execute_result"
    }
   ],
   "source": [
    "voting_clf.score(X_val, y_val)"
   ]
  },
  {
   "cell_type": "markdown",
   "metadata": {},
   "source": [
    "得到的结果优于添加了SVM的评分(0.9709)"
   ]
  },
  {
   "cell_type": "code",
   "execution_count": 70,
   "metadata": {},
   "outputs": [
    {
     "data": {
      "text/plain": [
       "0.9711"
      ]
     },
     "execution_count": 70,
     "metadata": {},
     "output_type": "execute_result"
    }
   ],
   "source": [
    "voting_clf.voting = 'soft'\n",
    "voting_clf.score(X_val, y_val)\n",
    "voting_clf.score(X_val, y_val)"
   ]
  },
  {
   "cell_type": "markdown",
   "metadata": {},
   "source": [
    "无需重新训练预测器，也可以转换为`软投票法`,评分结果显示这种情况下`硬投票法`更优."
   ]
  },
  {
   "cell_type": "markdown",
   "metadata": {},
   "source": [
    "4. Once you have found one, try it on the test set. How much better does it perform compared to the individual classifiers?"
   ]
  },
  {
   "cell_type": "code",
   "execution_count": 71,
   "metadata": {},
   "outputs": [
    {
     "data": {
      "text/plain": [
       "0.9706"
      ]
     },
     "execution_count": 71,
     "metadata": {},
     "output_type": "execute_result"
    }
   ],
   "source": [
    "voting_clf.voting = 'hard'\n",
    "voting_clf.score(X_test, y_test)"
   ]
  },
  {
   "cell_type": "code",
   "execution_count": 72,
   "metadata": {},
   "outputs": [
    {
     "name": "stdout",
     "output_type": "stream",
     "text": [
      "<class 'sklearn.ensemble.forest.RandomForestClassifier'> 0.9645\n",
      "<class 'sklearn.ensemble.forest.ExtraTreesClassifier'> 0.9691\n",
      "<class 'sklearn.neural_network.multilayer_perceptron.MLPClassifier'> 0.9573\n"
     ]
    }
   ],
   "source": [
    "for estimator in voting_clf.estimators_:\n",
    "    score = estimator.score(X_test, y_test)\n",
    "    print(estimator.__class__,score)"
   ]
  },
  {
   "cell_type": "markdown",
   "metadata": {},
   "source": [
    "在这种情况下，投票分类器仅略微略微降低了最佳模型的错误率。"
   ]
  },
  {
   "cell_type": "markdown",
   "metadata": {},
   "source": [
    "## ex.9"
   ]
  },
  {
   "cell_type": "markdown",
   "metadata": {},
   "source": [
    "Q:完成下面的任务\n",
    ">1. 运行练习题8中的单个分类器,用**验证集**进行预测,然后用预测结果创建一个新的训练集:新训练集中的毎个实例都是一个向量,这个向量包含所有分类器对于一张图像的一组预测,目标值是图像的类。\n",
    "2. 恭喜,你成功训练了一个混合器,结合第一层的分类器,它们一起构成了一个`Stacking集成`。现在在测试集上评估这个集成。对于测试集中的每张图像,使用所有的分类器进行预测,然后将预测结果提供给混合器,得到集成的预测。与前面训练的投票分类器相比,这个集成的结果如何?"
   ]
  },
  {
   "cell_type": "markdown",
   "metadata": {},
   "source": [
    "    1. Run the individual classifiers from the previous exercise to make predictions on the validation set, and create a new training set with the resulting predictions: each training instance is a vector containing the set of predictions from all your classifiers for an image, and the target is the image's class. Train a classifier on this new training set."
   ]
  },
  {
   "cell_type": "code",
   "execution_count": 73,
   "metadata": {},
   "outputs": [
    {
     "data": {
      "text/plain": [
       "(10000, 4)"
      ]
     },
     "execution_count": 73,
     "metadata": {},
     "output_type": "execute_result"
    }
   ],
   "source": [
    "val_size = len(X_val)    # 10000\n",
    "estimator_size = len(estimators)   # 4\n",
    "\n",
    "X_val_pred = np.empty((val_size, estimator_size), dtype=np.float32)\n",
    "X_val_pred.shape"
   ]
  },
  {
   "cell_type": "code",
   "execution_count": 74,
   "metadata": {},
   "outputs": [
    {
     "data": {
      "text/plain": [
       "array([[5., 5., 5., 5.],\n",
       "       [8., 8., 8., 8.],\n",
       "       [2., 2., 2., 2.],\n",
       "       ...,\n",
       "       [7., 7., 7., 7.],\n",
       "       [6., 6., 6., 6.],\n",
       "       [7., 7., 7., 7.]], dtype=float32)"
      ]
     },
     "execution_count": 74,
     "metadata": {},
     "output_type": "execute_result"
    }
   ],
   "source": [
    "# enumerate() 函数用于将一个可遍历的数据对象组合为一个索引序列，同时列出数据和数据下标\n",
    "for index, estimator in enumerate(estimators):\n",
    "    pred = estimator.predict(X_val)\n",
    "    X_val_pred[:, index] = pred\n",
    "X_val_pred"
   ]
  },
  {
   "cell_type": "code",
   "execution_count": 75,
   "metadata": {
    "scrolled": true
   },
   "outputs": [
    {
     "data": {
      "text/plain": [
       "0.9698"
      ]
     },
     "execution_count": 75,
     "metadata": {},
     "output_type": "execute_result"
    }
   ],
   "source": [
    "rf_blender = RandomForestClassifier(n_estimators=200, oob_score=True, random_state=42)\n",
    "rf_blender.fit(X_val_pred, y_val)\n",
    "rf_blender.oob_score_"
   ]
  },
  {
   "cell_type": "markdown",
   "metadata": {},
   "source": [
    "    2. Congratulations, you have just trained a blender, and together with the classifiers they form a stacking ensemble! Now let's evaluate the ensemble on the test set. For each image in the test set, make predictions with all your classifiers, then feed the predictions to the blender to get the ensemble's predictions. How does it compare to the voting classifier you trained earlier?"
   ]
  },
  {
   "cell_type": "code",
   "execution_count": 76,
   "metadata": {},
   "outputs": [
    {
     "data": {
      "text/plain": [
       "(10000, 4)"
      ]
     },
     "execution_count": 76,
     "metadata": {},
     "output_type": "execute_result"
    }
   ],
   "source": [
    "test_size = len(X_test)    # 10000\n",
    "estimator_size = len(estimators)   # 4\n",
    "\n",
    "X_test_pred = np.empty((test_size, estimator_size), dtype=np.float32)\n",
    "X_test_pred.shape"
   ]
  },
  {
   "cell_type": "code",
   "execution_count": 77,
   "metadata": {},
   "outputs": [
    {
     "data": {
      "text/plain": [
       "array([[8., 8., 8., 8.],\n",
       "       [4., 4., 4., 4.],\n",
       "       [8., 8., 8., 8.],\n",
       "       ...,\n",
       "       [3., 3., 3., 3.],\n",
       "       [8., 8., 3., 3.],\n",
       "       [3., 3., 3., 3.]], dtype=float32)"
      ]
     },
     "execution_count": 77,
     "metadata": {},
     "output_type": "execute_result"
    }
   ],
   "source": [
    "for index, estimator in enumerate(estimators):\n",
    "    pred = estimator.predict(X_test)    \n",
    "    X_test_pred[:, index] = pred\n",
    "X_test_pred"
   ]
  },
  {
   "cell_type": "code",
   "execution_count": 78,
   "metadata": {
    "scrolled": true
   },
   "outputs": [
    {
     "data": {
      "text/plain": [
       "0.9661"
      ]
     },
     "execution_count": 78,
     "metadata": {},
     "output_type": "execute_result"
    }
   ],
   "source": [
    "rf_blender.score(X_test_pred, y_test)"
   ]
  },
  {
   "cell_type": "markdown",
   "metadata": {},
   "source": [
    "与前面训练的投票分类器相比,这个集成的结果并没有得到提升."
   ]
  },
  {
   "cell_type": "markdown",
   "metadata": {},
   "source": [
    "> Apotosome 08/23/21"
   ]
  }
 ],
 "metadata": {
  "kernelspec": {
   "display_name": "Python 3",
   "language": "python",
   "name": "python3"
  },
  "language_info": {
   "codemirror_mode": {
    "name": "ipython",
    "version": 3
   },
   "file_extension": ".py",
   "mimetype": "text/x-python",
   "name": "python",
   "nbconvert_exporter": "python",
   "pygments_lexer": "ipython3",
   "version": "3.7.4"
  },
  "toc": {
   "base_numbering": 1,
   "nav_menu": {},
   "number_sections": true,
   "sideBar": true,
   "skip_h1_title": false,
   "title_cell": "Table of Contents",
   "title_sidebar": "Contents",
   "toc_cell": false,
   "toc_position": {
    "height": "calc(100% - 180px)",
    "left": "10px",
    "top": "150px",
    "width": "254px"
   },
   "toc_section_display": true,
   "toc_window_display": true
  }
 },
 "nbformat": 4,
 "nbformat_minor": 2
}
