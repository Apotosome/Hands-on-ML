{
 "cells": [
  {
   "cell_type": "code",
   "execution_count": 1,
   "id": "76eb9801",
   "metadata": {
    "execution": {
     "iopub.execute_input": "2022-01-25T12:00:29.226343Z",
     "iopub.status.busy": "2022-01-25T12:00:29.224838Z",
     "iopub.status.idle": "2022-01-25T12:00:35.024793Z",
     "shell.execute_reply": "2022-01-25T12:00:35.023689Z",
     "shell.execute_reply.started": "2022-01-25T11:56:36.979707Z"
    },
    "papermill": {
     "duration": 5.824811,
     "end_time": "2022-01-25T12:00:35.024991",
     "exception": false,
     "start_time": "2022-01-25T12:00:29.200180",
     "status": "completed"
    },
    "tags": []
   },
   "outputs": [],
   "source": [
    "import numpy as np\n",
    "import pandas as pd\n",
    "import tensorflow as tf\n",
    "import tensorflow.keras as keras\n",
    "import os\n",
    "import time \n",
    "import matplotlib.pyplot as plt\n",
    "import matplotlib as mpl\n",
    "import seaborn as sns\n",
    "\n",
    "\n",
    "from functools import partial\n",
    "\n",
    "def initialization():\n",
    "    keras.backend.clear_session()\n",
    "    np.random.seed(42)\n",
    "    tf.random.set_seed(42)"
   ]
  },
  {
   "cell_type": "markdown",
   "id": "8ad27807",
   "metadata": {
    "papermill": {
     "duration": 0.021146,
     "end_time": "2022-01-25T12:00:35.068146",
     "exception": false,
     "start_time": "2022-01-25T12:00:35.047000",
     "status": "completed"
    },
    "tags": []
   },
   "source": [
    "### 使用Keras实现ResNet CNN"
   ]
  },
  {
   "cell_type": "code",
   "execution_count": 2,
   "id": "a0b4eb64",
   "metadata": {
    "execution": {
     "iopub.execute_input": "2022-01-25T12:00:35.113069Z",
     "iopub.status.busy": "2022-01-25T12:00:35.112287Z",
     "iopub.status.idle": "2022-01-25T12:00:35.130575Z",
     "shell.execute_reply": "2022-01-25T12:00:35.130155Z",
     "shell.execute_reply.started": "2022-01-25T11:56:38.923637Z"
    },
    "papermill": {
     "duration": 0.04228,
     "end_time": "2022-01-25T12:00:35.130696",
     "exception": false,
     "start_time": "2022-01-25T12:00:35.088416",
     "status": "completed"
    },
    "tags": []
   },
   "outputs": [],
   "source": [
    "initialization()"
   ]
  },
  {
   "cell_type": "code",
   "execution_count": 3,
   "id": "4ee40329",
   "metadata": {
    "execution": {
     "iopub.execute_input": "2022-01-25T12:00:35.172724Z",
     "iopub.status.busy": "2022-01-25T12:00:35.171916Z",
     "iopub.status.idle": "2022-01-25T12:00:35.175872Z",
     "shell.execute_reply": "2022-01-25T12:00:35.176276Z",
     "shell.execute_reply.started": "2022-01-25T11:56:38.932241Z"
    },
    "papermill": {
     "duration": 0.026553,
     "end_time": "2022-01-25T12:00:35.176416",
     "exception": false,
     "start_time": "2022-01-25T12:00:35.149863",
     "status": "completed"
    },
    "tags": []
   },
   "outputs": [],
   "source": [
    "from tensorflow.keras import layers, Model, Sequential"
   ]
  },
  {
   "cell_type": "code",
   "execution_count": 4,
   "id": "c0e9f09e",
   "metadata": {
    "execution": {
     "iopub.execute_input": "2022-01-25T12:00:35.220441Z",
     "iopub.status.busy": "2022-01-25T12:00:35.219608Z",
     "iopub.status.idle": "2022-01-25T12:00:35.223558Z",
     "shell.execute_reply": "2022-01-25T12:00:35.223107Z",
     "shell.execute_reply.started": "2022-01-25T11:56:38.942895Z"
    },
    "papermill": {
     "duration": 0.027557,
     "end_time": "2022-01-25T12:00:35.223678",
     "exception": false,
     "start_time": "2022-01-25T12:00:35.196121",
     "status": "completed"
    },
    "tags": []
   },
   "outputs": [],
   "source": [
    "from tensorflow.keras.layers import Input, Dense, Conv2D, MaxPool2D, Softmax, BatchNormalization, ReLU, GlobalAvgPool2D, Add, Dropout\n",
    "from tensorflow.keras.models import Model, Sequential"
   ]
  },
  {
   "cell_type": "code",
   "execution_count": 5,
   "id": "30ae6aee",
   "metadata": {
    "execution": {
     "iopub.execute_input": "2022-01-25T12:00:35.278026Z",
     "iopub.status.busy": "2022-01-25T12:00:35.277094Z",
     "iopub.status.idle": "2022-01-25T12:00:35.279512Z",
     "shell.execute_reply": "2022-01-25T12:00:35.279072Z",
     "shell.execute_reply.started": "2022-01-25T11:56:38.952857Z"
    },
    "papermill": {
     "duration": 0.035275,
     "end_time": "2022-01-25T12:00:35.279633",
     "exception": false,
     "start_time": "2022-01-25T12:00:35.244358",
     "status": "completed"
    },
    "tags": []
   },
   "outputs": [],
   "source": [
    "# 定义残差模块-瓶颈层形式\n",
    "class Residual_Bottleneck(layers.Layer):\n",
    "    expansion = 4  # 扩展系数\n",
    "\n",
    "    def __init__(self, out_channel, strides=1, downsample=None, **kwargs):\n",
    "        super(Residual_Bottleneck, self).__init__(**kwargs)\n",
    "        # 1×1卷积核:降低特征维度\n",
    "        self.conv1 = Conv2D(filters=out_channel,\n",
    "                            kernel_size=1,\n",
    "                            use_bias=False,\n",
    "                            name=\"conv1\")  # 名字用于在迁移学习中与预训练模型的层进行匹配\n",
    "        self.bn1 = BatchNormalization(momentum=0.9, epsilon=1e-5, name=\"conv1/BatchNorm\")\n",
    "\n",
    "        self.conv2 = Conv2D(filters=out_channel,\n",
    "                            kernel_size=3,\n",
    "                            strides=strides,\n",
    "                            padding=\"SAME\",\n",
    "                            use_bias=False,\n",
    "                            name=\"conv2\")\n",
    "        self.bn2 = BatchNormalization(momentum=0.9, epsilon=1e-5, name=\"conv2/BatchNorm\")\n",
    "\n",
    "        # 1×1卷积核:升高特征维度\n",
    "        self.conv3 = Conv2D(filters=out_channel * self.expansion,  # 64->256  128->512  ...\n",
    "                            kernel_size=1,\n",
    "                            use_bias=False,\n",
    "                            name=\"conv3\")\n",
    "        self.bn3 = BatchNormalization(momentum=0.9, epsilon=1e-5, name=\"conv3/BatchNorm\")\n",
    "        # down_sample：使用改变特征图大小核深度的跳过连接\n",
    "        self.downsample = downsample\n",
    "        self.relu = ReLU()\n",
    "        self.add = Add()\n",
    "\n",
    "    def call(self, inputs, training=False):\n",
    "        # 跳过连接分支\n",
    "        skip_Z = inputs\n",
    "\n",
    "        # 使用改变特征图大小核深度的跳过连接分支\n",
    "        if self.downsample is not None:\n",
    "            skip_Z = self.downsample(inputs)\n",
    "\n",
    "        # 主分支\n",
    "        Z = self.conv1(inputs)\n",
    "        Z = self.bn1(Z, training=training)\n",
    "        Z = self.relu(Z)\n",
    "\n",
    "        Z = self.conv2(Z)\n",
    "        Z = self.bn2(Z, training=training)\n",
    "        Z = self.relu(Z)\n",
    "\n",
    "        Z = self.conv3(Z)\n",
    "        Z = self.bn3(Z, training=training)\n",
    "\n",
    "        Z = self.add([Z, skip_Z])\n",
    "        Z = self.relu(Z)\n",
    "\n",
    "        return Z"
   ]
  },
  {
   "cell_type": "code",
   "execution_count": 6,
   "id": "4b26afdd",
   "metadata": {
    "execution": {
     "iopub.execute_input": "2022-01-25T12:00:35.323918Z",
     "iopub.status.busy": "2022-01-25T12:00:35.323065Z",
     "iopub.status.idle": "2022-01-25T12:00:35.332983Z",
     "shell.execute_reply": "2022-01-25T12:00:35.332299Z",
     "shell.execute_reply.started": "2022-01-25T11:56:38.968004Z"
    },
    "papermill": {
     "duration": 0.032295,
     "end_time": "2022-01-25T12:00:35.333137",
     "exception": false,
     "start_time": "2022-01-25T12:00:35.300842",
     "status": "completed"
    },
    "tags": []
   },
   "outputs": [],
   "source": [
    "def make_conv_x(block, block_num, in_channel, unit1_channel, name, strides=1):\n",
    "    \"\"\"\n",
    "    :param block: 可选择 Residual_Basic 或 Residual_Bottleneck\n",
    "    :param block_num: 残差结构数量\n",
    "    :param in_channel: 上一层输出特征矩阵的通道数\n",
    "    :param unit1_channel: 本残差模块第一个单元的卷积层的的通道数\n",
    "    \"\"\"\n",
    "    # 使用改变特征图大小核深度的跳过连接分支(虚线结构)\n",
    "    # 1. 当strides大于1时需要：高宽/2,深度加深\n",
    "    # 2. 对于18和34-layer: 第一层不需要虚线结构\n",
    "    # 3. 对于50,101和152-layer: 第一层需要虚线结构：调整特征矩阵的深度，高宽不变.\n",
    "    #                                           ->kernel_size=1\n",
    "    skipLayer = None\n",
    "    out_channel = unit1_channel * block.expansion  # conv3_channel\n",
    "    if (strides != 1) or (in_channel != out_channel):\n",
    "        skipLayer = Sequential([\n",
    "            Conv2D(filters=out_channel, kernel_size=1, strides=strides,\n",
    "                   use_bias=False, name=\"conv1\"),\n",
    "            BatchNormalization(momentum=0.9, epsilon=1.001e-5, name=\"BatchNorm\")\n",
    "        ], name=\"shortcut\")  # 跳过层即捷径层\n",
    "\n",
    "    layersList = []\n",
    "    # 首先针对第一个单元进行处理\n",
    "    layersList.append(block(out_channel=unit1_channel, strides=strides,\n",
    "                            downsample=skipLayer,\n",
    "                            name=\"unit_1\"))\n",
    "    # 然后针对其他单元进行处理\n",
    "    for index in range(1, block_num):  # 3 -> 1, 2\n",
    "        layersList.append(block(out_channel=unit1_channel, strides=1,\n",
    "                                downsample=None,\n",
    "                                name=\"unit_\" + str(index + 1)))\n",
    "\n",
    "    return Sequential(layersList, name=name)"
   ]
  },
  {
   "cell_type": "code",
   "execution_count": 7,
   "id": "516f235e",
   "metadata": {
    "execution": {
     "iopub.execute_input": "2022-01-25T12:00:35.411889Z",
     "iopub.status.busy": "2022-01-25T12:00:35.410981Z",
     "iopub.status.idle": "2022-01-25T12:00:35.426581Z",
     "shell.execute_reply": "2022-01-25T12:00:35.428115Z",
     "shell.execute_reply.started": "2022-01-25T11:56:38.983027Z"
    },
    "papermill": {
     "duration": 0.061433,
     "end_time": "2022-01-25T12:00:35.428500",
     "exception": false,
     "start_time": "2022-01-25T12:00:35.367067",
     "status": "completed"
    },
    "tags": []
   },
   "outputs": [],
   "source": [
    "def resnet(block, block_num_list, height=224, width=224, num_classes=1000, include_top=True):\n",
    "    \"\"\"\n",
    "    :param block: 可选择 Residual_Basic 或 Residual_Bottleneck\n",
    "    :param block_num_list: 残差结构数量 输入为列表\n",
    "    :param height: 输入高度像素\n",
    "    :param width: 输入宽度像素\n",
    "    :param num_classes:  标签的类别数量\n",
    "    :param include_top: \n",
    "    :return: \n",
    "    \"\"\"\n",
    "    input = Input(shape=[height, width, 3], dtype=\"float32\")\n",
    "    # ---------------------\n",
    "    Z = Conv2D(filters=64, kernel_size=7, strides=2,\n",
    "               padding=\"SAME\", use_bias=False, name=\"conv1\")(input)\n",
    "    Z = BatchNormalization(momentum=0.9, epsilon=1e-5, name=\"conv1/BatchNorm\")(Z)\n",
    "    Z = ReLU()(Z)\n",
    "\n",
    "    Z = MaxPool2D(pool_size=3, strides=2, padding=\"SAME\")(Z)\n",
    "    # ---------------------\n",
    "    # 每调用一次make_layer()就生成对应`convN_x`的一系列残差结构\n",
    "    # Z.shape对应上一层输出特征矩阵的shape对应[batch, height, weight, channel]\n",
    "    # Z.shape[-1]代表 channel 深度\n",
    "    Z = make_conv_x(block=block, block_num=block_num_list[0],\n",
    "                    in_channel=Z.shape[-1], unit1_channel=64, name=\"block1\")(Z)\n",
    "    Z = make_conv_x(block=block, block_num=block_num_list[1],\n",
    "                    in_channel=Z.shape[-1], unit1_channel=128, name=\"block2\", strides=2)(Z)\n",
    "    Z = make_conv_x(block, block_num_list[2], Z.shape[-1], 256, \"block3\", 2)(Z)\n",
    "    Z = make_conv_x(block, block_num_list[3], Z.shape[-1], 512, \"block4\", 2)(Z)\n",
    "    # ---------------------\n",
    "    if include_top:  # 不使用迁移学习\n",
    "        Z = GlobalAvgPool2D()(Z)  # 全局平局池化:结合了pool和flatten的功能\n",
    "        Z = Dense(units=num_classes, name=\"logits\")(Z)\n",
    "        predict = Softmax()(Z)\n",
    "    else:  # 使用迁移学习 可以在后面自定义所需要的层\n",
    "        predict = Z\n",
    "\n",
    "    model = Model(inputs=input, outputs=predict)\n",
    "    return model\n"
   ]
  },
  {
   "cell_type": "code",
   "execution_count": 8,
   "id": "1c2fe500",
   "metadata": {
    "execution": {
     "iopub.execute_input": "2022-01-25T12:00:35.497823Z",
     "iopub.status.busy": "2022-01-25T12:00:35.496904Z",
     "iopub.status.idle": "2022-01-25T12:00:35.499379Z",
     "shell.execute_reply": "2022-01-25T12:00:35.498729Z",
     "shell.execute_reply.started": "2022-01-25T11:56:38.997701Z"
    },
    "papermill": {
     "duration": 0.037736,
     "end_time": "2022-01-25T12:00:35.499531",
     "exception": false,
     "start_time": "2022-01-25T12:00:35.461795",
     "status": "completed"
    },
    "tags": []
   },
   "outputs": [],
   "source": [
    "# 定义ResNet-50\n",
    "def resnet50(height=224, width=224, num_classes=1000, include_top=True):\n",
    "    model = resnet(Residual_Bottleneck, [3, 4, 6, 3], height, width, num_classes, include_top)\n",
    "    return model"
   ]
  },
  {
   "cell_type": "markdown",
   "id": "336f8506",
   "metadata": {
    "papermill": {
     "duration": 0.033721,
     "end_time": "2022-01-25T12:00:35.566158",
     "exception": false,
     "start_time": "2022-01-25T12:00:35.532437",
     "status": "completed"
    },
    "tags": []
   },
   "source": [
    "## ResNet"
   ]
  },
  {
   "cell_type": "markdown",
   "id": "831335dc",
   "metadata": {
    "papermill": {
     "duration": 0.034639,
     "end_time": "2022-01-25T12:00:35.635322",
     "exception": false,
     "start_time": "2022-01-25T12:00:35.600683",
     "status": "completed"
    },
    "tags": []
   },
   "source": [
    "#### 使用迁移学习训练ResNet-50"
   ]
  },
  {
   "cell_type": "markdown",
   "id": "a4e64d74",
   "metadata": {
    "papermill": {
     "duration": 0.040278,
     "end_time": "2022-01-25T12:00:35.710309",
     "exception": false,
     "start_time": "2022-01-25T12:00:35.670031",
     "status": "completed"
    },
    "tags": []
   },
   "source": [
    "1. 加载,预处理数据集"
   ]
  },
  {
   "cell_type": "markdown",
   "id": "c92d12f9",
   "metadata": {
    "papermill": {
     "duration": 0.032876,
     "end_time": "2022-01-25T12:00:35.777772",
     "exception": false,
     "start_time": "2022-01-25T12:00:35.744896",
     "status": "completed"
    },
    "tags": []
   },
   "source": [
    "如果使用`迁移学习`,需要在图像预处理部分减去`ImageNet`所有图像的均值,即**\\[123.68, 116.78, 103.94\\]** 如果使用别人的预训练模型参数,就必须和別人使用相同的预处理方法!"
   ]
  },
  {
   "cell_type": "code",
   "execution_count": 9,
   "id": "7319c93d",
   "metadata": {
    "execution": {
     "iopub.execute_input": "2022-01-25T12:00:35.850781Z",
     "iopub.status.busy": "2022-01-25T12:00:35.849858Z",
     "iopub.status.idle": "2022-01-25T12:00:49.363334Z",
     "shell.execute_reply": "2022-01-25T12:00:49.362674Z",
     "shell.execute_reply.started": "2022-01-25T11:56:39.009755Z"
    },
    "papermill": {
     "duration": 13.552695,
     "end_time": "2022-01-25T12:00:49.363508",
     "exception": false,
     "start_time": "2022-01-25T12:00:35.810813",
     "status": "completed"
    },
    "tags": []
   },
   "outputs": [
    {
     "name": "stderr",
     "output_type": "stream",
     "text": [
      "2022-01-25 12:00:37.654799: W tensorflow/core/platform/cloud/google_auth_provider.cc:184] All attempts to get a Google authentication bearer token failed, returning an empty token. Retrieving token from files failed with \"Not found: Could not locate the credentials file.\". Retrieving token from GCE failed with \"Failed precondition: Error executing an HTTP request: libcurl code 6 meaning 'Couldn't resolve host name', error details: Could not resolve host: metadata\".\n"
     ]
    },
    {
     "name": "stdout",
     "output_type": "stream",
     "text": [
      "\u001b[1mDownloading and preparing dataset 218.21 MiB (download: 218.21 MiB, generated: 221.83 MiB, total: 440.05 MiB) to /root/tensorflow_datasets/tf_flowers/3.0.1...\u001b[0m\n"
     ]
    },
    {
     "data": {
      "application/vnd.jupyter.widget-view+json": {
       "model_id": "331a7f0628ff443d887149677eb3ca46",
       "version_major": 2,
       "version_minor": 0
      },
      "text/plain": [
       "Dl Completed...:   0%|          | 0/5 [00:00<?, ? file/s]"
      ]
     },
     "metadata": {},
     "output_type": "display_data"
    },
    {
     "name": "stdout",
     "output_type": "stream",
     "text": [
      "\u001b[1mDataset tf_flowers downloaded and prepared to /root/tensorflow_datasets/tf_flowers/3.0.1. Subsequent calls will reuse this data.\u001b[0m\n"
     ]
    },
    {
     "name": "stderr",
     "output_type": "stream",
     "text": [
      "2022-01-25 12:00:46.857997: I tensorflow/stream_executor/cuda/cuda_gpu_executor.cc:937] successful NUMA node read from SysFS had negative value (-1), but there must be at least one NUMA node, so returning NUMA node zero\n",
      "2022-01-25 12:00:47.016872: I tensorflow/stream_executor/cuda/cuda_gpu_executor.cc:937] successful NUMA node read from SysFS had negative value (-1), but there must be at least one NUMA node, so returning NUMA node zero\n",
      "2022-01-25 12:00:47.017591: I tensorflow/stream_executor/cuda/cuda_gpu_executor.cc:937] successful NUMA node read from SysFS had negative value (-1), but there must be at least one NUMA node, so returning NUMA node zero\n",
      "2022-01-25 12:00:47.020733: I tensorflow/core/platform/cpu_feature_guard.cc:142] This TensorFlow binary is optimized with oneAPI Deep Neural Network Library (oneDNN) to use the following CPU instructions in performance-critical operations:  AVX2 AVX512F FMA\n",
      "To enable them in other operations, rebuild TensorFlow with the appropriate compiler flags.\n",
      "2022-01-25 12:00:47.021259: I tensorflow/stream_executor/cuda/cuda_gpu_executor.cc:937] successful NUMA node read from SysFS had negative value (-1), but there must be at least one NUMA node, so returning NUMA node zero\n",
      "2022-01-25 12:00:47.022517: I tensorflow/stream_executor/cuda/cuda_gpu_executor.cc:937] successful NUMA node read from SysFS had negative value (-1), but there must be at least one NUMA node, so returning NUMA node zero\n",
      "2022-01-25 12:00:47.023439: I tensorflow/stream_executor/cuda/cuda_gpu_executor.cc:937] successful NUMA node read from SysFS had negative value (-1), but there must be at least one NUMA node, so returning NUMA node zero\n",
      "2022-01-25 12:00:48.984905: I tensorflow/stream_executor/cuda/cuda_gpu_executor.cc:937] successful NUMA node read from SysFS had negative value (-1), but there must be at least one NUMA node, so returning NUMA node zero\n",
      "2022-01-25 12:00:48.985852: I tensorflow/stream_executor/cuda/cuda_gpu_executor.cc:937] successful NUMA node read from SysFS had negative value (-1), but there must be at least one NUMA node, so returning NUMA node zero\n",
      "2022-01-25 12:00:48.986575: I tensorflow/stream_executor/cuda/cuda_gpu_executor.cc:937] successful NUMA node read from SysFS had negative value (-1), but there must be at least one NUMA node, so returning NUMA node zero\n",
      "2022-01-25 12:00:48.987207: I tensorflow/core/common_runtime/gpu/gpu_device.cc:1510] Created device /job:localhost/replica:0/task:0/device:GPU:0 with 15403 MB memory:  -> device: 0, name: Tesla P100-PCIE-16GB, pci bus id: 0000:00:04.0, compute capability: 6.0\n"
     ]
    }
   ],
   "source": [
    "import tensorflow_datasets as tfds\n",
    "dataset, info = tfds.load(\"tf_flowers\", as_supervised=True, with_info=True)"
   ]
  },
  {
   "cell_type": "code",
   "execution_count": 10,
   "id": "e90e4746",
   "metadata": {
    "execution": {
     "iopub.execute_input": "2022-01-25T12:00:49.414389Z",
     "iopub.status.busy": "2022-01-25T12:00:49.412627Z",
     "iopub.status.idle": "2022-01-25T12:00:49.414948Z",
     "shell.execute_reply": "2022-01-25T12:00:49.415381Z",
     "shell.execute_reply.started": "2022-01-25T11:56:40.272178Z"
    },
    "papermill": {
     "duration": 0.02772,
     "end_time": "2022-01-25T12:00:49.415506",
     "exception": false,
     "start_time": "2022-01-25T12:00:49.387786",
     "status": "completed"
    },
    "tags": []
   },
   "outputs": [],
   "source": [
    "class_names = info.features[\"label\"].names\n",
    "n_classes = info.features[\"label\"].num_classes\n",
    "dataset_size = info.splits[\"train\"].num_examples"
   ]
  },
  {
   "cell_type": "code",
   "execution_count": 11,
   "id": "a688e26a",
   "metadata": {
    "execution": {
     "iopub.execute_input": "2022-01-25T12:00:49.462645Z",
     "iopub.status.busy": "2022-01-25T12:00:49.461253Z",
     "iopub.status.idle": "2022-01-25T12:00:49.555328Z",
     "shell.execute_reply": "2022-01-25T12:00:49.554814Z",
     "shell.execute_reply.started": "2022-01-25T11:56:40.278804Z"
    },
    "papermill": {
     "duration": 0.119264,
     "end_time": "2022-01-25T12:00:49.555456",
     "exception": false,
     "start_time": "2022-01-25T12:00:49.436192",
     "status": "completed"
    },
    "tags": []
   },
   "outputs": [],
   "source": [
    "test_set_raw, valid_set_raw, train_set_raw = tfds.load(\n",
    "    \"tf_flowers\",\n",
    "    split=[\"train[:10%]\", \"train[10%:25%]\", \"train[25%:]\"],\n",
    "    as_supervised=True)"
   ]
  },
  {
   "cell_type": "code",
   "execution_count": 12,
   "id": "97aade29",
   "metadata": {
    "execution": {
     "iopub.execute_input": "2022-01-25T12:00:49.602390Z",
     "iopub.status.busy": "2022-01-25T12:00:49.600857Z",
     "iopub.status.idle": "2022-01-25T12:00:49.603010Z",
     "shell.execute_reply": "2022-01-25T12:00:49.603416Z",
     "shell.execute_reply.started": "2022-01-25T11:56:40.373534Z"
    },
    "papermill": {
     "duration": 0.027233,
     "end_time": "2022-01-25T12:00:49.603538",
     "exception": false,
     "start_time": "2022-01-25T12:00:49.576305",
     "status": "completed"
    },
    "tags": []
   },
   "outputs": [],
   "source": [
    "_R_MEAN = 123.68\n",
    "_G_MEAN = 116.78\n",
    "_B_MEAN = 103.94\n",
    "\n",
    "num_classes = 5"
   ]
  },
  {
   "cell_type": "code",
   "execution_count": 13,
   "id": "33a158ce",
   "metadata": {
    "execution": {
     "iopub.execute_input": "2022-01-25T12:00:49.656043Z",
     "iopub.status.busy": "2022-01-25T12:00:49.652251Z",
     "iopub.status.idle": "2022-01-25T12:00:49.966980Z",
     "shell.execute_reply": "2022-01-25T12:00:49.966451Z",
     "shell.execute_reply.started": "2022-01-25T11:56:40.386203Z"
    },
    "papermill": {
     "duration": 0.34285,
     "end_time": "2022-01-25T12:00:49.967108",
     "exception": false,
     "start_time": "2022-01-25T12:00:49.624258",
     "status": "completed"
    },
    "tags": []
   },
   "outputs": [],
   "source": [
    "# 中央裁切\n",
    "def central_crop(image):\n",
    "    shape = tf.shape(image)   # height, width\n",
    "    min_dim = tf.reduce_min([shape[0], shape[1]])\n",
    "    \n",
    "    # 从图像左上到右下\n",
    "    top_crop = (shape[0] - min_dim) // 4\n",
    "    bottom_crop = shape[0] - top_crop\n",
    "    \n",
    "    left_crop = (shape[1] - min_dim) // 4\n",
    "    right_crop = shape[1] - left_crop    \n",
    "    \n",
    "    return image[top_crop:bottom_crop, left_crop:right_crop]  \n",
    "\n",
    "# 随机裁切\n",
    "def random_crop(image):\n",
    "    shape = tf.shape(image)\n",
    "    min_dim = tf.reduce_min([shape[0], shape[1]]) * 90 // 100\n",
    "\n",
    "    # 如果一个维度不应该被裁剪，则传递该维度的完整大小\n",
    "    cropped_image = tf.image.random_crop(image, size=[min_dim, min_dim, 3])\n",
    "    return cropped_image\n",
    "\n",
    "def preprocess(image, label, randomize=False):\n",
    "    if randomize:\n",
    "        cropped_image = random_crop(image)\n",
    "        # random_flip_left_right:随机水平翻转图像（从左到右）。\n",
    "        cropped_image = tf.image.random_flip_left_right(cropped_image)\n",
    "    else:\n",
    "        cropped_image = central_crop(image)\n",
    "    \n",
    "    resized_image = tf.image.resize(image, [224, 224]) \n",
    "    final_image = resized_image - [_R_MEAN, _G_MEAN, _B_MEAN]\n",
    "    return final_image, label\n",
    "\n",
    "batch_size = 16\n",
    "\n",
    "train_set = train_set_raw.shuffle(1000).repeat()\n",
    "train_set = train_set.map(partial(preprocess, randomize=True)).batch(batch_size).prefetch(1)\n",
    "\n",
    "valid_set = valid_set_raw.map(preprocess).batch(batch_size).prefetch(1)\n",
    "\n",
    "test_set = test_set_raw.map(preprocess).batch(batch_size).prefetch(1)"
   ]
  },
  {
   "cell_type": "code",
   "execution_count": 14,
   "id": "82e8d70f",
   "metadata": {
    "execution": {
     "iopub.execute_input": "2022-01-25T12:00:50.016413Z",
     "iopub.status.busy": "2022-01-25T12:00:50.015839Z",
     "iopub.status.idle": "2022-01-25T12:00:51.827939Z",
     "shell.execute_reply": "2022-01-25T12:00:51.828389Z",
     "shell.execute_reply.started": "2022-01-25T11:56:40.685887Z"
    },
    "papermill": {
     "duration": 1.839893,
     "end_time": "2022-01-25T12:00:51.828556",
     "exception": false,
     "start_time": "2022-01-25T12:00:49.988663",
     "status": "completed"
    },
    "tags": []
   },
   "outputs": [
    {
     "name": "stderr",
     "output_type": "stream",
     "text": [
      "2022-01-25 12:00:50.059143: I tensorflow/compiler/mlir/mlir_graph_optimization_pass.cc:185] None of the MLIR Optimization Passes are enabled (registered 2)\n",
      "2022-01-25 12:00:51.441343: W tensorflow/core/kernels/data/cache_dataset_ops.cc:768] The calling iterator did not fully read the dataset being cached. In order to avoid unexpected truncation of the dataset, the partially cached contents of the dataset  will be discarded. This can happen if you have an input pipeline similar to `dataset.cache().take(k).repeat()`. You should use `dataset.take(k).cache().repeat()` instead.\n"
     ]
    },
    {
     "data": {
      "image/png": "[encoded data removed]",
      "text/plain": [
       "<Figure size 720x576 with 9 Axes>"
      ]
     },
     "metadata": {
      "needs_background": "light"
     },
     "output_type": "display_data"
    }
   ],
   "source": [
    "plt.figure(figsize=(10, 8))\n",
    "for X_batch, y_batch in train_set.take(1):\n",
    "    for index in range(9):\n",
    "        plt.subplot(3, 3, index + 1)\n",
    "        plt.imshow(X_batch[index])\n",
    "        \n",
    "        plt.title(\"Class: {}\".format(class_names[y_batch[index]]))\n",
    "        plt.axis(\"off\")\n",
    "\n",
    "plt.show()"
   ]
  },
  {
   "cell_type": "markdown",
   "id": "c362bef8",
   "metadata": {
    "papermill": {
     "duration": 0.025677,
     "end_time": "2022-01-25T12:00:51.879822",
     "exception": false,
     "start_time": "2022-01-25T12:00:51.854145",
     "status": "completed"
    },
    "tags": []
   },
   "source": [
    "2. 使用迁移学习\n",
    "\n",
    "    载入权重后在原网络基础上再添加两层全连接层，仅训练最后两层全连接层"
   ]
  },
  {
   "cell_type": "code",
   "execution_count": 15,
   "id": "dbc49bf7",
   "metadata": {
    "execution": {
     "iopub.execute_input": "2022-01-25T12:00:51.935622Z",
     "iopub.status.busy": "2022-01-25T12:00:51.934759Z",
     "iopub.status.idle": "2022-01-25T12:00:51.936569Z",
     "shell.execute_reply": "2022-01-25T12:00:51.937018Z",
     "shell.execute_reply.started": "2022-01-25T11:56:42.869931Z"
    },
    "papermill": {
     "duration": 0.031593,
     "end_time": "2022-01-25T12:00:51.937152",
     "exception": false,
     "start_time": "2022-01-25T12:00:51.905559",
     "status": "completed"
    },
    "tags": []
   },
   "outputs": [],
   "source": [
    "num_classes=5"
   ]
  },
  {
   "cell_type": "code",
   "execution_count": 16,
   "id": "1edcda4a",
   "metadata": {
    "execution": {
     "iopub.execute_input": "2022-01-25T12:00:51.992912Z",
     "iopub.status.busy": "2022-01-25T12:00:51.992218Z",
     "iopub.status.idle": "2022-01-25T12:00:53.226136Z",
     "shell.execute_reply": "2022-01-25T12:00:53.227066Z",
     "shell.execute_reply.started": "2022-01-25T11:56:42.878343Z"
    },
    "papermill": {
     "duration": 1.265366,
     "end_time": "2022-01-25T12:00:53.227314",
     "exception": false,
     "start_time": "2022-01-25T12:00:51.961948",
     "status": "completed"
    },
    "tags": []
   },
   "outputs": [],
   "source": [
    "feature = resnet50(num_classes=num_classes, include_top=False)"
   ]
  },
  {
   "cell_type": "code",
   "execution_count": 17,
   "id": "03d888a5",
   "metadata": {
    "execution": {
     "iopub.execute_input": "2022-01-25T12:00:53.334519Z",
     "iopub.status.busy": "2022-01-25T12:00:53.333302Z",
     "iopub.status.idle": "2022-01-25T12:00:55.858188Z",
     "shell.execute_reply": "2022-01-25T12:00:55.859322Z",
     "shell.execute_reply.started": "2022-01-25T11:56:44.001519Z"
    },
    "papermill": {
     "duration": 2.589083,
     "end_time": "2022-01-25T12:00:55.859537",
     "exception": false,
     "start_time": "2022-01-25T12:00:53.270454",
     "status": "completed"
    },
    "tags": []
   },
   "outputs": [
    {
     "name": "stdout",
     "output_type": "stream",
     "text": [
      "Model: \"model\"\n",
      "_________________________________________________________________\n",
      "Layer (type)                 Output Shape              Param #   \n",
      "=================================================================\n",
      "input_1 (InputLayer)         [(None, 224, 224, 3)]     0         \n",
      "_________________________________________________________________\n",
      "conv1 (Conv2D)               (None, 112, 112, 64)      9408      \n",
      "_________________________________________________________________\n",
      "conv1/BatchNorm (BatchNormal (None, 112, 112, 64)      256       \n",
      "_________________________________________________________________\n",
      "re_lu (ReLU)                 (None, 112, 112, 64)      0         \n",
      "_________________________________________________________________\n",
      "max_pooling2d (MaxPooling2D) (None, 56, 56, 64)        0         \n",
      "_________________________________________________________________\n",
      "block1 (Sequential)          (None, 56, 56, 256)       218624    \n",
      "_________________________________________________________________\n",
      "block2 (Sequential)          (None, 28, 28, 512)       1226752   \n",
      "_________________________________________________________________\n",
      "block3 (Sequential)          (None, 14, 14, 1024)      7118848   \n",
      "_________________________________________________________________\n",
      "block4 (Sequential)          (None, 7, 7, 2048)        14987264  \n",
      "=================================================================\n",
      "Total params: 23,561,152\n",
      "Trainable params: 0\n",
      "Non-trainable params: 23,561,152\n",
      "_________________________________________________________________\n"
     ]
    }
   ],
   "source": [
    "# 加载预训练模型的权重\n",
    "pre_weight_path = '../input/resnet-weights/tf_resnet50_weights/pretrain_weights.ckpt'\n",
    "feature.load_weights(pre_weight_path)\n",
    "feature.trainable = False      # 冻结预训练模型的权重参数\n",
    "feature.summary()"
   ]
  },
  {
   "cell_type": "code",
   "execution_count": 18,
   "id": "2416218a",
   "metadata": {
    "execution": {
     "iopub.execute_input": "2022-01-25T12:00:55.926389Z",
     "iopub.status.busy": "2022-01-25T12:00:55.918666Z",
     "iopub.status.idle": "2022-01-25T12:00:56.314435Z",
     "shell.execute_reply": "2022-01-25T12:00:56.313843Z",
     "shell.execute_reply.started": "2022-01-25T11:56:44.289925Z"
    },
    "papermill": {
     "duration": 0.424867,
     "end_time": "2022-01-25T12:00:56.314571",
     "exception": false,
     "start_time": "2022-01-25T12:00:55.889704",
     "status": "completed"
    },
    "tags": []
   },
   "outputs": [
    {
     "name": "stdout",
     "output_type": "stream",
     "text": [
      "Model: \"sequential\"\n",
      "_________________________________________________________________\n",
      "Layer (type)                 Output Shape              Param #   \n",
      "=================================================================\n",
      "model (Functional)           (None, 7, 7, 2048)        23561152  \n",
      "_________________________________________________________________\n",
      "global_average_pooling2d (Gl (None, 2048)              0         \n",
      "_________________________________________________________________\n",
      "dropout (Dropout)            (None, 2048)              0         \n",
      "_________________________________________________________________\n",
      "dense (Dense)                (None, 1024)              2098176   \n",
      "_________________________________________________________________\n",
      "dropout_1 (Dropout)          (None, 1024)              0         \n",
      "_________________________________________________________________\n",
      "dense_1 (Dense)              (None, 5)                 5125      \n",
      "_________________________________________________________________\n",
      "softmax (Softmax)            (None, 5)                 0         \n",
      "=================================================================\n",
      "Total params: 25,664,453\n",
      "Trainable params: 2,103,301\n",
      "Non-trainable params: 23,561,152\n",
      "_________________________________________________________________\n"
     ]
    }
   ],
   "source": [
    "# 模型最后面添加全连接层\n",
    "model = Sequential([\n",
    "    feature,\n",
    "    GlobalAvgPool2D(),\n",
    "    Dropout(rate=0.5),\n",
    "    Dense(1024, activation=keras.activations.relu),\n",
    "    Dropout(rate=0.5),\n",
    "    Dense(num_classes),\n",
    "    Softmax()  \n",
    "])\n",
    "\n",
    "model.summary()"
   ]
  },
  {
   "cell_type": "markdown",
   "id": "a679381e",
   "metadata": {
    "papermill": {
     "duration": 0.027918,
     "end_time": "2022-01-25T12:00:56.371199",
     "exception": false,
     "start_time": "2022-01-25T12:00:56.343281",
     "status": "completed"
    },
    "tags": []
   },
   "source": [
    "3. 训练,评估模型"
   ]
  },
  {
   "cell_type": "code",
   "execution_count": 19,
   "id": "bb63433e",
   "metadata": {
    "execution": {
     "iopub.execute_input": "2022-01-25T12:00:56.440729Z",
     "iopub.status.busy": "2022-01-25T12:00:56.439721Z",
     "iopub.status.idle": "2022-01-25T12:04:20.939489Z",
     "shell.execute_reply": "2022-01-25T12:04:20.939947Z",
     "shell.execute_reply.started": "2022-01-25T11:56:44.637691Z"
    },
    "papermill": {
     "duration": 204.541114,
     "end_time": "2022-01-25T12:04:20.940161",
     "exception": false,
     "start_time": "2022-01-25T12:00:56.399047",
     "status": "completed"
    },
    "tags": []
   },
   "outputs": [
    {
     "name": "stdout",
     "output_type": "stream",
     "text": [
      "Epoch 1/25\n"
     ]
    },
    {
     "name": "stderr",
     "output_type": "stream",
     "text": [
      "2022-01-25 12:01:00.904045: I tensorflow/stream_executor/cuda/cuda_dnn.cc:369] Loaded cuDNN version 8005\n"
     ]
    },
    {
     "name": "stdout",
     "output_type": "stream",
     "text": [
      "172/172 [==============================] - 19s 54ms/step - loss: 0.9102 - accuracy: 0.6951 - val_loss: 0.4170 - val_accuracy: 0.8603\n",
      "Epoch 2/25\n",
      "172/172 [==============================] - 7s 38ms/step - loss: 0.4956 - accuracy: 0.8201 - val_loss: 0.3629 - val_accuracy: 0.8824\n",
      "Epoch 3/25\n",
      "172/172 [==============================] - 7s 38ms/step - loss: 0.3999 - accuracy: 0.8576 - val_loss: 0.3611 - val_accuracy: 0.8971\n",
      "Epoch 4/25\n",
      "172/172 [==============================] - 7s 38ms/step - loss: 0.3581 - accuracy: 0.8728 - val_loss: 0.3393 - val_accuracy: 0.8934\n",
      "Epoch 5/25\n",
      "172/172 [==============================] - 7s 38ms/step - loss: 0.3155 - accuracy: 0.8917 - val_loss: 0.3286 - val_accuracy: 0.8879\n",
      "Epoch 6/25\n",
      "172/172 [==============================] - 7s 39ms/step - loss: 0.2912 - accuracy: 0.8979 - val_loss: 0.3153 - val_accuracy: 0.8915\n",
      "Epoch 7/25\n",
      "172/172 [==============================] - 7s 38ms/step - loss: 0.2806 - accuracy: 0.8964 - val_loss: 0.3292 - val_accuracy: 0.8971\n",
      "Epoch 8/25\n",
      "172/172 [==============================] - 7s 38ms/step - loss: 0.2533 - accuracy: 0.9099 - val_loss: 0.3699 - val_accuracy: 0.8897\n",
      "Epoch 9/25\n",
      "172/172 [==============================] - 6s 38ms/step - loss: 0.2459 - accuracy: 0.9135 - val_loss: 0.3167 - val_accuracy: 0.9044\n",
      "Epoch 10/25\n",
      "172/172 [==============================] - 7s 39ms/step - loss: 0.2238 - accuracy: 0.9197 - val_loss: 0.2967 - val_accuracy: 0.8897\n",
      "Epoch 11/25\n",
      "172/172 [==============================] - 7s 38ms/step - loss: 0.2062 - accuracy: 0.9251 - val_loss: 0.3190 - val_accuracy: 0.8934\n",
      "Epoch 12/25\n",
      "172/172 [==============================] - 7s 38ms/step - loss: 0.2093 - accuracy: 0.9186 - val_loss: 0.2991 - val_accuracy: 0.8897\n",
      "Epoch 13/25\n",
      "172/172 [==============================] - 7s 39ms/step - loss: 0.1947 - accuracy: 0.9299 - val_loss: 0.2954 - val_accuracy: 0.9007\n",
      "Epoch 14/25\n",
      "172/172 [==============================] - 7s 39ms/step - loss: 0.1824 - accuracy: 0.9339 - val_loss: 0.3024 - val_accuracy: 0.8952\n",
      "Epoch 15/25\n",
      "172/172 [==============================] - 7s 42ms/step - loss: 0.1657 - accuracy: 0.9382 - val_loss: 0.3113 - val_accuracy: 0.8934\n",
      "Epoch 16/25\n",
      "172/172 [==============================] - 7s 38ms/step - loss: 0.1683 - accuracy: 0.9360 - val_loss: 0.3092 - val_accuracy: 0.8971\n",
      "Epoch 17/25\n",
      "172/172 [==============================] - 7s 40ms/step - loss: 0.1447 - accuracy: 0.9451 - val_loss: 0.2974 - val_accuracy: 0.8952\n",
      "Epoch 18/25\n",
      "172/172 [==============================] - 7s 38ms/step - loss: 0.1407 - accuracy: 0.9473 - val_loss: 0.2972 - val_accuracy: 0.9044\n",
      "Epoch 19/25\n",
      "172/172 [==============================] - 6s 37ms/step - loss: 0.1441 - accuracy: 0.9433 - val_loss: 0.2919 - val_accuracy: 0.8989\n",
      "Epoch 20/25\n",
      "172/172 [==============================] - 7s 40ms/step - loss: 0.1442 - accuracy: 0.9480 - val_loss: 0.3055 - val_accuracy: 0.8989\n",
      "Epoch 21/25\n",
      "172/172 [==============================] - 7s 39ms/step - loss: 0.1323 - accuracy: 0.9506 - val_loss: 0.3184 - val_accuracy: 0.8989\n",
      "Epoch 22/25\n",
      "172/172 [==============================] - 7s 38ms/step - loss: 0.1306 - accuracy: 0.9531 - val_loss: 0.3040 - val_accuracy: 0.9062\n",
      "Epoch 23/25\n",
      "172/172 [==============================] - 7s 39ms/step - loss: 0.1169 - accuracy: 0.9600 - val_loss: 0.3101 - val_accuracy: 0.9007\n",
      "Epoch 24/25\n",
      "172/172 [==============================] - 6s 38ms/step - loss: 0.1212 - accuracy: 0.9557 - val_loss: 0.3084 - val_accuracy: 0.9099\n",
      "Epoch 25/25\n",
      "172/172 [==============================] - 7s 41ms/step - loss: 0.1199 - accuracy: 0.9597 - val_loss: 0.3345 - val_accuracy: 0.9081\n"
     ]
    }
   ],
   "source": [
    "# 编译模型\n",
    "optimizer = tf.keras.optimizers.Adam(learning_rate=0.0002)\n",
    "model.compile(loss=\"sparse_categorical_crossentropy\", optimizer=optimizer,\n",
    "              metrics=[\"accuracy\"])\n",
    "# 训练模型\n",
    "history = model.fit(train_set,\n",
    "                    steps_per_epoch=int(0.75 * dataset_size / batch_size),\n",
    "                    validation_data=valid_set,\n",
    "                    validation_steps=int(0.15 * dataset_size / batch_size),\n",
    "                    epochs=25)\n"
   ]
  },
  {
   "cell_type": "code",
   "execution_count": 20,
   "id": "79c85908",
   "metadata": {
    "execution": {
     "iopub.execute_input": "2022-01-25T12:04:22.175447Z",
     "iopub.status.busy": "2022-01-25T12:04:22.174579Z",
     "iopub.status.idle": "2022-01-25T12:04:47.188132Z",
     "shell.execute_reply": "2022-01-25T12:04:47.188820Z",
     "shell.execute_reply.started": "2022-01-25T11:57:28.055078Z"
    },
    "papermill": {
     "duration": 25.655828,
     "end_time": "2022-01-25T12:04:47.188999",
     "exception": false,
     "start_time": "2022-01-25T12:04:21.533171",
     "status": "completed"
    },
    "tags": []
   },
   "outputs": [
    {
     "name": "stderr",
     "output_type": "stream",
     "text": [
      "2022-01-25 12:04:31.444837: W tensorflow/python/util/util.cc:348] Sets are not currently considered sequences, but this may change in the future, so consider avoiding using them.\n",
      "/opt/conda/lib/python3.7/site-packages/keras/utils/generic_utils.py:497: CustomMaskWarning: Custom mask layers require a config and must override get_config. When loading, the custom mask layer must be passed to the custom_objects argument.\n",
      "  category=CustomMaskWarning)\n"
     ]
    }
   ],
   "source": [
    "model.save(\"my_ResNet50.ckpt\")"
   ]
  },
  {
   "cell_type": "code",
   "execution_count": 21,
   "id": "9fe6927a",
   "metadata": {
    "execution": {
     "iopub.execute_input": "2022-01-25T12:04:48.393493Z",
     "iopub.status.busy": "2022-01-25T12:04:48.391896Z",
     "iopub.status.idle": "2022-01-25T12:04:59.589835Z",
     "shell.execute_reply": "2022-01-25T12:04:59.590871Z",
     "shell.execute_reply.started": "2022-01-25T11:57:51.837078Z"
    },
    "papermill": {
     "duration": 11.812037,
     "end_time": "2022-01-25T12:04:59.591113",
     "exception": false,
     "start_time": "2022-01-25T12:04:47.779076",
     "status": "completed"
    },
    "tags": []
   },
   "outputs": [
    {
     "name": "stdout",
     "output_type": "stream",
     "text": [
      "23/23 [==============================] - 2s 50ms/step - loss: 0.2672 - accuracy: 0.9183\n"
     ]
    },
    {
     "data": {
      "text/plain": [
       "[0.26717084646224976, 0.9182561039924622]"
      ]
     },
     "execution_count": 21,
     "metadata": {},
     "output_type": "execute_result"
    }
   ],
   "source": [
    "model = keras.models.load_model(\"./my_ResNet50.ckpt\")\n",
    "model.evaluate(test_set)"
   ]
  },
  {
   "cell_type": "code",
   "execution_count": 22,
   "id": "e522fadc",
   "metadata": {
    "execution": {
     "iopub.execute_input": "2022-01-25T12:05:01.139180Z",
     "iopub.status.busy": "2022-01-25T12:05:01.138332Z",
     "iopub.status.idle": "2022-01-25T12:05:01.140530Z",
     "shell.execute_reply": "2022-01-25T12:05:01.141019Z",
     "shell.execute_reply.started": "2022-01-25T11:58:04.698616Z"
    },
    "papermill": {
     "duration": 0.595388,
     "end_time": "2022-01-25T12:05:01.141189",
     "exception": false,
     "start_time": "2022-01-25T12:05:00.545801",
     "status": "completed"
    },
    "tags": []
   },
   "outputs": [],
   "source": [
    "history_dict = history.history\n",
    "train_loss = history_dict[\"loss\"]\n",
    "train_accuracy = history_dict[\"accuracy\"]\n",
    "val_loss = history_dict[\"val_loss\"]\n",
    "val_accuracy = history_dict[\"val_accuracy\"]"
   ]
  },
  {
   "cell_type": "code",
   "execution_count": 23,
   "id": "c7836c2d",
   "metadata": {
    "execution": {
     "iopub.execute_input": "2022-01-25T12:05:02.455207Z",
     "iopub.status.busy": "2022-01-25T12:05:02.451072Z",
     "iopub.status.idle": "2022-01-25T12:05:02.832401Z",
     "shell.execute_reply": "2022-01-25T12:05:02.832814Z",
     "shell.execute_reply.started": "2022-01-25T11:58:04.705938Z"
    },
    "papermill": {
     "duration": 1.096831,
     "end_time": "2022-01-25T12:05:02.833001",
     "exception": false,
     "start_time": "2022-01-25T12:05:01.736170",
     "status": "completed"
    },
    "tags": []
   },
   "outputs": [
    {
     "data": {
      "image/png": "[encoded data removed]",
      "text/plain": [
       "<Figure size 432x288 with 1 Axes>"
      ]
     },
     "metadata": {
      "needs_background": "light"
     },
     "output_type": "display_data"
    },
    {
     "data": {
      "image/png": "[encoded data removed]",
      "text/plain": [
       "<Figure size 432x288 with 1 Axes>"
      ]
     },
     "metadata": {
      "needs_background": "light"
     },
     "output_type": "display_data"
    }
   ],
   "source": [
    "epochs = 25\n",
    "# figure 1\n",
    "plt.figure()\n",
    "plt.plot(range(epochs), train_loss, label='train_loss')\n",
    "plt.plot(range(epochs), val_loss, label='val_loss')\n",
    "plt.legend()\n",
    "plt.xlabel('epochs')\n",
    "plt.ylabel('loss')\n",
    "\n",
    "# figure 2\n",
    "plt.figure()\n",
    "plt.plot(range(epochs), train_accuracy, label='train_accuracy')\n",
    "plt.plot(range(epochs), val_accuracy, label='val_accuracy')\n",
    "plt.legend()\n",
    "plt.xlabel('epochs')\n",
    "plt.ylabel('accuracy')\n",
    "plt.show()"
   ]
  }
 ],
 "metadata": {
  "hide_input": false,
  "kernelspec": {
   "display_name": "Python 3",
   "language": "python",
   "name": "python3"
  },
  "language_info": {
   "codemirror_mode": {
    "name": "ipython",
    "version": 3
   },
   "file_extension": ".py",
   "mimetype": "text/x-python",
   "name": "python",
   "nbconvert_exporter": "python",
   "pygments_lexer": "ipython3",
   "version": "3.7.4"
  },
  "papermill": {
   "default_parameters": {},
   "duration": 285.701874,
   "end_time": "2022-01-25T12:05:06.431371",
   "environment_variables": {},
   "exception": null,
   "input_path": "__notebook__.ipynb",
   "output_path": "__notebook__.ipynb",
   "parameters": {},
   "start_time": "2022-01-25T12:00:20.729497",
   "version": "2.3.3"
  },
  "toc": {
   "base_numbering": 1,
   "nav_menu": {},
   "number_sections": true,
   "sideBar": true,
   "skip_h1_title": false,
   "title_cell": "Table of Contents",
   "title_sidebar": "Contents",
   "toc_cell": false,
   "toc_position": {},
   "toc_section_display": true,
   "toc_window_display": false
  },
  "widgets": {
   "application/vnd.jupyter.widget-state+json": {
    "state": {
     "16c3c9c016894610a4bb0017c0001a7c": {
      "model_module": "@jupyter-widgets/controls",
      "model_module_version": "1.5.0",
      "model_name": "ProgressStyleModel",
      "state": {
       "_model_module": "@jupyter-widgets/controls",
       "_model_module_version": "1.5.0",
       "_model_name": "ProgressStyleModel",
       "_view_count": null,
       "_view_module": "@jupyter-widgets/base",
       "_view_module_version": "1.2.0",
       "_view_name": "StyleView",
       "bar_color": null,
       "description_width": ""
      }
     },
     "17d52252a3b640a6b9127bbcd920cbf6": {
      "model_module": "@jupyter-widgets/controls",
      "model_module_version": "1.5.0",
      "model_name": "HTMLModel",
      "state": {
       "_dom_classes": [],
       "_model_module": "@jupyter-widgets/controls",
       "_model_module_version": "1.5.0",
       "_model_name": "HTMLModel",
       "_view_count": null,
       "_view_module": "@jupyter-widgets/controls",
       "_view_module_version": "1.5.0",
       "_view_name": "HTMLView",
       "description": "",
       "description_tooltip": null,
       "layout": "IPY_MODEL_a8363a3bf117422ca728148554add4dd",
       "placeholder": "​",
       "style": "IPY_MODEL_fed0fb1bf20042d0916b246f9b5e588b",
       "value": " 5/5 [00:04&lt;00:00,  1.32s/ file]"
      }
     },
     "19751e8b36be4c15ae0394ed64733a60": {
      "model_module": "@jupyter-widgets/controls",
      "model_module_version": "1.5.0",
      "model_name": "FloatProgressModel",
      "state": {
       "_dom_classes": [],
       "_model_module": "@jupyter-widgets/controls",
       "_model_module_version": "1.5.0",
       "_model_name": "FloatProgressModel",
       "_view_count": null,
       "_view_module": "@jupyter-widgets/controls",
       "_view_module_version": "1.5.0",
       "_view_name": "ProgressView",
       "bar_style": "success",
       "description": "",
       "description_tooltip": null,
       "layout": "IPY_MODEL_5061c7b63e864c6ba7c9a4eebc217995",
       "max": 5,
       "min": 0,
       "orientation": "horizontal",
       "style": "IPY_MODEL_16c3c9c016894610a4bb0017c0001a7c",
       "value": 5
      }
     },
     "331a7f0628ff443d887149677eb3ca46": {
      "model_module": "@jupyter-widgets/controls",
      "model_module_version": "1.5.0",
      "model_name": "HBoxModel",
      "state": {
       "_dom_classes": [],
       "_model_module": "@jupyter-widgets/controls",
       "_model_module_version": "1.5.0",
       "_model_name": "HBoxModel",
       "_view_count": null,
       "_view_module": "@jupyter-widgets/controls",
       "_view_module_version": "1.5.0",
       "_view_name": "HBoxView",
       "box_style": "",
       "children": [
        "IPY_MODEL_ac9e0db08f0c45dfa495633f6a652ced",
        "IPY_MODEL_19751e8b36be4c15ae0394ed64733a60",
        "IPY_MODEL_17d52252a3b640a6b9127bbcd920cbf6"
       ],
       "layout": "IPY_MODEL_8e99884a6051460cb618bd249c86db05"
      }
     },
     "36f6bb2f868d4cacbecd6357a49d2305": {
      "model_module": "@jupyter-widgets/base",
      "model_module_version": "1.2.0",
      "model_name": "LayoutModel",
      "state": {
       "_model_module": "@jupyter-widgets/base",
       "_model_module_version": "1.2.0",
       "_model_name": "LayoutModel",
       "_view_count": null,
       "_view_module": "@jupyter-widgets/base",
       "_view_module_version": "1.2.0",
       "_view_name": "LayoutView",
       "align_content": null,
       "align_items": null,
       "align_self": null,
       "border": null,
       "bottom": null,
       "display": null,
       "flex": null,
       "flex_flow": null,
       "grid_area": null,
       "grid_auto_columns": null,
       "grid_auto_flow": null,
       "grid_auto_rows": null,
       "grid_column": null,
       "grid_gap": null,
       "grid_row": null,
       "grid_template_areas": null,
       "grid_template_columns": null,
       "grid_template_rows": null,
       "height": null,
       "justify_content": null,
       "justify_items": null,
       "left": null,
       "margin": null,
       "max_height": null,
       "max_width": null,
       "min_height": null,
       "min_width": null,
       "object_fit": null,
       "object_position": null,
       "order": null,
       "overflow": null,
       "overflow_x": null,
       "overflow_y": null,
       "padding": null,
       "right": null,
       "top": null,
       "visibility": null,
       "width": null
      }
     },
     "5061c7b63e864c6ba7c9a4eebc217995": {
      "model_module": "@jupyter-widgets/base",
      "model_module_version": "1.2.0",
      "model_name": "LayoutModel",
      "state": {
       "_model_module": "@jupyter-widgets/base",
       "_model_module_version": "1.2.0",
       "_model_name": "LayoutModel",
       "_view_count": null,
       "_view_module": "@jupyter-widgets/base",
       "_view_module_version": "1.2.0",
       "_view_name": "LayoutView",
       "align_content": null,
       "align_items": null,
       "align_self": null,
       "border": null,
       "bottom": null,
       "display": null,
       "flex": null,
       "flex_flow": null,
       "grid_area": null,
       "grid_auto_columns": null,
       "grid_auto_flow": null,
       "grid_auto_rows": null,
       "grid_column": null,
       "grid_gap": null,
       "grid_row": null,
       "grid_template_areas": null,
       "grid_template_columns": null,
       "grid_template_rows": null,
       "height": null,
       "justify_content": null,
       "justify_items": null,
       "left": null,
       "margin": null,
       "max_height": null,
       "max_width": null,
       "min_height": null,
       "min_width": null,
       "object_fit": null,
       "object_position": null,
       "order": null,
       "overflow": null,
       "overflow_x": null,
       "overflow_y": null,
       "padding": null,
       "right": null,
       "top": null,
       "visibility": null,
       "width": null
      }
     },
     "8e99884a6051460cb618bd249c86db05": {
      "model_module": "@jupyter-widgets/base",
      "model_module_version": "1.2.0",
      "model_name": "LayoutModel",
      "state": {
       "_model_module": "@jupyter-widgets/base",
       "_model_module_version": "1.2.0",
       "_model_name": "LayoutModel",
       "_view_count": null,
       "_view_module": "@jupyter-widgets/base",
       "_view_module_version": "1.2.0",
       "_view_name": "LayoutView",
       "align_content": null,
       "align_items": null,
       "align_self": null,
       "border": null,
       "bottom": null,
       "display": null,
       "flex": null,
       "flex_flow": null,
       "grid_area": null,
       "grid_auto_columns": null,
       "grid_auto_flow": null,
       "grid_auto_rows": null,
       "grid_column": null,
       "grid_gap": null,
       "grid_row": null,
       "grid_template_areas": null,
       "grid_template_columns": null,
       "grid_template_rows": null,
       "height": null,
       "justify_content": null,
       "justify_items": null,
       "left": null,
       "margin": null,
       "max_height": null,
       "max_width": null,
       "min_height": null,
       "min_width": null,
       "object_fit": null,
       "object_position": null,
       "order": null,
       "overflow": null,
       "overflow_x": null,
       "overflow_y": null,
       "padding": null,
       "right": null,
       "top": null,
       "visibility": null,
       "width": null
      }
     },
     "a8363a3bf117422ca728148554add4dd": {
      "model_module": "@jupyter-widgets/base",
      "model_module_version": "1.2.0",
      "model_name": "LayoutModel",
      "state": {
       "_model_module": "@jupyter-widgets/base",
       "_model_module_version": "1.2.0",
       "_model_name": "LayoutModel",
       "_view_count": null,
       "_view_module": "@jupyter-widgets/base",
       "_view_module_version": "1.2.0",
       "_view_name": "LayoutView",
       "align_content": null,
       "align_items": null,
       "align_self": null,
       "border": null,
       "bottom": null,
       "display": null,
       "flex": null,
       "flex_flow": null,
       "grid_area": null,
       "grid_auto_columns": null,
       "grid_auto_flow": null,
       "grid_auto_rows": null,
       "grid_column": null,
       "grid_gap": null,
       "grid_row": null,
       "grid_template_areas": null,
       "grid_template_columns": null,
       "grid_template_rows": null,
       "height": null,
       "justify_content": null,
       "justify_items": null,
       "left": null,
       "margin": null,
       "max_height": null,
       "max_width": null,
       "min_height": null,
       "min_width": null,
       "object_fit": null,
       "object_position": null,
       "order": null,
       "overflow": null,
       "overflow_x": null,
       "overflow_y": null,
       "padding": null,
       "right": null,
       "top": null,
       "visibility": null,
       "width": null
      }
     },
     "aabaf07489264e82b1c6d6bc0aa2b7de": {
      "model_module": "@jupyter-widgets/controls",
      "model_module_version": "1.5.0",
      "model_name": "DescriptionStyleModel",
      "state": {
       "_model_module": "@jupyter-widgets/controls",
       "_model_module_version": "1.5.0",
       "_model_name": "DescriptionStyleModel",
       "_view_count": null,
       "_view_module": "@jupyter-widgets/base",
       "_view_module_version": "1.2.0",
       "_view_name": "StyleView",
       "description_width": ""
      }
     },
     "ac9e0db08f0c45dfa495633f6a652ced": {
      "model_module": "@jupyter-widgets/controls",
      "model_module_version": "1.5.0",
      "model_name": "HTMLModel",
      "state": {
       "_dom_classes": [],
       "_model_module": "@jupyter-widgets/controls",
       "_model_module_version": "1.5.0",
       "_model_name": "HTMLModel",
       "_view_count": null,
       "_view_module": "@jupyter-widgets/controls",
       "_view_module_version": "1.5.0",
       "_view_name": "HTMLView",
       "description": "",
       "description_tooltip": null,
       "layout": "IPY_MODEL_36f6bb2f868d4cacbecd6357a49d2305",
       "placeholder": "​",
       "style": "IPY_MODEL_aabaf07489264e82b1c6d6bc0aa2b7de",
       "value": "Dl Completed...: 100%"
      }
     },
     "fed0fb1bf20042d0916b246f9b5e588b": {
      "model_module": "@jupyter-widgets/controls",
      "model_module_version": "1.5.0",
      "model_name": "DescriptionStyleModel",
      "state": {
       "_model_module": "@jupyter-widgets/controls",
       "_model_module_version": "1.5.0",
       "_model_name": "DescriptionStyleModel",
       "_view_count": null,
       "_view_module": "@jupyter-widgets/base",
       "_view_module_version": "1.2.0",
       "_view_name": "StyleView",
       "description_width": ""
      }
     }
    },
    "version_major": 2,
    "version_minor": 0
   }
  }
 },
 "nbformat": 4,
 "nbformat_minor": 5
}
