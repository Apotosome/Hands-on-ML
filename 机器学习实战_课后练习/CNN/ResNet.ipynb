{
 "cells": [
  {
   "cell_type": "markdown",
   "metadata": {},
   "source": [
    "## ResNet"
   ]
  },
  {
   "cell_type": "code",
   "execution_count": 4,
   "metadata": {},
   "outputs": [],
   "source": [
    "import numpy as np\n",
    "import pandas as pd\n",
    "import tensorflow as tf\n",
    "import tensorflow.keras as keras\n",
    "import os\n",
    "import time \n",
    "import matplotlib.pyplot as plt\n",
    "import matplotlib as mpl\n",
    "import seaborn as sns\n",
    "\n",
    "\n",
    "def initialization():\n",
    "    keras.backend.clear_session()\n",
    "    np.random.seed(42)\n",
    "    tf.random.set_seed(42)"
   ]
  },
  {
   "cell_type": "markdown",
   "metadata": {},
   "source": [
    "### 使用Keras实现ResNet CNN"
   ]
  },
  {
   "cell_type": "code",
   "execution_count": 5,
   "metadata": {},
   "outputs": [],
   "source": [
    "initialization()"
   ]
  },
  {
   "cell_type": "code",
   "execution_count": 6,
   "metadata": {},
   "outputs": [],
   "source": [
    "from tensorflow.keras.layers import Input, Dense, Conv2D, MaxPool2D, Softmax, BatchNormalization, ReLU, GlobalAvgPool2D, Add, Dropout\n",
    "from tensorflow.keras.models import Model, Sequential"
   ]
  },
  {
   "cell_type": "markdown",
   "metadata": {},
   "source": [
    "#### 实现残差结构"
   ]
  },
  {
   "cell_type": "code",
   "execution_count": 7,
   "metadata": {},
   "outputs": [],
   "source": [
    "# 定义残差模块-基本形式\n",
    "class Residual_Basic(keras.layers.Layer):\n",
    "    Expansion = 1  # 扩展系数  -> 默认不使用虚线结构\n",
    "\n",
    "    def __init__(self, filters, strides=1, down_sample=None, **kwargs):\n",
    "        super(Residual_Basic, self).__init__(**kwargs)\n",
    "        self.conv1 = Conv2D(filters=filters,\n",
    "                            kernel_size=3,\n",
    "                            strides=strides,\n",
    "                            padding=\"SAME\",\n",
    "                            use_bias=False)\n",
    "        self.BN1 = BatchNormalization(momentum=0.9, epsilon=1e-5)\n",
    "\n",
    "        self.conv2 = Conv2D(filters=filters,\n",
    "                            kernel_size=3,\n",
    "                            strides=1,\n",
    "                            padding=\"SAME\",\n",
    "                            use_bias=False)\n",
    "        self.BN2 = BatchNormalization(momentum=0.9, epsilon=1e-5)\n",
    "        # down_sample：使用改变特征图大小核深度的跳过连接\n",
    "        self.down_sample = down_sample\n",
    "        self.relu = ReLU()\n",
    "        self.add = Add()\n",
    "\n",
    "    def call(self, inputs, training=False):\n",
    "        # 跳过连接分支\n",
    "        skip_Z = inputs\n",
    "\n",
    "        # 使用改变特征图大小核深度的跳过连接分支\n",
    "        if self.down_sample is not None:\n",
    "            skip_Z = self.down_sample(inputs)\n",
    "\n",
    "        # 主分支\n",
    "        Z = self.conv1(inputs)\n",
    "        Z = self.BN1(Z, training=training)\n",
    "        Z = self.relu(Z)\n",
    "\n",
    "        Z = self.conv2(Z)\n",
    "        Z = self.BN2(Z, training=training)\n",
    "\n",
    "        Z = self.add([Z, skip_Z])\n",
    "        Z = self.relu(Z)\n",
    "\n",
    "        return Z"
   ]
  },
  {
   "cell_type": "code",
   "execution_count": 8,
   "metadata": {},
   "outputs": [],
   "source": [
    "# 定义残差模块-瓶颈层形式\n",
    "class Residual_Bottleneck(keras.layers.Layer):\n",
    "    Expansion = 4  # 扩展系数\n",
    "\n",
    "    def __init__(self, filters, strides=1, down_sample=None, **kwargs):\n",
    "        super(Residual_Bottleneck, self).__init__(**kwargs)\n",
    "        # 1×1卷积核:降低特征维度\n",
    "        self.conv1 = Conv2D(filters=filters,\n",
    "                            kernel_size=1,\n",
    "                            use_bias=False,\n",
    "                            name=\"conv1\")  # 名字用于在迁移学习中与预训练模型的层进行匹配\n",
    "        self.BN1 = BatchNormalization(momentum=0.9, epsilon=1e-5, name=\"conv1/BatchNorm\")\n",
    "\n",
    "        self.conv2 = Conv2D(filters=filters,\n",
    "                            kernel_size=3,\n",
    "                            strides=strides,\n",
    "                            padding=\"SAME\",\n",
    "                            use_bias=False,\n",
    "                            name=\"conv2\")\n",
    "        self.BN2 = BatchNormalization(momentum=0.9, epsilon=1e-5, name=\"conv2/BatchNorm\")\n",
    "\n",
    "        # 1×1卷积核:升高特征维度\n",
    "        self.conv3 = Conv2D(filters=filters * self.Expansion,  # 64->256  128->512  ...\n",
    "                            kernel_size=1,\n",
    "                            use_bias=False,\n",
    "                            name=\"conv3\")\n",
    "        self.BN3 = BatchNormalization(momentum=0.9, epsilon=1e-5, name=\"conv3/BatchNorm\")\n",
    "        # down_sample：使用改变特征图大小核深度的跳过连接\n",
    "        self.down_sample = down_sample\n",
    "        self.relu = ReLU()\n",
    "        self.add = Add()\n",
    "\n",
    "    def call(self, inputs, training=False):\n",
    "        # 跳过连接分支\n",
    "        skip_Z = inputs\n",
    "\n",
    "        # 使用改变特征图大小核深度的跳过连接分支\n",
    "        if self.down_sample is not None:\n",
    "            skip_Z = self.down_sample(inputs)\n",
    "\n",
    "        # 主分支\n",
    "        Z = self.conv1(inputs)\n",
    "        Z = self.BN1(Z, training=training)\n",
    "        Z = self.relu(Z)\n",
    "\n",
    "        Z = self.conv2(Z)\n",
    "        Z = self.BN2(Z, training=training)\n",
    "        Z = self.relu(Z)\n",
    "\n",
    "        Z = self.conv3(Z)\n",
    "        Z = self.BN3(Z, training=training)\n",
    "\n",
    "        Z = self.add([Z, skip_Z])\n",
    "        Z = self.relu(Z)\n",
    "\n",
    "        return Z"
   ]
  },
  {
   "cell_type": "markdown",
   "metadata": {},
   "source": [
    "#### 生成一系列的残差结构"
   ]
  },
  {
   "cell_type": "code",
   "execution_count": 9,
   "metadata": {},
   "outputs": [],
   "source": [
    "def make_conv_x(block, block_num, in_channel, unit1_channel, name, strides=1):\n",
    "    \"\"\"\n",
    "    :param block: 可选择 Residual_Basic 或 Residual_Bottleneck\n",
    "    :param block_num: 残差结构数量\n",
    "    :param in_channel: 上一层输出特征矩阵的通道数\n",
    "    :param unit1_channel: 本残差模块第一个单元的卷积层的的通道数\n",
    "    \"\"\"\n",
    "    # 使用改变特征图大小核深度的跳过连接分支(虚线结构)\n",
    "    # 1. 当strides大于1时需要：高宽/2,深度加深\n",
    "    # 2. 对于18和34-layer: 第一层不需要虚线结构\n",
    "    # 3. 对于50,101和152-layer: 第一层需要虚线结构：调整特征矩阵的深度，高宽不变.\n",
    "    #                                           ->kernel_size=1\n",
    "    skipLayer = None\n",
    "    out_channel = unit1_channel * block.Expansion  # conv3_channel\n",
    "    if (strides != 1) or (in_channel != out_channel):\n",
    "        skipLayer = Sequential([\n",
    "            Conv2D(filters=out_channel, kernel_size=1, strides=strides,\n",
    "                   use_bias=False, name=\"conv1\"),\n",
    "            BatchNormalization(momentum=0.9, epsilon=1.001e-5, name=\"BatchNorm\")\n",
    "        ], name=\"shortcut\")  # 跳过层即捷径层\n",
    "\n",
    "    layersList = []\n",
    "    # 首先针对第一个单元进行处理\n",
    "    layersList.append(block(filters=unit1_channel, strides=strides,\n",
    "                            down_sample=skipLayer,\n",
    "                            name=\"unit_1\"))\n",
    "    # 然后针对其他单元进行处理\n",
    "    for index in range(1, block_num):  # 3 -> 1, 2\n",
    "        layersList.append(block(filters=unit1_channel, strides=1,\n",
    "                                down_sample=None,\n",
    "                                name=\"unit_\" + str(index + 1)))\n",
    "\n",
    "    return Sequential(layersList, name=name)"
   ]
  },
  {
   "cell_type": "markdown",
   "metadata": {},
   "source": [
    "因为`Conv1`中刚刚对网络输入进行了卷积和最大池化，还没有进行残差学习，此时直接下采样会损失大量信息；而后3个`ConvN_x`直接进行下采样时，前面的网络已经进行过残差学习了，所以可以直接进行下采样。"
   ]
  },
  {
   "cell_type": "markdown",
   "metadata": {},
   "source": [
    "#### 定义ResNet网络结构"
   ]
  },
  {
   "cell_type": "code",
   "execution_count": 10,
   "metadata": {},
   "outputs": [],
   "source": [
    "def resnet(block, block_num_list, height=224, width=224, num_classes=1000, include_top=True):\n",
    "    \"\"\"\n",
    "    :param block: 可选择 Residual_Basic 或 Residual_Bottleneck\n",
    "    :param block_num_list: 残差结构数量 输入为列表\n",
    "    :param height: 输入高度像素\n",
    "    :param width: 输入宽度像素\n",
    "    :param num_classes:  标签的类别数量\n",
    "    :param include_top: \n",
    "    :return: \n",
    "    \"\"\"\n",
    "    input = Input(shape=[height, width, 3], dtype=\"float32\")\n",
    "    # ---------------------\n",
    "    Z = Conv2D(filters=64, kernel_size=7, strides=2,\n",
    "               padding=\"SAME\", use_bias=False, name=\"conv1\")(input)\n",
    "    Z = BatchNormalization(momentum=0.9, epsilon=1e-5, name=\"conv1/BatchNorm\")(Z)\n",
    "    Z = ReLU()(Z)\n",
    "\n",
    "    Z = MaxPool2D(pool_size=3, strides=2, padding=\"SAME\")(Z)\n",
    "    # ---------------------\n",
    "    # 每调用一次make_layer()就生成对应`convN_x`的一系列残差结构\n",
    "    # Z.shape对应上一层输出特征矩阵的shape对应[batch, height, weight, channel]\n",
    "    # Z.shape[-1]代表 channel 深度\n",
    "    Z = make_conv_x(block=block, block_num=block_num_list[0],\n",
    "                    in_channel=Z.shape[-1], unit1_channel=64, name=\"block1\")(Z)\n",
    "    Z = make_conv_x(block=block, block_num=block_num_list[1],\n",
    "                    in_channel=Z.shape[-1], unit1_channel=128, name=\"block2\", strides=2)(Z)\n",
    "    Z = make_conv_x(block, block_num_list[2], Z.shape[-1], 256, \"block3\", 2)(Z)\n",
    "    Z = make_conv_x(block, block_num_list[3], Z.shape[-1], 512, \"block4\", 2)(Z)\n",
    "    # ---------------------\n",
    "    if include_top:  # 不使用迁移学习\n",
    "        Z = GlobalAvgPool2D()(Z)  # 全局平局池化:结合了pool和flatten的功能\n",
    "        Z = Dense(units=num_classes, name=\"logits\")(Z)\n",
    "        predict = Softmax()(Z)\n",
    "    else:  # 使用迁移学习 可以在后面自定义所需要的层\n",
    "        predict = Z\n",
    "\n",
    "    model = Model(inputs=input, outputs=predict)\n",
    "    return model\n"
   ]
  },
  {
   "cell_type": "markdown",
   "metadata": {},
   "source": [
    "#### 定义不同的ResNet架构"
   ]
  },
  {
   "cell_type": "code",
   "execution_count": 11,
   "metadata": {},
   "outputs": [],
   "source": [
    "# 定义ResNet-18\n",
    "def resnet_18(height=224, width=224, num_classes=1000, include_top=True):\n",
    "    model = resnet(block=Residual_Basic, \n",
    "                   block_num_list=[2, 2, 2, 2], \n",
    "                   height=height, width=width,\n",
    "                   num_classes=num_classes, \n",
    "                   include_top=include_top)\n",
    "    return model"
   ]
  },
  {
   "cell_type": "code",
   "execution_count": 12,
   "metadata": {},
   "outputs": [],
   "source": [
    "# 定义ResNet-34\n",
    "def resnet_34(height=224, width=224, num_classes=1000, include_top=True):\n",
    "    model = resnet(Residual_Basic, [3, 4, 6, 3], height, width, num_classes, include_top)\n",
    "    return model"
   ]
  },
  {
   "cell_type": "code",
   "execution_count": 13,
   "metadata": {},
   "outputs": [],
   "source": [
    "# 定义ResNet-50\n",
    "def resnet_50(height=224, width=224, num_classes=1000, include_top=True):\n",
    "    model = resnet(Residual_Bottleneck, [3, 4, 6, 3], height, width, num_classes, include_top)\n",
    "    return model"
   ]
  },
  {
   "cell_type": "code",
   "execution_count": 14,
   "metadata": {},
   "outputs": [],
   "source": [
    "# 定义ResNet-101\n",
    "def resnet_101(height=224, width=224, num_classes=1000, include_top=True):\n",
    "    model = resnet(Residual_Basic, [3, 4, 23, 3], height, width, num_classes, include_top)\n",
    "    return model"
   ]
  },
  {
   "cell_type": "code",
   "execution_count": 15,
   "metadata": {},
   "outputs": [],
   "source": [
    "# 定义ResNet-152\n",
    "def resnet_152(height=224, width=224, num_classes=1000, include_top=True):\n",
    "    model = resnet(Residual_Basic, [3, 8, 36, 3], height, width, num_classes, include_top)\n",
    "    return model"
   ]
  },
  {
   "cell_type": "markdown",
   "metadata": {},
   "source": [
    "- 查看`ResNet-34`模型结构"
   ]
  },
  {
   "cell_type": "code",
   "execution_count": 16,
   "metadata": {},
   "outputs": [
    {
     "name": "stdout",
     "output_type": "stream",
     "text": [
      "Model: \"model\"\n",
      "_________________________________________________________________\n",
      "Layer (type)                 Output Shape              Param #   \n",
      "=================================================================\n",
      "input_1 (InputLayer)         [(None, 224, 224, 3)]     0         \n",
      "_________________________________________________________________\n",
      "conv1 (Conv2D)               (None, 112, 112, 64)      9408      \n",
      "_________________________________________________________________\n",
      "conv1/BatchNorm (BatchNormal (None, 112, 112, 64)      256       \n",
      "_________________________________________________________________\n",
      "re_lu (ReLU)                 (None, 112, 112, 64)      0         \n",
      "_________________________________________________________________\n",
      "max_pooling2d (MaxPooling2D) (None, 56, 56, 64)        0         \n",
      "_________________________________________________________________\n",
      "block1 (Sequential)          (None, 56, 56, 64)        222720    \n",
      "_________________________________________________________________\n",
      "block2 (Sequential)          (None, 28, 28, 128)       1118720   \n",
      "_________________________________________________________________\n",
      "block3 (Sequential)          (None, 14, 14, 256)       6829056   \n",
      "_________________________________________________________________\n",
      "block4 (Sequential)          (None, 7, 7, 512)         13121536  \n",
      "_________________________________________________________________\n",
      "global_average_pooling2d (Gl (None, 512)               0         \n",
      "_________________________________________________________________\n",
      "logits (Dense)               (None, 10)                5130      \n",
      "_________________________________________________________________\n",
      "softmax (Softmax)            (None, 10)                0         \n",
      "=================================================================\n",
      "Total params: 21,306,826\n",
      "Trainable params: 21,289,802\n",
      "Non-trainable params: 17,024\n",
      "_________________________________________________________________\n"
     ]
    }
   ],
   "source": [
    "model = resnet_34(num_classes=10)\n",
    "model.summary()"
   ]
  },
  {
   "cell_type": "markdown",
   "metadata": {},
   "source": [
    "#### 使用迁移学习训练ResNet-50"
   ]
  },
  {
   "cell_type": "markdown",
   "id": "810728a1",
   "metadata": {
    "papermill": {
     "duration": 0.014985,
     "end_time": "2022-01-07T01:52:34.752659",
     "exception": false,
     "start_time": "2022-01-07T01:52:34.737674",
     "status": "completed"
    },
    "tags": []
   },
   "source": [
    "1. 加载,预处理数据集"
   ]
  },
  {
   "cell_type": "code",
   "execution_count": 17,
   "id": "60b68be6",
   "metadata": {
    "execution": {
     "iopub.execute_input": "2022-01-07T01:52:34.817802Z",
     "iopub.status.busy": "2022-01-07T01:52:34.814937Z",
     "iopub.status.idle": "2022-01-07T01:53:50.194211Z",
     "shell.execute_reply": "2022-01-07T01:53:50.194846Z",
     "shell.execute_reply.started": "2022-01-07T01:43:25.769177Z"
    },
    "papermill": {
     "duration": 75.397073,
     "end_time": "2022-01-07T01:53:50.195015",
     "exception": false,
     "start_time": "2022-01-07T01:52:34.797942",
     "status": "completed"
    },
    "tags": []
   },
   "outputs": [],
   "source": [
    "import tensorflow_datasets as tfds\n",
    "dataset, info = tfds.load(\"Cifar10\", as_supervised=True, with_info=True)\n",
    "\n",
    "class_names = info.features[\"label\"].names\n",
    "train_size = info.splits[\"train\"].num_examples\n",
    "test_size = info.splits[\"test\"].num_examples"
   ]
  },
  {
   "cell_type": "code",
   "execution_count": 18,
   "id": "271ee21c",
   "metadata": {
    "execution": {
     "iopub.execute_input": "2022-01-07T01:53:50.239324Z",
     "iopub.status.busy": "2022-01-07T01:53:50.238518Z",
     "iopub.status.idle": "2022-01-07T01:53:50.365845Z",
     "shell.execute_reply": "2022-01-07T01:53:50.364921Z",
     "shell.execute_reply.started": "2022-01-07T01:44:27.839065Z"
    },
    "papermill": {
     "duration": 0.151371,
     "end_time": "2022-01-07T01:53:50.365983",
     "exception": false,
     "start_time": "2022-01-07T01:53:50.214612",
     "status": "completed"
    },
    "tags": []
   },
   "outputs": [],
   "source": [
    "train_set_raw = tfds.load(\"Cifar10\", as_supervised=True)['train']\n",
    "test_set_raw, valid_set_raw = tfds.load(\n",
    "    \"Cifar10\",\n",
    "    split=[\"test[:60%]\", \"test[60%:]\"],\n",
    "    as_supervised=True)"
   ]
  },
  {
   "cell_type": "markdown",
   "id": "11995a41",
   "metadata": {
    "papermill": {
     "duration": 0.015056,
     "end_time": "2022-01-07T01:52:34.782774",
     "exception": false,
     "start_time": "2022-01-07T01:52:34.767718",
     "status": "completed"
    },
    "tags": []
   },
   "source": [
    "如果使用`迁移学习`,需要在图像预处理部分减去`ImageNet`所有图像的均值,即**\\[123.68, 116.78, 103.94\\]** 如果使用别人的预训练模型参数,就必须和別人使用相同的预处理方法!"
   ]
  },
  {
   "cell_type": "code",
   "execution_count": 19,
   "id": "dac8facd",
   "metadata": {
    "execution": {
     "iopub.execute_input": "2022-01-07T01:53:50.416797Z",
     "iopub.status.busy": "2022-01-07T01:53:50.416147Z",
     "iopub.status.idle": "2022-01-07T01:53:50.514720Z",
     "shell.execute_reply": "2022-01-07T01:53:50.515176Z",
     "shell.execute_reply.started": "2022-01-07T01:44:27.964210Z"
    },
    "papermill": {
     "duration": 0.129105,
     "end_time": "2022-01-07T01:53:50.515390",
     "exception": false,
     "start_time": "2022-01-07T01:53:50.386285",
     "status": "completed"
    },
    "tags": []
   },
   "outputs": [],
   "source": [
    "from keras.utils import np_utils\n",
    "\n",
    "_R_MEAN = 123.68\n",
    "_G_MEAN = 116.78\n",
    "_B_MEAN = 103.94\n",
    "\n",
    "num_classes = 10\n",
    "\n",
    "\n",
    "# 预处理\n",
    "def preprocess(image, label):\n",
    "    resized_image = tf.image.resize(image, [224, 224]) - [_R_MEAN, _G_MEAN, _B_MEAN]\n",
    "    label = tf.cast(label, dtype=tf.int32)\n",
    "    label = tf.squeeze(label)   # tf.squeeze():用于从张量形状中移除大小为1的维度\n",
    "    label = tf.one_hot(label, depth=num_classes)\n",
    "    return resized_image, label\n",
    "\n",
    "batch_size = 64\n",
    "train_set = train_set_raw.shuffle(1000).repeat()\n",
    "train_set = train_set.map(preprocess).batch(batch_size).prefetch(1)\n",
    "valid_set = valid_set_raw.map(preprocess).batch(batch_size).prefetch(1)\n",
    "test_set = test_set_raw.map(preprocess).batch(batch_size).prefetch(1)"
   ]
  },
  {
   "cell_type": "code",
   "execution_count": 20,
   "id": "53c48939",
   "metadata": {
    "execution": {
     "iopub.execute_input": "2022-01-07T01:53:50.559371Z",
     "iopub.status.busy": "2022-01-07T01:53:50.558753Z",
     "iopub.status.idle": "2022-01-07T01:53:50.855739Z",
     "shell.execute_reply": "2022-01-07T01:53:50.856146Z",
     "shell.execute_reply.started": "2022-01-07T01:44:28.069212Z"
    },
    "papermill": {
     "duration": 0.321365,
     "end_time": "2022-01-07T01:53:50.856292",
     "exception": false,
     "start_time": "2022-01-07T01:53:50.534927",
     "status": "completed"
    },
    "tags": []
   },
   "outputs": [],
   "source": [
    "root_logdir = os.path.join(os.curdir, \"./Logs/my_ResNet50_logs\")\n",
    "root_logdir\n",
    "\n",
    "def get_run_logdir():\n",
    "    run_id = time.strftime(\"run_%Y_%m_%d-%H_%M_%S\")\n",
    "    return os.path.join(root_logdir, run_id)\n",
    "\n",
    "run_dir = get_run_logdir()\n",
    "run_dir\n",
    "\n",
    "tensorboard_cb = keras.callbacks.TensorBoard(run_dir)"
   ]
  },
  {
   "cell_type": "markdown",
   "metadata": {},
   "source": [
    "2. 使用迁移学习\n",
    "\n",
    "    载入权重后在原网络基础上再添加两层全连接层，仅训练最后两层全连接层"
   ]
  },
  {
   "cell_type": "code",
   "execution_count": 21,
   "metadata": {},
   "outputs": [],
   "source": [
    "feature = resnet_50(num_classes=num_classes, include_top=False)"
   ]
  },
  {
   "cell_type": "code",
   "execution_count": 22,
   "metadata": {},
   "outputs": [
    {
     "name": "stdout",
     "output_type": "stream",
     "text": [
      "Model: \"model_1\"\n",
      "_________________________________________________________________\n",
      "Layer (type)                 Output Shape              Param #   \n",
      "=================================================================\n",
      "input_2 (InputLayer)         [(None, 224, 224, 3)]     0         \n",
      "_________________________________________________________________\n",
      "conv1 (Conv2D)               (None, 112, 112, 64)      9408      \n",
      "_________________________________________________________________\n",
      "conv1/BatchNorm (BatchNormal (None, 112, 112, 64)      256       \n",
      "_________________________________________________________________\n",
      "re_lu_17 (ReLU)              (None, 112, 112, 64)      0         \n",
      "_________________________________________________________________\n",
      "max_pooling2d_1 (MaxPooling2 (None, 56, 56, 64)        0         \n",
      "_________________________________________________________________\n",
      "block1 (Sequential)          (None, 56, 56, 256)       218624    \n",
      "_________________________________________________________________\n",
      "block2 (Sequential)          (None, 28, 28, 512)       1226752   \n",
      "_________________________________________________________________\n",
      "block3 (Sequential)          (None, 14, 14, 1024)      7118848   \n",
      "_________________________________________________________________\n",
      "block4 (Sequential)          (None, 7, 7, 2048)        14987264  \n",
      "=================================================================\n",
      "Total params: 23,561,152\n",
      "Trainable params: 0\n",
      "Non-trainable params: 23,561,152\n",
      "_________________________________________________________________\n"
     ]
    }
   ],
   "source": [
    "# 加载预训练模型的权重\n",
    "pre_weight_path = './PTmodel/tf_resnet50_weights/pretrain_weights.ckpt'\n",
    "feature.load_weights(pre_weight_path)\n",
    "feature.trainable = False      # 冻结预训练模型的权重参数\n",
    "feature.summary()"
   ]
  },
  {
   "cell_type": "code",
   "execution_count": 23,
   "metadata": {},
   "outputs": [
    {
     "name": "stdout",
     "output_type": "stream",
     "text": [
      "Model: \"sequential\"\n",
      "_________________________________________________________________\n",
      "Layer (type)                 Output Shape              Param #   \n",
      "=================================================================\n",
      "model_1 (Functional)         (None, 7, 7, 2048)        23561152  \n",
      "_________________________________________________________________\n",
      "global_average_pooling2d_1 ( (None, 2048)              0         \n",
      "_________________________________________________________________\n",
      "dropout (Dropout)            (None, 2048)              0         \n",
      "_________________________________________________________________\n",
      "dense (Dense)                (None, 1024)              2098176   \n",
      "_________________________________________________________________\n",
      "dropout_1 (Dropout)          (None, 1024)              0         \n",
      "_________________________________________________________________\n",
      "dense_1 (Dense)              (None, 10)                10250     \n",
      "_________________________________________________________________\n",
      "softmax_1 (Softmax)          (None, 10)                0         \n",
      "=================================================================\n",
      "Total params: 25,669,578\n",
      "Trainable params: 2,108,426\n",
      "Non-trainable params: 23,561,152\n",
      "_________________________________________________________________\n"
     ]
    }
   ],
   "source": [
    "# 模型最后面添加全连接层\n",
    "model = Sequential([\n",
    "    feature,\n",
    "    GlobalAvgPool2D(),\n",
    "    Dropout(rate=0.5),\n",
    "    Dense(1024, activation=keras.activations.relu),\n",
    "    Dropout(rate=0.5),\n",
    "    Dense(num_classes),\n",
    "    Softmax()  \n",
    "])\n",
    "\n",
    "model.summary()"
   ]
  },
  {
   "cell_type": "markdown",
   "id": "db76e52c",
   "metadata": {
    "papermill": {
     "duration": 0.019585,
     "end_time": "2022-01-07T01:53:50.895775",
     "exception": false,
     "start_time": "2022-01-07T01:53:50.876190",
     "status": "completed"
    },
    "tags": []
   },
   "source": [
    "3. 训练,评估模型"
   ]
  },
  {
   "cell_type": "code",
   "execution_count": null,
   "id": "15f12298",
   "metadata": {
    "execution": {
     "iopub.execute_input": "2022-01-07T01:53:50.946722Z",
     "iopub.status.busy": "2022-01-07T01:53:50.945896Z",
     "iopub.status.idle": "2022-01-07T10:31:03.007173Z",
     "shell.execute_reply": "2022-01-07T10:31:03.007857Z",
     "shell.execute_reply.started": "2022-01-07T01:44:28.401685Z"
    },
    "papermill": {
     "duration": 31032.092255,
     "end_time": "2022-01-07T10:31:03.008043",
     "exception": false,
     "start_time": "2022-01-07T01:53:50.915788",
     "status": "completed"
    },
    "tags": []
   },
   "outputs": [
    {
     "name": "stdout",
     "output_type": "stream",
     "text": [
      "WARNING:tensorflow:Model failed to serialize as JSON. Ignoring... Layer Residual_Bottleneck has arguments in `__init__` and therefore must override `get_config`.\n"
     ]
    },
    {
     "name": "stderr",
     "output_type": "stream",
     "text": [
      "WARNING:tensorflow:Model failed to serialize as JSON. Ignoring... Layer Residual_Bottleneck has arguments in `__init__` and therefore must override `get_config`.\n"
     ]
    },
    {
     "name": "stdout",
     "output_type": "stream",
     "text": [
      "Epoch 1/5\n",
      "  3/781 [..............................] - ETA: 23:47 - loss: 2.3710 - accuracy: 0.1667"
     ]
    }
   ],
   "source": [
    "# 编译模型\n",
    "optimizer = keras.optimizers.Adam(learning_rate=0.0002)\n",
    "model.compile(loss=\"categorical_crossentropy\", optimizer=optimizer,\n",
    "              metrics=[\"accuracy\"])\n",
    "# 训练模型\n",
    "callbacks = [tf.keras.callbacks.ModelCheckpoint(filepath='./models/my_ResNet50.h5',\n",
    "                                                save_best_only=True,\n",
    "                                                ave_weights_only=True,\n",
    "                                                monitor='val_loss'),\n",
    "             tensorboard_cb]\n",
    "\n",
    "history = model.fit(train_set,\n",
    "                    steps_per_epoch=int(train_size / batch_size),\n",
    "                    validation_data=valid_set,\n",
    "                    validation_steps=int(0.4 * test_size / batch_size),\n",
    "                    epochs=5,\n",
    "                    callbacks=callbacks)"
   ]
  },
  {
   "cell_type": "code",
   "execution_count": null,
   "id": "600e7ca2",
   "metadata": {
    "execution": {
     "iopub.execute_input": "2022-01-07T10:31:46.299093Z",
     "iopub.status.busy": "2022-01-07T10:31:46.298244Z",
     "iopub.status.idle": "2022-01-07T10:32:02.634508Z",
     "shell.execute_reply": "2022-01-07T10:32:02.633990Z",
     "shell.execute_reply.started": "2022-01-07T01:49:53.548462Z"
    },
    "papermill": {
     "duration": 38.083302,
     "end_time": "2022-01-07T10:32:02.634642",
     "exception": false,
     "start_time": "2022-01-07T10:31:24.551340",
     "status": "completed"
    },
    "tags": []
   },
   "outputs": [],
   "source": [
    "model = keras.models.load_model(\"./my_VGG16.h5\")\n",
    "model.evaluate(test_set)"
   ]
  },
  {
   "cell_type": "code",
   "execution_count": null,
   "id": "c8b9845d",
   "metadata": {
    "execution": {
     "iopub.execute_input": "2022-01-07T10:32:46.520385Z",
     "iopub.status.busy": "2022-01-07T10:32:46.518783Z",
     "iopub.status.idle": "2022-01-07T10:32:46.520950Z",
     "shell.execute_reply": "2022-01-07T10:32:46.521358Z",
     "shell.execute_reply.started": "2022-01-07T01:50:09.972265Z"
    },
    "papermill": {
     "duration": 21.885575,
     "end_time": "2022-01-07T10:32:46.521501",
     "exception": false,
     "start_time": "2022-01-07T10:32:24.635926",
     "status": "completed"
    },
    "tags": []
   },
   "outputs": [],
   "source": [
    "history_dict = history.history\n",
    "train_loss = history_dict[\"loss\"]\n",
    "train_accuracy = history_dict[\"accuracy\"]\n",
    "val_loss = history_dict[\"val_loss\"]\n",
    "val_accuracy = history_dict[\"val_accuracy\"]"
   ]
  },
  {
   "cell_type": "code",
   "execution_count": null,
   "id": "0694929b",
   "metadata": {
    "execution": {
     "iopub.execute_input": "2022-01-07T10:33:29.414527Z",
     "iopub.status.busy": "2022-01-07T10:33:29.413667Z",
     "iopub.status.idle": "2022-01-07T10:33:29.791561Z",
     "shell.execute_reply": "2022-01-07T10:33:29.790918Z",
     "shell.execute_reply.started": "2022-01-07T01:50:49.589974Z"
    },
    "papermill": {
     "duration": 22.030907,
     "end_time": "2022-01-07T10:33:29.791687",
     "exception": false,
     "start_time": "2022-01-07T10:33:07.760780",
     "status": "completed"
    },
    "tags": []
   },
   "outputs": [],
   "source": [
    "epochs = 100\n",
    "# figure 1\n",
    "plt.figure()\n",
    "plt.plot(range(epochs), train_loss, label='train_loss')\n",
    "plt.plot(range(epochs), val_loss, label='val_loss')\n",
    "plt.legend()\n",
    "plt.xlabel('epochs')\n",
    "plt.ylabel('loss')\n",
    "\n",
    "# figure 2\n",
    "plt.figure()\n",
    "plt.plot(range(epochs), train_accuracy, label='train_accuracy')\n",
    "plt.plot(range(epochs), val_accuracy, label='val_accuracy')\n",
    "plt.legend()\n",
    "plt.xlabel('epochs')\n",
    "plt.ylabel('accuracy')\n",
    "plt.show()"
   ]
  },
  {
   "cell_type": "code",
   "execution_count": null,
   "metadata": {},
   "outputs": [],
   "source": [
    "%load_ext tensorboard\n",
    "%tensorboard --logdir=./Logs/my_VGG16_logs --port=6061"
   ]
  },
  {
   "cell_type": "code",
   "execution_count": null,
   "metadata": {},
   "outputs": [],
   "source": []
  }
 ],
 "metadata": {
  "hide_input": false,
  "kernelspec": {
   "display_name": "Python 3",
   "language": "python",
   "name": "python3"
  },
  "language_info": {
   "codemirror_mode": {
    "name": "ipython",
    "version": 3
   },
   "file_extension": ".py",
   "mimetype": "text/x-python",
   "name": "python",
   "nbconvert_exporter": "python",
   "pygments_lexer": "ipython3",
   "version": "3.7.4"
  },
  "toc": {
   "base_numbering": 1,
   "nav_menu": {},
   "number_sections": true,
   "sideBar": true,
   "skip_h1_title": false,
   "title_cell": "Table of Contents",
   "title_sidebar": "Contents",
   "toc_cell": false,
   "toc_position": {},
   "toc_section_display": true,
   "toc_window_display": false
  }
 },
 "nbformat": 4,
 "nbformat_minor": 2
}
