{
 "cells": [
  {
   "cell_type": "code",
   "execution_count": 1,
   "id": "a82bb459",
   "metadata": {
    "execution": {
     "iopub.execute_input": "2022-05-19T12:59:14.028073Z",
     "iopub.status.busy": "2022-05-19T12:59:14.027533Z",
     "iopub.status.idle": "2022-05-19T12:59:21.440913Z",
     "shell.execute_reply": "2022-05-19T12:59:21.439803Z"
    },
    "papermill": {
     "duration": 7.594674,
     "end_time": "2022-05-19T12:59:21.444144",
     "exception": false,
     "start_time": "2022-05-19T12:59:13.849470",
     "status": "completed"
    },
    "tags": []
   },
   "outputs": [],
   "source": [
    "import numpy as np\n",
    "import pandas as pd\n",
    "import tensorflow as tf\n",
    "import tensorflow.keras as keras\n",
    "import os\n",
    "import time\n",
    "import io\n",
    "import matplotlib.pyplot as plt\n",
    "import matplotlib as mpl\n",
    "import seaborn as sns\n",
    "\n",
    "\n",
    "def initialization(seed=42):\n",
    "    keras.backend.clear_session()\n",
    "    np.random.seed(seed)\n",
    "    tf.random.set_seed(seed)"
   ]
  },
  {
   "cell_type": "code",
   "execution_count": 2,
   "id": "12ba220a",
   "metadata": {
    "execution": {
     "iopub.execute_input": "2022-05-19T12:59:21.781138Z",
     "iopub.status.busy": "2022-05-19T12:59:21.780397Z",
     "iopub.status.idle": "2022-05-19T12:59:21.785248Z",
     "shell.execute_reply": "2022-05-19T12:59:21.784283Z"
    },
    "papermill": {
     "duration": 0.175789,
     "end_time": "2022-05-19T12:59:21.787384",
     "exception": false,
     "start_time": "2022-05-19T12:59:21.611595",
     "status": "completed"
    },
    "tags": []
   },
   "outputs": [],
   "source": [
    "from matplotlib import font_manager\n",
    "my_font = font_manager.FontProperties(fname='../Fonts/SourceHanSerifSC-Medium.otf', size=14)"
   ]
  },
  {
   "cell_type": "markdown",
   "id": "e81450b8",
   "metadata": {
    "papermill": {
     "duration": 0.166616,
     "end_time": "2022-05-19T12:59:22.121274",
     "exception": false,
     "start_time": "2022-05-19T12:59:21.954658",
     "status": "completed"
    },
    "tags": []
   },
   "source": [
    "# 神经机器翻译的编码器-解码器模型 An Encoder-Decoder Network for Nerual Machine Translation"
   ]
  },
  {
   "cell_type": "markdown",
   "id": "d1232085",
   "metadata": {
    "papermill": {
     "duration": 0.170892,
     "end_time": "2022-05-19T12:59:22.462668",
     "exception": false,
     "start_time": "2022-05-19T12:59:22.291776",
     "status": "completed"
    },
    "tags": []
   },
   "source": [
    "## 编码器和解码器 Encoder and Decoder"
   ]
  },
  {
   "cell_type": "markdown",
   "id": "1cc73e42",
   "metadata": {
    "papermill": {
     "duration": 0.169477,
     "end_time": "2022-05-19T12:59:22.802117",
     "exception": false,
     "start_time": "2022-05-19T12:59:22.632640",
     "status": "completed"
    },
    "tags": []
   },
   "source": [
    "- **编码器**\n",
    "    - 几个循环单元的堆叠, 每个单元接受接受输入序列的单个元素, 收集其信息并进行前向传播\n",
    "    - 在问答系统中,输入序列是问题中所有单词的集合. 每个单词表示$X_i$, $i$ 表示该单词的顺序.\n",
    "    - 普通的RNN中, 隐藏状态 $h_i$ 使用以下公式计算： \n",
    "\n",
    "        <img src=\"../images/other/16-5.png\" width=\"500\">\n",
    "    - 编码器向量是模型的编码器部分产生的最终隐藏状态。该向量旨在封装所有输入元素的信息，以帮助解码器做出准确的预测。它充当模型解码器部分的初始隐藏状态。\n",
    "\n",
    "\n",
    "\n",
    "- **解码器**\n",
    "    - 使用前一个隐藏状态来计算下一个隐藏状态:$h_t=f(W^{hh}h_{t-1})$\n",
    "    - 时间步 $t$ 的输出 $y_t$ 使用以下公式计算：$y_t=softmax(W^Sh_t)$"
   ]
  },
  {
   "cell_type": "markdown",
   "id": "a99c9a8a",
   "metadata": {
    "papermill": {
     "duration": 0.169426,
     "end_time": "2022-05-19T12:59:23.139486",
     "exception": false,
     "start_time": "2022-05-19T12:59:22.970060",
     "status": "completed"
    },
    "tags": []
   },
   "source": [
    "   <img src=\"../images/other/16-4.png\" width=\"500\">"
   ]
  },
  {
   "cell_type": "markdown",
   "id": "6f1a92e1",
   "metadata": {
    "papermill": {
     "duration": 0.169353,
     "end_time": "2022-05-19T12:59:23.482844",
     "exception": false,
     "start_time": "2022-05-19T12:59:23.313491",
     "status": "completed"
    },
    "tags": []
   },
   "source": [
    "1. 编码器和解码器都会接受输入, 其中解码器的输入会向后偏移一位, 以`<SOS>`令牌作为序列开始, 编码器以`<EOS>`令牌作为输入序列的结束.\n",
    "2. 如上图所示, **英文句子在输入到编码器之前会被颠倒**。这确保了英语句子的开头将最后被馈送到编码器.\n",
    "3. 每个单词最初都由其 ID 表示（例如，单词“milk”的 ID 为 288）。接下来，嵌入层返回词嵌入。这些词嵌入实际上是馈送到`编码器`（一个序列到向量网络，编码器会将这个句子（词嵌入）转换为单个向量表示）和`解码器`（一个向量到序列网络，解码这个向量成另一种语言的句子）。\n",
    "4. 在每个步长,`编码器`会输出在词汇表中每个单词的分数, 使用`Softmax`归一化转换为概率, 最高的概率会被输出.\n",
    "5. 在推理期间将以前的输出单词作为输入.\n",
    "    <img src=\"../images/other/16-6.png\" width=\"300\">"
   ]
  },
  {
   "cell_type": "markdown",
   "id": "21c6fd1a",
   "metadata": {
    "papermill": {
     "duration": 0.169863,
     "end_time": "2022-05-19T12:59:23.822293",
     "exception": false,
     "start_time": "2022-05-19T12:59:23.652430",
     "status": "completed"
    },
    "tags": []
   },
   "source": [
    "仍有一些细节需要处理:\n",
    "1. **对于不定长的序列**, 由于规则张量具有固定形状, 因此只能容纳相同长度的句子. 可以使用**掩码**处理此问题, 但是如果**长度截然不同**, 就无法像情感分析一样仅仅裁剪就可以.\n",
    "    - 可以将句子分为相似长度的一组, 较短的序列使用填充确保一组中所有的句子都具有相同的长度.\n",
    "        ```python\n",
    "        tf.data.erxperimental.bucket_by_sequence_length()\n",
    "        #  \"I drink milk\" --> <pad> <pad> <pad> milk drink I.\"\n",
    "        ```\n",
    "       \n",
    "2. 忽略`<EOS>`令牌后的所有输出, 将其屏蔽.\n",
    "3. 当输出词汇量很大时, 为每个可能的单词输出概率会非常慢, 因为需要进行大量的计算.\n",
    "      - 使用`Sampled-softmax`训练方法来加速训练: 仅查看模型为正确单词和不正确单词随机样本的 `logits` , 然后仅基于这些 `logits` 计算损失的近似值。\n",
    "        ```python\n",
    "          # 训练时使用\n",
    "          tf.nn.sampled_softmax_loss()\n",
    "        ```\n",
    "         推断时使用`softmax`函数, `Sampled-softmax`不能在推理时使用，因为它需要知道目标。\n",
    "         \n",
    "         详情: https://mp.weixin.qq.com/s/5Z3pAZNTuoyBjcnTkZmpPw"
   ]
  },
  {
   "cell_type": "markdown",
   "id": "64338211",
   "metadata": {
    "papermill": {
     "duration": 0.168972,
     "end_time": "2022-05-19T12:59:24.159978",
     "exception": false,
     "start_time": "2022-05-19T12:59:23.991006",
     "status": "completed"
    },
    "tags": []
   },
   "source": [
    "- **回顾LSTM**\n",
    " - <img src=\"../images/other/15-15.png\" width=\"500\">\n",
    " - `keras`中使用`keras.layers.LSTM()`实现长短期记忆网络.\n",
    "```python\n",
    "lstm, state_h, state_c = LSTM(, return_state=True)\n",
    "# 返回：\n",
    "# lstm：每个时间步的隐藏状态\n",
    "# state_h：最后一个时间步的隐藏状态\n",
    "# state_c：最后一个时间步的cell状态\n",
    "```"
   ]
  },
  {
   "cell_type": "markdown",
   "id": "0adea2e0",
   "metadata": {
    "papermill": {
     "duration": 0.315444,
     "end_time": "2022-05-19T12:59:24.783580",
     "exception": false,
     "start_time": "2022-05-19T12:59:24.468136",
     "status": "completed"
    },
    "tags": []
   },
   "source": [
    "###  TensorFlow Addons 示例"
   ]
  },
  {
   "cell_type": "markdown",
   "id": "2f8c96ba",
   "metadata": {
    "papermill": {
     "duration": 0.167995,
     "end_time": "2022-05-19T12:59:25.171730",
     "exception": false,
     "start_time": "2022-05-19T12:59:25.003735",
     "status": "completed"
    },
    "tags": []
   },
   "source": [
    "`TensorFlow Addons` 项目包括许多序列到序列工具，让您轻松构建生产就绪的编码器-解码器。\n",
    "- `TrainingSampler` 是 `TensorFlow Addons` 中提供的几个采样器之一：它们的作用是在每一步告诉解码器它应该假装之前的输出的内容。\n",
    "    - 在推理过程中，这应该是实际输出的令牌的嵌入.\n",
    "    - 在训练期间，应该是之前目标标记的嵌入.\n",
    "    \n",
    "- 在实践中，从上一个时间步的目标嵌入开始训练, 然后逐渐转换到 使用上一步输出的实际令牌的嵌入 是一个好主意。 \n",
    "- `ScheduledEmbeddingTrainingSampler`: 将在目标或实际输出使用一个概率值做随机选择，您可以在训练过程中逐渐改变的概率。"
   ]
  },
  {
   "cell_type": "markdown",
   "id": "c00b9810",
   "metadata": {
    "papermill": {
     "duration": 0.170425,
     "end_time": "2022-05-19T12:59:25.510097",
     "exception": false,
     "start_time": "2022-05-19T12:59:25.339672",
     "status": "completed"
    },
    "tags": []
   },
   "source": [
    "- 创建了一个基本的编码器-解码器模型，类似于下图所示的模型\n",
    "\n",
    "   <img src=\"../images/other/16-4.png\" width=\"500\">"
   ]
  },
  {
   "cell_type": "code",
   "execution_count": 3,
   "id": "91d6588b",
   "metadata": {
    "execution": {
     "iopub.execute_input": "2022-05-19T12:59:25.853526Z",
     "iopub.status.busy": "2022-05-19T12:59:25.853222Z",
     "iopub.status.idle": "2022-05-19T12:59:26.012927Z",
     "shell.execute_reply": "2022-05-19T12:59:26.011982Z"
    },
    "papermill": {
     "duration": 0.335329,
     "end_time": "2022-05-19T12:59:26.015681",
     "exception": false,
     "start_time": "2022-05-19T12:59:25.680352",
     "status": "completed"
    },
    "scrolled": true,
    "tags": []
   },
   "outputs": [],
   "source": [
    "import tensorflow_addons as tfa"
   ]
  },
  {
   "cell_type": "code",
   "execution_count": 4,
   "id": "2a018186",
   "metadata": {
    "execution": {
     "iopub.execute_input": "2022-05-19T12:59:26.355996Z",
     "iopub.status.busy": "2022-05-19T12:59:26.355673Z",
     "iopub.status.idle": "2022-05-19T12:59:26.376163Z",
     "shell.execute_reply": "2022-05-19T12:59:26.375256Z"
    },
    "papermill": {
     "duration": 0.192337,
     "end_time": "2022-05-19T12:59:26.378588",
     "exception": false,
     "start_time": "2022-05-19T12:59:26.186251",
     "status": "completed"
    },
    "tags": []
   },
   "outputs": [],
   "source": [
    "initialization(42)\n",
    "\n",
    "vocab_size = 100\n",
    "embed_size = 10"
   ]
  },
  {
   "cell_type": "code",
   "execution_count": 5,
   "id": "f0b59391",
   "metadata": {
    "execution": {
     "iopub.execute_input": "2022-05-19T12:59:26.725737Z",
     "iopub.status.busy": "2022-05-19T12:59:26.725220Z",
     "iopub.status.idle": "2022-05-19T12:59:26.755837Z",
     "shell.execute_reply": "2022-05-19T12:59:26.754776Z"
    },
    "papermill": {
     "duration": 0.205102,
     "end_time": "2022-05-19T12:59:26.758359",
     "exception": false,
     "start_time": "2022-05-19T12:59:26.553257",
     "status": "completed"
    },
    "tags": []
   },
   "outputs": [],
   "source": [
    "embeddings = keras.layers.Embedding(input_dim=vocab_size,\n",
    "                                    output_dim=embed_size)\n",
    "sequence_lengths = keras.layers.Input(shape=[], dtype=np.int32)"
   ]
  },
  {
   "cell_type": "code",
   "execution_count": 6,
   "id": "d9297aaf",
   "metadata": {},
   "outputs": [],
   "source": [
    "# 编码器\n",
    "encoder_inputs = keras.layers.Input(shape=[None], dtype=np.int32)\n",
    "encoder_embeddings = embeddings(encoder_inputs)\n",
    "\n",
    "encoder = keras.layers.LSTM(512, return_state=True)\n",
    "# return_state=True: 获取其最终的隐藏状态并将它传递给解码器\n",
    "# LSTM将返回两种隐藏状态:长期状态C_t, 短期状态h_t\n",
    "encoder_output, state_h, state_c = encoder(encoder_embeddings)\n",
    "encoder_state = [state_h, state_c]\n",
    "\n",
    "# 解码器\n",
    "decoder_inputs = keras.layers.Input(shape=[None], dtype=np.int32)\n",
    "decoder_embeddings = embeddings(decoder_inputs)\n",
    "\n",
    "# 为什么使用 `keras.layers.LSTMCell`？\n",
    "# - 在推理过程中，我们使用一步输出作为下一步输入\n",
    "# - keras.layers.LSTMCell 处理整个时序输入中的一步\n",
    "decoder_cell = keras.layers.LSTMCell(512)  # 一步或是一个单词\n",
    "sampler = tfa.seq2seq.sampler.TrainingSampler()  # 采样器\n",
    "output_layer = keras.layers.Dense(vocab_size)  # 一个词对应一个向量\n",
    "\n",
    "decoder = tfa.seq2seq.basic_decoder.BasicDecoder(cell=decoder_cell,\n",
    "                                                 sampler=sampler,\n",
    "                                                 output_layer=output_layer)\n",
    "\n",
    "final_outputs, final_state, final_sequence_lengths = decoder(\n",
    "    decoder_embeddings,\n",
    "    initial_state=encoder_state,\n",
    "    sequence_length=sequence_lengths)\n",
    "\n",
    "y_proba = tf.nn.softmax(final_outputs.rnn_output)"
   ]
  },
  {
   "cell_type": "code",
   "execution_count": 7,
   "id": "d3af6eb2",
   "metadata": {},
   "outputs": [
    {
     "data": {
      "image/png": "[encoded data removed]",
      "text/plain": [
       "<IPython.core.display.Image object>"
      ]
     },
     "execution_count": 7,
     "metadata": {},
     "output_type": "execute_result"
    }
   ],
   "source": [
    "model = keras.Model(inputs=[encoder_inputs, decoder_inputs, sequence_lengths],\n",
    "                    outputs=[y_proba])\n",
    "keras.utils.plot_model(model,\n",
    "                       \"../models/plot_model/Encoder-Decoder_model_1.png\",\n",
    "                       show_shapes=True)"
   ]
  },
  {
   "cell_type": "code",
   "execution_count": 8,
   "id": "6c1b0780",
   "metadata": {
    "execution": {
     "iopub.execute_input": "2022-05-19T12:59:38.352457Z",
     "iopub.status.busy": "2022-05-19T12:59:38.352152Z",
     "iopub.status.idle": "2022-05-19T12:59:38.359626Z",
     "shell.execute_reply": "2022-05-19T12:59:38.358595Z"
    },
    "papermill": {
     "duration": 0.185627,
     "end_time": "2022-05-19T12:59:38.361791",
     "exception": false,
     "start_time": "2022-05-19T12:59:38.176164",
     "status": "completed"
    },
    "tags": []
   },
   "outputs": [],
   "source": [
    "X = np.random.randint(100, size=10*1000).reshape(1000,10) # 10 words, batch_size=1000\n",
    "y = np.random.randint(100, size=15*1000).reshape(1000,15) # 15 target words\n",
    "\n",
    "# 解码器的输入会向后偏移一位\n",
    "X_decoder = np.c_[np.zeros(shape=(1000,1)), y[:,:-1]]\n",
    "# 固定每个句子的seq_lengths为15\n",
    "seq_lengths = np.full(shape=[1000,], fill_value=15)"
   ]
  },
  {
   "cell_type": "code",
   "execution_count": 9,
   "id": "9c274a14",
   "metadata": {
    "execution": {
     "iopub.execute_input": "2022-05-19T12:59:38.711511Z",
     "iopub.status.busy": "2022-05-19T12:59:38.711238Z",
     "iopub.status.idle": "2022-05-19T12:59:47.469523Z",
     "shell.execute_reply": "2022-05-19T12:59:47.468461Z"
    },
    "papermill": {
     "duration": 8.93594,
     "end_time": "2022-05-19T12:59:47.472250",
     "exception": false,
     "start_time": "2022-05-19T12:59:38.536310",
     "status": "completed"
    },
    "tags": []
   },
   "outputs": [
    {
     "name": "stderr",
     "output_type": "stream",
     "text": [
      "2022-05-19 12:59:38.786756: I tensorflow/compiler/mlir/mlir_graph_optimization_pass.cc:185] None of the MLIR Optimization Passes are enabled (registered 2)\n",
      "2022-05-19 12:59:43.471933: I tensorflow/stream_executor/cuda/cuda_dnn.cc:369] Loaded cuDNN version 8005\n"
     ]
    },
    {
     "name": "stdout",
     "output_type": "stream",
     "text": [
      "32/32 [==============================] - 8s 69ms/step - loss: 4.6052\n"
     ]
    }
   ],
   "source": [
    "model.compile(loss=keras.losses.sparse_categorical_crossentropy,\n",
    "              optimizer=\"adam\")\n",
    "history = model.fit([X, X_decoder, seq_lengths],y,\n",
    "                    epochs=1)"
   ]
  },
  {
   "cell_type": "markdown",
   "id": "9c786b62",
   "metadata": {
    "papermill": {
     "duration": 0.185662,
     "end_time": "2022-05-19T12:59:47.850018",
     "exception": false,
     "start_time": "2022-05-19T12:59:47.664356",
     "status": "completed"
    },
    "tags": []
   },
   "source": [
    "## 编码器-解码器示例续"
   ]
  },
  {
   "cell_type": "markdown",
   "id": "b9ebfe81",
   "metadata": {
    "papermill": {
     "duration": 0.184326,
     "end_time": "2022-05-19T12:59:48.220254",
     "exception": false,
     "start_time": "2022-05-19T12:59:48.035928",
     "status": "completed"
    },
    "tags": []
   },
   "source": [
    "> 训练可以将日期字符串从一种格式转换为另一种格式的编码器-解码器模型\n",
    ">\n",
    "> 例如:从`April 22, 2019` 转换为 `2019-04-22`."
   ]
  },
  {
   "cell_type": "markdown",
   "id": "66b7ceb5",
   "metadata": {
    "papermill": {
     "duration": 0.187867,
     "end_time": "2022-05-19T12:59:48.591709",
     "exception": false,
     "start_time": "2022-05-19T12:59:48.403842",
     "status": "completed"
    },
    "tags": []
   },
   "source": [
    "### 生成数据 Generate data"
   ]
  },
  {
   "cell_type": "code",
   "execution_count": 10,
   "id": "e18950c3",
   "metadata": {
    "execution": {
     "iopub.execute_input": "2022-05-19T12:59:48.966682Z",
     "iopub.status.busy": "2022-05-19T12:59:48.966407Z",
     "iopub.status.idle": "2022-05-19T12:59:48.977109Z",
     "shell.execute_reply": "2022-05-19T12:59:48.975984Z"
    },
    "papermill": {
     "duration": 0.199754,
     "end_time": "2022-05-19T12:59:48.979347",
     "exception": false,
     "start_time": "2022-05-19T12:59:48.779593",
     "status": "completed"
    },
    "tags": []
   },
   "outputs": [
    {
     "data": {
      "text/plain": [
       "(datetime.date(1, 1, 1), '01, 1', '0001-01-01')"
      ]
     },
     "execution_count": 10,
     "metadata": {},
     "output_type": "execute_result"
    }
   ],
   "source": [
    "from datetime import datetime\n",
    "from datetime import date\n",
    "\n",
    "# date.fromordinal(): 返回对应于预期格列高利历序号的日期\n",
    "dt = date.fromordinal(1)\n",
    "dt, dt.strftime(\"%d, %Y\"), dt.isoformat()"
   ]
  },
  {
   "cell_type": "code",
   "execution_count": 11,
   "id": "b44bdb5d",
   "metadata": {
    "execution": {
     "iopub.execute_input": "2022-05-19T12:59:49.353411Z",
     "iopub.status.busy": "2022-05-19T12:59:49.352426Z",
     "iopub.status.idle": "2022-05-19T12:59:49.360088Z",
     "shell.execute_reply": "2022-05-19T12:59:49.359021Z"
    },
    "papermill": {
     "duration": 0.196781,
     "end_time": "2022-05-19T12:59:49.362500",
     "exception": false,
     "start_time": "2022-05-19T12:59:49.165719",
     "status": "completed"
    },
    "tags": []
   },
   "outputs": [
    {
     "data": {
      "text/plain": [
       "(datetime.datetime(2022, 5, 19, 12, 59, 49, 354767), 738294)"
      ]
     },
     "execution_count": 11,
     "metadata": {},
     "output_type": "execute_result"
    }
   ],
   "source": [
    "# date.toordinal(): 返回对应于公历格里高利序数的日期,其中第1年1月1日有序数1.\n",
    "dt = datetime.now() # 获取当前日期时间\n",
    "ordinal_dt = date.toordinal(dt)\n",
    "dt, ordinal_dt"
   ]
  },
  {
   "cell_type": "markdown",
   "id": "5b64be30",
   "metadata": {
    "papermill": {
     "duration": 0.184675,
     "end_time": "2022-05-19T12:59:49.734664",
     "exception": false,
     "start_time": "2022-05-19T12:59:49.549989",
     "status": "completed"
    },
    "tags": []
   },
   "source": [
    "1. 随机生成日期, 并以输入格式和目标格式显示."
   ]
  },
  {
   "cell_type": "code",
   "execution_count": 12,
   "id": "262fba43",
   "metadata": {
    "execution": {
     "iopub.execute_input": "2022-05-19T12:59:50.109884Z",
     "iopub.status.busy": "2022-05-19T12:59:50.109579Z",
     "iopub.status.idle": "2022-05-19T12:59:50.130085Z",
     "shell.execute_reply": "2022-05-19T12:59:50.129086Z"
    },
    "papermill": {
     "duration": 0.210675,
     "end_time": "2022-05-19T12:59:50.132328",
     "exception": false,
     "start_time": "2022-05-19T12:59:49.921653",
     "status": "completed"
    },
    "tags": []
   },
   "outputs": [],
   "source": [
    "initialization(42)"
   ]
  },
  {
   "cell_type": "code",
   "execution_count": 13,
   "id": "6f76ead1",
   "metadata": {
    "execution": {
     "iopub.execute_input": "2022-05-19T12:59:50.506437Z",
     "iopub.status.busy": "2022-05-19T12:59:50.505576Z",
     "iopub.status.idle": "2022-05-19T12:59:50.513912Z",
     "shell.execute_reply": "2022-05-19T12:59:50.512876Z"
    },
    "papermill": {
     "duration": 0.197809,
     "end_time": "2022-05-19T12:59:50.516260",
     "exception": false,
     "start_time": "2022-05-19T12:59:50.318451",
     "status": "completed"
    },
    "tags": []
   },
   "outputs": [],
   "source": [
    "MONTHS = [\"January\", \"February\", \"March\", \"April\", \"May\", \"June\", \n",
    "          \"July\", \"August\", \"September\", \"October\", \"November\", \"December\"]\n",
    "\n",
    "def random_dates(n_dates):\n",
    "    min_date = date(1000,1,1).toordinal()\n",
    "    max_date = date(9999,12,31).toordinal()\n",
    "    \n",
    "    ordinals = np.random.randint(low=min_date, high=max_date+1, size=n_dates)\n",
    "    dates = [date.fromordinal(ordinal) for ordinal in ordinals]\n",
    "    \n",
    "    X = [MONTHS[date.month-1]+\" \"+date.strftime(\"%d, %Y\") for date in dates]\n",
    "    y = [date.isoformat() for date in dates]\n",
    "    \n",
    "    return X, y"
   ]
  },
  {
   "cell_type": "code",
   "execution_count": 14,
   "id": "5adaaa08",
   "metadata": {
    "execution": {
     "iopub.execute_input": "2022-05-19T12:59:50.890104Z",
     "iopub.status.busy": "2022-05-19T12:59:50.889484Z",
     "iopub.status.idle": "2022-05-19T12:59:50.896253Z",
     "shell.execute_reply": "2022-05-19T12:59:50.895189Z"
    },
    "papermill": {
     "duration": 0.194731,
     "end_time": "2022-05-19T12:59:50.898562",
     "exception": false,
     "start_time": "2022-05-19T12:59:50.703831",
     "status": "completed"
    },
    "tags": []
   },
   "outputs": [
    {
     "data": {
      "text/plain": [
       "(['September 20, 7075'], ['7075-09-20'])"
      ]
     },
     "execution_count": 14,
     "metadata": {},
     "output_type": "execute_result"
    }
   ],
   "source": [
    "random_dates(1)"
   ]
  },
  {
   "cell_type": "code",
   "execution_count": 15,
   "id": "66fd49b5",
   "metadata": {
    "execution": {
     "iopub.execute_input": "2022-05-19T12:59:51.289513Z",
     "iopub.status.busy": "2022-05-19T12:59:51.289160Z",
     "iopub.status.idle": "2022-05-19T12:59:51.297680Z",
     "shell.execute_reply": "2022-05-19T12:59:51.296592Z"
    },
    "papermill": {
     "duration": 0.214324,
     "end_time": "2022-05-19T12:59:51.300087",
     "exception": false,
     "start_time": "2022-05-19T12:59:51.085763",
     "status": "completed"
    },
    "tags": []
   },
   "outputs": [
    {
     "name": "stdout",
     "output_type": "stream",
     "text": [
      "输入                       目标                       \n",
      "----------------------------------------\n",
      "May 15, 8579             8579-05-15               \n",
      "January 11, 7103         7103-01-11               \n",
      "June 01, 7451            7451-06-01               \n",
      "July 29, 5634            5634-07-29               \n",
      "November 27, 1301        1301-11-27               \n"
     ]
    }
   ],
   "source": [
    "n_dates = 5\n",
    "X_example, y_example = random_dates(n_dates)\n",
    "\n",
    "print(\"{:25s}{:25s}\".format(\"输入\", \"目标\"))\n",
    "print(\"-\" * 40)\n",
    "for i in range(n_dates):\n",
    "    print(\"{:25s}{:25s}\".format(X_example[i], y_example[i]))"
   ]
  },
  {
   "cell_type": "markdown",
   "id": "cd6160fd",
   "metadata": {
    "papermill": {
     "duration": 0.189442,
     "end_time": "2022-05-19T12:59:51.675369",
     "exception": false,
     "start_time": "2022-05-19T12:59:51.485927",
     "status": "completed"
    },
    "tags": []
   },
   "source": [
    "2. 确定输入,目标的词汇(字符)表"
   ]
  },
  {
   "cell_type": "code",
   "execution_count": 16,
   "id": "062f8e91",
   "metadata": {
    "execution": {
     "iopub.execute_input": "2022-05-19T12:59:52.047718Z",
     "iopub.status.busy": "2022-05-19T12:59:52.047394Z",
     "iopub.status.idle": "2022-05-19T12:59:52.054478Z",
     "shell.execute_reply": "2022-05-19T12:59:52.053522Z"
    },
    "papermill": {
     "duration": 0.195222,
     "end_time": "2022-05-19T12:59:52.056985",
     "exception": false,
     "start_time": "2022-05-19T12:59:51.861763",
     "status": "completed"
    },
    "tags": []
   },
   "outputs": [
    {
     "data": {
      "text/plain": [
       "' ,0123456789ADFJMNOSabceghilmnoprstuvy'"
      ]
     },
     "execution_count": 16,
     "metadata": {},
     "output_type": "execute_result"
    }
   ],
   "source": [
    "# 输入字符表\n",
    "input_chars = \"\".join(sorted(set(\"\".join(MONTHS) + \"0123456789, \")))\n",
    "input_chars"
   ]
  },
  {
   "cell_type": "code",
   "execution_count": 17,
   "id": "6d4319bd",
   "metadata": {
    "execution": {
     "iopub.execute_input": "2022-05-19T12:59:52.433235Z",
     "iopub.status.busy": "2022-05-19T12:59:52.432711Z",
     "iopub.status.idle": "2022-05-19T12:59:52.438788Z",
     "shell.execute_reply": "2022-05-19T12:59:52.437795Z"
    },
    "papermill": {
     "duration": 0.196504,
     "end_time": "2022-05-19T12:59:52.441100",
     "exception": false,
     "start_time": "2022-05-19T12:59:52.244596",
     "status": "completed"
    },
    "tags": []
   },
   "outputs": [
    {
     "data": {
      "text/plain": [
       "'0123456789-'"
      ]
     },
     "execution_count": 17,
     "metadata": {},
     "output_type": "execute_result"
    }
   ],
   "source": [
    "# 目标字符表\n",
    "output_chars = \"0123456789-\"\n",
    "output_chars"
   ]
  },
  {
   "cell_type": "markdown",
   "id": "947272c1",
   "metadata": {
    "papermill": {
     "duration": 0.191393,
     "end_time": "2022-05-19T12:59:52.821385",
     "exception": false,
     "start_time": "2022-05-19T12:59:52.629992",
     "status": "completed"
    },
    "tags": []
   },
   "source": [
    "3. 编写函数将字符串转化为IDs形式"
   ]
  },
  {
   "cell_type": "code",
   "execution_count": 18,
   "id": "24a6d163",
   "metadata": {
    "execution": {
     "iopub.execute_input": "2022-05-19T12:59:53.199755Z",
     "iopub.status.busy": "2022-05-19T12:59:53.199467Z",
     "iopub.status.idle": "2022-05-19T12:59:53.204451Z",
     "shell.execute_reply": "2022-05-19T12:59:53.203382Z"
    },
    "papermill": {
     "duration": 0.196335,
     "end_time": "2022-05-19T12:59:53.206714",
     "exception": false,
     "start_time": "2022-05-19T12:59:53.010379",
     "status": "completed"
    },
    "tags": []
   },
   "outputs": [],
   "source": [
    "def date_str_to_ids(date_str, chars_list):\n",
    "    return [chars_list.index(c) for c in date_str]"
   ]
  },
  {
   "cell_type": "code",
   "execution_count": 19,
   "id": "129ddb84",
   "metadata": {
    "execution": {
     "iopub.execute_input": "2022-05-19T12:59:53.581264Z",
     "iopub.status.busy": "2022-05-19T12:59:53.581009Z",
     "iopub.status.idle": "2022-05-19T12:59:53.587507Z",
     "shell.execute_reply": "2022-05-19T12:59:53.586538Z"
    },
    "papermill": {
     "duration": 0.194271,
     "end_time": "2022-05-19T12:59:53.589861",
     "exception": false,
     "start_time": "2022-05-19T12:59:53.395590",
     "status": "completed"
    },
    "scrolled": true,
    "tags": []
   },
   "outputs": [
    {
     "data": {
      "text/plain": [
       "[16, 20, 37, 0, 3, 7, 1, 0, 10, 7, 9, 11]"
      ]
     },
     "execution_count": 19,
     "metadata": {},
     "output_type": "execute_result"
    }
   ],
   "source": [
    "date_str_to_ids(X_example[0], chars_list=input_chars)"
   ]
  },
  {
   "cell_type": "code",
   "execution_count": 20,
   "id": "55340df7",
   "metadata": {
    "execution": {
     "iopub.execute_input": "2022-05-19T12:59:53.966478Z",
     "iopub.status.busy": "2022-05-19T12:59:53.965710Z",
     "iopub.status.idle": "2022-05-19T12:59:53.975665Z",
     "shell.execute_reply": "2022-05-19T12:59:53.973148Z"
    },
    "papermill": {
     "duration": 0.203613,
     "end_time": "2022-05-19T12:59:53.982103",
     "exception": false,
     "start_time": "2022-05-19T12:59:53.778490",
     "status": "completed"
    },
    "scrolled": true,
    "tags": []
   },
   "outputs": [
    {
     "data": {
      "text/plain": [
       "[8, 5, 7, 9, 10, 0, 5, 10, 1, 5]"
      ]
     },
     "execution_count": 20,
     "metadata": {},
     "output_type": "execute_result"
    }
   ],
   "source": [
    "date_str_to_ids(y_example[0], chars_list=output_chars)"
   ]
  },
  {
   "cell_type": "markdown",
   "id": "7f961494",
   "metadata": {
    "papermill": {
     "duration": 0.37321,
     "end_time": "2022-05-19T12:59:54.711615",
     "exception": false,
     "start_time": "2022-05-19T12:59:54.338405",
     "status": "completed"
    },
    "tags": []
   },
   "source": [
    "4. 处理可变长度的序列\n",
    "\n",
    "    - `可变长度的输入序列`:\n",
    "        - 可以**通过填充较短的序列**来处理，以便批次中的所有序列具有相同的长度，并**使用掩码来确保 RNN 忽略填充标记**。为了获得更好的性能，您可能还希望创建包含相似大小序列的批次。\n",
    "        - **不规则张量可以保存可变长度的序列**.\n",
    "          `tensorflow`中使用`ragged.constant()`将非矩形列表转为`tensor`类型\n",
    "    \n",
    "    - `可变长度输出序列`:\n",
    "        - 如果预先知道输出序列的长度，那么您只需要配置损失函数，以便它忽略序列末尾之后的标记.同样，将使用模型的代码应该忽略序列末尾之外的标记。\n",
    "        - 但是一般输出序列的长度是事先不知道的，所以解决的办法是**训练模型，使其在每个序列的末尾输出一个序列结束标记。**"
   ]
  },
  {
   "cell_type": "code",
   "execution_count": 21,
   "id": "77645248",
   "metadata": {
    "execution": {
     "iopub.execute_input": "2022-05-19T12:59:55.341229Z",
     "iopub.status.busy": "2022-05-19T12:59:55.340820Z",
     "iopub.status.idle": "2022-05-19T12:59:55.366288Z",
     "shell.execute_reply": "2022-05-19T12:59:55.365457Z"
    },
    "papermill": {
     "duration": 0.337326,
     "end_time": "2022-05-19T12:59:55.369545",
     "exception": false,
     "start_time": "2022-05-19T12:59:55.032219",
     "status": "completed"
    },
    "tags": []
   },
   "outputs": [
    {
     "data": {
      "text/plain": [
       "<tf.Tensor: shape=(4, 16), dtype=int32, numpy=\n",
       "array([[17, 21, 38,  1,  4,  8,  2,  1, 11,  8, 10, 12,  0,  0,  0,  0],\n",
       "       [16, 21, 30, 36, 21, 33, 38,  1,  4,  4,  2,  1, 10,  4,  3,  6],\n",
       "       [16, 36, 30, 24,  1,  3,  4,  2,  1, 10,  7,  8,  4,  0,  0,  0],\n",
       "       [16, 36, 28, 38,  1,  5, 12,  2,  1,  8,  9,  6,  7,  0,  0,  0]],\n",
       "      dtype=int32)>"
      ]
     },
     "execution_count": 21,
     "metadata": {},
     "output_type": "execute_result"
    }
   ],
   "source": [
    "def prepare_date_strs(date_strs, chars=input_chars):\n",
    "    X_ids = [date_str_to_ids(date, chars) for date in date_strs]\n",
    "    X = tf.ragged.constant(X_ids, ragged_rank=1)  # 转化为tensor类型\n",
    "    return (X + 1).to_tensor()  # id从1开始\n",
    "\n",
    "\n",
    "prepare_date_strs(X_example[0:4], input_chars)"
   ]
  },
  {
   "cell_type": "code",
   "execution_count": 22,
   "id": "66641a97",
   "metadata": {
    "execution": {
     "iopub.execute_input": "2022-05-19T12:59:55.851016Z",
     "iopub.status.busy": "2022-05-19T12:59:55.850719Z",
     "iopub.status.idle": "2022-05-19T12:59:55.855834Z",
     "shell.execute_reply": "2022-05-19T12:59:55.854801Z"
    },
    "papermill": {
     "duration": 0.195685,
     "end_time": "2022-05-19T12:59:55.858167",
     "exception": false,
     "start_time": "2022-05-19T12:59:55.662482",
     "status": "completed"
    },
    "tags": []
   },
   "outputs": [],
   "source": [
    "def create_dataset(n_dates):\n",
    "    X, y = random_dates(n_dates)\n",
    "    X_pre = prepare_date_strs(X, input_chars)\n",
    "    y_pre = prepare_date_strs(y, output_chars)\n",
    "    return X_pre, y_pre"
   ]
  },
  {
   "cell_type": "code",
   "execution_count": 23,
   "id": "8d1cfb4c",
   "metadata": {
    "execution": {
     "iopub.execute_input": "2022-05-19T12:59:56.241350Z",
     "iopub.status.busy": "2022-05-19T12:59:56.241068Z",
     "iopub.status.idle": "2022-05-19T13:00:02.994746Z",
     "shell.execute_reply": "2022-05-19T13:00:02.993721Z"
    },
    "papermill": {
     "duration": 6.953038,
     "end_time": "2022-05-19T13:00:02.997092",
     "exception": false,
     "start_time": "2022-05-19T12:59:56.044054",
     "status": "completed"
    },
    "tags": []
   },
   "outputs": [
    {
     "data": {
      "text/plain": [
       "(<tf.Tensor: shape=(18,), dtype=int32, numpy=\n",
       " array([17, 21, 38,  1,  4,  8,  2,  1, 11,  8, 10, 12,  0,  0,  0,  0,  0,\n",
       "         0], dtype=int32)>,\n",
       " <tf.Tensor: shape=(10,), dtype=int32, numpy=array([ 8,  1,  8,  6, 11,  1, 10, 11,  3,  1], dtype=int32)>)"
      ]
     },
     "execution_count": 23,
     "metadata": {},
     "output_type": "execute_result"
    }
   ],
   "source": [
    "initialization(42)\n",
    "\n",
    "X_train, y_train = create_dataset(10000)\n",
    "X_val, y_val = create_dataset(2000)\n",
    "X_test, y_test = create_dataset(2000)\n",
    "\n",
    "X_train[1], y_train[0]"
   ]
  },
  {
   "cell_type": "code",
   "execution_count": 24,
   "id": "aa80a0f1",
   "metadata": {
    "execution": {
     "iopub.execute_input": "2022-05-19T13:00:03.384763Z",
     "iopub.status.busy": "2022-05-19T13:00:03.384407Z",
     "iopub.status.idle": "2022-05-19T13:00:03.391030Z",
     "shell.execute_reply": "2022-05-19T13:00:03.390015Z"
    },
    "papermill": {
     "duration": 0.203445,
     "end_time": "2022-05-19T13:00:03.393753",
     "exception": false,
     "start_time": "2022-05-19T13:00:03.190308",
     "status": "completed"
    },
    "tags": []
   },
   "outputs": [
    {
     "data": {
      "text/plain": [
       "TensorShape([10000, 18])"
      ]
     },
     "execution_count": 24,
     "metadata": {},
     "output_type": "execute_result"
    }
   ],
   "source": [
    "X_train.shape"
   ]
  },
  {
   "cell_type": "markdown",
   "id": "69ecfb56",
   "metadata": {
    "papermill": {
     "duration": 0.191932,
     "end_time": "2022-05-19T13:00:03.775416",
     "exception": false,
     "start_time": "2022-05-19T13:00:03.583484",
     "status": "completed"
    },
    "tags": []
   },
   "source": [
    "### V1: 基础的seq2seq模型 First version: a very basic seq2seq model"
   ]
  },
  {
   "cell_type": "markdown",
   "id": "1f38d31c",
   "metadata": {
    "papermill": {
     "duration": 0.190031,
     "end_time": "2022-05-19T13:00:04.157117",
     "exception": false,
     "start_time": "2022-05-19T13:00:03.967086",
     "status": "completed"
    },
    "tags": []
   },
   "source": [
    "1. 让我们首先尝试最简单的模型：我们输入输入序列，它首先通过`编码器`（一个嵌入层，然后是单个 `LSTM` 层），输出一个向量，然后通过`解码器`（单个 `LSTM` 层，后面是一个密集的输出层），它输出一个向量序列，每个向量代表所有可能的输出字符的估计概率。\n",
    "\n",
    "    由于`解码器`期望一个序列作为输入，我们将向量（由`编码器`输出）重复尽可能多的最长输出序列。"
   ]
  },
  {
   "cell_type": "code",
   "execution_count": 25,
   "id": "7ddaaa7a",
   "metadata": {
    "execution": {
     "iopub.execute_input": "2022-05-19T13:00:04.536275Z",
     "iopub.status.busy": "2022-05-19T13:00:04.535933Z",
     "iopub.status.idle": "2022-05-19T13:00:04.543602Z",
     "shell.execute_reply": "2022-05-19T13:00:04.542636Z"
    },
    "papermill": {
     "duration": 0.200686,
     "end_time": "2022-05-19T13:00:04.545794",
     "exception": false,
     "start_time": "2022-05-19T13:00:04.345108",
     "status": "completed"
    },
    "tags": []
   },
   "outputs": [],
   "source": [
    "initialization(seed=42)"
   ]
  },
  {
   "cell_type": "code",
   "execution_count": 26,
   "id": "73ed163b",
   "metadata": {
    "execution": {
     "iopub.execute_input": "2022-05-19T13:00:04.930320Z",
     "iopub.status.busy": "2022-05-19T13:00:04.929286Z",
     "iopub.status.idle": "2022-05-19T13:00:06.018905Z",
     "shell.execute_reply": "2022-05-19T13:00:06.017846Z"
    },
    "papermill": {
     "duration": 1.28331,
     "end_time": "2022-05-19T13:00:06.021627",
     "exception": false,
     "start_time": "2022-05-19T13:00:04.738317",
     "status": "completed"
    },
    "tags": []
   },
   "outputs": [],
   "source": [
    "embedding_size = 32\n",
    "max_output_length = y_train.shape[1]\n",
    "\n",
    "encoder = keras.models.Sequential([\n",
    "    keras.layers.Embedding(\n",
    "        input_dim=len(input_chars) + 1,  # id从1开始\n",
    "        output_dim=embedding_size,\n",
    "        input_shape=[None]),\n",
    "    keras.layers.LSTM(128)\n",
    "])\n",
    "\n",
    "decoder = keras.models.Sequential([\n",
    "    keras.layers.LSTM(128, return_sequences=True),\n",
    "    keras.layers.Dense(len(output_chars) + 1, activation=\"softmax\")\n",
    "])\n",
    "\n",
    "model = keras.models.Sequential([\n",
    "    encoder, \n",
    "    keras.layers.RepeatVector(n=max_output_length),  # RepeatVector: 将输入重复n次\n",
    "     decoder\n",
    "])"
   ]
  },
  {
   "cell_type": "code",
   "execution_count": 27,
   "id": "dce9ba23",
   "metadata": {
    "execution": {
     "iopub.execute_input": "2022-05-19T13:00:06.406261Z",
     "iopub.status.busy": "2022-05-19T13:00:06.405886Z",
     "iopub.status.idle": "2022-05-19T13:00:06.415632Z",
     "shell.execute_reply": "2022-05-19T13:00:06.414216Z"
    },
    "papermill": {
     "duration": 0.204045,
     "end_time": "2022-05-19T13:00:06.417970",
     "exception": false,
     "start_time": "2022-05-19T13:00:06.213925",
     "status": "completed"
    },
    "tags": []
   },
   "outputs": [
    {
     "name": "stdout",
     "output_type": "stream",
     "text": [
      "Model: \"sequential_2\"\n",
      "_________________________________________________________________\n",
      "Layer (type)                 Output Shape              Param #   \n",
      "=================================================================\n",
      "sequential (Sequential)      (None, 128)               83680     \n",
      "_________________________________________________________________\n",
      "repeat_vector (RepeatVector) (None, 10, 128)           0         \n",
      "_________________________________________________________________\n",
      "sequential_1 (Sequential)    (None, 10, 12)            133132    \n",
      "=================================================================\n",
      "Total params: 216,812\n",
      "Trainable params: 216,812\n",
      "Non-trainable params: 0\n",
      "_________________________________________________________________\n"
     ]
    }
   ],
   "source": [
    "model.summary()"
   ]
  },
  {
   "cell_type": "code",
   "execution_count": 28,
   "id": "b21a1c96",
   "metadata": {
    "execution": {
     "iopub.execute_input": "2022-05-19T13:00:06.802044Z",
     "iopub.status.busy": "2022-05-19T13:00:06.801705Z",
     "iopub.status.idle": "2022-05-19T13:01:21.735605Z",
     "shell.execute_reply": "2022-05-19T13:01:21.734666Z"
    },
    "papermill": {
     "duration": 75.129769,
     "end_time": "2022-05-19T13:01:21.737865",
     "exception": false,
     "start_time": "2022-05-19T13:00:06.608096",
     "status": "completed"
    },
    "scrolled": true,
    "tags": []
   },
   "outputs": [
    {
     "name": "stdout",
     "output_type": "stream",
     "text": [
      "Epoch 1/20\n",
      "313/313 [==============================] - 8s 13ms/step - loss: 1.8254 - accuracy: 0.3458 - val_loss: 1.3844 - val_accuracy: 0.4841\n",
      "Epoch 2/20\n",
      "313/313 [==============================] - 3s 11ms/step - loss: 1.2742 - accuracy: 0.5410 - val_loss: 1.1432 - val_accuracy: 0.5777\n",
      "Epoch 3/20\n",
      "313/313 [==============================] - 4s 11ms/step - loss: 0.9748 - accuracy: 0.6484 - val_loss: 0.8784 - val_accuracy: 0.6762\n",
      "Epoch 4/20\n",
      "313/313 [==============================] - 3s 11ms/step - loss: 0.9735 - accuracy: 0.6607 - val_loss: 1.0531 - val_accuracy: 0.6373\n",
      "Epoch 5/20\n",
      "313/313 [==============================] - 4s 12ms/step - loss: 0.7215 - accuracy: 0.7343 - val_loss: 0.5903 - val_accuracy: 0.7732\n",
      "Epoch 6/20\n",
      "313/313 [==============================] - 4s 12ms/step - loss: 0.5217 - accuracy: 0.8010 - val_loss: 1.4945 - val_accuracy: 0.4933\n",
      "Epoch 7/20\n",
      "313/313 [==============================] - 3s 11ms/step - loss: 0.3866 - accuracy: 0.8482 - val_loss: 0.3131 - val_accuracy: 0.8770\n",
      "Epoch 8/20\n",
      "313/313 [==============================] - 4s 11ms/step - loss: 0.2649 - accuracy: 0.9021 - val_loss: 0.2219 - val_accuracy: 0.9193\n",
      "Epoch 9/20\n",
      "313/313 [==============================] - 4s 11ms/step - loss: 0.1731 - accuracy: 0.9485 - val_loss: 0.1243 - val_accuracy: 0.9686\n",
      "Epoch 10/20\n",
      "313/313 [==============================] - 3s 10ms/step - loss: 0.0877 - accuracy: 0.9819 - val_loss: 0.0643 - val_accuracy: 0.9886\n",
      "Epoch 11/20\n",
      "313/313 [==============================] - 3s 10ms/step - loss: 0.2357 - accuracy: 0.9473 - val_loss: 0.0674 - val_accuracy: 0.9900\n",
      "Epoch 12/20\n",
      "313/313 [==============================] - 4s 12ms/step - loss: 0.0434 - accuracy: 0.9948 - val_loss: 0.0328 - val_accuracy: 0.9968\n",
      "Epoch 13/20\n",
      "313/313 [==============================] - 3s 11ms/step - loss: 0.0238 - accuracy: 0.9981 - val_loss: 0.0206 - val_accuracy: 0.9987\n",
      "Epoch 14/20\n",
      "313/313 [==============================] - 3s 11ms/step - loss: 0.0150 - accuracy: 0.9993 - val_loss: 0.0136 - val_accuracy: 0.9995\n",
      "Epoch 15/20\n",
      "313/313 [==============================] - 5s 15ms/step - loss: 0.0101 - accuracy: 0.9997 - val_loss: 0.0096 - val_accuracy: 0.9997\n",
      "Epoch 16/20\n",
      "313/313 [==============================] - 3s 11ms/step - loss: 0.0070 - accuracy: 0.9999 - val_loss: 0.0073 - val_accuracy: 0.9998\n",
      "Epoch 17/20\n",
      "313/313 [==============================] - 4s 12ms/step - loss: 0.0051 - accuracy: 1.0000 - val_loss: 0.0052 - val_accuracy: 0.9999\n",
      "Epoch 18/20\n",
      "313/313 [==============================] - 4s 11ms/step - loss: 0.0037 - accuracy: 1.0000 - val_loss: 0.0040 - val_accuracy: 0.9999\n",
      "Epoch 19/20\n",
      "313/313 [==============================] - 3s 10ms/step - loss: 0.0028 - accuracy: 1.0000 - val_loss: 0.0030 - val_accuracy: 1.0000\n",
      "Epoch 20/20\n",
      "313/313 [==============================] - 3s 11ms/step - loss: 0.0022 - accuracy: 1.0000 - val_loss: 0.0024 - val_accuracy: 1.0000\n"
     ]
    }
   ],
   "source": [
    "optimizer = keras.optimizers.Nadam()\n",
    "model.compile(loss=\"sparse_categorical_crossentropy\",\n",
    "              optimizer=optimizer,\n",
    "              metrics=[\"accuracy\"])\n",
    "history = model.fit(X_train,\n",
    "                    y_train,\n",
    "                    epochs=20,\n",
    "                    validation_data=(X_val, y_val))"
   ]
  },
  {
   "cell_type": "markdown",
   "id": "0d0eaa51",
   "metadata": {
    "papermill": {
     "duration": 0.687976,
     "end_time": "2022-05-19T13:01:23.109806",
     "exception": false,
     "start_time": "2022-05-19T13:01:22.421830",
     "status": "completed"
    },
    "tags": []
   },
   "source": [
    "2. 编写函数将IDs转化为字符串形式"
   ]
  },
  {
   "cell_type": "code",
   "execution_count": 29,
   "id": "b06037ab",
   "metadata": {
    "execution": {
     "iopub.execute_input": "2022-05-19T13:01:24.486874Z",
     "iopub.status.busy": "2022-05-19T13:01:24.486589Z",
     "iopub.status.idle": "2022-05-19T13:01:24.492930Z",
     "shell.execute_reply": "2022-05-19T13:01:24.491883Z"
    },
    "papermill": {
     "duration": 0.696069,
     "end_time": "2022-05-19T13:01:24.495343",
     "exception": false,
     "start_time": "2022-05-19T13:01:23.799274",
     "status": "completed"
    },
    "scrolled": true,
    "tags": []
   },
   "outputs": [
    {
     "data": {
      "text/plain": [
       "'  ,0123456789ADFJMNOSabceghilmnoprstuvy'"
      ]
     },
     "execution_count": 29,
     "metadata": {},
     "output_type": "execute_result"
    }
   ],
   "source": [
    "\" \"+input_chars"
   ]
  },
  {
   "cell_type": "code",
   "execution_count": 30,
   "id": "c497693d",
   "metadata": {
    "code_folding": [
     0
    ],
    "execution": {
     "iopub.execute_input": "2022-05-19T13:01:26.179631Z",
     "iopub.status.busy": "2022-05-19T13:01:26.178793Z",
     "iopub.status.idle": "2022-05-19T13:01:26.184452Z",
     "shell.execute_reply": "2022-05-19T13:01:26.183448Z"
    },
    "papermill": {
     "duration": 1.003489,
     "end_time": "2022-05-19T13:01:26.186746",
     "exception": false,
     "start_time": "2022-05-19T13:01:25.183257",
     "status": "completed"
    },
    "tags": []
   },
   "outputs": [],
   "source": [
    "def ids_to_date_strs(ids, chars_list):\n",
    "    return [\n",
    "        \"\".join([(\" \" + chars_list)[index] for index in sequence])\n",
    "        for sequence in ids\n",
    "    ]"
   ]
  },
  {
   "cell_type": "code",
   "execution_count": 31,
   "id": "727fa27f",
   "metadata": {
    "execution": {
     "iopub.execute_input": "2022-05-19T13:01:27.602308Z",
     "iopub.status.busy": "2022-05-19T13:01:27.601929Z",
     "iopub.status.idle": "2022-05-19T13:01:27.635675Z",
     "shell.execute_reply": "2022-05-19T13:01:27.634712Z"
    },
    "papermill": {
     "duration": 0.718609,
     "end_time": "2022-05-19T13:01:27.637883",
     "exception": false,
     "start_time": "2022-05-19T13:01:26.919274",
     "status": "completed"
    },
    "tags": []
   },
   "outputs": [
    {
     "data": {
      "text/plain": [
       "['September 20, 7075',\n",
       " 'May 15, 8579      ',\n",
       " 'January 11, 7103  ',\n",
       " 'June 01, 7451     ',\n",
       " 'July 29, 5634     ']"
      ]
     },
     "execution_count": 31,
     "metadata": {},
     "output_type": "execute_result"
    }
   ],
   "source": [
    "# 由于ragged.constant() 动态的使用0填充 将非矩形列表转为tensor类型\n",
    "# [0] -> \" \"\n",
    "ids_to_date_strs(X_train[:5], input_chars)"
   ]
  },
  {
   "cell_type": "markdown",
   "id": "244a768d",
   "metadata": {
    "papermill": {
     "duration": 0.68262,
     "end_time": "2022-05-19T13:01:29.002879",
     "exception": false,
     "start_time": "2022-05-19T13:01:28.320259",
     "status": "completed"
    },
    "tags": []
   },
   "source": [
    "3. 测试模型"
   ]
  },
  {
   "cell_type": "code",
   "execution_count": 32,
   "id": "7faa441e",
   "metadata": {
    "execution": {
     "iopub.execute_input": "2022-05-19T13:01:30.386939Z",
     "iopub.status.busy": "2022-05-19T13:01:30.386625Z",
     "iopub.status.idle": "2022-05-19T13:01:31.179724Z",
     "shell.execute_reply": "2022-05-19T13:01:31.178227Z"
    },
    "papermill": {
     "duration": 1.491018,
     "end_time": "2022-05-19T13:01:31.182294",
     "exception": false,
     "start_time": "2022-05-19T13:01:29.691276",
     "status": "completed"
    },
    "tags": []
   },
   "outputs": [
    {
     "name": "stdout",
     "output_type": "stream",
     "text": [
      "2009-09-17\n",
      "1789-07-14\n"
     ]
    }
   ],
   "source": [
    "X_new = prepare_date_strs([\"September 17, 2009\", \"July 14, 1789\"])\n",
    "\n",
    "# OR ids = model.predict_classes(X_new)       12<==since len(\"1789-07-14\")\n",
    "# model.predict(X_new).shape : (2, 10, 12) <==10<==since len(\"0123456789-\")\n",
    "ids = np.argmax(model.predict(X_new), axis=-1)\n",
    "for date_str in ids_to_date_strs(ids, output_chars):\n",
    "    print(date_str)"
   ]
  },
  {
   "cell_type": "markdown",
   "id": "4c5e355a",
   "metadata": {
    "papermill": {
     "duration": 0.687601,
     "end_time": "2022-05-19T13:01:32.578984",
     "exception": false,
     "start_time": "2022-05-19T13:01:31.891383",
     "status": "completed"
    },
    "tags": []
   },
   "source": [
    "但是，由于该模型仅针对长度为 18 的输入字符串（即最长日期的长度）进行了训练，因此如果我们尝试使用它来对较短的序列进行预测，则它的性能并不好："
   ]
  },
  {
   "cell_type": "code",
   "execution_count": 33,
   "id": "ee75dd04",
   "metadata": {
    "execution": {
     "iopub.execute_input": "2022-05-19T13:01:34.632712Z",
     "iopub.status.busy": "2022-05-19T13:01:34.632429Z",
     "iopub.status.idle": "2022-05-19T13:01:35.387935Z",
     "shell.execute_reply": "2022-05-19T13:01:35.386855Z"
    },
    "papermill": {
     "duration": 1.639301,
     "end_time": "2022-05-19T13:01:35.390722",
     "exception": false,
     "start_time": "2022-05-19T13:01:33.751421",
     "status": "completed"
    },
    "tags": []
   },
   "outputs": [
    {
     "name": "stdout",
     "output_type": "stream",
     "text": [
      "2022-09-19\n",
      "1789-01-14\n"
     ]
    }
   ],
   "source": [
    "X_new = prepare_date_strs([\"May 19, 2022\", \"July 14, 1789\"])\n",
    "#ids = model.predict_classes(X_new)\n",
    "ids = np.argmax(model.predict(X_new), axis=-1)\n",
    "for date_str in ids_to_date_strs(ids, output_chars):\n",
    "    print(date_str)"
   ]
  },
  {
   "cell_type": "markdown",
   "id": "cc4f5e78",
   "metadata": {
    "papermill": {
     "duration": 0.993593,
     "end_time": "2022-05-19T13:01:37.095920",
     "exception": false,
     "start_time": "2022-05-19T13:01:36.102327",
     "status": "completed"
    },
    "tags": []
   },
   "source": [
    "4. 预处理输入序列 \n",
    "    \n",
    "    我们需要确保始终传递与训练期间相同长度的序列，必要时使用填充.强制进行0填充至`length==18(max)`\n",
    "    ```python\n",
    "# tf.pad()：填充函数\n",
    "# mode :  \"CONSTANT\"(填充0), \"REFLECT\",  \"SYMMETRIC\" \n",
    "tf.pad(\n",
    "    tensor, paddings, mode='CONSTANT', constant_values=0, name=None\n",
    ")\n"
   ]
  },
  {
   "cell_type": "code",
   "execution_count": 34,
   "id": "c56eea1c",
   "metadata": {
    "execution": {
     "iopub.execute_input": "2022-05-19T13:01:38.465473Z",
     "iopub.status.busy": "2022-05-19T13:01:38.465179Z",
     "iopub.status.idle": "2022-05-19T13:01:38.476877Z",
     "shell.execute_reply": "2022-05-19T13:01:38.475780Z"
    },
    "papermill": {
     "duration": 0.697255,
     "end_time": "2022-05-19T13:01:38.479590",
     "exception": false,
     "start_time": "2022-05-19T13:01:37.782335",
     "status": "completed"
    },
    "scrolled": true,
    "tags": []
   },
   "outputs": [
    {
     "data": {
      "text/plain": [
       "<tf.Tensor: shape=(4, 8), dtype=int32, numpy=\n",
       "array([[0, 0, 0, 0, 0, 0, 0, 0],\n",
       "       [0, 0, 2, 3, 4, 0, 0, 0],\n",
       "       [0, 0, 5, 6, 7, 0, 0, 0],\n",
       "       [0, 0, 0, 0, 0, 0, 0, 0]], dtype=int32)>"
      ]
     },
     "execution_count": 34,
     "metadata": {},
     "output_type": "execute_result"
    }
   ],
   "source": [
    "t = [[2, 3, 4], [5, 6, 7]]\n",
    "tf.pad(t, [[1, 1], [2, 3]])"
   ]
  },
  {
   "cell_type": "markdown",
   "id": "462ce292",
   "metadata": {
    "papermill": {
     "duration": 0.681487,
     "end_time": "2022-05-19T13:01:39.851091",
     "exception": false,
     "start_time": "2022-05-19T13:01:39.169604",
     "status": "completed"
    },
    "tags": []
   },
   "source": [
    "- `[1，1]`是在`pad`里是第一个，代表第一维即矩阵的行，左边的1代表上方放一行0，右边的1代表下方放一行0\n",
    "\n",
    "- 同理，`[2,2]`顺序是第二个，代表对列操作，左边的2代表在左边放两列0，右边2代表在右边放两列0"
   ]
  },
  {
   "cell_type": "code",
   "execution_count": 35,
   "id": "4aaf6ef2",
   "metadata": {
    "execution": {
     "iopub.execute_input": "2022-05-19T13:01:41.225789Z",
     "iopub.status.busy": "2022-05-19T13:01:41.225506Z",
     "iopub.status.idle": "2022-05-19T13:01:41.232000Z",
     "shell.execute_reply": "2022-05-19T13:01:41.231007Z"
    },
    "papermill": {
     "duration": 0.700084,
     "end_time": "2022-05-19T13:01:41.234245",
     "exception": false,
     "start_time": "2022-05-19T13:01:40.534161",
     "status": "completed"
    },
    "tags": []
   },
   "outputs": [],
   "source": [
    "max_input_length = X_train.shape[1]  # 18\n",
    "\n",
    "# 预处理序列 -> 强制进行0填充至length==18(max)\n",
    "def prepare_date_strs_padded(date_strs):\n",
    "    X = prepare_date_strs(date_strs, input_chars)\n",
    "\n",
    "    if X.shape[1] < max_input_length:\n",
    "        X = tf.pad(X, [\n",
    "            [0,0],\n",
    "            [0, max_input_length-X.shape[1]]  \n",
    "        ])\n",
    "    return X"
   ]
  },
  {
   "cell_type": "code",
   "execution_count": 36,
   "id": "525026c2",
   "metadata": {
    "execution": {
     "iopub.execute_input": "2022-05-19T13:01:42.609702Z",
     "iopub.status.busy": "2022-05-19T13:01:42.609344Z",
     "iopub.status.idle": "2022-05-19T13:01:42.616144Z",
     "shell.execute_reply": "2022-05-19T13:01:42.615134Z"
    },
    "papermill": {
     "duration": 0.697055,
     "end_time": "2022-05-19T13:01:42.619206",
     "exception": false,
     "start_time": "2022-05-19T13:01:41.922151",
     "status": "completed"
    },
    "tags": []
   },
   "outputs": [
    {
     "data": {
      "text/plain": [
       "['May 15, 8579', 'January 11, 7103', 'June 01, 7451', 'July 29, 5634']"
      ]
     },
     "execution_count": 36,
     "metadata": {},
     "output_type": "execute_result"
    }
   ],
   "source": [
    "X_example[0:4]"
   ]
  },
  {
   "cell_type": "code",
   "execution_count": 37,
   "id": "581eb99c",
   "metadata": {
    "execution": {
     "iopub.execute_input": "2022-05-19T13:01:43.991888Z",
     "iopub.status.busy": "2022-05-19T13:01:43.991584Z",
     "iopub.status.idle": "2022-05-19T13:01:44.001898Z",
     "shell.execute_reply": "2022-05-19T13:01:44.000879Z"
    },
    "papermill": {
     "duration": 0.699302,
     "end_time": "2022-05-19T13:01:44.004087",
     "exception": false,
     "start_time": "2022-05-19T13:01:43.304785",
     "status": "completed"
    },
    "scrolled": true,
    "tags": []
   },
   "outputs": [
    {
     "data": {
      "text/plain": [
       "<tf.Tensor: shape=(4, 18), dtype=int32, numpy=\n",
       "array([[17, 21, 38,  1,  4,  8,  2,  1, 11,  8, 10, 12,  0,  0,  0,  0,\n",
       "         0,  0],\n",
       "       [16, 21, 30, 36, 21, 33, 38,  1,  4,  4,  2,  1, 10,  4,  3,  6,\n",
       "         0,  0],\n",
       "       [16, 36, 30, 24,  1,  3,  4,  2,  1, 10,  7,  8,  4,  0,  0,  0,\n",
       "         0,  0],\n",
       "       [16, 36, 28, 38,  1,  5, 12,  2,  1,  8,  9,  6,  7,  0,  0,  0,\n",
       "         0,  0]], dtype=int32)>"
      ]
     },
     "execution_count": 37,
     "metadata": {},
     "output_type": "execute_result"
    }
   ],
   "source": [
    "prepare_date_strs_padded(X_example[0:4])"
   ]
  },
  {
   "cell_type": "markdown",
   "id": "3913874d",
   "metadata": {
    "papermill": {
     "duration": 0.693628,
     "end_time": "2022-05-19T13:01:45.391470",
     "exception": false,
     "start_time": "2022-05-19T13:01:44.697842",
     "status": "completed"
    },
    "tags": []
   },
   "source": [
    "5. 再次进行测试模型"
   ]
  },
  {
   "cell_type": "code",
   "execution_count": 38,
   "id": "385dc696",
   "metadata": {
    "execution": {
     "iopub.execute_input": "2022-05-19T13:01:46.805792Z",
     "iopub.status.busy": "2022-05-19T13:01:46.805423Z",
     "iopub.status.idle": "2022-05-19T13:01:46.810798Z",
     "shell.execute_reply": "2022-05-19T13:01:46.809797Z"
    },
    "papermill": {
     "duration": 0.698356,
     "end_time": "2022-05-19T13:01:46.813184",
     "exception": false,
     "start_time": "2022-05-19T13:01:46.114828",
     "status": "completed"
    },
    "tags": []
   },
   "outputs": [],
   "source": [
    "def convert_date_strs(date_strs):\n",
    "    X = prepare_date_strs_padded(date_strs)\n",
    "    ids = np.argmax(model.predict(X), axis=-1)\n",
    "    return ids_to_date_strs(ids, output_chars)"
   ]
  },
  {
   "cell_type": "code",
   "execution_count": 39,
   "id": "dd711875",
   "metadata": {
    "execution": {
     "iopub.execute_input": "2022-05-19T13:01:48.687026Z",
     "iopub.status.busy": "2022-05-19T13:01:48.686618Z",
     "iopub.status.idle": "2022-05-19T13:01:48.750420Z",
     "shell.execute_reply": "2022-05-19T13:01:48.749268Z"
    },
    "papermill": {
     "duration": 0.937926,
     "end_time": "2022-05-19T13:01:48.753078",
     "exception": false,
     "start_time": "2022-05-19T13:01:47.815152",
     "status": "completed"
    },
    "tags": []
   },
   "outputs": [
    {
     "data": {
      "text/plain": [
       "['2022-05-19', '1789-07-14']"
      ]
     },
     "execution_count": 39,
     "metadata": {},
     "output_type": "execute_result"
    }
   ],
   "source": [
    "X_new = [\"May 19, 2022\", \"July 14, 1789\"]\n",
    "convert_date_strs(X_new)"
   ]
  },
  {
   "cell_type": "markdown",
   "id": "424c2e03",
   "metadata": {
    "papermill": {
     "duration": 0.783968,
     "end_time": "2022-05-19T13:01:50.341389",
     "exception": false,
     "start_time": "2022-05-19T13:01:49.557421",
     "status": "completed"
    },
    "tags": []
   },
   "source": [
    "### V2: 将移位的目标馈送到解码器（teacher forcing） Second version: feeding the shifted targets to the decoder (teacher forcing)"
   ]
  },
  {
   "cell_type": "markdown",
   "id": "1cfe19df",
   "metadata": {
    "papermill": {
     "duration": 0.699208,
     "end_time": "2022-05-19T13:01:51.723973",
     "exception": false,
     "start_time": "2022-05-19T13:01:51.024765",
     "status": "completed"
    },
    "tags": []
   },
   "source": [
    "我们可以向解码器提供目标序列，而不是向解码器提供编码器输出向量的简单重复，向右移动一个时间步长。这样，在每个时间步，解码器都会知道前一个目标字符是什么。这应该有助于解决更复杂的序列到序列问题。\n",
    "\n",
    "由于每个目标序列的第一个输出字符没有前一个字符，我们需要一个新的标记来表示序列的开始`sos`.\n",
    "\n",
    "\n",
    "在推理过程中，我们不知道目标，那么我们将向解码器提供什么？我们可以一次只预测一个字符，从一个 `sos` 标记开始，然后将到目前为止预测的所有字符提供给解码器。\n",
    "\n",
    "\n",
    "但是如果解码器的 `LSTM` 期望在每一步都获得前一个目标作为输入，我们应该如何将编码器输出的向量传递给它呢？好吧，一种选择是忽略输出向量，而是使用编码器的 `LSTM 状态`作为解码器的 `LSTM` 的初始状态（这要求编码器的 LSTM 必须具有与解码器的 LSTM 相同的单元数）。\n",
    "\n",
    "\n",
    "现在让我们创建解码器的输入（用于训练、验证和测试）。`sos` 标记将使用最后一个可能的输出字符的 ID + 1 表示。"
   ]
  },
  {
   "cell_type": "markdown",
   "id": "73c44a2c",
   "metadata": {
    "papermill": {
     "duration": 0.688705,
     "end_time": "2022-05-19T13:01:53.099106",
     "exception": false,
     "start_time": "2022-05-19T13:01:52.410401",
     "status": "completed"
    },
    "tags": []
   },
   "source": [
    "1. 将移位的目标馈送到解码器\n",
    "    - 向右移动了一个时间步。这样，在每个时间步，解码器都会知道前一个目标字符是什么。这应该有助于解决更复杂的序列到序列问题。\n",
    "    - 由于每个目标序列的第一个输出字符没有前一个字符，我们需要一个新的标记来表示序列的开始 `<sos>`。"
   ]
  },
  {
   "cell_type": "code",
   "execution_count": 40,
   "id": "f9aaadbd",
   "metadata": {
    "execution": {
     "iopub.execute_input": "2022-05-19T13:01:54.468947Z",
     "iopub.status.busy": "2022-05-19T13:01:54.468607Z",
     "iopub.status.idle": "2022-05-19T13:01:54.474838Z",
     "shell.execute_reply": "2022-05-19T13:01:54.473759Z"
    },
    "papermill": {
     "duration": 0.69248,
     "end_time": "2022-05-19T13:01:54.477140",
     "exception": false,
     "start_time": "2022-05-19T13:01:53.784660",
     "status": "completed"
    },
    "tags": []
   },
   "outputs": [],
   "source": [
    "sos_id = len(output_chars) + 1  # 11+1=12\n",
    "\n",
    "\n",
    "def shift_output_sequences(y):\n",
    "    sos_token = tf.fill(dims=(len(y), 1), value=sos_id)\n",
    "    decoder = tf.concat([sos_token, y[:, :-1]], axis=1)\n",
    "    return decoder"
   ]
  },
  {
   "cell_type": "code",
   "execution_count": 41,
   "id": "ea14f55c",
   "metadata": {
    "execution": {
     "iopub.execute_input": "2022-05-19T13:01:55.854831Z",
     "iopub.status.busy": "2022-05-19T13:01:55.854535Z",
     "iopub.status.idle": "2022-05-19T13:01:55.864619Z",
     "shell.execute_reply": "2022-05-19T13:01:55.863448Z"
    },
    "papermill": {
     "duration": 0.70576,
     "end_time": "2022-05-19T13:01:55.867136",
     "exception": false,
     "start_time": "2022-05-19T13:01:55.161376",
     "status": "completed"
    },
    "tags": []
   },
   "outputs": [],
   "source": [
    "X_train_decoder = shift_output_sequences(y_train)\n",
    "X_val_decoder = shift_output_sequences(y_val)\n",
    "X_test_decoder = shift_output_sequences(y_test)"
   ]
  },
  {
   "cell_type": "code",
   "execution_count": 42,
   "id": "f3727c8a",
   "metadata": {
    "execution": {
     "iopub.execute_input": "2022-05-19T13:01:57.234980Z",
     "iopub.status.busy": "2022-05-19T13:01:57.234681Z",
     "iopub.status.idle": "2022-05-19T13:01:57.243496Z",
     "shell.execute_reply": "2022-05-19T13:01:57.242222Z"
    },
    "papermill": {
     "duration": 0.692799,
     "end_time": "2022-05-19T13:01:57.246147",
     "exception": false,
     "start_time": "2022-05-19T13:01:56.553348",
     "status": "completed"
    },
    "tags": []
   },
   "outputs": [
    {
     "data": {
      "text/plain": [
       "<tf.Tensor: shape=(5, 10), dtype=int32, numpy=\n",
       "array([[ 8,  1,  8,  6, 11,  1, 10, 11,  3,  1],\n",
       "       [ 9,  6,  8, 10, 11,  1,  6, 11,  2,  6],\n",
       "       [ 8,  2,  1,  4, 11,  1,  2, 11,  2,  2],\n",
       "       [ 8,  5,  6,  2, 11,  1,  7, 11,  1,  2],\n",
       "       [ 6,  7,  4,  5, 11,  1,  8, 11,  3, 10]], dtype=int32)>"
      ]
     },
     "execution_count": 42,
     "metadata": {},
     "output_type": "execute_result"
    }
   ],
   "source": [
    "y_train[:5]"
   ]
  },
  {
   "cell_type": "code",
   "execution_count": 43,
   "id": "71b63fdc",
   "metadata": {
    "execution": {
     "iopub.execute_input": "2022-05-19T13:01:58.969462Z",
     "iopub.status.busy": "2022-05-19T13:01:58.969082Z",
     "iopub.status.idle": "2022-05-19T13:01:58.976987Z",
     "shell.execute_reply": "2022-05-19T13:01:58.976008Z"
    },
    "papermill": {
     "duration": 1.042091,
     "end_time": "2022-05-19T13:01:58.979481",
     "exception": false,
     "start_time": "2022-05-19T13:01:57.937390",
     "status": "completed"
    },
    "scrolled": true,
    "tags": []
   },
   "outputs": [
    {
     "data": {
      "text/plain": [
       "<tf.Tensor: shape=(5, 10), dtype=int32, numpy=\n",
       "array([[12,  8,  1,  8,  6, 11,  1, 10, 11,  3],\n",
       "       [12,  9,  6,  8, 10, 11,  1,  6, 11,  2],\n",
       "       [12,  8,  2,  1,  4, 11,  1,  2, 11,  2],\n",
       "       [12,  8,  5,  6,  2, 11,  1,  7, 11,  1],\n",
       "       [12,  6,  7,  4,  5, 11,  1,  8, 11,  3]], dtype=int32)>"
      ]
     },
     "execution_count": 43,
     "metadata": {},
     "output_type": "execute_result"
    }
   ],
   "source": [
    "X_train_decoder[:5]"
   ]
  },
  {
   "cell_type": "markdown",
   "id": "22e6e316",
   "metadata": {
    "papermill": {
     "duration": 0.695392,
     "end_time": "2022-05-19T13:02:00.370046",
     "exception": false,
     "start_time": "2022-05-19T13:01:59.674654",
     "status": "completed"
    },
    "tags": []
   },
   "source": [
    "2. 构建,训练模型"
   ]
  },
  {
   "cell_type": "code",
   "execution_count": 44,
   "id": "e09e1db7",
   "metadata": {
    "execution": {
     "iopub.execute_input": "2022-05-19T13:02:01.815394Z",
     "iopub.status.busy": "2022-05-19T13:02:01.815093Z",
     "iopub.status.idle": "2022-05-19T13:02:01.850159Z",
     "shell.execute_reply": "2022-05-19T13:02:01.849182Z"
    },
    "papermill": {
     "duration": 0.788123,
     "end_time": "2022-05-19T13:02:01.852664",
     "exception": false,
     "start_time": "2022-05-19T13:02:01.064541",
     "status": "completed"
    },
    "tags": []
   },
   "outputs": [],
   "source": [
    "initialization(42)\n",
    "\n",
    "encoder_inputs_dim = len(input_chars) + 1  # +1: id从1开始,   # 39\n",
    "decoder_inputs_dim = len(output_chars) + 2  # +2: ~, <sos>  # 13\n",
    "decoder_outputs_dim = len(output_chars) + 1  # +1: ~, 无需预测<sos>  #12\n",
    "embed_size = 32\n",
    "units = 128\n",
    "\n",
    "# sequence_lengths = keras.layers.Input(shape=[], dtype=np.int32)"
   ]
  },
  {
   "cell_type": "code",
   "execution_count": 45,
   "id": "c3827549",
   "metadata": {
    "code_folding": [],
    "execution": {
     "iopub.execute_input": "2022-05-19T13:02:03.242977Z",
     "iopub.status.busy": "2022-05-19T13:02:03.242612Z",
     "iopub.status.idle": "2022-05-19T13:02:04.117302Z",
     "shell.execute_reply": "2022-05-19T13:02:04.116348Z"
    },
    "papermill": {
     "duration": 1.570351,
     "end_time": "2022-05-19T13:02:04.120216",
     "exception": false,
     "start_time": "2022-05-19T13:02:02.549865",
     "status": "completed"
    },
    "tags": []
   },
   "outputs": [],
   "source": [
    "# 编码器\n",
    "encoder_inputs = keras.layers.Input(shape=[None], dtype=np.int32)  # 18\n",
    "encoder_embedding_layer = keras.layers.Embedding(input_dim=encoder_inputs_dim,\n",
    "                                                 output_dim=embed_size)\n",
    "encoder_embeddings = encoder_embedding_layer(encoder_inputs)\n",
    "\n",
    "encoder = keras.layers.LSTM(units, return_state=True)\n",
    "encoder_outputs, state_h, state_c = encoder(encoder_embeddings)\n",
    "encoder_state = [state_h, state_c]\n",
    "\n",
    "# 解码器\n",
    "decoder_inputs = keras.layers.Input(shape=[None], dtype=np.int32)  # 10\n",
    "decoder_embedding_layer = keras.layers.Embedding(input_dim=decoder_inputs_dim,\n",
    "                                                 output_dim=embed_size)\n",
    "decoder_embeddings = decoder_embedding_layer(decoder_inputs)\n",
    "\n",
    "decoder_lstm_layer = keras.layers.LSTM(units, return_sequences=True)\n",
    "decoder_lstm_output = decoder_lstm_layer(decoder_embeddings,\n",
    "                                         initial_state=encoder_state)\n",
    "decoder_outputs = keras.layers.Dense(decoder_outputs_dim,\n",
    "                                     activation=\"softmax\")(decoder_lstm_output)\n",
    "\n",
    "model = keras.models.Model(inputs=[encoder_inputs, decoder_inputs],\n",
    "                           outputs=[decoder_outputs])"
   ]
  },
  {
   "cell_type": "code",
   "execution_count": 52,
   "id": "ef361cd7",
   "metadata": {
    "scrolled": true
   },
   "outputs": [
    {
     "data": {
      "image/png": "[encoded data removed]",
      "text/plain": [
       "<IPython.core.display.Image object>"
      ]
     },
     "execution_count": 52,
     "metadata": {},
     "output_type": "execute_result"
    }
   ],
   "source": [
    "keras.utils.plot_model(model,\n",
    "                       \"../models/plot_model/Encoder-Decoder_model_4.png\",\n",
    "                       show_shapes=True)"
   ]
  },
  {
   "cell_type": "code",
   "execution_count": 47,
   "id": "e4500fd8",
   "metadata": {
    "execution": {
     "iopub.execute_input": "2022-05-19T13:02:07.598288Z",
     "iopub.status.busy": "2022-05-19T13:02:07.597999Z",
     "iopub.status.idle": "2022-05-19T13:02:49.329710Z",
     "shell.execute_reply": "2022-05-19T13:02:49.328604Z"
    },
    "papermill": {
     "duration": 42.428155,
     "end_time": "2022-05-19T13:02:49.332214",
     "exception": false,
     "start_time": "2022-05-19T13:02:06.904059",
     "status": "completed"
    },
    "tags": []
   },
   "outputs": [
    {
     "name": "stdout",
     "output_type": "stream",
     "text": [
      "Epoch 1/10\n",
      "313/313 [==============================] - 8s 14ms/step - loss: 1.6803 - accuracy: 0.3742 - val_loss: 1.4177 - val_accuracy: 0.4503\n",
      "Epoch 2/10\n",
      "313/313 [==============================] - 3s 11ms/step - loss: 1.1901 - accuracy: 0.5584 - val_loss: 0.8955 - val_accuracy: 0.6709\n",
      "Epoch 3/10\n",
      "313/313 [==============================] - 4s 12ms/step - loss: 0.6278 - accuracy: 0.7760 - val_loss: 0.3910 - val_accuracy: 0.8706\n",
      "Epoch 4/10\n",
      "313/313 [==============================] - 4s 11ms/step - loss: 0.2436 - accuracy: 0.9391 - val_loss: 0.1390 - val_accuracy: 0.9750\n",
      "Epoch 5/10\n",
      "313/313 [==============================] - 4s 11ms/step - loss: 0.0731 - accuracy: 0.9926 - val_loss: 0.0441 - val_accuracy: 0.9977\n",
      "Epoch 6/10\n",
      "313/313 [==============================] - 4s 12ms/step - loss: 0.0401 - accuracy: 0.9964 - val_loss: 0.0255 - val_accuracy: 0.9990\n",
      "Epoch 7/10\n",
      "313/313 [==============================] - 3s 11ms/step - loss: 0.0168 - accuracy: 0.9998 - val_loss: 0.0137 - val_accuracy: 0.9999\n",
      "Epoch 8/10\n",
      "313/313 [==============================] - 5s 15ms/step - loss: 0.0104 - accuracy: 1.0000 - val_loss: 0.0091 - val_accuracy: 0.9999\n",
      "Epoch 9/10\n",
      "313/313 [==============================] - 4s 12ms/step - loss: 0.0575 - accuracy: 0.9882 - val_loss: 0.0144 - val_accuracy: 0.9995\n",
      "Epoch 10/10\n",
      "313/313 [==============================] - 3s 11ms/step - loss: 0.0076 - accuracy: 1.0000 - val_loss: 0.0062 - val_accuracy: 0.9999\n"
     ]
    }
   ],
   "source": [
    "optimizer = keras.optimizers.Nadam()\n",
    "model.compile(loss=\"sparse_categorical_crossentropy\",\n",
    "              optimizer=optimizer,\n",
    "              metrics=[\"accuracy\"])\n",
    "history = model.fit([X_train, X_train_decoder],\n",
    "                    y_train,\n",
    "                    epochs=10,\n",
    "                    validation_data=([X_val, X_val_decoder], y_val))"
   ]
  },
  {
   "cell_type": "markdown",
   "id": "7114da14",
   "metadata": {
    "papermill": {
     "duration": 0.979771,
     "end_time": "2022-05-19T13:02:51.282867",
     "exception": false,
     "start_time": "2022-05-19T13:02:50.303096",
     "status": "completed"
    },
    "tags": []
   },
   "source": [
    "这个模型也达到了 100% 的验证准确率，但它的速度更快。"
   ]
  },
  {
   "cell_type": "markdown",
   "id": "240112fb",
   "metadata": {
    "papermill": {
     "duration": 1.015224,
     "end_time": "2022-05-19T13:02:53.279197",
     "exception": false,
     "start_time": "2022-05-19T13:02:52.263973",
     "status": "completed"
    },
    "tags": []
   },
   "source": [
    "3. 使用模型进行预测\n",
    "\n",
    "    模型在验证集上达到了近100%的准确度！在推理过程中，模型中的解码器**将使用先前的预测进行当前预测.**\n",
    "   "
   ]
  },
  {
   "cell_type": "code",
   "execution_count": 48,
   "id": "253e13f3",
   "metadata": {
    "execution": {
     "iopub.execute_input": "2022-05-19T13:02:55.495558Z",
     "iopub.status.busy": "2022-05-19T13:02:55.495254Z",
     "iopub.status.idle": "2022-05-19T13:02:56.719670Z",
     "shell.execute_reply": "2022-05-19T13:02:56.718697Z"
    },
    "papermill": {
     "duration": 2.182932,
     "end_time": "2022-05-19T13:02:56.721938",
     "exception": false,
     "start_time": "2022-05-19T13:02:54.539006",
     "status": "completed"
    },
    "tags": []
   },
   "outputs": [
    {
     "name": "stdout",
     "output_type": "stream",
     "text": [
      "X\n",
      " tf.Tensor(\n",
      "[[16 36 28 38  1  4  7  2  1  4 10 11 12  0  0  0  0  0]\n",
      " [17 21 38  1  4 12  2  1  5  3  5  5  0  0  0  0  0  0]], shape=(2, 18), dtype=int32) \n",
      " --------------------------------------------------\n",
      "y:初始<sos>\n",
      " tf.Tensor(\n",
      "[[12]\n",
      " [12]], shape=(2, 1), dtype=int32) \n",
      " --------------------------------------------------\n",
      "X_decoder:第1轮\n",
      " tf.Tensor(\n",
      "[[12  0  0  0  0  0  0  0  0  0]\n",
      " [12  0  0  0  0  0  0  0  0  0]], shape=(2, 10), dtype=int32) \n",
      " --------------------------------------------------\n",
      "X_decoder:第2轮\n",
      " tf.Tensor(\n",
      "[[12  2  0  0  0  0  0  0  0  0]\n",
      " [12  3  0  0  0  0  0  0  0  0]], shape=(2, 10), dtype=int32) \n",
      " --------------------------------------------------\n",
      "X_decoder:第3轮\n",
      " tf.Tensor(\n",
      "[[12  2  8  0  0  0  0  0  0  0]\n",
      " [12  3  1  0  0  0  0  0  0  0]], shape=(2, 10), dtype=int32) \n",
      " --------------------------------------------------\n",
      "X_decoder:第4轮\n",
      " tf.Tensor(\n",
      "[[12  2  8  9  0  0  0  0  0  0]\n",
      " [12  3  1  3  0  0  0  0  0  0]], shape=(2, 10), dtype=int32) \n",
      " --------------------------------------------------\n",
      "X_decoder:第5轮\n",
      " tf.Tensor(\n",
      "[[12  2  8  9 10  0  0  0  0  0]\n",
      " [12  3  1  3  3  0  0  0  0  0]], shape=(2, 10), dtype=int32) \n",
      " --------------------------------------------------\n",
      "X_decoder:第6轮\n",
      " tf.Tensor(\n",
      "[[12  2  8  9 10 11  0  0  0  0]\n",
      " [12  3  1  3  3 11  0  0  0  0]], shape=(2, 10), dtype=int32) \n",
      " --------------------------------------------------\n",
      "X_decoder:第7轮\n",
      " tf.Tensor(\n",
      "[[12  2  8  9 10 11  1  0  0  0]\n",
      " [12  3  1  3  3 11  1  0  0  0]], shape=(2, 10), dtype=int32) \n",
      " --------------------------------------------------\n",
      "X_decoder:第8轮\n",
      " tf.Tensor(\n",
      "[[12  2  8  9 10 11  1  8  0  0]\n",
      " [12  3  1  3  3 11  1  6  0  0]], shape=(2, 10), dtype=int32) \n",
      " --------------------------------------------------\n",
      "X_decoder:第9轮\n",
      " tf.Tensor(\n",
      "[[12  2  8  9 10 11  1  8 11  0]\n",
      " [12  3  1  3  3 11  1  6 11  0]], shape=(2, 10), dtype=int32) \n",
      " --------------------------------------------------\n",
      "X_decoder:第10轮\n",
      " tf.Tensor(\n",
      "[[12  2  8  9 10 11  1  8 11  2]\n",
      " [12  3  1  3  3 11  1  6 11  2]], shape=(2, 10), dtype=int32) \n",
      " --------------------------------------------------\n"
     ]
    },
    {
     "data": {
      "text/plain": [
       "['1789-07-14', '2022-05-19']"
      ]
     },
     "execution_count": 48,
     "metadata": {},
     "output_type": "execute_result"
    }
   ],
   "source": [
    "max_output_length = y_train.shape[1]  # 10\n",
    "\n",
    "\n",
    "# 详解:预测日期字符串函数\n",
    "def pred_date_strs(date_strs):\n",
    "    X = prepare_date_strs_padded(date_strs)\n",
    "    print(\"X\\n\", X, \"\\n\", \"-\" * 50)\n",
    "\n",
    "    y_pred_ids = tf.fill(dims=(len(X), 1), value=sos_id)  # 初始位置:<sos>\n",
    "    print(\"y:初始<sos>\\n\", y_pred_ids, \"\\n\", \"-\" * 50)\n",
    "    for index in range(max_output_length):\n",
    "        pad_size = max_output_length - y_pred_ids.shape[1]  # 1: 10-1\n",
    "        X_decoder = tf.pad(y_pred_ids, [[0, 0], [0, pad_size]])\n",
    "        print(\"X_decoder:第%s轮\\n\" % (index + 1), X_decoder, \"\\n\", \"-\" * 50)\n",
    "\n",
    "        # 计算目标字符表的字符概率 并输出最大的ids\n",
    "        y_probas_next = model.predict([X, X_decoder])[:, index:index + 1]\n",
    "        y_pred_next = tf.argmax(y_probas_next, axis=-1, output_type=tf.int32)\n",
    "        # 循环将预测字符上一个字符串进行拼接\n",
    "        y_pred_ids = tf.concat([y_pred_ids, y_pred_next], axis=1)\n",
    "\n",
    "    # 排除<sos>\n",
    "    y_pred_str = ids_to_date_strs(y_pred_ids[:, 1:], output_chars)\n",
    "\n",
    "    return y_pred_str\n",
    "\n",
    "\n",
    "pred_date_strs([\"July 14, 1789\", \"May 19, 2022\"])"
   ]
  },
  {
   "cell_type": "markdown",
   "id": "e9285721",
   "metadata": {
    "papermill": {
     "duration": 0.948809,
     "end_time": "2022-05-19T13:02:58.629591",
     "exception": false,
     "start_time": "2022-05-19T13:02:57.680782",
     "status": "completed"
    },
    "tags": []
   },
   "source": [
    "### V3: 使用 TF-Addons 的 seq2seq 实现 Third version: using TF-Addons's seq2seq implementation"
   ]
  },
  {
   "cell_type": "markdown",
   "id": "e50dec83",
   "metadata": {
    "papermill": {
     "duration": 0.959838,
     "end_time": "2022-05-19T13:03:00.543337",
     "exception": false,
     "start_time": "2022-05-19T13:02:59.583499",
     "status": "completed"
    },
    "tags": []
   },
   "source": [
    "让我们构建完全相同的模型，但使用 `TF-Addon` 的 `seq2seq API`。为了简单起见，没有模型输入来指定输出序列长度（但如果您的项目需要它，当输出序列有非常不同的长度,您可以轻松地将其添加回来）。"
   ]
  },
  {
   "cell_type": "markdown",
   "id": "ceee1df2",
   "metadata": {
    "papermill": {
     "duration": 0.996649,
     "end_time": "2022-05-19T13:03:02.545292",
     "exception": false,
     "start_time": "2022-05-19T13:03:01.548643",
     "status": "completed"
    },
    "tags": []
   },
   "source": [
    "#### TrainingSampler采样器"
   ]
  },
  {
   "cell_type": "markdown",
   "id": "7ebf056c",
   "metadata": {
    "papermill": {
     "duration": 1.232012,
     "end_time": "2022-05-19T13:03:04.738757",
     "exception": false,
     "start_time": "2022-05-19T13:03:03.506745",
     "status": "completed"
    },
    "tags": []
   },
   "source": [
    "1. 使用`tfa.seq2seq.seq2seq`的 `TrainingSampler`采样器的实现\n",
    "    - `TrainingSampler`采样器:一个简单地读取其输入的训练采样器。\n"
   ]
  },
  {
   "cell_type": "code",
   "execution_count": 49,
   "id": "1ecc05fe",
   "metadata": {
    "execution": {
     "iopub.execute_input": "2022-05-19T13:03:06.740771Z",
     "iopub.status.busy": "2022-05-19T13:03:06.740492Z",
     "iopub.status.idle": "2022-05-19T13:03:06.745439Z",
     "shell.execute_reply": "2022-05-19T13:03:06.744438Z"
    },
    "papermill": {
     "duration": 0.971039,
     "end_time": "2022-05-19T13:03:06.749293",
     "exception": false,
     "start_time": "2022-05-19T13:03:05.778254",
     "status": "completed"
    },
    "tags": []
   },
   "outputs": [],
   "source": [
    "import tensorflow_addons as tfa"
   ]
  },
  {
   "cell_type": "code",
   "execution_count": 50,
   "id": "e26b8ccc",
   "metadata": {
    "execution": {
     "iopub.execute_input": "2022-05-19T13:03:08.695040Z",
     "iopub.status.busy": "2022-05-19T13:03:08.694719Z",
     "iopub.status.idle": "2022-05-19T13:03:08.722811Z",
     "shell.execute_reply": "2022-05-19T13:03:08.721954Z"
    },
    "papermill": {
     "duration": 1.000888,
     "end_time": "2022-05-19T13:03:08.725083",
     "exception": false,
     "start_time": "2022-05-19T13:03:07.724195",
     "status": "completed"
    },
    "tags": []
   },
   "outputs": [],
   "source": [
    "initialization(42)\n",
    "\n",
    "encoder_inputs_dim = len(input_chars) + 1  # +1: id从1开始,   # 39\n",
    "decoder_inputs_dim = len(output_chars) + 2  # +2: ~, <sos>  # 13\n",
    "decoder_outputs_dim = len(output_chars) + 1  # +1: ~, 无需预测<sos>  #12\n",
    "embed_size = 32\n",
    "units = 128\n",
    "\n",
    "# sequence_lengths = keras.layers.Input(shape=[], dtype=np.int32)"
   ]
  },
  {
   "cell_type": "code",
   "execution_count": 51,
   "id": "4b87aae4",
   "metadata": {
    "code_folding": [],
    "execution": {
     "iopub.execute_input": "2022-05-19T13:03:10.663362Z",
     "iopub.status.busy": "2022-05-19T13:03:10.663027Z",
     "iopub.status.idle": "2022-05-19T13:03:11.480320Z",
     "shell.execute_reply": "2022-05-19T13:03:11.479428Z"
    },
    "papermill": {
     "duration": 1.793323,
     "end_time": "2022-05-19T13:03:11.483689",
     "exception": false,
     "start_time": "2022-05-19T13:03:09.690366",
     "status": "completed"
    },
    "tags": []
   },
   "outputs": [],
   "source": [
    "# 编码器\n",
    "encoder_inputs = keras.layers.Input(shape=[None], dtype=np.int32)  # 18\n",
    "encoder_embedding_layer = keras.layers.Embedding(input_dim=encoder_inputs_dim,\n",
    "                                                 output_dim=embed_size)\n",
    "encoder_embeddings = encoder_embedding_layer(encoder_inputs)\n",
    "\n",
    "encoder = keras.layers.LSTM(units, return_state=True)\n",
    "encoder_output, state_h, state_c = encoder(encoder_embeddings)\n",
    "encoder_state = [state_h, state_c]\n",
    "\n",
    "# 解码器\n",
    "decoder_inputs = keras.layers.Input(shape=[None], dtype=np.int32)  # 10\n",
    "decoder_embedding_layer = keras.layers.Embedding(input_dim=decoder_inputs_dim,\n",
    "                                                 output_dim=embed_size)\n",
    "decoder_embeddings = decoder_embedding_layer(decoder_inputs)\n",
    "\n",
    "#############\n",
    "decoder_cell = keras.layers.LSTMCell(units)\n",
    "sampler = tfa.seq2seq.sampler.TrainingSampler()  # 采样器\n",
    "output_layer = keras.layers.Dense(decoder_outputs_dim)\n",
    "\n",
    "decoder = tfa.seq2seq.basic_decoder.BasicDecoder(decoder_cell, sampler,\n",
    "                                                 output_layer)\n",
    "#############\n",
    "\n",
    "final_outputs, final_state, final_sequence_lengths = decoder(\n",
    "    decoder_embeddings,\n",
    "    initial_state=encoder_state,\n",
    "    #     sequence_length=sequence_lengths\n",
    ")\n",
    "\n",
    "y_proba = keras.layers.Softmax()(final_outputs.rnn_output)"
   ]
  },
  {
   "cell_type": "code",
   "execution_count": 62,
   "id": "2234307d",
   "metadata": {
    "scrolled": true
   },
   "outputs": [
    {
     "data": {
      "image/png": "[encoded data removed]",
      "text/plain": [
       "<IPython.core.display.Image object>"
      ]
     },
     "execution_count": 62,
     "metadata": {},
     "output_type": "execute_result"
    }
   ],
   "source": [
    "model = keras.Model(inputs=[encoder_inputs, decoder_inputs],\n",
    "                    outputs=[y_proba])\n",
    "keras.utils.plot_model(model,\n",
    "                       \"../models/plot_model/Encoder-Decoder_model_2.png\",\n",
    "                       show_shapes=True)"
   ]
  },
  {
   "cell_type": "code",
   "execution_count": 53,
   "id": "f44699ef",
   "metadata": {
    "execution": {
     "iopub.execute_input": "2022-05-19T13:03:16.016312Z",
     "iopub.status.busy": "2022-05-19T13:03:16.016030Z",
     "iopub.status.idle": "2022-05-19T13:07:42.279226Z",
     "shell.execute_reply": "2022-05-19T13:07:42.277887Z"
    },
    "papermill": {
     "duration": 267.539332,
     "end_time": "2022-05-19T13:07:42.282084",
     "exception": false,
     "start_time": "2022-05-19T13:03:14.742752",
     "status": "completed"
    },
    "tags": []
   },
   "outputs": [
    {
     "name": "stdout",
     "output_type": "stream",
     "text": [
      "Epoch 1/15\n",
      "313/313 [==============================] - 20s 50ms/step - loss: 1.6803 - accuracy: 0.3742 - val_loss: 1.4238 - val_accuracy: 0.4456\n",
      "Epoch 2/15\n",
      "313/313 [==============================] - 17s 54ms/step - loss: 1.1932 - accuracy: 0.5572 - val_loss: 0.9097 - val_accuracy: 0.6658\n",
      "Epoch 3/15\n",
      "313/313 [==============================] - 15s 47ms/step - loss: 0.6397 - accuracy: 0.7712 - val_loss: 0.3555 - val_accuracy: 0.8935\n",
      "Epoch 4/15\n",
      "313/313 [==============================] - 17s 53ms/step - loss: 0.2113 - accuracy: 0.9499 - val_loss: 0.1152 - val_accuracy: 0.9796\n",
      "Epoch 5/15\n",
      "313/313 [==============================] - 16s 50ms/step - loss: 0.1017 - accuracy: 0.9824 - val_loss: 0.0536 - val_accuracy: 0.9959\n",
      "Epoch 6/15\n",
      "313/313 [==============================] - 15s 48ms/step - loss: 0.0332 - accuracy: 0.9989 - val_loss: 0.0248 - val_accuracy: 0.9992\n",
      "Epoch 7/15\n",
      "313/313 [==============================] - 18s 56ms/step - loss: 0.0177 - accuracy: 0.9996 - val_loss: 0.0147 - val_accuracy: 0.9997\n",
      "Epoch 8/15\n",
      "313/313 [==============================] - 16s 50ms/step - loss: 0.0104 - accuracy: 1.0000 - val_loss: 0.0094 - val_accuracy: 0.9998\n",
      "Epoch 9/15\n",
      "313/313 [==============================] - 17s 55ms/step - loss: 0.0069 - accuracy: 1.0000 - val_loss: 0.0063 - val_accuracy: 0.9999\n",
      "Epoch 10/15\n",
      "313/313 [==============================] - 15s 48ms/step - loss: 0.0048 - accuracy: 1.0000 - val_loss: 0.0045 - val_accuracy: 0.9998\n",
      "Epoch 11/15\n",
      "313/313 [==============================] - 17s 56ms/step - loss: 0.0871 - accuracy: 0.9805 - val_loss: 0.0129 - val_accuracy: 0.9995\n",
      "Epoch 12/15\n",
      "313/313 [==============================] - 15s 47ms/step - loss: 0.0070 - accuracy: 1.0000 - val_loss: 0.0053 - val_accuracy: 0.9999\n",
      "Epoch 13/15\n",
      "313/313 [==============================] - 18s 58ms/step - loss: 0.0036 - accuracy: 1.0000 - val_loss: 0.0034 - val_accuracy: 0.9999\n",
      "Epoch 14/15\n",
      "313/313 [==============================] - 16s 50ms/step - loss: 0.0025 - accuracy: 1.0000 - val_loss: 0.0024 - val_accuracy: 1.0000\n",
      "Epoch 15/15\n",
      "313/313 [==============================] - 18s 58ms/step - loss: 0.0019 - accuracy: 1.0000 - val_loss: 0.0019 - val_accuracy: 0.9999\n"
     ]
    }
   ],
   "source": [
    "optimizer = keras.optimizers.Nadam()\n",
    "model.compile(loss=\"sparse_categorical_crossentropy\",\n",
    "              optimizer=optimizer,\n",
    "              metrics=[\"accuracy\"])\n",
    "history = model.fit([X_train, X_train_decoder],\n",
    "                    y_train,\n",
    "                    epochs=15,\n",
    "                    validation_data=([X_val, X_val_decoder], y_val))"
   ]
  },
  {
   "cell_type": "markdown",
   "id": "3ca34865",
   "metadata": {
    "papermill": {
     "duration": 2.127477,
     "end_time": "2022-05-19T13:07:46.580303",
     "exception": false,
     "start_time": "2022-05-19T13:07:44.452826",
     "status": "completed"
    },
    "tags": []
   },
   "source": [
    "2. 编写函数将IDs转化为字符串形式"
   ]
  },
  {
   "cell_type": "code",
   "execution_count": 54,
   "id": "599b4dba",
   "metadata": {
    "execution": {
     "iopub.execute_input": "2022-05-19T13:07:51.908434Z",
     "iopub.status.busy": "2022-05-19T13:07:51.908142Z",
     "iopub.status.idle": "2022-05-19T13:07:51.915026Z",
     "shell.execute_reply": "2022-05-19T13:07:51.913975Z"
    },
    "papermill": {
     "duration": 2.591635,
     "end_time": "2022-05-19T13:07:51.918094",
     "exception": false,
     "start_time": "2022-05-19T13:07:49.326459",
     "status": "completed"
    },
    "scrolled": true,
    "tags": []
   },
   "outputs": [
    {
     "data": {
      "text/plain": [
       "'  ,0123456789ADFJMNOSabceghilmnoprstuvy'"
      ]
     },
     "execution_count": 54,
     "metadata": {},
     "output_type": "execute_result"
    }
   ],
   "source": [
    "\" \"+input_chars"
   ]
  },
  {
   "cell_type": "code",
   "execution_count": 55,
   "id": "0f33ff74",
   "metadata": {
    "execution": {
     "iopub.execute_input": "2022-05-19T13:07:56.273210Z",
     "iopub.status.busy": "2022-05-19T13:07:56.272867Z",
     "iopub.status.idle": "2022-05-19T13:07:56.278618Z",
     "shell.execute_reply": "2022-05-19T13:07:56.277617Z"
    },
    "papermill": {
     "duration": 2.162072,
     "end_time": "2022-05-19T13:07:56.280955",
     "exception": false,
     "start_time": "2022-05-19T13:07:54.118883",
     "status": "completed"
    },
    "tags": []
   },
   "outputs": [],
   "source": [
    "def ids_to_date_strs(ids, chars_list):\n",
    "    return [\n",
    "        \"\".join([(\" \" + chars_list)[index] for index in sequence])\n",
    "        for sequence in ids\n",
    "    ]"
   ]
  },
  {
   "cell_type": "markdown",
   "id": "8426a819",
   "metadata": {
    "papermill": {
     "duration": 2.142982,
     "end_time": "2022-05-19T13:08:00.566263",
     "exception": false,
     "start_time": "2022-05-19T13:07:58.423281",
     "status": "completed"
    },
    "tags": []
   },
   "source": [
    "3. 预处理序列 \n",
    "    \n",
    "    强制进行0填充至`length==18(max)`"
   ]
  },
  {
   "cell_type": "code",
   "execution_count": 56,
   "id": "41b97ad4",
   "metadata": {
    "execution": {
     "iopub.execute_input": "2022-05-19T13:08:05.191341Z",
     "iopub.status.busy": "2022-05-19T13:08:05.190994Z",
     "iopub.status.idle": "2022-05-19T13:08:05.197580Z",
     "shell.execute_reply": "2022-05-19T13:08:05.196425Z"
    },
    "papermill": {
     "duration": 2.13721,
     "end_time": "2022-05-19T13:08:05.200386",
     "exception": false,
     "start_time": "2022-05-19T13:08:03.063176",
     "status": "completed"
    },
    "tags": []
   },
   "outputs": [],
   "source": [
    "max_input_length = X_train.shape[1]  # 18\n",
    "\n",
    "# 预处理序列 -> 强制进行0填充至length==18(max)\n",
    "def prepare_date_strs_padded(date_strs):\n",
    "    X = prepare_date_strs(date_strs, input_chars)\n",
    "\n",
    "    if X.shape[1] < max_input_length:\n",
    "        X = tf.pad(X, [\n",
    "            [0,0],\n",
    "            [0, max_input_length-X.shape[1]]  \n",
    "        ])\n",
    "    return X"
   ]
  },
  {
   "cell_type": "markdown",
   "id": "163d923e",
   "metadata": {
    "papermill": {
     "duration": 2.137618,
     "end_time": "2022-05-19T13:08:09.486639",
     "exception": false,
     "start_time": "2022-05-19T13:08:07.349021",
     "status": "completed"
    },
    "tags": []
   },
   "source": [
    "4. 使用模型进行预测\n",
    "\n",
    "    模型在验证集上达到了近100%的准确度！在推理过程中，模型中的解码器**将使用先前的预测进行当前预测.**\n",
    "   "
   ]
  },
  {
   "cell_type": "code",
   "execution_count": 57,
   "id": "29a01d56",
   "metadata": {
    "execution": {
     "iopub.execute_input": "2022-05-19T13:08:14.108876Z",
     "iopub.status.busy": "2022-05-19T13:08:14.108578Z",
     "iopub.status.idle": "2022-05-19T13:08:15.381928Z",
     "shell.execute_reply": "2022-05-19T13:08:15.380981Z"
    },
    "papermill": {
     "duration": 3.745883,
     "end_time": "2022-05-19T13:08:15.384238",
     "exception": false,
     "start_time": "2022-05-19T13:08:11.638355",
     "status": "completed"
    },
    "tags": []
   },
   "outputs": [
    {
     "data": {
      "text/plain": [
       "['1789-07-14', '2022-05-19']"
      ]
     },
     "execution_count": 57,
     "metadata": {},
     "output_type": "execute_result"
    }
   ],
   "source": [
    "max_output_length = y_train.shape[1]  # 10\n",
    "\n",
    "\n",
    "# 预测日期字符串函数\n",
    "def pred_date_strs(date_strs):\n",
    "    X = prepare_date_strs_padded(date_strs)\n",
    "    y_pred_ids = tf.fill(dims=(len(X), 1), value=sos_id)  # 初始位置:<sos>\n",
    "\n",
    "    for index in range(max_output_length):\n",
    "        pad_size = max_output_length - y_pred_ids.shape[1]  # 1: 10-1\n",
    "        X_decoder = tf.pad(y_pred_ids, [[0, 0], [0, pad_size]])\n",
    "        # 计算目标字符表的字符概率 并输出最大的ids\n",
    "        y_probas_next = model.predict([X, X_decoder])[:, index:index + 1]\n",
    "        y_pred_next = tf.argmax(y_probas_next, axis=-1, output_type=tf.int32)\n",
    "        # 循环将预测字符上一个字符串进行拼接\n",
    "        y_pred_ids = tf.concat([y_pred_ids, y_pred_next], axis=1)\n",
    "\n",
    "    # 排除<sos>\n",
    "    y_pred_str = ids_to_date_strs(y_pred_ids[:, 1:], output_chars)\n",
    "\n",
    "    return y_pred_str\n",
    "\n",
    "\n",
    "pred_date_strs([\"July 14, 1789\", \"May 19, 2022\"])"
   ]
  },
  {
   "cell_type": "markdown",
   "id": "5d6392ba",
   "metadata": {
    "papermill": {
     "duration": 2.180699,
     "end_time": "2022-05-19T13:08:19.700206",
     "exception": false,
     "start_time": "2022-05-19T13:08:17.519507",
     "status": "completed"
    },
    "tags": []
   },
   "source": [
    "#### GreedyEmbeddingSampler采样器"
   ]
  },
  {
   "cell_type": "markdown",
   "id": "eeef8743",
   "metadata": {
    "papermill": {
     "duration": 3.010643,
     "end_time": "2022-05-19T13:08:25.453397",
     "exception": false,
     "start_time": "2022-05-19T13:08:22.442754",
     "status": "completed"
    },
    "tags": []
   },
   "source": [
    "到目前为止，在推理过程中，我们为每个新字符运行了一次模型."
   ]
  },
  {
   "cell_type": "markdown",
   "id": "0b2a71b0",
   "metadata": {
    "papermill": {
     "duration": 2.133488,
     "end_time": "2022-05-19T13:08:29.804633",
     "exception": false,
     "start_time": "2022-05-19T13:08:27.671145",
     "status": "completed"
    },
    "tags": []
   },
   "source": [
    "- 使用更有效的**推理**方式:\n",
    "   - 基于先前训练的层创建一个新的解码器，但使用`GreedyEmbeddingSampler`而不是`TrainingSampler`。\n",
    "   - 在每个时间步长，`GreedyEmbeddingSampler`**将计算解码器输出的`argmax`**，并通过解码器的嵌入层运行生成的令牌`ids`。然后它将在下一个时间步长将生成的嵌入馈送到解码器的 `LSTM` 单元。这样，我们**只需要运行一次解码器**就可以得到完整的预测。"
   ]
  },
  {
   "cell_type": "code",
   "execution_count": 58,
   "id": "749045bf",
   "metadata": {
    "code_folding": [],
    "execution": {
     "iopub.execute_input": "2022-05-19T13:08:34.131309Z",
     "iopub.status.busy": "2022-05-19T13:08:34.130983Z",
     "iopub.status.idle": "2022-05-19T13:08:34.163949Z",
     "shell.execute_reply": "2022-05-19T13:08:34.163061Z"
    },
    "papermill": {
     "duration": 2.178109,
     "end_time": "2022-05-19T13:08:34.166198",
     "exception": false,
     "start_time": "2022-05-19T13:08:31.988089",
     "status": "completed"
    },
    "tags": []
   },
   "outputs": [],
   "source": [
    "initialization(42)\n",
    "\n",
    "encoder_inputs_dim = len(input_chars) + 1  # +1: id从1开始,   # 39\n",
    "decoder_inputs_dim = len(output_chars) + 2  # +2: ~, <sos>  # 13\n",
    "decoder_outputs_dim = len(output_chars) + 1  # +1: ~, 无需预测<sos>  #12\n",
    "embed_size = 32\n",
    "units = 128"
   ]
  },
  {
   "cell_type": "markdown",
   "id": "9aef1bea",
   "metadata": {
    "papermill": {
     "duration": 2.131365,
     "end_time": "2022-05-19T13:08:38.779066",
     "exception": false,
     "start_time": "2022-05-19T13:08:36.647701",
     "status": "completed"
    },
    "tags": []
   },
   "source": [
    "- 几点注意事项：\n",
    "    1. `GreedyEmbeddingSampler` 需要\n",
    "        - `start_token`:包含每个解码器序列的 `start-of-sequence` ID 的向量.\n",
    "        - `end_token`:一旦模型输出此`token`，解码器将停止解码序列.\n",
    "    2. 我们必须在创建`BasicDecoder`时设置`maximum_iterations`，否则它可能会陷入无限循环（如果模型从未为至少一个序列输出结束标记）。这将迫使您重新启动 Jupyter 内核。\n",
    "    3. **不再需要解码器输入，因为所有解码器输入都是根据前一个时间步的输出动态生成的**。\n",
    "    4. 模型的输出是 `final_outputs.sample_id`，而不是 `final_outputs.rnn_outputs` 的 `softmax`。这使我们可以直接获得模型输出的 `argmax`。\n",
    "        - 如果您更喜欢访问 `logits`，您可以将 `final_outputs.sample_id` 替换为 `final_outputs.rnn_outputs`。"
   ]
  },
  {
   "cell_type": "code",
   "execution_count": 59,
   "id": "2ee9cbac",
   "metadata": {
    "execution": {
     "iopub.execute_input": "2022-05-19T13:08:43.107332Z",
     "iopub.status.busy": "2022-05-19T13:08:43.106940Z",
     "iopub.status.idle": "2022-05-19T13:08:43.117242Z",
     "shell.execute_reply": "2022-05-19T13:08:43.116089Z"
    },
    "papermill": {
     "duration": 2.215101,
     "end_time": "2022-05-19T13:08:43.120132",
     "exception": false,
     "start_time": "2022-05-19T13:08:40.905031",
     "status": "completed"
    },
    "tags": []
   },
   "outputs": [],
   "source": [
    "max_output_length = y_train.shape[1]  # 10\n",
    "\n",
    "# 解码器\n",
    "# !!推理阶段不再需要解码器输入!!\n",
    "# decoder_inputs = keras.layers.Input(shape=[None], dtype=np.int32)  # 10\n",
    "# decoder_embedding_layer = keras.layers.Embedding(input_dim=decoder_inputs_dim,\n",
    "#                                                  output_dim=embed_size)\n",
    "# decoder_embeddings = decoder_embedding_layer(decoder_inputs)\n",
    "\n",
    "##############\n",
    "# decoder_cell = keras.layers.LSTMCell(units)\n",
    "# 贪婪采样器:从输出分布中获取最大值的推理采样器\n",
    "inference_sampler = tfa.seq2seq.sampler.GreedyEmbeddingSampler(\n",
    "    embedding_fn=decoder_embedding_layer)\n",
    "# output_layer = keras.layers.Dense(decoder_outputs_dim)\n",
    "\n",
    "inference_decoder = tfa.seq2seq.basic_decoder.BasicDecoder(\n",
    "    cell=decoder_cell,          # 注意!!\n",
    "    sampler=inference_sampler,  # 使用贪婪采样器\n",
    "    output_layer=output_layer,  # 注意!!\n",
    "    maximum_iterations=max_output_length  # 最大迭代次数（可以理解为decoder最多可以生成几个词）\n",
    ")\n",
    "#############"
   ]
  },
  {
   "cell_type": "code",
   "execution_count": 60,
   "id": "1d94a14d",
   "metadata": {
    "execution": {
     "iopub.execute_input": "2022-05-19T13:08:47.710307Z",
     "iopub.status.busy": "2022-05-19T13:08:47.709952Z",
     "iopub.status.idle": "2022-05-19T13:08:47.732616Z",
     "shell.execute_reply": "2022-05-19T13:08:47.731608Z"
    },
    "papermill": {
     "duration": 2.362416,
     "end_time": "2022-05-19T13:08:47.735032",
     "exception": false,
     "start_time": "2022-05-19T13:08:45.372616",
     "status": "completed"
    },
    "tags": []
   },
   "outputs": [],
   "source": [
    "batch_size = tf.shape(encoder_inputs)[:1]\n",
    "start_tokens = tf.fill(dims=batch_size, value=sos_id)  \n",
    "# 取start-of-sequence -> <sos>"
   ]
  },
  {
   "cell_type": "code",
   "execution_count": 61,
   "id": "fd50b048",
   "metadata": {
    "execution": {
     "iopub.execute_input": "2022-05-19T13:08:52.060970Z",
     "iopub.status.busy": "2022-05-19T13:08:52.060617Z",
     "iopub.status.idle": "2022-05-19T13:08:52.558719Z",
     "shell.execute_reply": "2022-05-19T13:08:52.557739Z"
    },
    "papermill": {
     "duration": 2.688575,
     "end_time": "2022-05-19T13:08:52.561508",
     "exception": false,
     "start_time": "2022-05-19T13:08:49.872933",
     "status": "completed"
    },
    "tags": []
   },
   "outputs": [],
   "source": [
    "final_outputs, final_state, final_sequence_lengths = inference_decoder(\n",
    "    start_tokens,  # decoder_cell \n",
    "    initial_state=encoder_state,\n",
    "    start_tokens=start_tokens,\n",
    "    end_token=0)"
   ]
  },
  {
   "cell_type": "code",
   "execution_count": 62,
   "id": "bf286a1c",
   "metadata": {
    "execution": {
     "iopub.execute_input": "2022-05-19T13:08:57.829022Z",
     "iopub.status.busy": "2022-05-19T13:08:57.828522Z",
     "iopub.status.idle": "2022-05-19T13:08:57.839717Z",
     "shell.execute_reply": "2022-05-19T13:08:57.838773Z"
    },
    "papermill": {
     "duration": 2.959572,
     "end_time": "2022-05-19T13:08:57.842059",
     "exception": false,
     "start_time": "2022-05-19T13:08:54.882487",
     "status": "completed"
    },
    "tags": []
   },
   "outputs": [],
   "source": [
    "inference_model = keras.models.Model(inputs=[encoder_inputs],\n",
    "                                     outputs=[final_outputs.sample_id])"
   ]
  },
  {
   "cell_type": "markdown",
   "id": "a4b54811",
   "metadata": {
    "papermill": {
     "duration": 2.152753,
     "end_time": "2022-05-19T13:09:02.136649",
     "exception": false,
     "start_time": "2022-05-19T13:08:59.983896",
     "status": "completed"
    },
    "tags": []
   },
   "source": [
    "- 现在我们可以编写一个简单的函数，使用训练好的模型来执行日期格式转换"
   ]
  },
  {
   "cell_type": "code",
   "execution_count": 63,
   "id": "b9aac7ce",
   "metadata": {
    "execution": {
     "iopub.execute_input": "2022-05-19T13:09:06.448658Z",
     "iopub.status.busy": "2022-05-19T13:09:06.448300Z",
     "iopub.status.idle": "2022-05-19T13:09:07.148007Z",
     "shell.execute_reply": "2022-05-19T13:09:07.146957Z"
    },
    "papermill": {
     "duration": 2.865618,
     "end_time": "2022-05-19T13:09:07.150592",
     "exception": false,
     "start_time": "2022-05-19T13:09:04.284974",
     "status": "completed"
    },
    "tags": []
   },
   "outputs": [
    {
     "data": {
      "text/plain": [
       "['1789-07-14', '2022-05-19']"
      ]
     },
     "execution_count": 63,
     "metadata": {},
     "output_type": "execute_result"
    }
   ],
   "source": [
    "# 预测日期字符串函数  --> 使用贪婪采样器的推理模型\n",
    "def fast_pred_date_strs(date_strs):\n",
    "    X = prepare_date_strs_padded(date_strs)\n",
    "    y_pred_ids = inference_model.predict(X)\n",
    "    y_pred_str = ids_to_date_strs(y_pred_ids, output_chars)\n",
    "\n",
    "    return y_pred_str\n",
    "\n",
    "\n",
    "fast_pred_date_strs([\"July 14, 1789\", \"May 19, 2022\"])"
   ]
  },
  {
   "cell_type": "markdown",
   "id": "981d8504",
   "metadata": {
    "papermill": {
     "duration": 2.145034,
     "end_time": "2022-05-19T13:09:12.043191",
     "exception": false,
     "start_time": "2022-05-19T13:09:09.898157",
     "status": "completed"
    },
    "tags": []
   },
   "source": [
    "- 比较运行时间\n",
    "\n",
    "    这是超过 10 倍的加速！如果我们处理更长的序列，加速会更多!"
   ]
  },
  {
   "cell_type": "code",
   "execution_count": 64,
   "id": "a9b000c6",
   "metadata": {
    "execution": {
     "iopub.execute_input": "2022-05-19T13:09:16.346897Z",
     "iopub.status.busy": "2022-05-19T13:09:16.346600Z",
     "iopub.status.idle": "2022-05-19T13:09:21.373004Z",
     "shell.execute_reply": "2022-05-19T13:09:21.371366Z"
    },
    "papermill": {
     "duration": 7.205337,
     "end_time": "2022-05-19T13:09:21.377013",
     "exception": false,
     "start_time": "2022-05-19T13:09:14.171676",
     "status": "completed"
    },
    "tags": []
   },
   "outputs": [
    {
     "name": "stdout",
     "output_type": "stream",
     "text": [
      "604 ms ± 81.6 ms per loop (mean ± std. dev. of 7 runs, 1 loop each)\n"
     ]
    }
   ],
   "source": [
    "%timeit pred_date_strs([\"July 14, 1789\", \"May 19, 2022\"])"
   ]
  },
  {
   "cell_type": "code",
   "execution_count": 65,
   "id": "826e3872",
   "metadata": {
    "execution": {
     "iopub.execute_input": "2022-05-19T13:09:25.667008Z",
     "iopub.status.busy": "2022-05-19T13:09:25.666672Z",
     "iopub.status.idle": "2022-05-19T13:09:31.228432Z",
     "shell.execute_reply": "2022-05-19T13:09:31.226691Z"
    },
    "papermill": {
     "duration": 7.689473,
     "end_time": "2022-05-19T13:09:31.231331",
     "exception": false,
     "start_time": "2022-05-19T13:09:23.541858",
     "status": "completed"
    },
    "tags": []
   },
   "outputs": [
    {
     "name": "stdout",
     "output_type": "stream",
     "text": [
      "69.1 ms ± 15.9 ms per loop (mean ± std. dev. of 7 runs, 10 loops each)\n"
     ]
    }
   ],
   "source": [
    "%timeit fast_pred_date_strs([\"July 14, 1789\", \"May 19, 2022\"])"
   ]
  },
  {
   "cell_type": "markdown",
   "id": "10cc7a18",
   "metadata": {
    "papermill": {
     "duration": 2.116121,
     "end_time": "2022-05-19T13:09:35.484760",
     "exception": false,
     "start_time": "2022-05-19T13:09:33.368639",
     "status": "completed"
    },
    "tags": []
   },
   "source": [
    "### V4: 使用 TF-Addons 的seq2seq 实现调度采样器 Fourth versions: using TF-Addons's seq2seq implementions with a scheduled sampler"
   ]
  },
  {
   "cell_type": "markdown",
   "id": "62065b6f",
   "metadata": {
    "papermill": {
     "duration": 2.15881,
     "end_time": "2022-05-19T13:09:39.840252",
     "exception": false,
     "start_time": "2022-05-19T13:09:37.681442",
     "status": "completed"
    },
    "tags": []
   },
   "source": [
    "#### ScheduledEmbeddingTrainingSampler采样器"
   ]
  },
  {
   "cell_type": "markdown",
   "id": "fed5eec0",
   "metadata": {
    "papermill": {
     "duration": 2.117784,
     "end_time": "2022-05-19T13:09:44.423671",
     "exception": false,
     "start_time": "2022-05-19T13:09:42.305887",
     "status": "completed"
    },
    "tags": []
   },
   "source": [
    "当我们`训练阶段`前一个模型时，在每个时间步长 $t$ 我们给模型一个时间步长 $t-1$的目标标记。然而，在`推理阶段`时，模型在每个时间步都没有得到前一个目标。相反，它得到了**前一个时间步长的预测**。\n",
    "\n",
    "所以训练和推理之间存在差异，这可能会导致令人失望的表现。\n",
    "\n",
    "为了缓解这种情况，**我们可以在训练期间逐渐用预测替换目标**。为此，我们只需将 `TrainingSampler` 替换为 `ScheduledEmbeddingTrainingSampler`，并使用 `Keras` 回调逐渐增加`sampling_probability`,即解码器将使用上一个时间步的预测而不是上一个时间步的目标。\n",
    "\n",
    "`ScheduledEmbeddingTrainingSampler`: 将在目标或实际输出使用一个概率值做随机选择，您可以在训练过程中逐渐改变的概率。"
   ]
  },
  {
   "cell_type": "markdown",
   "id": "0758c81a",
   "metadata": {
    "papermill": {
     "duration": 2.139376,
     "end_time": "2022-05-19T13:09:48.712341",
     "exception": false,
     "start_time": "2022-05-19T13:09:46.572965",
     "status": "completed"
    },
    "tags": []
   },
   "source": [
    "1. 调度的嵌入训练采样器的实现\n",
    "   - `ScheduledEmbeddingTrainingSampler`: 将在目标或实际输出使用一个概率值做随机选择，您可以在训练过程中逐渐改变的概率。\n"
   ]
  },
  {
   "cell_type": "code",
   "execution_count": 66,
   "id": "61ea15e2",
   "metadata": {
    "execution": {
     "iopub.execute_input": "2022-05-19T13:09:53.294792Z",
     "iopub.status.busy": "2022-05-19T13:09:53.294483Z",
     "iopub.status.idle": "2022-05-19T13:09:53.312834Z",
     "shell.execute_reply": "2022-05-19T13:09:53.311838Z"
    },
    "papermill": {
     "duration": 2.496506,
     "end_time": "2022-05-19T13:09:53.315088",
     "exception": false,
     "start_time": "2022-05-19T13:09:50.818582",
     "status": "completed"
    },
    "tags": []
   },
   "outputs": [],
   "source": [
    "initialization(42)\n",
    "\n",
    "encoder_inputs_dim = len(input_chars) + 1  # +1: id从1开始,   # 39\n",
    "decoder_inputs_dim = len(output_chars) + 2  # +2: ~, <sos>  # 13\n",
    "decoder_outputs_dim = len(output_chars) + 1  # +1: ~, 无需预测<sos>  #12\n",
    "embed_size = 32\n",
    "units = 128\n",
    "n_epochs = 20\n",
    "\n",
    "# sequence_lengths = keras.layers.Input(shape=[], dtype=np.int32)"
   ]
  },
  {
   "cell_type": "code",
   "execution_count": 67,
   "id": "cf3aaceb",
   "metadata": {
    "code_folding": [],
    "execution": {
     "iopub.execute_input": "2022-05-19T13:09:57.596368Z",
     "iopub.status.busy": "2022-05-19T13:09:57.595762Z",
     "iopub.status.idle": "2022-05-19T13:09:58.920028Z",
     "shell.execute_reply": "2022-05-19T13:09:58.919081Z"
    },
    "papermill": {
     "duration": 3.465813,
     "end_time": "2022-05-19T13:09:58.922915",
     "exception": false,
     "start_time": "2022-05-19T13:09:55.457102",
     "status": "completed"
    },
    "tags": []
   },
   "outputs": [],
   "source": [
    "# 编码器\n",
    "encoder_inputs = keras.layers.Input(shape=[None], dtype=np.int32)  # 18\n",
    "encoder_embedding_layer = keras.layers.Embedding(input_dim=encoder_inputs_dim,\n",
    "                                                 output_dim=embed_size)\n",
    "encoder_embeddings = encoder_embedding_layer(encoder_inputs)\n",
    "\n",
    "encoder = keras.layers.LSTM(units, return_state=True)\n",
    "encoder_output, state_h, state_c = encoder(encoder_embeddings)\n",
    "encoder_state = [state_h, state_c]\n",
    "\n",
    "# 解码器\n",
    "decoder_inputs = keras.layers.Input(shape=[None], dtype=np.int32)  # 10\n",
    "decoder_embedding_layer = keras.layers.Embedding(input_dim=decoder_inputs_dim,\n",
    "                                                 output_dim=embed_size)\n",
    "decoder_embeddings = decoder_embedding_layer(decoder_inputs)\n",
    "\n",
    "#############\n",
    "decoder_cell = keras.layers.LSTMCell(units)\n",
    "# 要在训练期间更改采样概率，最简单的选择是将其设为 `tf.Variable`\n",
    "sampling_probability = tf.Variable(0.)\n",
    "sampler = tfa.seq2seq.sampler.ScheduledEmbeddingTrainingSampler(  # 采样器\n",
    "    sampling_probability=sampling_probability,\n",
    "    embedding_fn=decoder_embedding_layer)\n",
    "output_layer = keras.layers.Dense(decoder_outputs_dim)\n",
    "\n",
    "decoder = tfa.seq2seq.basic_decoder.BasicDecoder(decoder_cell, sampler,\n",
    "                                                 output_layer)\n",
    "#############\n",
    "\n",
    "final_outputs, final_state, final_sequence_lengths = decoder(\n",
    "    decoder_embeddings,\n",
    "    initial_state=encoder_state,\n",
    "    #     sequence_length=sequence_lengths\n",
    ")\n",
    "\n",
    "y_proba = keras.layers.Softmax()(final_outputs.rnn_output)"
   ]
  },
  {
   "cell_type": "code",
   "execution_count": 68,
   "id": "16569871",
   "metadata": {
    "execution": {
     "iopub.execute_input": "2022-05-19T13:10:04.251722Z",
     "iopub.status.busy": "2022-05-19T13:10:04.251433Z",
     "iopub.status.idle": "2022-05-19T13:10:04.260788Z",
     "shell.execute_reply": "2022-05-19T13:10:04.259810Z"
    },
    "papermill": {
     "duration": 2.446715,
     "end_time": "2022-05-19T13:10:04.263479",
     "exception": false,
     "start_time": "2022-05-19T13:10:01.816764",
     "status": "completed"
    },
    "tags": []
   },
   "outputs": [],
   "source": [
    "model = keras.Model(inputs=[encoder_inputs, decoder_inputs],\n",
    "                    outputs=[y_proba])"
   ]
  },
  {
   "cell_type": "markdown",
   "id": "1a9841fa",
   "metadata": {
    "papermill": {
     "duration": 2.128131,
     "end_time": "2022-05-19T13:10:08.522507",
     "exception": false,
     "start_time": "2022-05-19T13:10:06.394376",
     "status": "completed"
    },
    "tags": []
   },
   "source": [
    "2. 使用 `Keras` 回调函数逐渐增加`sampling_probability`"
   ]
  },
  {
   "cell_type": "code",
   "execution_count": 69,
   "id": "f23d931d",
   "metadata": {
    "execution": {
     "iopub.execute_input": "2022-05-19T13:10:12.835600Z",
     "iopub.status.busy": "2022-05-19T13:10:12.835297Z",
     "iopub.status.idle": "2022-05-19T13:10:12.840540Z",
     "shell.execute_reply": "2022-05-19T13:10:12.839511Z"
    },
    "papermill": {
     "duration": 2.157312,
     "end_time": "2022-05-19T13:10:12.842766",
     "exception": false,
     "start_time": "2022-05-19T13:10:10.685454",
     "status": "completed"
    },
    "tags": []
   },
   "outputs": [],
   "source": [
    "def update_sampling_probability(epoch, logs):\n",
    "    proba = min(1.0, epoch/(n_epochs-10))\n",
    "    sampler.sampling_probability.assign(proba)"
   ]
  },
  {
   "cell_type": "code",
   "execution_count": 70,
   "id": "6df62a0f",
   "metadata": {
    "execution": {
     "iopub.execute_input": "2022-05-19T13:10:17.434515Z",
     "iopub.status.busy": "2022-05-19T13:10:17.434170Z",
     "iopub.status.idle": "2022-05-19T13:10:17.438888Z",
     "shell.execute_reply": "2022-05-19T13:10:17.437846Z"
    },
    "papermill": {
     "duration": 2.129825,
     "end_time": "2022-05-19T13:10:17.441259",
     "exception": false,
     "start_time": "2022-05-19T13:10:15.311434",
     "status": "completed"
    },
    "tags": []
   },
   "outputs": [],
   "source": [
    "sampling_probability_cb = keras.callbacks.LambdaCallback(\n",
    "    on_epoch_begin=update_sampling_probability)"
   ]
  },
  {
   "cell_type": "markdown",
   "id": "1178ce84",
   "metadata": {
    "papermill": {
     "duration": 2.178152,
     "end_time": "2022-05-19T13:10:21.751428",
     "exception": false,
     "start_time": "2022-05-19T13:10:19.573276",
     "status": "completed"
    },
    "tags": []
   },
   "source": [
    "3. 训练模型"
   ]
  },
  {
   "cell_type": "code",
   "execution_count": 71,
   "id": "0080a408",
   "metadata": {
    "execution": {
     "iopub.execute_input": "2022-05-19T13:10:26.390309Z",
     "iopub.status.busy": "2022-05-19T13:10:26.389772Z",
     "iopub.status.idle": "2022-05-19T13:18:50.249780Z",
     "shell.execute_reply": "2022-05-19T13:18:50.248519Z"
    },
    "papermill": {
     "duration": 506.343864,
     "end_time": "2022-05-19T13:18:50.258363",
     "exception": false,
     "start_time": "2022-05-19T13:10:23.914499",
     "status": "completed"
    },
    "scrolled": true,
    "tags": []
   },
   "outputs": [
    {
     "name": "stdout",
     "output_type": "stream",
     "text": [
      "Epoch 1/20\n"
     ]
    },
    {
     "name": "stderr",
     "output_type": "stream",
     "text": [
      "/opt/conda/lib/python3.7/site-packages/tensorflow/python/framework/indexed_slices.py:449: UserWarning: Converting sparse IndexedSlices(IndexedSlices(indices=Tensor(\"gradient_tape/model/basic_decoder/decoder/while/gradients/model/basic_decoder/decoder/while/cond_1_grad/Identity_4:0\", shape=(None,), dtype=int32), values=Tensor(\"gradient_tape/model/basic_decoder/decoder/while/gradients/model/basic_decoder/decoder/while/cond_1_grad/Identity_3:0\", shape=(None, 32), dtype=float32), dense_shape=Tensor(\"gradient_tape/model/basic_decoder/decoder/while/gradients/model/basic_decoder/decoder/while/cond_1_grad/Identity_5:0\", shape=(2,), dtype=int32))) to a dense Tensor of unknown shape. This may consume a large amount of memory.\n",
      "  \"shape. This may consume a large amount of memory.\" % value)\n",
      "/opt/conda/lib/python3.7/site-packages/tensorflow/python/framework/indexed_slices.py:449: UserWarning: Converting sparse IndexedSlices(IndexedSlices(indices=Tensor(\"gradient_tape/model/basic_decoder/decoder/while/gradients/model/basic_decoder/decoder/while/cond_grad/gradients/grad_ys_0_indices:0\", shape=(None,), dtype=int32), values=Tensor(\"gradient_tape/model/basic_decoder/decoder/while/gradients/model/basic_decoder/decoder/while/cond_grad/gradients/grad_ys_0_values:0\", shape=(None, 32), dtype=float32), dense_shape=Tensor(\"gradient_tape/model/basic_decoder/decoder/while/gradients/model/basic_decoder/decoder/while/cond_grad/gradients/grad_ys_0_shape:0\", shape=(2,), dtype=int32))) to a dense Tensor of unknown shape. This may consume a large amount of memory.\n",
      "  \"shape. This may consume a large amount of memory.\" % value)\n",
      "/opt/conda/lib/python3.7/site-packages/tensorflow/python/framework/indexed_slices.py:449: UserWarning: Converting sparse IndexedSlices(IndexedSlices(indices=Tensor(\"gradient_tape/model/basic_decoder/decoder/while/gradients/model/basic_decoder/decoder/while/cond_grad/Identity_1:0\", shape=(None,), dtype=int32), values=Tensor(\"gradient_tape/model/basic_decoder/decoder/while/gradients/model/basic_decoder/decoder/while/cond_grad/Identity:0\", shape=(None, 32), dtype=float32), dense_shape=Tensor(\"gradient_tape/model/basic_decoder/decoder/while/gradients/model/basic_decoder/decoder/while/cond_grad/Identity_2:0\", shape=(2,), dtype=int32))) to a dense Tensor of unknown shape. This may consume a large amount of memory.\n",
      "  \"shape. This may consume a large amount of memory.\" % value)\n"
     ]
    },
    {
     "name": "stdout",
     "output_type": "stream",
     "text": [
      "313/313 [==============================] - 28s 75ms/step - loss: 1.6803 - accuracy: 0.3742 - val_loss: 1.4227 - val_accuracy: 0.4459\n",
      "Epoch 2/20\n",
      "313/313 [==============================] - 26s 83ms/step - loss: 1.2175 - accuracy: 0.5501 - val_loss: 0.9474 - val_accuracy: 0.6513\n",
      "Epoch 3/20\n",
      "313/313 [==============================] - 26s 83ms/step - loss: 0.7474 - accuracy: 0.7239 - val_loss: 0.5695 - val_accuracy: 0.7905\n",
      "Epoch 4/20\n",
      "313/313 [==============================] - 22s 71ms/step - loss: 0.4340 - accuracy: 0.8540 - val_loss: 0.3025 - val_accuracy: 0.9110\n",
      "Epoch 5/20\n",
      "313/313 [==============================] - 26s 83ms/step - loss: 0.2397 - accuracy: 0.9331 - val_loss: 0.1893 - val_accuracy: 0.9524\n",
      "Epoch 6/20\n",
      "313/313 [==============================] - 27s 86ms/step - loss: 0.1465 - accuracy: 0.9646 - val_loss: 0.1131 - val_accuracy: 0.9729\n",
      "Epoch 7/20\n",
      "313/313 [==============================] - 22s 71ms/step - loss: 0.1548 - accuracy: 0.9651 - val_loss: 0.0769 - val_accuracy: 0.9838\n",
      "Epoch 8/20\n",
      "313/313 [==============================] - 23s 73ms/step - loss: 0.0545 - accuracy: 0.9893 - val_loss: 0.0437 - val_accuracy: 0.9912\n",
      "Epoch 9/20\n",
      "313/313 [==============================] - 27s 86ms/step - loss: 0.0319 - accuracy: 0.9947 - val_loss: 0.0273 - val_accuracy: 0.9948\n",
      "Epoch 10/20\n",
      "313/313 [==============================] - 23s 75ms/step - loss: 0.0199 - accuracy: 0.9971 - val_loss: 0.0164 - val_accuracy: 0.9974\n",
      "Epoch 11/20\n",
      "313/313 [==============================] - 23s 74ms/step - loss: 0.0132 - accuracy: 0.9983 - val_loss: 0.0130 - val_accuracy: 0.9980\n",
      "Epoch 12/20\n",
      "313/313 [==============================] - 28s 90ms/step - loss: 0.0080 - accuracy: 0.9991 - val_loss: 0.0074 - val_accuracy: 0.9992\n",
      "Epoch 13/20\n",
      "313/313 [==============================] - 24s 77ms/step - loss: 0.0054 - accuracy: 0.9994 - val_loss: 0.0054 - val_accuracy: 0.9994\n",
      "Epoch 14/20\n",
      "313/313 [==============================] - 27s 87ms/step - loss: 0.0044 - accuracy: 0.9995 - val_loss: 0.0042 - val_accuracy: 0.9998\n",
      "Epoch 15/20\n",
      "313/313 [==============================] - 24s 76ms/step - loss: 0.0028 - accuracy: 0.9998 - val_loss: 0.0032 - val_accuracy: 0.9997\n",
      "Epoch 16/20\n",
      "313/313 [==============================] - 23s 74ms/step - loss: 0.0022 - accuracy: 0.9998 - val_loss: 0.0024 - val_accuracy: 0.9997\n",
      "Epoch 17/20\n",
      "313/313 [==============================] - 29s 92ms/step - loss: 0.0079 - accuracy: 0.9989 - val_loss: 2.3227 - val_accuracy: 0.5868\n",
      "Epoch 18/20\n",
      "313/313 [==============================] - 23s 75ms/step - loss: 0.1320 - accuracy: 0.9653 - val_loss: 0.0065 - val_accuracy: 0.9995\n",
      "Epoch 19/20\n",
      "313/313 [==============================] - 23s 73ms/step - loss: 0.0045 - accuracy: 0.9997 - val_loss: 0.0032 - val_accuracy: 0.9999\n",
      "Epoch 20/20\n",
      "313/313 [==============================] - 28s 91ms/step - loss: 0.0024 - accuracy: 0.9999 - val_loss: 0.0023 - val_accuracy: 0.9998\n"
     ]
    }
   ],
   "source": [
    "optimizer = keras.optimizers.Nadam()\n",
    "model.compile(loss=\"sparse_categorical_crossentropy\",\n",
    "              optimizer=optimizer,\n",
    "              metrics=[\"accuracy\"])\n",
    "history = model.fit([X_train, X_train_decoder],\n",
    "                    y_train,\n",
    "                    epochs=n_epochs,\n",
    "                    validation_data=([X_val, X_val_decoder], y_val),\n",
    "                    callbacks=[sampling_probability_cb])"
   ]
  },
  {
   "cell_type": "code",
   "execution_count": 72,
   "id": "ad90df3d",
   "metadata": {
    "execution": {
     "iopub.execute_input": "2022-05-19T13:18:59.885283Z",
     "iopub.status.busy": "2022-05-19T13:18:59.884915Z",
     "iopub.status.idle": "2022-05-19T13:19:00.483303Z",
     "shell.execute_reply": "2022-05-19T13:19:00.482135Z"
    },
    "papermill": {
     "duration": 5.267588,
     "end_time": "2022-05-19T13:19:00.486895",
     "exception": false,
     "start_time": "2022-05-19T13:18:55.219307",
     "status": "completed"
    },
    "tags": []
   },
   "outputs": [
    {
     "data": {
      "image/png": "[encoded data removed]",
      "text/plain": [
       "<Figure size 432x288 with 1 Axes>"
      ]
     },
     "metadata": {
      "needs_background": "light"
     },
     "output_type": "display_data"
    }
   ],
   "source": [
    "plt.plot(history.epoch, [min(1.0, epoch/(n_epochs-10)) for epoch in history.epoch], \"o-\")\n",
    "plt.axis([0, n_epochs - 1, 0, 1.1])\n",
    "plt.xlabel(\"迭代次数\", font_properties=my_font)\n",
    "plt.ylabel(\"sampling_probability\", font_properties=my_font)\n",
    "plt.grid(True)\n",
    "plt.show()"
   ]
  },
  {
   "cell_type": "markdown",
   "id": "83ebcecd",
   "metadata": {
    "papermill": {
     "duration": 4.723888,
     "end_time": "2022-05-19T13:19:11.344212",
     "exception": false,
     "start_time": "2022-05-19T13:19:06.620324",
     "status": "completed"
    },
    "tags": []
   },
   "source": [
    "#### SampleEmbeddingSampler采样器"
   ]
  },
  {
   "cell_type": "markdown",
   "id": "19efeea7",
   "metadata": {
    "papermill": {
     "duration": 4.722073,
     "end_time": "2022-05-19T13:19:21.104932",
     "exception": false,
     "start_time": "2022-05-19T13:19:16.382859",
     "status": "completed"
    },
    "tags": []
   },
   "source": [
    "   对于推理，我们可以使用` GreedyEmbeddingSampler采样器`做与之前完全相同的事情。但是，为了完整起见，让我们改用 `SampleEmbeddingSampler采样器`。\n",
    "    \n",
    "   这几乎是一样的，只是它不是使用模型输出的 `argmax` 来查找令牌 ID，而是**将输出视为 `logits`，并使用随机采样的令牌 ID**。\n",
    "    \n",
    "   参数`softmax_temperature`: 参数值越高, 生成的文本越随机. 在计算 `softmax` 之前除以 `logits` 的值。较大的值（高于 1.0）会产生更多的随机样本，而较小的值会将采样分布推向 `argmax`。必须严格大于 0。默认为 1.0。"
   ]
  },
  {
   "cell_type": "code",
   "execution_count": 73,
   "id": "bb009909",
   "metadata": {
    "execution": {
     "iopub.execute_input": "2022-05-19T13:19:30.926907Z",
     "iopub.status.busy": "2022-05-19T13:19:30.926567Z",
     "iopub.status.idle": "2022-05-19T13:19:31.456099Z",
     "shell.execute_reply": "2022-05-19T13:19:31.454872Z"
    },
    "papermill": {
     "duration": 5.256207,
     "end_time": "2022-05-19T13:19:31.460442",
     "exception": false,
     "start_time": "2022-05-19T13:19:26.204235",
     "status": "completed"
    },
    "tags": []
   },
   "outputs": [],
   "source": [
    "max_output_length = y_train.shape[1]  # 10\n",
    "softmax_temperature = tf.Variable(1.)\n",
    "\n",
    "# 解码器\n",
    "inference_sampler = tfa.seq2seq.SampleEmbeddingSampler(\n",
    "    embedding_fn=decoder_embedding_layer,\n",
    "    softmax_temperature=softmax_temperature)\n",
    "\n",
    "inference_decoder = tfa.seq2seq.basic_decoder.BasicDecoder(\n",
    "    cell=decoder_cell,\n",
    "    sampler=inference_sampler,\n",
    "    output_layer=output_layer,\n",
    "    maximum_iterations=max_output_length\n",
    ")"
   ]
  },
  {
   "cell_type": "code",
   "execution_count": 74,
   "id": "97e6946c",
   "metadata": {
    "execution": {
     "iopub.execute_input": "2022-05-19T13:19:41.942491Z",
     "iopub.status.busy": "2022-05-19T13:19:41.942019Z",
     "iopub.status.idle": "2022-05-19T13:19:42.278408Z",
     "shell.execute_reply": "2022-05-19T13:19:42.277398Z"
    },
    "papermill": {
     "duration": 5.05951,
     "end_time": "2022-05-19T13:19:42.280924",
     "exception": false,
     "start_time": "2022-05-19T13:19:37.221414",
     "status": "completed"
    },
    "tags": []
   },
   "outputs": [],
   "source": [
    "batch_size = tf.shape(encoder_inputs)[:1]\n",
    "start_tokens = tf.fill(dims=batch_size, value=sos_id)\n",
    "\n",
    "final_outputs, final_state, final_sequence_lengths = inference_decoder(\n",
    "    start_tokens,\n",
    "    initial_state=encoder_state,\n",
    "    start_tokens=start_tokens,\n",
    "    end_token=0,\n",
    ")\n",
    "\n",
    "inference_model = keras.models.Model(inputs=[encoder_inputs],\n",
    "                                     outputs=[final_outputs.sample_id])"
   ]
  },
  {
   "cell_type": "code",
   "execution_count": 75,
   "id": "ba4adf2b",
   "metadata": {
    "execution": {
     "iopub.execute_input": "2022-05-19T13:19:52.328733Z",
     "iopub.status.busy": "2022-05-19T13:19:52.328459Z",
     "iopub.status.idle": "2022-05-19T13:19:52.334538Z",
     "shell.execute_reply": "2022-05-19T13:19:52.333296Z"
    },
    "papermill": {
     "duration": 4.730871,
     "end_time": "2022-05-19T13:19:52.337461",
     "exception": false,
     "start_time": "2022-05-19T13:19:47.606590",
     "status": "completed"
    },
    "tags": []
   },
   "outputs": [],
   "source": [
    "def creative_predict_date_strs(date_strs, temperature=1.0):\n",
    "    softmax_temperature.assign(temperature)\n",
    "    X = prepare_date_strs_padded(date_strs)\n",
    "    y_pred_ids = inference_model.predict(X)\n",
    "    y_pred_str = ids_to_date_strs(y_pred_ids, output_chars)\n",
    "    return y_pred_str"
   ]
  },
  {
   "cell_type": "code",
   "execution_count": 76,
   "id": "7a58a83e",
   "metadata": {
    "execution": {
     "iopub.execute_input": "2022-05-19T13:20:02.182886Z",
     "iopub.status.busy": "2022-05-19T13:20:02.182589Z",
     "iopub.status.idle": "2022-05-19T13:20:02.936896Z",
     "shell.execute_reply": "2022-05-19T13:20:02.935604Z"
    },
    "papermill": {
     "duration": 5.525816,
     "end_time": "2022-05-19T13:20:02.939601",
     "exception": false,
     "start_time": "2022-05-19T13:19:57.413785",
     "status": "completed"
    },
    "tags": []
   },
   "outputs": [
    {
     "data": {
      "text/plain": [
       "['1789-07-14', '2022-05-19']"
      ]
     },
     "execution_count": 76,
     "metadata": {},
     "output_type": "execute_result"
    }
   ],
   "source": [
    "creative_predict_date_strs([\"July 14, 1789\", \"May 19, 2022\"])"
   ]
  },
  {
   "cell_type": "code",
   "execution_count": 77,
   "id": "316c0bea",
   "metadata": {
    "execution": {
     "iopub.execute_input": "2022-05-19T13:20:13.425497Z",
     "iopub.status.busy": "2022-05-19T13:20:13.425122Z",
     "iopub.status.idle": "2022-05-19T13:20:13.494798Z",
     "shell.execute_reply": "2022-05-19T13:20:13.493984Z"
    },
    "papermill": {
     "duration": 4.788316,
     "end_time": "2022-05-19T13:20:13.497216",
     "exception": false,
     "start_time": "2022-05-19T13:20:08.708900",
     "status": "completed"
    },
    "tags": []
   },
   "outputs": [
    {
     "data": {
      "text/plain": [
       "['8189-42-28', '8002-06-11']"
      ]
     },
     "execution_count": 77,
     "metadata": {},
     "output_type": "execute_result"
    }
   ],
   "source": [
    "creative_predict_date_strs([\"July 14, 1789\", \"May 19, 2022\"],\n",
    "                           temperature=5.)"
   ]
  },
  {
   "cell_type": "markdown",
   "id": "373e0b0d",
   "metadata": {
    "papermill": {
     "duration": 4.987417,
     "end_time": "2022-05-19T13:20:23.181823",
     "exception": false,
     "start_time": "2022-05-19T13:20:18.194406",
     "status": "completed"
    },
    "tags": []
   },
   "source": [
    "## 双向RNN Bidirectional RNNs"
   ]
  },
  {
   "cell_type": "markdown",
   "id": "22db5903",
   "metadata": {
    "papermill": {
     "duration": 5.038791,
     "end_time": "2022-05-19T13:20:32.951096",
     "exception": false,
     "start_time": "2022-05-19T13:20:27.912305",
     "status": "completed"
    },
    "tags": []
   },
   "source": [
    "在有些任务中，一个时刻的输出不但和过去时刻的信息有关，**也和后续时刻的信息有关**。比如给定一个句子，其中一个词的词性由它的上下文决定，即包含左右两边的信息。因此，在这些任务中，我们可以**增加一个按照时间的逆序来传递信息的网络层，来增强网络的能力.**\n",
    "\n",
    "`双向循环神经网络Bi-RNN`由两层循环神经网络组成，它们的输入相同，只是信息传递的方向不同.\n",
    "   <img src=\"../images/other/16-7.png\" width=\"400\">"
   ]
  },
  {
   "cell_type": "markdown",
   "id": "83a612cc",
   "metadata": {
    "papermill": {
     "duration": 5.733591,
     "end_time": "2022-05-19T13:20:43.459657",
     "exception": false,
     "start_time": "2022-05-19T13:20:37.726066",
     "status": "completed"
    },
    "tags": []
   },
   "source": [
    "- 使用`keras`的`Bidirectional`层实现`双向RNN`\n",
    "\n",
    "    详情:https://www.tensorflow.org/api_docs/python/tf/keras/layers/Bidirectional\n",
    "\n",
    "    - 参数`layer`: 它需要一个循环层（第一个 LSTM 层）作为参数\n",
    "    - 参数`merge_mode`: 指定合并模式，该模式描述了在传递到下一层之前应该如何合并前向和后向输出。选项包括：\n",
    "        - `sum`：结果相加\n",
    "        - `mul`：结果相乘\n",
    "        - `concat`（默认值）：将结果连接在一起，为下一层提供双倍的输出数量。\n",
    "        - `ave`：取结果的平均值。\n",
    "\n",
    "    - `Bidirectional`层会创建循环层(如`GRU`)的副本,但方向相反, 它将运行2个并合并它们的输出.因此尽管`GRU`层有10个单元, 但是`Bidirectional`层会在每个时间步长返回20个值."
   ]
  },
  {
   "cell_type": "code",
   "execution_count": 78,
   "id": "e9de0243",
   "metadata": {
    "execution": {
     "iopub.execute_input": "2022-05-19T13:20:53.209440Z",
     "iopub.status.busy": "2022-05-19T13:20:53.208777Z",
     "iopub.status.idle": "2022-05-19T13:20:53.893628Z",
     "shell.execute_reply": "2022-05-19T13:20:53.891634Z"
    },
    "papermill": {
     "duration": 5.717531,
     "end_time": "2022-05-19T13:20:53.896409",
     "exception": false,
     "start_time": "2022-05-19T13:20:48.178878",
     "status": "completed"
    },
    "tags": []
   },
   "outputs": [
    {
     "name": "stdout",
     "output_type": "stream",
     "text": [
      "Model: \"sequential\"\n",
      "_________________________________________________________________\n",
      "Layer (type)                 Output Shape              Param #   \n",
      "=================================================================\n",
      "gru (GRU)                    (None, None, 10)          660       \n",
      "_________________________________________________________________\n",
      "bidirectional (Bidirectional (None, None, 20)          1320      \n",
      "=================================================================\n",
      "Total params: 1,980\n",
      "Trainable params: 1,980\n",
      "Non-trainable params: 0\n",
      "_________________________________________________________________\n"
     ]
    }
   ],
   "source": [
    "model = keras.models.Sequential([\n",
    "    keras.layers.GRU(10, return_sequences=True, input_shape=[None, 10]),\n",
    "    keras.layers.Bidirectional(keras.layers.GRU(10, return_sequences=True))\n",
    "])\n",
    "model.summary()"
   ]
  },
  {
   "cell_type": "markdown",
   "id": "8c74120e",
   "metadata": {
    "papermill": {
     "duration": 5.368201,
     "end_time": "2022-05-19T13:21:04.039425",
     "exception": false,
     "start_time": "2022-05-19T13:20:58.671224",
     "status": "completed"
    },
    "tags": []
   },
   "source": [
    "### Bi-LSTM"
   ]
  },
  {
   "cell_type": "markdown",
   "id": "82daef25",
   "metadata": {
    "papermill": {
     "duration": 4.982733,
     "end_time": "2022-05-19T13:21:13.818066",
     "exception": false,
     "start_time": "2022-05-19T13:21:08.835333",
     "status": "completed"
    },
    "tags": []
   },
   "source": [
    "`双向 LSTM` 或 `Bi-LSTM` 是一种序列处理模型，由两个 `LSTM` 组成：一个在正向输入，另一个在反向输入。 `Bi-LSTM` 有效地增加了网络可用的信息量，改善了算法可用的上下文."
   ]
  },
  {
   "cell_type": "code",
   "execution_count": 79,
   "id": "b837457a",
   "metadata": {
    "execution": {
     "iopub.execute_input": "2022-05-19T13:21:23.926346Z",
     "iopub.status.busy": "2022-05-19T13:21:23.925945Z",
     "iopub.status.idle": "2022-05-19T13:21:24.693977Z",
     "shell.execute_reply": "2022-05-19T13:21:24.693013Z"
    },
    "papermill": {
     "duration": 5.466968,
     "end_time": "2022-05-19T13:21:24.697054",
     "exception": false,
     "start_time": "2022-05-19T13:21:19.230086",
     "status": "completed"
    },
    "tags": []
   },
   "outputs": [
    {
     "name": "stdout",
     "output_type": "stream",
     "text": [
      "Model: \"sequential\"\n",
      "_________________________________________________________________\n",
      "Layer (type)                 Output Shape              Param #   \n",
      "=================================================================\n",
      "embed-layer (Embedding)      (None, None, 20)          1740140   \n",
      "_________________________________________________________________\n",
      "bidir-lstm (Bidirectional)   (None, 128)               43520     \n",
      "_________________________________________________________________\n",
      "dense (Dense)                (None, 64)                8256      \n",
      "_________________________________________________________________\n",
      "dense_1 (Dense)              (None, 1)                 65        \n",
      "=================================================================\n",
      "Total params: 1,791,981\n",
      "Trainable params: 1,791,981\n",
      "Non-trainable params: 0\n",
      "_________________________________________________________________\n"
     ]
    }
   ],
   "source": [
    "embedding_dim = 20\n",
    "vocab_size = 87007\n",
    "\n",
    "initialization(42)\n",
    "\n",
    "bi_lstm_model = tf.keras.Sequential([\n",
    "    tf.keras.layers.Embedding(\n",
    "        input_dim=vocab_size, output_dim=embedding_dim, name='embed-layer'\n",
    "    ),  # Output Shape ==> (None_batch_size, None_each_input_length, output_dim=20)\n",
    "    tf.keras.layers.Bidirectional(\n",
    "        tf.keras.layers.LSTM(64, name='lstm-layer'),\n",
    "        name='bidir-lstm',  # 默认的merge_mode='concat' ==> (64)==>(128) \n",
    "    ),  # Output Shape ==> (None_batch_size, output_dim=128) \n",
    "    tf.keras.layers.Dense(64, activation='relu'),\n",
    "    tf.keras.layers.Dense(1, activation='sigmoid')\n",
    "])\n",
    "\n",
    "bi_lstm_model.summary()"
   ]
  },
  {
   "cell_type": "markdown",
   "id": "fa71469b",
   "metadata": {
    "papermill": {
     "duration": 4.740604,
     "end_time": "2022-05-19T13:21:34.242866",
     "exception": false,
     "start_time": "2022-05-19T13:21:29.502262",
     "status": "completed"
    },
    "tags": []
   },
   "source": [
    "## 束搜索 Beam Search"
   ]
  },
  {
   "cell_type": "markdown",
   "id": "23967ffd",
   "metadata": {
    "papermill": {
     "duration": 4.732976,
     "end_time": "2022-05-19T13:21:44.116433",
     "exception": false,
     "start_time": "2022-05-19T13:21:39.383457",
     "status": "completed"
    },
    "tags": []
   },
   "source": [
    "### 贪心搜索和穷举搜索 Greedy Search and Exhaustive Search"
   ]
  },
  {
   "cell_type": "markdown",
   "id": "4ffe913d",
   "metadata": {
    "papermill": {
     "duration": 5.398126,
     "end_time": "2022-05-19T13:21:54.563688",
     "exception": false,
     "start_time": "2022-05-19T13:21:49.165562",
     "status": "completed"
    },
    "tags": []
   },
   "source": [
    "- **贪心搜索**\n",
    "    \n",
    "    对输出序列的每一时间步$t'$, 基于`贪心搜索`找到具有**最高条件概率的词元**:\n",
    "    $$\\hat{x}_{t}=\\underset{x \\in \\mathcal{V}}{\\arg \\max } p_{\\theta}\\left(x \\mid \\hat{\\boldsymbol{x}}_{1:(t-1)}\\right)$$\n",
    "    一旦输出序列包含了`<eos>`或者达到其最大长度，则输出完成。\n",
    "   <img src=\"../images/other/16-8.svg\" width=\"200\">\n",
    "   \n",
    "    这种贪婪式的搜索方式是次优的, 生成的序列 $\\hat{x}_{1: T}$ 并不保证是全局最优的.\n",
    "$$\n",
    "\\prod_{t=1}^{T} \\max _{x_{t} \\in V} p_{\\theta}\\left(x_{t} \\mid \\hat{x}_{1:(t-1)}\\right) \\leq \\max _{x_{1: T} \\in V^{r}} \\prod_{t=1}^{T} p_{\\theta}\\left(x \\mid \\boldsymbol{x}_{1:(t-1)}\\right) .\n",
    "$$\n",
    "    <img src=\"../images/other/16-9.svg\" width=\"200\">"
   ]
  },
  {
   "cell_type": "markdown",
   "id": "b4048b18",
   "metadata": {
    "papermill": {
     "duration": 4.748042,
     "end_time": "2022-05-19T13:22:04.359309",
     "exception": false,
     "start_time": "2022-05-19T13:21:59.611267",
     "status": "completed"
    },
    "tags": []
   },
   "source": [
    "- **穷举搜索**\n",
    "    \n",
    "    穷举搜索是穷举地列举**所有可能的输出序列及其条件概率**， 然后计算输出条件概率最高的一个。穷举搜索所选取序列的精度最高，但计算量最大。"
   ]
  },
  {
   "cell_type": "markdown",
   "id": "4b077416",
   "metadata": {
    "papermill": {
     "duration": 4.766775,
     "end_time": "2022-05-19T13:22:14.213456",
     "exception": false,
     "start_time": "2022-05-19T13:22:09.446681",
     "status": "completed"
    },
    "tags": []
   },
   "source": [
    "### 束搜索 beam search"
   ]
  },
  {
   "cell_type": "markdown",
   "id": "e3ba93be",
   "metadata": {
    "papermill": {
     "duration": 4.961593,
     "end_time": "2022-05-19T13:22:23.924171",
     "exception": false,
     "start_time": "2022-05-19T13:22:18.962578",
     "status": "completed"
    },
    "tags": []
   },
   "source": [
    "一种常用的减少搜索错误的启发式方法是`束搜索`:**在每一步中，生成$K$个最可能的前缀序列**，其中$K$为束的大小`Beam Size`.\n",
    "<img src=\"../images/other/16-10.png\" width=\"300\">"
   ]
  },
  {
   "cell_type": "markdown",
   "id": "f41546a3",
   "metadata": {
    "papermill": {
     "duration": 5.432908,
     "end_time": "2022-05-19T13:22:34.820950",
     "exception": false,
     "start_time": "2022-05-19T13:22:29.388042",
     "status": "completed"
    },
    "tags": []
   },
   "source": [
    "束搜索的过程如下：在第1步时，生成$K$个最可能的词：在后面每一步中，从$K|v|$个候选输出中选择$K$个最可能的序列。\n",
    "\n",
    "束的大小$K$越大，束搜索的复杂度越高，但越有可能生成最优序列，在实际应用中，束搜索可以通过调整束大小$K$来平衡计算复杂度和搜索质量之间的优先级。\n",
    "\n",
    "束搜索通过灵活选择束宽，在正确率和计算代价之间进行权衡。"
   ]
  },
  {
   "cell_type": "markdown",
   "id": "ec7328cf",
   "metadata": {
    "papermill": {
     "duration": 5.0849,
     "end_time": "2022-05-19T13:22:44.682478",
     "exception": false,
     "start_time": "2022-05-19T13:22:39.597578",
     "status": "completed"
    },
    "tags": []
   },
   "source": [
    "- 使用`TensorFlow-Addons`实现束搜索:\n",
    "    - 首先创建一个`BeamSearchDecoder`,将所有解码器的副本包装起来\n",
    "    - 为每个解码器副本创建一个解码器的最终状态副本, 并将这些状态连同开始令牌和结束令牌一起传递给解码器。"
   ]
  },
  {
   "cell_type": "code",
   "execution_count": 80,
   "id": "d08b22d3",
   "metadata": {
    "execution": {
     "iopub.execute_input": "2022-05-19T13:22:54.490928Z",
     "iopub.status.busy": "2022-05-19T13:22:54.490614Z",
     "iopub.status.idle": "2022-05-19T13:22:54.599680Z",
     "shell.execute_reply": "2022-05-19T13:22:54.598665Z"
    },
    "papermill": {
     "duration": 5.166984,
     "end_time": "2022-05-19T13:22:54.602067",
     "exception": false,
     "start_time": "2022-05-19T13:22:49.435083",
     "status": "completed"
    },
    "tags": []
   },
   "outputs": [],
   "source": [
    "beam_width = 10\n",
    "\n",
    "# 解码器\n",
    "BeamSearch_decoder = tfa.seq2seq.beam_search_decoder.BeamSearchDecoder(\n",
    "    cell=decoder_cell, beam_width=beam_width, output_layer=output_layer)\n",
    "\n",
    "# tile_batch: 对tensor复制\n",
    "decoder_init_state = tfa.seq2seq.beam_search_decoder.tile_batch(\n",
    "    encoder_state, multiplier=beam_width)"
   ]
  },
  {
   "cell_type": "code",
   "execution_count": 81,
   "id": "093710c2",
   "metadata": {
    "execution": {
     "iopub.execute_input": "2022-05-19T13:23:04.987617Z",
     "iopub.status.busy": "2022-05-19T13:23:04.987227Z",
     "iopub.status.idle": "2022-05-19T13:23:04.991730Z",
     "shell.execute_reply": "2022-05-19T13:23:04.990836Z"
    },
    "papermill": {
     "duration": 5.042807,
     "end_time": "2022-05-19T13:23:04.993915",
     "exception": false,
     "start_time": "2022-05-19T13:22:59.951108",
     "status": "completed"
    },
    "tags": []
   },
   "outputs": [],
   "source": [
    "# outputs, _, _ = BeamSearch_decoder(encoder_embeddings,\n",
    "#                                    start_tokens=start_tokens,\n",
    "#                                    end_token=0,\n",
    "#                                    initial_state=decoder_init_state)"
   ]
  },
  {
   "cell_type": "markdown",
   "id": "f9e0f9cb",
   "metadata": {
    "papermill": {
     "duration": 4.995308,
     "end_time": "2022-05-19T13:23:14.749093",
     "exception": false,
     "start_time": "2022-05-19T13:23:09.753785",
     "status": "completed"
    },
    "tags": []
   },
   "source": [
    "> Apotosome 05/01/22"
   ]
  },
  {
   "cell_type": "markdown",
   "id": "1127630f",
   "metadata": {
    "papermill": {
     "duration": 4.640487,
     "end_time": "2022-05-19T13:23:24.150934",
     "exception": false,
     "start_time": "2022-05-19T13:23:19.510447",
     "status": "completed"
    },
    "tags": []
   },
   "source": [
    "# 注意力机制 Attention Mechanisms"
   ]
  },
  {
   "cell_type": "markdown",
   "id": "7cbf0d73",
   "metadata": {
    "papermill": {
     "duration": 5.393205,
     "end_time": "2022-05-19T13:23:34.587396",
     "exception": false,
     "start_time": "2022-05-19T13:23:29.194191",
     "status": "completed"
    },
    "tags": []
   },
   "source": [
    "## 笔记"
   ]
  },
  {
   "cell_type": "markdown",
   "id": "928d767a",
   "metadata": {
    "papermill": {
     "duration": 4.672438,
     "end_time": "2022-05-19T13:23:44.277662",
     "exception": false,
     "start_time": "2022-05-19T13:23:39.605224",
     "status": "completed"
    },
    "tags": []
   },
   "source": [
    "<img src=\"../images/other/16-12.jpg\">\n",
    "<img src=\"../images/other/16-13.jpg\">\n",
    "<img src=\"../images/other/16-14.jpg\">\n",
    "<img src=\"../images/other/16-15.jpg\">\n",
    "<img src=\"../images/other/16-16.jpg\">\n",
    "<img src=\"../images/other/16-17.jpg\">"
   ]
  },
  {
   "cell_type": "markdown",
   "id": "08a84fd8",
   "metadata": {
    "papermill": {
     "duration": 4.64212,
     "end_time": "2022-05-19T13:23:53.973448",
     "exception": false,
     "start_time": "2022-05-19T13:23:49.331328",
     "status": "completed"
    },
    "tags": []
   },
   "source": [
    "---\n",
    "- **基于注意力的序列到序列模型**\n",
    "    <img src=\"../images/other/16-19.png\" width=\"400\">\n",
    "\n",
    "    在基本的`Encoder-Decoder`模型中，注意力机制在`Encoder`和`Decoder`加入了上下文向量`context vector`，如上图所示，左边蓝色的代表`Encoder`，红色的代表`Decoder`。\n",
    "\n",
    "    对于`Decoder`中每个要生成的$y$，都会生成一个上下文向量。这个上下文向量是由每个输入的`words`的信息加权求和得到的，其中权重向量就是**注意力向量**，它代表在此刻生成$y$时输入的单词的重要程度。最后将上下文向量和此刻的$y$的信息进行融合作为输出。\n",
    "\n",
    "    构建上下文向量过程也很简单，首先对于一个固定的`target word`，我们把这个`target state`跟所有的`Encoder`的`state`进行比较，这样对每个`state`得到了一个`score`;然后使用`softmax`对这些`score`进行归一化，这样就得到了基于`target state`的条件概率分布。最后，对`source`的`state`进行加权求和，得到上下文向量，将上下文向量与`target state`融合作为最终的输出。"
   ]
  },
  {
   "cell_type": "markdown",
   "id": "ce35b6b3",
   "metadata": {
    "papermill": {
     "duration": 4.699089,
     "end_time": "2022-05-19T13:24:03.676253",
     "exception": false,
     "start_time": "2022-05-19T13:23:58.977164",
     "status": "completed"
    },
    "tags": []
   },
   "source": [
    "> $\\begin{array}{rlr}\\alpha_{t s} & =\\frac{\\exp \\left(\\operatorname{score}\\left(\\boldsymbol{h}_{t}, \\overline{\\boldsymbol{h}}_{s}\\right)\\right)}{\\sum_{s^{\\prime}=1}^{S} \\exp \\left(\\operatorname{score}\\left(\\boldsymbol{h}_{t}, \\overline{\\boldsymbol{h}}_{s^{\\prime}}\\right)\\right)} & \\text { [Attention weights] (1)} \n",
    "\\\\ \\boldsymbol{c}_{t} & =\\sum_{s} \\alpha_{t s} \\overline{\\boldsymbol{h}}_{s} & \\text { [Context vector] (2)} \n",
    "\\\\ \\boldsymbol{a}_{t} & =f\\left(\\boldsymbol{c}_{t}, \\boldsymbol{h}_{t}\\right)=\\tanh \\left(\\boldsymbol{W}_{c}\\left[\\boldsymbol{c}_{t} ; \\boldsymbol{h}_{t}\\right]\\right) & \\text { [Attention vector] (3)}\\end{array}$"
   ]
  },
  {
   "cell_type": "markdown",
   "id": "f5dd9a24",
   "metadata": {
    "papermill": {
     "duration": 4.933076,
     "end_time": "2022-05-19T13:24:14.083950",
     "exception": false,
     "start_time": "2022-05-19T13:24:09.150874",
     "status": "completed"
    },
    "tags": []
   },
   "source": [
    "- **`Bahdanau` 和 `Luong` 两种 `Attention` 机制**\n",
    "<img src=\"../images/other/16-18.jpg\" >"
   ]
  },
  {
   "cell_type": "markdown",
   "id": "cae78ced",
   "metadata": {
    "papermill": {
     "duration": 5.461534,
     "end_time": "2022-05-19T13:24:24.281313",
     "exception": false,
     "start_time": "2022-05-19T13:24:18.819779",
     "status": "completed"
    },
    "tags": []
   },
   "source": [
    "1. 注意力的计算方式不同\n",
    "\n",
    "    - 在 `Luong Attention` 机制中，第 $t$ 步的注意力 $c_t$ 是由 `decoder` 第 $t$ 步的 `hidden state` $h_t$ 与 `encoder` 中的每一个 `hidden state` $\\overline{\\boldsymbol{h}}_{s}$ 加权计算得出的。\n",
    "    - 在 `Bahdanau Attention` 机制中，第 $t$ 步的注意力 $c_t$ 是由 `decoder` 第 $t-1$ 步的 `hidden state` $h_{t-1}$  与 `encoder` 中的每一个 `hidden state`$\\overline{\\boldsymbol{h}}_{s}$ 加权计算得出的。\n",
    "    \n",
    "2. `decoder` 的输入输出不同\n",
    "    - 在 `Bahdanau Attention` 机制中，`decoder` 在第 $t$ 步时，输入是由$c_t$与 $h_{t-1}$ **拼接**得出的，得到 $h_t$  并直接输出 $\\hat y_{t+1}$ 。\n",
    "    - 在 `Luong Attention` 机制在 `decoder` 部分**建立了一层额外的网络结构**，以注意力 $c_t$与原 `decoder` 第 t 步的 `hidden state` $h_t$**拼接**作为输入，得到第 t 步的 `hidden state` $\\tilde{\\mathbf{h}}_{t}$ 并输出 $\\hat{\\mathbf{y}}_{t}$ 。\n",
    "    <img src=\"../images/other/16-20.png\" width=\"300\">\n",
    "    \n",
    "   总结一下, `Bahdanau Attention` 机制的计算流程为 $\\mathbf{h}_{t-1} \\rightarrow \\mathbf{a}_{t} \\rightarrow \\mathbf{c}_{t} \\rightarrow \\mathbf{h}_{t}$, 而 `Luong attention` 机制的计算流程为 $\\mathbf{h}_{t} \\rightarrow \\mathbf{a}_{t} \\rightarrow \\mathbf{c}_{t} \\rightarrow \\tilde{\\mathbf{h}}_{t}$ 。\n",
    "    \n",
    "   相较而言, `Luong attention` 机制中的 `decoder` 在每一步使用当前步 (而非前一步) 的 `hidden state` 来计算注意力, 从逻辑上更自然, 但需要使用一层额外的 `RNN decoder` 来计算输出。\n",
    "    \n",
    "   此外, `Bahdanau Attention` 机制的论文中只尝试了使用 `concat` 作为对齐函数, 而 `Luong Attention` 机制 的论文在多种对齐函数上做了实验。\n",
    "\n",
    "\n",
    "   - 根据计算区域的大小, 可以将对齐函数分为`全局注意力Global Attention `和`局部注意力Local Attention`两种机制。\n",
    "       - 全局注意力模式会将 `encoder` 的每一步 `hidden state` 进行注意力计算\n",
    "       - 局部注意力模式则计算部分范围的 `hidden state`。\n",
    "\n",
    "   - 根据所用信息, 可以分为`基于内容的对齐`和`基于位置的对齐`。\n",
    "       - 基于内容的对齐同时考虑了 `encoder` 的 `hidden state` $\\overline{\\mathbf{h}}_{s}$ 和当前步 `decoder` 的 `hidden state` $\\mathbf{h}_{t}$\n",
    "       - 基于位置的对齐只考虑当前步 `decoder` 的 `hidden state` $\\mathbf{h}_{t}$ 。"
   ]
  },
  {
   "cell_type": "markdown",
   "id": "690339df",
   "metadata": {
    "papermill": {
     "duration": 4.980472,
     "end_time": "2022-05-19T13:24:33.942236",
     "exception": false,
     "start_time": "2022-05-19T13:24:28.961764",
     "status": "completed"
    },
    "tags": []
   },
   "source": [
    "> $\\begin{aligned} \\tilde{{h}}_{(t)} &=\\sum_{i} \\alpha_{(t, i)} {y}_{(i)} \\\\ \\text { with } \\alpha_{(t, i)} &=\\frac{\\exp \\left(e_{(t, i)}\\right)}{\\sum_{i^{\\prime}} \\exp \\left(e_{\\left(t, i^{\\prime}\\right)}\\right)} \\\\ \\text { and } e_{(t, i)} &= \\begin{cases}{h}_{(t)^{\\top}} \\mathbf{y}_{(i)} & \\text { 点 } \\\\ {h}_{(t)^{\\top}} {W}_{(i)} & \\text { 普通 } \\\\ {v}^{\\top} \\tanh \\left({W}\\left[{h}_{(t)} ; {y}_{(i)}\\right]\\right) & \\text { 合并 }\\end{cases} \\end{aligned}$"
   ]
  },
  {
   "cell_type": "markdown",
   "id": "6b2ed373",
   "metadata": {
    "papermill": {
     "duration": 4.98553,
     "end_time": "2022-05-19T13:24:44.344587",
     "exception": false,
     "start_time": "2022-05-19T13:24:39.359057",
     "status": "completed"
    },
    "tags": []
   },
   "source": [
    "- 使用`tfa`将`Luong Attention`添加到编码器-解码器模型中\n",
    "\n",
    "    我们简单地将解码器单元包装在一个注意力包装器中，并提供所需的注意力机制."
   ]
  },
  {
   "cell_type": "code",
   "execution_count": 82,
   "id": "59d373e3",
   "metadata": {
    "execution": {
     "iopub.execute_input": "2022-05-19T13:24:53.973240Z",
     "iopub.status.busy": "2022-05-19T13:24:53.972773Z",
     "iopub.status.idle": "2022-05-19T13:24:53.977641Z",
     "shell.execute_reply": "2022-05-19T13:24:53.976680Z"
    },
    "papermill": {
     "duration": 4.929062,
     "end_time": "2022-05-19T13:24:53.979976",
     "exception": false,
     "start_time": "2022-05-19T13:24:49.050914",
     "status": "completed"
    },
    "tags": []
   },
   "outputs": [],
   "source": [
    "import tensorflow_addons as tfa"
   ]
  },
  {
   "cell_type": "code",
   "execution_count": 83,
   "id": "6c23e641",
   "metadata": {
    "execution": {
     "iopub.execute_input": "2022-05-19T13:25:03.369584Z",
     "iopub.status.busy": "2022-05-19T13:25:03.369206Z",
     "iopub.status.idle": "2022-05-19T13:25:03.373637Z",
     "shell.execute_reply": "2022-05-19T13:25:03.372638Z"
    },
    "papermill": {
     "duration": 4.71812,
     "end_time": "2022-05-19T13:25:03.375643",
     "exception": false,
     "start_time": "2022-05-19T13:24:58.657523",
     "status": "completed"
    },
    "tags": []
   },
   "outputs": [],
   "source": [
    "# attention_mechanism = tfa.seq2seq.attention_wrapper.LuongAttention(\n",
    "#     units, encoder_state, memory_sequence_length=encoder_sequence_length)\n",
    "# attention_decoder_cell = tfa.seq2seq.attention_wrapper.AttentionWrapper(\n",
    "#     decoder_cell, attention_mechanism, attention_layer_size=n_units)"
   ]
  },
  {
   "cell_type": "markdown",
   "id": "f52fab68",
   "metadata": {
    "papermill": {
     "duration": 5.321112,
     "end_time": "2022-05-19T13:25:13.696560",
     "exception": false,
     "start_time": "2022-05-19T13:25:08.375448",
     "status": "completed"
    },
    "tags": []
   },
   "source": [
    "## 编码器-解码器示例"
   ]
  },
  {
   "cell_type": "markdown",
   "id": "0d59e781",
   "metadata": {
    "papermill": {
     "duration": 4.690054,
     "end_time": "2022-05-19T13:25:23.403356",
     "exception": false,
     "start_time": "2022-05-19T13:25:18.713302",
     "status": "completed"
    },
    "tags": []
   },
   "source": [
    "> 训练可以将日期字符串从一种格式转换为另一种格式的编码器-解码器模型\n",
    ">\n",
    "> 例如:从`April 22, 2019` 转换为 `2019-04-22`."
   ]
  },
  {
   "cell_type": "markdown",
   "id": "8b734b66",
   "metadata": {
    "papermill": {
     "duration": 4.719209,
     "end_time": "2022-05-19T13:25:33.503899",
     "exception": false,
     "start_time": "2022-05-19T13:25:28.784690",
     "status": "completed"
    },
    "tags": []
   },
   "source": [
    "### V5: 使用 TF-Addons 的seq2seq , Keras 子类化 API 和注意力机制  Fifth version: using TFA seq2seq, the Keras subclassing API and attention mechanisms"
   ]
  },
  {
   "cell_type": "markdown",
   "id": "54bff4e8",
   "metadata": {
    "papermill": {
     "duration": 4.639733,
     "end_time": "2022-05-19T13:25:43.141907",
     "exception": false,
     "start_time": "2022-05-19T13:25:38.502174",
     "status": "completed"
    },
    "tags": []
   },
   "source": [
    "这个问题中的序列很短，但如果我们想处理更长的序列，我们可能不得不使用`注意力机制`。虽然可以自己编写代码实现，但使用 `TF - Addons` 的实现更简单、更高效。现在让我们这样做，这次使用 `Keras` 的`子类化 API`。"
   ]
  },
  {
   "cell_type": "markdown",
   "id": "6920f7cc",
   "metadata": {
    "papermill": {
     "duration": 4.632658,
     "end_time": "2022-05-19T13:25:53.456469",
     "exception": false,
     "start_time": "2022-05-19T13:25:48.823811",
     "status": "completed"
    },
    "tags": []
   },
   "source": [
    "警告：由于 `TensorFlow` 错误，`get_initial_state()`在`eager model`下失败，所以现在我们有使用`子类化 API`，因为 `Keras` 在 `call()` 方法上自动调用 `tf.function()` 。"
   ]
  },
  {
   "cell_type": "markdown",
   "id": "62277579",
   "metadata": {
    "papermill": {
     "duration": 4.985244,
     "end_time": "2022-05-19T13:26:03.093054",
     "exception": false,
     "start_time": "2022-05-19T13:25:58.107810",
     "status": "completed"
    },
    "tags": []
   },
   "source": [
    "1. 在此实现中，为简单起见，我们已恢复使用`TrainingSampler采样器`（但您可以轻松地对其进行调整以使用` ScheduledEmbeddingTrainingSampler采样器`）。我们还在推理过程中使用了`GreedyEmbeddingSampler采样器`，所以这个类非常容易使用.\n",
    "\n",
    "    seq2seq之TensorFlow源码解析: https://zhuanlan.zhihu.com/p/52608602    "
   ]
  },
  {
   "cell_type": "code",
   "execution_count": 84,
   "id": "4c6178b6",
   "metadata": {
    "execution": {
     "iopub.execute_input": "2022-05-19T13:26:12.767593Z",
     "iopub.status.busy": "2022-05-19T13:26:12.767259Z",
     "iopub.status.idle": "2022-05-19T13:26:12.777061Z",
     "shell.execute_reply": "2022-05-19T13:26:12.776086Z"
    },
    "papermill": {
     "duration": 5.016798,
     "end_time": "2022-05-19T13:26:12.779587",
     "exception": false,
     "start_time": "2022-05-19T13:26:07.762789",
     "status": "completed"
    },
    "tags": []
   },
   "outputs": [],
   "source": [
    "initialization(42)"
   ]
  },
  {
   "cell_type": "code",
   "execution_count": 85,
   "id": "965b640e",
   "metadata": {
    "code_folding": [
     1,
     36
    ],
    "execution": {
     "iopub.execute_input": "2022-05-19T13:26:23.138932Z",
     "iopub.status.busy": "2022-05-19T13:26:23.138633Z",
     "iopub.status.idle": "2022-05-19T13:26:23.155908Z",
     "shell.execute_reply": "2022-05-19T13:26:23.154765Z"
    },
    "papermill": {
     "duration": 5.004961,
     "end_time": "2022-05-19T13:26:23.158142",
     "exception": false,
     "start_time": "2022-05-19T13:26:18.153181",
     "status": "completed"
    },
    "tags": []
   },
   "outputs": [],
   "source": [
    "class DateTranslation(keras.models.Model):\n",
    "    def __init__(self, units=128, encoder_embedding_size=32, decoder_embedding_size=32, **kwargs):\n",
    "        super(DateTranslation, self).__init__(**kwargs)\n",
    "\n",
    "        # 编码器\n",
    "        self.encoder_embedding = keras.layers.Embedding(input_dim=encoder_inputs_dim,\n",
    "                                                        output_dim=encoder_embedding_size)\n",
    "        self.encoder = keras.layers.LSTM(units,\n",
    "                                         return_sequences=True,\n",
    "                                         return_state=True)\n",
    "        # 解码器\n",
    "        self.decoder_embedding = keras.layers.Embedding(input_dim=decoder_inputs_dim,\n",
    "                                                        output_dim=decoder_embedding_size)\n",
    "        self.attention = tfa.seq2seq.LuongAttention(units)\n",
    "\n",
    "        # LSTMCell()作为在推理过程中，我们使用一步输出作为下一步输入\n",
    "        decoder_inner_cell = keras.layers.LSTMCell(units)\n",
    "        self.decoder_cell = tfa.seq2seq.AttentionWrapper(cell=decoder_inner_cell,\n",
    "                                                         attention_mechanism=self.attention)\n",
    "        # 训练过程中使用了TrainingSampler采样器\n",
    "        training_sampler = tfa.seq2seq.sampler.TrainingSampler()\n",
    "        output_layer = keras.layers.Dense(decoder_outputs_dim)\n",
    "\n",
    "        self.decoder = tfa.seq2seq.BasicDecoder(cell=self.decoder_cell,\n",
    "                                                sampler=training_sampler,\n",
    "                                                output_layer=output_layer)\n",
    "\n",
    "        # 推理过程中使用了GreedyEmbeddingSampler采样器\n",
    "        inference_sampler = tfa.seq2seq.sampler.GreedyEmbeddingSampler(\n",
    "            embedding_fn=self.decoder_embedding\n",
    "        )\n",
    "        self.inference_decoder = tfa.seq2seq.BasicDecoder(cell=self.decoder_cell,\n",
    "                                                          sampler=inference_sampler,\n",
    "                                                          output_layer=output_layer,\n",
    "                                                          maximum_iterations=max_output_length)  # 最大迭代次数\n",
    "\n",
    "    def call(self, inputs, training=None):\n",
    "        # encoder_inputs = keras.layers.Input( shape=[None], dtype=np.int32 )\n",
    "        # decoder_inputs = keras.layers.Input( shape=[None], dtype=np.int32 )\n",
    "        encoder_input, decoder_input = inputs\n",
    "        # 编码器\n",
    "        encoder_embeddings = self.encoder_embedding(encoder_input)\n",
    "        encoder_outputs, encoder_state_h, encoder_state_c = self.encoder(encoder_embeddings,\n",
    "                                                                         training=training)\n",
    "        encoder_state = [encoder_state_h, encoder_state_c]  # 最后一个时间步的状态\n",
    "\n",
    "        self.attention(encoder_outputs, setup_memory=True)\n",
    "        # LuongAttention要求在每个时间步，两个向量必须具有相同的维度\n",
    "\n",
    "        # 解码器\n",
    "        decoder_embeddings = self.decoder_embedding(decoder_input)\n",
    "        decoder_initial_state = self.decoder_cell.get_initial_state(decoder_embeddings)  # 生成零填充的状态\n",
    "        decoder_initial_state = decoder_initial_state.clone(cell_state=encoder_state)\n",
    "\n",
    "        if training:\n",
    "            decoder_outputs, _, _ = self.decoder(decoder_embeddings,\n",
    "                                                 initial_state=decoder_initial_state,\n",
    "                                                 training=training)\n",
    "            # 比 keras.layers.Activation( \"softmax\" )( decoder_outputs.rnn_output ) 快\n",
    "            y_prob = tf.nn.softmax(decoder_outputs.rnn_output)\n",
    "        else:\n",
    "            start_tokens = tf.zeros_like(encoder_input[:, 0]) + sos_id\n",
    "            decoder_outputs, _, _ = self.inference_decoder(decoder_embeddings,\n",
    "                                                           initial_state=decoder_initial_state,\n",
    "                                                           start_tokens=start_tokens,\n",
    "                                                           end_token=0)\n",
    "            y_prob = tf.nn.softmax(decoder_outputs.rnn_output)\n",
    "        return y_prob"
   ]
  },
  {
   "cell_type": "code",
   "execution_count": 86,
   "id": "f74dfd75",
   "metadata": {
    "execution": {
     "iopub.execute_input": "2022-05-19T13:26:32.730150Z",
     "iopub.status.busy": "2022-05-19T13:26:32.729755Z",
     "iopub.status.idle": "2022-05-19T13:37:02.140904Z",
     "shell.execute_reply": "2022-05-19T13:37:02.139733Z"
    },
    "papermill": {
     "duration": 634.312275,
     "end_time": "2022-05-19T13:37:02.144552",
     "exception": false,
     "start_time": "2022-05-19T13:26:27.832277",
     "status": "completed"
    },
    "tags": []
   },
   "outputs": [
    {
     "name": "stdout",
     "output_type": "stream",
     "text": [
      "Epoch 1/25\n"
     ]
    },
    {
     "name": "stderr",
     "output_type": "stream",
     "text": [
      "2022-05-19 13:26:39.845023: W tensorflow/core/grappler/costs/op_level_cost_estimator.cc:690] Error in PredictCost() for the op: op: \"Softmax\" attr { key: \"T\" value { type: DT_FLOAT } } inputs { dtype: DT_FLOAT shape { unknown_rank: true } } device { type: \"GPU\" vendor: \"NVIDIA\" model: \"Tesla P100-PCIE-16GB\" frequency: 1328 num_cores: 56 environment { key: \"architecture\" value: \"6.0\" } environment { key: \"cuda\" value: \"11000\" } environment { key: \"cudnn\" value: \"8005\" } num_registers: 65536 l1_cache_size: 24576 l2_cache_size: 4194304 shared_memory_size_per_multiprocessor: 65536 memory_size: 16152002560 bandwidth: 732160000 } outputs { dtype: DT_FLOAT shape { unknown_rank: true } }\n"
     ]
    },
    {
     "name": "stdout",
     "output_type": "stream",
     "text": [
      "313/313 [==============================] - ETA: 0s - loss: 2.1669 - sparse_categorical_accuracy: 0.2237"
     ]
    },
    {
     "name": "stderr",
     "output_type": "stream",
     "text": [
      "2022-05-19 13:27:02.965100: W tensorflow/core/grappler/costs/op_level_cost_estimator.cc:690] Error in PredictCost() for the op: op: \"Softmax\" attr { key: \"T\" value { type: DT_FLOAT } } inputs { dtype: DT_FLOAT shape { unknown_rank: true } } device { type: \"GPU\" vendor: \"NVIDIA\" model: \"Tesla P100-PCIE-16GB\" frequency: 1328 num_cores: 56 environment { key: \"architecture\" value: \"6.0\" } environment { key: \"cuda\" value: \"11000\" } environment { key: \"cudnn\" value: \"8005\" } num_registers: 65536 l1_cache_size: 24576 l2_cache_size: 4194304 shared_memory_size_per_multiprocessor: 65536 memory_size: 16152002560 bandwidth: 732160000 } outputs { dtype: DT_FLOAT shape { unknown_rank: true } }\n"
     ]
    },
    {
     "name": "stdout",
     "output_type": "stream",
     "text": [
      "313/313 [==============================] - 32s 77ms/step - loss: 2.1669 - sparse_categorical_accuracy: 0.2237 - val_loss: 2.1335 - val_sparse_categorical_accuracy: 0.2353\n",
      "Epoch 2/25\n",
      "313/313 [==============================] - 22s 69ms/step - loss: 2.0146 - sparse_categorical_accuracy: 0.2807 - val_loss: 1.5630 - val_sparse_categorical_accuracy: 0.4298\n",
      "Epoch 3/25\n",
      "313/313 [==============================] - 30s 95ms/step - loss: 1.3413 - sparse_categorical_accuracy: 0.5120 - val_loss: 1.2269 - val_sparse_categorical_accuracy: 0.5515\n",
      "Epoch 4/25\n",
      "313/313 [==============================] - 23s 74ms/step - loss: 1.1129 - sparse_categorical_accuracy: 0.5931 - val_loss: 0.9948 - val_sparse_categorical_accuracy: 0.6308\n",
      "Epoch 5/25\n",
      "313/313 [==============================] - 22s 71ms/step - loss: 0.8341 - sparse_categorical_accuracy: 0.6828 - val_loss: 0.7280 - val_sparse_categorical_accuracy: 0.7337\n",
      "Epoch 6/25\n",
      "313/313 [==============================] - 22s 71ms/step - loss: 0.3622 - sparse_categorical_accuracy: 0.8830 - val_loss: 0.0991 - val_sparse_categorical_accuracy: 0.9850\n",
      "Epoch 7/25\n",
      "313/313 [==============================] - 22s 71ms/step - loss: 0.0563 - sparse_categorical_accuracy: 0.9915 - val_loss: 0.0340 - val_sparse_categorical_accuracy: 0.9931\n",
      "Epoch 8/25\n",
      "313/313 [==============================] - 22s 71ms/step - loss: 0.2502 - sparse_categorical_accuracy: 0.9257 - val_loss: 0.1962 - val_sparse_categorical_accuracy: 0.9359\n",
      "Epoch 9/25\n",
      "313/313 [==============================] - 31s 98ms/step - loss: 0.1653 - sparse_categorical_accuracy: 0.9425 - val_loss: 0.1231 - val_sparse_categorical_accuracy: 0.9646\n",
      "Epoch 10/25\n",
      "313/313 [==============================] - 22s 69ms/step - loss: 0.0457 - sparse_categorical_accuracy: 0.9902 - val_loss: 0.0095 - val_sparse_categorical_accuracy: 0.9998\n",
      "Epoch 11/25\n",
      "313/313 [==============================] - 23s 74ms/step - loss: 0.0060 - sparse_categorical_accuracy: 1.0000 - val_loss: 0.0044 - val_sparse_categorical_accuracy: 1.0000\n",
      "Epoch 12/25\n",
      "313/313 [==============================] - 21s 68ms/step - loss: 0.0034 - sparse_categorical_accuracy: 1.0000 - val_loss: 0.0029 - val_sparse_categorical_accuracy: 0.9999\n",
      "Epoch 13/25\n",
      "313/313 [==============================] - 22s 72ms/step - loss: 0.0024 - sparse_categorical_accuracy: 1.0000 - val_loss: 0.0021 - val_sparse_categorical_accuracy: 0.9999\n",
      "Epoch 14/25\n",
      "313/313 [==============================] - 22s 71ms/step - loss: 0.0017 - sparse_categorical_accuracy: 1.0000 - val_loss: 0.0015 - val_sparse_categorical_accuracy: 1.0000\n",
      "Epoch 15/25\n",
      "313/313 [==============================] - 32s 102ms/step - loss: 0.0012 - sparse_categorical_accuracy: 1.0000 - val_loss: 0.0012 - val_sparse_categorical_accuracy: 0.9999\n",
      "Epoch 16/25\n",
      "313/313 [==============================] - 21s 68ms/step - loss: 9.5459e-04 - sparse_categorical_accuracy: 1.0000 - val_loss: 9.3346e-04 - val_sparse_categorical_accuracy: 0.9999\n",
      "Epoch 17/25\n",
      "313/313 [==============================] - 22s 71ms/step - loss: 7.5519e-04 - sparse_categorical_accuracy: 1.0000 - val_loss: 7.7815e-04 - val_sparse_categorical_accuracy: 0.9999\n",
      "Epoch 18/25\n",
      "313/313 [==============================] - 22s 71ms/step - loss: 6.0562e-04 - sparse_categorical_accuracy: 1.0000 - val_loss: 6.2699e-04 - val_sparse_categorical_accuracy: 1.0000\n",
      "Epoch 19/25\n",
      "313/313 [==============================] - 22s 71ms/step - loss: 4.9025e-04 - sparse_categorical_accuracy: 1.0000 - val_loss: 5.4321e-04 - val_sparse_categorical_accuracy: 0.9999\n",
      "Epoch 20/25\n",
      "313/313 [==============================] - 22s 70ms/step - loss: 4.0046e-04 - sparse_categorical_accuracy: 1.0000 - val_loss: 4.2151e-04 - val_sparse_categorical_accuracy: 1.0000\n",
      "Epoch 21/25\n",
      "313/313 [==============================] - 33s 104ms/step - loss: 3.2928e-04 - sparse_categorical_accuracy: 1.0000 - val_loss: 3.5045e-04 - val_sparse_categorical_accuracy: 1.0000\n",
      "Epoch 22/25\n",
      "313/313 [==============================] - 22s 70ms/step - loss: 2.7193e-04 - sparse_categorical_accuracy: 1.0000 - val_loss: 3.1403e-04 - val_sparse_categorical_accuracy: 1.0000\n",
      "Epoch 23/25\n",
      "313/313 [==============================] - 21s 68ms/step - loss: 2.2527e-04 - sparse_categorical_accuracy: 1.0000 - val_loss: 2.3005e-04 - val_sparse_categorical_accuracy: 1.0000\n",
      "Epoch 24/25\n",
      "313/313 [==============================] - 22s 71ms/step - loss: 1.8744e-04 - sparse_categorical_accuracy: 1.0000 - val_loss: 2.5951e-04 - val_sparse_categorical_accuracy: 0.9999\n",
      "Epoch 25/25\n",
      "313/313 [==============================] - 22s 71ms/step - loss: 1.5623e-04 - sparse_categorical_accuracy: 1.0000 - val_loss: 1.9301e-04 - val_sparse_categorical_accuracy: 1.0000\n"
     ]
    }
   ],
   "source": [
    "model = DateTranslation()\n",
    "optimizer = keras.optimizers.Nadam()\n",
    "model.compile(loss=keras.losses.sparse_categorical_crossentropy,\n",
    "              optimizer=optimizer,\n",
    "              metrics=[keras.metrics.sparse_categorical_accuracy])\n",
    "history = model.fit([X_train, X_train_decoder], y_train,\n",
    "                    epochs=25,\n",
    "                    validation_data=([X_val, X_val_decoder], y_val))"
   ]
  },
  {
   "cell_type": "markdown",
   "id": "4b96cc63",
   "metadata": {
    "papermill": {
     "duration": 7.923138,
     "end_time": "2022-05-19T13:37:18.920024",
     "exception": false,
     "start_time": "2022-05-19T13:37:10.996886",
     "status": "completed"
    },
    "tags": []
   },
   "source": [
    "这次收敛需要更长的时间，但每次迭代也有更多的参数和更多的计算。而且我们没有使用`ScheduledEmbeddingTrainingSampler采样器`。"
   ]
  },
  {
   "cell_type": "markdown",
   "id": "7b4fbb25",
   "metadata": {
    "papermill": {
     "duration": 8.538542,
     "end_time": "2022-05-19T13:37:35.618492",
     "exception": false,
     "start_time": "2022-05-19T13:37:27.079950",
     "status": "completed"
    },
    "tags": []
   },
   "source": [
    "2. 现在我们可以编写一个简单的函数，使用训练好的模型来执行日期格式转换"
   ]
  },
  {
   "cell_type": "code",
   "execution_count": 87,
   "id": "9733b238",
   "metadata": {
    "execution": {
     "iopub.execute_input": "2022-05-19T13:37:52.636190Z",
     "iopub.status.busy": "2022-05-19T13:37:52.635798Z",
     "iopub.status.idle": "2022-05-19T13:37:52.642045Z",
     "shell.execute_reply": "2022-05-19T13:37:52.641011Z"
    },
    "papermill": {
     "duration": 7.924194,
     "end_time": "2022-05-19T13:37:52.644429",
     "exception": false,
     "start_time": "2022-05-19T13:37:44.720235",
     "status": "completed"
    },
    "tags": []
   },
   "outputs": [],
   "source": [
    "def fast_pred_date_strs_v2(date_strs):\n",
    "    X = prepare_date_strs_padded(date_strs)\n",
    "    X_decoder = tf.zeros(shape=(len(X), max_output_length), dtype=tf.int32)    # shape:(18, 10)\n",
    "    y_prob = model.predict([X, X_decoder])\n",
    "    y_pred = tf.argmax(y_prob, axis=-1)\n",
    "    y_pred_str = ids_to_date_strs(y_pred, output_chars)\n",
    "    return y_pred_str"
   ]
  },
  {
   "cell_type": "code",
   "execution_count": 100,
   "id": "b500c4d7",
   "metadata": {
    "execution": {
     "iopub.execute_input": "2022-05-19T13:47:54.194644Z",
     "iopub.status.busy": "2022-05-19T13:47:54.194293Z",
     "iopub.status.idle": "2022-05-19T13:47:55.520809Z",
     "shell.execute_reply": "2022-05-19T13:47:55.519959Z"
    },
    "papermill": {
     "duration": 9.83786,
     "end_time": "2022-05-19T13:47:55.522708",
     "exception": false,
     "start_time": "2022-05-19T13:47:45.684848",
     "status": "completed"
    },
    "scrolled": false,
    "tags": []
   },
   "outputs": [
    {
     "name": "stderr",
     "output_type": "stream",
     "text": [
      "2022-05-19 13:47:55.333022: W tensorflow/core/grappler/costs/op_level_cost_estimator.cc:690] Error in PredictCost() for the op: op: \"Softmax\" attr { key: \"T\" value { type: DT_FLOAT } } inputs { dtype: DT_FLOAT shape { unknown_rank: true } } device { type: \"GPU\" vendor: \"NVIDIA\" model: \"Tesla P100-PCIE-16GB\" frequency: 1328 num_cores: 56 environment { key: \"architecture\" value: \"6.0\" } environment { key: \"cuda\" value: \"11000\" } environment { key: \"cudnn\" value: \"8005\" } num_registers: 65536 l1_cache_size: 24576 l2_cache_size: 4194304 shared_memory_size_per_multiprocessor: 65536 memory_size: 16152002560 bandwidth: 732160000 } outputs { dtype: DT_FLOAT shape { unknown_rank: true } }\n"
     ]
    },
    {
     "data": {
      "text/plain": [
       "['1789-07-14', '2022-05-19']"
      ]
     },
     "execution_count": 100,
     "metadata": {},
     "output_type": "execute_result"
    }
   ],
   "source": [
    "fast_pred_date_strs_v2([\"July 14, 1789\", \"May 19, 2022\"])"
   ]
  },
  {
   "cell_type": "markdown",
   "id": "1bb4aa51",
   "metadata": {
    "papermill": {
     "duration": 7.873418,
     "end_time": "2022-05-19T13:38:25.841106",
     "exception": false,
     "start_time": "2022-05-19T13:38:17.967688",
     "status": "completed"
    },
    "tags": []
   },
   "source": [
    "`TF-Addons` 仍有一些有趣的功能，您可能想看看：\n",
    "- 使用`BeamSearchDecoder`而不是`BasicDecoder`进行推理。这个解码器不是输出概率最高的字符，而是跟踪几个候选者，并且只保留最可能的候选者序列。\n",
    "- 如果输入或目标序列的长度可能非常不同，则设置掩码或指定`sequence_length`。\n",
    "- 使用 `ScheduledOutputTrainingSampler`，它比 `ScheduledEmbeddingTrainingSampler` 决定如何在时间 $t$ 将输出馈送到时间$t+1$ 的单元格,提供了更大的灵活性。默认情况下，它将输出直接提供给单元，而不计算 argmax ID 并将其传递给嵌入层。或者，您指定一个 `next_inputs_fn` 函数，该函数将用于在下一步将单元格输出转换为输入。"
   ]
  },
  {
   "cell_type": "markdown",
   "id": "9ad330b7",
   "metadata": {
    "papermill": {
     "duration": 8.236083,
     "end_time": "2022-05-19T13:38:42.327362",
     "exception": false,
     "start_time": "2022-05-19T13:38:34.091279",
     "status": "completed"
    },
    "tags": []
   },
   "source": [
    "# Transformer 架构- TensorFlow实现"
   ]
  },
  {
   "cell_type": "markdown",
   "id": "d93ad7c3",
   "metadata": {
    "papermill": {
     "duration": 7.832291,
     "end_time": "2022-05-19T13:38:59.131652",
     "exception": false,
     "start_time": "2022-05-19T13:38:51.299361",
     "status": "completed"
    },
    "tags": []
   },
   "source": [
    "## 笔记"
   ]
  },
  {
   "cell_type": "markdown",
   "id": "cedda81e",
   "metadata": {
    "papermill": {
     "duration": 8.188526,
     "end_time": "2022-05-19T13:39:15.510686",
     "exception": false,
     "start_time": "2022-05-19T13:39:07.322160",
     "status": "completed"
    },
    "tags": []
   },
   "source": [
    "<img src=\"../images/other/16-21.jpg\">\n",
    "<img src=\"../images/other/16-22.jpg\">"
   ]
  },
  {
   "cell_type": "markdown",
   "id": "a507cb03",
   "metadata": {
    "papermill": {
     "duration": 7.918645,
     "end_time": "2022-05-19T13:39:32.702813",
     "exception": false,
     "start_time": "2022-05-19T13:39:24.784168",
     "status": "completed"
    },
    "tags": []
   },
   "source": [
    "## 原理"
   ]
  },
  {
   "cell_type": "markdown",
   "id": "e9b38c6c",
   "metadata": {
    "papermill": {
     "duration": 8.358378,
     "end_time": "2022-05-19T13:39:49.310591",
     "exception": false,
     "start_time": "2022-05-19T13:39:40.952213",
     "status": "completed"
    },
    "tags": []
   },
   "source": [
    "<img src=\"../images/other/16-23.svg\" width=\"400px\">"
   ]
  },
  {
   "cell_type": "markdown",
   "id": "3c35e550",
   "metadata": {
    "papermill": {
     "duration": 7.915587,
     "end_time": "2022-05-19T13:40:06.133242",
     "exception": false,
     "start_time": "2022-05-19T13:39:58.217655",
     "status": "completed"
    },
    "tags": []
   },
   "source": [
    "- 左侧是`编码器`:\n",
    "    - 将一批表示为单词 I D 的序列的句子作为输入，输入形状为 `[batch_size,  max_input_sentence_length]`.\n",
    "    - 并将每个单词编码为 512 维表示, 因此编码器的输出形状是`[batch_size,  max_input_sentence_length, 512]`.\n",
    "    - 请注意，编码器的顶部堆叠了 N 次(在论文中，N = 6).\n",
    "- 右侧是`解码器`:\n",
    "    - 在训练期间，它将目标句子作为输入（也表示为单词 ID 的序列），向右移动一个时间步长, 在开头插入序列的开始标记。它还接收编码器的输出。\n",
    "    - 请注意，解码器的顶部也堆叠了 N 次，并且编码器堆栈的最终输出在这 N 层中的每一层都被馈送到解码器。\n",
    "    - 解码器在每个时间步为每个可能的下一个单词输出一个概率, 它的输出形状是 `[batch_size, max_output_sentence_length, vocabulary_length]`.\n",
    "- 在推理过程中，无法为解码器提供目标值，因此我们向其提供先前输出的单词, 以序列开始标记开始。因此, 需要模型被重复调用，每轮预测一个单词, 直到输出序列结束标记.\n",
    "- 2个嵌入层; 5 × N 个跳过连接，每个连接后跟一个规范化层; 2 × N逐位前馈网络，每个模块由 2 个密集层组成（第一个使用 `Re LU` 激活函数，第二个没有激活函数），以及最后输出层是使用`softmax`激活函数的密集层。\n",
    "所有这些层都是时间分布的，因此每个单词都独立于所有其他单词来处理。"
   ]
  },
  {
   "cell_type": "markdown",
   "id": "8c4814c3",
   "metadata": {
    "papermill": {
     "duration": 8.240421,
     "end_time": "2022-05-19T13:40:22.935204",
     "exception": false,
     "start_time": "2022-05-19T13:40:14.694783",
     "status": "completed"
    },
    "tags": []
   },
   "source": [
    "- `编码器`的 `多头注意力` 层对同一句子中每个单词与其他单词的关系进行编码，更加关注最相关的单词。这种注意力机制称为`self-attention`（句子正在关注自身）。\n",
    "- `解码器`的 `掩蔽多头注意力` 层做同样的事情，但每个词只允许关注位于它之前的词。`解码器`的上层 `多头注意力` 层是解码器关注输入句子中单词的地方。\n",
    "\n",
    "- `位置嵌入`只是表示单词在句子中位置的密集向量。位置嵌入被添加到每个句子中单词的词嵌入中。"
   ]
  },
  {
   "cell_type": "markdown",
   "id": "cf05314e",
   "metadata": {
    "papermill": {
     "duration": 7.90767,
     "end_time": "2022-05-19T13:40:39.033277",
     "exception": false,
     "start_time": "2022-05-19T13:40:31.125607",
     "status": "completed"
    },
    "tags": []
   },
   "source": [
    "### 位置嵌入 Positional embeddings"
   ]
  },
  {
   "cell_type": "markdown",
   "id": "642a2e4a",
   "metadata": {
    "papermill": {
     "duration": 8.222138,
     "end_time": "2022-05-19T13:40:56.209214",
     "exception": false,
     "start_time": "2022-05-19T13:40:47.987076",
     "status": "completed"
    },
    "tags": []
   },
   "source": [
    "> 正弦/余弦位置嵌入:\n",
    "> \\begin{split}\\begin{aligned} P_{p, 2i} &= \\sin\\left(\\frac{p}{10000^{2i/d}}\\right)\\\\P_{p, 2i+1} &= \\cos\\left(\\frac{p}{10000^{2i/d}}\\right)\\end{aligned}\\end{split}\n",
    ">\n",
    "> 其中$P_{p, i}$是位于句子中第$p$个位置的单词的嵌入的第$i$个分量."
   ]
  },
  {
   "cell_type": "code",
   "execution_count": 89,
   "id": "54e860f5",
   "metadata": {
    "execution": {
     "iopub.execute_input": "2022-05-19T13:41:12.147820Z",
     "iopub.status.busy": "2022-05-19T13:41:12.147506Z",
     "iopub.status.idle": "2022-05-19T13:41:12.158031Z",
     "shell.execute_reply": "2022-05-19T13:41:12.156961Z"
    },
    "papermill": {
     "duration": 7.855429,
     "end_time": "2022-05-19T13:41:12.161085",
     "exception": false,
     "start_time": "2022-05-19T13:41:04.305656",
     "status": "completed"
    },
    "tags": []
   },
   "outputs": [],
   "source": [
    "class PositionalEncoding(keras.layers.Layer):\n",
    "\n",
    "    def __init__(self, max_steps, max_dims, dtype=tf.float32, **kwargs):\n",
    "        \"\"\"\n",
    "        :param max_steps: 最大的句子长度\n",
    "        :param max_dim: 每个单词所表示的维度 这里是512维\n",
    "        \"\"\"\n",
    "        super(PositionalEncoding, self).__init__(dtype=dtype, **kwargs)\n",
    "        if max_dims % 2 == 1:\n",
    "            max_dims += 1  # max_dim 必须是偶数\n",
    "\n",
    "        #  P𝑝,𝑖 是位于句子中第 𝑝 个位置的单词的嵌入的第 𝑖 个分量.\n",
    "        p, i = np.meshgrid(np.arange(max_steps), np.arange(max_dims // 2))\n",
    "\n",
    "        # (batch_size, number of time steps or sequence length, dimensions)\n",
    "        pos_embed = np.empty((1, max_steps, max_dims))\n",
    "        # np.sin().shape -> (i,p)  => .T -> (p,i)\n",
    "        pos_embed[0, :, ::2] = np.sin(p / 10000**(2 * i / max_dims)).T\n",
    "        pos_embed[0, :, 1::2] = np.cos(p / 10000**(2 * i / max_dims)).T\n",
    "\n",
    "        self.position_embedding = tf.constant(pos_embed.astype(self.dtype))\n",
    "\n",
    "    def call(self, inputs, *args, **kwargs):\n",
    "        # inputs=np.zeros( (1, max_steps, max_dims), np.float32)\n",
    "        shape = tf.shape(inputs)\n",
    "        return inputs + self.position_embedding[:, :shape[-2], :shape[-1]]"
   ]
  },
  {
   "cell_type": "markdown",
   "id": "3f289998",
   "metadata": {
    "papermill": {
     "duration": 8.070849,
     "end_time": "2022-05-19T13:41:29.388902",
     "exception": false,
     "start_time": "2022-05-19T13:41:21.318053",
     "status": "completed"
    },
    "tags": []
   },
   "source": [
    "- 绘制示意图"
   ]
  },
  {
   "cell_type": "code",
   "execution_count": 90,
   "id": "1902f9b2",
   "metadata": {
    "execution": {
     "iopub.execute_input": "2022-05-19T13:41:45.621463Z",
     "iopub.status.busy": "2022-05-19T13:41:45.620889Z",
     "iopub.status.idle": "2022-05-19T13:41:45.642798Z",
     "shell.execute_reply": "2022-05-19T13:41:45.641880Z"
    },
    "papermill": {
     "duration": 8.058677,
     "end_time": "2022-05-19T13:41:45.646208",
     "exception": false,
     "start_time": "2022-05-19T13:41:37.587531",
     "status": "completed"
    },
    "tags": []
   },
   "outputs": [],
   "source": [
    "max_steps = 201\n",
    "max_dims = 512\n",
    "pos_embed = PositionalEncoding(max_steps, max_dims)\n",
    "PE = pos_embed(np.zeros((1, max_steps, max_dims), np.float32))[0].numpy()"
   ]
  },
  {
   "cell_type": "code",
   "execution_count": 91,
   "id": "dbe37819",
   "metadata": {
    "execution": {
     "iopub.execute_input": "2022-05-19T13:42:03.062340Z",
     "iopub.status.busy": "2022-05-19T13:42:03.062050Z",
     "iopub.status.idle": "2022-05-19T13:42:03.141536Z",
     "shell.execute_reply": "2022-05-19T13:42:03.140546Z"
    },
    "papermill": {
     "duration": 8.86388,
     "end_time": "2022-05-19T13:42:03.143736",
     "exception": false,
     "start_time": "2022-05-19T13:41:54.279856",
     "status": "completed"
    },
    "tags": []
   },
   "outputs": [],
   "source": [
    "from mpl_toolkits.axes_grid1 import make_axes_locatable"
   ]
  },
  {
   "cell_type": "code",
   "execution_count": 92,
   "id": "6776290f",
   "metadata": {
    "execution": {
     "iopub.execute_input": "2022-05-19T13:42:19.376568Z",
     "iopub.status.busy": "2022-05-19T13:42:19.376269Z",
     "iopub.status.idle": "2022-05-19T13:42:20.147152Z",
     "shell.execute_reply": "2022-05-19T13:42:20.146053Z"
    },
    "papermill": {
     "duration": 8.856583,
     "end_time": "2022-05-19T13:42:20.150203",
     "exception": false,
     "start_time": "2022-05-19T13:42:11.293620",
     "status": "completed"
    },
    "tags": []
   },
   "outputs": [
    {
     "data": {
      "image/png": "[encoded data removed]",
      "text/plain": [
       "<Figure size 648x360 with 3 Axes>"
      ]
     },
     "metadata": {
      "needs_background": "light"
     },
     "output_type": "display_data"
    }
   ],
   "source": [
    "i1, i2, crop_i = 100, 101, 150  # 裁切分量至150\n",
    "p1, p2, p3 = 22, 60, 35\n",
    "fig, (ax2, ax1) = plt.subplots(\n",
    "    nrows=2,\n",
    "    ncols=1,  # sharex=True, \n",
    "    figsize=(9, 5))\n",
    "\n",
    "#########\n",
    "im = ax2.imshow(PE.T[:crop_i],\n",
    "                cmap=\"gray\",\n",
    "                interpolation=\"bilinear\",\n",
    "                aspect=\"auto\")\n",
    "ax2.hlines(y=i1, xmin=0, xmax=max_steps - 1, color=\"b\")  # 绘制水平线\n",
    "cheat = 2  # 需要将红线抬高一点，否则会隐藏蓝线\n",
    "ax2.hlines(i2 + cheat, 0, max_steps - 1, color=\"r\")\n",
    "\n",
    "ax2.plot([p1, p1], [0, crop_i], \"k--\")\n",
    "ax2.plot([p2, p2], [0, crop_i], \"k--\", alpha=0.5)\n",
    "ax2.plot([p1, p2], [i2 + cheat, i2 + cheat], \"ro\")\n",
    "ax2.plot([p1, p2], [i1, i1], \"bo\")\n",
    "\n",
    "ax2.axis([0, max_steps - 1, 0, crop_i])\n",
    "ax2.set_xlabel(\"$p$\", fontsize=16)\n",
    "ax2.set_ylabel(\"$i$\", rotation=0, fontsize=16)\n",
    "#########\n",
    "divider = make_axes_locatable(ax2)\n",
    "cax = divider.append_axes('right', size='6%', pad=0.1)\n",
    "cb = fig.colorbar(im, cax=cax, orientation=\"vertical\")\n",
    "cb.set_ticks([-1, 0, 1])\n",
    "cb.update_ticks()\n",
    "#########\n",
    "ax1.plot(PE[:, i1], \"b-\", label=\"$i = {}$\".format(i1))\n",
    "ax1.plot(PE[:, i2], \"r-\", label=\"$i = {}$\".format(i2))\n",
    "\n",
    "ax1.plot([p1, p1], [-1, 1], \"k--\", label=\"$p = {}$\".format(p1))\n",
    "ax1.plot([p2, p2], [-1, 1], \"k--\", label=\"$p = {}$\".format(p2), alpha=0.5)\n",
    "ax1.plot(p3, PE[p3, i1], \"bx\", label=\"$p = {}$\".format(p3))\n",
    "\n",
    "ax1.plot([p1, p2], [PE[p1, i1], PE[p2, i1]], \"bo\")\n",
    "ax1.plot([p1, p2], [PE[p1, i2], PE[p2, i2]], \"ro\")\n",
    "\n",
    "ax1.legend(loc=\"center right\", fontsize=14, framealpha=0.95)\n",
    "ax1.set_ylabel(\"$P_{(p,i)}$\", rotation=0, fontsize=16)\n",
    "\n",
    "ax1.grid(True, alpha=0.3)\n",
    "ax1.hlines(0, 0, max_steps - 1, color=\"k\", linewidth=1, alpha=0.3)\n",
    "ax1.axis([0, max_steps - 1, -1, 1])\n",
    "ax1.set_xlabel( \"Position in sequence\", fontsize=16)\n",
    "\n",
    "plt.show()"
   ]
  },
  {
   "cell_type": "markdown",
   "id": "8553a67a",
   "metadata": {
    "papermill": {
     "duration": 8.246681,
     "end_time": "2022-05-19T13:42:36.971868",
     "exception": false,
     "start_time": "2022-05-19T13:42:28.725187",
     "status": "completed"
    },
    "tags": []
   },
   "source": [
    "- 接下来,创建`Transformer`的第一层:"
   ]
  },
  {
   "cell_type": "code",
   "execution_count": 93,
   "id": "fd435836",
   "metadata": {
    "execution": {
     "iopub.execute_input": "2022-05-19T13:42:53.528926Z",
     "iopub.status.busy": "2022-05-19T13:42:53.528562Z",
     "iopub.status.idle": "2022-05-19T13:42:53.533481Z",
     "shell.execute_reply": "2022-05-19T13:42:53.532500Z"
    },
    "papermill": {
     "duration": 8.336415,
     "end_time": "2022-05-19T13:42:53.538917",
     "exception": false,
     "start_time": "2022-05-19T13:42:45.202502",
     "status": "completed"
    },
    "tags": []
   },
   "outputs": [],
   "source": [
    "embed_size = 512\n",
    "max_steps = 500\n",
    "vocab_size = 10000"
   ]
  },
  {
   "cell_type": "code",
   "execution_count": 94,
   "id": "752dff55",
   "metadata": {
    "execution": {
     "iopub.execute_input": "2022-05-19T13:43:10.391558Z",
     "iopub.status.busy": "2022-05-19T13:43:10.391255Z",
     "iopub.status.idle": "2022-05-19T13:43:10.489265Z",
     "shell.execute_reply": "2022-05-19T13:43:10.488415Z"
    },
    "papermill": {
     "duration": 8.311841,
     "end_time": "2022-05-19T13:43:10.491536",
     "exception": false,
     "start_time": "2022-05-19T13:43:02.179695",
     "status": "completed"
    },
    "tags": []
   },
   "outputs": [],
   "source": [
    "embeddings = keras.layers.Embedding(vocab_size, embed_size)\n",
    "position_encoding = PositionalEncoding(max_steps=max_steps,\n",
    "                                       max_dims=embed_size)\n",
    "\n",
    "# 编码器\n",
    "encoder_inputs = keras.layers.Input(shape=[None], dtype=np.int32)\n",
    "encoder_embeddings = embeddings(encoder_inputs)\n",
    "encoder_in = position_encoding(encoder_embeddings)\n",
    "\n",
    "# 解码器\n",
    "decoder_inputs = keras.layers.Input(shape=[None], dtype=np.int32)\n",
    "decoder_embeddings = embeddings(decoder_inputs)\n",
    "decoder_in = position_encoding(decoder_embeddings)"
   ]
  },
  {
   "cell_type": "markdown",
   "id": "304bf582",
   "metadata": {
    "papermill": {
     "duration": 8.736849,
     "end_time": "2022-05-19T13:43:27.522611",
     "exception": false,
     "start_time": "2022-05-19T13:43:18.785762",
     "status": "completed"
    },
    "tags": []
   },
   "source": [
    "### 缩放点积注意力 Scaled Dot-Product Attention"
   ]
  },
  {
   "cell_type": "markdown",
   "id": "0fbbd800",
   "metadata": {
    "papermill": {
     "duration": 8.062226,
     "end_time": "2022-05-19T13:43:43.681146",
     "exception": false,
     "start_time": "2022-05-19T13:43:35.618920",
     "status": "completed"
    },
    "tags": []
   },
   "source": [
    "> 缩放点积注意力:\n",
    "> $$\\operatorname{Attention}(\\mathbf{Q}, \\mathbf{K}, \\mathbf{V})=\\operatorname{softmax}\\left(\\frac{\\mathbf{Q} \\mathbf{K}^{\\top}}{\\sqrt{d_{k e y s}}}\\right) \\mathbf{V}$$"
   ]
  },
  {
   "cell_type": "markdown",
   "id": "a86e91b6",
   "metadata": {
    "papermill": {
     "duration": 8.868782,
     "end_time": "2022-05-19T13:44:00.680151",
     "exception": false,
     "start_time": "2022-05-19T13:43:51.811369",
     "status": "completed"
    },
    "tags": []
   },
   "source": [
    "- 在`编码器`中，这个等式应用于批处理中的**每个输入句子**，其中$Q$、$K$和$V$都等于输入句子中的单词列表`(Embeddings+Positional Embeddings)`,因此句子中的每个单词都会进行比较同一句子中的每个单词，包括它自己。\n",
    "- 在`解码器`的 `masked attention` 层中，等式将应用于批处理中的**每个目标句子**，其中 $Q$、$K$和$V$都等于目标句子中的单词列表，但这次使用了掩码来防止任何单词与位于它之后的单词进行比较(在推理时，解码器只能访问它已经输出的单词，而不是将来的单词，因此在训练期间我们必须屏蔽未来的输出令牌)。\n",
    "- 在`解码器`的注意力层上部，键 $K$ 和值 $V$ 只是`编码器`生成的单词编码列表，查询 $Q$ 是`解码器`生成的单词编码列表。"
   ]
  },
  {
   "cell_type": "markdown",
   "id": "9488c0a5",
   "metadata": {
    "papermill": {
     "duration": 7.934842,
     "end_time": "2022-05-19T13:44:16.565253",
     "exception": false,
     "start_time": "2022-05-19T13:44:08.630411",
     "status": "completed"
    },
    "tags": []
   },
   "source": [
    "> 在TensorFlow中，如果 $A$ 和 $B$ 是具有两个以上维度的张量(例如，形状分别为 `[2, 3, 4, 5]` 和 `[2, 3, 5, 6]`)，则 `tf.matmul(A, B)`会将这些张量视为 2 × 3 数组，其中每个单元都包含一个矩阵，并将相应的矩阵相乘：\n",
    ">\n",
    "> $A$ 中的第$i$行和第$j$列的矩阵将乘以 $B$ 中的第$i$行和第$j$列的矩阵。\n",
    ">\n",
    "> 一个 4 × 5 矩阵和一个 5 × 6 矩阵是一个 4 × 6 矩阵，`tf.matmul(A, B)` 将返回一个形状为 `[2, 3, 4, 6]` 的数组。"
   ]
  },
  {
   "cell_type": "markdown",
   "id": "6124a3e4",
   "metadata": {
    "papermill": {
     "duration": 8.195553,
     "end_time": "2022-05-19T13:44:32.871255",
     "exception": false,
     "start_time": "2022-05-19T13:44:24.675702",
     "status": "completed"
    },
    "tags": []
   },
   "source": [
    "- `Kears`中的`kears.layers.Attention`层实现缩放点积注意力\n",
    "    - `use_scale=True`: 创建一个附加参数, 让层学习如何正确缩小相似度分数, 而不是`transformer`中固定的因子${\\sqrt{d_{k e y s}}}$来降低相似度分数.\n",
    "    - `causal=True`: 可确保每个输出令牌仅注意先前的输出令牌, 而不是将来的."
   ]
  },
  {
   "cell_type": "markdown",
   "id": "1f755f5f",
   "metadata": {
    "papermill": {
     "duration": 8.067263,
     "end_time": "2022-05-19T13:44:49.624527",
     "exception": false,
     "start_time": "2022-05-19T13:44:41.557264",
     "status": "completed"
    },
    "tags": []
   },
   "source": [
    "- 这是一个简化的 `Transformer`（实际架构有跳过连接、层范数、密集网络，最重要的是它使用 Multi-Head Attention 而不是常规 Attention）"
   ]
  },
  {
   "cell_type": "code",
   "execution_count": 95,
   "id": "d056d140",
   "metadata": {
    "execution": {
     "iopub.execute_input": "2022-05-19T13:45:06.472286Z",
     "iopub.status.busy": "2022-05-19T13:45:06.471593Z",
     "iopub.status.idle": "2022-05-19T13:45:06.519822Z",
     "shell.execute_reply": "2022-05-19T13:45:06.518744Z"
    },
    "papermill": {
     "duration": 8.209579,
     "end_time": "2022-05-19T13:45:06.521920",
     "exception": false,
     "start_time": "2022-05-19T13:44:58.312341",
     "status": "completed"
    },
    "tags": []
   },
   "outputs": [],
   "source": [
    "# 编码器\n",
    "# encoder_in = position_encoding(encoder_embeddings)\n",
    "Z = encoder_in\n",
    "\n",
    "for N in range(6):\n",
    "    # input:( [query_seq_encoding, value_seq_encoding])\n",
    "    Z = keras.layers.Attention(use_scale=True)([Z, Z])\n",
    "encoder_outputs = Z"
   ]
  },
  {
   "cell_type": "code",
   "execution_count": 96,
   "id": "413e8450",
   "metadata": {
    "execution": {
     "iopub.execute_input": "2022-05-19T13:45:23.157909Z",
     "iopub.status.busy": "2022-05-19T13:45:23.157581Z",
     "iopub.status.idle": "2022-05-19T13:45:23.357831Z",
     "shell.execute_reply": "2022-05-19T13:45:23.356862Z"
    },
    "papermill": {
     "duration": 7.979984,
     "end_time": "2022-05-19T13:45:23.360025",
     "exception": false,
     "start_time": "2022-05-19T13:45:15.380041",
     "status": "completed"
    },
    "tags": []
   },
   "outputs": [],
   "source": [
    "# 解码器\n",
    "# decoder_in = position_encoding(decoder_embeddings)\n",
    "Z = decoder_in\n",
    "for N in range(6):\n",
    "    Z = keras.layers.Attention(use_scale=True, causal=True)([Z, Z])\n",
    "    Z = keras.layers.Attention(use_scale=True)([Z, encoder_outputs])\n",
    "\n",
    "outputs = keras.layers.TimeDistributed(\n",
    "    keras.layers.Dense(vocab_size, activation=\"softmax\"))(Z)"
   ]
  },
  {
   "cell_type": "markdown",
   "id": "8e0a70dd",
   "metadata": {
    "papermill": {
     "duration": 8.180329,
     "end_time": "2022-05-19T13:45:39.715061",
     "exception": false,
     "start_time": "2022-05-19T13:45:31.534732",
     "status": "completed"
    },
    "tags": []
   },
   "source": [
    "### 多头注意力 Multi-Head Attention"
   ]
  },
  {
   "cell_type": "markdown",
   "id": "744d12e7",
   "metadata": {
    "papermill": {
     "duration": 7.942729,
     "end_time": "2022-05-19T13:45:56.401659",
     "exception": false,
     "start_time": "2022-05-19T13:45:48.458930",
     "status": "completed"
    },
    "tags": []
   },
   "source": [
    "<img src=\"../images/other/16-24.png\" width=\"200\">\n",
    "<img src=\"../images/other/16-25.png\">"
   ]
  },
  {
   "cell_type": "markdown",
   "id": "bbb17db5",
   "metadata": {
    "papermill": {
     "duration": 8.2409,
     "end_time": "2022-05-19T13:46:13.019671",
     "exception": false,
     "start_time": "2022-05-19T13:46:04.778771",
     "status": "completed"
    },
    "tags": []
   },
   "source": [
    "嵌入的不同部分可以学习每个单词含义的不同方面，因为它与序列中的其他单词相关。这允许 `Transformer` 捕获对序列的更丰富的解释。\n",
    "<img src=\"../images/other/16-55.png\">"
   ]
  },
  {
   "cell_type": "markdown",
   "id": "fa964b0d",
   "metadata": {
    "papermill": {
     "duration": 7.988079,
     "end_time": "2022-05-19T13:46:29.992128",
     "exception": false,
     "start_time": "2022-05-19T13:46:22.004049",
     "status": "completed"
    },
    "tags": []
   },
   "source": [
    "> 小结:\n",
    "> 1. `__init__`主要用来做参数初始化用，比如我们要初始化卷积的一些参数，就可以放到这里面\n",
    "> 2. `call`可以把类型的对象当做函数来使用，这个对象可以是在`__init__`里面也可以是在`build`里面\n",
    "> 3. `build`一般是和`call`搭配使用，这个时候，它的功能和`__init__`很相似，当`build`中存放本层需要初始化的变量，当`call`被第一次调用的时候，会先执行`build()`方法初始化变量，但后面再调用到`call`的时候，是不会再去执行`build()`方法初始化变量"
   ]
  },
  {
   "cell_type": "markdown",
   "id": "feeae302",
   "metadata": {
    "papermill": {
     "duration": 8.347439,
     "end_time": "2022-05-19T13:46:46.714437",
     "exception": false,
     "start_time": "2022-05-19T13:46:38.366998",
     "status": "completed"
    },
    "tags": []
   },
   "source": [
    "请注意，具有 `kernel_size=1`, 并且默认 `padding=\"valid\"` 和 `strides=1`的 `Conv1D` 层等效于 `Time Distributed(Dense(...))` 层."
   ]
  },
  {
   "cell_type": "code",
   "execution_count": 97,
   "id": "4569c630",
   "metadata": {
    "execution": {
     "iopub.execute_input": "2022-05-19T13:47:03.785713Z",
     "iopub.status.busy": "2022-05-19T13:47:03.785412Z",
     "iopub.status.idle": "2022-05-19T13:47:03.790342Z",
     "shell.execute_reply": "2022-05-19T13:47:03.789266Z"
    },
    "papermill": {
     "duration": 8.087382,
     "end_time": "2022-05-19T13:47:03.792712",
     "exception": false,
     "start_time": "2022-05-19T13:46:55.705330",
     "status": "completed"
    },
    "tags": []
   },
   "outputs": [],
   "source": [
    "K = keras.backend"
   ]
  },
  {
   "cell_type": "code",
   "execution_count": 98,
   "id": "112dce81",
   "metadata": {
    "execution": {
     "iopub.execute_input": "2022-05-19T13:47:20.397550Z",
     "iopub.status.busy": "2022-05-19T13:47:20.397257Z",
     "iopub.status.idle": "2022-05-19T13:47:20.419383Z",
     "shell.execute_reply": "2022-05-19T13:47:20.418372Z"
    },
    "papermill": {
     "duration": 8.244266,
     "end_time": "2022-05-19T13:47:20.421604",
     "exception": false,
     "start_time": "2022-05-19T13:47:12.177338",
     "status": "completed"
    },
    "tags": []
   },
   "outputs": [],
   "source": [
    "class MultiHeadAttention(keras.layers.Layer):\n",
    "\n",
    "    def __init__(self, n_heads, use_scale=False, causal=False, **kwargs):\n",
    "        super(MultiHeadAttention, self).__init__(**kwargs)\n",
    "        self.n_heads = n_heads\n",
    "        self.use_scale = use_scale\n",
    "        self.causal = causal\n",
    "\n",
    "    def build(self, batch_input_shape):\n",
    "        super(MultiHeadAttention, self).build(batch_input_shape)\n",
    "        self.dims = batch_input_shape[0][-1]  # 512\n",
    "        # 使用8个头 --> d_k = d_v = d_model/h = 64.\n",
    "        self.q_dims, self.v_dims, self.k_dims = [self.dims // self.n_heads] * 3\n",
    "\n",
    "        # 线性层\n",
    "        self.q_linear = keras.layers.Conv1D(\n",
    "            filters=self.n_heads * self.q_dims,  # Embedding_dim\n",
    "            kernel_size=1,  # 默认 stride=1, padding=\"valid\"\n",
    "            use_bias=False)\n",
    "        self.v_linear = keras.layers.Conv1D(filters=self.n_heads * self.v_dims,\n",
    "                                            kernel_size=1,\n",
    "                                            use_bias=False)\n",
    "        self.k_linear = keras.layers.Conv1D(filters=self.n_heads * self.k_dims,\n",
    "                                            kernel_size=1,\n",
    "                                            use_bias=False)\n",
    "\n",
    "        self.attention = keras.layers.Attention(causal=self.causal,\n",
    "                                                use_scale=self.use_scale)\n",
    "        self.out_linear = keras.layers.Conv1D(self.dims,\n",
    "                                              kernel_size=1,\n",
    "                                              use_bias=False)\n",
    "\n",
    "    def _multi_head_linear(self, inputs, linear):\n",
    "        shape = K.concatenate([\n",
    "            K.shape(inputs)[:-1],  # 除了dims\n",
    "            [self.n_heads, -1]\n",
    "        ])  # [n_heads, q_dims OR v_dims OR k_dims]\n",
    "\n",
    "        projected = K.reshape(linear(inputs), shape)  # 展平\n",
    "        #  (Batch_size, n_Sequence, n_heads, q_dims OR v_dims OR k_dims)\n",
    "        # 交换头部和序列维度\n",
    "        perm = K.permute_dimensions(projected, pattern=[0, 2, 1, 3])\n",
    "        #  (Batch_size, n_heads, n_Sequence, q_dims OR v_dims OR k_dims)\n",
    "\n",
    "        # 由于 tf.keras 只支持 3D 计算\n",
    "        #  (Batch_size * n_heads, n_Sequence, q_dims OR v_dims OR k_dims)\n",
    "        return K.reshape(perm, [shape[0] * self.n_heads, shape[1], -1])\n",
    "\n",
    "    def call(self, inputs, *args, **kwargs):\n",
    "        q = inputs[0]\n",
    "        v = inputs[1]\n",
    "        k = inputs[3] if len(inputs) > 2 else v\n",
    "        shape = K.shape(q)\n",
    "\n",
    "        q_proj = self._multi_head_linear(q, self.q_linear)\n",
    "        v_proj = self._multi_head_linear(v, self.v_linear)\n",
    "        k_proj = self._multi_head_linear(k, self.k_linear)\n",
    "        #  (Batch_size * n_heads, n_Sequence, q_dims OR v_dims OR k_dims)\n",
    "        multi_attended = self.attention([q_proj, v_proj, k_proj])\n",
    "\n",
    "        shape_attended = K.shape(multi_attended)\n",
    "        reshaped_attended = K.reshape(\n",
    "            multi_attended,\n",
    "            # Batch_size, n_heads,   n_Sequence,       q_dims or Query size\n",
    "            [shape[0], self.n_heads, shape_attended[1], shape_attended[2]])\n",
    "        # 将每个头的注意力分数合并在一起\n",
    "        # 交换头部和序列维度\n",
    "        perm = K.permute_dimensions(reshaped_attended, [0, 2, 1, 3])\n",
    "        concat = K.reshape(perm, [shape[0], shape_attended[1], -1])\n",
    "        return self.out_linear(concat)"
   ]
  },
  {
   "cell_type": "code",
   "execution_count": 99,
   "id": "b71da629",
   "metadata": {
    "execution": {
     "iopub.execute_input": "2022-05-19T13:47:37.546648Z",
     "iopub.status.busy": "2022-05-19T13:47:37.546270Z",
     "iopub.status.idle": "2022-05-19T13:47:37.618023Z",
     "shell.execute_reply": "2022-05-19T13:47:37.616664Z"
    },
    "papermill": {
     "duration": 8.20108,
     "end_time": "2022-05-19T13:47:37.620915",
     "exception": false,
     "start_time": "2022-05-19T13:47:29.419835",
     "status": "completed"
    },
    "tags": []
   },
   "outputs": [
    {
     "data": {
      "text/plain": [
       "TensorShape([2, 50, 512])"
      ]
     },
     "execution_count": 99,
     "metadata": {},
     "output_type": "execute_result"
    }
   ],
   "source": [
    "Q = np.random.rand(2, 50, 512)\n",
    "V = np.random.rand(2, 80, 512)\n",
    "multi_attn = MultiHeadAttention(8)  #n_heads=8\n",
    "multi_attn([Q, V]).shape"
   ]
  },
  {
   "cell_type": "markdown",
   "id": "aa7e472a",
   "metadata": {
    "papermill": {
     "duration": 8.31281,
     "end_time": "2022-05-19T13:48:12.201795",
     "exception": false,
     "start_time": "2022-05-19T13:48:03.888985",
     "status": "completed"
    },
    "tags": []
   },
   "source": [
    "> create:Apotosome 05/19/22\n",
    "\n",
    "> update:Apotosome 10/26/22"
   ]
  }
 ],
 "metadata": {
  "hide_input": false,
  "kernelspec": {
   "display_name": "Python 3 (ipykernel)",
   "language": "python",
   "name": "python3"
  },
  "language_info": {
   "codemirror_mode": {
    "name": "ipython",
    "version": 3
   },
   "file_extension": ".py",
   "mimetype": "text/x-python",
   "name": "python",
   "nbconvert_exporter": "python",
   "pygments_lexer": "ipython3",
   "version": "3.10.6"
  },
  "papermill": {
   "default_parameters": {},
   "duration": 2960.176339,
   "end_time": "2022-05-19T13:48:23.795079",
   "environment_variables": {},
   "exception": null,
   "input_path": "__notebook__.ipynb",
   "output_path": "__notebook__.ipynb",
   "parameters": {},
   "start_time": "2022-05-19T12:59:03.618740",
   "version": "2.3.4"
  },
  "toc": {
   "base_numbering": 1,
   "nav_menu": {},
   "number_sections": true,
   "sideBar": true,
   "skip_h1_title": false,
   "title_cell": "目录",
   "title_sidebar": "目录",
   "toc_cell": false,
   "toc_position": {
    "height": "calc(100% - 180px)",
    "left": "10px",
    "top": "150px",
    "width": "255.113px"
   },
   "toc_section_display": true,
   "toc_window_display": true
  }
 },
 "nbformat": 4,
 "nbformat_minor": 5
}
