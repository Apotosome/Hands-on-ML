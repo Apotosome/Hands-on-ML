{
 "cells": [
  {
   "cell_type": "markdown",
   "metadata": {},
   "source": [
    "# 练习题 Exercise"
   ]
  },
  {
   "cell_type": "markdown",
   "metadata": {},
   "source": [
    "## ex.1"
   ]
  },
  {
   "cell_type": "markdown",
   "metadata": {},
   "source": [
    "Q:将所有权重初始化为相同的值是否可以(只要该值是使用He初始化随机选择的)? "
   ]
  },
  {
   "cell_type": "markdown",
   "metadata": {},
   "source": [
    "> **No, all weights should be sampled independently**; they should not all have the same initial value. One important goal of sampling weights randomly is to **break symmetry**: if all the weights have the same initial value, even if that value is not zero, then symmetry is not broken (i.e., all neurons in a given layer are equivalent), and backpropagation will be unable to break it. Concretely, this means that all the neurons in any given layer will always have the same weights. It’s like having just one neuron per layer, and much slower. It is virtually impossible for such a configuration to converge to a good solution."
   ]
  },
  {
   "cell_type": "markdown",
   "metadata": {
    "heading_collapsed": true
   },
   "source": [
    "## ex.2 "
   ]
  },
  {
   "cell_type": "markdown",
   "metadata": {
    "hidden": true
   },
   "source": [
    "Q:将偏置项初始化为0可以嘛?"
   ]
  },
  {
   "cell_type": "markdown",
   "metadata": {
    "hidden": true
   },
   "source": [
    "> **It is perfectly fine to initialize the bias terms to zero.** Some people like to initialize them just like weights, and that’s okay too; it does not make much difference."
   ]
  },
  {
   "cell_type": "markdown",
   "metadata": {
    "heading_collapsed": true
   },
   "source": [
    "## ex.3"
   ]
  },
  {
   "cell_type": "markdown",
   "metadata": {
    "hidden": true
   },
   "source": [
    "Q:列举SELU激活函数相比ReLU 三个优点."
   ]
  },
  {
   "cell_type": "markdown",
   "metadata": {
    "hidden": true
   },
   "source": [
    "> A few advantages of the SELU function over the ReLU function are:\n",
    "1. **It can take on negative values**, so the average output of the neurons in any given layer is typically closer to zero than when using the ReLU activation function (which never outputs negative values). This helps alleviate the vanishing gradients problem.\n",
    "2. **It always has a nonzero derivative**, which avoids the dying units issue that can affect ReLU units.\n",
    "3. When the conditions are right (i.e., if the model is **sequential**, and the weights are initialized using **LeCun initialization**, and the inputs are **standardized**, and there’s **no incompatible** layer or regularization, such as dropout or $ℓ_1$ regularization), then **the SELU activation function ensures the model is selfnormalized**, which solves the exploding/vanishing gradients problems."
   ]
  },
  {
   "cell_type": "markdown",
   "metadata": {
    "heading_collapsed": true
   },
   "source": [
    "## ex.4"
   ]
  },
  {
   "cell_type": "markdown",
   "metadata": {
    "hidden": true
   },
   "source": [
    "Q:在哪种情况下,你想使用以下每个激话函数:SELU、 leaky RELU(及其变体) ReLU、tanh, logistic和 softmax?"
   ]
  },
  {
   "cell_type": "markdown",
   "metadata": {
    "hidden": true
   },
   "source": [
    "> **The SELU activation function is a good default.** If you need the neural network to be as **fast** as possible, you can use one of the **leaky ReLU variants** instead (e.g., a simple leaky ReLU using the default hyperparameter value). The simplicity of the ReLU activation function makes it many people’s preferred option, despite the fact that it is generally outperformed by SELU and leaky ReLU. However, **the ReLU activation function’s ability to output precisely zero can be useful in some cases**(e.g., see Chapter 17). Moreover, it can sometimes benefit from optimized implementation as well as from hardware acceleration. **The hyperbolic tangent (tanh) can be useful in the output layer if you need to output a number between –1 and 1,** but nowadays it is not used much in hidden layers (except in recurrentnets). **The logistic activation function is also useful in the output layer** when you need to estimate a probability (e.g., for binary classification), but is rarely used in hidden layers (there are exceptions—for example, for the coding layer of variational autoencoders; see Chapter 17). Finally, **the softmax activation function is useful in the output layer to output probabilities for mutually exclusive classes**, but it is rarely (if ever) used in hidden layers."
   ]
  },
  {
   "cell_type": "markdown",
   "metadata": {
    "heading_collapsed": true
   },
   "source": [
    "## ex.5"
   ]
  },
  {
   "cell_type": "markdown",
   "metadata": {
    "hidden": true
   },
   "source": [
    "Q:如果在使用SGD优化器时将超参数 momentum设置得太接近1(例如0.999),会发生什么情况?"
   ]
  },
  {
   "cell_type": "markdown",
   "metadata": {
    "hidden": true
   },
   "source": [
    "> If you set the momentum hyperparameter too close to 1 (e.g., 0.99999) when using an SGD optimizer, then **the algorithm will likely pick up a lot of speed, hopefully moving roughly toward the global minimum, but its momentum will carry it right past the minimum. Then it will slow down and come back, accelerate again, overshoot again, and so on. It may oscillate this way many times before converging,** so overall it will take much longer to converge than with a smaller momentum value."
   ]
  },
  {
   "cell_type": "markdown",
   "metadata": {
    "heading_collapsed": true
   },
   "source": [
    "## ex.6"
   ]
  },
  {
   "cell_type": "markdown",
   "metadata": {
    "hidden": true
   },
   "source": [
    "Q:列举三种能产生稀疏模型的方法"
   ]
  },
  {
   "cell_type": "markdown",
   "metadata": {
    "hidden": true
   },
   "source": [
    "> One way to produce a sparse model (i.e., with most weights equal to zero) is to train the model normally, then **zero out tiny weights.** For more sparsity, you can **apply $ℓ_1$ regularization during training**, which pushes the optimizer toward sparsity. A third option is to **use the TensorFlow Model Optimization Toolkit**."
   ]
  },
  {
   "cell_type": "markdown",
   "metadata": {
    "heading_collapsed": true
   },
   "source": [
    "## ex.7"
   ]
  },
  {
   "cell_type": "markdown",
   "metadata": {
    "hidden": true
   },
   "source": [
    "Q:Dropout会减慢训练速度吗?它会减慢推理速度(即对新实例进行预测)吗?MC 呢?"
   ]
  },
  {
   "cell_type": "markdown",
   "metadata": {
    "hidden": true
   },
   "source": [
    "> Yes, **dropout does slow down training**, in general roughly by a factor of two. However, it has **no impact on inference speed since it is only turned on during training.** **MC Dropout is exactly like dropout during training,** but it is still active during inference, **so each inference is slowed down slightly.** More importantly, when using MC Dropout you generally want to run inference 10 times or more to get better predictions. This means that making predictions is slowed down by a factor of 10 or more."
   ]
  },
  {
   "cell_type": "markdown",
   "metadata": {},
   "source": [
    "## ex.8"
   ]
  },
  {
   "cell_type": "markdown",
   "metadata": {},
   "source": [
    "在`CFAR10`图像数据集上练习训练深度神经网络:\n",
    ">1. 构建一个`DNN`,其中包含20个隐藏的层,毎个层包含100个神经元(这太多了,但这是本练习的重点)。使用He初始化和ELU激话函数.\n",
    "2. 使用 `Nadam优化`和`提前停止`,在 `CIFA10`数据集上训练网络。你可以使用 `keras.datasets.cifar10.1oad_data()`加载它。该数据集由10个类别的60000个32×32像素的彩色图像(50000个用于训练,10000个用于测试) 组成,因此你需要一个具有10个神经元的 `softmax`输出层。记住,每次更改模型的架构或超参数时,都要寻找正确的学习率。\n",
    "3. 现在尝试添加`批量归一化`并比较学习曲线:收敛速度是否比以前快?会产生更好的模型吗?它如何影响训练速度?\n",
    "4. 尝试用`SELU`替换`批量归一化`,并进行必要的调整以确保网络是自归一化的(即归一化输入特征,使用`Lecun正态初始化`,确保`DNN`仅仅包含一系列的密集层等)。\n",
    "5. 尝试使用 `Alpha Dropout`正则化模型。然后,在不重新训练模型的情况下,看看是否可以使用 `MC Dropout`获得更好的准确率。\n",
    "6. 使用`1周期调度`来重新训练模型,看看它是否可以提高训练速度和模型谁确。"
   ]
  },
  {
   "cell_type": "markdown",
   "metadata": {},
   "source": [
    "### ex.8.1"
   ]
  },
  {
   "cell_type": "markdown",
   "metadata": {},
   "source": [
    "Exercise: Build a `DNN` with 20 hidden layers of 100 neurons each (that's too many, but it's the point of this exercise). Use `He initialization` and the `ELU` activation function."
   ]
  },
  {
   "cell_type": "code",
   "execution_count": 1,
   "metadata": {},
   "outputs": [],
   "source": [
    "import pandas as pd\n",
    "import numpy as np\n",
    "import matplotlib.pyplot as plt\n",
    "\n",
    "import tensorflow as tf\n",
    "from tensorflow import keras"
   ]
  },
  {
   "cell_type": "code",
   "execution_count": 2,
   "metadata": {},
   "outputs": [],
   "source": [
    "keras.backend.clear_session()\n",
    "np.random.seed(42)\n",
    "tf.random.set_seed(42)"
   ]
  },
  {
   "cell_type": "code",
   "execution_count": 3,
   "metadata": {},
   "outputs": [
    {
     "name": "stderr",
     "output_type": "stream",
     "text": [
      "2022-10-25 21:18:37.261895: I tensorflow/core/platform/cpu_feature_guard.cc:193] This TensorFlow binary is optimized with oneAPI Deep Neural Network Library (oneDNN) to use the following CPU instructions in performance-critical operations:  AVX2 FMA\n",
      "To enable them in other operations, rebuild TensorFlow with the appropriate compiler flags.\n",
      "2022-10-25 21:18:37.577081: I tensorflow/core/common_runtime/gpu/gpu_device.cc:1532] Created device /job:localhost/replica:0/task:0/device:GPU:0 with 3011 MB memory:  -> device: 0, name: NVIDIA GeForce GTX 1050 Ti, pci bus id: 0000:01:00.0, compute capability: 6.1\n"
     ]
    }
   ],
   "source": [
    "model = keras.models.Sequential()\n",
    "model.add(keras.layers.Flatten(input_shape=[32,32,3]))   # RGB彩色图像\n",
    "\n",
    "for layer in range(20):\n",
    "    model.add(keras.layers.Dense(100, activation=keras.activations.elu,\n",
    "                                 kernel_initializer = keras.initializers.he_normal))"
   ]
  },
  {
   "cell_type": "markdown",
   "metadata": {},
   "source": [
    "### ex.8.2"
   ]
  },
  {
   "cell_type": "markdown",
   "metadata": {},
   "source": [
    "Exercise: Using Nadam optimization and early stopping, train the network on the CIFAR10 dataset. You can load it with `keras.datasets.cifar10.load_data()`. The dataset is composed of 60,000 32 × 32–pixel color images (50,000 for training, 10,000 for testing) with 10 classes, so you'll need a softmax output layer with 10 neurons. Remember to search for the right learning rate each time you change the model's architecture or hyperparameters."
   ]
  },
  {
   "cell_type": "markdown",
   "metadata": {},
   "source": [
    "1. Load the `CIFAR10` dataset"
   ]
  },
  {
   "cell_type": "code",
   "execution_count": 4,
   "metadata": {},
   "outputs": [
    {
     "name": "stdout",
     "output_type": "stream",
     "text": [
      "Downloading data from https://www.cs.toronto.edu/~kriz/cifar-10-python.tar.gz\n",
      "170498071/170498071 [==============================] - 24s 0us/step\n"
     ]
    },
    {
     "data": {
      "text/plain": [
       "((50000, 32, 32, 3), (10000, 32, 32, 3), dtype('uint8'))"
      ]
     },
     "execution_count": 4,
     "metadata": {},
     "output_type": "execute_result"
    }
   ],
   "source": [
    "CIFAR10 = keras.datasets.cifar10\n",
    "(X_train_full, y_train_full), (X_test, y_test) = CIFAR10.load_data()\n",
    "\n",
    "X_train_full.shape, X_test.shape, X_train_full.dtype"
   ]
  },
  {
   "cell_type": "code",
   "execution_count": 5,
   "metadata": {},
   "outputs": [],
   "source": [
    "X_train = X_train_full[5000:]\n",
    "y_train = y_train_full[5000:]\n",
    "X_val = X_train_full[:5000]\n",
    "y_val = y_train_full[:5000]"
   ]
  },
  {
   "cell_type": "code",
   "execution_count": 6,
   "metadata": {
    "scrolled": true
   },
   "outputs": [
    {
     "data": {
      "image/png": "[encoded data removed]",
      "text/plain": [
       "<Figure size 640x480 with 1 Axes>"
      ]
     },
     "metadata": {},
     "output_type": "display_data"
    }
   ],
   "source": [
    "plt.imshow(X_train_full[1])\n",
    "plt.axis('off')\n",
    "plt.show()"
   ]
  },
  {
   "cell_type": "code",
   "execution_count": 7,
   "metadata": {},
   "outputs": [],
   "source": [
    "class_names = ['airplane', 'automobile', 'bird', 'cat', 'deer', \n",
    "               'dog', 'frog', 'horse', 'ship','truck']"
   ]
  },
  {
   "cell_type": "code",
   "execution_count": 8,
   "metadata": {},
   "outputs": [
    {
     "data": {
      "image/png": "[encoded data removed]",
      "text/plain": [
       "<Figure size 1200x480 with 40 Axes>"
      ]
     },
     "metadata": {},
     "output_type": "display_data"
    }
   ],
   "source": [
    "n_rows = 4\n",
    "n_cols = 10\n",
    "plt.figure(figsize=(n_cols * 1.2, n_rows * 1.2))\n",
    "for row in range(n_rows):\n",
    "    for col in range(n_cols):\n",
    "        index = n_cols * row + col\n",
    "        plt.subplot(n_rows, n_cols, index + 1)\n",
    "        plt.imshow(X_train[index], cmap=\"binary\", interpolation=\"nearest\")\n",
    "        plt.axis('off')\n",
    "        plt.title(class_names[y_train[index][0]], fontsize=12)\n",
    "plt.subplots_adjust(wspace=0.2, hspace=0.5)   # 调整子图布局\n",
    "plt.show()"
   ]
  },
  {
   "cell_type": "markdown",
   "metadata": {},
   "source": [
    "2. Add output layer to the model"
   ]
  },
  {
   "cell_type": "code",
   "execution_count": 9,
   "metadata": {},
   "outputs": [],
   "source": [
    "model.add(keras.layers.Dense(10, activation=keras.activations.softmax))"
   ]
  },
  {
   "cell_type": "markdown",
   "metadata": {},
   "source": [
    "3. Use a `Nadam` optimizer with a learning rate of `5e-5`   **ex.2.1**"
   ]
  },
  {
   "cell_type": "code",
   "execution_count": 10,
   "metadata": {},
   "outputs": [],
   "source": [
    "optimiter = keras.optimizers.Nadam(learning_rate=5e-5)\n",
    "model.compile(optimizer=optimiter,\n",
    "              loss=keras.losses.sparse_categorical_crossentropy,\n",
    "              metrics=[keras.metrics.sparse_categorical_accuracy])"
   ]
  },
  {
   "cell_type": "markdown",
   "metadata": {},
   "source": [
    "4. Create the callbacks we need and train the model"
   ]
  },
  {
   "cell_type": "code",
   "execution_count": 11,
   "metadata": {},
   "outputs": [],
   "source": [
    "# `ModelCheckpoint`回调会定期保存模型的检查点\n",
    "# `EarlyStopping`回调，如果在多个轮次的验证集上没有任何进展，它将中断训练，并且可以选择回滚到最佳模型.\n",
    "\n",
    "model_checkpoint_cb = keras.callbacks.ModelCheckpoint(\"../models/CIFAR10_model.h5\", save_best_only=True)\n",
    "early_stopping_cb = keras.callbacks.EarlyStopping(patience=20)"
   ]
  },
  {
   "cell_type": "code",
   "execution_count": 12,
   "metadata": {},
   "outputs": [
    {
     "data": {
      "text/plain": [
       "'../Logs/my_CIFAR10_logs/run_001'"
      ]
     },
     "execution_count": 12,
     "metadata": {},
     "output_type": "execute_result"
    }
   ],
   "source": [
    "import os\n",
    "run_index = 1\n",
    "run_logdir = os.path.join('../Logs/', \"my_CIFAR10_logs\", \"run_{:03d}\".format(run_index))\n",
    "run_logdir"
   ]
  },
  {
   "cell_type": "code",
   "execution_count": 13,
   "metadata": {},
   "outputs": [],
   "source": [
    "# TensorBoard进行可视化\n",
    "\n",
    "tensorboard_cb = keras.callbacks.TensorBoard(run_logdir)"
   ]
  },
  {
   "cell_type": "code",
   "execution_count": 14,
   "metadata": {},
   "outputs": [
    {
     "name": "stdout",
     "output_type": "stream",
     "text": [
      "Epoch 1/100\n",
      "1407/1407 [==============================] - 9s 5ms/step - loss: 4.2016 - sparse_categorical_accuracy: 0.1593 - val_loss: 2.1979 - val_sparse_categorical_accuracy: 0.2102\n",
      "Epoch 2/100\n",
      "1407/1407 [==============================] - 7s 5ms/step - loss: 2.0703 - sparse_categorical_accuracy: 0.2424 - val_loss: 2.0180 - val_sparse_categorical_accuracy: 0.2528\n",
      "Epoch 3/100\n",
      "1407/1407 [==============================] - 7s 5ms/step - loss: 1.9472 - sparse_categorical_accuracy: 0.2832 - val_loss: 1.9378 - val_sparse_categorical_accuracy: 0.2768\n",
      "Epoch 4/100\n",
      "1407/1407 [==============================] - 7s 5ms/step - loss: 1.8713 - sparse_categorical_accuracy: 0.3124 - val_loss: 1.9131 - val_sparse_categorical_accuracy: 0.3154\n",
      "Epoch 5/100\n",
      "1407/1407 [==============================] - 7s 5ms/step - loss: 1.8093 - sparse_categorical_accuracy: 0.3398 - val_loss: 1.7990 - val_sparse_categorical_accuracy: 0.3472\n",
      "Epoch 6/100\n",
      "1407/1407 [==============================] - 7s 5ms/step - loss: 1.7616 - sparse_categorical_accuracy: 0.3622 - val_loss: 1.7727 - val_sparse_categorical_accuracy: 0.3630\n",
      "Epoch 7/100\n",
      "1407/1407 [==============================] - 7s 5ms/step - loss: 1.7180 - sparse_categorical_accuracy: 0.3765 - val_loss: 1.7599 - val_sparse_categorical_accuracy: 0.3676\n",
      "Epoch 8/100\n",
      "1407/1407 [==============================] - 7s 5ms/step - loss: 1.6777 - sparse_categorical_accuracy: 0.3937 - val_loss: 1.6697 - val_sparse_categorical_accuracy: 0.3990\n",
      "Epoch 9/100\n",
      "1407/1407 [==============================] - 7s 5ms/step - loss: 1.6459 - sparse_categorical_accuracy: 0.4068 - val_loss: 1.6717 - val_sparse_categorical_accuracy: 0.3952\n",
      "Epoch 10/100\n",
      "1407/1407 [==============================] - 7s 5ms/step - loss: 1.6234 - sparse_categorical_accuracy: 0.4137 - val_loss: 1.6740 - val_sparse_categorical_accuracy: 0.3976\n",
      "Epoch 11/100\n",
      "1407/1407 [==============================] - 7s 5ms/step - loss: 1.5941 - sparse_categorical_accuracy: 0.4253 - val_loss: 1.6475 - val_sparse_categorical_accuracy: 0.4008\n",
      "Epoch 12/100\n",
      "1407/1407 [==============================] - 7s 5ms/step - loss: 1.5715 - sparse_categorical_accuracy: 0.4342 - val_loss: 1.6635 - val_sparse_categorical_accuracy: 0.4104\n",
      "Epoch 13/100\n",
      "1407/1407 [==============================] - 7s 5ms/step - loss: 1.5533 - sparse_categorical_accuracy: 0.4447 - val_loss: 1.6062 - val_sparse_categorical_accuracy: 0.4282\n",
      "Epoch 14/100\n",
      "1407/1407 [==============================] - 7s 5ms/step - loss: 1.5346 - sparse_categorical_accuracy: 0.4477 - val_loss: 1.5939 - val_sparse_categorical_accuracy: 0.4266\n",
      "Epoch 15/100\n",
      "1407/1407 [==============================] - 7s 5ms/step - loss: 1.5210 - sparse_categorical_accuracy: 0.4543 - val_loss: 1.6133 - val_sparse_categorical_accuracy: 0.4236\n",
      "Epoch 16/100\n",
      "1407/1407 [==============================] - 7s 5ms/step - loss: 1.5034 - sparse_categorical_accuracy: 0.4610 - val_loss: 1.5681 - val_sparse_categorical_accuracy: 0.4440\n",
      "Epoch 17/100\n",
      "1407/1407 [==============================] - 7s 5ms/step - loss: 1.4905 - sparse_categorical_accuracy: 0.4652 - val_loss: 1.6085 - val_sparse_categorical_accuracy: 0.4280\n",
      "Epoch 18/100\n",
      "1407/1407 [==============================] - 7s 5ms/step - loss: 1.4758 - sparse_categorical_accuracy: 0.4704 - val_loss: 1.5761 - val_sparse_categorical_accuracy: 0.4426\n",
      "Epoch 19/100\n",
      "1407/1407 [==============================] - 7s 5ms/step - loss: 1.4614 - sparse_categorical_accuracy: 0.4749 - val_loss: 1.5777 - val_sparse_categorical_accuracy: 0.4428\n",
      "Epoch 20/100\n",
      "1407/1407 [==============================] - 7s 5ms/step - loss: 1.4501 - sparse_categorical_accuracy: 0.4786 - val_loss: 1.5471 - val_sparse_categorical_accuracy: 0.4540\n",
      "Epoch 21/100\n",
      "1407/1407 [==============================] - 7s 5ms/step - loss: 1.4408 - sparse_categorical_accuracy: 0.4848 - val_loss: 1.5530 - val_sparse_categorical_accuracy: 0.4462\n",
      "Epoch 22/100\n",
      "1407/1407 [==============================] - 7s 5ms/step - loss: 1.4268 - sparse_categorical_accuracy: 0.4866 - val_loss: 1.5422 - val_sparse_categorical_accuracy: 0.4512\n",
      "Epoch 23/100\n",
      "1407/1407 [==============================] - 7s 5ms/step - loss: 1.4154 - sparse_categorical_accuracy: 0.4942 - val_loss: 1.5751 - val_sparse_categorical_accuracy: 0.4354\n",
      "Epoch 24/100\n",
      "1407/1407 [==============================] - 7s 5ms/step - loss: 1.4042 - sparse_categorical_accuracy: 0.4939 - val_loss: 1.5652 - val_sparse_categorical_accuracy: 0.4368\n",
      "Epoch 25/100\n",
      "1407/1407 [==============================] - 7s 5ms/step - loss: 1.3954 - sparse_categorical_accuracy: 0.5003 - val_loss: 1.5299 - val_sparse_categorical_accuracy: 0.4534\n",
      "Epoch 26/100\n",
      "1407/1407 [==============================] - 7s 5ms/step - loss: 1.3810 - sparse_categorical_accuracy: 0.5044 - val_loss: 1.5549 - val_sparse_categorical_accuracy: 0.4454\n",
      "Epoch 27/100\n",
      "1407/1407 [==============================] - 7s 5ms/step - loss: 1.3744 - sparse_categorical_accuracy: 0.5050 - val_loss: 1.5276 - val_sparse_categorical_accuracy: 0.4540\n",
      "Epoch 28/100\n",
      "1407/1407 [==============================] - 7s 5ms/step - loss: 1.3653 - sparse_categorical_accuracy: 0.5106 - val_loss: 1.5463 - val_sparse_categorical_accuracy: 0.4568\n",
      "Epoch 29/100\n",
      "1407/1407 [==============================] - 7s 5ms/step - loss: 1.3527 - sparse_categorical_accuracy: 0.5133 - val_loss: 1.4917 - val_sparse_categorical_accuracy: 0.4732\n",
      "Epoch 30/100\n",
      "1407/1407 [==============================] - 7s 5ms/step - loss: 1.3435 - sparse_categorical_accuracy: 0.5185 - val_loss: 1.5965 - val_sparse_categorical_accuracy: 0.4490\n",
      "Epoch 31/100\n",
      "1407/1407 [==============================] - 7s 5ms/step - loss: 1.3355 - sparse_categorical_accuracy: 0.5209 - val_loss: 1.5573 - val_sparse_categorical_accuracy: 0.4478\n",
      "Epoch 32/100\n",
      "1407/1407 [==============================] - 7s 5ms/step - loss: 1.3241 - sparse_categorical_accuracy: 0.5253 - val_loss: 1.5158 - val_sparse_categorical_accuracy: 0.4722\n",
      "Epoch 33/100\n",
      "1407/1407 [==============================] - 7s 5ms/step - loss: 1.3172 - sparse_categorical_accuracy: 0.5280 - val_loss: 1.4999 - val_sparse_categorical_accuracy: 0.4672\n",
      "Epoch 34/100\n",
      "1407/1407 [==============================] - 7s 5ms/step - loss: 1.3062 - sparse_categorical_accuracy: 0.5300 - val_loss: 1.5677 - val_sparse_categorical_accuracy: 0.4502\n",
      "Epoch 35/100\n",
      "1407/1407 [==============================] - 7s 5ms/step - loss: 1.3006 - sparse_categorical_accuracy: 0.5338 - val_loss: 1.5318 - val_sparse_categorical_accuracy: 0.4722\n",
      "Epoch 36/100\n",
      "1407/1407 [==============================] - 7s 5ms/step - loss: 1.2935 - sparse_categorical_accuracy: 0.5368 - val_loss: 1.5135 - val_sparse_categorical_accuracy: 0.4732\n",
      "Epoch 37/100\n",
      "1407/1407 [==============================] - 7s 5ms/step - loss: 1.2820 - sparse_categorical_accuracy: 0.5393 - val_loss: 1.5239 - val_sparse_categorical_accuracy: 0.4718\n",
      "Epoch 38/100\n",
      "1407/1407 [==============================] - 7s 5ms/step - loss: 1.2794 - sparse_categorical_accuracy: 0.5437 - val_loss: 1.5212 - val_sparse_categorical_accuracy: 0.4784\n",
      "Epoch 39/100\n",
      "1407/1407 [==============================] - 7s 5ms/step - loss: 1.2669 - sparse_categorical_accuracy: 0.5444 - val_loss: 1.4953 - val_sparse_categorical_accuracy: 0.4790\n",
      "Epoch 40/100\n",
      "1407/1407 [==============================] - 7s 5ms/step - loss: 1.2608 - sparse_categorical_accuracy: 0.5488 - val_loss: 1.5400 - val_sparse_categorical_accuracy: 0.4674\n",
      "Epoch 41/100\n",
      "1407/1407 [==============================] - 7s 5ms/step - loss: 1.2522 - sparse_categorical_accuracy: 0.5528 - val_loss: 1.5233 - val_sparse_categorical_accuracy: 0.4742\n",
      "Epoch 42/100\n",
      "1407/1407 [==============================] - 7s 5ms/step - loss: 1.2433 - sparse_categorical_accuracy: 0.5542 - val_loss: 1.5100 - val_sparse_categorical_accuracy: 0.4780\n",
      "Epoch 43/100\n",
      "1407/1407 [==============================] - 7s 5ms/step - loss: 1.2354 - sparse_categorical_accuracy: 0.5559 - val_loss: 1.4866 - val_sparse_categorical_accuracy: 0.4786\n",
      "Epoch 44/100\n",
      "1407/1407 [==============================] - 7s 5ms/step - loss: 1.2274 - sparse_categorical_accuracy: 0.5613 - val_loss: 1.5837 - val_sparse_categorical_accuracy: 0.4546\n",
      "Epoch 45/100\n",
      "1407/1407 [==============================] - 7s 5ms/step - loss: 1.2188 - sparse_categorical_accuracy: 0.5626 - val_loss: 1.5335 - val_sparse_categorical_accuracy: 0.4710\n",
      "Epoch 46/100\n",
      "1407/1407 [==============================] - 7s 5ms/step - loss: 1.2148 - sparse_categorical_accuracy: 0.5645 - val_loss: 1.5380 - val_sparse_categorical_accuracy: 0.4680\n",
      "Epoch 47/100\n",
      "1407/1407 [==============================] - 7s 5ms/step - loss: 1.2015 - sparse_categorical_accuracy: 0.5695 - val_loss: 1.5562 - val_sparse_categorical_accuracy: 0.4680\n",
      "Epoch 48/100\n",
      "1407/1407 [==============================] - 7s 5ms/step - loss: 1.1989 - sparse_categorical_accuracy: 0.5698 - val_loss: 1.5214 - val_sparse_categorical_accuracy: 0.4678\n",
      "Epoch 49/100\n",
      "1407/1407 [==============================] - 7s 5ms/step - loss: 1.1909 - sparse_categorical_accuracy: 0.5719 - val_loss: 1.5226 - val_sparse_categorical_accuracy: 0.4714\n",
      "Epoch 50/100\n",
      "1407/1407 [==============================] - 7s 5ms/step - loss: 1.1821 - sparse_categorical_accuracy: 0.5766 - val_loss: 1.5405 - val_sparse_categorical_accuracy: 0.4746\n",
      "Epoch 51/100\n",
      "1407/1407 [==============================] - 7s 5ms/step - loss: 1.1743 - sparse_categorical_accuracy: 0.5798 - val_loss: 1.5399 - val_sparse_categorical_accuracy: 0.4742\n",
      "Epoch 52/100\n",
      "1407/1407 [==============================] - 8s 5ms/step - loss: 1.1673 - sparse_categorical_accuracy: 0.5823 - val_loss: 1.5425 - val_sparse_categorical_accuracy: 0.4704\n",
      "Epoch 53/100\n",
      "1407/1407 [==============================] - 8s 6ms/step - loss: 1.1591 - sparse_categorical_accuracy: 0.5832 - val_loss: 1.5420 - val_sparse_categorical_accuracy: 0.4750\n",
      "Epoch 54/100\n",
      "1407/1407 [==============================] - 8s 6ms/step - loss: 1.1533 - sparse_categorical_accuracy: 0.5858 - val_loss: 1.5551 - val_sparse_categorical_accuracy: 0.4674\n",
      "Epoch 55/100\n",
      "1407/1407 [==============================] - 8s 5ms/step - loss: 1.1447 - sparse_categorical_accuracy: 0.5915 - val_loss: 1.5505 - val_sparse_categorical_accuracy: 0.4780\n",
      "Epoch 56/100\n",
      "1407/1407 [==============================] - 7s 5ms/step - loss: 1.1428 - sparse_categorical_accuracy: 0.5892 - val_loss: 1.5755 - val_sparse_categorical_accuracy: 0.4668\n",
      "Epoch 57/100\n",
      "1407/1407 [==============================] - 7s 5ms/step - loss: 1.1302 - sparse_categorical_accuracy: 0.5945 - val_loss: 1.5774 - val_sparse_categorical_accuracy: 0.4678\n",
      "Epoch 58/100\n",
      "1407/1407 [==============================] - 7s 5ms/step - loss: 1.1236 - sparse_categorical_accuracy: 0.5958 - val_loss: 1.5755 - val_sparse_categorical_accuracy: 0.4758\n",
      "Epoch 59/100\n",
      "1407/1407 [==============================] - 7s 5ms/step - loss: 1.1225 - sparse_categorical_accuracy: 0.5950 - val_loss: 1.5886 - val_sparse_categorical_accuracy: 0.4652\n",
      "Epoch 60/100\n",
      "1407/1407 [==============================] - 7s 5ms/step - loss: 1.1089 - sparse_categorical_accuracy: 0.6024 - val_loss: 1.6150 - val_sparse_categorical_accuracy: 0.4626\n",
      "Epoch 61/100\n",
      "1407/1407 [==============================] - 7s 5ms/step - loss: 1.1093 - sparse_categorical_accuracy: 0.6008 - val_loss: 1.5720 - val_sparse_categorical_accuracy: 0.4724\n",
      "Epoch 62/100\n",
      "1407/1407 [==============================] - 7s 5ms/step - loss: 1.1034 - sparse_categorical_accuracy: 0.6029 - val_loss: 1.5671 - val_sparse_categorical_accuracy: 0.4746\n",
      "Epoch 63/100\n",
      "1407/1407 [==============================] - 7s 5ms/step - loss: 1.0958 - sparse_categorical_accuracy: 0.6072 - val_loss: 1.5837 - val_sparse_categorical_accuracy: 0.4694\n"
     ]
    }
   ],
   "source": [
    "history = model.fit(X_train, y_train,\n",
    "                    epochs=100,\n",
    "                    validation_data=(X_val, y_val),\n",
    "                    callbacks=[model_checkpoint_cb, early_stopping_cb, tensorboard_cb])"
   ]
  },
  {
   "cell_type": "code",
   "execution_count": 15,
   "metadata": {},
   "outputs": [
    {
     "data": {
      "text/html": [
       "\n",
       "      <iframe id=\"tensorboard-frame-4fa2ea2a7809bcda\" width=\"100%\" height=\"800\" frameborder=\"0\">\n",
       "      </iframe>\n",
       "      <script>\n",
       "        (function() {\n",
       "          const frame = document.getElementById(\"tensorboard-frame-4fa2ea2a7809bcda\");\n",
       "          const url = new URL(\"/\", window.location);\n",
       "          const port = 6061;\n",
       "          if (port) {\n",
       "            url.port = port;\n",
       "          }\n",
       "          frame.src = url;\n",
       "        })();\n",
       "      </script>\n",
       "    "
      ],
      "text/plain": [
       "<IPython.core.display.HTML object>"
      ]
     },
     "metadata": {},
     "output_type": "display_data"
    }
   ],
   "source": [
    "%load_ext tensorboard\n",
    "%tensorboard --logdir=../Logs/my_CIFAR10_logs --port=6061"
   ]
  },
  {
   "cell_type": "code",
   "execution_count": 22,
   "metadata": {},
   "outputs": [
    {
     "name": "stdout",
     "output_type": "stream",
     "text": [
      "157/157 [==============================] - 0s 1ms/step - loss: 1.4866 - sparse_categorical_accuracy: 0.4786\n"
     ]
    },
    {
     "data": {
      "text/plain": [
       "[1.4866183996200562, 0.47859999537467957]"
      ]
     },
     "execution_count": 22,
     "metadata": {},
     "output_type": "execute_result"
    }
   ],
   "source": [
    "model = keras.models.load_model(\"../models/CIFAR10_model.h5\")\n",
    "model.evaluate(X_val, y_val)"
   ]
  },
  {
   "cell_type": "markdown",
   "metadata": {},
   "source": [
    "#### ex.2.1 "
   ]
  },
  {
   "cell_type": "markdown",
   "metadata": {},
   "source": [
    "参考第十章练习`ex.10`(请尝试使用本章介绍的方法来寻找最佳学习率(即通过成倍地提高学习率,画出误差,并找出误差发生的点)。),寻找最佳学习率并训练."
   ]
  },
  {
   "cell_type": "code",
   "execution_count": 23,
   "metadata": {},
   "outputs": [],
   "source": [
    "model = keras.models.Sequential()\n",
    "model.add(keras.layers.Flatten(input_shape=[32,32,3]))   # RGB彩色图像\n",
    "\n",
    "for layer in range(20):\n",
    "    model.add(keras.layers.Dense(100, activation=keras.activations.elu,\n",
    "                                 kernel_initializer = keras.initializers.he_normal))\n",
    "model.add(keras.layers.Dense(10, activation=keras.activations.softmax))"
   ]
  },
  {
   "cell_type": "markdown",
   "metadata": {},
   "source": [
    "We will start with a small learning rate of `1e-5`, and grow it by 0.6% at each iteration."
   ]
  },
  {
   "cell_type": "code",
   "execution_count": 24,
   "metadata": {},
   "outputs": [],
   "source": [
    "optimiter = keras.optimizers.Nadam(learning_rate=1e-5)\n",
    "model.compile(optimizer=optimiter,\n",
    "              loss=keras.losses.sparse_categorical_crossentropy,\n",
    "              metrics=[keras.metrics.sparse_categorical_accuracy])"
   ]
  },
  {
   "cell_type": "code",
   "execution_count": 25,
   "metadata": {},
   "outputs": [],
   "source": [
    "class expLearningRate(keras.callbacks.Callback):\n",
    "    def __init__(self, factor):\n",
    "        self.factor = factor\n",
    "        self.rates = []\n",
    "        self.losses = []\n",
    "    def on_batch_end(self, batch ,logs):\n",
    "        lr_var = self.model.optimizer.learning_rate\n",
    "        self.rates.append(keras.backend.get_value(lr_var))\n",
    "        self.losses.append(logs[\"loss\"])\n",
    "        \n",
    "        keras.backend.set_value(x=lr_var, value=lr_var*self.factor)\n",
    "\n",
    "exp_lr = expLearningRate(factor=1.006)   # 0.6%"
   ]
  },
  {
   "cell_type": "markdown",
   "metadata": {},
   "source": [
    "Train the model for just 1 epoch"
   ]
  },
  {
   "cell_type": "code",
   "execution_count": 26,
   "metadata": {},
   "outputs": [
    {
     "name": "stdout",
     "output_type": "stream",
     "text": [
      "1407/1407 [==============================] - 10s 6ms/step - loss: 3048535808.0000 - sparse_categorical_accuracy: 0.1141 - val_loss: 2.3163 - val_sparse_categorical_accuracy: 0.1040\n"
     ]
    }
   ],
   "source": [
    "history = model.fit(X_train, y_train, epochs=1,\n",
    "                    validation_data=(X_val, y_val),\n",
    "                    callbacks=[exp_lr]\n",
    "                   )"
   ]
  },
  {
   "cell_type": "markdown",
   "metadata": {},
   "source": [
    "Plot the loss as a function of the learning rate"
   ]
  },
  {
   "cell_type": "code",
   "execution_count": 27,
   "metadata": {
    "scrolled": true
   },
   "outputs": [
    {
     "data": {
      "image/png": "[encoded data removed]",
      "text/plain": [
       "<Figure size 640x480 with 1 Axes>"
      ]
     },
     "metadata": {},
     "output_type": "display_data"
    }
   ],
   "source": [
    "plt.plot(exp_lr.rates, exp_lr.losses)\n",
    "plt.gca().set_xscale('log')\n",
    "plt.hlines(y=min(exp_lr.losses), xmin=min(exp_lr.rates), xmax=max(exp_lr.rates))\n",
    "plt.axis([min(exp_lr.rates), max(exp_lr.rates), 0, exp_lr.losses[0]])\n",
    "plt.grid()\n",
    "plt.xlabel(\"Learning rate\")\n",
    "plt.ylabel(\"Loss\")\n",
    "plt.show()"
   ]
  },
  {
   "cell_type": "markdown",
   "metadata": {},
   "source": [
    "> 最佳学习率将比损失开始攀升的点低一些（通常比转折点低约10倍）"
   ]
  },
  {
   "cell_type": "markdown",
   "metadata": {},
   "source": [
    "The loss starts shooting back up violently when the learning rate goes over `5e-3`, so let's try using half of that, at `5e-4`"
   ]
  },
  {
   "cell_type": "markdown",
   "metadata": {},
   "source": [
    "### ex 8.3"
   ]
  },
  {
   "cell_type": "markdown",
   "metadata": {},
   "source": [
    "Exercise: Now try adding Batch Normalization and compare the learning curves: Is it converging faster than before? Does it produce a better model? How does it affect training speed?"
   ]
  },
  {
   "cell_type": "markdown",
   "metadata": {},
   "source": [
    "The code below is very similar to the code above, with a few changes:\n",
    "\n",
    "* I **added a `BN layer` after every Dense layer** (before the activation function), except for the output layer. I also added a BN layer before the first hidden layer.\n",
    "* I **changed the learning rate to `5e-4`.** I experimented with 1e-5, 3e-5, 5e-5, 1e-4, 3e-4, 5e-4, 1e-3 and 3e-3, and I chose the one with the best validation performance after 20 epochs.\n",
    "* I **renamed** the run directories to `run_bn_*` and the model file name to `my_cifar10_bn_model.h5`."
   ]
  },
  {
   "cell_type": "code",
   "execution_count": 28,
   "metadata": {},
   "outputs": [],
   "source": [
    "model = keras.models.Sequential()\n",
    "model.add(keras.layers.Flatten(input_shape=[32,32,3]))   # RGB彩色图像\n",
    "model.add(keras.layers.BatchNormalization())\n",
    "\n",
    "for layer in range(20):\n",
    "    model.add(keras.layers.Dense(100, kernel_initializer = keras.initializers.he_normal))\n",
    "    model.add(keras.layers.BatchNormalization())\n",
    "    model.add(keras.layers.Activation(keras.activations.elu))\n",
    "    \n",
    "model.add(keras.layers.Dense(10, activation=keras.activations.softmax))"
   ]
  },
  {
   "cell_type": "code",
   "execution_count": 29,
   "metadata": {},
   "outputs": [],
   "source": [
    "optimiter = keras.optimizers.Nadam(learning_rate=5e-4)\n",
    "model.compile(optimizer=optimiter,\n",
    "              loss=keras.losses.sparse_categorical_crossentropy,\n",
    "              metrics=[keras.metrics.sparse_categorical_accuracy])"
   ]
  },
  {
   "cell_type": "code",
   "execution_count": 30,
   "metadata": {},
   "outputs": [
    {
     "data": {
      "text/plain": [
       "'../Logs/my_CIFAR10_logs/run_bn_001'"
      ]
     },
     "execution_count": 30,
     "metadata": {},
     "output_type": "execute_result"
    }
   ],
   "source": [
    "run_index = 1\n",
    "run_logdir = os.path.join('../Logs/', \"my_CIFAR10_logs\", \"run_bn_{:03d}\".format(run_index))\n",
    "run_logdir"
   ]
  },
  {
   "cell_type": "code",
   "execution_count": 31,
   "metadata": {},
   "outputs": [],
   "source": [
    "model_checkpoint_cb = keras.callbacks.ModelCheckpoint(\"CIFAR10_bn_model.h5\", save_best_only=True)\n",
    "early_stopping_cb = keras.callbacks.EarlyStopping(patience=20)\n",
    "tensorboard_cb = keras.callbacks.TensorBoard(run_logdir)"
   ]
  },
  {
   "cell_type": "code",
   "execution_count": 32,
   "metadata": {},
   "outputs": [
    {
     "name": "stdout",
     "output_type": "stream",
     "text": [
      "Epoch 1/100\n",
      "1407/1407 [==============================] - 24s 14ms/step - loss: 1.8383 - sparse_categorical_accuracy: 0.3430 - val_loss: 1.6608 - val_sparse_categorical_accuracy: 0.4098\n",
      "Epoch 2/100\n",
      "1407/1407 [==============================] - 20s 14ms/step - loss: 1.6644 - sparse_categorical_accuracy: 0.4087 - val_loss: 1.6207 - val_sparse_categorical_accuracy: 0.4142\n",
      "Epoch 3/100\n",
      "1407/1407 [==============================] - 19s 13ms/step - loss: 1.5965 - sparse_categorical_accuracy: 0.4329 - val_loss: 1.5265 - val_sparse_categorical_accuracy: 0.4520\n",
      "Epoch 4/100\n",
      "1407/1407 [==============================] - 18s 13ms/step - loss: 1.5497 - sparse_categorical_accuracy: 0.4478 - val_loss: 1.5584 - val_sparse_categorical_accuracy: 0.4398\n",
      "Epoch 5/100\n",
      "1407/1407 [==============================] - 19s 13ms/step - loss: 1.5093 - sparse_categorical_accuracy: 0.4655 - val_loss: 1.4588 - val_sparse_categorical_accuracy: 0.4782\n",
      "Epoch 6/100\n",
      "1407/1407 [==============================] - 18s 13ms/step - loss: 1.4722 - sparse_categorical_accuracy: 0.4749 - val_loss: 1.4275 - val_sparse_categorical_accuracy: 0.4892\n",
      "Epoch 7/100\n",
      "1407/1407 [==============================] - 18s 13ms/step - loss: 1.4404 - sparse_categorical_accuracy: 0.4868 - val_loss: 1.4343 - val_sparse_categorical_accuracy: 0.4862\n",
      "Epoch 8/100\n",
      "1407/1407 [==============================] - 19s 13ms/step - loss: 1.4076 - sparse_categorical_accuracy: 0.5006 - val_loss: 1.3715 - val_sparse_categorical_accuracy: 0.5076\n",
      "Epoch 9/100\n",
      "1407/1407 [==============================] - 18s 13ms/step - loss: 1.3815 - sparse_categorical_accuracy: 0.5109 - val_loss: 1.3789 - val_sparse_categorical_accuracy: 0.5132\n",
      "Epoch 10/100\n",
      "1407/1407 [==============================] - 19s 13ms/step - loss: 1.3632 - sparse_categorical_accuracy: 0.5170 - val_loss: 1.3594 - val_sparse_categorical_accuracy: 0.5162\n",
      "Epoch 11/100\n",
      "1407/1407 [==============================] - 18s 13ms/step - loss: 1.3425 - sparse_categorical_accuracy: 0.5246 - val_loss: 1.3450 - val_sparse_categorical_accuracy: 0.5208\n",
      "Epoch 12/100\n",
      "1407/1407 [==============================] - 18s 13ms/step - loss: 1.3201 - sparse_categorical_accuracy: 0.5346 - val_loss: 1.3715 - val_sparse_categorical_accuracy: 0.5062\n",
      "Epoch 13/100\n",
      "1407/1407 [==============================] - 18s 13ms/step - loss: 1.3017 - sparse_categorical_accuracy: 0.5392 - val_loss: 1.3957 - val_sparse_categorical_accuracy: 0.5060\n",
      "Epoch 14/100\n",
      "1407/1407 [==============================] - 18s 13ms/step - loss: 1.2836 - sparse_categorical_accuracy: 0.5461 - val_loss: 1.3524 - val_sparse_categorical_accuracy: 0.5190\n",
      "Epoch 15/100\n",
      "1407/1407 [==============================] - 18s 13ms/step - loss: 1.2597 - sparse_categorical_accuracy: 0.5550 - val_loss: 1.3631 - val_sparse_categorical_accuracy: 0.5160\n",
      "Epoch 16/100\n",
      "1407/1407 [==============================] - 18s 13ms/step - loss: 1.2538 - sparse_categorical_accuracy: 0.5559 - val_loss: 1.3640 - val_sparse_categorical_accuracy: 0.5216\n",
      "Epoch 17/100\n",
      "1407/1407 [==============================] - 18s 13ms/step - loss: 1.2319 - sparse_categorical_accuracy: 0.5644 - val_loss: 1.3068 - val_sparse_categorical_accuracy: 0.5442\n",
      "Epoch 18/100\n",
      "1407/1407 [==============================] - 18s 13ms/step - loss: 1.2161 - sparse_categorical_accuracy: 0.5701 - val_loss: 1.3295 - val_sparse_categorical_accuracy: 0.5304\n",
      "Epoch 19/100\n",
      "1407/1407 [==============================] - 18s 13ms/step - loss: 1.2031 - sparse_categorical_accuracy: 0.5762 - val_loss: 1.3249 - val_sparse_categorical_accuracy: 0.5356\n",
      "Epoch 20/100\n",
      "1407/1407 [==============================] - 19s 13ms/step - loss: 1.1917 - sparse_categorical_accuracy: 0.5783 - val_loss: 1.3453 - val_sparse_categorical_accuracy: 0.5328\n",
      "Epoch 21/100\n",
      "1407/1407 [==============================] - 18s 13ms/step - loss: 1.1736 - sparse_categorical_accuracy: 0.5869 - val_loss: 1.3387 - val_sparse_categorical_accuracy: 0.5282\n",
      "Epoch 22/100\n",
      "1407/1407 [==============================] - 18s 13ms/step - loss: 1.1572 - sparse_categorical_accuracy: 0.5913 - val_loss: 1.3500 - val_sparse_categorical_accuracy: 0.5320\n",
      "Epoch 23/100\n",
      "1407/1407 [==============================] - 18s 13ms/step - loss: 1.1512 - sparse_categorical_accuracy: 0.5953 - val_loss: 1.3408 - val_sparse_categorical_accuracy: 0.5312\n",
      "Epoch 24/100\n",
      "1407/1407 [==============================] - 18s 13ms/step - loss: 1.1350 - sparse_categorical_accuracy: 0.6000 - val_loss: 1.3134 - val_sparse_categorical_accuracy: 0.5454\n",
      "Epoch 25/100\n",
      "1407/1407 [==============================] - 18s 13ms/step - loss: 1.1201 - sparse_categorical_accuracy: 0.6047 - val_loss: 1.3444 - val_sparse_categorical_accuracy: 0.5370\n",
      "Epoch 26/100\n",
      "1407/1407 [==============================] - 18s 13ms/step - loss: 1.1103 - sparse_categorical_accuracy: 0.6091 - val_loss: 1.3485 - val_sparse_categorical_accuracy: 0.5324\n",
      "Epoch 27/100\n",
      "1407/1407 [==============================] - 18s 13ms/step - loss: 1.0968 - sparse_categorical_accuracy: 0.6137 - val_loss: 1.3435 - val_sparse_categorical_accuracy: 0.5356\n",
      "Epoch 28/100\n",
      "1407/1407 [==============================] - 18s 13ms/step - loss: 1.0892 - sparse_categorical_accuracy: 0.6168 - val_loss: 1.3684 - val_sparse_categorical_accuracy: 0.5270\n",
      "Epoch 29/100\n",
      "1407/1407 [==============================] - 18s 13ms/step - loss: 1.0819 - sparse_categorical_accuracy: 0.6188 - val_loss: 1.3555 - val_sparse_categorical_accuracy: 0.5320\n",
      "Epoch 30/100\n",
      "1407/1407 [==============================] - 18s 13ms/step - loss: 1.0654 - sparse_categorical_accuracy: 0.6243 - val_loss: 1.3354 - val_sparse_categorical_accuracy: 0.5400\n",
      "Epoch 31/100\n",
      "1407/1407 [==============================] - 18s 13ms/step - loss: 1.0585 - sparse_categorical_accuracy: 0.6264 - val_loss: 1.3349 - val_sparse_categorical_accuracy: 0.5432\n",
      "Epoch 32/100\n",
      "1407/1407 [==============================] - 18s 13ms/step - loss: 1.0445 - sparse_categorical_accuracy: 0.6318 - val_loss: 1.3463 - val_sparse_categorical_accuracy: 0.5442\n",
      "Epoch 33/100\n",
      "1407/1407 [==============================] - 18s 13ms/step - loss: 1.0343 - sparse_categorical_accuracy: 0.6362 - val_loss: 1.3551 - val_sparse_categorical_accuracy: 0.5414\n",
      "Epoch 34/100\n",
      "1407/1407 [==============================] - 18s 13ms/step - loss: 1.0285 - sparse_categorical_accuracy: 0.6377 - val_loss: 1.3480 - val_sparse_categorical_accuracy: 0.5452\n",
      "Epoch 35/100\n",
      "1407/1407 [==============================] - 18s 13ms/step - loss: 1.0175 - sparse_categorical_accuracy: 0.6417 - val_loss: 1.3545 - val_sparse_categorical_accuracy: 0.5482\n",
      "Epoch 36/100\n",
      "1407/1407 [==============================] - 18s 13ms/step - loss: 1.0082 - sparse_categorical_accuracy: 0.6432 - val_loss: 1.3501 - val_sparse_categorical_accuracy: 0.5454\n",
      "Epoch 37/100\n",
      "1407/1407 [==============================] - 18s 13ms/step - loss: 0.9892 - sparse_categorical_accuracy: 0.6499 - val_loss: 1.3595 - val_sparse_categorical_accuracy: 0.5394\n"
     ]
    }
   ],
   "source": [
    "history = model.fit(X_train, y_train,\n",
    "                    epochs=100,\n",
    "                    validation_data=(X_val, y_val),\n",
    "                    callbacks=[model_checkpoint_cb, early_stopping_cb, tensorboard_cb])"
   ]
  },
  {
   "cell_type": "code",
   "execution_count": 34,
   "metadata": {},
   "outputs": [
    {
     "name": "stdout",
     "output_type": "stream",
     "text": [
      "313/313 [==============================] - 1s 2ms/step - loss: 1.3220 - sparse_categorical_accuracy: 0.5313\n"
     ]
    },
    {
     "data": {
      "text/plain": [
       "[1.322041630744934, 0.5313000082969666]"
      ]
     },
     "execution_count": 34,
     "metadata": {},
     "output_type": "execute_result"
    }
   ],
   "source": [
    "model = keras.models.load_model(\"../models/CIFAR10_bn_model.h5\")\n",
    "model.evaluate(X_test, y_test)"
   ]
  },
  {
   "cell_type": "markdown",
   "metadata": {},
   "source": [
    "* **Is the model converging faster than before?** \n",
    "    \n",
    "        Much faster! The previous model took 27 epochs to reach the lowest validation loss, while the new model achieved that same loss in just 5 epochs and continued to make progress until the 16th epoch. The BN layers stabilized training and allowed us to use a much larger learning rate, so convergence was faster.\n",
    "* **Does BN produce a better model?** \n",
    "\n",
    "        Yes! The final model is also much better, with 54.0% accuracy instead of 47.6%. It's still not a very good model, but at least it's much better than before (a Convolutional Neural Network would do much better, but that's a different topic, see chapter 14).\n",
    "* **How does BN affect training speed?** \n",
    "        Although the model converged much faster, each epoch took about 12s instead of 8s, because of the extra computations required by the BN layers. But overall the training time (wall time) was shortened significantly!"
   ]
  },
  {
   "cell_type": "markdown",
   "metadata": {},
   "source": [
    "### ex.8.4"
   ]
  },
  {
   "cell_type": "markdown",
   "metadata": {},
   "source": [
    "Exercise: Try replacing Batch Normalization with SELU, and make the necessary adjustements to ensure the network self-normalizes (i.e., standardize the input features, use LeCun normal initialization, make sure the DNN contains only a sequence of dense layers, etc.)."
   ]
  },
  {
   "cell_type": "code",
   "execution_count": 35,
   "metadata": {},
   "outputs": [],
   "source": [
    "# 输入标准化\n",
    "pixel_means = X_train.mean(axis=0)\n",
    "pixel_stds = X_train.std(axis=0)\n",
    "\n",
    "X_train_scaled = (X_train - pixel_means) / pixel_stds\n",
    "X_val_scaled = (X_val - pixel_means) / pixel_stds\n",
    "X_test_scaled = (X_test - pixel_means) / pixel_stds"
   ]
  },
  {
   "cell_type": "code",
   "execution_count": 36,
   "metadata": {},
   "outputs": [],
   "source": [
    "model = keras.models.Sequential()\n",
    "model.add(keras.layers.Flatten(input_shape=[32,32,3]))   # RGB彩色图像\n",
    "\n",
    "for layer in range(20):\n",
    "    model.add(keras.layers.Dense(100, \n",
    "                                 activation = keras.activations.selu,\n",
    "                                 kernel_initializer = keras.initializers.lecun_normal))\n",
    "    \n",
    "model.add(keras.layers.Dense(10, activation=keras.activations.softmax))"
   ]
  },
  {
   "cell_type": "code",
   "execution_count": 37,
   "metadata": {},
   "outputs": [],
   "source": [
    "optimiter = keras.optimizers.Nadam(learning_rate=7e-4)\n",
    "model.compile(optimizer=optimiter,\n",
    "              loss=keras.losses.sparse_categorical_crossentropy,\n",
    "              metrics=[keras.metrics.sparse_categorical_accuracy])"
   ]
  },
  {
   "cell_type": "code",
   "execution_count": 38,
   "metadata": {},
   "outputs": [
    {
     "data": {
      "text/plain": [
       "'../Logs/my_CIFAR10_logs/run_selu_001'"
      ]
     },
     "execution_count": 38,
     "metadata": {},
     "output_type": "execute_result"
    }
   ],
   "source": [
    "run_index = 1\n",
    "run_logdir = os.path.join('../Logs/', \"my_CIFAR10_logs\", \"run_selu_{:03d}\".format(run_index))\n",
    "run_logdir"
   ]
  },
  {
   "cell_type": "code",
   "execution_count": 39,
   "metadata": {},
   "outputs": [],
   "source": [
    "model_checkpoint_cb = keras.callbacks.ModelCheckpoint(\"../models/CIFAR10_selu_model.h5\", save_best_only=True)\n",
    "early_stopping_cb = keras.callbacks.EarlyStopping(patience=20)\n",
    "tensorboard_cb = keras.callbacks.TensorBoard(run_logdir)"
   ]
  },
  {
   "cell_type": "code",
   "execution_count": 40,
   "metadata": {},
   "outputs": [
    {
     "name": "stdout",
     "output_type": "stream",
     "text": [
      "Epoch 1/100\n",
      "1407/1407 [==============================] - 10s 6ms/step - loss: 1.9039 - sparse_categorical_accuracy: 0.3194 - val_loss: 1.8727 - val_sparse_categorical_accuracy: 0.3236\n",
      "Epoch 2/100\n",
      "1407/1407 [==============================] - 8s 6ms/step - loss: 1.7002 - sparse_categorical_accuracy: 0.3975 - val_loss: 1.7280 - val_sparse_categorical_accuracy: 0.3762\n",
      "Epoch 3/100\n",
      "1407/1407 [==============================] - 8s 6ms/step - loss: 1.6058 - sparse_categorical_accuracy: 0.4308 - val_loss: 1.6238 - val_sparse_categorical_accuracy: 0.4244\n",
      "Epoch 4/100\n",
      "1407/1407 [==============================] - 8s 6ms/step - loss: 1.5349 - sparse_categorical_accuracy: 0.4577 - val_loss: 1.6531 - val_sparse_categorical_accuracy: 0.4274\n",
      "Epoch 5/100\n",
      "1407/1407 [==============================] - 8s 6ms/step - loss: 1.4792 - sparse_categorical_accuracy: 0.4828 - val_loss: 1.6349 - val_sparse_categorical_accuracy: 0.4290\n",
      "Epoch 6/100\n",
      "1407/1407 [==============================] - 8s 5ms/step - loss: 1.4386 - sparse_categorical_accuracy: 0.4964 - val_loss: 1.5034 - val_sparse_categorical_accuracy: 0.4766\n",
      "Epoch 7/100\n",
      "1407/1407 [==============================] - 8s 5ms/step - loss: 1.3891 - sparse_categorical_accuracy: 0.5125 - val_loss: 1.5248 - val_sparse_categorical_accuracy: 0.4810\n",
      "Epoch 8/100\n",
      "1407/1407 [==============================] - 8s 5ms/step - loss: 1.3525 - sparse_categorical_accuracy: 0.5284 - val_loss: 1.4675 - val_sparse_categorical_accuracy: 0.4858\n",
      "Epoch 9/100\n",
      "1407/1407 [==============================] - 8s 6ms/step - loss: 1.3190 - sparse_categorical_accuracy: 0.5410 - val_loss: 1.4896 - val_sparse_categorical_accuracy: 0.4794\n",
      "Epoch 10/100\n",
      "1407/1407 [==============================] - 8s 6ms/step - loss: 1.2867 - sparse_categorical_accuracy: 0.5580 - val_loss: 1.5106 - val_sparse_categorical_accuracy: 0.4894\n",
      "Epoch 11/100\n",
      "1407/1407 [==============================] - 8s 6ms/step - loss: 1.2646 - sparse_categorical_accuracy: 0.5643 - val_loss: 1.5005 - val_sparse_categorical_accuracy: 0.4882\n",
      "Epoch 12/100\n",
      "1407/1407 [==============================] - 8s 6ms/step - loss: 1.2336 - sparse_categorical_accuracy: 0.5772 - val_loss: 1.5112 - val_sparse_categorical_accuracy: 0.4858\n",
      "Epoch 13/100\n",
      "1407/1407 [==============================] - 9s 6ms/step - loss: 1.2044 - sparse_categorical_accuracy: 0.5835 - val_loss: 1.5091 - val_sparse_categorical_accuracy: 0.4972\n",
      "Epoch 14/100\n",
      "1407/1407 [==============================] - 8s 5ms/step - loss: 1.1871 - sparse_categorical_accuracy: 0.5942 - val_loss: 1.4743 - val_sparse_categorical_accuracy: 0.4978\n",
      "Epoch 15/100\n",
      "1407/1407 [==============================] - 8s 5ms/step - loss: 1.1513 - sparse_categorical_accuracy: 0.6034 - val_loss: 1.5001 - val_sparse_categorical_accuracy: 0.5026\n",
      "Epoch 16/100\n",
      "1407/1407 [==============================] - 8s 5ms/step - loss: 1.1420 - sparse_categorical_accuracy: 0.6101 - val_loss: 1.5047 - val_sparse_categorical_accuracy: 0.5016\n",
      "Epoch 17/100\n",
      "1407/1407 [==============================] - 8s 6ms/step - loss: 1.1193 - sparse_categorical_accuracy: 0.6141 - val_loss: 1.4972 - val_sparse_categorical_accuracy: 0.4990\n",
      "Epoch 18/100\n",
      "1407/1407 [==============================] - 7s 5ms/step - loss: 1.0932 - sparse_categorical_accuracy: 0.6257 - val_loss: 1.5204 - val_sparse_categorical_accuracy: 0.5120\n",
      "Epoch 19/100\n",
      "1407/1407 [==============================] - 7s 5ms/step - loss: 1.0790 - sparse_categorical_accuracy: 0.6307 - val_loss: 1.5398 - val_sparse_categorical_accuracy: 0.5092\n",
      "Epoch 20/100\n",
      "1407/1407 [==============================] - 8s 5ms/step - loss: 1.0595 - sparse_categorical_accuracy: 0.6392 - val_loss: 1.5496 - val_sparse_categorical_accuracy: 0.5034\n",
      "Epoch 21/100\n",
      "1407/1407 [==============================] - 8s 5ms/step - loss: 1.0478 - sparse_categorical_accuracy: 0.6454 - val_loss: 1.5773 - val_sparse_categorical_accuracy: 0.5124\n",
      "Epoch 22/100\n",
      "1407/1407 [==============================] - 8s 6ms/step - loss: 1.0242 - sparse_categorical_accuracy: 0.6526 - val_loss: 1.5822 - val_sparse_categorical_accuracy: 0.5040\n",
      "Epoch 23/100\n",
      "1407/1407 [==============================] - 9s 6ms/step - loss: 1.0030 - sparse_categorical_accuracy: 0.6610 - val_loss: 1.5752 - val_sparse_categorical_accuracy: 0.5052\n",
      "Epoch 24/100\n",
      "1407/1407 [==============================] - 8s 5ms/step - loss: 0.9906 - sparse_categorical_accuracy: 0.6648 - val_loss: 1.5603 - val_sparse_categorical_accuracy: 0.5082\n",
      "Epoch 25/100\n",
      "1407/1407 [==============================] - 8s 5ms/step - loss: 0.9822 - sparse_categorical_accuracy: 0.6678 - val_loss: 1.6115 - val_sparse_categorical_accuracy: 0.5064\n",
      "Epoch 26/100\n",
      "1407/1407 [==============================] - 8s 6ms/step - loss: 0.9633 - sparse_categorical_accuracy: 0.6747 - val_loss: 1.6025 - val_sparse_categorical_accuracy: 0.4978\n",
      "Epoch 27/100\n",
      "1407/1407 [==============================] - 7s 5ms/step - loss: 0.9483 - sparse_categorical_accuracy: 0.6803 - val_loss: 1.5489 - val_sparse_categorical_accuracy: 0.5032\n",
      "Epoch 28/100\n",
      "1407/1407 [==============================] - 8s 5ms/step - loss: 0.9335 - sparse_categorical_accuracy: 0.6865 - val_loss: 1.6194 - val_sparse_categorical_accuracy: 0.4916\n"
     ]
    }
   ],
   "source": [
    "history = model.fit(X_train_scaled, y_train,\n",
    "                    epochs=100,\n",
    "                    validation_data=(X_val_scaled, y_val),\n",
    "                    callbacks=[model_checkpoint_cb, early_stopping_cb, tensorboard_cb])"
   ]
  },
  {
   "cell_type": "code",
   "execution_count": 41,
   "metadata": {},
   "outputs": [
    {
     "name": "stdout",
     "output_type": "stream",
     "text": [
      "313/313 [==============================] - 1s 1ms/step - loss: 1.4476 - sparse_categorical_accuracy: 0.4916\n"
     ]
    },
    {
     "data": {
      "text/plain": [
       "[1.4476391077041626, 0.49160000681877136]"
      ]
     },
     "execution_count": 41,
     "metadata": {},
     "output_type": "execute_result"
    }
   ],
   "source": [
    "model = keras.models.load_model(\"../models/CIFAR10_selu_model.h5\")\n",
    "model.evaluate(X_test_scaled, y_test)"
   ]
  },
  {
   "cell_type": "markdown",
   "metadata": {},
   "source": [
    "We get 47.9% accuracy, which is not much better than the original model (47.6%), and not as good as the model using batch normalization (54.0%). However, convergence was almost as fast as with the BN model, plus each epoch took only 7 seconds. So it's by far the fastest model to train so far."
   ]
  },
  {
   "cell_type": "markdown",
   "metadata": {},
   "source": [
    "### ex.8.5"
   ]
  },
  {
   "cell_type": "markdown",
   "metadata": {},
   "source": [
    "Exercise: Try regularizing the model with `alpha dropout`. Then, without retraining your model, see if you can achieve better accuracy using `MC Dropout`."
   ]
  },
  {
   "cell_type": "markdown",
   "metadata": {},
   "source": [
    "- `Alpha dropout`"
   ]
  },
  {
   "cell_type": "code",
   "execution_count": 42,
   "metadata": {},
   "outputs": [],
   "source": [
    "model = keras.models.Sequential()\n",
    "model.add(keras.layers.Flatten(input_shape=[32,32,3]))   # RGB彩色图像\n",
    "\n",
    "for layer in range(20):\n",
    "    model.add(keras.layers.Dense(100, \n",
    "                                 activation = keras.activations.selu,\n",
    "                                 kernel_initializer = keras.initializers.lecun_normal))\n",
    "\n",
    "model.add(keras.layers.AlphaDropout(rate=0.1))\n",
    "    \n",
    "model.add(keras.layers.Dense(10, activation=keras.activations.softmax))"
   ]
  },
  {
   "cell_type": "code",
   "execution_count": 43,
   "metadata": {},
   "outputs": [],
   "source": [
    "optimiter = keras.optimizers.Nadam(learning_rate=5e-4)\n",
    "model.compile(optimizer=optimiter,\n",
    "              loss=keras.losses.sparse_categorical_crossentropy,\n",
    "              metrics=[keras.metrics.sparse_categorical_accuracy])"
   ]
  },
  {
   "cell_type": "code",
   "execution_count": 44,
   "metadata": {},
   "outputs": [
    {
     "data": {
      "text/plain": [
       "'../Logs/my_CIFAR10_logs/run_AlphaDropout_001'"
      ]
     },
     "execution_count": 44,
     "metadata": {},
     "output_type": "execute_result"
    }
   ],
   "source": [
    "run_index = 1\n",
    "run_logdir = os.path.join('../Logs/', \"my_CIFAR10_logs\", \"run_AlphaDropout_{:03d}\".format(run_index))\n",
    "run_logdir"
   ]
  },
  {
   "cell_type": "code",
   "execution_count": 45,
   "metadata": {},
   "outputs": [],
   "source": [
    "model_checkpoint_cb = keras.callbacks.ModelCheckpoint(\"../models/CIFAR10_AlphaDropout_model.h5\", save_best_only=True)\n",
    "early_stopping_cb = keras.callbacks.EarlyStopping(patience=20)\n",
    "tensorboard_cb = keras.callbacks.TensorBoard(run_logdir)"
   ]
  },
  {
   "cell_type": "code",
   "execution_count": 49,
   "metadata": {
    "scrolled": true
   },
   "outputs": [
    {
     "name": "stdout",
     "output_type": "stream",
     "text": [
      "Epoch 1/100\n",
      "1407/1407 [==============================] - 8s 6ms/step - loss: 1.3812 - sparse_categorical_accuracy: 0.5207 - val_loss: 1.5649 - val_sparse_categorical_accuracy: 0.4840\n",
      "Epoch 2/100\n",
      "1407/1407 [==============================] - 8s 6ms/step - loss: 1.3412 - sparse_categorical_accuracy: 0.5357 - val_loss: 1.5609 - val_sparse_categorical_accuracy: 0.4738\n",
      "Epoch 3/100\n",
      "1407/1407 [==============================] - 8s 5ms/step - loss: 1.3096 - sparse_categorical_accuracy: 0.5464 - val_loss: 1.6155 - val_sparse_categorical_accuracy: 0.4842\n",
      "Epoch 4/100\n",
      "1407/1407 [==============================] - 8s 6ms/step - loss: 1.2738 - sparse_categorical_accuracy: 0.5584 - val_loss: 1.5343 - val_sparse_categorical_accuracy: 0.4892\n",
      "Epoch 5/100\n",
      "1407/1407 [==============================] - 8s 6ms/step - loss: 1.2340 - sparse_categorical_accuracy: 0.5756 - val_loss: 1.5662 - val_sparse_categorical_accuracy: 0.4914\n",
      "Epoch 6/100\n",
      "1407/1407 [==============================] - 8s 6ms/step - loss: 1.2091 - sparse_categorical_accuracy: 0.5838 - val_loss: 1.5392 - val_sparse_categorical_accuracy: 0.4988\n",
      "Epoch 7/100\n",
      "1407/1407 [==============================] - 8s 5ms/step - loss: 1.1864 - sparse_categorical_accuracy: 0.5932 - val_loss: 1.5869 - val_sparse_categorical_accuracy: 0.5002\n",
      "Epoch 8/100\n",
      "1407/1407 [==============================] - 8s 6ms/step - loss: 1.1538 - sparse_categorical_accuracy: 0.6045 - val_loss: 1.5130 - val_sparse_categorical_accuracy: 0.5106\n",
      "Epoch 9/100\n",
      "1407/1407 [==============================] - 8s 6ms/step - loss: 1.1316 - sparse_categorical_accuracy: 0.6104 - val_loss: 1.5888 - val_sparse_categorical_accuracy: 0.4914\n",
      "Epoch 10/100\n",
      "1407/1407 [==============================] - 8s 6ms/step - loss: 1.1033 - sparse_categorical_accuracy: 0.6222 - val_loss: 1.5720 - val_sparse_categorical_accuracy: 0.5042\n",
      "Epoch 11/100\n",
      "1407/1407 [==============================] - 8s 6ms/step - loss: 1.0804 - sparse_categorical_accuracy: 0.6316 - val_loss: 1.6710 - val_sparse_categorical_accuracy: 0.5066\n",
      "Epoch 12/100\n",
      "1407/1407 [==============================] - 8s 6ms/step - loss: 1.0583 - sparse_categorical_accuracy: 0.6404 - val_loss: 1.5742 - val_sparse_categorical_accuracy: 0.5006\n",
      "Epoch 13/100\n",
      "1407/1407 [==============================] - 8s 6ms/step - loss: 1.0320 - sparse_categorical_accuracy: 0.6465 - val_loss: 1.6447 - val_sparse_categorical_accuracy: 0.5044\n",
      "Epoch 14/100\n",
      "1407/1407 [==============================] - 8s 6ms/step - loss: 1.0159 - sparse_categorical_accuracy: 0.6550 - val_loss: 1.6411 - val_sparse_categorical_accuracy: 0.5124\n",
      "Epoch 15/100\n",
      "1407/1407 [==============================] - 8s 6ms/step - loss: 0.9939 - sparse_categorical_accuracy: 0.6614 - val_loss: 1.7800 - val_sparse_categorical_accuracy: 0.5112\n",
      "Epoch 16/100\n",
      "1407/1407 [==============================] - 8s 6ms/step - loss: 0.9701 - sparse_categorical_accuracy: 0.6696 - val_loss: 1.6851 - val_sparse_categorical_accuracy: 0.5110\n",
      "Epoch 17/100\n",
      "1407/1407 [==============================] - 8s 6ms/step - loss: 0.9512 - sparse_categorical_accuracy: 0.6762 - val_loss: 1.7500 - val_sparse_categorical_accuracy: 0.5018\n",
      "Epoch 18/100\n",
      "1407/1407 [==============================] - 8s 6ms/step - loss: 0.9425 - sparse_categorical_accuracy: 0.6804 - val_loss: 1.6846 - val_sparse_categorical_accuracy: 0.5060\n",
      "Epoch 19/100\n",
      "1407/1407 [==============================] - 8s 6ms/step - loss: 0.9181 - sparse_categorical_accuracy: 0.6863 - val_loss: 1.7464 - val_sparse_categorical_accuracy: 0.5066\n",
      "Epoch 20/100\n",
      "1407/1407 [==============================] - 8s 6ms/step - loss: 0.9021 - sparse_categorical_accuracy: 0.6936 - val_loss: 1.7226 - val_sparse_categorical_accuracy: 0.5068\n",
      "Epoch 21/100\n",
      "1407/1407 [==============================] - 8s 6ms/step - loss: 0.8824 - sparse_categorical_accuracy: 0.7004 - val_loss: 1.7866 - val_sparse_categorical_accuracy: 0.5078\n",
      "Epoch 22/100\n",
      "1407/1407 [==============================] - 8s 6ms/step - loss: 0.8640 - sparse_categorical_accuracy: 0.7085 - val_loss: 1.8704 - val_sparse_categorical_accuracy: 0.4964\n",
      "Epoch 23/100\n",
      "1407/1407 [==============================] - 8s 6ms/step - loss: 0.8494 - sparse_categorical_accuracy: 0.7129 - val_loss: 1.8589 - val_sparse_categorical_accuracy: 0.4990\n",
      "Epoch 24/100\n",
      "1407/1407 [==============================] - 8s 6ms/step - loss: 0.8409 - sparse_categorical_accuracy: 0.7179 - val_loss: 1.8760 - val_sparse_categorical_accuracy: 0.4978\n",
      "Epoch 25/100\n",
      "1407/1407 [==============================] - 8s 6ms/step - loss: 0.8234 - sparse_categorical_accuracy: 0.7211 - val_loss: 1.8475 - val_sparse_categorical_accuracy: 0.5006\n",
      "Epoch 26/100\n",
      "1407/1407 [==============================] - 8s 6ms/step - loss: 0.8080 - sparse_categorical_accuracy: 0.7285 - val_loss: 1.9551 - val_sparse_categorical_accuracy: 0.5058\n",
      "Epoch 27/100\n",
      "1407/1407 [==============================] - 8s 6ms/step - loss: 0.7964 - sparse_categorical_accuracy: 0.7346 - val_loss: 1.9203 - val_sparse_categorical_accuracy: 0.5108\n",
      "Epoch 28/100\n",
      "1407/1407 [==============================] - 8s 6ms/step - loss: 0.7859 - sparse_categorical_accuracy: 0.7364 - val_loss: 1.9595 - val_sparse_categorical_accuracy: 0.4924\n"
     ]
    }
   ],
   "source": [
    "history = model.fit(X_train_scaled, y_train,\n",
    "                    epochs=100,\n",
    "                    validation_data=(X_val_scaled, y_val),\n",
    "                    callbacks=[model_checkpoint_cb, early_stopping_cb, tensorboard_cb])"
   ]
  },
  {
   "cell_type": "code",
   "execution_count": 50,
   "metadata": {},
   "outputs": [
    {
     "name": "stdout",
     "output_type": "stream",
     "text": [
      "313/313 [==============================] - 1s 1ms/step - loss: 1.5093 - sparse_categorical_accuracy: 0.5094\n"
     ]
    },
    {
     "data": {
      "text/plain": [
       "[1.5093053579330444, 0.5094000101089478]"
      ]
     },
     "execution_count": 50,
     "metadata": {},
     "output_type": "execute_result"
    }
   ],
   "source": [
    "model = keras.models.load_model(\"../models/CIFAR10_AlphaDropout_model.h5\")\n",
    "model.evaluate(X_test_scaled, y_test)"
   ]
  },
  {
   "cell_type": "markdown",
   "metadata": {},
   "source": [
    "The model reaches 48.9% accuracy on the validation set. That's very slightly better than without dropout (47.6%). With an extensive hyperparameter search, it might be possible to do better (I tried dropout rates of 5%, 10%, 20% and 40%, and learning rates 1e-4, 3e-4, 5e-4, and 1e-3), but probably not much better in this case."
   ]
  },
  {
   "cell_type": "markdown",
   "metadata": {},
   "source": [
    "- `MC dropout`"
   ]
  },
  {
   "cell_type": "code",
   "execution_count": 51,
   "metadata": {},
   "outputs": [],
   "source": [
    "class MCAlphaDropout(keras.layers.AlphaDropout):\n",
    "    def call(self, inputs):\n",
    "        return super().call(inputs, training=True)"
   ]
  },
  {
   "cell_type": "code",
   "execution_count": 52,
   "metadata": {},
   "outputs": [],
   "source": [
    "#isinstance() 函数来判断一个对象是否是一个已知的类型\n",
    "#遍历所有层，是dropout层就执行mc dropout操作，然后添加到神经网络中，不是就直接添加\n",
    "\n",
    "mc_model = keras.models.Sequential([\n",
    "    MCAlphaDropout(layer.rate) if isinstance(layer, keras.layers.AlphaDropout) else layer\n",
    "    for layer in model.layers   # 与我们刚刚训练的模型相同\n",
    "])"
   ]
  },
  {
   "cell_type": "code",
   "execution_count": 53,
   "metadata": {},
   "outputs": [],
   "source": [
    "# 多次运行模型（默认情况下为10次），并返回平均预测类概率\n",
    "def mc_dropout_predict_probas(mc_model, X, n_samples=10):\n",
    "    Y_probas = [mc_model.predict(X) for sample in range(n_samples)]\n",
    "    return np.mean(Y_probas, axis=0)\n",
    "\n",
    "# 使用这些平均概率来预测每个实例最可能的类别\n",
    "def mc_dropout_predict_classes(mc_model, X, n_samples=10):\n",
    "    Y_probas = mc_dropout_predict_probas(mc_model, X, n_samples)\n",
    "    return np.argmax(Y_probas, axis=1)"
   ]
  },
  {
   "cell_type": "code",
   "execution_count": 54,
   "metadata": {},
   "outputs": [
    {
     "name": "stdout",
     "output_type": "stream",
     "text": [
      "157/157 [==============================] - 0s 957us/step\n",
      "157/157 [==============================] - 0s 992us/step\n",
      "157/157 [==============================] - 0s 959us/step\n",
      "157/157 [==============================] - 0s 941us/step\n",
      "157/157 [==============================] - 0s 947us/step\n",
      "157/157 [==============================] - 0s 952us/step\n",
      "157/157 [==============================] - 0s 952us/step\n",
      "157/157 [==============================] - 0s 961us/step\n",
      "157/157 [==============================] - 0s 947us/step\n",
      "157/157 [==============================] - 0s 940us/step\n"
     ]
    },
    {
     "data": {
      "text/plain": [
       "0.5088"
      ]
     },
     "execution_count": 54,
     "metadata": {},
     "output_type": "execute_result"
    }
   ],
   "source": [
    "# 对验证集中的所有实例进行预测，并计算精度\n",
    "y_pred = mc_dropout_predict_classes(mc_model, X_val_scaled)\n",
    "accuracy = np.mean(y_pred == y_val[:, 0])  # x[:,0]这个写法就是取第0列，求均值相当于是正确率\n",
    "accuracy"
   ]
  },
  {
   "cell_type": "markdown",
   "metadata": {},
   "source": [
    "We get no accuracy improvement in this case (we're still at 48.9% accuracy).\n",
    "\n",
    "So the best model we got in this exercise is the Batch Normalization model."
   ]
  },
  {
   "cell_type": "markdown",
   "metadata": {},
   "source": [
    "# ex.8.6"
   ]
  },
  {
   "cell_type": "markdown",
   "metadata": {},
   "source": [
    "Exercise: Retrain your model using 1cycle scheduling and see if it improves training speed and model accuracy."
   ]
  },
  {
   "cell_type": "code",
   "execution_count": 55,
   "metadata": {},
   "outputs": [],
   "source": [
    "model = keras.models.Sequential()\n",
    "model.add(keras.layers.Flatten(input_shape=[32,32,3]))   # RGB彩色图像\n",
    "\n",
    "for layer in range(20):\n",
    "    model.add(keras.layers.Dense(100, \n",
    "                                 activation = keras.activations.selu,\n",
    "                                 kernel_initializer = keras.initializers.lecun_normal))\n",
    "\n",
    "model.add(keras.layers.AlphaDropout(rate=0.1))\n",
    "    \n",
    "model.add(keras.layers.Dense(10, activation=keras.activations.softmax))"
   ]
  },
  {
   "cell_type": "code",
   "execution_count": 56,
   "metadata": {},
   "outputs": [],
   "source": [
    "optimiter = keras.optimizers.Nadam(learning_rate=5e-4)\n",
    "model.compile(optimizer=optimiter,\n",
    "              loss=keras.losses.sparse_categorical_crossentropy,\n",
    "              metrics=[keras.metrics.sparse_categorical_accuracy])"
   ]
  },
  {
   "cell_type": "code",
   "execution_count": 57,
   "metadata": {},
   "outputs": [],
   "source": [
    "class OneCycleScheduler(keras.callbacks.Callback):\n",
    "    def __init__(self, iterations, max_rate, start_rate=None,\n",
    "                 last_iterations=None, last_rate=None):\n",
    "        self.iterations = iterations\n",
    "        #print(iterations)#8800\n",
    "        self.max_rate = max_rate\n",
    "        #print(max_rate)  #0.05\n",
    "        self.start_rate = start_rate or max_rate / 10 #Python里面 /表示除法， //表示整除\n",
    "        #print(self.start_rate)#0.005\n",
    "        self.last_iterations = last_iterations or iterations // 10 + 1\n",
    "        #print(self.last_iterations) #881\n",
    "        self.half_iteration = (iterations - self.last_iterations) // 2\n",
    "        #print(self.half_iteration) #3959\n",
    "        #print(2 * self.half_iteration)#7918\n",
    "        self.last_rate = last_rate or self.start_rate / 1000\n",
    "        #print(self.last_rate) #5e-06\n",
    "        self.iteration = 0\n",
    "    def _interpolate(self, iter1, iter2, rate1, rate2):\n",
    "        return ((rate2 - rate1) * (self.iteration - iter1)\n",
    "                / (iter2 - iter1) + rate1)\n",
    "    def on_batch_begin(self, batch, logs):\n",
    "        if self.iteration < self.half_iteration:\n",
    "            rate = self._interpolate(0, self.half_iteration, self.start_rate, self.max_rate)\n",
    "        elif self.iteration < 2 * self.half_iteration:\n",
    "            rate = self._interpolate(self.half_iteration, 2 * self.half_iteration,\n",
    "                                     self.max_rate, self.start_rate)\n",
    "        else:\n",
    "            rate = self._interpolate(2 * self.half_iteration, self.iterations,\n",
    "                                     self.start_rate, self.last_rate)\n",
    "              \n",
    "        self.iteration += 1\n",
    "        K.set_value(self.model.optimizer.lr, rate)"
   ]
  },
  {
   "cell_type": "code",
   "execution_count": 49,
   "metadata": {
    "scrolled": true
   },
   "outputs": [
    {
     "name": "stdout",
     "output_type": "stream",
     "text": [
      "Epoch 1/25\n",
      "352/352 [==============================] - 6s 11ms/step - loss: 295.4765 - sparse_categorical_accuracy: 0.1392 - val_loss: 2.2638 - val_sparse_categorical_accuracy: 0.1420\n",
      "Epoch 2/25\n",
      "352/352 [==============================] - 4s 10ms/step - loss: 2.2135 - sparse_categorical_accuracy: 0.1635 - val_loss: 2.1748 - val_sparse_categorical_accuracy: 0.1886\n",
      "Epoch 3/25\n",
      "352/352 [==============================] - 4s 10ms/step - loss: 2.2189 - sparse_categorical_accuracy: 0.1581 - val_loss: 2.2016 - val_sparse_categorical_accuracy: 0.1580\n",
      "Epoch 4/25\n",
      "352/352 [==============================] - 4s 10ms/step - loss: 2.2168 - sparse_categorical_accuracy: 0.1546 - val_loss: 2.2057 - val_sparse_categorical_accuracy: 0.1742\n",
      "Epoch 5/25\n",
      "352/352 [==============================] - 4s 10ms/step - loss: 27408084238336.0000 - sparse_categorical_accuracy: 0.1041 - val_loss: 2.7167 - val_sparse_categorical_accuracy: 0.1038\n",
      "Epoch 6/25\n",
      "352/352 [==============================] - 4s 10ms/step - loss: 2.3071 - sparse_categorical_accuracy: 0.1001 - val_loss: 2.7006 - val_sparse_categorical_accuracy: 0.1038\n",
      "Epoch 7/25\n",
      "352/352 [==============================] - 4s 10ms/step - loss: 2.3086 - sparse_categorical_accuracy: 0.1003 - val_loss: 2.7095 - val_sparse_categorical_accuracy: 0.1038\n",
      "Epoch 8/25\n",
      "352/352 [==============================] - 4s 10ms/step - loss: 2.3101 - sparse_categorical_accuracy: 0.0974 - val_loss: 2.6880 - val_sparse_categorical_accuracy: 0.1038\n",
      "Epoch 9/25\n",
      "352/352 [==============================] - 4s 10ms/step - loss: 2.3122 - sparse_categorical_accuracy: 0.1000 - val_loss: 2.6801 - val_sparse_categorical_accuracy: 0.1038\n",
      "Epoch 10/25\n",
      "352/352 [==============================] - 4s 10ms/step - loss: 2.3147 - sparse_categorical_accuracy: 0.0985 - val_loss: 2.6744 - val_sparse_categorical_accuracy: 0.1038\n",
      "Epoch 11/25\n",
      "352/352 [==============================] - 4s 10ms/step - loss: 2.3169 - sparse_categorical_accuracy: 0.0989 - val_loss: 2.7571 - val_sparse_categorical_accuracy: 0.0920\n",
      "Epoch 12/25\n",
      "352/352 [==============================] - 4s 10ms/step - loss: 2.3181 - sparse_categorical_accuracy: 0.0970 - val_loss: 2.7687 - val_sparse_categorical_accuracy: 0.0920\n",
      "Epoch 13/25\n",
      "352/352 [==============================] - 4s 10ms/step - loss: 2.3183 - sparse_categorical_accuracy: 0.1004 - val_loss: 2.7001 - val_sparse_categorical_accuracy: 0.1038\n",
      "Epoch 14/25\n",
      "352/352 [==============================] - 4s 10ms/step - loss: 2.3177 - sparse_categorical_accuracy: 0.1004 - val_loss: 2.7995 - val_sparse_categorical_accuracy: 0.1038\n",
      "Epoch 15/25\n",
      "352/352 [==============================] - 4s 10ms/step - loss: 2.3169 - sparse_categorical_accuracy: 0.0981 - val_loss: 2.5927 - val_sparse_categorical_accuracy: 0.1038\n",
      "Epoch 16/25\n",
      "352/352 [==============================] - 4s 10ms/step - loss: 2.3154 - sparse_categorical_accuracy: 0.1012 - val_loss: 2.6511 - val_sparse_categorical_accuracy: 0.1038\n",
      "Epoch 17/25\n",
      "352/352 [==============================] - 4s 10ms/step - loss: 2.3146 - sparse_categorical_accuracy: 0.1001 - val_loss: 2.5940 - val_sparse_categorical_accuracy: 0.1038\n",
      "Epoch 18/25\n",
      "352/352 [==============================] - 4s 10ms/step - loss: 2.3134 - sparse_categorical_accuracy: 0.1008 - val_loss: 2.6626 - val_sparse_categorical_accuracy: 0.1038\n",
      "Epoch 19/25\n",
      "352/352 [==============================] - 4s 10ms/step - loss: 2.3126 - sparse_categorical_accuracy: 0.0990 - val_loss: 2.7308 - val_sparse_categorical_accuracy: 0.0920\n",
      "Epoch 20/25\n",
      "352/352 [==============================] - 4s 10ms/step - loss: 2.3107 - sparse_categorical_accuracy: 0.1011 - val_loss: 2.7072 - val_sparse_categorical_accuracy: 0.0920\n",
      "Epoch 21/25\n",
      "352/352 [==============================] - 4s 10ms/step - loss: 2.3099 - sparse_categorical_accuracy: 0.0984 - val_loss: 2.6222 - val_sparse_categorical_accuracy: 0.0920\n",
      "Epoch 22/25\n",
      "352/352 [==============================] - 4s 10ms/step - loss: 2.3078 - sparse_categorical_accuracy: 0.1000 - val_loss: 2.7583 - val_sparse_categorical_accuracy: 0.1038\n",
      "Epoch 23/25\n",
      "352/352 [==============================] - 4s 10ms/step - loss: 2.3061 - sparse_categorical_accuracy: 0.1016 - val_loss: 2.7491 - val_sparse_categorical_accuracy: 0.1038\n",
      "Epoch 24/25\n",
      "352/352 [==============================] - 4s 10ms/step - loss: 2.3054 - sparse_categorical_accuracy: 0.0996 - val_loss: 2.7060 - val_sparse_categorical_accuracy: 0.1038\n",
      "Epoch 25/25\n",
      "352/352 [==============================] - 4s 10ms/step - loss: 2.3037 - sparse_categorical_accuracy: 0.0985 - val_loss: 2.6863 - val_sparse_categorical_accuracy: 0.1038\n"
     ]
    }
   ],
   "source": [
    "#从0.005到0.05然后降回0.005再往下降到1.0663265306122723e-05\n",
    "\n",
    "import math\n",
    "n_epochs = 25\n",
    "batch_size = 128\n",
    "#math.ceil(x)返回大于等于参数x的最小整数,即对浮点数向上取整.\n",
    "#math.ceil(len(X_train) / batch_size) * n_epochs总训练数据数目\n",
    "#max_rate 最大学习率\n",
    "onecycle = OneCycleScheduler(math.ceil(len(X_train) / batch_size) * n_epochs, max_rate=0.05)\n",
    "history = model.fit(X_train_scaled, y_train, epochs=n_epochs, batch_size=batch_size,\n",
    "                    validation_data=(X_val_scaled, y_val),\n",
    "                    callbacks=[onecycle])"
   ]
  },
  {
   "cell_type": "markdown",
   "metadata": {},
   "source": [
    "One cycle allowed us to train the model in just 15 epochs, each taking only 2 seconds (thanks to the larger batch size). This is several times faster than the fastest model we trained so far. Moreover, we improved the model's performance (from 47.6% to 52.0%). The batch normalized model reaches a slightly better performance (54%), but it's much slower to train."
   ]
  },
  {
   "cell_type": "markdown",
   "metadata": {},
   "source": [
    "> create:Apotosome 10/07/21\n",
    "\n",
    "> update:Apotosome 10/25/22"
   ]
  }
 ],
 "metadata": {
  "hide_input": false,
  "kernelspec": {
   "display_name": "Python 3 (ipykernel)",
   "language": "python",
   "name": "python3"
  },
  "language_info": {
   "codemirror_mode": {
    "name": "ipython",
    "version": 3
   },
   "file_extension": ".py",
   "mimetype": "text/x-python",
   "name": "python",
   "nbconvert_exporter": "python",
   "pygments_lexer": "ipython3",
   "version": "3.10.6"
  },
  "toc": {
   "base_numbering": 1,
   "nav_menu": {},
   "number_sections": true,
   "sideBar": true,
   "skip_h1_title": false,
   "title_cell": "Table of Contents",
   "title_sidebar": "Contents",
   "toc_cell": false,
   "toc_position": {
    "height": "calc(100% - 180px)",
    "left": "10px",
    "top": "150px",
    "width": "230.512px"
   },
   "toc_section_display": true,
   "toc_window_display": true
  }
 },
 "nbformat": 4,
 "nbformat_minor": 2
}
