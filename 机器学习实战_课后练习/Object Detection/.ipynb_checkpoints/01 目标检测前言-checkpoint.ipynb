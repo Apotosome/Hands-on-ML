{
 "cells": [
  {
   "cell_type": "markdown",
   "id": "7f67cd4e",
   "metadata": {},
   "source": [
    "# 目标检测前言"
   ]
  },
  {
   "cell_type": "markdown",
   "id": "bb83a55d",
   "metadata": {},
   "source": [
    "目标检测分为两种形式:\n",
    "1. One-Stage\n",
    "    - 例如:`SSD`,`YOLO`\n",
    "    - **基于anchors**直接进行分类以及调整边界框\n",
    "    - 优点:检测速度更快\n",
    "2. Two-Stage\n",
    "    - 例如:`Fast-RCNN`\n",
    "    - 通过专门模块去生成候选框`RPN`，寻找前景以及调整边界框（**基于anchors**)\n",
    "    - 基于之前生成的候选框进行进一步分类以及调整边界框（**基于proposals**)\n",
    "    - 优点:检测准确度更高"
   ]
  },
  {
   "cell_type": "markdown",
   "id": "470db084",
   "metadata": {},
   "source": [
    "> Apotosome 09/20/22"
   ]
  }
 ],
 "metadata": {
  "hide_input": false,
  "kernelspec": {
   "display_name": "Python 3",
   "language": "python",
   "name": "python3"
  },
  "language_info": {
   "codemirror_mode": {
    "name": "ipython",
    "version": 3
   },
   "file_extension": ".py",
   "mimetype": "text/x-python",
   "name": "python",
   "nbconvert_exporter": "python",
   "pygments_lexer": "ipython3",
   "version": "3.7.4"
  },
  "toc": {
   "base_numbering": 1,
   "nav_menu": {},
   "number_sections": true,
   "sideBar": true,
   "skip_h1_title": false,
   "title_cell": "目录",
   "title_sidebar": "目录",
   "toc_cell": false,
   "toc_position": {},
   "toc_section_display": true,
   "toc_window_display": false
  }
 },
 "nbformat": 4,
 "nbformat_minor": 5
}
