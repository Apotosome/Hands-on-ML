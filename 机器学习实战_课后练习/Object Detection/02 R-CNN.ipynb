{
 "cells": [
  {
   "cell_type": "code",
   "execution_count": 2,
   "id": "5c3f18c2",
   "metadata": {},
   "outputs": [],
   "source": [
    "import numpy as np\n",
    "import pandas as pd\n",
    "import tensorflow as tf\n",
    "import tensorflow.keras as keras\n",
    "import os\n",
    "import time\n",
    "import io\n",
    "from os.path import exists\n",
    "import matplotlib.pyplot as plt\n",
    "import matplotlib as mpl\n",
    "import seaborn as sns\n",
    "\n",
    "\n",
    "def initialization(seed=42):\n",
    "    keras.backend.clear_session()\n",
    "    np.random.seed(seed)\n",
    "    tf.random.set_seed(seed)"
   ]
  },
  {
   "cell_type": "markdown",
   "id": "f1c65e5d",
   "metadata": {},
   "source": [
    "<img src=\"../images/other/ob-1.jpg\" >"
   ]
  },
  {
   "cell_type": "markdown",
   "id": "b605e722",
   "metadata": {},
   "source": [
    "> Girshick R, Donahue J, Darrell T, et al. Rich feature hierarchies for accurate object detection and semantic segmentation[C]//Proceedings of the IEEE conference on computer vision and pattern recognition. 2014: 580-587."
   ]
  },
  {
   "cell_type": "markdown",
   "id": "cfe839e6",
   "metadata": {},
   "source": [
    "# 论文概述"
   ]
  },
  {
   "cell_type": "markdown",
   "id": "c6e29428",
   "metadata": {},
   "source": [
    "本文是计算机视觉目标检测领域的奠基作，提出了`R-CNN`模型，指定了一类目标检测流程的范式，后期目标检测的算法都受其影响。\n",
    "\n",
    "- `R-CNN`中的**R**为**region**，即目标检测候选框的意思。名字直接告诉我们，该工作就是对候选框进行`CNN`操作，提取出其特征，再对特征进行分类等处理.\n",
    "\n",
    "- `R-CNN`提出对候选框进行**偏移调整**，用一个回归模型提高候选框框中物体的能力.\n",
    "\n",
    "- 在标记数据较为匮乏时, 使用监督学习在辅助数据集上进行训练, 然后在特定区域进行微调, 大幅度提升性能表现.\n",
    "\n",
    "- 此外，`R-CNN`研究提出将卷积神经网络提取特征的可视化，属于深度神经网络的可解释性研究."
   ]
  },
  {
   "cell_type": "markdown",
   "id": "6d0aaccd",
   "metadata": {},
   "source": [
    "算法流程分为四个步骤:\n",
    "1. 一张图片生成1K~2K个**候选区域region proposals**(使用Selective Searchi方法)\n",
    "        \n",
    "      利用`Selective Search`。算法通过图像分割的方法得到一些原始区域，然后使用一些合并策略将这些区域合并，得到一个**层次化的区域结构**，而这些结构就包含着可能需要的物体。\n"
   ]
  },
  {
   "cell_type": "markdown",
   "id": "3448bc74",
   "metadata": {},
   "source": [
    "2. 对每个候选区域, 使用深度网络**提取特征**\n",
    "\n",
    "    将2000个候选区域缩放到227x227像素，接着将候选区域输入事先训练好的`AlexNet CNN`网络获取4096维的特征得到2000×4096维矩阵。\n",
    "    <img src=\"../images/other/ob-3.jpg\" width=500>"
   ]
  },
  {
   "cell_type": "markdown",
   "id": "cd127848",
   "metadata": {},
   "source": [
    "3. 特征送入每一类**SVM分类器**, 判别是否属于该类\n",
    "\n",
    "    将2000×4096维特征与20个SVM组成的权值矩阵4096×20相乘，获得2000×20维矩阵表示每个建议框是某个目标类别的得分。\n",
    "    <img src=\"../images/other/ob-4.jpg\">\n",
    "    \n",
    "    分别对上述2000×20维矩阵中每一列即每一类进行**非极大值抑制**剔除重叠建议框，得到该列即该类中得分最高的一些建议框。\n",
    "\n",
    " "
   ]
  },
  {
   "cell_type": "markdown",
   "id": "89f48f04",
   "metadata": {},
   "source": [
    "\n",
    "\n",
    "4. 使用回归器**精细修正**候选框位置\n",
    "\n",
    "<img src=\"../images/other/ob-2.jpg\" >"
   ]
  },
  {
   "cell_type": "code",
   "execution_count": null,
   "id": "428ef155",
   "metadata": {},
   "outputs": [],
   "source": []
  },
  {
   "cell_type": "code",
   "execution_count": null,
   "id": "a4010ee1",
   "metadata": {},
   "outputs": [],
   "source": []
  },
  {
   "cell_type": "code",
   "execution_count": null,
   "id": "1aa80768",
   "metadata": {},
   "outputs": [],
   "source": []
  },
  {
   "cell_type": "code",
   "execution_count": null,
   "id": "60c9563f",
   "metadata": {},
   "outputs": [],
   "source": []
  },
  {
   "cell_type": "code",
   "execution_count": null,
   "id": "423ade10",
   "metadata": {},
   "outputs": [],
   "source": []
  },
  {
   "cell_type": "code",
   "execution_count": null,
   "id": "00159bfd",
   "metadata": {},
   "outputs": [],
   "source": []
  },
  {
   "cell_type": "code",
   "execution_count": null,
   "id": "4276b17c",
   "metadata": {},
   "outputs": [],
   "source": []
  },
  {
   "cell_type": "code",
   "execution_count": null,
   "id": "ffbb70de",
   "metadata": {},
   "outputs": [],
   "source": []
  },
  {
   "cell_type": "code",
   "execution_count": null,
   "id": "608736a8",
   "metadata": {},
   "outputs": [],
   "source": []
  },
  {
   "cell_type": "code",
   "execution_count": null,
   "id": "49584c5d",
   "metadata": {},
   "outputs": [],
   "source": []
  }
 ],
 "metadata": {
  "hide_input": false,
  "kernelspec": {
   "display_name": "Python 3",
   "language": "python",
   "name": "python3"
  },
  "language_info": {
   "codemirror_mode": {
    "name": "ipython",
    "version": 3
   },
   "file_extension": ".py",
   "mimetype": "text/x-python",
   "name": "python",
   "nbconvert_exporter": "python",
   "pygments_lexer": "ipython3",
   "version": "3.7.4"
  },
  "toc": {
   "base_numbering": 1,
   "nav_menu": {},
   "number_sections": true,
   "sideBar": true,
   "skip_h1_title": false,
   "title_cell": "目录",
   "title_sidebar": "目录",
   "toc_cell": false,
   "toc_position": {},
   "toc_section_display": true,
   "toc_window_display": false
  }
 },
 "nbformat": 4,
 "nbformat_minor": 5
}
