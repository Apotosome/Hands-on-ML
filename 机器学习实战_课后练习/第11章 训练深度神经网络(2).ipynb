{
 "cells": [
  {
   "cell_type": "markdown",
   "metadata": {},
   "source": [
    "# 练习题 Exercise"
   ]
  },
  {
   "cell_type": "markdown",
   "metadata": {},
   "source": [
    "## ex.1"
   ]
  },
  {
   "cell_type": "markdown",
   "metadata": {},
   "source": [
    "Q:将所有权重初始化为相同的值是否可以(只要该值是使用He初始化随机选择的)? "
   ]
  },
  {
   "cell_type": "markdown",
   "metadata": {},
   "source": [
    "> **No, all weights should be sampled independently**; they should not all have the same initial value. One important goal of sampling weights randomly is to **break symmetry**: if all the weights have the same initial value, even if that value is not zero, then symmetry is not broken (i.e., all neurons in a given layer are equivalent), and backpropagation will be unable to break it. Concretely, this means that all the neurons in any given layer will always have the same weights. It’s like having just one neuron per layer, and much slower. It is virtually impossible for such a configuration to converge to a good solution."
   ]
  },
  {
   "cell_type": "markdown",
   "metadata": {},
   "source": [
    "## ex.2 "
   ]
  },
  {
   "cell_type": "markdown",
   "metadata": {},
   "source": [
    "Q:将偏置项初始化为0可以嘛?"
   ]
  },
  {
   "cell_type": "markdown",
   "metadata": {},
   "source": [
    "> **It is perfectly fine to initialize the bias terms to zero.** Some people like to initialize them just like weights, and that’s okay too; it does not make much difference."
   ]
  },
  {
   "cell_type": "markdown",
   "metadata": {},
   "source": [
    "## ex.3"
   ]
  },
  {
   "cell_type": "markdown",
   "metadata": {},
   "source": [
    "Q:列举SELU激活函数相比ReLU 三个优点."
   ]
  },
  {
   "cell_type": "markdown",
   "metadata": {},
   "source": [
    "> A few advantages of the SELU function over the ReLU function are:\n",
    "1. **It can take on negative values**, so the average output of the neurons in any given layer is typically closer to zero than when using the ReLU activation function (which never outputs negative values). This helps alleviate the vanishing gradients problem.\n",
    "2. **It always has a nonzero derivative**, which avoids the dying units issue that can affect ReLU units.\n",
    "3. When the conditions are right (i.e., if the model is **sequential**, and the weights are initialized using **LeCun initialization**, and the inputs are **standardized**, and there’s **no incompatible** layer or regularization, such as dropout or $ℓ_1$ regularization), then **the SELU activation function ensures the model is selfnormalized**, which solves the exploding/vanishing gradients problems."
   ]
  },
  {
   "cell_type": "markdown",
   "metadata": {},
   "source": [
    "## ex.4"
   ]
  },
  {
   "cell_type": "markdown",
   "metadata": {},
   "source": [
    "Q:在哪种情况下,你想使用以下每个激话函数:SELU、 leaky RELU(及其变体) ReLU、tanh, logistic和 softmax?"
   ]
  },
  {
   "cell_type": "markdown",
   "metadata": {},
   "source": [
    "> **The SELU activation function is a good default.** If you need the neural network to be as **fast** as possible, you can use one of the **leaky ReLU variants** instead (e.g., a simple leaky ReLU using the default hyperparameter value). The simplicity of the ReLU activation function makes it many people’s preferred option, despite the fact that it is generally outperformed by SELU and leaky ReLU. However, **the ReLU activation function’s ability to output precisely zero can be useful in some cases**(e.g., see Chapter 17). Moreover, it can sometimes benefit from optimized implementation as well as from hardware acceleration. **The hyperbolic tangent (tanh) can be useful in the output layer if you need to output a number between –1 and 1,** but nowadays it is not used much in hidden layers (except in recurrentnets). **The logistic activation function is also useful in the output layer** when you need to estimate a probability (e.g., for binary classification), but is rarely used in hidden layers (there are exceptions—for example, for the coding layer of variational autoencoders; see Chapter 17). Finally, **the softmax activation function is useful in the output layer to output probabilities for mutually exclusive classes**, but it is rarely (if ever) used in hidden layers."
   ]
  },
  {
   "cell_type": "markdown",
   "metadata": {},
   "source": [
    "## ex.5"
   ]
  },
  {
   "cell_type": "markdown",
   "metadata": {},
   "source": [
    "Q:如果在使用SGD优化器时将超参数 momentum设置得太接近1(例如0.999),会发生什么情况?"
   ]
  },
  {
   "cell_type": "markdown",
   "metadata": {},
   "source": [
    "> If you set the momentum hyperparameter too close to 1 (e.g., 0.99999) when using an SGD optimizer, then **the algorithm will likely pick up a lot of speed, hopefully moving roughly toward the global minimum, but its momentum will carry it right past the minimum. Then it will slow down and come back, accelerate again, overshoot again, and so on. It may oscillate this way many times before converging,** so overall it will take much longer to converge than with a smaller momentum value."
   ]
  },
  {
   "cell_type": "markdown",
   "metadata": {},
   "source": [
    "## ex.6"
   ]
  },
  {
   "cell_type": "markdown",
   "metadata": {},
   "source": [
    "Q:列举三种能产生稀疏模型的方法"
   ]
  },
  {
   "cell_type": "markdown",
   "metadata": {},
   "source": [
    "> One way to produce a sparse model (i.e., with most weights equal to zero) is to train the model normally, then **zero out tiny weights.** For more sparsity, you can **apply $ℓ_1$ regularization during training**, which pushes the optimizer toward sparsity. A third option is to **use the TensorFlow Model Optimization Toolkit**."
   ]
  },
  {
   "cell_type": "markdown",
   "metadata": {},
   "source": [
    "## ex.7"
   ]
  },
  {
   "cell_type": "markdown",
   "metadata": {},
   "source": [
    "Q:Dropout会减慢训练速度吗?它会减慢推理速度(即对新实例进行预测)吗?MC 呢?"
   ]
  },
  {
   "cell_type": "markdown",
   "metadata": {},
   "source": [
    "> Yes, **dropout does slow down training**, in general roughly by a factor of two. However, it has **no impact on inference speed since it is only turned on during training.** **MC Dropout is exactly like dropout during training,** but it is still active during inference, **so each inference is slowed down slightly.** More importantly, when using MC Dropout you generally want to run inference 10 times or more to get better predictions. This means that making predictions is slowed down by a factor of 10 or more."
   ]
  },
  {
   "cell_type": "markdown",
   "metadata": {},
   "source": [
    "## ex.8"
   ]
  },
  {
   "cell_type": "markdown",
   "metadata": {},
   "source": [
    "在`CFAR10`图像数据集上练习训练深度神经网络:\n",
    ">1. 构建一个`DNN`,其中包含20个隐藏的层,毎个层包含100个神经元(这太多了,但这是本练习的重点)。使用He初始化和ELU激话函数.\n",
    "2. 使用 `Nadam优化`和`提前停止`,在 `CIFA10`数据集上训练网络。你可以使用 `keras.datasets.cifar10.1oad_data()`加载它。该数据集由10个类别的60000个32×32像素的彩色图像(50000个用于训练,10000个用于测试) 组成,因此你需要一个具有10个神经元的 `softmax`输出层。记住,每次更改模型的架构或超参数时,都要寻找正确的学习率。\n",
    "3. 现在尝试添加`批量归一化`并比较学习曲线:收敛速度是否比以前快?会产生更好的模型吗?它如何影响训练速度?\n",
    "4. 尝试用`SELU`替换`批量归一化`,并进行必要的调整以确保网络是自归一化的(即归一化输入特征,使用`Lecun正态初始化`,确保`DNN`仅仅包含一系列的密集层等)。\n",
    "5. 尝试使用 `Alpha Dropout`正则化模型。然后,在不重新训练模型的情况下,看看是否可以使用 `MC Dropout`获得更好的准确率。\n",
    "6. 使用`1周期调度`来重新训练模型,看看它是否可以提高训练速度和模型谁确。"
   ]
  },
  {
   "cell_type": "markdown",
   "metadata": {},
   "source": [
    "### ex.8.1"
   ]
  },
  {
   "cell_type": "markdown",
   "metadata": {},
   "source": [
    "Exercise: Build a `DNN` with 20 hidden layers of 100 neurons each (that's too many, but it's the point of this exercise). Use `He initialization` and the `ELU` activation function."
   ]
  },
  {
   "cell_type": "code",
   "execution_count": 1,
   "metadata": {},
   "outputs": [],
   "source": [
    "import pandas as pd\n",
    "import numpy as np\n",
    "import matplotlib.pyplot as plt\n",
    "\n",
    "import tensorflow as tf\n",
    "from tensorflow import keras"
   ]
  },
  {
   "cell_type": "code",
   "execution_count": 2,
   "metadata": {},
   "outputs": [],
   "source": [
    "keras.backend.clear_session()\n",
    "np.random.seed(42)\n",
    "tf.random.set_seed(42)"
   ]
  },
  {
   "cell_type": "code",
   "execution_count": 3,
   "metadata": {},
   "outputs": [],
   "source": [
    "model = keras.models.Sequential()\n",
    "model.add(keras.layers.Flatten(input_shape=[32,32,3]))   # RGB彩色图像\n",
    "\n",
    "for layer in range(20):\n",
    "    model.add(keras.layers.Dense(100, activation=keras.activations.elu,\n",
    "                                 kernel_initializer = keras.initializers.he_normal))"
   ]
  },
  {
   "cell_type": "markdown",
   "metadata": {},
   "source": [
    "### ex.8.2"
   ]
  },
  {
   "cell_type": "markdown",
   "metadata": {},
   "source": [
    "Exercise: Using Nadam optimization and early stopping, train the network on the CIFAR10 dataset. You can load it with `keras.datasets.cifar10.load_data()`. The dataset is composed of 60,000 32 × 32–pixel color images (50,000 for training, 10,000 for testing) with 10 classes, so you'll need a softmax output layer with 10 neurons. Remember to search for the right learning rate each time you change the model's architecture or hyperparameters."
   ]
  },
  {
   "cell_type": "markdown",
   "metadata": {},
   "source": [
    "1. Load the `CIFAR10` dataset"
   ]
  },
  {
   "cell_type": "code",
   "execution_count": 4,
   "metadata": {},
   "outputs": [
    {
     "data": {
      "text/plain": [
       "((50000, 32, 32, 3), (10000, 32, 32, 3), dtype('uint8'))"
      ]
     },
     "execution_count": 4,
     "metadata": {},
     "output_type": "execute_result"
    }
   ],
   "source": [
    "CIFAR10 = keras.datasets.cifar10\n",
    "(X_train_full, y_train_full), (X_test, y_test) = CIFAR10.load_data()\n",
    "\n",
    "X_train_full.shape, X_test.shape, X_train_full.dtype"
   ]
  },
  {
   "cell_type": "code",
   "execution_count": 5,
   "metadata": {},
   "outputs": [],
   "source": [
    "X_train = X_train_full[5000:]\n",
    "y_train = y_train_full[5000:]\n",
    "X_val = X_train_full[:5000]\n",
    "y_val = y_train_full[:5000]"
   ]
  },
  {
   "cell_type": "code",
   "execution_count": 6,
   "metadata": {
    "scrolled": true
   },
   "outputs": [
    {
     "data": {
      "image/png": "[encoded data removed]",
      "text/plain": [
       "<Figure size 432x288 with 1 Axes>"
      ]
     },
     "metadata": {
      "needs_background": "light"
     },
     "output_type": "display_data"
    }
   ],
   "source": [
    "plt.imshow(X_train_full[1])\n",
    "plt.axis('off')\n",
    "plt.show()"
   ]
  },
  {
   "cell_type": "code",
   "execution_count": 7,
   "metadata": {},
   "outputs": [],
   "source": [
    "class_names = ['airplane', 'automobile', 'bird', 'cat', 'deer', \n",
    "               'dog', 'frog', 'horse', 'ship','truck']"
   ]
  },
  {
   "cell_type": "code",
   "execution_count": 8,
   "metadata": {},
   "outputs": [
    {
     "data": {
      "image/png": "[encoded data removed]",
      "text/plain": [
       "<Figure size 864x345.6 with 40 Axes>"
      ]
     },
     "metadata": {
      "needs_background": "light"
     },
     "output_type": "display_data"
    }
   ],
   "source": [
    "n_rows = 4\n",
    "n_cols = 10\n",
    "plt.figure(figsize=(n_cols * 1.2, n_rows * 1.2))\n",
    "for row in range(n_rows):\n",
    "    for col in range(n_cols):\n",
    "        index = n_cols * row + col\n",
    "        plt.subplot(n_rows, n_cols, index + 1)\n",
    "        plt.imshow(X_train[index], cmap=\"binary\", interpolation=\"nearest\")\n",
    "        plt.axis('off')\n",
    "        plt.title(class_names[y_train[index][0]], fontsize=12)\n",
    "plt.subplots_adjust(wspace=0.2, hspace=0.5)   # 调整子图布局\n",
    "plt.show()"
   ]
  },
  {
   "cell_type": "markdown",
   "metadata": {},
   "source": [
    "2. Add output layer to the model"
   ]
  },
  {
   "cell_type": "code",
   "execution_count": 9,
   "metadata": {},
   "outputs": [],
   "source": [
    "model.add(keras.layers.Dense(10, activation=keras.activations.softmax))"
   ]
  },
  {
   "cell_type": "markdown",
   "metadata": {},
   "source": [
    "3. Use a `Nadam` optimizer with a learning rate of `5e-5`   **ex.2.1**"
   ]
  },
  {
   "cell_type": "code",
   "execution_count": 10,
   "metadata": {},
   "outputs": [],
   "source": [
    "optimiter = keras.optimizers.Nadam(learning_rate=5e-5)\n",
    "model.compile(optimizer=optimiter,\n",
    "              loss=keras.losses.sparse_categorical_crossentropy,\n",
    "              metrics=[keras.metrics.sparse_categorical_accuracy])"
   ]
  },
  {
   "cell_type": "markdown",
   "metadata": {},
   "source": [
    "4. Create the callbacks we need and train the model"
   ]
  },
  {
   "cell_type": "code",
   "execution_count": 11,
   "metadata": {},
   "outputs": [],
   "source": [
    "# `ModelCheckpoint`回调会定期保存模型的检查点\n",
    "# `EarlyStopping`回调，如果在多个轮次的验证集上没有任何进展，它将中断训练，并且可以选择回滚到最佳模型.\n",
    "\n",
    "model_checkpoint_cb = keras.callbacks.ModelCheckpoint(\"CIFAR10_model.h5\", save_best_only=True)\n",
    "early_stopping_cb = keras.callbacks.EarlyStopping(patience=20)"
   ]
  },
  {
   "cell_type": "code",
   "execution_count": 12,
   "metadata": {},
   "outputs": [
    {
     "data": {
      "text/plain": [
       "'./my_CIFAR10_logs/run_001'"
      ]
     },
     "execution_count": 12,
     "metadata": {},
     "output_type": "execute_result"
    }
   ],
   "source": [
    "import os\n",
    "run_index = 1\n",
    "run_logdir = os.path.join(os.curdir, \"my_CIFAR10_logs\", \"run_{:03d}\".format(run_index))\n",
    "run_logdir"
   ]
  },
  {
   "cell_type": "code",
   "execution_count": 13,
   "metadata": {},
   "outputs": [],
   "source": [
    "# TensorBoard进行可视化\n",
    "\n",
    "tensorboard_cb = keras.callbacks.TensorBoard(run_logdir)"
   ]
  },
  {
   "cell_type": "code",
   "execution_count": 14,
   "metadata": {},
   "outputs": [
    {
     "name": "stdout",
     "output_type": "stream",
     "text": [
      "Epoch 1/100\n",
      "1407/1407 [==============================] - 12s 7ms/step - loss: 3.9557 - sparse_categorical_accuracy: 0.1675 - val_loss: 2.1308 - val_sparse_categorical_accuracy: 0.2258\n",
      "Epoch 2/100\n",
      "1407/1407 [==============================] - 10s 7ms/step - loss: 2.0501 - sparse_categorical_accuracy: 0.2529 - val_loss: 2.1700 - val_sparse_categorical_accuracy: 0.2254\n",
      "Epoch 3/100\n",
      "1407/1407 [==============================] - 10s 7ms/step - loss: 1.9334 - sparse_categorical_accuracy: 0.2917 - val_loss: 2.0268 - val_sparse_categorical_accuracy: 0.2602\n",
      "Epoch 4/100\n",
      "1407/1407 [==============================] - 10s 7ms/step - loss: 1.8547 - sparse_categorical_accuracy: 0.3232 - val_loss: 1.9004 - val_sparse_categorical_accuracy: 0.3268\n",
      "Epoch 5/100\n",
      "1407/1407 [==============================] - 9s 7ms/step - loss: 1.7879 - sparse_categorical_accuracy: 0.3476 - val_loss: 1.8044 - val_sparse_categorical_accuracy: 0.3448\n",
      "Epoch 6/100\n",
      "1407/1407 [==============================] - 9s 7ms/step - loss: 1.7360 - sparse_categorical_accuracy: 0.3722 - val_loss: 1.7103 - val_sparse_categorical_accuracy: 0.3804\n",
      "Epoch 7/100\n",
      "1407/1407 [==============================] - 10s 7ms/step - loss: 1.6907 - sparse_categorical_accuracy: 0.3883 - val_loss: 1.7563 - val_sparse_categorical_accuracy: 0.3590\n",
      "Epoch 8/100\n",
      "1407/1407 [==============================] - 11s 8ms/step - loss: 1.6514 - sparse_categorical_accuracy: 0.4045 - val_loss: 1.6528 - val_sparse_categorical_accuracy: 0.4034\n",
      "Epoch 9/100\n",
      "1407/1407 [==============================] - 10s 7ms/step - loss: 1.6215 - sparse_categorical_accuracy: 0.4144 - val_loss: 1.7015 - val_sparse_categorical_accuracy: 0.3824\n",
      "Epoch 10/100\n",
      "1407/1407 [==============================] - 12s 8ms/step - loss: 1.5956 - sparse_categorical_accuracy: 0.4251 - val_loss: 1.6561 - val_sparse_categorical_accuracy: 0.4044\n",
      "Epoch 11/100\n",
      "1407/1407 [==============================] - 11s 8ms/step - loss: 1.5712 - sparse_categorical_accuracy: 0.4335 - val_loss: 1.6532 - val_sparse_categorical_accuracy: 0.4112\n",
      "Epoch 12/100\n",
      "1407/1407 [==============================] - 11s 8ms/step - loss: 1.5507 - sparse_categorical_accuracy: 0.4420 - val_loss: 1.6190 - val_sparse_categorical_accuracy: 0.4186\n",
      "Epoch 13/100\n",
      "1407/1407 [==============================] - 10s 7ms/step - loss: 1.5284 - sparse_categorical_accuracy: 0.4488 - val_loss: 1.6287 - val_sparse_categorical_accuracy: 0.4140\n",
      "Epoch 14/100\n",
      "1407/1407 [==============================] - 12s 8ms/step - loss: 1.5125 - sparse_categorical_accuracy: 0.4564 - val_loss: 1.5783 - val_sparse_categorical_accuracy: 0.4334\n",
      "Epoch 15/100\n",
      "1407/1407 [==============================] - 10s 7ms/step - loss: 1.4936 - sparse_categorical_accuracy: 0.4607 - val_loss: 1.5632 - val_sparse_categorical_accuracy: 0.4430\n",
      "Epoch 16/100\n",
      "1407/1407 [==============================] - 12s 9ms/step - loss: 1.4753 - sparse_categorical_accuracy: 0.4696 - val_loss: 1.5531 - val_sparse_categorical_accuracy: 0.4396\n",
      "Epoch 17/100\n",
      "1407/1407 [==============================] - 10s 7ms/step - loss: 1.4656 - sparse_categorical_accuracy: 0.4703 - val_loss: 1.5418 - val_sparse_categorical_accuracy: 0.4528\n",
      "Epoch 18/100\n",
      "1407/1407 [==============================] - 10s 7ms/step - loss: 1.4480 - sparse_categorical_accuracy: 0.4789 - val_loss: 1.5712 - val_sparse_categorical_accuracy: 0.4370\n",
      "Epoch 19/100\n",
      "1407/1407 [==============================] - 10s 7ms/step - loss: 1.4365 - sparse_categorical_accuracy: 0.4813 - val_loss: 1.5469 - val_sparse_categorical_accuracy: 0.4474\n",
      "Epoch 20/100\n",
      "1407/1407 [==============================] - 10s 7ms/step - loss: 1.4249 - sparse_categorical_accuracy: 0.4888 - val_loss: 1.5660 - val_sparse_categorical_accuracy: 0.4374\n",
      "Epoch 21/100\n",
      "1407/1407 [==============================] - 11s 8ms/step - loss: 1.4117 - sparse_categorical_accuracy: 0.4912 - val_loss: 1.5678 - val_sparse_categorical_accuracy: 0.4434\n",
      "Epoch 22/100\n",
      "1407/1407 [==============================] - 9s 7ms/step - loss: 1.4008 - sparse_categorical_accuracy: 0.4959 - val_loss: 1.5308 - val_sparse_categorical_accuracy: 0.4574\n",
      "Epoch 23/100\n",
      "1407/1407 [==============================] - 11s 8ms/step - loss: 1.3880 - sparse_categorical_accuracy: 0.5016 - val_loss: 1.5175 - val_sparse_categorical_accuracy: 0.4588\n",
      "Epoch 24/100\n",
      "1407/1407 [==============================] - 11s 8ms/step - loss: 1.3750 - sparse_categorical_accuracy: 0.5048 - val_loss: 1.5250 - val_sparse_categorical_accuracy: 0.4496\n",
      "Epoch 25/100\n",
      "1407/1407 [==============================] - 10s 7ms/step - loss: 1.3653 - sparse_categorical_accuracy: 0.5086 - val_loss: 1.5057 - val_sparse_categorical_accuracy: 0.4632\n",
      "Epoch 26/100\n",
      "1407/1407 [==============================] - 10s 7ms/step - loss: 1.3535 - sparse_categorical_accuracy: 0.5137 - val_loss: 1.5251 - val_sparse_categorical_accuracy: 0.4550\n",
      "Epoch 27/100\n",
      "1407/1407 [==============================] - 10s 7ms/step - loss: 1.3464 - sparse_categorical_accuracy: 0.5149 - val_loss: 1.5078 - val_sparse_categorical_accuracy: 0.4634\n",
      "Epoch 28/100\n",
      "1407/1407 [==============================] - -1s -571us/step - loss: 1.3353 - sparse_categorical_accuracy: 0.5204 - val_loss: 1.4950 - val_sparse_categorical_accuracy: 0.4612\n",
      "Epoch 29/100\n",
      "1407/1407 [==============================] - 10s 7ms/step - loss: 1.3249 - sparse_categorical_accuracy: 0.5238 - val_loss: 1.5045 - val_sparse_categorical_accuracy: 0.4674\n",
      "Epoch 30/100\n",
      "1407/1407 [==============================] - 9s 6ms/step - loss: 1.3154 - sparse_categorical_accuracy: 0.5285 - val_loss: 1.5410 - val_sparse_categorical_accuracy: 0.4628\n",
      "Epoch 31/100\n",
      "1407/1407 [==============================] - 8s 6ms/step - loss: 1.3068 - sparse_categorical_accuracy: 0.5285 - val_loss: 1.5108 - val_sparse_categorical_accuracy: 0.4720\n",
      "Epoch 32/100\n",
      "1407/1407 [==============================] - 9s 6ms/step - loss: 1.2981 - sparse_categorical_accuracy: 0.5332 - val_loss: 1.4858 - val_sparse_categorical_accuracy: 0.4712\n",
      "Epoch 33/100\n",
      "1407/1407 [==============================] - 9s 7ms/step - loss: 1.2876 - sparse_categorical_accuracy: 0.5389 - val_loss: 1.5172 - val_sparse_categorical_accuracy: 0.4736\n",
      "Epoch 34/100\n",
      "1407/1407 [==============================] - 10s 7ms/step - loss: 1.2803 - sparse_categorical_accuracy: 0.5377 - val_loss: 1.4900 - val_sparse_categorical_accuracy: 0.4750\n",
      "Epoch 35/100\n",
      "1407/1407 [==============================] - 9s 7ms/step - loss: 1.2712 - sparse_categorical_accuracy: 0.5437 - val_loss: 1.5041 - val_sparse_categorical_accuracy: 0.4666\n",
      "Epoch 36/100\n",
      "1407/1407 [==============================] - 9s 6ms/step - loss: 1.2657 - sparse_categorical_accuracy: 0.5420 - val_loss: 1.5306 - val_sparse_categorical_accuracy: 0.4658\n",
      "Epoch 37/100\n",
      "1407/1407 [==============================] - 9s 6ms/step - loss: 1.2547 - sparse_categorical_accuracy: 0.5481 - val_loss: 1.5119 - val_sparse_categorical_accuracy: 0.4724\n",
      "Epoch 38/100\n",
      "1407/1407 [==============================] - 9s 7ms/step - loss: 1.2472 - sparse_categorical_accuracy: 0.5496 - val_loss: 1.5077 - val_sparse_categorical_accuracy: 0.4762\n",
      "Epoch 39/100\n",
      "1407/1407 [==============================] - 9s 7ms/step - loss: 1.2358 - sparse_categorical_accuracy: 0.5559 - val_loss: 1.5145 - val_sparse_categorical_accuracy: 0.4740\n",
      "Epoch 40/100\n",
      "1407/1407 [==============================] - 10s 7ms/step - loss: 1.2293 - sparse_categorical_accuracy: 0.5590 - val_loss: 1.5376 - val_sparse_categorical_accuracy: 0.4606\n",
      "Epoch 41/100\n",
      "1407/1407 [==============================] - 9s 6ms/step - loss: 1.2234 - sparse_categorical_accuracy: 0.5607 - val_loss: 1.5712 - val_sparse_categorical_accuracy: 0.4600\n",
      "Epoch 42/100\n",
      "1407/1407 [==============================] - 9s 6ms/step - loss: 1.2137 - sparse_categorical_accuracy: 0.5642 - val_loss: 1.5261 - val_sparse_categorical_accuracy: 0.4782\n",
      "Epoch 43/100\n",
      "1407/1407 [==============================] - 9s 6ms/step - loss: 1.2076 - sparse_categorical_accuracy: 0.5658 - val_loss: 1.5200 - val_sparse_categorical_accuracy: 0.4814\n",
      "Epoch 44/100\n",
      "1407/1407 [==============================] - 9s 6ms/step - loss: 1.1953 - sparse_categorical_accuracy: 0.5689 - val_loss: 1.6060 - val_sparse_categorical_accuracy: 0.4512\n",
      "Epoch 45/100\n",
      "1407/1407 [==============================] - 10s 7ms/step - loss: 1.1951 - sparse_categorical_accuracy: 0.5711 - val_loss: 1.5136 - val_sparse_categorical_accuracy: 0.4840\n",
      "Epoch 46/100\n",
      "1407/1407 [==============================] - 9s 6ms/step - loss: 1.1868 - sparse_categorical_accuracy: 0.5736 - val_loss: 1.5068 - val_sparse_categorical_accuracy: 0.4796\n",
      "Epoch 47/100\n",
      "1407/1407 [==============================] - 8s 6ms/step - loss: 1.1763 - sparse_categorical_accuracy: 0.5757 - val_loss: 1.5675 - val_sparse_categorical_accuracy: 0.4660\n",
      "Epoch 48/100\n",
      "1407/1407 [==============================] - 10s 7ms/step - loss: 1.1686 - sparse_categorical_accuracy: 0.5792 - val_loss: 1.5187 - val_sparse_categorical_accuracy: 0.4868\n",
      "Epoch 49/100\n",
      "1407/1407 [==============================] - 12s 8ms/step - loss: 1.1613 - sparse_categorical_accuracy: 0.5803 - val_loss: 1.5339 - val_sparse_categorical_accuracy: 0.4722\n",
      "Epoch 50/100\n",
      "1407/1407 [==============================] - 11s 7ms/step - loss: 1.1544 - sparse_categorical_accuracy: 0.5843 - val_loss: 1.5956 - val_sparse_categorical_accuracy: 0.4672\n",
      "Epoch 51/100\n",
      "1407/1407 [==============================] - 10s 7ms/step - loss: 1.1479 - sparse_categorical_accuracy: 0.5874 - val_loss: 1.5639 - val_sparse_categorical_accuracy: 0.4686\n",
      "Epoch 52/100\n",
      "1407/1407 [==============================] - 10s 7ms/step - loss: 1.1459 - sparse_categorical_accuracy: 0.5872 - val_loss: 1.5163 - val_sparse_categorical_accuracy: 0.4848\n"
     ]
    }
   ],
   "source": [
    "history = model.fit(X_train, y_train,\n",
    "                    epochs=100,\n",
    "                    validation_data=(X_val, y_val),\n",
    "                    callbacks=[model_checkpoint_cb, early_stopping_cb, tensorboard_cb])"
   ]
  },
  {
   "cell_type": "code",
   "execution_count": 2,
   "metadata": {},
   "outputs": [
    {
     "data": {
      "text/html": [
       "\n",
       "      <iframe id=\"tensorboard-frame-b67632daf015f6d2\" width=\"100%\" height=\"800\" frameborder=\"0\">\n",
       "      </iframe>\n",
       "      <script>\n",
       "        (function() {\n",
       "          const frame = document.getElementById(\"tensorboard-frame-b67632daf015f6d2\");\n",
       "          const url = new URL(\"/\", window.location);\n",
       "          const port = 6061;\n",
       "          if (port) {\n",
       "            url.port = port;\n",
       "          }\n",
       "          frame.src = url;\n",
       "        })();\n",
       "      </script>\n",
       "    "
      ],
      "text/plain": [
       "<IPython.core.display.HTML object>"
      ]
     },
     "metadata": {},
     "output_type": "display_data"
    }
   ],
   "source": [
    "%load_ext tensorboard\n",
    "%tensorboard --logdir=./my_CIFAR10_logs --port=6061"
   ]
  },
  {
   "cell_type": "code",
   "execution_count": 16,
   "metadata": {},
   "outputs": [
    {
     "name": "stdout",
     "output_type": "stream",
     "text": [
      "157/157 [==============================] - 0s 1ms/step - loss: 1.4858 - sparse_categorical_accuracy: 0.4712\n"
     ]
    },
    {
     "data": {
      "text/plain": [
       "[1.4858437776565552, 0.47119998931884766]"
      ]
     },
     "execution_count": 16,
     "metadata": {},
     "output_type": "execute_result"
    }
   ],
   "source": [
    "model = keras.models.load_model(\"CIFAR10_model.h5\")\n",
    "model.evaluate(X_val, y_val)"
   ]
  },
  {
   "cell_type": "markdown",
   "metadata": {},
   "source": [
    "#### ex.2.1 "
   ]
  },
  {
   "cell_type": "markdown",
   "metadata": {},
   "source": [
    "参考第十章练习`ex.10`(请尝试使用本章介绍的方法来寻找最佳学习率(即通过成倍地提高学习率,画出误差,并找出误差发生的点)。),寻找最佳学习率并训练."
   ]
  },
  {
   "cell_type": "code",
   "execution_count": 17,
   "metadata": {},
   "outputs": [],
   "source": [
    "model = keras.models.Sequential()\n",
    "model.add(keras.layers.Flatten(input_shape=[32,32,3]))   # RGB彩色图像\n",
    "\n",
    "for layer in range(20):\n",
    "    model.add(keras.layers.Dense(100, activation=keras.activations.elu,\n",
    "                                 kernel_initializer = keras.initializers.he_normal))\n",
    "model.add(keras.layers.Dense(10, activation=keras.activations.softmax))"
   ]
  },
  {
   "cell_type": "markdown",
   "metadata": {},
   "source": [
    "We will start with a small learning rate of `1e-5`, and grow it by 0.6% at each iteration."
   ]
  },
  {
   "cell_type": "code",
   "execution_count": 18,
   "metadata": {},
   "outputs": [],
   "source": [
    "optimiter = keras.optimizers.Nadam(learning_rate=1e-5)\n",
    "model.compile(optimizer=optimiter,\n",
    "              loss=keras.losses.sparse_categorical_crossentropy,\n",
    "              metrics=[keras.metrics.sparse_categorical_accuracy])"
   ]
  },
  {
   "cell_type": "code",
   "execution_count": 19,
   "metadata": {},
   "outputs": [],
   "source": [
    "class expLearningRate(keras.callbacks.Callback):\n",
    "    def __init__(self, factor):\n",
    "        self.factor = factor\n",
    "        self.rates = []\n",
    "        self.losses = []\n",
    "    def on_batch_end(self, batch ,logs):\n",
    "        lr_var = self.model.optimizer.learning_rate\n",
    "        self.rates.append(keras.backend.get_value(lr_var))\n",
    "        self.losses.append(logs[\"loss\"])\n",
    "        \n",
    "        keras.backend.set_value(x=lr_var, value=lr_var*self.factor)\n",
    "\n",
    "exp_lr = expLearningRate(factor=1.006)   # 0.6%"
   ]
  },
  {
   "cell_type": "markdown",
   "metadata": {},
   "source": [
    "Train the model for just 1 epoch"
   ]
  },
  {
   "cell_type": "code",
   "execution_count": 20,
   "metadata": {},
   "outputs": [
    {
     "name": "stdout",
     "output_type": "stream",
     "text": [
      "1407/1407 [==============================] - 14s 8ms/step - loss: 984677184.0000 - sparse_categorical_accuracy: 0.1180 - val_loss: 2.3067 - val_sparse_categorical_accuracy: 0.1040\n"
     ]
    }
   ],
   "source": [
    "history = model.fit(X_train, y_train, epochs=1,\n",
    "                    validation_data=(X_val, y_val),\n",
    "                    callbacks=[exp_lr]\n",
    "                   )"
   ]
  },
  {
   "cell_type": "markdown",
   "metadata": {},
   "source": [
    "Plot the loss as a function of the learning rate"
   ]
  },
  {
   "cell_type": "code",
   "execution_count": 21,
   "metadata": {
    "scrolled": true
   },
   "outputs": [
    {
     "data": {
      "image/png": "[encoded data removed]",
      "text/plain": [
       "<Figure size 432x288 with 1 Axes>"
      ]
     },
     "metadata": {
      "needs_background": "light"
     },
     "output_type": "display_data"
    }
   ],
   "source": [
    "plt.plot(exp_lr.rates, exp_lr.losses)\n",
    "plt.gca().set_xscale('log')\n",
    "plt.hlines(y=min(exp_lr.losses), xmin=min(exp_lr.rates), xmax=max(exp_lr.rates))\n",
    "plt.axis([min(exp_lr.rates), max(exp_lr.rates), 0, exp_lr.losses[0]])\n",
    "plt.grid()\n",
    "plt.xlabel(\"Learning rate\")\n",
    "plt.ylabel(\"Loss\")\n",
    "plt.show()"
   ]
  },
  {
   "cell_type": "markdown",
   "metadata": {},
   "source": [
    "> 最佳学习率将比损失开始攀升的点低一些（通常比转折点低约10倍）"
   ]
  },
  {
   "cell_type": "markdown",
   "metadata": {},
   "source": [
    "The loss starts shooting back up violently when the learning rate goes over `5e-3`, so let's try using half of that, at `5e-4`"
   ]
  },
  {
   "cell_type": "markdown",
   "metadata": {},
   "source": [
    "### ex 8.3"
   ]
  },
  {
   "cell_type": "markdown",
   "metadata": {},
   "source": [
    "Exercise: Now try adding Batch Normalization and compare the learning curves: Is it converging faster than before? Does it produce a better model? How does it affect training speed?"
   ]
  },
  {
   "cell_type": "markdown",
   "metadata": {},
   "source": [
    "The code below is very similar to the code above, with a few changes:\n",
    "\n",
    "* I **added a `BN layer` after every Dense layer** (before the activation function), except for the output layer. I also added a BN layer before the first hidden layer.\n",
    "* I **changed the learning rate to `5e-4`.** I experimented with 1e-5, 3e-5, 5e-5, 1e-4, 3e-4, 5e-4, 1e-3 and 3e-3, and I chose the one with the best validation performance after 20 epochs.\n",
    "* I **renamed** the run directories to `run_bn_*` and the model file name to `my_cifar10_bn_model.h5`."
   ]
  },
  {
   "cell_type": "code",
   "execution_count": 22,
   "metadata": {},
   "outputs": [],
   "source": [
    "model = keras.models.Sequential()\n",
    "model.add(keras.layers.Flatten(input_shape=[32,32,3]))   # RGB彩色图像\n",
    "model.add(keras.layers.BatchNormalization())\n",
    "\n",
    "for layer in range(20):\n",
    "    model.add(keras.layers.Dense(100, kernel_initializer = keras.initializers.he_normal))\n",
    "    model.add(keras.layers.BatchNormalization())\n",
    "    model.add(keras.layers.Activation(keras.activations.elu))\n",
    "    \n",
    "model.add(keras.layers.Dense(10, activation=keras.activations.softmax))"
   ]
  },
  {
   "cell_type": "code",
   "execution_count": 23,
   "metadata": {},
   "outputs": [],
   "source": [
    "optimiter = keras.optimizers.Nadam(learning_rate=5e-4)\n",
    "model.compile(optimizer=optimiter,\n",
    "              loss=keras.losses.sparse_categorical_crossentropy,\n",
    "              metrics=[keras.metrics.sparse_categorical_accuracy])"
   ]
  },
  {
   "cell_type": "code",
   "execution_count": 24,
   "metadata": {},
   "outputs": [
    {
     "data": {
      "text/plain": [
       "'./my_CIFAR10_logs/run_bn_001'"
      ]
     },
     "execution_count": 24,
     "metadata": {},
     "output_type": "execute_result"
    }
   ],
   "source": [
    "run_index = 1\n",
    "run_logdir = os.path.join(os.curdir, \"my_CIFAR10_logs\", \"run_bn_{:03d}\".format(run_index))\n",
    "run_logdir"
   ]
  },
  {
   "cell_type": "code",
   "execution_count": 25,
   "metadata": {},
   "outputs": [],
   "source": [
    "model_checkpoint_cb = keras.callbacks.ModelCheckpoint(\"CIFAR10_bn_model.h5\", save_best_only=True)\n",
    "early_stopping_cb = keras.callbacks.EarlyStopping(patience=20)\n",
    "tensorboard_cb = keras.callbacks.TensorBoard(run_logdir)"
   ]
  },
  {
   "cell_type": "code",
   "execution_count": 26,
   "metadata": {},
   "outputs": [
    {
     "name": "stdout",
     "output_type": "stream",
     "text": [
      "Epoch 1/100\n",
      "1407/1407 [==============================] - 23s 11ms/step - loss: 1.8428 - sparse_categorical_accuracy: 0.3392 - val_loss: 1.7139 - val_sparse_categorical_accuracy: 0.3838\n",
      "Epoch 2/100\n",
      "1407/1407 [==============================] - 16s 11ms/step - loss: 1.6691 - sparse_categorical_accuracy: 0.4052 - val_loss: 1.5838 - val_sparse_categorical_accuracy: 0.4316\n",
      "Epoch 3/100\n",
      "1407/1407 [==============================] - 15s 11ms/step - loss: 1.5998 - sparse_categorical_accuracy: 0.4322 - val_loss: 1.5121 - val_sparse_categorical_accuracy: 0.4566\n",
      "Epoch 4/100\n",
      "1407/1407 [==============================] - 14s 10ms/step - loss: 1.5484 - sparse_categorical_accuracy: 0.4493 - val_loss: 1.5026 - val_sparse_categorical_accuracy: 0.4710\n",
      "Epoch 5/100\n",
      "1407/1407 [==============================] - 16s 11ms/step - loss: 1.5066 - sparse_categorical_accuracy: 0.4654 - val_loss: 1.4490 - val_sparse_categorical_accuracy: 0.4800\n",
      "Epoch 6/100\n",
      "1407/1407 [==============================] - 14s 10ms/step - loss: 1.4650 - sparse_categorical_accuracy: 0.4799 - val_loss: 1.4191 - val_sparse_categorical_accuracy: 0.4962\n",
      "Epoch 7/100\n",
      "1407/1407 [==============================] - 15s 10ms/step - loss: 1.4296 - sparse_categorical_accuracy: 0.4912 - val_loss: 1.4324 - val_sparse_categorical_accuracy: 0.4916\n",
      "Epoch 8/100\n",
      "1407/1407 [==============================] - 17s 12ms/step - loss: 1.4010 - sparse_categorical_accuracy: 0.5038 - val_loss: 1.3817 - val_sparse_categorical_accuracy: 0.4994\n",
      "Epoch 9/100\n",
      "1407/1407 [==============================] - 15s 10ms/step - loss: 1.3777 - sparse_categorical_accuracy: 0.5138 - val_loss: 1.3573 - val_sparse_categorical_accuracy: 0.5124\n",
      "Epoch 10/100\n",
      "1407/1407 [==============================] - 14s 10ms/step - loss: 1.3553 - sparse_categorical_accuracy: 0.5204 - val_loss: 1.3485 - val_sparse_categorical_accuracy: 0.5160\n",
      "Epoch 11/100\n",
      "1407/1407 [==============================] - 14s 10ms/step - loss: 1.3349 - sparse_categorical_accuracy: 0.5272 - val_loss: 1.3643 - val_sparse_categorical_accuracy: 0.5256\n",
      "Epoch 12/100\n",
      "1407/1407 [==============================] - 16s 11ms/step - loss: 1.3127 - sparse_categorical_accuracy: 0.5361 - val_loss: 1.3918 - val_sparse_categorical_accuracy: 0.5074\n",
      "Epoch 13/100\n",
      "1407/1407 [==============================] - 18s 13ms/step - loss: 1.2949 - sparse_categorical_accuracy: 0.5408 - val_loss: 1.4038 - val_sparse_categorical_accuracy: 0.5080\n",
      "Epoch 14/100\n",
      "1407/1407 [==============================] - 18s 13ms/step - loss: 1.2778 - sparse_categorical_accuracy: 0.5457 - val_loss: 1.3475 - val_sparse_categorical_accuracy: 0.5302\n",
      "Epoch 15/100\n",
      "1407/1407 [==============================] - 16s 11ms/step - loss: 1.2574 - sparse_categorical_accuracy: 0.5550 - val_loss: 1.3990 - val_sparse_categorical_accuracy: 0.5092\n",
      "Epoch 16/100\n",
      "1407/1407 [==============================] - 16s 11ms/step - loss: 1.2466 - sparse_categorical_accuracy: 0.5596 - val_loss: 1.3502 - val_sparse_categorical_accuracy: 0.5296\n",
      "Epoch 17/100\n",
      "1407/1407 [==============================] - 17s 12ms/step - loss: 1.2296 - sparse_categorical_accuracy: 0.5673 - val_loss: 1.3304 - val_sparse_categorical_accuracy: 0.5358\n",
      "Epoch 18/100\n",
      "1407/1407 [==============================] - 15s 11ms/step - loss: 1.2140 - sparse_categorical_accuracy: 0.5706 - val_loss: 1.3446 - val_sparse_categorical_accuracy: 0.5226\n",
      "Epoch 19/100\n",
      "1407/1407 [==============================] - 13s 9ms/step - loss: 1.2025 - sparse_categorical_accuracy: 0.5748 - val_loss: 1.3429 - val_sparse_categorical_accuracy: 0.5310\n",
      "Epoch 20/100\n",
      "1407/1407 [==============================] - 12s 9ms/step - loss: 1.1879 - sparse_categorical_accuracy: 0.5806 - val_loss: 1.3582 - val_sparse_categorical_accuracy: 0.5294\n",
      "Epoch 21/100\n",
      "1407/1407 [==============================] - 16s 11ms/step - loss: 1.1739 - sparse_categorical_accuracy: 0.5874 - val_loss: 1.3435 - val_sparse_categorical_accuracy: 0.5328\n",
      "Epoch 22/100\n",
      "1407/1407 [==============================] - 16s 11ms/step - loss: 1.1579 - sparse_categorical_accuracy: 0.5939 - val_loss: 1.3186 - val_sparse_categorical_accuracy: 0.5388\n",
      "Epoch 23/100\n",
      "1407/1407 [==============================] - 15s 10ms/step - loss: 1.1456 - sparse_categorical_accuracy: 0.5977 - val_loss: 1.3115 - val_sparse_categorical_accuracy: 0.5404\n",
      "Epoch 24/100\n",
      "1407/1407 [==============================] - 15s 11ms/step - loss: 1.1330 - sparse_categorical_accuracy: 0.6008 - val_loss: 1.3330 - val_sparse_categorical_accuracy: 0.5426\n",
      "Epoch 25/100\n",
      "1407/1407 [==============================] - 15s 11ms/step - loss: 1.1235 - sparse_categorical_accuracy: 0.6083 - val_loss: 1.3376 - val_sparse_categorical_accuracy: 0.5396\n",
      "Epoch 26/100\n",
      "1407/1407 [==============================] - 13s 9ms/step - loss: 1.1101 - sparse_categorical_accuracy: 0.6076 - val_loss: 1.3674 - val_sparse_categorical_accuracy: 0.5256\n",
      "Epoch 27/100\n",
      "1407/1407 [==============================] - 13s 9ms/step - loss: 1.0956 - sparse_categorical_accuracy: 0.6166 - val_loss: 1.3341 - val_sparse_categorical_accuracy: 0.5456\n",
      "Epoch 28/100\n",
      "1407/1407 [==============================] - 14s 10ms/step - loss: 1.0970 - sparse_categorical_accuracy: 0.6140 - val_loss: 1.3448 - val_sparse_categorical_accuracy: 0.5318\n",
      "Epoch 29/100\n",
      "1407/1407 [==============================] - 15s 10ms/step - loss: 1.0822 - sparse_categorical_accuracy: 0.6190 - val_loss: 1.3119 - val_sparse_categorical_accuracy: 0.5506\n",
      "Epoch 30/100\n",
      "1407/1407 [==============================] - 16s 11ms/step - loss: 1.0669 - sparse_categorical_accuracy: 0.6214 - val_loss: 1.3623 - val_sparse_categorical_accuracy: 0.5358\n",
      "Epoch 31/100\n",
      "1407/1407 [==============================] - 16s 12ms/step - loss: 1.0554 - sparse_categorical_accuracy: 0.6253 - val_loss: 1.3391 - val_sparse_categorical_accuracy: 0.5424\n",
      "Epoch 32/100\n",
      "1407/1407 [==============================] - 14s 10ms/step - loss: 1.0471 - sparse_categorical_accuracy: 0.6318 - val_loss: 1.3431 - val_sparse_categorical_accuracy: 0.5418\n",
      "Epoch 33/100\n",
      "1407/1407 [==============================] - 15s 10ms/step - loss: 1.0318 - sparse_categorical_accuracy: 0.6354 - val_loss: 1.3681 - val_sparse_categorical_accuracy: 0.5450\n",
      "Epoch 34/100\n",
      "1407/1407 [==============================] - 16s 11ms/step - loss: 1.0306 - sparse_categorical_accuracy: 0.6389 - val_loss: 1.3550 - val_sparse_categorical_accuracy: 0.5442\n",
      "Epoch 35/100\n",
      "1407/1407 [==============================] - 16s 11ms/step - loss: 1.0169 - sparse_categorical_accuracy: 0.6424 - val_loss: 1.3294 - val_sparse_categorical_accuracy: 0.5514\n",
      "Epoch 36/100\n",
      "1407/1407 [==============================] - 16s 11ms/step - loss: 1.0089 - sparse_categorical_accuracy: 0.6476 - val_loss: 1.3562 - val_sparse_categorical_accuracy: 0.5452\n",
      "Epoch 37/100\n",
      "1407/1407 [==============================] - 16s 11ms/step - loss: 0.9902 - sparse_categorical_accuracy: 0.6494 - val_loss: 1.3587 - val_sparse_categorical_accuracy: 0.5402\n",
      "Epoch 38/100\n",
      "1407/1407 [==============================] - 16s 11ms/step - loss: 0.9926 - sparse_categorical_accuracy: 0.6494 - val_loss: 1.3612 - val_sparse_categorical_accuracy: 0.5390\n",
      "Epoch 39/100\n",
      "1407/1407 [==============================] - 18s 13ms/step - loss: 0.9804 - sparse_categorical_accuracy: 0.6545 - val_loss: 1.3606 - val_sparse_categorical_accuracy: 0.5476\n",
      "Epoch 40/100\n",
      "1407/1407 [==============================] - 16s 12ms/step - loss: 0.9712 - sparse_categorical_accuracy: 0.6593 - val_loss: 1.3865 - val_sparse_categorical_accuracy: 0.5382\n",
      "Epoch 41/100\n",
      "1407/1407 [==============================] - 16s 12ms/step - loss: 0.9656 - sparse_categorical_accuracy: 0.6616 - val_loss: 1.3499 - val_sparse_categorical_accuracy: 0.5540\n",
      "Epoch 42/100\n",
      "1407/1407 [==============================] - 14s 10ms/step - loss: 0.9546 - sparse_categorical_accuracy: 0.6636 - val_loss: 1.3712 - val_sparse_categorical_accuracy: 0.5456\n",
      "Epoch 43/100\n",
      "1407/1407 [==============================] - 17s 12ms/step - loss: 0.9495 - sparse_categorical_accuracy: 0.6657 - val_loss: 1.3719 - val_sparse_categorical_accuracy: 0.5494\n"
     ]
    }
   ],
   "source": [
    "history = model.fit(X_train, y_train,\n",
    "                    epochs=100,\n",
    "                    validation_data=(X_val, y_val),\n",
    "                    callbacks=[model_checkpoint_cb, early_stopping_cb, tensorboard_cb])"
   ]
  },
  {
   "cell_type": "code",
   "execution_count": 27,
   "metadata": {},
   "outputs": [
    {
     "name": "stdout",
     "output_type": "stream",
     "text": [
      "313/313 [==============================] - 1s 2ms/step - loss: 1.3270 - sparse_categorical_accuracy: 0.5376\n"
     ]
    },
    {
     "data": {
      "text/plain": [
       "[1.3270126581192017, 0.5375999808311462]"
      ]
     },
     "execution_count": 27,
     "metadata": {},
     "output_type": "execute_result"
    }
   ],
   "source": [
    "model = keras.models.load_model(\"CIFAR10_bn_model.h5\")\n",
    "model.evaluate(X_test, y_test)"
   ]
  },
  {
   "cell_type": "markdown",
   "metadata": {},
   "source": [
    "* **Is the model converging faster than before?** \n",
    "    \n",
    "        Much faster! The previous model took 27 epochs to reach the lowest validation loss, while the new model achieved that same loss in just 5 epochs and continued to make progress until the 16th epoch. The BN layers stabilized training and allowed us to use a much larger learning rate, so convergence was faster.\n",
    "* **Does BN produce a better model?** \n",
    "\n",
    "        Yes! The final model is also much better, with 54.0% accuracy instead of 47.6%. It's still not a very good model, but at least it's much better than before (a Convolutional Neural Network would do much better, but that's a different topic, see chapter 14).\n",
    "* **How does BN affect training speed?** \n",
    "        Although the model converged much faster, each epoch took about 12s instead of 8s, because of the extra computations required by the BN layers. But overall the training time (wall time) was shortened significantly!"
   ]
  },
  {
   "cell_type": "markdown",
   "metadata": {},
   "source": [
    "### ex.8.4"
   ]
  },
  {
   "cell_type": "markdown",
   "metadata": {},
   "source": [
    "Exercise: Try replacing Batch Normalization with SELU, and make the necessary adjustements to ensure the network self-normalizes (i.e., standardize the input features, use LeCun normal initialization, make sure the DNN contains only a sequence of dense layers, etc.)."
   ]
  },
  {
   "cell_type": "code",
   "execution_count": 28,
   "metadata": {},
   "outputs": [],
   "source": [
    "# 输入标准化\n",
    "pixel_means = X_train.mean(axis=0)\n",
    "pixel_stds = X_train.std(axis=0)\n",
    "\n",
    "X_train_scaled = (X_train - pixel_means) / pixel_stds\n",
    "X_val_scaled = (X_val - pixel_means) / pixel_stds\n",
    "X_test_scaled = (X_test - pixel_means) / pixel_stds"
   ]
  },
  {
   "cell_type": "code",
   "execution_count": 29,
   "metadata": {},
   "outputs": [],
   "source": [
    "model = keras.models.Sequential()\n",
    "model.add(keras.layers.Flatten(input_shape=[32,32,3]))   # RGB彩色图像\n",
    "\n",
    "for layer in range(20):\n",
    "    model.add(keras.layers.Dense(100, \n",
    "                                 activation = keras.activations.selu,\n",
    "                                 kernel_initializer = keras.initializers.lecun_normal))\n",
    "    \n",
    "model.add(keras.layers.Dense(10, activation=keras.activations.softmax))"
   ]
  },
  {
   "cell_type": "code",
   "execution_count": 30,
   "metadata": {},
   "outputs": [],
   "source": [
    "optimiter = keras.optimizers.Nadam(learning_rate=7e-4)\n",
    "model.compile(optimizer=optimiter,\n",
    "              loss=keras.losses.sparse_categorical_crossentropy,\n",
    "              metrics=[keras.metrics.sparse_categorical_accuracy])"
   ]
  },
  {
   "cell_type": "code",
   "execution_count": 31,
   "metadata": {},
   "outputs": [
    {
     "data": {
      "text/plain": [
       "'./my_CIFAR10_logs/run_selu_001'"
      ]
     },
     "execution_count": 31,
     "metadata": {},
     "output_type": "execute_result"
    }
   ],
   "source": [
    "run_index = 1\n",
    "run_logdir = os.path.join(os.curdir, \"my_CIFAR10_logs\", \"run_selu_{:03d}\".format(run_index))\n",
    "run_logdir"
   ]
  },
  {
   "cell_type": "code",
   "execution_count": 32,
   "metadata": {},
   "outputs": [],
   "source": [
    "model_checkpoint_cb = keras.callbacks.ModelCheckpoint(\"CIFAR10_selu_model.h5\", save_best_only=True)\n",
    "early_stopping_cb = keras.callbacks.EarlyStopping(patience=20)\n",
    "tensorboard_cb = keras.callbacks.TensorBoard(run_logdir)"
   ]
  },
  {
   "cell_type": "code",
   "execution_count": 33,
   "metadata": {},
   "outputs": [
    {
     "name": "stdout",
     "output_type": "stream",
     "text": [
      "Epoch 1/100\n",
      "1407/1407 [==============================] - 12s 7ms/step - loss: 1.9446 - sparse_categorical_accuracy: 0.2992 - val_loss: 2.0623 - val_sparse_categorical_accuracy: 0.2600\n",
      "Epoch 2/100\n",
      "1407/1407 [==============================] - 10s 7ms/step - loss: 1.7300 - sparse_categorical_accuracy: 0.3798 - val_loss: 1.8109 - val_sparse_categorical_accuracy: 0.3386\n",
      "Epoch 3/100\n",
      "1407/1407 [==============================] - 10s 7ms/step - loss: 1.6277 - sparse_categorical_accuracy: 0.4217 - val_loss: 1.6910 - val_sparse_categorical_accuracy: 0.3758\n",
      "Epoch 4/100\n",
      "1407/1407 [==============================] - 9s 7ms/step - loss: 1.5590 - sparse_categorical_accuracy: 0.4466 - val_loss: 1.6417 - val_sparse_categorical_accuracy: 0.4310\n",
      "Epoch 5/100\n",
      "1407/1407 [==============================] - 9s 6ms/step - loss: 1.5028 - sparse_categorical_accuracy: 0.4729 - val_loss: 1.5801 - val_sparse_categorical_accuracy: 0.4468\n",
      "Epoch 6/100\n",
      "1407/1407 [==============================] - 10s 7ms/step - loss: 1.4576 - sparse_categorical_accuracy: 0.4886 - val_loss: 1.5208 - val_sparse_categorical_accuracy: 0.4646\n",
      "Epoch 7/100\n",
      "1407/1407 [==============================] - 10s 7ms/step - loss: 1.4109 - sparse_categorical_accuracy: 0.5076 - val_loss: 1.5522 - val_sparse_categorical_accuracy: 0.4642\n",
      "Epoch 8/100\n",
      "1407/1407 [==============================] - 9s 7ms/step - loss: 1.3756 - sparse_categorical_accuracy: 0.5187 - val_loss: 1.5027 - val_sparse_categorical_accuracy: 0.4810\n",
      "Epoch 9/100\n",
      "1407/1407 [==============================] - 9s 6ms/step - loss: 1.3351 - sparse_categorical_accuracy: 0.5325 - val_loss: 1.5228 - val_sparse_categorical_accuracy: 0.4642\n",
      "Epoch 10/100\n",
      "1407/1407 [==============================] - 10s 7ms/step - loss: 1.3076 - sparse_categorical_accuracy: 0.5433 - val_loss: 1.5035 - val_sparse_categorical_accuracy: 0.4902\n",
      "Epoch 11/100\n",
      "1407/1407 [==============================] - 9s 6ms/step - loss: 1.2754 - sparse_categorical_accuracy: 0.5570 - val_loss: 1.5385 - val_sparse_categorical_accuracy: 0.4920\n",
      "Epoch 12/100\n",
      "1407/1407 [==============================] - 9s 6ms/step - loss: 1.2413 - sparse_categorical_accuracy: 0.5704 - val_loss: 1.4841 - val_sparse_categorical_accuracy: 0.4930\n",
      "Epoch 13/100\n",
      "1407/1407 [==============================] - 9s 6ms/step - loss: 1.2190 - sparse_categorical_accuracy: 0.5777 - val_loss: 1.5045 - val_sparse_categorical_accuracy: 0.4884\n",
      "Epoch 14/100\n",
      "1407/1407 [==============================] - 10s 7ms/step - loss: 1.1977 - sparse_categorical_accuracy: 0.5851 - val_loss: 1.4869 - val_sparse_categorical_accuracy: 0.5010\n",
      "Epoch 15/100\n",
      "1407/1407 [==============================] - 11s 8ms/step - loss: 1.1711 - sparse_categorical_accuracy: 0.5943 - val_loss: 1.5660 - val_sparse_categorical_accuracy: 0.4964\n",
      "Epoch 16/100\n",
      "1407/1407 [==============================] - 10s 7ms/step - loss: 1.1538 - sparse_categorical_accuracy: 0.6038 - val_loss: 1.5049 - val_sparse_categorical_accuracy: 0.5082\n",
      "Epoch 17/100\n",
      "1407/1407 [==============================] - 10s 7ms/step - loss: 1.1264 - sparse_categorical_accuracy: 0.6139 - val_loss: 1.4987 - val_sparse_categorical_accuracy: 0.4934\n",
      "Epoch 18/100\n",
      "1407/1407 [==============================] - 9s 7ms/step - loss: 1.1115 - sparse_categorical_accuracy: 0.6187 - val_loss: 1.5656 - val_sparse_categorical_accuracy: 0.5018\n",
      "Epoch 19/100\n",
      "1407/1407 [==============================] - 10s 7ms/step - loss: 1.0872 - sparse_categorical_accuracy: 0.6276 - val_loss: 1.5131 - val_sparse_categorical_accuracy: 0.4944\n",
      "Epoch 20/100\n",
      "1407/1407 [==============================] - 11s 7ms/step - loss: 1.0668 - sparse_categorical_accuracy: 0.6352 - val_loss: 1.5197 - val_sparse_categorical_accuracy: 0.5038\n",
      "Epoch 21/100\n",
      "1407/1407 [==============================] - 10s 7ms/step - loss: 1.0440 - sparse_categorical_accuracy: 0.6413 - val_loss: 1.5351 - val_sparse_categorical_accuracy: 0.4974\n",
      "Epoch 22/100\n",
      "1407/1407 [==============================] - 9s 6ms/step - loss: 1.0291 - sparse_categorical_accuracy: 0.6451 - val_loss: 1.5826 - val_sparse_categorical_accuracy: 0.5038\n",
      "Epoch 23/100\n",
      "1407/1407 [==============================] - 9s 7ms/step - loss: 1.0121 - sparse_categorical_accuracy: 0.6544 - val_loss: 1.5778 - val_sparse_categorical_accuracy: 0.4880\n",
      "Epoch 24/100\n",
      "1407/1407 [==============================] - 9s 7ms/step - loss: 0.9952 - sparse_categorical_accuracy: 0.6618 - val_loss: 1.5699 - val_sparse_categorical_accuracy: 0.5008\n",
      "Epoch 25/100\n",
      "1407/1407 [==============================] - 9s 6ms/step - loss: 0.9774 - sparse_categorical_accuracy: 0.6680 - val_loss: 1.6252 - val_sparse_categorical_accuracy: 0.5122\n",
      "Epoch 26/100\n",
      "1407/1407 [==============================] - 9s 7ms/step - loss: 0.9636 - sparse_categorical_accuracy: 0.6733 - val_loss: 1.6044 - val_sparse_categorical_accuracy: 0.4968\n",
      "Epoch 27/100\n",
      "1407/1407 [==============================] - 9s 6ms/step - loss: 0.9464 - sparse_categorical_accuracy: 0.6779 - val_loss: 1.5714 - val_sparse_categorical_accuracy: 0.4990\n",
      "Epoch 28/100\n",
      "1407/1407 [==============================] - 9s 6ms/step - loss: 0.9276 - sparse_categorical_accuracy: 0.6841 - val_loss: 1.6100 - val_sparse_categorical_accuracy: 0.5040\n",
      "Epoch 29/100\n",
      "1407/1407 [==============================] - 9s 6ms/step - loss: 1.0287 - sparse_categorical_accuracy: 0.6730 - val_loss: 1.5750 - val_sparse_categorical_accuracy: 0.4980\n",
      "Epoch 30/100\n",
      "1407/1407 [==============================] - 9s 7ms/step - loss: 1.0721 - sparse_categorical_accuracy: 0.6308 - val_loss: 1.5467 - val_sparse_categorical_accuracy: 0.5068\n",
      "Epoch 31/100\n",
      "1407/1407 [==============================] - 9s 7ms/step - loss: 0.9758 - sparse_categorical_accuracy: 0.6660 - val_loss: 46.1073 - val_sparse_categorical_accuracy: 0.5068\n",
      "Epoch 32/100\n",
      "1407/1407 [==============================] - 9s 7ms/step - loss: 3.6193 - sparse_categorical_accuracy: 0.5823 - val_loss: 1.5738 - val_sparse_categorical_accuracy: 0.4902\n"
     ]
    }
   ],
   "source": [
    "history = model.fit(X_train_scaled, y_train,\n",
    "                    epochs=100,\n",
    "                    validation_data=(X_val_scaled, y_val),\n",
    "                    callbacks=[model_checkpoint_cb, early_stopping_cb, tensorboard_cb])"
   ]
  },
  {
   "cell_type": "code",
   "execution_count": 34,
   "metadata": {},
   "outputs": [
    {
     "name": "stdout",
     "output_type": "stream",
     "text": [
      "313/313 [==============================] - 1s 2ms/step - loss: 1.4674 - sparse_categorical_accuracy: 0.4928\n"
     ]
    },
    {
     "data": {
      "text/plain": [
       "[1.4674023389816284, 0.4927999973297119]"
      ]
     },
     "execution_count": 34,
     "metadata": {},
     "output_type": "execute_result"
    }
   ],
   "source": [
    "model = keras.models.load_model(\"CIFAR10_selu_model.h5\")\n",
    "model.evaluate(X_test_scaled, y_test)"
   ]
  },
  {
   "cell_type": "markdown",
   "metadata": {},
   "source": [
    "We get 47.9% accuracy, which is not much better than the original model (47.6%), and not as good as the model using batch normalization (54.0%). However, convergence was almost as fast as with the BN model, plus each epoch took only 7 seconds. So it's by far the fastest model to train so far."
   ]
  },
  {
   "cell_type": "markdown",
   "metadata": {},
   "source": [
    "### ex.8.5"
   ]
  },
  {
   "cell_type": "markdown",
   "metadata": {},
   "source": [
    "Exercise: Try regularizing the model with `alpha dropout`. Then, without retraining your model, see if you can achieve better accuracy using `MC Dropout`."
   ]
  },
  {
   "cell_type": "markdown",
   "metadata": {},
   "source": [
    "- `Alpha dropout`"
   ]
  },
  {
   "cell_type": "code",
   "execution_count": 35,
   "metadata": {},
   "outputs": [],
   "source": [
    "model = keras.models.Sequential()\n",
    "model.add(keras.layers.Flatten(input_shape=[32,32,3]))   # RGB彩色图像\n",
    "\n",
    "for layer in range(20):\n",
    "    model.add(keras.layers.Dense(100, \n",
    "                                 activation = keras.activations.selu,\n",
    "                                 kernel_initializer = keras.initializers.lecun_normal))\n",
    "\n",
    "model.add(keras.layers.AlphaDropout(rate=0.1))\n",
    "    \n",
    "model.add(keras.layers.Dense(10, activation=keras.activations.softmax))"
   ]
  },
  {
   "cell_type": "code",
   "execution_count": 36,
   "metadata": {},
   "outputs": [],
   "source": [
    "optimiter = keras.optimizers.Nadam(learning_rate=5e-4)\n",
    "model.compile(optimizer=optimiter,\n",
    "              loss=keras.losses.sparse_categorical_crossentropy,\n",
    "              metrics=[keras.metrics.sparse_categorical_accuracy])"
   ]
  },
  {
   "cell_type": "code",
   "execution_count": 37,
   "metadata": {},
   "outputs": [
    {
     "data": {
      "text/plain": [
       "'./my_CIFAR10_logs/run_AlphaDropout_001'"
      ]
     },
     "execution_count": 37,
     "metadata": {},
     "output_type": "execute_result"
    }
   ],
   "source": [
    "run_index = 1\n",
    "run_logdir = os.path.join(os.curdir, \"my_CIFAR10_logs\", \"run_AlphaDropout_{:03d}\".format(run_index))\n",
    "run_logdir"
   ]
  },
  {
   "cell_type": "code",
   "execution_count": 38,
   "metadata": {},
   "outputs": [],
   "source": [
    "model_checkpoint_cb = keras.callbacks.ModelCheckpoint(\"CIFAR10_AlphaDropout_model.h5\", save_best_only=True)\n",
    "early_stopping_cb = keras.callbacks.EarlyStopping(patience=20)\n",
    "tensorboard_cb = keras.callbacks.TensorBoard(run_logdir)"
   ]
  },
  {
   "cell_type": "code",
   "execution_count": 39,
   "metadata": {
    "scrolled": true
   },
   "outputs": [
    {
     "name": "stdout",
     "output_type": "stream",
     "text": [
      "Epoch 1/100\n",
      "1407/1407 [==============================] - 13s 7ms/step - loss: 1.8972 - sparse_categorical_accuracy: 0.3239 - val_loss: 1.7620 - val_sparse_categorical_accuracy: 0.3804\n",
      "Epoch 2/100\n",
      "1407/1407 [==============================] - 10s 7ms/step - loss: 1.6667 - sparse_categorical_accuracy: 0.4095 - val_loss: 1.7141 - val_sparse_categorical_accuracy: 0.4068\n",
      "Epoch 3/100\n",
      "1407/1407 [==============================] - 10s 7ms/step - loss: 1.5734 - sparse_categorical_accuracy: 0.4482 - val_loss: 1.6491 - val_sparse_categorical_accuracy: 0.4276\n",
      "Epoch 4/100\n",
      "1407/1407 [==============================] - 9s 6ms/step - loss: 1.5065 - sparse_categorical_accuracy: 0.4684 - val_loss: 1.5978 - val_sparse_categorical_accuracy: 0.4496\n",
      "Epoch 5/100\n",
      "1407/1407 [==============================] - 10s 7ms/step - loss: 1.4528 - sparse_categorical_accuracy: 0.4922 - val_loss: 1.5711 - val_sparse_categorical_accuracy: 0.4652\n",
      "Epoch 6/100\n",
      "1407/1407 [==============================] - 9s 6ms/step - loss: 1.4057 - sparse_categorical_accuracy: 0.5084 - val_loss: 1.5168 - val_sparse_categorical_accuracy: 0.4832\n",
      "Epoch 7/100\n",
      "1407/1407 [==============================] - 9s 6ms/step - loss: 1.3598 - sparse_categorical_accuracy: 0.5280 - val_loss: 1.5577 - val_sparse_categorical_accuracy: 0.4694\n",
      "Epoch 8/100\n",
      "1407/1407 [==============================] - 9s 6ms/step - loss: 1.3250 - sparse_categorical_accuracy: 0.5418 - val_loss: 1.5357 - val_sparse_categorical_accuracy: 0.4824\n",
      "Epoch 9/100\n",
      "1407/1407 [==============================] - 8s 6ms/step - loss: 1.2891 - sparse_categorical_accuracy: 0.5572 - val_loss: 1.5371 - val_sparse_categorical_accuracy: 0.4812\n",
      "Epoch 10/100\n",
      "1407/1407 [==============================] - 8s 6ms/step - loss: 1.2483 - sparse_categorical_accuracy: 0.5679 - val_loss: 1.5443 - val_sparse_categorical_accuracy: 0.4978\n",
      "Epoch 11/100\n",
      "1407/1407 [==============================] - 8s 6ms/step - loss: 1.2239 - sparse_categorical_accuracy: 0.5788 - val_loss: 1.5512 - val_sparse_categorical_accuracy: 0.4982\n",
      "Epoch 12/100\n",
      "1407/1407 [==============================] - 8s 6ms/step - loss: 1.1982 - sparse_categorical_accuracy: 0.5881 - val_loss: 1.5752 - val_sparse_categorical_accuracy: 0.4942\n",
      "Epoch 13/100\n",
      "1407/1407 [==============================] - 8s 6ms/step - loss: 1.1682 - sparse_categorical_accuracy: 0.5978 - val_loss: 1.5533 - val_sparse_categorical_accuracy: 0.4954\n",
      "Epoch 14/100\n",
      "1407/1407 [==============================] - 8s 6ms/step - loss: 1.1478 - sparse_categorical_accuracy: 0.6076 - val_loss: 1.5543 - val_sparse_categorical_accuracy: 0.5120\n",
      "Epoch 15/100\n",
      "1407/1407 [==============================] - 9s 6ms/step - loss: 1.1090 - sparse_categorical_accuracy: 0.6201 - val_loss: 1.6007 - val_sparse_categorical_accuracy: 0.4948\n",
      "Epoch 16/100\n",
      "1407/1407 [==============================] - 9s 6ms/step - loss: 1.0906 - sparse_categorical_accuracy: 0.6263 - val_loss: 1.6512 - val_sparse_categorical_accuracy: 0.4998\n",
      "Epoch 17/100\n",
      "1407/1407 [==============================] - 9s 6ms/step - loss: 1.0717 - sparse_categorical_accuracy: 0.6337 - val_loss: 1.6082 - val_sparse_categorical_accuracy: 0.5060\n",
      "Epoch 18/100\n",
      "1407/1407 [==============================] - 9s 7ms/step - loss: 1.0499 - sparse_categorical_accuracy: 0.6416 - val_loss: 1.6002 - val_sparse_categorical_accuracy: 0.4996\n",
      "Epoch 19/100\n",
      "1407/1407 [==============================] - 9s 7ms/step - loss: 1.0269 - sparse_categorical_accuracy: 0.6506 - val_loss: 1.7151 - val_sparse_categorical_accuracy: 0.5054\n",
      "Epoch 20/100\n",
      "1407/1407 [==============================] - 8s 6ms/step - loss: 1.0030 - sparse_categorical_accuracy: 0.6596 - val_loss: 1.6468 - val_sparse_categorical_accuracy: 0.5042\n",
      "Epoch 21/100\n",
      "1407/1407 [==============================] - 8s 6ms/step - loss: 0.9907 - sparse_categorical_accuracy: 0.6642 - val_loss: 1.7332 - val_sparse_categorical_accuracy: 0.5002\n",
      "Epoch 22/100\n",
      "1407/1407 [==============================] - 9s 6ms/step - loss: 0.9668 - sparse_categorical_accuracy: 0.6715 - val_loss: 1.7140 - val_sparse_categorical_accuracy: 0.5052\n",
      "Epoch 23/100\n",
      "1407/1407 [==============================] - 10s 7ms/step - loss: 0.9473 - sparse_categorical_accuracy: 0.6808 - val_loss: 1.7444 - val_sparse_categorical_accuracy: 0.5016\n",
      "Epoch 24/100\n",
      "1407/1407 [==============================] - 9s 6ms/step - loss: 0.9366 - sparse_categorical_accuracy: 0.6848 - val_loss: 1.7003 - val_sparse_categorical_accuracy: 0.5068\n",
      "Epoch 25/100\n",
      "1407/1407 [==============================] - 8s 6ms/step - loss: 0.9187 - sparse_categorical_accuracy: 0.6925 - val_loss: 1.7012 - val_sparse_categorical_accuracy: 0.5132\n",
      "Epoch 26/100\n",
      "1407/1407 [==============================] - 8s 6ms/step - loss: 0.8984 - sparse_categorical_accuracy: 0.6969 - val_loss: 1.7810 - val_sparse_categorical_accuracy: 0.5074\n"
     ]
    }
   ],
   "source": [
    "history = model.fit(X_train_scaled, y_train,\n",
    "                    epochs=100,\n",
    "                    validation_data=(X_val_scaled, y_val),\n",
    "                    callbacks=[model_checkpoint_cb, early_stopping_cb, tensorboard_cb])"
   ]
  },
  {
   "cell_type": "code",
   "execution_count": 40,
   "metadata": {},
   "outputs": [
    {
     "name": "stdout",
     "output_type": "stream",
     "text": [
      "313/313 [==============================] - 1s 1ms/step - loss: 1.5026 - sparse_categorical_accuracy: 0.4827\n"
     ]
    },
    {
     "data": {
      "text/plain": [
       "[1.5026135444641113, 0.482699990272522]"
      ]
     },
     "execution_count": 40,
     "metadata": {},
     "output_type": "execute_result"
    }
   ],
   "source": [
    "model = keras.models.load_model(\"CIFAR10_AlphaDropout_model.h5\")\n",
    "model.evaluate(X_test_scaled, y_test)"
   ]
  },
  {
   "cell_type": "markdown",
   "metadata": {},
   "source": [
    "The model reaches 48.9% accuracy on the validation set. That's very slightly better than without dropout (47.6%). With an extensive hyperparameter search, it might be possible to do better (I tried dropout rates of 5%, 10%, 20% and 40%, and learning rates 1e-4, 3e-4, 5e-4, and 1e-3), but probably not much better in this case."
   ]
  },
  {
   "cell_type": "markdown",
   "metadata": {},
   "source": [
    "- `MC dropout`"
   ]
  },
  {
   "cell_type": "code",
   "execution_count": 41,
   "metadata": {},
   "outputs": [],
   "source": [
    "class MCAlphaDropout(keras.layers.AlphaDropout):\n",
    "    def call(self, inputs):\n",
    "        return super().call(inputs, training=True)"
   ]
  },
  {
   "cell_type": "code",
   "execution_count": 42,
   "metadata": {},
   "outputs": [],
   "source": [
    "#isinstance() 函数来判断一个对象是否是一个已知的类型\n",
    "#遍历所有层，是dropout层就执行mc dropout操作，然后添加到神经网络中，不是就直接添加\n",
    "\n",
    "mc_model = keras.models.Sequential([\n",
    "    MCAlphaDropout(layer.rate) if isinstance(layer, keras.layers.AlphaDropout) else layer\n",
    "    for layer in model.layers   # 与我们刚刚训练的模型相同\n",
    "])"
   ]
  },
  {
   "cell_type": "code",
   "execution_count": 43,
   "metadata": {},
   "outputs": [],
   "source": [
    "# 多次运行模型（默认情况下为10次），并返回平均预测类概率\n",
    "def mc_dropout_predict_probas(mc_model, X, n_samples=10):\n",
    "    Y_probas = [mc_model.predict(X) for sample in range(n_samples)]\n",
    "    return np.mean(Y_probas, axis=0)\n",
    "\n",
    "# 使用这些平均概率来预测每个实例最可能的类别\n",
    "def mc_dropout_predict_classes(mc_model, X, n_samples=10):\n",
    "    Y_probas = mc_dropout_predict_probas(mc_model, X, n_samples)\n",
    "    return np.argmax(Y_probas, axis=1)"
   ]
  },
  {
   "cell_type": "code",
   "execution_count": 44,
   "metadata": {},
   "outputs": [
    {
     "name": "stdout",
     "output_type": "stream",
     "text": [
      "WARNING:tensorflow:AutoGraph could not transform <function Model.make_predict_function.<locals>.predict_function at 0x7f959aafc710> and will run it as-is.\n",
      "Please report this to the TensorFlow team. When filing the bug, set the verbosity to 10 (on Linux, `export AUTOGRAPH_VERBOSITY=10`) and attach the full output.\n",
      "Cause: closure mismatch, requested ('self', 'step_function'), but source function had ()\n",
      "To silence this warning, decorate the function with @tf.autograph.experimental.do_not_convert\n",
      "WARNING: AutoGraph could not transform <function Model.make_predict_function.<locals>.predict_function at 0x7f959aafc710> and will run it as-is.\n",
      "Please report this to the TensorFlow team. When filing the bug, set the verbosity to 10 (on Linux, `export AUTOGRAPH_VERBOSITY=10`) and attach the full output.\n",
      "Cause: closure mismatch, requested ('self', 'step_function'), but source function had ()\n",
      "To silence this warning, decorate the function with @tf.autograph.experimental.do_not_convert\n"
     ]
    },
    {
     "data": {
      "text/plain": [
       "0.4824"
      ]
     },
     "execution_count": 44,
     "metadata": {},
     "output_type": "execute_result"
    }
   ],
   "source": [
    "# 对验证集中的所有实例进行预测，并计算精度\n",
    "y_pred = mc_dropout_predict_classes(mc_model, X_val_scaled)\n",
    "accuracy = np.mean(y_pred == y_val[:, 0])  # x[:,0]这个写法就是取第0列，求均值相当于是正确率\n",
    "accuracy"
   ]
  },
  {
   "cell_type": "markdown",
   "metadata": {},
   "source": [
    "We get no accuracy improvement in this case (we're still at 48.9% accuracy).\n",
    "\n",
    "So the best model we got in this exercise is the Batch Normalization model."
   ]
  },
  {
   "cell_type": "markdown",
   "metadata": {},
   "source": [
    "# ex.8.6"
   ]
  },
  {
   "cell_type": "markdown",
   "metadata": {},
   "source": [
    "Exercise: Retrain your model using 1cycle scheduling and see if it improves training speed and model accuracy."
   ]
  },
  {
   "cell_type": "code",
   "execution_count": 45,
   "metadata": {},
   "outputs": [],
   "source": [
    "model = keras.models.Sequential()\n",
    "model.add(keras.layers.Flatten(input_shape=[32,32,3]))   # RGB彩色图像\n",
    "\n",
    "for layer in range(20):\n",
    "    model.add(keras.layers.Dense(100, \n",
    "                                 activation = keras.activations.selu,\n",
    "                                 kernel_initializer = keras.initializers.lecun_normal))\n",
    "\n",
    "model.add(keras.layers.AlphaDropout(rate=0.1))\n",
    "    \n",
    "model.add(keras.layers.Dense(10, activation=keras.activations.softmax))"
   ]
  },
  {
   "cell_type": "code",
   "execution_count": 46,
   "metadata": {},
   "outputs": [],
   "source": [
    "optimiter = keras.optimizers.Nadam(learning_rate=5e-4)\n",
    "model.compile(optimizer=optimiter,\n",
    "              loss=keras.losses.sparse_categorical_crossentropy,\n",
    "              metrics=[keras.metrics.sparse_categorical_accuracy])"
   ]
  },
  {
   "cell_type": "code",
   "execution_count": 47,
   "metadata": {},
   "outputs": [],
   "source": [
    "class OneCycleScheduler(keras.callbacks.Callback):\n",
    "    def __init__(self, iterations, max_rate, start_rate=None,\n",
    "                 last_iterations=None, last_rate=None):\n",
    "        self.iterations = iterations\n",
    "        #print(iterations)#8800\n",
    "        self.max_rate = max_rate\n",
    "        #print(max_rate)  #0.05\n",
    "        self.start_rate = start_rate or max_rate / 10 #Python里面 /表示除法， //表示整除\n",
    "        #print(self.start_rate)#0.005\n",
    "        self.last_iterations = last_iterations or iterations // 10 + 1\n",
    "        #print(self.last_iterations) #881\n",
    "        self.half_iteration = (iterations - self.last_iterations) // 2\n",
    "        #print(self.half_iteration) #3959\n",
    "        #print(2 * self.half_iteration)#7918\n",
    "        self.last_rate = last_rate or self.start_rate / 1000\n",
    "        #print(self.last_rate) #5e-06\n",
    "        self.iteration = 0\n",
    "    def _interpolate(self, iter1, iter2, rate1, rate2):\n",
    "        return ((rate2 - rate1) * (self.iteration - iter1)\n",
    "                / (iter2 - iter1) + rate1)\n",
    "    def on_batch_begin(self, batch, logs):\n",
    "        if self.iteration < self.half_iteration:\n",
    "            rate = self._interpolate(0, self.half_iteration, self.start_rate, self.max_rate)\n",
    "        elif self.iteration < 2 * self.half_iteration:\n",
    "            rate = self._interpolate(self.half_iteration, 2 * self.half_iteration,\n",
    "                                     self.max_rate, self.start_rate)\n",
    "        else:\n",
    "            rate = self._interpolate(2 * self.half_iteration, self.iterations,\n",
    "                                     self.start_rate, self.last_rate)\n",
    "              \n",
    "        self.iteration += 1\n",
    "        K.set_value(self.model.optimizer.lr, rate)"
   ]
  },
  {
   "cell_type": "code",
   "execution_count": 49,
   "metadata": {},
   "outputs": [
    {
     "name": "stdout",
     "output_type": "stream",
     "text": [
      "Epoch 1/25\n",
      "352/352 [==============================] - 6s 11ms/step - loss: 295.4765 - sparse_categorical_accuracy: 0.1392 - val_loss: 2.2638 - val_sparse_categorical_accuracy: 0.1420\n",
      "Epoch 2/25\n",
      "352/352 [==============================] - 4s 10ms/step - loss: 2.2135 - sparse_categorical_accuracy: 0.1635 - val_loss: 2.1748 - val_sparse_categorical_accuracy: 0.1886\n",
      "Epoch 3/25\n",
      "352/352 [==============================] - 4s 10ms/step - loss: 2.2189 - sparse_categorical_accuracy: 0.1581 - val_loss: 2.2016 - val_sparse_categorical_accuracy: 0.1580\n",
      "Epoch 4/25\n",
      "352/352 [==============================] - 4s 10ms/step - loss: 2.2168 - sparse_categorical_accuracy: 0.1546 - val_loss: 2.2057 - val_sparse_categorical_accuracy: 0.1742\n",
      "Epoch 5/25\n",
      "352/352 [==============================] - 4s 10ms/step - loss: 27408084238336.0000 - sparse_categorical_accuracy: 0.1041 - val_loss: 2.7167 - val_sparse_categorical_accuracy: 0.1038\n",
      "Epoch 6/25\n",
      "352/352 [==============================] - 4s 10ms/step - loss: 2.3071 - sparse_categorical_accuracy: 0.1001 - val_loss: 2.7006 - val_sparse_categorical_accuracy: 0.1038\n",
      "Epoch 7/25\n",
      "352/352 [==============================] - 4s 10ms/step - loss: 2.3086 - sparse_categorical_accuracy: 0.1003 - val_loss: 2.7095 - val_sparse_categorical_accuracy: 0.1038\n",
      "Epoch 8/25\n",
      "352/352 [==============================] - 4s 10ms/step - loss: 2.3101 - sparse_categorical_accuracy: 0.0974 - val_loss: 2.6880 - val_sparse_categorical_accuracy: 0.1038\n",
      "Epoch 9/25\n",
      "352/352 [==============================] - 4s 10ms/step - loss: 2.3122 - sparse_categorical_accuracy: 0.1000 - val_loss: 2.6801 - val_sparse_categorical_accuracy: 0.1038\n",
      "Epoch 10/25\n",
      "352/352 [==============================] - 4s 10ms/step - loss: 2.3147 - sparse_categorical_accuracy: 0.0985 - val_loss: 2.6744 - val_sparse_categorical_accuracy: 0.1038\n",
      "Epoch 11/25\n",
      "352/352 [==============================] - 4s 10ms/step - loss: 2.3169 - sparse_categorical_accuracy: 0.0989 - val_loss: 2.7571 - val_sparse_categorical_accuracy: 0.0920\n",
      "Epoch 12/25\n",
      "352/352 [==============================] - 4s 10ms/step - loss: 2.3181 - sparse_categorical_accuracy: 0.0970 - val_loss: 2.7687 - val_sparse_categorical_accuracy: 0.0920\n",
      "Epoch 13/25\n",
      "352/352 [==============================] - 4s 10ms/step - loss: 2.3183 - sparse_categorical_accuracy: 0.1004 - val_loss: 2.7001 - val_sparse_categorical_accuracy: 0.1038\n",
      "Epoch 14/25\n",
      "352/352 [==============================] - 4s 10ms/step - loss: 2.3177 - sparse_categorical_accuracy: 0.1004 - val_loss: 2.7995 - val_sparse_categorical_accuracy: 0.1038\n",
      "Epoch 15/25\n",
      "352/352 [==============================] - 4s 10ms/step - loss: 2.3169 - sparse_categorical_accuracy: 0.0981 - val_loss: 2.5927 - val_sparse_categorical_accuracy: 0.1038\n",
      "Epoch 16/25\n",
      "352/352 [==============================] - 4s 10ms/step - loss: 2.3154 - sparse_categorical_accuracy: 0.1012 - val_loss: 2.6511 - val_sparse_categorical_accuracy: 0.1038\n",
      "Epoch 17/25\n",
      "352/352 [==============================] - 4s 10ms/step - loss: 2.3146 - sparse_categorical_accuracy: 0.1001 - val_loss: 2.5940 - val_sparse_categorical_accuracy: 0.1038\n",
      "Epoch 18/25\n",
      "352/352 [==============================] - 4s 10ms/step - loss: 2.3134 - sparse_categorical_accuracy: 0.1008 - val_loss: 2.6626 - val_sparse_categorical_accuracy: 0.1038\n",
      "Epoch 19/25\n",
      "352/352 [==============================] - 4s 10ms/step - loss: 2.3126 - sparse_categorical_accuracy: 0.0990 - val_loss: 2.7308 - val_sparse_categorical_accuracy: 0.0920\n",
      "Epoch 20/25\n",
      "352/352 [==============================] - 4s 10ms/step - loss: 2.3107 - sparse_categorical_accuracy: 0.1011 - val_loss: 2.7072 - val_sparse_categorical_accuracy: 0.0920\n",
      "Epoch 21/25\n",
      "352/352 [==============================] - 4s 10ms/step - loss: 2.3099 - sparse_categorical_accuracy: 0.0984 - val_loss: 2.6222 - val_sparse_categorical_accuracy: 0.0920\n",
      "Epoch 22/25\n",
      "352/352 [==============================] - 4s 10ms/step - loss: 2.3078 - sparse_categorical_accuracy: 0.1000 - val_loss: 2.7583 - val_sparse_categorical_accuracy: 0.1038\n",
      "Epoch 23/25\n",
      "352/352 [==============================] - 4s 10ms/step - loss: 2.3061 - sparse_categorical_accuracy: 0.1016 - val_loss: 2.7491 - val_sparse_categorical_accuracy: 0.1038\n",
      "Epoch 24/25\n",
      "352/352 [==============================] - 4s 10ms/step - loss: 2.3054 - sparse_categorical_accuracy: 0.0996 - val_loss: 2.7060 - val_sparse_categorical_accuracy: 0.1038\n",
      "Epoch 25/25\n",
      "352/352 [==============================] - 4s 10ms/step - loss: 2.3037 - sparse_categorical_accuracy: 0.0985 - val_loss: 2.6863 - val_sparse_categorical_accuracy: 0.1038\n"
     ]
    }
   ],
   "source": [
    "#从0.005到0.05然后降回0.005再往下降到1.0663265306122723e-05\n",
    "\n",
    "import math\n",
    "n_epochs = 25\n",
    "batch_size = 128\n",
    "#math.ceil(x)返回大于等于参数x的最小整数,即对浮点数向上取整.\n",
    "#math.ceil(len(X_train) / batch_size) * n_epochs总训练数据数目\n",
    "#max_rate 最大学习率\n",
    "onecycle = OneCycleScheduler(math.ceil(len(X_train) / batch_size) * n_epochs, max_rate=0.05)\n",
    "history = model.fit(X_train_scaled, y_train, epochs=n_epochs, batch_size=batch_size,\n",
    "                    validation_data=(X_val_scaled, y_val),\n",
    "                    callbacks=[onecycle])"
   ]
  },
  {
   "cell_type": "markdown",
   "metadata": {},
   "source": [
    "One cycle allowed us to train the model in just 15 epochs, each taking only 2 seconds (thanks to the larger batch size). This is several times faster than the fastest model we trained so far. Moreover, we improved the model's performance (from 47.6% to 52.0%). The batch normalized model reaches a slightly better performance (54%), but it's much slower to train."
   ]
  },
  {
   "cell_type": "markdown",
   "metadata": {},
   "source": [
    "> Apotosome 10/07/21"
   ]
  }
 ],
 "metadata": {
  "hide_input": false,
  "kernelspec": {
   "display_name": "Python 3",
   "language": "python",
   "name": "python3"
  },
  "language_info": {
   "codemirror_mode": {
    "name": "ipython",
    "version": 3
   },
   "file_extension": ".py",
   "mimetype": "text/x-python",
   "name": "python",
   "nbconvert_exporter": "python",
   "pygments_lexer": "ipython3",
   "version": "3.7.4"
  },
  "toc": {
   "base_numbering": 1,
   "nav_menu": {},
   "number_sections": true,
   "sideBar": true,
   "skip_h1_title": false,
   "title_cell": "Table of Contents",
   "title_sidebar": "Contents",
   "toc_cell": false,
   "toc_position": {
    "height": "calc(100% - 180px)",
    "left": "10px",
    "top": "150px",
    "width": "230.512px"
   },
   "toc_section_display": true,
   "toc_window_display": false
  }
 },
 "nbformat": 4,
 "nbformat_minor": 2
}
