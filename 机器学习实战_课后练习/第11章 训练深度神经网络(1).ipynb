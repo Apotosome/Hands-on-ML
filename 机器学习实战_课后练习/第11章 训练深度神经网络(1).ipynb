{
 "cells": [
  {
   "cell_type": "markdown",
   "metadata": {},
   "source": [
    "# 梯度消失和梯度下降问题 Vanishing/Exploding Gradients Problem"
   ]
  },
  {
   "cell_type": "code",
   "execution_count": 1,
   "metadata": {},
   "outputs": [],
   "source": [
    "import pandas as pd\n",
    "import numpy as np\n",
    "import matplotlib.pyplot as plt"
   ]
  },
  {
   "cell_type": "code",
   "execution_count": 2,
   "metadata": {},
   "outputs": [],
   "source": [
    "from matplotlib import font_manager\n",
    "my_font = font_manager.FontProperties(fname='./Fonts/SourceHanSerifSC-Medium.otf', size=12)"
   ]
  },
  {
   "cell_type": "code",
   "execution_count": 3,
   "metadata": {},
   "outputs": [],
   "source": [
    "def logit(x):\n",
    "    return 1/(1+np.exp(-x))"
   ]
  },
  {
   "cell_type": "code",
   "execution_count": 4,
   "metadata": {},
   "outputs": [
    {
     "data": {
      "image/png": "[encoded data removed]",
      "text/plain": [
       "<Figure size 432x288 with 1 Axes>"
      ]
     },
     "metadata": {
      "needs_background": "light"
     },
     "output_type": "display_data"
    }
   ],
   "source": [
    "x = np.linspace(-5, 5, 100)\n",
    "\n",
    "plt.plot([-5,5], [0,0], 'k-')\n",
    "plt.plot([-5,5], [1,1], 'k--')\n",
    "plt.plot([0,0], [-0.2,1.2], 'k-')\n",
    "plt.plot([-5,5], [-3/4, 7/4], 'g--')\n",
    "\n",
    "plt.plot(x, logit(x), 'b-')\n",
    "\n",
    "props = dict(facecolor='red', shrink=0.1)   # 箭头的样式\n",
    "plt.annotate(s='饱和', xy=(5,1), xytext=(3.5, 0.7), font_properties=my_font, arrowprops=props, ha=\"center\")\n",
    "plt.annotate(s='线性', xy=(0,0.5), xytext=(1.5, 0.2), font_properties=my_font, arrowprops=props, ha=\"center\")\n",
    "plt.annotate(s='饱和', xy=(-5,0), xytext=(-3.5, 0.2), font_properties=my_font, arrowprops=props, ha=\"center\")\n",
    "\n",
    "plt.title(\"Sigmoid激活函数\", font_properties=my_font)\n",
    "plt.axis([-5, 5, -0.2, 1.2])\n",
    "plt.grid(True)\n",
    "plt.show()"
   ]
  },
  {
   "cell_type": "markdown",
   "metadata": {},
   "source": [
    "反向传播算法中，随着算法向下传播到较低层，梯度通常为越来越小。结果梯度下降更新使较低层的连接权重保持不变，训练不能收敛到一个良好的解。我们称其为**梯度消失**。相反，梯度可能越来越大，各层需要更新很大的权重直到算法发散为止，这是**梯度爆炸**问题。"
   ]
  },
  {
   "cell_type": "markdown",
   "metadata": {},
   "source": [
    "如上图所示，当输入变大时，该函数会以0或1饱和，并且导数接近0。因此反向传播开始时几乎没有梯度可以通过网络传播回去。"
   ]
  },
  {
   "cell_type": "markdown",
   "metadata": {},
   "source": [
    "## Glorot和He初始化"
   ]
  },
  {
   "cell_type": "markdown",
   "metadata": {},
   "source": [
    "在Glorot和Bengio的论文中阐述了关于训练DNN时梯度不稳定的一些观点:使用在当时比较流行的`sigmoid激活函数`和`权重初始化技术`，每层输出的方差远大于其输入的方差，随着网络的延伸，方差在每一层之后都会增加，直到激活函数在顶层达到饱和为止。"
   ]
  },
  {
   "cell_type": "markdown",
   "metadata": {},
   "source": [
    "初始化一个深度网络时,为了缓解梯度消失或爆炸问题,我们尽可能保持每个神经元的输入和输出的方差一致,根据神经元的连接数量来自适应地调整初始化分布的方差,这类方法称为`方差缩放Variance Scaling`"
   ]
  },
  {
   "cell_type": "markdown",
   "metadata": {},
   "source": [
    "- `Glorot`和`Bengio`提出了一种能显著缓解不稳定梯度问题的方法,根据每层的神经元数量来自动计算初始化参数方差的策略`Glorot初始化`:"
   ]
  },
  {
   "cell_type": "markdown",
   "metadata": {},
   "source": [
    "    a. 使用Sigmoid激活函数时\n",
    ">1. 若采用**高斯分布**来随机初始化参数，连接权重 $w^{(𝑙)}$ 可以按 $𝒩(0, \\frac{2}{M_{l-1} \\  + M_{l}} )$的高斯分布进行初始化. \n",
    "2. 若采用区间为[−𝑟, 𝑟] 的**均匀分布**来初始化 $w^{(𝑙)}$，则 𝑟取值为$\\sqrt{\\frac{6}{M_{l-1} \\  + M_{l}}}$ ."
   ]
  },
  {
   "cell_type": "markdown",
   "metadata": {},
   "source": [
    "    b. 使用Tanh激活函数时\n",
    ">1. 若采用**高斯分布**来随机初始化参数，连接权重 $w^{(𝑙)}$ 可以按 $𝒩(0, 16×\\frac{2}{M_{l-1} \\  + M_{l}} )$的高斯分布进行初始化. \n",
    "2. 若采用区间为[−𝑟, 𝑟] 的**均匀分布**来初始化 $w^{(𝑙)}$，则 𝑟取值为$4\\sqrt{\\frac{6}{M_{l-1} \\  + M_{l}}}$ ."
   ]
  },
  {
   "cell_type": "markdown",
   "metadata": {},
   "source": [
    "- `LeCun初始化`是上世纪90年代提出的初始化策略，适用于的激活函数为`SELU`:"
   ]
  },
  {
   "cell_type": "markdown",
   "metadata": {},
   "source": [
    ">1. 若采用**高斯分布**来随机初始化参数，连接权重 $w^{(𝑙)}$ 可以按 $𝒩(0, \\frac{1}{M_{l-1} } )$的高斯分布进行初始化. \n",
    "2. 若采用区间为[−𝑟, 𝑟] 的**均匀分布**来初始化 $w^{(𝑙)}$，则 𝑟取值为$\\sqrt{\\frac{3}{M_{l-1} }}$ ."
   ]
  },
  {
   "cell_type": "markdown",
   "metadata": {},
   "source": [
    "- `He初始化` 当神经元使用`ReLU`激活函数时,通常有一半的神经元输出为0,因此其分布的方差也近似为使用恒等函数时的一半，因此使用此策略."
   ]
  },
  {
   "cell_type": "markdown",
   "metadata": {},
   "source": [
    ">1. 若采用**高斯分布**来随机初始化参数，连接权重 $w^{(𝑙)}$ 可以按 $𝒩(0, \\frac{2}{M_{l-1} } )$的高斯分布进行初始化. \n",
    "2. 若采用区间为[−𝑟, 𝑟] 的**均匀分布**来初始化 $w^{(𝑙)}$，则 𝑟取值为$\\sqrt{\\frac{6}{M_{l-1} }}$ ."
   ]
  },
  {
   "cell_type": "markdown",
   "metadata": {},
   "source": [
    "总结:每种激活函数的初始化参数:( $fan_{avg}=\\frac{fan_{in}\\ +fan_{out}}{2} \\ $ )"
   ]
  },
  {
   "cell_type": "markdown",
   "metadata": {},
   "source": [
    "|  初始化   | 激活函数  | $𝜎^2$  |\n",
    "|  :----  | :----  |:----:  |\n",
    "| Glorot  | None, tanh, logistic, softmax |$\\frac{1}{fan_{avg}}$ |\n",
    "| He  | ReLU 和变体 |$\\frac{2}{fan_{in}}$ |\n",
    "| LeCun  | SELU |$\\frac{1}{fan_{in}}$ |"
   ]
  },
  {
   "cell_type": "markdown",
   "metadata": {},
   "source": [
    "默认情况下`Keras`使用的具有**均匀分布的Glorot初始化**."
   ]
  },
  {
   "cell_type": "code",
   "execution_count": 5,
   "metadata": {},
   "outputs": [],
   "source": [
    "import tensorflow as tf\n",
    "from tensorflow import keras"
   ]
  },
  {
   "cell_type": "code",
   "execution_count": 6,
   "metadata": {},
   "outputs": [
    {
     "data": {
      "text/plain": [
       "<tensorflow.python.keras.layers.core.Dense at 0x7f8b49a55990>"
      ]
     },
     "execution_count": 6,
     "metadata": {},
     "output_type": "execute_result"
    }
   ],
   "source": [
    "# 更改为He初始化\n",
    "keras.layers.Dense(10, activation=\"relu\", kernel_initializer=\"he_normal\")"
   ]
  },
  {
   "cell_type": "code",
   "execution_count": 7,
   "metadata": {},
   "outputs": [
    {
     "data": {
      "text/plain": [
       "<tensorflow.python.keras.layers.core.Dense at 0x7f8b49a9bb10>"
      ]
     },
     "execution_count": 7,
     "metadata": {},
     "output_type": "execute_result"
    }
   ],
   "source": [
    "# 更改为Variance Scaling初始化\n",
    "he_avg_init = keras.initializers.VarianceScaling(scale=2, mode='fan_avg',\n",
    "                                                 distribution=\"uniform\")  # 均匀分布\n",
    "\n",
    "keras.layers.Dense(10, activation=keras.activations.sigmoid,\n",
    "                   kernel_initializer=he_avg_init)"
   ]
  },
  {
   "cell_type": "markdown",
   "metadata": {},
   "source": [
    "## 非饱和激活函数 Nonsaturating Activation Functions"
   ]
  },
  {
   "cell_type": "markdown",
   "metadata": {},
   "source": [
    "### ReLU"
   ]
  },
  {
   "cell_type": "markdown",
   "metadata": {},
   "source": [
    "`ReLU`,是目前深度神经网络中经常使用的激活函数.\n",
    ">$\\begin{aligned} \\text { ReLU }(x) &= \\begin{cases}x & \\text { if } x>0 \\\\ 0 & \\text { if } x \\leq 0\\end{cases} \\\\ &=\\max (0, x) \\end{aligned}$\n",
    "\n",
    "1. `ReLU`相较于`Sigmiod`却具有很好的稀疏性,大约50%的神经元会处于激活状态.\n",
    "2. 在优化方面,相比于 `Sigmiod`型函数的两端饱和,ReLU函数为**左饱和函数** 且在x>0时导数为1,在一定程度上缓解了神经网络的梯度消失问题,加速梯度下降的收敛速度.\n",
    "\n",
    "3. `ReLU`函数的输出是非零中心化的,给后一层的神经网络引入偏置偏移会影响梯度下降的效率.\n",
    "4. `ReLU`神经元在训练时比较容易“死亡”.在训练时,如果参数在一次不恰当的更新后,第一个隐藏层中的某个ReLU神经元在所有的训练数据上都不能被激活,那么这个神经元自身参数的梯度永远都会是 0,在以后的训练过程中永远不能被激活,特别是**在使用较大的学习率**.这种现象称为**死亡ReLU问题**,并且也有可能会发生在其他隐藏层."
   ]
  },
  {
   "cell_type": "markdown",
   "metadata": {},
   "source": [
    "- 在实际使用中,为了避免上述情况,有几种`ReLU`的变种也会被广泛使用."
   ]
  },
  {
   "cell_type": "code",
   "execution_count": 8,
   "metadata": {
    "scrolled": true
   },
   "outputs": [
    {
     "name": "stdout",
     "output_type": "stream",
     "text": [
      "LeakyReLU\n",
      "PReLU\n",
      "ReLU\n",
      "ThresholdedReLU\n"
     ]
    }
   ],
   "source": [
    "# keras中包含的ReLU及其变体的激活函数\n",
    "for m in dir(keras.layers):\n",
    "    if \"relu\" in m.lower():\n",
    "        print(m)"
   ]
  },
  {
   "cell_type": "markdown",
   "metadata": {},
   "source": [
    "- 使用`ReLU`作为激活函数构建一个具有100层隐藏层的神经网络模型训练`Fashion MNIST`数据集"
   ]
  },
  {
   "cell_type": "code",
   "execution_count": 9,
   "metadata": {},
   "outputs": [],
   "source": [
    "# 加载数据集\n",
    "fashion_mnist = keras.datasets.fashion_mnist\n",
    "(X_train_full, y_train_full),(X_test, y_test) = fashion_mnist.load_data()"
   ]
  },
  {
   "cell_type": "code",
   "execution_count": 10,
   "metadata": {},
   "outputs": [],
   "source": [
    "# 特征缩放\n",
    "X_train_full = X_train_full / 255.0\n",
    "X_test = X_test / 255.0\n",
    "# 创建验证集\n",
    "X_val, X_train = X_train_full[:5000], X_train_full[5000:]\n",
    "y_val, y_train = y_train_full[:5000], y_train_full[5000:]"
   ]
  },
  {
   "cell_type": "code",
   "execution_count": 11,
   "metadata": {},
   "outputs": [],
   "source": [
    "# 输入标准化\n",
    "pixel_means = X_train.mean(axis=0, keepdims=True)\n",
    "pixel_stds = X_train.std(axis=0, keepdims=True)\n",
    "\n",
    "X_train_scaled = (X_train - pixel_means) / pixel_stds\n",
    "X_val_scaled = (X_val - pixel_means) / pixel_stds\n",
    "X_test_scaled = (X_test - pixel_means) / pixel_stds"
   ]
  },
  {
   "cell_type": "code",
   "execution_count": 12,
   "metadata": {},
   "outputs": [],
   "source": [
    "# 使用顺序API创建模型\n",
    "model = keras.models.Sequential()\n",
    "model.add(keras.layers.Flatten(input_shape=[28,28]))\n",
    "model.add(keras.layers.Dense(300, \n",
    "                             activation=keras.activations.relu, \n",
    "                             # ReLU及其变体的参数初始化策略是He初始化\n",
    "                             kernel_initializer=keras.initializers.he_normal\n",
    "                            ))\n",
    "for layer in range(99):\n",
    "    model.add(keras.layers.Dense(100,\n",
    "                                 activation=keras.activations.relu,\n",
    "                                 kernel_initializer=keras.initializers.he_normal\n",
    "                                ))\n",
    "model.add(keras.layers.Dense(10,activation=keras.activations.softmax))"
   ]
  },
  {
   "cell_type": "code",
   "execution_count": 13,
   "metadata": {},
   "outputs": [],
   "source": [
    "# 编译模型\n",
    "model.compile(loss=keras.losses.sparse_categorical_crossentropy,\n",
    "              optimizer=keras.optimizers.SGD(learning_rate=1e-3),\n",
    "              metrics=[keras.metrics.sparse_categorical_accuracy])"
   ]
  },
  {
   "cell_type": "code",
   "execution_count": 14,
   "metadata": {},
   "outputs": [
    {
     "name": "stdout",
     "output_type": "stream",
     "text": [
      "Epoch 1/5\n",
      "1719/1719 [==============================] - 17s 8ms/step - loss: 1.9790 - sparse_categorical_accuracy: 0.2132 - val_loss: 1.6942 - val_sparse_categorical_accuracy: 0.2934\n",
      "Epoch 2/5\n",
      "1719/1719 [==============================] - 13s 8ms/step - loss: 1.3494 - sparse_categorical_accuracy: 0.4151 - val_loss: 1.1763 - val_sparse_categorical_accuracy: 0.5140\n",
      "Epoch 3/5\n",
      "1719/1719 [==============================] - 13s 8ms/step - loss: 1.0878 - sparse_categorical_accuracy: 0.5224 - val_loss: 0.9304 - val_sparse_categorical_accuracy: 0.5694\n",
      "Epoch 4/5\n",
      "1719/1719 [==============================] - 13s 8ms/step - loss: 0.9573 - sparse_categorical_accuracy: 0.5790 - val_loss: 0.8212 - val_sparse_categorical_accuracy: 0.6614\n",
      "Epoch 5/5\n",
      "1719/1719 [==============================] - 13s 8ms/step - loss: 0.9345 - sparse_categorical_accuracy: 0.6115 - val_loss: 0.8073 - val_sparse_categorical_accuracy: 0.6808\n"
     ]
    },
    {
     "data": {
      "text/plain": [
       "<tensorflow.python.keras.callbacks.History at 0x7f8b0711fb90>"
      ]
     },
     "execution_count": 14,
     "metadata": {},
     "output_type": "execute_result"
    }
   ],
   "source": [
    "# 训练模型\n",
    "model.fit(X_train_scaled, y_train,\n",
    "          epochs=5,\n",
    "          validation_data=(X_val_scaled, y_val))"
   ]
  },
  {
   "cell_type": "code",
   "execution_count": 15,
   "metadata": {
    "scrolled": true
   },
   "outputs": [
    {
     "name": "stdout",
     "output_type": "stream",
     "text": [
      "313/313 [==============================] - 1s 4ms/step - loss: 4.2651 - sparse_categorical_accuracy: 0.1704\n"
     ]
    },
    {
     "data": {
      "text/plain": [
       "[4.265134811401367, 0.1703999936580658]"
      ]
     },
     "execution_count": 15,
     "metadata": {},
     "output_type": "execute_result"
    }
   ],
   "source": [
    "# 评估泛化误差\n",
    "model.evaluate(X_test, y_test)"
   ]
  },
  {
   "cell_type": "markdown",
   "metadata": {},
   "source": [
    "结果很糟糕，出现了梯度消失/爆炸问题."
   ]
  },
  {
   "cell_type": "markdown",
   "metadata": {},
   "source": [
    "### Leaky ReLU "
   ]
  },
  {
   "cell_type": "markdown",
   "metadata": {},
   "source": [
    "- `带泄露的 ReLU(Leaky ReLU)`:在输入x<0时,保持一个很小的梯度$\\gamma$,这样当神经元非激活时也能有一个非零的梯度可以更新参数,避免永远不能被激活\n",
    ">$\\begin{aligned} \\text { LeakyReLU }(x) &= \\begin{cases}x & \\text { if } x>0 \\\\ \\gamma x & \\text { if } x \\leq 0\\end{cases} \\\\ &=\\max (0, x)+\\gamma \\min (0, x) \\end{aligned}$\n",
    "\n",
    "    1. `Leaky ReLU`要好于严格的`ReLU`\n",
    "    2. $\\gamma=0.2$(大泄露)似乎比$\\gamma=0.01$(小泄露)产生更好的性能."
   ]
  },
  {
   "cell_type": "code",
   "execution_count": 16,
   "metadata": {},
   "outputs": [],
   "source": [
    "def leaky_relu(x, gamma=0.01):\n",
    "    return np.maximum(0,x) + gamma*np.minimum(0,x)"
   ]
  },
  {
   "cell_type": "code",
   "execution_count": 17,
   "metadata": {},
   "outputs": [
    {
     "data": {
      "image/png": "[encoded data removed]",
      "text/plain": [
       "<Figure size 432x288 with 1 Axes>"
      ]
     },
     "metadata": {
      "needs_background": "light"
     },
     "output_type": "display_data"
    }
   ],
   "source": [
    "plt.plot([-5,5], [0,0], 'k-')\n",
    "plt.plot([0,0], [-0.5,4], 'k-')\n",
    "\n",
    "plt.plot(x, leaky_relu(x, gamma=0.05), 'b-')\n",
    "\n",
    "props = dict(facecolor='red', shrink=0.1)   # 箭头的样式\n",
    "plt.annotate(s='Leaky', xy=(-4.5,-0.2), xytext=(-3.5, 0.5), font_properties=my_font, arrowprops=props, ha=\"center\")\n",
    "\n",
    "plt.title(\"Leaky ReLU激活函数\", font_properties=my_font)\n",
    "plt.axis([-5, 5, -0.5, 4])\n",
    "plt.grid(True)\n",
    "plt.show()"
   ]
  },
  {
   "cell_type": "markdown",
   "metadata": {},
   "source": [
    "使用`Leaky ReLU`作为激活函数构建神经网络模型训练`Fashion MNIST`数据集"
   ]
  },
  {
   "cell_type": "code",
   "execution_count": 18,
   "metadata": {},
   "outputs": [],
   "source": [
    "# 使用顺序API创建模型\n",
    "np.random.seed(42)\n",
    "tf.random.set_seed(42)\n",
    "\n",
    "model = keras.models.Sequential([\n",
    "    keras.layers.Flatten(input_shape=[28,28]),\n",
    "    \n",
    "    # ReLU及其变体的参数初始化策略是He初始化\n",
    "    keras.layers.Dense(300, kernel_initializer=keras.initializers.he_normal),\n",
    "    # 创建一个LeakyReLU层\n",
    "    keras.layers.LeakyReLU(),   \n",
    "    \n",
    "    keras.layers.Dense(100, kernel_initializer=keras.initializers.he_normal),\n",
    "    keras.layers.LeakyReLU(),\n",
    "    \n",
    "    keras.layers.Dense(10, activation=keras.activations.softmax)\n",
    "])"
   ]
  },
  {
   "cell_type": "code",
   "execution_count": 19,
   "metadata": {},
   "outputs": [],
   "source": [
    "# 编译模型\n",
    "model.compile(loss=keras.losses.sparse_categorical_crossentropy,\n",
    "              optimizer=keras.optimizers.SGD(learning_rate=1e-3),\n",
    "              metrics=[keras.metrics.sparse_categorical_accuracy])"
   ]
  },
  {
   "cell_type": "code",
   "execution_count": 20,
   "metadata": {},
   "outputs": [
    {
     "name": "stdout",
     "output_type": "stream",
     "text": [
      "Epoch 1/30\n",
      "1719/1719 [==============================] - 4s 2ms/step - loss: 1.2819 - sparse_categorical_accuracy: 0.6229 - val_loss: 0.8886 - val_sparse_categorical_accuracy: 0.7160\n",
      "Epoch 2/30\n",
      "1719/1719 [==============================] - 3s 2ms/step - loss: 0.7955 - sparse_categorical_accuracy: 0.7362 - val_loss: 0.7130 - val_sparse_categorical_accuracy: 0.7658\n",
      "Epoch 3/30\n",
      "1719/1719 [==============================] - 3s 2ms/step - loss: 0.6816 - sparse_categorical_accuracy: 0.7720 - val_loss: 0.6427 - val_sparse_categorical_accuracy: 0.7898\n",
      "Epoch 4/30\n",
      "1719/1719 [==============================] - 4s 2ms/step - loss: 0.6217 - sparse_categorical_accuracy: 0.7944 - val_loss: 0.5900 - val_sparse_categorical_accuracy: 0.8064\n",
      "Epoch 5/30\n",
      "1719/1719 [==============================] - 3s 2ms/step - loss: 0.5832 - sparse_categorical_accuracy: 0.8074 - val_loss: 0.5582 - val_sparse_categorical_accuracy: 0.8202\n",
      "Epoch 6/30\n",
      "1719/1719 [==============================] - 3s 2ms/step - loss: 0.5553 - sparse_categorical_accuracy: 0.8157 - val_loss: 0.5350 - val_sparse_categorical_accuracy: 0.8236\n",
      "Epoch 7/30\n",
      "1719/1719 [==============================] - 3s 2ms/step - loss: 0.5338 - sparse_categorical_accuracy: 0.8225 - val_loss: 0.5157 - val_sparse_categorical_accuracy: 0.8304\n",
      "Epoch 8/30\n",
      "1719/1719 [==============================] - 4s 2ms/step - loss: 0.5173 - sparse_categorical_accuracy: 0.8271 - val_loss: 0.5079 - val_sparse_categorical_accuracy: 0.8286\n",
      "Epoch 9/30\n",
      "1719/1719 [==============================] - 4s 2ms/step - loss: 0.5040 - sparse_categorical_accuracy: 0.8289 - val_loss: 0.4895 - val_sparse_categorical_accuracy: 0.8386\n",
      "Epoch 10/30\n",
      "1719/1719 [==============================] - 4s 2ms/step - loss: 0.4924 - sparse_categorical_accuracy: 0.8321 - val_loss: 0.4817 - val_sparse_categorical_accuracy: 0.8396\n",
      "Epoch 11/30\n",
      "1719/1719 [==============================] - 3s 2ms/step - loss: 0.4827 - sparse_categorical_accuracy: 0.8355 - val_loss: 0.4718 - val_sparse_categorical_accuracy: 0.8448\n",
      "Epoch 12/30\n",
      "1719/1719 [==============================] - 3s 2ms/step - loss: 0.4743 - sparse_categorical_accuracy: 0.8369 - val_loss: 0.4655 - val_sparse_categorical_accuracy: 0.8462\n",
      "Epoch 13/30\n",
      "1719/1719 [==============================] - 3s 2ms/step - loss: 0.4672 - sparse_categorical_accuracy: 0.8397 - val_loss: 0.4589 - val_sparse_categorical_accuracy: 0.8464\n",
      "Epoch 14/30\n",
      "1719/1719 [==============================] - 3s 2ms/step - loss: 0.4606 - sparse_categorical_accuracy: 0.8413 - val_loss: 0.4548 - val_sparse_categorical_accuracy: 0.8476\n",
      "Epoch 15/30\n",
      "1719/1719 [==============================] - 3s 2ms/step - loss: 0.4548 - sparse_categorical_accuracy: 0.8428 - val_loss: 0.4476 - val_sparse_categorical_accuracy: 0.8500\n",
      "Epoch 16/30\n",
      "1719/1719 [==============================] - 3s 2ms/step - loss: 0.4495 - sparse_categorical_accuracy: 0.8450 - val_loss: 0.4456 - val_sparse_categorical_accuracy: 0.8510\n",
      "Epoch 17/30\n",
      "1719/1719 [==============================] - 3s 2ms/step - loss: 0.4447 - sparse_categorical_accuracy: 0.8465 - val_loss: 0.4437 - val_sparse_categorical_accuracy: 0.8514\n",
      "Epoch 18/30\n",
      "1719/1719 [==============================] - 3s 2ms/step - loss: 0.4400 - sparse_categorical_accuracy: 0.8477 - val_loss: 0.4370 - val_sparse_categorical_accuracy: 0.8536\n",
      "Epoch 19/30\n",
      "1719/1719 [==============================] - 3s 2ms/step - loss: 0.4364 - sparse_categorical_accuracy: 0.8491 - val_loss: 0.4333 - val_sparse_categorical_accuracy: 0.8576\n",
      "Epoch 20/30\n",
      "1719/1719 [==============================] - 3s 2ms/step - loss: 0.4323 - sparse_categorical_accuracy: 0.8508 - val_loss: 0.4302 - val_sparse_categorical_accuracy: 0.8554\n",
      "Epoch 21/30\n",
      "1719/1719 [==============================] - 3s 2ms/step - loss: 0.4287 - sparse_categorical_accuracy: 0.8514 - val_loss: 0.4243 - val_sparse_categorical_accuracy: 0.8564\n",
      "Epoch 22/30\n",
      "1719/1719 [==============================] - 3s 2ms/step - loss: 0.4252 - sparse_categorical_accuracy: 0.8529 - val_loss: 0.4224 - val_sparse_categorical_accuracy: 0.8580\n",
      "Epoch 23/30\n",
      "1719/1719 [==============================] - 3s 2ms/step - loss: 0.4219 - sparse_categorical_accuracy: 0.8538 - val_loss: 0.4203 - val_sparse_categorical_accuracy: 0.8562\n",
      "Epoch 24/30\n",
      "1719/1719 [==============================] - 3s 2ms/step - loss: 0.4191 - sparse_categorical_accuracy: 0.8551 - val_loss: 0.4179 - val_sparse_categorical_accuracy: 0.8588\n",
      "Epoch 25/30\n",
      "1719/1719 [==============================] - 3s 2ms/step - loss: 0.4165 - sparse_categorical_accuracy: 0.8549 - val_loss: 0.4179 - val_sparse_categorical_accuracy: 0.8608\n",
      "Epoch 26/30\n",
      "1719/1719 [==============================] - 3s 2ms/step - loss: 0.4136 - sparse_categorical_accuracy: 0.8563 - val_loss: 0.4153 - val_sparse_categorical_accuracy: 0.8576\n",
      "Epoch 27/30\n",
      "1719/1719 [==============================] - 4s 2ms/step - loss: 0.4112 - sparse_categorical_accuracy: 0.8575 - val_loss: 0.4135 - val_sparse_categorical_accuracy: 0.8608\n",
      "Epoch 28/30\n",
      "1719/1719 [==============================] - 3s 2ms/step - loss: 0.4088 - sparse_categorical_accuracy: 0.8581 - val_loss: 0.4135 - val_sparse_categorical_accuracy: 0.8614\n",
      "Epoch 29/30\n",
      "1719/1719 [==============================] - 3s 2ms/step - loss: 0.4063 - sparse_categorical_accuracy: 0.8591 - val_loss: 0.4096 - val_sparse_categorical_accuracy: 0.8622\n",
      "Epoch 30/30\n",
      "1719/1719 [==============================] - 3s 2ms/step - loss: 0.4041 - sparse_categorical_accuracy: 0.8590 - val_loss: 0.4105 - val_sparse_categorical_accuracy: 0.8606\n"
     ]
    }
   ],
   "source": [
    "# 训练模型\n",
    "history = model.fit(X_train, y_train,\n",
    "                    epochs=30,\n",
    "                    validation_data=(X_val, y_val))"
   ]
  },
  {
   "cell_type": "code",
   "execution_count": 21,
   "metadata": {
    "scrolled": true
   },
   "outputs": [
    {
     "name": "stdout",
     "output_type": "stream",
     "text": [
      "313/313 [==============================] - 0s 966us/step - loss: 0.4444 - sparse_categorical_accuracy: 0.8435\n"
     ]
    },
    {
     "data": {
      "text/plain": [
       "[0.44443729519844055, 0.843500018119812]"
      ]
     },
     "execution_count": 21,
     "metadata": {},
     "output_type": "execute_result"
    }
   ],
   "source": [
    "# 评估泛化误差\n",
    "model.evaluate(X_test, y_test)"
   ]
  },
  {
   "cell_type": "code",
   "execution_count": 22,
   "metadata": {},
   "outputs": [
    {
     "data": {
      "image/png": "[encoded data removed]",
      "text/plain": [
       "<Figure size 576x360 with 1 Axes>"
      ]
     },
     "metadata": {
      "needs_background": "light"
     },
     "output_type": "display_data"
    }
   ],
   "source": [
    "# 绘制学习曲线\n",
    "pd.DataFrame(history.history).plot(figsize=(8,5))\n",
    "plt.grid(True)\n",
    "plt.gca().set_ylim(0, 1)    # 图例的位置\n",
    "plt.xlabel('epochs')\n",
    "plt.show()"
   ]
  },
  {
   "cell_type": "markdown",
   "metadata": {},
   "source": [
    "- `随机的带泄露的 ReLU(RReLU)`:训练过程中，在给定范围内随机选择$\\gamma$；在测试过程中将其固定为平均值.\n",
    "\n",
    "       keras的RReLU手动实现详见第12章习题"
   ]
  },
  {
   "cell_type": "markdown",
   "metadata": {},
   "source": [
    "### PReLU"
   ]
  },
  {
   "cell_type": "markdown",
   "metadata": {},
   "source": [
    "`带参数的 ReLU(Parametric ReLU，PReLU)`引入一个可学习的参数，不同神经元可以有不同的参数.\n",
    ">$\\begin{aligned} \\text { PReLU }(x) &= \\begin{cases}x & \\text { if } x>0 \\\\ \\gamma_i x & \\text { if } x \\leq 0\\end{cases} \\\\ &=\\max (0, x)+\\gamma_i \\min (0, x) \\end{aligned}$\n",
    "\n",
    "1. `PReLU`在大型图像数据集上的性能明显优于 `ReLU`，但在小的数据集上存在过拟合训练集的风险。\n",
    "2. $\\gamma$可以在训练期间学习"
   ]
  },
  {
   "cell_type": "code",
   "execution_count": 23,
   "metadata": {},
   "outputs": [
    {
     "name": "stdout",
     "output_type": "stream",
     "text": [
      "Epoch 1/30\n",
      "1719/1719 [==============================] - 4s 2ms/step - loss: 1.3337 - sparse_categorical_accuracy: 0.6140 - val_loss: 0.8951 - val_sparse_categorical_accuracy: 0.7194\n",
      "Epoch 2/30\n",
      "1719/1719 [==============================] - 3s 2ms/step - loss: 0.8048 - sparse_categorical_accuracy: 0.7413 - val_loss: 0.7103 - val_sparse_categorical_accuracy: 0.7742\n",
      "Epoch 3/30\n",
      "1719/1719 [==============================] - 3s 2ms/step - loss: 0.6849 - sparse_categorical_accuracy: 0.7771 - val_loss: 0.6404 - val_sparse_categorical_accuracy: 0.7960\n",
      "Epoch 4/30\n",
      "1719/1719 [==============================] - 3s 2ms/step - loss: 0.6237 - sparse_categorical_accuracy: 0.7942 - val_loss: 0.5859 - val_sparse_categorical_accuracy: 0.8126\n",
      "Epoch 5/30\n",
      "1719/1719 [==============================] - 3s 2ms/step - loss: 0.5846 - sparse_categorical_accuracy: 0.8073 - val_loss: 0.5542 - val_sparse_categorical_accuracy: 0.8190\n",
      "Epoch 6/30\n",
      "1719/1719 [==============================] - 3s 2ms/step - loss: 0.5567 - sparse_categorical_accuracy: 0.8147 - val_loss: 0.5314 - val_sparse_categorical_accuracy: 0.8246\n",
      "Epoch 7/30\n",
      "1719/1719 [==============================] - 3s 2ms/step - loss: 0.5352 - sparse_categorical_accuracy: 0.8205 - val_loss: 0.5121 - val_sparse_categorical_accuracy: 0.8314\n",
      "Epoch 8/30\n",
      "1719/1719 [==============================] - 3s 2ms/step - loss: 0.5185 - sparse_categorical_accuracy: 0.8246 - val_loss: 0.5043 - val_sparse_categorical_accuracy: 0.8348\n",
      "Epoch 9/30\n",
      "1719/1719 [==============================] - 3s 2ms/step - loss: 0.5051 - sparse_categorical_accuracy: 0.8282 - val_loss: 0.4869 - val_sparse_categorical_accuracy: 0.8400\n",
      "Epoch 10/30\n",
      "1719/1719 [==============================] - 3s 2ms/step - loss: 0.4934 - sparse_categorical_accuracy: 0.8314 - val_loss: 0.4791 - val_sparse_categorical_accuracy: 0.8412\n",
      "Epoch 11/30\n",
      "1719/1719 [==============================] - 3s 2ms/step - loss: 0.4833 - sparse_categorical_accuracy: 0.8341 - val_loss: 0.4689 - val_sparse_categorical_accuracy: 0.8420\n",
      "Epoch 12/30\n",
      "1719/1719 [==============================] - 3s 2ms/step - loss: 0.4748 - sparse_categorical_accuracy: 0.8367 - val_loss: 0.4627 - val_sparse_categorical_accuracy: 0.8424\n",
      "Epoch 13/30\n",
      "1719/1719 [==============================] - 3s 2ms/step - loss: 0.4674 - sparse_categorical_accuracy: 0.8389 - val_loss: 0.4562 - val_sparse_categorical_accuracy: 0.8452\n",
      "Epoch 14/30\n",
      "1719/1719 [==============================] - 3s 2ms/step - loss: 0.4605 - sparse_categorical_accuracy: 0.8407 - val_loss: 0.4516 - val_sparse_categorical_accuracy: 0.8460\n",
      "Epoch 15/30\n",
      "1719/1719 [==============================] - 3s 2ms/step - loss: 0.4544 - sparse_categorical_accuracy: 0.8432 - val_loss: 0.4433 - val_sparse_categorical_accuracy: 0.8486\n",
      "Epoch 16/30\n",
      "1719/1719 [==============================] - 3s 2ms/step - loss: 0.4489 - sparse_categorical_accuracy: 0.8445 - val_loss: 0.4421 - val_sparse_categorical_accuracy: 0.8506\n",
      "Epoch 17/30\n",
      "1719/1719 [==============================] - 3s 2ms/step - loss: 0.4436 - sparse_categorical_accuracy: 0.8459 - val_loss: 0.4409 - val_sparse_categorical_accuracy: 0.8492\n",
      "Epoch 18/30\n",
      "1719/1719 [==============================] - 3s 2ms/step - loss: 0.4388 - sparse_categorical_accuracy: 0.8481 - val_loss: 0.4338 - val_sparse_categorical_accuracy: 0.8536\n",
      "Epoch 19/30\n",
      "1719/1719 [==============================] - 3s 2ms/step - loss: 0.4347 - sparse_categorical_accuracy: 0.8482 - val_loss: 0.4289 - val_sparse_categorical_accuracy: 0.8584\n",
      "Epoch 20/30\n",
      "1719/1719 [==============================] - 3s 2ms/step - loss: 0.4304 - sparse_categorical_accuracy: 0.8502 - val_loss: 0.4249 - val_sparse_categorical_accuracy: 0.8540\n",
      "Epoch 21/30\n",
      "1719/1719 [==============================] - 3s 2ms/step - loss: 0.4265 - sparse_categorical_accuracy: 0.8521 - val_loss: 0.4195 - val_sparse_categorical_accuracy: 0.8590\n",
      "Epoch 22/30\n",
      "1719/1719 [==============================] - 3s 2ms/step - loss: 0.4227 - sparse_categorical_accuracy: 0.8534 - val_loss: 0.4170 - val_sparse_categorical_accuracy: 0.8596\n",
      "Epoch 23/30\n",
      "1719/1719 [==============================] - 3s 2ms/step - loss: 0.4192 - sparse_categorical_accuracy: 0.8541 - val_loss: 0.4141 - val_sparse_categorical_accuracy: 0.8620\n",
      "Epoch 24/30\n",
      "1719/1719 [==============================] - 3s 2ms/step - loss: 0.4160 - sparse_categorical_accuracy: 0.8549 - val_loss: 0.4118 - val_sparse_categorical_accuracy: 0.8598\n",
      "Epoch 25/30\n",
      "1719/1719 [==============================] - 3s 2ms/step - loss: 0.4131 - sparse_categorical_accuracy: 0.8559 - val_loss: 0.4128 - val_sparse_categorical_accuracy: 0.8628\n",
      "Epoch 26/30\n",
      "1719/1719 [==============================] - 3s 2ms/step - loss: 0.4100 - sparse_categorical_accuracy: 0.8569 - val_loss: 0.4075 - val_sparse_categorical_accuracy: 0.8630\n",
      "Epoch 27/30\n",
      "1719/1719 [==============================] - 3s 2ms/step - loss: 0.4073 - sparse_categorical_accuracy: 0.8581 - val_loss: 0.4067 - val_sparse_categorical_accuracy: 0.8630\n",
      "Epoch 28/30\n",
      "1719/1719 [==============================] - 3s 2ms/step - loss: 0.4046 - sparse_categorical_accuracy: 0.8585 - val_loss: 0.4057 - val_sparse_categorical_accuracy: 0.8660\n",
      "Epoch 29/30\n",
      "1719/1719 [==============================] - 3s 2ms/step - loss: 0.4019 - sparse_categorical_accuracy: 0.8602 - val_loss: 0.4007 - val_sparse_categorical_accuracy: 0.8654\n",
      "Epoch 30/30\n",
      "1719/1719 [==============================] - 3s 2ms/step - loss: 0.3993 - sparse_categorical_accuracy: 0.8608 - val_loss: 0.4021 - val_sparse_categorical_accuracy: 0.8670\n"
     ]
    }
   ],
   "source": [
    "# 使用顺序API创建模型\n",
    "model = keras.models.Sequential([\n",
    "    keras.layers.Flatten(input_shape=[28,28]),\n",
    "    \n",
    "    keras.layers.Dense(300, kernel_initializer=keras.initializers.he_normal),\n",
    "    # 创建一个PReLU层\n",
    "    keras.layers.PReLU(),   \n",
    "    \n",
    "    keras.layers.Dense(100, kernel_initializer=keras.initializers.he_normal),\n",
    "    keras.layers.PReLU(),\n",
    "    \n",
    "    keras.layers.Dense(10, activation=keras.activations.softmax)\n",
    "])\n",
    "\n",
    "# 编译模型\n",
    "model.compile(loss=keras.losses.sparse_categorical_crossentropy,\n",
    "              optimizer=keras.optimizers.SGD(learning_rate=1e-3),\n",
    "              metrics=[keras.metrics.sparse_categorical_accuracy])\n",
    "\n",
    "# 训练模型\n",
    "history = model.fit(X_train, y_train,\n",
    "                    epochs=30,\n",
    "                    validation_data=(X_val, y_val))"
   ]
  },
  {
   "cell_type": "code",
   "execution_count": 24,
   "metadata": {},
   "outputs": [
    {
     "name": "stdout",
     "output_type": "stream",
     "text": [
      "313/313 [==============================] - 0s 995us/step - loss: 0.4374 - sparse_categorical_accuracy: 0.8454\n"
     ]
    },
    {
     "data": {
      "text/plain": [
       "[0.437404602766037, 0.8453999757766724]"
      ]
     },
     "execution_count": 24,
     "metadata": {},
     "output_type": "execute_result"
    }
   ],
   "source": [
    "model.evaluate(X_test, y_test)"
   ]
  },
  {
   "cell_type": "markdown",
   "metadata": {},
   "source": [
    "### ELU"
   ]
  },
  {
   "cell_type": "markdown",
   "metadata": {},
   "source": [
    " `ELU(Exponential Linear Unit)`是一个近似的零中心化的非线性函数.\n",
    ">$\\begin{aligned} \\text { ELU }(x) &= \\begin{cases}x & \\text { if } x>0 \\\\ \\gamma (e^x-1) & \\text { if } x \\leq 0\\end{cases} \\\\ &=\\max (0, x)+ \\min (0, \\gamma (e^x-1)) \\end{aligned}$\n",
    "\n",
    "1. 当$x<0$时,取负值使得该单元的平均输出接近于0，有助于缓解梯度消失问题。\n",
    "2. $\\gamma$是当$x$为较大负数时,`ELU`逼近的值,通常为1.可以在训练期间学习,当$\\gamma=1$时，该函数所在位置都是平滑的，有助于加速梯度下降。\n",
    "3. 缺点是比`ReLU`及其变体函数要慢。"
   ]
  },
  {
   "cell_type": "code",
   "execution_count": 25,
   "metadata": {},
   "outputs": [],
   "source": [
    "def elu(x, gamma=1):\n",
    "    return np.maximum(0,x) + np.minimum(0,gamma*(np.exp(x)-1))"
   ]
  },
  {
   "cell_type": "code",
   "execution_count": 26,
   "metadata": {},
   "outputs": [
    {
     "data": {
      "image/png": "[encoded data removed]",
      "text/plain": [
       "<Figure size 432x288 with 1 Axes>"
      ]
     },
     "metadata": {
      "needs_background": "light"
     },
     "output_type": "display_data"
    }
   ],
   "source": [
    "plt.plot([-5,5], [0,0], 'k-')\n",
    "plt.plot([0,0], [-2.2,3.2], 'k-')\n",
    "plt.plot([-5,5], [-1,-1], 'k--')\n",
    "\n",
    "plt.plot(x, elu(x), 'b-')\n",
    "\n",
    "plt.title(\"ELU激活函数($\\gamma$=1)\", font_properties=my_font)\n",
    "plt.axis([-5, 5, -2.2, 3.2])\n",
    "plt.grid(True)\n",
    "plt.show()"
   ]
  },
  {
   "cell_type": "markdown",
   "metadata": {},
   "source": [
    "`keras`上实现`ELU`激活函数:"
   ]
  },
  {
   "cell_type": "code",
   "execution_count": 27,
   "metadata": {},
   "outputs": [
    {
     "data": {
      "text/plain": [
       "<tensorflow.python.keras.layers.core.Dense at 0x7f8b11ce7410>"
      ]
     },
     "execution_count": 27,
     "metadata": {},
     "output_type": "execute_result"
    }
   ],
   "source": [
    "keras.layers.Dense(10, activation=keras.activations.elu)"
   ]
  },
  {
   "cell_type": "markdown",
   "metadata": {},
   "source": [
    "### SELU"
   ]
  },
  {
   "cell_type": "markdown",
   "metadata": {},
   "source": [
    " `可拓展的ELU(Scaled ELU,SELU)`是`ELU`的可拓展变体.经过该激活函数后使得样本分布自动归一化到0均值和单位方差1,从而解决梯度消失/爆炸问题。\n",
    ">$\\begin{aligned} \\text { SELU }(x) &= \\lambda \\begin{cases}x & \\text { if } x>0 \\\\ \\alpha (e^x-1) & \\text { if } x \\leq 0\\end{cases} \\\\ &=\\lambda (\\max (0, x)+ \\min (0, \\alpha (e^x-1)) \\end{aligned}$\n",
    "   "
   ]
  },
  {
   "cell_type": "markdown",
   "metadata": {},
   "source": [
    "产生自归一化的条件:\n",
    "1. 输入特征必须是标准化的(**均值为0和标准差为1**)\n",
    "2. 每个隐藏层的权重必须`LeCun`正态初始化\n",
    "3. 网络架构必须是顺序的"
   ]
  },
  {
   "cell_type": "code",
   "execution_count": 28,
   "metadata": {},
   "outputs": [],
   "source": [
    "# expressions for mean zero and unit variance\n",
    "from scipy.special import erfc\n",
    "myAlpha = -np.sqrt(2/np.pi) / (np.exp(0.5) * erfc(1/np.sqrt(2))-1 )  \n",
    "myLambda = (1-np.sqrt(np.exp(1))*erfc(1/np.sqrt(2)))  *  \\\n",
    "            np.sqrt( 2*np.pi/ (2 + np.pi -2*np.sqrt(np.exp(1))*(2+np.pi)*erfc(1/np.sqrt(2)) + \\\n",
    "            np.exp(1)*np.pi*erfc(1/np.sqrt(2))**2 + 2*np.exp(2)*erfc(np.sqrt(2))))"
   ]
  },
  {
   "cell_type": "code",
   "execution_count": 29,
   "metadata": {},
   "outputs": [
    {
     "name": "stdout",
     "output_type": "stream",
     "text": [
      "SELU的α参数:  1.6732632423543778\n",
      "SELU的λ参数:  1.0507009873554807\n"
     ]
    }
   ],
   "source": [
    "print(\"SELU的α参数: \", myAlpha)\n",
    "print(\"SELU的λ参数: \", myLambda)"
   ]
  },
  {
   "cell_type": "markdown",
   "metadata": {},
   "source": [
    "参考:https://www.jianshu.com/p/d216645251ce"
   ]
  },
  {
   "cell_type": "code",
   "execution_count": 30,
   "metadata": {},
   "outputs": [],
   "source": [
    "def selu(x, scale=myLambda, alpha=myAlpha):\n",
    "    return scale*elu(x, alpha)"
   ]
  },
  {
   "cell_type": "code",
   "execution_count": 31,
   "metadata": {},
   "outputs": [
    {
     "data": {
      "image/png": "[encoded data removed]",
      "text/plain": [
       "<Figure size 432x288 with 1 Axes>"
      ]
     },
     "metadata": {
      "needs_background": "light"
     },
     "output_type": "display_data"
    }
   ],
   "source": [
    "plt.plot([-5,5], [0,0], 'k-')\n",
    "plt.plot([0,0], [-2.2,3.2], 'k-')\n",
    "plt.plot([-5,5], [-1.758, -1.758], 'k--')\n",
    "\n",
    "plt.plot(x, selu(x), 'b-')\n",
    "\n",
    "plt.title(\"SELU激活函数\", font_properties=my_font)\n",
    "plt.axis([-5, 5, -2.2, 3.2])\n",
    "plt.grid(True)\n",
    "plt.show()"
   ]
  },
  {
   "cell_type": "markdown",
   "metadata": {},
   "source": [
    "- 默认情况下，SELU超参数（`scale`和`alpha`）的调整方式使每个神经元的输出`mean`保持接近0，`std`保持接近1。使用此激活函数，即使是1000层深度的神经网络也能在所有层上保留大致的`mean`为0和`std`为1，从而避免了梯度爆炸/消失问题"
   ]
  },
  {
   "cell_type": "markdown",
   "metadata": {},
   "source": [
    "> 1. `LeCun`初始化:若采用**高斯分布**来随机初始化参数，连接权重 $w^{(𝑙)}$ 可以按 $𝒩(0, \\frac{1}{M_{l-1} } )$的高斯分布进行初始化. \n",
    "2. `np.random.normal()`正态分布:\n",
    "    1. 参数`loc`：正态分布的均值，对应着这个分布的中心。loc=0说明这一个以Y轴为对称轴的正态分布;\n",
    "    2. 参数`scale`：正态分布的**标准差**,输入方差要开方。"
   ]
  },
  {
   "cell_type": "code",
   "execution_count": 32,
   "metadata": {},
   "outputs": [
    {
     "name": "stdout",
     "output_type": "stream",
     "text": [
      "第0层:均值-0.00,标准差1.00\n",
      "第100层:均值0.02,标准差0.96\n",
      "第200层:均值0.01,标准差0.90\n",
      "第300层:均值-0.02,标准差0.92\n",
      "第400层:均值0.05,标准差0.89\n",
      "第500层:均值0.01,标准差0.93\n",
      "第600层:均值0.02,标准差0.92\n",
      "第700层:均值-0.02,标准差0.90\n",
      "第800层:均值0.05,标准差0.83\n",
      "第900层:均值0.02,标准差1.00\n",
      "第1000层:均值-0.01,标准差0.92\n"
     ]
    }
   ],
   "source": [
    "np.random.seed(42)\n",
    "X = np.random.normal(size=(500,100))    # 标准化输入\n",
    "for layer in range(1001):\n",
    "    W = np.random.normal(size=(100,100), scale=np.sqrt(1/100))   # LeCun标准化\n",
    "    X = selu(np.dot(X, W))\n",
    "    \n",
    "    means = np.mean(X, axis=0).mean()\n",
    "    stds = np.std(X, axis=0).mean()\n",
    "    \n",
    "    if layer%100 == 0:\n",
    "        print(\"第{}层:均值{:.2f},标准差{:.2f}\".format(layer, means, stds))\n",
    "    "
   ]
  },
  {
   "cell_type": "markdown",
   "metadata": {},
   "source": [
    "使用`SELU`作为激活函数构建一个具有100层隐藏层的神经网络模型训练`Fashion MNIST`数据集"
   ]
  },
  {
   "cell_type": "code",
   "execution_count": 33,
   "metadata": {},
   "outputs": [],
   "source": [
    "# 使用顺序API创建模型\n",
    "model = keras.models.Sequential()\n",
    "model.add(keras.layers.Flatten(input_shape=[28,28]))\n",
    "model.add(keras.layers.Dense(300, \n",
    "                             activation=keras.activations.selu, \n",
    "                             kernel_initializer=keras.initializers.lecun_normal))\n",
    "for layer in range(99):\n",
    "    model.add(keras.layers.Dense(100,                        \n",
    "                                 activation=keras.activations.selu, \n",
    "                                 kernel_initializer=keras.initializers.lecun_normal))\n",
    "model.add(keras.layers.Dense(10, activation=keras.activations.softmax))\n",
    "    \n",
    "# 编译模型\n",
    "model.compile(loss=keras.losses.sparse_categorical_crossentropy,\n",
    "              optimizer=keras.optimizers.SGD(learning_rate=1e-3),\n",
    "              metrics=[keras.metrics.sparse_categorical_accuracy])"
   ]
  },
  {
   "cell_type": "code",
   "execution_count": 34,
   "metadata": {},
   "outputs": [
    {
     "name": "stdout",
     "output_type": "stream",
     "text": [
      "Epoch 1/5\n",
      "1719/1719 [==============================] - 18s 9ms/step - loss: 1.5496 - sparse_categorical_accuracy: 0.3760 - val_loss: 0.9996 - val_sparse_categorical_accuracy: 0.5720\n",
      "Epoch 2/5\n",
      "1719/1719 [==============================] - 15s 9ms/step - loss: 1.0710 - sparse_categorical_accuracy: 0.5845 - val_loss: 1.3253 - val_sparse_categorical_accuracy: 0.4402\n",
      "Epoch 3/5\n",
      "1719/1719 [==============================] - 15s 9ms/step - loss: 1.1057 - sparse_categorical_accuracy: 0.5513 - val_loss: 0.8809 - val_sparse_categorical_accuracy: 0.6884\n",
      "Epoch 4/5\n",
      "1719/1719 [==============================] - 15s 9ms/step - loss: 0.7796 - sparse_categorical_accuracy: 0.7156 - val_loss: 0.6716 - val_sparse_categorical_accuracy: 0.7630\n",
      "Epoch 5/5\n",
      "1719/1719 [==============================] - 15s 9ms/step - loss: 0.6828 - sparse_categorical_accuracy: 0.7472 - val_loss: 0.6354 - val_sparse_categorical_accuracy: 0.7688\n"
     ]
    }
   ],
   "source": [
    "# 训练模型\n",
    "history = model.fit(X_train_scaled, y_train,\n",
    "                    epochs=5,\n",
    "                    validation_data=(X_val_scaled, y_val))"
   ]
  },
  {
   "cell_type": "code",
   "execution_count": 35,
   "metadata": {
    "scrolled": true
   },
   "outputs": [
    {
     "name": "stdout",
     "output_type": "stream",
     "text": [
      "313/313 [==============================] - 1s 4ms/step - loss: 2.0151 - sparse_categorical_accuracy: 0.4113\n"
     ]
    },
    {
     "data": {
      "text/plain": [
       "[2.0150856971740723, 0.41130000352859497]"
      ]
     },
     "execution_count": 35,
     "metadata": {},
     "output_type": "execute_result"
    }
   ],
   "source": [
    "model.evaluate(X_test, y_test)"
   ]
  },
  {
   "cell_type": "markdown",
   "metadata": {},
   "source": [
    "- 对激活函数选择的取舍:通常**SELU > ELU > leaky ReLU (及其变体) > ReLU > tanh > logistic**\n",
    "- 如果架构不能自归一化,则**ELU>SELU**\n",
    "- 如果关系运行延迟,**leaky ReLU**更优\n",
    "- 如果关系运行速度,**ReLU**仍然是最佳选择,因为**ReLU**是最常用的激活函数,很多库和硬件加速器都提供了对其特定的优化,"
   ]
  },
  {
   "cell_type": "markdown",
   "metadata": {},
   "source": [
    "## 批量归一化 Batch Normalization"
   ]
  },
  {
   "cell_type": "markdown",
   "metadata": {},
   "source": [
    "`1.2.1 ReLU`例子中，尽管使用`he初始化`和`Relu`等激活函数，仍然不能保证梯度消失和梯度下降问题在训练期间不会出现.\n",
    "\n",
    "`批量归一化(Batch Normalization,BN)`方法是一种有效的逐层归一化方法,可以对神经网络中任意的中间层进行归一化操作.\n",
    "1. 该操作是对每个输入**零中心化并归一化**;为了使得归一化不对网络的表示能力造成负面影响,可以通过一个附加的**缩放和平移变换**改变取值区间.\n",
    "2. 批量归一化操作可以看作一个特殊的神经层,加在每一层非线性激活函数前\n",
    "3. `BN层`添加为第一层的话，通常不许进行归一化训练集"
   ]
  },
  {
   "cell_type": "markdown",
   "metadata": {},
   "source": [
    "> **批量归一化算法**:\n",
    "给定一个包含 $K$ 个样本的小批量样本集合, 第 $l$ 层神经元的净输入 $\\boldsymbol{z}^{(1, l)}$, $\\cdots, \\boldsymbol{z}^{(K, l)}$ 的均值和方差为\n",
    "$$\n",
    "\\begin{aligned}\n",
    "&\\mu_{\\mathcal{B}}=\\frac{1}{K} \\sum_{k=1}^{K} z^{(k, l)} \\\\\n",
    "&\\sigma_{\\mathcal{B}}^{2}=\\frac{1}{K} \\sum_{k=1}^{K}\\left(\\boldsymbol{z}^{(k, l)}-\\boldsymbol{\\mu}_{\\mathcal{B}}\\right) \\odot\\left(\\boldsymbol{z}^{(k, l)}-\\mu_{\\mathcal{B}}\\right)\n",
    "\\end{aligned}\n",
    "$$\n",
    "对净输入 $\\boldsymbol{z}^{(l)}$ 的标准归一化会使得其取值集中到 0 附近, 如果使用 Sigmoid 型激活函数时, 这个取值区间刚好是接近线性变换的区间, 减弱了神经网络的非线性性质. 因此, 为了使得归一化不对网络的表示能力造成负面影响, 可以通过 一个附加的缩放和平移变换改变取值区间.\n",
    "$$\n",
    "\\begin{aligned}\n",
    "\\hat{{z}}^{(l)} &=\\frac{\\boldsymbol{z}^{(l)}-\\boldsymbol{\\mu}_{\\mathcal{B}}}{\\sqrt{\\sigma_{\\mathcal{B}}^{2}+\\epsilon}} \\odot \\gamma+\\boldsymbol{\\beta} \\\\\n",
    "& \\triangleq \\mathrm{B} \\mathrm{N}_{\\gamma, \\beta}\\left(\\boldsymbol{z}^{(l)}\\right)\n",
    "\\end{aligned}\n",
    "$$\n",
    "其中 $\\gamma$ 和 $\\boldsymbol{\\beta}$ 分别代表缩放和平移的参数向量. \n",
    "批量归一化操作可以看作一个特殊的神经层, 加在每一层非线性激活函数 之前。\n",
    "$$\n",
    "\\boldsymbol{a}^{(l)}=f\\left(\\mathrm{BN}_{\\gamma, \\beta}\\left(\\boldsymbol{z}^{(l)}\\right)\\right)=f\\left(\\mathrm{BN}_{\\gamma, \\beta}\\left(\\boldsymbol{W} \\boldsymbol{a}^{(l-1)}\\right)\\right)\n",
    "$$"
   ]
  },
  {
   "cell_type": "markdown",
   "metadata": {},
   "source": [
    "4. 当训练完成时, 用 整个数据集上的均值 $\\mu$ 和方差 $\\sigma$ 来分别代替每次小批量样本的 $\\mu_{\\mathcal{B}}$ 和方差 $\\sigma_{\\mathcal{B}}^{2}$. 在实践中, $\\mu_{\\mathcal{B}}$ 和 $\\sigma_{\\mathcal{B}}^{2}$ 也可以用**移动平均**来计算.\n",
    "5.  $\\mu_{\\mathcal{B}}$ 和 $\\sigma_{\\mathcal{B}}^{2}$ 计算实例:\n",
    "<img src=\"./images/other/14-39.png\">\n",
    "5. 因为批量归一化本身具有平移变换,所以仿射变换${W} {a}^{(l-1)}$不再需要偏置参数.\n",
    "6. 综上，每个批归一化层学习四个参数向量:\n",
    "    - 常规反向传播学习:$\\gamma$(输出缩放向量),$\\beta$(输出偏移向量)\n",
    "    - 指数平均移动估计:$\\mu$(最终输出均值向量),$\\sigma$(最终输出标准差向量)\n",
    "7. 逐层归一化不但可以提高优化效率,还可以作为一种隐形的**正则化方法**. 在训练时, 神经网络对一个样本的预测不仅和该样本自身相关, 也和同一批次中的其他样本相关. 由于在选取批次时具有随机性, 因此使得神经网 络不会“过拟合”到某个特定样本, 从而提高网络的泛化能力.\n",
    "8. 通过将训练后的`BN层`与上一层融合，从而避免了运行时的损失\n",
    "10. 训练时要将`traning`参数设置为True，在验证时将`trainning`参数设置为False\n",
    "11. `batch_size`尽可能设置大点，设置小后表现可能很糟糕，设置的越大求的均值和方差越接近整个训练集的均值和方差。"
   ]
  },
  {
   "cell_type": "markdown",
   "metadata": {},
   "source": [
    "- 用`keras`实现`批量归一化`(在隐藏层之后应用`BN层`)"
   ]
  },
  {
   "cell_type": "code",
   "execution_count": 36,
   "metadata": {},
   "outputs": [],
   "source": [
    "# 使用顺序API创建模型\n",
    "model = keras.models.Sequential([\n",
    "    keras.layers.Flatten(input_shape=[28,28]),\n",
    "    # 添加BN层\n",
    "    keras.layers.BatchNormalization(),\n",
    "    \n",
    "    # 注意:这里是在隐藏层之后应用BN层\n",
    "    keras.layers.Dense(300, activation=keras.activations.elu, \n",
    "                       kernel_initializer=keras.initializers.he_normal),\n",
    "    keras.layers.BatchNormalization(),\n",
    "    \n",
    "    keras.layers.Dense(100, activation=keras.activations.elu, \n",
    "                       kernel_initializer=keras.initializers.he_normal),\n",
    "    keras.layers.BatchNormalization(),\n",
    "    \n",
    "    keras.layers.Dense(10, activation=keras.activations.softmax)\n",
    "])"
   ]
  },
  {
   "cell_type": "code",
   "execution_count": 37,
   "metadata": {},
   "outputs": [
    {
     "name": "stdout",
     "output_type": "stream",
     "text": [
      "Model: \"sequential_4\"\n",
      "_________________________________________________________________\n",
      "Layer (type)                 Output Shape              Param #   \n",
      "=================================================================\n",
      "flatten_4 (Flatten)          (None, 784)               0         \n",
      "_________________________________________________________________\n",
      "batch_normalization (BatchNo (None, 784)               3136      \n",
      "_________________________________________________________________\n",
      "dense_211 (Dense)            (None, 300)               235500    \n",
      "_________________________________________________________________\n",
      "batch_normalization_1 (Batch (None, 300)               1200      \n",
      "_________________________________________________________________\n",
      "dense_212 (Dense)            (None, 100)               30100     \n",
      "_________________________________________________________________\n",
      "batch_normalization_2 (Batch (None, 100)               400       \n",
      "_________________________________________________________________\n",
      "dense_213 (Dense)            (None, 10)                1010      \n",
      "=================================================================\n",
      "Total params: 271,346\n",
      "Trainable params: 268,978\n",
      "Non-trainable params: 2,368\n",
      "_________________________________________________________________\n"
     ]
    }
   ],
   "source": [
    "model.summary()"
   ]
  },
  {
   "cell_type": "code",
   "execution_count": 38,
   "metadata": {},
   "outputs": [
    {
     "data": {
      "text/plain": [
       "[('batch_normalization/gamma:0', True),\n",
       " ('batch_normalization/beta:0', True),\n",
       " ('batch_normalization/moving_mean:0', False),\n",
       " ('batch_normalization/moving_variance:0', False)]"
      ]
     },
     "execution_count": 38,
     "metadata": {},
     "output_type": "execute_result"
    }
   ],
   "source": [
    "# 查看第一个BN层的参数\n",
    "bn1 = model.layers[1]\n",
    "[(var.name, var.trainable) for var in bn1.variables]"
   ]
  },
  {
   "cell_type": "markdown",
   "metadata": {},
   "source": [
    "12. $\\mu$,$\\sigma$是平均移动值，一次是不可训练的，即不受反向传播影响.`keras`创建`BN层`时,会创建两个更新平均移动值的操作."
   ]
  },
  {
   "cell_type": "code",
   "execution_count": 39,
   "metadata": {},
   "outputs": [
    {
     "name": "stdout",
     "output_type": "stream",
     "text": [
      "Epoch 1/10\n",
      "1719/1719 [==============================] - 5s 3ms/step - loss: 0.9160 - sparse_categorical_accuracy: 0.6913 - val_loss: 0.6112 - val_sparse_categorical_accuracy: 0.7906\n",
      "Epoch 2/10\n",
      "1719/1719 [==============================] - 5s 3ms/step - loss: 0.6098 - sparse_categorical_accuracy: 0.7896 - val_loss: 0.5257 - val_sparse_categorical_accuracy: 0.8188\n",
      "Epoch 3/10\n",
      "1719/1719 [==============================] - 5s 3ms/step - loss: 0.5532 - sparse_categorical_accuracy: 0.8070 - val_loss: 0.4875 - val_sparse_categorical_accuracy: 0.8338\n",
      "Epoch 4/10\n",
      "1719/1719 [==============================] - 5s 3ms/step - loss: 0.5147 - sparse_categorical_accuracy: 0.8216 - val_loss: 0.4638 - val_sparse_categorical_accuracy: 0.8418\n",
      "Epoch 5/10\n",
      "1719/1719 [==============================] - 5s 3ms/step - loss: 0.4927 - sparse_categorical_accuracy: 0.8289 - val_loss: 0.4465 - val_sparse_categorical_accuracy: 0.8486\n",
      "Epoch 6/10\n",
      "1719/1719 [==============================] - 5s 3ms/step - loss: 0.4758 - sparse_categorical_accuracy: 0.8326 - val_loss: 0.4337 - val_sparse_categorical_accuracy: 0.8510\n",
      "Epoch 7/10\n",
      "1719/1719 [==============================] - 5s 3ms/step - loss: 0.4637 - sparse_categorical_accuracy: 0.8378 - val_loss: 0.4222 - val_sparse_categorical_accuracy: 0.8544\n",
      "Epoch 8/10\n",
      "1719/1719 [==============================] - 5s 3ms/step - loss: 0.4524 - sparse_categorical_accuracy: 0.8407 - val_loss: 0.4161 - val_sparse_categorical_accuracy: 0.8558\n",
      "Epoch 9/10\n",
      "1719/1719 [==============================] - 5s 3ms/step - loss: 0.4419 - sparse_categorical_accuracy: 0.8456 - val_loss: 0.4083 - val_sparse_categorical_accuracy: 0.8578\n",
      "Epoch 10/10\n",
      "1719/1719 [==============================] - 4s 3ms/step - loss: 0.4330 - sparse_categorical_accuracy: 0.8478 - val_loss: 0.4022 - val_sparse_categorical_accuracy: 0.8584\n"
     ]
    }
   ],
   "source": [
    "# 编译模型\n",
    "model.compile(loss=keras.losses.sparse_categorical_crossentropy,\n",
    "              optimizer=keras.optimizers.SGD(learning_rate=1e-3),\n",
    "              metrics=[keras.metrics.sparse_categorical_accuracy])\n",
    "\n",
    "# 训练模型\n",
    "history = model.fit(X_train, y_train,\n",
    "                    epochs=10,\n",
    "                    validation_data=(X_val, y_val))"
   ]
  },
  {
   "cell_type": "markdown",
   "metadata": {},
   "source": [
    "13. 论文作者主张在激活函数之前添加`BN层`,这一点存在争议,依据问题的实际情况进行实验.\n",
    "\n",
    "    - 以下是在激活函数之前添加`BN层`,并删除上一层偏置参数的示例."
   ]
  },
  {
   "cell_type": "code",
   "execution_count": 40,
   "metadata": {},
   "outputs": [],
   "source": [
    "# 使用顺序API创建模型\n",
    "model = keras.models.Sequential([\n",
    "    keras.layers.Flatten(input_shape=[28,28]),\n",
    "    keras.layers.BatchNormalization(),\n",
    "    \n",
    "    keras.layers.Dense(300, use_bias=False,  # 删除偏置项\n",
    "                       kernel_initializer=keras.initializers.he_normal),\n",
    "    keras.layers.BatchNormalization(),\n",
    "    keras.layers.Activation(keras.activations.elu),\n",
    "    \n",
    "    keras.layers.Dense(100, use_bias=False,  \n",
    "                       kernel_initializer=keras.initializers.he_normal),\n",
    "    keras.layers.BatchNormalization(),\n",
    "    keras.layers.Activation(keras.activations.elu),\n",
    "    \n",
    "    keras.layers.Dense(10, activation=keras.activations.softmax)\n",
    "])"
   ]
  },
  {
   "cell_type": "code",
   "execution_count": 41,
   "metadata": {},
   "outputs": [
    {
     "name": "stdout",
     "output_type": "stream",
     "text": [
      "Epoch 1/10\n",
      "1719/1719 [==============================] - 5s 3ms/step - loss: 0.9432 - sparse_categorical_accuracy: 0.6886 - val_loss: 0.6353 - val_sparse_categorical_accuracy: 0.7918\n",
      "Epoch 2/10\n",
      "1719/1719 [==============================] - 5s 3ms/step - loss: 0.6323 - sparse_categorical_accuracy: 0.7863 - val_loss: 0.5443 - val_sparse_categorical_accuracy: 0.8166\n",
      "Epoch 3/10\n",
      "1719/1719 [==============================] - 5s 3ms/step - loss: 0.5707 - sparse_categorical_accuracy: 0.8039 - val_loss: 0.5048 - val_sparse_categorical_accuracy: 0.8326\n",
      "Epoch 4/10\n",
      "1719/1719 [==============================] - 5s 3ms/step - loss: 0.5339 - sparse_categorical_accuracy: 0.8164 - val_loss: 0.4796 - val_sparse_categorical_accuracy: 0.8400\n",
      "Epoch 5/10\n",
      "1719/1719 [==============================] - 5s 3ms/step - loss: 0.5097 - sparse_categorical_accuracy: 0.8233 - val_loss: 0.4626 - val_sparse_categorical_accuracy: 0.8450\n",
      "Epoch 6/10\n",
      "1719/1719 [==============================] - 5s 3ms/step - loss: 0.4940 - sparse_categorical_accuracy: 0.8287 - val_loss: 0.4499 - val_sparse_categorical_accuracy: 0.8470\n",
      "Epoch 7/10\n",
      "1719/1719 [==============================] - 5s 3ms/step - loss: 0.4811 - sparse_categorical_accuracy: 0.8335 - val_loss: 0.4390 - val_sparse_categorical_accuracy: 0.8510\n",
      "Epoch 8/10\n",
      "1719/1719 [==============================] - 5s 3ms/step - loss: 0.4699 - sparse_categorical_accuracy: 0.8362 - val_loss: 0.4318 - val_sparse_categorical_accuracy: 0.8540\n",
      "Epoch 9/10\n",
      "1719/1719 [==============================] - 5s 3ms/step - loss: 0.4600 - sparse_categorical_accuracy: 0.8400 - val_loss: 0.4247 - val_sparse_categorical_accuracy: 0.8568\n",
      "Epoch 10/10\n",
      "1719/1719 [==============================] - 5s 3ms/step - loss: 0.4514 - sparse_categorical_accuracy: 0.8437 - val_loss: 0.4186 - val_sparse_categorical_accuracy: 0.8582\n"
     ]
    }
   ],
   "source": [
    "# 编译模型\n",
    "model.compile(loss=keras.losses.sparse_categorical_crossentropy,\n",
    "              optimizer=keras.optimizers.SGD(learning_rate=1e-3),\n",
    "              metrics=[keras.metrics.sparse_categorical_accuracy])\n",
    "\n",
    "# 训练模型\n",
    "history = model.fit(X_train, y_train,\n",
    "                    epochs=10,\n",
    "                    validation_data=(X_val, y_val))"
   ]
  },
  {
   "cell_type": "markdown",
   "metadata": {},
   "source": [
    "14.  `BatchNormalization()`的超参数\n",
    "    - `omentum`:更新指数移动平均值时用到的超参.\n",
    "    \n",
    "        给定一个新值$v$(该批次的输入均值或标准差).\n",
    "    \n",
    "        更新运行时的平均$\\hat{v}$为:\n",
    "    $$\n",
    "    \\hat{v} \\leftarrow  \\hat{v}×momentum+v×(1-momentum)\n",
    "    $$\n",
    "    𝑚𝑜𝑚𝑒𝑛𝑡𝑢𝑚通常接近于1.\n",
    "    \n",
    "    - `axis`:确定那个轴应该被归一化.\n",
    "    默认为-1,即最后一个轴进行归一化."
   ]
  },
  {
   "cell_type": "markdown",
   "metadata": {},
   "source": [
    "## 梯度裁剪 Gradient Clipping"
   ]
  },
  {
   "cell_type": "markdown",
   "metadata": {},
   "source": [
    "`梯度裁剪`是解决梯度爆炸的一种技术，其出发点是非常简明的：如果梯度变得非常大，那么我们就调节它使其保持较小的状态，使它们永远不会超过某个阈值.最常用于`循环神经网络RNN`."
   ]
  },
  {
   "cell_type": "markdown",
   "metadata": {},
   "source": [
    "参考:https://blog.csdn.net/qq_34769162/article/details/111171116"
   ]
  },
  {
   "cell_type": "markdown",
   "metadata": {},
   "source": [
    "所有Keras优化器都接受`clipnorm`或`clipvalue`参数"
   ]
  },
  {
   "cell_type": "markdown",
   "metadata": {},
   "source": [
    "`clipvalue`优化器会将梯度向量的每个分量都裁切为-1.0~1.0之间的值。"
   ]
  },
  {
   "cell_type": "code",
   "execution_count": 42,
   "metadata": {},
   "outputs": [],
   "source": [
    "optimizer = keras.optimizers.SGD(clipvalue=1.0)\n",
    "model.compile(loss=keras.losses.mse,\n",
    "              optimizer=optimizer)"
   ]
  },
  {
   "cell_type": "markdown",
   "metadata": {},
   "source": [
    "要确保梯度裁剪不更改梯度向量的方向,通过设置`clipnorm`而不是`clipvalue`来实现"
   ]
  },
  {
   "cell_type": "code",
   "execution_count": 43,
   "metadata": {},
   "outputs": [],
   "source": [
    "optimizer = keras.optimizers.SGD(clipnorm=1.0)\n",
    "model.compile(loss=keras.losses.mse,\n",
    "              optimizer=optimizer)"
   ]
  },
  {
   "cell_type": "markdown",
   "metadata": {},
   "source": [
    "# 重用预训练层 Reusing Pretrained Layers"
   ]
  },
  {
   "cell_type": "markdown",
   "metadata": {},
   "source": [
    "对于训练非常大型的DNN,我们通常可以找到一个任务类似的神经网络,然后重用该网络的较低层.这被称为`迁移学习`.它会大大加快训练速度,而且会大大减少训练数据."
   ]
  },
  {
   "cell_type": "markdown",
   "metadata": {},
   "source": [
    "<img src=\"./images/other/11-1.png\" width=\"400\">"
   ]
  },
  {
   "cell_type": "markdown",
   "metadata": {},
   "source": [
    "1. 如果新任务的输入图片与原始任务中使用的图片不同,通常需要添加预处理步骤使得其调整为原始模型所需的大小.\n",
    "2. 通常需要替换掉原始模型的输出层;需要找到正确的层数来重用,任务越相似,可重用的层越多."
   ]
  },
  {
   "cell_type": "markdown",
   "metadata": {},
   "source": [
    "## 用Keras进行迁移学习 Reusing a Keras model"
   ]
  },
  {
   "cell_type": "markdown",
   "metadata": {},
   "source": [
    "将`fashion MNIST`训练集分成两部分：\n",
    "- `X_train_A`：除凉鞋和衬衫外的所有物品的所有图像.\n",
    "- `X_train_B`：相对小得多的训练集，只包含前200张凉鞋或衬衫的图片.\n",
    "\n",
    "验证集和测试集也以这种方式分割，但不限制图像的数量。\n",
    "\n",
    "我们将在`model_A`（包含8个类的分类任务）上训练一个模型，并尝试重用它来处理`model_B`（二元分类器）。\n",
    "\n",
    "我们希望实现`迁移学习`，因为`model_A`的标签（运动鞋、踝靴、外套、t恤等）与`model_B`的标签（凉鞋和衬衫）有些相似。然而，由于我们使用的是`Dense层`，只有发生在同一位置的模式才能被重用（相比之下，卷积层的传输会更好，因为学习的模式可以在图像的任何地方被检测到）."
   ]
  },
  {
   "cell_type": "code",
   "execution_count": 44,
   "metadata": {},
   "outputs": [],
   "source": [
    "tf.random.set_seed(42)\n",
    "np.random.seed(42)"
   ]
  },
  {
   "cell_type": "markdown",
   "metadata": {},
   "source": [
    "1. 分割数据集"
   ]
  },
  {
   "cell_type": "code",
   "execution_count": 45,
   "metadata": {},
   "outputs": [],
   "source": [
    "def split_dataset(X, y):\n",
    "    y_5_6 = (y==5) | (y==6)   # 5或6\n",
    "    y_A = y[~y_5_6]           # ~取反\n",
    "    y_A[y_A>6] -= 2           # 将标签 7,8,9 挪至 5,6,7\n",
    "    \n",
    "    y_B = (y[y_5_6] == 6).astype(np.float32)     # 凉鞋或衬衫图像中对衬衫进行二分类\n",
    "    \n",
    "    return (X[~y_5_6], y_A), (X[y_5_6], y_B)"
   ]
  },
  {
   "cell_type": "code",
   "execution_count": 46,
   "metadata": {},
   "outputs": [],
   "source": [
    "(X_train_A, y_train_A), (X_train_B, y_train_B) = split_dataset(X_train, y_train)\n",
    "(X_val_A, y_val_A), (X_val_B, y_val_B) = split_dataset(X_val, y_val)\n",
    "(X_test_A, y_test_A), (X_test_B, y_test_B) = split_dataset(X_test, y_test)"
   ]
  },
  {
   "cell_type": "code",
   "execution_count": 47,
   "metadata": {},
   "outputs": [],
   "source": [
    "# X_train_B只包含前200张凉鞋或衬衫的图片\n",
    "X_train_B = X_train_B[:200]\n",
    "y_train_B = y_train_B[:200]"
   ]
  },
  {
   "cell_type": "code",
   "execution_count": 48,
   "metadata": {},
   "outputs": [
    {
     "data": {
      "text/plain": [
       "((43986, 28, 28), (200, 28, 28))"
      ]
     },
     "execution_count": 48,
     "metadata": {},
     "output_type": "execute_result"
    }
   ],
   "source": [
    "X_train_A.shape, X_train_B.shape"
   ]
  },
  {
   "cell_type": "code",
   "execution_count": 49,
   "metadata": {},
   "outputs": [
    {
     "data": {
      "text/plain": [
       "array([4, 0, 5, 7, 7, 7, 4, 4, 3, 4], dtype=uint8)"
      ]
     },
     "execution_count": 49,
     "metadata": {},
     "output_type": "execute_result"
    }
   ],
   "source": [
    "y_train_A[:10]"
   ]
  },
  {
   "cell_type": "code",
   "execution_count": 50,
   "metadata": {},
   "outputs": [
    {
     "data": {
      "text/plain": [
       "array([1., 1., 0., 0., 0., 0., 1., 1., 1., 0.], dtype=float32)"
      ]
     },
     "execution_count": 50,
     "metadata": {},
     "output_type": "execute_result"
    }
   ],
   "source": [
    "y_train_B[:10]"
   ]
  },
  {
   "cell_type": "markdown",
   "metadata": {},
   "source": [
    "2. 构建模型A"
   ]
  },
  {
   "cell_type": "code",
   "execution_count": 51,
   "metadata": {},
   "outputs": [],
   "source": [
    "model_A = keras.models.Sequential()\n",
    "model_A.add(keras.layers.Flatten(input_shape=[28,28]))\n",
    "for n_hidden in (300, 100, 50, 50, 50):\n",
    "    model_A.add(keras.layers.Dense(n_hidden,\n",
    "                                   activation=keras.activations.selu,\n",
    "                                   kernel_initializer=keras.initializers.lecun_normal\n",
    "                                  ))\n",
    "model_A.add(keras.layers.Dense(8, activation=keras.activations.softmax))"
   ]
  },
  {
   "cell_type": "code",
   "execution_count": 52,
   "metadata": {},
   "outputs": [],
   "source": [
    "# 使用交叉熵损失函数\n",
    "model_A.compile(loss=keras.losses.sparse_categorical_crossentropy,\n",
    "                optimizer=keras.optimizers.SGD(learning_rate=1e-3),\n",
    "                metrics=[keras.metrics.sparse_categorical_accuracy])"
   ]
  },
  {
   "cell_type": "code",
   "execution_count": 53,
   "metadata": {},
   "outputs": [
    {
     "name": "stdout",
     "output_type": "stream",
     "text": [
      "Epoch 1/20\n",
      "1375/1375 [==============================] - 3s 2ms/step - loss: 0.6196 - sparse_categorical_accuracy: 0.8094 - val_loss: 0.3944 - val_sparse_categorical_accuracy: 0.8672\n",
      "Epoch 2/20\n",
      "1375/1375 [==============================] - 3s 2ms/step - loss: 0.3599 - sparse_categorical_accuracy: 0.8776 - val_loss: 0.3260 - val_sparse_categorical_accuracy: 0.8899\n",
      "Epoch 3/20\n",
      "1375/1375 [==============================] - 3s 2ms/step - loss: 0.3193 - sparse_categorical_accuracy: 0.8887 - val_loss: 0.2982 - val_sparse_categorical_accuracy: 0.8981\n",
      "Epoch 4/20\n",
      "1375/1375 [==============================] - 3s 2ms/step - loss: 0.2992 - sparse_categorical_accuracy: 0.8968 - val_loss: 0.2862 - val_sparse_categorical_accuracy: 0.9023\n",
      "Epoch 5/20\n",
      "1375/1375 [==============================] - 3s 2ms/step - loss: 0.2858 - sparse_categorical_accuracy: 0.9015 - val_loss: 0.2752 - val_sparse_categorical_accuracy: 0.9058\n",
      "Epoch 6/20\n",
      "1375/1375 [==============================] - 3s 2ms/step - loss: 0.2759 - sparse_categorical_accuracy: 0.9051 - val_loss: 0.2713 - val_sparse_categorical_accuracy: 0.9063\n",
      "Epoch 7/20\n",
      "1375/1375 [==============================] - 3s 2ms/step - loss: 0.2677 - sparse_categorical_accuracy: 0.9080 - val_loss: 0.2695 - val_sparse_categorical_accuracy: 0.9066\n",
      "Epoch 8/20\n",
      "1375/1375 [==============================] - 3s 2ms/step - loss: 0.2613 - sparse_categorical_accuracy: 0.9106 - val_loss: 0.2583 - val_sparse_categorical_accuracy: 0.9123\n",
      "Epoch 9/20\n",
      "1375/1375 [==============================] - 3s 2ms/step - loss: 0.2560 - sparse_categorical_accuracy: 0.9126 - val_loss: 0.2542 - val_sparse_categorical_accuracy: 0.9150\n",
      "Epoch 10/20\n",
      "1375/1375 [==============================] - 3s 2ms/step - loss: 0.2513 - sparse_categorical_accuracy: 0.9139 - val_loss: 0.2552 - val_sparse_categorical_accuracy: 0.9153\n",
      "Epoch 11/20\n",
      "1375/1375 [==============================] - 3s 2ms/step - loss: 0.2470 - sparse_categorical_accuracy: 0.9155 - val_loss: 0.2490 - val_sparse_categorical_accuracy: 0.9155\n",
      "Epoch 12/20\n",
      "1375/1375 [==============================] - 3s 2ms/step - loss: 0.2431 - sparse_categorical_accuracy: 0.9177 - val_loss: 0.2496 - val_sparse_categorical_accuracy: 0.9128\n",
      "Epoch 13/20\n",
      "1375/1375 [==============================] - 3s 2ms/step - loss: 0.2401 - sparse_categorical_accuracy: 0.9176 - val_loss: 0.2446 - val_sparse_categorical_accuracy: 0.9170\n",
      "Epoch 14/20\n",
      "1375/1375 [==============================] - 3s 2ms/step - loss: 0.2365 - sparse_categorical_accuracy: 0.9193 - val_loss: 0.2420 - val_sparse_categorical_accuracy: 0.9183\n",
      "Epoch 15/20\n",
      "1375/1375 [==============================] - 3s 2ms/step - loss: 0.2340 - sparse_categorical_accuracy: 0.9202 - val_loss: 0.2463 - val_sparse_categorical_accuracy: 0.9138\n",
      "Epoch 16/20\n",
      "1375/1375 [==============================] - 3s 2ms/step - loss: 0.2310 - sparse_categorical_accuracy: 0.9215 - val_loss: 0.2399 - val_sparse_categorical_accuracy: 0.9208\n",
      "Epoch 17/20\n",
      "1375/1375 [==============================] - 3s 2ms/step - loss: 0.2286 - sparse_categorical_accuracy: 0.9222 - val_loss: 0.2394 - val_sparse_categorical_accuracy: 0.9160\n",
      "Epoch 18/20\n",
      "1375/1375 [==============================] - 3s 2ms/step - loss: 0.2257 - sparse_categorical_accuracy: 0.9227 - val_loss: 0.2461 - val_sparse_categorical_accuracy: 0.9123\n",
      "Epoch 19/20\n",
      "1375/1375 [==============================] - 3s 2ms/step - loss: 0.2235 - sparse_categorical_accuracy: 0.9234 - val_loss: 0.2344 - val_sparse_categorical_accuracy: 0.9168\n",
      "Epoch 20/20\n",
      "1375/1375 [==============================] - 3s 2ms/step - loss: 0.2215 - sparse_categorical_accuracy: 0.9242 - val_loss: 0.2358 - val_sparse_categorical_accuracy: 0.9175\n"
     ]
    }
   ],
   "source": [
    "history = model_A.fit(X_train_A, y_train_A, epochs=20,\n",
    "                      validation_data=(X_val_A, y_val_A))"
   ]
  },
  {
   "cell_type": "code",
   "execution_count": 54,
   "metadata": {},
   "outputs": [],
   "source": [
    "# 保存模型A\n",
    "model_A.save(\"model_A.h5\")"
   ]
  },
  {
   "cell_type": "markdown",
   "metadata": {},
   "source": [
    "3. 构建模型B"
   ]
  },
  {
   "cell_type": "code",
   "execution_count": 55,
   "metadata": {},
   "outputs": [],
   "source": [
    "model_B = keras.models.Sequential()\n",
    "model_B.add(keras.layers.Flatten(input_shape=[28,28]))\n",
    "for n_hidden in (300, 100, 50, 50, 50):\n",
    "    model_B.add(keras.layers.Dense(n_hidden,\n",
    "                                   activation=keras.activations.selu,\n",
    "                                   kernel_initializer=keras.initializers.lecun_normal\n",
    "                                  ))\n",
    "model_B.add(keras.layers.Dense(1, activation=keras.activations.sigmoid))"
   ]
  },
  {
   "cell_type": "code",
   "execution_count": 56,
   "metadata": {},
   "outputs": [],
   "source": [
    "# 使用二值交叉熵\n",
    "model_B.compile(loss=keras.losses.binary_crossentropy,\n",
    "                optimizer=keras.optimizers.SGD(learning_rate=1e-3),\n",
    "                metrics=[keras.metrics.binary_accuracy])"
   ]
  },
  {
   "cell_type": "code",
   "execution_count": 57,
   "metadata": {},
   "outputs": [
    {
     "name": "stdout",
     "output_type": "stream",
     "text": [
      "Epoch 1/20\n",
      "7/7 [==============================] - 1s 31ms/step - loss: 0.8029 - binary_accuracy: 0.4850 - val_loss: 0.5978 - val_binary_accuracy: 0.7150\n",
      "Epoch 2/20\n",
      "7/7 [==============================] - 0s 10ms/step - loss: 0.5331 - binary_accuracy: 0.7650 - val_loss: 0.4803 - val_binary_accuracy: 0.8174\n",
      "Epoch 3/20\n",
      "7/7 [==============================] - 0s 10ms/step - loss: 0.4282 - binary_accuracy: 0.8650 - val_loss: 0.3992 - val_binary_accuracy: 0.8986\n",
      "Epoch 4/20\n",
      "7/7 [==============================] - 0s 9ms/step - loss: 0.3544 - binary_accuracy: 0.9300 - val_loss: 0.3409 - val_binary_accuracy: 0.9280\n",
      "Epoch 5/20\n",
      "7/7 [==============================] - 0s 9ms/step - loss: 0.3006 - binary_accuracy: 0.9550 - val_loss: 0.2971 - val_binary_accuracy: 0.9432\n",
      "Epoch 6/20\n",
      "7/7 [==============================] - 0s 10ms/step - loss: 0.2596 - binary_accuracy: 0.9600 - val_loss: 0.2641 - val_binary_accuracy: 0.9574\n",
      "Epoch 7/20\n",
      "7/7 [==============================] - 0s 9ms/step - loss: 0.2292 - binary_accuracy: 0.9700 - val_loss: 0.2407 - val_binary_accuracy: 0.9625\n",
      "Epoch 8/20\n",
      "7/7 [==============================] - 0s 9ms/step - loss: 0.2061 - binary_accuracy: 0.9750 - val_loss: 0.2197 - val_binary_accuracy: 0.9716\n",
      "Epoch 9/20\n",
      "7/7 [==============================] - 0s 9ms/step - loss: 0.1866 - binary_accuracy: 0.9750 - val_loss: 0.2011 - val_binary_accuracy: 0.9757\n",
      "Epoch 10/20\n",
      "7/7 [==============================] - 0s 9ms/step - loss: 0.1700 - binary_accuracy: 0.9950 - val_loss: 0.1870 - val_binary_accuracy: 0.9767\n",
      "Epoch 11/20\n",
      "7/7 [==============================] - 0s 9ms/step - loss: 0.1562 - binary_accuracy: 0.9950 - val_loss: 0.1753 - val_binary_accuracy: 0.9777\n",
      "Epoch 12/20\n",
      "7/7 [==============================] - 0s 10ms/step - loss: 0.1446 - binary_accuracy: 0.9950 - val_loss: 0.1642 - val_binary_accuracy: 0.9807\n",
      "Epoch 13/20\n",
      "7/7 [==============================] - 0s 9ms/step - loss: 0.1339 - binary_accuracy: 0.9950 - val_loss: 0.1552 - val_binary_accuracy: 0.9807\n",
      "Epoch 14/20\n",
      "7/7 [==============================] - 0s 10ms/step - loss: 0.1253 - binary_accuracy: 0.9950 - val_loss: 0.1473 - val_binary_accuracy: 0.9807\n",
      "Epoch 15/20\n",
      "7/7 [==============================] - 0s 9ms/step - loss: 0.1174 - binary_accuracy: 0.9950 - val_loss: 0.1395 - val_binary_accuracy: 0.9817\n",
      "Epoch 16/20\n",
      "7/7 [==============================] - 0s 9ms/step - loss: 0.1106 - binary_accuracy: 0.9950 - val_loss: 0.1333 - val_binary_accuracy: 0.9817\n",
      "Epoch 17/20\n",
      "7/7 [==============================] - 0s 9ms/step - loss: 0.1047 - binary_accuracy: 0.9950 - val_loss: 0.1278 - val_binary_accuracy: 0.9817\n",
      "Epoch 18/20\n",
      "7/7 [==============================] - 0s 9ms/step - loss: 0.0992 - binary_accuracy: 0.9950 - val_loss: 0.1222 - val_binary_accuracy: 0.9817\n",
      "Epoch 19/20\n",
      "7/7 [==============================] - 0s 9ms/step - loss: 0.0940 - binary_accuracy: 0.9950 - val_loss: 0.1177 - val_binary_accuracy: 0.9817\n",
      "Epoch 20/20\n",
      "7/7 [==============================] - 0s 9ms/step - loss: 0.0895 - binary_accuracy: 0.9950 - val_loss: 0.1138 - val_binary_accuracy: 0.9828\n"
     ]
    }
   ],
   "source": [
    "history = model_B.fit(X_train_B, y_train_B, epochs=20,\n",
    "                      validation_data=(X_val_B, y_val_B))"
   ]
  },
  {
   "cell_type": "code",
   "execution_count": 58,
   "metadata": {},
   "outputs": [
    {
     "name": "stdout",
     "output_type": "stream",
     "text": [
      "Model: \"sequential_7\"\n",
      "_________________________________________________________________\n",
      "Layer (type)                 Output Shape              Param #   \n",
      "=================================================================\n",
      "flatten_7 (Flatten)          (None, 784)               0         \n",
      "_________________________________________________________________\n",
      "dense_223 (Dense)            (None, 300)               235500    \n",
      "_________________________________________________________________\n",
      "dense_224 (Dense)            (None, 100)               30100     \n",
      "_________________________________________________________________\n",
      "dense_225 (Dense)            (None, 50)                5050      \n",
      "_________________________________________________________________\n",
      "dense_226 (Dense)            (None, 50)                2550      \n",
      "_________________________________________________________________\n",
      "dense_227 (Dense)            (None, 50)                2550      \n",
      "_________________________________________________________________\n",
      "dense_228 (Dense)            (None, 1)                 51        \n",
      "=================================================================\n",
      "Total params: 275,801\n",
      "Trainable params: 275,801\n",
      "Non-trainable params: 0\n",
      "_________________________________________________________________\n"
     ]
    }
   ],
   "source": [
    "model_B.summary()"
   ]
  },
  {
   "cell_type": "markdown",
   "metadata": {},
   "source": [
    "4. 加载模型A并基于该模型创建一个新模型"
   ]
  },
  {
   "cell_type": "markdown",
   "metadata": {},
   "source": [
    "- 由于`model_A `与`model_B_on_A`存在共用层,训练过程会相互影响.因此需要在重用`model_A`前进行克隆."
   ]
  },
  {
   "cell_type": "code",
   "execution_count": 59,
   "metadata": {},
   "outputs": [],
   "source": [
    "model_A = keras.models.load_model(\"model_A.h5\")\n",
    "model_A_clone = keras.models.clone_model(model_A)\n",
    "# 还需要复制其权重\n",
    "model_A_clone.set_weights(model_A.get_weights())"
   ]
  },
  {
   "cell_type": "markdown",
   "metadata": {},
   "source": [
    "- 重用除输出层以外的所有层"
   ]
  },
  {
   "cell_type": "code",
   "execution_count": 60,
   "metadata": {},
   "outputs": [],
   "source": [
    "model_B_on_A = keras.models.Sequential(model_A.layers[:-1])   \n",
    "model_B_on_A.add(keras.layers.Dense(1, activation=keras.activations.sigmoid))"
   ]
  },
  {
   "cell_type": "markdown",
   "metadata": {},
   "source": [
    "5. 冻结重用层\n",
    "\n",
    "    - 在前几个轮次时冻结重用层,给新层一些时间来学习.原因是新的输出层是随机初始化的,存在较大的错误,这会破坏重用的权重."
   ]
  },
  {
   "cell_type": "code",
   "execution_count": 61,
   "metadata": {},
   "outputs": [],
   "source": [
    "for layer in model_B_on_A.layers[:-1]:\n",
    "    layer.trainable = False"
   ]
  },
  {
   "cell_type": "code",
   "execution_count": 62,
   "metadata": {},
   "outputs": [
    {
     "name": "stdout",
     "output_type": "stream",
     "text": [
      "Model: \"sequential_8\"\n",
      "_________________________________________________________________\n",
      "Layer (type)                 Output Shape              Param #   \n",
      "=================================================================\n",
      "flatten_6 (Flatten)          (None, 784)               0         \n",
      "_________________________________________________________________\n",
      "dense_217 (Dense)            (None, 300)               235500    \n",
      "_________________________________________________________________\n",
      "dense_218 (Dense)            (None, 100)               30100     \n",
      "_________________________________________________________________\n",
      "dense_219 (Dense)            (None, 50)                5050      \n",
      "_________________________________________________________________\n",
      "dense_220 (Dense)            (None, 50)                2550      \n",
      "_________________________________________________________________\n",
      "dense_221 (Dense)            (None, 50)                2550      \n",
      "_________________________________________________________________\n",
      "dense_229 (Dense)            (None, 1)                 51        \n",
      "=================================================================\n",
      "Total params: 275,801\n",
      "Trainable params: 51\n",
      "Non-trainable params: 275,750\n",
      "_________________________________________________________________\n"
     ]
    }
   ],
   "source": [
    "model_B_on_A.summary()   # 不可训练的参数: 275,801 - 51 =275,750"
   ]
  },
  {
   "cell_type": "markdown",
   "metadata": {},
   "source": [
    "- 冻结或解冻层之后,总是需要编译模型"
   ]
  },
  {
   "cell_type": "code",
   "execution_count": 63,
   "metadata": {},
   "outputs": [],
   "source": [
    "model_B_on_A.compile(loss=keras.losses.binary_crossentropy,\n",
    "                     optimizer=keras.optimizers.SGD(learning_rate=1e-3),\n",
    "                     metrics=[keras.metrics.binary_accuracy])"
   ]
  },
  {
   "cell_type": "code",
   "execution_count": 64,
   "metadata": {},
   "outputs": [
    {
     "name": "stdout",
     "output_type": "stream",
     "text": [
      "Epoch 1/4\n",
      "7/7 [==============================] - 1s 30ms/step - loss: 0.3917 - binary_accuracy: 0.9150 - val_loss: 0.3706 - val_binary_accuracy: 0.9239\n",
      "Epoch 2/4\n",
      "7/7 [==============================] - 0s 8ms/step - loss: 0.3734 - binary_accuracy: 0.9200 - val_loss: 0.3544 - val_binary_accuracy: 0.9341\n",
      "Epoch 3/4\n",
      "7/7 [==============================] - 0s 9ms/step - loss: 0.3566 - binary_accuracy: 0.9250 - val_loss: 0.3396 - val_binary_accuracy: 0.9442\n",
      "Epoch 4/4\n",
      "7/7 [==============================] - 0s 8ms/step - loss: 0.3413 - binary_accuracy: 0.9400 - val_loss: 0.3261 - val_binary_accuracy: 0.9544\n"
     ]
    }
   ],
   "source": [
    "history = model_B_on_A.fit(X_train_B, y_train_B, epochs=4,\n",
    "                           validation_data=(X_val_B, y_val_B))"
   ]
  },
  {
   "cell_type": "markdown",
   "metadata": {},
   "source": [
    "6. 尝试解冻重用层\n",
    "   \n",
    "     - 可以尝试解冻上隐藏层的一两层,使反向传播对其进行调整,查看性能是否得到提高.拥有的训练数据越多,可以解冻的层越多.\n",
    "     - 解冻重用层时,应降低学习率,避免破坏已经调整好的权重."
   ]
  },
  {
   "cell_type": "code",
   "execution_count": 65,
   "metadata": {},
   "outputs": [],
   "source": [
    "for layer in model_B_on_A.layers[:-1]:\n",
    "    layer.trainable = True"
   ]
  },
  {
   "cell_type": "code",
   "execution_count": 66,
   "metadata": {},
   "outputs": [
    {
     "name": "stdout",
     "output_type": "stream",
     "text": [
      "Model: \"sequential_8\"\n",
      "_________________________________________________________________\n",
      "Layer (type)                 Output Shape              Param #   \n",
      "=================================================================\n",
      "flatten_6 (Flatten)          (None, 784)               0         \n",
      "_________________________________________________________________\n",
      "dense_217 (Dense)            (None, 300)               235500    \n",
      "_________________________________________________________________\n",
      "dense_218 (Dense)            (None, 100)               30100     \n",
      "_________________________________________________________________\n",
      "dense_219 (Dense)            (None, 50)                5050      \n",
      "_________________________________________________________________\n",
      "dense_220 (Dense)            (None, 50)                2550      \n",
      "_________________________________________________________________\n",
      "dense_221 (Dense)            (None, 50)                2550      \n",
      "_________________________________________________________________\n",
      "dense_229 (Dense)            (None, 1)                 51        \n",
      "=================================================================\n",
      "Total params: 275,801\n",
      "Trainable params: 275,801\n",
      "Non-trainable params: 0\n",
      "_________________________________________________________________\n"
     ]
    }
   ],
   "source": [
    "model_B_on_A.summary()"
   ]
  },
  {
   "cell_type": "code",
   "execution_count": 67,
   "metadata": {},
   "outputs": [],
   "source": [
    "model_B_on_A.compile(loss=keras.losses.binary_crossentropy,\n",
    "                     optimizer=keras.optimizers.SGD(learning_rate=1e-3),   # 降低学习率 默认1e-2\n",
    "                     metrics=[keras.metrics.binary_accuracy])"
   ]
  },
  {
   "cell_type": "code",
   "execution_count": 68,
   "metadata": {
    "collapsed": true
   },
   "outputs": [
    {
     "name": "stdout",
     "output_type": "stream",
     "text": [
      "Epoch 1/16\n",
      "7/7 [==============================] - 1s 31ms/step - loss: 0.3085 - binary_accuracy: 0.9600 - val_loss: 0.2709 - val_binary_accuracy: 0.9696\n",
      "Epoch 2/16\n",
      "7/7 [==============================] - 0s 9ms/step - loss: 0.2557 - binary_accuracy: 0.9850 - val_loss: 0.2310 - val_binary_accuracy: 0.9817\n",
      "Epoch 3/16\n",
      "7/7 [==============================] - 0s 9ms/step - loss: 0.2174 - binary_accuracy: 0.9850 - val_loss: 0.2013 - val_binary_accuracy: 0.9899\n",
      "Epoch 4/16\n",
      "7/7 [==============================] - 0s 9ms/step - loss: 0.1886 - binary_accuracy: 0.9950 - val_loss: 0.1788 - val_binary_accuracy: 0.9899\n",
      "Epoch 5/16\n",
      "7/7 [==============================] - 0s 9ms/step - loss: 0.1665 - binary_accuracy: 0.9950 - val_loss: 0.1605 - val_binary_accuracy: 0.9919\n",
      "Epoch 6/16\n",
      "7/7 [==============================] - 0s 9ms/step - loss: 0.1482 - binary_accuracy: 0.9950 - val_loss: 0.1458 - val_binary_accuracy: 0.9929\n",
      "Epoch 7/16\n",
      "7/7 [==============================] - 0s 9ms/step - loss: 0.1336 - binary_accuracy: 0.9950 - val_loss: 0.1341 - val_binary_accuracy: 0.9929\n",
      "Epoch 8/16\n",
      "7/7 [==============================] - 0s 9ms/step - loss: 0.1218 - binary_accuracy: 0.9950 - val_loss: 0.1240 - val_binary_accuracy: 0.9939\n",
      "Epoch 9/16\n",
      "7/7 [==============================] - 0s 10ms/step - loss: 0.1116 - binary_accuracy: 0.9950 - val_loss: 0.1155 - val_binary_accuracy: 0.9949\n",
      "Epoch 10/16\n",
      "7/7 [==============================] - 0s 9ms/step - loss: 0.1031 - binary_accuracy: 1.0000 - val_loss: 0.1084 - val_binary_accuracy: 0.9949\n",
      "Epoch 11/16\n",
      "7/7 [==============================] - 0s 10ms/step - loss: 0.0960 - binary_accuracy: 1.0000 - val_loss: 0.1021 - val_binary_accuracy: 0.9959\n",
      "Epoch 12/16\n",
      "7/7 [==============================] - 0s 9ms/step - loss: 0.0896 - binary_accuracy: 1.0000 - val_loss: 0.0964 - val_binary_accuracy: 0.9959\n",
      "Epoch 13/16\n",
      "7/7 [==============================] - 0s 9ms/step - loss: 0.0838 - binary_accuracy: 1.0000 - val_loss: 0.0915 - val_binary_accuracy: 0.9959\n",
      "Epoch 14/16\n",
      "7/7 [==============================] - 0s 9ms/step - loss: 0.0787 - binary_accuracy: 1.0000 - val_loss: 0.0871 - val_binary_accuracy: 0.9959\n",
      "Epoch 15/16\n",
      "7/7 [==============================] - 0s 9ms/step - loss: 0.0743 - binary_accuracy: 1.0000 - val_loss: 0.0831 - val_binary_accuracy: 0.9959\n",
      "Epoch 16/16\n",
      "7/7 [==============================] - 0s 9ms/step - loss: 0.0703 - binary_accuracy: 1.0000 - val_loss: 0.0797 - val_binary_accuracy: 0.9959\n"
     ]
    }
   ],
   "source": [
    "history = model_B_on_A.fit(X_train_B, y_train_B, epochs=16,\n",
    "                           validation_data=(X_val_B, y_val_B))"
   ]
  },
  {
   "cell_type": "markdown",
   "metadata": {},
   "source": [
    "7. 对比模型性能"
   ]
  },
  {
   "cell_type": "code",
   "execution_count": 69,
   "metadata": {},
   "outputs": [
    {
     "name": "stdout",
     "output_type": "stream",
     "text": [
      "63/63 [==============================] - 0s 1ms/step - loss: 0.1062 - binary_accuracy: 0.9835\n"
     ]
    },
    {
     "data": {
      "text/plain": [
       "[0.10621337592601776, 0.9835000038146973]"
      ]
     },
     "execution_count": 69,
     "metadata": {},
     "output_type": "execute_result"
    }
   ],
   "source": [
    "model_B.evaluate(X_test_B, y_test_B)"
   ]
  },
  {
   "cell_type": "code",
   "execution_count": 70,
   "metadata": {
    "scrolled": true
   },
   "outputs": [
    {
     "name": "stdout",
     "output_type": "stream",
     "text": [
      "63/63 [==============================] - 0s 981us/step - loss: 0.0776 - binary_accuracy: 0.9965\n"
     ]
    },
    {
     "data": {
      "text/plain": [
       "[0.0775698870420456, 0.9965000152587891]"
      ]
     },
     "execution_count": 70,
     "metadata": {},
     "output_type": "execute_result"
    }
   ],
   "source": [
    "model_B_on_A.evaluate(X_test_B, y_test_B)"
   ]
  },
  {
   "cell_type": "code",
   "execution_count": 71,
   "metadata": {},
   "outputs": [
    {
     "data": {
      "text/plain": [
       "4.714285714285807"
      ]
     },
     "execution_count": 71,
     "metadata": {},
     "output_type": "execute_result"
    }
   ],
   "source": [
    "(100 - 98.35) / (100 - 99.65)"
   ]
  },
  {
   "cell_type": "markdown",
   "metadata": {},
   "source": [
    "使用迁移学习,错误率得到了显著的下降.但事实证明,迁移学习在小型密集型网络中不能很好的工作,迁移学习适合使用深层卷积神经网络,该神经网络倾向于学习更为通用的特征检测器(尤其是在较低层)."
   ]
  },
  {
   "cell_type": "markdown",
   "metadata": {},
   "source": [
    "## 无监督预训练 Unsupervised Pretraining"
   ]
  },
  {
   "cell_type": "markdown",
   "metadata": {},
   "source": [
    "<img src=\"./images/other/11-2.png\" width=\"400\">"
   ]
  },
  {
   "cell_type": "markdown",
   "metadata": {},
   "source": [
    "在无监督训练中,便用一个无监督学习技术对无标记数据(或所有数据)进行训练 然后使用一个有监督学习技术对有标记数据进行最后任务的微调,无监督部分可以一次训练层(`RBM`),如图所示,也可以直接训练整个模型(直接第3步开始)(`GAN`)。"
   ]
  },
  {
   "cell_type": "markdown",
   "metadata": {},
   "source": [
    "## 辅助任务的预训练 Pretraining on an Auxiliary Task"
   ]
  },
  {
   "cell_type": "markdown",
   "metadata": {},
   "source": [
    "如果你没有太多标记的训练数据,最后一个选择是在辅助任务上训练第一个神经网络,你可以轻松地为其获得或生成标记的训练数据,然后对实际任务重用该网络的较低层,**第一个神经网络的较低层将学习特征检测器**,**第二个神经网络可能会重用这些特征检测器**。\n",
    "\n",
    "例如,如果你要构建一个识别人脸的系统,毎个人可能只有几张照片,显然不足以训练一个好的分类器。收集毎个人的数百张图片不切实际。但是,你可以在网络上收集很多随机人物的图片,然后训练第一个神经网络来检测两个不同的图片是否是同一个人。这样的网络将会学习到很好的人脸特征检测器,因此重用其较低层可以使你用很少的训练数据来训练一个好的人脸分类器."
   ]
  },
  {
   "cell_type": "markdown",
   "metadata": {},
   "source": [
    "# 更快的优化器 Faster Optimizers"
   ]
  },
  {
   "cell_type": "markdown",
   "metadata": {},
   "source": [
    "## 梯度估计修正 "
   ]
  },
  {
   "cell_type": "markdown",
   "metadata": {},
   "source": [
    "在随机(小批量)梯度下降法中,如果每次选取样本数量比较小,损失会呈现振荡的方式下降.也就是说,随机梯度下降方法中每次迭代的梯度估计和整个训练集上的最优梯度并不一致,具有一定的随机性.\n",
    "\n",
    "一种有效地缓解梯度估计随机性的方式是通过使用最近一段时间内的平均梯度来代替当前时刻的随机梯度来作为参数更新的方向,从而提高优化速度."
   ]
  },
  {
   "cell_type": "markdown",
   "metadata": {},
   "source": [
    "###  动能优化 Momentum Optimization"
   ]
  },
  {
   "cell_type": "markdown",
   "metadata": {},
   "source": [
    "`动量(Momentum)`是模拟物理中的概念.一个物体的动量指的是该物体在它运动方向上保持运动的趋势,是该物体的质量和速度的乘积.`动量法`是用之前积累动量来替代真正的梯度.每次迭代的梯度可以看作**加速度**.\n",
    "\n",
    ">在第 $t$ 次迭代时,计算负梯度的“加权移动平均”作为参数的更新方向,\n",
    "$$\n",
    "\\Delta \\theta_{t}=\\rho \\Delta \\theta_{t-1}-\\alpha \\mathbf{g}_{t}\n",
    "$$\n",
    "其中 $\\rho$ 为动量因子,通常设为 $0.9, \\alpha$ 为学习率.\n",
    "\n",
    "这样, 每个参数的实际更新差值取决于最近一段时间内梯度的加权平均值."
   ]
  },
  {
   "cell_type": "markdown",
   "metadata": {},
   "source": [
    "<img src=\"./images/other/11-5.png\" width=\"450\">"
   ]
  },
  {
   "cell_type": "markdown",
   "metadata": {},
   "source": [
    "- 一般而言, 在迭代初期, 梯度方向都比较一致, 动量法会起到加速作用,可以更快地到达最优点.\n",
    "- 在迭代后期,梯度方向会不一致,在收敛值附近振荡,动量法会起到减速作用,增加稳定性.\n",
    "- 在不使用批量归一化的深层神经网络中,较高的层通常会得到比例不同的输入,使用动能优化会有所帮助,还能绕过局部最优问题."
   ]
  },
  {
   "cell_type": "code",
   "execution_count": 72,
   "metadata": {},
   "outputs": [],
   "source": [
    "optimizer = keras.optimizers.SGD(learning_rate=1e-3, momentum=0.9)"
   ]
  },
  {
   "cell_type": "markdown",
   "metadata": {},
   "source": [
    "### Nesterov 加速梯度  Nesterov Accelerated Gradient"
   ]
  },
  {
   "cell_type": "markdown",
   "metadata": {},
   "source": [
    "`Nesterov 加速梯度`是对在`动量法`的改进.动量法中, 实际的参数更新方向 $\\Delta \\theta_{t}$ 为上一步的参数更新方向 $\\Delta \\theta_{t-1}$ 和当前梯度的反方向 $-\\mathbf{g}_{t}$ 的叠加. 这样, $\\Delta \\theta_{t}$ 可以被拆分为两步进行, 先根据 $\\Delta \\theta_{t-1}$ 更新一次得到参数 $\\hat{\\theta}$,再用 $-\\mathrm{g}_{t}$ 进行更新.\n",
    ">$$\n",
    "\\begin{aligned}\n",
    "\\hat{\\theta} &=\\theta_{t-1}+\\rho \\Delta \\theta_{t-1} \\\\\n",
    "\\theta_{t} &=\\hat{\\theta}-\\alpha \\mathbf{g}_{t}\n",
    "\\end{aligned}\n",
    "$$\n",
    "其中梯度 $\\mathbf{g}_{t}$ 为点 $\\theta_{t-1}$ 上的梯度, 因此在第二步更新中有些不太合理. 更合理的更新方向应该为 $\\hat{\\theta}$ 上的梯度.\n",
    "这样,合并后的更新方向为\n",
    "$$\n",
    "\\Delta \\theta_{t}=\\theta_{t}-\\theta_{t-1}=\\rho \\Delta \\theta_{t-1}-\\alpha \\mathfrak{g}_{t}\\left(\\theta_{t-1}+\\rho \\Delta \\theta_{t-1}\\right)\n",
    "$$\n",
    "\n",
    "其核心思想会利用 “下一步的梯度” 确定 “这一步的梯度”，当然这里 “下一步的梯度” 并非真正的下一步的梯度，而是指仅根据动量项更新后位置的梯度。`NAG`通常比常规动能优化更快."
   ]
  },
  {
   "cell_type": "markdown",
   "metadata": {},
   "source": [
    "<img src=\"./images/other/11-4.png\" width=\"450\">"
   ]
  },
  {
   "cell_type": "code",
   "execution_count": 73,
   "metadata": {},
   "outputs": [],
   "source": [
    "optimizer = keras.optimizers.SGD(learning_rate=1e-3, momentum=0.9,\n",
    "                                 nesterov=True)"
   ]
  },
  {
   "cell_type": "markdown",
   "metadata": {},
   "source": [
    "## 自适应调整学习率"
   ]
  },
  {
   "cell_type": "markdown",
   "metadata": {},
   "source": [
    "在标准的梯度下降法中,每个参数在每次迭代时都使用相同的学习率.由于每个参数的维度上收敛速度都不相同,因此根据不同参数的收敛情况分别设置学习率."
   ]
  },
  {
   "cell_type": "markdown",
   "metadata": {},
   "source": [
    "### AdaGrad"
   ]
  },
  {
   "cell_type": "markdown",
   "metadata": {},
   "source": [
    "`AdaGrad算法`是借鉴`l2正则化`的思想,每次迭代时自适应地调整每个参数的学习率."
   ]
  },
  {
   "cell_type": "markdown",
   "metadata": {},
   "source": [
    ">在第t次迭代时, 先计算每个参数梯度平方的累计值\n",
    "$$\n",
    "G_{t}=\\sum_{\\tau=1}^{l} \\mathbf{g}_{\\tau} \\odot \\mathbf{g}_{\\tau}\n",
    "$$\n",
    "其中 $\\odot$ 为按元素乘积, $\\boldsymbol{g}_{\\tau} \\in \\mathbb{R}^{\\mid \\text { θ| }}$ 是第 $\\tau$ 次迭代时的梯度.\n",
    "\n",
    ">参数更新差值为\n",
    "$$\n",
    "\\Delta \\theta_{t}=-\\frac{\\alpha}{\\sqrt{G_{t}+\\epsilon}} \\odot \\mathbf{g}_{t}\n",
    "$$\n",
    "其中 $\\alpha$ 是初始的学习率, $\\epsilon$ 是为了保持数值稳定性而设置的非常小的常数, 一般 取值 $\\mathrm{e}^{-7}$ 到 $\\mathrm{e}^{-10}$."
   ]
  },
  {
   "cell_type": "markdown",
   "metadata": {},
   "source": [
    "效果是在参数空间更为平缓的方向，会取得更大的进步（因为平缓，所以历史梯度平方和较小，对应学习下降的幅度较小），并且能够使得陡峭的方向变得平缓，从而加快训练速度。"
   ]
  },
  {
   "cell_type": "markdown",
   "metadata": {},
   "source": [
    "<img src=\"./images/other/11-6.png\" width=\"500\">"
   ]
  },
  {
   "cell_type": "markdown",
   "metadata": {},
   "source": [
    "`AdaGrad`相较`梯度下降法`能较早的修正其方向,是指指向最优解.对于简单的二次问题,`AdaGrad`表现良好,但是不应该使用它来训练深度神经网络.因为`AdaGrad`算法的缺点是在经过一定次数的迭代依然没有找到最优点时，由于这时的学习率已经非常小，很难再继续找到最优点."
   ]
  },
  {
   "cell_type": "code",
   "execution_count": 74,
   "metadata": {},
   "outputs": [],
   "source": [
    "optimizer = keras.optimizers.Adagrad(learning_rate=1e-3)"
   ]
  },
  {
   "cell_type": "markdown",
   "metadata": {},
   "source": [
    "### RMSProp"
   ]
  },
  {
   "cell_type": "markdown",
   "metadata": {},
   "source": [
    "`RMSProp`算法可以在有些情况下避免`AdaGrad`算法中学习率不断单调下降以于过早衰减的缺点.`RMSProp`通过累加最近迭代中的梯度,而不是自训练开始以来的所有梯度来解决问题.\n",
    "\n",
    ">计算每次迭代梯度 $g_{t}$ 平方的指数衰减移动平均,\n",
    "$$\n",
    "\\begin{aligned}\n",
    "G_{t} &=\\beta G_{t-1}+(1-\\beta) g_{t} \\odot g_{t} \\\\\n",
    "&=(1-\\beta) \\sum_{\\tau=1}^{t} \\beta^{t-\\tau} \\mathbf{g}_{\\tau} \\odot g_{\\tau}\n",
    "\\end{aligned}\n",
    "$$其中 $\\beta$ 为衰减率,一般取值为0.9.\n",
    "\n",
    ">参数更新差值为\n",
    "$$\n",
    "\\Delta \\theta_{t}=-\\frac{\\alpha}{\\sqrt{G_{t}+\\epsilon}} \\odot g_{t}\n",
    "$$\n",
    "其中 $\\alpha$ 是初始的学习率,比如0.001.\n"
   ]
  },
  {
   "cell_type": "markdown",
   "metadata": {},
   "source": [
    "从上式可以看出, RMSProp 算法和 AdaGrad 算法的区别在于 $G_{t}$ 的计算由 累积方式变成了指数衰减移动平均. 在迭代过程中, 每个参数的学习率并不是呈 衰减趋势, 既可以变小也可以变大."
   ]
  },
  {
   "cell_type": "code",
   "execution_count": 75,
   "metadata": {},
   "outputs": [],
   "source": [
    "optimizerpt = keras.optimizers.RMSprop(learning_rate=1e-3, rho=0.9)  # rhp即参数β"
   ]
  },
  {
   "cell_type": "markdown",
   "metadata": {},
   "source": [
    "## 综合方法"
   ]
  },
  {
   "cell_type": "markdown",
   "metadata": {},
   "source": [
    "### Adam"
   ]
  },
  {
   "cell_type": "markdown",
   "metadata": {},
   "source": [
    "`Adams`可以看作`动量法`和 `Rmsprop`算法的结合,不但使用动量作为参数更新方向,而且可以自适应调整学习率.\n",
    "\n",
    "`Adams`一方面计算梯度平方 $\\mathbf{g}_{t}^{2}$ 的指数加权平均 ( 和 `RMSprop` 算法类似 ),另一方面计算梯度 $\\mathrm{g}_{t}$ 的指数加权平均 ( 和`动量法`类似 ).\n",
    ">$$\n",
    "\\begin{array}{r}\n",
    "M_{t}=\\beta_{1} M_{t-1}+\\left(1-\\beta_{1}\\right) g_{t} \\\\\n",
    "G_{t}=\\beta_{2} G_{t-1}+\\left(1-\\beta_{2}\\right) \\mathbf{g}_{t} \\odot \\mathbf{g}_{t}\n",
    "\\end{array}\n",
    "$$\n",
    "其中 $\\beta_{1}$ 和 $\\beta_{2}$ 分别为两个移动平均的衰减率,通常取值为 $\\beta_{1}$=0.9, $\\beta_{2}$=0.999. \n",
    "\n",
    "假设 $M_{0}=0, G_{0}=0$, 那么在迭代初期 $M_{t}$ 和 $G_{t}$ 的值会比真实的均值和方差要小. 特别是当 $\\beta_{1}$ 和 $\\beta_{2}$ 都接近于 1 时,偏差会很大.\n",
    "\n",
    ">对偏差进行修正\n",
    "$$\n",
    "\\begin{aligned}\n",
    "&\\hat{M}_{t}=\\frac{M_{t}}{1-\\beta_{1}^{t}} \\\\\n",
    "&\\hat{G}_{t}=\\frac{G_{t}}{1-\\beta_{2}^{t}}\n",
    "\\end{aligned}\n",
    "$$\n",
    "参数更新差值\n",
    "$$\n",
    "\\Delta \\theta_{t}=-\\frac{\\alpha}{\\sqrt{\\hat{G}_{t}+\\epsilon}} \\hat{M}_{t}\n",
    "$$\n",
    "其中学习率 $\\alpha$ 通常设为0.001."
   ]
  },
  {
   "cell_type": "code",
   "execution_count": 76,
   "metadata": {},
   "outputs": [],
   "source": [
    "optimizer = keras.optimizers.Adam(learning_rate=0.001, beta_1=0.9, beta_2=0.999)"
   ]
  },
  {
   "cell_type": "markdown",
   "metadata": {},
   "source": [
    "### AdaMax"
   ]
  },
  {
   "cell_type": "markdown",
   "metadata": {},
   "source": [
    "`Adamax`是基于无穷大范数的`Adam`的一种变体，此方法对学习率的上限提供了一个更简单的范围.实际上,这可以使得`Adamax`比`Adam`更稳定,但通常`Adam`表现更好.\n",
    "\n",
    ">$$\n",
    "\\begin{array}{r}\n",
    "M_{t}=\\beta_{1} M_{t-1}+\\left(1-\\beta_{1}\\right) g_{t} \\\\\n",
    "G_{t}=max(\\beta_{2} G_{t-1},|\\mathbf{g}_{t}| )\n",
    "\\end{array}\n",
    "$$\n",
    "\n",
    ">对偏差进行修正\n",
    "$$\n",
    "\\begin{aligned}\n",
    "&\\hat{M}_{t}=\\frac{M_{t}}{1-\\beta_{1}^{t}} \\\\\n",
    "\\end{aligned}\n",
    "$$\n",
    "参数更新差值\n",
    "$$\n",
    "\\Delta \\theta_{t}=-\\frac{\\alpha}{{{G}_{t}}} \\hat{M}_{t}\n",
    "$$\n"
   ]
  },
  {
   "cell_type": "code",
   "execution_count": 77,
   "metadata": {},
   "outputs": [],
   "source": [
    "optimizer = keras.optimizers.Adamax(learning_rate=1e-3, beta_1=0.9, beta_2=0.999)"
   ]
  },
  {
   "cell_type": "markdown",
   "metadata": {},
   "source": [
    "### Nadam "
   ]
  },
  {
   "cell_type": "markdown",
   "metadata": {},
   "source": [
    "`Nadam`是在`Adam`的基础上引入`Nesterov`技巧,因此收敛速度会比`Adam`稍快.总体上胜过`Adam`,但有时不如`RMSProp`"
   ]
  },
  {
   "cell_type": "code",
   "execution_count": 78,
   "metadata": {},
   "outputs": [],
   "source": [
    "optimizer = keras.optimizers.Nadam(learning_rate=0.001, beta_1=0.9, beta_2=0.999)"
   ]
  },
  {
   "cell_type": "markdown",
   "metadata": {},
   "source": [
    "## 优化器比较"
   ]
  },
  {
   "cell_type": "markdown",
   "metadata": {},
   "source": [
    "|  类别   | 收敛速度  | 收敛质量  |\n",
    "|  :----  | :----  |:----:  |\n",
    "| SGD  | ⭐️ | ⭐️ ⭐️ ⭐️ |\n",
    "| SGD(momentum=...)  | ⭐️ ⭐️  | ⭐️ ⭐️ ⭐️ |\n",
    "| SGD(momentum=..., nesterov=True)  | ⭐️ ⭐️  | ⭐️ ⭐️ ⭐️ |\n",
    "| AdaGrad  |  ⭐️ ⭐️ ⭐️ | ⭐️  |\n",
    "| RMSPRrop  |  ⭐️ ⭐️ ⭐️ | ⭐️ ⭐️ or  ⭐️ ⭐️ ⭐️ |\n",
    "| Adam  |  ⭐️ ⭐️ ⭐️ | ⭐️ ⭐️ or  ⭐️ ⭐️ ⭐️ |\n",
    "| Nadam  |  ⭐️ ⭐️ ⭐️ | ⭐️ ⭐️ or  ⭐️ ⭐️ ⭐️ |\n",
    "| AdaMax  |  ⭐️ ⭐️ ⭐️ | ⭐️ ⭐️ or  ⭐️ ⭐️ ⭐️ |"
   ]
  },
  {
   "cell_type": "markdown",
   "metadata": {},
   "source": [
    "## 学习率调度 Learning Rate Scheduling"
   ]
  },
  {
   "cell_type": "markdown",
   "metadata": {},
   "source": [
    "从经验上看,学习率在一开始要保持大些来保证收敛速度,在收敛到最优点附近时要小些以避免来回振荡.比较简单的学习率调整可以通过`学习率衰减` 的方式来实现,也称为学习率退火.不失一般性,这里的衰减方式设置为按迭代次数进行衰减.\n",
    "\n",
    "假设初始化学习率为$\\alpha_0$,在第t次迭代时的学习率$\\alpha_t$.常见的衰减方法有以下几种:"
   ]
  },
  {
   "cell_type": "markdown",
   "metadata": {
    "heading_collapsed": true
   },
   "source": [
    "### 幂调度 Power Scheduling"
   ]
  },
  {
   "cell_type": "markdown",
   "metadata": {
    "hidden": true
   },
   "source": [
    "> $$\n",
    "\\alpha_t = \\frac{\\alpha_0}{(1+\\frac{steps}{s})^c}\n",
    "$$\n",
    "\n",
    "其中,$c$通常设置为1.经过$s$个步骤之后,学习率下降到$\\frac{\\alpha_0}{2}$,经过$2s$个步骤之后,学习率下降到$\\frac{\\alpha_0}{3}$\n",
    "\n",
    "`keras`中默认参数$c=1, s=\\frac{1}{decay}$"
   ]
  },
  {
   "cell_type": "code",
   "execution_count": 79,
   "metadata": {
    "hidden": true
   },
   "outputs": [],
   "source": [
    "optimizer = keras.optimizers.SGD(learning_rate=1e-2, decay=1e-4)"
   ]
  },
  {
   "cell_type": "code",
   "execution_count": 80,
   "metadata": {
    "hidden": true
   },
   "outputs": [],
   "source": [
    "model = keras.models.Sequential([\n",
    "    keras.layers.Flatten(input_shape=[28,28]),\n",
    "    keras.layers.Dense(300, activation=keras.activations.selu,\n",
    "                       kernel_initializer = keras.initializers.lecun_normal),\n",
    "    keras.layers.Dense(100, activation=keras.activations.selu,\n",
    "                       kernel_initializer = keras.initializers.lecun_normal),  \n",
    "    keras.layers.Dense(10, activation=keras.activations.softmax)\n",
    "])"
   ]
  },
  {
   "cell_type": "code",
   "execution_count": 81,
   "metadata": {
    "hidden": true
   },
   "outputs": [],
   "source": [
    "model.compile(loss=keras.losses.sparse_categorical_crossentropy,\n",
    "              optimizer=optimizer,\n",
    "              metrics=[keras.metrics.sparse_categorical_accuracy])"
   ]
  },
  {
   "cell_type": "code",
   "execution_count": 82,
   "metadata": {
    "hidden": true,
    "scrolled": true
   },
   "outputs": [
    {
     "name": "stdout",
     "output_type": "stream",
     "text": [
      "Epoch 1/25\n",
      "1719/1719 [==============================] - 4s 2ms/step - loss: 0.4855 - sparse_categorical_accuracy: 0.8304 - val_loss: 0.4031 - val_sparse_categorical_accuracy: 0.8598\n",
      "Epoch 2/25\n",
      "1719/1719 [==============================] - 3s 2ms/step - loss: 0.3780 - sparse_categorical_accuracy: 0.8659 - val_loss: 0.3714 - val_sparse_categorical_accuracy: 0.8716\n",
      "Epoch 3/25\n",
      "1719/1719 [==============================] - 3s 2ms/step - loss: 0.3456 - sparse_categorical_accuracy: 0.8769 - val_loss: 0.3751 - val_sparse_categorical_accuracy: 0.8730\n",
      "Epoch 4/25\n",
      "1719/1719 [==============================] - 3s 2ms/step - loss: 0.3249 - sparse_categorical_accuracy: 0.8826 - val_loss: 0.3503 - val_sparse_categorical_accuracy: 0.8798\n",
      "Epoch 5/25\n",
      "1719/1719 [==============================] - 3s 2ms/step - loss: 0.3101 - sparse_categorical_accuracy: 0.8889 - val_loss: 0.3454 - val_sparse_categorical_accuracy: 0.8782\n",
      "Epoch 6/25\n",
      "1719/1719 [==============================] - 3s 2ms/step - loss: 0.2965 - sparse_categorical_accuracy: 0.8935 - val_loss: 0.3420 - val_sparse_categorical_accuracy: 0.8820\n",
      "Epoch 7/25\n",
      "1719/1719 [==============================] - 3s 2ms/step - loss: 0.2867 - sparse_categorical_accuracy: 0.8973 - val_loss: 0.3361 - val_sparse_categorical_accuracy: 0.8872\n",
      "Epoch 8/25\n",
      "1719/1719 [==============================] - 3s 2ms/step - loss: 0.2777 - sparse_categorical_accuracy: 0.9013 - val_loss: 0.3418 - val_sparse_categorical_accuracy: 0.8834\n",
      "Epoch 9/25\n",
      "1719/1719 [==============================] - 3s 2ms/step - loss: 0.2698 - sparse_categorical_accuracy: 0.9023 - val_loss: 0.3298 - val_sparse_categorical_accuracy: 0.8862\n",
      "Epoch 10/25\n",
      "1719/1719 [==============================] - 3s 2ms/step - loss: 0.2628 - sparse_categorical_accuracy: 0.9051 - val_loss: 0.3270 - val_sparse_categorical_accuracy: 0.8882\n",
      "Epoch 11/25\n",
      "1719/1719 [==============================] - 3s 2ms/step - loss: 0.2570 - sparse_categorical_accuracy: 0.9083 - val_loss: 0.3280 - val_sparse_categorical_accuracy: 0.8876\n",
      "Epoch 12/25\n",
      "1719/1719 [==============================] - 3s 2ms/step - loss: 0.2511 - sparse_categorical_accuracy: 0.9101 - val_loss: 0.3344 - val_sparse_categorical_accuracy: 0.8826\n",
      "Epoch 13/25\n",
      "1719/1719 [==============================] - 3s 2ms/step - loss: 0.2460 - sparse_categorical_accuracy: 0.9130 - val_loss: 0.3270 - val_sparse_categorical_accuracy: 0.8890\n",
      "Epoch 14/25\n",
      "1719/1719 [==============================] - 3s 2ms/step - loss: 0.2421 - sparse_categorical_accuracy: 0.9135 - val_loss: 0.3300 - val_sparse_categorical_accuracy: 0.8888\n",
      "Epoch 15/25\n",
      "1719/1719 [==============================] - 3s 2ms/step - loss: 0.2373 - sparse_categorical_accuracy: 0.9152 - val_loss: 0.3256 - val_sparse_categorical_accuracy: 0.8872\n",
      "Epoch 16/25\n",
      "1719/1719 [==============================] - 3s 2ms/step - loss: 0.2334 - sparse_categorical_accuracy: 0.9174 - val_loss: 0.3219 - val_sparse_categorical_accuracy: 0.8914\n",
      "Epoch 17/25\n",
      "1719/1719 [==============================] - 3s 2ms/step - loss: 0.2298 - sparse_categorical_accuracy: 0.9180 - val_loss: 0.3249 - val_sparse_categorical_accuracy: 0.8910\n",
      "Epoch 18/25\n",
      "1719/1719 [==============================] - 3s 2ms/step - loss: 0.2261 - sparse_categorical_accuracy: 0.9195 - val_loss: 0.3204 - val_sparse_categorical_accuracy: 0.8932\n",
      "Epoch 19/25\n",
      "1719/1719 [==============================] - 3s 2ms/step - loss: 0.2231 - sparse_categorical_accuracy: 0.9211 - val_loss: 0.3245 - val_sparse_categorical_accuracy: 0.8902\n",
      "Epoch 20/25\n",
      "1719/1719 [==============================] - 3s 2ms/step - loss: 0.2199 - sparse_categorical_accuracy: 0.9224 - val_loss: 0.3226 - val_sparse_categorical_accuracy: 0.8904\n",
      "Epoch 21/25\n",
      "1719/1719 [==============================] - 3s 2ms/step - loss: 0.2166 - sparse_categorical_accuracy: 0.9233 - val_loss: 0.3223 - val_sparse_categorical_accuracy: 0.8908\n",
      "Epoch 22/25\n",
      "1719/1719 [==============================] - 3s 2ms/step - loss: 0.2141 - sparse_categorical_accuracy: 0.9243 - val_loss: 0.3197 - val_sparse_categorical_accuracy: 0.8938\n",
      "Epoch 23/25\n",
      "1719/1719 [==============================] - 3s 2ms/step - loss: 0.2115 - sparse_categorical_accuracy: 0.9254 - val_loss: 0.3210 - val_sparse_categorical_accuracy: 0.8912\n",
      "Epoch 24/25\n",
      "1719/1719 [==============================] - 3s 2ms/step - loss: 0.2087 - sparse_categorical_accuracy: 0.9265 - val_loss: 0.3228 - val_sparse_categorical_accuracy: 0.8904\n",
      "Epoch 25/25\n",
      "1719/1719 [==============================] - 3s 2ms/step - loss: 0.2068 - sparse_categorical_accuracy: 0.9265 - val_loss: 0.3228 - val_sparse_categorical_accuracy: 0.8928\n"
     ]
    },
    {
     "data": {
      "text/plain": [
       "<tensorflow.python.keras.callbacks.History at 0x7f8ae3f9f150>"
      ]
     },
     "execution_count": 82,
     "metadata": {},
     "output_type": "execute_result"
    }
   ],
   "source": [
    "n_epochs = 25\n",
    "model.fit(X_train_scaled, y_train,\n",
    "          epochs=n_epochs,\n",
    "          validation_data=(X_val_scaled, y_val))"
   ]
  },
  {
   "cell_type": "code",
   "execution_count": 83,
   "metadata": {
    "collapsed": true,
    "hidden": true
   },
   "outputs": [
    {
     "data": {
      "image/png": "[encoded data removed]",
      "text/plain": [
       "<Figure size 432x288 with 1 Axes>"
      ]
     },
     "metadata": {
      "needs_background": "light"
     },
     "output_type": "display_data"
    }
   ],
   "source": [
    "import math\n",
    "\n",
    "learning_rate = 0.01\n",
    "decay = 1e-4\n",
    "batch_size = 32\n",
    "n_steps_per_epoch = math.ceil(len(X_train_scaled) / batch_size)  \n",
    "# ceil()向上取整计算 ceil(55000/32) = 1719\n",
    "epochs = np.arange(n_epochs)\n",
    "lrs = learning_rate / (1 + decay * epochs * n_steps_per_epoch)\n",
    "\n",
    "plt.plot(epochs, lrs,  \"o-\")\n",
    "plt.axis([0, n_epochs - 1, 0, 0.01])\n",
    "plt.xlabel(\"迭代次数\", font_properties=my_font)\n",
    "plt.ylabel(\"学习率\", font_properties=my_font)\n",
    "plt.title(\"幂调度\", font_properties=my_font)\n",
    "plt.grid(True)\n",
    "plt.show()"
   ]
  },
  {
   "cell_type": "markdown",
   "metadata": {},
   "source": [
    "### 指数调度 Exponential Scheduling"
   ]
  },
  {
   "cell_type": "markdown",
   "metadata": {},
   "source": [
    "> $$\n",
    "\\alpha_t = \\alpha_0 0.1^{\\frac{t}{s}}\n",
    "$$\n",
    "\n",
    "学习率每$s$步将降低10倍."
   ]
  },
  {
   "cell_type": "code",
   "execution_count": 84,
   "metadata": {},
   "outputs": [],
   "source": [
    "def exponential_scheduling(lr0, s):\n",
    "    def function(epoch):\n",
    "        return lr0*0.1**(epoch/s)\n",
    "    return function   # 返回配置函数\n",
    "\n",
    "exponential_scheduling_fn = exponential_scheduling(lr0=0.01, s=20)"
   ]
  },
  {
   "cell_type": "code",
   "execution_count": 85,
   "metadata": {},
   "outputs": [],
   "source": [
    "model = keras.models.Sequential([\n",
    "    keras.layers.Flatten(input_shape=[28,28]),\n",
    "    keras.layers.Dense(300, activation=keras.activations.selu,\n",
    "                       kernel_initializer = keras.initializers.lecun_normal),\n",
    "    keras.layers.Dense(100, activation=keras.activations.selu,\n",
    "                       kernel_initializer = keras.initializers.lecun_normal),  \n",
    "    keras.layers.Dense(10, activation=keras.activations.softmax)\n",
    "])"
   ]
  },
  {
   "cell_type": "code",
   "execution_count": 86,
   "metadata": {},
   "outputs": [],
   "source": [
    "model.compile(loss=keras.losses.sparse_categorical_crossentropy,\n",
    "              optimizer='nadam',\n",
    "              metrics=[keras.metrics.sparse_categorical_accuracy])"
   ]
  },
  {
   "cell_type": "markdown",
   "metadata": {},
   "source": [
    "`LearningRateScheduler()`回调函数将在每个轮次开始时,更新优化器的`learning_rate`属性."
   ]
  },
  {
   "cell_type": "code",
   "execution_count": 87,
   "metadata": {
    "collapsed": true
   },
   "outputs": [
    {
     "name": "stdout",
     "output_type": "stream",
     "text": [
      "Epoch 1/25\n",
      "1719/1719 [==============================] - 7s 4ms/step - loss: 0.8590 - sparse_categorical_accuracy: 0.7541 - val_loss: 1.1497 - val_sparse_categorical_accuracy: 0.7246\n",
      "Epoch 2/25\n",
      "1719/1719 [==============================] - 7s 4ms/step - loss: 0.6984 - sparse_categorical_accuracy: 0.7909 - val_loss: 0.6128 - val_sparse_categorical_accuracy: 0.7986\n",
      "Epoch 3/25\n",
      "1719/1719 [==============================] - 6s 4ms/step - loss: 0.5700 - sparse_categorical_accuracy: 0.8229 - val_loss: 0.7693 - val_sparse_categorical_accuracy: 0.7746\n",
      "Epoch 4/25\n",
      "1719/1719 [==============================] - 7s 4ms/step - loss: 0.5318 - sparse_categorical_accuracy: 0.8341 - val_loss: 0.5328 - val_sparse_categorical_accuracy: 0.8372\n",
      "Epoch 5/25\n",
      "1719/1719 [==============================] - 7s 4ms/step - loss: 0.4969 - sparse_categorical_accuracy: 0.8443 - val_loss: 0.4721 - val_sparse_categorical_accuracy: 0.8464\n",
      "Epoch 6/25\n",
      "1719/1719 [==============================] - 7s 4ms/step - loss: 0.4397 - sparse_categorical_accuracy: 0.8600 - val_loss: 0.5542 - val_sparse_categorical_accuracy: 0.8548\n",
      "Epoch 7/25\n",
      "1719/1719 [==============================] - 7s 4ms/step - loss: 0.4117 - sparse_categorical_accuracy: 0.8687 - val_loss: 0.5819 - val_sparse_categorical_accuracy: 0.8540\n",
      "Epoch 8/25\n",
      "1719/1719 [==============================] - 7s 4ms/step - loss: 0.3971 - sparse_categorical_accuracy: 0.8726 - val_loss: 0.4946 - val_sparse_categorical_accuracy: 0.8504\n",
      "Epoch 9/25\n",
      "1719/1719 [==============================] - 7s 4ms/step - loss: 0.3629 - sparse_categorical_accuracy: 0.8803 - val_loss: 0.4451 - val_sparse_categorical_accuracy: 0.8702\n",
      "Epoch 10/25\n",
      "1719/1719 [==============================] - 7s 4ms/step - loss: 0.3311 - sparse_categorical_accuracy: 0.8892 - val_loss: 0.4183 - val_sparse_categorical_accuracy: 0.8816\n",
      "Epoch 11/25\n",
      "1719/1719 [==============================] - 7s 4ms/step - loss: 0.3047 - sparse_categorical_accuracy: 0.8961 - val_loss: 0.4411 - val_sparse_categorical_accuracy: 0.8696\n",
      "Epoch 12/25\n",
      "1719/1719 [==============================] - 7s 4ms/step - loss: 0.2794 - sparse_categorical_accuracy: 0.9044 - val_loss: 0.4469 - val_sparse_categorical_accuracy: 0.8750\n",
      "Epoch 13/25\n",
      "1719/1719 [==============================] - 7s 4ms/step - loss: 0.2646 - sparse_categorical_accuracy: 0.9093 - val_loss: 0.4242 - val_sparse_categorical_accuracy: 0.8836\n",
      "Epoch 14/25\n",
      "1719/1719 [==============================] - 7s 4ms/step - loss: 0.2446 - sparse_categorical_accuracy: 0.9159 - val_loss: 0.4515 - val_sparse_categorical_accuracy: 0.8788\n",
      "Epoch 15/25\n",
      "1719/1719 [==============================] - 7s 4ms/step - loss: 0.2288 - sparse_categorical_accuracy: 0.9206 - val_loss: 0.4820 - val_sparse_categorical_accuracy: 0.8868\n",
      "Epoch 16/25\n",
      "1719/1719 [==============================] - 7s 4ms/step - loss: 0.2132 - sparse_categorical_accuracy: 0.9266 - val_loss: 0.4607 - val_sparse_categorical_accuracy: 0.8844\n",
      "Epoch 17/25\n",
      "1719/1719 [==============================] - 7s 4ms/step - loss: 0.1961 - sparse_categorical_accuracy: 0.9317 - val_loss: 0.5029 - val_sparse_categorical_accuracy: 0.8834\n",
      "Epoch 18/25\n",
      "1719/1719 [==============================] - 7s 4ms/step - loss: 0.1792 - sparse_categorical_accuracy: 0.9385 - val_loss: 0.5097 - val_sparse_categorical_accuracy: 0.8820\n",
      "Epoch 19/25\n",
      "1719/1719 [==============================] - 7s 4ms/step - loss: 0.1700 - sparse_categorical_accuracy: 0.9417 - val_loss: 0.5483 - val_sparse_categorical_accuracy: 0.8896\n",
      "Epoch 20/25\n",
      "1719/1719 [==============================] - 7s 4ms/step - loss: 0.1581 - sparse_categorical_accuracy: 0.9459 - val_loss: 0.5016 - val_sparse_categorical_accuracy: 0.8874\n",
      "Epoch 21/25\n",
      "1719/1719 [==============================] - 7s 4ms/step - loss: 0.1486 - sparse_categorical_accuracy: 0.9496 - val_loss: 0.5484 - val_sparse_categorical_accuracy: 0.8878\n",
      "Epoch 22/25\n",
      "1719/1719 [==============================] - 7s 4ms/step - loss: 0.1378 - sparse_categorical_accuracy: 0.9536 - val_loss: 0.5675 - val_sparse_categorical_accuracy: 0.8900\n",
      "Epoch 23/25\n",
      "1719/1719 [==============================] - 5s 3ms/step - loss: 0.1309 - sparse_categorical_accuracy: 0.9557 - val_loss: 0.5502 - val_sparse_categorical_accuracy: 0.8914\n",
      "Epoch 24/25\n",
      "1719/1719 [==============================] - 7s 4ms/step - loss: 0.1233 - sparse_categorical_accuracy: 0.9590 - val_loss: 0.6044 - val_sparse_categorical_accuracy: 0.8896\n",
      "Epoch 25/25\n",
      "1719/1719 [==============================] - 7s 4ms/step - loss: 0.1166 - sparse_categorical_accuracy: 0.9616 - val_loss: 0.6230 - val_sparse_categorical_accuracy: 0.8880\n"
     ]
    }
   ],
   "source": [
    "n_epochs = 25\n",
    "lr_scheduler = keras.callbacks.LearningRateScheduler(exponential_scheduling_fn)\n",
    "history = model.fit(X_train_scaled, y_train,\n",
    "                    epochs=n_epochs,\n",
    "                    validation_data=(X_val_scaled, y_val),\n",
    "                    callbacks=[lr_scheduler])"
   ]
  },
  {
   "cell_type": "code",
   "execution_count": 88,
   "metadata": {
    "collapsed": true
   },
   "outputs": [
    {
     "data": {
      "image/png": "[encoded data removed]",
      "text/plain": [
       "<Figure size 432x288 with 1 Axes>"
      ]
     },
     "metadata": {
      "needs_background": "light"
     },
     "output_type": "display_data"
    }
   ],
   "source": [
    "plt.plot(history.epoch, history.history[\"lr\"], \"o-\")\n",
    "plt.axis([0, n_epochs - 1, 0, 0.011])\n",
    "plt.xlabel(\"迭代次数\", font_properties=my_font)\n",
    "plt.ylabel(\"学习率\", font_properties=my_font)\n",
    "plt.title(\"指数调度\", font_properties=my_font)\n",
    "plt.grid(True)\n",
    "plt.show()"
   ]
  },
  {
   "cell_type": "code",
   "execution_count": 89,
   "metadata": {
    "scrolled": true
   },
   "outputs": [
    {
     "data": {
      "text/plain": [
       "<function __main__.exponential_scheduling.<locals>.function(epoch)>"
      ]
     },
     "execution_count": 89,
     "metadata": {},
     "output_type": "execute_result"
    }
   ],
   "source": [
    "exponential_scheduling_fn "
   ]
  },
  {
   "cell_type": "markdown",
   "metadata": {},
   "source": [
    "### 分段恒定调度 Piecewise Constant Scheduling"
   ]
  },
  {
   "cell_type": "markdown",
   "metadata": {},
   "source": [
    "对一些轮次使用恒定的学习率，对于另一些轮次使用较小的学习率,以此类推.尽管这个方法可以很好地工作，但是需要仔细研究以找出正确学习率顺序以及使用他们的轮次."
   ]
  },
  {
   "cell_type": "code",
   "execution_count": 90,
   "metadata": {},
   "outputs": [],
   "source": [
    "# def piecewise_constant(epoch):\n",
    "#     if epoch < 5:\n",
    "#         return 1e-2\n",
    "#     elif epoch < 15:\n",
    "#         return 5e-3\n",
    "#     else:\n",
    "#         return 1e-3"
   ]
  },
  {
   "cell_type": "code",
   "execution_count": 91,
   "metadata": {},
   "outputs": [],
   "source": [
    "def piecewise_constant(boundaries, values):\n",
    "    boundaries = np.array([0] + boundaries)\n",
    "    values = np.array(values)\n",
    "    def piecewise_constant_fn(epoch):\n",
    "        return values[np.argmax(boundaries > epoch) - 1]\n",
    "    return piecewise_constant_fn\n",
    "\n",
    "piecewise_constant_fn = piecewise_constant([5, 15], [0.01, 0.005, 0.001])"
   ]
  },
  {
   "cell_type": "code",
   "execution_count": 92,
   "metadata": {},
   "outputs": [],
   "source": [
    "model = keras.models.Sequential([\n",
    "    keras.layers.Flatten(input_shape=[28,28]),\n",
    "    keras.layers.Dense(300, activation=keras.activations.selu,\n",
    "                       kernel_initializer = keras.initializers.lecun_normal),\n",
    "    keras.layers.Dense(100, activation=keras.activations.selu,\n",
    "                       kernel_initializer = keras.initializers.lecun_normal),  \n",
    "    keras.layers.Dense(10, activation=keras.activations.softmax)\n",
    "])"
   ]
  },
  {
   "cell_type": "code",
   "execution_count": 93,
   "metadata": {},
   "outputs": [],
   "source": [
    "model.compile(loss=keras.losses.sparse_categorical_crossentropy,\n",
    "              optimizer='nadam',\n",
    "              metrics=[keras.metrics.sparse_categorical_accuracy])"
   ]
  },
  {
   "cell_type": "code",
   "execution_count": 94,
   "metadata": {
    "collapsed": true
   },
   "outputs": [
    {
     "name": "stdout",
     "output_type": "stream",
     "text": [
      "Epoch 1/25\n",
      "1719/1719 [==============================] - 7s 4ms/step - loss: 0.8789 - sparse_categorical_accuracy: 0.7487 - val_loss: 0.8763 - val_sparse_categorical_accuracy: 0.7546\n",
      "Epoch 2/25\n",
      "1719/1719 [==============================] - 7s 4ms/step - loss: 0.9534 - sparse_categorical_accuracy: 0.7106 - val_loss: 1.3367 - val_sparse_categorical_accuracy: 0.6656\n",
      "Epoch 3/25\n",
      "1719/1719 [==============================] - 7s 4ms/step - loss: 1.0406 - sparse_categorical_accuracy: 0.6481 - val_loss: 1.5227 - val_sparse_categorical_accuracy: 0.5452\n",
      "Epoch 4/25\n",
      "1719/1719 [==============================] - 7s 4ms/step - loss: 1.1165 - sparse_categorical_accuracy: 0.5987 - val_loss: 1.1534 - val_sparse_categorical_accuracy: 0.5740\n",
      "Epoch 5/25\n",
      "1719/1719 [==============================] - 7s 4ms/step - loss: 1.2092 - sparse_categorical_accuracy: 0.5765 - val_loss: 1.1306 - val_sparse_categorical_accuracy: 0.5712\n",
      "Epoch 6/25\n",
      "1719/1719 [==============================] - 7s 4ms/step - loss: 0.9270 - sparse_categorical_accuracy: 0.6288 - val_loss: 1.1374 - val_sparse_categorical_accuracy: 0.6596\n",
      "Epoch 7/25\n",
      "1719/1719 [==============================] - 7s 4ms/step - loss: 0.8739 - sparse_categorical_accuracy: 0.6508 - val_loss: 0.8787 - val_sparse_categorical_accuracy: 0.6512\n",
      "Epoch 8/25\n",
      "1719/1719 [==============================] - 7s 4ms/step - loss: 0.8601 - sparse_categorical_accuracy: 0.6565 - val_loss: 0.9624 - val_sparse_categorical_accuracy: 0.6404\n",
      "Epoch 9/25\n",
      "1719/1719 [==============================] - 7s 4ms/step - loss: 0.8237 - sparse_categorical_accuracy: 0.6648 - val_loss: 0.8513 - val_sparse_categorical_accuracy: 0.6844\n",
      "Epoch 10/25\n",
      "1719/1719 [==============================] - 7s 4ms/step - loss: 0.8565 - sparse_categorical_accuracy: 0.6635 - val_loss: 0.9049 - val_sparse_categorical_accuracy: 0.6786\n",
      "Epoch 11/25\n",
      "1719/1719 [==============================] - 7s 4ms/step - loss: 0.8069 - sparse_categorical_accuracy: 0.6796 - val_loss: 0.8879 - val_sparse_categorical_accuracy: 0.6534\n",
      "Epoch 12/25\n",
      "1719/1719 [==============================] - 7s 4ms/step - loss: 0.7114 - sparse_categorical_accuracy: 0.7437 - val_loss: 0.7358 - val_sparse_categorical_accuracy: 0.7512\n",
      "Epoch 13/25\n",
      "1719/1719 [==============================] - 7s 4ms/step - loss: 0.6600 - sparse_categorical_accuracy: 0.7611 - val_loss: 0.8059 - val_sparse_categorical_accuracy: 0.7498\n",
      "Epoch 14/25\n",
      "1719/1719 [==============================] - 7s 4ms/step - loss: 0.6381 - sparse_categorical_accuracy: 0.7743 - val_loss: 0.7044 - val_sparse_categorical_accuracy: 0.8276\n",
      "Epoch 15/25\n",
      "1719/1719 [==============================] - 7s 4ms/step - loss: 0.5502 - sparse_categorical_accuracy: 0.8411 - val_loss: 0.7633 - val_sparse_categorical_accuracy: 0.8154\n",
      "Epoch 16/25\n",
      "1719/1719 [==============================] - 7s 4ms/step - loss: 0.3937 - sparse_categorical_accuracy: 0.8832 - val_loss: 0.5123 - val_sparse_categorical_accuracy: 0.8668\n",
      "Epoch 17/25\n",
      "1719/1719 [==============================] - 7s 4ms/step - loss: 0.3665 - sparse_categorical_accuracy: 0.8884 - val_loss: 0.5755 - val_sparse_categorical_accuracy: 0.8592\n",
      "Epoch 18/25\n",
      "1719/1719 [==============================] - 7s 4ms/step - loss: 0.3497 - sparse_categorical_accuracy: 0.8914 - val_loss: 0.5622 - val_sparse_categorical_accuracy: 0.8738\n",
      "Epoch 19/25\n",
      "1719/1719 [==============================] - 7s 4ms/step - loss: 0.3397 - sparse_categorical_accuracy: 0.8950 - val_loss: 0.5328 - val_sparse_categorical_accuracy: 0.8698\n",
      "Epoch 20/25\n",
      "1719/1719 [==============================] - 7s 4ms/step - loss: 0.3260 - sparse_categorical_accuracy: 0.8990 - val_loss: 0.4949 - val_sparse_categorical_accuracy: 0.8714\n",
      "Epoch 21/25\n",
      "1719/1719 [==============================] - 7s 4ms/step - loss: 0.3145 - sparse_categorical_accuracy: 0.9022 - val_loss: 0.5452 - val_sparse_categorical_accuracy: 0.8690\n",
      "Epoch 22/25\n",
      "1719/1719 [==============================] - 6s 4ms/step - loss: 0.3051 - sparse_categorical_accuracy: 0.9043 - val_loss: 0.5208 - val_sparse_categorical_accuracy: 0.8762\n",
      "Epoch 23/25\n",
      "1719/1719 [==============================] - 6s 3ms/step - loss: 0.2949 - sparse_categorical_accuracy: 0.9080 - val_loss: 0.5496 - val_sparse_categorical_accuracy: 0.8746\n",
      "Epoch 24/25\n",
      "1719/1719 [==============================] - 6s 4ms/step - loss: 0.2854 - sparse_categorical_accuracy: 0.9121 - val_loss: 0.5205 - val_sparse_categorical_accuracy: 0.8748\n",
      "Epoch 25/25\n",
      "1719/1719 [==============================] - 6s 4ms/step - loss: 0.2786 - sparse_categorical_accuracy: 0.9127 - val_loss: 0.5492 - val_sparse_categorical_accuracy: 0.8730\n"
     ]
    }
   ],
   "source": [
    "n_epochs = 25\n",
    "lr_scheduler = keras.callbacks.LearningRateScheduler(piecewise_constant_fn)\n",
    "history = model.fit(X_train_scaled, y_train,\n",
    "                    epochs=n_epochs,\n",
    "                    validation_data=(X_val_scaled, y_val),\n",
    "                    callbacks=[lr_scheduler])"
   ]
  },
  {
   "cell_type": "code",
   "execution_count": 95,
   "metadata": {},
   "outputs": [
    {
     "data": {
      "image/png": "[encoded data removed]",
      "text/plain": [
       "<Figure size 432x288 with 1 Axes>"
      ]
     },
     "metadata": {
      "needs_background": "light"
     },
     "output_type": "display_data"
    }
   ],
   "source": [
    "plt.plot(history.epoch, [piecewise_constant_fn(epoch) for epoch in history.epoch], \"o-\")\n",
    "plt.axis([0, n_epochs - 1, 0, 0.011])\n",
    "plt.xlabel(\"迭代次数\", font_properties=my_font)\n",
    "plt.ylabel(\"学习率\", font_properties=my_font)\n",
    "plt.title(\"分段恒定调度\", font_properties=my_font)\n",
    "plt.grid(True)\n",
    "plt.show()"
   ]
  },
  {
   "cell_type": "markdown",
   "metadata": {},
   "source": [
    "### 性能调度  Performance Scheduling"
   ]
  },
  {
   "cell_type": "markdown",
   "metadata": {},
   "source": [
    "每N步检测一次验证误差,并且当误差停止下降时,将学习率降低$\\lambda$倍."
   ]
  },
  {
   "cell_type": "code",
   "execution_count": 96,
   "metadata": {},
   "outputs": [],
   "source": [
    "model = keras.models.Sequential([\n",
    "    keras.layers.Flatten(input_shape=[28,28]),\n",
    "    keras.layers.Dense(300, activation=keras.activations.selu,\n",
    "                       kernel_initializer = keras.initializers.lecun_normal),\n",
    "    keras.layers.Dense(100, activation=keras.activations.selu,\n",
    "                       kernel_initializer = keras.initializers.lecun_normal),  \n",
    "    keras.layers.Dense(10, activation=keras.activations.softmax)\n",
    "])"
   ]
  },
  {
   "cell_type": "code",
   "execution_count": 97,
   "metadata": {},
   "outputs": [],
   "source": [
    "optimize = keras.optimizers.SGD(learning_rate=2e-2, momentum=0.9)\n",
    "model.compile(loss=keras.losses.sparse_categorical_crossentropy,\n",
    "              optimizer=optimize,\n",
    "              metrics=[keras.metrics.sparse_categorical_accuracy])"
   ]
  },
  {
   "cell_type": "markdown",
   "metadata": {},
   "source": [
    "性能调度使用`ReduceLROnPlateau()`回调函数. \n",
    "\n",
    "例:每当连续五个轮次的最好验证损失都没有改善时，将使学习率乘以0.5."
   ]
  },
  {
   "cell_type": "code",
   "execution_count": 98,
   "metadata": {
    "collapsed": true
   },
   "outputs": [
    {
     "name": "stdout",
     "output_type": "stream",
     "text": [
      "Epoch 1/25\n",
      "1719/1719 [==============================] - 4s 2ms/step - loss: 0.6066 - sparse_categorical_accuracy: 0.8043 - val_loss: 0.4312 - val_sparse_categorical_accuracy: 0.8554\n",
      "Epoch 2/25\n",
      "1719/1719 [==============================] - 3s 2ms/step - loss: 0.4921 - sparse_categorical_accuracy: 0.8390 - val_loss: 0.5610 - val_sparse_categorical_accuracy: 0.8384\n",
      "Epoch 3/25\n",
      "1719/1719 [==============================] - 3s 2ms/step - loss: 0.5068 - sparse_categorical_accuracy: 0.8429 - val_loss: 0.5433 - val_sparse_categorical_accuracy: 0.8518\n",
      "Epoch 4/25\n",
      "1719/1719 [==============================] - 3s 2ms/step - loss: 0.5115 - sparse_categorical_accuracy: 0.8459 - val_loss: 0.5185 - val_sparse_categorical_accuracy: 0.8540\n",
      "Epoch 5/25\n",
      "1719/1719 [==============================] - 3s 2ms/step - loss: 0.5303 - sparse_categorical_accuracy: 0.8481 - val_loss: 0.5311 - val_sparse_categorical_accuracy: 0.8372\n",
      "Epoch 6/25\n",
      "1719/1719 [==============================] - 3s 2ms/step - loss: 0.5030 - sparse_categorical_accuracy: 0.8567 - val_loss: 0.6248 - val_sparse_categorical_accuracy: 0.8472\n",
      "Epoch 7/25\n",
      "1719/1719 [==============================] - 3s 2ms/step - loss: 0.3019 - sparse_categorical_accuracy: 0.8925 - val_loss: 0.3976 - val_sparse_categorical_accuracy: 0.8718\n",
      "Epoch 8/25\n",
      "1719/1719 [==============================] - 3s 2ms/step - loss: 0.2575 - sparse_categorical_accuracy: 0.9060 - val_loss: 0.3900 - val_sparse_categorical_accuracy: 0.8726\n",
      "Epoch 9/25\n",
      "1719/1719 [==============================] - 3s 2ms/step - loss: 0.2334 - sparse_categorical_accuracy: 0.9136 - val_loss: 0.3809 - val_sparse_categorical_accuracy: 0.8886\n",
      "Epoch 10/25\n",
      "1719/1719 [==============================] - 4s 2ms/step - loss: 0.2188 - sparse_categorical_accuracy: 0.9191 - val_loss: 0.4131 - val_sparse_categorical_accuracy: 0.8852\n",
      "Epoch 11/25\n",
      "1719/1719 [==============================] - 4s 2ms/step - loss: 0.2033 - sparse_categorical_accuracy: 0.9243 - val_loss: 0.3986 - val_sparse_categorical_accuracy: 0.8868\n",
      "Epoch 12/25\n",
      "1719/1719 [==============================] - 4s 2ms/step - loss: 0.1950 - sparse_categorical_accuracy: 0.9264 - val_loss: 0.4656 - val_sparse_categorical_accuracy: 0.8754\n",
      "Epoch 13/25\n",
      "1719/1719 [==============================] - 3s 2ms/step - loss: 0.1861 - sparse_categorical_accuracy: 0.9305 - val_loss: 0.4460 - val_sparse_categorical_accuracy: 0.8886\n",
      "Epoch 14/25\n",
      "1719/1719 [==============================] - 4s 2ms/step - loss: 0.1744 - sparse_categorical_accuracy: 0.9346 - val_loss: 0.4526 - val_sparse_categorical_accuracy: 0.8846\n",
      "Epoch 15/25\n",
      "1719/1719 [==============================] - 3s 2ms/step - loss: 0.1188 - sparse_categorical_accuracy: 0.9536 - val_loss: 0.4071 - val_sparse_categorical_accuracy: 0.8930\n",
      "Epoch 16/25\n",
      "1719/1719 [==============================] - 3s 2ms/step - loss: 0.1019 - sparse_categorical_accuracy: 0.9606 - val_loss: 0.4218 - val_sparse_categorical_accuracy: 0.8972\n",
      "Epoch 17/25\n",
      "1719/1719 [==============================] - 3s 2ms/step - loss: 0.0940 - sparse_categorical_accuracy: 0.9646 - val_loss: 0.4422 - val_sparse_categorical_accuracy: 0.8944\n",
      "Epoch 18/25\n",
      "1719/1719 [==============================] - 3s 2ms/step - loss: 0.0865 - sparse_categorical_accuracy: 0.9660 - val_loss: 0.4558 - val_sparse_categorical_accuracy: 0.8940\n",
      "Epoch 19/25\n",
      "1719/1719 [==============================] - 3s 2ms/step - loss: 0.0824 - sparse_categorical_accuracy: 0.9681 - val_loss: 0.4702 - val_sparse_categorical_accuracy: 0.8966\n",
      "Epoch 20/25\n",
      "1719/1719 [==============================] - 3s 2ms/step - loss: 0.0621 - sparse_categorical_accuracy: 0.9770 - val_loss: 0.4539 - val_sparse_categorical_accuracy: 0.8986\n",
      "Epoch 21/25\n",
      "1719/1719 [==============================] - 3s 2ms/step - loss: 0.0558 - sparse_categorical_accuracy: 0.9802 - val_loss: 0.4725 - val_sparse_categorical_accuracy: 0.8976\n",
      "Epoch 22/25\n",
      "1719/1719 [==============================] - 3s 2ms/step - loss: 0.0526 - sparse_categorical_accuracy: 0.9811 - val_loss: 0.4941 - val_sparse_categorical_accuracy: 0.8974\n",
      "Epoch 23/25\n",
      "1719/1719 [==============================] - 3s 2ms/step - loss: 0.0497 - sparse_categorical_accuracy: 0.9824 - val_loss: 0.4988 - val_sparse_categorical_accuracy: 0.8982\n",
      "Epoch 24/25\n",
      "1719/1719 [==============================] - 3s 2ms/step - loss: 0.0464 - sparse_categorical_accuracy: 0.9838 - val_loss: 0.5118 - val_sparse_categorical_accuracy: 0.8972\n",
      "Epoch 25/25\n",
      "1719/1719 [==============================] - 4s 2ms/step - loss: 0.0397 - sparse_categorical_accuracy: 0.9873 - val_loss: 0.5151 - val_sparse_categorical_accuracy: 0.8978\n"
     ]
    }
   ],
   "source": [
    "lr_scheduler = keras.callbacks.ReduceLROnPlateau(factor=0.5, patience=5)\n",
    "\n",
    "n_epochs = 25\n",
    "history = model.fit(X_train_scaled, y_train,\n",
    "                    epochs=n_epochs,\n",
    "                    validation_data=(X_val_scaled, y_val),\n",
    "                    callbacks=[lr_scheduler])"
   ]
  },
  {
   "cell_type": "code",
   "execution_count": 99,
   "metadata": {},
   "outputs": [
    {
     "data": {
      "image/png": "[encoded data removed]",
      "text/plain": [
       "<Figure size 432x288 with 2 Axes>"
      ]
     },
     "metadata": {
      "needs_background": "light"
     },
     "output_type": "display_data"
    }
   ],
   "source": [
    "plt.plot(history.epoch, history.history[\"lr\"], \"bo-\")\n",
    "plt.xlabel(\"迭代次数\", font_properties=my_font)\n",
    "plt.ylabel(\"学习率\", font_properties=my_font, color='b')\n",
    "plt.tick_params('y', colors='b')\n",
    "plt.gca().set_xlim(0, n_epochs - 1)\n",
    "plt.grid(True)\n",
    "\n",
    "ax2 = plt.gca().twinx()\n",
    "ax2.plot(history.epoch, history.history[\"val_loss\"], \"r^-\")\n",
    "ax2.set_ylabel('验证损失', color='r', font_properties=my_font)\n",
    "ax2.tick_params('y', colors='r')\n",
    "\n",
    "plt.title(\"性能调度\", font_properties=my_font)\n",
    "plt.show()"
   ]
  },
  {
   "cell_type": "markdown",
   "metadata": {},
   "source": [
    "### tf.keras schedulers"
   ]
  },
  {
   "cell_type": "markdown",
   "metadata": {},
   "source": [
    "使用`keras.optimizers.schedules`中的调度来定义学习率.此方法在**每个步骤更新学习率**,而不是每个轮次."
   ]
  },
  {
   "cell_type": "code",
   "execution_count": 100,
   "metadata": {},
   "outputs": [],
   "source": [
    "model = keras.models.Sequential([\n",
    "    keras.layers.Flatten(input_shape=[28,28]),\n",
    "    keras.layers.Dense(300, activation=keras.activations.selu,\n",
    "                       kernel_initializer = keras.initializers.lecun_normal),\n",
    "    keras.layers.Dense(100, activation=keras.activations.selu,\n",
    "                       kernel_initializer = keras.initializers.lecun_normal),  \n",
    "    keras.layers.Dense(10, activation=keras.activations.softmax)\n",
    "])"
   ]
  },
  {
   "cell_type": "code",
   "execution_count": 101,
   "metadata": {},
   "outputs": [],
   "source": [
    "# batch size = 32\n",
    "n_steps_per_epoch = math.ceil(len(X_train_scaled) / batch_size)  "
   ]
  },
  {
   "cell_type": "markdown",
   "metadata": {},
   "source": [
    "- 等价于 `exponential_scheduling_fn()`"
   ]
  },
  {
   "cell_type": "code",
   "execution_count": 102,
   "metadata": {},
   "outputs": [],
   "source": [
    "s = 20 * n_steps_per_epoch  \n",
    "\n",
    "learning_rate = keras.optimizers.schedules.ExponentialDecay(0.01, s, 0.1)\n",
    "optimizer = keras.optimizers.SGD(learning_rate)"
   ]
  },
  {
   "cell_type": "code",
   "execution_count": 103,
   "metadata": {
    "scrolled": true
   },
   "outputs": [
    {
     "name": "stdout",
     "output_type": "stream",
     "text": [
      "Epoch 1/25\n",
      "1719/1719 [==============================] - 3s 2ms/step - loss: 0.4839 - sparse_categorical_accuracy: 0.8309 - val_loss: 0.4013 - val_sparse_categorical_accuracy: 0.8600\n",
      "Epoch 2/25\n",
      "1719/1719 [==============================] - 3s 2ms/step - loss: 0.3741 - sparse_categorical_accuracy: 0.8658 - val_loss: 0.3677 - val_sparse_categorical_accuracy: 0.8700\n",
      "Epoch 3/25\n",
      "1719/1719 [==============================] - 3s 2ms/step - loss: 0.3378 - sparse_categorical_accuracy: 0.8787 - val_loss: 0.3669 - val_sparse_categorical_accuracy: 0.8746\n",
      "Epoch 4/25\n",
      "1719/1719 [==============================] - 3s 2ms/step - loss: 0.3134 - sparse_categorical_accuracy: 0.8871 - val_loss: 0.3451 - val_sparse_categorical_accuracy: 0.8804\n",
      "Epoch 5/25\n",
      "1719/1719 [==============================] - 3s 2ms/step - loss: 0.2945 - sparse_categorical_accuracy: 0.8935 - val_loss: 0.3319 - val_sparse_categorical_accuracy: 0.8814\n",
      "Epoch 6/25\n",
      "1719/1719 [==============================] - 3s 2ms/step - loss: 0.2783 - sparse_categorical_accuracy: 0.8986 - val_loss: 0.3427 - val_sparse_categorical_accuracy: 0.8816\n",
      "Epoch 7/25\n",
      "1719/1719 [==============================] - 3s 2ms/step - loss: 0.2652 - sparse_categorical_accuracy: 0.9033 - val_loss: 0.3363 - val_sparse_categorical_accuracy: 0.8818\n",
      "Epoch 8/25\n",
      "1719/1719 [==============================] - 3s 2ms/step - loss: 0.2518 - sparse_categorical_accuracy: 0.9085 - val_loss: 0.3255 - val_sparse_categorical_accuracy: 0.8858\n",
      "Epoch 9/25\n",
      "1719/1719 [==============================] - 3s 2ms/step - loss: 0.2415 - sparse_categorical_accuracy: 0.9123 - val_loss: 0.3256 - val_sparse_categorical_accuracy: 0.8884\n",
      "Epoch 10/25\n",
      "1719/1719 [==============================] - 3s 2ms/step - loss: 0.2303 - sparse_categorical_accuracy: 0.9156 - val_loss: 0.3210 - val_sparse_categorical_accuracy: 0.8876\n",
      "Epoch 11/25\n",
      "1719/1719 [==============================] - 3s 2ms/step - loss: 0.2208 - sparse_categorical_accuracy: 0.9196 - val_loss: 0.3336 - val_sparse_categorical_accuracy: 0.8850\n",
      "Epoch 12/25\n",
      "1719/1719 [==============================] - 3s 2ms/step - loss: 0.2117 - sparse_categorical_accuracy: 0.9238 - val_loss: 0.3369 - val_sparse_categorical_accuracy: 0.8846\n",
      "Epoch 13/25\n",
      "1719/1719 [==============================] - 3s 2ms/step - loss: 0.2045 - sparse_categorical_accuracy: 0.9253 - val_loss: 0.3290 - val_sparse_categorical_accuracy: 0.8924\n",
      "Epoch 14/25\n",
      "1719/1719 [==============================] - 3s 2ms/step - loss: 0.1959 - sparse_categorical_accuracy: 0.9296 - val_loss: 0.3322 - val_sparse_categorical_accuracy: 0.8912\n",
      "Epoch 15/25\n",
      "1719/1719 [==============================] - 3s 2ms/step - loss: 0.1894 - sparse_categorical_accuracy: 0.9318 - val_loss: 0.3372 - val_sparse_categorical_accuracy: 0.8880\n",
      "Epoch 16/25\n",
      "1719/1719 [==============================] - 3s 2ms/step - loss: 0.1808 - sparse_categorical_accuracy: 0.9359 - val_loss: 0.3446 - val_sparse_categorical_accuracy: 0.8880\n",
      "Epoch 17/25\n",
      "1719/1719 [==============================] - 3s 2ms/step - loss: 0.1747 - sparse_categorical_accuracy: 0.9368 - val_loss: 0.3458 - val_sparse_categorical_accuracy: 0.8898\n",
      "Epoch 18/25\n",
      "1719/1719 [==============================] - 3s 2ms/step - loss: 0.1676 - sparse_categorical_accuracy: 0.9400 - val_loss: 0.3470 - val_sparse_categorical_accuracy: 0.8866\n",
      "Epoch 19/25\n",
      "1719/1719 [==============================] - 3s 2ms/step - loss: 0.1614 - sparse_categorical_accuracy: 0.9419 - val_loss: 0.3438 - val_sparse_categorical_accuracy: 0.8912\n",
      "Epoch 20/25\n",
      "1719/1719 [==============================] - 4s 2ms/step - loss: 0.1541 - sparse_categorical_accuracy: 0.9455 - val_loss: 0.3520 - val_sparse_categorical_accuracy: 0.8904\n",
      "Epoch 21/25\n",
      "1719/1719 [==============================] - 4s 2ms/step - loss: 0.1490 - sparse_categorical_accuracy: 0.9473 - val_loss: 0.3700 - val_sparse_categorical_accuracy: 0.8910\n",
      "Epoch 22/25\n",
      "1719/1719 [==============================] - 4s 2ms/step - loss: 0.1446 - sparse_categorical_accuracy: 0.9474 - val_loss: 0.3609 - val_sparse_categorical_accuracy: 0.8902\n",
      "Epoch 23/25\n",
      "1719/1719 [==============================] - 4s 2ms/step - loss: 0.1374 - sparse_categorical_accuracy: 0.9511 - val_loss: 0.3701 - val_sparse_categorical_accuracy: 0.8906\n",
      "Epoch 24/25\n",
      "1719/1719 [==============================] - 4s 2ms/step - loss: 0.1317 - sparse_categorical_accuracy: 0.9533 - val_loss: 0.3701 - val_sparse_categorical_accuracy: 0.8954\n",
      "Epoch 25/25\n",
      "1719/1719 [==============================] - 4s 2ms/step - loss: 0.1274 - sparse_categorical_accuracy: 0.9549 - val_loss: 0.3665 - val_sparse_categorical_accuracy: 0.8934\n"
     ]
    }
   ],
   "source": [
    "model.compile(loss=keras.losses.sparse_categorical_crossentropy,\n",
    "              optimizer=optimize,\n",
    "              metrics=[keras.metrics.sparse_categorical_accuracy])\n",
    "\n",
    "n_epochs = 25\n",
    "history = model.fit(X_train_scaled, y_train,\n",
    "                    epochs=n_epochs,\n",
    "                    validation_data=(X_val_scaled, y_val))"
   ]
  },
  {
   "cell_type": "markdown",
   "metadata": {},
   "source": [
    "- 等价于`piecewise_constant_fn()`"
   ]
  },
  {
   "cell_type": "code",
   "execution_count": 104,
   "metadata": {},
   "outputs": [],
   "source": [
    "learning_rate = keras.optimizers.schedules.PiecewiseConstantDecay(\n",
    "    boundaries=[5. * n_steps_per_epoch, 15. * n_steps_per_epoch],  # 每个步骤 因此是迭代*(每次迭代的步骤数)\n",
    "    values=[0.01, 0.005, 0.001])"
   ]
  },
  {
   "cell_type": "code",
   "execution_count": 105,
   "metadata": {
    "collapsed": true
   },
   "outputs": [
    {
     "name": "stdout",
     "output_type": "stream",
     "text": [
      "Epoch 1/25\n",
      "1719/1719 [==============================] - 4s 2ms/step - loss: 0.1220 - sparse_categorical_accuracy: 0.9566 - val_loss: 0.3773 - val_sparse_categorical_accuracy: 0.8890\n",
      "Epoch 2/25\n",
      "1719/1719 [==============================] - 4s 2ms/step - loss: 0.1188 - sparse_categorical_accuracy: 0.9582 - val_loss: 0.3872 - val_sparse_categorical_accuracy: 0.8942\n",
      "Epoch 3/25\n",
      "1719/1719 [==============================] - 3s 2ms/step - loss: 0.1126 - sparse_categorical_accuracy: 0.9617 - val_loss: 0.3784 - val_sparse_categorical_accuracy: 0.8942\n",
      "Epoch 4/25\n",
      "1719/1719 [==============================] - 3s 2ms/step - loss: 0.1063 - sparse_categorical_accuracy: 0.9631 - val_loss: 0.3874 - val_sparse_categorical_accuracy: 0.8922\n",
      "Epoch 5/25\n",
      "1719/1719 [==============================] - 4s 2ms/step - loss: 0.1039 - sparse_categorical_accuracy: 0.9632 - val_loss: 0.3920 - val_sparse_categorical_accuracy: 0.8938\n",
      "Epoch 6/25\n",
      "1719/1719 [==============================] - 4s 2ms/step - loss: 0.0998 - sparse_categorical_accuracy: 0.9647 - val_loss: 0.4057 - val_sparse_categorical_accuracy: 0.8892\n",
      "Epoch 7/25\n",
      "1719/1719 [==============================] - 4s 2ms/step - loss: 0.0970 - sparse_categorical_accuracy: 0.9669 - val_loss: 0.4114 - val_sparse_categorical_accuracy: 0.8922\n",
      "Epoch 8/25\n",
      "1719/1719 [==============================] - 3s 2ms/step - loss: 0.0906 - sparse_categorical_accuracy: 0.9689 - val_loss: 0.4009 - val_sparse_categorical_accuracy: 0.8906\n",
      "Epoch 9/25\n",
      "1719/1719 [==============================] - 3s 2ms/step - loss: 0.0881 - sparse_categorical_accuracy: 0.9693 - val_loss: 0.4141 - val_sparse_categorical_accuracy: 0.8918\n",
      "Epoch 10/25\n",
      "1719/1719 [==============================] - 4s 2ms/step - loss: 0.0834 - sparse_categorical_accuracy: 0.9718 - val_loss: 0.4176 - val_sparse_categorical_accuracy: 0.8924\n",
      "Epoch 11/25\n",
      "1719/1719 [==============================] - 3s 2ms/step - loss: 0.0820 - sparse_categorical_accuracy: 0.9717 - val_loss: 0.4331 - val_sparse_categorical_accuracy: 0.8916\n",
      "Epoch 12/25\n",
      "1719/1719 [==============================] - 3s 2ms/step - loss: 0.0749 - sparse_categorical_accuracy: 0.9749 - val_loss: 0.4413 - val_sparse_categorical_accuracy: 0.8888\n",
      "Epoch 13/25\n",
      "1719/1719 [==============================] - 4s 2ms/step - loss: 0.0737 - sparse_categorical_accuracy: 0.9754 - val_loss: 0.4272 - val_sparse_categorical_accuracy: 0.8914\n",
      "Epoch 14/25\n",
      "1719/1719 [==============================] - 4s 2ms/step - loss: 0.0692 - sparse_categorical_accuracy: 0.9769 - val_loss: 0.4442 - val_sparse_categorical_accuracy: 0.8928\n",
      "Epoch 15/25\n",
      "1719/1719 [==============================] - 4s 2ms/step - loss: 0.0678 - sparse_categorical_accuracy: 0.9776 - val_loss: 0.4617 - val_sparse_categorical_accuracy: 0.8892\n",
      "Epoch 16/25\n",
      "1719/1719 [==============================] - 4s 2ms/step - loss: 0.0622 - sparse_categorical_accuracy: 0.9803 - val_loss: 0.4576 - val_sparse_categorical_accuracy: 0.8922\n",
      "Epoch 17/25\n",
      "1719/1719 [==============================] - 3s 2ms/step - loss: 0.0609 - sparse_categorical_accuracy: 0.9807 - val_loss: 0.4870 - val_sparse_categorical_accuracy: 0.8878\n",
      "Epoch 18/25\n",
      "1719/1719 [==============================] - 4s 2ms/step - loss: 0.0576 - sparse_categorical_accuracy: 0.9819 - val_loss: 0.4856 - val_sparse_categorical_accuracy: 0.8866\n",
      "Epoch 19/25\n",
      "1719/1719 [==============================] - 4s 2ms/step - loss: 0.0554 - sparse_categorical_accuracy: 0.9817 - val_loss: 0.4701 - val_sparse_categorical_accuracy: 0.8956\n",
      "Epoch 20/25\n",
      "1719/1719 [==============================] - 4s 2ms/step - loss: 0.0520 - sparse_categorical_accuracy: 0.9833 - val_loss: 0.5026 - val_sparse_categorical_accuracy: 0.8902\n",
      "Epoch 21/25\n",
      "1719/1719 [==============================] - 4s 2ms/step - loss: 0.0500 - sparse_categorical_accuracy: 0.9841 - val_loss: 0.5100 - val_sparse_categorical_accuracy: 0.8900\n",
      "Epoch 22/25\n",
      "1719/1719 [==============================] - 4s 2ms/step - loss: 0.0492 - sparse_categorical_accuracy: 0.9846 - val_loss: 0.5064 - val_sparse_categorical_accuracy: 0.8898\n",
      "Epoch 23/25\n",
      "1719/1719 [==============================] - 3s 2ms/step - loss: 0.0492 - sparse_categorical_accuracy: 0.9850 - val_loss: 0.5223 - val_sparse_categorical_accuracy: 0.8920\n",
      "Epoch 24/25\n",
      "1719/1719 [==============================] - 3s 2ms/step - loss: 0.0439 - sparse_categorical_accuracy: 0.9863 - val_loss: 0.5147 - val_sparse_categorical_accuracy: 0.8896\n",
      "Epoch 25/25\n",
      "1719/1719 [==============================] - 4s 2ms/step - loss: 0.0409 - sparse_categorical_accuracy: 0.9875 - val_loss: 0.5123 - val_sparse_categorical_accuracy: 0.8908\n"
     ]
    }
   ],
   "source": [
    "model.compile(loss=keras.losses.sparse_categorical_crossentropy,\n",
    "              optimizer=optimize,\n",
    "              metrics=[keras.metrics.sparse_categorical_accuracy])\n",
    "\n",
    "n_epochs = 25\n",
    "history = model.fit(X_train_scaled, y_train,\n",
    "                    epochs=n_epochs,\n",
    "                    validation_data=(X_val_scaled, y_val))"
   ]
  },
  {
   "cell_type": "markdown",
   "metadata": {},
   "source": [
    "### 1周期调度 1Cycle scheduling"
   ]
  },
  {
   "cell_type": "markdown",
   "metadata": {},
   "source": [
    "`1周期调度`:从提高初始学习率$η_0$开始,在训练中途线性增长至$η_1$。然后,它在训练的后半部分将学习率再次线性降低到$η_0$,通过将学习率降低几个数量级(仍然是线性的)来完成最几个轮次。\n",
    "\n",
    "当使用动量时、我们首先从高动量开始(例如0.95),然后在训练的前半部分将其降低到较低的动量(例如线性降低到0.85),然后在训练的后半 部分将其恢复到最大值(例如0.95),并以该最大值结束最后儿个轮次。"
   ]
  },
  {
   "cell_type": "code",
   "execution_count": 106,
   "metadata": {},
   "outputs": [],
   "source": [
    "K = keras.backend\n",
    "\n",
    "class ExponentialLearningRate(keras.callbacks.Callback):\n",
    "    def __init__(self, factor):\n",
    "        self.factor = factor\n",
    "        self.rates = []\n",
    "        self.losses = []\n",
    "    def on_batch_end(self, batch, logs):\n",
    "        self.rates.append(K.get_value(self.model.optimizer.learning_rate))\n",
    "        self.losses.append(logs[\"loss\"])\n",
    "        K.set_value(self.model.optimizer.learning_rate, self.model.optimizer.learning_rate * self.factor)"
   ]
  },
  {
   "cell_type": "code",
   "execution_count": 107,
   "metadata": {},
   "outputs": [],
   "source": [
    "model = keras.models.Sequential([\n",
    "    keras.layers.Flatten(input_shape=[28, 28]),\n",
    "    keras.layers.Dense(300, activation=\"selu\", kernel_initializer=\"lecun_normal\"),\n",
    "    keras.layers.Dense(100, activation=\"selu\", kernel_initializer=\"lecun_normal\"),\n",
    "    keras.layers.Dense(10, activation=\"softmax\")\n",
    "])\n",
    "model.compile(loss=\"sparse_categorical_crossentropy\",\n",
    "              optimizer=keras.optimizers.SGD(learning_rate=1e-3),\n",
    "              metrics=[\"accuracy\"])"
   ]
  },
  {
   "cell_type": "code",
   "execution_count": 108,
   "metadata": {},
   "outputs": [],
   "source": [
    "def find_learning_rate(model, X, y, epochs=1, batch_size=32, min_rate=10**-5, max_rate=10):\n",
    "    init_weights = model.get_weights()\n",
    "    iterations = math.ceil(len(X) / batch_size) * epochs\n",
    "    factor = np.exp(np.log(max_rate / min_rate) / iterations)\n",
    "    init_lr = K.get_value(model.optimizer.learning_rate)\n",
    "    K.set_value(model.optimizer.learning_rate, min_rate)\n",
    "    exp_lr = ExponentialLearningRate(factor)\n",
    "    history = model.fit(X, y, epochs=epochs, batch_size=batch_size,\n",
    "                        callbacks=[exp_lr])\n",
    "    K.set_value(model.optimizer.learning_rate, init_lr)\n",
    "    model.set_weights(init_weights)\n",
    "    return exp_lr.rates, exp_lr.losses"
   ]
  },
  {
   "cell_type": "code",
   "execution_count": 109,
   "metadata": {},
   "outputs": [
    {
     "name": "stdout",
     "output_type": "stream",
     "text": [
      "430/430 [==============================] - 1s 2ms/step - loss: nan - accuracy: 0.3794\n"
     ]
    }
   ],
   "source": [
    "batch_size = 128\n",
    "rates, losses = find_learning_rate(model, X_train_scaled, y_train, epochs=1, batch_size=batch_size)"
   ]
  },
  {
   "cell_type": "code",
   "execution_count": 110,
   "metadata": {},
   "outputs": [],
   "source": [
    "def plot_lr_vs_loss(rates, losses):\n",
    "    plt.plot(rates, losses)\n",
    "    plt.gca().set_xscale('log')\n",
    "    plt.hlines(min(losses), min(rates), max(rates))\n",
    "    plt.axis([min(rates), max(rates), min(losses), (losses[0] + min(losses)) / 2])\n",
    "    plt.xlabel(\"Learning rate\")\n",
    "    plt.ylabel(\"Loss\")"
   ]
  },
  {
   "cell_type": "code",
   "execution_count": 111,
   "metadata": {},
   "outputs": [
    {
     "data": {
      "image/png": "[encoded data removed]",
      "text/plain": [
       "<Figure size 432x288 with 1 Axes>"
      ]
     },
     "metadata": {
      "needs_background": "light"
     },
     "output_type": "display_data"
    }
   ],
   "source": [
    "plot_lr_vs_loss(rates, losses)"
   ]
  },
  {
   "cell_type": "code",
   "execution_count": 112,
   "metadata": {},
   "outputs": [],
   "source": [
    "class OneCycleScheduler(keras.callbacks.Callback):\n",
    "    def __init__(self, iterations, max_rate, start_rate=None,\n",
    "                 last_iterations=None, last_rate=None):\n",
    "        self.iterations = iterations\n",
    "        self.max_rate = max_rate\n",
    "        self.start_rate = start_rate or max_rate / 10\n",
    "        self.last_iterations = last_iterations or iterations // 10 + 1\n",
    "        self.half_iteration = (iterations - self.last_iterations) // 2\n",
    "        self.last_rate = last_rate or self.start_rate / 1000\n",
    "        self.iteration = 0\n",
    "    def _interpolate(self, iter1, iter2, rate1, rate2):\n",
    "        return ((rate2 - rate1) * (self.iteration - iter1)\n",
    "                / (iter2 - iter1) + rate1)\n",
    "    def on_batch_begin(self, batch, logs):\n",
    "        if self.iteration < self.half_iteration:\n",
    "            rate = self._interpolate(0, self.half_iteration, self.start_rate, self.max_rate)\n",
    "        elif self.iteration < 2 * self.half_iteration:\n",
    "            rate = self._interpolate(self.half_iteration, 2 * self.half_iteration,\n",
    "                                     self.max_rate, self.start_rate)\n",
    "        else:\n",
    "            rate = self._interpolate(2 * self.half_iteration, self.iterations,\n",
    "                                     self.start_rate, self.last_rate)\n",
    "        self.iteration += 1\n",
    "        K.set_value(self.model.optimizer.learning_rate, rate)"
   ]
  },
  {
   "cell_type": "code",
   "execution_count": 113,
   "metadata": {},
   "outputs": [
    {
     "name": "stdout",
     "output_type": "stream",
     "text": [
      "Epoch 1/25\n",
      "430/430 [==============================] - 1s 3ms/step - loss: 0.6634 - accuracy: 0.7697 - val_loss: 0.4824 - val_accuracy: 0.8350\n",
      "Epoch 2/25\n",
      "430/430 [==============================] - 1s 2ms/step - loss: 0.4582 - accuracy: 0.8397 - val_loss: 0.4270 - val_accuracy: 0.8532\n",
      "Epoch 3/25\n",
      "430/430 [==============================] - 1s 2ms/step - loss: 0.4124 - accuracy: 0.8554 - val_loss: 0.4113 - val_accuracy: 0.8580\n",
      "Epoch 4/25\n",
      "430/430 [==============================] - 1s 2ms/step - loss: 0.3830 - accuracy: 0.8652 - val_loss: 0.3859 - val_accuracy: 0.8628\n",
      "Epoch 5/25\n",
      "430/430 [==============================] - 1s 2ms/step - loss: 0.3621 - accuracy: 0.8721 - val_loss: 0.3718 - val_accuracy: 0.8686\n",
      "Epoch 6/25\n",
      "430/430 [==============================] - 1s 2ms/step - loss: 0.3433 - accuracy: 0.8772 - val_loss: 0.3690 - val_accuracy: 0.8716\n",
      "Epoch 7/25\n",
      "430/430 [==============================] - 1s 2ms/step - loss: 0.3296 - accuracy: 0.8818 - val_loss: 0.3600 - val_accuracy: 0.8722\n",
      "Epoch 8/25\n",
      "430/430 [==============================] - 1s 2ms/step - loss: 0.3146 - accuracy: 0.8863 - val_loss: 0.3884 - val_accuracy: 0.8598\n",
      "Epoch 9/25\n",
      "430/430 [==============================] - 1s 2ms/step - loss: 0.3025 - accuracy: 0.8906 - val_loss: 0.3490 - val_accuracy: 0.8746\n",
      "Epoch 10/25\n",
      "430/430 [==============================] - 1s 2ms/step - loss: 0.2908 - accuracy: 0.8931 - val_loss: 0.3411 - val_accuracy: 0.8814\n",
      "Epoch 11/25\n",
      "430/430 [==============================] - 1s 2ms/step - loss: 0.2802 - accuracy: 0.8973 - val_loss: 0.3502 - val_accuracy: 0.8756\n",
      "Epoch 12/25\n",
      "430/430 [==============================] - 1s 2ms/step - loss: 0.2677 - accuracy: 0.9018 - val_loss: 0.3735 - val_accuracy: 0.8684\n",
      "Epoch 13/25\n",
      "430/430 [==============================] - 1s 2ms/step - loss: 0.2521 - accuracy: 0.9078 - val_loss: 0.3333 - val_accuracy: 0.8824\n",
      "Epoch 14/25\n",
      "430/430 [==============================] - 1s 2ms/step - loss: 0.2387 - accuracy: 0.9135 - val_loss: 0.3434 - val_accuracy: 0.8812\n",
      "Epoch 15/25\n",
      "430/430 [==============================] - 1s 2ms/step - loss: 0.2269 - accuracy: 0.9187 - val_loss: 0.3266 - val_accuracy: 0.8818\n",
      "Epoch 16/25\n",
      "430/430 [==============================] - 1s 2ms/step - loss: 0.2158 - accuracy: 0.9230 - val_loss: 0.3255 - val_accuracy: 0.8808\n",
      "Epoch 17/25\n",
      "430/430 [==============================] - 1s 2ms/step - loss: 0.2062 - accuracy: 0.9258 - val_loss: 0.3362 - val_accuracy: 0.8834\n",
      "Epoch 18/25\n",
      "430/430 [==============================] - 1s 2ms/step - loss: 0.1982 - accuracy: 0.9293 - val_loss: 0.3211 - val_accuracy: 0.8908\n",
      "Epoch 19/25\n",
      "430/430 [==============================] - 1s 2ms/step - loss: 0.1901 - accuracy: 0.9339 - val_loss: 0.3218 - val_accuracy: 0.8854\n",
      "Epoch 20/25\n",
      "430/430 [==============================] - 1s 2ms/step - loss: 0.1833 - accuracy: 0.9362 - val_loss: 0.3192 - val_accuracy: 0.8882\n",
      "Epoch 21/25\n",
      "430/430 [==============================] - 1s 2ms/step - loss: 0.1768 - accuracy: 0.9392 - val_loss: 0.3183 - val_accuracy: 0.8888\n",
      "Epoch 22/25\n",
      "430/430 [==============================] - 1s 2ms/step - loss: 0.1718 - accuracy: 0.9413 - val_loss: 0.3161 - val_accuracy: 0.8918\n",
      "Epoch 23/25\n",
      "430/430 [==============================] - 1s 2ms/step - loss: 0.1674 - accuracy: 0.9436 - val_loss: 0.3166 - val_accuracy: 0.8892\n",
      "Epoch 24/25\n",
      "430/430 [==============================] - 1s 2ms/step - loss: 0.1647 - accuracy: 0.9446 - val_loss: 0.3161 - val_accuracy: 0.8886\n",
      "Epoch 25/25\n",
      "430/430 [==============================] - 1s 2ms/step - loss: 0.1630 - accuracy: 0.9457 - val_loss: 0.3153 - val_accuracy: 0.8894\n"
     ]
    }
   ],
   "source": [
    "n_epochs = 25\n",
    "onecycle = OneCycleScheduler(math.ceil(len(X_train) / batch_size) * n_epochs, max_rate=0.05)\n",
    "history = model.fit(X_train_scaled, y_train, epochs=n_epochs, batch_size=batch_size,\n",
    "                    validation_data=(X_val_scaled, y_val),\n",
    "                    callbacks=[onecycle])"
   ]
  },
  {
   "cell_type": "markdown",
   "metadata": {},
   "source": [
    "## L1 和 L2 正则化 L1 and L2 regularizatio"
   ]
  },
  {
   "cell_type": "markdown",
   "metadata": {},
   "source": [
    "- 将 $\\ell_2$ 正则化应用于Keras层的连接权重 "
   ]
  },
  {
   "cell_type": "code",
   "execution_count": 114,
   "metadata": {},
   "outputs": [],
   "source": [
    "layer = keras.layers.Dense(100, activation=keras.activations.elu,\n",
    "                           kernel_initializer=keras.initializers.he_normal,\n",
    "                           kernel_regularizer=keras.regularizers.l1(0.01))\n",
    "# kernel_regularizer=keras.regularizers.l1_l2(0.1, 0.01) 将同时使用l1,l2正则化"
   ]
  },
  {
   "cell_type": "markdown",
   "metadata": {},
   "source": [
    "- 使用相同的正则化函数应用于网络中的所有层, 为了避免重复代码,可以使用`partial`包装函数"
   ]
  },
  {
   "cell_type": "code",
   "execution_count": 115,
   "metadata": {},
   "outputs": [],
   "source": [
    "from functools import partial\n",
    "\n",
    "RegularizedDense = partial(keras.layers.Dense,\n",
    "                           activation=keras.activations.elu,\n",
    "                           kernel_initializer=keras.initializers.he_normal,\n",
    "                           kernel_regularizer=keras.regularizers.l2(0.01))\n",
    "\n",
    "model = keras.models.Sequential([\n",
    "    keras.layers.Flatten(input_shape=[28,28]),\n",
    "    RegularizedDense(300),\n",
    "    RegularizedDense(100),\n",
    "    RegularizedDense(10, activation=keras.activations.softmax)\n",
    "])"
   ]
  },
  {
   "cell_type": "code",
   "execution_count": 116,
   "metadata": {},
   "outputs": [
    {
     "name": "stdout",
     "output_type": "stream",
     "text": [
      "Epoch 1/2\n",
      "1719/1719 [==============================] - 7s 4ms/step - loss: 1.5814 - sparse_categorical_accuracy: 0.7782 - val_loss: 1.0153 - val_sparse_categorical_accuracy: 0.7680\n",
      "Epoch 2/2\n",
      "1719/1719 [==============================] - 6s 4ms/step - loss: 0.9065 - sparse_categorical_accuracy: 0.7951 - val_loss: 0.8512 - val_sparse_categorical_accuracy: 0.8196\n"
     ]
    }
   ],
   "source": [
    "# 编译模型\n",
    "model.compile(loss=keras.losses.sparse_categorical_crossentropy,\n",
    "              optimizer='nadam',\n",
    "              metrics=[keras.metrics.sparse_categorical_accuracy])\n",
    "\n",
    "# 训练模型\n",
    "history = model.fit(X_train, y_train,\n",
    "                    epochs=2,\n",
    "                    validation_data=(X_val, y_val))"
   ]
  },
  {
   "cell_type": "markdown",
   "metadata": {},
   "source": [
    "## Dropout"
   ]
  },
  {
   "cell_type": "markdown",
   "metadata": {},
   "source": [
    "当训练一个深度神经网络时,我们可以随机丢弃一部分神经元(同时丢弃其对应的连接边)来避免过拟合,这种方法称为`丢弃法`.每次选择丢弃的神经元是随机的.最简单的方法是设置一个固定的概率$p$.对每一个神经元都以概率$p$来判定要不要保留.\n",
    "\n",
    "- 集成学习角度:每做一次丢弃,相当于从原始的网络中采样得到一个子网络.如果一个神经网络有$n$个神经元,那么总共可以采样出$2^n$个子网络.每次迭代都相当于训练一个不同的子网络,这些子网络都共享原始网络的参数.那么,最终的网络可以近似看作集成了指数级个不同网络的组合模型. \n",
    "\n",
    "- 贝叶斯学习角度:丢弃法也可以解释为一种贝叶斯学习的近似"
   ]
  },
  {
   "cell_type": "markdown",
   "metadata": {},
   "source": [
    "实践中,你通常只可能对第一至第三层中的神经元应用`Dropout`.\n",
    "\n",
    "在训练时,激活神经元的平均数量为原来的$p$倍.而在测试时,所有的神经元都是可以激活的,这会造成训练和测试时网络的输出不一致.为了缓解这个问题,在测试时需要将神经层的输入乘以$p$,也相当于把不同的神经网络做了平均."
   ]
  },
  {
   "cell_type": "code",
   "execution_count": 117,
   "metadata": {},
   "outputs": [],
   "source": [
    "model = keras.models.Sequential([\n",
    "    keras.layers.Flatten(input_shape=[28, 28]),\n",
    "    keras.layers.Dropout(rate=0.2),              # 丢弃率0.2\n",
    "    keras.layers.Dense(300, activation=\"elu\", kernel_initializer=\"he_normal\"),\n",
    "    keras.layers.Dropout(rate=0.2),\n",
    "    keras.layers.Dense(100, activation=\"elu\", kernel_initializer=\"he_normal\"),\n",
    "    keras.layers.Dropout(rate=0.2),\n",
    "    keras.layers.Dense(10, activation=\"softmax\")\n",
    "])"
   ]
  },
  {
   "cell_type": "code",
   "execution_count": 118,
   "metadata": {},
   "outputs": [
    {
     "name": "stdout",
     "output_type": "stream",
     "text": [
      "Epoch 1/2\n",
      "1719/1719 [==============================] - 8s 4ms/step - loss: 0.5742 - accuracy: 0.8037 - val_loss: 0.3745 - val_accuracy: 0.8600\n",
      "Epoch 2/2\n",
      "1719/1719 [==============================] - 7s 4ms/step - loss: 0.4230 - accuracy: 0.8467 - val_loss: 0.3485 - val_accuracy: 0.8716\n"
     ]
    }
   ],
   "source": [
    "model.compile(loss=\"sparse_categorical_crossentropy\", optimizer=\"nadam\", metrics=[\"accuracy\"])\n",
    "n_epochs = 2\n",
    "history = model.fit(X_train_scaled, y_train, epochs=n_epochs,\n",
    "                    validation_data=(X_val_scaled, y_val))"
   ]
  },
  {
   "cell_type": "markdown",
   "metadata": {},
   "source": [
    "当发现模型过拟合,则可以提高`Dropout`率,相反模型欠拟合,则尝试降低`Dropout`率."
   ]
  },
  {
   "cell_type": "markdown",
   "metadata": {},
   "source": [
    "## Alpha Dropout"
   ]
  },
  {
   "cell_type": "markdown",
   "metadata": {},
   "source": [
    "如果要基于`SELU`对归一化网络进行正则化,则应使用`Alpha Dropout`:保留其输入均值和标准差."
   ]
  },
  {
   "cell_type": "code",
   "execution_count": 119,
   "metadata": {},
   "outputs": [],
   "source": [
    "model = keras.models.Sequential([\n",
    "    keras.layers.Flatten(input_shape=[28, 28]),\n",
    "    keras.layers.AlphaDropout(rate=0.2),\n",
    "    keras.layers.Dense(300, activation=\"selu\", kernel_initializer=\"lecun_normal\"),\n",
    "    keras.layers.AlphaDropout(rate=0.2),\n",
    "    keras.layers.Dense(100, activation=\"selu\", kernel_initializer=\"lecun_normal\"),\n",
    "    keras.layers.AlphaDropout(rate=0.2),\n",
    "    keras.layers.Dense(10, activation=\"softmax\")\n",
    "])"
   ]
  },
  {
   "cell_type": "code",
   "execution_count": 120,
   "metadata": {},
   "outputs": [
    {
     "name": "stdout",
     "output_type": "stream",
     "text": [
      "Epoch 1/20\n",
      "1719/1719 [==============================] - 4s 2ms/step - loss: 0.6662 - accuracy: 0.7584 - val_loss: 0.5735 - val_accuracy: 0.8440\n",
      "Epoch 2/20\n",
      "1719/1719 [==============================] - 4s 2ms/step - loss: 0.5535 - accuracy: 0.7956 - val_loss: 0.5484 - val_accuracy: 0.8484\n",
      "Epoch 3/20\n",
      "1719/1719 [==============================] - 4s 2ms/step - loss: 0.5242 - accuracy: 0.8062 - val_loss: 0.4875 - val_accuracy: 0.8608\n",
      "Epoch 4/20\n",
      "1719/1719 [==============================] - 4s 2ms/step - loss: 0.5081 - accuracy: 0.8128 - val_loss: 0.4754 - val_accuracy: 0.8648\n",
      "Epoch 5/20\n",
      "1719/1719 [==============================] - 4s 2ms/step - loss: 0.4913 - accuracy: 0.8164 - val_loss: 0.4593 - val_accuracy: 0.8602\n",
      "Epoch 6/20\n",
      "1719/1719 [==============================] - 4s 2ms/step - loss: 0.4823 - accuracy: 0.8235 - val_loss: 0.4725 - val_accuracy: 0.8628\n",
      "Epoch 7/20\n",
      "1719/1719 [==============================] - 4s 2ms/step - loss: 0.4732 - accuracy: 0.8249 - val_loss: 0.4760 - val_accuracy: 0.8638\n",
      "Epoch 8/20\n",
      "1719/1719 [==============================] - 4s 2ms/step - loss: 0.4632 - accuracy: 0.8280 - val_loss: 0.4443 - val_accuracy: 0.8680\n",
      "Epoch 9/20\n",
      "1719/1719 [==============================] - 4s 2ms/step - loss: 0.4628 - accuracy: 0.8274 - val_loss: 0.4349 - val_accuracy: 0.8702\n",
      "Epoch 10/20\n",
      "1719/1719 [==============================] - 4s 2ms/step - loss: 0.4530 - accuracy: 0.8313 - val_loss: 0.4723 - val_accuracy: 0.8614\n",
      "Epoch 11/20\n",
      "1719/1719 [==============================] - 4s 2ms/step - loss: 0.4489 - accuracy: 0.8325 - val_loss: 0.4251 - val_accuracy: 0.8708\n",
      "Epoch 12/20\n",
      "1719/1719 [==============================] - 4s 2ms/step - loss: 0.4409 - accuracy: 0.8361 - val_loss: 0.5200 - val_accuracy: 0.8532\n",
      "Epoch 13/20\n",
      "1719/1719 [==============================] - 4s 2ms/step - loss: 0.4397 - accuracy: 0.8353 - val_loss: 0.4397 - val_accuracy: 0.8760\n",
      "Epoch 14/20\n",
      "1719/1719 [==============================] - 4s 2ms/step - loss: 0.4350 - accuracy: 0.8390 - val_loss: 0.4318 - val_accuracy: 0.8682\n",
      "Epoch 15/20\n",
      "1719/1719 [==============================] - 4s 2ms/step - loss: 0.4320 - accuracy: 0.8399 - val_loss: 0.4136 - val_accuracy: 0.8690\n",
      "Epoch 16/20\n",
      "1719/1719 [==============================] - 4s 2ms/step - loss: 0.4324 - accuracy: 0.8398 - val_loss: 0.4383 - val_accuracy: 0.8704\n",
      "Epoch 17/20\n",
      "1719/1719 [==============================] - 4s 2ms/step - loss: 0.4267 - accuracy: 0.8417 - val_loss: 0.5412 - val_accuracy: 0.8580\n",
      "Epoch 18/20\n",
      "1719/1719 [==============================] - 4s 2ms/step - loss: 0.4299 - accuracy: 0.8401 - val_loss: 0.4513 - val_accuracy: 0.8760\n",
      "Epoch 19/20\n",
      "1719/1719 [==============================] - 4s 2ms/step - loss: 0.4238 - accuracy: 0.8433 - val_loss: 0.4487 - val_accuracy: 0.8724\n",
      "Epoch 20/20\n",
      "1719/1719 [==============================] - 4s 2ms/step - loss: 0.4187 - accuracy: 0.8458 - val_loss: 0.4133 - val_accuracy: 0.8768\n"
     ]
    }
   ],
   "source": [
    "optimizer = keras.optimizers.SGD(learning_rate=0.01, momentum=0.9, nesterov=True)\n",
    "model.compile(loss=\"sparse_categorical_crossentropy\", optimizer=optimizer, metrics=[\"accuracy\"])\n",
    "n_epochs = 20\n",
    "history = model.fit(X_train_scaled, y_train, epochs=n_epochs,\n",
    "                    validation_data=(X_val_scaled, y_val))"
   ]
  },
  {
   "cell_type": "markdown",
   "metadata": {},
   "source": [
    "## MC Dropout"
   ]
  },
  {
   "cell_type": "markdown",
   "metadata": {},
   "source": [
    "等待补充!"
   ]
  },
  {
   "cell_type": "markdown",
   "metadata": {},
   "source": [
    "## 最大范数正则化 Max norm"
   ]
  },
  {
   "cell_type": "code",
   "execution_count": 121,
   "metadata": {},
   "outputs": [],
   "source": [
    "layer = keras.layers.Dense(100, activation=\"selu\", kernel_initializer=\"lecun_normal\",\n",
    "                           kernel_constraint=keras.constraints.max_norm(1.))    # r=1 限制最大值约束"
   ]
  },
  {
   "cell_type": "code",
   "execution_count": 122,
   "metadata": {},
   "outputs": [],
   "source": [
    "MaxNormDense = partial(keras.layers.Dense,\n",
    "                       activation=\"selu\", kernel_initializer=\"lecun_normal\",\n",
    "                       kernel_constraint=keras.constraints.max_norm(1.))\n",
    "\n",
    "model = keras.models.Sequential([\n",
    "    keras.layers.Flatten(input_shape=[28, 28]),\n",
    "    MaxNormDense(300),\n",
    "    MaxNormDense(100),\n",
    "    keras.layers.Dense(10, activation=\"softmax\")\n",
    "])"
   ]
  },
  {
   "cell_type": "code",
   "execution_count": 123,
   "metadata": {},
   "outputs": [
    {
     "name": "stdout",
     "output_type": "stream",
     "text": [
      "Epoch 1/2\n",
      "1719/1719 [==============================] - 8s 4ms/step - loss: 0.4766 - accuracy: 0.8341 - val_loss: 0.3802 - val_accuracy: 0.8636\n",
      "Epoch 2/2\n",
      "1719/1719 [==============================] - 7s 4ms/step - loss: 0.3532 - accuracy: 0.8721 - val_loss: 0.3728 - val_accuracy: 0.8664\n"
     ]
    }
   ],
   "source": [
    "model.compile(loss=\"sparse_categorical_crossentropy\", optimizer=\"nadam\", metrics=[\"accuracy\"])\n",
    "n_epochs = 2\n",
    "history = model.fit(X_train_scaled, y_train, epochs=n_epochs,\n",
    "                    validation_data=(X_val_scaled, y_val))"
   ]
  },
  {
   "cell_type": "markdown",
   "metadata": {},
   "source": [
    "# 总结和使用指南"
   ]
  },
  {
   "cell_type": "markdown",
   "metadata": {},
   "source": [
    "- 默认DNN配置"
   ]
  },
  {
   "cell_type": "markdown",
   "metadata": {},
   "source": [
    "|  超参数   | 默认值  | \n",
    "|  :----  | :----  |\n",
    "| 内核初始化  | He初始化 |\n",
    "| 激活函数  | ELU |\n",
    "| 归一化  | 浅层网络:不需要;深度网络:批量归一化 |\n",
    "| 正则化  | 提前停止(如果需要,可加l2) |\n",
    "| 优化器  | 动量优化(或 Rmsprop或 Nadam) |\n",
    "| 学习率调度  | 1周期 |"
   ]
  },
  {
   "cell_type": "markdown",
   "metadata": {},
   "source": [
    "- 用于自归一化网终的DNN配置\n",
    "\n",
    "|  超参数   | 默认值  | \n",
    "|  :----  | :----  |\n",
    "| 内核初始化  | LeCun初始化 |\n",
    "| 激活函数  | SELU |\n",
    "| 归一化  | 不需要(自规一化) |\n",
    "| 正则化  | 如果需要: Alpha dropout |\n",
    "| 优化器  | 动量优化(或 Rmsprop或 Nadam) |\n",
    "| 学习率调度  | 1周期 |"
   ]
  },
  {
   "cell_type": "markdown",
   "metadata": {},
   "source": [
    "不要忘了归一化输入特征!你如果可以找到解决类似问题的神经回络、那应该尝试`重用`部分神经网络;如果有大量未标记的数据,则应使用`无监督预训练`:如果有相似任务的大量标记的数据,则应该在`辅助任务上使用预训练`。 \n",
    "\n",
    "虽然先前的指南应该能涌盖大多数情况,但以下是一些例外情况:\n",
    "- 如果你需要稀疏模型,则可以使用$ℓ_1$正则化(可以选择在训练后将很小的权重归零)。如果你需要更稀疏的模型,则可以使用 Tensorflow模型优化工具包。这会破 坏自归一化,因此在这种情况下,你应使用默认配置.\n",
    "- 如果你需要低延迟的模型(执行闪电般快速预测的模型),则可能需要使用更少的层,将批量归一化层融合到先前的层中,并使用更快的激活函数,例如 `leaky RELU` 或仅仅使用`ReLU`。拥有稀硫模型也将有所帮助。最后、你可能想把浮点精度从32位降低到16位甚至8位。再一次检査 TFMOT。\n",
    "- 如果你要构建风险敏感的应用,或者推理延迟在你的应用中不是很重要,则可以使用 `MC Dropout` 来提高性能并获得更可靠的概率估计以及不确定性估计。\n"
   ]
  },
  {
   "cell_type": "markdown",
   "metadata": {},
   "source": [
    "> Apotosome 10/07/21"
   ]
  }
 ],
 "metadata": {
  "hide_input": false,
  "kernelspec": {
   "display_name": "Python 3",
   "language": "python",
   "name": "python3"
  },
  "language_info": {
   "codemirror_mode": {
    "name": "ipython",
    "version": 3
   },
   "file_extension": ".py",
   "mimetype": "text/x-python",
   "name": "python",
   "nbconvert_exporter": "python",
   "pygments_lexer": "ipython3",
   "version": "3.7.4"
  },
  "toc": {
   "base_numbering": 1,
   "nav_menu": {},
   "number_sections": true,
   "sideBar": true,
   "skip_h1_title": false,
   "title_cell": "Table of Contents",
   "title_sidebar": "Contents",
   "toc_cell": false,
   "toc_position": {
    "height": "calc(100% - 180px)",
    "left": "10px",
    "top": "150px",
    "width": "230.5px"
   },
   "toc_section_display": true,
   "toc_window_display": true
  }
 },
 "nbformat": 4,
 "nbformat_minor": 2
}
