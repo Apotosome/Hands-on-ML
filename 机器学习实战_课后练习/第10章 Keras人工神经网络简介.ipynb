{
 "cells": [
  {
   "cell_type": "markdown",
   "metadata": {},
   "source": [
    "# 从生物神经元到人工神经元 From Biological to Artificial Neurons"
   ]
  },
  {
   "cell_type": "markdown",
   "metadata": {},
   "source": [
    "## 感知机 The Perceptron"
   ]
  },
  {
   "cell_type": "code",
   "execution_count": 1,
   "metadata": {},
   "outputs": [],
   "source": [
    "import pandas as pd\n",
    "import numpy as np\n",
    "import matplotlib.pyplot as plt"
   ]
  },
  {
   "cell_type": "markdown",
   "metadata": {},
   "source": [
    "感知机是最简单的`ANN`模型，它基于`阈值逻辑单位TLU`或`线性阈值单位LTU`,"
   ]
  },
  {
   "cell_type": "markdown",
   "metadata": {},
   "source": [
    "<img src=\"./images/other/10-1.png\" width=\"300\">"
   ]
  },
  {
   "cell_type": "markdown",
   "metadata": {},
   "source": [
    "感知机最常用的是`Heaviside阶跃函数`,常用符号函数替代.感知机仅由单层`TLU`组成。当一层中所有神经元都连接上一层的每个神经元,这层被称为全连接层。通常会添加一个额外的偏置特征($x_0=1$)，被称为`偏置神经元`."
   ]
  },
  {
   "cell_type": "markdown",
   "metadata": {},
   "source": [
    "<img src=\"./images/other/10-2.png\" width=\"400\">"
   ]
  },
  {
   "cell_type": "markdown",
   "metadata": {},
   "source": [
    "上图所示是具有两个输入神经元、一个偏置神经元和三个输出神经元的感知机架构."
   ]
  },
  {
   "cell_type": "markdown",
   "metadata": {},
   "source": [
    "----\n",
    "**感知机算法：**\n",
    "\n",
    "- 损失函数:\n",
    "$$\n",
    "L(w, b)=-\\sum_{x_{i} \\in M} y_{i}\\left(w \\cdot x_{i}+b\\right)\n",
    "$$\n",
    "- 梯度：\n",
    "$$\n",
    "\\nabla_{w} L(w, b)=-\\sum_{x_{i} \\in M} y_{i} x_{i} ; \\quad \\nabla_{b} L(w, b)=-\\sum_{x_{i} \\in M} y_{i}\n",
    "$$\n",
    "- 参数更新:\n",
    "    - 批量梯度下降法（Batch Gradient Descent）: 每次迭代时使用所有误分类点来进行参数更新。\n",
    "$$\n",
    "w \\leftarrow w+\\eta \\sum_{x_{i} \\in M} y_{i} x_{i} ; \\quad b \\leftarrow b+\\eta \\sum_{x_{i} \\in M} y_{i}\n",
    "$$\n",
    "其中, $\\eta(0<\\eta \\leq 1)$ 代表步长。\n",
    "    - 随机梯度下降法（Stochastic Gradient Descent）: 每次随机选取一个误分类点。 \n",
    "    $$w \\leftarrow w+\\eta y_{i} x_{i} ; \\quad   b \\leftarrow b+\\eta y_{i}\n",
    "$$"
   ]
  },
  {
   "cell_type": "markdown",
   "metadata": {},
   "source": [
    "由于每个输出神经元的决策边界都是线性的,因此感知机无法学习复杂的模式。对于两类问题，如果训练集是线性可分的，那么感知器算法可以在有限次迭代后收敛.然而，如果训练集不是线性可分的，那么这个算法则不能确保会收敛."
   ]
  },
  {
   "cell_type": "markdown",
   "metadata": {},
   "source": [
    "使用单个`TLU`根据花瓣长度和宽度对鸢尾花进行分类"
   ]
  },
  {
   "cell_type": "code",
   "execution_count": 2,
   "metadata": {},
   "outputs": [],
   "source": [
    "from sklearn.datasets import load_iris\n",
    "\n",
    "iris = load_iris()\n",
    "X = iris['data'][:,(2, 3)]              # 花瓣长度和宽度\n",
    "y = (iris['target']==0).astype(np.int)  # 仅分类是不是山鸢尾花"
   ]
  },
  {
   "cell_type": "markdown",
   "metadata": {},
   "source": [
    "- 利用`Scikit-Learn`的`Perceptron()`类实现感知机"
   ]
  },
  {
   "cell_type": "code",
   "execution_count": 3,
   "metadata": {},
   "outputs": [],
   "source": [
    "from sklearn.linear_model import Perceptron"
   ]
  },
  {
   "cell_type": "code",
   "execution_count": 4,
   "metadata": {},
   "outputs": [
    {
     "data": {
      "text/plain": [
       "Perceptron(alpha=0.0001, class_weight=None, early_stopping=False, eta0=1.0,\n",
       "           fit_intercept=True, max_iter=1000, n_iter_no_change=5, n_jobs=None,\n",
       "           penalty=None, random_state=42, shuffle=True, tol=0.001,\n",
       "           validation_fraction=0.1, verbose=0, warm_start=False)"
      ]
     },
     "execution_count": 4,
     "metadata": {},
     "output_type": "execute_result"
    }
   ],
   "source": [
    "per_model = Perceptron(random_state=42)\n",
    "per_model.fit(X, y)"
   ]
  },
  {
   "cell_type": "code",
   "execution_count": 5,
   "metadata": {},
   "outputs": [
    {
     "data": {
      "text/plain": [
       "array([1])"
      ]
     },
     "execution_count": 5,
     "metadata": {},
     "output_type": "execute_result"
    }
   ],
   "source": [
    "y_pred = per_model.predict([[2, 0.5]])\n",
    "y_pred"
   ]
  },
  {
   "cell_type": "markdown",
   "metadata": {},
   "source": [
    "等价于使用以下超参数的随机梯度下降分类器."
   ]
  },
  {
   "cell_type": "code",
   "execution_count": 6,
   "metadata": {},
   "outputs": [
    {
     "data": {
      "text/plain": [
       "array([0])"
      ]
     },
     "execution_count": 6,
     "metadata": {},
     "output_type": "execute_result"
    }
   ],
   "source": [
    "from sklearn.linear_model import SGDClassifier\n",
    "sgd_model = SGDClassifier(loss='perceptron', learning_rate='constant', eta0=1, penalty=None)\n",
    "sgd_model.fit(X, y)\n",
    "sgd_model.predict([[2, 0.5]])"
   ]
  },
  {
   "cell_type": "markdown",
   "metadata": {},
   "source": [
    "## 多层感知机和反向传播 The Multilayer Perceptron and Backpropagation"
   ]
  },
  {
   "cell_type": "markdown",
   "metadata": {},
   "source": [
    "可以通过堆叠多个敢直接来消除感知机的某些局限性,如异或问题。所得的`ANN`被成为`多层感知机MLP`"
   ]
  },
  {
   "cell_type": "markdown",
   "metadata": {},
   "source": [
    "<img src=\"./images/other/10-3.png\" width=\"400\">"
   ]
  },
  {
   "cell_type": "markdown",
   "metadata": {},
   "source": [
    "上图所示是具有两个输入、一个含有四个神经元的隐藏层和三个输出神经元的多层感知机架构."
   ]
  },
  {
   "cell_type": "markdown",
   "metadata": {},
   "source": [
    "当一个`ANN`包含一个深层的隐藏层时，它被称为`深度神经网络DNN`.训练`MLP`的常见算法是反向传播算法,其能够针对每个模型参数计算网络误差的梯度，反向传播使用的自动微分模式是反向模式。"
   ]
  },
  {
   "cell_type": "markdown",
   "metadata": {},
   "source": [
    "对于每个训练实例,反向传播算法首先进行预测(正向传播)并测量误差，然后反向经过每个层来测量来自于每个连接的误差贡献(反向传递),最后调整连接权重以减少错误(梯度下降)。"
   ]
  },
  {
   "cell_type": "markdown",
   "metadata": {},
   "source": [
    "接下来介绍几重常见的激活函数:"
   ]
  },
  {
   "cell_type": "markdown",
   "metadata": {},
   "source": [
    "> 1. Sigmoid 函数\n",
    "$$\n",
    " σ(x) = \\frac{1}{1+e^{-x}}\n",
    "$$\n",
    "2. Tanh 函数\n",
    "$$\n",
    " tanh(x) = \\frac{e^{x}-e^{-x}}{e^{x}-e^{-x}}=2σ(2x)-1\n",
    "$$"
   ]
  },
  {
   "cell_type": "markdown",
   "metadata": {},
   "source": [
    "<img src=\"./images/other/10-4.png\" width=\"300\">"
   ]
  },
  {
   "cell_type": "markdown",
   "metadata": {},
   "source": [
    ">3. ReLU 函数\n",
    "$$\n",
    " ReLu(x) = max(x, 0)\n",
    "$$"
   ]
  },
  {
   "cell_type": "markdown",
   "metadata": {},
   "source": [
    "<img src=\"./images/other/10-5.png\" width=\"300\">"
   ]
  },
  {
   "cell_type": "markdown",
   "metadata": {},
   "source": [
    "具有非线性激活函数的足够大的DNN,理论上可以近似任何连续函数。"
   ]
  },
  {
   "cell_type": "markdown",
   "metadata": {},
   "source": [
    "## 回归MLP Regression MLPs"
   ]
  },
  {
   "cell_type": "markdown",
   "metadata": {},
   "source": [
    "|  超参数   | 典型值  |\n",
    "|  :----  | :----  |\n",
    "| 输入神经元数量  | 每个输入特征一个(例如, MNIST为28×28=784) |\n",
    "| 隐藏层数量  | 取决于问题,但通常为1到5 |\n",
    "| 每个隐藏层的神经元数量  | 取决于问题,但通常为10到100  |\n",
    "| 输出神经元数量  | 每个预测维度输出1个神经元 |\n",
    "| 隐藏的激活 | RcLU(或SELU) |\n",
    "| 输出激活 | 无,或ReLU/ softplus(如果为正输出)或逻辑/tanh(如果为有界输出 |\n",
    "| 损失函数 | MSE或MAE/ Huber(如果存在离群值) |"
   ]
  },
  {
   "cell_type": "markdown",
   "metadata": {},
   "source": [
    "## 分类MLP Classification MLPs"
   ]
  },
  {
   "cell_type": "markdown",
   "metadata": {},
   "source": [
    "|  超参数   | 二进制分类  |  多标签二进制分类   | 多类分类  |\n",
    "|  :----  | :----  |  :----  | :----  |\n",
    "| 输入层和隐藏层  | 与回归相同 |与回归相同 |与回归相同 |\n",
    "| 输出神经元数量  | 1 |每个标签1 | 每个类1|\n",
    "| 输出层激活 | 逻辑 | 逻辑 | Softmax |\n",
    "| 损失函数 | 交叉熵 |交叉熵 |交叉熵 |"
   ]
  },
  {
   "cell_type": "markdown",
   "metadata": {},
   "source": [
    "# 使用Keras实现MLP Implementing MLPs with Keras"
   ]
  },
  {
   "cell_type": "markdown",
   "metadata": {},
   "source": [
    "<img src=\"./images/other/10-6.png\" width=\"400\">"
   ]
  },
  {
   "cell_type": "markdown",
   "metadata": {},
   "source": [
    "Keras API的两种实现方式:`多后端的Keras`和`tf.keras`."
   ]
  },
  {
   "cell_type": "markdown",
   "metadata": {},
   "source": [
    "## 安装 TensorFlow 2 "
   ]
  },
  {
   "cell_type": "code",
   "execution_count": 7,
   "metadata": {},
   "outputs": [],
   "source": [
    "import tensorflow as tf\n",
    "from tensorflow import keras"
   ]
  },
  {
   "cell_type": "code",
   "execution_count": 8,
   "metadata": {},
   "outputs": [
    {
     "data": {
      "text/plain": [
       "'2.5.0'"
      ]
     },
     "execution_count": 8,
     "metadata": {},
     "output_type": "execute_result"
    }
   ],
   "source": [
    "tf.__version__"
   ]
  },
  {
   "cell_type": "code",
   "execution_count": 9,
   "metadata": {},
   "outputs": [
    {
     "data": {
      "text/plain": [
       "'2.5.0'"
      ]
     },
     "execution_count": 9,
     "metadata": {},
     "output_type": "execute_result"
    }
   ],
   "source": [
    "keras.__version__"
   ]
  },
  {
   "cell_type": "markdown",
   "metadata": {},
   "source": [
    "## 使用顺序API构建图像分类器"
   ]
  },
  {
   "cell_type": "markdown",
   "metadata": {},
   "source": [
    "### 使用Keras加载数据集 Using Keras to load the dataset"
   ]
  },
  {
   "cell_type": "markdown",
   "metadata": {},
   "source": [
    "`Fashion MNIST`具有70 000张灰度图像,每张28*28像素,有是个类.与`MNIST`格式相同."
   ]
  },
  {
   "cell_type": "markdown",
   "metadata": {},
   "source": [
    "- 加载数据集"
   ]
  },
  {
   "cell_type": "code",
   "execution_count": 10,
   "metadata": {},
   "outputs": [],
   "source": [
    "fashion_mnist = keras.datasets.fashion_mnist\n",
    "(X_train_full, y_train_full), (X_test, y_test) = fashion_mnist.load_data()"
   ]
  },
  {
   "cell_type": "code",
   "execution_count": 11,
   "metadata": {
    "scrolled": true
   },
   "outputs": [
    {
     "data": {
      "text/plain": [
       "((60000, 28, 28), dtype('uint8'))"
      ]
     },
     "execution_count": 11,
     "metadata": {},
     "output_type": "execute_result"
    }
   ],
   "source": [
    "X_train_full.shape, X_train_full.dtype"
   ]
  },
  {
   "cell_type": "code",
   "execution_count": 12,
   "metadata": {},
   "outputs": [],
   "source": [
    "# 使用sklearn加载MNIST\n",
    "from sklearn.datasets import fetch_openml\n",
    "\n",
    "mnist = fetch_openml('mnist_784', version=1)\n",
    "\n",
    "X_sk = mnist['data'].astype(np.float32)\n",
    "y_sk = mnist['target'].astype(np.uint8)"
   ]
  },
  {
   "cell_type": "code",
   "execution_count": 13,
   "metadata": {},
   "outputs": [
    {
     "data": {
      "text/plain": [
       "((70000, 784), dtype('float32'))"
      ]
     },
     "execution_count": 13,
     "metadata": {},
     "output_type": "execute_result"
    }
   ],
   "source": [
    "X_sk.shape, X_sk.dtype"
   ]
  },
  {
   "cell_type": "markdown",
   "metadata": {},
   "source": [
    "可见，使用Keras加载`MNIST`或`Fashion MNIST`,每张图片不是784的一维矩阵,且像素表示为整数.且数据集已经分好了训练集和测试集."
   ]
  },
  {
   "cell_type": "markdown",
   "metadata": {},
   "source": [
    "- 在训练集上创建验证集。进行特征缩放,将像素降到0~1范围内."
   ]
  },
  {
   "cell_type": "code",
   "execution_count": 14,
   "metadata": {},
   "outputs": [],
   "source": [
    "X_val, X_train = X_train_full[:5000]/255.0, X_train_full[5000:]/255.0\n",
    "y_val, y_train = y_train_full[:5000], y_train_full[5000:]\n",
    "\n",
    "X_test  = X_test / 255.0"
   ]
  },
  {
   "cell_type": "markdown",
   "metadata": {},
   "source": [
    "- 查看单张图片"
   ]
  },
  {
   "cell_type": "code",
   "execution_count": 15,
   "metadata": {},
   "outputs": [
    {
     "data": {
      "image/png": "[encoded data removed]",
      "text/plain": [
       "<Figure size 432x288 with 1 Axes>"
      ]
     },
     "metadata": {
      "needs_background": "light"
     },
     "output_type": "display_data"
    }
   ],
   "source": [
    "plt.imshow(X_train[1], cmap='binary')\n",
    "plt.axis('off')\n",
    "plt.show()"
   ]
  },
  {
   "cell_type": "markdown",
   "metadata": {},
   "source": [
    "- 查看标签"
   ]
  },
  {
   "cell_type": "code",
   "execution_count": 16,
   "metadata": {},
   "outputs": [
    {
     "data": {
      "text/plain": [
       "array([4, 0, 7, ..., 3, 0, 5], dtype=uint8)"
      ]
     },
     "execution_count": 16,
     "metadata": {},
     "output_type": "execute_result"
    }
   ],
   "source": [
    "y_train"
   ]
  },
  {
   "cell_type": "code",
   "execution_count": 17,
   "metadata": {},
   "outputs": [],
   "source": [
    "# 设置类名\n",
    "class_names = [\"T-shirt/top\", \"Trouser\", \"Pullover\", \"Dress\", \"Coat\",\n",
    "               \"Sandal\", \"Shirt\", \"Sneaker\", \"Bag\", \"Ankle boot\"]"
   ]
  },
  {
   "cell_type": "code",
   "execution_count": 18,
   "metadata": {},
   "outputs": [
    {
     "data": {
      "text/plain": [
       "'T-shirt/top'"
      ]
     },
     "execution_count": 18,
     "metadata": {},
     "output_type": "execute_result"
    }
   ],
   "source": [
    "class_names[y_train[1]]    # class_names[0]    "
   ]
  },
  {
   "cell_type": "markdown",
   "metadata": {},
   "source": [
    "<img src=\"./images/other/10-7.png\" width=\"500\">"
   ]
  },
  {
   "cell_type": "markdown",
   "metadata": {},
   "source": [
    "### 使用顺序API创建模型 Creating the model using the Sequential API"
   ]
  },
  {
   "cell_type": "code",
   "execution_count": 19,
   "metadata": {},
   "outputs": [],
   "source": [
    "np.random.seed(42)\n",
    "tf.random.set_seed(42)"
   ]
  },
  {
   "cell_type": "markdown",
   "metadata": {},
   "source": [
    "- 建立具有两个隐藏层的分类MLP:"
   ]
  },
  {
   "cell_type": "code",
   "execution_count": 20,
   "metadata": {},
   "outputs": [],
   "source": [
    "# 创建一个顺序API\n",
    "model = keras.models.Sequential()\n",
    "# 构建Flatten层 将图像展平 第一层需要指定输入数据的形状\n",
    "model.add(keras.layers.Flatten(input_shape=[28,28]))\n",
    "# 添加300个神经元的Dense全连接层 使用ReLU作为激活函数\n",
    "model.add(keras.layers.Dense(300, activation='relu'))\n",
    "\n",
    "model.add(keras.layers.Dense(100, activation='relu'))\n",
    "\n",
    "model.add(keras.layers.Dense(1, activation='softmax'))"
   ]
  },
  {
   "cell_type": "markdown",
   "metadata": {},
   "source": [
    "1. 每个Dense全连接层管理自己的权重矩阵,其中包括神经元及其输入之间所有的连接权重,以及管理偏置项的一个向量.如第一个隐藏层连接权重为784*300+300个偏置=235 500个参数\n",
    "2. `activation='relu'` 等价于 `activation=keras.activations.relu`"
   ]
  },
  {
   "cell_type": "code",
   "execution_count": 21,
   "metadata": {},
   "outputs": [],
   "source": [
    "keras.backend.clear_session()  # 清理session "
   ]
  },
  {
   "cell_type": "markdown",
   "metadata": {},
   "source": [
    "- 也可以在创建顺序模型时传递层列表:"
   ]
  },
  {
   "cell_type": "code",
   "execution_count": 22,
   "metadata": {},
   "outputs": [],
   "source": [
    "model = keras.models.Sequential([\n",
    "    keras.layers.Flatten(input_shape=[28, 28]),\n",
    "    keras.layers.Dense(300, activation=\"relu\"),\n",
    "    keras.layers.Dense(100, activation=\"relu\"),\n",
    "    keras.layers.Dense(10, activation=\"softmax\")\n",
    "])"
   ]
  },
  {
   "cell_type": "markdown",
   "metadata": {},
   "source": [
    "- 使用来自keras.io的代码示例"
   ]
  },
  {
   "cell_type": "code",
   "execution_count": 23,
   "metadata": {},
   "outputs": [],
   "source": [
    "# keras.io的代码\n",
    "# from keras.layers import Dense\n",
    "# output_layer = Dense(1)\n",
    "\n",
    "# 应该使用如下代码\n",
    "# from tensorflow.keras.layers import Dense\n",
    "# output_layer = Dense(10)\n",
    "\n",
    "# 或者使用完整路径\n",
    "# from tensorflow import keras\n",
    "# output_layer = keras.layers.Dense(10)"
   ]
  },
  {
   "cell_type": "markdown",
   "metadata": {},
   "source": [
    "- 显示模型的所有层"
   ]
  },
  {
   "cell_type": "code",
   "execution_count": 24,
   "metadata": {
    "scrolled": false
   },
   "outputs": [
    {
     "name": "stdout",
     "output_type": "stream",
     "text": [
      "Model: \"sequential\"\n",
      "_________________________________________________________________\n",
      "Layer (type)                 Output Shape              Param #   \n",
      "=================================================================\n",
      "flatten (Flatten)            (None, 784)               0         \n",
      "_________________________________________________________________\n",
      "dense (Dense)                (None, 300)               235500    \n",
      "_________________________________________________________________\n",
      "dense_1 (Dense)              (None, 100)               30100     \n",
      "_________________________________________________________________\n",
      "dense_2 (Dense)              (None, 10)                1010      \n",
      "=================================================================\n",
      "Total params: 266,610\n",
      "Trainable params: 266,610\n",
      "Non-trainable params: 0\n",
      "_________________________________________________________________\n"
     ]
    }
   ],
   "source": [
    "model.summary()"
   ]
  },
  {
   "cell_type": "markdown",
   "metadata": {},
   "source": [
    "- 获取模型的层列表"
   ]
  },
  {
   "cell_type": "code",
   "execution_count": 25,
   "metadata": {},
   "outputs": [
    {
     "data": {
      "text/plain": [
       "[<tensorflow.python.keras.layers.core.Flatten at 0x7fd77c9fd210>,\n",
       " <tensorflow.python.keras.layers.core.Dense at 0x7fd77c9fbf90>,\n",
       " <tensorflow.python.keras.layers.core.Dense at 0x7fd77c9fbbd0>,\n",
       " <tensorflow.python.keras.layers.core.Dense at 0x7fd77c9fb750>]"
      ]
     },
     "execution_count": 25,
     "metadata": {},
     "output_type": "execute_result"
    }
   ],
   "source": [
    "model.layers"
   ]
  },
  {
   "cell_type": "code",
   "execution_count": 26,
   "metadata": {},
   "outputs": [
    {
     "data": {
      "text/plain": [
       "'dense'"
      ]
     },
     "execution_count": 26,
     "metadata": {},
     "output_type": "execute_result"
    }
   ],
   "source": [
    "# 按索引获取层\n",
    "hidden1 = model.layers[1]\n",
    "hidden1.name"
   ]
  },
  {
   "cell_type": "code",
   "execution_count": 27,
   "metadata": {
    "scrolled": true
   },
   "outputs": [
    {
     "data": {
      "text/plain": [
       "True"
      ]
     },
     "execution_count": 27,
     "metadata": {},
     "output_type": "execute_result"
    }
   ],
   "source": [
    "model.get_layer(hidden1.name) is hidden1"
   ]
  },
  {
   "cell_type": "code",
   "execution_count": 28,
   "metadata": {},
   "outputs": [
    {
     "data": {
      "image/png": "[encoded data removed]",
      "text/plain": [
       "<IPython.core.display.Image object>"
      ]
     },
     "execution_count": 28,
     "metadata": {},
     "output_type": "execute_result"
    }
   ],
   "source": [
    "# 绘制模型的层示例图\n",
    "keras.utils.plot_model(model, 'model.png', show_shapes=True)"
   ]
  },
  {
   "cell_type": "markdown",
   "metadata": {},
   "source": [
    "- 查看层的参数"
   ]
  },
  {
   "cell_type": "code",
   "execution_count": 29,
   "metadata": {
    "scrolled": true
   },
   "outputs": [
    {
     "data": {
      "text/plain": [
       "((784, 300), (300,))"
      ]
     },
     "execution_count": 29,
     "metadata": {},
     "output_type": "execute_result"
    }
   ],
   "source": [
    "weights, biases = hidden1.get_weights()\n",
    "weights.shape, biases.shape"
   ]
  },
  {
   "cell_type": "markdown",
   "metadata": {},
   "source": [
    "### 编译模型 Compiling the model"
   ]
  },
  {
   "cell_type": "markdown",
   "metadata": {},
   "source": [
    "在创建模型之后,你必须调用`complie()`来指定损失函数和要使用的优化器,以及训练和评估时需要的额外指标。"
   ]
  },
  {
   "cell_type": "code",
   "execution_count": 30,
   "metadata": {},
   "outputs": [],
   "source": [
    "model.compile(loss='sparse_categorical_crossentropy', \n",
    "              optimizer=\"sgd\",\n",
    "              metrics=['accuracy']\n",
    "             )"
   ]
  },
  {
   "cell_type": "code",
   "execution_count": 31,
   "metadata": {},
   "outputs": [],
   "source": [
    "# 等价于\n",
    "model.compile(loss=keras.losses.sparse_categorical_crossentropy,\n",
    "              optimizer=keras.optimizers.SGD(),\n",
    "              metrics=[keras.metrics.sparse_categorical_accuracy]   # 仅在使用此损失时\n",
    "             )"
   ]
  },
  {
   "cell_type": "markdown",
   "metadata": {},
   "source": [
    "- **loss**:\n",
    "    - `categorical_crossentropy`，那y必须是`one-hot`处理过的\n",
    "    - `sparse_categorical_crossentropy`，那y是稀疏标签,即原始的整数形式\n",
    "    - 都是将数字编码转化成`one-hot`编码格式，然后对one-hot编码格式的数据（真实标签值）与预测出的标签值使用交叉熵损失函数\n",
    "- **optimizer**:\n",
    "    - `sgd`:使用随机梯度下降来训练模型 默认`lr=0.01`, 通过`keras.optimizers.SGD(lr=0.01)`设置\n",
    "- **metrics**:\n",
    "    - 如果真实值标签和预测值都是具体的`index值`（如真值序列 = [1, 1, 1], y_pred=[0, 1, 1]）时，直接使用`accuracy`评价函数就可以满足大部分情况。（即非常简单的应用场景，数据集当中有明确的分类信息label）\n",
    "    - 如果真实值标签是具体的`index值`，而预测值是`向量`形式，且问题为`多分类问题`（如真实值= [1, 1, 1], 预测序列=[[0.2, 0.3, 0.5], [0.45, 0.2, 0.35], [0, 0.24, 0.78]]）时，用`sparse_categorical_accuracy`评价函数可以解决问题。\n",
    "    - 如果真实值标签是`one-hot`形式，而预测值是`向量`形式（如真实值 = [[0, 1, 0], [0, 0, 1], [1, 0, 0]], 预测值= [[0.52, 0.33, 0.15], [0.9, 0.1, 0], [0, 0.4, 0.6]]）时，用`categorical_accuracy`评价函数就可以。\n"
   ]
  },
  {
   "cell_type": "markdown",
   "metadata": {},
   "source": [
    "### 训练和评估模型 Training and evaluating the model"
   ]
  },
  {
   "cell_type": "markdown",
   "metadata": {},
   "source": [
    "- 训练模型"
   ]
  },
  {
   "cell_type": "code",
   "execution_count": 32,
   "metadata": {},
   "outputs": [
    {
     "name": "stdout",
     "output_type": "stream",
     "text": [
      "Epoch 1/30\n",
      "1719/1719 [==============================] - 4s 2ms/step - loss: 0.7013 - sparse_categorical_accuracy: 0.7691 - val_loss: 0.5177 - val_sparse_categorical_accuracy: 0.8202\n",
      "Epoch 2/30\n",
      "1719/1719 [==============================] - 3s 2ms/step - loss: 0.4860 - sparse_categorical_accuracy: 0.8297 - val_loss: 0.4350 - val_sparse_categorical_accuracy: 0.8502\n",
      "Epoch 3/30\n",
      "1719/1719 [==============================] - 3s 2ms/step - loss: 0.4430 - sparse_categorical_accuracy: 0.8439 - val_loss: 0.5401 - val_sparse_categorical_accuracy: 0.7988\n",
      "Epoch 4/30\n",
      "1719/1719 [==============================] - 3s 2ms/step - loss: 0.4165 - sparse_categorical_accuracy: 0.8547 - val_loss: 0.3961 - val_sparse_categorical_accuracy: 0.8642\n",
      "Epoch 5/30\n",
      "1719/1719 [==============================] - 3s 2ms/step - loss: 0.3981 - sparse_categorical_accuracy: 0.8610 - val_loss: 0.3793 - val_sparse_categorical_accuracy: 0.8678\n",
      "Epoch 6/30\n",
      "1719/1719 [==============================] - 3s 2ms/step - loss: 0.3793 - sparse_categorical_accuracy: 0.8666 - val_loss: 0.3733 - val_sparse_categorical_accuracy: 0.8702\n",
      "Epoch 7/30\n",
      "1719/1719 [==============================] - 3s 2ms/step - loss: 0.3668 - sparse_categorical_accuracy: 0.8715 - val_loss: 0.3629 - val_sparse_categorical_accuracy: 0.8744\n",
      "Epoch 8/30\n",
      "1719/1719 [==============================] - 3s 2ms/step - loss: 0.3554 - sparse_categorical_accuracy: 0.8742 - val_loss: 0.3923 - val_sparse_categorical_accuracy: 0.8598\n",
      "Epoch 9/30\n",
      "1719/1719 [==============================] - 3s 2ms/step - loss: 0.3446 - sparse_categorical_accuracy: 0.8789 - val_loss: 0.3553 - val_sparse_categorical_accuracy: 0.8712\n",
      "Epoch 10/30\n",
      "1719/1719 [==============================] - 3s 2ms/step - loss: 0.3358 - sparse_categorical_accuracy: 0.8804 - val_loss: 0.3501 - val_sparse_categorical_accuracy: 0.8766\n",
      "Epoch 11/30\n",
      "1719/1719 [==============================] - 3s 2ms/step - loss: 0.3271 - sparse_categorical_accuracy: 0.8838 - val_loss: 0.3438 - val_sparse_categorical_accuracy: 0.8750\n",
      "Epoch 12/30\n",
      "1719/1719 [==============================] - 3s 2ms/step - loss: 0.3177 - sparse_categorical_accuracy: 0.8862 - val_loss: 0.3339 - val_sparse_categorical_accuracy: 0.8816\n",
      "Epoch 13/30\n",
      "1719/1719 [==============================] - 3s 2ms/step - loss: 0.3106 - sparse_categorical_accuracy: 0.8888 - val_loss: 0.3289 - val_sparse_categorical_accuracy: 0.8878\n",
      "Epoch 14/30\n",
      "1719/1719 [==============================] - 3s 2ms/step - loss: 0.3047 - sparse_categorical_accuracy: 0.8911 - val_loss: 0.3472 - val_sparse_categorical_accuracy: 0.8734\n",
      "Epoch 15/30\n",
      "1719/1719 [==============================] - 3s 2ms/step - loss: 0.2970 - sparse_categorical_accuracy: 0.8933 - val_loss: 0.3284 - val_sparse_categorical_accuracy: 0.8796\n",
      "Epoch 16/30\n",
      "1719/1719 [==============================] - 3s 2ms/step - loss: 0.2920 - sparse_categorical_accuracy: 0.8955 - val_loss: 0.3111 - val_sparse_categorical_accuracy: 0.8854\n",
      "Epoch 17/30\n",
      "1719/1719 [==============================] - 3s 2ms/step - loss: 0.2867 - sparse_categorical_accuracy: 0.8970 - val_loss: 0.3600 - val_sparse_categorical_accuracy: 0.8712\n",
      "Epoch 18/30\n",
      "1719/1719 [==============================] - 3s 2ms/step - loss: 0.2804 - sparse_categorical_accuracy: 0.8996 - val_loss: 0.3186 - val_sparse_categorical_accuracy: 0.8856\n",
      "Epoch 19/30\n",
      "1719/1719 [==============================] - 3s 2ms/step - loss: 0.2756 - sparse_categorical_accuracy: 0.9014 - val_loss: 0.3169 - val_sparse_categorical_accuracy: 0.8842\n",
      "Epoch 20/30\n",
      "1719/1719 [==============================] - 3s 2ms/step - loss: 0.2704 - sparse_categorical_accuracy: 0.9030 - val_loss: 0.3284 - val_sparse_categorical_accuracy: 0.8816\n",
      "Epoch 21/30\n",
      "1719/1719 [==============================] - 3s 2ms/step - loss: 0.2657 - sparse_categorical_accuracy: 0.9049 - val_loss: 0.3096 - val_sparse_categorical_accuracy: 0.8882\n",
      "Epoch 22/30\n",
      "1719/1719 [==============================] - 3s 2ms/step - loss: 0.2609 - sparse_categorical_accuracy: 0.9073 - val_loss: 0.2992 - val_sparse_categorical_accuracy: 0.8912\n",
      "Epoch 23/30\n",
      "1719/1719 [==============================] - 3s 2ms/step - loss: 0.2561 - sparse_categorical_accuracy: 0.9081 - val_loss: 0.3042 - val_sparse_categorical_accuracy: 0.8898\n",
      "Epoch 24/30\n",
      "1719/1719 [==============================] - 3s 2ms/step - loss: 0.2522 - sparse_categorical_accuracy: 0.9084 - val_loss: 0.3096 - val_sparse_categorical_accuracy: 0.8870\n",
      "Epoch 25/30\n",
      "1719/1719 [==============================] - 3s 2ms/step - loss: 0.2479 - sparse_categorical_accuracy: 0.9105 - val_loss: 0.3007 - val_sparse_categorical_accuracy: 0.8916\n",
      "Epoch 26/30\n",
      "1719/1719 [==============================] - 3s 2ms/step - loss: 0.2437 - sparse_categorical_accuracy: 0.9127 - val_loss: 0.3055 - val_sparse_categorical_accuracy: 0.8904\n",
      "Epoch 27/30\n",
      "1719/1719 [==============================] - 3s 2ms/step - loss: 0.2402 - sparse_categorical_accuracy: 0.9143 - val_loss: 0.3024 - val_sparse_categorical_accuracy: 0.8920\n",
      "Epoch 28/30\n",
      "1719/1719 [==============================] - 3s 2ms/step - loss: 0.2363 - sparse_categorical_accuracy: 0.9151 - val_loss: 0.3018 - val_sparse_categorical_accuracy: 0.8904\n",
      "Epoch 29/30\n",
      "1719/1719 [==============================] - 3s 2ms/step - loss: 0.2324 - sparse_categorical_accuracy: 0.9167 - val_loss: 0.3103 - val_sparse_categorical_accuracy: 0.8852\n",
      "Epoch 30/30\n",
      "1719/1719 [==============================] - 3s 2ms/step - loss: 0.2288 - sparse_categorical_accuracy: 0.9179 - val_loss: 0.3082 - val_sparse_categorical_accuracy: 0.8886\n"
     ]
    }
   ],
   "source": [
    "history = model.fit(X_train, y_train,\n",
    "                    epochs=30,\n",
    "                    validation_data=(X_val, y_val),\n",
    "                   )"
   ]
  },
  {
   "cell_type": "markdown",
   "metadata": {},
   "source": [
    "- 如果训练集非常不平衡,可以在`fit()`设置`class_weight`参数,给代表性不足的类更大的权重.\n",
    "- 如果需要每个实例的权重,可以设置`sample_weight`参数.如给专家标记的实例更大的权重.\n",
    "- 如果都设置了,Keras将会把它们相乘."
   ]
  },
  {
   "cell_type": "code",
   "execution_count": 33,
   "metadata": {},
   "outputs": [
    {
     "data": {
      "text/plain": [
       "{'verbose': 1, 'epochs': 30, 'steps': 1719}"
      ]
     },
     "execution_count": 33,
     "metadata": {},
     "output_type": "execute_result"
    }
   ],
   "source": [
    "# 查看训练参数\n",
    "history.params"
   ]
  },
  {
   "cell_type": "markdown",
   "metadata": {},
   "source": [
    "`history.history`将记录训练集和验证集在每个轮次结束后测得的损失和指标的字典，可用来绘制学期曲线"
   ]
  },
  {
   "cell_type": "markdown",
   "metadata": {},
   "source": [
    "- 绘制学习曲线"
   ]
  },
  {
   "cell_type": "code",
   "execution_count": 34,
   "metadata": {},
   "outputs": [
    {
     "data": {
      "image/png": "[encoded data removed]",
      "text/plain": [
       "<Figure size 576x360 with 1 Axes>"
      ]
     },
     "metadata": {
      "needs_background": "light"
     },
     "output_type": "display_data"
    }
   ],
   "source": [
    "pd.DataFrame(history.history).plot(figsize=(8,5))\n",
    "plt.grid(True)\n",
    "plt.gca().set_ylim(0, 1)    # 图例的位置\n",
    "plt.xlabel('epochs')\n",
    "plt.show()"
   ]
  },
  {
   "cell_type": "markdown",
   "metadata": {},
   "source": [
    "由此可见，损失和准确率都在稳步的下降和提高，同时验证曲线和训练曲线都很接近，没有发生过多的过拟合。\n",
    "\n",
    "注意:验证误差是在每个轮次后计算的,而训练误差是使用整个轮次的运行平均值计算，因此训练曲线时,**应将其向左移动半个轮次**."
   ]
  },
  {
   "cell_type": "markdown",
   "metadata": {},
   "source": [
    "如果对模型性能不满意，首先应该检查学习率，而后尝试使用另外一个优化器(并重新调整学习率)。如果性能仍然不佳，考虑调整模型的超参数(如层数，每层神经元个数以及激活函数类型等)。还可以调整其他超参数，如`batch_size`."
   ]
  },
  {
   "cell_type": "markdown",
   "metadata": {},
   "source": [
    "- 在测试集上评估泛化误差"
   ]
  },
  {
   "cell_type": "markdown",
   "metadata": {},
   "source": [
    "对模型的验证精度感到满意后，应在测试集上评估泛化误差，然后将模型部署到生产环境中."
   ]
  },
  {
   "cell_type": "code",
   "execution_count": 35,
   "metadata": {
    "scrolled": true
   },
   "outputs": [
    {
     "name": "stdout",
     "output_type": "stream",
     "text": [
      "313/313 [==============================] - 0s 978us/step - loss: 0.3406 - sparse_categorical_accuracy: 0.8787\n"
     ]
    },
    {
     "data": {
      "text/plain": [
       "[0.34055423736572266, 0.8787000179290771]"
      ]
     },
     "execution_count": 35,
     "metadata": {},
     "output_type": "execute_result"
    }
   ],
   "source": [
    "model.evaluate(X_test, y_test)"
   ]
  },
  {
   "cell_type": "markdown",
   "metadata": {},
   "source": [
    "### 使用模型进行预测  Using the model to make predictions"
   ]
  },
  {
   "cell_type": "markdown",
   "metadata": {},
   "source": [
    "- 使用测试集的前三个实例作为新实例进行预测"
   ]
  },
  {
   "cell_type": "code",
   "execution_count": 36,
   "metadata": {},
   "outputs": [
    {
     "data": {
      "text/plain": [
       "array([[0.  , 0.  , 0.  , 0.  , 0.  , 0.02, 0.  , 0.02, 0.  , 0.96],\n",
       "       [0.  , 0.  , 1.  , 0.  , 0.  , 0.  , 0.  , 0.  , 0.  , 0.  ],\n",
       "       [0.  , 1.  , 0.  , 0.  , 0.  , 0.  , 0.  , 0.  , 0.  , 0.  ]],\n",
       "      dtype=float32)"
      ]
     },
     "execution_count": 36,
     "metadata": {},
     "output_type": "execute_result"
    }
   ],
   "source": [
    "X_new = X_test[:3]\n",
    "X_pred_proba = model.predict(X_new)\n",
    "X_pred_proba.round(2)   # 保留2位小数"
   ]
  },
  {
   "cell_type": "markdown",
   "metadata": {},
   "source": [
    "对于每个实例，模型估计从0~9每个类的概率."
   ]
  },
  {
   "cell_type": "markdown",
   "metadata": {},
   "source": [
    "- 输出估计概率最高的类"
   ]
  },
  {
   "cell_type": "code",
   "execution_count": 37,
   "metadata": {},
   "outputs": [
    {
     "data": {
      "text/plain": [
       "array([9, 2, 1])"
      ]
     },
     "execution_count": 37,
     "metadata": {},
     "output_type": "execute_result"
    }
   ],
   "source": [
    "y_pred = np.argmax(X_pred_proba, axis=1)\n",
    "y_pred"
   ]
  },
  {
   "cell_type": "code",
   "execution_count": 38,
   "metadata": {},
   "outputs": [
    {
     "data": {
      "text/plain": [
       "array(['Ankle boot', 'Pullover', 'Trouser'], dtype='<U11')"
      ]
     },
     "execution_count": 38,
     "metadata": {},
     "output_type": "execute_result"
    }
   ],
   "source": [
    "np.array(class_names)[y_pred]"
   ]
  },
  {
   "cell_type": "code",
   "execution_count": 39,
   "metadata": {},
   "outputs": [
    {
     "data": {
      "text/plain": [
       "array(['Ankle boot', 'Pullover', 'Trouser'], dtype='<U11')"
      ]
     },
     "execution_count": 39,
     "metadata": {},
     "output_type": "execute_result"
    }
   ],
   "source": [
    "np.array(class_names)[y_test[:3]]"
   ]
  },
  {
   "cell_type": "markdown",
   "metadata": {},
   "source": [
    "由此可见,新实例被正确的分类."
   ]
  },
  {
   "cell_type": "markdown",
   "metadata": {},
   "source": [
    "## 使用顺序API构建回归"
   ]
  },
  {
   "cell_type": "markdown",
   "metadata": {},
   "source": [
    "本例中使用简化版的加州住房问题的数据集.该数据集中仅包含数字特征并且没有缺失值."
   ]
  },
  {
   "cell_type": "code",
   "execution_count": 40,
   "metadata": {},
   "outputs": [],
   "source": [
    "from sklearn.datasets import fetch_california_housing\n",
    "from sklearn.model_selection import train_test_split"
   ]
  },
  {
   "cell_type": "code",
   "execution_count": 41,
   "metadata": {},
   "outputs": [],
   "source": [
    "housing = fetch_california_housing()\n",
    "\n",
    "X = housing.data\n",
    "y = housing.target"
   ]
  },
  {
   "cell_type": "code",
   "execution_count": 42,
   "metadata": {},
   "outputs": [],
   "source": [
    "# 将数据集分为训练集,验证集,测试集\n",
    "X_train_full, X_test, y_train_full, y_test = train_test_split(X ,y)\n",
    "X_train, X_val, y_train, y_val = train_test_split(X_train_full, y_train_full)"
   ]
  },
  {
   "cell_type": "code",
   "execution_count": 43,
   "metadata": {},
   "outputs": [],
   "source": [
    "# 特征缩放\n",
    "from sklearn.preprocessing import StandardScaler\n",
    "scaler = StandardScaler()\n",
    "X_train = scaler.fit_transform(X_train)\n",
    "X_val = scaler.transform(X_val)\n",
    "X_test = scaler.transform(X_test)"
   ]
  },
  {
   "cell_type": "code",
   "execution_count": 44,
   "metadata": {},
   "outputs": [
    {
     "name": "stdout",
     "output_type": "stream",
     "text": [
      "Epoch 1/20\n",
      "363/363 [==============================] - 1s 1ms/step - loss: 0.8100 - val_loss: 0.6975\n",
      "Epoch 2/20\n",
      "363/363 [==============================] - 0s 771us/step - loss: 0.5505 - val_loss: 0.5031\n",
      "Epoch 3/20\n",
      "363/363 [==============================] - 0s 767us/step - loss: 0.4892 - val_loss: 0.4854\n",
      "Epoch 4/20\n",
      "363/363 [==============================] - 0s 777us/step - loss: 0.4561 - val_loss: 0.4827\n",
      "Epoch 5/20\n",
      "363/363 [==============================] - 0s 841us/step - loss: 0.4659 - val_loss: 0.4683\n",
      "Epoch 6/20\n",
      "363/363 [==============================] - 0s 766us/step - loss: 0.4437 - val_loss: 0.4626\n",
      "Epoch 7/20\n",
      "363/363 [==============================] - 0s 813us/step - loss: 0.4205 - val_loss: 0.4370\n",
      "Epoch 8/20\n",
      "363/363 [==============================] - 0s 803us/step - loss: 0.4107 - val_loss: 0.4370\n",
      "Epoch 9/20\n",
      "363/363 [==============================] - 0s 763us/step - loss: 0.4040 - val_loss: 0.4280\n",
      "Epoch 10/20\n",
      "363/363 [==============================] - 0s 814us/step - loss: 0.4002 - val_loss: 0.4254\n",
      "Epoch 11/20\n",
      "363/363 [==============================] - 0s 828us/step - loss: 0.3947 - val_loss: 0.4244\n",
      "Epoch 12/20\n",
      "363/363 [==============================] - 0s 883us/step - loss: 0.3900 - val_loss: 0.4258\n",
      "Epoch 13/20\n",
      "363/363 [==============================] - 0s 990us/step - loss: 0.3854 - val_loss: 0.4231\n",
      "Epoch 14/20\n",
      "363/363 [==============================] - 0s 994us/step - loss: 0.3820 - val_loss: 0.4803\n",
      "Epoch 15/20\n",
      "363/363 [==============================] - 0s 1ms/step - loss: 0.3790 - val_loss: 0.4235\n",
      "Epoch 16/20\n",
      "363/363 [==============================] - 0s 1ms/step - loss: 0.3748 - val_loss: 0.4065\n",
      "Epoch 17/20\n",
      "363/363 [==============================] - 0s 1ms/step - loss: 0.3727 - val_loss: 0.4114\n",
      "Epoch 18/20\n",
      "363/363 [==============================] - 0s 1ms/step - loss: 0.3680 - val_loss: 0.4038\n",
      "Epoch 19/20\n",
      "363/363 [==============================] - 0s 1ms/step - loss: 0.3663 - val_loss: 0.4009\n",
      "Epoch 20/20\n",
      "363/363 [==============================] - 0s 1ms/step - loss: 0.3644 - val_loss: 0.4020\n"
     ]
    }
   ],
   "source": [
    "# 使用顺序API构建回归MLP\n",
    "keras.backend.clear_session()\n",
    "input_shape = X_train.shape[1:]   # (8:,)\n",
    "\n",
    "model = keras.Sequential([\n",
    "    keras.layers.Dense(30, activation='relu', input_shape=input_shape),\n",
    "    keras.layers.Dense(1)   # 仅预测一个单值 因此输出层只有一个神经元\n",
    "])\n",
    "\n",
    "model.compile(loss=keras.losses.mean_squared_error,\n",
    "              optimizer=keras.optimizers.SGD()\n",
    "             )\n",
    "\n",
    "history = model.fit(X_train, y_train,\n",
    "                    epochs=20,\n",
    "                    validation_data=(X_val, y_val)\n",
    "                   )"
   ]
  },
  {
   "cell_type": "code",
   "execution_count": 45,
   "metadata": {},
   "outputs": [
    {
     "data": {
      "image/png": "[encoded data removed]",
      "text/plain": [
       "<Figure size 576x360 with 1 Axes>"
      ]
     },
     "metadata": {
      "needs_background": "light"
     },
     "output_type": "display_data"
    }
   ],
   "source": [
    "# 绘制学习曲线\n",
    "pd.DataFrame(history.history).plot(figsize=(8,5))\n",
    "plt.grid(True)\n",
    "plt.gca().set_ylim(0, 1)    # 图例的位置\n",
    "\n",
    "plt.xticks(np.arange(0, history.params['epochs'], 2))\n",
    "plt.xlabel('epochs')\n",
    "plt.show()"
   ]
  },
  {
   "cell_type": "code",
   "execution_count": 46,
   "metadata": {},
   "outputs": [
    {
     "name": "stdout",
     "output_type": "stream",
     "text": [
      "162/162 [==============================] - 0s 653us/step - loss: 0.3791\n"
     ]
    }
   ],
   "source": [
    "mse_test = model.evaluate(X_test, y_test)"
   ]
  },
  {
   "cell_type": "code",
   "execution_count": 47,
   "metadata": {
    "scrolled": true
   },
   "outputs": [
    {
     "data": {
      "text/plain": [
       "array([[0.52574414],\n",
       "       [1.6829325 ],\n",
       "       [3.5758224 ]], dtype=float32)"
      ]
     },
     "execution_count": 47,
     "metadata": {},
     "output_type": "execute_result"
    }
   ],
   "source": [
    "X_new = X_test[:3]\n",
    "y_pred = model.predict(X_new)\n",
    "y_pred"
   ]
  },
  {
   "cell_type": "code",
   "execution_count": 48,
   "metadata": {},
   "outputs": [
    {
     "data": {
      "text/plain": [
       "array([0.477  , 0.458  , 5.00001])"
      ]
     },
     "execution_count": 48,
     "metadata": {},
     "output_type": "execute_result"
    }
   ],
   "source": [
    "y_test[:3]"
   ]
  },
  {
   "cell_type": "markdown",
   "metadata": {},
   "source": [
    "## 使用函数式API构建复杂模型"
   ]
  },
  {
   "cell_type": "markdown",
   "metadata": {},
   "source": [
    "### 宽深神经网络 Wide & Deep neural network"
   ]
  },
  {
   "cell_type": "markdown",
   "metadata": {},
   "source": [
    "`Wide & Deep Learning神经网络`架构是将所有或部分输入直接连接到输出层，这种架构使神经网络能够学习深层模式(深度路径)和简单规则(短路径).相比之下,传统的`MLP`将所有的数据流经整个层堆叠."
   ]
  },
  {
   "cell_type": "markdown",
   "metadata": {},
   "source": [
    "<img src=\"./images/other/10-8.png\" width=\"200\">"
   ]
  },
  {
   "cell_type": "code",
   "execution_count": 49,
   "metadata": {},
   "outputs": [],
   "source": [
    "input_shape = X_train.shape[1:]   # (8:,)\n",
    "\n",
    "# 创建Input对象 指定输入类型的规范\n",
    "input_layer = keras.layers.Input(shape=input_shape)\n",
    "# 构建Layer之间的函数链式关系\n",
    "hidden1 = keras.layers.Dense(30, activation=\"relu\")(input_layer)\n",
    "hidden2 = keras.layers.Dense(30, activation=\"relu\")(hidden1)\n",
    "# 合并输入和第二个隐藏层的输出\n",
    "concat = keras.layers.concatenate([input_layer, hidden2])\n",
    "output_layer = keras.layers.Dense(1)(concat)\n",
    "\n",
    "# inputs与outputs一定是Layer调用输出的张量\n",
    "model = keras.Model(inputs=[input_layer], outputs=[output_layer])"
   ]
  },
  {
   "cell_type": "code",
   "execution_count": 50,
   "metadata": {},
   "outputs": [
    {
     "data": {
      "image/png": "[encoded data removed]",
      "text/plain": [
       "<IPython.core.display.Image object>"
      ]
     },
     "execution_count": 50,
     "metadata": {},
     "output_type": "execute_result"
    }
   ],
   "source": [
    "keras.utils.plot_model(model, 'model.png', show_shapes=True)"
   ]
  },
  {
   "cell_type": "code",
   "execution_count": 51,
   "metadata": {},
   "outputs": [
    {
     "name": "stdout",
     "output_type": "stream",
     "text": [
      "Epoch 1/20\n",
      "363/363 [==============================] - 1s 1ms/step - loss: 1.9272 - val_loss: 0.8958\n",
      "Epoch 2/20\n",
      "363/363 [==============================] - 0s 832us/step - loss: 0.8483 - val_loss: 0.7801\n",
      "Epoch 3/20\n",
      "363/363 [==============================] - 0s 1ms/step - loss: 0.7538 - val_loss: 0.7121\n",
      "Epoch 4/20\n",
      "363/363 [==============================] - 0s 985us/step - loss: 0.6913 - val_loss: 0.6646\n",
      "Epoch 5/20\n",
      "363/363 [==============================] - 0s 898us/step - loss: 0.6472 - val_loss: 0.6265\n",
      "Epoch 6/20\n",
      "363/363 [==============================] - 0s 956us/step - loss: 0.6104 - val_loss: 0.6001\n",
      "Epoch 7/20\n",
      "363/363 [==============================] - 0s 980us/step - loss: 0.5833 - val_loss: 0.5772\n",
      "Epoch 8/20\n",
      "363/363 [==============================] - 0s 883us/step - loss: 0.5614 - val_loss: 0.5606\n",
      "Epoch 9/20\n",
      "363/363 [==============================] - 0s 1ms/step - loss: 0.5443 - val_loss: 0.5472\n",
      "Epoch 10/20\n",
      "363/363 [==============================] - 0s 1ms/step - loss: 0.5307 - val_loss: 0.5364\n",
      "Epoch 11/20\n",
      "363/363 [==============================] - 0s 1ms/step - loss: 0.5186 - val_loss: 0.5283\n",
      "Epoch 12/20\n",
      "363/363 [==============================] - 0s 856us/step - loss: 0.5092 - val_loss: 0.5192\n",
      "Epoch 13/20\n",
      "363/363 [==============================] - 0s 979us/step - loss: 0.5011 - val_loss: 0.5118\n",
      "Epoch 14/20\n",
      "363/363 [==============================] - 0s 1000us/step - loss: 0.4943 - val_loss: 0.5066\n",
      "Epoch 15/20\n",
      "363/363 [==============================] - 0s 809us/step - loss: 0.4879 - val_loss: 0.5035\n",
      "Epoch 16/20\n",
      "363/363 [==============================] - 0s 958us/step - loss: 0.4832 - val_loss: 0.4970\n",
      "Epoch 17/20\n",
      "363/363 [==============================] - 0s 1ms/step - loss: 0.4781 - val_loss: 0.4957\n",
      "Epoch 18/20\n",
      "363/363 [==============================] - 0s 814us/step - loss: 0.4741 - val_loss: 0.4904\n",
      "Epoch 19/20\n",
      "363/363 [==============================] - 0s 946us/step - loss: 0.4706 - val_loss: 0.4867\n",
      "Epoch 20/20\n",
      "363/363 [==============================] - 0s 993us/step - loss: 0.4667 - val_loss: 0.4844\n"
     ]
    }
   ],
   "source": [
    "# 编译 训练\n",
    "model.compile(loss=keras.losses.mean_squared_error,\n",
    "              optimizer=keras.optimizers.SGD(learning_rate=1e-3)\n",
    "             )\n",
    "history = model.fit(X_train, y_train,\n",
    "                    epochs=20, validation_data=(X_val, y_val)\n",
    "                   )"
   ]
  },
  {
   "cell_type": "code",
   "execution_count": 52,
   "metadata": {},
   "outputs": [
    {
     "name": "stdout",
     "output_type": "stream",
     "text": [
      "162/162 [==============================] - 0s 686us/step - loss: 0.4867\n"
     ]
    },
    {
     "data": {
      "text/plain": [
       "array([[0.7769596],\n",
       "       [1.5724039],\n",
       "       [3.0590765]], dtype=float32)"
      ]
     },
     "execution_count": 52,
     "metadata": {},
     "output_type": "execute_result"
    }
   ],
   "source": [
    "# 评估 预测\n",
    "mse_test = model.evaluate(X_test, y_test)\n",
    "y_pred = model.predict(X_new)\n",
    "y_pred"
   ]
  },
  {
   "cell_type": "code",
   "execution_count": 53,
   "metadata": {},
   "outputs": [
    {
     "data": {
      "image/png": "[encoded data removed]",
      "text/plain": [
       "<IPython.core.display.Image object>"
      ]
     },
     "execution_count": 53,
     "metadata": {},
     "output_type": "execute_result"
    }
   ],
   "source": [
    "keras.utils.plot_model(model, 'model.png', show_shapes=True)"
   ]
  },
  {
   "cell_type": "markdown",
   "metadata": {},
   "source": [
    "### 处理多输入 Handling multiple inputs"
   ]
  },
  {
   "cell_type": "markdown",
   "metadata": {},
   "source": [
    "<img src=\"./images/other/10-9.png\" width=\"200\">"
   ]
  },
  {
   "cell_type": "markdown",
   "metadata": {},
   "source": [
    "假设通过宽路径输入5个特征(0-4),并从深路径输入6个特征(2-7)."
   ]
  },
  {
   "cell_type": "code",
   "execution_count": 54,
   "metadata": {},
   "outputs": [],
   "source": [
    "# 构建模型\n",
    "input_layer_A = keras.layers.Input(shape=[5], name=\"wide_input\")\n",
    "input_layer_B = keras.layers.Input(shape=[6], name=\"deep_input\")\n",
    "\n",
    "hidden1 = keras.layers.Dense(30, activation=\"relu\")(input_layer_B)\n",
    "hidden2 = keras.layers.Dense(30, activation=\"relu\")(hidden1)\n",
    "\n",
    "concat = keras.layers.concatenate([input_layer_A, hidden2])\n",
    "\n",
    "output_layer = keras.layers.Dense(1, name=\"output\")(concat)\n",
    "\n",
    "model = keras.Model(inputs=[input_layer_A, input_layer_B], \n",
    "                    outputs=[output_layer]\n",
    "                   )"
   ]
  },
  {
   "cell_type": "code",
   "execution_count": 55,
   "metadata": {},
   "outputs": [],
   "source": [
    "# 编译\n",
    "model.compile(loss='mse',   # keras.losses.mean_squared_error\n",
    "              optimizer=keras.optimizers.SGD(learning_rate=1e-3)\n",
    "             )"
   ]
  },
  {
   "cell_type": "code",
   "execution_count": 56,
   "metadata": {},
   "outputs": [
    {
     "name": "stdout",
     "output_type": "stream",
     "text": [
      "Epoch 1/20\n",
      "363/363 [==============================] - 1s 1ms/step - loss: 2.2388 - val_loss: 0.9660\n",
      "Epoch 2/20\n",
      "363/363 [==============================] - 0s 1ms/step - loss: 0.8768 - val_loss: 0.7653\n",
      "Epoch 3/20\n",
      "363/363 [==============================] - 0s 1ms/step - loss: 0.7297 - val_loss: 0.6947\n",
      "Epoch 4/20\n",
      "363/363 [==============================] - 0s 1ms/step - loss: 0.6700 - val_loss: 0.6531\n",
      "Epoch 5/20\n",
      "363/363 [==============================] - 0s 998us/step - loss: 0.6305 - val_loss: 0.6225\n",
      "Epoch 6/20\n",
      "363/363 [==============================] - 0s 967us/step - loss: 0.6025 - val_loss: 0.6011\n",
      "Epoch 7/20\n",
      "363/363 [==============================] - 0s 1ms/step - loss: 0.5812 - val_loss: 0.5837\n",
      "Epoch 8/20\n",
      "363/363 [==============================] - 0s 974us/step - loss: 0.5645 - val_loss: 0.5701\n",
      "Epoch 9/20\n",
      "363/363 [==============================] - 0s 967us/step - loss: 0.5511 - val_loss: 0.5587\n",
      "Epoch 10/20\n",
      "363/363 [==============================] - 0s 1ms/step - loss: 0.5407 - val_loss: 0.5493\n",
      "Epoch 11/20\n",
      "363/363 [==============================] - 0s 860us/step - loss: 0.5316 - val_loss: 0.5423\n",
      "Epoch 12/20\n",
      "363/363 [==============================] - 0s 887us/step - loss: 0.5245 - val_loss: 0.5357\n",
      "Epoch 13/20\n",
      "363/363 [==============================] - 0s 759us/step - loss: 0.5186 - val_loss: 0.5303\n",
      "Epoch 14/20\n",
      "363/363 [==============================] - 0s 681us/step - loss: 0.5136 - val_loss: 0.5258\n",
      "Epoch 15/20\n",
      "363/363 [==============================] - 0s 713us/step - loss: 0.5088 - val_loss: 0.5226\n",
      "Epoch 16/20\n",
      "363/363 [==============================] - 0s 707us/step - loss: 0.5052 - val_loss: 0.5187\n",
      "Epoch 17/20\n",
      "363/363 [==============================] - 0s 784us/step - loss: 0.5015 - val_loss: 0.5166\n",
      "Epoch 18/20\n",
      "363/363 [==============================] - 0s 950us/step - loss: 0.4982 - val_loss: 0.5126\n",
      "Epoch 19/20\n",
      "363/363 [==============================] - 0s 875us/step - loss: 0.4955 - val_loss: 0.5113\n",
      "Epoch 20/20\n",
      "363/363 [==============================] - 0s 1ms/step - loss: 0.4927 - val_loss: 0.5090\n"
     ]
    }
   ],
   "source": [
    "# 训练\n",
    "X_train_A, X_train_B = X_train[:, :5], X_train[:, 2:]\n",
    "X_val_A, X_val_B = X_val[:, :5], X_val[:, 2:]\n",
    "X_test_A, X_test_B = X_test[:, :5], X_test[:, 2:]\n",
    "\n",
    "history = model.fit((X_train_A, X_train_B), y_train,\n",
    "                    epochs=20, validation_data=((X_val_A, X_val_B), y_val)\n",
    "                   )"
   ]
  },
  {
   "cell_type": "code",
   "execution_count": 57,
   "metadata": {},
   "outputs": [
    {
     "name": "stdout",
     "output_type": "stream",
     "text": [
      "162/162 [==============================] - 0s 487us/step - loss: 0.5073\n"
     ]
    }
   ],
   "source": [
    "# 评估\n",
    "mse_test = model.evaluate(x=(X_test_A, X_test_B), y=y_test)"
   ]
  },
  {
   "cell_type": "code",
   "execution_count": 58,
   "metadata": {},
   "outputs": [
    {
     "data": {
      "text/plain": [
       "array([[0.8187243],\n",
       "       [1.7528498],\n",
       "       [2.8410652]], dtype=float32)"
      ]
     },
     "execution_count": 58,
     "metadata": {},
     "output_type": "execute_result"
    }
   ],
   "source": [
    "# 预测\n",
    "X_new_A, X_new_B = X_test_A[:3], X_test_B[:3]\n",
    "y_pred = model.predict(x=(X_new_A, X_new_B))\n",
    "y_pred"
   ]
  },
  {
   "cell_type": "code",
   "execution_count": 59,
   "metadata": {},
   "outputs": [
    {
     "data": {
      "image/png": "[encoded data removed]",
      "text/plain": [
       "<IPython.core.display.Image object>"
      ]
     },
     "execution_count": 59,
     "metadata": {},
     "output_type": "execute_result"
    }
   ],
   "source": [
    "keras.utils.plot_model(model, 'model.png', show_shapes=True)"
   ]
  },
  {
   "cell_type": "markdown",
   "metadata": {},
   "source": [
    "### 处理多输出 Handling multiple outputs"
   ]
  },
  {
   "cell_type": "markdown",
   "metadata": {},
   "source": [
    "<img src=\"./images/other/10-10.png\" width=\"200\">"
   ]
  },
  {
   "cell_type": "markdown",
   "metadata": {},
   "source": [
    "在神经网络结构中添加一些辅助输出,以确保网络的主要部分自己能学习有用的东西,而不依赖与网络的其余部分."
   ]
  },
  {
   "cell_type": "code",
   "execution_count": 60,
   "metadata": {},
   "outputs": [],
   "source": [
    "# 构建模型\n",
    "input_layer_A = keras.layers.Input(shape=[5], name=\"wide_input\")\n",
    "input_layer_B = keras.layers.Input(shape=[6], name=\"deep_input\")\n",
    "\n",
    "hidden1 = keras.layers.Dense(30, activation=\"relu\")(input_layer_B)\n",
    "hidden2 = keras.layers.Dense(30, activation=\"relu\")(hidden1)\n",
    "\n",
    "concat = keras.layers.concatenate([input_layer_A, hidden2])\n",
    "\n",
    "output_layer = keras.layers.Dense(1, name=\"output\")(concat)\n",
    "aux_output_layer = keras.layers.Dense(1, name=\"aux_output\")(hidden2)\n",
    "\n",
    "model = keras.Model(inputs=[input_layer_A, input_layer_B], \n",
    "                    outputs=[output_layer, aux_output_layer]\n",
    "                   )"
   ]
  },
  {
   "cell_type": "markdown",
   "metadata": {},
   "source": [
    "每个输出都需要有自己的损失函数,默认情况下,`keras`将计算所有这些损失,并将他们简单的累加即可得到用于训练的最终损失.\n",
    "\n",
    "本例中,由于我们更加关注主要输出,因此要在编译时设置其更大的权重."
   ]
  },
  {
   "cell_type": "code",
   "execution_count": 61,
   "metadata": {},
   "outputs": [],
   "source": [
    "# 编译\n",
    "model.compile(loss=['mse', 'mse'],\n",
    "              loss_weights=[0.9, 0.1],\n",
    "              optimizer=keras.optimizers.SGD(learning_rate=1e-3)\n",
    "             )"
   ]
  },
  {
   "cell_type": "code",
   "execution_count": 62,
   "metadata": {},
   "outputs": [
    {
     "name": "stdout",
     "output_type": "stream",
     "text": [
      "Epoch 1/20\n",
      "363/363 [==============================] - 1s 1ms/step - loss: 2.7221 - output_loss: 2.4292 - aux_output_loss: 5.3584 - val_loss: 1.4128 - val_output_loss: 1.0610 - val_aux_output_loss: 4.5792\n",
      "Epoch 2/20\n",
      "363/363 [==============================] - 0s 1ms/step - loss: 1.1177 - output_loss: 0.8333 - aux_output_loss: 3.6777 - val_loss: 0.9523 - val_output_loss: 0.7219 - val_aux_output_loss: 3.0265\n",
      "Epoch 3/20\n",
      "363/363 [==============================] - 0s 1ms/step - loss: 0.8645 - output_loss: 0.6824 - aux_output_loss: 2.5038 - val_loss: 0.8241 - val_output_loss: 0.6638 - val_aux_output_loss: 2.2669\n",
      "Epoch 4/20\n",
      "363/363 [==============================] - 0s 1ms/step - loss: 0.7732 - output_loss: 0.6446 - aux_output_loss: 1.9298 - val_loss: 0.7652 - val_output_loss: 0.6405 - val_aux_output_loss: 1.8874\n",
      "Epoch 5/20\n",
      "363/363 [==============================] - 0s 1ms/step - loss: 0.7256 - output_loss: 0.6236 - aux_output_loss: 1.6442 - val_loss: 0.7294 - val_output_loss: 0.6228 - val_aux_output_loss: 1.6893\n",
      "Epoch 6/20\n",
      "363/363 [==============================] - 0s 1ms/step - loss: 0.6963 - output_loss: 0.6074 - aux_output_loss: 1.4968 - val_loss: 0.7046 - val_output_loss: 0.6088 - val_aux_output_loss: 1.5668\n",
      "Epoch 7/20\n",
      "363/363 [==============================] - 0s 1ms/step - loss: 0.6750 - output_loss: 0.5936 - aux_output_loss: 1.4074 - val_loss: 0.6848 - val_output_loss: 0.5974 - val_aux_output_loss: 1.4717\n",
      "Epoch 8/20\n",
      "363/363 [==============================] - 0s 1ms/step - loss: 0.6577 - output_loss: 0.5816 - aux_output_loss: 1.3428 - val_loss: 0.6680 - val_output_loss: 0.5862 - val_aux_output_loss: 1.4044\n",
      "Epoch 9/20\n",
      "363/363 [==============================] - 0s 1ms/step - loss: 0.6431 - output_loss: 0.5707 - aux_output_loss: 1.2942 - val_loss: 0.6538 - val_output_loss: 0.5762 - val_aux_output_loss: 1.3529\n",
      "Epoch 10/20\n",
      "363/363 [==============================] - 0s 1ms/step - loss: 0.6306 - output_loss: 0.5612 - aux_output_loss: 1.2553 - val_loss: 0.6415 - val_output_loss: 0.5672 - val_aux_output_loss: 1.3103\n",
      "Epoch 11/20\n",
      "363/363 [==============================] - 0s 1ms/step - loss: 0.6191 - output_loss: 0.5521 - aux_output_loss: 1.2220 - val_loss: 0.6310 - val_output_loss: 0.5596 - val_aux_output_loss: 1.2735\n",
      "Epoch 12/20\n",
      "363/363 [==============================] - 0s 1ms/step - loss: 0.6092 - output_loss: 0.5444 - aux_output_loss: 1.1926 - val_loss: 0.6218 - val_output_loss: 0.5533 - val_aux_output_loss: 1.2376\n",
      "Epoch 13/20\n",
      "363/363 [==============================] - 0s 1ms/step - loss: 0.6002 - output_loss: 0.5374 - aux_output_loss: 1.1647 - val_loss: 0.6129 - val_output_loss: 0.5467 - val_aux_output_loss: 1.2084\n",
      "Epoch 14/20\n",
      "363/363 [==============================] - 0s 1ms/step - loss: 0.5921 - output_loss: 0.5311 - aux_output_loss: 1.1403 - val_loss: 0.6048 - val_output_loss: 0.5408 - val_aux_output_loss: 1.1808\n",
      "Epoch 15/20\n",
      "363/363 [==============================] - 0s 1ms/step - loss: 0.5841 - output_loss: 0.5250 - aux_output_loss: 1.1163 - val_loss: 0.5983 - val_output_loss: 0.5365 - val_aux_output_loss: 1.1550\n",
      "Epoch 16/20\n",
      "363/363 [==============================] - 0s 1ms/step - loss: 0.5775 - output_loss: 0.5201 - aux_output_loss: 1.0939 - val_loss: 0.5909 - val_output_loss: 0.5310 - val_aux_output_loss: 1.1304\n",
      "Epoch 17/20\n",
      "363/363 [==============================] - 0s 1ms/step - loss: 0.5707 - output_loss: 0.5149 - aux_output_loss: 1.0729 - val_loss: 0.5853 - val_output_loss: 0.5274 - val_aux_output_loss: 1.1067\n",
      "Epoch 18/20\n",
      "363/363 [==============================] - 0s 1ms/step - loss: 0.5646 - output_loss: 0.5103 - aux_output_loss: 1.0527 - val_loss: 0.5807 - val_output_loss: 0.5249 - val_aux_output_loss: 1.0829\n",
      "Epoch 19/20\n",
      "363/363 [==============================] - 0s 1ms/step - loss: 0.5593 - output_loss: 0.5067 - aux_output_loss: 1.0327 - val_loss: 0.5736 - val_output_loss: 0.5190 - val_aux_output_loss: 1.0643\n",
      "Epoch 20/20\n",
      "363/363 [==============================] - 0s 1ms/step - loss: 0.5539 - output_loss: 0.5028 - aux_output_loss: 1.0145 - val_loss: 0.5691 - val_output_loss: 0.5163 - val_aux_output_loss: 1.0441\n"
     ]
    }
   ],
   "source": [
    "# 训练    需要为每个输出提供标签\n",
    "history = model.fit([X_train_A, X_train_B], [y_train, y_train],\n",
    "                    epochs=20, \n",
    "                    validation_data=([X_val_A, X_val_B], [y_val, y_val])\n",
    "                   )"
   ]
  },
  {
   "cell_type": "code",
   "execution_count": 63,
   "metadata": {},
   "outputs": [
    {
     "name": "stdout",
     "output_type": "stream",
     "text": [
      "162/162 [==============================] - 0s 854us/step - loss: 0.5652 - output_loss: 0.5139 - aux_output_loss: 1.0267\n"
     ]
    }
   ],
   "source": [
    "# 评估\n",
    "total_loss, main_loss, aux_loss = model.evaluate(\n",
    "    [X_test_A, X_test_B], [y_test, y_test])"
   ]
  },
  {
   "cell_type": "code",
   "execution_count": 64,
   "metadata": {},
   "outputs": [
    {
     "name": "stdout",
     "output_type": "stream",
     "text": [
      "WARNING:tensorflow:5 out of the last 5 calls to <function Model.make_predict_function.<locals>.predict_function at 0x7fd71ea86c20> triggered tf.function retracing. Tracing is expensive and the excessive number of tracings could be due to (1) creating @tf.function repeatedly in a loop, (2) passing tensors with different shapes, (3) passing Python objects instead of tensors. For (1), please define your @tf.function outside of the loop. For (2), @tf.function has experimental_relax_shapes=True option that relaxes argument shapes that can avoid unnecessary retracing. For (3), please refer to https://www.tensorflow.org/guide/function#controlling_retracing and https://www.tensorflow.org/api_docs/python/tf/function for  more details.\n"
     ]
    },
    {
     "data": {
      "text/plain": [
       "(array([[0.7050769],\n",
       "        [1.6744595],\n",
       "        [2.7402031]], dtype=float32), array([[1.3073045],\n",
       "        [1.764671 ],\n",
       "        [2.2758625]], dtype=float32))"
      ]
     },
     "execution_count": 64,
     "metadata": {},
     "output_type": "execute_result"
    }
   ],
   "source": [
    "# 预测\n",
    "y_pred_main, y_pred_aux = model.predict([X_new_A, X_new_B])\n",
    "y_pred_main, y_pred_aux"
   ]
  },
  {
   "cell_type": "code",
   "execution_count": 65,
   "metadata": {},
   "outputs": [
    {
     "data": {
      "image/png": "[encoded data removed]",
      "text/plain": [
       "<Figure size 576x360 with 1 Axes>"
      ]
     },
     "metadata": {
      "needs_background": "light"
     },
     "output_type": "display_data"
    }
   ],
   "source": [
    "# 绘制学习曲线\n",
    "pd.DataFrame(history.history).plot(figsize=(8,5))\n",
    "plt.grid(True)\n",
    "#plt.gca().set_ylim(0, 1)    # 图例的位置\n",
    "\n",
    "plt.xticks(np.arange(0, history.params['epochs'], 2))\n",
    "plt.xlabel('epochs')\n",
    "plt.show()"
   ]
  },
  {
   "cell_type": "code",
   "execution_count": 66,
   "metadata": {},
   "outputs": [
    {
     "data": {
      "image/png": "[encoded data removed]",
      "text/plain": [
       "<IPython.core.display.Image object>"
      ]
     },
     "execution_count": 66,
     "metadata": {},
     "output_type": "execute_result"
    }
   ],
   "source": [
    "keras.utils.plot_model(model, 'model.png', show_shapes=True)"
   ]
  },
  {
   "cell_type": "markdown",
   "metadata": {},
   "source": [
    "## 使用子类API构建动态模型"
   ]
  },
  {
   "cell_type": "markdown",
   "metadata": {},
   "source": [
    "`顺序API`和`函数式API`都是声明性的:首先声明要使用的层以及应该如何连接它们,然后才能开始向模型提供一些数据进行训练或推断。\n",
    "\n",
    "这具有许多优点:\n",
    "1. 可以轻松地保存、克隆 和共享模型;\n",
    "2. 可以显示和分析它的结构;\n",
    "3. 框架可以推断形状和检査类型,因此可以及早发现错误(即在任何数据通过模型之前)。\n",
    "4. 由于整个模型是一个静态图,因此调试起来也相当容易。\n",
    "\n",
    "但另一方面是它是静态的。一些模型渉及循环、变化的形状、条件分支和其他动态行为。对于这种情况,或者只是你喜欢命令式的编程风格,则子类更加适合.\n",
    "\n",
    "对`Model类`进行子类化,在构造函数中创建所需的层,然后在`cal1()`中方法所需的计算即可。"
   ]
  },
  {
   "cell_type": "code",
   "execution_count": 67,
   "metadata": {},
   "outputs": [],
   "source": [
    "class WideAndDeepModel(keras.Model):\n",
    "    def __init__(self, units=30, activation=\"relu\", **kwargs):\n",
    "        super().__init__(**kwargs)\n",
    "        self.hidden1 = keras.layers.Dense(units, activation=activation)\n",
    "        self.hidden2 = keras.layers.Dense(units, activation=activation)\n",
    "        self.main_output = keras.layers.Dense(1)\n",
    "        self.aux_output = keras.layers.Dense(1)\n",
    "        \n",
    "    def call(self, inputs):\n",
    "        input_A, input_B = inputs\n",
    "        hidden1 = self.hidden1(input_B)\n",
    "        hidden2 = self.hidden2(hidden1)\n",
    "        concat = keras.layers.concatenate([input_A, hidden2])\n",
    "        main_output = self.main_output(concat)\n",
    "        aux_output = self.aux_output(hidden2)\n",
    "        return main_output, aux_output\n",
    "\n",
    "model = WideAndDeepModel(30, activation=\"relu\")"
   ]
  },
  {
   "cell_type": "code",
   "execution_count": 68,
   "metadata": {},
   "outputs": [
    {
     "name": "stdout",
     "output_type": "stream",
     "text": [
      "Epoch 1/10\n",
      "363/363 [==============================] - 1s 1ms/step - loss: 3.8707 - output_1_loss: 1.8762 - output_2_loss: 1.9945 - val_loss: 1.9497 - val_output_1_loss: 0.8553 - val_output_2_loss: 1.0945\n",
      "Epoch 2/10\n",
      "363/363 [==============================] - 0s 1ms/step - loss: 1.7679 - output_1_loss: 0.7633 - output_2_loss: 1.0046 - val_loss: 1.6037 - val_output_1_loss: 0.6925 - val_output_2_loss: 0.9113\n",
      "Epoch 3/10\n",
      "363/363 [==============================] - 0s 1ms/step - loss: 1.5201 - output_1_loss: 0.6595 - output_2_loss: 0.8606 - val_loss: 1.4364 - val_output_1_loss: 0.6243 - val_output_2_loss: 0.8121\n",
      "Epoch 4/10\n",
      "363/363 [==============================] - 0s 980us/step - loss: 1.3772 - output_1_loss: 0.6003 - output_2_loss: 0.7769 - val_loss: 1.3384 - val_output_1_loss: 0.5821 - val_output_2_loss: 0.7563\n",
      "Epoch 5/10\n",
      "363/363 [==============================] - 0s 1ms/step - loss: 1.2879 - output_1_loss: 0.5600 - output_2_loss: 0.7279 - val_loss: 1.2687 - val_output_1_loss: 0.5509 - val_output_2_loss: 0.7178\n",
      "Epoch 6/10\n",
      "363/363 [==============================] - 0s 1ms/step - loss: 1.2289 - output_1_loss: 0.5324 - output_2_loss: 0.6965 - val_loss: 1.2265 - val_output_1_loss: 0.5310 - val_output_2_loss: 0.6955\n",
      "Epoch 7/10\n",
      "363/363 [==============================] - 0s 1ms/step - loss: 1.1881 - output_1_loss: 0.5121 - output_2_loss: 0.6759 - val_loss: 1.1975 - val_output_1_loss: 0.5140 - val_output_2_loss: 0.6835\n",
      "Epoch 8/10\n",
      "363/363 [==============================] - 0s 994us/step - loss: 1.1587 - output_1_loss: 0.4976 - output_2_loss: 0.6611 - val_loss: 1.1733 - val_output_1_loss: 0.5027 - val_output_2_loss: 0.6706\n",
      "Epoch 9/10\n",
      "363/363 [==============================] - 0s 1ms/step - loss: 1.1366 - output_1_loss: 0.4863 - output_2_loss: 0.6503 - val_loss: 1.1553 - val_output_1_loss: 0.4934 - val_output_2_loss: 0.6618\n",
      "Epoch 10/10\n",
      "363/363 [==============================] - 0s 1ms/step - loss: 1.1205 - output_1_loss: 0.4783 - output_2_loss: 0.6422 - val_loss: 1.1416 - val_output_1_loss: 0.4867 - val_output_2_loss: 0.6549\n",
      "162/162 [==============================] - 0s 691us/step - loss: 1.0971 - output_1_loss: 0.4767 - output_2_loss: 0.6204\n",
      "WARNING:tensorflow:6 out of the last 6 calls to <function Model.make_predict_function.<locals>.predict_function at 0x7fd71efdda70> triggered tf.function retracing. Tracing is expensive and the excessive number of tracings could be due to (1) creating @tf.function repeatedly in a loop, (2) passing tensors with different shapes, (3) passing Python objects instead of tensors. For (1), please define your @tf.function outside of the loop. For (2), @tf.function has experimental_relax_shapes=True option that relaxes argument shapes that can avoid unnecessary retracing. For (3), please refer to https://www.tensorflow.org/guide/function#controlling_retracing and https://www.tensorflow.org/api_docs/python/tf/function for  more details.\n"
     ]
    },
    {
     "data": {
      "text/plain": [
       "(array([[0.45769662],\n",
       "        [1.6860458 ],\n",
       "        [2.7468543 ]], dtype=float32), array([[0.8706579],\n",
       "        [2.0541873],\n",
       "        [2.3792443]], dtype=float32))"
      ]
     },
     "execution_count": 68,
     "metadata": {},
     "output_type": "execute_result"
    }
   ],
   "source": [
    "# 编译\n",
    "model.compile(loss='mse',\n",
    "              optimizer=keras.optimizers.SGD(learning_rate=1e-3)\n",
    "             )\n",
    "# 训练    需要为每个输出提供标签\n",
    "history = model.fit((X_train_A, X_train_B), (y_train, y_train),\n",
    "                    epochs=10, \n",
    "                    validation_data=((X_val_A, X_val_B), (y_val, y_val))\n",
    "                   )\n",
    "# 评估\n",
    "total_loss, main_loss, aux_loss = model.evaluate([X_test_A, X_test_B], [y_test, y_test])\n",
    "# 预测\n",
    "X_new_A, X_new_B = X_test_A[:3], X_test_B[:3]\n",
    "y_pred = model.predict(x=(X_new_A, X_new_B))\n",
    "y_pred"
   ]
  },
  {
   "cell_type": "markdown",
   "metadata": {},
   "source": [
    "## 保存和还原模型 Saving and Restoring a Model"
   ]
  },
  {
   "cell_type": "code",
   "execution_count": 69,
   "metadata": {},
   "outputs": [],
   "source": [
    "model = keras.models.Sequential([\n",
    "    keras.layers.Dense(30, activation=\"relu\", input_shape=[8]),\n",
    "    keras.layers.Dense(30, activation=\"relu\"),\n",
    "    keras.layers.Dense(1)\n",
    "])"
   ]
  },
  {
   "cell_type": "code",
   "execution_count": 70,
   "metadata": {},
   "outputs": [
    {
     "name": "stdout",
     "output_type": "stream",
     "text": [
      "Epoch 1/10\n",
      "363/363 [==============================] - 1s 1ms/step - loss: 2.1238 - val_loss: 0.9876\n",
      "Epoch 2/10\n",
      "363/363 [==============================] - 0s 788us/step - loss: 0.8416 - val_loss: 0.7324\n",
      "Epoch 3/10\n",
      "363/363 [==============================] - 0s 929us/step - loss: 0.7188 - val_loss: 0.6948\n",
      "Epoch 4/10\n",
      "363/363 [==============================] - 0s 814us/step - loss: 0.6810 - val_loss: 0.6686\n",
      "Epoch 5/10\n",
      "363/363 [==============================] - 0s 794us/step - loss: 0.6531 - val_loss: 0.6448\n",
      "Epoch 6/10\n",
      "363/363 [==============================] - 0s 814us/step - loss: 0.6293 - val_loss: 0.6255\n",
      "Epoch 7/10\n",
      "363/363 [==============================] - 0s 802us/step - loss: 0.6087 - val_loss: 0.6090\n",
      "Epoch 8/10\n",
      "363/363 [==============================] - 0s 839us/step - loss: 0.5900 - val_loss: 0.5934\n",
      "Epoch 9/10\n",
      "363/363 [==============================] - 0s 791us/step - loss: 0.5735 - val_loss: 0.5785\n",
      "Epoch 10/10\n",
      "363/363 [==============================] - 0s 827us/step - loss: 0.5587 - val_loss: 0.5649\n",
      "162/162 [==============================] - 0s 571us/step - loss: 0.5567\n"
     ]
    }
   ],
   "source": [
    "model.compile(loss='mse', optimizer=keras.optimizers.SGD(learning_rate=1e-3))\n",
    "history = model.fit(X_train, y_train, epochs=10, validation_data=(X_val, y_val))\n",
    "mse_test = model.evaluate(X_test, y_test)"
   ]
  },
  {
   "cell_type": "markdown",
   "metadata": {},
   "source": [
    "- 保存训练好的模型"
   ]
  },
  {
   "cell_type": "code",
   "execution_count": 71,
   "metadata": {},
   "outputs": [],
   "source": [
    "model.save(\"my_keras_model.h5\")"
   ]
  },
  {
   "cell_type": "markdown",
   "metadata": {},
   "source": [
    "`Keras`使用`HDF5`格式保存模型的结构，包括每一层的超参数和每一层的模型参数数值以及优化器信息等."
   ]
  },
  {
   "cell_type": "markdown",
   "metadata": {},
   "source": [
    "- 加载模型"
   ]
  },
  {
   "cell_type": "code",
   "execution_count": 72,
   "metadata": {},
   "outputs": [],
   "source": [
    "model = keras.models.load_model(\"my_keras_model.h5\")"
   ]
  },
  {
   "cell_type": "code",
   "execution_count": 73,
   "metadata": {},
   "outputs": [
    {
     "data": {
      "text/plain": [
       "array([[0.9649321],\n",
       "       [1.4028723],\n",
       "       [2.5395947]], dtype=float32)"
      ]
     },
     "execution_count": 73,
     "metadata": {},
     "output_type": "execute_result"
    }
   ],
   "source": [
    "y_pred = model.predict(X_new)\n",
    "y_pred"
   ]
  },
  {
   "cell_type": "markdown",
   "metadata": {},
   "source": [
    "- 使用子类API保存和还原模型"
   ]
  },
  {
   "cell_type": "code",
   "execution_count": 74,
   "metadata": {},
   "outputs": [],
   "source": [
    "model.save_weights(\"my_keras_weights.ckpt\")"
   ]
  },
  {
   "cell_type": "code",
   "execution_count": 75,
   "metadata": {},
   "outputs": [
    {
     "data": {
      "text/plain": [
       "<tensorflow.python.training.tracking.util.CheckpointLoadStatus at 0x7fd71ad58e50>"
      ]
     },
     "execution_count": 75,
     "metadata": {},
     "output_type": "execute_result"
    }
   ],
   "source": [
    "model.load_weights(\"my_keras_weights.ckpt\")"
   ]
  },
  {
   "cell_type": "markdown",
   "metadata": {},
   "source": [
    "## 使用回调函数 Using Callbacks"
   ]
  },
  {
   "cell_type": "markdown",
   "metadata": {},
   "source": [
    "在大型数据集上进行训练时，我们不仅要保存训练结束时的模型，还应该在训练过程中定期保存检查点.`fit()`方法接受一个`callbacks`参数，该参数使你可以指定在训练开始或结束时，每个轮次开始或结束时将调用的对象列表"
   ]
  },
  {
   "cell_type": "code",
   "execution_count": 76,
   "metadata": {},
   "outputs": [],
   "source": [
    "model = keras.models.Sequential([\n",
    "    keras.layers.Dense(30, activation=\"relu\", input_shape=[8]),\n",
    "    keras.layers.Dense(30, activation=\"relu\"),\n",
    "    keras.layers.Dense(1)\n",
    "])"
   ]
  },
  {
   "cell_type": "markdown",
   "metadata": {},
   "source": [
    "### ModelCheckpoint"
   ]
  },
  {
   "cell_type": "markdown",
   "metadata": {},
   "source": [
    "`ModelCheckpoint`回调会定期保存模型的检查点，默认是每个轮次结束后。如果使用验证集，可以设置`save_best_only=True`,只在验证集上的模型性能达到最好时，才保存模型."
   ]
  },
  {
   "cell_type": "code",
   "execution_count": 77,
   "metadata": {},
   "outputs": [],
   "source": [
    "checkpoint_cb = keras.callbacks.ModelCheckpoint(\"my_keras_model.h5\", save_best_only=True)"
   ]
  },
  {
   "cell_type": "code",
   "execution_count": 78,
   "metadata": {},
   "outputs": [
    {
     "name": "stdout",
     "output_type": "stream",
     "text": [
      "Epoch 1/10\n",
      "363/363 [==============================] - 1s 1ms/step - loss: 1.6233 - val_loss: 0.8844\n",
      "Epoch 2/10\n",
      "363/363 [==============================] - 0s 871us/step - loss: 0.7769 - val_loss: 0.7296\n",
      "Epoch 3/10\n",
      "363/363 [==============================] - 0s 863us/step - loss: 0.6980 - val_loss: 0.6745\n",
      "Epoch 4/10\n",
      "363/363 [==============================] - 0s 812us/step - loss: 0.6531 - val_loss: 0.6389\n",
      "Epoch 5/10\n",
      "363/363 [==============================] - 0s 864us/step - loss: 0.6196 - val_loss: 0.6110\n",
      "Epoch 6/10\n",
      "363/363 [==============================] - 0s 794us/step - loss: 0.5915 - val_loss: 0.5882\n",
      "Epoch 7/10\n",
      "363/363 [==============================] - 0s 816us/step - loss: 0.5681 - val_loss: 0.5685\n",
      "Epoch 8/10\n",
      "363/363 [==============================] - 0s 845us/step - loss: 0.5482 - val_loss: 0.5517\n",
      "Epoch 9/10\n",
      "363/363 [==============================] - 0s 796us/step - loss: 0.5317 - val_loss: 0.5384\n",
      "Epoch 10/10\n",
      "363/363 [==============================] - 0s 839us/step - loss: 0.5182 - val_loss: 0.5269\n"
     ]
    }
   ],
   "source": [
    "model.compile(loss='mse', optimizer=keras.optimizers.SGD(learning_rate=1e-3))\n",
    "history = model.fit(X_train, y_train, epochs=10, validation_data=(X_val, y_val),\n",
    "                    callbacks=[checkpoint_cb]\n",
    "                   )"
   ]
  },
  {
   "cell_type": "code",
   "execution_count": 79,
   "metadata": {},
   "outputs": [
    {
     "name": "stdout",
     "output_type": "stream",
     "text": [
      "162/162 [==============================] - 0s 577us/step - loss: 0.5193\n"
     ]
    }
   ],
   "source": [
    "model = keras.models.load_model(\"my_keras_model.h5\")\n",
    "mse_test = model.evaluate(X_test, y_test)"
   ]
  },
  {
   "cell_type": "markdown",
   "metadata": {},
   "source": [
    "### EarlyStopping"
   ]
  },
  {
   "cell_type": "markdown",
   "metadata": {},
   "source": [
    "使用`EarlyStopping`回调，如果在多个轮次的验证集上没有任何进展，它将中断训练，并且可以选择回滚到最佳模型."
   ]
  },
  {
   "cell_type": "code",
   "execution_count": 80,
   "metadata": {},
   "outputs": [],
   "source": [
    "early_stopping_cb = keras.callbacks.EarlyStopping(patience=10,  # 至多10个轮次\n",
    "                                                  restore_best_weights=True\n",
    "                                                 )"
   ]
  },
  {
   "cell_type": "markdown",
   "metadata": {},
   "source": [
    "可以与`ModelCheckpoint`回调相结合防止计算机,崩溃浪费时间和资源。"
   ]
  },
  {
   "cell_type": "code",
   "execution_count": 81,
   "metadata": {},
   "outputs": [
    {
     "name": "stdout",
     "output_type": "stream",
     "text": [
      "Epoch 1/100\n",
      "363/363 [==============================] - 1s 1ms/step - loss: 0.5062 - val_loss: 0.5175\n",
      "Epoch 2/100\n",
      "363/363 [==============================] - 0s 804us/step - loss: 0.4961 - val_loss: 0.5074\n",
      "Epoch 3/100\n",
      "363/363 [==============================] - 0s 856us/step - loss: 0.4876 - val_loss: 0.5002\n",
      "Epoch 4/100\n",
      "363/363 [==============================] - 0s 900us/step - loss: 0.4802 - val_loss: 0.4941\n",
      "Epoch 5/100\n",
      "363/363 [==============================] - 0s 803us/step - loss: 0.4741 - val_loss: 0.4885\n",
      "Epoch 6/100\n",
      "363/363 [==============================] - 0s 846us/step - loss: 0.4684 - val_loss: 0.4846\n",
      "Epoch 7/100\n",
      "363/363 [==============================] - 0s 839us/step - loss: 0.4637 - val_loss: 0.4795\n",
      "Epoch 8/100\n",
      "363/363 [==============================] - 0s 858us/step - loss: 0.4593 - val_loss: 0.4756\n",
      "Epoch 9/100\n",
      "363/363 [==============================] - 0s 820us/step - loss: 0.4555 - val_loss: 0.4726\n",
      "Epoch 10/100\n",
      "363/363 [==============================] - 0s 810us/step - loss: 0.4525 - val_loss: 0.4699\n",
      "Epoch 11/100\n",
      "363/363 [==============================] - 0s 812us/step - loss: 0.4492 - val_loss: 0.4675\n",
      "Epoch 12/100\n",
      "363/363 [==============================] - 0s 862us/step - loss: 0.4467 - val_loss: 0.4644\n",
      "Epoch 13/100\n",
      "363/363 [==============================] - 0s 806us/step - loss: 0.4442 - val_loss: 0.4617\n",
      "Epoch 14/100\n",
      "363/363 [==============================] - 0s 822us/step - loss: 0.4420 - val_loss: 0.4599\n",
      "Epoch 15/100\n",
      "363/363 [==============================] - 0s 836us/step - loss: 0.4397 - val_loss: 0.4594\n",
      "Epoch 16/100\n",
      "363/363 [==============================] - 0s 811us/step - loss: 0.4379 - val_loss: 0.4560\n",
      "Epoch 17/100\n",
      "363/363 [==============================] - 0s 830us/step - loss: 0.4358 - val_loss: 0.4569\n",
      "Epoch 18/100\n",
      "363/363 [==============================] - 0s 799us/step - loss: 0.4342 - val_loss: 0.4532\n",
      "Epoch 19/100\n",
      "363/363 [==============================] - 0s 834us/step - loss: 0.4326 - val_loss: 0.4518\n",
      "Epoch 20/100\n",
      "363/363 [==============================] - 0s 892us/step - loss: 0.4309 - val_loss: 0.4513\n",
      "Epoch 21/100\n",
      "363/363 [==============================] - 0s 850us/step - loss: 0.4295 - val_loss: 0.4483\n",
      "Epoch 22/100\n",
      "363/363 [==============================] - 0s 905us/step - loss: 0.4281 - val_loss: 0.4477\n",
      "Epoch 23/100\n",
      "363/363 [==============================] - 0s 840us/step - loss: 0.4265 - val_loss: 0.4460\n",
      "Epoch 24/100\n",
      "363/363 [==============================] - 0s 1ms/step - loss: 0.4254 - val_loss: 0.4446\n",
      "Epoch 25/100\n",
      "363/363 [==============================] - 0s 1ms/step - loss: 0.4238 - val_loss: 0.4446\n",
      "Epoch 26/100\n",
      "363/363 [==============================] - 0s 1ms/step - loss: 0.4226 - val_loss: 0.4445\n",
      "Epoch 27/100\n",
      "363/363 [==============================] - 0s 1ms/step - loss: 0.4213 - val_loss: 0.4416\n",
      "Epoch 28/100\n",
      "363/363 [==============================] - 0s 1ms/step - loss: 0.4202 - val_loss: 0.4398\n",
      "Epoch 29/100\n",
      "363/363 [==============================] - 0s 920us/step - loss: 0.4188 - val_loss: 0.4394\n",
      "Epoch 30/100\n",
      "363/363 [==============================] - 0s 818us/step - loss: 0.4175 - val_loss: 0.4382\n",
      "Epoch 31/100\n",
      "363/363 [==============================] - 0s 805us/step - loss: 0.4161 - val_loss: 0.4383\n",
      "Epoch 32/100\n",
      "363/363 [==============================] - 0s 790us/step - loss: 0.4151 - val_loss: 0.4382\n",
      "Epoch 33/100\n",
      "363/363 [==============================] - 0s 828us/step - loss: 0.4136 - val_loss: 0.4377\n",
      "Epoch 34/100\n",
      "363/363 [==============================] - 0s 800us/step - loss: 0.4123 - val_loss: 0.4342\n",
      "Epoch 35/100\n",
      "363/363 [==============================] - 0s 837us/step - loss: 0.4115 - val_loss: 0.4338\n",
      "Epoch 36/100\n",
      "363/363 [==============================] - 0s 809us/step - loss: 0.4101 - val_loss: 0.4334\n",
      "Epoch 37/100\n",
      "363/363 [==============================] - 0s 853us/step - loss: 0.4090 - val_loss: 0.4329\n",
      "Epoch 38/100\n",
      "363/363 [==============================] - 0s 816us/step - loss: 0.4082 - val_loss: 0.4301\n",
      "Epoch 39/100\n",
      "363/363 [==============================] - 0s 828us/step - loss: 0.4068 - val_loss: 0.4316\n",
      "Epoch 40/100\n",
      "363/363 [==============================] - 0s 825us/step - loss: 0.4060 - val_loss: 0.4300\n",
      "Epoch 41/100\n",
      "363/363 [==============================] - 0s 808us/step - loss: 0.4046 - val_loss: 0.4280\n",
      "Epoch 42/100\n",
      "363/363 [==============================] - 0s 1ms/step - loss: 0.4035 - val_loss: 0.4277\n",
      "Epoch 43/100\n",
      "363/363 [==============================] - 0s 819us/step - loss: 0.4019 - val_loss: 0.4256\n",
      "Epoch 44/100\n",
      "363/363 [==============================] - 0s 813us/step - loss: 0.4013 - val_loss: 0.4247\n",
      "Epoch 45/100\n",
      "363/363 [==============================] - 0s 772us/step - loss: 0.4000 - val_loss: 0.4244\n",
      "Epoch 46/100\n",
      "363/363 [==============================] - 0s 800us/step - loss: 0.3989 - val_loss: 0.4232\n",
      "Epoch 47/100\n",
      "363/363 [==============================] - 0s 785us/step - loss: 0.3979 - val_loss: 0.4219\n",
      "Epoch 48/100\n",
      "363/363 [==============================] - 0s 790us/step - loss: 0.3967 - val_loss: 0.4215\n",
      "Epoch 49/100\n",
      "363/363 [==============================] - 0s 854us/step - loss: 0.3953 - val_loss: 0.4214\n",
      "Epoch 50/100\n",
      "363/363 [==============================] - 0s 788us/step - loss: 0.3946 - val_loss: 0.4204\n",
      "Epoch 51/100\n",
      "363/363 [==============================] - 0s 799us/step - loss: 0.3933 - val_loss: 0.4193\n",
      "Epoch 52/100\n",
      "363/363 [==============================] - 0s 781us/step - loss: 0.3925 - val_loss: 0.4186\n",
      "Epoch 53/100\n",
      "363/363 [==============================] - 0s 835us/step - loss: 0.3914 - val_loss: 0.4169\n",
      "Epoch 54/100\n",
      "363/363 [==============================] - 0s 800us/step - loss: 0.3906 - val_loss: 0.4165\n",
      "Epoch 55/100\n",
      "363/363 [==============================] - 0s 782us/step - loss: 0.3896 - val_loss: 0.4160\n",
      "Epoch 56/100\n",
      "363/363 [==============================] - 0s 805us/step - loss: 0.3884 - val_loss: 0.4151\n",
      "Epoch 57/100\n",
      "363/363 [==============================] - 0s 797us/step - loss: 0.3875 - val_loss: 0.4138\n",
      "Epoch 58/100\n",
      "363/363 [==============================] - 0s 782us/step - loss: 0.3867 - val_loss: 0.4130\n",
      "Epoch 59/100\n",
      "363/363 [==============================] - 0s 827us/step - loss: 0.3857 - val_loss: 0.4123\n",
      "Epoch 60/100\n",
      "363/363 [==============================] - 0s 786us/step - loss: 0.3849 - val_loss: 0.4124\n",
      "Epoch 61/100\n",
      "363/363 [==============================] - 0s 778us/step - loss: 0.3840 - val_loss: 0.4113\n",
      "Epoch 62/100\n",
      "363/363 [==============================] - 0s 784us/step - loss: 0.3829 - val_loss: 0.4117\n",
      "Epoch 63/100\n",
      "363/363 [==============================] - 0s 792us/step - loss: 0.3823 - val_loss: 0.4102\n",
      "Epoch 64/100\n",
      "363/363 [==============================] - 0s 811us/step - loss: 0.3811 - val_loss: 0.4102\n",
      "Epoch 65/100\n",
      "363/363 [==============================] - 0s 828us/step - loss: 0.3804 - val_loss: 0.4092\n",
      "Epoch 66/100\n",
      "363/363 [==============================] - 0s 805us/step - loss: 0.3796 - val_loss: 0.4087\n",
      "Epoch 67/100\n",
      "363/363 [==============================] - 0s 810us/step - loss: 0.3788 - val_loss: 0.4079\n",
      "Epoch 68/100\n",
      "363/363 [==============================] - 0s 790us/step - loss: 0.3778 - val_loss: 0.4085\n",
      "Epoch 69/100\n",
      "363/363 [==============================] - 0s 812us/step - loss: 0.3770 - val_loss: 0.4093\n",
      "Epoch 70/100\n",
      "363/363 [==============================] - 0s 783us/step - loss: 0.3764 - val_loss: 0.4077\n",
      "Epoch 71/100\n",
      "363/363 [==============================] - 0s 788us/step - loss: 0.3756 - val_loss: 0.4056\n",
      "Epoch 72/100\n",
      "363/363 [==============================] - 0s 778us/step - loss: 0.3748 - val_loss: 0.4045\n",
      "Epoch 73/100\n",
      "363/363 [==============================] - 0s 805us/step - loss: 0.3738 - val_loss: 0.4040\n",
      "Epoch 74/100\n",
      "363/363 [==============================] - 0s 812us/step - loss: 0.3733 - val_loss: 0.4035\n",
      "Epoch 75/100\n",
      "363/363 [==============================] - 0s 778us/step - loss: 0.3724 - val_loss: 0.4027\n",
      "Epoch 76/100\n",
      "363/363 [==============================] - 0s 818us/step - loss: 0.3718 - val_loss: 0.4018\n",
      "Epoch 77/100\n",
      "363/363 [==============================] - 0s 856us/step - loss: 0.3711 - val_loss: 0.4019\n",
      "Epoch 78/100\n",
      "363/363 [==============================] - 0s 796us/step - loss: 0.3702 - val_loss: 0.4014\n",
      "Epoch 79/100\n",
      "363/363 [==============================] - 0s 821us/step - loss: 0.3696 - val_loss: 0.4005\n"
     ]
    },
    {
     "name": "stdout",
     "output_type": "stream",
     "text": [
      "Epoch 80/100\n",
      "363/363 [==============================] - 0s 773us/step - loss: 0.3687 - val_loss: 0.3994\n",
      "Epoch 81/100\n",
      "363/363 [==============================] - 0s 790us/step - loss: 0.3680 - val_loss: 0.3997\n",
      "Epoch 82/100\n",
      "363/363 [==============================] - 0s 772us/step - loss: 0.3672 - val_loss: 0.4006\n",
      "Epoch 83/100\n",
      "363/363 [==============================] - 0s 795us/step - loss: 0.3667 - val_loss: 0.3993\n",
      "Epoch 84/100\n",
      "363/363 [==============================] - 0s 768us/step - loss: 0.3659 - val_loss: 0.3985\n",
      "Epoch 85/100\n",
      "363/363 [==============================] - 0s 786us/step - loss: 0.3650 - val_loss: 0.3980\n",
      "Epoch 86/100\n",
      "363/363 [==============================] - 0s 784us/step - loss: 0.3644 - val_loss: 0.3973\n",
      "Epoch 87/100\n",
      "363/363 [==============================] - 0s 828us/step - loss: 0.3636 - val_loss: 0.3968\n",
      "Epoch 88/100\n",
      "363/363 [==============================] - 0s 798us/step - loss: 0.3631 - val_loss: 0.3953\n",
      "Epoch 89/100\n",
      "363/363 [==============================] - 0s 783us/step - loss: 0.3617 - val_loss: 0.3962\n",
      "Epoch 90/100\n",
      "363/363 [==============================] - 0s 816us/step - loss: 0.3616 - val_loss: 0.3951\n",
      "Epoch 91/100\n",
      "363/363 [==============================] - 0s 781us/step - loss: 0.3608 - val_loss: 0.3935\n",
      "Epoch 92/100\n",
      "363/363 [==============================] - 0s 794us/step - loss: 0.3601 - val_loss: 0.3940\n",
      "Epoch 93/100\n",
      "363/363 [==============================] - 0s 789us/step - loss: 0.3594 - val_loss: 0.3940\n",
      "Epoch 94/100\n",
      "363/363 [==============================] - 0s 834us/step - loss: 0.3586 - val_loss: 0.3925\n",
      "Epoch 95/100\n",
      "363/363 [==============================] - 0s 825us/step - loss: 0.3579 - val_loss: 0.3923\n",
      "Epoch 96/100\n",
      "363/363 [==============================] - 0s 800us/step - loss: 0.3572 - val_loss: 0.3928\n",
      "Epoch 97/100\n",
      "363/363 [==============================] - 0s 789us/step - loss: 0.3567 - val_loss: 0.3907\n",
      "Epoch 98/100\n",
      "363/363 [==============================] - 0s 827us/step - loss: 0.3561 - val_loss: 0.3906\n",
      "Epoch 99/100\n",
      "363/363 [==============================] - 0s 766us/step - loss: 0.3553 - val_loss: 0.3898\n",
      "Epoch 100/100\n",
      "363/363 [==============================] - 0s 807us/step - loss: 0.3547 - val_loss: 0.3892\n"
     ]
    }
   ],
   "source": [
    "model.compile(loss='mse', optimizer=keras.optimizers.SGD(learning_rate=1e-3))\n",
    "history = model.fit(X_train, y_train, epochs=100, validation_data=(X_val, y_val),\n",
    "                    callbacks=[checkpoint_cb, early_stopping_cb]\n",
    "                   )"
   ]
  },
  {
   "cell_type": "code",
   "execution_count": 82,
   "metadata": {},
   "outputs": [
    {
     "name": "stdout",
     "output_type": "stream",
     "text": [
      "162/162 [==============================] - 0s 411us/step - loss: 0.3678\n"
     ]
    }
   ],
   "source": [
    "model = keras.models.load_model(\"my_keras_model.h5\")\n",
    "mse_test = model.evaluate(X_test, y_test)"
   ]
  },
  {
   "cell_type": "code",
   "execution_count": 83,
   "metadata": {
    "scrolled": false
   },
   "outputs": [
    {
     "data": {
      "image/png": "[encoded data removed]",
      "text/plain": [
       "<Figure size 576x360 with 1 Axes>"
      ]
     },
     "metadata": {
      "needs_background": "light"
     },
     "output_type": "display_data"
    }
   ],
   "source": [
    "# 绘制学习曲线\n",
    "pd.DataFrame(history.history).plot(figsize=(8,5))\n",
    "plt.grid(True)\n",
    "#plt.gca().set_ylim(0, 1)    # 图例的位置\n",
    "\n",
    "#plt.xticks(np.arange(0, history.params['epochs'], 2))\n",
    "plt.xlabel('epochs')\n",
    "plt.show()"
   ]
  },
  {
   "cell_type": "code",
   "execution_count": 84,
   "metadata": {},
   "outputs": [],
   "source": [
    "keras.backend.clear_session()"
   ]
  },
  {
   "cell_type": "markdown",
   "metadata": {},
   "source": [
    "## 使用TensorBoard进行可视化"
   ]
  },
  {
   "cell_type": "markdown",
   "metadata": {},
   "source": [
    "使用`TensorBoard`,需要修改程序以便将要可视化的数据输出到名为事件文件的特殊二进制日志文件中。毎个二进制数据记录称为`摘要`。 `TensorBoard`服务器将监视日志目录,并将自动获取更改并更新可视化效果:这使你可以可视化实时数据(有短暂延退),例如训练期间的学习曲线。\n",
    "\n",
    "通常你需要把`TensorBoard`服务器指向根日志目录并配置程序,以使其在每次运行时都写入不同的子目录。这样相同的`TensorBoard`服务器实例可以使你可视化并比较程序多次运行中的数据,而不会混淆所有内容。"
   ]
  },
  {
   "cell_type": "markdown",
   "metadata": {},
   "source": [
    "首先定义用于`TensorBoard`日志的根日志目录,再加上一个将根据当前日期和时间生成一个子目录的函数,以便每次运行时都不同。"
   ]
  },
  {
   "cell_type": "code",
   "execution_count": 85,
   "metadata": {},
   "outputs": [],
   "source": [
    "import os\n",
    "import time"
   ]
  },
  {
   "cell_type": "code",
   "execution_count": 86,
   "metadata": {},
   "outputs": [
    {
     "data": {
      "text/plain": [
       "'./my_logs'"
      ]
     },
     "execution_count": 86,
     "metadata": {},
     "output_type": "execute_result"
    }
   ],
   "source": [
    "root_logdir = os.path.join(os.curdir, \"my_logs\")\n",
    "root_logdir"
   ]
  },
  {
   "cell_type": "code",
   "execution_count": 87,
   "metadata": {},
   "outputs": [
    {
     "data": {
      "text/plain": [
       "'./my_logs/run_2021_09_23-18_29_39'"
      ]
     },
     "execution_count": 87,
     "metadata": {},
     "output_type": "execute_result"
    }
   ],
   "source": [
    "def get_run_logdir():\n",
    "    run_id = time.strftime(\"run_%Y_%m_%d-%H_%M_%S\")\n",
    "    return os.path.join(root_logdir, run_id)\n",
    "\n",
    "run_dir = get_run_logdir()\n",
    "run_dir"
   ]
  },
  {
   "cell_type": "markdown",
   "metadata": {},
   "source": [
    "以学习率为0.01为例"
   ]
  },
  {
   "cell_type": "code",
   "execution_count": 88,
   "metadata": {},
   "outputs": [],
   "source": [
    "model = keras.models.Sequential([\n",
    "    keras.layers.Dense(30, activation=\"relu\", input_shape=[8]),\n",
    "    keras.layers.Dense(30, activation=\"relu\"),\n",
    "    keras.layers.Dense(1)\n",
    "])\n",
    "model.compile(loss='mse', optimizer=keras.optimizers.SGD(learning_rate=1e-3))"
   ]
  },
  {
   "cell_type": "code",
   "execution_count": 89,
   "metadata": {},
   "outputs": [],
   "source": [
    "# 使用TensorBoard()回调\n",
    "tensorboard_cb = keras.callbacks.TensorBoard(run_dir)"
   ]
  },
  {
   "cell_type": "code",
   "execution_count": 90,
   "metadata": {},
   "outputs": [
    {
     "name": "stdout",
     "output_type": "stream",
     "text": [
      "Epoch 1/30\n",
      "363/363 [==============================] - 1s 1ms/step - loss: 1.9686 - val_loss: 0.8856\n",
      "Epoch 2/30\n",
      "363/363 [==============================] - 0s 856us/step - loss: 0.7974 - val_loss: 0.6997\n",
      "Epoch 3/30\n",
      "363/363 [==============================] - 0s 820us/step - loss: 0.6773 - val_loss: 0.6554\n",
      "Epoch 4/30\n",
      "363/363 [==============================] - 0s 826us/step - loss: 0.6322 - val_loss: 0.6231\n",
      "Epoch 5/30\n",
      "363/363 [==============================] - 0s 896us/step - loss: 0.6002 - val_loss: 0.5961\n",
      "Epoch 6/30\n",
      "363/363 [==============================] - 0s 811us/step - loss: 0.5741 - val_loss: 0.5745\n",
      "Epoch 7/30\n",
      "363/363 [==============================] - 0s 852us/step - loss: 0.5528 - val_loss: 0.5561\n",
      "Epoch 8/30\n",
      "363/363 [==============================] - 0s 797us/step - loss: 0.5348 - val_loss: 0.5408\n",
      "Epoch 9/30\n",
      "363/363 [==============================] - 0s 790us/step - loss: 0.5201 - val_loss: 0.5285\n",
      "Epoch 10/30\n",
      "363/363 [==============================] - 0s 809us/step - loss: 0.5082 - val_loss: 0.5180\n",
      "Epoch 11/30\n",
      "363/363 [==============================] - 0s 801us/step - loss: 0.4974 - val_loss: 0.5094\n",
      "Epoch 12/30\n",
      "363/363 [==============================] - 0s 811us/step - loss: 0.4889 - val_loss: 0.5021\n",
      "Epoch 13/30\n",
      "363/363 [==============================] - 0s 792us/step - loss: 0.4814 - val_loss: 0.4952\n",
      "Epoch 14/30\n",
      "363/363 [==============================] - 0s 807us/step - loss: 0.4749 - val_loss: 0.4896\n",
      "Epoch 15/30\n",
      "363/363 [==============================] - 0s 785us/step - loss: 0.4692 - val_loss: 0.4858\n",
      "Epoch 16/30\n",
      "363/363 [==============================] - 0s 806us/step - loss: 0.4646 - val_loss: 0.4803\n",
      "Epoch 17/30\n",
      "363/363 [==============================] - 0s 855us/step - loss: 0.4601 - val_loss: 0.4782\n",
      "Epoch 18/30\n",
      "363/363 [==============================] - 0s 810us/step - loss: 0.4562 - val_loss: 0.4742\n",
      "Epoch 19/30\n",
      "363/363 [==============================] - 0s 795us/step - loss: 0.4528 - val_loss: 0.4703\n",
      "Epoch 20/30\n",
      "363/363 [==============================] - 0s 804us/step - loss: 0.4494 - val_loss: 0.4684\n",
      "Epoch 21/30\n",
      "363/363 [==============================] - 0s 801us/step - loss: 0.4466 - val_loss: 0.4645\n",
      "Epoch 22/30\n",
      "363/363 [==============================] - 0s 819us/step - loss: 0.4438 - val_loss: 0.4626\n",
      "Epoch 23/30\n",
      "363/363 [==============================] - 0s 785us/step - loss: 0.4412 - val_loss: 0.4603\n",
      "Epoch 24/30\n",
      "363/363 [==============================] - 0s 821us/step - loss: 0.4388 - val_loss: 0.4583\n",
      "Epoch 25/30\n",
      "363/363 [==============================] - 0s 801us/step - loss: 0.4364 - val_loss: 0.4568\n",
      "Epoch 26/30\n",
      "363/363 [==============================] - 0s 798us/step - loss: 0.4345 - val_loss: 0.4559\n",
      "Epoch 27/30\n",
      "363/363 [==============================] - 0s 950us/step - loss: 0.4324 - val_loss: 0.4532\n",
      "Epoch 28/30\n",
      "363/363 [==============================] - 0s 862us/step - loss: 0.4307 - val_loss: 0.4507\n",
      "Epoch 29/30\n",
      "363/363 [==============================] - 0s 820us/step - loss: 0.4287 - val_loss: 0.4497\n",
      "Epoch 30/30\n",
      "363/363 [==============================] - 0s 828us/step - loss: 0.4268 - val_loss: 0.4483\n"
     ]
    }
   ],
   "source": [
    "history = model.fit(X_train, y_train, epochs=30, validation_data=(X_val, y_val),\n",
    "                    callbacks=[checkpoint_cb, tensorboard_cb]\n",
    "                   )"
   ]
  },
  {
   "cell_type": "markdown",
   "metadata": {},
   "source": [
    "- 启动`TensorBoard`服务器"
   ]
  },
  {
   "cell_type": "markdown",
   "metadata": {},
   "source": [
    "1. 终端启动\n",
    "```bash\n",
    "$ tensorboard --logdir=./my_logs --port=6006\n",
    "```"
   ]
  },
  {
   "cell_type": "markdown",
   "metadata": {},
   "source": [
    "2. 直接在Jupyter启动"
   ]
  },
  {
   "cell_type": "code",
   "execution_count": 114,
   "metadata": {},
   "outputs": [
    {
     "name": "stdout",
     "output_type": "stream",
     "text": [
      "The tensorboard extension is already loaded. To reload it, use:\n",
      "  %reload_ext tensorboard\n"
     ]
    },
    {
     "data": {
      "text/plain": [
       "Reusing TensorBoard on port 6060 (pid 13097), started 0:00:15 ago. (Use '!kill 13097' to kill it.)"
      ]
     },
     "metadata": {},
     "output_type": "display_data"
    },
    {
     "data": {
      "text/html": [
       "\n",
       "      <iframe id=\"tensorboard-frame-8fb4f5ec81f66fa1\" width=\"100%\" height=\"800\" frameborder=\"0\">\n",
       "      </iframe>\n",
       "      <script>\n",
       "        (function() {\n",
       "          const frame = document.getElementById(\"tensorboard-frame-8fb4f5ec81f66fa1\");\n",
       "          const url = new URL(\"/\", window.location);\n",
       "          const port = 6060;\n",
       "          if (port) {\n",
       "            url.port = port;\n",
       "          }\n",
       "          frame.src = url;\n",
       "        })();\n",
       "      </script>\n",
       "    "
      ],
      "text/plain": [
       "<IPython.core.display.HTML object>"
      ]
     },
     "metadata": {},
     "output_type": "display_data"
    }
   ],
   "source": [
    "%load_ext tensorboard\n",
    "%tensorboard --logdir=./my_logs --port=6060"
   ]
  },
  {
   "cell_type": "markdown",
   "metadata": {},
   "source": [
    "# 微调神经网络超参数 Fine-Tuning Neural Network Hyperparameters"
   ]
  },
  {
   "cell_type": "markdown",
   "metadata": {},
   "source": [
    "如何知道那种超参数适合你的任务呢？一种选择是简单的尝试超参数的许多组合，然后查看那种对验证集最有效。为此，我们需要将`Keras`模型包装在模仿常规`Scikit-Learn`回归器的对象中。"
   ]
  },
  {
   "cell_type": "markdown",
   "metadata": {},
   "source": [
    "1. 构建一个函数，在给定一组超参数的情况下构建并编译Keras模型"
   ]
  },
  {
   "cell_type": "code",
   "execution_count": 92,
   "metadata": {},
   "outputs": [],
   "source": [
    "def build_model(n_hidden=1, n_neurons=30, learning_rate=3e-3, input_shape=[8]):\n",
    "    model = keras.models.Sequential()\n",
    "    \n",
    "    model.add(keras.layers.InputLayer(input_shape=input_shape))\n",
    "    for layer in range(n_hidden):\n",
    "        model.add(keras.layers.Dense(n_neurons, activation=\"relu\"))\n",
    "    model.add(keras.layers.Dense(1))\n",
    "    \n",
    "    model.compile(loss=\"mse\",\n",
    "                  optimizer=keras.optimizers.SGD(learning_rate=learning_rate)\n",
    "                 )\n",
    "    return model"
   ]
  },
  {
   "cell_type": "markdown",
   "metadata": {},
   "source": [
    "2. 构建Keras模型的包装,使用默认超参数.即可像常规`Scikit-Learn`回归器一样使用"
   ]
  },
  {
   "cell_type": "code",
   "execution_count": 93,
   "metadata": {},
   "outputs": [],
   "source": [
    "keras_reg = keras.wrappers.scikit_learn.KerasRegressor(build_model)"
   ]
  },
  {
   "cell_type": "markdown",
   "metadata": {},
   "source": [
    "3. 训练模型"
   ]
  },
  {
   "cell_type": "code",
   "execution_count": 94,
   "metadata": {},
   "outputs": [
    {
     "name": "stdout",
     "output_type": "stream",
     "text": [
      "Epoch 1/100\n",
      "363/363 [==============================] - 1s 1ms/step - loss: 1.1764 - val_loss: 0.7238\n",
      "Epoch 2/100\n",
      "363/363 [==============================] - 0s 803us/step - loss: 0.6456 - val_loss: 0.5994\n",
      "Epoch 3/100\n",
      "363/363 [==============================] - 0s 821us/step - loss: 0.5782 - val_loss: 0.5505\n",
      "Epoch 4/100\n",
      "363/363 [==============================] - 0s 799us/step - loss: 0.5220 - val_loss: 0.5279\n",
      "Epoch 5/100\n",
      "363/363 [==============================] - 0s 801us/step - loss: 0.5148 - val_loss: 0.5061\n",
      "Epoch 6/100\n",
      "363/363 [==============================] - 0s 816us/step - loss: 0.4890 - val_loss: 0.4993\n",
      "Epoch 7/100\n",
      "363/363 [==============================] - 0s 775us/step - loss: 0.4722 - val_loss: 0.4840\n",
      "Epoch 8/100\n",
      "363/363 [==============================] - 0s 797us/step - loss: 0.4621 - val_loss: 0.4798\n",
      "Epoch 9/100\n",
      "363/363 [==============================] - 0s 824us/step - loss: 0.4564 - val_loss: 0.4704\n",
      "Epoch 10/100\n",
      "363/363 [==============================] - 0s 776us/step - loss: 0.4503 - val_loss: 0.4677\n",
      "Epoch 11/100\n",
      "363/363 [==============================] - 0s 804us/step - loss: 0.4453 - val_loss: 0.4638\n",
      "Epoch 12/100\n",
      "363/363 [==============================] - 0s 788us/step - loss: 0.4422 - val_loss: 0.4592\n",
      "Epoch 13/100\n",
      "363/363 [==============================] - 0s 838us/step - loss: 0.4374 - val_loss: 0.4552\n",
      "Epoch 14/100\n",
      "363/363 [==============================] - 0s 855us/step - loss: 0.4335 - val_loss: 0.4514\n",
      "Epoch 15/100\n",
      "363/363 [==============================] - 0s 786us/step - loss: 0.4300 - val_loss: 0.4509\n",
      "Epoch 16/100\n",
      "363/363 [==============================] - 0s 802us/step - loss: 0.4274 - val_loss: 0.4450\n",
      "Epoch 17/100\n",
      "363/363 [==============================] - 0s 806us/step - loss: 0.4240 - val_loss: 0.4454\n",
      "Epoch 18/100\n",
      "363/363 [==============================] - 0s 774us/step - loss: 0.4216 - val_loss: 0.4410\n",
      "Epoch 19/100\n",
      "363/363 [==============================] - 0s 802us/step - loss: 0.4189 - val_loss: 0.4384\n",
      "Epoch 20/100\n",
      "363/363 [==============================] - 0s 794us/step - loss: 0.4163 - val_loss: 0.4373\n",
      "Epoch 21/100\n",
      "363/363 [==============================] - 0s 799us/step - loss: 0.4140 - val_loss: 0.4370\n",
      "Epoch 22/100\n",
      "363/363 [==============================] - 0s 768us/step - loss: 0.4126 - val_loss: 0.4329\n",
      "Epoch 23/100\n",
      "363/363 [==============================] - 0s 812us/step - loss: 0.4092 - val_loss: 0.4338\n",
      "Epoch 24/100\n",
      "363/363 [==============================] - 0s 786us/step - loss: 0.4160 - val_loss: 0.4294\n",
      "Epoch 25/100\n",
      "363/363 [==============================] - 0s 784us/step - loss: 0.4067 - val_loss: 0.4347\n",
      "Epoch 26/100\n",
      "363/363 [==============================] - 0s 823us/step - loss: 0.4236 - val_loss: 0.4310\n",
      "Epoch 27/100\n",
      "363/363 [==============================] - 0s 793us/step - loss: 0.4036 - val_loss: 0.4397\n",
      "Epoch 28/100\n",
      "363/363 [==============================] - 0s 782us/step - loss: 0.4509 - val_loss: 0.4429\n",
      "Epoch 29/100\n",
      "363/363 [==============================] - 0s 767us/step - loss: 0.4124 - val_loss: 0.4500\n",
      "Epoch 30/100\n",
      "363/363 [==============================] - 0s 821us/step - loss: 0.4510 - val_loss: 0.4542\n",
      "Epoch 31/100\n",
      "363/363 [==============================] - 0s 945us/step - loss: 0.4181 - val_loss: 0.4720\n",
      "Epoch 32/100\n",
      "363/363 [==============================] - 0s 798us/step - loss: 0.4279 - val_loss: 0.4394\n",
      "Epoch 33/100\n",
      "363/363 [==============================] - 0s 811us/step - loss: 0.4271 - val_loss: 0.4297\n",
      "Epoch 34/100\n",
      "363/363 [==============================] - 0s 784us/step - loss: 0.3980 - val_loss: 0.4203\n",
      "Epoch 35/100\n",
      "363/363 [==============================] - 0s 847us/step - loss: 0.3949 - val_loss: 0.4163\n",
      "Epoch 36/100\n",
      "363/363 [==============================] - 0s 826us/step - loss: 0.3891 - val_loss: 0.4154\n",
      "Epoch 37/100\n",
      "363/363 [==============================] - 0s 793us/step - loss: 0.3896 - val_loss: 0.4172\n",
      "Epoch 38/100\n",
      "363/363 [==============================] - 0s 797us/step - loss: 0.3862 - val_loss: 0.4128\n",
      "Epoch 39/100\n",
      "363/363 [==============================] - 0s 831us/step - loss: 0.3856 - val_loss: 0.4154\n",
      "Epoch 40/100\n",
      "363/363 [==============================] - 0s 846us/step - loss: 0.3895 - val_loss: 0.4176\n",
      "Epoch 41/100\n",
      "363/363 [==============================] - 0s 790us/step - loss: 0.3874 - val_loss: 0.4156\n",
      "Epoch 42/100\n",
      "363/363 [==============================] - 0s 790us/step - loss: 0.3858 - val_loss: 0.4105\n",
      "Epoch 43/100\n",
      "363/363 [==============================] - 0s 793us/step - loss: 0.3812 - val_loss: 0.4080\n",
      "Epoch 44/100\n",
      "363/363 [==============================] - 0s 763us/step - loss: 0.3802 - val_loss: 0.4043\n",
      "Epoch 45/100\n",
      "363/363 [==============================] - 0s 796us/step - loss: 0.3781 - val_loss: 0.4050\n",
      "Epoch 46/100\n",
      "363/363 [==============================] - 0s 753us/step - loss: 0.3771 - val_loss: 0.4030\n",
      "Epoch 47/100\n",
      "363/363 [==============================] - 0s 797us/step - loss: 0.3758 - val_loss: 0.4029\n",
      "Epoch 48/100\n",
      "363/363 [==============================] - 0s 789us/step - loss: 0.3743 - val_loss: 0.4039\n",
      "Epoch 49/100\n",
      "363/363 [==============================] - 0s 828us/step - loss: 0.3739 - val_loss: 0.4029\n",
      "Epoch 50/100\n",
      "363/363 [==============================] - 0s 800us/step - loss: 0.3733 - val_loss: 0.4010\n",
      "Epoch 51/100\n",
      "363/363 [==============================] - 0s 752us/step - loss: 0.3709 - val_loss: 0.4003\n",
      "Epoch 52/100\n",
      "363/363 [==============================] - 0s 782us/step - loss: 0.3707 - val_loss: 0.4006\n",
      "Epoch 53/100\n",
      "363/363 [==============================] - 0s 758us/step - loss: 0.3698 - val_loss: 0.3960\n",
      "Epoch 54/100\n",
      "363/363 [==============================] - 0s 796us/step - loss: 0.3685 - val_loss: 0.3955\n",
      "Epoch 55/100\n",
      "363/363 [==============================] - 0s 773us/step - loss: 0.3674 - val_loss: 0.3971\n",
      "Epoch 56/100\n",
      "363/363 [==============================] - 0s 760us/step - loss: 0.3686 - val_loss: 0.3950\n",
      "Epoch 57/100\n",
      "363/363 [==============================] - 0s 792us/step - loss: 0.3658 - val_loss: 0.3935\n",
      "Epoch 58/100\n",
      "363/363 [==============================] - 0s 752us/step - loss: 0.3651 - val_loss: 0.3957\n",
      "Epoch 59/100\n",
      "363/363 [==============================] - 0s 772us/step - loss: 0.3727 - val_loss: 0.4005\n",
      "Epoch 60/100\n",
      "363/363 [==============================] - 0s 762us/step - loss: 0.3712 - val_loss: 0.4046\n",
      "Epoch 61/100\n",
      "363/363 [==============================] - 0s 822us/step - loss: 0.3815 - val_loss: 0.3994\n",
      "Epoch 62/100\n",
      "363/363 [==============================] - 0s 775us/step - loss: 0.3701 - val_loss: 0.4055\n",
      "Epoch 63/100\n",
      "363/363 [==============================] - 0s 784us/step - loss: 0.3682 - val_loss: 0.3909\n",
      "Epoch 64/100\n",
      "363/363 [==============================] - 0s 777us/step - loss: 0.3629 - val_loss: 0.3939\n",
      "Epoch 65/100\n",
      "363/363 [==============================] - 0s 759us/step - loss: 0.3614 - val_loss: 0.3897\n",
      "Epoch 66/100\n",
      "363/363 [==============================] - 0s 763us/step - loss: 0.3595 - val_loss: 0.3885\n",
      "Epoch 67/100\n",
      "363/363 [==============================] - 0s 766us/step - loss: 0.3585 - val_loss: 0.3886\n",
      "Epoch 68/100\n",
      "363/363 [==============================] - 0s 792us/step - loss: 0.3584 - val_loss: 0.3903\n",
      "Epoch 69/100\n",
      "363/363 [==============================] - 0s 760us/step - loss: 0.3572 - val_loss: 0.3919\n",
      "Epoch 70/100\n",
      "363/363 [==============================] - 0s 757us/step - loss: 0.3567 - val_loss: 0.3913\n",
      "Epoch 71/100\n",
      "363/363 [==============================] - 0s 820us/step - loss: 0.3558 - val_loss: 0.3857\n",
      "Epoch 72/100\n",
      "363/363 [==============================] - 0s 766us/step - loss: 0.3556 - val_loss: 0.3856\n",
      "Epoch 73/100\n",
      "363/363 [==============================] - 0s 796us/step - loss: 0.3554 - val_loss: 0.3857\n",
      "Epoch 74/100\n",
      "363/363 [==============================] - 0s 761us/step - loss: 0.3598 - val_loss: 0.3843\n",
      "Epoch 75/100\n",
      "363/363 [==============================] - 0s 814us/step - loss: 0.3534 - val_loss: 0.3830\n",
      "Epoch 76/100\n",
      "363/363 [==============================] - 0s 564us/step - loss: 0.3527 - val_loss: 0.3820\n",
      "Epoch 77/100\n",
      "363/363 [==============================] - 0s 561us/step - loss: 0.3523 - val_loss: 0.3851\n",
      "Epoch 78/100\n",
      "363/363 [==============================] - 0s 693us/step - loss: 0.3531 - val_loss: 0.3857\n",
      "Epoch 79/100\n",
      "363/363 [==============================] - 0s 805us/step - loss: 0.3530 - val_loss: 0.3819\n"
     ]
    },
    {
     "name": "stdout",
     "output_type": "stream",
     "text": [
      "Epoch 80/100\n",
      "363/363 [==============================] - 0s 752us/step - loss: 0.3508 - val_loss: 0.3819\n",
      "Epoch 81/100\n",
      "363/363 [==============================] - 0s 762us/step - loss: 0.3520 - val_loss: 0.3827\n",
      "Epoch 82/100\n",
      "363/363 [==============================] - 0s 751us/step - loss: 0.3570 - val_loss: 0.3857\n",
      "Epoch 83/100\n",
      "363/363 [==============================] - 0s 806us/step - loss: 0.3496 - val_loss: 0.3825\n",
      "Epoch 84/100\n",
      "363/363 [==============================] - 0s 817us/step - loss: 0.3530 - val_loss: 0.3812\n",
      "Epoch 85/100\n",
      "363/363 [==============================] - 0s 764us/step - loss: 0.3493 - val_loss: 0.3884\n",
      "Epoch 86/100\n",
      "363/363 [==============================] - 0s 793us/step - loss: 0.3569 - val_loss: 0.3815\n",
      "Epoch 87/100\n",
      "363/363 [==============================] - 0s 811us/step - loss: 0.3477 - val_loss: 0.3811\n",
      "Epoch 88/100\n",
      "363/363 [==============================] - 0s 779us/step - loss: 0.3488 - val_loss: 0.3850\n",
      "Epoch 89/100\n",
      "363/363 [==============================] - 0s 805us/step - loss: 0.3517 - val_loss: 0.3831\n",
      "Epoch 90/100\n",
      "363/363 [==============================] - 0s 767us/step - loss: 0.3514 - val_loss: 0.3861\n",
      "Epoch 91/100\n",
      "363/363 [==============================] - 0s 773us/step - loss: 0.3548 - val_loss: 0.3837\n",
      "Epoch 92/100\n",
      "363/363 [==============================] - 0s 853us/step - loss: 0.3517 - val_loss: 0.3887\n",
      "Epoch 93/100\n",
      "363/363 [==============================] - 0s 787us/step - loss: 0.3504 - val_loss: 0.3799\n",
      "Epoch 94/100\n",
      "363/363 [==============================] - 0s 788us/step - loss: 0.3471 - val_loss: 0.3808\n",
      "Epoch 95/100\n",
      "363/363 [==============================] - 0s 791us/step - loss: 0.3493 - val_loss: 0.3790\n",
      "Epoch 96/100\n",
      "363/363 [==============================] - 0s 793us/step - loss: 0.3473 - val_loss: 0.3902\n",
      "Epoch 97/100\n",
      "363/363 [==============================] - 0s 763us/step - loss: 0.3525 - val_loss: 0.3795\n",
      "Epoch 98/100\n",
      "363/363 [==============================] - 0s 768us/step - loss: 0.3540 - val_loss: 0.3759\n",
      "Epoch 99/100\n",
      "363/363 [==============================] - 0s 831us/step - loss: 0.3434 - val_loss: 0.3752\n",
      "Epoch 100/100\n",
      "363/363 [==============================] - 0s 780us/step - loss: 0.3439 - val_loss: 0.3756\n"
     ]
    },
    {
     "data": {
      "text/plain": [
       "<tensorflow.python.keras.callbacks.History at 0x7fd72986c790>"
      ]
     },
     "execution_count": 94,
     "metadata": {},
     "output_type": "execute_result"
    }
   ],
   "source": [
    "early_stopping_cb = keras.callbacks.EarlyStopping(patience=10, restore_best_weights=True)\n",
    "\n",
    "keras_reg.fit(X_train, y_train, epochs=100,\n",
    "              validation_data=(X_val, y_val),\n",
    "              callbacks=[early_stopping_cb]\n",
    "             )"
   ]
  },
  {
   "cell_type": "markdown",
   "metadata": {},
   "source": [
    "4. 评估 预测"
   ]
  },
  {
   "cell_type": "code",
   "execution_count": 95,
   "metadata": {},
   "outputs": [
    {
     "name": "stdout",
     "output_type": "stream",
     "text": [
      "162/162 [==============================] - 0s 686us/step - loss: 0.3552\n"
     ]
    },
    {
     "data": {
      "text/plain": [
       "array([0.6373527, 1.5384126, 3.696259 ], dtype=float32)"
      ]
     },
     "execution_count": 95,
     "metadata": {},
     "output_type": "execute_result"
    }
   ],
   "source": [
    "mse_test = keras_reg.score(X_test, y_test)\n",
    "y_pred = keras_reg.predict(X_new)\n",
    "y_pred"
   ]
  },
  {
   "cell_type": "markdown",
   "metadata": {},
   "source": [
    "5. 使用`随机搜索`,尝试探索隐藏层的数量、神经元数量和学习率"
   ]
  },
  {
   "cell_type": "code",
   "execution_count": 96,
   "metadata": {},
   "outputs": [],
   "source": [
    "from scipy.stats import reciprocal\n",
    "from sklearn.model_selection import RandomizedSearchCV"
   ]
  },
  {
   "cell_type": "code",
   "execution_count": 97,
   "metadata": {},
   "outputs": [],
   "source": [
    "param_distribs = {\n",
    "    \"n_hidden\":[0, 1, 2, 3],\n",
    "    \"n_neurons\":np.arange(1, 100).tolist(),\n",
    "    \"learning_rate\":reciprocal(3e-4, 3e-2).rvs(1000).tolist()\n",
    "}"
   ]
  },
  {
   "cell_type": "code",
   "execution_count": 98,
   "metadata": {},
   "outputs": [
    {
     "name": "stdout",
     "output_type": "stream",
     "text": [
      "Fitting 3 folds for each of 10 candidates, totalling 30 fits\n"
     ]
    },
    {
     "name": "stderr",
     "output_type": "stream",
     "text": [
      "[Parallel(n_jobs=-1)]: Using backend LokyBackend with 12 concurrent workers.\n",
      "[Parallel(n_jobs=-1)]: Done  23 out of  30 | elapsed:  2.7min remaining:   48.6s\n",
      "[Parallel(n_jobs=-1)]: Done  30 out of  30 | elapsed:  2.9min finished\n"
     ]
    },
    {
     "name": "stdout",
     "output_type": "stream",
     "text": [
      "Epoch 1/100\n",
      "363/363 [==============================] - 1s 1ms/step - loss: 0.6096 - val_loss: 0.4839\n",
      "Epoch 2/100\n",
      "363/363 [==============================] - 0s 831us/step - loss: 0.4408 - val_loss: 0.4546\n",
      "Epoch 3/100\n",
      "363/363 [==============================] - 0s 824us/step - loss: 0.4380 - val_loss: 0.4213\n",
      "Epoch 4/100\n",
      "363/363 [==============================] - 0s 823us/step - loss: 0.3984 - val_loss: 0.4280\n",
      "Epoch 5/100\n",
      "363/363 [==============================] - 0s 857us/step - loss: 0.4241 - val_loss: 0.4126\n",
      "Epoch 6/100\n",
      "363/363 [==============================] - 0s 828us/step - loss: 0.3878 - val_loss: 0.4023\n",
      "Epoch 7/100\n",
      "363/363 [==============================] - 0s 830us/step - loss: 0.3728 - val_loss: 0.3883\n",
      "Epoch 8/100\n",
      "363/363 [==============================] - 0s 843us/step - loss: 0.3619 - val_loss: 0.3990\n",
      "Epoch 9/100\n",
      "363/363 [==============================] - 0s 830us/step - loss: 0.3564 - val_loss: 0.3898\n",
      "Epoch 10/100\n",
      "363/363 [==============================] - 0s 803us/step - loss: 0.3526 - val_loss: 0.3822\n",
      "Epoch 11/100\n",
      "363/363 [==============================] - 0s 844us/step - loss: 0.3467 - val_loss: 0.3758\n",
      "Epoch 12/100\n",
      "363/363 [==============================] - 0s 822us/step - loss: 0.3451 - val_loss: 0.3804\n",
      "Epoch 13/100\n",
      "363/363 [==============================] - 0s 813us/step - loss: 0.3392 - val_loss: 0.3833\n",
      "Epoch 14/100\n",
      "363/363 [==============================] - 0s 810us/step - loss: 0.3377 - val_loss: 0.3701\n",
      "Epoch 15/100\n",
      "363/363 [==============================] - 0s 877us/step - loss: 0.3343 - val_loss: 0.3966\n",
      "Epoch 16/100\n",
      "363/363 [==============================] - 0s 843us/step - loss: 0.3320 - val_loss: 0.3573\n",
      "Epoch 17/100\n",
      "363/363 [==============================] - 0s 825us/step - loss: 0.3301 - val_loss: 0.3631\n",
      "Epoch 18/100\n",
      "363/363 [==============================] - 0s 854us/step - loss: 0.3249 - val_loss: 0.3539\n",
      "Epoch 19/100\n",
      "363/363 [==============================] - 0s 823us/step - loss: 0.3253 - val_loss: 0.3648\n",
      "Epoch 20/100\n",
      "363/363 [==============================] - 0s 814us/step - loss: 0.3231 - val_loss: 0.3578\n",
      "Epoch 21/100\n",
      "363/363 [==============================] - 0s 837us/step - loss: 0.3204 - val_loss: 0.3447\n",
      "Epoch 22/100\n",
      "363/363 [==============================] - 0s 820us/step - loss: 0.3175 - val_loss: 0.3567\n",
      "Epoch 23/100\n",
      "363/363 [==============================] - 0s 829us/step - loss: 0.3152 - val_loss: 0.3553\n",
      "Epoch 24/100\n",
      "363/363 [==============================] - 0s 816us/step - loss: 0.3145 - val_loss: 0.3463\n",
      "Epoch 25/100\n",
      "363/363 [==============================] - 0s 871us/step - loss: 0.3110 - val_loss: 0.3387\n",
      "Epoch 26/100\n",
      "363/363 [==============================] - 0s 822us/step - loss: 0.3099 - val_loss: 0.3422\n",
      "Epoch 27/100\n",
      "363/363 [==============================] - 0s 818us/step - loss: 0.3096 - val_loss: 0.3900\n",
      "Epoch 28/100\n",
      "363/363 [==============================] - 0s 905us/step - loss: 0.3087 - val_loss: 0.3587\n",
      "Epoch 29/100\n",
      "363/363 [==============================] - 0s 819us/step - loss: 0.3076 - val_loss: 0.3325\n",
      "Epoch 30/100\n",
      "363/363 [==============================] - 0s 835us/step - loss: 0.3039 - val_loss: 0.3498\n",
      "Epoch 31/100\n",
      "363/363 [==============================] - 0s 848us/step - loss: 0.3029 - val_loss: 0.3536\n",
      "Epoch 32/100\n",
      "363/363 [==============================] - 0s 809us/step - loss: 0.3034 - val_loss: 0.3302\n",
      "Epoch 33/100\n",
      "363/363 [==============================] - 0s 815us/step - loss: 0.3022 - val_loss: 0.3284\n",
      "Epoch 34/100\n",
      "363/363 [==============================] - 0s 841us/step - loss: 0.3001 - val_loss: 0.3275\n",
      "Epoch 35/100\n",
      "363/363 [==============================] - 0s 861us/step - loss: 0.2957 - val_loss: 0.3293\n",
      "Epoch 36/100\n",
      "363/363 [==============================] - 0s 794us/step - loss: 0.2978 - val_loss: 0.3333\n",
      "Epoch 37/100\n",
      "363/363 [==============================] - 0s 803us/step - loss: 0.2950 - val_loss: 0.3352\n",
      "Epoch 38/100\n",
      "363/363 [==============================] - 0s 843us/step - loss: 0.2947 - val_loss: 0.3250\n",
      "Epoch 39/100\n",
      "363/363 [==============================] - 0s 782us/step - loss: 0.2932 - val_loss: 0.3551\n",
      "Epoch 40/100\n",
      "363/363 [==============================] - 0s 821us/step - loss: 0.2925 - val_loss: 0.3323\n",
      "Epoch 41/100\n",
      "363/363 [==============================] - 0s 819us/step - loss: 0.2915 - val_loss: 0.3250\n",
      "Epoch 42/100\n",
      "363/363 [==============================] - 0s 794us/step - loss: 0.2901 - val_loss: 0.3276\n",
      "Epoch 43/100\n",
      "363/363 [==============================] - 0s 788us/step - loss: 0.2889 - val_loss: 0.3362\n",
      "Epoch 44/100\n",
      "363/363 [==============================] - 0s 780us/step - loss: 0.2886 - val_loss: 0.3268\n",
      "Epoch 45/100\n",
      "363/363 [==============================] - 0s 896us/step - loss: 0.2877 - val_loss: 0.3338\n",
      "Epoch 46/100\n",
      "363/363 [==============================] - 0s 879us/step - loss: 0.2892 - val_loss: 0.3182\n",
      "Epoch 47/100\n",
      "363/363 [==============================] - 0s 806us/step - loss: 0.2852 - val_loss: 0.3252\n",
      "Epoch 48/100\n",
      "363/363 [==============================] - 0s 839us/step - loss: 0.2846 - val_loss: 0.3254\n",
      "Epoch 49/100\n",
      "363/363 [==============================] - 0s 815us/step - loss: 0.2853 - val_loss: 0.3177\n",
      "Epoch 50/100\n",
      "363/363 [==============================] - 0s 782us/step - loss: 0.2839 - val_loss: 0.3315\n",
      "Epoch 51/100\n",
      "363/363 [==============================] - 0s 831us/step - loss: 0.2818 - val_loss: 0.3067\n",
      "Epoch 52/100\n",
      "363/363 [==============================] - 0s 817us/step - loss: 0.2836 - val_loss: 0.3116\n",
      "Epoch 53/100\n",
      "363/363 [==============================] - 0s 784us/step - loss: 0.2847 - val_loss: 0.3073\n",
      "Epoch 54/100\n",
      "363/363 [==============================] - 0s 805us/step - loss: 0.2806 - val_loss: 0.3179\n",
      "Epoch 55/100\n",
      "363/363 [==============================] - 0s 861us/step - loss: 0.2819 - val_loss: 0.3152\n",
      "Epoch 56/100\n",
      "363/363 [==============================] - 0s 819us/step - loss: 0.2814 - val_loss: 0.3135\n",
      "Epoch 57/100\n",
      "363/363 [==============================] - 0s 806us/step - loss: 0.2767 - val_loss: 0.3240\n",
      "Epoch 58/100\n",
      "363/363 [==============================] - 0s 819us/step - loss: 0.2775 - val_loss: 0.3329\n",
      "Epoch 59/100\n",
      "363/363 [==============================] - 0s 857us/step - loss: 0.2764 - val_loss: 0.3099\n",
      "Epoch 60/100\n",
      "363/363 [==============================] - 0s 890us/step - loss: 0.2774 - val_loss: 0.3135\n",
      "Epoch 61/100\n",
      "363/363 [==============================] - 0s 843us/step - loss: 0.2756 - val_loss: 0.3152\n"
     ]
    },
    {
     "data": {
      "text/plain": [
       "RandomizedSearchCV(cv=3, error_score='raise-deprecating',\n",
       "                   estimator=<tensorflow.python.keras.wrappers.scikit_learn.KerasRegressor object at 0x7fd77bf60410>,\n",
       "                   iid='warn', n_iter=10, n_jobs=-1,\n",
       "                   param_distributions={'learning_rate': [0.023070247095618657,\n",
       "                                                          0.0018812193571737948,\n",
       "                                                          0.0008643988194531686,\n",
       "                                                          0.0013501716206451731,\n",
       "                                                          0.015229009691375188,\n",
       "                                                          0.0029716549588189875,...\n",
       "                                                          0.0015637438415165158,\n",
       "                                                          0.003907188555283265,\n",
       "                                                          0.002004143286241076,\n",
       "                                                          0.0006532204398808047,\n",
       "                                                          0.00042185309062706496,\n",
       "                                                          0.0008903981425272313, ...],\n",
       "                                        'n_hidden': [0, 1, 2, 3],\n",
       "                                        'n_neurons': [1, 2, 3, 4, 5, 6, 7, 8, 9,\n",
       "                                                      10, 11, 12, 13, 14, 15,\n",
       "                                                      16, 17, 18, 19, 20, 21,\n",
       "                                                      22, 23, 24, 25, 26, 27,\n",
       "                                                      28, 29, 30, ...]},\n",
       "                   pre_dispatch='2*n_jobs', random_state=42, refit=True,\n",
       "                   return_train_score=False, scoring=None, verbose=2)"
      ]
     },
     "execution_count": 98,
     "metadata": {},
     "output_type": "execute_result"
    }
   ],
   "source": [
    "rnd_search = RandomizedSearchCV(estimator=keras_reg, \n",
    "                                param_distributions=param_distribs,\n",
    "                                n_iter=10,   # 指定训练次数\n",
    "                                cv=3, \n",
    "                                verbose=2, \n",
    "                                random_state=42,\n",
    "                                n_jobs=-1\n",
    "                               )\n",
    "\n",
    "early_stopping_cb = keras.callbacks.EarlyStopping(patience=10, restore_best_weights=True)\n",
    "rnd_search.fit(X_train, y_train, \n",
    "               # 将额外的参数传给fit() 并将它们传递给内部的Keras模型\n",
    "               epochs=100,\n",
    "               validation_data=(X_val, y_val),   # 仅用于提前停止\n",
    "               callbacks=[early_stopping_cb]\n",
    "             )"
   ]
  },
  {
   "cell_type": "markdown",
   "metadata": {},
   "source": [
    "6. 获取最佳的参数组合"
   ]
  },
  {
   "cell_type": "code",
   "execution_count": 99,
   "metadata": {},
   "outputs": [
    {
     "data": {
      "text/plain": [
       "{'n_neurons': 41, 'n_hidden': 2, 'learning_rate': 0.015463220453217146}"
      ]
     },
     "execution_count": 99,
     "metadata": {},
     "output_type": "execute_result"
    }
   ],
   "source": [
    "rnd_search.best_params_"
   ]
  },
  {
   "cell_type": "markdown",
   "metadata": {},
   "source": [
    "7. 保存模型并在测试集上进行评估"
   ]
  },
  {
   "cell_type": "code",
   "execution_count": 100,
   "metadata": {},
   "outputs": [],
   "source": [
    "model = rnd_search.best_estimator_.model"
   ]
  },
  {
   "cell_type": "code",
   "execution_count": 101,
   "metadata": {},
   "outputs": [
    {
     "name": "stdout",
     "output_type": "stream",
     "text": [
      "162/162 [==============================] - 0s 489us/step - loss: 0.2946\n"
     ]
    }
   ],
   "source": [
    "mse_test = model.evaluate(X_test, y_test)"
   ]
  },
  {
   "cell_type": "markdown",
   "metadata": {},
   "source": [
    "# 练习题 Exercise"
   ]
  },
  {
   "cell_type": "markdown",
   "metadata": {},
   "source": [
    "## ex.2"
   ]
  },
  {
   "cell_type": "markdown",
   "metadata": {},
   "source": [
    "Q:使用原始人工神经元绘制一个ANN,以计算A⊕B(其中⊕表示XOR操作)。a⊕b = (¬a ∧ b) ∨ (a ∧¬b)"
   ]
  },
  {
   "cell_type": "markdown",
   "metadata": {},
   "source": [
    "<img src=\"./images/other/10-11.png\" width=\"400\">"
   ]
  },
  {
   "cell_type": "markdown",
   "metadata": {},
   "source": [
    "## ex.3"
   ]
  },
  {
   "cell_type": "markdown",
   "metadata": {},
   "source": [
    "Q:为什么通常最好使用`逻辑回归分类器`而不是经典的`感知器`(即使用感知器训练算法训练的单层阈值逻辑单元)?如何调整感知器以使其等同于逻辑回归分类器."
   ]
  },
  {
   "cell_type": "markdown",
   "metadata": {},
   "source": [
    ">A classical Perceptron will converge only if the dataset is linearly separable, and it won’t be able to estimate class probabilities. In contrast, **a Logistic Regression classifier will converge to a good solution even if the dataset is not linearly separable, and it will output class probabilities**. If you change the Perceptron’s activation function to the logistic activation function (or the softmax activation function if there are multiple neurons), and if you train it using Gradient Descent (or some other optimization algorithm minimizing the cost function, typically cross entropy), then it becomes equivalent to a Logistic Regression classifier."
   ]
  },
  {
   "cell_type": "markdown",
   "metadata": {},
   "source": [
    "## ex.4"
   ]
  },
  {
   "cell_type": "markdown",
   "metadata": {},
   "source": [
    "Q: 为什么逻辑激活函数是训练第一个MLP的关键要素?"
   ]
  },
  {
   "cell_type": "markdown",
   "metadata": {},
   "source": [
    ">The logistic activation function was a key ingredient in training the first MLPs because **its derivative is always nonzero, so Gradient Descent can always roll down the slope**. When the activation function is a step function, Gradient Descent cannot move, as there is no slope at all."
   ]
  },
  {
   "cell_type": "markdown",
   "metadata": {},
   "source": [
    "## ex.5"
   ]
  },
  {
   "cell_type": "markdown",
   "metadata": {},
   "source": [
    "Q:列举三种常用的激活函数。你能画出来吗?"
   ]
  },
  {
   "cell_type": "markdown",
   "metadata": {},
   "source": [
    "<img src=\"./images/other/10-4.png\" width=\"300\">\n",
    "<img src=\"./images/other/10-5.png\" width=\"300\">"
   ]
  },
  {
   "cell_type": "markdown",
   "metadata": {},
   "source": [
    "## ex.6"
   ]
  },
  {
   "cell_type": "markdown",
   "metadata": {},
   "source": [
    "Q:假设你有一个MLP,该MLP由一个输入层和10个直通神经元组成,随后是一个包含50个神经元的隐藏层,最后是3个神经元组成的输出层。所有人工神经元都使用ReLU激活函数。\n",
    ">1. 输入矩阵$X$的形状是什么\n",
    "2. 隐藏层的权重向量$W_h$及其偏置向量$b_h$的形状是什么?\n",
    "3. 输出层的权重向量$W_o$及其偏置向量$b_o$的形状是什么?\n",
    "4. 网络的输出矩阵$Y$的形状是什么?\n",
    "5. 编写等式计算网络的输出矩阵$Y$(作为$X$、$W_h$、$b_h$、$W_o$和$b_o$的函数)。"
   ]
  },
  {
   "cell_type": "markdown",
   "metadata": {},
   "source": [
    ">1. The shape of the input matrix $X$ is $m$ × 10, where $m$ represents the **training batch size.**\n",
    "2. The shape of the hidden layer’s weight vector $W_h$ is 10 × 50, and the length of its bias vector $b_h$ is 50.\n",
    "3. The shape of the output layer’s weight vector $W_o$ is 50 × 3, and the length of its bias vector $h_o$ is 3.\n",
    "4. The shape of the network’s output matrix $Y$ is $m$ × 3.\n",
    "5. $Y* = ReLU[ReLU(X W_h + b_h ) W_o + b_o ]$. Recall that the ReLU function just sets every negative number in the matrix to zero. Also note that when you are adding a bias vector to a matrix, it is added to every single row in the matrix, which is called broadcasting."
   ]
  },
  {
   "cell_type": "markdown",
   "metadata": {},
   "source": [
    "## ex.7"
   ]
  },
  {
   "cell_type": "markdown",
   "metadata": {},
   "source": [
    "Q:如果要将电子邮件分类为垃圾邮件或正常邮件,你需要在输出层中有多少个神经元?你应该在输出层中使用什么激活函数?相反如果你想解决 MNIST.则在输出层中需要多少个神经元,应该使用哪种激活函数?如第2章所述,如何使你的网络预测房价?"
   ]
  },
  {
   "cell_type": "markdown",
   "metadata": {},
   "source": [
    ">1. To classify email into spam or ham, you just need **one neuron** in the output layer of a neural network—for example, indicating the probability that the email is spam. You would typically use the **logistic activation function** in the output layer when estimating a probability. \n",
    "2. If instead you want to tackle MNIST, you need **10 neurons** in the output layer, and you must replace the logistic function with the **softmax activation function**, which can handle multiple classes, outputting one probability per class. \n",
    "3. If you want your neural network to predict housing prices like in Chapter 2, then you need **one output neuron**, using **no activation function** at all in the output layer. 3"
   ]
  },
  {
   "cell_type": "markdown",
   "metadata": {},
   "source": [
    "## ex.8"
   ]
  },
  {
   "cell_type": "markdown",
   "metadata": {},
   "source": [
    "Q:什么是反向传播,它如何工作?反向传播和反向模式的`autodiff`有什么区别?"
   ]
  },
  {
   "cell_type": "markdown",
   "metadata": {},
   "source": [
    ">Backpropagation is a technique used to train artificial neural networks. **It first computes the gradients of the cost function with regard to every model parameter (all the weights and biases), then it performs a Gradient Descent step using these gradients.** This backpropagation step is typically performed thousands or millions of times, using many training batches, until the model parameters converge to values that (hopefully) minimize the cost function. **To compute the gradients, backpropagation uses reverse-mode autodiff** (although it wasn’t called that when backpropagation was invented, and it has been reinvented several times). **Reverse-mode autodiff performs a forward pass through a computation graph, computing every node’s value for the current training batch, and then it performs a reverse pass, computing all the gradients at once** (see Appendix D for more details). So what’s the difference? Well, backpropagation refers to the whole process of training an artificial neural network using multiple backpropagation steps, each of which computes gradients and uses them to perform a Gradient Descent step. In contrast, reverse-mode autodiff is just a technique to compute gradients efficiently, and it happens to be used by backpropagation."
   ]
  },
  {
   "cell_type": "markdown",
   "metadata": {},
   "source": [
    "## ex.9"
   ]
  },
  {
   "cell_type": "markdown",
   "metadata": {},
   "source": [
    "Q:你能否列出可以在基本MLP中进行调整的所有超参数?如果MLP过拟合训练数据你如何调整这些超参数来解决问题?"
   ]
  },
  {
   "cell_type": "markdown",
   "metadata": {},
   "source": [
    ">Here is a list of all the hyperparameters you can tweak in a basic MLP: \n",
    "1. **the number of hidden layers**\n",
    "2. **the number of neurons in each hidden layer**\n",
    "3. **the activation function used in each hidden layer and in the output layer.**  In general, the ReLU activation function (or one of its variants; see Chapter 11) is a good default for the hidden layers. For the output layer, in general you will want the logistic activation function for binary classification, the softmax activation function for multiclass classification, or no activation function for regression.\n",
    "4. If the MLP overfits the training data, you can try **reducing the number of hidden layers** and **reducing the number of neurons per hidden layer**."
   ]
  },
  {
   "cell_type": "markdown",
   "metadata": {},
   "source": [
    "## ex.10"
   ]
  },
  {
   "cell_type": "markdown",
   "metadata": {},
   "source": [
    "Q:完成以下任务:\n",
    ">在 MNIST数据集上训练一个深度MLP,看是否可以获得98%以上的精度。请尝试使用本章介绍的方法来寻找最佳学习率(即通过成倍地提高学习率,画出误差,并找出误差发生的点)。尝试一下其他的功能一一保存检査点,使用早期停止,并使用\n",
    "`TensorBoard`绘制学习曲线。"
   ]
  },
  {
   "cell_type": "markdown",
   "metadata": {},
   "source": [
    "1. Load the dataset"
   ]
  },
  {
   "cell_type": "code",
   "execution_count": 102,
   "metadata": {},
   "outputs": [
    {
     "data": {
      "text/plain": [
       "((60000, 28, 28), dtype('uint8'))"
      ]
     },
     "execution_count": 102,
     "metadata": {},
     "output_type": "execute_result"
    }
   ],
   "source": [
    "mnist = keras.datasets.mnist\n",
    "(X_train_full, y_train_full), (X_test, y_test) = mnist.load_data()\n",
    "\n",
    "X_train_full.shape, X_train_full.dtype"
   ]
  },
  {
   "cell_type": "markdown",
   "metadata": {},
   "source": [
    "2. Split the full training set into a validation set and a (smaller) training set. We also scale the pixel intensities down to the 0-1 range and convert them to floats, by dividing by 255, just like we did for Fashion MNIST"
   ]
  },
  {
   "cell_type": "code",
   "execution_count": 103,
   "metadata": {},
   "outputs": [],
   "source": [
    "X_val, X_train = X_train_full[:5000]/255.0, X_train_full[5000:]/255.0\n",
    "y_val, y_train = y_train_full[:5000], y_train_full[5000:]\n",
    "\n",
    "X_test  = X_test / 255.0"
   ]
  },
  {
   "cell_type": "markdown",
   "metadata": {},
   "source": [
    "3. Plot an image "
   ]
  },
  {
   "cell_type": "code",
   "execution_count": 104,
   "metadata": {},
   "outputs": [
    {
     "data": {
      "image/png": "[encoded data removed]",
      "text/plain": [
       "<Figure size 432x288 with 1 Axes>"
      ]
     },
     "metadata": {
      "needs_background": "light"
     },
     "output_type": "display_data"
    }
   ],
   "source": [
    "plt.imshow(X_train[1], cmap=\"binary\")\n",
    "plt.axis(\"off\")\n",
    "plt.show()"
   ]
  },
  {
   "cell_type": "markdown",
   "metadata": {},
   "source": [
    "4. Let's build a simple dense network and find the optimal learning rate. We will need a callback to grow the learning rate at each iteration. It will also record the learning rate and the loss at each iteration:"
   ]
  },
  {
   "cell_type": "code",
   "execution_count": 105,
   "metadata": {},
   "outputs": [],
   "source": [
    "keras.backend.clear_session()\n",
    "np.random.seed(42)\n",
    "tf.random.set_seed(42)"
   ]
  },
  {
   "cell_type": "code",
   "execution_count": 106,
   "metadata": {},
   "outputs": [],
   "source": [
    "model = keras.models.Sequential([\n",
    "    keras.layers.Flatten(input_shape=[28, 28]),\n",
    "    keras.layers.Dense(300, activation=\"relu\"),\n",
    "    keras.layers.Dense(100, activation=\"relu\"),\n",
    "    keras.layers.Dense(10, activation=\"softmax\")\n",
    "])\n",
    "model.compile(loss=keras.losses.sparse_categorical_crossentropy,\n",
    "              optimizer=keras.optimizers.SGD(learning_rate=1e-3),\n",
    "              metrics=['accuracy']\n",
    "             )"
   ]
  },
  {
   "cell_type": "markdown",
   "metadata": {},
   "source": [
    "5. We will start with a small learning rate of `1e-3`, and grow it by 0.5% at each iteration."
   ]
  },
  {
   "cell_type": "code",
   "execution_count": 107,
   "metadata": {},
   "outputs": [],
   "source": [
    "class expLearningRate(keras.callbacks.Callback):\n",
    "    def __init__(self, factor):\n",
    "        self.factor = factor\n",
    "        self.rates = []\n",
    "        self.losses = []\n",
    "    def on_batch_end(self, batch ,logs):\n",
    "        lr_var = self.model.optimizer.learning_rate\n",
    "        self.rates.append(keras.backend.get_value(lr_var))\n",
    "        self.losses.append(logs[\"loss\"])\n",
    "        \n",
    "        keras.backend.set_value(x=lr_var, value=lr_var*self.factor)\n",
    "\n",
    "exp_lr = expLearningRate(factor=1.005)   # 0.5%"
   ]
  },
  {
   "cell_type": "markdown",
   "metadata": {},
   "source": [
    "6. Train the model for just 1 epoch"
   ]
  },
  {
   "cell_type": "code",
   "execution_count": 108,
   "metadata": {},
   "outputs": [
    {
     "name": "stdout",
     "output_type": "stream",
     "text": [
      "1719/1719 [==============================] - 4s 2ms/step - loss: nan - accuracy: 0.5843 - val_loss: nan - val_accuracy: 0.0958\n"
     ]
    }
   ],
   "source": [
    "history = model.fit(X_train, y_train, epochs=1,\n",
    "                    validation_data=(X_val, y_val),\n",
    "                    callbacks=[exp_lr]\n",
    "                   )"
   ]
  },
  {
   "cell_type": "markdown",
   "metadata": {},
   "source": [
    "7. Plot the loss as a function of the learning rate"
   ]
  },
  {
   "cell_type": "code",
   "execution_count": 109,
   "metadata": {},
   "outputs": [
    {
     "data": {
      "image/png": "[encoded data removed]",
      "text/plain": [
       "<Figure size 432x288 with 1 Axes>"
      ]
     },
     "metadata": {
      "needs_background": "light"
     },
     "output_type": "display_data"
    }
   ],
   "source": [
    "plt.plot(exp_lr.rates, exp_lr.losses)\n",
    "plt.gca().set_xscale('log')\n",
    "plt.hlines(y=min(exp_lr.losses), xmin=min(exp_lr.rates), xmax=max(exp_lr.rates))\n",
    "plt.axis([min(exp_lr.rates), max(exp_lr.rates), 0, exp_lr.losses[0]])\n",
    "plt.grid()\n",
    "plt.xlabel(\"Learning rate\")\n",
    "plt.ylabel(\"Loss\")\n",
    "plt.show()"
   ]
  },
  {
   "cell_type": "markdown",
   "metadata": {},
   "source": [
    "8. The loss starts shooting back up violently when the learning rate goes over `6e-1`, so let's try using half of that, at `3e-1`"
   ]
  },
  {
   "cell_type": "code",
   "execution_count": 110,
   "metadata": {},
   "outputs": [],
   "source": [
    "model = keras.models.Sequential([\n",
    "    keras.layers.Flatten(input_shape=[28, 28]),\n",
    "    keras.layers.Dense(300, activation=\"relu\"),\n",
    "    keras.layers.Dense(100, activation=\"relu\"),\n",
    "    keras.layers.Dense(10, activation=\"softmax\")\n",
    "])\n",
    "model.compile(loss=keras.losses.sparse_categorical_crossentropy,\n",
    "              optimizer=keras.optimizers.SGD(learning_rate=3e-1),\n",
    "              metrics=['accuracy']\n",
    "             )"
   ]
  },
  {
   "cell_type": "code",
   "execution_count": 111,
   "metadata": {},
   "outputs": [
    {
     "data": {
      "text/plain": [
       "'./my_mnist_logs/run_001'"
      ]
     },
     "execution_count": 111,
     "metadata": {},
     "output_type": "execute_result"
    }
   ],
   "source": [
    "run_index = 1\n",
    "run_dir = os.path.join(os.curdir, \"my_mnist_logs\", \"run_{:03d}\".format(run_index))\n",
    "run_dir"
   ]
  },
  {
   "cell_type": "code",
   "execution_count": 112,
   "metadata": {},
   "outputs": [
    {
     "name": "stdout",
     "output_type": "stream",
     "text": [
      "Epoch 1/100\n",
      "1719/1719 [==============================] - 4s 2ms/step - loss: 0.2338 - accuracy: 0.9270 - val_loss: 0.1048 - val_accuracy: 0.9682\n",
      "Epoch 2/100\n",
      "1719/1719 [==============================] - 3s 2ms/step - loss: 0.0946 - accuracy: 0.9703 - val_loss: 0.0855 - val_accuracy: 0.9724\n",
      "Epoch 3/100\n",
      "1719/1719 [==============================] - 3s 2ms/step - loss: 0.0658 - accuracy: 0.9795 - val_loss: 0.0681 - val_accuracy: 0.9800\n",
      "Epoch 4/100\n",
      "1719/1719 [==============================] - 3s 2ms/step - loss: 0.0482 - accuracy: 0.9841 - val_loss: 0.0731 - val_accuracy: 0.9806\n",
      "Epoch 5/100\n",
      "1719/1719 [==============================] - 3s 2ms/step - loss: 0.0364 - accuracy: 0.9881 - val_loss: 0.0895 - val_accuracy: 0.9770\n",
      "Epoch 6/100\n",
      "1719/1719 [==============================] - 3s 2ms/step - loss: 0.0302 - accuracy: 0.9899 - val_loss: 0.0768 - val_accuracy: 0.9790\n",
      "Epoch 7/100\n",
      "1719/1719 [==============================] - 3s 2ms/step - loss: 0.0246 - accuracy: 0.9918 - val_loss: 0.0949 - val_accuracy: 0.9788\n",
      "Epoch 8/100\n",
      "1719/1719 [==============================] - 3s 2ms/step - loss: 0.0183 - accuracy: 0.9939 - val_loss: 0.0918 - val_accuracy: 0.9792\n",
      "Epoch 9/100\n",
      "1719/1719 [==============================] - 3s 2ms/step - loss: 0.0182 - accuracy: 0.9943 - val_loss: 0.0885 - val_accuracy: 0.9796\n",
      "Epoch 10/100\n",
      "1719/1719 [==============================] - 3s 2ms/step - loss: 0.0130 - accuracy: 0.9954 - val_loss: 0.0829 - val_accuracy: 0.9824\n",
      "Epoch 11/100\n",
      "1719/1719 [==============================] - 3s 2ms/step - loss: 0.0104 - accuracy: 0.9965 - val_loss: 0.0904 - val_accuracy: 0.9818\n",
      "Epoch 12/100\n",
      "1719/1719 [==============================] - 3s 2ms/step - loss: 0.0115 - accuracy: 0.9957 - val_loss: 0.0881 - val_accuracy: 0.9804\n",
      "Epoch 13/100\n",
      "1719/1719 [==============================] - 3s 2ms/step - loss: 0.0107 - accuracy: 0.9967 - val_loss: 0.0837 - val_accuracy: 0.9826\n",
      "Epoch 14/100\n",
      "1719/1719 [==============================] - 3s 2ms/step - loss: 0.0065 - accuracy: 0.9979 - val_loss: 0.0783 - val_accuracy: 0.9840\n",
      "Epoch 15/100\n",
      "1719/1719 [==============================] - 3s 2ms/step - loss: 0.0047 - accuracy: 0.9985 - val_loss: 0.0856 - val_accuracy: 0.9840\n",
      "Epoch 16/100\n",
      "1719/1719 [==============================] - 3s 2ms/step - loss: 0.0084 - accuracy: 0.9973 - val_loss: 0.0881 - val_accuracy: 0.9830\n",
      "Epoch 17/100\n",
      "1719/1719 [==============================] - 4s 2ms/step - loss: 0.0051 - accuracy: 0.9986 - val_loss: 0.0864 - val_accuracy: 0.9852\n",
      "Epoch 18/100\n",
      "1719/1719 [==============================] - 4s 2ms/step - loss: 0.0057 - accuracy: 0.9982 - val_loss: 0.0993 - val_accuracy: 0.9842\n",
      "Epoch 19/100\n",
      "1719/1719 [==============================] - 4s 2ms/step - loss: 0.0040 - accuracy: 0.9985 - val_loss: 0.1035 - val_accuracy: 0.9826\n",
      "Epoch 20/100\n",
      "1719/1719 [==============================] - 3s 2ms/step - loss: 0.0121 - accuracy: 0.9964 - val_loss: 0.1130 - val_accuracy: 0.9794\n",
      "Epoch 21/100\n",
      "1719/1719 [==============================] - 3s 2ms/step - loss: 0.0098 - accuracy: 0.9968 - val_loss: 0.0986 - val_accuracy: 0.9822\n",
      "Epoch 22/100\n",
      "1719/1719 [==============================] - 4s 2ms/step - loss: 0.0099 - accuracy: 0.9970 - val_loss: 0.1125 - val_accuracy: 0.9802\n",
      "Epoch 23/100\n",
      "1719/1719 [==============================] - 3s 2ms/step - loss: 0.0066 - accuracy: 0.9977 - val_loss: 0.1137 - val_accuracy: 0.9828\n"
     ]
    }
   ],
   "source": [
    "early_stopping_cb = keras.callbacks.EarlyStopping(patience=20)\n",
    "checkpoint_cb = keras.callbacks.ModelCheckpoint(\"my_mnist_model.h5\", save_best_only=True)\n",
    "tensorboard_cb = keras.callbacks.TensorBoard(run_dir)\n",
    "\n",
    "history = model.fit(X_train, y_train, epochs=100,\n",
    "                    validation_data=(X_val, y_val),\n",
    "                    callbacks=[checkpoint_cb, early_stopping_cb, tensorboard_cb])"
   ]
  },
  {
   "cell_type": "code",
   "execution_count": 115,
   "metadata": {
    "scrolled": true
   },
   "outputs": [
    {
     "name": "stdout",
     "output_type": "stream",
     "text": [
      "The tensorboard extension is already loaded. To reload it, use:\n",
      "  %reload_ext tensorboard\n"
     ]
    },
    {
     "data": {
      "text/plain": [
       "Reusing TensorBoard on port 6060 (pid 13097), started 0:00:22 ago. (Use '!kill 13097' to kill it.)"
      ]
     },
     "metadata": {},
     "output_type": "display_data"
    },
    {
     "data": {
      "text/html": [
       "\n",
       "      <iframe id=\"tensorboard-frame-6a4f8c6d71ebb15\" width=\"100%\" height=\"800\" frameborder=\"0\">\n",
       "      </iframe>\n",
       "      <script>\n",
       "        (function() {\n",
       "          const frame = document.getElementById(\"tensorboard-frame-6a4f8c6d71ebb15\");\n",
       "          const url = new URL(\"/\", window.location);\n",
       "          const port = 6060;\n",
       "          if (port) {\n",
       "            url.port = port;\n",
       "          }\n",
       "          frame.src = url;\n",
       "        })();\n",
       "      </script>\n",
       "    "
      ],
      "text/plain": [
       "<IPython.core.display.HTML object>"
      ]
     },
     "metadata": {},
     "output_type": "display_data"
    }
   ],
   "source": [
    "%load_ext tensorboard\n",
    "%tensorboard --logdir=./my_logs --port=6060"
   ]
  },
  {
   "cell_type": "markdown",
   "metadata": {},
   "source": [
    "> Apotosome 09/23/21"
   ]
  }
 ],
 "metadata": {
  "kernelspec": {
   "display_name": "Python 3",
   "language": "python",
   "name": "python3"
  },
  "language_info": {
   "codemirror_mode": {
    "name": "ipython",
    "version": 3
   },
   "file_extension": ".py",
   "mimetype": "text/x-python",
   "name": "python",
   "nbconvert_exporter": "python",
   "pygments_lexer": "ipython3",
   "version": "3.7.4"
  },
  "toc": {
   "base_numbering": 1,
   "nav_menu": {},
   "number_sections": true,
   "sideBar": true,
   "skip_h1_title": false,
   "title_cell": "Table of Contents",
   "title_sidebar": "Contents",
   "toc_cell": false,
   "toc_position": {
    "height": "calc(100% - 180px)",
    "left": "10px",
    "top": "150px",
    "width": "220.396px"
   },
   "toc_section_display": true,
   "toc_window_display": true
  }
 },
 "nbformat": 4,
 "nbformat_minor": 2
}
