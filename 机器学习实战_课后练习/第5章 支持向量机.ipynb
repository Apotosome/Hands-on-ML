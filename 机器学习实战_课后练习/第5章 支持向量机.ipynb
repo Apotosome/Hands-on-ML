{
 "cells": [
  {
   "cell_type": "markdown",
   "metadata": {},
   "source": [
    "# 线性SVM分类 Linear SVM Classification"
   ]
  },
  {
   "cell_type": "markdown",
   "metadata": {},
   "source": [
    "## 硬间隔最大化 Hard Margin Maximization"
   ]
  },
  {
   "cell_type": "markdown",
   "metadata": {},
   "source": [
    "以鸢尾植物数据集来说明SVM"
   ]
  },
  {
   "cell_type": "code",
   "execution_count": 1,
   "metadata": {},
   "outputs": [],
   "source": [
    "import numpy as np\n",
    "import pandas as pd \n",
    "import matplotlib.pyplot as plt"
   ]
  },
  {
   "cell_type": "code",
   "execution_count": 2,
   "metadata": {},
   "outputs": [],
   "source": [
    "# 1. 加载数据集\n",
    "from sklearn import datasets\n",
    "iris = datasets.load_iris()\n",
    "X = iris['data'][:,(2, 3)]  # 花瓣的长度和宽度\n",
    "y = iris['target']"
   ]
  },
  {
   "cell_type": "code",
   "execution_count": 3,
   "metadata": {},
   "outputs": [],
   "source": [
    "# 2. 仅对变色鸢尾和山鸢尾进行分类\n",
    "target = (y == 0) | (y == 1)  # 维吉尼亚鸢尾不返回\n",
    "X = X[target]\n",
    "y = y[target]"
   ]
  },
  {
   "cell_type": "markdown",
   "metadata": {},
   "source": [
    "- 利用`Scikit-Learn`的`SVR()`函数实现支持向量回归"
   ]
  },
  {
   "cell_type": "code",
   "execution_count": 4,
   "metadata": {},
   "outputs": [],
   "source": [
    "from sklearn.svm import SVC # Linear Support Vector Classification"
   ]
  },
  {
   "cell_type": "code",
   "execution_count": 5,
   "metadata": {},
   "outputs": [
    {
     "data": {
      "text/plain": [
       "SVC(C=inf, cache_size=200, class_weight=None, coef0=0.0,\n",
       "    decision_function_shape='ovr', degree=3, gamma='auto_deprecated',\n",
       "    kernel='linear', max_iter=-1, probability=False, random_state=None,\n",
       "    shrinking=True, tol=0.001, verbose=False)"
      ]
     },
     "execution_count": 5,
     "metadata": {},
     "output_type": "execute_result"
    }
   ],
   "source": [
    "# 3. 使用SVM()进行预测\n",
    "svm_clf = SVC(kernel='linear', C=float(\"inf\"))\n",
    "svm_clf.fit(X, y)"
   ]
  },
  {
   "cell_type": "markdown",
   "metadata": {},
   "source": [
    ">公式1: 超平面方程\n",
    "$$\n",
    "w^Tx+b=0\n",
    "$$"
   ]
  },
  {
   "cell_type": "markdown",
   "metadata": {},
   "source": [
    "以二维平面为例子，超平面方程为$w_0x_0+w_1x_1+b=0$，由此可以得到$x_1 = -\\frac{w_0}{w_1} x_0 - \\frac{b}{w_1}$"
   ]
  },
  {
   "cell_type": "markdown",
   "metadata": {},
   "source": [
    "<img src=\"./images/other/5-1.png\" width=\"400\">"
   ]
  },
  {
   "cell_type": "code",
   "execution_count": 6,
   "metadata": {},
   "outputs": [],
   "source": [
    "# 4. 绘制决策边界\n",
    "def plot_decision_boundary(model, Xmin, Xmax):\n",
    "    w = model.coef_[0]        # 特征权重\n",
    "    b = model.intercept_[0]   # 截距项\n",
    "    \n",
    "    x0 = np.linspace(Xmin, Xmax, 200)\n",
    "    boundary = -(w[0]/w[1])*x0 - (b/w[1])\n",
    "    \n",
    "    margin = 1 / w[1]\n",
    "    up_margin = boundary + margin\n",
    "    down_margin = boundary - margin\n",
    "    \n",
    "    svs = model.support_vectors_  # 求出过切线的点 (1.9,0.4),(3,1.1)\n",
    "    plt.scatter(svs[:, 0], svs[:, 1], s=180, facecolors='#FFAAAA')  # 标注支持向量\n",
    "    \n",
    "    plt.plot(x0, up_margin, 'k--', linewidth=2)\n",
    "    plt.plot(x0, boundary, 'k-', linewidth=2)\n",
    "    plt.plot(x0, down_margin, 'k--', linewidth=2)"
   ]
  },
  {
   "cell_type": "code",
   "execution_count": 7,
   "metadata": {},
   "outputs": [],
   "source": [
    "from matplotlib import font_manager\n",
    "my_font = font_manager.FontProperties(fname='./Fonts/SourceHanSerifSC-Medium.otf', size=12)"
   ]
  },
  {
   "cell_type": "code",
   "execution_count": 8,
   "metadata": {},
   "outputs": [
    {
     "data": {
      "image/png": "[encoded data removed]",
      "text/plain": [
       "<Figure size 432x288 with 1 Axes>"
      ]
     },
     "metadata": {
      "needs_background": "light"
     },
     "output_type": "display_data"
    }
   ],
   "source": [
    "# 5. 绘制大分类间隔\n",
    "plot_decision_boundary(svm_clf, 0, 5.5)\n",
    "\n",
    "plt.plot(X[:, 0][y==1], X[:, 1][y==1], \"r.\")\n",
    "plt.plot(X[:, 0][y==0], X[:, 1][y==0], \"b.\")\n",
    "\n",
    "plt.xlabel(\"花瓣长度\", fontproperties=my_font)\n",
    "plt.ylabel(\"花瓣宽度\", fontproperties=my_font)\n",
    "plt.axis([0, 5.5, 0, 2])\n",
    "\n",
    "plt.show()"
   ]
  },
  {
   "cell_type": "markdown",
   "metadata": {},
   "source": [
    "<img src=\"./images/other/5-2.png\" width=\"600\">"
   ]
  },
  {
   "cell_type": "markdown",
   "metadata": {},
   "source": [
    "基本模型是定义在特征空间上的间隔最大的线性分类器`间隔最大化`使它有别于感知机"
   ]
  },
  {
   "cell_type": "markdown",
   "metadata": {},
   "source": [
    "## 特征缩放敏感性 Sensitivity to feature scales"
   ]
  },
  {
   "cell_type": "code",
   "execution_count": 9,
   "metadata": {
    "scrolled": true
   },
   "outputs": [
    {
     "data": {
      "image/png": "[encoded data removed]",
      "text/plain": [
       "<Figure size 360x216 with 1 Axes>"
      ]
     },
     "metadata": {
      "needs_background": "light"
     },
     "output_type": "display_data"
    }
   ],
   "source": [
    "Xs = np.array([[1, 50], [5, 20], [3, 80], [5, 60]])\n",
    "ys = np.array([0, 0, 1, 1])\n",
    "\n",
    "def plot_sensitivity(X,y,title=\"\"):\n",
    "    plt.figure(figsize=(5,3))\n",
    "    #plt.axis([0, 6, 0, 90])\n",
    "    plt.plot(X[:, 0][y==1], X[:, 1][y==1], \"bo\")\n",
    "    plt.plot(X[:, 0][y==0], X[:, 1][y==0], \"ms\")\n",
    "    plt.xlabel(\"$x_0$\")\n",
    "    plt.ylabel(\"$x_1$\")\n",
    "    plt.title(title,)\n",
    "    \n",
    "plot_sensitivity(X=Xs,y=ys)\n",
    "plt.show()"
   ]
  },
  {
   "cell_type": "markdown",
   "metadata": {},
   "source": [
    "- 不进行特征缩放"
   ]
  },
  {
   "cell_type": "code",
   "execution_count": 10,
   "metadata": {
    "scrolled": true
   },
   "outputs": [
    {
     "data": {
      "text/plain": [
       "SVC(C=100, cache_size=200, class_weight=None, coef0=0.0,\n",
       "    decision_function_shape='ovr', degree=3, gamma='auto_deprecated',\n",
       "    kernel='linear', max_iter=-1, probability=False, random_state=None,\n",
       "    shrinking=True, tol=0.001, verbose=False)"
      ]
     },
     "execution_count": 10,
     "metadata": {},
     "output_type": "execute_result"
    }
   ],
   "source": [
    "svm_clf = SVC(C=100, kernel=\"linear\")\n",
    "svm_clf.fit(Xs,ys)"
   ]
  },
  {
   "cell_type": "code",
   "execution_count": 11,
   "metadata": {},
   "outputs": [
    {
     "data": {
      "image/png": "[encoded data removed]",
      "text/plain": [
       "<Figure size 360x216 with 1 Axes>"
      ]
     },
     "metadata": {
      "needs_background": "light"
     },
     "output_type": "display_data"
    }
   ],
   "source": [
    "plot_sensitivity(X=Xs,y=ys,title=\"Unscaled\")\n",
    "plot_decision_boundary(svm_clf, 0, 6)"
   ]
  },
  {
   "cell_type": "markdown",
   "metadata": {},
   "source": [
    "- 进行特征缩放"
   ]
  },
  {
   "cell_type": "code",
   "execution_count": 12,
   "metadata": {},
   "outputs": [
    {
     "data": {
      "text/plain": [
       "SVC(C=100, cache_size=200, class_weight=None, coef0=0.0,\n",
       "    decision_function_shape='ovr', degree=3, gamma='auto_deprecated',\n",
       "    kernel='linear', max_iter=-1, probability=False, random_state=None,\n",
       "    shrinking=True, tol=0.001, verbose=False)"
      ]
     },
     "execution_count": 12,
     "metadata": {},
     "output_type": "execute_result"
    }
   ],
   "source": [
    "from sklearn.preprocessing import StandardScaler\n",
    "scaler = StandardScaler()\n",
    "Xs_scaled = scaler.fit_transform(Xs)\n",
    "\n",
    "svm_clf_scaled = SVC(C=100, kernel=\"linear\")\n",
    "svm_clf_scaled.fit(Xs_scaled, ys)"
   ]
  },
  {
   "cell_type": "code",
   "execution_count": 13,
   "metadata": {},
   "outputs": [
    {
     "data": {
      "image/png": "[encoded data removed]",
      "text/plain": [
       "<Figure size 360x216 with 1 Axes>"
      ]
     },
     "metadata": {
      "needs_background": "light"
     },
     "output_type": "display_data"
    }
   ],
   "source": [
    "plot_sensitivity(X=Xs_scaled, y=ys, title=\"Scaled\")\n",
    "plt.axis([-2, 2, -2, 2])\n",
    "plot_decision_boundary(svm_clf_scaled, -2, 2)"
   ]
  },
  {
   "cell_type": "markdown",
   "metadata": {},
   "source": [
    "SVM对于特征缩放十分敏感, 未经过特征缩放虚线接近于水平。进行特征缩放之后决策边界看起来好了很多。"
   ]
  },
  {
   "cell_type": "markdown",
   "metadata": {},
   "source": [
    "## 软间隔分类"
   ]
  },
  {
   "cell_type": "markdown",
   "metadata": {},
   "source": [
    "- 训练数据中有一些`特异点(outlier)`,不能满足函数间隔大于等于1的约束条件。\n",
    "- 引入`软间隔`的概念,允许支持向量机在一些样本上不满足约束。"
   ]
  },
  {
   "cell_type": "markdown",
   "metadata": {},
   "source": [
    "<img src=\"./images/other/5-3.png\" width=\"600\">"
   ]
  },
  {
   "cell_type": "markdown",
   "metadata": {},
   "source": [
    "- 利用`Scikit-Learn`的创建SVM模型，使用超参数`C`指定正则化参数\n",
    "- 如果SVM模型过拟合，可以尝试通过降低`C`来对其进行正则化"
   ]
  },
  {
   "cell_type": "code",
   "execution_count": 14,
   "metadata": {},
   "outputs": [],
   "source": [
    "from sklearn.pipeline import Pipeline\n",
    "from sklearn.svm import LinearSVC"
   ]
  },
  {
   "cell_type": "code",
   "execution_count": 15,
   "metadata": {},
   "outputs": [],
   "source": [
    "# 1. 加载数据集\n",
    "iris = datasets.load_iris()\n",
    "X = iris['data'][:,(2, 3)]    # 花瓣的长度和宽度\n",
    "y = (iris['target'] == 2).astype(np.float64)  # 维吉尼亚鸢尾"
   ]
  },
  {
   "cell_type": "code",
   "execution_count": 16,
   "metadata": {},
   "outputs": [],
   "source": [
    "# 2. 流水线:先特征缩放，再拟合线性SVM模型\n",
    "svm_clf_scaled = Pipeline([\n",
    "            (\"scaler\", StandardScaler()),\n",
    "            (\"linear_svm\", LinearSVC(C=1, loss=\"hinge\", random_state=42))\n",
    "        ])"
   ]
  },
  {
   "cell_type": "code",
   "execution_count": 17,
   "metadata": {},
   "outputs": [
    {
     "data": {
      "text/plain": [
       "array([1.])"
      ]
     },
     "execution_count": 17,
     "metadata": {},
     "output_type": "execute_result"
    }
   ],
   "source": [
    "# 3. 拟合预测\n",
    "svm_clf.fit(X,y)\n",
    "svm_clf.predict([[5.5, 1.7]])"
   ]
  },
  {
   "cell_type": "markdown",
   "metadata": {},
   "source": [
    "- 尝试适用不同的超参数`C`"
   ]
  },
  {
   "cell_type": "code",
   "execution_count": 18,
   "metadata": {
    "scrolled": true
   },
   "outputs": [
    {
     "name": "stderr",
     "output_type": "stream",
     "text": [
      "/Users/jin/opt/anaconda3/lib/python3.7/site-packages/sklearn/svm/base.py:929: ConvergenceWarning: Liblinear failed to converge, increase the number of iterations.\n",
      "  \"the number of iterations.\", ConvergenceWarning)\n"
     ]
    },
    {
     "data": {
      "text/plain": [
       "Pipeline(memory=None,\n",
       "         steps=[('scaler',\n",
       "                 StandardScaler(copy=True, with_mean=True, with_std=True)),\n",
       "                ('linear_svm',\n",
       "                 LinearSVC(C=100, class_weight=None, dual=True,\n",
       "                           fit_intercept=True, intercept_scaling=1,\n",
       "                           loss='hinge', max_iter=1000, multi_class='ovr',\n",
       "                           penalty='l2', random_state=42, tol=0.0001,\n",
       "                           verbose=0))],\n",
       "         verbose=False)"
      ]
     },
     "execution_count": 18,
     "metadata": {},
     "output_type": "execute_result"
    }
   ],
   "source": [
    "scaler = StandardScaler()\n",
    "svm_clf_1 = LinearSVC(C=1, loss=\"hinge\", random_state=42)\n",
    "svm_clf_2 = LinearSVC(C=100, loss=\"hinge\", random_state=42)\n",
    "\n",
    "# C=1\n",
    "svm_clf_scaled_1 = Pipeline([\n",
    "            (\"scaler\", scaler),\n",
    "            (\"linear_svm\",svm_clf_1)\n",
    "        ])\n",
    "\n",
    "# C=100\n",
    "svm_clf_scaled_2 = Pipeline([\n",
    "            (\"scaler\", scaler),\n",
    "            (\"linear_svm\", svm_clf_2)\n",
    "        ])\n",
    "\n",
    "svm_clf_scaled_1.fit(X,y)\n",
    "svm_clf_scaled_2.fit(X,y)"
   ]
  },
  {
   "cell_type": "markdown",
   "metadata": {},
   "source": [
    "- 绘制决策边界"
   ]
  },
  {
   "cell_type": "code",
   "execution_count": 19,
   "metadata": {},
   "outputs": [],
   "source": [
    "# 转化为未经过特征缩放的参数\n",
    "def convert_param(model, scaler=scaler):\n",
    "    w = model.coef_[0] / scaler.scale_\n",
    "    b = model.decision_function([-scaler.mean_ / scaler.scale_])\n",
    "    \n",
    "    model.coef_ = np.array([w])\n",
    "    model.intercept_ = np.array([b])\n",
    "    \n",
    "    t = y * 2 - 1\n",
    "    support_vectors_index = (t*(X@w+b)<=1).ravel()\n",
    "    model.support_vectors_ = X[support_vectors_index]"
   ]
  },
  {
   "cell_type": "code",
   "execution_count": 20,
   "metadata": {},
   "outputs": [
    {
     "data": {
      "text/plain": [
       "(array([[0.928379 , 3.1434167]]), array([[-9.76416467]]))"
      ]
     },
     "execution_count": 20,
     "metadata": {},
     "output_type": "execute_result"
    }
   ],
   "source": [
    "convert_param(svm_clf_1)\n",
    "convert_param(svm_clf_2)\n",
    "svm_clf_1.coef_,svm_clf_1.intercept_"
   ]
  },
  {
   "cell_type": "code",
   "execution_count": 21,
   "metadata": {
    "scrolled": false
   },
   "outputs": [
    {
     "data": {
      "image/png": "[encoded data removed]",
      "text/plain": [
       "<Figure size 720x194.4 with 1 Axes>"
      ]
     },
     "metadata": {
      "needs_background": "light"
     },
     "output_type": "display_data"
    }
   ],
   "source": [
    "# C=1\n",
    "plt.figure(figsize=(10,2.7))\n",
    "plt.plot(X[:, 0][y==0], X[:, 1][y==0], \"g^\", label=\"非维吉尼亚鸢尾\")\n",
    "plt.plot(X[:, 0][y==1], X[:, 1][y==1], \"bs\", label=\"维吉尼亚鸢尾\")\n",
    "plot_decision_boundary(svm_clf_1, 4, 5.9)\n",
    "\n",
    "plt.xlabel(\"花瓣长度\", fontproperties=my_font)\n",
    "plt.ylabel(\"花瓣宽度\", fontproperties=my_font)\n",
    "plt.title('C=1')\n",
    "plt.legend(loc=\"upper left\", prop=my_font)\n",
    "plt.axis([4, 5.9, 0.8, 2.5])\n",
    "\n",
    "plt.show()"
   ]
  },
  {
   "cell_type": "code",
   "execution_count": 22,
   "metadata": {},
   "outputs": [
    {
     "data": {
      "image/png": "[encoded data removed]",
      "text/plain": [
       "<Figure size 720x194.4 with 1 Axes>"
      ]
     },
     "metadata": {
      "needs_background": "light"
     },
     "output_type": "display_data"
    }
   ],
   "source": [
    "# C=100\n",
    "plt.figure(figsize=(10,2.7))\n",
    "plt.plot(X[:, 0][y==0], X[:, 1][y==0], \"g^\", label=\"非维吉尼亚鸢尾\")\n",
    "plt.plot(X[:, 0][y==1], X[:, 1][y==1], \"bs\", label=\"维吉尼亚鸢尾\")\n",
    "plot_decision_boundary(svm_clf_2, 4, 5.9)\n",
    "\n",
    "plt.axis([4, 5.9, 0.8, 2.5])\n",
    "plt.xlabel(\"花瓣长度\", fontproperties=my_font)\n",
    "plt.ylabel(\"花瓣宽度\", fontproperties=my_font)\n",
    "plt.title(\"C=100\")\n",
    "plt.legend(loc=\"upper left\", prop=my_font)\n",
    "\n",
    "plt.show()"
   ]
  },
  {
   "cell_type": "markdown",
   "metadata": {},
   "source": [
    "# 非线性SVM分类 Non-linear classification"
   ]
  },
  {
   "cell_type": "markdown",
   "metadata": {},
   "source": [
    "处理非线性数据及的方法之一是添加更多的特征，比如多项式特征。某种情况下，这可能导致数据集变得线性可分离。"
   ]
  },
  {
   "cell_type": "markdown",
   "metadata": {},
   "source": [
    "<img src=\"./images/other/5-4.png\" width=\"600\">"
   ]
  },
  {
   "cell_type": "markdown",
   "metadata": {},
   "source": [
    "以卫星数据集为例，这是一个用于二元分类的小数据集，其中数据点的形状为两个交织的半圆。"
   ]
  },
  {
   "cell_type": "code",
   "execution_count": 23,
   "metadata": {},
   "outputs": [],
   "source": [
    "from sklearn.datasets import make_moons"
   ]
  },
  {
   "cell_type": "code",
   "execution_count": 24,
   "metadata": {},
   "outputs": [
    {
     "data": {
      "image/png": "[encoded data removed]",
      "text/plain": [
       "<Figure size 432x288 with 1 Axes>"
      ]
     },
     "metadata": {
      "needs_background": "light"
     },
     "output_type": "display_data"
    }
   ],
   "source": [
    "X, y = make_moons(n_samples=100, noise=0.15, random_state=42)\n",
    "\n",
    "def plot_dataset_moons(X, y):\n",
    "    plt.plot(X[:,0][y==0], X[:,1][y==0], \"bs\")\n",
    "    plt.plot(X[:,0][y==1], X[:,1][y==1], \"g^\")\n",
    "    \n",
    "    plt.grid(b=True)\n",
    "    plt.xlabel(\"$x_1$\")\n",
    "    plt.ylabel(\"$x_2$\")\n",
    "    \n",
    "plot_dataset_moons(X, y)\n",
    "plt.show()"
   ]
  },
  {
   "cell_type": "markdown",
   "metadata": {},
   "source": [
    "- `Scikit-Learn`的`PolynomialFeatures`实现进行特征的构造"
   ]
  },
  {
   "cell_type": "code",
   "execution_count": 25,
   "metadata": {},
   "outputs": [],
   "source": [
    "from sklearn.preprocessing import PolynomialFeatures"
   ]
  },
  {
   "cell_type": "code",
   "execution_count": 26,
   "metadata": {},
   "outputs": [],
   "source": [
    "polynomial_svm = Pipeline([\n",
    "    ('PolynomialFeatures', PolynomialFeatures(degree=3)),\n",
    "    ('scaler', StandardScaler()),\n",
    "    ('svm_clf', LinearSVC(C=10, loss='hinge'))\n",
    "])"
   ]
  },
  {
   "cell_type": "code",
   "execution_count": 27,
   "metadata": {},
   "outputs": [
    {
     "name": "stderr",
     "output_type": "stream",
     "text": [
      "/Users/jin/opt/anaconda3/lib/python3.7/site-packages/sklearn/svm/base.py:929: ConvergenceWarning: Liblinear failed to converge, increase the number of iterations.\n",
      "  \"the number of iterations.\", ConvergenceWarning)\n"
     ]
    },
    {
     "data": {
      "text/plain": [
       "Pipeline(memory=None,\n",
       "         steps=[('PolynomialFeatures',\n",
       "                 PolynomialFeatures(degree=3, include_bias=True,\n",
       "                                    interaction_only=False, order='C')),\n",
       "                ('scaler',\n",
       "                 StandardScaler(copy=True, with_mean=True, with_std=True)),\n",
       "                ('svm_clf',\n",
       "                 LinearSVC(C=10, class_weight=None, dual=True,\n",
       "                           fit_intercept=True, intercept_scaling=1,\n",
       "                           loss='hinge', max_iter=1000, multi_class='ovr',\n",
       "                           penalty='l2', random_state=None, tol=0.0001,\n",
       "                           verbose=0))],\n",
       "         verbose=False)"
      ]
     },
     "execution_count": 27,
     "metadata": {},
     "output_type": "execute_result"
    }
   ],
   "source": [
    "polynomial_svm.fit(X, y)"
   ]
  },
  {
   "cell_type": "code",
   "execution_count": 28,
   "metadata": {},
   "outputs": [],
   "source": [
    "# 绘制决策边界\n",
    "def plot_prediction(model):\n",
    "    x0s = np.linspace(-1.5, 2.5, 100)\n",
    "    x1s = np.linspace(-1, 1.5, 100)\n",
    "    x0, x1 = np.meshgrid(x0s, x1s)      # 生成网格点坐标矩阵\n",
    "    \n",
    "    X = np.c_[x0.ravel(), x1.ravel()]\n",
    "    y_pred = model.predict(X).reshape(x0.shape)\n",
    "    y_decision = model.decision_function(X).reshape(x0.shape)\n",
    "    \n",
    "    # 绘制等高线图\n",
    "    plt.contourf(x0, x1, y_pred, cmap=plt.cm.brg, alpha=0.2)      # 分类超平面\n",
    "    plt.contourf(x0, x1, y_decision, cmap=plt.cm.brg, alpha=0.1)   "
   ]
  },
  {
   "cell_type": "code",
   "execution_count": 29,
   "metadata": {},
   "outputs": [
    {
     "data": {
      "image/png": "[encoded data removed]",
      "text/plain": [
       "<Figure size 432x288 with 1 Axes>"
      ]
     },
     "metadata": {
      "needs_background": "light"
     },
     "output_type": "display_data"
    }
   ],
   "source": [
    "plot_prediction(polynomial_svm)\n",
    "plot_dataset_moons(X, y)\n",
    "plt.show()"
   ]
  },
  {
   "cell_type": "markdown",
   "metadata": {},
   "source": [
    "## 多项式内核 Polynomial Kernel"
   ]
  },
  {
   "cell_type": "markdown",
   "metadata": {},
   "source": [
    "添加多项式特征的缺点是如果多项式太低阶，处理不了非常复杂的数据集。而高阶则会创造出大量的特征，导致模型变得太慢。可以通过`核技巧`：直接在原来的低维空间中进行计算,而不需要显式地写出映射后的结果。"
   ]
  },
  {
   "cell_type": "markdown",
   "metadata": {},
   "source": [
    "- linear: $\\left\\langle x, x^{\\prime}\\right\\rangle$.\n",
    "- polynomial: $\\left(\\gamma\\left\\langle x, x^{\\prime}\\right\\rangle+r\\right)^{d} \\cdot d$ is specified by keyword `degree`, $r$ by `coefo`. \n",
    "\n",
    "`coefo`控制的是模型受高阶多项式还是低阶多项式的影响程度。"
   ]
  },
  {
   "cell_type": "markdown",
   "metadata": {},
   "source": [
    "- 利用`Scikit-Learn`的`SVC()`的`kernel`参数，指定核函数"
   ]
  },
  {
   "cell_type": "code",
   "execution_count": 30,
   "metadata": {},
   "outputs": [],
   "source": [
    "from sklearn.svm import SVC"
   ]
  },
  {
   "cell_type": "code",
   "execution_count": 31,
   "metadata": {
    "scrolled": true
   },
   "outputs": [
    {
     "data": {
      "text/plain": [
       "Pipeline(memory=None,\n",
       "         steps=[('scaler',\n",
       "                 StandardScaler(copy=True, with_mean=True, with_std=True)),\n",
       "                ('svm_clf',\n",
       "                 SVC(C=5, cache_size=200, class_weight=None, coef0=1,\n",
       "                     decision_function_shape='ovr', degree=3,\n",
       "                     gamma='auto_deprecated', kernel='poly', max_iter=-1,\n",
       "                     probability=False, random_state=None, shrinking=True,\n",
       "                     tol=0.001, verbose=False))],\n",
       "         verbose=False)"
      ]
     },
     "execution_count": 31,
     "metadata": {},
     "output_type": "execute_result"
    }
   ],
   "source": [
    "# 3阶多项式内核训练SVM分类器\n",
    "poly_3_kernel_svm = Pipeline([\n",
    "    ('scaler', StandardScaler()),\n",
    "    ('svm_clf', SVC(kernel=\"poly\", C=5, degree=3, coef0=1))\n",
    "])\n",
    "\n",
    "poly_3_kernel_svm.fit(X, y)"
   ]
  },
  {
   "cell_type": "code",
   "execution_count": 32,
   "metadata": {},
   "outputs": [
    {
     "data": {
      "image/png": "[encoded data removed]",
      "text/plain": [
       "<Figure size 432x288 with 1 Axes>"
      ]
     },
     "metadata": {
      "needs_background": "light"
     },
     "output_type": "display_data"
    }
   ],
   "source": [
    "plot_prediction(poly_3_kernel_svm)\n",
    "plot_dataset_moons(X, y)\n",
    "plt.show()"
   ]
  },
  {
   "cell_type": "code",
   "execution_count": 33,
   "metadata": {},
   "outputs": [
    {
     "data": {
      "text/plain": [
       "Pipeline(memory=None,\n",
       "         steps=[('scaler',\n",
       "                 StandardScaler(copy=True, with_mean=True, with_std=True)),\n",
       "                ('svm_clf',\n",
       "                 SVC(C=5, cache_size=200, class_weight=None, coef0=100,\n",
       "                     decision_function_shape='ovr', degree=10,\n",
       "                     gamma='auto_deprecated', kernel='poly', max_iter=-1,\n",
       "                     probability=False, random_state=None, shrinking=True,\n",
       "                     tol=0.001, verbose=False))],\n",
       "         verbose=False)"
      ]
     },
     "execution_count": 33,
     "metadata": {},
     "output_type": "execute_result"
    }
   ],
   "source": [
    "# 10阶多项式内核训练SVM分类器\n",
    "poly_10_kernel_svm = Pipeline([\n",
    "    ('scaler', StandardScaler()),\n",
    "    ('svm_clf', SVC(kernel=\"poly\", C=5, degree=10, coef0=100))\n",
    "])\n",
    "\n",
    "poly_10_kernel_svm.fit(X, y)"
   ]
  },
  {
   "cell_type": "code",
   "execution_count": 34,
   "metadata": {},
   "outputs": [
    {
     "data": {
      "image/png": "[encoded data removed]",
      "text/plain": [
       "<Figure size 432x288 with 1 Axes>"
      ]
     },
     "metadata": {
      "needs_background": "light"
     },
     "output_type": "display_data"
    }
   ],
   "source": [
    "plot_prediction(poly_10_kernel_svm)\n",
    "plot_dataset_moons(X, y)\n",
    "plt.show()"
   ]
  },
  {
   "cell_type": "markdown",
   "metadata": {},
   "source": [
    "寻找正确超参数的方法是`网格搜索`，先进行一次粗略的网格搜索，然后在最好的值附近展开一轮更加精细的网格搜索，这样通常会更快一些。多了解每个超参数实际实际上用来做什么的。有助于你在超参数空间正确搜索。"
   ]
  },
  {
   "cell_type": "markdown",
   "metadata": {},
   "source": [
    "## 相似特征  Similarity Features"
   ]
  },
  {
   "cell_type": "markdown",
   "metadata": {},
   "source": [
    "解决非线性的另一个技术是`添加相似特征`。这些相似特征是经过相似函数计算出的，相似函数可以测量每个实例与一个特定的地标之间的相似度。"
   ]
  },
  {
   "cell_type": "markdown",
   "metadata": {},
   "source": [
    ">公式2: 高斯RBF Gaussian RBF\n",
    "$$\n",
    "\\phi_{\\gamma}(x, \\ell)=\\exp \\left(-\\gamma\\|x-\\ell\\|^{2}\\right)\n",
    "$$"
   ]
  },
  {
   "cell_type": "markdown",
   "metadata": {},
   "source": [
    "- 高斯核和多项式核干的事情截然不同的，如果对于样本数量少，特征多的数据集，高斯核相当于对样本降维。\n",
    "- 高斯核的任务即找到更有利分类任务的新的空间。\n",
    "- 高斯核运行开销耗时较大，训练时间较长。因此一般使用场景为数据集 (m, n)，m < n；"
   ]
  },
  {
   "cell_type": "markdown",
   "metadata": {},
   "source": [
    "<img src=\"./images/other/5-5.png\" width=\"600\">"
   ]
  },
  {
   "cell_type": "markdown",
   "metadata": {},
   "source": [
    "以$x_1=-2$,$x_1=1$处添加地标，采用RBF作为相似函数，\\$\\gamma=0.3$\n",
    "\n",
    "例如：实例$x_1=-1$，它与第一个地标的距离为1，与第二个地表的距离为2.因此新特征为$x_2=e^{(-(0.3)×1^2)}≈0.74$,$x_3=e^{(-(0.3)×2^2)}≈0.30$。右图显示了转换后的数据集，由此可见数据呈线性可分离。\n",
    "\n",
    "选择地标的一种方法是在数据集合里每一个实例的位置上创建一个地标，因此会增加了转换后的训练集线性可分离的机会。缺点是如果训练集非常大，那就会得到大数量的特征。"
   ]
  },
  {
   "cell_type": "markdown",
   "metadata": {},
   "source": [
    "## 高斯RBF内核 Gaussian RBF Kernel"
   ]
  },
  {
   "cell_type": "markdown",
   "metadata": {},
   "source": [
    "`rbf`: $\\exp \\left(-\\gamma\\left\\|x-x^{\\prime}\\right\\|^{2}\\right) . \\gamma$ is specified by keyword `gamma`, must be greater than 0 ."
   ]
  },
  {
   "cell_type": "code",
   "execution_count": 35,
   "metadata": {},
   "outputs": [
    {
     "data": {
      "text/plain": [
       "Pipeline(memory=None,\n",
       "         steps=[('scaler',\n",
       "                 StandardScaler(copy=True, with_mean=True, with_std=True)),\n",
       "                ('svm_clf',\n",
       "                 SVC(C=0.001, cache_size=200, class_weight=None, coef0=0.0,\n",
       "                     decision_function_shape='ovr', degree=3, gamma=5,\n",
       "                     kernel='rbf', max_iter=-1, probability=False,\n",
       "                     random_state=None, shrinking=True, tol=0.001,\n",
       "                     verbose=False))],\n",
       "         verbose=False)"
      ]
     },
     "execution_count": 35,
     "metadata": {},
     "output_type": "execute_result"
    }
   ],
   "source": [
    "rbf_kernel_svm = Pipeline([\n",
    "    ('scaler', StandardScaler()),\n",
    "    ('svm_clf', SVC(kernel='rbf', C=0.001, gamma=5))\n",
    "])\n",
    "rbf_kernel_svm.fit(X, y)"
   ]
  },
  {
   "cell_type": "markdown",
   "metadata": {},
   "source": [
    "- 比较不同的`gamma`和`C`取值时的模型"
   ]
  },
  {
   "cell_type": "code",
   "execution_count": 36,
   "metadata": {},
   "outputs": [],
   "source": [
    "gamma_1, gamma_2 = 0.1, 5\n",
    "C_1, C_2 = 0.001, 1000\n",
    "params = (gamma_1, C_1), (gamma_1, C_2), (gamma_2, C_1), (gamma_2, C_2)"
   ]
  },
  {
   "cell_type": "code",
   "execution_count": 37,
   "metadata": {},
   "outputs": [],
   "source": [
    "models = []\n",
    "for gamma, C in params:\n",
    "    rbf_kernel_svm = Pipeline([\n",
    "        ('scaler', StandardScaler()),\n",
    "        ('svm_clf', SVC(C=C, kernel='rbf', gamma=gamma))\n",
    "    ])\n",
    "    rbf_kernel_svm.fit(X, y)\n",
    "    models.append(rbf_kernel_svm)"
   ]
  },
  {
   "cell_type": "code",
   "execution_count": 38,
   "metadata": {},
   "outputs": [
    {
     "data": {
      "image/png": "[encoded data removed]",
      "text/plain": [
       "<Figure size 720x360 with 4 Axes>"
      ]
     },
     "metadata": {
      "needs_background": "light"
     },
     "output_type": "display_data"
    }
   ],
   "source": [
    "fig, axes = plt.subplots(nrows=2, ncols=2, figsize=(10, 5), sharex=True, sharey=True)\n",
    "\n",
    "# enumerate() 函数用于将一个可遍历的数据对象组合为一个索引序列，同时列出数据和数据下标\n",
    "for i, model in enumerate(models):\n",
    "    plt.sca(axes[i // 2, i % 2])   # sca()函数 选择子图  (0,0) (0,1) (1,0) (1,1)\n",
    "    plot_prediction(model)\n",
    "    plot_dataset_moons(X, y)\n",
    "    \n",
    "    gamma, C = params[i]\n",
    "    plt.title(r\"$\\gamma = {}, C = {}$\".format(gamma, C))\n",
    "    \n",
    "    if i in (0, 1):\n",
    "        plt.xlabel(\"\")\n",
    "    if i in (1, 3):\n",
    "        plt.ylabel(\"\")\n",
    "\n",
    "\n",
    "plt.show()"
   ]
  },
  {
   "cell_type": "markdown",
   "metadata": {},
   "source": [
    "- 增加gamma的只会使钟型曲线变得更窄，因此每个实例的影响范围随之变小，决策边界变得更不规则，开始围绕着单体实例绕弯\n",
    "- 反过来减少gamma的值，使钟型曲线变得更宽，因而每个实例影响范围增大，决策边界变得平坦，所以$\\gamma$值就像一个正则化的参数C。"
   ]
  },
  {
   "cell_type": "markdown",
   "metadata": {},
   "source": [
    "选择核函数的法则：\n",
    "1. 首先从`线性核函数`开始尝试，特别是训练集特别大或特征特别多的时候。其中`LinearSVC`比`SVC(kernel=\"Linear\")`要快得多。\n",
    "2. 如果训练集不太大，可以尝试用`高斯RBS核`\n",
    "3. 如果有多的时间和计算能力，可以使用交叉验证和网格搜索来尝试其他的核函数"
   ]
  },
  {
   "cell_type": "markdown",
   "metadata": {},
   "source": [
    "## 计算复杂度 Computational Complexity"
   ]
  },
  {
   "cell_type": "markdown",
   "metadata": {},
   "source": [
    "- `LinearSVC`基于的`liblinear库`为线性SVM实现了一个优化算法，该算法不支持核技巧，但是它与训练实例数量和特征数量几乎呈线性相关：其训练时间的复杂度大致为$O(m*n)$.如果你想要更高的精度，算法需要的时间更长.它的容差超参数ϵ来控制(`tol`),大多数分类任务中默认容差就够了。"
   ]
  },
  {
   "cell_type": "markdown",
   "metadata": {},
   "source": [
    "- `SVC`基于的`libsvm库`,这个库的算法支持核技巧，训练时间的复杂度通常在$O(m^2*n)$和$O(m^3*n)$之间。因此这个算法完美适用于复杂但是中小型的数据集。但是它还是可以良好地适应特征数量的增加，特别是应对稀疏特征。这种情况下，算法复杂度大致与实例的平均非零特征数成比例。"
   ]
  },
  {
   "cell_type": "markdown",
   "metadata": {},
   "source": [
    "`sklearn.svm`包中的`SVC(kernel=”linear“)`和`LinearSVC`的区别:\n",
    "\n",
    "1. `LinearSVC`使用的是`平方hinge loss`，`SVC`使用的是`绝对值hinge loss`.绝对值hinge loss是非凸的，因而你不能用GD去优化，而平方hinge loss可以\n",
    "\n",
    "2. `LinearSVC`使用的是One-vs-All（也成One-vs-Rest）的优化方法，而`SVC`使用的是One-vs-One\n",
    "\n",
    "4. 对于二分类问题一般只有其中一个合适，具体问题具体对待\n",
    "\n",
    "5. `LinearSVC`基于`liblinear`，罚函数是对截矩进行惩罚；`SVC`基于`libsvm`，罚函数不是对截矩进行惩罚。\n",
    "SVM解决问题时，问题是分为线性可分和线性不可分问题的，`liblinear`对线性可分问题做了优化，故在大量数据上收敛速度比libsvm快."
   ]
  },
  {
   "cell_type": "markdown",
   "metadata": {},
   "source": [
    "<img src=\"./images/other/5-6.png\" width=\"600\">"
   ]
  },
  {
   "cell_type": "markdown",
   "metadata": {},
   "source": [
    "# SVM回归 SVM Regression"
   ]
  },
  {
   "cell_type": "markdown",
   "metadata": {},
   "source": [
    "对样本$f(x)$,传统回归模型通常直接基于模型输出$f(x)$与真实输出$y$之间的差别来计算损失，当且仅当$f(x)$与$y$完全一样时，损失才为0。与此不同，支持向量回归（SVR）假设我们能容$f(x)$与$y$之间最多有ϵ`(epsilon)`的误差，仅当$f(x)$与$y$之间的差的绝对值大于ϵ时才计算损失。\n",
    "<img src=\"./images/other/5-7.png\" width=\"400\">"
   ]
  },
  {
   "cell_type": "markdown",
   "metadata": {},
   "source": [
    "<img src=\"./images/other/5-8.png\" width=\"600\">"
   ]
  },
  {
   "cell_type": "markdown",
   "metadata": {},
   "source": [
    "在间隔内添加更多的实例，不会影响模型的预测，所以这个模型又被称为`ϵ不敏感`。"
   ]
  },
  {
   "cell_type": "markdown",
   "metadata": {},
   "source": [
    "- 解决非线性回归任务"
   ]
  },
  {
   "cell_type": "code",
   "execution_count": 39,
   "metadata": {},
   "outputs": [],
   "source": [
    "np.random.seed(42)\n",
    "m = 100\n",
    "X = 2 * np.random.rand(m, 1) - 1\n",
    "y = (0.2 + 0.1 * X + 0.5 * X**2 + np.random.randn(m, 1)/10).ravel()  # y=0.2+0.1x+0.5x^2+高斯噪音"
   ]
  },
  {
   "cell_type": "code",
   "execution_count": 40,
   "metadata": {},
   "outputs": [
    {
     "data": {
      "image/png": "[encoded data removed]",
      "text/plain": [
       "<Figure size 432x288 with 1 Axes>"
      ]
     },
     "metadata": {
      "needs_background": "light"
     },
     "output_type": "display_data"
    }
   ],
   "source": [
    "plt.plot(X, y, 'b.')\n",
    "plt.show()"
   ]
  },
  {
   "cell_type": "code",
   "execution_count": 41,
   "metadata": {},
   "outputs": [],
   "source": [
    "from sklearn.svm import SVR"
   ]
  },
  {
   "cell_type": "code",
   "execution_count": 42,
   "metadata": {},
   "outputs": [
    {
     "data": {
      "text/plain": [
       "SVR(C=0.01, cache_size=200, coef0=0.0, degree=2, epsilon=0.1, gamma='scale',\n",
       "    kernel='poly', max_iter=-1, shrinking=True, tol=0.001, verbose=False)"
      ]
     },
     "execution_count": 42,
     "metadata": {},
     "output_type": "execute_result"
    }
   ],
   "source": [
    "# 比较不同的C取值时的模型\n",
    "\n",
    "# C=100\n",
    "svr_poly_reg_1 = SVR(C=100, kernel=\"poly\", degree=2, epsilon=0.1 ,gamma=\"scale\")\n",
    "svr_poly_reg_1.fit(X, y)\n",
    "\n",
    "# C=0.01\n",
    "svr_poly_reg_2 = SVR(C=0.01, kernel=\"poly\", degree=2, epsilon=0.1 ,gamma=\"scale\")\n",
    "svr_poly_reg_2.fit(X, y)"
   ]
  },
  {
   "cell_type": "code",
   "execution_count": 43,
   "metadata": {},
   "outputs": [],
   "source": [
    "def plot_SVR(model, X, y):\n",
    "    x = np.linspace(-1, 1, 100).reshape(100, 1)\n",
    "    y_pred = model.predict(x)\n",
    "    \n",
    "    plt.plot(x, y_pred, \"k-\", label=r\"$\\hat{y}$\")\n",
    "    plt.plot(x, y_pred + model.epsilon, \"k--\")\n",
    "    plt.plot(x, y_pred - model.epsilon, \"k--\")\n",
    "    \n",
    "    plt.scatter(X[model.support_], y[model.support_], s=180, facecolors='#FFAAAA')\n",
    "    plt.plot(X, y, \"bo\")\n",
    "    plt.xlabel(r\"$x_1$\",)\n",
    "    plt.ylabel(r\"$y$\",)\n",
    "    plt.legend(loc=\"upper left\")\n",
    "    plt.axis([-1, 1, 0, 1])"
   ]
  },
  {
   "cell_type": "code",
   "execution_count": 44,
   "metadata": {
    "scrolled": true
   },
   "outputs": [
    {
     "data": {
      "image/png": "[encoded data removed]",
      "text/plain": [
       "<Figure size 432x288 with 1 Axes>"
      ]
     },
     "metadata": {
      "needs_background": "light"
     },
     "output_type": "display_data"
    }
   ],
   "source": [
    "plot_SVR(svr_poly_reg_1, X, y)\n",
    "plt.title(\"degree=2, C=100, ϵ=0.1\")\n",
    "plt.show()"
   ]
  },
  {
   "cell_type": "code",
   "execution_count": 45,
   "metadata": {},
   "outputs": [
    {
     "data": {
      "image/png": "[encoded data removed]",
      "text/plain": [
       "<Figure size 432x288 with 1 Axes>"
      ]
     },
     "metadata": {
      "needs_background": "light"
     },
     "output_type": "display_data"
    }
   ],
   "source": [
    "plot_SVR(svr_poly_reg_2, X, y)\n",
    "plt.title(\"degree=2, C=0.01, ϵ=0.1\")\n",
    "plt.show()"
   ]
  },
  {
   "cell_type": "markdown",
   "metadata": {},
   "source": [
    "可见上图几乎没有正则化(C很大)，二下图过度正则化(C很小)"
   ]
  },
  {
   "cell_type": "markdown",
   "metadata": {},
   "source": [
    "参数C代表的是在线性不可分的情况下，对分类错误的惩罚程度。\n",
    "\n",
    "- C值越大，表示整个优化过程中对于总误差$\\sum_{i=1}^{n} \\xi_{i}$的关注程度越高，对于减小误差的要求越高，甚至不惜使间隔减小，于是就造成过拟合。当C趋于无穷大时，这个问题也就是不允许出现分类误差的样本存在，那这就是一个硬间隔。\n",
    "- C值过小时，分类器就会过于“不在乎”分类错误，于是分类性能就会较差。当C趋于0时，我们不再关注分类是否正确，只要求间隔越大越好，那么我们将无法得到有意义的解且算法不会收敛。\n"
   ]
  },
  {
   "cell_type": "markdown",
   "metadata": {},
   "source": [
    "# 工作原理 Under the Hood"
   ]
  },
  {
   "cell_type": "markdown",
   "metadata": {},
   "source": [
    "这里我们约定：偏置项表示为$b$,特征权重向量表示为$w$,同时输入特征向量时不添加偏置特征。"
   ]
  },
  {
   "cell_type": "markdown",
   "metadata": {},
   "source": [
    "## 决策函数与预测"
   ]
  },
  {
   "cell_type": "markdown",
   "metadata": {},
   "source": [
    "The linear SVM classifier model predicts the class of a new instance x by simply computing the decision function $w^T x + b = w_1 x_1 + ⋯ + w_n x_n + b$: if the result is positive, the predicted class $ŷ$ is the positive class (1), or else it is the negative class (0);"
   ]
  },
  {
   "cell_type": "markdown",
   "metadata": {},
   "source": [
    ">公式3: 线性SVM分类器预测 Linear SVM classifier prediction\n",
    "$$\n",
    "\\hat{y}=\\left\\{\\begin{array}{l}\n",
    "0 \\text { if } \\mathbf{w}^{T} \\mathbf{x}+b<0 \\\\\n",
    "1 \\text { if } \\mathbf{w}^{T} \\mathbf{x}+b \\geq 0\n",
    "\\end{array}\\right.\n",
    "$$"
   ]
  },
  {
   "cell_type": "markdown",
   "metadata": {},
   "source": [
    "<img src=\"./images/other/5-9.png\" width=\"400\">"
   ]
  },
  {
   "cell_type": "markdown",
   "metadata": {},
   "source": [
    "训练线性SVM分类器，意味着找到$W$和$b$的值，从而使这个虚线之间的间隔尽可能宽的同时，避免硬间隔或限制软间隔违例。\n",
    "\n",
    "Training a linear SVM classifier means finding the value of $W$ and $b$ that make this margin as wide as possible while avoiding margin violations (hard margin) or limiting them (soft margin)."
   ]
  },
  {
   "cell_type": "markdown",
   "metadata": {},
   "source": [
    "## 训练目标 Training Objective"
   ]
  },
  {
   "cell_type": "markdown",
   "metadata": {},
   "source": [
    "<img src=\"./images/other/5-10.png\" width=\"600\">"
   ]
  },
  {
   "cell_type": "markdown",
   "metadata": {},
   "source": [
    "决策函数的斜率等于权重向量的范数$\\|w\\|$,权重向量$w$越小，间隔越大，因此我们要最最小化$\\|w\\|$，来尽可能大的间隔。"
   ]
  },
  {
   "cell_type": "markdown",
   "metadata": {},
   "source": [
    "- $\\forall x_{0} \\in \\mathbf{R}^{n}$ 到 $\\mathbf{S}$ 的距离:\n",
    "$$\n",
    "\\frac{1}{\\|w\\|}\\left|w \\cdot x_{0}+b\\right|\n",
    "$$\n",
    "若 $x_{0}$ 是正确分类点, 则\n",
    "$$\n",
    "\\frac{1}{\\|w\\|}\\left|w \\cdot x_{0}+b\\right|=\\left\\{\\begin{aligned}\n",
    "\\frac{w \\cdot x_{0}+b}{\\|w\\|}, & y_{0}=+1 \\\\\n",
    "-\\frac{w \\cdot x_{0}+b}{\\|w\\|}, & y_{0}=-1\n",
    "\\end{aligned}\\right.\n",
    "$$\n",
    "若 $x_{0}$ 是错误分类点, 则\n",
    "$$\n",
    "\\frac{1}{\\|w\\|}\\left|w \\cdot x_{0}+b\\right|=\\left\\{\\begin{array}{l}\n",
    "-\\frac{w \\cdot x_{0}+b}{\\|w\\|}, \\quad y_{0}=+1 \\\\\n",
    "\\frac{w \\cdot x_{0}+b}{\\|w\\|}, \\quad y_{0}=-1\n",
    "\\end{array}=\\frac{-y_{0}\\left(w \\cdot x_{0}+b\\right)}{\\|w\\|}\\right.\n",
    "$$"
   ]
  },
  {
   "cell_type": "markdown",
   "metadata": {},
   "source": [
    ">公式4: 硬间隔线性SVM分类器的目标 Hard margin linear SVM classifier objective\n",
    "$$\n",
    "\\begin{array}{ll}\n",
    "\\underset{\\mathbf{w}, b}{\\operatorname{minimize}} & \\frac{1}{2} \\|w\\| \\\\\n",
    "\\text { subject to } & t^{(i)}\\left(\\mathbf{w}^{T} \\mathbf{x}^{(i)}+b\\right) \\geq 1 \\quad \\text { for } i=1,2, \\cdots, m\n",
    "\\end{array}\n",
    "$$"
   ]
  },
  {
   "cell_type": "markdown",
   "metadata": {},
   "source": [
    "为了达到软间隔的目的，引入一个松弛变量。因此，产生了两个相互冲突的目标：\n",
    "1. 使松弛变量越小越好，从而减少为间隔违例\n",
    "2. $\\frac{1}{2} \\|w\\|$最小化以增大间隔"
   ]
  },
  {
   "cell_type": "markdown",
   "metadata": {},
   "source": [
    ">公式5: 软间隔线性SVM分类器的目标 Soft margin linear SVM classifier objective\n",
    "$$\n",
    "\\begin{array}{l}\n",
    "\\underset{\\mathbf{w}, b, \\zeta}{\\operatorname{minimize}} \\quad \\frac{1}{2} \\|w\\|+C \\sum_{i=1}^{m} \\zeta^{(i)}\\\\\n",
    "\\text { subject to } t^{(i)}\\left(\\mathbf{w}^{T} \\mathbf{x}^{(i)}+b\\right) \\geq 1-\\zeta^{(i)} \\text { and } \\zeta^{(i)} \\geq 0 \\text { for } i=1,2, \\cdots, m\n",
    "\\end{array}\n",
    "$$"
   ]
  },
  {
   "cell_type": "markdown",
   "metadata": {},
   "source": [
    "## 对偶问题 The Dual Problem"
   ]
  },
  {
   "cell_type": "markdown",
   "metadata": {},
   "source": [
    ">公式6: 线性SVM目标的对偶形式 Dual form of the linear SVM objective\n",
    "$$\n",
    "\\min _{\\alpha} \\frac{1}{2} \\sum_{i=1}^{N} \\sum_{j=1}^{N} \\alpha_{i} \\alpha_{j} y_{i} y_{j}\\left(x_{i} \\cdot x_{j}\\right)-\\sum_{i=1}^{N} \\alpha_{i}\\\\\n",
    "\\text { s.t. }  \\sum_{i=1}^{N} \\alpha_{i} y_{i}=0 , 0≤a_i≥C，i=1,2,...,m\\\\\n",
    "$$"
   ]
  },
  {
   "cell_type": "markdown",
   "metadata": {},
   "source": [
    ">公式7: 从对偶问题到原始问题 From the dual solution to the primal solution\n",
    "$$\n",
    "w^{*}=\\sum_{i=1}^{N} \\alpha_{i}^{*} y_{i} x_{i}  \\\\\n",
    "b^{*}=y_{j}-\\sum_{i=1}^{N} y_{i} \\alpha_{i}^{*}\\left(x_{i} \\cdot x_{j}\\right)\n",
    "$$"
   ]
  },
  {
   "cell_type": "markdown",
   "metadata": {},
   "source": [
    "## 内核化SVM Kernelized SVM"
   ]
  },
  {
   "cell_type": "markdown",
   "metadata": {},
   "source": [
    ">公式8: 常用核函数 Common kernels\n",
    "<img src=\"./images/other/5-11.png\" width=\"600\">"
   ]
  },
  {
   "cell_type": "markdown",
   "metadata": {},
   "source": [
    "## 在线SVM Online SVMs"
   ]
  },
  {
   "cell_type": "markdown",
   "metadata": {},
   "source": [
    ">公式9: 线性SVM分类器成本函数 Linear SVM classifier cost function\n",
    "$$\n",
    "J(\\mathbf{w}, b)=\\frac{1}{2} \\mathbf{w}^{T} \\mathbf{w} + C \\sum_{i=1}^{m} \\max \\left(0,1-t^{(i)}\\left(\\mathbf{w}^{T} \\mathbf{x}^{(i)}+b\\right)\\right)\n",
    "$$"
   ]
  },
  {
   "cell_type": "markdown",
   "metadata": {},
   "source": [
    "对于线性SVM分类器一种实现在线SVM分类器的方法是使用梯度下降来最小化成本函数。但梯度下降比基于QP的方法收敛慢得多。"
   ]
  },
  {
   "cell_type": "markdown",
   "metadata": {},
   "source": [
    "<img src=\"./images/other/5-12.png\" width=\"400\">"
   ]
  },
  {
   "cell_type": "markdown",
   "metadata": {},
   "source": [
    "# 练习题 Exercise"
   ]
  },
  {
   "cell_type": "markdown",
   "metadata": {},
   "source": [
    "##  ex. 1"
   ]
  },
  {
   "cell_type": "markdown",
   "metadata": {},
   "source": [
    "Q: 支持向量机的基本思想是什么?"
   ]
  },
  {
   "cell_type": "markdown",
   "metadata": {},
   "source": [
    ">The fundamental idea behind **Support Vector Machines** is to fit the widest possible “street” between the classes. In other words, **the goal is to have the largest possible margin between the decision boundary** that separates the two classes and the training instances. When performing **soft margin classification**, the SVM searches for a compromise between perfectly separating the two classes and having the widest possible street (i.e., **a few instances may end up on the street**). Another key idea is to **use kernels when training on nonlinear datasets**."
   ]
  },
  {
   "cell_type": "markdown",
   "metadata": {},
   "source": [
    "## ex.2"
   ]
  },
  {
   "cell_type": "markdown",
   "metadata": {},
   "source": [
    "Q: 什么是支持向量？"
   ]
  },
  {
   "cell_type": "markdown",
   "metadata": {},
   "source": [
    "> After training an SVM, a support vector is any instance located on the “street” (see the previous answer), including its border.**The decision boundary is entirely determined by the support vectors.** Any instance that is not a support vector (i.e., is off the street) has no influence whatsoever; you could remove them, add more instances, or move them around, and as long as they stay off the street they won’t affect the decision boundary. **Computing the predictions only involves the support vectors**, not the whole training set."
   ]
  },
  {
   "cell_type": "markdown",
   "metadata": {},
   "source": [
    "## ex.3"
   ]
  },
  {
   "cell_type": "markdown",
   "metadata": {},
   "source": [
    "Q: 使用 SVM 时,对输入值进行缩放为什么重要?"
   ]
  },
  {
   "cell_type": "markdown",
   "metadata": {},
   "source": [
    "> SVMs try to fit the largest possible “street” between the classes (see the first answer), so **if the training set is not scaled, the SVM will tend to neglect small features** (see 1.2)."
   ]
  },
  {
   "cell_type": "markdown",
   "metadata": {},
   "source": [
    "## ex.4"
   ]
  },
  {
   "cell_type": "markdown",
   "metadata": {},
   "source": [
    "Q: SVM 分类器在对实例进行分类时,会输出信心分数吗?概率呢?"
   ]
  },
  {
   "cell_type": "markdown",
   "metadata": {},
   "source": [
    "> **An SVM classifier can output the distance between the test instance and the decision boundary, and you can use this as a confidence score.** However, this score cannot be directly converted into an estimation of the class probability. If you set `probability=True` when creating an SVM in Scikit-Learn, then after training it will calibrate the probabilities using Logistic Regression on the SVM’s scores (trained by an additional five-fold cross-validation on the training data). This will add the `predict_proba()` and `predict_log_proba()` methods to the SVM."
   ]
  },
  {
   "cell_type": "markdown",
   "metadata": {},
   "source": [
    "## ex.5"
   ]
  },
  {
   "cell_type": "markdown",
   "metadata": {},
   "source": [
    "Q: 如果训练集有成百万个实例和几百个特征,你应该使用 SVM 原始问题还是对偶问题来训练模型? "
   ]
  },
  {
   "cell_type": "markdown",
   "metadata": {},
   "source": [
    "> This question applies only to **linear SVMs** since **kernelized SVMs can only use the dual form**. The computational complexity of the primal form of the SVM problem is proportional to the number of training instances $m$, while the computational complexity of the dual form is proportional to a number between $m^2$ and $m^3$ . So **if there are millions of instances, you should definitely use the primal form**, because the dual form will be much too slow."
   ]
  },
  {
   "cell_type": "markdown",
   "metadata": {},
   "source": [
    "## ex.6"
   ]
  },
  {
   "cell_type": "markdown",
   "metadata": {},
   "source": [
    "Q: 假设你用 `RBF 核`训练了一个 SVM 分类器,看起来似乎对训练集欠拟合,你应该提升还是降低 $\\gamma$(gamma) ? C呢?"
   ]
  },
  {
   "cell_type": "markdown",
   "metadata": {},
   "source": [
    ">If an SVM classifier trained with an RBF kernel underfits the training set, there might be too much regularization. **To decrease it, you need to increase gamma or C (or both).**"
   ]
  },
  {
   "cell_type": "markdown",
   "metadata": {},
   "source": [
    "## ex.7"
   ]
  },
  {
   "cell_type": "markdown",
   "metadata": {},
   "source": [
    "Q: 如果使用现成二次规划求解器,你应该如何设置 QP 参数($H、f、A和 b$)来解决软间隔线性 SVM 分类器问题?"
   ]
  },
  {
   "cell_type": "markdown",
   "metadata": {},
   "source": [
    "## ex.8"
   ]
  },
  {
   "cell_type": "markdown",
   "metadata": {},
   "source": [
    "Q: 在一个线性可分离数据集上训练 `LinearSVC`。然后在同一数据集上训练 `SVC` 和`SGDClassifier`,看看你是否可以用它们产生大致相同的模型。"
   ]
  },
  {
   "cell_type": "code",
   "execution_count": 46,
   "metadata": {},
   "outputs": [],
   "source": [
    "from sklearn.linear_model import SGDClassifier"
   ]
  },
  {
   "cell_type": "code",
   "execution_count": 47,
   "metadata": {},
   "outputs": [],
   "source": [
    "# 加载数据\n",
    "iris = datasets.load_iris()\n",
    "X = iris['data'][:,(2,3)]  # 花瓣的长度和宽度\n",
    "y = iris['target']\n",
    "\n",
    "# 仅对变色鸢尾和山鸢尾进行分类\n",
    "target = (y==0) | (y==1)   \n",
    "X = X[target]\n",
    "y = y[target]"
   ]
  },
  {
   "cell_type": "code",
   "execution_count": 48,
   "metadata": {},
   "outputs": [],
   "source": [
    "# 特征缩放\n",
    "scaler = StandardScaler()\n",
    "X_scaled = scaler.fit_transform(X)"
   ]
  },
  {
   "cell_type": "code",
   "execution_count": 49,
   "metadata": {},
   "outputs": [
    {
     "data": {
      "text/plain": [
       "SGDClassifier(alpha=0.002, average=False, class_weight=None,\n",
       "              early_stopping=False, epsilon=0.1, eta0=0.001, fit_intercept=True,\n",
       "              l1_ratio=0.15, learning_rate='constant', loss='hinge',\n",
       "              max_iter=1000, n_iter_no_change=5, n_jobs=None, penalty='l2',\n",
       "              power_t=0.5, random_state=42, shuffle=True, tol=0.001,\n",
       "              validation_fraction=0.1, verbose=0, warm_start=False)"
      ]
     },
     "execution_count": 49,
     "metadata": {},
     "output_type": "execute_result"
    }
   ],
   "source": [
    "# 模型拟合\n",
    "LinearSVC_model = LinearSVC(C=5, loss=\"hinge\", random_state=42)\n",
    "SVC_model = SVC(C=5, kernel=\"linear\")\n",
    "SGD_model = SGDClassifier(max_iter=1000,      # 最大迭代次数\n",
    "                          tol=1e-3,           # 迭代终止误差限\n",
    "                          learning_rate=\"constant\", # 使用eta0来指定学习率\n",
    "                          eta0=0.001,         # 初始学习率\n",
    "                          random_state=42,\n",
    "                          alpha=0.002,        # 正则化强度\n",
    "                          loss='hinge'\n",
    "                         )\n",
    "\n",
    "LinearSVC_model.fit(X_scaled, y)\n",
    "SVC_model.fit(X_scaled, y)\n",
    "SGD_model.fit(X_scaled, y)"
   ]
  },
  {
   "cell_type": "code",
   "execution_count": 50,
   "metadata": {},
   "outputs": [
    {
     "name": "stdout",
     "output_type": "stream",
     "text": [
      "LinearSVC: [[1.05364923 1.09903601]] [0.28474532]\n",
      "SVC: [[1.1203284  1.02625193]] [0.31896852]\n",
      "SGD: [[0.77714169 0.72981762]] [0.117]\n"
     ]
    }
   ],
   "source": [
    "# 特征权重 截距项\n",
    "print(\"LinearSVC:\",LinearSVC_model.coef_,LinearSVC_model.intercept_)\n",
    "print(\"SVC:\",SVC_model.coef_,SVC_model.intercept_)\n",
    "print(\"SGD:\",SGD_model.coef_,SGD_model.intercept_)"
   ]
  },
  {
   "cell_type": "code",
   "execution_count": 51,
   "metadata": {},
   "outputs": [],
   "source": [
    "# 绘制决策边界 转化为未经过特征缩放的参数\n",
    "def convert_param(model, scaler=scaler):\n",
    "    w = -model.coef_[0,0] / model.coef_[0,1]\n",
    "    b = -model.intercept_[0] / model.coef_[0,1]\n",
    "    \n",
    "    # inverse_transform() 将标准化后的数据转换为原始数据。\n",
    "    line = scaler.inverse_transform([\n",
    "        [-10, -10*w+b], [10, 10*w+b]\n",
    "    ])    \n",
    "    \n",
    "    return line\n",
    "\n",
    "LinearSVC_line = convert_param(LinearSVC_model)\n",
    "SVC_line = convert_param(SVC_model)\n",
    "SGD_line = convert_param(SGD_model)"
   ]
  },
  {
   "cell_type": "code",
   "execution_count": 52,
   "metadata": {},
   "outputs": [
    {
     "data": {
      "text/plain": [
       "array([[-11.56182566,   6.03129158],\n",
       "       [ 17.28382566,  -4.75067065]])"
      ]
     },
     "execution_count": 52,
     "metadata": {},
     "output_type": "execute_result"
    }
   ],
   "source": [
    "LinearSVC_line"
   ]
  },
  {
   "cell_type": "code",
   "execution_count": 53,
   "metadata": {},
   "outputs": [
    {
     "data": {
      "image/png": "[encoded data removed]",
      "text/plain": [
       "<Figure size 792x288 with 1 Axes>"
      ]
     },
     "metadata": {
      "needs_background": "light"
     },
     "output_type": "display_data"
    }
   ],
   "source": [
    "plt.figure(figsize=(11,4))\n",
    "plt.plot(LinearSVC_line[:,0], LinearSVC_line[:,1], \"k:\", label=\"LinearSVC\")\n",
    "plt.plot(SVC_line[:,0], SVC_line[:,1], \"b--\", label=\"SVC\")\n",
    "plt.plot(SGD_line[:,0], SGD_line[:,1], \"r-\", label=\"SGD\")\n",
    "\n",
    "plt.plot(X[:, 0][y==1], X[:, 1][y==1], \"bs\") # 变色鸢尾\n",
    "plt.plot(X[:, 0][y==0], X[:, 1][y==0], \"yo\") # 山鸢尾\n",
    "\n",
    "plt.xlabel(\"花瓣长度\", fontproperties=my_font)\n",
    "plt.ylabel(\"花瓣宽度\", fontproperties=my_font)\n",
    "plt.legend(loc=\"upper center\", prop=my_font)\n",
    "\n",
    "plt.axis([0, 5.5, 0, 2])\n",
    "plt.show()"
   ]
  },
  {
   "cell_type": "markdown",
   "metadata": {},
   "source": [
    "## ex.9"
   ]
  },
  {
   "cell_type": "markdown",
   "metadata": {},
   "source": [
    "Q: 在 MNIST 数据集上训练 SVM 分类器。由于 SVM 分类器是个二元分类器,所以你需要使用一对多来为10个数字进行分类。你可能还需要使用小型验证集来调整超参数以加快进度。最后看看达到的准确率是多少?"
   ]
  },
  {
   "cell_type": "markdown",
   "metadata": {},
   "source": [
    "- 首先，让我们加载数据集并将其分割为训练集和测试集。 可以使用`train_test_split()`，但人们通常只是前60,000个实例作为训练集，以及最后10,000个实例作为测试集."
   ]
  },
  {
   "cell_type": "code",
   "execution_count": 54,
   "metadata": {},
   "outputs": [],
   "source": [
    "from sklearn.datasets import fetch_openml\n",
    "mnist = fetch_openml(\"mnist_784\", version=1, cache=True, )\n",
    "\n",
    "X = mnist[\"data\"].astype(np.float32)\n",
    "y = mnist[\"target\"].astype(np.uint8)  # 将标签类型由str转成整型\n",
    "\n",
    "X_train = X[:60000]\n",
    "y_train = y[:60000]\n",
    "X_test = X[60000:]\n",
    "y_test = y[60000:]"
   ]
  },
  {
   "cell_type": "code",
   "execution_count": 55,
   "metadata": {},
   "outputs": [
    {
     "data": {
      "text/plain": [
       "((60000, 784), (10000, 784))"
      ]
     },
     "execution_count": 55,
     "metadata": {},
     "output_type": "execute_result"
    }
   ],
   "source": [
    "X_train.shape, X_test.shape"
   ]
  },
  {
   "cell_type": "markdown",
   "metadata": {},
   "source": [
    "- 由于数据集已经实现了混洗，所以免去这一步骤。接下来训练SVM分类器，使用一对多(OVR)策略。"
   ]
  },
  {
   "cell_type": "code",
   "execution_count": 56,
   "metadata": {},
   "outputs": [
    {
     "name": "stderr",
     "output_type": "stream",
     "text": [
      "/Users/jin/opt/anaconda3/lib/python3.7/site-packages/sklearn/svm/base.py:929: ConvergenceWarning: Liblinear failed to converge, increase the number of iterations.\n",
      "  \"the number of iterations.\", ConvergenceWarning)\n"
     ]
    },
    {
     "data": {
      "text/plain": [
       "LinearSVC(C=1.0, class_weight=None, dual=True, fit_intercept=True,\n",
       "          intercept_scaling=1, loss='squared_hinge', max_iter=1000,\n",
       "          multi_class='ovr', penalty='l2', random_state=42, tol=0.0001,\n",
       "          verbose=0)"
      ]
     },
     "execution_count": 56,
     "metadata": {},
     "output_type": "execute_result"
    }
   ],
   "source": [
    "lin_clf = LinearSVC(random_state=42)\n",
    "lin_clf.fit(X_train, y_train)"
   ]
  },
  {
   "cell_type": "markdown",
   "metadata": {},
   "source": [
    "- 对训练集上的数据进行预测，评估精准度"
   ]
  },
  {
   "cell_type": "code",
   "execution_count": 57,
   "metadata": {},
   "outputs": [],
   "source": [
    "from sklearn.metrics import accuracy_score"
   ]
  },
  {
   "cell_type": "code",
   "execution_count": 58,
   "metadata": {},
   "outputs": [
    {
     "data": {
      "text/plain": [
       "0.895"
      ]
     },
     "execution_count": 58,
     "metadata": {},
     "output_type": "execute_result"
    }
   ],
   "source": [
    "y_pred = lin_clf.predict(X_train)\n",
    "accuracy_score(y_train, y_pred)"
   ]
  },
  {
   "cell_type": "markdown",
   "metadata": {},
   "source": [
    "- 精准度89.5%比较糟糕，考虑去缩放数据"
   ]
  },
  {
   "cell_type": "code",
   "execution_count": 59,
   "metadata": {},
   "outputs": [],
   "source": [
    "scaler = StandardScaler()\n",
    "X_train_scaled = scaler.fit_transform(X_train)\n",
    "X_test_scaled = scaler.transform(X_test)"
   ]
  },
  {
   "cell_type": "code",
   "execution_count": 60,
   "metadata": {},
   "outputs": [
    {
     "name": "stderr",
     "output_type": "stream",
     "text": [
      "/Users/jin/opt/anaconda3/lib/python3.7/site-packages/sklearn/svm/base.py:929: ConvergenceWarning: Liblinear failed to converge, increase the number of iterations.\n",
      "  \"the number of iterations.\", ConvergenceWarning)\n"
     ]
    },
    {
     "data": {
      "text/plain": [
       "LinearSVC(C=1.0, class_weight=None, dual=True, fit_intercept=True,\n",
       "          intercept_scaling=1, loss='squared_hinge', max_iter=1000,\n",
       "          multi_class='ovr', penalty='l2', random_state=42, tol=0.0001,\n",
       "          verbose=0)"
      ]
     },
     "execution_count": 60,
     "metadata": {},
     "output_type": "execute_result"
    }
   ],
   "source": [
    "lin_clf = LinearSVC(random_state=42)\n",
    "lin_clf.fit(X_train_scaled, y_train)"
   ]
  },
  {
   "cell_type": "code",
   "execution_count": 61,
   "metadata": {},
   "outputs": [
    {
     "data": {
      "text/plain": [
       "0.9225333333333333"
      ]
     },
     "execution_count": 61,
     "metadata": {},
     "output_type": "execute_result"
    }
   ],
   "source": [
    "y_pred = lin_clf.predict(X_train_scaled)\n",
    "accuracy_score(y_train, y_pred)"
   ]
  },
  {
   "cell_type": "markdown",
   "metadata": {},
   "source": [
    "- 精准度得到了提升，但是仍然不够好，尝试使用核函数：`SVC(kernel=\"rbf\")`"
   ]
  },
  {
   "cell_type": "code",
   "execution_count": 62,
   "metadata": {},
   "outputs": [
    {
     "data": {
      "text/plain": [
       "SVC(C=1.0, cache_size=200, class_weight=None, coef0=0.0,\n",
       "    decision_function_shape='ovr', degree=3, gamma='scale', kernel='rbf',\n",
       "    max_iter=-1, probability=False, random_state=None, shrinking=True,\n",
       "    tol=0.001, verbose=False)"
      ]
     },
     "execution_count": 62,
     "metadata": {},
     "output_type": "execute_result"
    }
   ],
   "source": [
    "svc_model = SVC(gamma=\"scale\", kernel=\"rbf\")\n",
    "svc_model.fit(X_train_scaled[:10000], y_train[:10000])"
   ]
  },
  {
   "cell_type": "code",
   "execution_count": 63,
   "metadata": {},
   "outputs": [
    {
     "data": {
      "text/plain": [
       "0.9455333333333333"
      ]
     },
     "execution_count": 63,
     "metadata": {},
     "output_type": "execute_result"
    }
   ],
   "source": [
    "y_pred = svc_model.predict(X_train_scaled)\n",
    "accuracy_score(y_train, y_pred)"
   ]
  },
  {
   "cell_type": "markdown",
   "metadata": {},
   "source": [
    "- 结果是可喜的，因为仅有六分之一训练集数据的情况下得到了比之前更好的性能。接下来通过`交叉验证集`进行`随机搜索`调整超参数，这里仅在一个小型验证集进行此操作以加快进度。"
   ]
  },
  {
   "cell_type": "code",
   "execution_count": 64,
   "metadata": {},
   "outputs": [],
   "source": [
    "from sklearn.model_selection import RandomizedSearchCV\n",
    "from scipy.stats import reciprocal, uniform"
   ]
  },
  {
   "cell_type": "code",
   "execution_count": 65,
   "metadata": {},
   "outputs": [
    {
     "name": "stdout",
     "output_type": "stream",
     "text": [
      "Fitting 3 folds for each of 10 candidates, totalling 30 fits\n"
     ]
    },
    {
     "name": "stderr",
     "output_type": "stream",
     "text": [
      "[Parallel(n_jobs=-1)]: Using backend LokyBackend with 12 concurrent workers.\n",
      "[Parallel(n_jobs=-1)]: Done  23 out of  30 | elapsed:    4.1s remaining:    1.2s\n",
      "[Parallel(n_jobs=-1)]: Done  30 out of  30 | elapsed:    4.9s finished\n"
     ]
    },
    {
     "data": {
      "text/plain": [
       "RandomizedSearchCV(cv=3, error_score='raise-deprecating',\n",
       "                   estimator=SVC(C=1.0, cache_size=200, class_weight=None,\n",
       "                                 coef0=0.0, decision_function_shape='ovr',\n",
       "                                 degree=3, gamma='scale', kernel='rbf',\n",
       "                                 max_iter=-1, probability=False,\n",
       "                                 random_state=None, shrinking=True, tol=0.001,\n",
       "                                 verbose=False),\n",
       "                   iid='warn', n_iter=10, n_jobs=-1,\n",
       "                   param_distributions={'C': <scipy.stats._distn_infrastructure.rv_frozen object at 0x7fbc60884f90>,\n",
       "                                        'gamma': <scipy.stats._distn_infrastructure.rv_frozen object at 0x7fbc60884510>},\n",
       "                   pre_dispatch='2*n_jobs', random_state=42, refit=True,\n",
       "                   return_train_score=False, scoring=None, verbose=2)"
      ]
     },
     "execution_count": 65,
     "metadata": {},
     "output_type": "execute_result"
    }
   ],
   "source": [
    "param_distribs = {\n",
    "    \"gamma\":reciprocal(0.001, 0.1),  # 逆高斯分布\n",
    "    \"C\":uniform(1, 10)               # 均匀连续随机变量\n",
    "}\n",
    "rnd_search = RandomizedSearchCV(estimator=svc_model, \n",
    "                                param_distributions=param_distribs,\n",
    "                                n_iter=10,   # 指定训练次数\n",
    "                                cv=3, \n",
    "                                random_state=42,\n",
    "                                verbose=2,  # verbose：日志冗长度\n",
    "                                n_jobs=-1\n",
    "                               )\n",
    "rnd_search.fit(X_train_scaled[:1000], y_train[:1000])"
   ]
  },
  {
   "cell_type": "markdown",
   "metadata": {},
   "source": [
    "- 获取最佳的参数组合"
   ]
  },
  {
   "cell_type": "code",
   "execution_count": 66,
   "metadata": {},
   "outputs": [
    {
     "data": {
      "text/plain": [
       "{'C': 2.560186404424365, 'gamma': 0.002051110418843397}"
      ]
     },
     "execution_count": 66,
     "metadata": {},
     "output_type": "execute_result"
    }
   ],
   "source": [
    "rnd_search.best_params_"
   ]
  },
  {
   "cell_type": "markdown",
   "metadata": {},
   "source": [
    "- 最佳评估分数"
   ]
  },
  {
   "cell_type": "code",
   "execution_count": 67,
   "metadata": {},
   "outputs": [
    {
     "data": {
      "text/plain": [
       "0.851"
      ]
     },
     "execution_count": 67,
     "metadata": {},
     "output_type": "execute_result"
    }
   ],
   "source": [
    "rnd_search.best_score_"
   ]
  },
  {
   "cell_type": "markdown",
   "metadata": {},
   "source": [
    "- 由于这仅仅是在1000个实例所训练得到的分数，让我们在整个训练集上重新训练最佳估算器"
   ]
  },
  {
   "cell_type": "code",
   "execution_count": 68,
   "metadata": {
    "scrolled": true
   },
   "outputs": [
    {
     "data": {
      "text/plain": [
       "SVC(C=2.560186404424365, cache_size=200, class_weight=None, coef0=0.0,\n",
       "    decision_function_shape='ovr', degree=3, gamma=0.002051110418843397,\n",
       "    kernel='rbf', max_iter=-1, probability=False, random_state=None,\n",
       "    shrinking=True, tol=0.001, verbose=False)"
      ]
     },
     "execution_count": 68,
     "metadata": {},
     "output_type": "execute_result"
    }
   ],
   "source": [
    "# 运行时间长\n",
    "rnd_search.best_estimator_.fit(X_train_scaled, y_train)"
   ]
  },
  {
   "cell_type": "code",
   "execution_count": 69,
   "metadata": {},
   "outputs": [
    {
     "data": {
      "text/plain": [
       "0.9973666666666666"
      ]
     },
     "execution_count": 69,
     "metadata": {},
     "output_type": "execute_result"
    }
   ],
   "source": [
    "y_pred = rnd_search.best_estimator_.predict(X_train_scaled)\n",
    "accuracy_score(y_train, y_pred)"
   ]
  },
  {
   "cell_type": "markdown",
   "metadata": {},
   "source": [
    "- 运用此模型在测试集上进行测试"
   ]
  },
  {
   "cell_type": "code",
   "execution_count": 71,
   "metadata": {},
   "outputs": [
    {
     "data": {
      "text/plain": [
       "0.9708"
      ]
     },
     "execution_count": 71,
     "metadata": {},
     "output_type": "execute_result"
    }
   ],
   "source": [
    "y_pred = rnd_search.best_estimator_.predict(X_test_scaled)\n",
    "accuracy_score(y_test, y_pred)"
   ]
  },
  {
   "cell_type": "markdown",
   "metadata": {},
   "source": [
    "并不是很糟糕，但显然模型略微过拟合。 调整超参数似乎能起到效果（例如，减少`C`和或`gamma`），但我们会增加测试集过拟合的风险。研究发现，将超参数设置为`C = 5`和`gamma= 0.005`产生更好的性能（超过98％的精度）。 通过运行随机搜索和更大的数据集，你也可以找到它这样的参数。"
   ]
  },
  {
   "cell_type": "markdown",
   "metadata": {},
   "source": [
    "## ex.10"
   ]
  },
  {
   "cell_type": "markdown",
   "metadata": {},
   "source": [
    "Q: 在加州住房数据集上训练一个 SVM 回归模型。"
   ]
  },
  {
   "cell_type": "code",
   "execution_count": 72,
   "metadata": {},
   "outputs": [],
   "source": [
    "from sklearn.datasets import fetch_california_housing\n",
    "\n",
    "housing = fetch_california_housing()\n",
    "X = housing['data']\n",
    "y = housing['target']"
   ]
  },
  {
   "cell_type": "code",
   "execution_count": 73,
   "metadata": {},
   "outputs": [],
   "source": [
    "from sklearn.model_selection import train_test_split\n",
    "\n",
    "X_train, X_test, y_train, y_test = train_test_split(X, y, test_size=0.2, random_state=42)"
   ]
  },
  {
   "cell_type": "code",
   "execution_count": 74,
   "metadata": {},
   "outputs": [],
   "source": [
    "from sklearn.preprocessing import StandardScaler\n",
    "\n",
    "scaler = StandardScaler()\n",
    "X_train_scaled = scaler.fit_transform(X_train)\n",
    "X_test_scaled = scaler.transform(X_test)"
   ]
  },
  {
   "cell_type": "code",
   "execution_count": 75,
   "metadata": {},
   "outputs": [
    {
     "name": "stderr",
     "output_type": "stream",
     "text": [
      "/Users/jin/opt/anaconda3/lib/python3.7/site-packages/sklearn/svm/base.py:929: ConvergenceWarning: Liblinear failed to converge, increase the number of iterations.\n",
      "  \"the number of iterations.\", ConvergenceWarning)\n"
     ]
    },
    {
     "data": {
      "text/plain": [
       "LinearSVR(C=1.0, dual=True, epsilon=0.0, fit_intercept=True,\n",
       "          intercept_scaling=1.0, loss='epsilon_insensitive', max_iter=1000,\n",
       "          random_state=42, tol=0.0001, verbose=0)"
      ]
     },
     "execution_count": 75,
     "metadata": {},
     "output_type": "execute_result"
    }
   ],
   "source": [
    "from sklearn.svm import LinearSVR\n",
    "\n",
    "lin_svr = LinearSVR(random_state=42)\n",
    "lin_svr.fit(X_train_scaled, y_train)"
   ]
  },
  {
   "cell_type": "code",
   "execution_count": 76,
   "metadata": {},
   "outputs": [
    {
     "data": {
      "text/plain": [
       "0.954517044073374"
      ]
     },
     "execution_count": 76,
     "metadata": {},
     "output_type": "execute_result"
    }
   ],
   "source": [
    "from sklearn.metrics import mean_squared_error\n",
    "\n",
    "y_pred = lin_svr.predict(X_train_scaled)\n",
    "mse = mean_squared_error(y_true=y_train, y_pred=y_pred)\n",
    "mse"
   ]
  },
  {
   "cell_type": "code",
   "execution_count": 77,
   "metadata": {},
   "outputs": [
    {
     "data": {
      "text/plain": [
       "0.976993881287582"
      ]
     },
     "execution_count": 77,
     "metadata": {},
     "output_type": "execute_result"
    }
   ],
   "source": [
    "rmse = np.sqrt(mse)\n",
    "rmse"
   ]
  },
  {
   "cell_type": "markdown",
   "metadata": {},
   "source": [
    "- 尝试使用核函数：`SVC(kernel=\"rbf\")`以及不同的超参数"
   ]
  },
  {
   "cell_type": "code",
   "execution_count": 79,
   "metadata": {},
   "outputs": [
    {
     "name": "stdout",
     "output_type": "stream",
     "text": [
      "Fitting 3 folds for each of 10 candidates, totalling 30 fits\n",
      "[CV] C=4.745401188473625, gamma=0.07969454818643928 ..................\n"
     ]
    },
    {
     "name": "stderr",
     "output_type": "stream",
     "text": [
      "[Parallel(n_jobs=1)]: Using backend SequentialBackend with 1 concurrent workers.\n"
     ]
    },
    {
     "name": "stdout",
     "output_type": "stream",
     "text": [
      "[CV] ... C=4.745401188473625, gamma=0.07969454818643928, total=   5.3s\n",
      "[CV] C=4.745401188473625, gamma=0.07969454818643928 ..................\n"
     ]
    },
    {
     "name": "stderr",
     "output_type": "stream",
     "text": [
      "[Parallel(n_jobs=1)]: Done   1 out of   1 | elapsed:    5.3s remaining:    0.0s\n"
     ]
    },
    {
     "name": "stdout",
     "output_type": "stream",
     "text": [
      "[CV] ... C=4.745401188473625, gamma=0.07969454818643928, total=   5.6s\n",
      "[CV] C=4.745401188473625, gamma=0.07969454818643928 ..................\n",
      "[CV] ... C=4.745401188473625, gamma=0.07969454818643928, total=   5.2s\n",
      "[CV] C=8.31993941811405, gamma=0.015751320499779724 ..................\n",
      "[CV] ... C=8.31993941811405, gamma=0.015751320499779724, total=   5.3s\n",
      "[CV] C=8.31993941811405, gamma=0.015751320499779724 ..................\n",
      "[CV] ... C=8.31993941811405, gamma=0.015751320499779724, total=   4.7s\n",
      "[CV] C=8.31993941811405, gamma=0.015751320499779724 ..................\n",
      "[CV] ... C=8.31993941811405, gamma=0.015751320499779724, total=   5.0s\n",
      "[CV] C=2.560186404424365, gamma=0.002051110418843397 .................\n",
      "[CV] .. C=2.560186404424365, gamma=0.002051110418843397, total=   4.8s\n",
      "[CV] C=2.560186404424365, gamma=0.002051110418843397 .................\n",
      "[CV] .. C=2.560186404424365, gamma=0.002051110418843397, total=   5.2s\n",
      "[CV] C=2.560186404424365, gamma=0.002051110418843397 .................\n",
      "[CV] .. C=2.560186404424365, gamma=0.002051110418843397, total=   4.9s\n",
      "[CV] C=1.5808361216819946, gamma=0.05399484409787431 .................\n",
      "[CV] .. C=1.5808361216819946, gamma=0.05399484409787431, total=   5.4s\n",
      "[CV] C=1.5808361216819946, gamma=0.05399484409787431 .................\n",
      "[CV] .. C=1.5808361216819946, gamma=0.05399484409787431, total=   5.2s\n",
      "[CV] C=1.5808361216819946, gamma=0.05399484409787431 .................\n",
      "[CV] .. C=1.5808361216819946, gamma=0.05399484409787431, total=   5.3s\n",
      "[CV] C=7.011150117432088, gamma=0.026070247583707663 .................\n",
      "[CV] .. C=7.011150117432088, gamma=0.026070247583707663, total=   5.5s\n",
      "[CV] C=7.011150117432088, gamma=0.026070247583707663 .................\n",
      "[CV] .. C=7.011150117432088, gamma=0.026070247583707663, total=   5.3s\n",
      "[CV] C=7.011150117432088, gamma=0.026070247583707663 .................\n",
      "[CV] .. C=7.011150117432088, gamma=0.026070247583707663, total=   5.6s\n",
      "[CV] C=1.2058449429580245, gamma=0.0870602087830485 ..................\n",
      "[CV] ... C=1.2058449429580245, gamma=0.0870602087830485, total=   4.7s\n",
      "[CV] C=1.2058449429580245, gamma=0.0870602087830485 ..................\n",
      "[CV] ... C=1.2058449429580245, gamma=0.0870602087830485, total=   4.5s\n",
      "[CV] C=1.2058449429580245, gamma=0.0870602087830485 ..................\n",
      "[CV] ... C=1.2058449429580245, gamma=0.0870602087830485, total=   4.3s\n",
      "[CV] C=9.324426408004218, gamma=0.0026587543983272693 ................\n",
      "[CV] . C=9.324426408004218, gamma=0.0026587543983272693, total=   4.4s\n",
      "[CV] C=9.324426408004218, gamma=0.0026587543983272693 ................\n",
      "[CV] . C=9.324426408004218, gamma=0.0026587543983272693, total=   4.5s\n",
      "[CV] C=9.324426408004218, gamma=0.0026587543983272693 ................\n",
      "[CV] . C=9.324426408004218, gamma=0.0026587543983272693, total=   4.4s\n",
      "[CV] C=2.818249672071006, gamma=0.0023270677083837795 ................\n",
      "[CV] . C=2.818249672071006, gamma=0.0023270677083837795, total=   4.5s\n",
      "[CV] C=2.818249672071006, gamma=0.0023270677083837795 ................\n",
      "[CV] . C=2.818249672071006, gamma=0.0023270677083837795, total=   4.3s\n",
      "[CV] C=2.818249672071006, gamma=0.0023270677083837795 ................\n",
      "[CV] . C=2.818249672071006, gamma=0.0023270677083837795, total=   4.1s\n",
      "[CV] C=4.042422429595377, gamma=0.011207606211860567 .................\n",
      "[CV] .. C=4.042422429595377, gamma=0.011207606211860567, total=   4.2s\n",
      "[CV] C=4.042422429595377, gamma=0.011207606211860567 .................\n",
      "[CV] .. C=4.042422429595377, gamma=0.011207606211860567, total=   4.7s\n",
      "[CV] C=4.042422429595377, gamma=0.011207606211860567 .................\n",
      "[CV] .. C=4.042422429595377, gamma=0.011207606211860567, total=   4.4s\n",
      "[CV] C=5.319450186421157, gamma=0.003823475224675185 .................\n",
      "[CV] .. C=5.319450186421157, gamma=0.003823475224675185, total=   4.2s\n",
      "[CV] C=5.319450186421157, gamma=0.003823475224675185 .................\n",
      "[CV] .. C=5.319450186421157, gamma=0.003823475224675185, total=   4.3s\n",
      "[CV] C=5.319450186421157, gamma=0.003823475224675185 .................\n",
      "[CV] .. C=5.319450186421157, gamma=0.003823475224675185, total=   4.6s\n"
     ]
    },
    {
     "name": "stderr",
     "output_type": "stream",
     "text": [
      "[Parallel(n_jobs=1)]: Done  30 out of  30 | elapsed:  2.4min finished\n"
     ]
    },
    {
     "data": {
      "text/plain": [
       "RandomizedSearchCV(cv=3, error_score='raise-deprecating',\n",
       "                   estimator=SVR(C=1.0, cache_size=200, coef0=0.0, degree=3,\n",
       "                                 epsilon=0.1, gamma='auto_deprecated',\n",
       "                                 kernel='rbf', max_iter=-1, shrinking=True,\n",
       "                                 tol=0.001, verbose=False),\n",
       "                   iid='warn', n_iter=10, n_jobs=None,\n",
       "                   param_distributions={'C': <scipy.stats._distn_infrastructure.rv_frozen object at 0x7fbc60f0e1d0>,\n",
       "                                        'gamma': <scipy.stats._distn_infrastructure.rv_frozen object at 0x7fbc60f0e8d0>},\n",
       "                   pre_dispatch='2*n_jobs', random_state=42, refit=True,\n",
       "                   return_train_score=False, scoring=None, verbose=2)"
      ]
     },
     "execution_count": 79,
     "metadata": {},
     "output_type": "execute_result"
    }
   ],
   "source": [
    "from sklearn.svm import SVR\n",
    "\n",
    "param_distribs = {\n",
    "    \"gamma\":reciprocal(0.001, 0.1),\n",
    "    \"C\":uniform(1, 10)   # 均匀连续随机变量\n",
    "}\n",
    "rnd_search = RandomizedSearchCV(estimator=SVR(), \n",
    "                                param_distributions=param_distribs,\n",
    "                                n_iter=10,   # 指定训练次数\n",
    "                                cv=3, \n",
    "                                random_state=42,\n",
    "                                verbose=2,  # verbose：日志冗长度\n",
    "                                #n_jobs=-1\n",
    "                               )\n",
    "rnd_search.fit(X_train_scaled, y_train)"
   ]
  },
  {
   "cell_type": "code",
   "execution_count": 80,
   "metadata": {},
   "outputs": [
    {
     "data": {
      "text/plain": [
       "SVR(C=4.745401188473625, cache_size=200, coef0=0.0, degree=3, epsilon=0.1,\n",
       "    gamma=0.07969454818643928, kernel='rbf', max_iter=-1, shrinking=True,\n",
       "    tol=0.001, verbose=False)"
      ]
     },
     "execution_count": 80,
     "metadata": {},
     "output_type": "execute_result"
    }
   ],
   "source": [
    "rnd_search.best_estimator_"
   ]
  },
  {
   "cell_type": "code",
   "execution_count": 81,
   "metadata": {},
   "outputs": [
    {
     "data": {
      "text/plain": [
       "0.5727524770785359"
      ]
     },
     "execution_count": 81,
     "metadata": {},
     "output_type": "execute_result"
    }
   ],
   "source": [
    "y_pred = rnd_search.best_estimator_.predict(X_train_scaled)\n",
    "mse = mean_squared_error(y_train, y_pred)\n",
    "np.sqrt(mse)"
   ]
  },
  {
   "cell_type": "markdown",
   "metadata": {},
   "source": [
    "看起来比线性模型好得多。选择此模型并在测试集上进行评估:"
   ]
  },
  {
   "cell_type": "code",
   "execution_count": 82,
   "metadata": {},
   "outputs": [
    {
     "data": {
      "text/plain": [
       "0.5929168385528734"
      ]
     },
     "execution_count": 82,
     "metadata": {},
     "output_type": "execute_result"
    }
   ],
   "source": [
    "y_pred = rnd_search.best_estimator_.predict(X_test_scaled)\n",
    "mse = mean_squared_error(y_test, y_pred)\n",
    "np.sqrt(mse)"
   ]
  },
  {
   "cell_type": "markdown",
   "metadata": {},
   "source": [
    "> Apotosome 08/10/21"
   ]
  }
 ],
 "metadata": {
  "hide_input": false,
  "kernelspec": {
   "display_name": "Python 3 (ipykernel)",
   "language": "python",
   "name": "python3"
  },
  "language_info": {
   "codemirror_mode": {
    "name": "ipython",
    "version": 3
   },
   "file_extension": ".py",
   "mimetype": "text/x-python",
   "name": "python",
   "nbconvert_exporter": "python",
   "pygments_lexer": "ipython3",
   "version": "3.10.6"
  },
  "toc": {
   "base_numbering": 1,
   "nav_menu": {},
   "number_sections": true,
   "sideBar": true,
   "skip_h1_title": false,
   "title_cell": "Table of Contents",
   "title_sidebar": "Contents",
   "toc_cell": false,
   "toc_position": {
    "height": "calc(100% - 180px)",
    "left": "10px",
    "top": "150px",
    "width": "211px"
   },
   "toc_section_display": true,
   "toc_window_display": true
  }
 },
 "nbformat": 4,
 "nbformat_minor": 2
}
