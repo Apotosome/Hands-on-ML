{
 "cells": [
  {
   "cell_type": "markdown",
   "metadata": {},
   "source": [
    "# 线性回归 Linear regression"
   ]
  },
  {
   "cell_type": "markdown",
   "metadata": {},
   "source": [
    ">公式1：线性回归模型预测 Linear Regression model prediction\n",
    "$$\n",
    "    \\hat{y}=\\theta_{0}+\\theta_{1} x_{1}+\\theta_{2} x_{2}+\\cdots+\\theta_{n} x_{n}\n",
    "$$"
   ]
  },
  {
   "cell_type": "markdown",
   "metadata": {},
   "source": [
    ">公式2：线性回归模型预测（向量化形式）Linear Regression model prediction (vectorized form)\n",
    "$$\n",
    "    \\hat{y}=h_\\theta(x)=\\theta·x\n",
    "$$"
   ]
  },
  {
   "cell_type": "markdown",
   "metadata": {},
   "source": [
    "训练模型就是设置模型参数直到模型最拟合训练集过程 \n",
    "\n",
    "在实践中，将`均方误差MSE`最小化比最小化`均方根误差RMSE`更为简单，二者效果相同。"
   ]
  },
  {
   "cell_type": "markdown",
   "metadata": {},
   "source": [
    ">公式3： 均方根误差Root Mean Square Error (RMSE):\n",
    "$$\n",
    "\\operatorname{RMSE}(\\mathbf{X}, h_\\theta)=\\sqrt{\\frac{1}{m} \\sum_{i=1}^{m}\\left(\\theta^Tx^{(i)}-y^{(i)}\\right)^{2}}\n",
    "$$"
   ]
  },
  {
   "cell_type": "markdown",
   "metadata": {},
   "source": [
    ">公式4： 均方误差Mean Square Error (MSE):\n",
    "$$\n",
    "\\operatorname{MSE}(\\mathbf{X}, h_\\theta)={\\frac{1}{m} \\sum_{i=1}^{m}\\left(\\theta^Tx^{(i)}-y^{(i)}\\right)^{2}}\n",
    "$$"
   ]
  },
  {
   "cell_type": "markdown",
   "metadata": {},
   "source": [
    "本章将介绍两种不同的训练模型的方法：\n",
    "1. 通过闭式方程，直接计算出最拟合训练集的参数模型。【1.1】\n",
    "2. 使用迭代优化的方法，(既梯度下降)逐渐调整模型参数直至训练集上的成本函数调至最低，最终趋同于第一种方法计算出来的模型参数。【1.3】"
   ]
  },
  {
   "cell_type": "markdown",
   "metadata": {},
   "source": [
    "## 标准方程 Normal Equation"
   ]
  },
  {
   "cell_type": "markdown",
   "metadata": {},
   "source": [
    "- 利用闭式解方法计算\n",
    "\n",
    "    为了得到使成本函数最小值的θ。有一个闭式解方法：`标准方程`"
   ]
  },
  {
   "cell_type": "markdown",
   "metadata": {},
   "source": [
    ">公式5：标准方程 Normal Equation\n",
    "$$\n",
    "    \\hat{θ}=(X^TX)^{-1}X^Ty\n",
    "$$"
   ]
  },
  {
   "cell_type": "code",
   "execution_count": 1,
   "metadata": {},
   "outputs": [],
   "source": [
    "import numpy as np\n",
    "import matplotlib as mpl\n",
    "import matplotlib.pyplot as plt\n",
    "import pandas as pd\n",
    "import seaborn as sns"
   ]
  },
  {
   "cell_type": "code",
   "execution_count": 2,
   "metadata": {},
   "outputs": [],
   "source": [
    "def normalEquation(X,y):\n",
    "    theta = np.linalg.inv(X.T@X)@X.T@y\n",
    "    return theta"
   ]
  },
  {
   "cell_type": "markdown",
   "metadata": {},
   "source": [
    "1. 首先随机生成线性数据集  **$y=4+3x+$高斯噪音**"
   ]
  },
  {
   "cell_type": "code",
   "execution_count": 3,
   "metadata": {},
   "outputs": [],
   "source": [
    "X = np.array(np.random.rand(100, 1)*2)           # rand()是0-1的均匀随机分布\n",
    "y = np.array(4 + 3*X + np.random.randn(100, 1))  # randn()是均值为0方差为1的标准正态分布 -> 生成高斯噪音"
   ]
  },
  {
   "cell_type": "code",
   "execution_count": 4,
   "metadata": {},
   "outputs": [
    {
     "data": {
      "image/png": "[encoded data removed]",
      "text/plain": [
       "<Figure size 432x288 with 1 Axes>"
      ]
     },
     "metadata": {
      "needs_background": "light"
     },
     "output_type": "display_data"
    }
   ],
   "source": [
    "# sns.set(style=\"darkgrid\")\n",
    "\n",
    "plt.plot(X, y, 'b.')\n",
    "\n",
    "plt.xlabel(\"$X_1$\")\n",
    "plt.ylabel(\"$y$\")\n",
    "plt.axis([0.00, 02.00, 0 ,15])\n",
    "\n",
    "plt.show()"
   ]
  },
  {
   "cell_type": "markdown",
   "metadata": {},
   "source": [
    "2. 使用`正规方程`计算 $\\hat{θ}$\n",
    "\n",
    "    在第一列前面添加新的一列，使得特征矩阵满足以向量化的解决方法,假设$x_{0}=1$"
   ]
  },
  {
   "cell_type": "code",
   "execution_count": 5,
   "metadata": {},
   "outputs": [
    {
     "data": {
      "text/plain": [
       "array([[1.        , 0.19056916],\n",
       "       [1.        , 0.87815899],\n",
       "       [1.        , 0.15307222],\n",
       "       [1.        , 1.35790348],\n",
       "       [1.        , 0.54541689]])"
      ]
     },
     "execution_count": 5,
     "metadata": {},
     "output_type": "execute_result"
    }
   ],
   "source": [
    "X_tr = np.c_[np.ones((100,1)), X]\n",
    "X_tr[:5]"
   ]
  },
  {
   "cell_type": "code",
   "execution_count": 6,
   "metadata": {},
   "outputs": [
    {
     "data": {
      "text/plain": [
       "array([[3.82341235],\n",
       "       [3.21795935]])"
      ]
     },
     "execution_count": 6,
     "metadata": {},
     "output_type": "execute_result"
    }
   ],
   "source": [
    "theta = normalEquation(X_tr, y)\n",
    "theta"
   ]
  },
  {
   "cell_type": "markdown",
   "metadata": {},
   "source": [
    "你们期待的是$\\theta_0=4$,$\\theta_1=3$.实际得到的值非常接近，由于噪声的存在，不可能完全还原成原来的函数。"
   ]
  },
  {
   "cell_type": "markdown",
   "metadata": {},
   "source": [
    "3. 使用$\\hat{θ}$进行预测"
   ]
  },
  {
   "cell_type": "code",
   "execution_count": 7,
   "metadata": {},
   "outputs": [],
   "source": [
    "x = np.linspace(X.min(), X.max(),100)      # 表示横坐标\n",
    "f = theta[0][0] * 1 + (theta[1][0] * x)    # 表示预测值"
   ]
  },
  {
   "cell_type": "code",
   "execution_count": 8,
   "metadata": {},
   "outputs": [
    {
     "data": {
      "image/png": "[encoded data removed]",
      "text/plain": [
       "<Figure size 432x288 with 1 Axes>"
      ]
     },
     "metadata": {
      "needs_background": "light"
     },
     "output_type": "display_data"
    }
   ],
   "source": [
    "plt.plot(X, y, 'b.')\n",
    "plt.plot(x, f, 'r', label=\"Predictions\")\n",
    "\n",
    "plt.xlabel(\"$X_1$\")\n",
    "plt.ylabel(\"$y$\")\n",
    "plt.axis([0.00, 02.00, 0 ,15])\n",
    "plt.legend()\n",
    "\n",
    "plt.show()"
   ]
  },
  {
   "cell_type": "markdown",
   "metadata": {},
   "source": [
    "- `Scikit-Learn`的`LinerRegression`实现基于`SVD`线性回归"
   ]
  },
  {
   "cell_type": "code",
   "execution_count": 9,
   "metadata": {},
   "outputs": [],
   "source": [
    "from sklearn.linear_model import LinearRegression"
   ]
  },
  {
   "cell_type": "code",
   "execution_count": 10,
   "metadata": {},
   "outputs": [
    {
     "data": {
      "text/plain": [
       "(array([3.82341235]), array([[3.21795935]]))"
      ]
     },
     "execution_count": 10,
     "metadata": {},
     "output_type": "execute_result"
    }
   ],
   "source": [
    "lin_model = LinearRegression()\n",
    "lin_model.fit(X, y)\n",
    "# intercept_ coef_ 指偏差项和特征权重\n",
    "lin_model.intercept_, lin_model.coef_"
   ]
  },
  {
   "cell_type": "code",
   "execution_count": 11,
   "metadata": {},
   "outputs": [
    {
     "data": {
      "text/plain": [
       "array([[ 3.82341235],\n",
       "       [10.25933105]])"
      ]
     },
     "execution_count": 11,
     "metadata": {},
     "output_type": "execute_result"
    }
   ],
   "source": [
    "lin_model.predict([[0], [2]])"
   ]
  },
  {
   "cell_type": "markdown",
   "metadata": {},
   "source": [
    "- `scipy.linalg.lstsq()`函数\n",
    "\n",
    "    `LinerRegression`是基于`scipy.linalg.lstsq()`函数(最小二乘)"
   ]
  },
  {
   "cell_type": "code",
   "execution_count": 12,
   "metadata": {},
   "outputs": [
    {
     "data": {
      "text/plain": [
       "array([[3.82341235],\n",
       "       [3.21795935]])"
      ]
     },
     "execution_count": 12,
     "metadata": {},
     "output_type": "execute_result"
    }
   ],
   "source": [
    "theta_svd, residuals, rank, s = np.linalg.lstsq(X_tr, y, rcond=1e-6)\n",
    "theta_svd"
   ]
  },
  {
   "cell_type": "markdown",
   "metadata": {},
   "source": [
    "此函数是计算$\\hat{θ}=X^+y$,其中$X^+$是$X$的伪逆"
   ]
  },
  {
   "cell_type": "code",
   "execution_count": 13,
   "metadata": {},
   "outputs": [
    {
     "data": {
      "text/plain": [
       "array([[3.82341235],\n",
       "       [3.21795935]])"
      ]
     },
     "execution_count": 13,
     "metadata": {},
     "output_type": "execute_result"
    }
   ],
   "source": [
    "# 计算伪逆\n",
    "np.linalg.pinv(X_tr)@y"
   ]
  },
  {
   "cell_type": "markdown",
   "metadata": {},
   "source": [
    "`伪逆`本身是使用被称为`非奇异分解SVD`的标准矩阵分解技术来计算的，可以将训练集矩阵X分解为$UΣV^T$的乘积。\n",
    "`伪逆`比计算`标准方程`更加有效，再加上它可以很好的处理边缘的情况:矩阵是奇异的情况下，伪逆总有定义。"
   ]
  },
  {
   "cell_type": "markdown",
   "metadata": {},
   "source": [
    "## 计算复杂度 Computational Complexity"
   ]
  },
  {
   "cell_type": "markdown",
   "metadata": {},
   "source": [
    "`标准方程`需要计算${{\\left( {{X}^{T}}X \\right)}^{-1}}$，如果特征数量$n$较大则运算代价大，因为矩阵逆的计算时间复杂度为$O(n^3)$.\n",
    "`Scikit-Learn`的`LinerRegression`类使用`SVD`方法的时间复杂度为$O(n^2)$"
   ]
  },
  {
   "cell_type": "markdown",
   "metadata": {},
   "source": [
    "通常来说当$n<10000$时还是可以接受的，只适用于线性模型，不适合逻辑回归模型等其他模型。"
   ]
  },
  {
   "cell_type": "markdown",
   "metadata": {},
   "source": [
    "# 梯度下降 Gradient Descent"
   ]
  },
  {
   "cell_type": "markdown",
   "metadata": {},
   "source": [
    "- 在梯度下降的描述中，模型参数被随机初始化并反复调整，使成本函数最小化。学习步长和成本函数的斜率成正比，因此，当参数接近最小值，步长逐渐变小。"
   ]
  },
  {
   "cell_type": "markdown",
   "metadata": {},
   "source": [
    "<img src=\"./images/other/4-1.png\" width=\"400\">"
   ]
  },
  {
   "cell_type": "markdown",
   "metadata": {},
   "source": [
    "- 梯度下降中一个注意重要参数就是每一步的步长，这取决于超参数`学习率`，如果学习率太低，算法需要经过大量的迭代才能收敛,这将耗费很长的时间。"
   ]
  },
  {
   "cell_type": "markdown",
   "metadata": {},
   "source": [
    "<img src=\"./images/other/4-2.png\" width=\"400\">"
   ]
  },
  {
   "cell_type": "markdown",
   "metadata": {},
   "source": [
    "- 如果学习率过高，会导致算法发散，值越来越大，最后无法找到好的解决方案。"
   ]
  },
  {
   "cell_type": "markdown",
   "metadata": {},
   "source": [
    "<img src=\"./images/other/4-3.png\" width=\"400\">"
   ]
  },
  {
   "cell_type": "markdown",
   "metadata": {},
   "source": [
    "- 如下图`梯度下降陷阱`所示，如果随机初始化是否从左侧起步，那么会收敛到一个局部最小值，而不是全局最小值；如果从右侧起步，那么需要经过很长时间才能越过整片高原；如果你停下的太早，就永远达不到全局最小值。"
   ]
  },
  {
   "cell_type": "markdown",
   "metadata": {},
   "source": [
    "<img src=\"./images/other/4-4.png\" width=\"400\">"
   ]
  },
  {
   "cell_type": "markdown",
   "metadata": {},
   "source": [
    "- 而线性回归模型的MSE成本函数，恰好是个凸函数不存在局部最小值，只有一个全局最小值。应用梯度下降时，需要保证所有特征只的大小比例都差不多，比如使用`数据标准化`，否则收敛时间会长很多。"
   ]
  },
  {
   "cell_type": "markdown",
   "metadata": {},
   "source": [
    "<img src=\"./images/other/4-5.png\" width=\"400\">"
   ]
  },
  {
   "cell_type": "markdown",
   "metadata": {},
   "source": [
    "公式6：成本函数的偏导数 Partial derivatives of the cost function\n",
    ">$$\n",
    "\\frac{\\partial}{\\partial \\theta_{j}} \\operatorname{MSE}(\\boldsymbol{\\theta})=\\frac{2}{m} \\sum_{i=1}^{m}\\left(\\boldsymbol{\\theta}^{} x^{(i)}-y^{(i)}\\right) x_{j}^{(i)}\n",
    "$$"
   ]
  },
  {
   "cell_type": "markdown",
   "metadata": {},
   "source": [
    "公式7：成本函数的梯度向量Gradient vector of the cost function\n",
    ">$$\n",
    "\\nabla_{\\boldsymbol{\\theta}} \\operatorname{MSE}(\\boldsymbol{\\theta})=\\left(\n",
    "\\begin{array}{l}\n",
    "\\frac{\\partial}{\\partial \\theta_{0}} \\operatorname{MSE}(\\boldsymbol{\\theta}) \\\\\n",
    "\\frac{\\partial}{\\partial \\theta_{1}} \\operatorname{MSE}(\\boldsymbol{\\theta}) \\\\\n",
    "\\vdots \\\\\n",
    "\\frac{\\partial}{\\partial \\theta_{n}} \\operatorname{MSE}(\\boldsymbol{\\theta})\n",
    "\\end{array}\n",
    "\\right)=\\frac{2}{m} \\mathbf{X}^{T}(\\mathbf{X} \\boldsymbol{\\theta}-\\mathbf{y})\n",
    "$$"
   ]
  },
  {
   "cell_type": "markdown",
   "metadata": {},
   "source": [
    "## 批量梯度下降 Batch Gradient Descent"
   ]
  },
  {
   "cell_type": "markdown",
   "metadata": {},
   "source": [
    "- 在计算`批量梯度下降`的每一步时，都是使用整批的训练数据。因此，面对极为庞大的数据集时，算法会变得很缓慢。\n",
    "- 如果要训练的线性模型，拥有几十万个特征，使用梯度下降比`标准方程`或`SVD`要快得多。"
   ]
  },
  {
   "cell_type": "markdown",
   "metadata": {},
   "source": [
    "公式8：梯度下降步骤Gradient Descent step \n",
    ">$$\n",
    "\\theta^{(next\\ step)}:=\\theta−η\\nabla_{\\boldsymbol{\\theta}} \\operatorname{MSE}(\\boldsymbol{\\theta})\\\\\n",
    "$$"
   ]
  },
  {
   "cell_type": "code",
   "execution_count": 14,
   "metadata": {},
   "outputs": [],
   "source": [
    "Rate = 0.1  # 学习率\n",
    "n = 1000    # 迭代次数\n",
    "m = X_tr.shape[0]\n",
    "\n",
    "theta = np.random.randn(2,1)   # 随机初始θ"
   ]
  },
  {
   "cell_type": "code",
   "execution_count": 15,
   "metadata": {},
   "outputs": [],
   "source": [
    "# 批量梯度下降的快速实现\n",
    "for i in range(n):\n",
    "    gradients = (2/m) * X_tr.T @ (X_tr@theta - y)\n",
    "    theta = theta - Rate*gradients"
   ]
  },
  {
   "cell_type": "code",
   "execution_count": 16,
   "metadata": {},
   "outputs": [
    {
     "data": {
      "text/plain": [
       "array([[3.82341235],\n",
       "       [3.21795935]])"
      ]
     },
     "execution_count": 16,
     "metadata": {},
     "output_type": "execute_result"
    }
   ],
   "source": [
    "theta"
   ]
  },
  {
   "cell_type": "markdown",
   "metadata": {},
   "source": [
    "下图展示了各种学习率下的梯度下降。"
   ]
  },
  {
   "cell_type": "markdown",
   "metadata": {},
   "source": [
    "<img src=\"./images/other/4-6.png\" width=\"600\">"
   ]
  },
  {
   "cell_type": "markdown",
   "metadata": {},
   "source": [
    "1. 找到合适的学习率可以使用`网格搜索`，但是需要限制迭代次数，这可以淘汰掉那些收敛耗时太长的模型。\n",
    "2. 限制迭代次数的方法：在开始就设置一个非常大的迭代次数，但是当梯度向量的值变得很微小时中断算法。"
   ]
  },
  {
   "cell_type": "markdown",
   "metadata": {},
   "source": [
    "## 随机梯度下降 Stochastic Gradient Descent"
   ]
  },
  {
   "cell_type": "markdown",
   "metadata": {},
   "source": [
    "<img src=\"./images/other/4-7.png\" width=\"300\">"
   ]
  },
  {
   "cell_type": "markdown",
   "metadata": {},
   "source": [
    "1. 与`BGD`相比，使用`SGD`，每一个训练步骤要快的多，但也更加随机。\n",
    "2. 当成本函数非常不规则时,如`梯度下降陷阱`。`SGD`其实可以帮助算法跳出`局部最小值`，所以相较`BGD`，它对找到`全局最小值`更有优势。 \n",
    "3. 缺点是永远定位不到最小值，要解决这个问题，有一个办法是逐步减少学习率：开始的时候步长比较大(有助于快速进展和逃离局部最小值)，然后越来越小，让算法尽量的靠近`全局最小值`，这个过程叫做`模拟退火simulated annealing`。"
   ]
  },
  {
   "cell_type": "markdown",
   "metadata": {},
   "source": [
    "- 学习率调度实现`SGD`"
   ]
  },
  {
   "cell_type": "code",
   "execution_count": 17,
   "metadata": {},
   "outputs": [],
   "source": [
    "epochs = 50               # 迭代次数  \n",
    "t0, t1 = 5, 50            # 学习率参数\n",
    "m = X_tr.shape[0]         # 100\n",
    "\n",
    "theta = np.random.randn(2,1)   # 随机初始θ"
   ]
  },
  {
   "cell_type": "code",
   "execution_count": 18,
   "metadata": {},
   "outputs": [],
   "source": [
    "def learning_schedule(t):   # 学习率调度\n",
    "    return t0 / (t + t1)"
   ]
  },
  {
   "cell_type": "markdown",
   "metadata": {},
   "source": [
    "<img src=\"./images/other/4-8.png\" width=\"400\">"
   ]
  },
  {
   "cell_type": "code",
   "execution_count": 19,
   "metadata": {},
   "outputs": [],
   "source": [
    "for epoch in range(epochs):   # 一次完整的训练数据一轮称为epoch\n",
    "    for i in range(m):\n",
    "        # 每一步在训练集中随机选择一个实例\n",
    "        random_index = np.random.randint(m)\n",
    "        x_i = X_tr[random_index : random_index+1]    # [1,...] \n",
    "        y_i = y[random_index : random_index+1]\n",
    "        \n",
    "        # 计算梯度\n",
    "        gradients = (2) * x_i.T @ (x_i@theta - y_i)\n",
    "        \n",
    "        # 学习率\n",
    "        Rate = learning_schedule(epoch * m + i)\n",
    "        \n",
    "        # 梯度下降\n",
    "        theta = theta - Rate * gradients"
   ]
  },
  {
   "cell_type": "code",
   "execution_count": 20,
   "metadata": {},
   "outputs": [
    {
     "data": {
      "text/plain": [
       "array([[3.83798548],\n",
       "       [3.15319655]])"
      ]
     },
     "execution_count": 20,
     "metadata": {},
     "output_type": "execute_result"
    }
   ],
   "source": [
    "theta   # 遍历50次 效果优于BGD1000次迭代"
   ]
  },
  {
   "cell_type": "markdown",
   "metadata": {},
   "source": [
    "- `SGD`的前20个步骤："
   ]
  },
  {
   "cell_type": "markdown",
   "metadata": {},
   "source": [
    "<img src=\"./images/other/4-9.png\" width=\"400\">"
   ]
  },
  {
   "cell_type": "markdown",
   "metadata": {},
   "source": [
    "1.  由于实例是随机选取的，因此，某些实例可能每个轮次被选取几次，而其他实例则可能根本不被选中。\n",
    "2. 使用随机梯度下降时，训练实例必须`独立且均匀分布/独立同分布/IID`,以确保平均而言将参数拉向全局最优解，方法是在训练过程中对实例进行随机混洗，但收敛速度较慢。"
   ]
  },
  {
   "cell_type": "markdown",
   "metadata": {},
   "source": [
    "-  `Scikit-Learn`的`SGDRegressor`实现`SGD`线性回归"
   ]
  },
  {
   "cell_type": "code",
   "execution_count": 21,
   "metadata": {},
   "outputs": [],
   "source": [
    "from sklearn.linear_model import SGDRegressor"
   ]
  },
  {
   "cell_type": "code",
   "execution_count": 22,
   "metadata": {},
   "outputs": [],
   "source": [
    "sgd_model = SGDRegressor(max_iter=1000,   # 最大迭代次数\n",
    "                         tol=1e-3,        # 迭代终止误差限\n",
    "                         penalty=None,    # 要使用的惩罚 (None:不使用任何正则化)\n",
    "                         eta0=0.1         # 初始学习率\n",
    "                        )"
   ]
  },
  {
   "cell_type": "code",
   "execution_count": 23,
   "metadata": {},
   "outputs": [
    {
     "data": {
      "text/plain": [
       "SGDRegressor(alpha=0.0001, average=False, early_stopping=False, epsilon=0.1,\n",
       "             eta0=0.1, fit_intercept=True, l1_ratio=0.15,\n",
       "             learning_rate='invscaling', loss='squared_loss', max_iter=1000,\n",
       "             n_iter_no_change=5, penalty=None, power_t=0.25, random_state=None,\n",
       "             shuffle=True, tol=0.001, validation_fraction=0.1, verbose=0,\n",
       "             warm_start=False)"
      ]
     },
     "execution_count": 23,
     "metadata": {},
     "output_type": "execute_result"
    }
   ],
   "source": [
    "sgd_model.fit(X, y.ravel())"
   ]
  },
  {
   "cell_type": "code",
   "execution_count": 24,
   "metadata": {},
   "outputs": [
    {
     "data": {
      "text/plain": [
       "(array([3.83635526]), array([3.24285195]))"
      ]
     },
     "execution_count": 24,
     "metadata": {},
     "output_type": "execute_result"
    }
   ],
   "source": [
    "sgd_model.intercept_, sgd_model.coef_"
   ]
  },
  {
   "cell_type": "markdown",
   "metadata": {},
   "source": [
    "## 小批量梯度下降 Mini-batch Gradient Descent"
   ]
  },
  {
   "cell_type": "markdown",
   "metadata": {},
   "source": [
    "1. 不同于`BGD`和`SGD`:在每一步根据完整的训练集，或仅基于一个实例来计算，`MBGD`是在称为小型批量的随机实例集上计算梯度。\n",
    "2. 主要优点是：可以通过矩阵操作的硬件优化来提高性能。与`SGD`相比，该算法在参数空间上进行更加稳定，尤其是相当大的小批次中，但他很难摆脱`局部最小值`。"
   ]
  },
  {
   "cell_type": "code",
   "execution_count": 25,
   "metadata": {},
   "outputs": [],
   "source": [
    "epochs = 50         # 迭代次数  \n",
    "MB_size = 20        # 批次样本总数\n",
    "t0, t1 = 200, 1000  # 学习率参数\n",
    "m = X_tr.shape[0]   # 100\n",
    "\n",
    "theta = np.random.randn(2,1)   # 随机初始θ"
   ]
  },
  {
   "cell_type": "code",
   "execution_count": 26,
   "metadata": {},
   "outputs": [],
   "source": [
    "def learning_schedule(t):   # 学习率调度\n",
    "    return t0 / (t + t1)\n",
    "\n",
    "t = 0"
   ]
  },
  {
   "cell_type": "markdown",
   "metadata": {},
   "source": [
    "<img src=\"./images/other/4-10.png\" width=\"400\">"
   ]
  },
  {
   "cell_type": "code",
   "execution_count": 27,
   "metadata": {},
   "outputs": [],
   "source": [
    "for epoch in range(epochs):   \n",
    "    # 数据混洗\n",
    "    shuffled_index = np.random.permutation(m)\n",
    "    X_tr_shuffled = X_tr[shuffled_index]\n",
    "    y_shffled = y[shuffled_index]\n",
    "    \n",
    "    for i in range(0, m, MB_size):  # 步长为MB_size\n",
    "        t += 1\n",
    "        # 每一步在小批量随机实例集中选择一个实例\n",
    "        x_i = X_tr_shuffled[i : i+MB_size]    # [1,...] \n",
    "        y_i = y_shffled[i : i+MB_size]\n",
    "        \n",
    "        # 计算梯度\n",
    "        gradients = (2/MB_size) * x_i.T @ (x_i@theta - y_i)\n",
    "        \n",
    "        # 学习率\n",
    "        Rate = learning_schedule(t)\n",
    "        \n",
    "        # 梯度下降\n",
    "        theta = theta - Rate * gradients"
   ]
  },
  {
   "cell_type": "code",
   "execution_count": 28,
   "metadata": {},
   "outputs": [
    {
     "data": {
      "text/plain": [
       "array([[3.86775084],\n",
       "       [3.25274609]])"
      ]
     },
     "execution_count": 28,
     "metadata": {},
     "output_type": "execute_result"
    }
   ],
   "source": [
    "theta"
   ]
  },
  {
   "cell_type": "markdown",
   "metadata": {},
   "source": [
    "## 线性回归算法的比较"
   ]
  },
  {
   "cell_type": "markdown",
   "metadata": {},
   "source": [
    "- 参数空间中梯度下降路径"
   ]
  },
  {
   "cell_type": "markdown",
   "metadata": {},
   "source": [
    "<img src=\"./images/other/4-13.png\" width=\"400\">"
   ]
  },
  {
   "cell_type": "markdown",
   "metadata": {},
   "source": [
    "- 线性回归算法的比较"
   ]
  },
  {
   "cell_type": "markdown",
   "metadata": {},
   "source": [
    "<img src=\"./images/other/4-11.png\" >"
   ]
  },
  {
   "cell_type": "markdown",
   "metadata": {},
   "source": [
    "# 多项式回归 Polynomial Regression"
   ]
  },
  {
   "cell_type": "markdown",
   "metadata": {},
   "source": [
    "1. 首先，生成一个基于二次方程式的非线性和噪音数据集.  **$y=0.5x^2+x+2+$高斯噪音**"
   ]
  },
  {
   "cell_type": "code",
   "execution_count": 29,
   "metadata": {},
   "outputs": [],
   "source": [
    "np.random.seed(42)"
   ]
  },
  {
   "cell_type": "code",
   "execution_count": 30,
   "metadata": {},
   "outputs": [],
   "source": [
    "X = np.array(6 * np.random.rand(100,1) - 3)\n",
    "y = np.array(0.5 * X**2 + X + 2 + np.random.randn(100,1))"
   ]
  },
  {
   "cell_type": "code",
   "execution_count": 31,
   "metadata": {},
   "outputs": [
    {
     "data": {
      "image/png": "[encoded data removed]",
      "text/plain": [
       "<Figure size 432x288 with 1 Axes>"
      ]
     },
     "metadata": {
      "needs_background": "light"
     },
     "output_type": "display_data"
    }
   ],
   "source": [
    "plt.plot(X,y,'b.')\n",
    "plt.xlabel(\"$X_1$\")\n",
    "plt.ylabel(\"$y$\")\n",
    "plt.axis([-3, 3, 0 ,10])\n",
    "plt.show()"
   ]
  },
  {
   "cell_type": "markdown",
   "metadata": {},
   "source": [
    "2. `Scikit-Learn`的`PolynomialFeatures`实现进行特征的构造\n",
    "    \n",
    "    如果样本量多，回归问题很复杂，而原始特征只有$x_1,x_2$可以用多项式创建更多的特征$x_1、x_2、x_1x_2、x_1^2、x_2^2、... x_1^nx_2^n$。\n",
    "    \n",
    "    `PolynomialFeatures(degree=d)`可以将一个包含$n$个特征的数组转化为包含$\\frac{(n+d)!}{d!n!}$个特征的数组。"
   ]
  },
  {
   "cell_type": "markdown",
   "metadata": {},
   "source": [
    "$$\n",
    "\\small\n",
    "\\text { mapFeature }(x)=\\left[\\begin{array}{c}\n",
    "1 \\\\\n",
    "x_{1} \\\\\n",
    "x_{2} \\\\\n",
    "x_{1}^{2} \\\\\n",
    "x_{1} x_{2} \\\\\n",
    "x_{2}^{2} \\\\\n",
    "x_{1}^{3} \\\\\n",
    "\\vdots \\\\\n",
    "x_{1} x_{2}^{5} \\\\\n",
    "x_{2}^{6}\n",
    "\\end{array}\\right]\n",
    "$$"
   ]
  },
  {
   "cell_type": "code",
   "execution_count": 32,
   "metadata": {},
   "outputs": [],
   "source": [
    "from sklearn.preprocessing import PolynomialFeatures"
   ]
  },
  {
   "cell_type": "code",
   "execution_count": 33,
   "metadata": {},
   "outputs": [],
   "source": [
    "poly_features = PolynomialFeatures(degree=2,           # 控制多项式的次数\n",
    "                                   include_bias=False  # 是否要设置 0 次幂那一列\n",
    "                                  )"
   ]
  },
  {
   "cell_type": "code",
   "execution_count": 34,
   "metadata": {},
   "outputs": [],
   "source": [
    "X_poly = poly_features.fit_transform(X)"
   ]
  },
  {
   "cell_type": "markdown",
   "metadata": {},
   "source": [
    "`X_poly`包含着`X`的原始特征以及该特征的平方"
   ]
  },
  {
   "cell_type": "code",
   "execution_count": 35,
   "metadata": {
    "scrolled": true
   },
   "outputs": [
    {
     "data": {
      "text/plain": [
       "(array([-0.75275929]), array([-0.75275929,  0.56664654]))"
      ]
     },
     "execution_count": 35,
     "metadata": {},
     "output_type": "execute_result"
    }
   ],
   "source": [
    "X[0],X_poly[0]"
   ]
  },
  {
   "cell_type": "markdown",
   "metadata": {},
   "source": [
    "3. `Scikit-Learn`的`LinerRegression`实现`SVD`线性回归"
   ]
  },
  {
   "cell_type": "code",
   "execution_count": 36,
   "metadata": {},
   "outputs": [
    {
     "data": {
      "text/plain": [
       "(array([1.78134581]), array([[0.93366893, 0.56456263]]))"
      ]
     },
     "execution_count": 36,
     "metadata": {},
     "output_type": "execute_result"
    }
   ],
   "source": [
    "lin_poly_model = LinearRegression()\n",
    "lin_poly_model.fit(X_poly, y)\n",
    "lin_poly_model.intercept_, lin_poly_model.coef_"
   ]
  },
  {
   "cell_type": "markdown",
   "metadata": {},
   "source": [
    "模型估算$\\hat{y}=0.56x^2+0.93x+1.78$, 而实际函数为$y=0.5x^2+x+2+$高斯噪音"
   ]
  },
  {
   "cell_type": "code",
   "execution_count": 37,
   "metadata": {},
   "outputs": [
    {
     "data": {
      "image/png": "[encoded data removed]",
      "text/plain": [
       "<Figure size 432x288 with 1 Axes>"
      ]
     },
     "metadata": {
      "needs_background": "light"
     },
     "output_type": "display_data"
    }
   ],
   "source": [
    "X_new = np.linspace(-3, 3, 100).reshape(100, 1)    # x\n",
    "X_new_poly = poly_features.fit_transform(X_new)    # x^1 , x^2 \n",
    "y_pred = lin_poly_model.predict(X_new_poly)        # θ_1*x^1 + θ_2*x^2 \n",
    "\n",
    "plt.plot(X,y,'b.')\n",
    "plt.plot(X_new,y_pred,'r-',label='Prediction')\n",
    "\n",
    "plt.xlabel(\"$X_1$\")\n",
    "plt.ylabel(\"$y$\")\n",
    "plt.axis([-3, 3, 0 ,10])\n",
    "plt.legend()\n",
    "\n",
    "plt.show()"
   ]
  },
  {
   "cell_type": "markdown",
   "metadata": {},
   "source": [
    "# 学习曲线 Learning Curves"
   ]
  },
  {
   "cell_type": "code",
   "execution_count": 38,
   "metadata": {},
   "outputs": [
    {
     "data": {
      "image/png": "[encoded data removed]",
      "text/plain": [
       "<Figure size 432x288 with 1 Axes>"
      ]
     },
     "metadata": {
      "needs_background": "light"
     },
     "output_type": "display_data"
    }
   ],
   "source": [
    "from sklearn.preprocessing import StandardScaler\n",
    "from sklearn.pipeline import Pipeline\n",
    "\n",
    "for style, degree in ((\"g-\", 300), (\"b--\", 2), (\"r-+\", 1)):\n",
    "    polybig_features = PolynomialFeatures(degree=degree, include_bias=False)\n",
    "    std_scaler = StandardScaler()\n",
    "    lin_model = LinearRegression()\n",
    "    polynomial_regression = Pipeline([\n",
    "            (\"poly_features\", polybig_features),\n",
    "            (\"std_scaler\", std_scaler),\n",
    "            (\"lin_reg\", lin_model),\n",
    "        ])\n",
    "    polynomial_regression.fit(X, y)\n",
    "    y_pred = polynomial_regression.predict(X_new)\n",
    "    plt.plot(X_new, y_pred, style, label=str(degree))\n",
    "\n",
    "plt.plot(X, y, \"b.\")\n",
    "plt.legend(loc=\"upper left\")\n",
    "plt.xlabel(\"$x_1$\")\n",
    "plt.ylabel(\"$y$\", rotation=0)\n",
    "plt.axis([-3, 3, 0, 10])\n",
    "plt.show()"
   ]
  },
  {
   "cell_type": "markdown",
   "metadata": {},
   "source": [
    "可以观察到， 高阶多项式回归模型严重过拟合训练数据而线性模型则欠拟合，最能泛化的模型是二次模型。\n",
    "确定模型复杂性的方法:\n",
    "1. 使用`交叉验证集`估计模型泛化能力\n",
    "2. 观察`学习曲线`: 曲线绘制的是模型在`训练集`和`验证集`上关于训练集大小(m)的性能函数。"
   ]
  },
  {
   "cell_type": "markdown",
   "metadata": {},
   "source": [
    "- 绘制1阶线性回归的`学习曲线`"
   ]
  },
  {
   "cell_type": "code",
   "execution_count": 39,
   "metadata": {},
   "outputs": [],
   "source": [
    "from matplotlib import font_manager\n",
    "my_font = font_manager.FontProperties(fname='./Fonts/SourceHanSerifSC-Medium.otf', size=12)"
   ]
  },
  {
   "cell_type": "code",
   "execution_count": 40,
   "metadata": {},
   "outputs": [],
   "source": [
    "from sklearn.metrics import mean_squared_error\n",
    "from sklearn.model_selection import train_test_split"
   ]
  },
  {
   "cell_type": "code",
   "execution_count": 41,
   "metadata": {},
   "outputs": [],
   "source": [
    "def plot_learning_curves(model, X, y):\n",
    "    X_train, X_val, y_train, y_val = train_test_split(X, y, test_size=0.2, random_state=10)\n",
    "    train_errors, val_errors = [], []\n",
    "    train_sise = X_train.shape[0]    # 80\n",
    "    \n",
    "    for m in range(1, train_sise):\n",
    "        # 训练模型\n",
    "        model.fit(X_train[:m], y_train[:m])\n",
    "        # 预测训练集和交叉验证集\n",
    "        y_train_pred = model.predict(X_train[:m])\n",
    "        y_val_pred = model.predict(X_val)\n",
    "        # 计算MSE\n",
    "        train_errors.append(mean_squared_error(y_true=y_train[:m], y_pred=y_train_pred))\n",
    "        val_errors.append(mean_squared_error(y_true=y_val, y_pred=y_val_pred))\n",
    "    \n",
    "    # 绘制学习曲线 MSE->RMSE\n",
    "    plt.plot(np.sqrt(train_errors), \"r-+\", label=\"训练\")\n",
    "    plt.plot(np.sqrt(val_errors), \"b-\", label=\"验证\")\n",
    "    plt.legend(prop=my_font)\n",
    "    plt.axis([0, 80, 0, 3])\n",
    "    plt.xlabel(\"训练集大小\", fontproperties=my_font) \n",
    "    plt.ylabel(\"RMSE\")\n",
    "    plt.show()"
   ]
  },
  {
   "cell_type": "code",
   "execution_count": 42,
   "metadata": {
    "scrolled": true
   },
   "outputs": [
    {
     "data": {
      "image/png": "[encoded data removed]",
      "text/plain": [
       "<Figure size 432x288 with 1 Axes>"
      ]
     },
     "metadata": {
      "needs_background": "light"
     },
     "output_type": "display_data"
    }
   ],
   "source": [
    "lin_model = LinearRegression()\n",
    "plot_learning_curves(lin_model, X, y)"
   ]
  },
  {
   "cell_type": "markdown",
   "metadata": {},
   "source": [
    "上面学习曲线表现为经典的`欠拟合`：都达到了平稳状态，并且很接近并且很高。这种情况下，如果添加更多的训练实例也无济于事，你需要使用更加复杂的模型或提供更好的特征。"
   ]
  },
  {
   "cell_type": "markdown",
   "metadata": {},
   "source": [
    "- 绘制10阶多项式模型的`学习曲线`"
   ]
  },
  {
   "cell_type": "code",
   "execution_count": 43,
   "metadata": {},
   "outputs": [],
   "source": [
    "from sklearn.pipeline import Pipeline"
   ]
  },
  {
   "cell_type": "code",
   "execution_count": 44,
   "metadata": {},
   "outputs": [],
   "source": [
    "Polynomial_regression = Pipeline([\n",
    "    (\"poly_features\", PolynomialFeatures(degree=10, include_bias=False)),\n",
    "    (\"lin_model\", LinearRegression())\n",
    "])"
   ]
  },
  {
   "cell_type": "code",
   "execution_count": 45,
   "metadata": {},
   "outputs": [
    {
     "data": {
      "image/png": "[encoded data removed]",
      "text/plain": [
       "<Figure size 432x288 with 1 Axes>"
      ]
     },
     "metadata": {
      "needs_background": "light"
     },
     "output_type": "display_data"
    }
   ],
   "source": [
    "lin_10_degree_model = Polynomial_regression.fit(X,y)\n",
    "plot_learning_curves(model=lin_10_degree_model, X=X, y=y)"
   ]
  },
  {
   "cell_type": "markdown",
   "metadata": {},
   "source": [
    "1. 与线性回归模型相比，训练数据上的误差要低很多\n",
    "2. 曲线之间存在间隙，意味着该模型在训练数据上的性能，要比在验证数据上的性能要好得多，这是`过拟合`的表现，但是如果你选择更大的训练集，两条曲线会继续接近。"
   ]
  },
  {
   "cell_type": "markdown",
   "metadata": {},
   "source": [
    "# 正则化线性模型 Regularized Linear Models"
   ]
  },
  {
   "cell_type": "markdown",
   "metadata": {},
   "source": [
    "在前两章，我们提到减少`过拟合`的一个办法是对模型进行`正则化`，他拥有的自由度越小,则`过拟合`的数据难度就越大。\n",
    "- 正则化多项式模型的一个简单的方法，是减少多项式次数。\n",
    "- 对于线性模型，通常是通过约束模型的权重解决`多重共线性问题`\n",
    "    1. `岭回归`\n",
    "    2. `Lasso回归`\n",
    "    3. `弹性网络`\n"
   ]
  },
  {
   "cell_type": "markdown",
   "metadata": {},
   "source": [
    "## 岭回归 Ridge Regression"
   ]
  },
  {
   "cell_type": "markdown",
   "metadata": {},
   "source": [
    "`岭回归(Tikhonov 回归)`是线性回归的正则化版本:将正则化项$\\alpha  \\sum\\limits_{j=1}^{n}{\\theta _{j}^{2}}$加入到成本函数中。"
   ]
  },
  {
   "cell_type": "markdown",
   "metadata": {},
   "source": [
    ">公式9：岭回归成本函数  Ridge Regression cost function\n",
    "$$\n",
    "J\\left( \\theta  \\right)= MSE(\\theta)+ \\alpha  \\sum\\limits_{i=1}^{n}{\\theta _{i}^{2}}\n",
    "$$"
   ]
  },
  {
   "cell_type": "markdown",
   "metadata": {},
   "source": [
    "偏置项$\\theta_0$没有进行正则化。如果我们将${w}$定义为`特征权重的向量`($\\theta_1$至$\\theta_n$),则正则项等于$\\|_ {w} \\|_ {2}^{2}$"
   ]
  },
  {
   "cell_type": "markdown",
   "metadata": {},
   "source": [
    ">公式10：岭回归成本函数的偏导数Partial derivatives of the Ridge Regression cost function\n",
    "$$\n",
    "\\begin{aligned}\n",
    "\\frac{\\partial\\left(MSE+\\alpha\\|\\boldsymbol{w}\\|_{2}^{2}\\right)}{\\partial \\boldsymbol{w}} &=\\frac{\\partial\\left(\\|\\boldsymbol{y}-\\boldsymbol{X} \\boldsymbol{w}\\|_{2}^{2}+\\alpha\\|\\boldsymbol{w}\\|_{2}^{2}\\right)}{\\partial \\boldsymbol{w}} \\\\\n",
    "&=\\frac{\\partial(\\boldsymbol{y}-\\boldsymbol{X} \\boldsymbol{w})^{T}(\\boldsymbol{y}-\\boldsymbol{X} \\boldsymbol{w})}{\\partial \\boldsymbol{w}}+\\frac{\\partial \\alpha\\|\\boldsymbol{w}\\|_{2}^{2}}{\\partial \\boldsymbol{w}}\\\\\n",
    "&=0-2 \\boldsymbol{X}^{T} \\boldsymbol{y}+2 \\boldsymbol{X}^{\\top} \\boldsymbol{X} \\boldsymbol{w}+2 \\alpha \\boldsymbol{w}\\\\\n",
    "&=2( \\boldsymbol{X}^{T} \\boldsymbol{X}+\\alpha I) \\boldsymbol{w}-2\\boldsymbol{X}^{T} \\boldsymbol{y}\n",
    "\\end{aligned}\\\\\n",
    "\\Rightarrow( \\boldsymbol{X}^{T} \\boldsymbol{X}+\\alpha I) \\boldsymbol{w}=\\boldsymbol{X}^{T} \\boldsymbol{y}\n",
    "$$\n"
   ]
  },
  {
   "cell_type": "markdown",
   "metadata": {},
   "source": [
    "现在,只要$( {X}^{T} {X}+\\alpha I) $存在逆矩阵,就可以求解出$w$.一个矩阵存在逆矩阵的充分必要条件是这个矩阵的行列式不为0。假设\n",
    "原本的特征矩阵中存在共线性,则方阵$( {X}^{T} {X}) $就会不满秩(存在全为零的行)"
   ]
  },
  {
   "cell_type": "markdown",
   "metadata": {},
   "source": [
    "$$\n",
    "\\small\n",
    "\\begin{aligned}\n",
    "\\boldsymbol|{X}^{\\top} \\boldsymbol{X}+\\alpha \\boldsymbol{I}\\ |=&\\left|\\begin{array}{ccccc}\n",
    "a_{11} & a_{12} & a_{13} & \\ldots & a_{1 n} \\\\\n",
    "0 & a_{22} & a_{23} & \\ldots & a_{2 n} \\\\\n",
    "0 & 0 & a_{33} & \\ldots & a_{3 n} \\\\\n",
    "& \\ldots & & & \\\\\n",
    "0 & 0 & 0 & \\ldots & 0\n",
    "\\end{array}\\right|+\\left|\\begin{array}{ccccc}\n",
    "\\alpha & 0 & 0 & \\ldots & 0 \\\\\n",
    "0 & \\alpha & 0 & \\ldots & 0 \\\\\n",
    "0 & 0 & \\alpha & \\ldots & 0 \\\\\n",
    "& \\ldots & & & \\\\\n",
    "0 & 0 & 0 & \\ldots & \\alpha\n",
    "\\end{array}\\right| \\\\\n",
    "&=\\left|\\begin{array}{ccccc}\n",
    "a_{11}+\\alpha & a_{12} & a_{13} & \\ldots & a_{1 n} \\\\\n",
    "0 & a_{22}+\\alpha & a_{23} & \\ldots & a_{2 n} \\\\\n",
    "0 & 0 & a_{33}+\\alpha & \\ldots & a_{3 n} \\\\\n",
    "& & \\ldots & & & \\\\\n",
    "0 & 0 & 0 & \\ldots & \\alpha\n",
    "\\end{array}\\right|\n",
    "\\end{aligned}\n",
    "$$"
   ]
  },
  {
   "cell_type": "markdown",
   "metadata": {},
   "source": [
    "最后得到的这个行列式还是一个梯形行列式,然而它的已经不存 在全0行或者全0列了,除非\n",
    "1. 等于0\n",
    "2. 原本的矩阵${X}^{T} {X} $中存在对角线上元素为$-\\alpha$,其他元素都为0的行或者列\n",
    "\n",
    "否则矩阵$( {X}^{T} {X}+\\alpha I) $永远都是满秩。\n",
    "\n",
    "在 `Sklearn`中, $\\alpha$的值可以自由控制,因此可以让它不为0,以避免第一种情况。\n",
    "而第二种情况,如果发现某个 $\\alpha$的取值下模型无法求解,那只需要换一个 $\\alpha$的取值就好了,也可以顺利避免。\n",
    "\n",
    "也就是说,矩阵的逆是永远存在的!有了这个保障,${w}$就可以写作:\n",
    ">公式11：闭式解的岭回归 Ridge Regression closed-form solution\n",
    "$$\n",
    "{w}=(X^{T} X+\\alpha I)^{-1}X^{T}y\n",
    "$$"
   ]
  },
  {
   "cell_type": "markdown",
   "metadata": {},
   "source": [
    "如此,正则化系数$\\alpha$就非常爽快地避免了″精确相关关系“带来 的影响,至少最小二乘法在$\\alpha$存在的情況下是一定可以使用了。\n",
    "对于存在”高度相关关系“的矩阵,也可以通过调大$\\alpha$,来让\n",
    "$(X^{T} X+\\alpha I)$矩阵的行列式变大,从而让逆矩阵変小,以此控制参 数向量$\\boldsymbol{w}$的偏移。当$\\alpha$越大,模型越不容易受到共线性的影响\n",
    "\n",
    "如此,多重共线性就被控制住了:最小二乘法一定有解,并且这个解可以通过$\\alpha$来进行调节,以确保不会偏离太多。"
   ]
  },
  {
   "cell_type": "markdown",
   "metadata": {},
   "source": [
    "与线性回归一样，可以通过计算`闭式方程`或执行`梯度下降`来执行岭回归"
   ]
  },
  {
   "cell_type": "markdown",
   "metadata": {},
   "source": [
    "1. 首先随机生成线性数据集  **$y=1+0.5x+$高斯噪音**"
   ]
  },
  {
   "cell_type": "code",
   "execution_count": 46,
   "metadata": {},
   "outputs": [],
   "source": [
    "np.random.seed(42)\n",
    "m = 20\n",
    "X = np.array(3 * np.random.rand(m,1))\n",
    "y = np.array(1 + 0.5*X + np.random.randn(m,1)/1.5)\n",
    "\n",
    "X_new = np.linspace(0, 3, 100).reshape(100, 1) "
   ]
  },
  {
   "cell_type": "markdown",
   "metadata": {},
   "source": [
    "  2. (1)`Scikit-Learn`的`Ridge`实现`岭回归`"
   ]
  },
  {
   "cell_type": "code",
   "execution_count": 47,
   "metadata": {},
   "outputs": [],
   "source": [
    "from sklearn.linear_model import Ridge"
   ]
  },
  {
   "cell_type": "code",
   "execution_count": 48,
   "metadata": {},
   "outputs": [
    {
     "data": {
      "text/plain": [
       "array([[1.55071465]])"
      ]
     },
     "execution_count": 48,
     "metadata": {},
     "output_type": "execute_result"
    }
   ],
   "source": [
    "ridge_model = Ridge(alpha=1,                 # 正则化强度\n",
    "                    solver=\"cholesky\")       # 指定求解方法  \n",
    "ridge_model.fit(X, y)\n",
    "ridge_model.predict([[1.5]])"
   ]
  },
  {
   "cell_type": "code",
   "execution_count": 49,
   "metadata": {},
   "outputs": [
    {
     "data": {
      "text/plain": [
       "array([[1.5507201]])"
      ]
     },
     "execution_count": 49,
     "metadata": {},
     "output_type": "execute_result"
    }
   ],
   "source": [
    "ridge_reg = Ridge(alpha=1, solver=\"sag\", random_state=42)\n",
    "ridge_reg.fit(X, y)\n",
    "ridge_reg.predict([[1.5]])"
   ]
  },
  {
   "cell_type": "markdown",
   "metadata": {},
   "source": [
    "- `cholesky`使用标准的scipy.linalg.solve函数来获得闭合形式的解。\n",
    "- `sag`使用随机平均梯度下降。它也使用迭代过程，并且当`n_samples`和`n_feature`都很大时，通常比其他求解器更快。注意，“sag”快速收敛仅在具有近似相同尺度的特征上被保证。"
   ]
  },
  {
   "cell_type": "markdown",
   "metadata": {},
   "source": [
    "  2. (2)使用`随机梯度下降`执行执行岭回归"
   ]
  },
  {
   "cell_type": "code",
   "execution_count": 50,
   "metadata": {
    "scrolled": true
   },
   "outputs": [
    {
     "data": {
      "text/plain": [
       "array([1.46543286])"
      ]
     },
     "execution_count": 50,
     "metadata": {},
     "output_type": "execute_result"
    }
   ],
   "source": [
    "sgd_model_l2 = SGDRegressor(penalty='l2')  # 设置使用的正则项类型，“l2” 表示希望添加一个L2正则项到成本函数中\n",
    "sgd_model_l2.fit(X, y.ravel())\n",
    "sgd_model_l2.predict([[1.5]])"
   ]
  },
  {
   "cell_type": "markdown",
   "metadata": {},
   "source": [
    "- 对比不同的λ值对某些线性数据进行训练的几种岭模型"
   ]
  },
  {
   "cell_type": "code",
   "execution_count": 51,
   "metadata": {},
   "outputs": [],
   "source": [
    "def plot_model(Regul, polynomial, Rates, **model_kargs):\n",
    "    for Rate, style in zip(Rates, (\"b-\", \"g--\", \"r:\")):\n",
    "        # 如果λ=0，岭回归仅是线性回归\n",
    "        if Rate > 0:\n",
    "            model = Regul(alpha=Rate, **model_kargs)\n",
    "        else:\n",
    "            model = LinearRegression()\n",
    "        \n",
    "        if polynomial:\n",
    "            model = Pipeline([\n",
    "                    (\"poly_features\", PolynomialFeatures(degree=10, include_bias=False)),  # 拓展数据\n",
    "                    (\"std_scaler\", StandardScaler()),   # 进行缩放\n",
    "                    (\"regul_reg\", model),\n",
    "                ])\n",
    "            \n",
    "        model.fit(X, y)\n",
    "        y_regul = model.predict(X_new)\n",
    "        \n",
    "        plt.plot(X_new, y_regul, style, label=r\"$\\alpha = {}$\".format(Rate))\n",
    "        \n",
    "    plt.plot(X, y, \"b.\")\n",
    "    plt.legend(loc=\"upper left\")\n",
    "    plt.xlabel(\"$x_1$\")\n",
    "    plt.ylabel(\"$y$\")\n",
    "    plt.axis([0, 3, 0, 4])  \n",
    "    \n",
    "    plt.show()"
   ]
  },
  {
   "cell_type": "code",
   "execution_count": 52,
   "metadata": {
    "scrolled": false
   },
   "outputs": [
    {
     "data": {
      "image/png": "[encoded data removed]",
      "text/plain": [
       "<Figure size 432x288 with 1 Axes>"
      ]
     },
     "metadata": {
      "needs_background": "light"
     },
     "output_type": "display_data"
    }
   ],
   "source": [
    "# 线性模型\n",
    "plot_model(Regul=Ridge, polynomial=False, Rates=(0,10,100), random_state=42)"
   ]
  },
  {
   "cell_type": "markdown",
   "metadata": {},
   "source": [
    "由于是`普通岭`,所以导致的是线性预测"
   ]
  },
  {
   "cell_type": "code",
   "execution_count": 53,
   "metadata": {},
   "outputs": [
    {
     "data": {
      "image/png": "[encoded data removed]",
      "text/plain": [
       "<Figure size 432x288 with 1 Axes>"
      ]
     },
     "metadata": {
      "needs_background": "light"
     },
     "output_type": "display_data"
    }
   ],
   "source": [
    "# 多项式模型\n",
    "plot_model(Regul=Ridge, polynomial=True, Rates=(0,10**-5,1), random_state=42)"
   ]
  },
  {
   "cell_type": "markdown",
   "metadata": {},
   "source": [
    "由于λ的增加会导致更平坦的预测，从而减少了方差，增加了其偏差"
   ]
  },
  {
   "cell_type": "markdown",
   "metadata": {},
   "source": [
    "## Lasso 回归 Lasso Regression"
   ]
  },
  {
   "cell_type": "markdown",
   "metadata": {},
   "source": [
    "`最小绝对收缩和选择算子回归(Least Absolute Shrinkage and Selection Operator Regression)`:不同于`岭回归`,`Lasso回归`是将正则化项权重向量的$ ℓ_1$范数$\\|_ {w} \\|_ {1}$加入到成本函数中。"
   ]
  },
  {
   "cell_type": "markdown",
   "metadata": {},
   "source": [
    ">公式12：Lasso 回归成本函数 Lasso Regression cost function\n",
    "$$\n",
    "J\\left( \\theta  \\right)= MSE(\\theta)+\\alpha  \\sum\\limits_{i=1}^{n}{|\\theta _{i}|}\n",
    "$$"
   ]
  },
  {
   "cell_type": "markdown",
   "metadata": {},
   "source": [
    ">公式13：Lasso 回归成本函数的偏导数Partial derivatives of the Lasso  Regression cost function\n",
    "$$\n",
    "\\begin{aligned}\n",
    "\\frac{\\partial\\left(MSE+\\alpha\\|{w}\\|_{1}\\right)}{\\partial {w}} &=\\frac{\\partial\\left(\\|\\boldsymbol{y}-\\boldsymbol{X} \\boldsymbol{w}\\|_{2}^{2}+\\alpha\\|\\boldsymbol{w}\\|_{1}\\right)}{\\partial \\boldsymbol{w}} \\\\\n",
    "&=\\frac{\\partial(\\boldsymbol{y}-\\boldsymbol{X} \\boldsymbol{w})^{T}(\\boldsymbol{y}-\\boldsymbol{X} \\boldsymbol{w})}{\\partial \\boldsymbol{w}}+\\frac{\\partial \\alpha\\|\\boldsymbol{w}\\|_{1}}{\\partial \\boldsymbol{w}}\\\\\n",
    "&=0-2 \\boldsymbol{X}^{T} \\boldsymbol{y}+2 \\boldsymbol{X}^{\\top} \\boldsymbol{X} \\boldsymbol{w}+2 \\alpha\\\\\n",
    "&={X}^{T} \\boldsymbol{X} \\boldsymbol{w}-\\boldsymbol{X}^{T} \\boldsymbol{y}+\\frac{\\alpha \\boldsymbol{I}}{2} \\\\\n",
    "\\Rightarrow\\boldsymbol{X}^{T} \\boldsymbol{X} \\boldsymbol{w} &=\\boldsymbol{X}^{T} \\boldsymbol{y}-\\frac{\\alpha \\boldsymbol{I}}{2}\n",
    "\\end{aligned}\n",
    "$$"
   ]
  },
  {
   "cell_type": "markdown",
   "metadata": {},
   "source": [
    "在岭回归中,通过正则化系数$\\alpha$能够向方阵$\\boldsymbol{X}^{T} \\boldsymbol{X}$加上一个单位矩阵,以此来防止方阵$\\boldsymbol{X}^{T} \\boldsymbol{X}$的行列式为0,而现在$ ℓ_1$范式所带的正则项$\\alpha$在求导之后并不带有这个项,因此它无法对$\\boldsymbol{X}^{T} \\boldsymbol{X}$造成任何影响。也就是说, `Lasso`无法解决特征之间\"精确相关\"的问题。\n",
    "\n",
    "幸运的是,在现实中其实会比较少遇到\"精确相关\"的多重共线性问题,大部分多重共线性问题应该是\"高度相关”。\n",
    "\n",
    "如果假设方阵$\\boldsymbol{X}^{T} \\boldsymbol{X}$的逆是一定存在的,那可以有\n",
    ">公式14：闭式解的Lasso 回归 Lasso Regression closed-form solution\n",
    "$$\n",
    "\\boldsymbol{w}=(X^{T} X)^{-1}\\left(\\boldsymbol{X}^{T} \\boldsymbol{y}-\\frac{\\alpha \\boldsymbol{I}}{2}\\right)\n",
    "$$"
   ]
  },
  {
   "cell_type": "markdown",
   "metadata": {},
   "source": [
    "通过增大$\\alpha$,可以为$\\boldsymbol{w}$的计算增加一个负项,从而限制参数估计中$\\boldsymbol{w}$的大小,而防止`多重共线性`引起的参数被估计过大导致模型失准的问题。\n",
    "\n",
    "`Lasso`不是从根本上解決多重共线性问题,而是限制多重共线性带来的影响。\n",
    "\n",
    "何况,这还是在假设所有的系数都为正的情况下,假设系数$\\boldsymbol{w}$无法为正,则很有可能需要将正则项参数$\\alpha$设定为负,因此$\\alpha$可以取负数,并且负数越大,对共线性的限制也越大。"
   ]
  },
  {
   "cell_type": "markdown",
   "metadata": {},
   "source": [
    "`Scikit-Learn`的`Lasso`实现`Lasso回归`\n",
    ">公式15:`Scikit-Learn`中的`Lasso`使用的损失函数\n",
    "$$\n",
    "\\min _{w} \\frac{1}{2 n_{\\text {samples }}}\\left\\|X_{w}-y\\right\\|_{2}^{2}+\\alpha\\|w\\|_{1}\n",
    "$$"
   ]
  },
  {
   "cell_type": "markdown",
   "metadata": {},
   "source": [
    "1. `Scikit-Learn`的`Lasso`实现`Lasso回归`"
   ]
  },
  {
   "cell_type": "code",
   "execution_count": 54,
   "metadata": {},
   "outputs": [],
   "source": [
    "from sklearn.linear_model import Lasso"
   ]
  },
  {
   "cell_type": "code",
   "execution_count": 55,
   "metadata": {},
   "outputs": [
    {
     "data": {
      "text/plain": [
       "array([1.53788174])"
      ]
     },
     "execution_count": 55,
     "metadata": {},
     "output_type": "execute_result"
    }
   ],
   "source": [
    "lasso_reg = Lasso(alpha=0.1)\n",
    "lasso_reg.fit(X, y)\n",
    "lasso_reg.predict([[1.5]])"
   ]
  },
  {
   "cell_type": "markdown",
   "metadata": {},
   "source": [
    "2. 使用`随机梯度下降`执行执行Lasso回归"
   ]
  },
  {
   "cell_type": "code",
   "execution_count": 56,
   "metadata": {},
   "outputs": [
    {
     "data": {
      "text/plain": [
       "array([1.46938541])"
      ]
     },
     "execution_count": 56,
     "metadata": {},
     "output_type": "execute_result"
    }
   ],
   "source": [
    "sgd_model_l1 = SGDRegressor(penalty='l1')\n",
    "sgd_model_l1.fit(X, y.ravel())\n",
    "sgd_model_l1.predict([[1.5]])"
   ]
  },
  {
   "cell_type": "markdown",
   "metadata": {},
   "source": [
    "- 对比不同的λ值对某些线性数据进行训练的几种lasso模型"
   ]
  },
  {
   "cell_type": "code",
   "execution_count": 57,
   "metadata": {
    "scrolled": true
   },
   "outputs": [
    {
     "data": {
      "image/png": "[encoded data removed]",
      "text/plain": [
       "<Figure size 432x288 with 1 Axes>"
      ]
     },
     "metadata": {
      "needs_background": "light"
     },
     "output_type": "display_data"
    }
   ],
   "source": [
    "# 线性模型\n",
    "plot_model(Regul=Lasso, polynomial=False, Rates=(0, 0.1, 1), random_state=42)"
   ]
  },
  {
   "cell_type": "code",
   "execution_count": 58,
   "metadata": {},
   "outputs": [
    {
     "name": "stderr",
     "output_type": "stream",
     "text": [
      "/Users/jin/opt/anaconda3/lib/python3.7/site-packages/sklearn/linear_model/coordinate_descent.py:475: ConvergenceWarning: Objective did not converge. You might want to increase the number of iterations. Duality gap: 2.802867703827423, tolerance: 0.0009294783355207351\n",
      "  positive)\n"
     ]
    },
    {
     "data": {
      "image/png": "[encoded data removed]",
      "text/plain": [
       "<Figure size 432x288 with 1 Axes>"
      ]
     },
     "metadata": {
      "needs_background": "light"
     },
     "output_type": "display_data"
    }
   ],
   "source": [
    "# 多项式模型\n",
    "plot_model(Regul=Lasso, polynomial=True, Rates=(0, 10**-7, 1), random_state=42)"
   ]
  },
  {
   "cell_type": "markdown",
   "metadata": {},
   "source": [
    "`Lasso回归` 最重要的一个特点是，它倾向于完全消除掉最不重要的特征的权重。如上图$\\lambda=1e-07$看起来像是二次，接近于线性：因为所有的高阶多项式的特征权重都等于0"
   ]
  },
  {
   "cell_type": "markdown",
   "metadata": {},
   "source": [
    "$ ℓ_1$,$ ℓ_2$两个正则化都会压缩系数$\\boldsymbol{w}$的大小,对标签贡献更少的特征的系数会更小,也会更容易被压缩。不过,$ ℓ_2$正则化只会将系数压缩到尽量接近0,但$ ℓ_1$正则化主导稀疏性,因此会将系数压缩到0.\n",
    "\n",
    "这个性质,让`Lasso`成为了线性模型中的`特征选择`工具首选."
   ]
  },
  {
   "cell_type": "markdown",
   "metadata": {},
   "source": [
    "存在警告 红条：目标函数没有收敛,你也许想要增加迭代次数,使用一个非常小的 alpha来拟合模型可能会造成精确度问题!\n",
    "- 这是由于 `sklearn`中的`Lasso`类不是使用最小二乘法来进行求解, 而是使用坐标下降。\n",
    "- 由于`Lasso`对正则化系数的变动过于敏感,因此往往让在很小的空间中变动。这个小空间小到超乎人们的想象,因此设定了一个重要概念`正则化路径`,用来设定正则化系数的变动.\n"
   ]
  },
  {
   "cell_type": "markdown",
   "metadata": {},
   "source": [
    "<img src=\"./images/other/4-12.png\" width=\"600\">"
   ]
  },
  {
   "cell_type": "markdown",
   "metadata": {},
   "source": [
    ">公式14：Lasso 子梯度向量 Lasso Regression subgradient vector \n",
    "$$\n",
    "g(\\boldsymbol{\\theta}, J)=\\nabla_{\\boldsymbol{\\theta}} \\operatorname{MSE}(\\boldsymbol{\\theta})+\\alpha\\left(\\begin{array}{c}\n",
    "\\operatorname{sign}\\left(\\theta_{1}\\right) \\\\\n",
    "\\operatorname{sign}\\left(\\theta_{2}\\right) \\\\\n",
    "\\vdots \\\\\n",
    "\\operatorname{sign}\\left(\\theta_{n}\\right)\n",
    "\\end{array}\\right) \\quad \\text { where } \\operatorname{sign}\\left(\\theta_{i}\\right)=\\left\\{\\begin{array}{cc}\n",
    "-1 & \\text { if } \\theta_{i}<0 \\\\\n",
    "0 & \\text { if } \\theta_{i}=0 \\\\\n",
    "+1 & \\text { if } \\theta_{i}>0\n",
    "\\end{array}\\right.\n",
    "$$"
   ]
  },
  {
   "cell_type": "markdown",
   "metadata": {},
   "source": [
    "使用`梯度向量`$g$替代任何$\\theta_i=0$,梯度下降可以正常工作。"
   ]
  },
  {
   "cell_type": "markdown",
   "metadata": {},
   "source": [
    "## 弹性网络 Elastic Net"
   ]
  },
  {
   "cell_type": "markdown",
   "metadata": {},
   "source": [
    "`弹性网络`是介于`岭回归`和`Lasso回归`之间的中间地带，正则项是岭和Lasso正则项的简单混合，你可以控制混合比$r$。"
   ]
  },
  {
   "cell_type": "markdown",
   "metadata": {},
   "source": [
    ">公式15：弹性网络成本函数  Elastic Net cost function\n",
    "$$\n",
    "J\\left( \\theta  \\right)= MSE(\\theta)+r\\alpha  \\sum\\limits_{i=1}^{n}{|\\theta _{i}|}+\\frac{1-r}{2} \\alpha  \\sum\\limits_{i=1}^{n}{\\theta _{i}^{2}}\n",
    "$$"
   ]
  },
  {
   "cell_type": "markdown",
   "metadata": {},
   "source": [
    "当$r=0$时，`弹性网络`等效于`岭回归`。当$r=1$时，`弹性网络`等效于`Lasso回归`"
   ]
  },
  {
   "cell_type": "markdown",
   "metadata": {},
   "source": [
    "`Scikit-Learn`的`Lasso`实现`Lasso回归`"
   ]
  },
  {
   "cell_type": "code",
   "execution_count": 59,
   "metadata": {},
   "outputs": [
    {
     "data": {
      "text/plain": [
       "array([1.54333232])"
      ]
     },
     "execution_count": 59,
     "metadata": {},
     "output_type": "execute_result"
    }
   ],
   "source": [
    "from sklearn.linear_model import ElasticNet\n",
    "elastic_net = ElasticNet(alpha=0.1, l1_ratio=0.5, random_state=42)\n",
    "elastic_net.fit(X, y)\n",
    "elastic_net.predict([[1.5]])"
   ]
  },
  {
   "cell_type": "markdown",
   "metadata": {},
   "source": [
    "## 提前停止 Early Stopping"
   ]
  },
  {
   "cell_type": "markdown",
   "metadata": {},
   "source": [
    "`提前停止法`:当验证集上的性能不再提高时停止训练集上学习的方法,旨在克服过拟合现象."
   ]
  },
  {
   "cell_type": "markdown",
   "metadata": {},
   "source": [
    "1. 首先随机生成线性数据集  **$y=2+0.5x+$高斯噪音**,并划分好训练集和测试集"
   ]
  },
  {
   "cell_type": "code",
   "execution_count": 60,
   "metadata": {},
   "outputs": [],
   "source": [
    "np.random.seed(42)\n",
    "m = 100\n",
    "X = 6 * np.random.rand(m, 1) - 3\n",
    "y = 2 + X + 0.5 * X**2 + np.random.randn(m, 1)\n",
    "\n",
    "X_train, X_val, y_train, y_val = train_test_split(X[:50], y[:50].ravel(), test_size=0.5, random_state=10)"
   ]
  },
  {
   "cell_type": "markdown",
   "metadata": {},
   "source": [
    "2. `提前停止法`的基本实现,以高阶多项式回归模型为例"
   ]
  },
  {
   "cell_type": "code",
   "execution_count": 61,
   "metadata": {},
   "outputs": [],
   "source": [
    "from copy import deepcopy\n",
    "\n",
    "# 特征抽取 标准化\n",
    "poly_scaler = Pipeline([\n",
    "    (\"poly_features\", PolynomialFeatures(degree=90, include_bias=False)),\n",
    "    (\"std_scaler\", StandardScaler())\n",
    "])\n",
    "\n",
    "poly_scaler.fit(X_train, y)\n",
    "X_train_poly_scaled = poly_scaler.transform(X_train)\n",
    "X_val_poly_scaled = poly_scaler.transform(X_val)\n",
    "\n",
    "\n",
    "# 随机梯度下降模型预估器\n",
    "sgd_model = SGDRegressor(max_iter=1,        # 使用 批量梯度下降 \n",
    "                         tol=-np.infty,     # -∞\n",
    "                         warm_start=True,   # 调用fit()方法时，在前一阶段的训练结果上继续训练，而不是从头开始\n",
    "                         penalty=None,    \n",
    "                         learning_rate=\"constant\",   # 使用eta0来指定学习率\n",
    "                         eta0=0.0005,\n",
    "                         random_state=42\n",
    "                        )\n",
    "\n",
    "# 初始化参数\n",
    "minium_val_error = float(\"inf\")\n",
    "best_epoch = None\n",
    "best_model = None\n",
    "epochs = 1000\n",
    "\n",
    "# 获取不同轮次下的预测误差,并记录最佳轮次,该轮次下的经过训练后模型,MSE\n",
    "for epoch in range(epochs):\n",
    "    sgd_model.fit(X_train_poly_scaled, y_train)       # 从停止的地方继续开始训练\n",
    "    y_val_pred = sgd_model.predict(X_val_poly_scaled)\n",
    "    val_error = mean_squared_error(y_true=y_val, y_pred=y_val_pred)\n",
    "    \n",
    "    if val_error < minium_val_error:\n",
    "        minium_val_error = val_error\n",
    "        best_epoch = epoch\n",
    "        best_model = deepcopy(sgd_model)"
   ]
  },
  {
   "cell_type": "code",
   "execution_count": 62,
   "metadata": {
    "scrolled": true
   },
   "outputs": [
    {
     "data": {
      "text/plain": [
       "(1.3513110512453865, 239)"
      ]
     },
     "execution_count": 62,
     "metadata": {},
     "output_type": "execute_result"
    }
   ],
   "source": [
    "minium_val_error, best_epoch "
   ]
  },
  {
   "cell_type": "markdown",
   "metadata": {},
   "source": [
    "3. 绘制图像 "
   ]
  },
  {
   "cell_type": "code",
   "execution_count": 63,
   "metadata": {},
   "outputs": [
    {
     "data": {
      "image/png": "[encoded data removed]",
      "text/plain": [
       "<Figure size 432x288 with 1 Axes>"
      ]
     },
     "metadata": {
      "needs_background": "light"
     },
     "output_type": "display_data"
    }
   ],
   "source": [
    "sgd_reg = SGDRegressor(max_iter=1, tol=-np.infty, warm_start=True,\n",
    "                       penalty=None, learning_rate=\"constant\", eta0=0.0005, random_state=42)\n",
    "\n",
    "epochs = 500\n",
    "train_errors, val_errors = [], []\n",
    "for epoch in range(epochs):\n",
    "    sgd_reg.fit(X_train_poly_scaled, y_train)\n",
    "    y_train_predict = sgd_reg.predict(X_train_poly_scaled)\n",
    "    y_val_predict = sgd_reg.predict(X_val_poly_scaled)\n",
    "    train_errors.append(mean_squared_error(y_train, y_train_predict))\n",
    "    val_errors.append(mean_squared_error(y_val, y_val_predict))\n",
    "\n",
    "best_epoch = np.argmin(val_errors)   # 取最小值的下标\n",
    "best_val_rmse = np.sqrt(val_errors[best_epoch])\n",
    "\n",
    "# plt.annotate用于标注文字\n",
    "plt.annotate(s='最佳模型',       \n",
    "             xy=(best_epoch, best_val_rmse),          # 被注释的坐标点\n",
    "             xytext=(best_epoch, best_val_rmse + 1),  # 注释文字的坐标位置\n",
    "             ha=\"center\",\n",
    "             arrowprops=dict(facecolor='yellow', shrink=0.01),  # 箭头参数,参数类型为字典dict\n",
    "             fontproperties=my_font\n",
    "            )\n",
    "\n",
    "plt.plot([0, epochs], [best_val_rmse, best_val_rmse], \"k:\")\n",
    "plt.plot(np.sqrt(val_errors), \"b-\", label=\"验证集\")\n",
    "plt.plot(np.sqrt(train_errors), \"r--\", label=\"训练集\")\n",
    "plt.legend(loc=\"upper right\", prop=my_font)\n",
    "plt.xlabel(\"轮次\",fontproperties=my_font)\n",
    "plt.ylabel(\"RMSE\")\n",
    "plt.show()"
   ]
  },
  {
   "cell_type": "markdown",
   "metadata": {},
   "source": [
    "# 逻辑回归 Logistic Regression"
   ]
  },
  {
   "cell_type": "markdown",
   "metadata": {},
   "source": [
    "## 估计概率 Estimating Probabilities"
   ]
  },
  {
   "cell_type": "markdown",
   "metadata": {},
   "source": [
    "不同于线性回归直接输出结果，逻辑回归输出的是数理逻辑值.\n",
    "> 公式16:逻辑回归模型的估计概率(向量化形式) Logistic Regression model estimated probability (vectorized form)\n",
    "$$\n",
    "\\hat{p}=h_{\\boldsymbol{\\theta}}(\\mathbf{x})=\\sigma\\left(\\mathbf{\\theta}^{T} \\boldsymbol{x}\\right)\n",
    "$$\n",
    "\n",
    "> 公式17:逻辑函数 Logistic function\n",
    "$$\n",
    "\\sigma(t)=\\frac{1}{1+\\exp (-t)}\n",
    "$$"
   ]
  },
  {
   "cell_type": "code",
   "execution_count": 64,
   "metadata": {},
   "outputs": [],
   "source": [
    "def sigmoid(t):\n",
    "    return 1 / (1 + np.exp(-t))"
   ]
  },
  {
   "cell_type": "code",
   "execution_count": 65,
   "metadata": {},
   "outputs": [
    {
     "data": {
      "image/png": "[encoded data removed]",
      "text/plain": [
       "<Figure size 432x288 with 1 Axes>"
      ]
     },
     "metadata": {
      "needs_background": "light"
     },
     "output_type": "display_data"
    }
   ],
   "source": [
    "plt.plot([-10,10], [0,0], 'k-')\n",
    "plt.plot([-10, 10], [0.5, 0.5], \"k:\")\n",
    "plt.plot([0,0], [-0.1,1.1], 'k-')\n",
    "nums = np.arange(-10,10,step=0.1)\n",
    "plt.plot(nums,sigmoid(nums),'r',label=r\"$\\sigma(t) = \\frac{1}{1 + e^{-t}}$\")\n",
    "plt.axis([-10, 10, -0.1, 1.1])\n",
    "plt.legend(fontsize=16)\n",
    "plt.show()"
   ]
  },
  {
   "cell_type": "markdown",
   "metadata": {},
   "source": [
    "> 公式17:逻辑回归模型预测 Logistic Regression model prediction\n",
    "$$\n",
    "\\hat{y}=\\left\\{\\begin{array}{l}\n",
    "0 \\ ,\\text  { if } \\hat{p}<0.5 \\\\\n",
    "1 \\ ,\\text { if } \\hat{p} \\geq 0.5\n",
    "\\end{array}\\right.\n",
    "$$"
   ]
  },
  {
   "cell_type": "markdown",
   "metadata": {},
   "source": [
    "如果$x^T\\theta$是正类，逻辑回归模型预测结果为1，如果为负类，则预测为0"
   ]
  },
  {
   "cell_type": "markdown",
   "metadata": {},
   "source": [
    "## 训练和成本函数 Training and Cost Function"
   ]
  },
  {
   "cell_type": "markdown",
   "metadata": {},
   "source": [
    "整个训练集的成本函数是所有训练实例的平均成本。可以用一个称为`对数损失`的单一表达式表示:\n",
    ">公式18:逻辑回归成本函数(对数损失) Logistic Regression cost function (log loss):\n",
    "$$\n",
    "J\\left( \\theta  \\right)=-\\frac{1}{m}\\sum\\limits_{i=1}^{m}{\\left[{{y}^{(i)}}\\log \\left( \\hat{p}^{(i)}\\right )+\\left( 1-{{y}^{(i)}} \\right)\\log \\left( 1- \\hat{p}^{(i)}\\right)\\right]}\n",
    "$$"
   ]
  },
  {
   "cell_type": "markdown",
   "metadata": {},
   "source": [
    "该函数不存在闭式方程来计算最小换成本函数的θ，但由于是凸函数，所以可以通过梯度下降保证找到全局最小值。"
   ]
  },
  {
   "cell_type": "markdown",
   "metadata": {},
   "source": [
    ">公式19:逻辑回归成本函数的导函数 Logistic cost function partial derivatives:\n",
    "$$\\frac{\\partial J\\left( \\theta  \\right)}{\\partial {{\\theta }_{j}}}=\\frac{1}{m}\\sum\\limits_{i=1}^{m}{\\left(\\sigma\\left(\\mathbf{\\theta}^{T} \\boldsymbol{x^{(i)}}\\right)-{{y}^{(i)}}\\right)x_{_{j}}^{(i)}}$$"
   ]
  },
  {
   "cell_type": "markdown",
   "metadata": {},
   "source": [
    "## 决策边界 Decision Boundaries"
   ]
  },
  {
   "cell_type": "markdown",
   "metadata": {},
   "source": [
    "以鸢尾植物数据集来说明逻辑回归。这个数据集中共有150朵鸢尾花分别来自于不同的三个品种(山鸢尾，变色鸢尾和维吉尼亚鸢尾),数据中包含花的萼片以及花瓣的长度和宽度。"
   ]
  },
  {
   "cell_type": "markdown",
   "metadata": {},
   "source": [
    "<img src=\"./images/other/4-14.png\" width=\"400\">"
   ]
  },
  {
   "cell_type": "markdown",
   "metadata": {},
   "source": [
    "- 仅基于花瓣宽度这一个特征，创建一个分类器来检测维吉尼亚鸢尾。"
   ]
  },
  {
   "cell_type": "markdown",
   "metadata": {},
   "source": [
    "1. 加载数据集"
   ]
  },
  {
   "cell_type": "code",
   "execution_count": 66,
   "metadata": {},
   "outputs": [
    {
     "data": {
      "text/plain": [
       "['data', 'target', 'target_names', 'DESCR', 'feature_names', 'filename']"
      ]
     },
     "execution_count": 66,
     "metadata": {},
     "output_type": "execute_result"
    }
   ],
   "source": [
    "from sklearn import datasets\n",
    "iris = datasets.load_iris()\n",
    "list(iris.keys())"
   ]
  },
  {
   "cell_type": "code",
   "execution_count": 67,
   "metadata": {},
   "outputs": [],
   "source": [
    "X = iris['data'][:, 3:]   # 花瓣宽度\n",
    "y = (iris['target'] == 2).astype(np.int)   # 维吉尼亚鸢尾"
   ]
  },
  {
   "cell_type": "markdown",
   "metadata": {},
   "source": [
    "2. 训练逻辑回归模型\n",
    "\n",
    "`Scikit-Learn`的`LogisticRegression`实现逻辑回归"
   ]
  },
  {
   "cell_type": "code",
   "execution_count": 68,
   "metadata": {},
   "outputs": [],
   "source": [
    "from sklearn.linear_model import LogisticRegression"
   ]
  },
  {
   "cell_type": "code",
   "execution_count": 69,
   "metadata": {},
   "outputs": [
    {
     "data": {
      "text/plain": [
       "LogisticRegression(C=1.0, class_weight=None, dual=False, fit_intercept=True,\n",
       "                   intercept_scaling=1, l1_ratio=None, max_iter=100,\n",
       "                   multi_class='warn', n_jobs=None, penalty='l2',\n",
       "                   random_state=42, solver='lbfgs', tol=0.0001, verbose=0,\n",
       "                   warm_start=False)"
      ]
     },
     "execution_count": 69,
     "metadata": {},
     "output_type": "execute_result"
    }
   ],
   "source": [
    "log_model = LogisticRegression(solver=\"lbfgs\", random_state=42)  #  L-BFGS \n",
    "log_model.fit(X, y)"
   ]
  },
  {
   "cell_type": "markdown",
   "metadata": {},
   "source": [
    "默认是$ ℓ_2$正则,控制正则化程度的超参数不是alpha，而是c(正则化系数λ的倒数)，越小的数值表示越强的正则化。"
   ]
  },
  {
   "cell_type": "markdown",
   "metadata": {},
   "source": [
    "3. 估计概率和决策边界"
   ]
  },
  {
   "cell_type": "code",
   "execution_count": 70,
   "metadata": {},
   "outputs": [
    {
     "data": {
      "image/png": "[encoded data removed]",
      "text/plain": [
       "<Figure size 432x288 with 1 Axes>"
      ]
     },
     "metadata": {
      "needs_background": "light"
     },
     "output_type": "display_data"
    }
   ],
   "source": [
    "X_new = np.linspace(0, 3, 1000).reshape(-1, 1)  \n",
    "y_proba = log_model.predict_proba(X_new)       # 预测样本为某个标签的概率\n",
    "\n",
    "plt.plot(X_new, y_proba[:, 1], 'g-', label='维吉尼亚鸢尾')\n",
    "plt.plot(X_new, y_proba[:, 0], 'b--', label='非维吉尼亚鸢尾')\n",
    "plt.xlabel('花瓣宽度', fontproperties=my_font)\n",
    "plt.ylabel('概率', fontproperties=my_font)\n",
    "plt.legend(prop=my_font)\n",
    "plt.show()"
   ]
  },
  {
   "cell_type": "markdown",
   "metadata": {},
   "source": [
    "通过观察我们得知：维吉尼亚鸢尾的花瓣宽度范围为1.4\\~2.5cm，而其他鸢尾品种相对较窄,为0.1\\~1.8之间，注意存在一部分重叠。对于1\\~2cm之间的花瓣宽度，分类器则不太有把握。"
   ]
  },
  {
   "cell_type": "markdown",
   "metadata": {},
   "source": [
    "<img src=\"./images/other/4-15.png\" width=\"600\">"
   ]
  },
  {
   "cell_type": "markdown",
   "metadata": {},
   "source": [
    "如果要求预测类别，即便没有什么把握分类器也会返回一个最大可能性的类别。"
   ]
  },
  {
   "cell_type": "code",
   "execution_count": 71,
   "metadata": {},
   "outputs": [
    {
     "data": {
      "image/png": "[encoded data removed]",
      "text/plain": [
       "<Figure size 432x288 with 1 Axes>"
      ]
     },
     "metadata": {
      "needs_background": "light"
     },
     "output_type": "display_data"
    }
   ],
   "source": [
    "y_proba = log_model.predict(X_new)      \n",
    "\n",
    "plt.plot(X_new, y_proba, 'g-')\n",
    "plt.xlabel('花瓣宽度', fontproperties=my_font)\n",
    "plt.ylabel('概率', fontproperties=my_font)\n",
    "plt.show()"
   ]
  },
  {
   "cell_type": "markdown",
   "metadata": {},
   "source": [
    "- 基于花瓣宽度和长度这两个特征，创建一个分类器来检测维吉尼亚鸢尾。"
   ]
  },
  {
   "cell_type": "markdown",
   "metadata": {},
   "source": [
    "<img src=\"./images/other/4-16.png\" width=\"600\">"
   ]
  },
  {
   "cell_type": "markdown",
   "metadata": {},
   "source": [
    "## Softmax回归 Softmax Regression"
   ]
  },
  {
   "cell_type": "markdown",
   "metadata": {},
   "source": [
    "逻辑回归经过推广，可以直接支持多个类别，而无需训练并组合多个二元分类器。这就是`Softmax回归`(多元逻辑回归)\n",
    "\n",
    "其原理为:对于给定实例$x$，Softmax模型首先计算出每个类别$k$的分数$s_k(x)$，然后对这些分数应用softmax函数（归一化指数），估算出每个类别的概率。\n",
    ">公式20:类$k$的Softmax分数\n",
    "$$s_k(x)=θ_k^Tx$$\n"
   ]
  },
  {
   "cell_type": "markdown",
   "metadata": {},
   "source": [
    "计算出实例$x$每个类别的分数后，可以通过Softmax函数来估计实例属于类别$k$的概率${\\hat{p}}^k$。\n",
    "\n",
    ">公式21:Softmax函数公式\n",
    "$${\\hat{p}}_k=σ(s(x))_k=\\frac{e^{s_k(x)}}{\\sum\\limits_{j=1}^{K}e^{(s_j(x))}}$$\n",
    "其中:\n",
    "- K是类别的数量\n",
    "- $s(x)$是实例$x$每个类别的分数的向量\n",
    "- $σ(s(x))_k$是给定的类别分数下，实例$x$属于类别k的概率。"
   ]
  },
  {
   "cell_type": "markdown",
   "metadata": {},
   "source": [
    "就像逻辑回归分类器一样，Softmax回归分类器预测具有最高估计概率的类。$argmax$运算符返回使函数最大化的变量值。\n",
    "Softmax回归分类器一次只能预测一个类，因此它只能与互斥的类一起使用。\n",
    ">公式22:Softmax回归分类预测\n",
    "$$\n",
    "\\hat{y}=\\underset{k}{\\operatorname{argmax}} \\sigma(\\mathbf{s}(\\mathbf{x}))_{k}=\\underset{k}{\\operatorname{argmax}} s_{k}(\\mathbf{x})=\\underset{k}{\\operatorname{argmax}}\\left(\\left(\\boldsymbol{\\theta}^{(k)}\\right)^{T} \\mathbf{x}\\right)\n",
    "$$"
   ]
  },
  {
   "cell_type": "markdown",
   "metadata": {},
   "source": [
    "对于分类问题的损失函数来说，不适宜采用`MSE`，主要原因是逻辑回归配合`MSE`损失函数时，采用梯度下降法进行学习时，会出现模型一开始训练时，学习速率非常慢的情况。\n",
    "\n",
    "对于这类问题，我们采用`交叉熵最小化`来实现对目标类做出高概率估算的模型的目标。交叉熵经常被用于衡量一组估算出的类概率跟目标类的匹配程度。"
   ]
  },
  {
   "cell_type": "markdown",
   "metadata": {},
   "source": [
    ">公式23:交叉熵成本函数 Cross entropy cost function\n",
    "$$\n",
    "J(\\boldsymbol{\\Theta})=-\\frac{1}{m} \\sum\\limits_{i=1}^{m} \\sum_{k=1}^{K} y_{k}^{(i)} \\log \\left(\\hat{p}_{k}^{(i)}\\right)\n",
    "$$\n",
    "其中:\n",
    "$y_{k}^{(i)}$  是属于$k$类的第$i$个实例的目标概率。一般而言，等于1或0，具体取决于实例是否属于这类。\n"
   ]
  },
  {
   "cell_type": "markdown",
   "metadata": {},
   "source": [
    "当$K=2$时，此成本函数等效于逻辑回归的成本函数(公式18)"
   ]
  },
  {
   "cell_type": "markdown",
   "metadata": {},
   "source": [
    ">公式24:类$k$的交叉熵梯度向量\n",
    "$$\n",
    "\\nabla_{\\boldsymbol{\\theta}^{(k)}} J(\\boldsymbol{\\Theta})=\\frac{1}{m} \\sum_{i=1}^{m}\\left(\\hat{p}_{k}^{(i)}-y_{k}^{(i)}\\right) x^{(i)}\n",
    "$$"
   ]
  },
  {
   "cell_type": "markdown",
   "metadata": {},
   "source": [
    "接下来，你可以计算每一个类的梯度向量，然后使用梯度下降算法来找到最小化成本函数的参数矩阵${\\Theta}$。"
   ]
  },
  {
   "cell_type": "markdown",
   "metadata": {},
   "source": [
    "- 基于花瓣宽度和长度这两个特征,使用`Softmax`回归,创建一个分类器将鸢尾花分成3类"
   ]
  },
  {
   "cell_type": "code",
   "execution_count": 72,
   "metadata": {},
   "outputs": [],
   "source": [
    "X = iris['data'][:, (2,3)]   # 花瓣宽度和长度\n",
    "y = iris['target']"
   ]
  },
  {
   "cell_type": "code",
   "execution_count": 73,
   "metadata": {},
   "outputs": [
    {
     "data": {
      "text/plain": [
       "LogisticRegression(C=10, class_weight=None, dual=False, fit_intercept=True,\n",
       "                   intercept_scaling=1, l1_ratio=None, max_iter=100,\n",
       "                   multi_class='multinomial', n_jobs=None, penalty='l2',\n",
       "                   random_state=None, solver='lbfgs', tol=0.0001, verbose=0,\n",
       "                   warm_start=False)"
      ]
     },
     "execution_count": 73,
     "metadata": {},
     "output_type": "execute_result"
    }
   ],
   "source": [
    "from sklearn.linear_model import LogisticRegression\n",
    "softmax_model = LogisticRegression(multi_class=\"multinomial\",   \n",
    "                                   solver=\"lbfgs\",\n",
    "                                   C=10\n",
    "                                  )\n",
    "softmax_model.fit(X, y)"
   ]
  },
  {
   "cell_type": "markdown",
   "metadata": {},
   "source": [
    "- `multi_class`:从默认ovr一对多切换为Softmax回归\n",
    "    - 如果选择了ovr，则4种损失函数的优化方法liblinear，newton-cg, lbfgs和sag都可以选择。\n",
    "    - 如果选择了multinomial,则只能选择newton-cg, lbfgs和sag\n",
    "- 默认使用L2正则化，通过超参数`C`进行控制"
   ]
  },
  {
   "cell_type": "code",
   "execution_count": 74,
   "metadata": {},
   "outputs": [
    {
     "data": {
      "text/plain": [
       "(array([2]), array([[6.38014896e-07, 5.74929995e-02, 9.42506362e-01]]))"
      ]
     },
     "execution_count": 74,
     "metadata": {},
     "output_type": "execute_result"
    }
   ],
   "source": [
    "# 预测花瓣长度5cm,宽度2cm的鸢尾花品种\n",
    "softmax_model.predict([[5, 2]]), softmax_model.predict_proba([[5, 2]])"
   ]
  },
  {
   "cell_type": "markdown",
   "metadata": {},
   "source": [
    "经过预测，可知有94.2%概率为维吉尼亚鸢尾"
   ]
  },
  {
   "cell_type": "markdown",
   "metadata": {},
   "source": [
    "- Softmax回归决策边界"
   ]
  },
  {
   "cell_type": "markdown",
   "metadata": {},
   "source": [
    "<img src=\"./images/other/4-17.png\" width=\"600\">"
   ]
  },
  {
   "cell_type": "markdown",
   "metadata": {},
   "source": [
    "# 练习题 Exercise"
   ]
  },
  {
   "cell_type": "markdown",
   "metadata": {},
   "source": [
    "##  ex. 1"
   ]
  },
  {
   "cell_type": "markdown",
   "metadata": {},
   "source": [
    "Q: 如果训练集具有数百万个特征,那么可以使用哪种线性回归训练算法?"
   ]
  },
  {
   "cell_type": "markdown",
   "metadata": {},
   "source": [
    ">If you have a training set with millions of features you can use **Stochastic Gradient Descent** (随机梯度下降)or **Mini-batch Gradient Descent**(小批量梯度下降), and perhaps **Batch Gradient Descent** if the training set fits in memory(内存). But you cannot use the Normal Equation(标准方法) or the SVD approach because the computational complexity grows quickly(more than quadratically) with the number of features."
   ]
  },
  {
   "cell_type": "markdown",
   "metadata": {},
   "source": [
    "## ex. 2"
   ]
  },
  {
   "cell_type": "markdown",
   "metadata": {},
   "source": [
    "Q:如果训练集里特征的数值大小迥异,哪种算法可能会受到影响?受影响程度如何?你应该怎么做?"
   ]
  },
  {
   "cell_type": "markdown",
   "metadata": {},
   "source": [
    ">If the features in your training set have very different scales, the cost function will have the shape of an elongated bowl(细长碗的形状), so the **Gradient Descent algorithms will take a long time to converge(收敛)**.\n",
    "\n",
    ">To solve this you should **scale(缩放) the data before training the model**. \n",
    "\n",
    ">Note that the Normal Equation or SVD approach will work just fine without scaling. Moreover, regularized models may converge to a suboptimal solution(次优解) if the features are not scaled: since regularization penalizes(惩罚) large weights, features with smaller values will tend to be ignored compared to features with larger values."
   ]
  },
  {
   "cell_type": "markdown",
   "metadata": {},
   "source": [
    "## ex. 3"
   ]
  },
  {
   "cell_type": "markdown",
   "metadata": {},
   "source": [
    "Q:训练逻辑回归模型时,梯度下降会卡在局部最小值中吗?"
   ]
  },
  {
   "cell_type": "markdown",
   "metadata": {},
   "source": [
    ">Gradient Descent **cannot get stuck in a local minimum** when training a Logistic Regression model because the cost function is convex(凸函数)."
   ]
  },
  {
   "cell_type": "markdown",
   "metadata": {},
   "source": [
    "## ex. 4"
   ]
  },
  {
   "cell_type": "markdown",
   "metadata": {},
   "source": [
    "Q:如果你让它们运行足够长的时间,是否所有的梯度下降算法都能得出相同的模型?"
   ]
  },
  {
   "cell_type": "markdown",
   "metadata": {},
   "source": [
    ">If the optimization problem is **convex** (such as Linear Regression or Logistic Regression), and **assuming the learning rate is not too high**, then all Gradient Descent algorithms will approach the global optimum(全局最优) and end up **producing fairly similar models**. \n",
    "\n",
    ">However, unless you gradually reduce the learning rate, Stochastic GD and Mini-batch GD **will never truly converge**; instead, they will keep jumping back(来回跳跃) and forth around the global optimum. This means that even if you let them run for a very long time, these Gradient Descent algorithms will produce **slightly different models**."
   ]
  },
  {
   "cell_type": "markdown",
   "metadata": {},
   "source": [
    "## ex. 5"
   ]
  },
  {
   "cell_type": "markdown",
   "metadata": {},
   "source": [
    "Q:假设你使用批量梯度下降,并在每个轮次绘制验证误差。如果你发现验证错误持续上升,可能是什么情况?你该如何解决?"
   ]
  },
  {
   "cell_type": "markdown",
   "metadata": {},
   "source": [
    "> If the validation error(验证误差) consistently goes up after every epoch, then one possibility is that the learning rate is too high and the algorithm is diverging(发散). If the **training error(训练误差) also goes up**, then this is clearly the problem and you should **reduce the learning rate**. \n",
    "\n",
    ">However, if the **training error is not going up**, then your model is **overfitting** the training set and you should **stop training**."
   ]
  },
  {
   "cell_type": "markdown",
   "metadata": {},
   "source": [
    "## ex. 6"
   ]
  },
  {
   "cell_type": "markdown",
   "metadata": {},
   "source": [
    "Q:当验证错误上升时立即停止小批量梯度下降是个好主意吗?"
   ]
  },
  {
   "cell_type": "markdown",
   "metadata": {},
   "source": [
    ">Due to their random nature(随机性), neither Stochastic Gradient Descent nor Mini-batch Gradient Descent is guaranteed (保证)to make progress at every single training iteration. So if you immediately stop training when the validation error goes up, you **may stop much too early, before the optimum is reached**. \n",
    "\n",
    ">A better option is to save the model at regular intervals(一定时间间隔); then, when it has not improved for a long time (meaning it will probably never beat the record), you can revert(恢复) to the best saved model."
   ]
  },
  {
   "cell_type": "markdown",
   "metadata": {},
   "source": [
    "## ex. 7"
   ]
  },
  {
   "cell_type": "markdown",
   "metadata": {},
   "source": [
    "Q:哪种梯度下降算法(在我们讨论过的算法中)将最快到达最佳解附近?哪个实际上会收敛，如何使其他的也收敛？"
   ]
  },
  {
   "cell_type": "markdown",
   "metadata": {},
   "source": [
    ">**Stochastic Gradient Descent** has the fastest training iteration since it considers only one training instance at a time, so it is generally the first to reach the vicinity of the global optimum (or Mini-batch GD with a very small mini-batch size). However, only **Batch Gradient Descent** will actually converge, given enough training time. As mentioned, Stochastic GD and Mini-batch GD will bounce(反弹) around the optimum, unless you **gradually reduce the learning rate**."
   ]
  },
  {
   "cell_type": "markdown",
   "metadata": {},
   "source": [
    "## ex. 8"
   ]
  },
  {
   "cell_type": "markdown",
   "metadata": {},
   "source": [
    "Q:假设你正在使用多项式回归。绘制学习曲线后,你会发现训练误差和验证误差之间存在很大的差距。发生了什么?解决此问题的三种方法是什么?"
   ]
  },
  {
   "cell_type": "markdown",
   "metadata": {},
   "source": [
    ">If the validation error is much higher than the training error, this is likely because\n",
    " your **model is overfitting(过拟合) the training set**. \n",
    " 1. One way to try to fix this is to **reduce the polynomial degree**: a model with fewer degrees of freedom is less likely to overfit. \n",
    " 2. Another thing you can try is to **regularize the model**—for example, by adding an$ ℓ 2$penalty (Ridge) or an $ℓ 1$penalty (Lasso) to the cost function. This will also reduce the degrees of freedom of the model. \n",
    " 3. Lastly, you can try to **increase the size of the training set**."
   ]
  },
  {
   "cell_type": "markdown",
   "metadata": {},
   "source": [
    "## ex. 9"
   ]
  },
  {
   "cell_type": "markdown",
   "metadata": {},
   "source": [
    "Q: 假设你正在使用岭回归，并且你注意到训练误差和验证误差几乎相等且相当高。你是否会说模型存在高偏差或者是高方差？你应该增加正则化超参数$\\alpha$还是减少它呢？"
   ]
  },
  {
   "cell_type": "markdown",
   "metadata": {},
   "source": [
    ">If both the training error and the validation error are almost equal and fairly high, the model is likely underfitting(欠拟合) the training set, which means it has a **high bias(高偏差)**. You should try **reducing** the regularization hyperparameter α."
   ]
  },
  {
   "cell_type": "markdown",
   "metadata": {},
   "source": [
    "## ex. 10"
   ]
  },
  {
   "cell_type": "markdown",
   "metadata": {},
   "source": [
    "Q:为什么要使用:\n",
    "1. 岭回归而不是简单的线性回归(即没有任何正则化)?\n",
    "2. Lasso 而不是岭回归?\n",
    "3. 弹性网络而不是 Lasso?"
   ]
  },
  {
   "cell_type": "markdown",
   "metadata": {},
   "source": [
    ">- A model with some regularization typically performs **better** than a model without any regularization, so you should **generally prefer Ridge Regression** over plain Linear Regression.\n",
    "- Lasso Regression uses an $ℓ 1$ penalty, which tends to **push the weights down to exactly zero**. This leads to sparse models, where all weights are zero except for the most important weights. This is a way to perform **feature selection automatically**, which is good if you suspect that only a few features actually matter. When you are not sure, you should prefer Ridge Regression.\n",
    "- Elastic Net is generally preferred over Lasso since Lasso may behave erratically in some cases (when **several features are strongly correlated** or when there are **more features than training instances**). However, it does add an extra hyperparameter to tune. If you want Lasso without the erratic behavior, you can just use Elastic Net with an `l1_ratio` close to 1."
   ]
  },
  {
   "cell_type": "markdown",
   "metadata": {},
   "source": [
    "## ex. 11"
   ]
  },
  {
   "cell_type": "markdown",
   "metadata": {},
   "source": [
    "Q:假设你要将图片分类为室外/室内和白天/夜间。你应该实现两个逻辑回归分类器还是一个 Softmax 回归分类器?"
   ]
  },
  {
   "cell_type": "markdown",
   "metadata": {},
   "source": [
    "> If you want to classify pictures as outdoor/indoor and daytime/nighttime, since\n",
    " these are not exclusive classes (i.e., all four combinations are possible) you should\n",
    " train two **Logistic Regression classifiers**."
   ]
  },
  {
   "cell_type": "markdown",
   "metadata": {},
   "source": [
    "## ex. 12 "
   ]
  },
  {
   "cell_type": "markdown",
   "metadata": {},
   "source": [
    "Q: Implement Batch Gradient Descent with early stopping for Softmax Regression\n",
    " (without using Scikit-Learn).\n",
    " \n",
    " 用`Softmax`回归进行BGD训练，实现提前停止法(不使用`Scikit-Learn`)"
   ]
  },
  {
   "cell_type": "code",
   "execution_count": 75,
   "metadata": {},
   "outputs": [],
   "source": [
    "from sklearn import datasets\n",
    "\n",
    "np.random.seed(2042)"
   ]
  },
  {
   "cell_type": "markdown",
   "metadata": {},
   "source": [
    "1. 加载数据集"
   ]
  },
  {
   "cell_type": "code",
   "execution_count": 76,
   "metadata": {},
   "outputs": [
    {
     "data": {
      "text/plain": [
       "['data', 'target', 'target_names', 'DESCR', 'feature_names', 'filename']"
      ]
     },
     "execution_count": 76,
     "metadata": {},
     "output_type": "execute_result"
    }
   ],
   "source": [
    "iris = datasets.load_iris()\n",
    "list(iris.keys())"
   ]
  },
  {
   "cell_type": "code",
   "execution_count": 77,
   "metadata": {},
   "outputs": [],
   "source": [
    "X = iris['data'][:, (2,3)]   # 花瓣宽度和长度\n",
    "y = iris['target']"
   ]
  },
  {
   "cell_type": "code",
   "execution_count": 78,
   "metadata": {},
   "outputs": [
    {
     "data": {
      "text/plain": [
       "array([[1. , 1.4, 0.2],\n",
       "       [1. , 1.4, 0.2],\n",
       "       [1. , 1.3, 0.2],\n",
       "       [1. , 1.5, 0.2],\n",
       "       [1. , 1.4, 0.2]])"
      ]
     },
     "execution_count": 78,
     "metadata": {},
     "output_type": "execute_result"
    }
   ],
   "source": [
    "# 添加偏置项 x_0=1\n",
    "X = np.c_[np.ones([len(X), 1]), X]\n",
    "X[:5]"
   ]
  },
  {
   "cell_type": "markdown",
   "metadata": {},
   "source": [
    "2. 分割数据集"
   ]
  },
  {
   "cell_type": "code",
   "execution_count": 79,
   "metadata": {},
   "outputs": [],
   "source": [
    "# 测试集和验证集的比例\n",
    "test_ratio = 0.2\n",
    "val_ratio = 0.2\n",
    "\n",
    "# 训练集，测试集和验证集的数据量\n",
    "total_size = len(X)\n",
    "test_size = int(total_size * test_ratio)\n",
    "val_size = int(total_size * val_ratio)\n",
    "train_size  = total_size - test_size - val_size"
   ]
  },
  {
   "cell_type": "code",
   "execution_count": 80,
   "metadata": {
    "scrolled": true
   },
   "outputs": [],
   "source": [
    "random_index = np.random.permutation(total_size)"
   ]
  },
  {
   "cell_type": "code",
   "execution_count": 81,
   "metadata": {},
   "outputs": [],
   "source": [
    "X_train = X[random_index[:train_size]]\n",
    "y_train = y[random_index[:train_size]]\n",
    "\n",
    "X_val = X[random_index[train_size:-test_size]]\n",
    "y_val = y[random_index[train_size:-test_size]]\n",
    "\n",
    "X_test = X[random_index[-test_size:]]\n",
    "y_test = y[random_index[-test_size:]]"
   ]
  },
  {
   "cell_type": "code",
   "execution_count": 82,
   "metadata": {},
   "outputs": [
    {
     "data": {
      "text/plain": [
       "((90, 3), (30, 3), (30, 3))"
      ]
     },
     "execution_count": 82,
     "metadata": {},
     "output_type": "execute_result"
    }
   ],
   "source": [
    "X_train.shape, X_val.shape, X_test.shape"
   ]
  },
  {
   "cell_type": "markdown",
   "metadata": {},
   "source": [
    "3. one-hot数据预处理"
   ]
  },
  {
   "cell_type": "code",
   "execution_count": 83,
   "metadata": {},
   "outputs": [],
   "source": [
    "def to_one_hot(y):\n",
    "    n_classes = y.max() + 1\n",
    "    m = len(y)\n",
    "    Y_one_hot = np.zeros((m, n_classes))\n",
    "    Y_one_hot[np.arange(m), y] = 1\n",
    "    return Y_one_hot"
   ]
  },
  {
   "cell_type": "code",
   "execution_count": 84,
   "metadata": {},
   "outputs": [
    {
     "data": {
      "text/plain": [
       "array([0, 1, 2, 1, 1])"
      ]
     },
     "execution_count": 84,
     "metadata": {},
     "output_type": "execute_result"
    }
   ],
   "source": [
    "y_train[:5]"
   ]
  },
  {
   "cell_type": "code",
   "execution_count": 85,
   "metadata": {},
   "outputs": [
    {
     "data": {
      "text/plain": [
       "array([[1., 0., 0.],\n",
       "       [0., 1., 0.],\n",
       "       [0., 0., 1.],\n",
       "       [0., 1., 0.],\n",
       "       [0., 1., 0.]])"
      ]
     },
     "execution_count": 85,
     "metadata": {},
     "output_type": "execute_result"
    }
   ],
   "source": [
    "to_one_hot(y_train[:5])"
   ]
  },
  {
   "cell_type": "code",
   "execution_count": 86,
   "metadata": {},
   "outputs": [],
   "source": [
    "y_train_one_hot = to_one_hot(y_train)\n",
    "y_valid_one_hot = to_one_hot(y_val)\n",
    "y_test_one_hot = to_one_hot(y_test)"
   ]
  },
  {
   "cell_type": "markdown",
   "metadata": {},
   "source": [
    "4. 定义输入和输出大小"
   ]
  },
  {
   "cell_type": "code",
   "execution_count": 87,
   "metadata": {},
   "outputs": [],
   "source": [
    "inputs = X_train.shape[1]          # 3 (两个特征+偏置项)\n",
    "outputs = len(np.unique(y_train))  # 3 (山鸢尾，变色鸢尾和维吉尼亚鸢尾)"
   ]
  },
  {
   "cell_type": "markdown",
   "metadata": {},
   "source": [
    "5. 实现Softmax函数"
   ]
  },
  {
   "cell_type": "markdown",
   "metadata": {},
   "source": [
    "对于给定实例$x$，Softmax模型首先计算出每个类别$k$的分数$s_k(x)$，然后对这些分数应用softmax函数（归一化指数），估算出每个类别的概率。\n",
    ">公式21:Softmax函数公式\n",
    "$$\\hat{p}_{k}^{(i)}=\\sigma\\left(\\mathbf{s}(\\mathbf{x})\\right)_k = \\dfrac{\\exp\\left(s_k(\\mathbf{x})\\right)}{\\sum\\limits_{j=1}^{K}{\\exp\\left(s_j(\\mathbf{x})\\right)}}$$"
   ]
  },
  {
   "cell_type": "code",
   "execution_count": 88,
   "metadata": {},
   "outputs": [],
   "source": [
    "def softmax(logits):  # logits 未归一化的分数\n",
    "    exps = np.exp(logits)\n",
    "    exps_sum = np.sum(exps, axis=1, keepdims=True)  # 保持矩阵的形状\n",
    "    return exps / exps_sum"
   ]
  },
  {
   "cell_type": "markdown",
   "metadata": {},
   "source": [
    "6. 训练Softmax模型"
   ]
  },
  {
   "cell_type": "markdown",
   "metadata": {},
   "source": [
    ">公式23:交叉熵成本函数 Cross entropy cost function\n",
    "$$\n",
    "J(\\boldsymbol{\\Theta})=-\\frac{1}{m} \\sum\\limits_{i=1}^{m} \\sum_{k=1}^{K} y_{k}^{(i)} \\log \\left(\\hat{p}_{k}^{(i)}\\right)\n",
    "$$\n",
    "其中:\n",
    "$y_{k}^{(i)}$  是属于$k$类的第$i$个实例的目标概率。一般而言，等于1或0，具体取决于实例是否属于这类。\n",
    "\n",
    ">公式24:类$k$的交叉熵梯度向量\n",
    "$$\n",
    "\\nabla_{\\boldsymbol{\\theta}^{(k)}} J(\\boldsymbol{\\Theta})=\\frac{1}{m} \\sum_{i=1}^{m}\\left(\\hat{p}_{k}^{(i)}-y_{k}^{(i)}\\right) x^{(i)}\n",
    "$$\n",
    "\n",
    ">公式8：梯度下降步骤Gradient Descent step \n",
    "$$\n",
    "\\theta^{{(k)}{(next\\ step)}}:=\\theta^{(k)}−η\\nabla_{\\boldsymbol{\\theta}^{(k)}} J(\\boldsymbol{\\Theta})\\\\\n",
    "$$"
   ]
  },
  {
   "cell_type": "code",
   "execution_count": 89,
   "metadata": {},
   "outputs": [],
   "source": [
    "Rate = 0.01        # 学习率\n",
    "iterations = 5001  # 迭代次数\n",
    "m = len(X_train)  \n",
    "\n",
    "espsilon = 1e-7    \n",
    "# 用于函数np.log计算的附加参数，保证不计算0的自然底数的对数"
   ]
  },
  {
   "cell_type": "code",
   "execution_count": 90,
   "metadata": {},
   "outputs": [],
   "source": [
    "theta = np.random.randn(inputs, outputs)  # 初始θ 生成3*3的随机矩阵"
   ]
  },
  {
   "cell_type": "code",
   "execution_count": 91,
   "metadata": {},
   "outputs": [
    {
     "name": "stdout",
     "output_type": "stream",
     "text": [
      "0 5.446205811872683\n",
      "500 0.8350062641405651\n",
      "1000 0.6878801447192402\n",
      "1500 0.6012379137693314\n",
      "2000 0.5444496861981872\n",
      "2500 0.5038530181431525\n",
      "3000 0.47292289721922487\n",
      "3500 0.44824244188957774\n",
      "4000 0.4278651093928793\n",
      "4500 0.41060071429187134\n",
      "5000 0.3956780375390374\n"
     ]
    }
   ],
   "source": [
    "for i in range(iterations):\n",
    "    logits = X_train@theta\n",
    "    y_proba = softmax(logits)  # 各类别的概率\n",
    "    \n",
    "    \n",
    "    if i % 500 == 0:\n",
    "        # 交叉熵成本函数\n",
    "        loss = -np.mean(np.sum(y_train_one_hot * np.log(y_proba+espsilon), axis=1))\n",
    "        print(i, loss)\n",
    "    \n",
    "    # 计算偏差\n",
    "    error = y_proba - y_train_one_hot   # (900,3)\n",
    "    \n",
    "    # 交叉熵梯度向量\n",
    "    gradients = (1/m) * (X_train.T @ error)  # (3,3)\n",
    "    \n",
    "    # 梯度下降\n",
    "    theta = theta - Rate * gradients"
   ]
  },
  {
   "cell_type": "code",
   "execution_count": 92,
   "metadata": {},
   "outputs": [
    {
     "data": {
      "text/plain": [
       "array([[ 3.32094157, -0.6501102 , -2.99979416],\n",
       "       [-1.1718465 ,  0.11706172,  0.10507543],\n",
       "       [-0.70224261, -0.09527802,  1.4786383 ]])"
      ]
     },
     "execution_count": 92,
     "metadata": {},
     "output_type": "execute_result"
    }
   ],
   "source": [
    "theta"
   ]
  },
  {
   "cell_type": "markdown",
   "metadata": {},
   "source": [
    "7. 利用验证集进行预测并评估\n",
    "\n",
    ">公式22:Softmax回归分类预测\n",
    "$$\n",
    "\\hat{y}=\\underset{k}{\\operatorname{argmax}} \\sigma(\\mathbf{s}(\\mathbf{x}))_{k}=\\underset{k}{\\operatorname{argmax}} s_{k}(\\mathbf{x})=\\underset{k}{\\operatorname{argmax}}\\left(\\left(\\boldsymbol{\\theta}^{(k)}\\right)^{T} \\mathbf{x}\\right)\n",
    "$$"
   ]
  },
  {
   "cell_type": "code",
   "execution_count": 93,
   "metadata": {},
   "outputs": [
    {
     "data": {
      "text/plain": [
       "array([0, 2, 0, 0, 1, 2, 2, 0, 0, 0, 1, 1, 2, 2, 1, 1, 2, 1, 2, 1, 0, 1,\n",
       "       2, 2, 1, 0, 0, 1, 1, 1])"
      ]
     },
     "execution_count": 93,
     "metadata": {},
     "output_type": "execute_result"
    }
   ],
   "source": [
    "logits = X_val@theta\n",
    "y_proba = softmax(logits)\n",
    "y_pred = np.argmax(y_proba, axis=1)\n",
    "y_pred"
   ]
  },
  {
   "cell_type": "code",
   "execution_count": 94,
   "metadata": {},
   "outputs": [
    {
     "name": "stdout",
     "output_type": "stream",
     "text": [
      "              precision    recall  f1-score   support\n",
      "\n",
      "           0       1.00      1.00      1.00         9\n",
      "           1       1.00      0.92      0.96        12\n",
      "           2       0.90      1.00      0.95         9\n",
      "\n",
      "    accuracy                           0.97        30\n",
      "   macro avg       0.97      0.97      0.97        30\n",
      "weighted avg       0.97      0.97      0.97        30\n",
      "\n"
     ]
    }
   ],
   "source": [
    "from sklearn.metrics import classification_report   #这个包是评价报告\n",
    "print(classification_report(y_pred, y_val))"
   ]
  },
  {
   "cell_type": "markdown",
   "metadata": {},
   "source": [
    "8. 添加$\\ell_2$正则化惩罚项"
   ]
  },
  {
   "cell_type": "markdown",
   "metadata": {},
   "source": [
    ">公式9：岭回归成本函数  Ridge Regression cost function\n",
    "$$\n",
    "J\\left( \\theta  \\right)= MSE(\\theta)+ \\alpha  \\sum\\limits_{i=1}^{n}{\\theta _{i}^{2}}\n",
    "$$"
   ]
  },
  {
   "cell_type": "code",
   "execution_count": 95,
   "metadata": {},
   "outputs": [],
   "source": [
    "Rate = 0.1        \n",
    "iterations = 5001  \n",
    "m = len(X_train)  \n",
    "espsilon = 1e-7    \n",
    "\n",
    "alpha = 0.1       # 正则化系数 𝛼"
   ]
  },
  {
   "cell_type": "code",
   "execution_count": 96,
   "metadata": {},
   "outputs": [],
   "source": [
    "theta = np.random.randn(inputs, outputs)  # 初始θ 生成3*3的随机矩阵"
   ]
  },
  {
   "cell_type": "code",
   "execution_count": 97,
   "metadata": {},
   "outputs": [
    {
     "name": "stdout",
     "output_type": "stream",
     "text": [
      "0 6.629842469083912\n",
      "500 0.5339667976629506\n",
      "1000 0.503640075014894\n",
      "1500 0.49468910594603216\n",
      "2000 0.49129684180754774\n",
      "2500 0.489899247009333\n",
      "3000 0.4892990598451198\n",
      "3500 0.48903512443978603\n",
      "4000 0.4889173621830818\n",
      "4500 0.48886433374493027\n",
      "5000 0.4888403120738818\n"
     ]
    }
   ],
   "source": [
    "for i in range(iterations):\n",
    "    logits = X_train@theta\n",
    "    y_proba = softmax(logits)  # 各类别的概率\n",
    "    \n",
    "    \n",
    "    if i % 500 == 0:\n",
    "        # 交叉熵成本函数\n",
    "        cost = -np.mean(np.sum(y_train_one_hot * np.log(y_proba+espsilon), axis=1))\n",
    "        reg = 1/2 * np.sum(np.square(theta[1:]))\n",
    "        costReg = cost + alpha * reg\n",
    "        print(i, costReg)\n",
    "    \n",
    "    # 计算偏差\n",
    "    error = y_proba - y_train_one_hot   # (900,3)\n",
    "    \n",
    "    # L2正则化交叉熵梯度向量\n",
    "    gradients_reg = np.r_[np.zeros([1, outputs]), alpha * theta[1:]]\n",
    "    gradients = (1/m) * X_train.T @ error  + gradients_reg\n",
    "\n",
    "    # 梯度下降\n",
    "    theta = theta - Rate * gradients"
   ]
  },
  {
   "cell_type": "markdown",
   "metadata": {},
   "source": [
    "由于添加$\\ell_2$正则化惩罚项，损失会大于前例所示不添加."
   ]
  },
  {
   "cell_type": "code",
   "execution_count": 98,
   "metadata": {},
   "outputs": [
    {
     "data": {
      "text/plain": [
       "array([[ 4.97985231,  1.04812068, -4.23604635],\n",
       "       [-1.09769275,  0.12541575,  0.972277  ],\n",
       "       [-0.43733964, -0.13642992,  0.57376956]])"
      ]
     },
     "execution_count": 98,
     "metadata": {},
     "output_type": "execute_result"
    }
   ],
   "source": [
    "theta"
   ]
  },
  {
   "cell_type": "markdown",
   "metadata": {},
   "source": [
    "9. 利用验证集进行预测并评估(添加$\\ell_2$正则化的模型)"
   ]
  },
  {
   "cell_type": "code",
   "execution_count": 99,
   "metadata": {},
   "outputs": [
    {
     "data": {
      "text/plain": [
       "array([0, 2, 0, 0, 1, 2, 2, 0, 0, 0, 1, 1, 2, 2, 1, 1, 2, 1, 2, 1, 0, 1,\n",
       "       2, 2, 1, 0, 0, 1, 1, 2])"
      ]
     },
     "execution_count": 99,
     "metadata": {},
     "output_type": "execute_result"
    }
   ],
   "source": [
    "logits = X_val@theta\n",
    "y_proba = softmax(logits)\n",
    "y_pred = np.argmax(y_proba, axis=1)\n",
    "y_pred"
   ]
  },
  {
   "cell_type": "code",
   "execution_count": 100,
   "metadata": {},
   "outputs": [
    {
     "name": "stdout",
     "output_type": "stream",
     "text": [
      "              precision    recall  f1-score   support\n",
      "\n",
      "           0       1.00      1.00      1.00         9\n",
      "           1       1.00      1.00      1.00        11\n",
      "           2       1.00      1.00      1.00        10\n",
      "\n",
      "    accuracy                           1.00        30\n",
      "   macro avg       1.00      1.00      1.00        30\n",
      "weighted avg       1.00      1.00      1.00        30\n",
      "\n"
     ]
    }
   ],
   "source": [
    "print(classification_report(y_pred, y_val))"
   ]
  },
  {
   "cell_type": "markdown",
   "metadata": {},
   "source": [
    "10. 实现提前停止法\n",
    "\n",
    "    当验证集上的性能不再提高时停止训练集上学习的方法,旨在克服过拟合现象."
   ]
  },
  {
   "cell_type": "code",
   "execution_count": 101,
   "metadata": {},
   "outputs": [],
   "source": [
    "Rate = 0.1        \n",
    "iterations = 5001  \n",
    "m = len(X_train)  \n",
    "espsilon = 1e-7    \n",
    "\n",
    "alpha = 0.1       # 正则化系数 𝛼"
   ]
  },
  {
   "cell_type": "code",
   "execution_count": 102,
   "metadata": {},
   "outputs": [],
   "source": [
    "np.random.seed(2042)\n",
    "theta = np.random.randn(inputs, outputs)  # 初始θ 生成3*3的随机矩阵"
   ]
  },
  {
   "cell_type": "code",
   "execution_count": 103,
   "metadata": {},
   "outputs": [],
   "source": [
    "minium_val_error = np.infty\n",
    "best_epoch = None\n",
    "theta_list = []"
   ]
  },
  {
   "cell_type": "code",
   "execution_count": 104,
   "metadata": {},
   "outputs": [
    {
     "name": "stdout",
     "output_type": "stream",
     "text": [
      "0 2.0392966561323487\n",
      "500 0.5712186106706888\n",
      "1000 0.5427543296320801\n",
      "1500 0.5353671267222122\n",
      "2000 0.5331424065221559\n",
      "2500 0.5325854810303733\n",
      "2743 0.5325453999385229\n",
      "2744 0.5325453999685446 ->提前停止\n"
     ]
    }
   ],
   "source": [
    "for i in range(iterations):\n",
    "    # 训练集\n",
    "    train_logits = X_train@theta\n",
    "    y_train_proba = softmax(train_logits) \n",
    "    train_error = y_train_proba - y_train_one_hot\n",
    "    train_gradients_reg = np.r_[np.zeros([1, outputs]), alpha * theta[1:]]\n",
    "    train_gradients = (1/m) * X_train.T @ train_error + train_gradients_reg\n",
    "    theta = theta - Rate * train_gradients\n",
    "    theta_list.append(theta)\n",
    "    \n",
    "    # 验证集\n",
    "    val_logits = X_val@theta\n",
    "    y_val_proba = softmax(val_logits)\n",
    "    \n",
    "    # 验证集的交叉熵成本函数\n",
    "    val_cost = -np.mean(np.sum(y_valid_one_hot * np.log(y_val_proba+espsilon), axis=1))\n",
    "    reg = 1/2 * np.sum(np.square(theta[1:]))\n",
    "    val_costReg = val_cost + alpha * reg\n",
    "    \n",
    "    if i % 500 == 0:\n",
    "        print(i, val_costReg)\n",
    "        \n",
    "    # 实现提前停止\n",
    "    if val_costReg < minium_val_error:\n",
    "        minium_val_error = val_costReg\n",
    "        best_epoch = i\n",
    "    else:\n",
    "        print(best_epoch, minium_val_error)\n",
    "        print(i, val_costReg, \"->提前停止\")\n",
    "        break"
   ]
  },
  {
   "cell_type": "markdown",
   "metadata": {},
   "source": [
    "<img src=\"./images/other/4-18.png\" width=\"400\">"
   ]
  },
  {
   "cell_type": "markdown",
   "metadata": {},
   "source": [
    "11. 利用验证集进行预测并评估(提前停止法)"
   ]
  },
  {
   "cell_type": "code",
   "execution_count": 105,
   "metadata": {},
   "outputs": [
    {
     "data": {
      "text/plain": [
       "array([0, 2, 0, 0, 1, 2, 2, 0, 0, 0, 1, 1, 2, 2, 1, 1, 2, 1, 2, 1, 0, 1,\n",
       "       2, 2, 1, 0, 0, 1, 1, 2])"
      ]
     },
     "execution_count": 105,
     "metadata": {},
     "output_type": "execute_result"
    }
   ],
   "source": [
    "logits = X_val@theta_list[-2]\n",
    "y_proba = softmax(logits)\n",
    "y_pred = np.argmax(y_proba, axis=1)\n",
    "y_pred"
   ]
  },
  {
   "cell_type": "code",
   "execution_count": 106,
   "metadata": {},
   "outputs": [
    {
     "name": "stdout",
     "output_type": "stream",
     "text": [
      "              precision    recall  f1-score   support\n",
      "\n",
      "           0       1.00      1.00      1.00         9\n",
      "           1       1.00      1.00      1.00        11\n",
      "           2       1.00      1.00      1.00        10\n",
      "\n",
      "    accuracy                           1.00        30\n",
      "   macro avg       1.00      1.00      1.00        30\n",
      "weighted avg       1.00      1.00      1.00        30\n",
      "\n"
     ]
    }
   ],
   "source": [
    "print(classification_report(y_pred, y_val))"
   ]
  },
  {
   "cell_type": "markdown",
   "metadata": {},
   "source": [
    "12. Softmax回归决策边界"
   ]
  },
  {
   "cell_type": "markdown",
   "metadata": {},
   "source": [
    "<img src=\"./images/other/4-19.png\" width=\"600\">"
   ]
  }
 ],
 "metadata": {
  "kernelspec": {
   "display_name": "Python 3",
   "language": "python",
   "name": "python3"
  },
  "language_info": {
   "codemirror_mode": {
    "name": "ipython",
    "version": 3
   },
   "file_extension": ".py",
   "mimetype": "text/x-python",
   "name": "python",
   "nbconvert_exporter": "python",
   "pygments_lexer": "ipython3",
   "version": "3.7.4"
  },
  "toc": {
   "base_numbering": 1,
   "nav_menu": {},
   "number_sections": true,
   "sideBar": true,
   "skip_h1_title": false,
   "title_cell": "Table of Contents",
   "title_sidebar": "Contents",
   "toc_cell": false,
   "toc_position": {
    "height": "calc(100% - 180px)",
    "left": "10px",
    "top": "150px",
    "width": "254px"
   },
   "toc_section_display": true,
   "toc_window_display": true
  }
 },
 "nbformat": 4,
 "nbformat_minor": 2
}
