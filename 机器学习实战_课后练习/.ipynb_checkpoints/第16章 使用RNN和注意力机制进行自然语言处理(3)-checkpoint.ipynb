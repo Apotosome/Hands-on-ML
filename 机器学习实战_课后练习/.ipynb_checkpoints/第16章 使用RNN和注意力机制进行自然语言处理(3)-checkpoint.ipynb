{
 "cells": [
  {
   "cell_type": "code",
   "execution_count": 1,
   "metadata": {},
   "outputs": [],
   "source": [
    "import numpy as np\n",
    "import pandas as pd\n",
    "import tensorflow as tf\n",
    "import tensorflow.keras as keras\n",
    "import os\n",
    "import time\n",
    "import io\n",
    "import matplotlib.pyplot as plt\n",
    "import matplotlib as mpl\n",
    "import seaborn as sns\n",
    "\n",
    "\n",
    "def initialization(seed=42):\n",
    "    keras.backend.clear_session()\n",
    "    np.random.seed(seed)\n",
    "    tf.random.set_seed(seed)"
   ]
  },
  {
   "cell_type": "markdown",
   "metadata": {},
   "source": [
    "# 注意力机制 Attention Mechanisms"
   ]
  },
  {
   "cell_type": "markdown",
   "metadata": {},
   "source": [
    "## 笔记"
   ]
  },
  {
   "cell_type": "markdown",
   "metadata": {},
   "source": [
    "<img src=\"./images/other/16-12.jpg\">\n",
    "<img src=\"./images/other/16-13.jpg\">\n",
    "<img src=\"./images/other/16-14.jpg\">\n",
    "<img src=\"./images/other/16-15.jpg\">\n",
    "<img src=\"./images/other/16-16.jpg\">\n",
    "<img src=\"./images/other/16-17.jpg\">"
   ]
  },
  {
   "cell_type": "markdown",
   "metadata": {},
   "source": [
    "---\n",
    "- **基于注意力的序列到序列模型**\n",
    "    <img src=\"./images/other/16-19.png\" width=\"400\">\n",
    "\n",
    "    在基本的`Encoder-Decoder`模型中，注意力机制在`Encoder`和`Decoder`加入了上下文向量`context vector`，如上图所示，左边蓝色的代表`Encoder`，红色的代表`Decoder`。\n",
    "\n",
    "    对于`Decoder`中每个要生成的$y$，都会生成一个上下文向量。这个上下文向量是由每个输入的`words`的信息加权求和得到的，其中权重向量就是**注意力向量**，它代表在此刻生成$y$时输入的单词的重要程度。最后将上下文向量和此刻的$y$的信息进行融合作为输出。\n",
    "\n",
    "    构建上下文向量过程也很简单，首先对于一个固定的`target word`，我们把这个`target state`跟所有的`Encoder`的`state`进行比较，这样对每个`state`得到了一个`score`;然后使用`softmax`对这些`score`进行归一化，这样就得到了基于`target state`的条件概率分布。最后，对`source`的`state`进行加权求和，得到上下文向量，将上下文向量与`target state`融合作为最终的输出。"
   ]
  },
  {
   "cell_type": "markdown",
   "metadata": {},
   "source": [
    "> $\\begin{array}{rlr}\\alpha_{t s} & =\\frac{\\exp \\left(\\operatorname{score}\\left(\\boldsymbol{h}_{t}, \\overline{\\boldsymbol{h}}_{s}\\right)\\right)}{\\sum_{s^{\\prime}=1}^{S} \\exp \\left(\\operatorname{score}\\left(\\boldsymbol{h}_{t}, \\overline{\\boldsymbol{h}}_{s^{\\prime}}\\right)\\right)} & \\text { [Attention weights] (1)} \n",
    "\\\\ \\boldsymbol{c}_{t} & =\\sum_{s} \\alpha_{t s} \\overline{\\boldsymbol{h}}_{s} & \\text { [Context vector] (2)} \n",
    "\\\\ \\boldsymbol{a}_{t} & =f\\left(\\boldsymbol{c}_{t}, \\boldsymbol{h}_{t}\\right)=\\tanh \\left(\\boldsymbol{W}_{c}\\left[\\boldsymbol{c}_{t} ; \\boldsymbol{h}_{t}\\right]\\right) & \\text { [Attention vector] (3)}\\end{array}$"
   ]
  },
  {
   "cell_type": "markdown",
   "metadata": {},
   "source": [
    "- **`Bahdanau` 和 `Luong` 两种 `Attention` 机制**\n",
    "<img src=\"./images/other/16-18.jpg\" >"
   ]
  },
  {
   "cell_type": "markdown",
   "metadata": {},
   "source": [
    "1. 注意力的计算方式不同\n",
    "\n",
    "    - 在 `Luong Attention` 机制中，第 $t$ 步的注意力 $c_t$ 是由 `decoder` 第 $t$ 步的 `hidden state` $h_t$ 与 `encoder` 中的每一个 `hidden state` $\\overline{\\boldsymbol{h}}_{s}$ 加权计算得出的。\n",
    "    - 在 `Bahdanau Attention` 机制中，第 $t$ 步的注意力 $c_t$ 是由 `decoder` 第 $t-1$ 步的 `hidden state` $h_{t-1}$  与 `encoder` 中的每一个 `hidden state`$\\overline{\\boldsymbol{h}}_{s}$ 加权计算得出的。\n",
    "    \n",
    "2. `decoder` 的输入输出不同\n",
    "    - 在 `Bahdanau Attention` 机制中，`decoder` 在第 $t$ 步时，输入是由$c_t$与 $h_{t-1}$ **拼接**得出的，得到 $h_t$  并直接输出 $\\hat y_{t+1}$ 。\n",
    "    - 在 `Luong Attention` 机制在 `decoder` 部分**建立了一层额外的网络结构**，以注意力 $c_t$与原 `decoder` 第 t 步的 `hidden state` $h_t$**拼接**作为输入，得到第 t 步的 `hidden state` $\\tilde{\\mathbf{h}}_{t}$ 并输出 $\\hat{\\mathbf{y}}_{t}$ 。\n",
    "    <img src=\"./images/other/16-20.png\" width=\"300\">\n",
    "    \n",
    "   总结一下, `Bahdanau Attention` 机制的计算流程为 $\\mathbf{h}_{t-1} \\rightarrow \\mathbf{a}_{t} \\rightarrow \\mathbf{c}_{t} \\rightarrow \\mathbf{h}_{t}$, 而 `Luong attention` 机制的计算流程为 $\\mathbf{h}_{t} \\rightarrow \\mathbf{a}_{t} \\rightarrow \\mathbf{c}_{t} \\rightarrow \\tilde{\\mathbf{h}}_{t}$ 。\n",
    "    \n",
    "   相较而言, `Luong attention` 机制中的 `decoder` 在每一步使用当前步 (而非前一步) 的 `hidden state` 来计算注意力, 从逻辑上更自然, 但需要使用一层额外的 `RNN decoder` 来计算输出。\n",
    "    \n",
    "   此外, `Bahdanau Attention` 机制的论文中只尝试了使用 `concat` 作为对齐函数, 而 `Luong Attention` 机制 的论文在多种对齐函数上做了实验。\n",
    "\n",
    "\n",
    "   - 根据计算区域的大小, 可以将对齐函数分为`全局注意力Global Attention `和`局部注意力Local Attention`两种机制。\n",
    "       - 全局注意力模式会将 `encoder` 的每一步 `hidden state` 进行注意力计算\n",
    "       - 局部注意力模式则计算部分范围的 `hidden state`。\n",
    "\n",
    "   - 根据所用信息, 可以分为`基于内容的对齐`和`基于位置的对齐`。\n",
    "       - 基于内容的对齐同时考虑了 `encoder` 的 `hidden state` $\\overline{\\mathbf{h}}_{s}$ 和当前步 `decoder` 的 `hidden state` $\\mathbf{h}_{t}$\n",
    "       - 基于位置的对齐只考虑当前步 `decoder` 的 `hidden state` $\\mathbf{h}_{t}$ 。"
   ]
  },
  {
   "cell_type": "markdown",
   "metadata": {},
   "source": [
    "> $\\begin{aligned} \\tilde{{h}}_{(t)} &=\\sum_{i} \\alpha_{(t, i)} {y}_{(i)} \\\\ \\text { with } \\alpha_{(t, i)} &=\\frac{\\exp \\left(e_{(t, i)}\\right)}{\\sum_{i^{\\prime}} \\exp \\left(e_{\\left(t, i^{\\prime}\\right)}\\right)} \\\\ \\text { and } e_{(t, i)} &= \\begin{cases}{h}_{(t)^{\\top}} \\mathbf{y}_{(i)} & \\text { 点 } \\\\ {h}_{(t)^{\\top}} {W}_{(i)} & \\text { 普通 } \\\\ {v}^{\\top} \\tanh \\left({W}\\left[{h}_{(t)} ; {y}_{(i)}\\right]\\right) & \\text { 合并 }\\end{cases} \\end{aligned}$"
   ]
  },
  {
   "cell_type": "markdown",
   "metadata": {},
   "source": [
    "- 使用`tfa`将`Luong Attention`添加到编码器-解码器模型中\n",
    "\n",
    "    我们简单地将解码器单元包装在一个注意力包装器中，并提供所需的注意力机制."
   ]
  },
  {
   "cell_type": "code",
   "execution_count": 2,
   "metadata": {},
   "outputs": [],
   "source": [
    "import tensorflow_addons as tfa"
   ]
  },
  {
   "cell_type": "code",
   "execution_count": 3,
   "metadata": {},
   "outputs": [],
   "source": [
    "# attention_mechanism = tfa.seq2seq.attention_wrapper.LuongAttention(\n",
    "#     units, encoder_state, memory_sequence_length=encoder_sequence_length)\n",
    "# attention_decoder_cell = tfa.seq2seq.attention_wrapper.AttentionWrapper(\n",
    "#     decoder_cell, attention_mechanism, attention_layer_size=n_units)"
   ]
  },
  {
   "cell_type": "markdown",
   "metadata": {},
   "source": [
    "# Transformer 架构- TensorFlow实现"
   ]
  },
  {
   "cell_type": "markdown",
   "metadata": {
    "heading_collapsed": true
   },
   "source": [
    "## 笔记"
   ]
  },
  {
   "cell_type": "markdown",
   "metadata": {
    "hidden": true
   },
   "source": [
    "<img src=\"./images/other/16-21.jpg\">\n",
    "<img src=\"./images/other/16-22.jpg\">"
   ]
  },
  {
   "cell_type": "markdown",
   "metadata": {},
   "source": [
    "## 原理"
   ]
  },
  {
   "cell_type": "markdown",
   "metadata": {},
   "source": [
    "<img src=\"./images/other/16-23.svg\" width=\"400px\">"
   ]
  },
  {
   "cell_type": "markdown",
   "metadata": {},
   "source": [
    "- 左侧是`编码器`:\n",
    "    - 将一批表示为单词 I D 的序列的句子作为输入，输入形状为 `[batch_size,  max_input_sentence_length]`.\n",
    "    - 并将每个单词编码为 512 维表示, 因此编码器的输出形状是`[batch_size,  max_input_sentence_length, 512]`.\n",
    "    - 请注意，编码器的顶部堆叠了 N 次(在论文中，N = 6).\n",
    "- 右侧是`解码器`:\n",
    "    - 在训练期间，它将目标句子作为输入（也表示为单词 ID 的序列），向右移动一个时间步长, 在开头插入序列的开始标记。它还接收编码器的输出。\n",
    "    - 请注意，解码器的顶部也堆叠了 N 次，并且编码器堆栈的最终输出在这 N 层中的每一层都被馈送到解码器。\n",
    "    - 解码器在每个时间步为每个可能的下一个单词输出一个概率, 它的输出形状是 `[batch_size, max_output_sentence_length, vocabulary_length]`.\n",
    "- 在推理过程中，无法为解码器提供目标值，因此我们向其提供先前输出的单词, 以序列开始标记开始。因此, 需要模型被重复调用，每轮预测一个单词, 直到输出序列结束标记.\n",
    "- 2个嵌入层; 5 × N 个跳过连接，每个连接后跟一个规范化层; 2 × N逐位前馈网络，每个模块由 2 个密集层组成（第一个使用 `Re LU` 激活函数，第二个没有激活函数），以及最后输出层是使用`softmax`激活函数的密集层。\n",
    "所有这些层都是时间分布的，因此每个单词都独立于所有其他单词来处理。"
   ]
  },
  {
   "cell_type": "markdown",
   "metadata": {},
   "source": [
    "- `编码器`的 `多头注意力` 层对同一句子中每个单词与其他单词的关系进行编码，更加关注最相关的单词。这种注意力机制称为`self-attention`（句子正在关注自身）。\n",
    "- `解码器`的 `掩蔽多头注意力` 层做同样的事情，但每个词只允许关注位于它之前的词。`解码器`的上层 `多头注意力` 层是解码器关注输入句子中单词的地方。\n",
    "\n",
    "- `位置嵌入`只是表示单词在句子中位置的密集向量。位置嵌入被添加到每个句子中单词的词嵌入中。"
   ]
  },
  {
   "cell_type": "markdown",
   "metadata": {},
   "source": [
    "### 位置嵌入 Positional embeddings"
   ]
  },
  {
   "cell_type": "markdown",
   "metadata": {},
   "source": [
    "> 正弦/余弦位置嵌入:\n",
    "> \\begin{split}\\begin{aligned} P_{p, 2i} &= \\sin\\left(\\frac{p}{10000^{2i/d}}\\right)\\\\P_{p, 2i+1} &= \\cos\\left(\\frac{p}{10000^{2i/d}}\\right)\\end{aligned}\\end{split}\n",
    ">\n",
    "> 其中$P_{p, i}$是位于句子中第$p$个位置的单词的嵌入的第$i$个分量."
   ]
  },
  {
   "cell_type": "code",
   "execution_count": 4,
   "metadata": {},
   "outputs": [],
   "source": [
    "class PositionalEncoding(keras.layers.Layer):\n",
    "\n",
    "    def __init__(self, max_steps, max_dims, dtype=tf.float32, **kwargs):\n",
    "        \"\"\"\n",
    "        :param max_steps: 最大的句子长度\n",
    "        :param max_dim: 每个单词所表示的维度 这里是512维\n",
    "        \"\"\"\n",
    "        super(PositionalEncoding, self).__init__(dtype=dtype, **kwargs)\n",
    "        if max_dims % 2 == 1:\n",
    "            max_dims += 1  # max_dim 必须是偶数\n",
    "\n",
    "        #  P𝑝,𝑖 是位于句子中第 𝑝 个位置的单词的嵌入的第 𝑖 个分量.\n",
    "        p, i = np.meshgrid(np.arange(max_steps), np.arange(max_dims // 2))\n",
    "\n",
    "        # (batch_size, number of time steps or sequence length, dimensions)\n",
    "        pos_embed = np.empty((1, max_steps, max_dims))\n",
    "        # np.sin().shape -> (i,p)  => .T -> (p,i)\n",
    "        pos_embed[0, :, ::2] = np.sin(p / 10000**(2 * i / max_dims)).T\n",
    "        pos_embed[0, :, 1::2] = np.cos(p / 10000**(2 * i / max_dims)).T\n",
    "\n",
    "        self.position_embedding = tf.constant(pos_embed.astype(self.dtype))\n",
    "\n",
    "    def call(self, inputs, *args, **kwargs):\n",
    "        # inputs=np.zeros( (1, max_steps, max_dims), np.float32)\n",
    "        shape = tf.shape(inputs)\n",
    "        return inputs + self.position_embedding[:, :shape[-2], :shape[-1]]"
   ]
  },
  {
   "cell_type": "markdown",
   "metadata": {},
   "source": [
    "- 绘制示意图"
   ]
  },
  {
   "cell_type": "code",
   "execution_count": 5,
   "metadata": {},
   "outputs": [],
   "source": [
    "max_steps = 201\n",
    "max_dims = 512\n",
    "pos_embed = PositionalEncoding(max_steps, max_dims)\n",
    "PE = pos_embed(np.zeros((1, max_steps, max_dims), np.float32))[0].numpy()"
   ]
  },
  {
   "cell_type": "code",
   "execution_count": 6,
   "metadata": {},
   "outputs": [],
   "source": [
    "from mpl_toolkits.axes_grid1 import make_axes_locatable"
   ]
  },
  {
   "cell_type": "code",
   "execution_count": 7,
   "metadata": {},
   "outputs": [
    {
     "data": {
      "image/png": "[encoded data removed]",
      "text/plain": [
       "<Figure size 648x360 with 3 Axes>"
      ]
     },
     "metadata": {
      "needs_background": "light"
     },
     "output_type": "display_data"
    }
   ],
   "source": [
    "i1, i2, crop_i = 100, 101, 150  # 裁切分量至150\n",
    "p1, p2, p3 = 22, 60, 35\n",
    "fig, (ax2, ax1) = plt.subplots(\n",
    "    nrows=2,\n",
    "    ncols=1,  # sharex=True, \n",
    "    figsize=(9, 5))\n",
    "\n",
    "#########\n",
    "im = ax2.imshow(PE.T[:crop_i],\n",
    "                cmap=\"gray\",\n",
    "                interpolation=\"bilinear\",\n",
    "                aspect=\"auto\")\n",
    "ax2.hlines(y=i1, xmin=0, xmax=max_steps - 1, color=\"b\")  # 绘制水平线\n",
    "cheat = 2  # 需要将红线抬高一点，否则会隐藏蓝线\n",
    "ax2.hlines(i2 + cheat, 0, max_steps - 1, color=\"r\")\n",
    "\n",
    "ax2.plot([p1, p1], [0, crop_i], \"k--\")\n",
    "ax2.plot([p2, p2], [0, crop_i], \"k--\", alpha=0.5)\n",
    "ax2.plot([p1, p2], [i2 + cheat, i2 + cheat], \"ro\")\n",
    "ax2.plot([p1, p2], [i1, i1], \"bo\")\n",
    "\n",
    "ax2.axis([0, max_steps - 1, 0, crop_i])\n",
    "ax2.set_xlabel(\"$p$\", fontsize=16)\n",
    "ax2.set_ylabel(\"$i$\", rotation=0, fontsize=16)\n",
    "#########\n",
    "divider = make_axes_locatable(ax2)\n",
    "cax = divider.append_axes('right', size='6%', pad=0.1)\n",
    "cb = fig.colorbar(im, cax=cax, orientation=\"vertical\")\n",
    "cb.set_ticks([-1, 0, 1])\n",
    "cb.update_ticks()\n",
    "#########\n",
    "ax1.plot(PE[:, i1], \"b-\", label=\"$i = {}$\".format(i1))\n",
    "ax1.plot(PE[:, i2], \"r-\", label=\"$i = {}$\".format(i2))\n",
    "\n",
    "ax1.plot([p1, p1], [-1, 1], \"k--\", label=\"$p = {}$\".format(p1))\n",
    "ax1.plot([p2, p2], [-1, 1], \"k--\", label=\"$p = {}$\".format(p2), alpha=0.5)\n",
    "ax1.plot(p3, PE[p3, i1], \"bx\", label=\"$p = {}$\".format(p3))\n",
    "\n",
    "ax1.plot([p1, p2], [PE[p1, i1], PE[p2, i1]], \"bo\")\n",
    "ax1.plot([p1, p2], [PE[p1, i2], PE[p2, i2]], \"ro\")\n",
    "\n",
    "ax1.legend(loc=\"center right\", fontsize=14, framealpha=0.95)\n",
    "ax1.set_ylabel(\"$P_{(p,i)}$\", rotation=0, fontsize=16)\n",
    "\n",
    "ax1.grid(True, alpha=0.3)\n",
    "ax1.hlines(0, 0, max_steps - 1, color=\"k\", linewidth=1, alpha=0.3)\n",
    "ax1.axis([0, max_steps - 1, -1, 1])\n",
    "ax1.set_xlabel( \"Position in sequence\", fontsize=16)\n",
    "\n",
    "plt.show()"
   ]
  },
  {
   "cell_type": "markdown",
   "metadata": {},
   "source": [
    "- 接下来,创建`Transformer`的第一层:"
   ]
  },
  {
   "cell_type": "code",
   "execution_count": 8,
   "metadata": {},
   "outputs": [],
   "source": [
    "embed_size = 512\n",
    "max_steps = 500\n",
    "vocab_size = 10000"
   ]
  },
  {
   "cell_type": "code",
   "execution_count": 9,
   "metadata": {},
   "outputs": [],
   "source": [
    "embeddings = keras.layers.Embedding(vocab_size, embed_size)\n",
    "position_encoding = PositionalEncoding(max_steps=max_steps,\n",
    "                                       max_dims=embed_size)\n",
    "\n",
    "# 编码器\n",
    "encoder_inputs = keras.layers.Input(shape=[None], dtype=np.int32)\n",
    "encoder_embeddings = embeddings(encoder_inputs)\n",
    "encoder_in = position_encoding(encoder_embeddings)\n",
    "\n",
    "# 解码器\n",
    "decoder_inputs = keras.layers.Input(shape=[None], dtype=np.int32)\n",
    "decoder_embeddings = embeddings(decoder_inputs)\n",
    "decoder_in = position_encoding(decoder_embeddings)"
   ]
  },
  {
   "cell_type": "markdown",
   "metadata": {},
   "source": [
    "### 缩放点积注意力 Scaled Dot-Product Attention"
   ]
  },
  {
   "cell_type": "markdown",
   "metadata": {},
   "source": [
    "> 缩放点积注意力:\n",
    "> $$\\operatorname{Attention}(\\mathbf{Q}, \\mathbf{K}, \\mathbf{V})=\\operatorname{softmax}\\left(\\frac{\\mathbf{Q} \\mathbf{K}^{\\top}}{\\sqrt{d_{k e y s}}}\\right) \\mathbf{V}$$"
   ]
  },
  {
   "cell_type": "markdown",
   "metadata": {},
   "source": [
    "- 在`编码器`中，这个等式应用于批处理中的**每个输入句子**，其中$Q$、$K$和$V$都等于输入句子中的单词列表`(Embeddings+Positional Embeddings)`,因此句子中的每个单词都会进行比较同一句子中的每个单词，包括它自己。\n",
    "- 在`解码器`的 `masked attention` 层中，等式将应用于批处理中的**每个目标句子**，其中 $Q$、$K$和$V$都等于目标句子中的单词列表，但这次使用了掩码来防止任何单词与位于它之后的单词进行比较(在推理时，解码器只能访问它已经输出的单词，而不是将来的单词，因此在训练期间我们必须屏蔽未来的输出令牌)。\n",
    "- 在`解码器`的注意力层上部，键 $K$ 和值 $V$ 只是`编码器`生成的单词编码列表，查询 $Q$ 是`解码器`生成的单词编码列表。"
   ]
  },
  {
   "cell_type": "markdown",
   "metadata": {},
   "source": [
    "> 在TensorFlow中，如果 $A$ 和 $B$ 是具有两个以上维度的张量(例如，形状分别为 `[2, 3, 4, 5]` 和 `[2, 3, 5, 6]`)，则 `tf.matmul(A, B)`会将这些张量视为 2 × 3 数组，其中每个单元都包含一个矩阵，并将相应的矩阵相乘：\n",
    ">\n",
    "> $A$ 中的第$i$行和第$j$列的矩阵将乘以 $B$ 中的第$i$行和第$j$列的矩阵。\n",
    ">\n",
    "> 一个 4 × 5 矩阵和一个 5 × 6 矩阵是一个 4 × 6 矩阵，`tf.matmul(A, B)` 将返回一个形状为 `[2, 3, 4, 6]` 的数组。"
   ]
  },
  {
   "cell_type": "markdown",
   "metadata": {},
   "source": [
    "- `Kears`中的`kears.layers.Attention`层实现缩放点积注意力\n",
    "    - `use_scale=True`: 创建一个附加参数, 让层学习如何正确缩小相似度分数, 而不是`transformer`中固定的因子${\\sqrt{d_{k e y s}}}$来降低相似度分数.\n",
    "    - `causal=True`: 可确保每个输出令牌仅注意先前的输出令牌, 而不是将来的."
   ]
  },
  {
   "cell_type": "markdown",
   "metadata": {},
   "source": [
    "- 这是一个简化的 `Transformer`（实际架构有跳过连接、层范数、密集网络，最重要的是它使用 Multi-Head Attention 而不是常规 Attention）"
   ]
  },
  {
   "cell_type": "code",
   "execution_count": 10,
   "metadata": {},
   "outputs": [],
   "source": [
    "# 编码器\n",
    "# encoder_in = position_encoding(encoder_embeddings)\n",
    "Z = encoder_in\n",
    "\n",
    "for N in range(6):\n",
    "    # input:( [query_seq_encoding, value_seq_encoding])\n",
    "    Z = keras.layers.Attention(use_scale=True)([Z, Z])\n",
    "encoder_outputs = Z"
   ]
  },
  {
   "cell_type": "code",
   "execution_count": 11,
   "metadata": {},
   "outputs": [],
   "source": [
    "# 解码器\n",
    "# decoder_in = position_encoding(decoder_embeddings)\n",
    "Z = decoder_in\n",
    "for N in range(6):\n",
    "    Z = keras.layers.Attention(use_scale=True, causal=True)([Z, Z])\n",
    "    Z = keras.layers.Attention(use_scale=True)([Z, encoder_outputs])\n",
    "\n",
    "outputs = keras.layers.TimeDistributed(\n",
    "    keras.layers.Dense(vocab_size, activation=\"softmax\"))(Z)"
   ]
  },
  {
   "cell_type": "markdown",
   "metadata": {},
   "source": [
    "### 多头注意力 Multi-Head Attention"
   ]
  },
  {
   "cell_type": "markdown",
   "metadata": {},
   "source": [
    "<img src=\"./images/other/16-24.png\" width=\"200\">\n",
    "<img src=\"./images/other/16-25.png\">"
   ]
  },
  {
   "cell_type": "markdown",
   "metadata": {},
   "source": [
    "嵌入的不同部分可以学习每个单词含义的不同方面，因为它与序列中的其他单词相关。这允许 `Transformer` 捕获对序列的更丰富的解释。\n",
    "<img src=\"./images/other/16-55.png\">"
   ]
  },
  {
   "cell_type": "markdown",
   "metadata": {},
   "source": [
    "> 小结:\n",
    "> 1. `__init__`主要用来做参数初始化用，比如我们要初始化卷积的一些参数，就可以放到这里面\n",
    "> 2. `call`可以把类型的对象当做函数来使用，这个对象可以是在`__init__`里面也可以是在`build`里面\n",
    "> 3. `build`一般是和`call`搭配使用，这个时候，它的功能和`__init__`很相似，当`build`中存放本层需要初始化的变量，当`call`被第一次调用的时候，会先执行`build()`方法初始化变量，但后面再调用到`call`的时候，是不会再去执行`build()`方法初始化变量"
   ]
  },
  {
   "cell_type": "markdown",
   "metadata": {},
   "source": [
    "请注意，具有 `kernel_size=1`, 并且默认 `padding=\"valid\"` 和 `strides=1`的 `Conv1D` 层等效于 `Time Distributed(Dense(...))` 层."
   ]
  },
  {
   "cell_type": "code",
   "execution_count": 12,
   "metadata": {},
   "outputs": [],
   "source": [
    "K = keras.backend"
   ]
  },
  {
   "cell_type": "code",
   "execution_count": 13,
   "metadata": {},
   "outputs": [],
   "source": [
    "class MultiHeadAttention(keras.layers.Layer):\n",
    "\n",
    "    def __init__(self, n_heads, use_scale=False, causal=False, **kwargs):\n",
    "        super(MultiHeadAttention, self).__init__(**kwargs)\n",
    "        self.n_heads = n_heads\n",
    "        self.use_scale = use_scale\n",
    "        self.causal = causal\n",
    "\n",
    "    def build(self, batch_input_shape):\n",
    "        super(MultiHeadAttention, self).build(batch_input_shape)\n",
    "        self.dims = batch_input_shape[0][-1]  # 512\n",
    "        # 使用8个头 --> d_k = d_v = d_model/h = 64.\n",
    "        self.q_dims, self.v_dims, self.k_dims = [self.dims // self.n_heads] * 3\n",
    "\n",
    "        # 线性层\n",
    "        self.q_linear = keras.layers.Conv1D(\n",
    "            filters=self.n_heads * self.q_dims,  # Embedding_dim\n",
    "            kernel_size=1,  # 默认 stride=1, padding=\"valid\"\n",
    "            use_bias=False)\n",
    "        self.v_linear = keras.layers.Conv1D(filters=self.n_heads * self.v_dims,\n",
    "                                            kernel_size=1,\n",
    "                                            use_bias=False)\n",
    "        self.k_linear = keras.layers.Conv1D(filters=self.n_heads * self.k_dims,\n",
    "                                            kernel_size=1,\n",
    "                                            use_bias=False)\n",
    "\n",
    "        self.attention = keras.layers.Attention(causal=self.causal,\n",
    "                                                use_scale=self.use_scale)\n",
    "        self.out_linear = keras.layers.Conv1D(self.dims,\n",
    "                                              kernel_size=1,\n",
    "                                              use_bias=False)\n",
    "\n",
    "    def _multi_head_linear(self, inputs, linear):\n",
    "        shape = K.concatenate([\n",
    "            K.shape(inputs)[:-1],  # 除了dims\n",
    "            [self.n_heads, -1]\n",
    "        ])  # [n_heads, q_dims OR v_dims OR k_dims]\n",
    "\n",
    "        projected = K.reshape(linear(inputs), shape)  # 展平\n",
    "        #  (Batch_size, n_Sequence, n_heads, q_dims OR v_dims OR k_dims)\n",
    "        # 交换头部和序列维度\n",
    "        perm = K.permute_dimensions(projected, pattern=[0, 2, 1, 3])\n",
    "        #  (Batch_size, n_heads, n_Sequence, q_dims OR v_dims OR k_dims)\n",
    "\n",
    "        # 由于 tf.keras 只支持 3D 计算\n",
    "        #  (Batch_size * n_heads, n_Sequence, q_dims OR v_dims OR k_dims)\n",
    "        return K.reshape(perm, [shape[0] * self.n_heads, shape[1], -1])\n",
    "\n",
    "    def call(self, inputs, *args, **kwargs):\n",
    "        q = inputs[0]\n",
    "        v = inputs[1]\n",
    "        k = inputs[3] if len(inputs) > 2 else v\n",
    "        shape = K.shape(q)\n",
    "\n",
    "        q_proj = self._multi_head_linear(q, self.q_linear)\n",
    "        v_proj = self._multi_head_linear(v, self.v_linear)\n",
    "        k_proj = self._multi_head_linear(k, self.k_linear)\n",
    "        #  (Batch_size * n_heads, n_Sequence, q_dims OR v_dims OR k_dims)\n",
    "        multi_attended = self.attention([q_proj, v_proj, k_proj])\n",
    "\n",
    "        shape_attended = K.shape(multi_attended)\n",
    "        reshaped_attended = K.reshape(\n",
    "            multi_attended,\n",
    "            # Batch_size, n_heads,   n_Sequence,       q_dims or Query size\n",
    "            [shape[0], self.n_heads, shape_attended[1], shape_attended[2]])\n",
    "        # 将每个头的注意力分数合并在一起\n",
    "        # 交换头部和序列维度\n",
    "        perm = K.permute_dimensions(reshaped_attended, [0, 2, 1, 3])\n",
    "        concat = K.reshape(perm, [shape[0], shape_attended[1], -1])\n",
    "        return self.out_linear(concat)"
   ]
  },
  {
   "cell_type": "code",
   "execution_count": 14,
   "metadata": {
    "scrolled": true
   },
   "outputs": [
    {
     "data": {
      "text/plain": [
       "TensorShape([2, 50, 512])"
      ]
     },
     "execution_count": 14,
     "metadata": {},
     "output_type": "execute_result"
    }
   ],
   "source": [
    "Q = np.random.rand(2, 50, 512)\n",
    "V = np.random.rand(2, 80, 512)\n",
    "multi_attn = MultiHeadAttention(8)  #n_heads=8\n",
    "multi_attn([Q, V]).shape"
   ]
  },
  {
   "cell_type": "markdown",
   "metadata": {},
   "source": [
    "> Apotosome 05/10/22"
   ]
  }
 ],
 "metadata": {
  "hide_input": false,
  "kernelspec": {
   "display_name": "Python 3",
   "language": "python",
   "name": "python3"
  },
  "language_info": {
   "codemirror_mode": {
    "name": "ipython",
    "version": 3
   },
   "file_extension": ".py",
   "mimetype": "text/x-python",
   "name": "python",
   "nbconvert_exporter": "python",
   "pygments_lexer": "ipython3",
   "version": "3.7.4"
  },
  "toc": {
   "base_numbering": 1,
   "nav_menu": {},
   "number_sections": true,
   "sideBar": true,
   "skip_h1_title": false,
   "title_cell": "目录",
   "title_sidebar": "目录",
   "toc_cell": false,
   "toc_position": {},
   "toc_section_display": true,
   "toc_window_display": true
  }
 },
 "nbformat": 4,
 "nbformat_minor": 2
}
