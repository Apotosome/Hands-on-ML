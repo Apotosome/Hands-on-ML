{
 "cells": [
  {
   "cell_type": "markdown",
   "metadata": {},
   "source": [
    "# 投票分类器 Voting Classifiers"
   ]
  },
  {
   "cell_type": "markdown",
   "metadata": {},
   "source": [
    "要创建出一个更好的分类器最简单的办法就是聚合每一个分类器的预测，然后将得票数最多的结果，作为预测类别。这种大多数投票分类器被称为`硬投票分类器`"
   ]
  },
  {
   "cell_type": "markdown",
   "metadata": {},
   "source": [
    "<img src=\"./images/other/7-1.png\" width=\"400\">"
   ]
  },
  {
   "cell_type": "markdown",
   "metadata": {},
   "source": [
    "<img src=\"./images/other/7-2.png\" width=\"400\">"
   ]
  },
  {
   "cell_type": "markdown",
   "metadata": {},
   "source": [
    "这个投票分类器的准确率通常比集成中最好分类器还要高一些。事实上，即使每个分类器都是弱学习器，通过集成，依旧可以实现一个强学习器，只要有足够大数量并且足够多种类的弱学习器即可。"
   ]
  },
  {
   "cell_type": "markdown",
   "metadata": {},
   "source": [
    "    1. 以卫星数据集为例，创建并训练一个硬投票分类器"
   ]
  },
  {
   "cell_type": "code",
   "execution_count": 1,
   "metadata": {},
   "outputs": [],
   "source": [
    "import numpy as np\n",
    "import pandas as pd \n",
    "import matplotlib.pyplot as plt"
   ]
  },
  {
   "cell_type": "code",
   "execution_count": 2,
   "metadata": {},
   "outputs": [],
   "source": [
    "from sklearn.datasets import make_moons\n",
    "from sklearn.model_selection import train_test_split"
   ]
  },
  {
   "cell_type": "code",
   "execution_count": 3,
   "metadata": {},
   "outputs": [],
   "source": [
    "X, y = make_moons(n_samples=500, noise=0.3, random_state=42)\n",
    "X_train, X_test, y_train, y_test = train_test_split(X, y, random_state=41)"
   ]
  },
  {
   "cell_type": "code",
   "execution_count": 4,
   "metadata": {},
   "outputs": [
    {
     "data": {
      "text/plain": [
       "((375, 2), (125, 2))"
      ]
     },
     "execution_count": 4,
     "metadata": {},
     "output_type": "execute_result"
    }
   ],
   "source": [
    "X_train.shape, X_test.shape"
   ]
  },
  {
   "cell_type": "markdown",
   "metadata": {},
   "source": [
    "- `Scikit-Learn`的`VotingClassifier()`创建投票分类器"
   ]
  },
  {
   "cell_type": "code",
   "execution_count": 5,
   "metadata": {},
   "outputs": [],
   "source": [
    "from sklearn.ensemble import VotingClassifier"
   ]
  },
  {
   "cell_type": "code",
   "execution_count": 6,
   "metadata": {},
   "outputs": [],
   "source": [
    "from sklearn.ensemble import RandomForestClassifier\n",
    "from sklearn.linear_model import LogisticRegression\n",
    "from sklearn.svm import SVC"
   ]
  },
  {
   "cell_type": "code",
   "execution_count": 7,
   "metadata": {},
   "outputs": [],
   "source": [
    "# 弱分类器\n",
    "rf_model = RandomForestClassifier(n_estimators=100, random_state=42)\n",
    "log_model = LogisticRegression(solver='lbfgs', random_state=42)\n",
    "svm_model = SVC(gamma=\"scale\", random_state=42)"
   ]
  },
  {
   "cell_type": "code",
   "execution_count": 8,
   "metadata": {},
   "outputs": [],
   "source": [
    "# 硬投票分类器\n",
    "hard_voting_model = VotingClassifier(\n",
    "                estimators=[('RandomForest', rf_model), ('LogisticRegression', log_model), ('SVC', svm_model)],\n",
    "                voting='hard'\n",
    "             )"
   ]
  },
  {
   "cell_type": "code",
   "execution_count": 9,
   "metadata": {},
   "outputs": [
    {
     "name": "stdout",
     "output_type": "stream",
     "text": [
      "RandomForestClassifier 0.904\n",
      "LogisticRegression 0.848\n",
      "SVC 0.928\n",
      "VotingClassifier 0.92\n"
     ]
    }
   ],
   "source": [
    "# 查看测试集上每个分类器的精度\n",
    "from sklearn.metrics import accuracy_score\n",
    "\n",
    "models = [rf_model, log_model, svm_model, hard_voting_model]\n",
    "for model in models:\n",
    "    model.fit(X_train, y_train)\n",
    "    y_pred = model.predict(X_test)\n",
    "    score = accuracy_score(y_true=y_test, y_pred=y_pred)\n",
    "    print(model.__class__.__name__, score)"
   ]
  },
  {
   "cell_type": "markdown",
   "metadata": {},
   "source": [
    "如果所有分类器能够估算出类别的概率(即有`predict_proba()`方法)，那么你可以将概率在所有单个分类器上平均,然后让`Scikit-Learn`计算平均概率最高的类别进行预测，这被称为`软投票法`。通常来说，它比`硬投票法`表现更优，因为他给予了那些高度自信投票更高的权重。"
   ]
  },
  {
   "cell_type": "markdown",
   "metadata": {},
   "source": [
    "    2. 以卫星数据集为例，创建并训练一个软投票分类器"
   ]
  },
  {
   "cell_type": "code",
   "execution_count": 10,
   "metadata": {},
   "outputs": [],
   "source": [
    "# 弱分类器\n",
    "rf_model = RandomForestClassifier(n_estimators=100, random_state=42)\n",
    "log_model = LogisticRegression(solver='lbfgs', random_state=42)\n",
    "svm_model = SVC(gamma=\"scale\", random_state=42, probability=True) # 会添加predict_proba(), predict_log_proba()两个方法"
   ]
  },
  {
   "cell_type": "code",
   "execution_count": 11,
   "metadata": {},
   "outputs": [],
   "source": [
    "# 软投票分类器\n",
    "soft_voting_model = VotingClassifier(\n",
    "                estimators=[('RandomForest', rf_model), ('LogisticRegression', log_model), ('SVC', svm_model)],\n",
    "                voting='soft'\n",
    "            )"
   ]
  },
  {
   "cell_type": "code",
   "execution_count": 12,
   "metadata": {},
   "outputs": [
    {
     "name": "stdout",
     "output_type": "stream",
     "text": [
      "RandomForestClassifier 0.904\n",
      "LogisticRegression 0.848\n",
      "SVC 0.928\n",
      "VotingClassifier 0.904\n"
     ]
    }
   ],
   "source": [
    "# 查看测试集上每个分类器的精度\n",
    "models = [rf_model, log_model, svm_model, soft_voting_model]\n",
    "for model in models:\n",
    "    model.fit(X_train, y_train)\n",
    "    y_pred = model.predict(X_test)\n",
    "    score = accuracy_score(y_true=y_test, y_pred=y_pred)\n",
    "    print(model.__class__.__name__, score)"
   ]
  },
  {
   "cell_type": "markdown",
   "metadata": {},
   "source": [
    "# Bagging 和 Pasting"
   ]
  },
  {
   "cell_type": "markdown",
   "metadata": {},
   "source": [
    "获取不同种类分类器的方法除了使用不同的训练算法，另一种方法是每一个预测其使用相同的算法，但是在不同的训练集随机子集上进行训练，如果采样时将样本放回，这种方法叫`Bagging`,如采用时样本不放回这种方法叫做`Pasting`."
   ]
  },
  {
   "cell_type": "markdown",
   "metadata": {},
   "source": [
    "<img src=\"./images/other/7-3.png\" width=\"400\">"
   ]
  },
  {
   "cell_type": "markdown",
   "metadata": {},
   "source": [
    "一旦预测器训练完成，集成就可以通过简单的聚合所有预测器的预测来对新实例作出预测。每个预测器单独的偏差都高于原始训练集上训练的偏差，但通过聚合同时降低了偏差和方差。总体来说，最终结果是与 直接在原始训练集上训练的单个去预测器 相比集成的偏差相近，但方差更低。"
   ]
  },
  {
   "cell_type": "markdown",
   "metadata": {},
   "source": [
    "## Scikit-Learn 中的 Bagging 和 Pasting  "
   ]
  },
  {
   "cell_type": "markdown",
   "metadata": {},
   "source": [
    "    训练一个包括500个决策树的分类器的集成，每次从训练集中随机采样100个训练实例进行训练，然后放回。"
   ]
  },
  {
   "cell_type": "markdown",
   "metadata": {},
   "source": [
    "- `Scikit-Learn`的`BaggingClassifier()`进行Bagging 和 Pasting"
   ]
  },
  {
   "cell_type": "code",
   "execution_count": 13,
   "metadata": {},
   "outputs": [],
   "source": [
    "from sklearn.ensemble import BaggingClassifier\n",
    "from sklearn.tree import DecisionTreeClassifier"
   ]
  },
  {
   "cell_type": "code",
   "execution_count": 14,
   "metadata": {},
   "outputs": [
    {
     "data": {
      "text/plain": [
       "BaggingClassifier(base_estimator=DecisionTreeClassifier(class_weight=None,\n",
       "                                                        criterion='gini',\n",
       "                                                        max_depth=None,\n",
       "                                                        max_features=None,\n",
       "                                                        max_leaf_nodes=None,\n",
       "                                                        min_impurity_decrease=0.0,\n",
       "                                                        min_impurity_split=None,\n",
       "                                                        min_samples_leaf=1,\n",
       "                                                        min_samples_split=2,\n",
       "                                                        min_weight_fraction_leaf=0.0,\n",
       "                                                        presort=False,\n",
       "                                                        random_state=42,\n",
       "                                                        splitter='best'),\n",
       "                  bootstrap=True, bootstrap_features=False, max_features=1.0,\n",
       "                  max_samples=100, n_estimators=500, n_jobs=-1, oob_score=False,\n",
       "                  random_state=None, verbose=0, warm_start=False)"
      ]
     },
     "execution_count": 14,
     "metadata": {},
     "output_type": "execute_result"
    }
   ],
   "source": [
    "bagging_model = BaggingClassifier(\n",
    "                    base_estimator=DecisionTreeClassifier(random_state=42),\n",
    "                    n_estimators=500,\n",
    "                    max_samples=100,\n",
    "                    bootstrap=True,    # 采用时样本放回 如果不放回就是pasting\n",
    "                    n_jobs=-1\n",
    "                )\n",
    "bagging_model.fit(X_train, y_train)"
   ]
  },
  {
   "cell_type": "code",
   "execution_count": 15,
   "metadata": {},
   "outputs": [
    {
     "data": {
      "text/plain": [
       "0.92"
      ]
     },
     "execution_count": 15,
     "metadata": {},
     "output_type": "execute_result"
    }
   ],
   "source": [
    "y_pred = bagging_model.predict(X_test)\n",
    "accuracy_score(y_true=y_test, y_pred=y_pred)"
   ]
  },
  {
   "cell_type": "code",
   "execution_count": 16,
   "metadata": {},
   "outputs": [
    {
     "data": {
      "text/plain": [
       "0.864"
      ]
     },
     "execution_count": 16,
     "metadata": {},
     "output_type": "execute_result"
    }
   ],
   "source": [
    "tree_model = DecisionTreeClassifier(random_state=42)\n",
    "tree_model.fit(X_train, y_train)\n",
    "y_pred = tree_model.predict(X_test)\n",
    "accuracy_score(y_true=y_test, y_pred=y_pred)"
   ]
  },
  {
   "cell_type": "markdown",
   "metadata": {},
   "source": [
    "如果基本分类器能够估算出类别的概率(即有`predict_proba()`方法)，则`BaggingClassifier()`自动执行`软投票法`"
   ]
  },
  {
   "cell_type": "markdown",
   "metadata": {},
   "source": [
    "- 比较决策边界"
   ]
  },
  {
   "cell_type": "code",
   "execution_count": 17,
   "metadata": {},
   "outputs": [],
   "source": [
    "from matplotlib.colors import ListedColormap  # 用户自定义颜色库\n",
    "\n",
    "def plot_decision_boundary(model, X, y, axes):\n",
    "    x1s = np.linspace(axes[0], axes[1], 100)\n",
    "    x2s = np.linspace(axes[2], axes[3], 100) \n",
    "    x1, x2 = np.meshgrid(x1s, x2s)          # 生成网格点坐标矩阵   (100, 100)\n",
    "    \n",
    "    X_new = np.c_[x1.ravel(), x2.ravel()]   # (10000, 2)\n",
    "    y_pred = model.predict(X_new).reshape(x1.shape)  # (100, 100)\n",
    "    \n",
    "    custome_cmap = ListedColormap(['#fafab0','#9898ff','#a0faa0'])\n",
    "\n",
    "    # 绘制等高线图\n",
    "    plt.contourf(x1, x2, y_pred, cmap=custome_cmap)\n",
    "    \n",
    "    # 数据\n",
    "    plt.plot(X[:, 0][y==0], X[:, 1][y==0], \"yo\", alpha=0.5)\n",
    "    plt.plot(X[:, 0][y==1], X[:, 1][y==1], \"bs\", alpha=0.5)\n",
    "    plt.axis(axes)"
   ]
  },
  {
   "cell_type": "code",
   "execution_count": 18,
   "metadata": {},
   "outputs": [],
   "source": [
    "from matplotlib import font_manager\n",
    "my_font = font_manager.FontProperties(fname='./Fonts/SourceHanSerifSC-Medium.otf', size=12)"
   ]
  },
  {
   "cell_type": "code",
   "execution_count": 19,
   "metadata": {},
   "outputs": [
    {
     "data": {
      "image/png": "[encoded data removed]",
      "text/plain": [
       "<Figure size 720x288 with 2 Axes>"
      ]
     },
     "metadata": {
      "needs_background": "light"
     },
     "output_type": "display_data"
    }
   ],
   "source": [
    "fix, axes = plt.subplots(ncols=2, figsize=(10,4), sharey=True)\n",
    "ax = [-1.5, 2.4, -1, 1.5]\n",
    "\n",
    "plt.sca(axes[0])\n",
    "plot_decision_boundary(tree_model, X, y, ax)\n",
    "plt.title(\"决策树\", font_properties=my_font)\n",
    "\n",
    "plt.sca(axes[1])\n",
    "plot_decision_boundary(bagging_model, X, y, ax)\n",
    "plt.title(\"使用bagging的决策树\", font_properties=my_font)\n",
    "\n",
    "plt.show()"
   ]
  },
  {
   "cell_type": "markdown",
   "metadata": {},
   "source": [
    "由此看出，集成预测的泛化效果可能比单独的决策树要好一些。两者偏差相近，但集成的方差更小:两边训练集的错误数量差不多，但集成的决策边界更规则。"
   ]
  },
  {
   "cell_type": "markdown",
   "metadata": {},
   "source": [
    "## 包外评估 Out-of-Bag Evaluation"
   ]
  },
  {
   "cell_type": "markdown",
   "metadata": {},
   "source": [
    "对于任意给定的预测器,使用`bagging`,有些实例可能会被采样多次,而有些实例则可能根本不被采样。`BaggingClassifier`默认采样$m$个训练实例,然后放回样本(`bootstrap=true`),$m$是训练集的大小.\n",
    "\n",
    "这意味着对每个预测器来说,平均只对65%的训练实例进行采样。剩余37%未被采样的训练实例称为`包外oob实例`。注意, 对所有预测器来说,这是不一样的37%.\n",
    "\n",
    "由于预测器在训练过程中从未看到`oob实例`,因此可以在这些实例上进行评估,而无须单独的验证集。你可以通过平均每个预测器的`包外评估`来评估整体。"
   ]
  },
  {
   "cell_type": "markdown",
   "metadata": {},
   "source": [
    "- 在`Scikit-learn`中,创建 `BaggingClassifier`时,设置`oob_score=True`就可以请求在训练结束后自动进行`包外评估`"
   ]
  },
  {
   "cell_type": "code",
   "execution_count": 20,
   "metadata": {},
   "outputs": [
    {
     "data": {
      "text/plain": [
       "0.9173333333333333"
      ]
     },
     "execution_count": 20,
     "metadata": {},
     "output_type": "execute_result"
    }
   ],
   "source": [
    "bagging_model = BaggingClassifier(\n",
    "                    base_estimator=DecisionTreeClassifier(),\n",
    "                    n_estimators=500,\n",
    "                    max_samples=100,\n",
    "                    bootstrap=True,\n",
    "                    random_state=42,\n",
    "                    oob_score=True\n",
    "                )\n",
    "bagging_model.fit(X_train, y_train)\n",
    "bagging_model.oob_score_"
   ]
  },
  {
   "cell_type": "code",
   "execution_count": 21,
   "metadata": {},
   "outputs": [
    {
     "data": {
      "text/plain": [
       "0.92"
      ]
     },
     "execution_count": 21,
     "metadata": {},
     "output_type": "execute_result"
    }
   ],
   "source": [
    "y_pred = bagging_model.predict(X_test)\n",
    "accuracy_score(y_test, y_pred)"
   ]
  },
  {
   "cell_type": "markdown",
   "metadata": {},
   "source": [
    "可知`包外评估结果`与测试集上的所获得的准确率相接近"
   ]
  },
  {
   "cell_type": "code",
   "execution_count": 22,
   "metadata": {},
   "outputs": [
    {
     "data": {
      "text/plain": [
       "array([0.05929919, 0.94070081])"
      ]
     },
     "execution_count": 22,
     "metadata": {},
     "output_type": "execute_result"
    }
   ],
   "source": [
    "bagging_model.oob_decision_function_[0]"
   ]
  },
  {
   "cell_type": "markdown",
   "metadata": {},
   "source": [
    "可以通过`oob_decision_function_`获取包外决策函数，如第一个训练实例有5.9%的概率是正类，而有94.1%的概率为负类."
   ]
  },
  {
   "cell_type": "markdown",
   "metadata": {},
   "source": [
    "# 随机补丁和随机子空间 Random Patches and Random Subspaces"
   ]
  },
  {
   "cell_type": "markdown",
   "metadata": {},
   "source": [
    "`BaggingClassifier`类也支持对特征进行采样。采样由两个超参数控制:`max_features`和 `bootstrap_features`。它们的工作方式与`max_samples`和 `bootstrap` 相同,但用于特征采样而不是实例采样。因此,每个预测器将用**输入特征的随机子集**进行训练.\n",
    "\n",
    "这对于处理高维输入(例如图像)特别有用。\n",
    "1. 对训练实例和特征都进行抽样,这称为**随机补丁法**。\n",
    "2. 保留所有训练实例(即 `bootstrap= False`并且 `max_samples=1`)但是对特征进行抽样(即 `bootstrap_features=True`并且/或 `max_features<1` 这被称为**随机子空间法**。\n",
    "\n",
    "对特征抽样给预测器带来更大的多样性,所以以略高一点的偏差换取了更低的方差"
   ]
  },
  {
   "cell_type": "markdown",
   "metadata": {},
   "source": [
    "# 随机森林 Random Forests"
   ]
  },
  {
   "cell_type": "markdown",
   "metadata": {},
   "source": [
    "随机森林是决策树的集成,训练方法:\n",
    "1. 构建一个`BaggingClassifier`然后将其传输到 `DecisionTreeClassifier`来设置,训练集大小设置`max_samples=1.0`\n",
    "2. 使用 `RandomForestClassifier`类,这种方法更方便,对决策树更优化。"
   ]
  },
  {
   "cell_type": "markdown",
   "metadata": {},
   "source": [
    "    训练了一个拥有500棵树的随机森林分类器(每棵树限制为最多16个叶节点)"
   ]
  },
  {
   "cell_type": "code",
   "execution_count": 23,
   "metadata": {},
   "outputs": [
    {
     "data": {
      "text/plain": [
       "0.904"
      ]
     },
     "execution_count": 23,
     "metadata": {},
     "output_type": "execute_result"
    }
   ],
   "source": [
    "# 使用方法1:\n",
    "bagging_model = BaggingClassifier(\n",
    "                    base_estimator=DecisionTreeClassifier(max_leaf_nodes=16, splitter=\"random\"),\n",
    "                    n_estimators=500,\n",
    "                    max_samples=1.0,\n",
    "                    random_state=42,\n",
    "                    bootstrap=True\n",
    "                )\n",
    "bagging_model.fit(X_train, y_train)\n",
    "\n",
    "y_pred_bagging = rf_model.predict(X_test)\n",
    "accuracy_score(y_test, y_pred_bagging)"
   ]
  },
  {
   "cell_type": "markdown",
   "metadata": {},
   "source": [
    "- `Scikit-Learn`的`RandomForestClassifier()`类创建随机森林分类器"
   ]
  },
  {
   "cell_type": "code",
   "execution_count": 24,
   "metadata": {},
   "outputs": [],
   "source": [
    "from sklearn.ensemble import RandomForestClassifier"
   ]
  },
  {
   "cell_type": "code",
   "execution_count": 25,
   "metadata": {},
   "outputs": [
    {
     "data": {
      "text/plain": [
       "0.92"
      ]
     },
     "execution_count": 25,
     "metadata": {},
     "output_type": "execute_result"
    }
   ],
   "source": [
    "# 使用方法2:\n",
    "rf_model = RandomForestClassifier(\n",
    "                n_estimators=500,\n",
    "                max_leaf_nodes=16,\n",
    "                random_state=42\n",
    "            )\n",
    "rf_model.fit(X_train, y_train)\n",
    "\n",
    "y_pred_rf = rf_model.predict(X_test)\n",
    "accuracy_score(y_test, y_pred_rf)"
   ]
  },
  {
   "cell_type": "markdown",
   "metadata": {},
   "source": [
    "具体来说，`RandomForestClassifier`对比`DecisionTreeClassifier`和`BaggingClassifier`的超参数有以下的区别:\n",
    "1. 没有`splitter`:特征选择随机选项(强制为`random`)\n",
    "2. 没有`presort`:预排序(强制为`False`)\n",
    "3. 没有`max_samples`(强制为`1.0`)\n",
    "4. 没有`base_estimator`(给定为`DecisionTreeClassifier()`)"
   ]
  },
  {
   "cell_type": "markdown",
   "metadata": {},
   "source": [
    "随机森林在树的生长上引入了更多的随机性:分裂节点时不再是搜素最好的特征,而是在一个随机生成的特征子集里搜索最好的特征。这导致决策树具有更大的多样性,(再一次)用更高的偏差换取更低的方差,总之,还是产生了一个整体性能更优的模型。"
   ]
  },
  {
   "cell_type": "markdown",
   "metadata": {},
   "source": [
    "## 极端随机树 Extra-Trees"
   ]
  },
  {
   "cell_type": "markdown",
   "metadata": {},
   "source": [
    "随机森林里单棵树的生长过程中,每个节点在分裂时仅考虑到了一个随机子集所包含的特征,如果我们对每个特征使用`随机阈值`,而不是搜索得出的最佳值阈值,则可能让决策树生长得更加随机.\n",
    "\n",
    "这种极端随机的决策树组成的森林称为`极端随机树集成 Ertra-Tree`。同样，它也是以更高的偏差换取了更低的方差。`极端随机树`训练起来比常规随机森林要快很多,因为在每个节点上找到每个特征的最佳阈值是决策树生长中最耗时的任务之一.\n"
   ]
  },
  {
   "cell_type": "markdown",
   "metadata": {},
   "source": [
    "- `Scikit-Learn`的`ExtraTreesClassifier()`类创建极端随机树分类器"
   ]
  },
  {
   "cell_type": "markdown",
   "metadata": {},
   "source": [
    "通常来说,很难预先知道一个 `RandomForestClassifier`类是否会比一个`ExtraTreesClassifier()`类更好或是更差。唯一的方法是两种都尝试 追,然后使用`交叉验证`(还需要使用网格搜素调整超参数)进行比较."
   ]
  },
  {
   "cell_type": "markdown",
   "metadata": {},
   "source": [
    "## 特征重要性 Feature Importance"
   ]
  },
  {
   "cell_type": "markdown",
   "metadata": {},
   "source": [
    "随机森林的另一个好特性是它们使测量每个特征的相对重要性变得容易。`Scikit-Learn`通过查看使用该特征的树节点平均(在森林中的所有树上)减少不纯度的程度来衡量该特征的重要性。\n",
    "\n",
    "\n",
    "`Scikit-Learn`会在训练后为每个特征自动计算该分数,然后对结果进行缩放以使所有重要性的总和等于1。可以使用 `feature_importances_`变量来访问结果。\n"
   ]
  },
  {
   "cell_type": "markdown",
   "metadata": {},
   "source": [
    "    1. 以鸢尾花数据集为例"
   ]
  },
  {
   "cell_type": "code",
   "execution_count": 26,
   "metadata": {},
   "outputs": [
    {
     "data": {
      "text/plain": [
       "array([0.11249225, 0.02311929, 0.44103046, 0.423358  ])"
      ]
     },
     "execution_count": 26,
     "metadata": {},
     "output_type": "execute_result"
    }
   ],
   "source": [
    "from sklearn.datasets import load_iris\n",
    "\n",
    "iris = load_iris()\n",
    "iris_X = iris['data']\n",
    "iris_y = iris['target']\n",
    "\n",
    "rf_model = RandomForestClassifier(n_estimators=500, random_state=42)\n",
    "rf_model.fit(iris_X, iris_y)\n",
    "\n",
    "#特征重要性\n",
    "scores = rf_model.feature_importances_\n",
    "scores"
   ]
  },
  {
   "cell_type": "code",
   "execution_count": 27,
   "metadata": {},
   "outputs": [
    {
     "name": "stdout",
     "output_type": "stream",
     "text": [
      "sepal length (cm) 0.11249225099876375\n",
      "sepal width (cm) 0.02311928828251033\n",
      "petal length (cm) 0.4410304643639577\n",
      "petal width (cm) 0.4233579963547682\n"
     ]
    }
   ],
   "source": [
    "for feature, score in zip(iris['feature_names'], scores):\n",
    "    print(feature,score)"
   ]
  },
  {
   "cell_type": "markdown",
   "metadata": {},
   "source": [
    "由此可见最重要的特征是花瓣的长度(44.1%)和宽度(42.3%)和花萼的长度(11.2%)和宽度(2.3%)则不是那么重要."
   ]
  },
  {
   "cell_type": "markdown",
   "metadata": {},
   "source": [
    "    2. 以MNIST数据集为例"
   ]
  },
  {
   "cell_type": "code",
   "execution_count": 28,
   "metadata": {},
   "outputs": [],
   "source": [
    "from sklearn.datasets import fetch_openml\n",
    "\n",
    "mnist = fetch_openml('mnist_784', version=1, cache=True)\n",
    "X_mnist = mnist['data'].astype(np.float32)\n",
    "y_mnist = mnist['target'].astype(np.uint8)"
   ]
  },
  {
   "cell_type": "code",
   "execution_count": 29,
   "metadata": {},
   "outputs": [
    {
     "data": {
      "text/plain": [
       "RandomForestClassifier(bootstrap=True, class_weight=None, criterion='gini',\n",
       "                       max_depth=None, max_features='auto', max_leaf_nodes=None,\n",
       "                       min_impurity_decrease=0.0, min_impurity_split=None,\n",
       "                       min_samples_leaf=1, min_samples_split=2,\n",
       "                       min_weight_fraction_leaf=0.0, n_estimators=100,\n",
       "                       n_jobs=None, oob_score=False, random_state=42, verbose=0,\n",
       "                       warm_start=False)"
      ]
     },
     "execution_count": 29,
     "metadata": {},
     "output_type": "execute_result"
    }
   ],
   "source": [
    "rf_model = RandomForestClassifier(n_estimators=100, random_state=42)\n",
    "rf_model.fit(X_mnist, y_mnist)"
   ]
  },
  {
   "cell_type": "code",
   "execution_count": 30,
   "metadata": {},
   "outputs": [],
   "source": [
    "import matplotlib as mpl\n",
    "\n",
    "def plot_digit(data):\n",
    "    image = data.reshape(28,28)\n",
    "    plt.matshow(image, cmap=mpl.cm.hot)\n",
    "    plt.axis(\"off\")"
   ]
  },
  {
   "cell_type": "code",
   "execution_count": 31,
   "metadata": {
    "scrolled": true
   },
   "outputs": [
    {
     "data": {
      "image/png": "[encoded data removed]",
      "text/plain": [
       "<Figure size 288x288 with 2 Axes>"
      ]
     },
     "metadata": {
      "needs_background": "light"
     },
     "output_type": "display_data"
    }
   ],
   "source": [
    "# 绘制出根据随机森林分类器的MNIST像素的重要性\n",
    "plot_digit(rf_model.feature_importances_)\n",
    "\n",
    "\n",
    "cbar = plt.colorbar(ticks=[rf_model.feature_importances_.min(), rf_model.feature_importances_.max()])\n",
    "cbar.ax.set_yticklabels(['不重要','非常重要'], fontproperties=my_font)\n",
    "plt.show()"
   ]
  },
  {
   "cell_type": "markdown",
   "metadata": {},
   "source": [
    "随机森林非常便于你快速了解，哪些特征是真正重要的，特别是在执行特征选择时."
   ]
  },
  {
   "cell_type": "markdown",
   "metadata": {},
   "source": [
    "# 提升法 Boosting"
   ]
  },
  {
   "cell_type": "markdown",
   "metadata": {},
   "source": [
    "## AdaBoost"
   ]
  },
  {
   "cell_type": "markdown",
   "metadata": {},
   "source": [
    "`AdaBoost`是一种具有自适应性质的`Boosting`集成学习算法.自适应性主要表现在自动提升被错误预测样本的权重,自动减少被正确预测样本的权重,使得弱学习器训练过程能够根据模型预测性能自动进行调整."
   ]
  },
  {
   "cell_type": "markdown",
   "metadata": {},
   "source": [
    "<img src=\"./images/other/7-4.png\" width=\"400\">"
   ]
  },
  {
   "cell_type": "markdown",
   "metadata": {},
   "source": [
    "----\n",
    "**AdaBoost算法：**\n",
    "\n",
    "① 令 $i=1$ 并设定弱学习器的数目 $m$ 。使用均匀分布初始化训练样本集的权重分布, 令 $n$ 维向量 $w^{i}$ 表示第 $i$ 次需更新的样本权重, 则有: $$w^{1}=\\left(w_{i 1}, w_{i 2}, \\cdots, w_{i n}\\right)^{T}=\\left(\\frac{1}{n}, \\frac{1}{n}, \\cdots, \\frac{1}{n}\\right)^{T}$$\n",
    "\n",
    "②使用权重分布为 $w^{i}$ 的训练样本集 $D_{i}$ 学习得到第 $i$ 个弱学习器 $f_{i}$\n",
    "\n",
    "③计算 $f_{i}$ 在训练样本集 $D_{i}$ 上的分类错误率 $e_{i}$ :\n",
    "$$\n",
    "e_{i}=\\sum_{k=1}^{n} w_{i k} I\\left(f_{i}\\left(X_{k}\\right) \\neq y_{k}\\right)\n",
    "$$\n",
    "\n",
    "④ 确定弱学习器 $f_{i}$ 的组合权重 $\\alpha_{i}$ 由于弱学习器 $f_{i}$ 的\n",
    "     权重取值应与其分类性能 相关, 对于分类错误率 $e_{i}$ 越小的 $f_{i}$, \n",
    "     则其权重 $\\alpha_{i}$ 应该越大，故有 \n",
    "$$\\alpha_{i}=\\lambda \\ln \\frac{1-e_{i}}{e_{i}}$$\n",
    "\n",
    "⑤ 依据弱学习器 $f_{i}$ 对训练样本集 $D_{i}$ 的分类错误率 $e_{i}$ 更新样本权重, 更新公式为 $$w_{i+1, j}=\\frac{w_{i j} \\exp \\left(-\\alpha_{i} y_{k} f_{i}\\left(X_{k}\\right)\\right)}{z_{i}}$$其中归一化因子: $$Z_{i}=\\sum_{k=1}^{n} w_{i j} \\exp \\left(-\\alpha_{i} y_{k} f_{i}\\left(X_{k}\\right)\\right)$$ 保证更新后权重向量为概率分布\n",
    "\n",
    "⑥ 若 $i<m$, 则令 $i=i+1$ 并返回步骤（2）, 否则执行步骤 (7)\n",
    "\n",
    "⑦ 对于 $m$ 个弱分类器 $f_{1}, f_{2}, \\cdots, f_{m}$, 分别将每个 $f_{i}$ 按权重 $\\alpha_{i}$ 进行组合: $$G=\\operatorname{sign}\\left(\\sum_{i=1}^{m} \\alpha_{i} f_{i}(X)\\right)$$得到并输出所求集成模型 $G$, 算法结束"
   ]
  },
  {
   "cell_type": "markdown",
   "metadata": {},
   "source": [
    "\n",
    "不改变训练数据而不断地改变训练数据权值的分布，使得训练数据在基学习器的学习中物体起不同的作用，就是`AdaBoost`的一个特点。\n",
    "\n",
    "---"
   ]
  },
  {
   "cell_type": "markdown",
   "metadata": {},
   "source": [
    "- `Scikit- Learn`使用的其实是`AdaBoost`的一个多分类版本,叫作`SAMME`(基于多类指数损失函数的逐步添加模型),当只有两类时,`SAME`即等同于`Adaboost`.\n",
    "\n",
    "- 此外,如果预测器可以估算类概率(即具有`predict_proba()`方法), `Scikit- Learn`会使用`SAMME`的变体,称为 `SAMME.R`(R代表“Real”),它依赖的是类概率而不是类预测,通常表现更好。"
   ]
  },
  {
   "cell_type": "markdown",
   "metadata": {},
   "source": [
    "    训练了一个 Adaboost分类器:基于200个单层决策树(max_depth=1的决策树,默认使用的基础估算器)"
   ]
  },
  {
   "cell_type": "markdown",
   "metadata": {},
   "source": [
    "- `Scikit-Learn`的`AdaBoostClassifier()`类创建AdaBoost分类器"
   ]
  },
  {
   "cell_type": "code",
   "execution_count": 32,
   "metadata": {},
   "outputs": [],
   "source": [
    "from sklearn.ensemble import AdaBoostClassifier"
   ]
  },
  {
   "cell_type": "code",
   "execution_count": 33,
   "metadata": {},
   "outputs": [
    {
     "data": {
      "text/plain": [
       "AdaBoostClassifier(algorithm='SAMME.R',\n",
       "                   base_estimator=DecisionTreeClassifier(class_weight=None,\n",
       "                                                         criterion='gini',\n",
       "                                                         max_depth=1,\n",
       "                                                         max_features=None,\n",
       "                                                         max_leaf_nodes=None,\n",
       "                                                         min_impurity_decrease=0.0,\n",
       "                                                         min_impurity_split=None,\n",
       "                                                         min_samples_leaf=1,\n",
       "                                                         min_samples_split=2,\n",
       "                                                         min_weight_fraction_leaf=0.0,\n",
       "                                                         presort=False,\n",
       "                                                         random_state=None,\n",
       "                                                         splitter='best'),\n",
       "                   learning_rate=0.5, n_estimators=200, random_state=42)"
      ]
     },
     "execution_count": 33,
     "metadata": {},
     "output_type": "execute_result"
    }
   ],
   "source": [
    "ab_model = AdaBoostClassifier(\n",
    "            base_estimator=DecisionTreeClassifier(max_depth=1),\n",
    "            n_estimators=200,\n",
    "            algorithm='SAMME.R',\n",
    "            learning_rate=0.5,    # 𝜆\n",
    "            random_state=42\n",
    "        )\n",
    "ab_model.fit(X_train, y_train)"
   ]
  },
  {
   "cell_type": "code",
   "execution_count": 34,
   "metadata": {},
   "outputs": [
    {
     "data": {
      "image/png": "[encoded data removed]",
      "text/plain": [
       "<Figure size 432x288 with 1 Axes>"
      ]
     },
     "metadata": {
      "needs_background": "light"
     },
     "output_type": "display_data"
    }
   ],
   "source": [
    "ax = [-1.5, 2.45, -1, 1.5]\n",
    "plot_decision_boundary(ab_model, X, y, ax)"
   ]
  },
  {
   "cell_type": "markdown",
   "metadata": {},
   "source": [
    "如果你的`AdaBoost`集成过度拟合训练集，可以试试减少估算器数量或者提高基础估算器的正则化程度"
   ]
  },
  {
   "cell_type": "markdown",
   "metadata": {},
   "source": [
    "## 梯度提升 Gradient Boosting"
   ]
  },
  {
   "cell_type": "markdown",
   "metadata": {},
   "source": [
    "与`AdaBoost`不同的是，`梯度提升`是让新的预测器针对前一个预测器的残差进行拟合."
   ]
  },
  {
   "cell_type": "markdown",
   "metadata": {},
   "source": [
    "以一个简单的回归为例，使用决策树作为基础预测期，这被称为`梯度树提升`或者是`梯度提升回归树GBRT`."
   ]
  },
  {
   "cell_type": "markdown",
   "metadata": {},
   "source": [
    "1. 生成一个带噪音的二次训练集"
   ]
  },
  {
   "cell_type": "code",
   "execution_count": 35,
   "metadata": {},
   "outputs": [],
   "source": [
    "np.random.seed(42)\n",
    "X = np.array(np.random.rand(100,1) - 0.5)\n",
    "y = np.array(3*(X[:, 0]**2) + 0.05 * np.random.randn(100))"
   ]
  },
  {
   "cell_type": "code",
   "execution_count": 36,
   "metadata": {},
   "outputs": [
    {
     "data": {
      "image/png": "[encoded data removed]",
      "text/plain": [
       "<Figure size 432x288 with 1 Axes>"
      ]
     },
     "metadata": {
      "needs_background": "light"
     },
     "output_type": "display_data"
    }
   ],
   "source": [
    "plt.plot(X, y, 'r.')\n",
    "plt.show()"
   ]
  },
  {
   "cell_type": "markdown",
   "metadata": {},
   "source": [
    "2. 首先拟合一个决策树模型"
   ]
  },
  {
   "cell_type": "code",
   "execution_count": 37,
   "metadata": {},
   "outputs": [
    {
     "data": {
      "text/plain": [
       "DecisionTreeRegressor(criterion='mse', max_depth=2, max_features=None,\n",
       "                      max_leaf_nodes=None, min_impurity_decrease=0.0,\n",
       "                      min_impurity_split=None, min_samples_leaf=1,\n",
       "                      min_samples_split=2, min_weight_fraction_leaf=0.0,\n",
       "                      presort=False, random_state=42, splitter='best')"
      ]
     },
     "execution_count": 37,
     "metadata": {},
     "output_type": "execute_result"
    }
   ],
   "source": [
    "from sklearn.tree import DecisionTreeRegressor\n",
    "\n",
    "tree_model_1 = DecisionTreeRegressor(max_depth=2, random_state=42)\n",
    "tree_model_1.fit(X, y)"
   ]
  },
  {
   "cell_type": "markdown",
   "metadata": {},
   "source": [
    "3. 针对第一个预测器的残差 训练第二个决策树模型"
   ]
  },
  {
   "cell_type": "code",
   "execution_count": 38,
   "metadata": {},
   "outputs": [
    {
     "data": {
      "text/plain": [
       "DecisionTreeRegressor(criterion='mse', max_depth=2, max_features=None,\n",
       "                      max_leaf_nodes=None, min_impurity_decrease=0.0,\n",
       "                      min_impurity_split=None, min_samples_leaf=1,\n",
       "                      min_samples_split=2, min_weight_fraction_leaf=0.0,\n",
       "                      presort=False, random_state=42, splitter='best')"
      ]
     },
     "execution_count": 38,
     "metadata": {},
     "output_type": "execute_result"
    }
   ],
   "source": [
    "y2 = y - tree_model_1.predict(X)  # 残差\n",
    "\n",
    "tree_model_2 = DecisionTreeRegressor(max_depth=2, random_state=42)\n",
    "tree_model_2.fit(X, y2)"
   ]
  },
  {
   "cell_type": "markdown",
   "metadata": {},
   "source": [
    "3. 针对第二个预测器的残差 训练第三个决策树模型"
   ]
  },
  {
   "cell_type": "code",
   "execution_count": 39,
   "metadata": {},
   "outputs": [
    {
     "data": {
      "text/plain": [
       "DecisionTreeRegressor(criterion='mse', max_depth=2, max_features=None,\n",
       "                      max_leaf_nodes=None, min_impurity_decrease=0.0,\n",
       "                      min_impurity_split=None, min_samples_leaf=1,\n",
       "                      min_samples_split=2, min_weight_fraction_leaf=0.0,\n",
       "                      presort=False, random_state=42, splitter='best')"
      ]
     },
     "execution_count": 39,
     "metadata": {},
     "output_type": "execute_result"
    }
   ],
   "source": [
    "y3 = y2 - tree_model_2.predict(X)  # 残差\n",
    "\n",
    "tree_model_3 = DecisionTreeRegressor(max_depth=2, random_state=42)\n",
    "tree_model_3.fit(X, y3)"
   ]
  },
  {
   "cell_type": "markdown",
   "metadata": {},
   "source": [
    "4. 集成三棵树:将所有树的预测相加，并对新实例进行预测"
   ]
  },
  {
   "cell_type": "code",
   "execution_count": 40,
   "metadata": {},
   "outputs": [],
   "source": [
    "X_new = np.array([[0.8]])"
   ]
  },
  {
   "cell_type": "code",
   "execution_count": 41,
   "metadata": {},
   "outputs": [
    {
     "data": {
      "text/plain": [
       "array([0.75026781])"
      ]
     },
     "execution_count": 41,
     "metadata": {},
     "output_type": "execute_result"
    }
   ],
   "source": [
    "y_pred = sum(tree.predict(X_new) for tree in (tree_model_1, tree_model_2, tree_model_3))\n",
    "y_pred"
   ]
  },
  {
   "cell_type": "markdown",
   "metadata": {},
   "source": [
    "<img src=\"./images/other/7-5.png\" width=\"600\">"
   ]
  },
  {
   "cell_type": "code",
   "execution_count": null,
   "metadata": {},
   "outputs": [],
   "source": []
  },
  {
   "cell_type": "code",
   "execution_count": null,
   "metadata": {},
   "outputs": [],
   "source": []
  },
  {
   "cell_type": "code",
   "execution_count": null,
   "metadata": {},
   "outputs": [],
   "source": []
  },
  {
   "cell_type": "code",
   "execution_count": null,
   "metadata": {},
   "outputs": [],
   "source": []
  },
  {
   "cell_type": "code",
   "execution_count": null,
   "metadata": {},
   "outputs": [],
   "source": []
  }
 ],
 "metadata": {
  "kernelspec": {
   "display_name": "Python 3",
   "language": "python",
   "name": "python3"
  },
  "language_info": {
   "codemirror_mode": {
    "name": "ipython",
    "version": 3
   },
   "file_extension": ".py",
   "mimetype": "text/x-python",
   "name": "python",
   "nbconvert_exporter": "python",
   "pygments_lexer": "ipython3",
   "version": "3.7.4"
  },
  "toc": {
   "base_numbering": 1,
   "nav_menu": {},
   "number_sections": true,
   "sideBar": true,
   "skip_h1_title": false,
   "title_cell": "Table of Contents",
   "title_sidebar": "Contents",
   "toc_cell": false,
   "toc_position": {},
   "toc_section_display": true,
   "toc_window_display": true
  }
 },
 "nbformat": 4,
 "nbformat_minor": 2
}
