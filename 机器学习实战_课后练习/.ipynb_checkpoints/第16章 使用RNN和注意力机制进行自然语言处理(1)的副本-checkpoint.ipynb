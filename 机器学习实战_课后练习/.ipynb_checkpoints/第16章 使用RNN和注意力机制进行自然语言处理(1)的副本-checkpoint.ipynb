{
 "cells": [
  {
   "cell_type": "code",
   "execution_count": 1,
   "id": "be8f21ef",
   "metadata": {
    "execution": {
     "iopub.execute_input": "2022-04-17T12:51:03.830343Z",
     "iopub.status.busy": "2022-04-17T12:51:03.829787Z",
     "iopub.status.idle": "2022-04-17T12:51:09.288799Z",
     "shell.execute_reply": "2022-04-17T12:51:09.288056Z"
    },
    "papermill": {
     "duration": 5.581837,
     "end_time": "2022-04-17T12:51:09.290908",
     "exception": false,
     "start_time": "2022-04-17T12:51:03.709071",
     "status": "completed"
    },
    "tags": []
   },
   "outputs": [],
   "source": [
    "import numpy as np\n",
    "import pandas as pd\n",
    "import tensorflow as tf\n",
    "import tensorflow.keras as keras\n",
    "import os\n",
    "import time\n",
    "import io\n",
    "import matplotlib.pyplot as plt\n",
    "import matplotlib as mpl\n",
    "import seaborn as sns\n",
    "\n",
    "\n",
    "def initialization(seed=42):\n",
    "    keras.backend.clear_session()\n",
    "    np.random.seed(seed)\n",
    "    tf.random.set_seed(seed)"
   ]
  },
  {
   "cell_type": "markdown",
   "id": "439470b9",
   "metadata": {
    "papermill": {
     "duration": 0.118727,
     "end_time": "2022-04-17T12:51:09.527839",
     "exception": false,
     "start_time": "2022-04-17T12:51:09.409112",
     "status": "completed"
    },
    "tags": []
   },
   "source": [
    "# 使用Character RNN生成莎士比亚风格的文本"
   ]
  },
  {
   "cell_type": "markdown",
   "id": "47497c9f",
   "metadata": {
    "papermill": {
     "duration": 0.116609,
     "end_time": "2022-04-17T12:51:09.761723",
     "exception": false,
     "start_time": "2022-04-17T12:51:09.645114",
     "status": "completed"
    },
    "tags": []
   },
   "source": [
    "## 创建训练数据集 Creating the Training Dataset"
   ]
  },
  {
   "cell_type": "markdown",
   "id": "1c7e90cd",
   "metadata": {
    "papermill": {
     "duration": 0.116855,
     "end_time": "2022-04-17T12:51:09.996044",
     "exception": false,
     "start_time": "2022-04-17T12:51:09.879189",
     "status": "completed"
    },
    "tags": []
   },
   "source": [
    "1. 使用`Keras`的`get_file()`函数，从项目中下载所有莎士比亚的作品"
   ]
  },
  {
   "cell_type": "code",
   "execution_count": 2,
   "id": "50bc9cb3",
   "metadata": {
    "execution": {
     "iopub.execute_input": "2022-04-17T12:51:10.232415Z",
     "iopub.status.busy": "2022-04-17T12:51:10.232170Z",
     "iopub.status.idle": "2022-04-17T12:51:11.430629Z",
     "shell.execute_reply": "2022-04-17T12:51:11.429637Z"
    },
    "papermill": {
     "duration": 1.318512,
     "end_time": "2022-04-17T12:51:11.433053",
     "exception": false,
     "start_time": "2022-04-17T12:51:10.114541",
     "status": "completed"
    },
    "tags": []
   },
   "outputs": [],
   "source": [
    "shakespeare_url = \"https://raw.githubusercontent.com/karpathy/char-rnn/master/data/tinyshakespeare/input.txt\"\n",
    "filepath = keras.utils.get_file(\"shakespeare.txt\", shakespeare_url)\n",
    "\n",
    "with open(filepath) as f:\n",
    "    shakespeare_text = f.read()"
   ]
  },
  {
   "cell_type": "code",
   "execution_count": 3,
   "id": "b5f979b4",
   "metadata": {
    "execution": {
     "iopub.execute_input": "2022-04-17T12:51:11.675834Z",
     "iopub.status.busy": "2022-04-17T12:51:11.675603Z",
     "iopub.status.idle": "2022-04-17T12:51:11.679861Z",
     "shell.execute_reply": "2022-04-17T12:51:11.679186Z"
    },
    "papermill": {
     "duration": 0.128175,
     "end_time": "2022-04-17T12:51:11.682168",
     "exception": false,
     "start_time": "2022-04-17T12:51:11.553993",
     "status": "completed"
    },
    "scrolled": true,
    "tags": []
   },
   "outputs": [
    {
     "name": "stdout",
     "output_type": "stream",
     "text": [
      "First Citizen:\n",
      "Before we proceed any further, hear me speak.\n",
      "\n",
      "All:\n",
      "Speak, speak.\n",
      "\n",
      "First Citizen:\n",
      "You are all resolved rather to die than to famish?\n",
      "\n"
     ]
    }
   ],
   "source": [
    "print(shakespeare_text[:148])"
   ]
  },
  {
   "cell_type": "code",
   "execution_count": 4,
   "id": "8124aaca",
   "metadata": {
    "execution": {
     "iopub.execute_input": "2022-04-17T12:51:11.936548Z",
     "iopub.status.busy": "2022-04-17T12:51:11.936283Z",
     "iopub.status.idle": "2022-04-17T12:51:11.953172Z",
     "shell.execute_reply": "2022-04-17T12:51:11.952545Z"
    },
    "papermill": {
     "duration": 0.152282,
     "end_time": "2022-04-17T12:51:11.955391",
     "exception": false,
     "start_time": "2022-04-17T12:51:11.803109",
     "status": "completed"
    },
    "scrolled": true,
    "tags": []
   },
   "outputs": [
    {
     "data": {
      "text/plain": [
       "\"\\n !$&',-.3:;?abcdefghijklmnopqrstuvwxyz\""
      ]
     },
     "execution_count": 4,
     "metadata": {},
     "output_type": "execute_result"
    }
   ],
   "source": [
    "\"\".join(sorted(set(shakespeare_text.lower())))   # 显示文本中出现的所有字符"
   ]
  },
  {
   "cell_type": "markdown",
   "id": "87b94485",
   "metadata": {
    "papermill": {
     "duration": 0.119156,
     "end_time": "2022-04-17T12:51:12.194134",
     "exception": false,
     "start_time": "2022-04-17T12:51:12.074978",
     "status": "completed"
    },
    "tags": []
   },
   "source": [
    "2. 将每个字符编码为一个整数。\n",
    "    - 创建一个自定义预处理层，\n",
    "    - 或使用`Keras`的`分词器Tokenizer`会更加简单。\n",
    "    \n",
    "> **tf.keras.preprocessing.text.Tokenizer**\n",
    "> ```python   \n",
    "tf.keras.preprocessing.text.Tokenizer(\n",
    "    filters='!\"#$%&()*+,-./:;<=>?@[\\\\]^_`{|}~\\t\\n',  \n",
    "    # filters过滤: 不包含 '\n",
    "    lower=True,   # 是否转化为小写\n",
    "    split=' ',\n",
    "    char_level=False,   # true: 每个字符都将被视为一个标记\n",
    "    oov_token=None,\n",
    "    document_count=0,\n",
    "    **kwargs\n",
    ")\n",
    "> ```   \n",
    "> \n",
    "> 默认情况下，所有标点符号都被删除，将文本转换为空格分隔的单词序列（单词可能包括 ' 字符）。然后将这些序列拆分为分词列表。然后它们将被索引或矢量化。\n",
    "0 是一个保留索引，不会分配给任何单词。\n",
    ">\n",
    "> `fit_on_texts(texts)` : 根据文本列表更新内部词汇表\n",
    ">\n",
    "> `fit_on_sequences(texts)` : 根据序列列表更新内部词汇表\n",
    ">\n",
    "> `get_config()` : 根据文本列表更新内部词汇表"
   ]
  },
  {
   "cell_type": "markdown",
   "id": "513d1075",
   "metadata": {
    "papermill": {
     "duration": 0.118699,
     "end_time": "2022-04-17T12:51:12.434657",
     "exception": false,
     "start_time": "2022-04-17T12:51:12.315958",
     "status": "completed"
    },
    "tags": []
   },
   "source": [
    "- 首先，将一个将`tokenizer`拟合到文本：`tokenizer`能从文本中发现所有的字符，并将所有字符映射到不同的字符ID，**映射从1开始**.\n",
    "- 设置`char_level=True`，以得到**字符级别的编码**，而不是默认的单词级别的编码。这个`tokenizer`默认**将所有文本转换成了小写**（如果不想这样，可以设置`lower=False`）"
   ]
  },
  {
   "cell_type": "code",
   "execution_count": 5,
   "id": "df0e2bc4",
   "metadata": {
    "execution": {
     "iopub.execute_input": "2022-04-17T12:51:12.674028Z",
     "iopub.status.busy": "2022-04-17T12:51:12.673778Z",
     "iopub.status.idle": "2022-04-17T12:51:14.032738Z",
     "shell.execute_reply": "2022-04-17T12:51:14.031988Z"
    },
    "papermill": {
     "duration": 1.481833,
     "end_time": "2022-04-17T12:51:14.035082",
     "exception": false,
     "start_time": "2022-04-17T12:51:12.553249",
     "status": "completed"
    },
    "tags": []
   },
   "outputs": [],
   "source": [
    "tokenizer = keras.preprocessing.text.Tokenizer(char_level=True)\n",
    "tokenizer.fit_on_texts(shakespeare_text)"
   ]
  },
  {
   "cell_type": "markdown",
   "id": "35572a16",
   "metadata": {
    "papermill": {
     "duration": 0.120217,
     "end_time": "2022-04-17T12:51:14.277542",
     "exception": false,
     "start_time": "2022-04-17T12:51:14.157325",
     "status": "completed"
    },
    "tags": []
   },
   "source": [
    "- 现在`tokenizer`可以将一整句（或句子列表）编码为`字符ID列表`，这可以告诉我们文本中有多少个独立的字符，以及总字符数."
   ]
  },
  {
   "cell_type": "code",
   "execution_count": 6,
   "id": "628c031a",
   "metadata": {
    "execution": {
     "iopub.execute_input": "2022-04-17T12:51:14.527589Z",
     "iopub.status.busy": "2022-04-17T12:51:14.527313Z",
     "iopub.status.idle": "2022-04-17T12:51:14.532935Z",
     "shell.execute_reply": "2022-04-17T12:51:14.532108Z"
    },
    "papermill": {
     "duration": 0.13567,
     "end_time": "2022-04-17T12:51:14.534586",
     "exception": false,
     "start_time": "2022-04-17T12:51:14.398916",
     "status": "completed"
    },
    "tags": []
   },
   "outputs": [
    {
     "data": {
      "text/plain": [
       "[[20, 6, 9, 8, 3]]"
      ]
     },
     "execution_count": 6,
     "metadata": {},
     "output_type": "execute_result"
    }
   ],
   "source": [
    "tokenizer.texts_to_sequences(['First'])"
   ]
  },
  {
   "cell_type": "code",
   "execution_count": 7,
   "id": "4839cc36",
   "metadata": {
    "execution": {
     "iopub.execute_input": "2022-04-17T12:51:14.774553Z",
     "iopub.status.busy": "2022-04-17T12:51:14.774210Z",
     "iopub.status.idle": "2022-04-17T12:51:14.779193Z",
     "shell.execute_reply": "2022-04-17T12:51:14.778568Z"
    },
    "papermill": {
     "duration": 0.126066,
     "end_time": "2022-04-17T12:51:14.780904",
     "exception": false,
     "start_time": "2022-04-17T12:51:14.654838",
     "status": "completed"
    },
    "tags": []
   },
   "outputs": [
    {
     "data": {
      "text/plain": [
       "['f i r s t']"
      ]
     },
     "execution_count": 7,
     "metadata": {},
     "output_type": "execute_result"
    }
   ],
   "source": [
    "tokenizer.sequences_to_texts([[20, 6, 9, 8, 3]])   # 不区分大小写"
   ]
  },
  {
   "cell_type": "code",
   "execution_count": 8,
   "id": "7d9f78ba",
   "metadata": {
    "execution": {
     "iopub.execute_input": "2022-04-17T12:51:15.021060Z",
     "iopub.status.busy": "2022-04-17T12:51:15.020426Z",
     "iopub.status.idle": "2022-04-17T12:51:15.026327Z",
     "shell.execute_reply": "2022-04-17T12:51:15.025696Z"
    },
    "papermill": {
     "duration": 0.127977,
     "end_time": "2022-04-17T12:51:15.028163",
     "exception": false,
     "start_time": "2022-04-17T12:51:14.900186",
     "status": "completed"
    },
    "tags": []
   },
   "outputs": [
    {
     "data": {
      "text/plain": [
       "{' ': 1,\n",
       " 'e': 2,\n",
       " 't': 3,\n",
       " 'o': 4,\n",
       " 'a': 5,\n",
       " 'i': 6,\n",
       " 'h': 7,\n",
       " 's': 8,\n",
       " 'r': 9,\n",
       " 'n': 10,\n",
       " '\\n': 11,\n",
       " 'l': 12,\n",
       " 'd': 13,\n",
       " 'u': 14,\n",
       " 'm': 15,\n",
       " 'y': 16,\n",
       " 'w': 17,\n",
       " ',': 18,\n",
       " 'c': 19,\n",
       " 'f': 20,\n",
       " 'g': 21,\n",
       " 'b': 22,\n",
       " 'p': 23,\n",
       " ':': 24,\n",
       " 'k': 25,\n",
       " 'v': 26,\n",
       " '.': 27,\n",
       " \"'\": 28,\n",
       " ';': 29,\n",
       " '?': 30,\n",
       " '!': 31,\n",
       " '-': 32,\n",
       " 'j': 33,\n",
       " 'q': 34,\n",
       " 'x': 35,\n",
       " 'z': 36,\n",
       " '3': 37,\n",
       " '&': 38,\n",
       " '$': 39}"
      ]
     },
     "execution_count": 8,
     "metadata": {},
     "output_type": "execute_result"
    }
   ],
   "source": [
    "# 列出字符索引\n",
    "tokenizer.word_index"
   ]
  },
  {
   "cell_type": "code",
   "execution_count": 9,
   "id": "6c78e29e",
   "metadata": {
    "execution": {
     "iopub.execute_input": "2022-04-17T12:51:15.269606Z",
     "iopub.status.busy": "2022-04-17T12:51:15.268925Z",
     "iopub.status.idle": "2022-04-17T12:51:15.274080Z",
     "shell.execute_reply": "2022-04-17T12:51:15.273434Z"
    },
    "papermill": {
     "duration": 0.127509,
     "end_time": "2022-04-17T12:51:15.275658",
     "exception": false,
     "start_time": "2022-04-17T12:51:15.148149",
     "status": "completed"
    },
    "tags": []
   },
   "outputs": [
    {
     "data": {
      "text/plain": [
       "39"
      ]
     },
     "execution_count": 9,
     "metadata": {},
     "output_type": "execute_result"
    }
   ],
   "source": [
    "# 字符索引数\n",
    "max_id = len(tokenizer.word_index)\n",
    "max_id"
   ]
  },
  {
   "cell_type": "code",
   "execution_count": 10,
   "id": "5a3a1426",
   "metadata": {
    "execution": {
     "iopub.execute_input": "2022-04-17T12:51:15.517405Z",
     "iopub.status.busy": "2022-04-17T12:51:15.517183Z",
     "iopub.status.idle": "2022-04-17T12:51:15.521854Z",
     "shell.execute_reply": "2022-04-17T12:51:15.521222Z"
    },
    "papermill": {
     "duration": 0.127787,
     "end_time": "2022-04-17T12:51:15.523590",
     "exception": false,
     "start_time": "2022-04-17T12:51:15.395803",
     "status": "completed"
    },
    "tags": []
   },
   "outputs": [
    {
     "data": {
      "text/plain": [
       "1115394"
      ]
     },
     "execution_count": 10,
     "metadata": {},
     "output_type": "execute_result"
    }
   ],
   "source": [
    "# 总字符数\n",
    "dataset_size = tokenizer.document_count\n",
    "dataset_size"
   ]
  },
  {
   "cell_type": "markdown",
   "id": "3a45dedd",
   "metadata": {
    "papermill": {
     "duration": 0.119384,
     "end_time": "2022-04-17T12:51:15.763367",
     "exception": false,
     "start_time": "2022-04-17T12:51:15.643983",
     "status": "completed"
    },
    "tags": []
   },
   "source": [
    "- 现在对完整文本做编码，将每个字符都用ID来表示（减1**使ID从0到38**，而不是1到39）"
   ]
  },
  {
   "cell_type": "code",
   "execution_count": 11,
   "id": "4fe3d391",
   "metadata": {
    "execution": {
     "iopub.execute_input": "2022-04-17T12:51:16.004038Z",
     "iopub.status.busy": "2022-04-17T12:51:16.003790Z",
     "iopub.status.idle": "2022-04-17T12:51:16.372357Z",
     "shell.execute_reply": "2022-04-17T12:51:16.371568Z"
    },
    "papermill": {
     "duration": 0.491204,
     "end_time": "2022-04-17T12:51:16.374487",
     "exception": false,
     "start_time": "2022-04-17T12:51:15.883283",
     "status": "completed"
    },
    "tags": []
   },
   "outputs": [
    {
     "data": {
      "text/plain": [
       "array([19,  5,  8, ..., 20, 26, 10])"
      ]
     },
     "execution_count": 11,
     "metadata": {},
     "output_type": "execute_result"
    }
   ],
   "source": [
    "[encoded] = np.array(tokenizer.texts_to_sequences([shakespeare_text])) -1\n",
    "encoded  "
   ]
  },
  {
   "cell_type": "markdown",
   "id": "d01ed597",
   "metadata": {
    "papermill": {
     "duration": 0.120901,
     "end_time": "2022-04-17T12:51:16.618618",
     "exception": false,
     "start_time": "2022-04-17T12:51:16.497717",
     "status": "completed"
    },
    "tags": []
   },
   "source": [
    "## 如何区分序列数据集 How to Split a Sequential Dataset"
   ]
  },
  {
   "cell_type": "markdown",
   "id": "af574e3a",
   "metadata": {
    "papermill": {
     "duration": 0.125388,
     "end_time": "2022-04-17T12:51:16.865096",
     "exception": false,
     "start_time": "2022-04-17T12:51:16.739708",
     "status": "completed"
    },
    "tags": []
   },
   "source": [
    "避免训练集、验证集、测试集发生重合非常重要。\n",
    "\n",
    "当处理时间序列时，\n",
    "- 通常按照时间切分,\n",
    "- 也可以按照其它维度来切分，可以得到更长的时间周期进行训练。如果训练集中的数据存在高度关联性, 则测试集的意义就不大，泛化误差会存在偏移。"
   ]
  },
  {
   "cell_type": "markdown",
   "id": "d22bd36d",
   "metadata": {
    "papermill": {
     "duration": 0.121295,
     "end_time": "2022-04-17T12:51:17.106451",
     "exception": false,
     "start_time": "2022-04-17T12:51:16.985156",
     "status": "completed"
    },
    "tags": []
   },
   "source": [
    "在莎士比亚案例中, 可以取90%的文本作为训练集，5%作为验证集，5%作为测试集。在这三个数据之间留出空隙，以避免段落重叠也是非常好的主意。\n",
    "\n",
    "创建`tf.data.Dataset`, 可以从数据集中一个个返回字符."
   ]
  },
  {
   "cell_type": "code",
   "execution_count": 12,
   "id": "4efad145",
   "metadata": {
    "execution": {
     "iopub.execute_input": "2022-04-17T12:51:17.350561Z",
     "iopub.status.busy": "2022-04-17T12:51:17.350273Z",
     "iopub.status.idle": "2022-04-17T12:51:19.691262Z",
     "shell.execute_reply": "2022-04-17T12:51:19.690567Z"
    },
    "papermill": {
     "duration": 2.46565,
     "end_time": "2022-04-17T12:51:19.693442",
     "exception": false,
     "start_time": "2022-04-17T12:51:17.227792",
     "status": "completed"
    },
    "tags": []
   },
   "outputs": [],
   "source": [
    "train_size = dataset_size * 90 // 100     # train_size=1003854\n",
    "dataset = tf.data.Dataset.from_tensor_slices(encoded[:train_size])"
   ]
  },
  {
   "cell_type": "markdown",
   "id": "3c82a0e7",
   "metadata": {
    "papermill": {
     "duration": 0.123196,
     "end_time": "2022-04-17T12:51:19.938822",
     "exception": false,
     "start_time": "2022-04-17T12:51:19.815626",
     "status": "completed"
    },
    "tags": []
   },
   "source": [
    "## 将序列数据集切分成多个窗口 Chopping the Sequential Dataset into Multiple Windows"
   ]
  },
  {
   "cell_type": "markdown",
   "id": "9334db51",
   "metadata": {
    "papermill": {
     "duration": 0.121982,
     "end_time": "2022-04-17T12:51:20.182120",
     "exception": false,
     "start_time": "2022-04-17T12:51:20.060138",
     "status": "completed"
    },
    "tags": []
   },
   "source": [
    "### 示例"
   ]
  },
  {
   "cell_type": "markdown",
   "id": "90a64cf6",
   "metadata": {
    "papermill": {
     "duration": 0.122742,
     "end_time": "2022-04-17T12:51:20.428290",
     "exception": false,
     "start_time": "2022-04-17T12:51:20.305548",
     "status": "completed"
    },
    "tags": []
   },
   "source": [
    "1. 让我们将序列 0 到 14 拆分为长度为 5 的窗口，每个窗口移动 2\n",
    "\n",
    "        [0, 1, 2, 3, 4], [2, 3, 4, 5, 6], [4, 5, 6, 7, 8], ....\n",
    "    \n",
    "2. 然后将它们打乱，并将它们拆分为`inputs`（前 4 步）和`targets`（后 4 步）\n",
    "\n",
    "        [2, 3, 4, 5, 6] 将被拆分为 [[2, 3, 4, 5], [3, 4, 5, 6]])\n",
    "  \n",
    "3. 然后创建 3 个这样的`inputs`/`targets`对的批次"
   ]
  },
  {
   "cell_type": "code",
   "execution_count": 13,
   "id": "ba04ec73",
   "metadata": {
    "execution": {
     "iopub.execute_input": "2022-04-17T12:51:20.672560Z",
     "iopub.status.busy": "2022-04-17T12:51:20.672234Z",
     "iopub.status.idle": "2022-04-17T12:51:20.681064Z",
     "shell.execute_reply": "2022-04-17T12:51:20.680444Z"
    },
    "papermill": {
     "duration": 0.133006,
     "end_time": "2022-04-17T12:51:20.682858",
     "exception": false,
     "start_time": "2022-04-17T12:51:20.549852",
     "status": "completed"
    },
    "tags": []
   },
   "outputs": [],
   "source": [
    "initialization(42)"
   ]
  },
  {
   "cell_type": "markdown",
   "id": "9dd6acb0",
   "metadata": {
    "papermill": {
     "duration": 0.122399,
     "end_time": "2022-04-17T12:51:20.926372",
     "exception": false,
     "start_time": "2022-04-17T12:51:20.803973",
     "status": "completed"
    },
    "tags": []
   },
   "source": [
    "- 调节`n_steps`：用短输入序列训练`RNN`更为简单，但是因此`RNN`学不到任何长度超过`n_steps`的规律，所以`n_steps`不要太短。"
   ]
  },
  {
   "cell_type": "code",
   "execution_count": 14,
   "id": "82939b54",
   "metadata": {
    "execution": {
     "iopub.execute_input": "2022-04-17T12:51:21.169715Z",
     "iopub.status.busy": "2022-04-17T12:51:21.169455Z",
     "iopub.status.idle": "2022-04-17T12:51:21.175324Z",
     "shell.execute_reply": "2022-04-17T12:51:21.174604Z"
    },
    "papermill": {
     "duration": 0.129569,
     "end_time": "2022-04-17T12:51:21.177045",
     "exception": false,
     "start_time": "2022-04-17T12:51:21.047476",
     "status": "completed"
    },
    "tags": []
   },
   "outputs": [],
   "source": [
    "n_steps = 5\n",
    "test_dataset = tf.data.Dataset.from_tensor_slices(tf.range(16))"
   ]
  },
  {
   "cell_type": "markdown",
   "id": "5e0cc1a4",
   "metadata": {
    "papermill": {
     "duration": 0.121392,
     "end_time": "2022-04-17T12:51:21.419469",
     "exception": false,
     "start_time": "2022-04-17T12:51:21.298077",
     "status": "completed"
    },
    "tags": []
   },
   "source": [
    "- 使用数据集的`window()`，将这个**长序列转化为许多小窗口文本**。每个实例都是完整文本的相对短的子字符串，`RNN`只在这些子字符串上展开。这被称为`截断沿时间反向传播truncated backpropagation through time`\n",
    "    >\n",
    "    > ```python\n",
    "    window(\n",
    "        size, \n",
    "        shift=None, \n",
    "        stride=1, \n",
    "        drop_remainder=False,   \n",
    "        name=None\n",
    "    )\n",
    "    > ```\n",
    "    > - `drop_remainder`:如果最后一个窗口的大小小于 `size`，是否应该删除最后一个窗口。\n",
    "    > - `shift`: 表示**窗口**在每次迭代中**移动**的输入元素的数量.\n",
    "    > - `stride`: 步幅,默认为1"
   ]
  },
  {
   "cell_type": "code",
   "execution_count": 15,
   "id": "ef149dcb",
   "metadata": {
    "execution": {
     "iopub.execute_input": "2022-04-17T12:51:21.662717Z",
     "iopub.status.busy": "2022-04-17T12:51:21.662471Z",
     "iopub.status.idle": "2022-04-17T12:51:21.725889Z",
     "shell.execute_reply": "2022-04-17T12:51:21.725184Z"
    },
    "papermill": {
     "duration": 0.187763,
     "end_time": "2022-04-17T12:51:21.728260",
     "exception": false,
     "start_time": "2022-04-17T12:51:21.540497",
     "status": "completed"
    },
    "tags": []
   },
   "outputs": [
    {
     "name": "stdout",
     "output_type": "stream",
     "text": [
      "[0, 1, 2, 3, 4]\n",
      "[2, 3, 4, 5, 6]\n",
      "[4, 5, 6, 7, 8]\n",
      "[6, 7, 8, 9, 10]\n",
      "[8, 9, 10, 11, 12]\n",
      "[10, 11, 12, 13, 14]\n"
     ]
    }
   ],
   "source": [
    "test_dataset = test_dataset.window(size=n_steps, \n",
    "                                   shift=2, \n",
    "                                   drop_remainder=True)\n",
    "\n",
    "for ds in test_dataset:\n",
    "    print( [elem.numpy() for elem in ds])"
   ]
  },
  {
   "cell_type": "markdown",
   "id": "79577955",
   "metadata": {
    "papermill": {
     "duration": 0.127802,
     "end_time": "2022-04-17T12:51:21.978786",
     "exception": false,
     "start_time": "2022-04-17T12:51:21.850984",
     "status": "completed"
    },
    "tags": []
   },
   "source": [
    "    迭代次数: ( len(text)-window_size )//shift +1 = (16-5)//2+1 = 6"
   ]
  },
  {
   "cell_type": "markdown",
   "id": "11cd7153",
   "metadata": {
    "papermill": {
     "duration": 0.12237,
     "end_time": "2022-04-17T12:51:22.224218",
     "exception": false,
     "start_time": "2022-04-17T12:51:22.101848",
     "status": "completed"
    },
    "tags": []
   },
   "source": [
    "- 使用`window()`,返回一个嵌套的数据,类似于`list of lists`. 当调用数据集方法处理（比如`shuffle`或做`batch`）每个窗口时，这样会很方便。\n",
    "\n",
    "    但是，不能直接使用嵌套数据集来训练，因为模型要的输入是`tensors`，不是`datasets`。因此，必须调用`flat_map()`方法：\n",
    "    > - `flat_map()`:它能将嵌套数据集转换成**展平**的数据集。\n",
    "    > \n",
    "    >   例: 假设 `{1, 2, 3}` 表示包含张量1、2、3的序列。如果将嵌套数据集 `{{1, 2}, {3, 4, 5, 6}}` 打平，就会得到` {1, 2, 3, 4, 5, 6}` 。\n",
    "    >\n",
    "    >\n",
    "    > - `flat_map()`方法可以接收函数作为参数，可以处理嵌套数据集的每个数据集。\n",
    "    >\n",
    "    >   例: 如果将函数 `lambda ds: ds.batch(2)` 传递给 `flat_map()` ，它能将 `{{1, 2}, {3, 4, 5, 6}}` 转变为` {[1, 2], [3, 4], [5, 6]}` ：这是一个张量大小为2的数据集。\n",
    "    >\n",
    "    >   每个窗口上调用了`batch(window_length)`：因为所有窗口都是这个长度，对于每个窗口，都能得到一个独立的张量。\n"
   ]
  },
  {
   "cell_type": "code",
   "execution_count": 16,
   "id": "9d837736",
   "metadata": {
    "execution": {
     "iopub.execute_input": "2022-04-17T12:51:22.471768Z",
     "iopub.status.busy": "2022-04-17T12:51:22.471495Z",
     "iopub.status.idle": "2022-04-17T12:51:22.563170Z",
     "shell.execute_reply": "2022-04-17T12:51:22.562241Z"
    },
    "papermill": {
     "duration": 0.218841,
     "end_time": "2022-04-17T12:51:22.565794",
     "exception": false,
     "start_time": "2022-04-17T12:51:22.346953",
     "status": "completed"
    },
    "tags": []
   },
   "outputs": [
    {
     "name": "stdout",
     "output_type": "stream",
     "text": [
      "[0, 1, 2, 3, 4]\n",
      "[2, 3, 4, 5, 6]\n",
      "[4, 5, 6, 7, 8]\n",
      "[6, 7, 8, 9, 10]\n",
      "[8, 9, 10, 11, 12]\n",
      "[10, 11, 12, 13, 14]\n"
     ]
    }
   ],
   "source": [
    "test_dataset = test_dataset.flat_map(lambda windows: windows.batch(5))\n",
    "\n",
    "for ds in test_dataset:\n",
    "    print([elem.numpy() for elem in ds])"
   ]
  },
  {
   "cell_type": "markdown",
   "id": "1885650c",
   "metadata": {
    "papermill": {
     "duration": 0.124283,
     "end_time": "2022-04-17T12:51:22.813035",
     "exception": false,
     "start_time": "2022-04-17T12:51:22.688752",
     "status": "completed"
    },
    "tags": []
   },
   "source": [
    "- 现在的数据集包含连续的窗口，每个有5个字符。因为梯度下降在训练集中的实例`独立同分布`时的效果最好，需要`shuffle`这些窗口。然后我们可以对窗口做`batch`，分割`inputs`（前4个字符）和`targets`(除去第一个字符)"
   ]
  },
  {
   "cell_type": "code",
   "execution_count": 17,
   "id": "167599b1",
   "metadata": {
    "execution": {
     "iopub.execute_input": "2022-04-17T12:51:23.060630Z",
     "iopub.status.busy": "2022-04-17T12:51:23.060365Z",
     "iopub.status.idle": "2022-04-17T12:51:23.099349Z",
     "shell.execute_reply": "2022-04-17T12:51:23.098733Z"
    },
    "papermill": {
     "duration": 0.164464,
     "end_time": "2022-04-17T12:51:23.101084",
     "exception": false,
     "start_time": "2022-04-17T12:51:22.936620",
     "status": "completed"
    },
    "tags": []
   },
   "outputs": [],
   "source": [
    "test_dataset = test_dataset.shuffle(10).map(lambda windows:\n",
    "                                            (windows[:-1], windows[1:]))\n",
    "test_dataset = test_dataset.batch(3).prefetch(1)"
   ]
  },
  {
   "cell_type": "code",
   "execution_count": 18,
   "id": "42719a3a",
   "metadata": {
    "execution": {
     "iopub.execute_input": "2022-04-17T12:51:23.349714Z",
     "iopub.status.busy": "2022-04-17T12:51:23.349328Z",
     "iopub.status.idle": "2022-04-17T12:51:23.386589Z",
     "shell.execute_reply": "2022-04-17T12:51:23.385900Z"
    },
    "papermill": {
     "duration": 0.163743,
     "end_time": "2022-04-17T12:51:23.388315",
     "exception": false,
     "start_time": "2022-04-17T12:51:23.224572",
     "status": "completed"
    },
    "tags": []
   },
   "outputs": [
    {
     "name": "stdout",
     "output_type": "stream",
     "text": [
      "____________________ Batch 0 \n",
      "X_batch\n",
      "[[6 7 8 9]\n",
      " [2 3 4 5]\n",
      " [4 5 6 7]]\n",
      "===== \n",
      "Y_batch\n",
      "[[ 7  8  9 10]\n",
      " [ 3  4  5  6]\n",
      " [ 5  6  7  8]]\n",
      "____________________ Batch 1 \n",
      "X_batch\n",
      "[[ 0  1  2  3]\n",
      " [ 8  9 10 11]\n",
      " [10 11 12 13]]\n",
      "===== \n",
      "Y_batch\n",
      "[[ 1  2  3  4]\n",
      " [ 9 10 11 12]\n",
      " [11 12 13 14]]\n"
     ]
    }
   ],
   "source": [
    "for index, (X_batch, Y_batch) in enumerate(test_dataset):\n",
    "    print(\"_\" * 20, \"Batch\", index, \"\\nX_batch\")\n",
    "    print(X_batch.numpy())\n",
    "    print(\"=\" * 5, \"\\nY_batch\")\n",
    "    print(Y_batch.numpy())"
   ]
  },
  {
   "cell_type": "markdown",
   "id": "68c1ff4e",
   "metadata": {
    "papermill": {
     "duration": 0.123349,
     "end_time": "2022-04-17T12:51:23.634968",
     "exception": false,
     "start_time": "2022-04-17T12:51:23.511619",
     "status": "completed"
    },
    "tags": []
   },
   "source": [
    "### 使用在莎士比亚数据集上"
   ]
  },
  {
   "cell_type": "markdown",
   "id": "731759d7",
   "metadata": {
    "papermill": {
     "duration": 0.135219,
     "end_time": "2022-04-17T12:51:23.900056",
     "exception": false,
     "start_time": "2022-04-17T12:51:23.764837",
     "status": "completed"
    },
    "tags": []
   },
   "source": [
    "<img src=\"./images/other/16-1.png\" width=\"500\">"
   ]
  },
  {
   "cell_type": "code",
   "execution_count": 19,
   "id": "7a2cdf49",
   "metadata": {
    "execution": {
     "iopub.execute_input": "2022-04-17T12:51:24.154702Z",
     "iopub.status.busy": "2022-04-17T12:51:24.153969Z",
     "iopub.status.idle": "2022-04-17T12:51:24.160400Z",
     "shell.execute_reply": "2022-04-17T12:51:24.159752Z"
    },
    "papermill": {
     "duration": 0.132625,
     "end_time": "2022-04-17T12:51:24.162209",
     "exception": false,
     "start_time": "2022-04-17T12:51:24.029584",
     "status": "completed"
    },
    "tags": []
   },
   "outputs": [],
   "source": [
    "initialization(42)\n",
    "\n",
    "n_steps = 100\n",
    "window_length = n_steps + 1  # target = input 后面的 1 个字符\n",
    "batch_size = 32"
   ]
  },
  {
   "cell_type": "code",
   "execution_count": 20,
   "id": "f0465773",
   "metadata": {
    "execution": {
     "iopub.execute_input": "2022-04-17T12:51:24.409923Z",
     "iopub.status.busy": "2022-04-17T12:51:24.409689Z",
     "iopub.status.idle": "2022-04-17T12:51:24.432523Z",
     "shell.execute_reply": "2022-04-17T12:51:24.431907Z"
    },
    "papermill": {
     "duration": 0.148995,
     "end_time": "2022-04-17T12:51:24.434201",
     "exception": false,
     "start_time": "2022-04-17T12:51:24.285206",
     "status": "completed"
    },
    "tags": []
   },
   "outputs": [],
   "source": [
    "dataset = dataset.window(size=window_length, shift=1, drop_remainder=True)\n",
    "dataset = dataset.flat_map(lambda window: window.batch(window_length))"
   ]
  },
  {
   "cell_type": "markdown",
   "id": "edde6d18",
   "metadata": {
    "papermill": {
     "duration": 0.153899,
     "end_time": "2022-04-17T12:51:24.765496",
     "exception": false,
     "start_time": "2022-04-17T12:51:24.611597",
     "status": "completed"
    },
    "tags": []
   },
   "source": [
    "    train_size=1003854\n",
    "    迭代次数: ( len(text)-window_size ) // shift +1 \n",
    "           = ( 1003854 - 101 ) // 1 + 1 = 1003754\n",
    "    即: 共有1003754个窗口, 每个窗口大小为101"
   ]
  },
  {
   "cell_type": "code",
   "execution_count": 21,
   "id": "7e6e7cff",
   "metadata": {
    "execution": {
     "iopub.execute_input": "2022-04-17T12:51:25.164021Z",
     "iopub.status.busy": "2022-04-17T12:51:25.163704Z",
     "iopub.status.idle": "2022-04-17T12:51:25.204267Z",
     "shell.execute_reply": "2022-04-17T12:51:25.203639Z"
    },
    "papermill": {
     "duration": 0.237063,
     "end_time": "2022-04-17T12:51:25.205911",
     "exception": false,
     "start_time": "2022-04-17T12:51:24.968848",
     "status": "completed"
    },
    "tags": []
   },
   "outputs": [],
   "source": [
    "dataset = dataset.shuffle(10000).batch(batch_size)\n",
    "dataset = dataset.map(lambda windows: (windows[:, :-1], windows[:, 1:]))"
   ]
  },
  {
   "cell_type": "markdown",
   "id": "755d2087",
   "metadata": {
    "papermill": {
     "duration": 0.199957,
     "end_time": "2022-04-17T12:51:25.610027",
     "exception": false,
     "start_time": "2022-04-17T12:51:25.410070",
     "status": "completed"
    },
    "tags": []
   },
   "source": [
    "- 特征编码可以选择`独热编码`或`嵌入`。这里使用**独热编码**，因为独立字符不多."
   ]
  },
  {
   "cell_type": "code",
   "execution_count": 22,
   "id": "17bd5dfc",
   "metadata": {
    "execution": {
     "iopub.execute_input": "2022-04-17T12:51:25.997192Z",
     "iopub.status.busy": "2022-04-17T12:51:25.996937Z",
     "iopub.status.idle": "2022-04-17T12:51:26.022590Z",
     "shell.execute_reply": "2022-04-17T12:51:26.021924Z"
    },
    "papermill": {
     "duration": 0.213044,
     "end_time": "2022-04-17T12:51:26.024303",
     "exception": false,
     "start_time": "2022-04-17T12:51:25.811259",
     "status": "completed"
    },
    "tags": []
   },
   "outputs": [],
   "source": [
    "dataset = dataset.map(lambda X_batch, Y_batch:\n",
    "                      (tf.one_hot(X_batch, depth=max_id), Y_batch))"
   ]
  },
  {
   "cell_type": "markdown",
   "id": "79884d98",
   "metadata": {
    "papermill": {
     "duration": 0.123939,
     "end_time": "2022-04-17T12:51:26.271085",
     "exception": false,
     "start_time": "2022-04-17T12:51:26.147146",
     "status": "completed"
    },
    "tags": []
   },
   "source": [
    "- `prefetch()`实现预提取"
   ]
  },
  {
   "cell_type": "code",
   "execution_count": 23,
   "id": "20edbcb0",
   "metadata": {
    "execution": {
     "iopub.execute_input": "2022-04-17T12:51:26.519348Z",
     "iopub.status.busy": "2022-04-17T12:51:26.519093Z",
     "iopub.status.idle": "2022-04-17T12:51:26.523276Z",
     "shell.execute_reply": "2022-04-17T12:51:26.522518Z"
    },
    "papermill": {
     "duration": 0.130978,
     "end_time": "2022-04-17T12:51:26.524897",
     "exception": false,
     "start_time": "2022-04-17T12:51:26.393919",
     "status": "completed"
    },
    "tags": []
   },
   "outputs": [],
   "source": [
    "dataset = dataset.prefetch(1)"
   ]
  },
  {
   "cell_type": "code",
   "execution_count": 24,
   "id": "d48e52d5",
   "metadata": {
    "execution": {
     "iopub.execute_input": "2022-04-17T12:51:26.771795Z",
     "iopub.status.busy": "2022-04-17T12:51:26.771368Z",
     "iopub.status.idle": "2022-04-17T12:51:29.341747Z",
     "shell.execute_reply": "2022-04-17T12:51:29.340786Z"
    },
    "papermill": {
     "duration": 2.696296,
     "end_time": "2022-04-17T12:51:29.344204",
     "exception": false,
     "start_time": "2022-04-17T12:51:26.647908",
     "status": "completed"
    },
    "tags": []
   },
   "outputs": [
    {
     "name": "stdout",
     "output_type": "stream",
     "text": [
      "(32, 100, 39) (32, 100)\n"
     ]
    }
   ],
   "source": [
    "for X_batch, Y_batch in dataset.take(1):\n",
    "    print(X_batch.shape, Y_batch.shape)"
   ]
  },
  {
   "cell_type": "markdown",
   "id": "ca2da5d7",
   "metadata": {
    "papermill": {
     "duration": 0.123911,
     "end_time": "2022-04-17T12:51:29.595210",
     "exception": false,
     "start_time": "2022-04-17T12:51:29.471299",
     "status": "completed"
    },
    "tags": []
   },
   "source": [
    "## 搭建并训练Char-RNN模型 Building and Training the Char-RNN Model"
   ]
  },
  {
   "cell_type": "markdown",
   "id": "47b10a62",
   "metadata": {
    "papermill": {
     "duration": 0.123578,
     "end_time": "2022-04-17T12:51:29.842396",
     "exception": false,
     "start_time": "2022-04-17T12:51:29.718818",
     "status": "completed"
    },
    "tags": []
   },
   "source": [
    "根据前面的100个字符预测下一个字符:\n",
    "\n",
    "- 使用一个`RNN`，含有两个`GRU`层，每个128个单元，每个单元对`输入dropout`和`隐藏态recurrent_dropout`的丢失率是20%。如果需要的话，后面可以微调这些超参数。\n",
    "\n",
    "- 输出层是一个时间分布的紧密层，有39个单元,即`max_id`，因为文本中有39个不同的字符，需要输出每个可能字符（在每个时间步）的概率。"
   ]
  },
  {
   "cell_type": "markdown",
   "id": "cba3a153",
   "metadata": {
    "papermill": {
     "duration": 0.123554,
     "end_time": "2022-04-17T12:51:30.090880",
     "exception": false,
     "start_time": "2022-04-17T12:51:29.967326",
     "status": "completed"
    },
    "tags": []
   },
   "source": [
    "> 注意：当使用以下参数的默认值时，`GRU` 类将只使用 `GPU`（如果有的话）：`activation`、`recurrent_activation`、`recurrent_dropout`、`unroll`、`use_bias` 和 `reset_after`。\n",
    ">\n",
    "> 详见: https://tensorflow.google.cn/versions/r2.0/api_docs/python/tf/keras/layers/GRU"
   ]
  },
  {
   "cell_type": "code",
   "execution_count": 25,
   "id": "027e544e",
   "metadata": {
    "execution": {
     "iopub.execute_input": "2022-04-17T12:51:30.341764Z",
     "iopub.status.busy": "2022-04-17T12:51:30.341342Z",
     "iopub.status.idle": "2022-04-17T12:51:30.727653Z",
     "shell.execute_reply": "2022-04-17T12:51:30.726947Z"
    },
    "papermill": {
     "duration": 0.513603,
     "end_time": "2022-04-17T12:51:30.729705",
     "exception": false,
     "start_time": "2022-04-17T12:51:30.216102",
     "status": "completed"
    },
    "tags": []
   },
   "outputs": [
    {
     "ename": "NotImplementedError",
     "evalue": "Cannot convert a symbolic Tensor (gru/strided_slice:0) to a numpy array. This error may indicate that you're trying to pass a Tensor to a NumPy call, which is not supported",
     "output_type": "error",
     "traceback": [
      "\u001b[0;31m---------------------------------------------------------------------------\u001b[0m",
      "\u001b[0;31mNotImplementedError\u001b[0m                       Traceback (most recent call last)",
      "\u001b[0;32m<ipython-input-25-cea241f26fcd>\u001b[0m in \u001b[0;36m<module>\u001b[0;34m\u001b[0m\n\u001b[1;32m      7\u001b[0m     \u001b[0mkeras\u001b[0m\u001b[0;34m.\u001b[0m\u001b[0mlayers\u001b[0m\u001b[0;34m.\u001b[0m\u001b[0mGRU\u001b[0m\u001b[0;34m(\u001b[0m\u001b[0;36m128\u001b[0m\u001b[0;34m,\u001b[0m \u001b[0mreturn_sequences\u001b[0m\u001b[0;34m=\u001b[0m\u001b[0;32mTrue\u001b[0m\u001b[0;34m,\u001b[0m \u001b[0mdropout\u001b[0m\u001b[0;34m=\u001b[0m\u001b[0;36m0.2\u001b[0m\u001b[0;34m)\u001b[0m\u001b[0;34m,\u001b[0m\u001b[0;34m\u001b[0m\u001b[0;34m\u001b[0m\u001b[0m\n\u001b[1;32m      8\u001b[0m     keras.layers.TimeDistributed(\n\u001b[0;32m----> 9\u001b[0;31m         keras.layers.Dense(max_id, activation=\"softmax\"))\n\u001b[0m\u001b[1;32m     10\u001b[0m ])\n",
      "\u001b[0;32m~/opt/anaconda3/lib/python3.7/site-packages/tensorflow/python/training/tracking/base.py\u001b[0m in \u001b[0;36m_method_wrapper\u001b[0;34m(self, *args, **kwargs)\u001b[0m\n\u001b[1;32m    520\u001b[0m     \u001b[0mself\u001b[0m\u001b[0;34m.\u001b[0m\u001b[0m_self_setattr_tracking\u001b[0m \u001b[0;34m=\u001b[0m \u001b[0;32mFalse\u001b[0m  \u001b[0;31m# pylint: disable=protected-access\u001b[0m\u001b[0;34m\u001b[0m\u001b[0;34m\u001b[0m\u001b[0m\n\u001b[1;32m    521\u001b[0m     \u001b[0;32mtry\u001b[0m\u001b[0;34m:\u001b[0m\u001b[0;34m\u001b[0m\u001b[0;34m\u001b[0m\u001b[0m\n\u001b[0;32m--> 522\u001b[0;31m       \u001b[0mresult\u001b[0m \u001b[0;34m=\u001b[0m \u001b[0mmethod\u001b[0m\u001b[0;34m(\u001b[0m\u001b[0mself\u001b[0m\u001b[0;34m,\u001b[0m \u001b[0;34m*\u001b[0m\u001b[0margs\u001b[0m\u001b[0;34m,\u001b[0m \u001b[0;34m**\u001b[0m\u001b[0mkwargs\u001b[0m\u001b[0;34m)\u001b[0m\u001b[0;34m\u001b[0m\u001b[0;34m\u001b[0m\u001b[0m\n\u001b[0m\u001b[1;32m    523\u001b[0m     \u001b[0;32mfinally\u001b[0m\u001b[0;34m:\u001b[0m\u001b[0;34m\u001b[0m\u001b[0;34m\u001b[0m\u001b[0m\n\u001b[1;32m    524\u001b[0m       \u001b[0mself\u001b[0m\u001b[0;34m.\u001b[0m\u001b[0m_self_setattr_tracking\u001b[0m \u001b[0;34m=\u001b[0m \u001b[0mprevious_value\u001b[0m  \u001b[0;31m# pylint: disable=protected-access\u001b[0m\u001b[0;34m\u001b[0m\u001b[0;34m\u001b[0m\u001b[0m\n",
      "\u001b[0;32m~/opt/anaconda3/lib/python3.7/site-packages/tensorflow/python/keras/engine/sequential.py\u001b[0m in \u001b[0;36m__init__\u001b[0;34m(self, layers, name)\u001b[0m\n\u001b[1;32m    139\u001b[0m         \u001b[0mlayers\u001b[0m \u001b[0;34m=\u001b[0m \u001b[0;34m[\u001b[0m\u001b[0mlayers\u001b[0m\u001b[0;34m]\u001b[0m\u001b[0;34m\u001b[0m\u001b[0;34m\u001b[0m\u001b[0m\n\u001b[1;32m    140\u001b[0m       \u001b[0;32mfor\u001b[0m \u001b[0mlayer\u001b[0m \u001b[0;32min\u001b[0m \u001b[0mlayers\u001b[0m\u001b[0;34m:\u001b[0m\u001b[0;34m\u001b[0m\u001b[0;34m\u001b[0m\u001b[0m\n\u001b[0;32m--> 141\u001b[0;31m         \u001b[0mself\u001b[0m\u001b[0;34m.\u001b[0m\u001b[0madd\u001b[0m\u001b[0;34m(\u001b[0m\u001b[0mlayer\u001b[0m\u001b[0;34m)\u001b[0m\u001b[0;34m\u001b[0m\u001b[0;34m\u001b[0m\u001b[0m\n\u001b[0m\u001b[1;32m    142\u001b[0m \u001b[0;34m\u001b[0m\u001b[0m\n\u001b[1;32m    143\u001b[0m   \u001b[0;34m@\u001b[0m\u001b[0mproperty\u001b[0m\u001b[0;34m\u001b[0m\u001b[0;34m\u001b[0m\u001b[0m\n",
      "\u001b[0;32m~/opt/anaconda3/lib/python3.7/site-packages/tensorflow/python/training/tracking/base.py\u001b[0m in \u001b[0;36m_method_wrapper\u001b[0;34m(self, *args, **kwargs)\u001b[0m\n\u001b[1;32m    520\u001b[0m     \u001b[0mself\u001b[0m\u001b[0;34m.\u001b[0m\u001b[0m_self_setattr_tracking\u001b[0m \u001b[0;34m=\u001b[0m \u001b[0;32mFalse\u001b[0m  \u001b[0;31m# pylint: disable=protected-access\u001b[0m\u001b[0;34m\u001b[0m\u001b[0;34m\u001b[0m\u001b[0m\n\u001b[1;32m    521\u001b[0m     \u001b[0;32mtry\u001b[0m\u001b[0;34m:\u001b[0m\u001b[0;34m\u001b[0m\u001b[0;34m\u001b[0m\u001b[0m\n\u001b[0;32m--> 522\u001b[0;31m       \u001b[0mresult\u001b[0m \u001b[0;34m=\u001b[0m \u001b[0mmethod\u001b[0m\u001b[0;34m(\u001b[0m\u001b[0mself\u001b[0m\u001b[0;34m,\u001b[0m \u001b[0;34m*\u001b[0m\u001b[0margs\u001b[0m\u001b[0;34m,\u001b[0m \u001b[0;34m**\u001b[0m\u001b[0mkwargs\u001b[0m\u001b[0;34m)\u001b[0m\u001b[0;34m\u001b[0m\u001b[0;34m\u001b[0m\u001b[0m\n\u001b[0m\u001b[1;32m    523\u001b[0m     \u001b[0;32mfinally\u001b[0m\u001b[0;34m:\u001b[0m\u001b[0;34m\u001b[0m\u001b[0;34m\u001b[0m\u001b[0m\n\u001b[1;32m    524\u001b[0m       \u001b[0mself\u001b[0m\u001b[0;34m.\u001b[0m\u001b[0m_self_setattr_tracking\u001b[0m \u001b[0;34m=\u001b[0m \u001b[0mprevious_value\u001b[0m  \u001b[0;31m# pylint: disable=protected-access\u001b[0m\u001b[0;34m\u001b[0m\u001b[0;34m\u001b[0m\u001b[0m\n",
      "\u001b[0;32m~/opt/anaconda3/lib/python3.7/site-packages/tensorflow/python/keras/engine/sequential.py\u001b[0m in \u001b[0;36madd\u001b[0;34m(self, layer)\u001b[0m\n\u001b[1;32m    211\u001b[0m           \u001b[0;31m# and create the node connecting the current layer\u001b[0m\u001b[0;34m\u001b[0m\u001b[0;34m\u001b[0m\u001b[0;34m\u001b[0m\u001b[0m\n\u001b[1;32m    212\u001b[0m           \u001b[0;31m# to the input layer we just created.\u001b[0m\u001b[0;34m\u001b[0m\u001b[0;34m\u001b[0m\u001b[0;34m\u001b[0m\u001b[0m\n\u001b[0;32m--> 213\u001b[0;31m           \u001b[0mlayer\u001b[0m\u001b[0;34m(\u001b[0m\u001b[0mx\u001b[0m\u001b[0;34m)\u001b[0m\u001b[0;34m\u001b[0m\u001b[0;34m\u001b[0m\u001b[0m\n\u001b[0m\u001b[1;32m    214\u001b[0m           \u001b[0mset_inputs\u001b[0m \u001b[0;34m=\u001b[0m \u001b[0;32mTrue\u001b[0m\u001b[0;34m\u001b[0m\u001b[0;34m\u001b[0m\u001b[0m\n\u001b[1;32m    215\u001b[0m \u001b[0;34m\u001b[0m\u001b[0m\n",
      "\u001b[0;32m~/opt/anaconda3/lib/python3.7/site-packages/tensorflow/python/keras/layers/recurrent.py\u001b[0m in \u001b[0;36m__call__\u001b[0;34m(self, inputs, initial_state, constants, **kwargs)\u001b[0m\n\u001b[1;32m    666\u001b[0m \u001b[0;34m\u001b[0m\u001b[0m\n\u001b[1;32m    667\u001b[0m     \u001b[0;32mif\u001b[0m \u001b[0minitial_state\u001b[0m \u001b[0;32mis\u001b[0m \u001b[0;32mNone\u001b[0m \u001b[0;32mand\u001b[0m \u001b[0mconstants\u001b[0m \u001b[0;32mis\u001b[0m \u001b[0;32mNone\u001b[0m\u001b[0;34m:\u001b[0m\u001b[0;34m\u001b[0m\u001b[0;34m\u001b[0m\u001b[0m\n\u001b[0;32m--> 668\u001b[0;31m       \u001b[0;32mreturn\u001b[0m \u001b[0msuper\u001b[0m\u001b[0;34m(\u001b[0m\u001b[0mRNN\u001b[0m\u001b[0;34m,\u001b[0m \u001b[0mself\u001b[0m\u001b[0;34m)\u001b[0m\u001b[0;34m.\u001b[0m\u001b[0m__call__\u001b[0m\u001b[0;34m(\u001b[0m\u001b[0minputs\u001b[0m\u001b[0;34m,\u001b[0m \u001b[0;34m**\u001b[0m\u001b[0mkwargs\u001b[0m\u001b[0;34m)\u001b[0m\u001b[0;34m\u001b[0m\u001b[0;34m\u001b[0m\u001b[0m\n\u001b[0m\u001b[1;32m    669\u001b[0m \u001b[0;34m\u001b[0m\u001b[0m\n\u001b[1;32m    670\u001b[0m     \u001b[0;31m# If any of `initial_state` or `constants` are specified and are Keras\u001b[0m\u001b[0;34m\u001b[0m\u001b[0;34m\u001b[0m\u001b[0;34m\u001b[0m\u001b[0m\n",
      "\u001b[0;32m~/opt/anaconda3/lib/python3.7/site-packages/tensorflow/python/keras/engine/base_layer.py\u001b[0m in \u001b[0;36m__call__\u001b[0;34m(self, *args, **kwargs)\u001b[0m\n\u001b[1;32m    968\u001b[0m     \u001b[0;32mif\u001b[0m \u001b[0m_in_functional_construction_mode\u001b[0m\u001b[0;34m(\u001b[0m\u001b[0mself\u001b[0m\u001b[0;34m,\u001b[0m \u001b[0minputs\u001b[0m\u001b[0;34m,\u001b[0m \u001b[0margs\u001b[0m\u001b[0;34m,\u001b[0m \u001b[0mkwargs\u001b[0m\u001b[0;34m,\u001b[0m \u001b[0minput_list\u001b[0m\u001b[0;34m)\u001b[0m\u001b[0;34m:\u001b[0m\u001b[0;34m\u001b[0m\u001b[0;34m\u001b[0m\u001b[0m\n\u001b[1;32m    969\u001b[0m       return self._functional_construction_call(inputs, args, kwargs,\n\u001b[0;32m--> 970\u001b[0;31m                                                 input_list)\n\u001b[0m\u001b[1;32m    971\u001b[0m \u001b[0;34m\u001b[0m\u001b[0m\n\u001b[1;32m    972\u001b[0m     \u001b[0;31m# Maintains info about the `Layer.call` stack.\u001b[0m\u001b[0;34m\u001b[0m\u001b[0;34m\u001b[0m\u001b[0;34m\u001b[0m\u001b[0m\n",
      "\u001b[0;32m~/opt/anaconda3/lib/python3.7/site-packages/tensorflow/python/keras/engine/base_layer.py\u001b[0m in \u001b[0;36m_functional_construction_call\u001b[0;34m(self, inputs, args, kwargs, input_list)\u001b[0m\n\u001b[1;32m   1106\u001b[0m       \u001b[0;31m# Check input assumptions set after layer building, e.g. input shape.\u001b[0m\u001b[0;34m\u001b[0m\u001b[0;34m\u001b[0m\u001b[0;34m\u001b[0m\u001b[0m\n\u001b[1;32m   1107\u001b[0m       outputs = self._keras_tensor_symbolic_call(\n\u001b[0;32m-> 1108\u001b[0;31m           inputs, input_masks, args, kwargs)\n\u001b[0m\u001b[1;32m   1109\u001b[0m \u001b[0;34m\u001b[0m\u001b[0m\n\u001b[1;32m   1110\u001b[0m       \u001b[0;32mif\u001b[0m \u001b[0moutputs\u001b[0m \u001b[0;32mis\u001b[0m \u001b[0;32mNone\u001b[0m\u001b[0;34m:\u001b[0m\u001b[0;34m\u001b[0m\u001b[0;34m\u001b[0m\u001b[0m\n",
      "\u001b[0;32m~/opt/anaconda3/lib/python3.7/site-packages/tensorflow/python/keras/engine/base_layer.py\u001b[0m in \u001b[0;36m_keras_tensor_symbolic_call\u001b[0;34m(self, inputs, input_masks, args, kwargs)\u001b[0m\n\u001b[1;32m    838\u001b[0m       \u001b[0;32mreturn\u001b[0m \u001b[0mnest\u001b[0m\u001b[0;34m.\u001b[0m\u001b[0mmap_structure\u001b[0m\u001b[0;34m(\u001b[0m\u001b[0mkeras_tensor\u001b[0m\u001b[0;34m.\u001b[0m\u001b[0mKerasTensor\u001b[0m\u001b[0;34m,\u001b[0m \u001b[0moutput_signature\u001b[0m\u001b[0;34m)\u001b[0m\u001b[0;34m\u001b[0m\u001b[0;34m\u001b[0m\u001b[0m\n\u001b[1;32m    839\u001b[0m     \u001b[0;32melse\u001b[0m\u001b[0;34m:\u001b[0m\u001b[0;34m\u001b[0m\u001b[0;34m\u001b[0m\u001b[0m\n\u001b[0;32m--> 840\u001b[0;31m       \u001b[0;32mreturn\u001b[0m \u001b[0mself\u001b[0m\u001b[0;34m.\u001b[0m\u001b[0m_infer_output_signature\u001b[0m\u001b[0;34m(\u001b[0m\u001b[0minputs\u001b[0m\u001b[0;34m,\u001b[0m \u001b[0margs\u001b[0m\u001b[0;34m,\u001b[0m \u001b[0mkwargs\u001b[0m\u001b[0;34m,\u001b[0m \u001b[0minput_masks\u001b[0m\u001b[0;34m)\u001b[0m\u001b[0;34m\u001b[0m\u001b[0;34m\u001b[0m\u001b[0m\n\u001b[0m\u001b[1;32m    841\u001b[0m \u001b[0;34m\u001b[0m\u001b[0m\n\u001b[1;32m    842\u001b[0m   \u001b[0;32mdef\u001b[0m \u001b[0m_infer_output_signature\u001b[0m\u001b[0;34m(\u001b[0m\u001b[0mself\u001b[0m\u001b[0;34m,\u001b[0m \u001b[0minputs\u001b[0m\u001b[0;34m,\u001b[0m \u001b[0margs\u001b[0m\u001b[0;34m,\u001b[0m \u001b[0mkwargs\u001b[0m\u001b[0;34m,\u001b[0m \u001b[0minput_masks\u001b[0m\u001b[0;34m)\u001b[0m\u001b[0;34m:\u001b[0m\u001b[0;34m\u001b[0m\u001b[0;34m\u001b[0m\u001b[0m\n",
      "\u001b[0;32m~/opt/anaconda3/lib/python3.7/site-packages/tensorflow/python/keras/engine/base_layer.py\u001b[0m in \u001b[0;36m_infer_output_signature\u001b[0;34m(self, inputs, args, kwargs, input_masks)\u001b[0m\n\u001b[1;32m    878\u001b[0m           \u001b[0mself\u001b[0m\u001b[0;34m.\u001b[0m\u001b[0m_maybe_build\u001b[0m\u001b[0;34m(\u001b[0m\u001b[0minputs\u001b[0m\u001b[0;34m)\u001b[0m\u001b[0;34m\u001b[0m\u001b[0;34m\u001b[0m\u001b[0m\n\u001b[1;32m    879\u001b[0m           \u001b[0minputs\u001b[0m \u001b[0;34m=\u001b[0m \u001b[0mself\u001b[0m\u001b[0;34m.\u001b[0m\u001b[0m_maybe_cast_inputs\u001b[0m\u001b[0;34m(\u001b[0m\u001b[0minputs\u001b[0m\u001b[0;34m)\u001b[0m\u001b[0;34m\u001b[0m\u001b[0;34m\u001b[0m\u001b[0m\n\u001b[0;32m--> 880\u001b[0;31m           \u001b[0moutputs\u001b[0m \u001b[0;34m=\u001b[0m \u001b[0mcall_fn\u001b[0m\u001b[0;34m(\u001b[0m\u001b[0minputs\u001b[0m\u001b[0;34m,\u001b[0m \u001b[0;34m*\u001b[0m\u001b[0margs\u001b[0m\u001b[0;34m,\u001b[0m \u001b[0;34m**\u001b[0m\u001b[0mkwargs\u001b[0m\u001b[0;34m)\u001b[0m\u001b[0;34m\u001b[0m\u001b[0;34m\u001b[0m\u001b[0m\n\u001b[0m\u001b[1;32m    881\u001b[0m \u001b[0;34m\u001b[0m\u001b[0m\n\u001b[1;32m    882\u001b[0m         \u001b[0mself\u001b[0m\u001b[0;34m.\u001b[0m\u001b[0m_handle_activity_regularization\u001b[0m\u001b[0;34m(\u001b[0m\u001b[0minputs\u001b[0m\u001b[0;34m,\u001b[0m \u001b[0moutputs\u001b[0m\u001b[0;34m)\u001b[0m\u001b[0;34m\u001b[0m\u001b[0;34m\u001b[0m\u001b[0m\n",
      "\u001b[0;32m~/opt/anaconda3/lib/python3.7/site-packages/tensorflow/python/keras/layers/recurrent_v2.py\u001b[0m in \u001b[0;36mcall\u001b[0;34m(self, inputs, mask, training, initial_state)\u001b[0m\n\u001b[1;32m    424\u001b[0m \u001b[0;34m\u001b[0m\u001b[0m\n\u001b[1;32m    425\u001b[0m     \u001b[0;31m# GRU does not support constants. Ignore it during process.\u001b[0m\u001b[0;34m\u001b[0m\u001b[0;34m\u001b[0m\u001b[0;34m\u001b[0m\u001b[0m\n\u001b[0;32m--> 426\u001b[0;31m     \u001b[0minputs\u001b[0m\u001b[0;34m,\u001b[0m \u001b[0minitial_state\u001b[0m\u001b[0;34m,\u001b[0m \u001b[0m_\u001b[0m \u001b[0;34m=\u001b[0m \u001b[0mself\u001b[0m\u001b[0;34m.\u001b[0m\u001b[0m_process_inputs\u001b[0m\u001b[0;34m(\u001b[0m\u001b[0minputs\u001b[0m\u001b[0;34m,\u001b[0m \u001b[0minitial_state\u001b[0m\u001b[0;34m,\u001b[0m \u001b[0;32mNone\u001b[0m\u001b[0;34m)\u001b[0m\u001b[0;34m\u001b[0m\u001b[0;34m\u001b[0m\u001b[0m\n\u001b[0m\u001b[1;32m    427\u001b[0m \u001b[0;34m\u001b[0m\u001b[0m\n\u001b[1;32m    428\u001b[0m     \u001b[0;32mif\u001b[0m \u001b[0misinstance\u001b[0m\u001b[0;34m(\u001b[0m\u001b[0mmask\u001b[0m\u001b[0;34m,\u001b[0m \u001b[0mlist\u001b[0m\u001b[0;34m)\u001b[0m\u001b[0;34m:\u001b[0m\u001b[0;34m\u001b[0m\u001b[0;34m\u001b[0m\u001b[0m\n",
      "\u001b[0;32m~/opt/anaconda3/lib/python3.7/site-packages/tensorflow/python/keras/layers/recurrent.py\u001b[0m in \u001b[0;36m_process_inputs\u001b[0;34m(self, inputs, initial_state, constants)\u001b[0m\n\u001b[1;32m    866\u001b[0m         \u001b[0minitial_state\u001b[0m \u001b[0;34m=\u001b[0m \u001b[0mself\u001b[0m\u001b[0;34m.\u001b[0m\u001b[0mstates\u001b[0m\u001b[0;34m\u001b[0m\u001b[0;34m\u001b[0m\u001b[0m\n\u001b[1;32m    867\u001b[0m     \u001b[0;32melif\u001b[0m \u001b[0minitial_state\u001b[0m \u001b[0;32mis\u001b[0m \u001b[0;32mNone\u001b[0m\u001b[0;34m:\u001b[0m\u001b[0;34m\u001b[0m\u001b[0;34m\u001b[0m\u001b[0m\n\u001b[0;32m--> 868\u001b[0;31m       \u001b[0minitial_state\u001b[0m \u001b[0;34m=\u001b[0m \u001b[0mself\u001b[0m\u001b[0;34m.\u001b[0m\u001b[0mget_initial_state\u001b[0m\u001b[0;34m(\u001b[0m\u001b[0minputs\u001b[0m\u001b[0;34m)\u001b[0m\u001b[0;34m\u001b[0m\u001b[0;34m\u001b[0m\u001b[0m\n\u001b[0m\u001b[1;32m    869\u001b[0m \u001b[0;34m\u001b[0m\u001b[0m\n\u001b[1;32m    870\u001b[0m     \u001b[0;32mif\u001b[0m \u001b[0mlen\u001b[0m\u001b[0;34m(\u001b[0m\u001b[0minitial_state\u001b[0m\u001b[0;34m)\u001b[0m \u001b[0;34m!=\u001b[0m \u001b[0mlen\u001b[0m\u001b[0;34m(\u001b[0m\u001b[0mself\u001b[0m\u001b[0;34m.\u001b[0m\u001b[0mstates\u001b[0m\u001b[0;34m)\u001b[0m\u001b[0;34m:\u001b[0m\u001b[0;34m\u001b[0m\u001b[0;34m\u001b[0m\u001b[0m\n",
      "\u001b[0;32m~/opt/anaconda3/lib/python3.7/site-packages/tensorflow/python/keras/layers/recurrent.py\u001b[0m in \u001b[0;36mget_initial_state\u001b[0;34m(self, inputs)\u001b[0m\n\u001b[1;32m    649\u001b[0m     \u001b[0;32mif\u001b[0m \u001b[0mget_initial_state_fn\u001b[0m\u001b[0;34m:\u001b[0m\u001b[0;34m\u001b[0m\u001b[0;34m\u001b[0m\u001b[0m\n\u001b[1;32m    650\u001b[0m       init_state = get_initial_state_fn(\n\u001b[0;32m--> 651\u001b[0;31m           inputs=None, batch_size=batch_size, dtype=dtype)\n\u001b[0m\u001b[1;32m    652\u001b[0m     \u001b[0;32melse\u001b[0m\u001b[0;34m:\u001b[0m\u001b[0;34m\u001b[0m\u001b[0;34m\u001b[0m\u001b[0m\n\u001b[1;32m    653\u001b[0m       init_state = _generate_zero_filled_state(batch_size, self.cell.state_size,\n",
      "\u001b[0;32m~/opt/anaconda3/lib/python3.7/site-packages/tensorflow/python/keras/layers/recurrent.py\u001b[0m in \u001b[0;36mget_initial_state\u001b[0;34m(self, inputs, batch_size, dtype)\u001b[0m\n\u001b[1;32m   1961\u001b[0m \u001b[0;34m\u001b[0m\u001b[0m\n\u001b[1;32m   1962\u001b[0m   \u001b[0;32mdef\u001b[0m \u001b[0mget_initial_state\u001b[0m\u001b[0;34m(\u001b[0m\u001b[0mself\u001b[0m\u001b[0;34m,\u001b[0m \u001b[0minputs\u001b[0m\u001b[0;34m=\u001b[0m\u001b[0;32mNone\u001b[0m\u001b[0;34m,\u001b[0m \u001b[0mbatch_size\u001b[0m\u001b[0;34m=\u001b[0m\u001b[0;32mNone\u001b[0m\u001b[0;34m,\u001b[0m \u001b[0mdtype\u001b[0m\u001b[0;34m=\u001b[0m\u001b[0;32mNone\u001b[0m\u001b[0;34m)\u001b[0m\u001b[0;34m:\u001b[0m\u001b[0;34m\u001b[0m\u001b[0;34m\u001b[0m\u001b[0m\n\u001b[0;32m-> 1963\u001b[0;31m     \u001b[0;32mreturn\u001b[0m \u001b[0m_generate_zero_filled_state_for_cell\u001b[0m\u001b[0;34m(\u001b[0m\u001b[0mself\u001b[0m\u001b[0;34m,\u001b[0m \u001b[0minputs\u001b[0m\u001b[0;34m,\u001b[0m \u001b[0mbatch_size\u001b[0m\u001b[0;34m,\u001b[0m \u001b[0mdtype\u001b[0m\u001b[0;34m)\u001b[0m\u001b[0;34m\u001b[0m\u001b[0;34m\u001b[0m\u001b[0m\n\u001b[0m\u001b[1;32m   1964\u001b[0m \u001b[0;34m\u001b[0m\u001b[0m\n\u001b[1;32m   1965\u001b[0m \u001b[0;34m\u001b[0m\u001b[0m\n",
      "\u001b[0;32m~/opt/anaconda3/lib/python3.7/site-packages/tensorflow/python/keras/layers/recurrent.py\u001b[0m in \u001b[0;36m_generate_zero_filled_state_for_cell\u001b[0;34m(cell, inputs, batch_size, dtype)\u001b[0m\n\u001b[1;32m   2996\u001b[0m     \u001b[0mbatch_size\u001b[0m \u001b[0;34m=\u001b[0m \u001b[0marray_ops\u001b[0m\u001b[0;34m.\u001b[0m\u001b[0mshape\u001b[0m\u001b[0;34m(\u001b[0m\u001b[0minputs\u001b[0m\u001b[0;34m)\u001b[0m\u001b[0;34m[\u001b[0m\u001b[0;36m0\u001b[0m\u001b[0;34m]\u001b[0m\u001b[0;34m\u001b[0m\u001b[0;34m\u001b[0m\u001b[0m\n\u001b[1;32m   2997\u001b[0m     \u001b[0mdtype\u001b[0m \u001b[0;34m=\u001b[0m \u001b[0minputs\u001b[0m\u001b[0;34m.\u001b[0m\u001b[0mdtype\u001b[0m\u001b[0;34m\u001b[0m\u001b[0;34m\u001b[0m\u001b[0m\n\u001b[0;32m-> 2998\u001b[0;31m   \u001b[0;32mreturn\u001b[0m \u001b[0m_generate_zero_filled_state\u001b[0m\u001b[0;34m(\u001b[0m\u001b[0mbatch_size\u001b[0m\u001b[0;34m,\u001b[0m \u001b[0mcell\u001b[0m\u001b[0;34m.\u001b[0m\u001b[0mstate_size\u001b[0m\u001b[0;34m,\u001b[0m \u001b[0mdtype\u001b[0m\u001b[0;34m)\u001b[0m\u001b[0;34m\u001b[0m\u001b[0;34m\u001b[0m\u001b[0m\n\u001b[0m\u001b[1;32m   2999\u001b[0m \u001b[0;34m\u001b[0m\u001b[0m\n\u001b[1;32m   3000\u001b[0m \u001b[0;34m\u001b[0m\u001b[0m\n",
      "\u001b[0;32m~/opt/anaconda3/lib/python3.7/site-packages/tensorflow/python/keras/layers/recurrent.py\u001b[0m in \u001b[0;36m_generate_zero_filled_state\u001b[0;34m(batch_size_tensor, state_size, dtype)\u001b[0m\n\u001b[1;32m   3014\u001b[0m     \u001b[0;32mreturn\u001b[0m \u001b[0mnest\u001b[0m\u001b[0;34m.\u001b[0m\u001b[0mmap_structure\u001b[0m\u001b[0;34m(\u001b[0m\u001b[0mcreate_zeros\u001b[0m\u001b[0;34m,\u001b[0m \u001b[0mstate_size\u001b[0m\u001b[0;34m)\u001b[0m\u001b[0;34m\u001b[0m\u001b[0;34m\u001b[0m\u001b[0m\n\u001b[1;32m   3015\u001b[0m   \u001b[0;32melse\u001b[0m\u001b[0;34m:\u001b[0m\u001b[0;34m\u001b[0m\u001b[0;34m\u001b[0m\u001b[0m\n\u001b[0;32m-> 3016\u001b[0;31m     \u001b[0;32mreturn\u001b[0m \u001b[0mcreate_zeros\u001b[0m\u001b[0;34m(\u001b[0m\u001b[0mstate_size\u001b[0m\u001b[0;34m)\u001b[0m\u001b[0;34m\u001b[0m\u001b[0;34m\u001b[0m\u001b[0m\n\u001b[0m\u001b[1;32m   3017\u001b[0m \u001b[0;34m\u001b[0m\u001b[0m\n\u001b[1;32m   3018\u001b[0m \u001b[0;34m\u001b[0m\u001b[0m\n",
      "\u001b[0;32m~/opt/anaconda3/lib/python3.7/site-packages/tensorflow/python/keras/layers/recurrent.py\u001b[0m in \u001b[0;36mcreate_zeros\u001b[0;34m(unnested_state_size)\u001b[0m\n\u001b[1;32m   3009\u001b[0m     \u001b[0mflat_dims\u001b[0m \u001b[0;34m=\u001b[0m \u001b[0mtensor_shape\u001b[0m\u001b[0;34m.\u001b[0m\u001b[0mTensorShape\u001b[0m\u001b[0;34m(\u001b[0m\u001b[0munnested_state_size\u001b[0m\u001b[0;34m)\u001b[0m\u001b[0;34m.\u001b[0m\u001b[0mas_list\u001b[0m\u001b[0;34m(\u001b[0m\u001b[0;34m)\u001b[0m\u001b[0;34m\u001b[0m\u001b[0;34m\u001b[0m\u001b[0m\n\u001b[1;32m   3010\u001b[0m     \u001b[0minit_state_size\u001b[0m \u001b[0;34m=\u001b[0m \u001b[0;34m[\u001b[0m\u001b[0mbatch_size_tensor\u001b[0m\u001b[0;34m]\u001b[0m \u001b[0;34m+\u001b[0m \u001b[0mflat_dims\u001b[0m\u001b[0;34m\u001b[0m\u001b[0;34m\u001b[0m\u001b[0m\n\u001b[0;32m-> 3011\u001b[0;31m     \u001b[0;32mreturn\u001b[0m \u001b[0marray_ops\u001b[0m\u001b[0;34m.\u001b[0m\u001b[0mzeros\u001b[0m\u001b[0;34m(\u001b[0m\u001b[0minit_state_size\u001b[0m\u001b[0;34m,\u001b[0m \u001b[0mdtype\u001b[0m\u001b[0;34m=\u001b[0m\u001b[0mdtype\u001b[0m\u001b[0;34m)\u001b[0m\u001b[0;34m\u001b[0m\u001b[0;34m\u001b[0m\u001b[0m\n\u001b[0m\u001b[1;32m   3012\u001b[0m \u001b[0;34m\u001b[0m\u001b[0m\n\u001b[1;32m   3013\u001b[0m   \u001b[0;32mif\u001b[0m \u001b[0mnest\u001b[0m\u001b[0;34m.\u001b[0m\u001b[0mis_nested\u001b[0m\u001b[0;34m(\u001b[0m\u001b[0mstate_size\u001b[0m\u001b[0;34m)\u001b[0m\u001b[0;34m:\u001b[0m\u001b[0;34m\u001b[0m\u001b[0;34m\u001b[0m\u001b[0m\n",
      "\u001b[0;32m~/opt/anaconda3/lib/python3.7/site-packages/tensorflow/python/util/dispatch.py\u001b[0m in \u001b[0;36mwrapper\u001b[0;34m(*args, **kwargs)\u001b[0m\n\u001b[1;32m    204\u001b[0m     \u001b[0;34m\"\"\"Call target, and fall back on dispatchers if there is a TypeError.\"\"\"\u001b[0m\u001b[0;34m\u001b[0m\u001b[0;34m\u001b[0m\u001b[0m\n\u001b[1;32m    205\u001b[0m     \u001b[0;32mtry\u001b[0m\u001b[0;34m:\u001b[0m\u001b[0;34m\u001b[0m\u001b[0;34m\u001b[0m\u001b[0m\n\u001b[0;32m--> 206\u001b[0;31m       \u001b[0;32mreturn\u001b[0m \u001b[0mtarget\u001b[0m\u001b[0;34m(\u001b[0m\u001b[0;34m*\u001b[0m\u001b[0margs\u001b[0m\u001b[0;34m,\u001b[0m \u001b[0;34m**\u001b[0m\u001b[0mkwargs\u001b[0m\u001b[0;34m)\u001b[0m\u001b[0;34m\u001b[0m\u001b[0;34m\u001b[0m\u001b[0m\n\u001b[0m\u001b[1;32m    207\u001b[0m     \u001b[0;32mexcept\u001b[0m \u001b[0;34m(\u001b[0m\u001b[0mTypeError\u001b[0m\u001b[0;34m,\u001b[0m \u001b[0mValueError\u001b[0m\u001b[0;34m)\u001b[0m\u001b[0;34m:\u001b[0m\u001b[0;34m\u001b[0m\u001b[0;34m\u001b[0m\u001b[0m\n\u001b[1;32m    208\u001b[0m       \u001b[0;31m# Note: convert_to_eager_tensor currently raises a ValueError, not a\u001b[0m\u001b[0;34m\u001b[0m\u001b[0;34m\u001b[0m\u001b[0;34m\u001b[0m\u001b[0m\n",
      "\u001b[0;32m~/opt/anaconda3/lib/python3.7/site-packages/tensorflow/python/ops/array_ops.py\u001b[0m in \u001b[0;36mwrapped\u001b[0;34m(*args, **kwargs)\u001b[0m\n\u001b[1;32m   2909\u001b[0m \u001b[0;34m\u001b[0m\u001b[0m\n\u001b[1;32m   2910\u001b[0m   \u001b[0;32mdef\u001b[0m \u001b[0mwrapped\u001b[0m\u001b[0;34m(\u001b[0m\u001b[0;34m*\u001b[0m\u001b[0margs\u001b[0m\u001b[0;34m,\u001b[0m \u001b[0;34m**\u001b[0m\u001b[0mkwargs\u001b[0m\u001b[0;34m)\u001b[0m\u001b[0;34m:\u001b[0m\u001b[0;34m\u001b[0m\u001b[0;34m\u001b[0m\u001b[0m\n\u001b[0;32m-> 2911\u001b[0;31m     \u001b[0mtensor\u001b[0m \u001b[0;34m=\u001b[0m \u001b[0mfun\u001b[0m\u001b[0;34m(\u001b[0m\u001b[0;34m*\u001b[0m\u001b[0margs\u001b[0m\u001b[0;34m,\u001b[0m \u001b[0;34m**\u001b[0m\u001b[0mkwargs\u001b[0m\u001b[0;34m)\u001b[0m\u001b[0;34m\u001b[0m\u001b[0;34m\u001b[0m\u001b[0m\n\u001b[0m\u001b[1;32m   2912\u001b[0m     \u001b[0mtensor\u001b[0m\u001b[0;34m.\u001b[0m\u001b[0m_is_zeros_tensor\u001b[0m \u001b[0;34m=\u001b[0m \u001b[0;32mTrue\u001b[0m\u001b[0;34m\u001b[0m\u001b[0;34m\u001b[0m\u001b[0m\n\u001b[1;32m   2913\u001b[0m     \u001b[0;32mreturn\u001b[0m \u001b[0mtensor\u001b[0m\u001b[0;34m\u001b[0m\u001b[0;34m\u001b[0m\u001b[0m\n",
      "\u001b[0;32m~/opt/anaconda3/lib/python3.7/site-packages/tensorflow/python/ops/array_ops.py\u001b[0m in \u001b[0;36mzeros\u001b[0;34m(shape, dtype, name)\u001b[0m\n\u001b[1;32m   2958\u001b[0m           \u001b[0;31m# Create a constant if it won't be very big. Otherwise create a fill\u001b[0m\u001b[0;34m\u001b[0m\u001b[0;34m\u001b[0m\u001b[0;34m\u001b[0m\u001b[0m\n\u001b[1;32m   2959\u001b[0m           \u001b[0;31m# op to prevent serialized GraphDefs from becoming too large.\u001b[0m\u001b[0;34m\u001b[0m\u001b[0;34m\u001b[0m\u001b[0;34m\u001b[0m\u001b[0m\n\u001b[0;32m-> 2960\u001b[0;31m           \u001b[0moutput\u001b[0m \u001b[0;34m=\u001b[0m \u001b[0m_constant_if_small\u001b[0m\u001b[0;34m(\u001b[0m\u001b[0mzero\u001b[0m\u001b[0;34m,\u001b[0m \u001b[0mshape\u001b[0m\u001b[0;34m,\u001b[0m \u001b[0mdtype\u001b[0m\u001b[0;34m,\u001b[0m \u001b[0mname\u001b[0m\u001b[0;34m)\u001b[0m\u001b[0;34m\u001b[0m\u001b[0;34m\u001b[0m\u001b[0m\n\u001b[0m\u001b[1;32m   2961\u001b[0m           \u001b[0;32mif\u001b[0m \u001b[0moutput\u001b[0m \u001b[0;32mis\u001b[0m \u001b[0;32mnot\u001b[0m \u001b[0;32mNone\u001b[0m\u001b[0;34m:\u001b[0m\u001b[0;34m\u001b[0m\u001b[0;34m\u001b[0m\u001b[0m\n\u001b[1;32m   2962\u001b[0m             \u001b[0;32mreturn\u001b[0m \u001b[0moutput\u001b[0m\u001b[0;34m\u001b[0m\u001b[0;34m\u001b[0m\u001b[0m\n",
      "\u001b[0;32m~/opt/anaconda3/lib/python3.7/site-packages/tensorflow/python/ops/array_ops.py\u001b[0m in \u001b[0;36m_constant_if_small\u001b[0;34m(value, shape, dtype, name)\u001b[0m\n\u001b[1;32m   2894\u001b[0m \u001b[0;32mdef\u001b[0m \u001b[0m_constant_if_small\u001b[0m\u001b[0;34m(\u001b[0m\u001b[0mvalue\u001b[0m\u001b[0;34m,\u001b[0m \u001b[0mshape\u001b[0m\u001b[0;34m,\u001b[0m \u001b[0mdtype\u001b[0m\u001b[0;34m,\u001b[0m \u001b[0mname\u001b[0m\u001b[0;34m)\u001b[0m\u001b[0;34m:\u001b[0m\u001b[0;34m\u001b[0m\u001b[0;34m\u001b[0m\u001b[0m\n\u001b[1;32m   2895\u001b[0m   \u001b[0;32mtry\u001b[0m\u001b[0;34m:\u001b[0m\u001b[0;34m\u001b[0m\u001b[0;34m\u001b[0m\u001b[0m\n\u001b[0;32m-> 2896\u001b[0;31m     \u001b[0;32mif\u001b[0m \u001b[0mnp\u001b[0m\u001b[0;34m.\u001b[0m\u001b[0mprod\u001b[0m\u001b[0;34m(\u001b[0m\u001b[0mshape\u001b[0m\u001b[0;34m)\u001b[0m \u001b[0;34m<\u001b[0m \u001b[0;36m1000\u001b[0m\u001b[0;34m:\u001b[0m\u001b[0;34m\u001b[0m\u001b[0;34m\u001b[0m\u001b[0m\n\u001b[0m\u001b[1;32m   2897\u001b[0m       \u001b[0;32mreturn\u001b[0m \u001b[0mconstant\u001b[0m\u001b[0;34m(\u001b[0m\u001b[0mvalue\u001b[0m\u001b[0;34m,\u001b[0m \u001b[0mshape\u001b[0m\u001b[0;34m=\u001b[0m\u001b[0mshape\u001b[0m\u001b[0;34m,\u001b[0m \u001b[0mdtype\u001b[0m\u001b[0;34m=\u001b[0m\u001b[0mdtype\u001b[0m\u001b[0;34m,\u001b[0m \u001b[0mname\u001b[0m\u001b[0;34m=\u001b[0m\u001b[0mname\u001b[0m\u001b[0;34m)\u001b[0m\u001b[0;34m\u001b[0m\u001b[0;34m\u001b[0m\u001b[0m\n\u001b[1;32m   2898\u001b[0m   \u001b[0;32mexcept\u001b[0m \u001b[0mTypeError\u001b[0m\u001b[0;34m:\u001b[0m\u001b[0;34m\u001b[0m\u001b[0;34m\u001b[0m\u001b[0m\n",
      "\u001b[0;32m<__array_function__ internals>\u001b[0m in \u001b[0;36mprod\u001b[0;34m(*args, **kwargs)\u001b[0m\n",
      "\u001b[0;32m~/opt/anaconda3/lib/python3.7/site-packages/numpy/core/fromnumeric.py\u001b[0m in \u001b[0;36mprod\u001b[0;34m(a, axis, dtype, out, keepdims, initial, where)\u001b[0m\n\u001b[1;32m   3050\u001b[0m     \"\"\"\n\u001b[1;32m   3051\u001b[0m     return _wrapreduction(a, np.multiply, 'prod', axis, dtype, out,\n\u001b[0;32m-> 3052\u001b[0;31m                           keepdims=keepdims, initial=initial, where=where)\n\u001b[0m\u001b[1;32m   3053\u001b[0m \u001b[0;34m\u001b[0m\u001b[0m\n\u001b[1;32m   3054\u001b[0m \u001b[0;34m\u001b[0m\u001b[0m\n",
      "\u001b[0;32m~/opt/anaconda3/lib/python3.7/site-packages/numpy/core/fromnumeric.py\u001b[0m in \u001b[0;36m_wrapreduction\u001b[0;34m(obj, ufunc, method, axis, dtype, out, **kwargs)\u001b[0m\n\u001b[1;32m     84\u001b[0m                 \u001b[0;32mreturn\u001b[0m \u001b[0mreduction\u001b[0m\u001b[0;34m(\u001b[0m\u001b[0maxis\u001b[0m\u001b[0;34m=\u001b[0m\u001b[0maxis\u001b[0m\u001b[0;34m,\u001b[0m \u001b[0mout\u001b[0m\u001b[0;34m=\u001b[0m\u001b[0mout\u001b[0m\u001b[0;34m,\u001b[0m \u001b[0;34m**\u001b[0m\u001b[0mpasskwargs\u001b[0m\u001b[0;34m)\u001b[0m\u001b[0;34m\u001b[0m\u001b[0;34m\u001b[0m\u001b[0m\n\u001b[1;32m     85\u001b[0m \u001b[0;34m\u001b[0m\u001b[0m\n\u001b[0;32m---> 86\u001b[0;31m     \u001b[0;32mreturn\u001b[0m \u001b[0mufunc\u001b[0m\u001b[0;34m.\u001b[0m\u001b[0mreduce\u001b[0m\u001b[0;34m(\u001b[0m\u001b[0mobj\u001b[0m\u001b[0;34m,\u001b[0m \u001b[0maxis\u001b[0m\u001b[0;34m,\u001b[0m \u001b[0mdtype\u001b[0m\u001b[0;34m,\u001b[0m \u001b[0mout\u001b[0m\u001b[0;34m,\u001b[0m \u001b[0;34m**\u001b[0m\u001b[0mpasskwargs\u001b[0m\u001b[0;34m)\u001b[0m\u001b[0;34m\u001b[0m\u001b[0;34m\u001b[0m\u001b[0m\n\u001b[0m\u001b[1;32m     87\u001b[0m \u001b[0;34m\u001b[0m\u001b[0m\n\u001b[1;32m     88\u001b[0m \u001b[0;34m\u001b[0m\u001b[0m\n",
      "\u001b[0;32m~/opt/anaconda3/lib/python3.7/site-packages/tensorflow/python/framework/ops.py\u001b[0m in \u001b[0;36m__array__\u001b[0;34m(self)\u001b[0m\n\u001b[1;32m    868\u001b[0m         \u001b[0;34m\"Cannot convert a symbolic Tensor ({}) to a numpy array.\"\u001b[0m\u001b[0;34m\u001b[0m\u001b[0;34m\u001b[0m\u001b[0m\n\u001b[1;32m    869\u001b[0m         \u001b[0;34m\" This error may indicate that you're trying to pass a Tensor to\"\u001b[0m\u001b[0;34m\u001b[0m\u001b[0;34m\u001b[0m\u001b[0m\n\u001b[0;32m--> 870\u001b[0;31m         \" a NumPy call, which is not supported\".format(self.name))\n\u001b[0m\u001b[1;32m    871\u001b[0m \u001b[0;34m\u001b[0m\u001b[0m\n\u001b[1;32m    872\u001b[0m   \u001b[0;32mdef\u001b[0m \u001b[0m__len__\u001b[0m\u001b[0;34m(\u001b[0m\u001b[0mself\u001b[0m\u001b[0;34m)\u001b[0m\u001b[0;34m:\u001b[0m\u001b[0;34m\u001b[0m\u001b[0;34m\u001b[0m\u001b[0m\n",
      "\u001b[0;31mNotImplementedError\u001b[0m: Cannot convert a symbolic Tensor (gru/strided_slice:0) to a numpy array. This error may indicate that you're trying to pass a Tensor to a NumPy call, which is not supported"
     ]
    }
   ],
   "source": [
    "model = keras.models.Sequential([\n",
    "    keras.layers.GRU(128,\n",
    "                     return_sequences=True,\n",
    "                     input_shape=[None, max_id],\n",
    "                     # dropout=0.2, recurrent_dropout=0.2\n",
    "                     dropout=0.2),\n",
    "    keras.layers.GRU(128, return_sequences=True, dropout=0.2),\n",
    "    keras.layers.TimeDistributed(\n",
    "        keras.layers.Dense(max_id, activation=\"softmax\"))\n",
    "])"
   ]
  },
  {
   "cell_type": "code",
   "execution_count": null,
   "id": "ac82a2ab",
   "metadata": {
    "execution": {
     "iopub.execute_input": "2022-04-17T12:51:30.978944Z",
     "iopub.status.busy": "2022-04-17T12:51:30.978366Z",
     "iopub.status.idle": "2022-04-17T15:02:38.595979Z",
     "shell.execute_reply": "2022-04-17T15:02:38.595343Z"
    },
    "papermill": {
     "duration": 7867.743691,
     "end_time": "2022-04-17T15:02:38.597915",
     "exception": false,
     "start_time": "2022-04-17T12:51:30.854224",
     "status": "completed"
    },
    "scrolled": true,
    "tags": []
   },
   "outputs": [],
   "source": [
    "model.compile(loss=\"sparse_categorical_crossentropy\", optimizer=\"adam\")\n",
    "history = model.fit(dataset, epochs=20)"
   ]
  },
  {
   "cell_type": "code",
   "execution_count": null,
   "id": "78131733",
   "metadata": {
    "execution": {
     "iopub.execute_input": "2022-04-17T15:04:05.891237Z",
     "iopub.status.busy": "2022-04-17T15:04:05.890979Z",
     "iopub.status.idle": "2022-04-17T15:04:05.927724Z",
     "shell.execute_reply": "2022-04-17T15:04:05.927045Z"
    },
    "papermill": {
     "duration": 43.609502,
     "end_time": "2022-04-17T15:04:05.929479",
     "exception": false,
     "start_time": "2022-04-17T15:03:22.319977",
     "status": "completed"
    },
    "tags": []
   },
   "outputs": [],
   "source": [
    "model.save(\"./models/my_CharRNN_model.h5\")"
   ]
  },
  {
   "cell_type": "code",
   "execution_count": null,
   "id": "8264548e",
   "metadata": {
    "execution": {
     "iopub.execute_input": "2022-04-17T15:05:32.841278Z",
     "iopub.status.busy": "2022-04-17T15:05:32.841005Z",
     "iopub.status.idle": "2022-04-17T15:05:33.258648Z",
     "shell.execute_reply": "2022-04-17T15:05:33.257924Z"
    },
    "papermill": {
     "duration": 44.019163,
     "end_time": "2022-04-17T15:05:33.261765",
     "exception": false,
     "start_time": "2022-04-17T15:04:49.242602",
     "status": "completed"
    },
    "tags": []
   },
   "outputs": [],
   "source": [
    "model = keras.models.load_model('./models/my_CharRNN_model.h5')"
   ]
  },
  {
   "cell_type": "markdown",
   "id": "b9dd34fa",
   "metadata": {
    "papermill": {
     "duration": 43.697736,
     "end_time": "2022-04-17T15:07:00.816588",
     "exception": false,
     "start_time": "2022-04-17T15:06:17.118852",
     "status": "completed"
    },
    "tags": []
   },
   "source": [
    "## 使用Char-RNN模型 Using the Char-RNN model"
   ]
  },
  {
   "cell_type": "markdown",
   "id": "fd1007ad",
   "metadata": {
    "papermill": {
     "duration": 44.076193,
     "end_time": "2022-04-17T15:08:28.308753",
     "exception": false,
     "start_time": "2022-04-17T15:07:44.232560",
     "status": "completed"
    },
    "tags": []
   },
   "source": [
    "- 首先需要对数据进行预处理\n",
    "    \n",
    "    对文本进行编码，将每个字符都用ID来表示(从0开始), 并使用独热编码."
   ]
  },
  {
   "cell_type": "code",
   "execution_count": null,
   "id": "40af60d9",
   "metadata": {
    "execution": {
     "iopub.execute_input": "2022-04-17T15:09:55.588100Z",
     "iopub.status.busy": "2022-04-17T15:09:55.587838Z",
     "iopub.status.idle": "2022-04-17T15:09:55.591926Z",
     "shell.execute_reply": "2022-04-17T15:09:55.591263Z"
    },
    "papermill": {
     "duration": 43.568091,
     "end_time": "2022-04-17T15:09:55.593627",
     "exception": false,
     "start_time": "2022-04-17T15:09:12.025536",
     "status": "completed"
    },
    "tags": []
   },
   "outputs": [],
   "source": [
    "def preprocess(tests):\n",
    "    X = np.array(tokenizer.texts_to_sequences(tests)) - 1\n",
    "    return tf.one_hot(X, max_id)"
   ]
  },
  {
   "cell_type": "markdown",
   "id": "fabe5ec0",
   "metadata": {
    "papermill": {
     "duration": 43.667027,
     "end_time": "2022-04-17T15:11:23.144009",
     "exception": false,
     "start_time": "2022-04-17T15:10:39.476982",
     "status": "completed"
    },
    "tags": []
   },
   "source": [
    "- 接下来可以使用这个模型,预测文本中的下一个字母."
   ]
  },
  {
   "cell_type": "code",
   "execution_count": null,
   "id": "adccaff4",
   "metadata": {
    "execution": {
     "iopub.execute_input": "2022-04-17T15:12:50.691116Z",
     "iopub.status.busy": "2022-04-17T15:12:50.690859Z",
     "iopub.status.idle": "2022-04-17T15:12:50.712439Z",
     "shell.execute_reply": "2022-04-17T15:12:50.711806Z"
    },
    "papermill": {
     "duration": 43.762039,
     "end_time": "2022-04-17T15:12:50.714215",
     "exception": false,
     "start_time": "2022-04-17T15:12:06.952176",
     "status": "completed"
    },
    "tags": []
   },
   "outputs": [],
   "source": [
    "X_new = preprocess([\"I love yo\"])\n",
    "y_pred = np.argmax(model(X_new), axis=-1)"
   ]
  },
  {
   "cell_type": "code",
   "execution_count": null,
   "id": "6480842f",
   "metadata": {
    "execution": {
     "iopub.execute_input": "2022-04-17T15:14:18.032473Z",
     "iopub.status.busy": "2022-04-17T15:14:18.032219Z",
     "iopub.status.idle": "2022-04-17T15:14:18.037547Z",
     "shell.execute_reply": "2022-04-17T15:14:18.036851Z"
    },
    "papermill": {
     "duration": 43.662912,
     "end_time": "2022-04-17T15:14:18.040457",
     "exception": false,
     "start_time": "2022-04-17T15:13:34.377545",
     "status": "completed"
    },
    "tags": []
   },
   "outputs": [],
   "source": [
    "# 打印第一句话所有时间窗的最后一个字符\n",
    "tokenizer.sequences_to_texts(y_pred + 1)[0]  "
   ]
  },
  {
   "cell_type": "code",
   "execution_count": null,
   "id": "80976a21",
   "metadata": {
    "execution": {
     "iopub.execute_input": "2022-04-17T15:15:46.118124Z",
     "iopub.status.busy": "2022-04-17T15:15:46.117632Z",
     "iopub.status.idle": "2022-04-17T15:15:46.125002Z",
     "shell.execute_reply": "2022-04-17T15:15:46.122861Z"
    },
    "papermill": {
     "duration": 43.661724,
     "end_time": "2022-04-17T15:15:46.127050",
     "exception": false,
     "start_time": "2022-04-17T15:15:02.465326",
     "status": "completed"
    },
    "tags": []
   },
   "outputs": [],
   "source": [
    "# 打印最后的预测结果\n",
    "tokenizer.sequences_to_texts(y_pred + 1)[0][-1]"
   ]
  },
  {
   "cell_type": "markdown",
   "id": "204064e0",
   "metadata": {
    "papermill": {
     "duration": 43.92898,
     "end_time": "2022-04-17T15:17:13.395932",
     "exception": false,
     "start_time": "2022-04-17T15:16:29.466952",
     "status": "completed"
    },
    "tags": []
   },
   "source": [
    "## 生成假莎士比亚文本 Generating Fake Shakespearean Text"
   ]
  },
  {
   "cell_type": "markdown",
   "id": "d3429e7c",
   "metadata": {
    "papermill": {
     "duration": 43.289648,
     "end_time": "2022-04-17T15:18:40.182930",
     "exception": false,
     "start_time": "2022-04-17T15:17:56.893282",
     "status": "completed"
    },
    "tags": []
   },
   "source": [
    "要使用`Char-RNN`生成新文本，我们可以给模型输入一些文本，让模型预测出下一个字母，**将字母添加到文本的尾部，再将延长后的文本输入给模型，预测下一个字母**，以此类推。但在实际中，这会导致相同的单词不断重复。\n",
    "\n",
    "- 可以使用`tf.random.categorical()`，**随机挑选下一个字符**，概率等同于`估计概率`。\n",
    "\n",
    "    根据分类的`对数几率logits`，`categorical()`从分类索引中随机抽取样本。"
   ]
  },
  {
   "cell_type": "code",
   "execution_count": null,
   "id": "0a12107e",
   "metadata": {
    "execution": {
     "iopub.execute_input": "2022-04-17T15:20:07.821599Z",
     "iopub.status.busy": "2022-04-17T15:20:07.821327Z",
     "iopub.status.idle": "2022-04-17T15:20:07.845039Z",
     "shell.execute_reply": "2022-04-17T15:20:07.844381Z"
    },
    "papermill": {
     "duration": 43.474176,
     "end_time": "2022-04-17T15:20:07.846786",
     "exception": false,
     "start_time": "2022-04-17T15:19:24.372610",
     "status": "completed"
    },
    "tags": []
   },
   "outputs": [],
   "source": [
    "initialization(42)\n",
    "\n",
    "tf.random.categorical(logits=[[np.log(0.1),\n",
    "                               np.log(0.7),\n",
    "                               np.log(0.1),]],\n",
    "                      num_samples=10).numpy()   # 为每个行切片绘制的独立样本数"
   ]
  },
  {
   "cell_type": "markdown",
   "id": "c4e63f20",
   "metadata": {
    "papermill": {
     "duration": 44.046797,
     "end_time": "2022-04-17T15:21:35.308688",
     "exception": false,
     "start_time": "2022-04-17T15:20:51.261891",
     "status": "completed"
    },
    "tags": []
   },
   "source": [
    "为了对生成文本的多样性更可控，我们可以用一个称为`temperature`的可调节的数来除以对数概率：`temperature`接近0，会利于高概率字符，而非常高的`temperature`将给所有字符的相等概率。\n",
    "\n",
    "- 下面的`next_char()`函数使用这个方法，来挑选添加进文本中的字符"
   ]
  },
  {
   "cell_type": "code",
   "execution_count": null,
   "id": "62c0bff4",
   "metadata": {
    "execution": {
     "iopub.execute_input": "2022-04-17T15:23:02.698495Z",
     "iopub.status.busy": "2022-04-17T15:23:02.698223Z",
     "iopub.status.idle": "2022-04-17T15:23:02.712459Z",
     "shell.execute_reply": "2022-04-17T15:23:02.711823Z"
    },
    "papermill": {
     "duration": 43.488011,
     "end_time": "2022-04-17T15:23:02.714142",
     "exception": false,
     "start_time": "2022-04-17T15:22:19.226131",
     "status": "completed"
    },
    "tags": []
   },
   "outputs": [],
   "source": [
    "def next_char(text, temperature=1):\n",
    "    X_new = preprocess([text])\n",
    "    y_proba = model(X_new)[0, -1:, :]  # 0: 表示第一段文本\n",
    "    rescaled_logits = tf.math.log(y_proba) / temperature\n",
    "    char_id = tf.random.categorical(rescaled_logits, num_samples=1) + 1\n",
    "    char = tokenizer.sequences_to_texts(char_id.numpy())[0]\n",
    "    return char"
   ]
  },
  {
   "cell_type": "code",
   "execution_count": null,
   "id": "0701c1d9",
   "metadata": {
    "execution": {
     "iopub.execute_input": "2022-04-17T15:24:30.246746Z",
     "iopub.status.busy": "2022-04-17T15:24:30.246469Z",
     "iopub.status.idle": "2022-04-17T15:24:30.269803Z",
     "shell.execute_reply": "2022-04-17T15:24:30.269068Z"
    },
    "papermill": {
     "duration": 43.490722,
     "end_time": "2022-04-17T15:24:30.271549",
     "exception": false,
     "start_time": "2022-04-17T15:23:46.780827",
     "status": "completed"
    },
    "tags": []
   },
   "outputs": [],
   "source": [
    "initialization(42)\n",
    "\n",
    "next_char(text=\"I love yo\", temperature=1)"
   ]
  },
  {
   "cell_type": "markdown",
   "id": "f049437e",
   "metadata": {
    "papermill": {
     "duration": 44.055727,
     "end_time": "2022-04-17T15:25:57.875427",
     "exception": false,
     "start_time": "2022-04-17T15:25:13.819700",
     "status": "completed"
    },
    "tags": []
   },
   "source": [
    "- 重复调用`next_char()`, 并测试不同的`temperature`:"
   ]
  },
  {
   "cell_type": "code",
   "execution_count": null,
   "id": "2c133e8e",
   "metadata": {
    "execution": {
     "iopub.execute_input": "2022-04-17T15:27:25.486293Z",
     "iopub.status.busy": "2022-04-17T15:27:25.486025Z",
     "iopub.status.idle": "2022-04-17T15:27:25.493292Z",
     "shell.execute_reply": "2022-04-17T15:27:25.492679Z"
    },
    "papermill": {
     "duration": 43.81734,
     "end_time": "2022-04-17T15:27:25.495014",
     "exception": false,
     "start_time": "2022-04-17T15:26:41.677674",
     "status": "completed"
    },
    "tags": []
   },
   "outputs": [],
   "source": [
    "initialization(42)"
   ]
  },
  {
   "cell_type": "code",
   "execution_count": null,
   "id": "710e68a2",
   "metadata": {
    "execution": {
     "iopub.execute_input": "2022-04-17T15:28:53.138111Z",
     "iopub.status.busy": "2022-04-17T15:28:53.137847Z",
     "iopub.status.idle": "2022-04-17T15:28:53.142022Z",
     "shell.execute_reply": "2022-04-17T15:28:53.141371Z"
    },
    "papermill": {
     "duration": 43.994829,
     "end_time": "2022-04-17T15:28:53.143761",
     "exception": false,
     "start_time": "2022-04-17T15:28:09.148932",
     "status": "completed"
    },
    "tags": []
   },
   "outputs": [],
   "source": [
    "def complete_text(text, n_chars=50, temperature=1):\n",
    "    for _ in range(n_chars):\n",
    "        text += next_char(text, temperature)\n",
    "    return text"
   ]
  },
  {
   "cell_type": "code",
   "execution_count": null,
   "id": "8288147f",
   "metadata": {
    "execution": {
     "iopub.execute_input": "2022-04-17T15:30:19.830264Z",
     "iopub.status.busy": "2022-04-17T15:30:19.830008Z",
     "iopub.status.idle": "2022-04-17T15:30:20.222153Z",
     "shell.execute_reply": "2022-04-17T15:30:20.221406Z"
    },
    "papermill": {
     "duration": 43.719918,
     "end_time": "2022-04-17T15:30:20.224107",
     "exception": false,
     "start_time": "2022-04-17T15:29:36.504189",
     "status": "completed"
    },
    "tags": []
   },
   "outputs": [],
   "source": [
    "print(complete_text(\"t\", temperature=0.2))"
   ]
  },
  {
   "cell_type": "code",
   "execution_count": null,
   "id": "ad8d410d",
   "metadata": {
    "execution": {
     "iopub.execute_input": "2022-04-17T15:31:47.713269Z",
     "iopub.status.busy": "2022-04-17T15:31:47.713001Z",
     "iopub.status.idle": "2022-04-17T15:31:48.095827Z",
     "shell.execute_reply": "2022-04-17T15:31:48.095104Z"
    },
    "papermill": {
     "duration": 43.833951,
     "end_time": "2022-04-17T15:31:48.097791",
     "exception": false,
     "start_time": "2022-04-17T15:31:04.263840",
     "status": "completed"
    },
    "tags": []
   },
   "outputs": [],
   "source": [
    "print(complete_text(\"t\", temperature=0.1))"
   ]
  },
  {
   "cell_type": "code",
   "execution_count": null,
   "id": "7911cb92",
   "metadata": {
    "execution": {
     "iopub.execute_input": "2022-04-17T15:33:15.776312Z",
     "iopub.status.busy": "2022-04-17T15:33:15.776049Z",
     "iopub.status.idle": "2022-04-17T15:33:16.158907Z",
     "shell.execute_reply": "2022-04-17T15:33:16.158170Z"
    },
    "papermill": {
     "duration": 44.238823,
     "end_time": "2022-04-17T15:33:16.160943",
     "exception": false,
     "start_time": "2022-04-17T15:32:31.922120",
     "status": "completed"
    },
    "tags": []
   },
   "outputs": [],
   "source": [
    "print(complete_text(\"t\", temperature=2))"
   ]
  },
  {
   "cell_type": "markdown",
   "id": "42fc1ab4",
   "metadata": {
    "papermill": {
     "duration": 43.307107,
     "end_time": "2022-04-17T15:34:43.058727",
     "exception": false,
     "start_time": "2022-04-17T15:33:59.751620",
     "status": "completed"
    },
    "tags": []
   },
   "source": [
    "显然，当`temperature=1`时，我们的莎士比亚模型效果最好。\n",
    "\n",
    "为了生成更有信服力的文字，**可以尝试用更多`GRU层`、每层更多的神经元、更长的训练时间，添加正则**（例如，可以在`GRU层`中设置`recurrent_dropout=0.3`）。另外，模型不能学习长度超过`n_steps`（只有100个字符）的规律。你可以**使用更大的窗口**，但也会让训练更为困难，甚至`LSTM`和`GRU`单元也不能处理长序列。\n",
    "\n",
    "另外，还可以使用`有状态RNN`."
   ]
  },
  {
   "cell_type": "markdown",
   "id": "1bff3081",
   "metadata": {
    "papermill": {
     "duration": 43.783519,
     "end_time": "2022-04-17T15:36:10.925570",
     "exception": false,
     "start_time": "2022-04-17T15:35:27.142051",
     "status": "completed"
    },
    "tags": []
   },
   "source": [
    "## 有状态RNN  Stateful RNN"
   ]
  },
  {
   "cell_type": "markdown",
   "id": "66a8a859",
   "metadata": {
    "papermill": {
     "duration": 43.62713,
     "end_time": "2022-04-17T15:37:38.184761",
     "exception": false,
     "start_time": "2022-04-17T15:36:54.557631",
     "status": "completed"
    },
    "tags": []
   },
   "source": [
    "### 原理及数据集划分"
   ]
  },
  {
   "cell_type": "markdown",
   "id": "5720a1ba",
   "metadata": {
    "papermill": {
     "duration": 43.59786,
     "end_time": "2022-04-17T15:39:06.081264",
     "exception": false,
     "start_time": "2022-04-17T15:38:22.483404",
     "status": "completed"
    },
    "tags": []
   },
   "source": [
    "在Keras调用`LSTM/GRU`的参数中，有一个`stateful`参数，默认是`False`，也就是`无状态模式stateless`，为`True`的话就是`有状态模式stateful`."
   ]
  },
  {
   "cell_type": "markdown",
   "id": "57df4784",
   "metadata": {
    "papermill": {
     "duration": 44.730953,
     "end_time": "2022-04-17T15:40:35.343799",
     "exception": false,
     "start_time": "2022-04-17T15:39:50.612846",
     "status": "completed"
    },
    "tags": []
   },
   "source": [
    ">- `stateless LSTM`\n",
    ">  \n",
    ">  `stateless`就是与`stateful`相反了，就是sample之间没有前后状态传递的关系，输入samples后，默认就会shuffle，可以说是**每个sample独立**，适合输入一些没有关系的样本。\n",
    "\n",
    "> - `stateful LSTM`\n",
    ">    \n",
    ">    除了正常的单个sample内部时间步之间的状态互相传递外，sample之间的状态还能互相传递。但是需要确定`batch_size`大小，传递的时候是前一个`batch`的第$i$个sample最终输出状态，传递给后一个`batch`的第$i$个sample，作为其状态的初始化值。\n",
    ">     \n",
    ">         解放军第72集团军某旅500名抗洪子弟兵撤离安徽铜陵枞阳县，赶赴合肥庐江县继续抗洪。当地百姓冒着大雨追着驶出的车辆，递上自家的莲蓬、葡萄、熟鸡蛋等食物，送别子弟兵。\n",
    "    第一句话为一个sample，第二句话为第二个sample，每个sample内部的word为一个时间步，很明显前后两个sample是相互关联的。**如果设置`batch_size=1`,则第一句话最终输出状态(即最后一个word的状态输出)，就可以传递给第二句话作为其初始状态值**。\n",
    ">    \n",
    ">   - 优点：后面的语句有了更合理的初始化状态值，显然会加快网络的收敛，所以需要更小的网络、更少的训练时间。\n",
    ">   - 缺点：每一个`epoch`后，要重置一下状态，因为训练一遍了，状态不能循环使用，要从头开始。\n",
    ">   - 使用注意事项：**调用`fit()` 时指定 `shuffle = False`**，要保证sample之间的前后顺序；可以使用`model.reset_states()`来重置模型中所有层的状态，也可使用`layer.reset_states()`来重置指定有状态 RNN 层的状态。\n",
    "\n",
    "\n",
    "\n",
    "> 参考: https://www.cnblogs.com/gczr/p/13393883.html"
   ]
  },
  {
   "cell_type": "markdown",
   "id": "ddf826db",
   "metadata": {
    "papermill": {
     "duration": 43.999219,
     "end_time": "2022-04-17T15:42:03.417874",
     "exception": false,
     "start_time": "2022-04-17T15:41:19.418655",
     "status": "completed"
    },
    "tags": []
   },
   "source": [
    "`stateful RNN`只在前一批次的序列离开，后一批次中的对应输入序列开始的情况下才有意义。\n",
    "\n",
    "- 首先,**使用序列且没有重叠的输入序列**（而不是用来训练无状态RNN时的打散和重叠的序列）。\n",
    "    - 当创建`Dataset`时，**调用`window()`必须使用`shift=n_steps`**（而不是`shift=1`）。\n",
    "            例: window_size=31, shfit=30, \n",
    "                train_x=[1,...,31] (31-1=30), train_y=[2,...,31], \n",
    "                next, train_x=[31,...,61], train_y=[32...62],\n",
    "    - 不能使用`shuffle()`方法。但是，准备`stateful RNN`数据集的批处理会麻烦些。事实上，如果调用`batch(32)`，32个连续的窗口会放到一个相同的批处理中，而下一个批处理不会再这些窗口的每个中断处继续。第一个批次含有窗口1到32，第二个批次批次含有窗口33到64，因此每个批次中的第一个窗口（第一批次的窗口1和第二批次的窗口33），它们是不连续的。\n",
    "  \n",
    "  \n",
    "- 最简单办法是**使用只包含单个窗口的\"批处理\"**：\n",
    "   <img src=\"./images/other/16-2.png\" width=\"500\">"
   ]
  },
  {
   "cell_type": "code",
   "execution_count": null,
   "id": "fcf4b1ef",
   "metadata": {
    "execution": {
     "iopub.execute_input": "2022-04-17T15:43:32.237478Z",
     "iopub.status.busy": "2022-04-17T15:43:32.237214Z",
     "iopub.status.idle": "2022-04-17T15:43:32.245874Z",
     "shell.execute_reply": "2022-04-17T15:43:32.245156Z"
    },
    "papermill": {
     "duration": 43.963567,
     "end_time": "2022-04-17T15:43:32.247564",
     "exception": false,
     "start_time": "2022-04-17T15:42:48.283997",
     "status": "completed"
    },
    "tags": []
   },
   "outputs": [],
   "source": [
    "initialization(42)\n",
    "\n",
    "n_steps = 100 \n",
    "window_length = n_steps + 1  "
   ]
  },
  {
   "cell_type": "code",
   "execution_count": null,
   "id": "e4219280",
   "metadata": {
    "execution": {
     "iopub.execute_input": "2022-04-17T15:45:01.140486Z",
     "iopub.status.busy": "2022-04-17T15:45:01.140230Z",
     "iopub.status.idle": "2022-04-17T15:45:01.215011Z",
     "shell.execute_reply": "2022-04-17T15:45:01.214360Z"
    },
    "papermill": {
     "duration": 44.420467,
     "end_time": "2022-04-17T15:45:01.216899",
     "exception": false,
     "start_time": "2022-04-17T15:44:16.796432",
     "status": "completed"
    },
    "tags": []
   },
   "outputs": [],
   "source": [
    "dataset = tf.data.Dataset.from_tensor_slices(encoded[:train_size])\n",
    "dataset = dataset.window(size=window_length,\n",
    "                         shift=n_steps,\n",
    "                         drop_remainder=True)\n",
    "dataset = dataset.flat_map(lambda window: window.batch(window_length))\n",
    "\n",
    "dataset = dataset.repeat().batch(1)  # 注意不同与前文.batch(batch_size)\n",
    "dataset = dataset.map(lambda window:(window[:, :-1], window[:, 1:]))\n",
    "\n",
    "dataset = dataset.map(lambda X_batch, y_batch: (tf.one_hot(X_batch, max_id), y_batch))\n",
    "\n",
    "dataset = dataset.prefetch(1)"
   ]
  },
  {
   "cell_type": "code",
   "execution_count": null,
   "id": "d5a353f9",
   "metadata": {
    "execution": {
     "iopub.execute_input": "2022-04-17T15:46:29.688048Z",
     "iopub.status.busy": "2022-04-17T15:46:29.687784Z",
     "iopub.status.idle": "2022-04-17T15:46:29.718014Z",
     "shell.execute_reply": "2022-04-17T15:46:29.716750Z"
    },
    "papermill": {
     "duration": 44.840876,
     "end_time": "2022-04-17T15:46:29.719839",
     "exception": false,
     "start_time": "2022-04-17T15:45:44.878963",
     "status": "completed"
    },
    "tags": []
   },
   "outputs": [],
   "source": [
    "for X_batch, y_batch in dataset.take(1): \n",
    "    print(X_batch.shape, y_batch.shape) "
   ]
  },
  {
   "cell_type": "markdown",
   "id": "7b87a001",
   "metadata": {
    "papermill": {
     "duration": 44.015518,
     "end_time": "2022-04-17T15:47:57.647214",
     "exception": false,
     "start_time": "2022-04-17T15:47:13.631696",
     "status": "completed"
    },
    "tags": []
   },
   "source": [
    "- 使用以下方法也可以**实现批处理**\n",
    "   - 将莎士比亚作品切分成32段等长的文本\n",
    "   - 每个文本创建一个连续输入的数据集\n",
    "   - 最后使用`tf.train.Dataset.zip(datasets).map(lambda *windows: tf.stack(windows))`来创建合适的连续批处理，其中批处理中的第$n$个输入序列恰好是上一个批处理中第$n$个输入序列结束位置的开始."
   ]
  },
  {
   "cell_type": "code",
   "execution_count": null,
   "id": "95481262",
   "metadata": {
    "execution": {
     "iopub.execute_input": "2022-04-17T15:49:26.369848Z",
     "iopub.status.busy": "2022-04-17T15:49:26.369589Z",
     "iopub.status.idle": "2022-04-17T15:49:26.373974Z",
     "shell.execute_reply": "2022-04-17T15:49:26.373195Z"
    },
    "papermill": {
     "duration": 43.822484,
     "end_time": "2022-04-17T15:49:26.376070",
     "exception": false,
     "start_time": "2022-04-17T15:48:42.553586",
     "status": "completed"
    },
    "tags": []
   },
   "outputs": [],
   "source": [
    "batch_size = 32\n",
    "encoded_parts = np.array_split(ary=encoded[:train_size],\n",
    "                               indices_or_sections=batch_size)\n",
    "# 划分为32段等长的文本\n",
    "# 每段31371个字符, 最后一段为31370"
   ]
  },
  {
   "cell_type": "code",
   "execution_count": null,
   "id": "e4bed530",
   "metadata": {
    "execution": {
     "iopub.execute_input": "2022-04-17T15:50:54.893458Z",
     "iopub.status.busy": "2022-04-17T15:50:54.893192Z",
     "iopub.status.idle": "2022-04-17T15:50:55.080962Z",
     "shell.execute_reply": "2022-04-17T15:50:55.080276Z"
    },
    "papermill": {
     "duration": 44.553341,
     "end_time": "2022-04-17T15:50:55.083328",
     "exception": false,
     "start_time": "2022-04-17T15:50:10.529987",
     "status": "completed"
    },
    "tags": []
   },
   "outputs": [],
   "source": [
    "datasets = []\n",
    "\n",
    "for encoded_part in encoded_parts:\n",
    "    dataset = tf.data.Dataset.from_tensor_slices(encoded_part)\n",
    "    dataset = dataset.window(size=window_length,\n",
    "                             shift=n_steps,\n",
    "                             drop_remainder=True)\n",
    "    dataset = dataset.flat_map(lambda window: window.batch(window_length))\n",
    "    datasets.append(dataset)"
   ]
  },
  {
   "cell_type": "markdown",
   "id": "361570d9",
   "metadata": {
    "papermill": {
     "duration": 43.990634,
     "end_time": "2022-04-17T15:52:23.147265",
     "exception": false,
     "start_time": "2022-04-17T15:51:39.156631",
     "status": "completed"
    },
    "tags": []
   },
   "source": [
    "    encoded_part_size=31371\n",
    "    迭代次数: ( len(text)-window_size ) // shift +1 \n",
    "           = ( 31371 - 101 ) // 100 + 1 = 313\n",
    "    即: 共有313个窗口, 每个窗口大小为101"
   ]
  },
  {
   "cell_type": "code",
   "execution_count": null,
   "id": "9f30c416",
   "metadata": {
    "execution": {
     "iopub.execute_input": "2022-04-17T15:53:51.469255Z",
     "iopub.status.busy": "2022-04-17T15:53:51.468730Z",
     "iopub.status.idle": "2022-04-17T15:53:51.504874Z",
     "shell.execute_reply": "2022-04-17T15:53:51.504243Z"
    },
    "papermill": {
     "duration": 44.333853,
     "end_time": "2022-04-17T15:53:51.506573",
     "exception": false,
     "start_time": "2022-04-17T15:53:07.172720",
     "status": "completed"
    },
    "tags": []
   },
   "outputs": [],
   "source": [
    "dataset = tf.data.Dataset.zip(\n",
    "    tuple(datasets)).map(lambda *windows: tf.stack(windows))\n",
    "dataset"
   ]
  },
  {
   "cell_type": "code",
   "execution_count": null,
   "id": "4ed27d70",
   "metadata": {
    "execution": {
     "iopub.execute_input": "2022-04-17T15:55:20.264552Z",
     "iopub.status.busy": "2022-04-17T15:55:20.264270Z",
     "iopub.status.idle": "2022-04-17T15:55:20.314109Z",
     "shell.execute_reply": "2022-04-17T15:55:20.313450Z"
    },
    "papermill": {
     "duration": 45.067229,
     "end_time": "2022-04-17T15:55:20.315813",
     "exception": false,
     "start_time": "2022-04-17T15:54:35.248584",
     "status": "completed"
    },
    "tags": []
   },
   "outputs": [],
   "source": [
    "dataset = dataset.map(lambda window: (window[:, :-1], window[:, 1:]))\n",
    "dataset = dataset.map(lambda X_batch, y_batch:\n",
    "                      (tf.one_hot(X_batch, max_id), y_batch))\n",
    "dataset = dataset.prefetch(1)"
   ]
  },
  {
   "cell_type": "code",
   "execution_count": null,
   "id": "f68c591e",
   "metadata": {
    "execution": {
     "iopub.execute_input": "2022-04-17T15:56:47.569405Z",
     "iopub.status.busy": "2022-04-17T15:56:47.569120Z",
     "iopub.status.idle": "2022-04-17T15:56:47.774702Z",
     "shell.execute_reply": "2022-04-17T15:56:47.773858Z"
    },
    "papermill": {
     "duration": 43.680463,
     "end_time": "2022-04-17T15:56:47.777752",
     "exception": false,
     "start_time": "2022-04-17T15:56:04.097289",
     "status": "completed"
    },
    "tags": []
   },
   "outputs": [],
   "source": [
    "for X_batch, y_batch in dataset.take(1): \n",
    "    print(X_batch.shape, y_batch.shape) "
   ]
  },
  {
   "cell_type": "markdown",
   "id": "5347514a",
   "metadata": {
    "papermill": {
     "duration": 43.522765,
     "end_time": "2022-04-17T15:58:15.163597",
     "exception": false,
     "start_time": "2022-04-17T15:57:31.640832",
     "status": "completed"
    },
    "tags": []
   },
   "source": [
    "### 搭建并训练模型"
   ]
  },
  {
   "cell_type": "markdown",
   "id": "84c81410",
   "metadata": {
    "papermill": {
     "duration": 43.993124,
     "end_time": "2022-04-17T15:59:42.957315",
     "exception": false,
     "start_time": "2022-04-17T15:58:58.964191",
     "status": "completed"
    },
    "tags": []
   },
   "source": [
    "1. 搭建`stateful RNN`模型\n",
    "    - 创建每个循环层时需要**设置`stateful=True`**\n",
    "    - 有状态RNN需要知道批次大小（因为要为批次中的每个输入序列保留一个状态），所以要必须在第一层中设置`batch_input_shape`。\n",
    "        - 注意:可以不用指定第二个维度，因为输入可以有任意长度."
   ]
  },
  {
   "cell_type": "code",
   "execution_count": null,
   "id": "1bc379ce",
   "metadata": {
    "execution": {
     "iopub.execute_input": "2022-04-17T16:01:10.164742Z",
     "iopub.status.busy": "2022-04-17T16:01:10.163950Z",
     "iopub.status.idle": "2022-04-17T16:01:10.508397Z",
     "shell.execute_reply": "2022-04-17T16:01:10.507643Z"
    },
    "papermill": {
     "duration": 43.950995,
     "end_time": "2022-04-17T16:01:10.510540",
     "exception": false,
     "start_time": "2022-04-17T16:00:26.559545",
     "status": "completed"
    },
    "tags": []
   },
   "outputs": [],
   "source": [
    "model = keras.models.Sequential([\n",
    "    keras.layers.GRU(128, return_sequences=True, stateful=True,\n",
    "                     dropout=0.2,\n",
    "                     batch_input_shape=[batch_size, None, max_id]),\n",
    "    keras.layers.GRU(128, return_sequences=True, stateful=True,\n",
    "                     dropout=0.2,),\n",
    "    keras.layers.TimeDistributed(keras.layers.Dense(max_id,\n",
    "                                                    activation=\"softmax\"))\n",
    "])"
   ]
  },
  {
   "cell_type": "markdown",
   "id": "884b6de9",
   "metadata": {
    "papermill": {
     "duration": 43.85733,
     "end_time": "2022-04-17T16:02:38.175885",
     "exception": false,
     "start_time": "2022-04-17T16:01:54.318555",
     "status": "completed"
    },
    "tags": []
   },
   "source": [
    "2. 在每个`epoch`之后, 需要先重设状态, 然后再返回到文本的开头。因此, 我们需要使用回调函数."
   ]
  },
  {
   "cell_type": "code",
   "execution_count": null,
   "id": "39b93014",
   "metadata": {
    "execution": {
     "iopub.execute_input": "2022-04-17T16:04:06.056224Z",
     "iopub.status.busy": "2022-04-17T16:04:06.055960Z",
     "iopub.status.idle": "2022-04-17T16:04:06.060021Z",
     "shell.execute_reply": "2022-04-17T16:04:06.059344Z"
    },
    "papermill": {
     "duration": 44.45035,
     "end_time": "2022-04-17T16:04:06.061697",
     "exception": false,
     "start_time": "2022-04-17T16:03:21.611347",
     "status": "completed"
    },
    "tags": []
   },
   "outputs": [],
   "source": [
    "class ResetStatesCallback(keras.callbacks.Callback):\n",
    "    def on_epoch_begin(self, epoch, logs):\n",
    "        self.model.reset_states()"
   ]
  },
  {
   "cell_type": "code",
   "execution_count": null,
   "id": "7527888e",
   "metadata": {
    "execution": {
     "iopub.execute_input": "2022-04-17T16:05:32.890455Z",
     "iopub.status.busy": "2022-04-17T16:05:32.890188Z",
     "iopub.status.idle": "2022-04-17T16:05:32.894087Z",
     "shell.execute_reply": "2022-04-17T16:05:32.893439Z"
    },
    "papermill": {
     "duration": 43.212005,
     "end_time": "2022-04-17T16:05:32.895753",
     "exception": false,
     "start_time": "2022-04-17T16:04:49.683748",
     "status": "completed"
    },
    "tags": []
   },
   "outputs": [],
   "source": [
    "EarlyStoppingCallback = keras.callbacks.EarlyStopping(patience=10,  # 至多10个轮次\n",
    "                                                      restore_best_weights=True)"
   ]
  },
  {
   "cell_type": "markdown",
   "id": "bed099f1",
   "metadata": {
    "papermill": {
     "duration": 44.019644,
     "end_time": "2022-04-17T16:07:00.875805",
     "exception": false,
     "start_time": "2022-04-17T16:06:16.856161",
     "status": "completed"
    },
    "tags": []
   },
   "source": [
    "3. 编译并训练模型"
   ]
  },
  {
   "cell_type": "code",
   "execution_count": null,
   "id": "3fac6323",
   "metadata": {
    "execution": {
     "iopub.execute_input": "2022-04-17T16:08:27.494800Z",
     "iopub.status.busy": "2022-04-17T16:08:27.494517Z",
     "iopub.status.idle": "2022-04-17T16:16:59.020632Z",
     "shell.execute_reply": "2022-04-17T16:16:59.019838Z"
    },
    "papermill": {
     "duration": 554.834334,
     "end_time": "2022-04-17T16:16:59.022864",
     "exception": false,
     "start_time": "2022-04-17T16:07:44.188530",
     "status": "completed"
    },
    "scrolled": true,
    "tags": []
   },
   "outputs": [],
   "source": [
    "model.compile(loss=\"sparse_categorical_crossentropy\", optimizer=\"adam\")\n",
    "history = model.fit(dataset, epochs=100,\n",
    "                    callbacks=[ResetStatesCallback(), EarlyStoppingCallback])"
   ]
  },
  {
   "cell_type": "code",
   "execution_count": null,
   "id": "4843eb25",
   "metadata": {
    "execution": {
     "iopub.execute_input": "2022-04-17T16:18:32.906770Z",
     "iopub.status.busy": "2022-04-17T16:18:32.906492Z",
     "iopub.status.idle": "2022-04-17T16:18:32.936418Z",
     "shell.execute_reply": "2022-04-17T16:18:32.935764Z"
    },
    "papermill": {
     "duration": 46.88597,
     "end_time": "2022-04-17T16:18:32.938120",
     "exception": false,
     "start_time": "2022-04-17T16:17:46.052150",
     "status": "completed"
    },
    "tags": []
   },
   "outputs": [],
   "source": [
    "model.save(\"./models/my_stateful_RNN.h5\")"
   ]
  },
  {
   "cell_type": "code",
   "execution_count": null,
   "id": "40ad65a4",
   "metadata": {
    "execution": {
     "iopub.execute_input": "2022-04-17T16:20:06.579019Z",
     "iopub.status.busy": "2022-04-17T16:20:06.578409Z",
     "iopub.status.idle": "2022-04-17T16:20:06.583081Z",
     "shell.execute_reply": "2022-04-17T16:20:06.582389Z"
    },
    "papermill": {
     "duration": 47.221155,
     "end_time": "2022-04-17T16:20:06.585012",
     "exception": false,
     "start_time": "2022-04-17T16:19:19.363857",
     "status": "completed"
    },
    "tags": []
   },
   "outputs": [],
   "source": [
    "history_dict = history.history\n",
    "train_loss = history_dict[\"loss\"]"
   ]
  },
  {
   "cell_type": "code",
   "execution_count": null,
   "id": "74a463a4",
   "metadata": {
    "execution": {
     "iopub.execute_input": "2022-04-17T16:21:39.852089Z",
     "iopub.status.busy": "2022-04-17T16:21:39.851826Z",
     "iopub.status.idle": "2022-04-17T16:21:40.046106Z",
     "shell.execute_reply": "2022-04-17T16:21:40.045344Z"
    },
    "papermill": {
     "duration": 46.76017,
     "end_time": "2022-04-17T16:21:40.047916",
     "exception": false,
     "start_time": "2022-04-17T16:20:53.287746",
     "status": "completed"
    },
    "scrolled": true,
    "tags": []
   },
   "outputs": [],
   "source": [
    "epochs = 100\n",
    "# figure 1\n",
    "plt.figure()\n",
    "plt.plot(range(epochs), train_loss, label='train_loss')\n",
    "plt.legend()\n",
    "plt.grid(True)\n",
    "plt.xlabel('epochs')\n",
    "plt.ylabel('loss')\n",
    "plt.show()"
   ]
  },
  {
   "cell_type": "markdown",
   "id": "9551618f",
   "metadata": {
    "papermill": {
     "duration": 46.133266,
     "end_time": "2022-04-17T16:23:13.471982",
     "exception": false,
     "start_time": "2022-04-17T16:22:27.338716",
     "status": "completed"
    },
    "tags": []
   },
   "source": [
    "4. 创建无状态副本模型\n",
    "\n",
    "    训练此模型后，只能使用它来预测**与训练期间使用的大小相同的批次**。为避免此限制，要**创建一个相同的无状态模型，并将有状态模型的权重复制到此模型**。 \n",
    "    \n",
    "    我们可以摆脱 dropout，因为它只在训练期间使用."
   ]
  },
  {
   "cell_type": "code",
   "execution_count": null,
   "id": "b8d15a10",
   "metadata": {
    "execution": {
     "iopub.execute_input": "2022-04-17T16:24:47.174203Z",
     "iopub.status.busy": "2022-04-17T16:24:47.173925Z",
     "iopub.status.idle": "2022-04-17T16:24:47.584433Z",
     "shell.execute_reply": "2022-04-17T16:24:47.583745Z"
    },
    "papermill": {
     "duration": 46.780272,
     "end_time": "2022-04-17T16:24:47.586728",
     "exception": false,
     "start_time": "2022-04-17T16:24:00.806456",
     "status": "completed"
    },
    "tags": []
   },
   "outputs": [],
   "source": [
    "model = keras.models.load_model('./models/my_stateful_RNN.h5')"
   ]
  },
  {
   "cell_type": "markdown",
   "id": "0b23fe74",
   "metadata": {
    "papermill": {
     "duration": 46.719241,
     "end_time": "2022-04-17T16:26:21.514302",
     "exception": false,
     "start_time": "2022-04-17T16:25:34.795061",
     "status": "completed"
    },
    "tags": []
   },
   "source": [
    "    要设置权重，我们首先需要构建模型."
   ]
  },
  {
   "cell_type": "code",
   "execution_count": null,
   "id": "6e118ee8",
   "metadata": {
    "execution": {
     "iopub.execute_input": "2022-04-17T16:27:55.261142Z",
     "iopub.status.busy": "2022-04-17T16:27:55.260869Z",
     "iopub.status.idle": "2022-04-17T16:27:55.612437Z",
     "shell.execute_reply": "2022-04-17T16:27:55.611753Z"
    },
    "papermill": {
     "duration": 47.447253,
     "end_time": "2022-04-17T16:27:55.614516",
     "exception": false,
     "start_time": "2022-04-17T16:27:08.167263",
     "status": "completed"
    },
    "tags": []
   },
   "outputs": [],
   "source": [
    "stateless_model = keras.models.Sequential([\n",
    "    keras.layers.GRU(128, return_sequences=True, input_shape=[None, max_id]),\n",
    "    keras.layers.GRU(128, return_sequences=True),\n",
    "    keras.layers.TimeDistributed(\n",
    "        keras.layers.Dense(max_id, activation=\"softmax\"))\n",
    "])"
   ]
  },
  {
   "cell_type": "code",
   "execution_count": null,
   "id": "a0997fc9",
   "metadata": {
    "execution": {
     "iopub.execute_input": "2022-04-17T16:29:28.274334Z",
     "iopub.status.busy": "2022-04-17T16:29:28.274061Z",
     "iopub.status.idle": "2022-04-17T16:29:28.278961Z",
     "shell.execute_reply": "2022-04-17T16:29:28.278252Z"
    },
    "papermill": {
     "duration": 46.36792,
     "end_time": "2022-04-17T16:29:28.280684",
     "exception": false,
     "start_time": "2022-04-17T16:28:41.912764",
     "status": "completed"
    },
    "tags": []
   },
   "outputs": [],
   "source": [
    "stateless_model.build(tf.TensorShape([None, None, max_id]))"
   ]
  },
  {
   "cell_type": "code",
   "execution_count": null,
   "id": "149d310e",
   "metadata": {
    "execution": {
     "iopub.execute_input": "2022-04-17T16:31:02.007038Z",
     "iopub.status.busy": "2022-04-17T16:31:02.006779Z",
     "iopub.status.idle": "2022-04-17T16:31:02.018651Z",
     "shell.execute_reply": "2022-04-17T16:31:02.017990Z"
    },
    "papermill": {
     "duration": 46.551303,
     "end_time": "2022-04-17T16:31:02.020363",
     "exception": false,
     "start_time": "2022-04-17T16:30:15.469060",
     "status": "completed"
    },
    "tags": []
   },
   "outputs": [],
   "source": [
    "stateless_model.set_weights(model.get_weights())\n",
    "model = stateless_model"
   ]
  },
  {
   "cell_type": "markdown",
   "id": "cd026aef",
   "metadata": {
    "papermill": {
     "duration": 46.709804,
     "end_time": "2022-04-17T16:32:35.527676",
     "exception": false,
     "start_time": "2022-04-17T16:31:48.817872",
     "status": "completed"
    },
    "tags": []
   },
   "source": [
    "5. 测试字符级模型"
   ]
  },
  {
   "cell_type": "code",
   "execution_count": null,
   "id": "fbfcf036",
   "metadata": {
    "code_folding": [
     4
    ],
    "execution": {
     "iopub.execute_input": "2022-04-17T16:34:09.442973Z",
     "iopub.status.busy": "2022-04-17T16:34:09.442705Z",
     "iopub.status.idle": "2022-04-17T16:34:09.449548Z",
     "shell.execute_reply": "2022-04-17T16:34:09.448794Z"
    },
    "papermill": {
     "duration": 46.566465,
     "end_time": "2022-04-17T16:34:09.451804",
     "exception": false,
     "start_time": "2022-04-17T16:33:22.885339",
     "status": "completed"
    },
    "tags": []
   },
   "outputs": [],
   "source": [
    "def preprocess(tests):\n",
    "    X = np.array(tokenizer.texts_to_sequences(tests)) - 1\n",
    "    return tf.one_hot(X, max_id)\n",
    "\n",
    "def next_char(text, temperature=1):\n",
    "    X_new = preprocess([text])\n",
    "    y_proba = model(X_new)[0, -1:, :]  # 0: 表示第一段文本\n",
    "    rescaled_logits = tf.math.log(y_proba) / temperature\n",
    "    char_id = tf.random.categorical(rescaled_logits, num_samples=1) + 1\n",
    "    char = tokenizer.sequences_to_texts(char_id.numpy())[0]\n",
    "    return char\n",
    "\n",
    "def complete_text(text, n_chars=50, temperature=1):\n",
    "    for _ in range(n_chars):\n",
    "        text += next_char(text, temperature)\n",
    "    return text"
   ]
  },
  {
   "cell_type": "code",
   "execution_count": null,
   "id": "2e1a2744",
   "metadata": {
    "execution": {
     "iopub.execute_input": "2022-04-17T16:35:43.442033Z",
     "iopub.status.busy": "2022-04-17T16:35:43.441768Z",
     "iopub.status.idle": "2022-04-17T16:35:43.460451Z",
     "shell.execute_reply": "2022-04-17T16:35:43.459813Z"
    },
    "papermill": {
     "duration": 47.267079,
     "end_time": "2022-04-17T16:35:43.462151",
     "exception": false,
     "start_time": "2022-04-17T16:34:56.195072",
     "status": "completed"
    },
    "tags": []
   },
   "outputs": [],
   "source": [
    "initialization(42)"
   ]
  },
  {
   "cell_type": "code",
   "execution_count": null,
   "id": "a17e52c9",
   "metadata": {
    "execution": {
     "iopub.execute_input": "2022-04-17T16:37:17.555834Z",
     "iopub.status.busy": "2022-04-17T16:37:17.555332Z",
     "iopub.status.idle": "2022-04-17T16:37:17.949853Z",
     "shell.execute_reply": "2022-04-17T16:37:17.948184Z"
    },
    "papermill": {
     "duration": 47.212855,
     "end_time": "2022-04-17T16:37:17.951739",
     "exception": false,
     "start_time": "2022-04-17T16:36:30.738884",
     "status": "completed"
    },
    "tags": []
   },
   "outputs": [],
   "source": [
    "print(complete_text(\"t\"))"
   ]
  },
  {
   "cell_type": "markdown",
   "id": "474cad91",
   "metadata": {
    "papermill": {
     "duration": 47.538324,
     "end_time": "2022-04-17T16:38:52.478953",
     "exception": false,
     "start_time": "2022-04-17T16:38:04.940629",
     "status": "completed"
    },
    "tags": []
   },
   "source": [
    "# 情感分析 Sentiment Analysis"
   ]
  },
  {
   "cell_type": "markdown",
   "id": "c3e08648",
   "metadata": {
    "papermill": {
     "duration": 46.965057,
     "end_time": "2022-04-17T16:40:25.680729",
     "exception": false,
     "start_time": "2022-04-17T16:39:38.715672",
     "status": "completed"
    },
    "tags": []
   },
   "source": [
    "`IMDb影评数据集`包含50000条英文影评，25000条用于训练，25000条用于测试，是从IMDb网站提取的，并带有影评标签，负（0）或正（1）。\n",
    "\n",
    "- 使用`keras`加载`IMDb影评数据集`"
   ]
  },
  {
   "cell_type": "code",
   "execution_count": null,
   "id": "9cc620cd",
   "metadata": {
    "execution": {
     "iopub.execute_input": "2022-04-17T16:41:59.391244Z",
     "iopub.status.busy": "2022-04-17T16:41:59.390978Z",
     "iopub.status.idle": "2022-04-17T16:41:59.398553Z",
     "shell.execute_reply": "2022-04-17T16:41:59.397931Z"
    },
    "papermill": {
     "duration": 46.81544,
     "end_time": "2022-04-17T16:41:59.400413",
     "exception": false,
     "start_time": "2022-04-17T16:41:12.584973",
     "status": "completed"
    },
    "tags": []
   },
   "outputs": [],
   "source": [
    "initialization(42)"
   ]
  },
  {
   "cell_type": "code",
   "execution_count": null,
   "id": "4cdb9ad6",
   "metadata": {
    "execution": {
     "iopub.execute_input": "2022-04-17T16:43:32.581517Z",
     "iopub.status.busy": "2022-04-17T16:43:32.580912Z",
     "iopub.status.idle": "2022-04-17T16:43:38.500354Z",
     "shell.execute_reply": "2022-04-17T16:43:38.499626Z"
    },
    "papermill": {
     "duration": 52.474327,
     "end_time": "2022-04-17T16:43:38.502657",
     "exception": false,
     "start_time": "2022-04-17T16:42:46.028330",
     "status": "completed"
    },
    "tags": []
   },
   "outputs": [],
   "source": [
    "(X_train, y_train), (X_text, y_text) = keras.datasets.imdb.load_data()"
   ]
  },
  {
   "cell_type": "code",
   "execution_count": null,
   "id": "caed0112",
   "metadata": {
    "execution": {
     "iopub.execute_input": "2022-04-17T16:45:12.180554Z",
     "iopub.status.busy": "2022-04-17T16:45:12.180264Z",
     "iopub.status.idle": "2022-04-17T16:45:12.187043Z",
     "shell.execute_reply": "2022-04-17T16:45:12.186420Z"
    },
    "papermill": {
     "duration": 46.575926,
     "end_time": "2022-04-17T16:45:12.188878",
     "exception": false,
     "start_time": "2022-04-17T16:44:25.612952",
     "status": "completed"
    },
    "tags": []
   },
   "outputs": [],
   "source": [
    "X_train[0][:10]"
   ]
  },
  {
   "cell_type": "markdown",
   "id": "7a5bb102",
   "metadata": {
    "papermill": {
     "duration": 46.649917,
     "end_time": "2022-04-17T16:46:46.226498",
     "exception": false,
     "start_time": "2022-04-17T16:45:59.576581",
     "status": "completed"
    },
    "tags": []
   },
   "source": [
    "- 数据集已经经过预处理:\n",
    "    1.  `X_train`由一个评论的列表构成，每条评论都是整数NumPy数组，其中每个整数代表一个词。\n",
    "    2. 所有标点符号都被删除， 然后将单词转换为小写字母，用空格隔开，最后用频次建立索引。\n",
    "    3. 整数0、1、2是特殊的\n",
    "        -  0:\\<pad>表示`填充token`\n",
    "        -  1:\\<sos>表示`序列开始(SSS)token`\n",
    "        -  2:\\<unk>表示`未知单词`"
   ]
  },
  {
   "cell_type": "markdown",
   "id": "9253b3f1",
   "metadata": {
    "papermill": {
     "duration": 47.419452,
     "end_time": "2022-04-17T16:48:20.645170",
     "exception": false,
     "start_time": "2022-04-17T16:47:33.225718",
     "status": "completed"
    },
    "tags": []
   },
   "source": [
    "- 可视化评论"
   ]
  },
  {
   "cell_type": "code",
   "execution_count": null,
   "id": "8bb774dc",
   "metadata": {
    "execution": {
     "iopub.execute_input": "2022-04-17T16:49:54.540118Z",
     "iopub.status.busy": "2022-04-17T16:49:54.539683Z",
     "iopub.status.idle": "2022-04-17T16:49:54.870971Z",
     "shell.execute_reply": "2022-04-17T16:49:54.870220Z"
    },
    "papermill": {
     "duration": 47.682544,
     "end_time": "2022-04-17T16:49:54.873026",
     "exception": false,
     "start_time": "2022-04-17T16:49:07.190482",
     "status": "completed"
    },
    "tags": []
   },
   "outputs": [],
   "source": [
    "word_index = keras.datasets.imdb.get_word_index()  # len(word_index):88584\n",
    "sorted(word_index.items(), key=lambda x: x[1])[:10]"
   ]
  },
  {
   "cell_type": "code",
   "execution_count": null,
   "id": "cf93e777",
   "metadata": {
    "execution": {
     "iopub.execute_input": "2022-04-17T16:51:27.196609Z",
     "iopub.status.busy": "2022-04-17T16:51:27.196326Z",
     "iopub.status.idle": "2022-04-17T16:51:27.242284Z",
     "shell.execute_reply": "2022-04-17T16:51:27.241656Z"
    },
    "papermill": {
     "duration": 46.256255,
     "end_time": "2022-04-17T16:51:27.244689",
     "exception": false,
     "start_time": "2022-04-17T16:50:40.988434",
     "status": "completed"
    },
    "tags": []
   },
   "outputs": [],
   "source": [
    "id_to_word = {id_ + 3: word for word, id_ in word_index.items()}\n",
    "id_to_word"
   ]
  },
  {
   "cell_type": "code",
   "execution_count": null,
   "id": "5b064f16",
   "metadata": {
    "execution": {
     "iopub.execute_input": "2022-04-17T16:53:00.672093Z",
     "iopub.status.busy": "2022-04-17T16:53:00.671822Z",
     "iopub.status.idle": "2022-04-17T16:53:00.683135Z",
     "shell.execute_reply": "2022-04-17T16:53:00.682370Z"
    },
    "papermill": {
     "duration": 46.280238,
     "end_time": "2022-04-17T16:53:00.685993",
     "exception": false,
     "start_time": "2022-04-17T16:52:14.405755",
     "status": "completed"
    },
    "tags": []
   },
   "outputs": [],
   "source": [
    "imdb_word = [word for word, id_ in word_index.items()]\n",
    "len(imdb_word)"
   ]
  },
  {
   "cell_type": "code",
   "execution_count": null,
   "id": "4c953bd3",
   "metadata": {
    "execution": {
     "iopub.execute_input": "2022-04-17T16:54:34.047971Z",
     "iopub.status.busy": "2022-04-17T16:54:34.047691Z",
     "iopub.status.idle": "2022-04-17T16:54:34.051712Z",
     "shell.execute_reply": "2022-04-17T16:54:34.051009Z"
    },
    "papermill": {
     "duration": 46.493621,
     "end_time": "2022-04-17T16:54:34.053456",
     "exception": false,
     "start_time": "2022-04-17T16:53:47.559835",
     "status": "completed"
    },
    "tags": []
   },
   "outputs": [],
   "source": [
    "for id_, token in enumerate([\"<pad>\", \"<sos>\", \"<unk>\"]):\n",
    "    id_to_word[id_] = token"
   ]
  },
  {
   "cell_type": "code",
   "execution_count": null,
   "id": "719a349b",
   "metadata": {
    "execution": {
     "iopub.execute_input": "2022-04-17T16:56:07.876167Z",
     "iopub.status.busy": "2022-04-17T16:56:07.875911Z",
     "iopub.status.idle": "2022-04-17T16:56:07.881357Z",
     "shell.execute_reply": "2022-04-17T16:56:07.880703Z"
    },
    "papermill": {
     "duration": 46.950379,
     "end_time": "2022-04-17T16:56:07.883784",
     "exception": false,
     "start_time": "2022-04-17T16:55:20.933405",
     "status": "completed"
    },
    "tags": []
   },
   "outputs": [],
   "source": [
    "\" \".join([id_to_word[id_] for id_ in X_train[0][:10]])"
   ]
  },
  {
   "cell_type": "markdown",
   "id": "37fd0ef8",
   "metadata": {
    "papermill": {
     "duration": 46.810049,
     "end_time": "2022-04-17T16:57:41.414919",
     "exception": false,
     "start_time": "2022-04-17T16:56:54.604870",
     "status": "completed"
    },
    "tags": []
   },
   "source": [
    "## 预处理文本"
   ]
  },
  {
   "cell_type": "markdown",
   "id": "4e67725b",
   "metadata": {
    "papermill": {
     "duration": 47.152991,
     "end_time": "2022-04-17T16:59:15.290947",
     "exception": false,
     "start_time": "2022-04-17T16:58:28.137956",
     "status": "completed"
    },
    "tags": []
   },
   "source": [
    "在真实的项目中，必须要自己预处理文本。\n",
    "\n",
    "- 使用前面用过的`Tokenizer`\n",
    "    - 设置`char_level=False`(默认的).\n",
    "    - 当编码单词时，`Tokenizer`会过滤掉许多字符, 使用`filters`进行过滤.\n",
    "    - `Tokenizer`使用空格确定单词的边界, 对于非英语语言并不通用.\n",
    "- *Taku Kudo*提出的一种无监督学习技术，用一种独立于语言的方式在**子单词级别**对文本进行`分词tokenize`和`组词detokenize`。这使得模型可以推断出没有见识过的单词.\n",
    "                  smart √  -est √      →   smartest\n",
    "- *Rico Sennrich*创建子字编码的其他方法（例如，使用字节对编码）\n",
    "- `TF.Text 库`，该库实现了各种分词策略，包括 `Word Piece`（字节对编码的一种变体）"
   ]
  },
  {
   "cell_type": "markdown",
   "id": "508b0098",
   "metadata": {
    "papermill": {
     "duration": 46.500832,
     "end_time": "2022-04-17T17:00:47.938719",
     "exception": false,
     "start_time": "2022-04-17T17:00:01.437887",
     "status": "completed"
    },
    "tags": []
   },
   "source": [
    "1. **从`tfds`上下载`IMDB`数据集**\n",
    "\n",
    "    详情: https://tensorflow.google.cn/datasets/catalog/imdb_reviews"
   ]
  },
  {
   "cell_type": "code",
   "execution_count": null,
   "id": "c0d6d3de",
   "metadata": {
    "execution": {
     "iopub.execute_input": "2022-04-17T17:02:21.697641Z",
     "iopub.status.busy": "2022-04-17T17:02:21.696940Z",
     "iopub.status.idle": "2022-04-17T17:03:25.089315Z",
     "shell.execute_reply": "2022-04-17T17:03:25.088579Z"
    },
    "papermill": {
     "duration": 110.052779,
     "end_time": "2022-04-17T17:03:25.091569",
     "exception": false,
     "start_time": "2022-04-17T17:01:35.038790",
     "status": "completed"
    },
    "tags": []
   },
   "outputs": [],
   "source": [
    "import tensorflow_datasets as tfds\n",
    "\n",
    "datasets, info = tfds.load(\"imdb_reviews\", as_supervised=True, with_info=True)\n",
    "\n",
    "datasets.keys()"
   ]
  },
  {
   "cell_type": "code",
   "execution_count": null,
   "id": "9ef1deb4",
   "metadata": {
    "execution": {
     "iopub.execute_input": "2022-04-17T17:04:59.591368Z",
     "iopub.status.busy": "2022-04-17T17:04:59.590623Z",
     "iopub.status.idle": "2022-04-17T17:04:59.597174Z",
     "shell.execute_reply": "2022-04-17T17:04:59.596360Z"
    },
    "papermill": {
     "duration": 47.113439,
     "end_time": "2022-04-17T17:04:59.599522",
     "exception": false,
     "start_time": "2022-04-17T17:04:12.486083",
     "status": "completed"
    },
    "tags": []
   },
   "outputs": [],
   "source": [
    "train_size = info.splits[\"train\"].num_examples\n",
    "test_size = info.splits[\"test\"].num_examples\n",
    "\n",
    "train_size, test_size"
   ]
  },
  {
   "cell_type": "markdown",
   "id": "015d805c",
   "metadata": {
    "papermill": {
     "duration": 47.322537,
     "end_time": "2022-04-17T17:06:34.396743",
     "exception": false,
     "start_time": "2022-04-17T17:05:47.074206",
     "status": "completed"
    },
    "tags": []
   },
   "source": [
    "2. **可视化评论**"
   ]
  },
  {
   "cell_type": "code",
   "execution_count": null,
   "id": "b7c713cf",
   "metadata": {
    "execution": {
     "iopub.execute_input": "2022-04-17T17:08:10.104088Z",
     "iopub.status.busy": "2022-04-17T17:08:10.103770Z",
     "iopub.status.idle": "2022-04-17T17:08:10.164371Z",
     "shell.execute_reply": "2022-04-17T17:08:10.163256Z"
    },
    "papermill": {
     "duration": 48.427824,
     "end_time": "2022-04-17T17:08:10.167032",
     "exception": false,
     "start_time": "2022-04-17T17:07:21.739208",
     "status": "completed"
    },
    "tags": []
   },
   "outputs": [],
   "source": [
    "for X_batch, y_batch in datasets[\"train\"].batch(2).take(1):\n",
    "    for review, label in zip(X_batch.numpy(), y_batch.numpy()):\n",
    "        print(\"评论:\", review.decode('utf-8')[:200], \"...\")\n",
    "        print(\"情感标签:\", label, \"= Position\" if label else \"= Nagative\")\n",
    "        print()"
   ]
  },
  {
   "cell_type": "markdown",
   "id": "b4b105e5",
   "metadata": {
    "papermill": {
     "duration": 47.67194,
     "end_time": "2022-04-17T17:09:44.797103",
     "exception": false,
     "start_time": "2022-04-17T17:08:57.125163",
     "status": "completed"
    },
    "tags": []
   },
   "source": [
    "3. **预处理函数**\n",
    "    - **截断评论**: 每条评论只保留前300个字符: 加快训练速度, 对性能影响小.\n",
    "    - **替换标识**:\n",
    "        - 使用空格替换`<br />`\n",
    "            ```python\n",
    "            tf.strings.regex_replace(X_batch, b\"<br\\s*/?>\", b\" \")\n",
    "            ```\n",
    "        - 使用空格替换除了字母和引号外其他所有字符\n",
    "            ```python\n",
    "            tf.strings.regex_replace(X_batch, b\"[^a-zA-Z']\", b\" \")\n",
    "            ```\n",
    "    - **分词**: 按照**空格**进行分割, 返回一个`不规则ragged张量`\n",
    "    - **填充**: 将这个张量转换为`密集dense张量`, 使用**填充token**`<pad>` 填充所有评论, 使它们具有相同的长度 \n",
    "            "
   ]
  },
  {
   "cell_type": "code",
   "execution_count": null,
   "id": "3784b107",
   "metadata": {
    "execution": {
     "iopub.execute_input": "2022-04-17T17:11:20.008816Z",
     "iopub.status.busy": "2022-04-17T17:11:20.008517Z",
     "iopub.status.idle": "2022-04-17T17:11:20.014236Z",
     "shell.execute_reply": "2022-04-17T17:11:20.013578Z"
    },
    "papermill": {
     "duration": 47.607226,
     "end_time": "2022-04-17T17:11:20.015929",
     "exception": false,
     "start_time": "2022-04-17T17:10:32.408703",
     "status": "completed"
    },
    "tags": []
   },
   "outputs": [],
   "source": [
    "def preprocess(X_batch, y_batch):\n",
    "    # 截断评论\n",
    "    X_batch = tf.strings.substr(input=X_batch, pos=0, len=300)\n",
    "    # 替换标识\n",
    "    X_batch = tf.strings.regex_replace(X_batch, b\"<br\\s*/?>\", b\" \")\n",
    "    X_batch = tf.strings.regex_replace(X_batch, b\"[^a-zA-Z']\", b\" \")\n",
    "    # 分词\n",
    "    X_batch = tf.strings.split(X_batch)\n",
    "    # 填充  [1,2,3],[],[4,5] -> [1,2,3],[0,0,0],[4,5,0]\n",
    "    X_batch = X_batch.to_tensor(default_value=b\"<pad>\")\n",
    "    return X_batch, y_batch"
   ]
  },
  {
   "cell_type": "code",
   "execution_count": null,
   "id": "b4d22d33",
   "metadata": {
    "execution": {
     "iopub.execute_input": "2022-04-17T17:12:54.978665Z",
     "iopub.status.busy": "2022-04-17T17:12:54.978248Z",
     "iopub.status.idle": "2022-04-17T17:12:55.029482Z",
     "shell.execute_reply": "2022-04-17T17:12:55.028731Z"
    },
    "papermill": {
     "duration": 47.094366,
     "end_time": "2022-04-17T17:12:55.031392",
     "exception": false,
     "start_time": "2022-04-17T17:12:07.937026",
     "status": "completed"
    },
    "tags": []
   },
   "outputs": [],
   "source": [
    "preprocess(X_batch, y_batch)"
   ]
  },
  {
   "cell_type": "markdown",
   "id": "f109d05e",
   "metadata": {
    "papermill": {
     "duration": 47.227671,
     "end_time": "2022-04-17T17:14:30.095013",
     "exception": false,
     "start_time": "2022-04-17T17:13:42.867342",
     "status": "completed"
    },
    "tags": []
   },
   "source": [
    "4. **构建词汇表**\n",
    "\n",
    "    遍历整个训练集, 应用`preprocess()`，并使用 `Counter` 来计算每个单词的出现次数."
   ]
  },
  {
   "cell_type": "code",
   "execution_count": null,
   "id": "b18c586b",
   "metadata": {
    "execution": {
     "iopub.execute_input": "2022-04-17T17:16:04.753948Z",
     "iopub.status.busy": "2022-04-17T17:16:04.753645Z",
     "iopub.status.idle": "2022-04-17T17:16:11.489850Z",
     "shell.execute_reply": "2022-04-17T17:16:11.489036Z"
    },
    "papermill": {
     "duration": 54.163384,
     "end_time": "2022-04-17T17:16:11.492581",
     "exception": false,
     "start_time": "2022-04-17T17:15:17.329197",
     "status": "completed"
    },
    "tags": []
   },
   "outputs": [],
   "source": [
    "from collections import Counter\n",
    "\n",
    "vocabulary = Counter()\n",
    "train_set = datasets[\"train\"].batch(32).map(preprocess)\n",
    "\n",
    "for X_batch, y_batch in train_set:\n",
    "    for review in X_batch:\n",
    "        vocabulary.update(review.numpy())"
   ]
  },
  {
   "cell_type": "markdown",
   "id": "248a43d5",
   "metadata": {
    "papermill": {
     "duration": 46.984345,
     "end_time": "2022-04-17T17:17:46.344035",
     "exception": false,
     "start_time": "2022-04-17T17:16:59.359690",
     "status": "completed"
    },
    "tags": []
   },
   "source": [
    "    查看最常见的三个词:"
   ]
  },
  {
   "cell_type": "code",
   "execution_count": null,
   "id": "61c7adf2",
   "metadata": {
    "execution": {
     "iopub.execute_input": "2022-04-17T17:19:21.147956Z",
     "iopub.status.busy": "2022-04-17T17:19:21.147643Z",
     "iopub.status.idle": "2022-04-17T17:19:21.173280Z",
     "shell.execute_reply": "2022-04-17T17:19:21.172355Z"
    },
    "papermill": {
     "duration": 47.540653,
     "end_time": "2022-04-17T17:19:21.176557",
     "exception": false,
     "start_time": "2022-04-17T17:18:33.635904",
     "status": "completed"
    },
    "scrolled": true,
    "tags": []
   },
   "outputs": [],
   "source": [
    "vocabulary.most_common()[:3]"
   ]
  },
  {
   "cell_type": "code",
   "execution_count": null,
   "id": "a88cd4bf",
   "metadata": {
    "execution": {
     "iopub.execute_input": "2022-04-17T17:20:56.013128Z",
     "iopub.status.busy": "2022-04-17T17:20:56.012858Z",
     "iopub.status.idle": "2022-04-17T17:20:56.018229Z",
     "shell.execute_reply": "2022-04-17T17:20:56.017444Z"
    },
    "papermill": {
     "duration": 47.154051,
     "end_time": "2022-04-17T17:20:56.021066",
     "exception": false,
     "start_time": "2022-04-17T17:20:08.867015",
     "status": "completed"
    },
    "tags": []
   },
   "outputs": [],
   "source": [
    "len(vocabulary)"
   ]
  },
  {
   "cell_type": "markdown",
   "id": "154d9727",
   "metadata": {
    "papermill": {
     "duration": 47.835539,
     "end_time": "2022-04-17T17:22:30.887927",
     "exception": false,
     "start_time": "2022-04-17T17:21:43.052388",
     "status": "completed"
    },
    "tags": []
   },
   "source": [
    "5. **截断词汇表**的前1 0000个单词, 以获取更好的性能."
   ]
  },
  {
   "cell_type": "code",
   "execution_count": null,
   "id": "4213a093",
   "metadata": {
    "execution": {
     "iopub.execute_input": "2022-04-17T17:24:06.140811Z",
     "iopub.status.busy": "2022-04-17T17:24:06.140356Z",
     "iopub.status.idle": "2022-04-17T17:24:06.161221Z",
     "shell.execute_reply": "2022-04-17T17:24:06.160512Z"
    },
    "papermill": {
     "duration": 48.009424,
     "end_time": "2022-04-17T17:24:06.162945",
     "exception": false,
     "start_time": "2022-04-17T17:23:18.153521",
     "status": "completed"
    },
    "tags": []
   },
   "outputs": [],
   "source": [
    "vocabulary_size = 10000\n",
    "truncated_vocabulary = [\n",
    "    word for word, count in vocabulary.most_common()[:vocabulary_size]\n",
    "]"
   ]
  },
  {
   "cell_type": "code",
   "execution_count": null,
   "id": "3dbbb2f0",
   "metadata": {
    "execution": {
     "iopub.execute_input": "2022-04-17T17:25:41.443769Z",
     "iopub.status.busy": "2022-04-17T17:25:41.443493Z",
     "iopub.status.idle": "2022-04-17T17:25:41.448607Z",
     "shell.execute_reply": "2022-04-17T17:25:41.447921Z"
    },
    "papermill": {
     "duration": 47.827426,
     "end_time": "2022-04-17T17:25:41.450558",
     "exception": false,
     "start_time": "2022-04-17T17:24:53.623132",
     "status": "completed"
    },
    "tags": []
   },
   "outputs": [],
   "source": [
    "truncated_vocabulary[:3]"
   ]
  },
  {
   "cell_type": "markdown",
   "id": "97be176f",
   "metadata": {
    "papermill": {
     "duration": 47.631739,
     "end_time": "2022-04-17T17:27:16.861845",
     "exception": false,
     "start_time": "2022-04-17T17:26:29.230106",
     "status": "completed"
    },
    "tags": []
   },
   "source": [
    "6. **建立**词汇表的**索引**\n",
    "    \n",
    "    详见`第13章 使用TensorFlow加载和预处理数据(1) 3.2使用独热向量编码分类特征`\n",
    "    \n",
    "    >- 首先定义词汇表,这是所有可能类别的列表.然后创建相应索引的张量.\n",
    "    >- 为查找表创建一个初始化程序,将类别列表及其索引传递给它.\n",
    "    >- 创建查找表,并为其提供初始化程序并指定了词汇表外`out-of-vocabulary (oov)桶`的数量.如果我们査找词汇表中不存在的类别，则査找表将计算该类别的哈希并将这个未知类別分配给`oov桶`之中的一个。它们的素引从已知类别开始，因此在此示例中，`oov桶`的索引为10001到11000."
   ]
  },
  {
   "cell_type": "code",
   "execution_count": null,
   "id": "cb0d5793",
   "metadata": {
    "execution": {
     "iopub.execute_input": "2022-04-17T17:28:51.842592Z",
     "iopub.status.busy": "2022-04-17T17:28:51.842255Z",
     "iopub.status.idle": "2022-04-17T17:28:51.857869Z",
     "shell.execute_reply": "2022-04-17T17:28:51.857066Z"
    },
    "papermill": {
     "duration": 47.596119,
     "end_time": "2022-04-17T17:28:51.860292",
     "exception": false,
     "start_time": "2022-04-17T17:28:04.264173",
     "status": "completed"
    },
    "tags": []
   },
   "outputs": [],
   "source": [
    "words = tf.constant(truncated_vocabulary)\n",
    "word_ids = tf.range(len(truncated_vocabulary), dtype=tf.int64)\n",
    "\n",
    "vocabulary_init = tf.lookup.KeyValueTensorInitializer(words, word_ids)\n",
    "\n",
    "num_oov_buckets = 10000\n",
    "table = tf.lookup.StaticVocabularyTable(vocabulary_init, num_oov_buckets)"
   ]
  },
  {
   "cell_type": "code",
   "execution_count": null,
   "id": "0b57c395",
   "metadata": {
    "execution": {
     "iopub.execute_input": "2022-04-17T17:30:27.136656Z",
     "iopub.status.busy": "2022-04-17T17:30:27.136354Z",
     "iopub.status.idle": "2022-04-17T17:30:27.146562Z",
     "shell.execute_reply": "2022-04-17T17:30:27.145811Z"
    },
    "papermill": {
     "duration": 47.452341,
     "end_time": "2022-04-17T17:30:27.148565",
     "exception": false,
     "start_time": "2022-04-17T17:29:39.696224",
     "status": "completed"
    },
    "tags": []
   },
   "outputs": [],
   "source": [
    "table.lookup(tf.constant([b\"This movie was faaaaaantastic\".split()]))"
   ]
  },
  {
   "cell_type": "markdown",
   "id": "8ee9c1e7",
   "metadata": {
    "papermill": {
     "duration": 46.9307,
     "end_time": "2022-04-17T17:32:02.111069",
     "exception": false,
     "start_time": "2022-04-17T17:31:15.180369",
     "status": "completed"
    },
    "tags": []
   },
   "source": [
    "## 搭建并训练模型"
   ]
  },
  {
   "cell_type": "markdown",
   "id": "856853ec",
   "metadata": {
    "papermill": {
     "duration": 46.787652,
     "end_time": "2022-04-17T17:33:36.873878",
     "exception": false,
     "start_time": "2022-04-17T17:32:50.086226",
     "status": "completed"
    },
    "tags": []
   },
   "source": [
    "现在，可以创建最终的训练集。\n",
    "1. 首先对影评做批处理, 使用`preprocess()`将其转换为单词的短序列.\n",
    "2. 然后使用一个简单的`encode_words()`对这些单词进行编码, 最后预提取下一个批次."
   ]
  },
  {
   "cell_type": "code",
   "execution_count": null,
   "id": "2bc0fda9",
   "metadata": {
    "execution": {
     "iopub.execute_input": "2022-04-17T17:35:12.159195Z",
     "iopub.status.busy": "2022-04-17T17:35:12.158916Z",
     "iopub.status.idle": "2022-04-17T17:35:12.163058Z",
     "shell.execute_reply": "2022-04-17T17:35:12.162305Z"
    },
    "papermill": {
     "duration": 47.03625,
     "end_time": "2022-04-17T17:35:12.164899",
     "exception": false,
     "start_time": "2022-04-17T17:34:25.128649",
     "status": "completed"
    },
    "tags": []
   },
   "outputs": [],
   "source": [
    "def encode_words(X_batch, y_batch):\n",
    "    return table.lookup(X_batch), y_batch"
   ]
  },
  {
   "cell_type": "code",
   "execution_count": null,
   "id": "48314ab8",
   "metadata": {
    "execution": {
     "iopub.execute_input": "2022-04-17T17:36:47.899743Z",
     "iopub.status.busy": "2022-04-17T17:36:47.899461Z",
     "iopub.status.idle": "2022-04-17T17:36:47.974726Z",
     "shell.execute_reply": "2022-04-17T17:36:47.973947Z"
    },
    "papermill": {
     "duration": 47.879991,
     "end_time": "2022-04-17T17:36:47.977068",
     "exception": false,
     "start_time": "2022-04-17T17:36:00.097077",
     "status": "completed"
    },
    "tags": []
   },
   "outputs": [],
   "source": [
    "train_set = datasets[\"train\"].batch(32).map(preprocess)\n",
    "train_set = train_set.map(encode_words).prefetch(1)"
   ]
  },
  {
   "cell_type": "code",
   "execution_count": null,
   "id": "ec23b308",
   "metadata": {
    "execution": {
     "iopub.execute_input": "2022-04-17T17:38:24.877566Z",
     "iopub.status.busy": "2022-04-17T17:38:24.877264Z",
     "iopub.status.idle": "2022-04-17T17:38:24.944947Z",
     "shell.execute_reply": "2022-04-17T17:38:24.943931Z"
    },
    "papermill": {
     "duration": 49.70079,
     "end_time": "2022-04-17T17:38:24.947092",
     "exception": false,
     "start_time": "2022-04-17T17:37:35.246302",
     "status": "completed"
    },
    "tags": []
   },
   "outputs": [],
   "source": [
    "for X_batch, y_batch in train_set.take(1):\n",
    "    print(X_batch.numpy())\n",
    "    print()\n",
    "    print(y_batch.numpy())"
   ]
  },
  {
   "cell_type": "markdown",
   "id": "988531c9",
   "metadata": {
    "papermill": {
     "duration": 47.71542,
     "end_time": "2022-04-17T17:40:00.038971",
     "exception": false,
     "start_time": "2022-04-17T17:39:12.323551",
     "status": "completed"
    },
    "tags": []
   },
   "source": [
    "3. 构建模型\n",
    "    \n",
    "    使用`Keras`提供的`Embedding`层实现嵌入.\n",
    "    \n",
    "    将所有单词ID转换为`嵌入`.嵌入矩阵需要每个单词ID（`vocab_size` + `num_oov_buckets`）, 每个嵌入维度一列. 模型输入是2D张量, 形状为 `[批次大小, 时间步]` , 嵌入层的输出是一个3D张量, 形状为 `[批次大小, 时间步, 嵌入大小]` .输出层使用`sigmoid`来输出估计概率的单个神经元, 该概率反应了评论表达与电影相关的正面情绪.\n"
   ]
  },
  {
   "cell_type": "code",
   "execution_count": null,
   "id": "5605e5e1",
   "metadata": {
    "execution": {
     "iopub.execute_input": "2022-04-17T17:41:35.430649Z",
     "iopub.status.busy": "2022-04-17T17:41:35.430372Z",
     "iopub.status.idle": "2022-04-17T17:41:35.438304Z",
     "shell.execute_reply": "2022-04-17T17:41:35.437577Z"
    },
    "papermill": {
     "duration": 47.909226,
     "end_time": "2022-04-17T17:41:35.440203",
     "exception": false,
     "start_time": "2022-04-17T17:40:47.530977",
     "status": "completed"
    },
    "tags": []
   },
   "outputs": [],
   "source": [
    "initialization(42)"
   ]
  },
  {
   "cell_type": "code",
   "execution_count": null,
   "id": "870c14e7",
   "metadata": {
    "execution": {
     "iopub.execute_input": "2022-04-17T17:43:10.338423Z",
     "iopub.status.busy": "2022-04-17T17:43:10.337984Z",
     "iopub.status.idle": "2022-04-17T17:43:11.967752Z",
     "shell.execute_reply": "2022-04-17T17:43:11.967027Z"
    },
    "papermill": {
     "duration": 49.097691,
     "end_time": "2022-04-17T17:43:11.969886",
     "exception": false,
     "start_time": "2022-04-17T17:42:22.872195",
     "status": "completed"
    },
    "tags": []
   },
   "outputs": [],
   "source": [
    "embed_size = 128  # 嵌入维度\n",
    "row = vocabulary_size + num_oov_buckets  # 53893+10000\n",
    "\n",
    "model = keras.models.Sequential([\n",
    "    keras.layers.Embedding(input_dim=row,\n",
    "                           output_dim=embed_size,\n",
    "                           mask_zero=True,\n",
    "                           input_shape=[None]),\n",
    "    keras.layers.GRU(128, return_sequences=True),\n",
    "    keras.layers.GRU(128),  # 仅返回最后一个时间步长的输出\n",
    "    keras.layers.Dense(1, activation=\"sigmoid\")\n",
    "])"
   ]
  },
  {
   "cell_type": "code",
   "execution_count": null,
   "id": "a4b01d23",
   "metadata": {
    "execution": {
     "iopub.execute_input": "2022-04-17T17:44:46.095651Z",
     "iopub.status.busy": "2022-04-17T17:44:46.095360Z",
     "iopub.status.idle": "2022-04-17T17:44:46.104426Z",
     "shell.execute_reply": "2022-04-17T17:44:46.103678Z"
    },
    "papermill": {
     "duration": 46.949612,
     "end_time": "2022-04-17T17:44:46.106400",
     "exception": false,
     "start_time": "2022-04-17T17:43:59.156788",
     "status": "completed"
    },
    "tags": []
   },
   "outputs": [],
   "source": [
    "model.summary()"
   ]
  },
  {
   "cell_type": "markdown",
   "id": "15738c5e",
   "metadata": {
    "papermill": {
     "duration": 47.265293,
     "end_time": "2022-04-17T17:46:21.356952",
     "exception": false,
     "start_time": "2022-04-17T17:45:34.091659",
     "status": "completed"
    },
    "tags": []
   },
   "source": [
    "4. 训练模型"
   ]
  },
  {
   "cell_type": "code",
   "execution_count": null,
   "id": "dfac36c4",
   "metadata": {
    "execution": {
     "iopub.execute_input": "2022-04-17T17:47:56.850459Z",
     "iopub.status.busy": "2022-04-17T17:47:56.850195Z",
     "iopub.status.idle": "2022-04-17T17:49:29.900286Z",
     "shell.execute_reply": "2022-04-17T17:49:29.899460Z"
    },
    "papermill": {
     "duration": 140.64908,
     "end_time": "2022-04-17T17:49:29.902722",
     "exception": false,
     "start_time": "2022-04-17T17:47:09.253642",
     "status": "completed"
    },
    "scrolled": true,
    "tags": []
   },
   "outputs": [],
   "source": [
    "model.compile(\n",
    "    loss=\"binary_crossentropy\",  # 二元交叉熵\n",
    "    optimizer=\"adam\",\n",
    "    metrics=[\"accuracy\"])\n",
    "history = model.fit(train_set, epochs=5)"
   ]
  },
  {
   "cell_type": "markdown",
   "id": "e97e8830",
   "metadata": {
    "papermill": {
     "duration": 47.83025,
     "end_time": "2022-04-17T17:51:05.887467",
     "exception": false,
     "start_time": "2022-04-17T17:50:18.057217",
     "status": "completed"
    },
    "tags": []
   },
   "source": [
    "## 掩码遮蔽 Masking"
   ]
  },
  {
   "cell_type": "markdown",
   "id": "f2e3f724",
   "metadata": {
    "papermill": {
     "duration": 47.793164,
     "end_time": "2022-04-17T17:52:40.822856",
     "exception": false,
     "start_time": "2022-04-17T17:51:53.029692",
     "status": "completed"
    },
    "tags": []
   },
   "source": [
    "该模型需要学习忽略掉`填充token`: 可在创建`Embedding层`添加`mask_zero=True`, 使得`填充token`被遮蔽, 因为其ID为0(频率最高).\n",
    "\n",
    "> 其中的原理，是嵌入层创建了一个等于`K.not_equal(inputs, 0)`的`掩码张量`：这是一个布尔张量，形状和输入相同，**只要词ID有0，它就等于False，否则为True。只要时间维度保留着, 模型将自动将这个`掩码张量`向前传递给所有层。**\n",
    ">\n",
    ">    - 在本示例中，尽管两个`GRU`都接收到了`掩码张量`，但第二个`GRU`层不返回序列, 只返回最后一个时间步，`掩码张量`不会传递到`Dense`层。\n",
    ">\n",
    "> 每个层处理掩码的方式不同，但通常只会忽略被遮掩的时间步长（即掩码为False的时间步长）。例如，当循环层碰到被掩蔽的时间步长时，就只是从前一时间步长复制输出而已。 如果`掩码`一直传递到输出（输出为序列的模型），则它也会作用到损失上，所以被掩码的时间步长不会贡献到损失上（它们的损失为0）.\n",
    ">\n",
    " `LSTM`和`GRU`层有基于`cuDNN`库的GUP优化的实现, 但是不支持掩码. 优化的实现还需要使用多个超参数默认值 具体详见`1.4`节\n",
    "\n",
    " 所有接收掩码的层必须支持掩码（否则会抛出异常）。包括所有的循环层、`TimeDistributed`层和其它层。所有支持掩码的层必须`supports_masking=True`。\n",
    "\n",
    " - 如果想实现自定义的支持掩码的层，应该给`call()`方法添加`mask`参数。另外，要在构造器中设定`self.supports_masking = True`。\n",
    " - 如果第一个层不是`Embedding层`，可以使用`keras.layers.Masking层`: 它设掩码为`K.any(K.not_equal(inputs, 0), axis=-1)`，意思是最后一维都是0的时间步，会被后续层遮挡。"
   ]
  },
  {
   "cell_type": "markdown",
   "id": "8ba3d3ca",
   "metadata": {
    "papermill": {
     "duration": 47.47309,
     "end_time": "2022-04-17T17:54:15.692989",
     "exception": false,
     "start_time": "2022-04-17T17:53:28.219899",
     "status": "completed"
    },
    "tags": []
   },
   "source": [
    "- **使用函数式API构建模型手动处理掩码**\n",
    "\n",
    " 使用掩码层和自动掩码传播最适合简单的`Sequential`模型,不适合复杂的模型,这种情况需要使用函数式API或子类API来显性的计算掩码并传递到适当的层."
   ]
  },
  {
   "cell_type": "code",
   "execution_count": null,
   "id": "a222ff51",
   "metadata": {
    "execution": {
     "iopub.execute_input": "2022-04-17T17:55:50.616833Z",
     "iopub.status.busy": "2022-04-17T17:55:50.616337Z",
     "iopub.status.idle": "2022-04-17T17:55:50.657761Z",
     "shell.execute_reply": "2022-04-17T17:55:50.657081Z"
    },
    "papermill": {
     "duration": 48.082549,
     "end_time": "2022-04-17T17:55:50.659578",
     "exception": false,
     "start_time": "2022-04-17T17:55:02.577029",
     "status": "completed"
    },
    "tags": []
   },
   "outputs": [],
   "source": [
    "initialization(42)"
   ]
  },
  {
   "cell_type": "code",
   "execution_count": null,
   "id": "a20f24e8",
   "metadata": {
    "execution": {
     "iopub.execute_input": "2022-04-17T17:57:24.626843Z",
     "iopub.status.busy": "2022-04-17T17:57:24.626574Z",
     "iopub.status.idle": "2022-04-17T17:57:24.933576Z",
     "shell.execute_reply": "2022-04-17T17:57:24.932575Z"
    },
    "papermill": {
     "duration": 47.182123,
     "end_time": "2022-04-17T17:57:24.935088",
     "exception": true,
     "start_time": "2022-04-17T17:56:37.752965",
     "status": "failed"
    },
    "tags": []
   },
   "outputs": [],
   "source": [
    "K = keras.backend\n",
    "embed_size = 128  # 嵌入维度\n",
    "row = vocabulary_size + num_oov_buckets  # 53893+10000"
   ]
  },
  {
   "cell_type": "code",
   "execution_count": null,
   "id": "ec90d332",
   "metadata": {
    "execution": {
     "iopub.status.busy": "2022-04-17T12:50:39.483058Z",
     "iopub.status.idle": "2022-04-17T12:50:39.483751Z",
     "shell.execute_reply": "2022-04-17T12:50:39.483548Z",
     "shell.execute_reply.started": "2022-04-17T12:50:39.483502Z"
    },
    "papermill": {
     "duration": null,
     "end_time": null,
     "exception": null,
     "start_time": null,
     "status": "pending"
    },
    "tags": []
   },
   "outputs": [],
   "source": [
    "inputs = keras.layers.Input(shape=[None])\n",
    "mask = keras.layers.Lambda(lambda inputs: K.not_equal(inputs, 0))(inputs)\n",
    "Z = keras.layers.Embedding(input_dim=row, output_dim=embed_size)(inputs)\n",
    "Z = keras.layers.GRU(128, return_sequences=True)(Z, mask=mask)\n",
    "Z = keras.layers.GRU(128)(Z, mask=mask)\n",
    "outputs = keras.layers.Dense(1, activation=\"sigmoid\")(Z)\n",
    "model = keras.models.Model(inputs=[inputs], outputs=[outputs])"
   ]
  },
  {
   "cell_type": "code",
   "execution_count": null,
   "id": "075b4340",
   "metadata": {
    "execution": {
     "iopub.status.busy": "2022-04-17T12:50:39.484981Z",
     "iopub.status.idle": "2022-04-17T12:50:39.485687Z",
     "shell.execute_reply": "2022-04-17T12:50:39.485464Z",
     "shell.execute_reply.started": "2022-04-17T12:50:39.485438Z"
    },
    "papermill": {
     "duration": null,
     "end_time": null,
     "exception": null,
     "start_time": null,
     "status": "pending"
    },
    "tags": []
   },
   "outputs": [],
   "source": [
    "model.summary()"
   ]
  },
  {
   "cell_type": "code",
   "execution_count": null,
   "id": "d24076b6",
   "metadata": {
    "execution": {
     "iopub.status.busy": "2022-04-17T12:50:39.487779Z",
     "iopub.status.idle": "2022-04-17T12:50:39.489127Z",
     "shell.execute_reply": "2022-04-17T12:50:39.488189Z",
     "shell.execute_reply.started": "2022-04-17T12:50:39.488165Z"
    },
    "papermill": {
     "duration": null,
     "end_time": null,
     "exception": null,
     "start_time": null,
     "status": "pending"
    },
    "scrolled": true,
    "tags": []
   },
   "outputs": [],
   "source": [
    "model.compile(\n",
    "    loss=\"binary_crossentropy\",  # 二元交叉熵\n",
    "    optimizer=\"adam\",\n",
    "    metrics=[\"accuracy\"])\n",
    "history = model.fit(train_set, epochs=5)"
   ]
  },
  {
   "cell_type": "code",
   "execution_count": null,
   "id": "bbf97fe7",
   "metadata": {
    "execution": {
     "iopub.status.busy": "2022-04-17T12:50:39.491519Z",
     "iopub.status.idle": "2022-04-17T12:50:39.492220Z",
     "shell.execute_reply": "2022-04-17T12:50:39.492005Z",
     "shell.execute_reply.started": "2022-04-17T12:50:39.491980Z"
    },
    "papermill": {
     "duration": null,
     "end_time": null,
     "exception": null,
     "start_time": null,
     "status": "pending"
    },
    "tags": []
   },
   "outputs": [],
   "source": [
    "model.save('./models/my_Masking_model.h5')"
   ]
  },
  {
   "cell_type": "markdown",
   "id": "3b9f79b1",
   "metadata": {
    "papermill": {
     "duration": null,
     "end_time": null,
     "exception": null,
     "start_time": null,
     "status": "pending"
    },
    "tags": []
   },
   "source": [
    "## 可视化嵌入向量"
   ]
  },
  {
   "cell_type": "markdown",
   "id": "f0284db2",
   "metadata": {
    "papermill": {
     "duration": null,
     "end_time": null,
     "exception": null,
     "start_time": null,
     "status": "pending"
    },
    "tags": []
   },
   "source": [
    "### Embedding Projector"
   ]
  },
  {
   "cell_type": "markdown",
   "id": "d123c639",
   "metadata": {
    "papermill": {
     "duration": null,
     "end_time": null,
     "exception": null,
     "start_time": null,
     "status": "pending"
    },
    "tags": []
   },
   "source": [
    "1.首先, 我们将检索在训练期间学习的单词嵌入向量:"
   ]
  },
  {
   "cell_type": "code",
   "execution_count": null,
   "id": "dbf2365c",
   "metadata": {
    "execution": {
     "iopub.status.busy": "2022-04-17T12:50:39.493438Z",
     "iopub.status.idle": "2022-04-17T12:50:39.494068Z",
     "shell.execute_reply": "2022-04-17T12:50:39.493860Z",
     "shell.execute_reply.started": "2022-04-17T12:50:39.493836Z"
    },
    "papermill": {
     "duration": null,
     "end_time": null,
     "exception": null,
     "start_time": null,
     "status": "pending"
    },
    "tags": []
   },
   "outputs": [],
   "source": [
    "model = keras.models.load_model(\"./models/my_Masking_model.h5\")\n",
    "\n",
    "e = model.layers[1]\n",
    "weight = e.get_weights()[0]\n",
    "print(weight.shape)"
   ]
  },
  {
   "cell_type": "markdown",
   "id": "b94a3260",
   "metadata": {
    "papermill": {
     "duration": null,
     "end_time": null,
     "exception": null,
     "start_time": null,
     "status": "pending"
    },
    "tags": []
   },
   "source": [
    "2. 将权重写入磁盘。要使用 `Embedding Projector`，我们将以制表符分隔的格式上传两个文件：\n",
    "    - 向量文件（包含嵌入向量）\n",
    "    - 一个元数据文件（包含单词）"
   ]
  },
  {
   "cell_type": "code",
   "execution_count": null,
   "id": "aa1d5a7a",
   "metadata": {
    "execution": {
     "iopub.status.busy": "2022-04-17T12:50:39.495263Z",
     "iopub.status.idle": "2022-04-17T12:50:39.495924Z",
     "shell.execute_reply": "2022-04-17T12:50:39.495707Z",
     "shell.execute_reply.started": "2022-04-17T12:50:39.495682Z"
    },
    "papermill": {
     "duration": null,
     "end_time": null,
     "exception": null,
     "start_time": null,
     "status": "pending"
    },
    "tags": []
   },
   "outputs": [],
   "source": [
    "out_v = io.open('./Embedding/vecs.tsv', 'w', encoding='utf-8')\n",
    "out_m = io.open('./Embedding/meta.tsv', 'w', encoding='utf-8')\n",
    "\n",
    "for num, word in enumerate(truncated_vocabulary):\n",
    "    word = word.decode(\"utf-8\")\n",
    "    vec = weight[num + 1]  # 跳过<pad>填充\n",
    "    out_m.write(word + \"\\n\")\n",
    "    out_v.write('\\t'.join([str(x) for x in vec]) + \"\\n\")\n",
    "out_m.close()\n",
    "out_v.close()"
   ]
  },
  {
   "cell_type": "markdown",
   "id": "e0900ea6",
   "metadata": {
    "papermill": {
     "duration": null,
     "end_time": null,
     "exception": null,
     "start_time": null,
     "status": "pending"
    },
    "tags": []
   },
   "source": [
    "3. 为了可视化嵌入向量，我们将它们上传到`Embedding Projector`: http://projector.tensorflow.org/\n",
    "    - 打开`Embedding Projector`\n",
    "    - 点击`Load data`\n",
    "    - 上传我们在上面创建的两个文件：`vecs.tsv`和`meta.tsv`\n",
    "    \n",
    " <img src=\"./images/other/16-3.png\">"
   ]
  },
  {
   "cell_type": "markdown",
   "id": "223081a2",
   "metadata": {
    "papermill": {
     "duration": null,
     "end_time": null,
     "exception": null,
     "start_time": null,
     "status": "pending"
    },
    "tags": []
   },
   "source": [
    "### TensorBoard"
   ]
  },
  {
   "cell_type": "code",
   "execution_count": null,
   "id": "73e78ad0",
   "metadata": {
    "execution": {
     "iopub.status.busy": "2022-04-17T12:50:39.497147Z",
     "iopub.status.idle": "2022-04-17T12:50:39.497813Z",
     "shell.execute_reply": "2022-04-17T12:50:39.497595Z",
     "shell.execute_reply.started": "2022-04-17T12:50:39.497570Z"
    },
    "papermill": {
     "duration": null,
     "end_time": null,
     "exception": null,
     "start_time": null,
     "status": "pending"
    },
    "tags": []
   },
   "outputs": [],
   "source": [
    "from tensorboard.plugins import projector\n",
    "\n",
    "# 设置日志目录，以便 Tensorboard 知道在哪里查找文件。\n",
    "log_dir = './Logs/SentimentAnalysis_logs/'\n",
    "if not os.path.exists(log_dir):\n",
    "    os.makedirs(log_dir)\n",
    "# 将我们要分析的权重保存为变量。\n",
    "# 请注意，第一个 value 代表任何未知单词，它不在元数据中，这里我们将删除这个值。\n",
    "\n",
    "weights = tf.Variable(model.layers[1].get_weights()[0][1:])\n",
    "checkpoint = tf.train.Checkpoint(embedding=weights)\n",
    "checkpoint.save(os.path.join(log_dir, \"embedding.ckpt\"))\n",
    "\n",
    "config = projector.ProjectorConfig()\n",
    "embedding = config.embeddings.add()\n",
    "# 张量的名称将以`/.ATTRIBUTES/VARIABLE _ VALUE`作为后缀。\n",
    "embedding.tensor_name = \"./Embedding/.ATTRIBUTES/VARIABLE_VALUE\"\n",
    "embedding.metadata_path = './Embedding/meta.tsv'\n",
    "projector.visualize_embeddings(log_dir, config)"
   ]
  },
  {
   "cell_type": "code",
   "execution_count": null,
   "id": "cbd1a05e",
   "metadata": {
    "execution": {
     "iopub.status.busy": "2022-04-17T12:50:39.498999Z",
     "iopub.status.idle": "2022-04-17T12:50:39.499662Z",
     "shell.execute_reply": "2022-04-17T12:50:39.499434Z",
     "shell.execute_reply.started": "2022-04-17T12:50:39.499408Z"
    },
    "papermill": {
     "duration": null,
     "end_time": null,
     "exception": null,
     "start_time": null,
     "status": "pending"
    },
    "scrolled": true,
    "tags": []
   },
   "outputs": [],
   "source": [
    "%load_ext tensorboard\n",
    "%tensorboard --logdir='./Logs/SentimentAnalysis_logs/' --port=6061"
   ]
  },
  {
   "cell_type": "markdown",
   "id": "42ac08d7",
   "metadata": {
    "papermill": {
     "duration": null,
     "end_time": null,
     "exception": null,
     "start_time": null,
     "status": "pending"
    },
    "tags": []
   },
   "source": [
    "## 重用预训练的嵌入 Reusing Pretrained Embeddings"
   ]
  },
  {
   "cell_type": "markdown",
   "id": "e0dca29e",
   "metadata": {
    "papermill": {
     "duration": null,
     "end_time": null,
     "exception": null,
     "start_time": null,
     "status": "pending"
    },
    "tags": []
   },
   "source": [
    "利用`TensorFlow Hub`项目, 在情感分析模型中使用`tf2-preview/nnlm-en-dim50`句子嵌入模块.\n",
    "\n",
    "项目地址: https://tfhub.dev/google/tf2-preview/nnlm-en-dim50/1\n",
    "\n",
    "本模块是一个`句子编码器`：它把字符串作为输入，并把每个字符串编码为一个独立向量（这个例子中是50维度的矢量）。在内部，它将字符串解析（空格分隔），然后使用在大型语料库`Google News 7B`(该语料库一共有70亿个词)上预训练的的嵌入矩阵来嵌入每个词。然后计算所有词嵌入的平均值，结果是`句子嵌入`。我们接着可以添加两个简单的`Dense`层来创建一个出色的情感分析模型。\n",
    "\n",
    "默认，`hub.KerasLayer`是不可训练的，但创建时可以设定`trainable=True`，就可以针对自己的任务微调了。"
   ]
  },
  {
   "cell_type": "code",
   "execution_count": null,
   "id": "75cc7190",
   "metadata": {
    "execution": {
     "iopub.status.busy": "2022-04-17T12:50:39.500843Z",
     "iopub.status.idle": "2022-04-17T12:50:39.501477Z",
     "shell.execute_reply": "2022-04-17T12:50:39.501251Z",
     "shell.execute_reply.started": "2022-04-17T12:50:39.501227Z"
    },
    "papermill": {
     "duration": null,
     "end_time": null,
     "exception": null,
     "start_time": null,
     "status": "pending"
    },
    "tags": []
   },
   "outputs": [],
   "source": [
    "initialization(42)"
   ]
  },
  {
   "cell_type": "code",
   "execution_count": null,
   "id": "444a838d",
   "metadata": {
    "execution": {
     "iopub.status.busy": "2022-04-17T12:50:39.502652Z",
     "iopub.status.idle": "2022-04-17T12:50:39.503275Z",
     "shell.execute_reply": "2022-04-17T12:50:39.503071Z",
     "shell.execute_reply.started": "2022-04-17T12:50:39.503046Z"
    },
    "papermill": {
     "duration": null,
     "end_time": null,
     "exception": null,
     "start_time": null,
     "status": "pending"
    },
    "tags": []
   },
   "outputs": [],
   "source": [
    "TFHUB_CACHE_DIR = os.path.join(os.curdir, \"tfhub_cache\")\n",
    "# 将文件缓存目录添加到系统变量 避免每次系统清理之后再次下载\n",
    "os.environ[\"TFHUB_CACHE_DIR\"] = TFHUB_CACHE_DIR"
   ]
  },
  {
   "cell_type": "code",
   "execution_count": null,
   "id": "9bc2abdc",
   "metadata": {
    "execution": {
     "iopub.status.busy": "2022-04-17T12:50:39.504474Z",
     "iopub.status.idle": "2022-04-17T12:50:39.505095Z",
     "shell.execute_reply": "2022-04-17T12:50:39.504887Z",
     "shell.execute_reply.started": "2022-04-17T12:50:39.504863Z"
    },
    "papermill": {
     "duration": null,
     "end_time": null,
     "exception": null,
     "start_time": null,
     "status": "pending"
    },
    "tags": []
   },
   "outputs": [],
   "source": [
    "import tensorflow_hub as hub\n",
    "\n",
    "model = keras.Sequential([\n",
    "    # 将一维字符串张量中的一批句子作为输入\n",
    "    hub.KerasLayer(\"https://tfhub.dev/google/tf2-preview/nnlm-en-dim50/1\",\n",
    "                   dtype=tf.string,\n",
    "                   input_shape=[],\n",
    "                   output_shape=[50]),\n",
    "    keras.layers.Dense(128, activation=\"relu\"),\n",
    "    keras.layers.Dense(1, activation=\"sigmoid\")\n",
    "])\n",
    "model.compile(loss=\"binary_crossentropy\",\n",
    "              optimizer=\"adam\",\n",
    "              metrics=[\"accuracy\"])"
   ]
  },
  {
   "cell_type": "code",
   "execution_count": null,
   "id": "bdbc88d4",
   "metadata": {
    "execution": {
     "iopub.status.busy": "2022-04-17T12:50:39.506254Z",
     "iopub.status.idle": "2022-04-17T12:50:39.506900Z",
     "shell.execute_reply": "2022-04-17T12:50:39.506693Z",
     "shell.execute_reply.started": "2022-04-17T12:50:39.506667Z"
    },
    "papermill": {
     "duration": null,
     "end_time": null,
     "exception": null,
     "start_time": null,
     "status": "pending"
    },
    "scrolled": true,
    "tags": []
   },
   "outputs": [],
   "source": [
    "import tensorflow_datasets as tfds\n",
    "\n",
    "datasets, info = tfds.load(\"imdb_reviews\", as_supervised=True, with_info=True)\n",
    "train_size = info.splits[\"train\"].num_examples\n",
    "batch_size = 32\n",
    "train_set = datasets[\"train\"].batch(batch_size).prefetch(1)\n",
    "history = model.fit(train_set, epochs=5)"
   ]
  },
  {
   "cell_type": "markdown",
   "metadata": {},
   "source": [
    "> Apotosome 04/18/22"
   ]
  }
 ],
 "metadata": {
  "hide_input": false,
  "kernelspec": {
   "display_name": "Python 3",
   "language": "python",
   "name": "python3"
  },
  "language_info": {
   "codemirror_mode": {
    "name": "ipython",
    "version": 3
   },
   "file_extension": ".py",
   "mimetype": "text/x-python",
   "name": "python",
   "nbconvert_exporter": "python",
   "pygments_lexer": "ipython3",
   "version": "3.7.4"
  },
  "papermill": {
   "default_parameters": {},
   "duration": 18440.355699,
   "end_time": "2022-04-17T17:58:16.241975",
   "environment_variables": {},
   "exception": true,
   "input_path": "__notebook__.ipynb",
   "output_path": "__notebook__.ipynb",
   "parameters": {},
   "start_time": "2022-04-17T12:50:55.886276",
   "version": "2.3.4"
  },
  "toc": {
   "base_numbering": 1,
   "nav_menu": {},
   "number_sections": true,
   "sideBar": true,
   "skip_h1_title": false,
   "title_cell": "目录",
   "title_sidebar": "目录",
   "toc_cell": false,
   "toc_position": {
    "height": "calc(100% - 180px)",
    "left": "10px",
    "top": "150px",
    "width": "204.3px"
   },
   "toc_section_display": true,
   "toc_window_display": false
  },
  "widgets": {
   "application/vnd.jupyter.widget-state+json": {
    "state": {
     "00df715b64ed4935aa83d48035c7651b": {
      "model_module": "@jupyter-widgets/controls",
      "model_module_version": "1.5.0",
      "model_name": "ProgressStyleModel",
      "state": {
       "_model_module": "@jupyter-widgets/controls",
       "_model_module_version": "1.5.0",
       "_model_name": "ProgressStyleModel",
       "_view_count": null,
       "_view_module": "@jupyter-widgets/base",
       "_view_module_version": "1.2.0",
       "_view_name": "StyleView",
       "bar_color": null,
       "description_width": ""
      }
     },
     "0267a428cf034f0584c77c4a6d3626bf": {
      "model_module": "@jupyter-widgets/controls",
      "model_module_version": "1.5.0",
      "model_name": "FloatProgressModel",
      "state": {
       "_dom_classes": [],
       "_model_module": "@jupyter-widgets/controls",
       "_model_module_version": "1.5.0",
       "_model_name": "FloatProgressModel",
       "_view_count": null,
       "_view_module": "@jupyter-widgets/controls",
       "_view_module_version": "1.5.0",
       "_view_name": "ProgressView",
       "bar_style": "",
       "description": "",
       "description_tooltip": null,
       "layout": "IPY_MODEL_5c12bec09b494a8d84b1082a8ab28f93",
       "max": 25000,
       "min": 0,
       "orientation": "horizontal",
       "style": "IPY_MODEL_0c781c0d91934d7d9f38af77e2816f13",
       "value": 25000
      }
     },
     "04eadee738d4443c87b47d5177f89c66": {
      "model_module": "@jupyter-widgets/controls",
      "model_module_version": "1.5.0",
      "model_name": "ProgressStyleModel",
      "state": {
       "_model_module": "@jupyter-widgets/controls",
       "_model_module_version": "1.5.0",
       "_model_name": "ProgressStyleModel",
       "_view_count": null,
       "_view_module": "@jupyter-widgets/base",
       "_view_module_version": "1.2.0",
       "_view_name": "StyleView",
       "bar_color": null,
       "description_width": ""
      }
     },
     "0c781c0d91934d7d9f38af77e2816f13": {
      "model_module": "@jupyter-widgets/controls",
      "model_module_version": "1.5.0",
      "model_name": "ProgressStyleModel",
      "state": {
       "_model_module": "@jupyter-widgets/controls",
       "_model_module_version": "1.5.0",
       "_model_name": "ProgressStyleModel",
       "_view_count": null,
       "_view_module": "@jupyter-widgets/base",
       "_view_module_version": "1.2.0",
       "_view_name": "StyleView",
       "bar_color": null,
       "description_width": ""
      }
     },
     "0d6207620774478d93e5482b22931613": {
      "model_module": "@jupyter-widgets/base",
      "model_module_version": "1.2.0",
      "model_name": "LayoutModel",
      "state": {
       "_model_module": "@jupyter-widgets/base",
       "_model_module_version": "1.2.0",
       "_model_name": "LayoutModel",
       "_view_count": null,
       "_view_module": "@jupyter-widgets/base",
       "_view_module_version": "1.2.0",
       "_view_name": "LayoutView",
       "align_content": null,
       "align_items": null,
       "align_self": null,
       "border": null,
       "bottom": null,
       "display": null,
       "flex": null,
       "flex_flow": null,
       "grid_area": null,
       "grid_auto_columns": null,
       "grid_auto_flow": null,
       "grid_auto_rows": null,
       "grid_column": null,
       "grid_gap": null,
       "grid_row": null,
       "grid_template_areas": null,
       "grid_template_columns": null,
       "grid_template_rows": null,
       "height": null,
       "justify_content": null,
       "justify_items": null,
       "left": null,
       "margin": null,
       "max_height": null,
       "max_width": null,
       "min_height": null,
       "min_width": null,
       "object_fit": null,
       "object_position": null,
       "order": null,
       "overflow": null,
       "overflow_x": null,
       "overflow_y": null,
       "padding": null,
       "right": null,
       "top": null,
       "visibility": null,
       "width": null
      }
     },
     "0f1bb8d689694944adbfde059d62763a": {
      "model_module": "@jupyter-widgets/controls",
      "model_module_version": "1.5.0",
      "model_name": "DescriptionStyleModel",
      "state": {
       "_model_module": "@jupyter-widgets/controls",
       "_model_module_version": "1.5.0",
       "_model_name": "DescriptionStyleModel",
       "_view_count": null,
       "_view_module": "@jupyter-widgets/base",
       "_view_module_version": "1.2.0",
       "_view_name": "StyleView",
       "description_width": ""
      }
     },
     "16004e3cb6f34010aae9e76d688b38f9": {
      "model_module": "@jupyter-widgets/controls",
      "model_module_version": "1.5.0",
      "model_name": "HTMLModel",
      "state": {
       "_dom_classes": [],
       "_model_module": "@jupyter-widgets/controls",
       "_model_module_version": "1.5.0",
       "_model_name": "HTMLModel",
       "_view_count": null,
       "_view_module": "@jupyter-widgets/controls",
       "_view_module_version": "1.5.0",
       "_view_name": "HTMLView",
       "description": "",
       "description_tooltip": null,
       "layout": "IPY_MODEL_e7965f56c6564404a605e17ff643d964",
       "placeholder": "​",
       "style": "IPY_MODEL_aaf574cbe94c40eba5b9dfddbed5340c",
       "value": "Shuffling imdb_reviews-train.tfrecord...:  52%"
      }
     },
     "197b328386534b799ddb68f86de7b782": {
      "model_module": "@jupyter-widgets/controls",
      "model_module_version": "1.5.0",
      "model_name": "HBoxModel",
      "state": {
       "_dom_classes": [],
       "_model_module": "@jupyter-widgets/controls",
       "_model_module_version": "1.5.0",
       "_model_name": "HBoxModel",
       "_view_count": null,
       "_view_module": "@jupyter-widgets/controls",
       "_view_module_version": "1.5.0",
       "_view_name": "HBoxView",
       "box_style": "",
       "children": [
        "IPY_MODEL_60ba8ff411464a89945b0cb9d04cefb8",
        "IPY_MODEL_4bb5c720e6b9453d94d235be425a0aa6",
        "IPY_MODEL_ef738525032c4264abb891693b866f17"
       ],
       "layout": "IPY_MODEL_9b45b0f6d0e04e1cb9200b490aeb8491"
      }
     },
     "1c02694c13dc4fb19a7527f97f39d86a": {
      "model_module": "@jupyter-widgets/controls",
      "model_module_version": "1.5.0",
      "model_name": "DescriptionStyleModel",
      "state": {
       "_model_module": "@jupyter-widgets/controls",
       "_model_module_version": "1.5.0",
       "_model_name": "DescriptionStyleModel",
       "_view_count": null,
       "_view_module": "@jupyter-widgets/base",
       "_view_module_version": "1.2.0",
       "_view_name": "StyleView",
       "description_width": ""
      }
     },
     "1c09aaec51b9430fb7c66e33333f5888": {
      "model_module": "@jupyter-widgets/controls",
      "model_module_version": "1.5.0",
      "model_name": "FloatProgressModel",
      "state": {
       "_dom_classes": [],
       "_model_module": "@jupyter-widgets/controls",
       "_model_module_version": "1.5.0",
       "_model_name": "FloatProgressModel",
       "_view_count": null,
       "_view_module": "@jupyter-widgets/controls",
       "_view_module_version": "1.5.0",
       "_view_name": "ProgressView",
       "bar_style": "",
       "description": "",
       "description_tooltip": null,
       "layout": "IPY_MODEL_e09f4553952f4349b822cb14fcec4daf",
       "max": 25000,
       "min": 0,
       "orientation": "horizontal",
       "style": "IPY_MODEL_04eadee738d4443c87b47d5177f89c66",
       "value": 25000
      }
     },
     "1c86ee183f82468d8d32d277162e3545": {
      "model_module": "@jupyter-widgets/base",
      "model_module_version": "1.2.0",
      "model_name": "LayoutModel",
      "state": {
       "_model_module": "@jupyter-widgets/base",
       "_model_module_version": "1.2.0",
       "_model_name": "LayoutModel",
       "_view_count": null,
       "_view_module": "@jupyter-widgets/base",
       "_view_module_version": "1.2.0",
       "_view_name": "LayoutView",
       "align_content": null,
       "align_items": null,
       "align_self": null,
       "border": null,
       "bottom": null,
       "display": null,
       "flex": null,
       "flex_flow": null,
       "grid_area": null,
       "grid_auto_columns": null,
       "grid_auto_flow": null,
       "grid_auto_rows": null,
       "grid_column": null,
       "grid_gap": null,
       "grid_row": null,
       "grid_template_areas": null,
       "grid_template_columns": null,
       "grid_template_rows": null,
       "height": null,
       "justify_content": null,
       "justify_items": null,
       "left": null,
       "margin": null,
       "max_height": null,
       "max_width": null,
       "min_height": null,
       "min_width": null,
       "object_fit": null,
       "object_position": null,
       "order": null,
       "overflow": null,
       "overflow_x": null,
       "overflow_y": null,
       "padding": null,
       "right": null,
       "top": null,
       "visibility": null,
       "width": null
      }
     },
     "1c88a36694c74c9ea3a0e221e60517d4": {
      "model_module": "@jupyter-widgets/controls",
      "model_module_version": "1.5.0",
      "model_name": "HTMLModel",
      "state": {
       "_dom_classes": [],
       "_model_module": "@jupyter-widgets/controls",
       "_model_module_version": "1.5.0",
       "_model_name": "HTMLModel",
       "_view_count": null,
       "_view_module": "@jupyter-widgets/controls",
       "_view_module_version": "1.5.0",
       "_view_name": "HTMLView",
       "description": "",
       "description_tooltip": null,
       "layout": "IPY_MODEL_99682b217f9f42bcb5ec3da30518db54",
       "placeholder": "​",
       "style": "IPY_MODEL_1c02694c13dc4fb19a7527f97f39d86a",
       "value": " 80/80 [00:08&lt;00:00, 18.55 MiB/s]"
      }
     },
     "1cb4e43ef92c442d8f12b7c285c986ae": {
      "model_module": "@jupyter-widgets/controls",
      "model_module_version": "1.5.0",
      "model_name": "HTMLModel",
      "state": {
       "_dom_classes": [],
       "_model_module": "@jupyter-widgets/controls",
       "_model_module_version": "1.5.0",
       "_model_name": "HTMLModel",
       "_view_count": null,
       "_view_module": "@jupyter-widgets/controls",
       "_view_module_version": "1.5.0",
       "_view_name": "HTMLView",
       "description": "",
       "description_tooltip": null,
       "layout": "IPY_MODEL_1f9300ece9cb4408b8e9549058df87a1",
       "placeholder": "​",
       "style": "IPY_MODEL_c4bb99890d3b44ce96d2d876e9ab98b0",
       "value": " 12919/25000 [00:00&lt;00:00, 129175.65 examples/s]"
      }
     },
     "1cf4f88e8c004d618aa2076dc2fb9229": {
      "model_module": "@jupyter-widgets/base",
      "model_module_version": "1.2.0",
      "model_name": "LayoutModel",
      "state": {
       "_model_module": "@jupyter-widgets/base",
       "_model_module_version": "1.2.0",
       "_model_name": "LayoutModel",
       "_view_count": null,
       "_view_module": "@jupyter-widgets/base",
       "_view_module_version": "1.2.0",
       "_view_name": "LayoutView",
       "align_content": null,
       "align_items": null,
       "align_self": null,
       "border": null,
       "bottom": null,
       "display": null,
       "flex": null,
       "flex_flow": null,
       "grid_area": null,
       "grid_auto_columns": null,
       "grid_auto_flow": null,
       "grid_auto_rows": null,
       "grid_column": null,
       "grid_gap": null,
       "grid_row": null,
       "grid_template_areas": null,
       "grid_template_columns": null,
       "grid_template_rows": null,
       "height": null,
       "justify_content": null,
       "justify_items": null,
       "left": null,
       "margin": null,
       "max_height": null,
       "max_width": null,
       "min_height": null,
       "min_width": null,
       "object_fit": null,
       "object_position": null,
       "order": null,
       "overflow": null,
       "overflow_x": null,
       "overflow_y": null,
       "padding": null,
       "right": null,
       "top": null,
       "visibility": null,
       "width": null
      }
     },
     "1f654b84f65e422e8646aeb3369d19b6": {
      "model_module": "@jupyter-widgets/base",
      "model_module_version": "1.2.0",
      "model_name": "LayoutModel",
      "state": {
       "_model_module": "@jupyter-widgets/base",
       "_model_module_version": "1.2.0",
       "_model_name": "LayoutModel",
       "_view_count": null,
       "_view_module": "@jupyter-widgets/base",
       "_view_module_version": "1.2.0",
       "_view_name": "LayoutView",
       "align_content": null,
       "align_items": null,
       "align_self": null,
       "border": null,
       "bottom": null,
       "display": null,
       "flex": null,
       "flex_flow": null,
       "grid_area": null,
       "grid_auto_columns": null,
       "grid_auto_flow": null,
       "grid_auto_rows": null,
       "grid_column": null,
       "grid_gap": null,
       "grid_row": null,
       "grid_template_areas": null,
       "grid_template_columns": null,
       "grid_template_rows": null,
       "height": null,
       "justify_content": null,
       "justify_items": null,
       "left": null,
       "margin": null,
       "max_height": null,
       "max_width": null,
       "min_height": null,
       "min_width": null,
       "object_fit": null,
       "object_position": null,
       "order": null,
       "overflow": null,
       "overflow_x": null,
       "overflow_y": null,
       "padding": null,
       "right": null,
       "top": null,
       "visibility": null,
       "width": null
      }
     },
     "1f9300ece9cb4408b8e9549058df87a1": {
      "model_module": "@jupyter-widgets/base",
      "model_module_version": "1.2.0",
      "model_name": "LayoutModel",
      "state": {
       "_model_module": "@jupyter-widgets/base",
       "_model_module_version": "1.2.0",
       "_model_name": "LayoutModel",
       "_view_count": null,
       "_view_module": "@jupyter-widgets/base",
       "_view_module_version": "1.2.0",
       "_view_name": "LayoutView",
       "align_content": null,
       "align_items": null,
       "align_self": null,
       "border": null,
       "bottom": null,
       "display": null,
       "flex": null,
       "flex_flow": null,
       "grid_area": null,
       "grid_auto_columns": null,
       "grid_auto_flow": null,
       "grid_auto_rows": null,
       "grid_column": null,
       "grid_gap": null,
       "grid_row": null,
       "grid_template_areas": null,
       "grid_template_columns": null,
       "grid_template_rows": null,
       "height": null,
       "justify_content": null,
       "justify_items": null,
       "left": null,
       "margin": null,
       "max_height": null,
       "max_width": null,
       "min_height": null,
       "min_width": null,
       "object_fit": null,
       "object_position": null,
       "order": null,
       "overflow": null,
       "overflow_x": null,
       "overflow_y": null,
       "padding": null,
       "right": null,
       "top": null,
       "visibility": null,
       "width": null
      }
     },
     "211e3d9dcaa64978b4e8affec17d1276": {
      "model_module": "@jupyter-widgets/controls",
      "model_module_version": "1.5.0",
      "model_name": "DescriptionStyleModel",
      "state": {
       "_model_module": "@jupyter-widgets/controls",
       "_model_module_version": "1.5.0",
       "_model_name": "DescriptionStyleModel",
       "_view_count": null,
       "_view_module": "@jupyter-widgets/base",
       "_view_module_version": "1.2.0",
       "_view_name": "StyleView",
       "description_width": ""
      }
     },
     "24eaefd043df4772b471eabcf10352aa": {
      "model_module": "@jupyter-widgets/controls",
      "model_module_version": "1.5.0",
      "model_name": "FloatProgressModel",
      "state": {
       "_dom_classes": [],
       "_model_module": "@jupyter-widgets/controls",
       "_model_module_version": "1.5.0",
       "_model_name": "FloatProgressModel",
       "_view_count": null,
       "_view_module": "@jupyter-widgets/controls",
       "_view_module_version": "1.5.0",
       "_view_name": "ProgressView",
       "bar_style": "",
       "description": "",
       "description_tooltip": null,
       "layout": "IPY_MODEL_ffd0cd00d0db4e90ba40ad0ee3fbd4f4",
       "max": 50000,
       "min": 0,
       "orientation": "horizontal",
       "style": "IPY_MODEL_c8ceffe0f6f74a9ea95199de137732b3",
       "value": 50000
      }
     },
     "2e5072034a0243c1ae32b6f6b802a99c": {
      "model_module": "@jupyter-widgets/controls",
      "model_module_version": "1.5.0",
      "model_name": "HBoxModel",
      "state": {
       "_dom_classes": [],
       "_model_module": "@jupyter-widgets/controls",
       "_model_module_version": "1.5.0",
       "_model_name": "HBoxModel",
       "_view_count": null,
       "_view_module": "@jupyter-widgets/controls",
       "_view_module_version": "1.5.0",
       "_view_name": "HBoxView",
       "box_style": "",
       "children": [
        "IPY_MODEL_85c4fe5a86554c87b2ba94f1a31f9113",
        "IPY_MODEL_1c09aaec51b9430fb7c66e33333f5888",
        "IPY_MODEL_e3e1bed66abc4e5b90fdb73a83332419"
       ],
       "layout": "IPY_MODEL_1f654b84f65e422e8646aeb3369d19b6"
      }
     },
     "2ec758311ea34a7fb9783047bf9f279e": {
      "model_module": "@jupyter-widgets/controls",
      "model_module_version": "1.5.0",
      "model_name": "HBoxModel",
      "state": {
       "_dom_classes": [],
       "_model_module": "@jupyter-widgets/controls",
       "_model_module_version": "1.5.0",
       "_model_name": "HBoxModel",
       "_view_count": null,
       "_view_module": "@jupyter-widgets/controls",
       "_view_module_version": "1.5.0",
       "_view_name": "HBoxView",
       "box_style": "",
       "children": [
        "IPY_MODEL_ce82b21420734ee1b0c6fed715a3e1a7",
        "IPY_MODEL_8073f042f3ee4e50a08a56e18511b7f3",
        "IPY_MODEL_e38d86d04689463b895d4baf6c4a38d6"
       ],
       "layout": "IPY_MODEL_f90fad39957a4578b3dfbaf7873e7974"
      }
     },
     "30d9e484a8f04e2682cae3a496fc86e6": {
      "model_module": "@jupyter-widgets/controls",
      "model_module_version": "1.5.0",
      "model_name": "FloatProgressModel",
      "state": {
       "_dom_classes": [],
       "_model_module": "@jupyter-widgets/controls",
       "_model_module_version": "1.5.0",
       "_model_name": "FloatProgressModel",
       "_view_count": null,
       "_view_module": "@jupyter-widgets/controls",
       "_view_module_version": "1.5.0",
       "_view_name": "ProgressView",
       "bar_style": "success",
       "description": "",
       "description_tooltip": null,
       "layout": "IPY_MODEL_928b181b79464246b1f245ba3a1d7185",
       "max": 1,
       "min": 0,
       "orientation": "horizontal",
       "style": "IPY_MODEL_f19bc21b70574113bdf3b9fca35a59ac",
       "value": 1
      }
     },
     "340089f4286f43f0ae4045ca5362d69e": {
      "model_module": "@jupyter-widgets/controls",
      "model_module_version": "1.5.0",
      "model_name": "DescriptionStyleModel",
      "state": {
       "_model_module": "@jupyter-widgets/controls",
       "_model_module_version": "1.5.0",
       "_model_name": "DescriptionStyleModel",
       "_view_count": null,
       "_view_module": "@jupyter-widgets/base",
       "_view_module_version": "1.2.0",
       "_view_name": "StyleView",
       "description_width": ""
      }
     },
     "34572f87141c44519951422d6052e48e": {
      "model_module": "@jupyter-widgets/base",
      "model_module_version": "1.2.0",
      "model_name": "LayoutModel",
      "state": {
       "_model_module": "@jupyter-widgets/base",
       "_model_module_version": "1.2.0",
       "_model_name": "LayoutModel",
       "_view_count": null,
       "_view_module": "@jupyter-widgets/base",
       "_view_module_version": "1.2.0",
       "_view_name": "LayoutView",
       "align_content": null,
       "align_items": null,
       "align_self": null,
       "border": null,
       "bottom": null,
       "display": null,
       "flex": null,
       "flex_flow": null,
       "grid_area": null,
       "grid_auto_columns": null,
       "grid_auto_flow": null,
       "grid_auto_rows": null,
       "grid_column": null,
       "grid_gap": null,
       "grid_row": null,
       "grid_template_areas": null,
       "grid_template_columns": null,
       "grid_template_rows": null,
       "height": null,
       "justify_content": null,
       "justify_items": null,
       "left": null,
       "margin": null,
       "max_height": null,
       "max_width": null,
       "min_height": null,
       "min_width": null,
       "object_fit": null,
       "object_position": null,
       "order": null,
       "overflow": null,
       "overflow_x": null,
       "overflow_y": null,
       "padding": null,
       "right": null,
       "top": null,
       "visibility": null,
       "width": null
      }
     },
     "380fca8c09e3408aa4f3ccfe5c2fac2c": {
      "model_module": "@jupyter-widgets/base",
      "model_module_version": "1.2.0",
      "model_name": "LayoutModel",
      "state": {
       "_model_module": "@jupyter-widgets/base",
       "_model_module_version": "1.2.0",
       "_model_name": "LayoutModel",
       "_view_count": null,
       "_view_module": "@jupyter-widgets/base",
       "_view_module_version": "1.2.0",
       "_view_name": "LayoutView",
       "align_content": null,
       "align_items": null,
       "align_self": null,
       "border": null,
       "bottom": null,
       "display": null,
       "flex": null,
       "flex_flow": null,
       "grid_area": null,
       "grid_auto_columns": null,
       "grid_auto_flow": null,
       "grid_auto_rows": null,
       "grid_column": null,
       "grid_gap": null,
       "grid_row": null,
       "grid_template_areas": null,
       "grid_template_columns": null,
       "grid_template_rows": null,
       "height": null,
       "justify_content": null,
       "justify_items": null,
       "left": null,
       "margin": null,
       "max_height": null,
       "max_width": null,
       "min_height": null,
       "min_width": null,
       "object_fit": null,
       "object_position": null,
       "order": null,
       "overflow": null,
       "overflow_x": null,
       "overflow_y": null,
       "padding": null,
       "right": null,
       "top": null,
       "visibility": null,
       "width": null
      }
     },
     "3866851dda0347d992b427965c23e7e6": {
      "model_module": "@jupyter-widgets/base",
      "model_module_version": "1.2.0",
      "model_name": "LayoutModel",
      "state": {
       "_model_module": "@jupyter-widgets/base",
       "_model_module_version": "1.2.0",
       "_model_name": "LayoutModel",
       "_view_count": null,
       "_view_module": "@jupyter-widgets/base",
       "_view_module_version": "1.2.0",
       "_view_name": "LayoutView",
       "align_content": null,
       "align_items": null,
       "align_self": null,
       "border": null,
       "bottom": null,
       "display": null,
       "flex": null,
       "flex_flow": null,
       "grid_area": null,
       "grid_auto_columns": null,
       "grid_auto_flow": null,
       "grid_auto_rows": null,
       "grid_column": null,
       "grid_gap": null,
       "grid_row": null,
       "grid_template_areas": null,
       "grid_template_columns": null,
       "grid_template_rows": null,
       "height": null,
       "justify_content": null,
       "justify_items": null,
       "left": null,
       "margin": null,
       "max_height": null,
       "max_width": null,
       "min_height": null,
       "min_width": null,
       "object_fit": null,
       "object_position": null,
       "order": null,
       "overflow": null,
       "overflow_x": null,
       "overflow_y": null,
       "padding": null,
       "right": null,
       "top": null,
       "visibility": null,
       "width": null
      }
     },
     "3a5c9d8c4932494197378dafcd08eac2": {
      "model_module": "@jupyter-widgets/controls",
      "model_module_version": "1.5.0",
      "model_name": "FloatProgressModel",
      "state": {
       "_dom_classes": [],
       "_model_module": "@jupyter-widgets/controls",
       "_model_module_version": "1.5.0",
       "_model_name": "FloatProgressModel",
       "_view_count": null,
       "_view_module": "@jupyter-widgets/controls",
       "_view_module_version": "1.5.0",
       "_view_name": "ProgressView",
       "bar_style": "",
       "description": "",
       "description_tooltip": null,
       "layout": "IPY_MODEL_3ddbe945813d4b54a56ed02c34be6141",
       "max": 25000,
       "min": 0,
       "orientation": "horizontal",
       "style": "IPY_MODEL_4a199ba1dbca4c1f8ba73f5950ba5aac",
       "value": 25000
      }
     },
     "3d2b9228eea1412a8dbe406555298867": {
      "model_module": "@jupyter-widgets/controls",
      "model_module_version": "1.5.0",
      "model_name": "ProgressStyleModel",
      "state": {
       "_model_module": "@jupyter-widgets/controls",
       "_model_module_version": "1.5.0",
       "_model_name": "ProgressStyleModel",
       "_view_count": null,
       "_view_module": "@jupyter-widgets/base",
       "_view_module_version": "1.2.0",
       "_view_name": "StyleView",
       "bar_color": null,
       "description_width": ""
      }
     },
     "3ddbe945813d4b54a56ed02c34be6141": {
      "model_module": "@jupyter-widgets/base",
      "model_module_version": "1.2.0",
      "model_name": "LayoutModel",
      "state": {
       "_model_module": "@jupyter-widgets/base",
       "_model_module_version": "1.2.0",
       "_model_name": "LayoutModel",
       "_view_count": null,
       "_view_module": "@jupyter-widgets/base",
       "_view_module_version": "1.2.0",
       "_view_name": "LayoutView",
       "align_content": null,
       "align_items": null,
       "align_self": null,
       "border": null,
       "bottom": null,
       "display": null,
       "flex": null,
       "flex_flow": null,
       "grid_area": null,
       "grid_auto_columns": null,
       "grid_auto_flow": null,
       "grid_auto_rows": null,
       "grid_column": null,
       "grid_gap": null,
       "grid_row": null,
       "grid_template_areas": null,
       "grid_template_columns": null,
       "grid_template_rows": null,
       "height": null,
       "justify_content": null,
       "justify_items": null,
       "left": null,
       "margin": null,
       "max_height": null,
       "max_width": null,
       "min_height": null,
       "min_width": null,
       "object_fit": null,
       "object_position": null,
       "order": null,
       "overflow": null,
       "overflow_x": null,
       "overflow_y": null,
       "padding": null,
       "right": null,
       "top": null,
       "visibility": null,
       "width": null
      }
     },
     "3fbc4eda4ec440ffb5767c168d5025b2": {
      "model_module": "@jupyter-widgets/controls",
      "model_module_version": "1.5.0",
      "model_name": "DescriptionStyleModel",
      "state": {
       "_model_module": "@jupyter-widgets/controls",
       "_model_module_version": "1.5.0",
       "_model_name": "DescriptionStyleModel",
       "_view_count": null,
       "_view_module": "@jupyter-widgets/base",
       "_view_module_version": "1.2.0",
       "_view_name": "StyleView",
       "description_width": ""
      }
     },
     "444d2443a6754201b2d8d2d2ad237605": {
      "model_module": "@jupyter-widgets/controls",
      "model_module_version": "1.5.0",
      "model_name": "HTMLModel",
      "state": {
       "_dom_classes": [],
       "_model_module": "@jupyter-widgets/controls",
       "_model_module_version": "1.5.0",
       "_model_name": "HTMLModel",
       "_view_count": null,
       "_view_module": "@jupyter-widgets/controls",
       "_view_module_version": "1.5.0",
       "_view_name": "HTMLView",
       "description": "",
       "description_tooltip": null,
       "layout": "IPY_MODEL_52495d17eb3343ef98ae2d9b6b8d5327",
       "placeholder": "​",
       "style": "IPY_MODEL_340089f4286f43f0ae4045ca5362d69e",
       "value": " 24978/25000 [00:07&lt;00:00, 3436.31 examples/s]"
      }
     },
     "453e0a17813f477c857e321279023c8d": {
      "model_module": "@jupyter-widgets/controls",
      "model_module_version": "1.5.0",
      "model_name": "DescriptionStyleModel",
      "state": {
       "_model_module": "@jupyter-widgets/controls",
       "_model_module_version": "1.5.0",
       "_model_name": "DescriptionStyleModel",
       "_view_count": null,
       "_view_module": "@jupyter-widgets/base",
       "_view_module_version": "1.2.0",
       "_view_name": "StyleView",
       "description_width": ""
      }
     },
     "4541e1feaff34009beead5420f1df459": {
      "model_module": "@jupyter-widgets/controls",
      "model_module_version": "1.5.0",
      "model_name": "HTMLModel",
      "state": {
       "_dom_classes": [],
       "_model_module": "@jupyter-widgets/controls",
       "_model_module_version": "1.5.0",
       "_model_name": "HTMLModel",
       "_view_count": null,
       "_view_module": "@jupyter-widgets/controls",
       "_view_module_version": "1.5.0",
       "_view_name": "HTMLView",
       "description": "",
       "description_tooltip": null,
       "layout": "IPY_MODEL_a06d3901c3d44a6d950d5b0a9b077641",
       "placeholder": "​",
       "style": "IPY_MODEL_3fbc4eda4ec440ffb5767c168d5025b2",
       "value": "Shuffling imdb_reviews-unsupervised.tfrecord...:  98%"
      }
     },
     "4a199ba1dbca4c1f8ba73f5950ba5aac": {
      "model_module": "@jupyter-widgets/controls",
      "model_module_version": "1.5.0",
      "model_name": "ProgressStyleModel",
      "state": {
       "_model_module": "@jupyter-widgets/controls",
       "_model_module_version": "1.5.0",
       "_model_name": "ProgressStyleModel",
       "_view_count": null,
       "_view_module": "@jupyter-widgets/base",
       "_view_module_version": "1.2.0",
       "_view_name": "StyleView",
       "bar_color": null,
       "description_width": ""
      }
     },
     "4bb5c720e6b9453d94d235be425a0aa6": {
      "model_module": "@jupyter-widgets/controls",
      "model_module_version": "1.5.0",
      "model_name": "FloatProgressModel",
      "state": {
       "_dom_classes": [],
       "_model_module": "@jupyter-widgets/controls",
       "_model_module_version": "1.5.0",
       "_model_name": "FloatProgressModel",
       "_view_count": null,
       "_view_module": "@jupyter-widgets/controls",
       "_view_module_version": "1.5.0",
       "_view_name": "ProgressView",
       "bar_style": "",
       "description": "",
       "description_tooltip": null,
       "layout": "IPY_MODEL_56268ddee12e499aab08c896325b05e5",
       "max": 3,
       "min": 0,
       "orientation": "horizontal",
       "style": "IPY_MODEL_3d2b9228eea1412a8dbe406555298867",
       "value": 3
      }
     },
     "50d316dae5524ffe9f6e164c4c9bf1cf": {
      "model_module": "@jupyter-widgets/base",
      "model_module_version": "1.2.0",
      "model_name": "LayoutModel",
      "state": {
       "_model_module": "@jupyter-widgets/base",
       "_model_module_version": "1.2.0",
       "_model_name": "LayoutModel",
       "_view_count": null,
       "_view_module": "@jupyter-widgets/base",
       "_view_module_version": "1.2.0",
       "_view_name": "LayoutView",
       "align_content": null,
       "align_items": null,
       "align_self": null,
       "border": null,
       "bottom": null,
       "display": null,
       "flex": null,
       "flex_flow": null,
       "grid_area": null,
       "grid_auto_columns": null,
       "grid_auto_flow": null,
       "grid_auto_rows": null,
       "grid_column": null,
       "grid_gap": null,
       "grid_row": null,
       "grid_template_areas": null,
       "grid_template_columns": null,
       "grid_template_rows": null,
       "height": null,
       "justify_content": null,
       "justify_items": null,
       "left": null,
       "margin": null,
       "max_height": null,
       "max_width": null,
       "min_height": null,
       "min_width": null,
       "object_fit": null,
       "object_position": null,
       "order": null,
       "overflow": null,
       "overflow_x": null,
       "overflow_y": null,
       "padding": null,
       "right": null,
       "top": null,
       "visibility": null,
       "width": null
      }
     },
     "50e07edb870c4547a32393a4a7941a7f": {
      "model_module": "@jupyter-widgets/controls",
      "model_module_version": "1.5.0",
      "model_name": "HBoxModel",
      "state": {
       "_dom_classes": [],
       "_model_module": "@jupyter-widgets/controls",
       "_model_module_version": "1.5.0",
       "_model_name": "HBoxModel",
       "_view_count": null,
       "_view_module": "@jupyter-widgets/controls",
       "_view_module_version": "1.5.0",
       "_view_name": "HBoxView",
       "box_style": "",
       "children": [
        "IPY_MODEL_fad0a03b6ede4eddb28167991c67a806",
        "IPY_MODEL_0267a428cf034f0584c77c4a6d3626bf",
        "IPY_MODEL_8146498ad1354b018ecc027c239815ca"
       ],
       "layout": "IPY_MODEL_d6f82bbe81744f58ade76409502d68cc"
      }
     },
     "52495d17eb3343ef98ae2d9b6b8d5327": {
      "model_module": "@jupyter-widgets/base",
      "model_module_version": "1.2.0",
      "model_name": "LayoutModel",
      "state": {
       "_model_module": "@jupyter-widgets/base",
       "_model_module_version": "1.2.0",
       "_model_name": "LayoutModel",
       "_view_count": null,
       "_view_module": "@jupyter-widgets/base",
       "_view_module_version": "1.2.0",
       "_view_name": "LayoutView",
       "align_content": null,
       "align_items": null,
       "align_self": null,
       "border": null,
       "bottom": null,
       "display": null,
       "flex": null,
       "flex_flow": null,
       "grid_area": null,
       "grid_auto_columns": null,
       "grid_auto_flow": null,
       "grid_auto_rows": null,
       "grid_column": null,
       "grid_gap": null,
       "grid_row": null,
       "grid_template_areas": null,
       "grid_template_columns": null,
       "grid_template_rows": null,
       "height": null,
       "justify_content": null,
       "justify_items": null,
       "left": null,
       "margin": null,
       "max_height": null,
       "max_width": null,
       "min_height": null,
       "min_width": null,
       "object_fit": null,
       "object_position": null,
       "order": null,
       "overflow": null,
       "overflow_x": null,
       "overflow_y": null,
       "padding": null,
       "right": null,
       "top": null,
       "visibility": null,
       "width": null
      }
     },
     "56268ddee12e499aab08c896325b05e5": {
      "model_module": "@jupyter-widgets/base",
      "model_module_version": "1.2.0",
      "model_name": "LayoutModel",
      "state": {
       "_model_module": "@jupyter-widgets/base",
       "_model_module_version": "1.2.0",
       "_model_name": "LayoutModel",
       "_view_count": null,
       "_view_module": "@jupyter-widgets/base",
       "_view_module_version": "1.2.0",
       "_view_name": "LayoutView",
       "align_content": null,
       "align_items": null,
       "align_self": null,
       "border": null,
       "bottom": null,
       "display": null,
       "flex": null,
       "flex_flow": null,
       "grid_area": null,
       "grid_auto_columns": null,
       "grid_auto_flow": null,
       "grid_auto_rows": null,
       "grid_column": null,
       "grid_gap": null,
       "grid_row": null,
       "grid_template_areas": null,
       "grid_template_columns": null,
       "grid_template_rows": null,
       "height": null,
       "justify_content": null,
       "justify_items": null,
       "left": null,
       "margin": null,
       "max_height": null,
       "max_width": null,
       "min_height": null,
       "min_width": null,
       "object_fit": null,
       "object_position": null,
       "order": null,
       "overflow": null,
       "overflow_x": null,
       "overflow_y": null,
       "padding": null,
       "right": null,
       "top": null,
       "visibility": null,
       "width": null
      }
     },
     "5c12bec09b494a8d84b1082a8ab28f93": {
      "model_module": "@jupyter-widgets/base",
      "model_module_version": "1.2.0",
      "model_name": "LayoutModel",
      "state": {
       "_model_module": "@jupyter-widgets/base",
       "_model_module_version": "1.2.0",
       "_model_name": "LayoutModel",
       "_view_count": null,
       "_view_module": "@jupyter-widgets/base",
       "_view_module_version": "1.2.0",
       "_view_name": "LayoutView",
       "align_content": null,
       "align_items": null,
       "align_self": null,
       "border": null,
       "bottom": null,
       "display": null,
       "flex": null,
       "flex_flow": null,
       "grid_area": null,
       "grid_auto_columns": null,
       "grid_auto_flow": null,
       "grid_auto_rows": null,
       "grid_column": null,
       "grid_gap": null,
       "grid_row": null,
       "grid_template_areas": null,
       "grid_template_columns": null,
       "grid_template_rows": null,
       "height": null,
       "justify_content": null,
       "justify_items": null,
       "left": null,
       "margin": null,
       "max_height": null,
       "max_width": null,
       "min_height": null,
       "min_width": null,
       "object_fit": null,
       "object_position": null,
       "order": null,
       "overflow": null,
       "overflow_x": null,
       "overflow_y": null,
       "padding": null,
       "right": null,
       "top": null,
       "visibility": null,
       "width": null
      }
     },
     "60ba8ff411464a89945b0cb9d04cefb8": {
      "model_module": "@jupyter-widgets/controls",
      "model_module_version": "1.5.0",
      "model_name": "HTMLModel",
      "state": {
       "_dom_classes": [],
       "_model_module": "@jupyter-widgets/controls",
       "_model_module_version": "1.5.0",
       "_model_name": "HTMLModel",
       "_view_count": null,
       "_view_module": "@jupyter-widgets/controls",
       "_view_module_version": "1.5.0",
       "_view_name": "HTMLView",
       "description": "",
       "description_tooltip": null,
       "layout": "IPY_MODEL_3866851dda0347d992b427965c23e7e6",
       "placeholder": "​",
       "style": "IPY_MODEL_6aaab584e6284198b901950e38bf69dc",
       "value": "Generating splits...: 100%"
      }
     },
     "60e4b60d01364bd2a2f8afdc80241dcc": {
      "model_module": "@jupyter-widgets/controls",
      "model_module_version": "1.5.0",
      "model_name": "HTMLModel",
      "state": {
       "_dom_classes": [],
       "_model_module": "@jupyter-widgets/controls",
       "_model_module_version": "1.5.0",
       "_model_name": "HTMLModel",
       "_view_count": null,
       "_view_module": "@jupyter-widgets/controls",
       "_view_module_version": "1.5.0",
       "_view_name": "HTMLView",
       "description": "",
       "description_tooltip": null,
       "layout": "IPY_MODEL_50d316dae5524ffe9f6e164c4c9bf1cf",
       "placeholder": "​",
       "style": "IPY_MODEL_84330cc0baa14b44b832d337ce455963",
       "value": " 49751/50000 [00:20&lt;00:00, 3202.41 examples/s]"
      }
     },
     "60fa5537fed141fe92b5a3d7c427fc15": {
      "model_module": "@jupyter-widgets/controls",
      "model_module_version": "1.5.0",
      "model_name": "DescriptionStyleModel",
      "state": {
       "_model_module": "@jupyter-widgets/controls",
       "_model_module_version": "1.5.0",
       "_model_name": "DescriptionStyleModel",
       "_view_count": null,
       "_view_module": "@jupyter-widgets/base",
       "_view_module_version": "1.2.0",
       "_view_name": "StyleView",
       "description_width": ""
      }
     },
     "644776911bfa4aeb9984c3393c556a9f": {
      "model_module": "@jupyter-widgets/base",
      "model_module_version": "1.2.0",
      "model_name": "LayoutModel",
      "state": {
       "_model_module": "@jupyter-widgets/base",
       "_model_module_version": "1.2.0",
       "_model_name": "LayoutModel",
       "_view_count": null,
       "_view_module": "@jupyter-widgets/base",
       "_view_module_version": "1.2.0",
       "_view_name": "LayoutView",
       "align_content": null,
       "align_items": null,
       "align_self": null,
       "border": null,
       "bottom": null,
       "display": null,
       "flex": null,
       "flex_flow": null,
       "grid_area": null,
       "grid_auto_columns": null,
       "grid_auto_flow": null,
       "grid_auto_rows": null,
       "grid_column": null,
       "grid_gap": null,
       "grid_row": null,
       "grid_template_areas": null,
       "grid_template_columns": null,
       "grid_template_rows": null,
       "height": null,
       "justify_content": null,
       "justify_items": null,
       "left": null,
       "margin": null,
       "max_height": null,
       "max_width": null,
       "min_height": null,
       "min_width": null,
       "object_fit": null,
       "object_position": null,
       "order": null,
       "overflow": null,
       "overflow_x": null,
       "overflow_y": null,
       "padding": null,
       "right": null,
       "top": null,
       "visibility": null,
       "width": null
      }
     },
     "6aaab584e6284198b901950e38bf69dc": {
      "model_module": "@jupyter-widgets/controls",
      "model_module_version": "1.5.0",
      "model_name": "DescriptionStyleModel",
      "state": {
       "_model_module": "@jupyter-widgets/controls",
       "_model_module_version": "1.5.0",
       "_model_name": "DescriptionStyleModel",
       "_view_count": null,
       "_view_module": "@jupyter-widgets/base",
       "_view_module_version": "1.2.0",
       "_view_name": "StyleView",
       "description_width": ""
      }
     },
     "6bddbb18ea78490183aff1cea3b3551a": {
      "model_module": "@jupyter-widgets/controls",
      "model_module_version": "1.5.0",
      "model_name": "DescriptionStyleModel",
      "state": {
       "_model_module": "@jupyter-widgets/controls",
       "_model_module_version": "1.5.0",
       "_model_name": "DescriptionStyleModel",
       "_view_count": null,
       "_view_module": "@jupyter-widgets/base",
       "_view_module_version": "1.2.0",
       "_view_name": "StyleView",
       "description_width": ""
      }
     },
     "6ec4bbed4503491b9d5284415bffbd96": {
      "model_module": "@jupyter-widgets/base",
      "model_module_version": "1.2.0",
      "model_name": "LayoutModel",
      "state": {
       "_model_module": "@jupyter-widgets/base",
       "_model_module_version": "1.2.0",
       "_model_name": "LayoutModel",
       "_view_count": null,
       "_view_module": "@jupyter-widgets/base",
       "_view_module_version": "1.2.0",
       "_view_name": "LayoutView",
       "align_content": null,
       "align_items": null,
       "align_self": null,
       "border": null,
       "bottom": null,
       "display": null,
       "flex": null,
       "flex_flow": null,
       "grid_area": null,
       "grid_auto_columns": null,
       "grid_auto_flow": null,
       "grid_auto_rows": null,
       "grid_column": null,
       "grid_gap": null,
       "grid_row": null,
       "grid_template_areas": null,
       "grid_template_columns": null,
       "grid_template_rows": null,
       "height": null,
       "justify_content": null,
       "justify_items": null,
       "left": null,
       "margin": null,
       "max_height": null,
       "max_width": null,
       "min_height": null,
       "min_width": null,
       "object_fit": null,
       "object_position": null,
       "order": null,
       "overflow": null,
       "overflow_x": null,
       "overflow_y": null,
       "padding": null,
       "right": null,
       "top": null,
       "visibility": null,
       "width": null
      }
     },
     "6f65c02446fb4503a4fde34b7dd6ada6": {
      "model_module": "@jupyter-widgets/base",
      "model_module_version": "1.2.0",
      "model_name": "LayoutModel",
      "state": {
       "_model_module": "@jupyter-widgets/base",
       "_model_module_version": "1.2.0",
       "_model_name": "LayoutModel",
       "_view_count": null,
       "_view_module": "@jupyter-widgets/base",
       "_view_module_version": "1.2.0",
       "_view_name": "LayoutView",
       "align_content": null,
       "align_items": null,
       "align_self": null,
       "border": null,
       "bottom": null,
       "display": null,
       "flex": null,
       "flex_flow": null,
       "grid_area": null,
       "grid_auto_columns": null,
       "grid_auto_flow": null,
       "grid_auto_rows": null,
       "grid_column": null,
       "grid_gap": null,
       "grid_row": null,
       "grid_template_areas": null,
       "grid_template_columns": null,
       "grid_template_rows": null,
       "height": null,
       "justify_content": null,
       "justify_items": null,
       "left": null,
       "margin": null,
       "max_height": null,
       "max_width": null,
       "min_height": null,
       "min_width": null,
       "object_fit": null,
       "object_position": null,
       "order": null,
       "overflow": null,
       "overflow_x": null,
       "overflow_y": null,
       "padding": null,
       "right": null,
       "top": null,
       "visibility": null,
       "width": "20px"
      }
     },
     "719d1d5eab3b42d69ca659a3865277d0": {
      "model_module": "@jupyter-widgets/controls",
      "model_module_version": "1.5.0",
      "model_name": "FloatProgressModel",
      "state": {
       "_dom_classes": [],
       "_model_module": "@jupyter-widgets/controls",
       "_model_module_version": "1.5.0",
       "_model_name": "FloatProgressModel",
       "_view_count": null,
       "_view_module": "@jupyter-widgets/controls",
       "_view_module_version": "1.5.0",
       "_view_name": "ProgressView",
       "bar_style": "",
       "description": "",
       "description_tooltip": null,
       "layout": "IPY_MODEL_efb4f75861e84dfc99d2939013f6cc93",
       "max": 25000,
       "min": 0,
       "orientation": "horizontal",
       "style": "IPY_MODEL_e16906ae42d34ea08d9fefbf8e63e9df",
       "value": 25000
      }
     },
     "7751318d80b14e7990e1cfea260db0d4": {
      "model_module": "@jupyter-widgets/base",
      "model_module_version": "1.2.0",
      "model_name": "LayoutModel",
      "state": {
       "_model_module": "@jupyter-widgets/base",
       "_model_module_version": "1.2.0",
       "_model_name": "LayoutModel",
       "_view_count": null,
       "_view_module": "@jupyter-widgets/base",
       "_view_module_version": "1.2.0",
       "_view_name": "LayoutView",
       "align_content": null,
       "align_items": null,
       "align_self": null,
       "border": null,
       "bottom": null,
       "display": null,
       "flex": null,
       "flex_flow": null,
       "grid_area": null,
       "grid_auto_columns": null,
       "grid_auto_flow": null,
       "grid_auto_rows": null,
       "grid_column": null,
       "grid_gap": null,
       "grid_row": null,
       "grid_template_areas": null,
       "grid_template_columns": null,
       "grid_template_rows": null,
       "height": null,
       "justify_content": null,
       "justify_items": null,
       "left": null,
       "margin": null,
       "max_height": null,
       "max_width": null,
       "min_height": null,
       "min_width": null,
       "object_fit": null,
       "object_position": null,
       "order": null,
       "overflow": null,
       "overflow_x": null,
       "overflow_y": null,
       "padding": null,
       "right": null,
       "top": null,
       "visibility": null,
       "width": null
      }
     },
     "7adba701562c4789922f878ed234058c": {
      "model_module": "@jupyter-widgets/controls",
      "model_module_version": "1.5.0",
      "model_name": "DescriptionStyleModel",
      "state": {
       "_model_module": "@jupyter-widgets/controls",
       "_model_module_version": "1.5.0",
       "_model_name": "DescriptionStyleModel",
       "_view_count": null,
       "_view_module": "@jupyter-widgets/base",
       "_view_module_version": "1.2.0",
       "_view_name": "StyleView",
       "description_width": ""
      }
     },
     "7c5c2a32d47a48959bc41454662662b1": {
      "model_module": "@jupyter-widgets/base",
      "model_module_version": "1.2.0",
      "model_name": "LayoutModel",
      "state": {
       "_model_module": "@jupyter-widgets/base",
       "_model_module_version": "1.2.0",
       "_model_name": "LayoutModel",
       "_view_count": null,
       "_view_module": "@jupyter-widgets/base",
       "_view_module_version": "1.2.0",
       "_view_name": "LayoutView",
       "align_content": null,
       "align_items": null,
       "align_self": null,
       "border": null,
       "bottom": null,
       "display": null,
       "flex": null,
       "flex_flow": null,
       "grid_area": null,
       "grid_auto_columns": null,
       "grid_auto_flow": null,
       "grid_auto_rows": null,
       "grid_column": null,
       "grid_gap": null,
       "grid_row": null,
       "grid_template_areas": null,
       "grid_template_columns": null,
       "grid_template_rows": null,
       "height": null,
       "justify_content": null,
       "justify_items": null,
       "left": null,
       "margin": null,
       "max_height": null,
       "max_width": null,
       "min_height": null,
       "min_width": null,
       "object_fit": null,
       "object_position": null,
       "order": null,
       "overflow": null,
       "overflow_x": null,
       "overflow_y": null,
       "padding": null,
       "right": null,
       "top": null,
       "visibility": null,
       "width": null
      }
     },
     "7ef07a14e2ef4f148601e5641282419d": {
      "model_module": "@jupyter-widgets/base",
      "model_module_version": "1.2.0",
      "model_name": "LayoutModel",
      "state": {
       "_model_module": "@jupyter-widgets/base",
       "_model_module_version": "1.2.0",
       "_model_name": "LayoutModel",
       "_view_count": null,
       "_view_module": "@jupyter-widgets/base",
       "_view_module_version": "1.2.0",
       "_view_name": "LayoutView",
       "align_content": null,
       "align_items": null,
       "align_self": null,
       "border": null,
       "bottom": null,
       "display": null,
       "flex": null,
       "flex_flow": null,
       "grid_area": null,
       "grid_auto_columns": null,
       "grid_auto_flow": null,
       "grid_auto_rows": null,
       "grid_column": null,
       "grid_gap": null,
       "grid_row": null,
       "grid_template_areas": null,
       "grid_template_columns": null,
       "grid_template_rows": null,
       "height": null,
       "justify_content": null,
       "justify_items": null,
       "left": null,
       "margin": null,
       "max_height": null,
       "max_width": null,
       "min_height": null,
       "min_width": null,
       "object_fit": null,
       "object_position": null,
       "order": null,
       "overflow": null,
       "overflow_x": null,
       "overflow_y": null,
       "padding": null,
       "right": null,
       "top": null,
       "visibility": null,
       "width": null
      }
     },
     "8073f042f3ee4e50a08a56e18511b7f3": {
      "model_module": "@jupyter-widgets/controls",
      "model_module_version": "1.5.0",
      "model_name": "FloatProgressModel",
      "state": {
       "_dom_classes": [],
       "_model_module": "@jupyter-widgets/controls",
       "_model_module_version": "1.5.0",
       "_model_name": "FloatProgressModel",
       "_view_count": null,
       "_view_module": "@jupyter-widgets/controls",
       "_view_module_version": "1.5.0",
       "_view_name": "ProgressView",
       "bar_style": "success",
       "description": "",
       "description_tooltip": null,
       "layout": "IPY_MODEL_6f65c02446fb4503a4fde34b7dd6ada6",
       "max": 1,
       "min": 0,
       "orientation": "horizontal",
       "style": "IPY_MODEL_00df715b64ed4935aa83d48035c7651b",
       "value": 1
      }
     },
     "8146498ad1354b018ecc027c239815ca": {
      "model_module": "@jupyter-widgets/controls",
      "model_module_version": "1.5.0",
      "model_name": "HTMLModel",
      "state": {
       "_dom_classes": [],
       "_model_module": "@jupyter-widgets/controls",
       "_model_module_version": "1.5.0",
       "_model_name": "HTMLModel",
       "_view_count": null,
       "_view_module": "@jupyter-widgets/controls",
       "_view_module_version": "1.5.0",
       "_view_name": "HTMLView",
       "description": "",
       "description_tooltip": null,
       "layout": "IPY_MODEL_b3e153612f58441ca2254878d56eb403",
       "placeholder": "​",
       "style": "IPY_MODEL_0f1bb8d689694944adbfde059d62763a",
       "value": " 9846/25000 [00:00&lt;00:00, 98443.90 examples/s]"
      }
     },
     "8326131237ee4f139c234d4b151257ab": {
      "model_module": "@jupyter-widgets/controls",
      "model_module_version": "1.5.0",
      "model_name": "HBoxModel",
      "state": {
       "_dom_classes": [],
       "_model_module": "@jupyter-widgets/controls",
       "_model_module_version": "1.5.0",
       "_model_name": "HBoxModel",
       "_view_count": null,
       "_view_module": "@jupyter-widgets/controls",
       "_view_module_version": "1.5.0",
       "_view_name": "HBoxView",
       "box_style": "",
       "children": [
        "IPY_MODEL_4541e1feaff34009beead5420f1df459",
        "IPY_MODEL_c4790fe2f37141d7b811cd6d2f5454eb",
        "IPY_MODEL_c14134d939e949c593675624d27f0d68"
       ],
       "layout": "IPY_MODEL_9aa8ea99c6ba4ed9a2246e43a5af4a37"
      }
     },
     "84330cc0baa14b44b832d337ce455963": {
      "model_module": "@jupyter-widgets/controls",
      "model_module_version": "1.5.0",
      "model_name": "DescriptionStyleModel",
      "state": {
       "_model_module": "@jupyter-widgets/controls",
       "_model_module_version": "1.5.0",
       "_model_name": "DescriptionStyleModel",
       "_view_count": null,
       "_view_module": "@jupyter-widgets/base",
       "_view_module_version": "1.2.0",
       "_view_name": "StyleView",
       "description_width": ""
      }
     },
     "85c4fe5a86554c87b2ba94f1a31f9113": {
      "model_module": "@jupyter-widgets/controls",
      "model_module_version": "1.5.0",
      "model_name": "HTMLModel",
      "state": {
       "_dom_classes": [],
       "_model_module": "@jupyter-widgets/controls",
       "_model_module_version": "1.5.0",
       "_model_name": "HTMLModel",
       "_view_count": null,
       "_view_module": "@jupyter-widgets/controls",
       "_view_module_version": "1.5.0",
       "_view_name": "HTMLView",
       "description": "",
       "description_tooltip": null,
       "layout": "IPY_MODEL_cd6603a42f274f768a14e43bb2791434",
       "placeholder": "​",
       "style": "IPY_MODEL_f6194e4d56ba4592be9e6bee177e2b5d",
       "value": "Generating train examples...:  99%"
      }
     },
     "9248e5cb64544088bfbdbdad96b2fe09": {
      "model_module": "@jupyter-widgets/controls",
      "model_module_version": "1.5.0",
      "model_name": "ProgressStyleModel",
      "state": {
       "_model_module": "@jupyter-widgets/controls",
       "_model_module_version": "1.5.0",
       "_model_name": "ProgressStyleModel",
       "_view_count": null,
       "_view_module": "@jupyter-widgets/base",
       "_view_module_version": "1.2.0",
       "_view_name": "StyleView",
       "bar_color": null,
       "description_width": ""
      }
     },
     "928b181b79464246b1f245ba3a1d7185": {
      "model_module": "@jupyter-widgets/base",
      "model_module_version": "1.2.0",
      "model_name": "LayoutModel",
      "state": {
       "_model_module": "@jupyter-widgets/base",
       "_model_module_version": "1.2.0",
       "_model_name": "LayoutModel",
       "_view_count": null,
       "_view_module": "@jupyter-widgets/base",
       "_view_module_version": "1.2.0",
       "_view_name": "LayoutView",
       "align_content": null,
       "align_items": null,
       "align_self": null,
       "border": null,
       "bottom": null,
       "display": null,
       "flex": null,
       "flex_flow": null,
       "grid_area": null,
       "grid_auto_columns": null,
       "grid_auto_flow": null,
       "grid_auto_rows": null,
       "grid_column": null,
       "grid_gap": null,
       "grid_row": null,
       "grid_template_areas": null,
       "grid_template_columns": null,
       "grid_template_rows": null,
       "height": null,
       "justify_content": null,
       "justify_items": null,
       "left": null,
       "margin": null,
       "max_height": null,
       "max_width": null,
       "min_height": null,
       "min_width": null,
       "object_fit": null,
       "object_position": null,
       "order": null,
       "overflow": null,
       "overflow_x": null,
       "overflow_y": null,
       "padding": null,
       "right": null,
       "top": null,
       "visibility": null,
       "width": "20px"
      }
     },
     "94402cb0de6442c1a0b9ccdd3e4e2e83": {
      "model_module": "@jupyter-widgets/base",
      "model_module_version": "1.2.0",
      "model_name": "LayoutModel",
      "state": {
       "_model_module": "@jupyter-widgets/base",
       "_model_module_version": "1.2.0",
       "_model_name": "LayoutModel",
       "_view_count": null,
       "_view_module": "@jupyter-widgets/base",
       "_view_module_version": "1.2.0",
       "_view_name": "LayoutView",
       "align_content": null,
       "align_items": null,
       "align_self": null,
       "border": null,
       "bottom": null,
       "display": null,
       "flex": null,
       "flex_flow": null,
       "grid_area": null,
       "grid_auto_columns": null,
       "grid_auto_flow": null,
       "grid_auto_rows": null,
       "grid_column": null,
       "grid_gap": null,
       "grid_row": null,
       "grid_template_areas": null,
       "grid_template_columns": null,
       "grid_template_rows": null,
       "height": null,
       "justify_content": null,
       "justify_items": null,
       "left": null,
       "margin": null,
       "max_height": null,
       "max_width": null,
       "min_height": null,
       "min_width": null,
       "object_fit": null,
       "object_position": null,
       "order": null,
       "overflow": null,
       "overflow_x": null,
       "overflow_y": null,
       "padding": null,
       "right": null,
       "top": null,
       "visibility": null,
       "width": null
      }
     },
     "99682b217f9f42bcb5ec3da30518db54": {
      "model_module": "@jupyter-widgets/base",
      "model_module_version": "1.2.0",
      "model_name": "LayoutModel",
      "state": {
       "_model_module": "@jupyter-widgets/base",
       "_model_module_version": "1.2.0",
       "_model_name": "LayoutModel",
       "_view_count": null,
       "_view_module": "@jupyter-widgets/base",
       "_view_module_version": "1.2.0",
       "_view_name": "LayoutView",
       "align_content": null,
       "align_items": null,
       "align_self": null,
       "border": null,
       "bottom": null,
       "display": null,
       "flex": null,
       "flex_flow": null,
       "grid_area": null,
       "grid_auto_columns": null,
       "grid_auto_flow": null,
       "grid_auto_rows": null,
       "grid_column": null,
       "grid_gap": null,
       "grid_row": null,
       "grid_template_areas": null,
       "grid_template_columns": null,
       "grid_template_rows": null,
       "height": null,
       "justify_content": null,
       "justify_items": null,
       "left": null,
       "margin": null,
       "max_height": null,
       "max_width": null,
       "min_height": null,
       "min_width": null,
       "object_fit": null,
       "object_position": null,
       "order": null,
       "overflow": null,
       "overflow_x": null,
       "overflow_y": null,
       "padding": null,
       "right": null,
       "top": null,
       "visibility": null,
       "width": null
      }
     },
     "9aa8ea99c6ba4ed9a2246e43a5af4a37": {
      "model_module": "@jupyter-widgets/base",
      "model_module_version": "1.2.0",
      "model_name": "LayoutModel",
      "state": {
       "_model_module": "@jupyter-widgets/base",
       "_model_module_version": "1.2.0",
       "_model_name": "LayoutModel",
       "_view_count": null,
       "_view_module": "@jupyter-widgets/base",
       "_view_module_version": "1.2.0",
       "_view_name": "LayoutView",
       "align_content": null,
       "align_items": null,
       "align_self": null,
       "border": null,
       "bottom": null,
       "display": null,
       "flex": null,
       "flex_flow": null,
       "grid_area": null,
       "grid_auto_columns": null,
       "grid_auto_flow": null,
       "grid_auto_rows": null,
       "grid_column": null,
       "grid_gap": null,
       "grid_row": null,
       "grid_template_areas": null,
       "grid_template_columns": null,
       "grid_template_rows": null,
       "height": null,
       "justify_content": null,
       "justify_items": null,
       "left": null,
       "margin": null,
       "max_height": null,
       "max_width": null,
       "min_height": null,
       "min_width": null,
       "object_fit": null,
       "object_position": null,
       "order": null,
       "overflow": null,
       "overflow_x": null,
       "overflow_y": null,
       "padding": null,
       "right": null,
       "top": null,
       "visibility": null,
       "width": null
      }
     },
     "9b45b0f6d0e04e1cb9200b490aeb8491": {
      "model_module": "@jupyter-widgets/base",
      "model_module_version": "1.2.0",
      "model_name": "LayoutModel",
      "state": {
       "_model_module": "@jupyter-widgets/base",
       "_model_module_version": "1.2.0",
       "_model_name": "LayoutModel",
       "_view_count": null,
       "_view_module": "@jupyter-widgets/base",
       "_view_module_version": "1.2.0",
       "_view_name": "LayoutView",
       "align_content": null,
       "align_items": null,
       "align_self": null,
       "border": null,
       "bottom": null,
       "display": null,
       "flex": null,
       "flex_flow": null,
       "grid_area": null,
       "grid_auto_columns": null,
       "grid_auto_flow": null,
       "grid_auto_rows": null,
       "grid_column": null,
       "grid_gap": null,
       "grid_row": null,
       "grid_template_areas": null,
       "grid_template_columns": null,
       "grid_template_rows": null,
       "height": null,
       "justify_content": null,
       "justify_items": null,
       "left": null,
       "margin": null,
       "max_height": null,
       "max_width": null,
       "min_height": null,
       "min_width": null,
       "object_fit": null,
       "object_position": null,
       "order": null,
       "overflow": null,
       "overflow_x": null,
       "overflow_y": null,
       "padding": null,
       "right": null,
       "top": null,
       "visibility": null,
       "width": null
      }
     },
     "a06d3901c3d44a6d950d5b0a9b077641": {
      "model_module": "@jupyter-widgets/base",
      "model_module_version": "1.2.0",
      "model_name": "LayoutModel",
      "state": {
       "_model_module": "@jupyter-widgets/base",
       "_model_module_version": "1.2.0",
       "_model_name": "LayoutModel",
       "_view_count": null,
       "_view_module": "@jupyter-widgets/base",
       "_view_module_version": "1.2.0",
       "_view_name": "LayoutView",
       "align_content": null,
       "align_items": null,
       "align_self": null,
       "border": null,
       "bottom": null,
       "display": null,
       "flex": null,
       "flex_flow": null,
       "grid_area": null,
       "grid_auto_columns": null,
       "grid_auto_flow": null,
       "grid_auto_rows": null,
       "grid_column": null,
       "grid_gap": null,
       "grid_row": null,
       "grid_template_areas": null,
       "grid_template_columns": null,
       "grid_template_rows": null,
       "height": null,
       "justify_content": null,
       "justify_items": null,
       "left": null,
       "margin": null,
       "max_height": null,
       "max_width": null,
       "min_height": null,
       "min_width": null,
       "object_fit": null,
       "object_position": null,
       "order": null,
       "overflow": null,
       "overflow_x": null,
       "overflow_y": null,
       "padding": null,
       "right": null,
       "top": null,
       "visibility": null,
       "width": null
      }
     },
     "aaf574cbe94c40eba5b9dfddbed5340c": {
      "model_module": "@jupyter-widgets/controls",
      "model_module_version": "1.5.0",
      "model_name": "DescriptionStyleModel",
      "state": {
       "_model_module": "@jupyter-widgets/controls",
       "_model_module_version": "1.5.0",
       "_model_name": "DescriptionStyleModel",
       "_view_count": null,
       "_view_module": "@jupyter-widgets/base",
       "_view_module_version": "1.2.0",
       "_view_name": "StyleView",
       "description_width": ""
      }
     },
     "b3e153612f58441ca2254878d56eb403": {
      "model_module": "@jupyter-widgets/base",
      "model_module_version": "1.2.0",
      "model_name": "LayoutModel",
      "state": {
       "_model_module": "@jupyter-widgets/base",
       "_model_module_version": "1.2.0",
       "_model_name": "LayoutModel",
       "_view_count": null,
       "_view_module": "@jupyter-widgets/base",
       "_view_module_version": "1.2.0",
       "_view_name": "LayoutView",
       "align_content": null,
       "align_items": null,
       "align_self": null,
       "border": null,
       "bottom": null,
       "display": null,
       "flex": null,
       "flex_flow": null,
       "grid_area": null,
       "grid_auto_columns": null,
       "grid_auto_flow": null,
       "grid_auto_rows": null,
       "grid_column": null,
       "grid_gap": null,
       "grid_row": null,
       "grid_template_areas": null,
       "grid_template_columns": null,
       "grid_template_rows": null,
       "height": null,
       "justify_content": null,
       "justify_items": null,
       "left": null,
       "margin": null,
       "max_height": null,
       "max_width": null,
       "min_height": null,
       "min_width": null,
       "object_fit": null,
       "object_position": null,
       "order": null,
       "overflow": null,
       "overflow_x": null,
       "overflow_y": null,
       "padding": null,
       "right": null,
       "top": null,
       "visibility": null,
       "width": null
      }
     },
     "b9fd991f3d81402db1862143c7f1ad2f": {
      "model_module": "@jupyter-widgets/base",
      "model_module_version": "1.2.0",
      "model_name": "LayoutModel",
      "state": {
       "_model_module": "@jupyter-widgets/base",
       "_model_module_version": "1.2.0",
       "_model_name": "LayoutModel",
       "_view_count": null,
       "_view_module": "@jupyter-widgets/base",
       "_view_module_version": "1.2.0",
       "_view_name": "LayoutView",
       "align_content": null,
       "align_items": null,
       "align_self": null,
       "border": null,
       "bottom": null,
       "display": null,
       "flex": null,
       "flex_flow": null,
       "grid_area": null,
       "grid_auto_columns": null,
       "grid_auto_flow": null,
       "grid_auto_rows": null,
       "grid_column": null,
       "grid_gap": null,
       "grid_row": null,
       "grid_template_areas": null,
       "grid_template_columns": null,
       "grid_template_rows": null,
       "height": null,
       "justify_content": null,
       "justify_items": null,
       "left": null,
       "margin": null,
       "max_height": null,
       "max_width": null,
       "min_height": null,
       "min_width": null,
       "object_fit": null,
       "object_position": null,
       "order": null,
       "overflow": null,
       "overflow_x": null,
       "overflow_y": null,
       "padding": null,
       "right": null,
       "top": null,
       "visibility": null,
       "width": null
      }
     },
     "bb53598283b94fb291f1e6775d8c9ed3": {
      "model_module": "@jupyter-widgets/controls",
      "model_module_version": "1.5.0",
      "model_name": "DescriptionStyleModel",
      "state": {
       "_model_module": "@jupyter-widgets/controls",
       "_model_module_version": "1.5.0",
       "_model_name": "DescriptionStyleModel",
       "_view_count": null,
       "_view_module": "@jupyter-widgets/base",
       "_view_module_version": "1.2.0",
       "_view_name": "StyleView",
       "description_width": ""
      }
     },
     "bca57b376b324049b0ce4ace374b5437": {
      "model_module": "@jupyter-widgets/controls",
      "model_module_version": "1.5.0",
      "model_name": "HBoxModel",
      "state": {
       "_dom_classes": [],
       "_model_module": "@jupyter-widgets/controls",
       "_model_module_version": "1.5.0",
       "_model_name": "HBoxModel",
       "_view_count": null,
       "_view_module": "@jupyter-widgets/controls",
       "_view_module_version": "1.5.0",
       "_view_name": "HBoxView",
       "box_style": "",
       "children": [
        "IPY_MODEL_16004e3cb6f34010aae9e76d688b38f9",
        "IPY_MODEL_3a5c9d8c4932494197378dafcd08eac2",
        "IPY_MODEL_1cb4e43ef92c442d8f12b7c285c986ae"
       ],
       "layout": "IPY_MODEL_6ec4bbed4503491b9d5284415bffbd96"
      }
     },
     "bddbce07375b4b65adfcff92b6cf5daf": {
      "model_module": "@jupyter-widgets/controls",
      "model_module_version": "1.5.0",
      "model_name": "HBoxModel",
      "state": {
       "_dom_classes": [],
       "_model_module": "@jupyter-widgets/controls",
       "_model_module_version": "1.5.0",
       "_model_name": "HBoxModel",
       "_view_count": null,
       "_view_module": "@jupyter-widgets/controls",
       "_view_module_version": "1.5.0",
       "_view_name": "HBoxView",
       "box_style": "",
       "children": [
        "IPY_MODEL_cf1083f37c4148a49b9f14e5f447962d",
        "IPY_MODEL_24eaefd043df4772b471eabcf10352aa",
        "IPY_MODEL_60e4b60d01364bd2a2f8afdc80241dcc"
       ],
       "layout": "IPY_MODEL_7751318d80b14e7990e1cfea260db0d4"
      }
     },
     "bef8adeeeb9e44f0b1984082f51ec6bc": {
      "model_module": "@jupyter-widgets/base",
      "model_module_version": "1.2.0",
      "model_name": "LayoutModel",
      "state": {
       "_model_module": "@jupyter-widgets/base",
       "_model_module_version": "1.2.0",
       "_model_name": "LayoutModel",
       "_view_count": null,
       "_view_module": "@jupyter-widgets/base",
       "_view_module_version": "1.2.0",
       "_view_name": "LayoutView",
       "align_content": null,
       "align_items": null,
       "align_self": null,
       "border": null,
       "bottom": null,
       "display": null,
       "flex": null,
       "flex_flow": null,
       "grid_area": null,
       "grid_auto_columns": null,
       "grid_auto_flow": null,
       "grid_auto_rows": null,
       "grid_column": null,
       "grid_gap": null,
       "grid_row": null,
       "grid_template_areas": null,
       "grid_template_columns": null,
       "grid_template_rows": null,
       "height": null,
       "justify_content": null,
       "justify_items": null,
       "left": null,
       "margin": null,
       "max_height": null,
       "max_width": null,
       "min_height": null,
       "min_width": null,
       "object_fit": null,
       "object_position": null,
       "order": null,
       "overflow": null,
       "overflow_x": null,
       "overflow_y": null,
       "padding": null,
       "right": null,
       "top": null,
       "visibility": null,
       "width": null
      }
     },
     "c14134d939e949c593675624d27f0d68": {
      "model_module": "@jupyter-widgets/controls",
      "model_module_version": "1.5.0",
      "model_name": "HTMLModel",
      "state": {
       "_dom_classes": [],
       "_model_module": "@jupyter-widgets/controls",
       "_model_module_version": "1.5.0",
       "_model_name": "HTMLModel",
       "_view_count": null,
       "_view_module": "@jupyter-widgets/controls",
       "_view_module_version": "1.5.0",
       "_view_name": "HTMLView",
       "description": "",
       "description_tooltip": null,
       "layout": "IPY_MODEL_34572f87141c44519951422d6052e48e",
       "placeholder": "​",
       "style": "IPY_MODEL_60fa5537fed141fe92b5a3d7c427fc15",
       "value": " 49112/50000 [00:00&lt;00:00, 183210.80 examples/s]"
      }
     },
     "c14a84742d114fc4907143ef7130b7f8": {
      "model_module": "@jupyter-widgets/controls",
      "model_module_version": "1.5.0",
      "model_name": "HTMLModel",
      "state": {
       "_dom_classes": [],
       "_model_module": "@jupyter-widgets/controls",
       "_model_module_version": "1.5.0",
       "_model_name": "HTMLModel",
       "_view_count": null,
       "_view_module": "@jupyter-widgets/controls",
       "_view_module_version": "1.5.0",
       "_view_name": "HTMLView",
       "description": "",
       "description_tooltip": null,
       "layout": "IPY_MODEL_fb8ed67f1150400f8ae60e696b373849",
       "placeholder": "​",
       "style": "IPY_MODEL_f75ae3dead4d4515b481dbec85567212",
       "value": "Dl Size...: 100%"
      }
     },
     "c4790fe2f37141d7b811cd6d2f5454eb": {
      "model_module": "@jupyter-widgets/controls",
      "model_module_version": "1.5.0",
      "model_name": "FloatProgressModel",
      "state": {
       "_dom_classes": [],
       "_model_module": "@jupyter-widgets/controls",
       "_model_module_version": "1.5.0",
       "_model_name": "FloatProgressModel",
       "_view_count": null,
       "_view_module": "@jupyter-widgets/controls",
       "_view_module_version": "1.5.0",
       "_view_name": "ProgressView",
       "bar_style": "",
       "description": "",
       "description_tooltip": null,
       "layout": "IPY_MODEL_0d6207620774478d93e5482b22931613",
       "max": 50000,
       "min": 0,
       "orientation": "horizontal",
       "style": "IPY_MODEL_9248e5cb64544088bfbdbdad96b2fe09",
       "value": 50000
      }
     },
     "c4bb99890d3b44ce96d2d876e9ab98b0": {
      "model_module": "@jupyter-widgets/controls",
      "model_module_version": "1.5.0",
      "model_name": "DescriptionStyleModel",
      "state": {
       "_model_module": "@jupyter-widgets/controls",
       "_model_module_version": "1.5.0",
       "_model_name": "DescriptionStyleModel",
       "_view_count": null,
       "_view_module": "@jupyter-widgets/base",
       "_view_module_version": "1.2.0",
       "_view_name": "StyleView",
       "description_width": ""
      }
     },
     "c8ceffe0f6f74a9ea95199de137732b3": {
      "model_module": "@jupyter-widgets/controls",
      "model_module_version": "1.5.0",
      "model_name": "ProgressStyleModel",
      "state": {
       "_model_module": "@jupyter-widgets/controls",
       "_model_module_version": "1.5.0",
       "_model_name": "ProgressStyleModel",
       "_view_count": null,
       "_view_module": "@jupyter-widgets/base",
       "_view_module_version": "1.2.0",
       "_view_name": "StyleView",
       "bar_color": null,
       "description_width": ""
      }
     },
     "cd6603a42f274f768a14e43bb2791434": {
      "model_module": "@jupyter-widgets/base",
      "model_module_version": "1.2.0",
      "model_name": "LayoutModel",
      "state": {
       "_model_module": "@jupyter-widgets/base",
       "_model_module_version": "1.2.0",
       "_model_name": "LayoutModel",
       "_view_count": null,
       "_view_module": "@jupyter-widgets/base",
       "_view_module_version": "1.2.0",
       "_view_name": "LayoutView",
       "align_content": null,
       "align_items": null,
       "align_self": null,
       "border": null,
       "bottom": null,
       "display": null,
       "flex": null,
       "flex_flow": null,
       "grid_area": null,
       "grid_auto_columns": null,
       "grid_auto_flow": null,
       "grid_auto_rows": null,
       "grid_column": null,
       "grid_gap": null,
       "grid_row": null,
       "grid_template_areas": null,
       "grid_template_columns": null,
       "grid_template_rows": null,
       "height": null,
       "justify_content": null,
       "justify_items": null,
       "left": null,
       "margin": null,
       "max_height": null,
       "max_width": null,
       "min_height": null,
       "min_width": null,
       "object_fit": null,
       "object_position": null,
       "order": null,
       "overflow": null,
       "overflow_x": null,
       "overflow_y": null,
       "padding": null,
       "right": null,
       "top": null,
       "visibility": null,
       "width": null
      }
     },
     "ce82b21420734ee1b0c6fed715a3e1a7": {
      "model_module": "@jupyter-widgets/controls",
      "model_module_version": "1.5.0",
      "model_name": "HTMLModel",
      "state": {
       "_dom_classes": [],
       "_model_module": "@jupyter-widgets/controls",
       "_model_module_version": "1.5.0",
       "_model_name": "HTMLModel",
       "_view_count": null,
       "_view_module": "@jupyter-widgets/controls",
       "_view_module_version": "1.5.0",
       "_view_name": "HTMLView",
       "description": "",
       "description_tooltip": null,
       "layout": "IPY_MODEL_1c86ee183f82468d8d32d277162e3545",
       "placeholder": "​",
       "style": "IPY_MODEL_e057c4ded355499b81c7cc76d38e18e9",
       "value": "Dl Completed...: 100%"
      }
     },
     "cf1083f37c4148a49b9f14e5f447962d": {
      "model_module": "@jupyter-widgets/controls",
      "model_module_version": "1.5.0",
      "model_name": "HTMLModel",
      "state": {
       "_dom_classes": [],
       "_model_module": "@jupyter-widgets/controls",
       "_model_module_version": "1.5.0",
       "_model_name": "HTMLModel",
       "_view_count": null,
       "_view_module": "@jupyter-widgets/controls",
       "_view_module_version": "1.5.0",
       "_view_name": "HTMLView",
       "description": "",
       "description_tooltip": null,
       "layout": "IPY_MODEL_bef8adeeeb9e44f0b1984082f51ec6bc",
       "placeholder": "​",
       "style": "IPY_MODEL_453e0a17813f477c857e321279023c8d",
       "value": "Generating unsupervised examples...: 100%"
      }
     },
     "d47274b94ffa4c2fb8d9c342b6d109e3": {
      "model_module": "@jupyter-widgets/controls",
      "model_module_version": "1.5.0",
      "model_name": "HBoxModel",
      "state": {
       "_dom_classes": [],
       "_model_module": "@jupyter-widgets/controls",
       "_model_module_version": "1.5.0",
       "_model_name": "HBoxModel",
       "_view_count": null,
       "_view_module": "@jupyter-widgets/controls",
       "_view_module_version": "1.5.0",
       "_view_name": "HBoxView",
       "box_style": "",
       "children": [
        "IPY_MODEL_e5f1fd3f5bdc49f9bc1990e815494250",
        "IPY_MODEL_719d1d5eab3b42d69ca659a3865277d0",
        "IPY_MODEL_444d2443a6754201b2d8d2d2ad237605"
       ],
       "layout": "IPY_MODEL_b9fd991f3d81402db1862143c7f1ad2f"
      }
     },
     "d6f82bbe81744f58ade76409502d68cc": {
      "model_module": "@jupyter-widgets/base",
      "model_module_version": "1.2.0",
      "model_name": "LayoutModel",
      "state": {
       "_model_module": "@jupyter-widgets/base",
       "_model_module_version": "1.2.0",
       "_model_name": "LayoutModel",
       "_view_count": null,
       "_view_module": "@jupyter-widgets/base",
       "_view_module_version": "1.2.0",
       "_view_name": "LayoutView",
       "align_content": null,
       "align_items": null,
       "align_self": null,
       "border": null,
       "bottom": null,
       "display": null,
       "flex": null,
       "flex_flow": null,
       "grid_area": null,
       "grid_auto_columns": null,
       "grid_auto_flow": null,
       "grid_auto_rows": null,
       "grid_column": null,
       "grid_gap": null,
       "grid_row": null,
       "grid_template_areas": null,
       "grid_template_columns": null,
       "grid_template_rows": null,
       "height": null,
       "justify_content": null,
       "justify_items": null,
       "left": null,
       "margin": null,
       "max_height": null,
       "max_width": null,
       "min_height": null,
       "min_width": null,
       "object_fit": null,
       "object_position": null,
       "order": null,
       "overflow": null,
       "overflow_x": null,
       "overflow_y": null,
       "padding": null,
       "right": null,
       "top": null,
       "visibility": null,
       "width": null
      }
     },
     "dde79304c7984ca1803b6fdca73be7de": {
      "model_module": "@jupyter-widgets/controls",
      "model_module_version": "1.5.0",
      "model_name": "DescriptionStyleModel",
      "state": {
       "_model_module": "@jupyter-widgets/controls",
       "_model_module_version": "1.5.0",
       "_model_name": "DescriptionStyleModel",
       "_view_count": null,
       "_view_module": "@jupyter-widgets/base",
       "_view_module_version": "1.2.0",
       "_view_name": "StyleView",
       "description_width": ""
      }
     },
     "e057c4ded355499b81c7cc76d38e18e9": {
      "model_module": "@jupyter-widgets/controls",
      "model_module_version": "1.5.0",
      "model_name": "DescriptionStyleModel",
      "state": {
       "_model_module": "@jupyter-widgets/controls",
       "_model_module_version": "1.5.0",
       "_model_name": "DescriptionStyleModel",
       "_view_count": null,
       "_view_module": "@jupyter-widgets/base",
       "_view_module_version": "1.2.0",
       "_view_name": "StyleView",
       "description_width": ""
      }
     },
     "e09f4553952f4349b822cb14fcec4daf": {
      "model_module": "@jupyter-widgets/base",
      "model_module_version": "1.2.0",
      "model_name": "LayoutModel",
      "state": {
       "_model_module": "@jupyter-widgets/base",
       "_model_module_version": "1.2.0",
       "_model_name": "LayoutModel",
       "_view_count": null,
       "_view_module": "@jupyter-widgets/base",
       "_view_module_version": "1.2.0",
       "_view_name": "LayoutView",
       "align_content": null,
       "align_items": null,
       "align_self": null,
       "border": null,
       "bottom": null,
       "display": null,
       "flex": null,
       "flex_flow": null,
       "grid_area": null,
       "grid_auto_columns": null,
       "grid_auto_flow": null,
       "grid_auto_rows": null,
       "grid_column": null,
       "grid_gap": null,
       "grid_row": null,
       "grid_template_areas": null,
       "grid_template_columns": null,
       "grid_template_rows": null,
       "height": null,
       "justify_content": null,
       "justify_items": null,
       "left": null,
       "margin": null,
       "max_height": null,
       "max_width": null,
       "min_height": null,
       "min_width": null,
       "object_fit": null,
       "object_position": null,
       "order": null,
       "overflow": null,
       "overflow_x": null,
       "overflow_y": null,
       "padding": null,
       "right": null,
       "top": null,
       "visibility": null,
       "width": null
      }
     },
     "e16906ae42d34ea08d9fefbf8e63e9df": {
      "model_module": "@jupyter-widgets/controls",
      "model_module_version": "1.5.0",
      "model_name": "ProgressStyleModel",
      "state": {
       "_model_module": "@jupyter-widgets/controls",
       "_model_module_version": "1.5.0",
       "_model_name": "ProgressStyleModel",
       "_view_count": null,
       "_view_module": "@jupyter-widgets/base",
       "_view_module_version": "1.2.0",
       "_view_name": "StyleView",
       "bar_color": null,
       "description_width": ""
      }
     },
     "e38d86d04689463b895d4baf6c4a38d6": {
      "model_module": "@jupyter-widgets/controls",
      "model_module_version": "1.5.0",
      "model_name": "HTMLModel",
      "state": {
       "_dom_classes": [],
       "_model_module": "@jupyter-widgets/controls",
       "_model_module_version": "1.5.0",
       "_model_name": "HTMLModel",
       "_view_count": null,
       "_view_module": "@jupyter-widgets/controls",
       "_view_module_version": "1.5.0",
       "_view_name": "HTMLView",
       "description": "",
       "description_tooltip": null,
       "layout": "IPY_MODEL_7ef07a14e2ef4f148601e5641282419d",
       "placeholder": "​",
       "style": "IPY_MODEL_bb53598283b94fb291f1e6775d8c9ed3",
       "value": " 1/1 [00:08&lt;00:00,  8.73s/ url]"
      }
     },
     "e3e1bed66abc4e5b90fdb73a83332419": {
      "model_module": "@jupyter-widgets/controls",
      "model_module_version": "1.5.0",
      "model_name": "HTMLModel",
      "state": {
       "_dom_classes": [],
       "_model_module": "@jupyter-widgets/controls",
       "_model_module_version": "1.5.0",
       "_model_name": "HTMLModel",
       "_view_count": null,
       "_view_module": "@jupyter-widgets/controls",
       "_view_module_version": "1.5.0",
       "_view_name": "HTMLView",
       "description": "",
       "description_tooltip": null,
       "layout": "IPY_MODEL_380fca8c09e3408aa4f3ccfe5c2fac2c",
       "placeholder": "​",
       "style": "IPY_MODEL_dde79304c7984ca1803b6fdca73be7de",
       "value": " 24663/25000 [00:10&lt;00:00, 3541.82 examples/s]"
      }
     },
     "e5f1fd3f5bdc49f9bc1990e815494250": {
      "model_module": "@jupyter-widgets/controls",
      "model_module_version": "1.5.0",
      "model_name": "HTMLModel",
      "state": {
       "_dom_classes": [],
       "_model_module": "@jupyter-widgets/controls",
       "_model_module_version": "1.5.0",
       "_model_name": "HTMLModel",
       "_view_count": null,
       "_view_module": "@jupyter-widgets/controls",
       "_view_module_version": "1.5.0",
       "_view_name": "HTMLView",
       "description": "",
       "description_tooltip": null,
       "layout": "IPY_MODEL_7c5c2a32d47a48959bc41454662662b1",
       "placeholder": "​",
       "style": "IPY_MODEL_6bddbb18ea78490183aff1cea3b3551a",
       "value": "Generating test examples...: 100%"
      }
     },
     "e7965f56c6564404a605e17ff643d964": {
      "model_module": "@jupyter-widgets/base",
      "model_module_version": "1.2.0",
      "model_name": "LayoutModel",
      "state": {
       "_model_module": "@jupyter-widgets/base",
       "_model_module_version": "1.2.0",
       "_model_name": "LayoutModel",
       "_view_count": null,
       "_view_module": "@jupyter-widgets/base",
       "_view_module_version": "1.2.0",
       "_view_name": "LayoutView",
       "align_content": null,
       "align_items": null,
       "align_self": null,
       "border": null,
       "bottom": null,
       "display": null,
       "flex": null,
       "flex_flow": null,
       "grid_area": null,
       "grid_auto_columns": null,
       "grid_auto_flow": null,
       "grid_auto_rows": null,
       "grid_column": null,
       "grid_gap": null,
       "grid_row": null,
       "grid_template_areas": null,
       "grid_template_columns": null,
       "grid_template_rows": null,
       "height": null,
       "justify_content": null,
       "justify_items": null,
       "left": null,
       "margin": null,
       "max_height": null,
       "max_width": null,
       "min_height": null,
       "min_width": null,
       "object_fit": null,
       "object_position": null,
       "order": null,
       "overflow": null,
       "overflow_x": null,
       "overflow_y": null,
       "padding": null,
       "right": null,
       "top": null,
       "visibility": null,
       "width": null
      }
     },
     "ef738525032c4264abb891693b866f17": {
      "model_module": "@jupyter-widgets/controls",
      "model_module_version": "1.5.0",
      "model_name": "HTMLModel",
      "state": {
       "_dom_classes": [],
       "_model_module": "@jupyter-widgets/controls",
       "_model_module_version": "1.5.0",
       "_model_name": "HTMLModel",
       "_view_count": null,
       "_view_module": "@jupyter-widgets/controls",
       "_view_module_version": "1.5.0",
       "_view_name": "HTMLView",
       "description": "",
       "description_tooltip": null,
       "layout": "IPY_MODEL_94402cb0de6442c1a0b9ccdd3e4e2e83",
       "placeholder": "​",
       "style": "IPY_MODEL_211e3d9dcaa64978b4e8affec17d1276",
       "value": " 3/3 [00:51&lt;00:00, 17.72s/ splits]"
      }
     },
     "efb4f75861e84dfc99d2939013f6cc93": {
      "model_module": "@jupyter-widgets/base",
      "model_module_version": "1.2.0",
      "model_name": "LayoutModel",
      "state": {
       "_model_module": "@jupyter-widgets/base",
       "_model_module_version": "1.2.0",
       "_model_name": "LayoutModel",
       "_view_count": null,
       "_view_module": "@jupyter-widgets/base",
       "_view_module_version": "1.2.0",
       "_view_name": "LayoutView",
       "align_content": null,
       "align_items": null,
       "align_self": null,
       "border": null,
       "bottom": null,
       "display": null,
       "flex": null,
       "flex_flow": null,
       "grid_area": null,
       "grid_auto_columns": null,
       "grid_auto_flow": null,
       "grid_auto_rows": null,
       "grid_column": null,
       "grid_gap": null,
       "grid_row": null,
       "grid_template_areas": null,
       "grid_template_columns": null,
       "grid_template_rows": null,
       "height": null,
       "justify_content": null,
       "justify_items": null,
       "left": null,
       "margin": null,
       "max_height": null,
       "max_width": null,
       "min_height": null,
       "min_width": null,
       "object_fit": null,
       "object_position": null,
       "order": null,
       "overflow": null,
       "overflow_x": null,
       "overflow_y": null,
       "padding": null,
       "right": null,
       "top": null,
       "visibility": null,
       "width": null
      }
     },
     "f19bc21b70574113bdf3b9fca35a59ac": {
      "model_module": "@jupyter-widgets/controls",
      "model_module_version": "1.5.0",
      "model_name": "ProgressStyleModel",
      "state": {
       "_model_module": "@jupyter-widgets/controls",
       "_model_module_version": "1.5.0",
       "_model_name": "ProgressStyleModel",
       "_view_count": null,
       "_view_module": "@jupyter-widgets/base",
       "_view_module_version": "1.2.0",
       "_view_name": "StyleView",
       "bar_color": null,
       "description_width": ""
      }
     },
     "f6194e4d56ba4592be9e6bee177e2b5d": {
      "model_module": "@jupyter-widgets/controls",
      "model_module_version": "1.5.0",
      "model_name": "DescriptionStyleModel",
      "state": {
       "_model_module": "@jupyter-widgets/controls",
       "_model_module_version": "1.5.0",
       "_model_name": "DescriptionStyleModel",
       "_view_count": null,
       "_view_module": "@jupyter-widgets/base",
       "_view_module_version": "1.2.0",
       "_view_name": "StyleView",
       "description_width": ""
      }
     },
     "f75ae3dead4d4515b481dbec85567212": {
      "model_module": "@jupyter-widgets/controls",
      "model_module_version": "1.5.0",
      "model_name": "DescriptionStyleModel",
      "state": {
       "_model_module": "@jupyter-widgets/controls",
       "_model_module_version": "1.5.0",
       "_model_name": "DescriptionStyleModel",
       "_view_count": null,
       "_view_module": "@jupyter-widgets/base",
       "_view_module_version": "1.2.0",
       "_view_name": "StyleView",
       "description_width": ""
      }
     },
     "f90fad39957a4578b3dfbaf7873e7974": {
      "model_module": "@jupyter-widgets/base",
      "model_module_version": "1.2.0",
      "model_name": "LayoutModel",
      "state": {
       "_model_module": "@jupyter-widgets/base",
       "_model_module_version": "1.2.0",
       "_model_name": "LayoutModel",
       "_view_count": null,
       "_view_module": "@jupyter-widgets/base",
       "_view_module_version": "1.2.0",
       "_view_name": "LayoutView",
       "align_content": null,
       "align_items": null,
       "align_self": null,
       "border": null,
       "bottom": null,
       "display": null,
       "flex": null,
       "flex_flow": null,
       "grid_area": null,
       "grid_auto_columns": null,
       "grid_auto_flow": null,
       "grid_auto_rows": null,
       "grid_column": null,
       "grid_gap": null,
       "grid_row": null,
       "grid_template_areas": null,
       "grid_template_columns": null,
       "grid_template_rows": null,
       "height": null,
       "justify_content": null,
       "justify_items": null,
       "left": null,
       "margin": null,
       "max_height": null,
       "max_width": null,
       "min_height": null,
       "min_width": null,
       "object_fit": null,
       "object_position": null,
       "order": null,
       "overflow": null,
       "overflow_x": null,
       "overflow_y": null,
       "padding": null,
       "right": null,
       "top": null,
       "visibility": null,
       "width": null
      }
     },
     "fad0a03b6ede4eddb28167991c67a806": {
      "model_module": "@jupyter-widgets/controls",
      "model_module_version": "1.5.0",
      "model_name": "HTMLModel",
      "state": {
       "_dom_classes": [],
       "_model_module": "@jupyter-widgets/controls",
       "_model_module_version": "1.5.0",
       "_model_name": "HTMLModel",
       "_view_count": null,
       "_view_module": "@jupyter-widgets/controls",
       "_view_module_version": "1.5.0",
       "_view_name": "HTMLView",
       "description": "",
       "description_tooltip": null,
       "layout": "IPY_MODEL_1cf4f88e8c004d618aa2076dc2fb9229",
       "placeholder": "​",
       "style": "IPY_MODEL_7adba701562c4789922f878ed234058c",
       "value": "Shuffling imdb_reviews-test.tfrecord...:  39%"
      }
     },
     "fb5ed8f70e2e4a33bef4c1a1fb886048": {
      "model_module": "@jupyter-widgets/controls",
      "model_module_version": "1.5.0",
      "model_name": "HBoxModel",
      "state": {
       "_dom_classes": [],
       "_model_module": "@jupyter-widgets/controls",
       "_model_module_version": "1.5.0",
       "_model_name": "HBoxModel",
       "_view_count": null,
       "_view_module": "@jupyter-widgets/controls",
       "_view_module_version": "1.5.0",
       "_view_name": "HBoxView",
       "box_style": "",
       "children": [
        "IPY_MODEL_c14a84742d114fc4907143ef7130b7f8",
        "IPY_MODEL_30d9e484a8f04e2682cae3a496fc86e6",
        "IPY_MODEL_1c88a36694c74c9ea3a0e221e60517d4"
       ],
       "layout": "IPY_MODEL_644776911bfa4aeb9984c3393c556a9f"
      }
     },
     "fb8ed67f1150400f8ae60e696b373849": {
      "model_module": "@jupyter-widgets/base",
      "model_module_version": "1.2.0",
      "model_name": "LayoutModel",
      "state": {
       "_model_module": "@jupyter-widgets/base",
       "_model_module_version": "1.2.0",
       "_model_name": "LayoutModel",
       "_view_count": null,
       "_view_module": "@jupyter-widgets/base",
       "_view_module_version": "1.2.0",
       "_view_name": "LayoutView",
       "align_content": null,
       "align_items": null,
       "align_self": null,
       "border": null,
       "bottom": null,
       "display": null,
       "flex": null,
       "flex_flow": null,
       "grid_area": null,
       "grid_auto_columns": null,
       "grid_auto_flow": null,
       "grid_auto_rows": null,
       "grid_column": null,
       "grid_gap": null,
       "grid_row": null,
       "grid_template_areas": null,
       "grid_template_columns": null,
       "grid_template_rows": null,
       "height": null,
       "justify_content": null,
       "justify_items": null,
       "left": null,
       "margin": null,
       "max_height": null,
       "max_width": null,
       "min_height": null,
       "min_width": null,
       "object_fit": null,
       "object_position": null,
       "order": null,
       "overflow": null,
       "overflow_x": null,
       "overflow_y": null,
       "padding": null,
       "right": null,
       "top": null,
       "visibility": null,
       "width": null
      }
     },
     "ffd0cd00d0db4e90ba40ad0ee3fbd4f4": {
      "model_module": "@jupyter-widgets/base",
      "model_module_version": "1.2.0",
      "model_name": "LayoutModel",
      "state": {
       "_model_module": "@jupyter-widgets/base",
       "_model_module_version": "1.2.0",
       "_model_name": "LayoutModel",
       "_view_count": null,
       "_view_module": "@jupyter-widgets/base",
       "_view_module_version": "1.2.0",
       "_view_name": "LayoutView",
       "align_content": null,
       "align_items": null,
       "align_self": null,
       "border": null,
       "bottom": null,
       "display": null,
       "flex": null,
       "flex_flow": null,
       "grid_area": null,
       "grid_auto_columns": null,
       "grid_auto_flow": null,
       "grid_auto_rows": null,
       "grid_column": null,
       "grid_gap": null,
       "grid_row": null,
       "grid_template_areas": null,
       "grid_template_columns": null,
       "grid_template_rows": null,
       "height": null,
       "justify_content": null,
       "justify_items": null,
       "left": null,
       "margin": null,
       "max_height": null,
       "max_width": null,
       "min_height": null,
       "min_width": null,
       "object_fit": null,
       "object_position": null,
       "order": null,
       "overflow": null,
       "overflow_x": null,
       "overflow_y": null,
       "padding": null,
       "right": null,
       "top": null,
       "visibility": null,
       "width": null
      }
     }
    },
    "version_major": 2,
    "version_minor": 0
   }
  }
 },
 "nbformat": 4,
 "nbformat_minor": 5
}
