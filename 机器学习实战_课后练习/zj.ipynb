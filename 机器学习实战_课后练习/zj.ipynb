{
 "cells": [
  {
   "cell_type": "code",
   "execution_count": 23,
   "metadata": {
    "code_folding": []
   },
   "outputs": [
    {
     "ename": "TypeError",
     "evalue": "add() got an unexpected keyword argument 'color'",
     "output_type": "error",
     "traceback": [
      "\u001b[0;31m---------------------------------------------------------------------------\u001b[0m",
      "\u001b[0;31mTypeError\u001b[0m                                 Traceback (most recent call last)",
      "\u001b[0;32m<ipython-input-23-0eeb84e1a249>\u001b[0m in \u001b[0;36m<module>\u001b[0;34m\u001b[0m\n\u001b[1;32m     27\u001b[0m         \u001b[0myaxis3d_opts\u001b[0m\u001b[0;34m=\u001b[0m\u001b[0mopts\u001b[0m\u001b[0;34m.\u001b[0m\u001b[0mAxis3DOpts\u001b[0m\u001b[0;34m(\u001b[0m\u001b[0mtype_\u001b[0m\u001b[0;34m=\u001b[0m\u001b[0;34m\"category\"\u001b[0m\u001b[0;34m,\u001b[0m \u001b[0mdata\u001b[0m\u001b[0;34m=\u001b[0m\u001b[0mdays\u001b[0m \u001b[0;34m,\u001b[0m\u001b[0minterval\u001b[0m\u001b[0;34m=\u001b[0m\u001b[0;36m0\u001b[0m\u001b[0;34m,\u001b[0m \u001b[0mname\u001b[0m\u001b[0;34m=\u001b[0m\u001b[0;34m\"年\"\u001b[0m\u001b[0;34m)\u001b[0m\u001b[0;34m,\u001b[0m\u001b[0;34m\u001b[0m\u001b[0;34m\u001b[0m\u001b[0m\n\u001b[1;32m     28\u001b[0m         \u001b[0mzaxis3d_opts\u001b[0m\u001b[0;34m=\u001b[0m\u001b[0mopts\u001b[0m\u001b[0;34m.\u001b[0m\u001b[0mAxis3DOpts\u001b[0m\u001b[0;34m(\u001b[0m\u001b[0mtype_\u001b[0m\u001b[0;34m=\u001b[0m\u001b[0;34m\"value\"\u001b[0m\u001b[0;34m,\u001b[0m \u001b[0mname\u001b[0m\u001b[0;34m=\u001b[0m\u001b[0;34m\"你\\n好\\n你\\n好\"\u001b[0m\u001b[0;34m)\u001b[0m\u001b[0;34m,\u001b[0m\u001b[0;34m\u001b[0m\u001b[0;34m\u001b[0m\u001b[0m\n\u001b[0;32m---> 29\u001b[0;31m         \u001b[0mcolor\u001b[0m\u001b[0;34m=\u001b[0m\u001b[0;34m\"realistic\"\u001b[0m\u001b[0;34m,\u001b[0m\u001b[0;34m\u001b[0m\u001b[0;34m\u001b[0m\u001b[0m\n\u001b[0m\u001b[1;32m     30\u001b[0m     )\n\u001b[1;32m     31\u001b[0m     .set_global_opts(\n",
      "\u001b[0;31mTypeError\u001b[0m: add() got an unexpected keyword argument 'color'"
     ]
    }
   ],
   "source": [
    "import random\n",
    "import pyecharts.options as opts\n",
    "from pyecharts.charts import Bar3D\n",
    "\n",
    "hours = [\"京\",\"津\",\"冀\",\"晋\",\"蒙\",\"辽\",\"吉\",\"黑\",\"沪\",\"苏\",\"浙\",\"皖\",\"闽\",\"赣\",\"鲁\",\"豫\",\"鄂\",\"湘\",\"粤\",\"桂\",\"琼\",\"渝\",\"川\",\"贵\",\"云\",\"陕\",\"甘\",\"青\",\"宁\",\"新\",]\n",
    "days = [\"2011\", \"2012\", \"2013\", \"2014\", \"2015\", \"2016\", \"2017\", \"2018\", \"2019\", \"2020\"]\n",
    "index  =[\n",
    "            [0.147678916827853,0.102151837524178,0.0340667311411992,0.0364603481624758,0.025531914893617,0.0603481624758221,0.0149419729206963,0.0368713733075435,0.149564796905222,0.105778529980658,0.14279497098646,0.0356382978723404,0.105004835589942,0.0275870406189555,0.0488878143133462,0.0243471953578337,0.051958413926499,0.0346953578336557,0.123670212765957,0.0376208897485493,0.0658365570599613,0.056963249516441,0.0527804642166344,0.000338491295938106,0.0159090909090909,0.0547147001934236,0.0012330754352031,0,0.0313829787234043,0.00485976789168279,],\n",
    "            [0.319922630560928,0.252973887814313,0.171639264990329,0.180488394584139,0.177345261121857,0.205996131528046,0.166586073500967,0.168230174081238,0.320212765957447,0.250725338491296,0.309526112185687,0.18931334622824,0.25357833655706,0.177949709864603,0.198307543520309,0.158002901353965,0.200894584139265,0.182253384912959,0.262886847195358,0.171711798839458,0.204569632495164,0.197509671179884,0.197775628626692,0.139119922630561,0.159816247582205,0.193205996131528,0.140135396518375,0.104303675048356,0.166344294003868,0.155029013539652,]\n",
    "        \n",
    "        \n",
    "        ]\n",
    "\n",
    "data = [(i, j, index[j][i]) for i in range(30) for j in range(2)]\n",
    "data = [[d[0], d[1], d[2]] for d in data]\n",
    "\n",
    "data\n",
    "\n",
    "\n",
    "\n",
    "c=(\n",
    "    Bar3D(init_opts=opts.InitOpts(width=\"900px\", height=\"600px\"))\n",
    "    .add(\n",
    "        series_name=\"\",\n",
    "        data=data,\n",
    "        xaxis3d_opts=opts.Axis3DOpts(type_=\"category\", data=hours, interval=0, name=\"省\\n份\"),\n",
    "        yaxis3d_opts=opts.Axis3DOpts(type_=\"category\", data=days ,interval=0, name=\"年\"),\n",
    "        zaxis3d_opts=opts.Axis3DOpts(type_=\"value\", name=\"你\\n好\\n你\\n好\"),\n",
    "        color=\"realistic\",\n",
    "    )\n",
    "    .set_global_opts(\n",
    "        title_opts=opts.TitleOpts(\"标准3D柱状图\"),\n",
    "        visualmap_opts=opts.VisualMapOpts(\n",
    "            max_=0.5,\n",
    "            range_color=[\n",
    "                \"#313695\",\n",
    "                \"#4575b4\",\n",
    "                \"#74add1\",\n",
    "                \"#abd9e9\",\n",
    "                \"#e0f3f8\",\n",
    "                \"#ffffbf\",\n",
    "                \"#fee090\",\n",
    "                \"#fdae61\",\n",
    "                \"#f46d43\",\n",
    "                \"#d73027\",\n",
    "                \"#a50026\",\n",
    "            ],\n",
    "        )\n",
    "    )\n",
    "#     .render(\"标准3D柱状图.html\")\n",
    ")\n",
    "c.render_notebook()"
   ]
  },
  {
   "cell_type": "code",
   "execution_count": null,
   "metadata": {},
   "outputs": [],
   "source": []
  }
 ],
 "metadata": {
  "hide_input": false,
  "kernelspec": {
   "display_name": "Python 3",
   "language": "python",
   "name": "python3"
  },
  "language_info": {
   "codemirror_mode": {
    "name": "ipython",
    "version": 3
   },
   "file_extension": ".py",
   "mimetype": "text/x-python",
   "name": "python",
   "nbconvert_exporter": "python",
   "pygments_lexer": "ipython3",
   "version": "3.7.4"
  },
  "toc": {
   "base_numbering": 1,
   "nav_menu": {},
   "number_sections": true,
   "sideBar": true,
   "skip_h1_title": false,
   "title_cell": "目录",
   "title_sidebar": "目录",
   "toc_cell": false,
   "toc_position": {},
   "toc_section_display": true,
   "toc_window_display": false
  }
 },
 "nbformat": 4,
 "nbformat_minor": 2
}
