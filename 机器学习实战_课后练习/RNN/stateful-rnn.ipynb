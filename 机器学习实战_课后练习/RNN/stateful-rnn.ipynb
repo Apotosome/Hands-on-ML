{
 "cells": [
  {
   "cell_type": "code",
   "execution_count": 1,
   "id": "20ba56d0",
   "metadata": {
    "execution": {
     "iopub.execute_input": "2022-04-13T11:41:58.994612Z",
     "iopub.status.busy": "2022-04-13T11:41:58.993909Z",
     "iopub.status.idle": "2022-04-13T11:42:06.172574Z",
     "shell.execute_reply": "2022-04-13T11:42:06.171851Z",
     "shell.execute_reply.started": "2022-04-13T11:39:31.557036Z"
    },
    "papermill": {
     "duration": 7.242485,
     "end_time": "2022-04-13T11:42:06.172764",
     "exception": false,
     "start_time": "2022-04-13T11:41:58.930279",
     "status": "completed"
    },
    "tags": []
   },
   "outputs": [],
   "source": [
    "import numpy as np\n",
    "import pandas as pd\n",
    "import tensorflow as tf\n",
    "import tensorflow.keras as keras\n",
    "import os\n",
    "import time\n",
    "import matplotlib.pyplot as plt\n",
    "import matplotlib as mpl\n",
    "import seaborn as sns\n",
    "\n",
    "\n",
    "def initialization(seed=42):\n",
    "    keras.backend.clear_session()\n",
    "    np.random.seed(seed)\n",
    "    tf.random.set_seed(seed)"
   ]
  },
  {
   "cell_type": "markdown",
   "id": "c1c98c2f",
   "metadata": {
    "papermill": {
     "duration": 0.044662,
     "end_time": "2022-04-13T11:42:06.263694",
     "exception": false,
     "start_time": "2022-04-13T11:42:06.219032",
     "status": "completed"
    },
    "tags": []
   },
   "source": [
    "# 使用Character RNN生成莎士比亚风格的文本"
   ]
  },
  {
   "cell_type": "markdown",
   "id": "c6513261",
   "metadata": {
    "heading_collapsed": true,
    "papermill": {
     "duration": 0.046607,
     "end_time": "2022-04-13T11:42:06.365275",
     "exception": false,
     "start_time": "2022-04-13T11:42:06.318668",
     "status": "completed"
    },
    "tags": []
   },
   "source": [
    "## 创建训练数据集 Creating the Training Dataset"
   ]
  },
  {
   "cell_type": "markdown",
   "id": "88bb76c3",
   "metadata": {
    "hidden": true,
    "papermill": {
     "duration": 0.04465,
     "end_time": "2022-04-13T11:42:06.457025",
     "exception": false,
     "start_time": "2022-04-13T11:42:06.412375",
     "status": "completed"
    },
    "tags": []
   },
   "source": [
    "1. 使用`Keras`的`get_file()`函数，从项目中下载所有莎士比亚的作品"
   ]
  },
  {
   "cell_type": "code",
   "execution_count": 2,
   "id": "e67d3b4a",
   "metadata": {
    "execution": {
     "iopub.execute_input": "2022-04-13T11:42:06.554906Z",
     "iopub.status.busy": "2022-04-13T11:42:06.553644Z",
     "iopub.status.idle": "2022-04-13T11:42:06.875286Z",
     "shell.execute_reply": "2022-04-13T11:42:06.875769Z",
     "shell.execute_reply.started": "2022-04-13T11:39:31.597535Z"
    },
    "hidden": true,
    "papermill": {
     "duration": 0.374129,
     "end_time": "2022-04-13T11:42:06.875965",
     "exception": false,
     "start_time": "2022-04-13T11:42:06.501836",
     "status": "completed"
    },
    "tags": []
   },
   "outputs": [
    {
     "name": "stdout",
     "output_type": "stream",
     "text": [
      "Downloading data from https://raw.githubusercontent.com/karpathy/char-rnn/master/data/tinyshakespeare/input.txt\n",
      "1122304/1115394 [==============================] - 0s 0us/step\n",
      "1130496/1115394 [==============================] - 0s 0us/step\n"
     ]
    }
   ],
   "source": [
    "shakespeare_url = \"https://raw.githubusercontent.com/karpathy/char-rnn/master/data/tinyshakespeare/input.txt\"\n",
    "filepath = keras.utils.get_file(\"shakespeare.txt\", shakespeare_url)\n",
    "\n",
    "with open(filepath) as f:\n",
    "    shakespeare_text = f.read()"
   ]
  },
  {
   "cell_type": "code",
   "execution_count": 3,
   "id": "9db25981",
   "metadata": {
    "execution": {
     "iopub.execute_input": "2022-04-13T11:42:06.976402Z",
     "iopub.status.busy": "2022-04-13T11:42:06.975187Z",
     "iopub.status.idle": "2022-04-13T11:42:06.981642Z",
     "shell.execute_reply": "2022-04-13T11:42:06.981078Z",
     "shell.execute_reply.started": "2022-04-13T11:39:31.645611Z"
    },
    "hidden": true,
    "papermill": {
     "duration": 0.057945,
     "end_time": "2022-04-13T11:42:06.981768",
     "exception": false,
     "start_time": "2022-04-13T11:42:06.923823",
     "status": "completed"
    },
    "scrolled": true,
    "tags": []
   },
   "outputs": [
    {
     "name": "stdout",
     "output_type": "stream",
     "text": [
      "First Citizen:\n",
      "Before we proceed any further, hear me speak.\n",
      "\n",
      "All:\n",
      "Speak, speak.\n",
      "\n",
      "First Citizen:\n",
      "You are all resolved rather to die than to famish?\n",
      "\n"
     ]
    }
   ],
   "source": [
    "print(shakespeare_text[:148])"
   ]
  },
  {
   "cell_type": "code",
   "execution_count": 4,
   "id": "b5c06c9d",
   "metadata": {
    "execution": {
     "iopub.execute_input": "2022-04-13T11:42:07.099675Z",
     "iopub.status.busy": "2022-04-13T11:42:07.081087Z",
     "iopub.status.idle": "2022-04-13T11:42:07.103398Z",
     "shell.execute_reply": "2022-04-13T11:42:07.103929Z",
     "shell.execute_reply.started": "2022-04-13T11:39:31.725017Z"
    },
    "hidden": true,
    "papermill": {
     "duration": 0.074652,
     "end_time": "2022-04-13T11:42:07.104095",
     "exception": false,
     "start_time": "2022-04-13T11:42:07.029443",
     "status": "completed"
    },
    "scrolled": true,
    "tags": []
   },
   "outputs": [
    {
     "data": {
      "text/plain": [
       "\"\\n !$&',-.3:;?abcdefghijklmnopqrstuvwxyz\""
      ]
     },
     "execution_count": 4,
     "metadata": {},
     "output_type": "execute_result"
    }
   ],
   "source": [
    "\"\".join(sorted(set(shakespeare_text.lower())))   # 显示文本中出现的所有字符"
   ]
  },
  {
   "cell_type": "markdown",
   "id": "50260a75",
   "metadata": {
    "hidden": true,
    "papermill": {
     "duration": 0.047762,
     "end_time": "2022-04-13T11:42:07.199078",
     "exception": false,
     "start_time": "2022-04-13T11:42:07.151316",
     "status": "completed"
    },
    "tags": []
   },
   "source": [
    "2. 将每个字符编码为一个整数。\n",
    "    - 创建一个自定义预处理层，\n",
    "    - 或使用`Keras`的`Tokenizer`会更加简单。\n",
    "    \n",
    "> **tf.keras.preprocessing.text.Tokenizer**\n",
    "> ```python   \n",
    "tf.keras.preprocessing.text.Tokenizer(\n",
    "    filters='!\"#$%&()*+,-./:;<=>?@[\\\\]^_`{|}~\\t\\n',  \n",
    "    # filters过滤: 不包含 '\n",
    "    lower=True,   # 是否转化为小写\n",
    "    split=' ',\n",
    "    char_level=False,   # true: 每个字符都将被视为一个标记\n",
    "    oov_token=None,\n",
    "    document_count=0,\n",
    "    **kwargs\n",
    ")\n",
    "> ```   \n",
    "> \n",
    "> 默认情况下，所有标点符号都被删除，将文本转换为空格分隔的单词序列（单词可能包括 ' 字符）。然后将这些序列拆分为标记列表。然后它们将被索引或矢量化。\n",
    "0 是一个保留索引，不会分配给任何单词。\n",
    ">\n",
    "> `fit_on_texts(texts)` : 根据文本列表更新内部词汇表\n",
    ">\n",
    "> `fit_on_sequences(texts)` : 根据序列列表更新内部词汇表\n",
    ">\n",
    "> `get_config()` : 根据文本列表更新内部词汇表"
   ]
  },
  {
   "cell_type": "markdown",
   "id": "67e7df5d",
   "metadata": {
    "hidden": true,
    "papermill": {
     "duration": 0.046955,
     "end_time": "2022-04-13T11:42:07.294070",
     "exception": false,
     "start_time": "2022-04-13T11:42:07.247115",
     "status": "completed"
    },
    "tags": []
   },
   "source": [
    "- 首先，将一个将`tokenizer`拟合到文本：`tokenizer`能从文本中发现所有的字符，并将所有字符映射到不同的字符ID，**映射从1开始**.\n",
    "- 设置`char_level=True`，以得到**字符级别的编码**，而不是默认的单词级别的编码。这个`tokenizer`默认**将所有文本转换成了小写**（如果不想这样，可以设置`lower=False`）"
   ]
  },
  {
   "cell_type": "code",
   "execution_count": 5,
   "id": "bbf92bf4",
   "metadata": {
    "execution": {
     "iopub.execute_input": "2022-04-13T11:42:07.408648Z",
     "iopub.status.busy": "2022-04-13T11:42:07.398291Z",
     "iopub.status.idle": "2022-04-13T11:42:08.969256Z",
     "shell.execute_reply": "2022-04-13T11:42:08.968373Z",
     "shell.execute_reply.started": "2022-04-13T11:39:31.771045Z"
    },
    "hidden": true,
    "papermill": {
     "duration": 1.627657,
     "end_time": "2022-04-13T11:42:08.969415",
     "exception": false,
     "start_time": "2022-04-13T11:42:07.341758",
     "status": "completed"
    },
    "tags": []
   },
   "outputs": [],
   "source": [
    "tokenizer = keras.preprocessing.text.Tokenizer(char_level=True)\n",
    "tokenizer.fit_on_texts(shakespeare_text)"
   ]
  },
  {
   "cell_type": "markdown",
   "id": "8f63fa34",
   "metadata": {
    "hidden": true,
    "papermill": {
     "duration": 0.04839,
     "end_time": "2022-04-13T11:42:09.066878",
     "exception": false,
     "start_time": "2022-04-13T11:42:09.018488",
     "status": "completed"
    },
    "tags": []
   },
   "source": [
    "- 现在`tokenizer`可以将一整句（或句子列表）编码为`字符ID列表`，这可以告诉我们文本中有多少个独立的字符，以及总字符数."
   ]
  },
  {
   "cell_type": "code",
   "execution_count": 6,
   "id": "f8d244e7",
   "metadata": {
    "execution": {
     "iopub.execute_input": "2022-04-13T11:42:09.169151Z",
     "iopub.status.busy": "2022-04-13T11:42:09.168196Z",
     "iopub.status.idle": "2022-04-13T11:42:09.171904Z",
     "shell.execute_reply": "2022-04-13T11:42:09.172462Z",
     "shell.execute_reply.started": "2022-04-13T11:39:33.408886Z"
    },
    "hidden": true,
    "papermill": {
     "duration": 0.058281,
     "end_time": "2022-04-13T11:42:09.172639",
     "exception": false,
     "start_time": "2022-04-13T11:42:09.114358",
     "status": "completed"
    },
    "tags": []
   },
   "outputs": [
    {
     "data": {
      "text/plain": [
       "[[20, 6, 9, 8, 3]]"
      ]
     },
     "execution_count": 6,
     "metadata": {},
     "output_type": "execute_result"
    }
   ],
   "source": [
    "tokenizer.texts_to_sequences(['First'])"
   ]
  },
  {
   "cell_type": "code",
   "execution_count": 7,
   "id": "6eb4b47c",
   "metadata": {
    "execution": {
     "iopub.execute_input": "2022-04-13T11:42:09.277329Z",
     "iopub.status.busy": "2022-04-13T11:42:09.276420Z",
     "iopub.status.idle": "2022-04-13T11:42:09.280201Z",
     "shell.execute_reply": "2022-04-13T11:42:09.280774Z",
     "shell.execute_reply.started": "2022-04-13T11:39:33.417899Z"
    },
    "hidden": true,
    "papermill": {
     "duration": 0.059439,
     "end_time": "2022-04-13T11:42:09.280961",
     "exception": false,
     "start_time": "2022-04-13T11:42:09.221522",
     "status": "completed"
    },
    "tags": []
   },
   "outputs": [
    {
     "data": {
      "text/plain": [
       "['f i r s t']"
      ]
     },
     "execution_count": 7,
     "metadata": {},
     "output_type": "execute_result"
    }
   ],
   "source": [
    "tokenizer.sequences_to_texts([[20, 6, 9, 8, 3]])   # 不区分大小写"
   ]
  },
  {
   "cell_type": "code",
   "execution_count": 8,
   "id": "4fe710f8",
   "metadata": {
    "execution": {
     "iopub.execute_input": "2022-04-13T11:42:09.481494Z",
     "iopub.status.busy": "2022-04-13T11:42:09.480208Z",
     "iopub.status.idle": "2022-04-13T11:42:09.489875Z",
     "shell.execute_reply": "2022-04-13T11:42:09.490725Z",
     "shell.execute_reply.started": "2022-04-13T11:39:33.437621Z"
    },
    "hidden": true,
    "papermill": {
     "duration": 0.13354,
     "end_time": "2022-04-13T11:42:09.490990",
     "exception": false,
     "start_time": "2022-04-13T11:42:09.357450",
     "status": "completed"
    },
    "tags": []
   },
   "outputs": [
    {
     "data": {
      "text/plain": [
       "{' ': 1,\n",
       " 'e': 2,\n",
       " 't': 3,\n",
       " 'o': 4,\n",
       " 'a': 5,\n",
       " 'i': 6,\n",
       " 'h': 7,\n",
       " 's': 8,\n",
       " 'r': 9,\n",
       " 'n': 10,\n",
       " '\\n': 11,\n",
       " 'l': 12,\n",
       " 'd': 13,\n",
       " 'u': 14,\n",
       " 'm': 15,\n",
       " 'y': 16,\n",
       " 'w': 17,\n",
       " ',': 18,\n",
       " 'c': 19,\n",
       " 'f': 20,\n",
       " 'g': 21,\n",
       " 'b': 22,\n",
       " 'p': 23,\n",
       " ':': 24,\n",
       " 'k': 25,\n",
       " 'v': 26,\n",
       " '.': 27,\n",
       " \"'\": 28,\n",
       " ';': 29,\n",
       " '?': 30,\n",
       " '!': 31,\n",
       " '-': 32,\n",
       " 'j': 33,\n",
       " 'q': 34,\n",
       " 'x': 35,\n",
       " 'z': 36,\n",
       " '3': 37,\n",
       " '&': 38,\n",
       " '$': 39}"
      ]
     },
     "execution_count": 8,
     "metadata": {},
     "output_type": "execute_result"
    }
   ],
   "source": [
    "# 列出字符索引\n",
    "tokenizer.word_index"
   ]
  },
  {
   "cell_type": "code",
   "execution_count": 9,
   "id": "4c4d53cd",
   "metadata": {
    "execution": {
     "iopub.execute_input": "2022-04-13T11:42:09.677800Z",
     "iopub.status.busy": "2022-04-13T11:42:09.676735Z",
     "iopub.status.idle": "2022-04-13T11:42:09.681494Z",
     "shell.execute_reply": "2022-04-13T11:42:09.682429Z",
     "shell.execute_reply.started": "2022-04-13T11:39:33.450252Z"
    },
    "hidden": true,
    "papermill": {
     "duration": 0.097497,
     "end_time": "2022-04-13T11:42:09.682709",
     "exception": false,
     "start_time": "2022-04-13T11:42:09.585212",
     "status": "completed"
    },
    "tags": []
   },
   "outputs": [
    {
     "data": {
      "text/plain": [
       "39"
      ]
     },
     "execution_count": 9,
     "metadata": {},
     "output_type": "execute_result"
    }
   ],
   "source": [
    "# 字符索引数\n",
    "max_id = len(tokenizer.word_index)\n",
    "max_id"
   ]
  },
  {
   "cell_type": "code",
   "execution_count": 10,
   "id": "4dae11e4",
   "metadata": {
    "execution": {
     "iopub.execute_input": "2022-04-13T11:42:09.859529Z",
     "iopub.status.busy": "2022-04-13T11:42:09.857099Z",
     "iopub.status.idle": "2022-04-13T11:42:09.864462Z",
     "shell.execute_reply": "2022-04-13T11:42:09.865304Z",
     "shell.execute_reply.started": "2022-04-13T11:39:33.462935Z"
    },
    "hidden": true,
    "papermill": {
     "duration": 0.097902,
     "end_time": "2022-04-13T11:42:09.865531",
     "exception": false,
     "start_time": "2022-04-13T11:42:09.767629",
     "status": "completed"
    },
    "tags": []
   },
   "outputs": [
    {
     "data": {
      "text/plain": [
       "1115394"
      ]
     },
     "execution_count": 10,
     "metadata": {},
     "output_type": "execute_result"
    }
   ],
   "source": [
    "# 总字符数\n",
    "dataset_size = tokenizer.document_count\n",
    "dataset_size"
   ]
  },
  {
   "cell_type": "markdown",
   "id": "32039b8e",
   "metadata": {
    "hidden": true,
    "papermill": {
     "duration": 0.069417,
     "end_time": "2022-04-13T11:42:10.022516",
     "exception": false,
     "start_time": "2022-04-13T11:42:09.953099",
     "status": "completed"
    },
    "tags": []
   },
   "source": [
    "- 现在对完整文本做编码，将每个字符都用ID来表示（减1**使ID从0到38**，而不是1到39）"
   ]
  },
  {
   "cell_type": "code",
   "execution_count": 11,
   "id": "bf2f2d04",
   "metadata": {
    "execution": {
     "iopub.execute_input": "2022-04-13T11:42:10.147625Z",
     "iopub.status.busy": "2022-04-13T11:42:10.146733Z",
     "iopub.status.idle": "2022-04-13T11:42:10.553792Z",
     "shell.execute_reply": "2022-04-13T11:42:10.553270Z",
     "shell.execute_reply.started": "2022-04-13T11:39:33.474169Z"
    },
    "hidden": true,
    "papermill": {
     "duration": 0.480832,
     "end_time": "2022-04-13T11:42:10.553936",
     "exception": false,
     "start_time": "2022-04-13T11:42:10.073104",
     "status": "completed"
    },
    "tags": []
   },
   "outputs": [
    {
     "data": {
      "text/plain": [
       "array([19,  5,  8, ..., 20, 26, 10])"
      ]
     },
     "execution_count": 11,
     "metadata": {},
     "output_type": "execute_result"
    }
   ],
   "source": [
    "[encoded] = np.array(tokenizer.texts_to_sequences([shakespeare_text])) -1\n",
    "encoded  "
   ]
  },
  {
   "cell_type": "markdown",
   "id": "c03f6e3f",
   "metadata": {
    "papermill": {
     "duration": 0.048971,
     "end_time": "2022-04-13T11:42:10.652817",
     "exception": false,
     "start_time": "2022-04-13T11:42:10.603846",
     "status": "completed"
    },
    "tags": []
   },
   "source": [
    "## 如何区分序列数据集 How to Split a Sequential Dataset"
   ]
  },
  {
   "cell_type": "markdown",
   "id": "31488c03",
   "metadata": {
    "papermill": {
     "duration": 0.049767,
     "end_time": "2022-04-13T11:42:10.752137",
     "exception": false,
     "start_time": "2022-04-13T11:42:10.702370",
     "status": "completed"
    },
    "tags": []
   },
   "source": [
    "避免训练集、验证集、测试集发生重合非常重要。\n",
    "\n",
    "当处理时间序列时，\n",
    "- 通常按照时间切分,\n",
    "- 也可以按照其它维度来切分，可以得到更长的时间周期进行训练。如果训练集中的数据存在高度关联性, 则测试集的意义就不大，泛化误差会存在偏移。"
   ]
  },
  {
   "cell_type": "markdown",
   "id": "f0fc140e",
   "metadata": {
    "papermill": {
     "duration": 0.048995,
     "end_time": "2022-04-13T11:42:10.850593",
     "exception": false,
     "start_time": "2022-04-13T11:42:10.801598",
     "status": "completed"
    },
    "tags": []
   },
   "source": [
    "在莎士比亚案例中, 可以取90%的文本作为训练集，5%作为验证集，5%作为测试集。在这三个数据之间留出空隙，以避免段落重叠也是非常好的主意。\n",
    "\n",
    "创建`tf.data.Dataset`, 可以从数据集中一个个返回字符."
   ]
  },
  {
   "cell_type": "code",
   "execution_count": 12,
   "id": "6f6e43ee",
   "metadata": {
    "execution": {
     "iopub.execute_input": "2022-04-13T11:42:11.165071Z",
     "iopub.status.busy": "2022-04-13T11:42:11.164180Z",
     "iopub.status.idle": "2022-04-13T11:42:14.004554Z",
     "shell.execute_reply": "2022-04-13T11:42:14.005161Z",
     "shell.execute_reply.started": "2022-04-13T11:39:33.948187Z"
    },
    "papermill": {
     "duration": 3.104828,
     "end_time": "2022-04-13T11:42:14.005337",
     "exception": false,
     "start_time": "2022-04-13T11:42:10.900509",
     "status": "completed"
    },
    "tags": []
   },
   "outputs": [
    {
     "name": "stderr",
     "output_type": "stream",
     "text": [
      "2022-04-13 11:42:11.034727: I tensorflow/stream_executor/cuda/cuda_gpu_executor.cc:937] successful NUMA node read from SysFS had negative value (-1), but there must be at least one NUMA node, so returning NUMA node zero\n",
      "2022-04-13 11:42:11.159930: I tensorflow/stream_executor/cuda/cuda_gpu_executor.cc:937] successful NUMA node read from SysFS had negative value (-1), but there must be at least one NUMA node, so returning NUMA node zero\n",
      "2022-04-13 11:42:11.161103: I tensorflow/stream_executor/cuda/cuda_gpu_executor.cc:937] successful NUMA node read from SysFS had negative value (-1), but there must be at least one NUMA node, so returning NUMA node zero\n",
      "2022-04-13 11:42:11.165383: I tensorflow/core/platform/cpu_feature_guard.cc:142] This TensorFlow binary is optimized with oneAPI Deep Neural Network Library (oneDNN) to use the following CPU instructions in performance-critical operations:  AVX2 FMA\n",
      "To enable them in other operations, rebuild TensorFlow with the appropriate compiler flags.\n",
      "2022-04-13 11:42:11.167010: I tensorflow/stream_executor/cuda/cuda_gpu_executor.cc:937] successful NUMA node read from SysFS had negative value (-1), but there must be at least one NUMA node, so returning NUMA node zero\n",
      "2022-04-13 11:42:11.168050: I tensorflow/stream_executor/cuda/cuda_gpu_executor.cc:937] successful NUMA node read from SysFS had negative value (-1), but there must be at least one NUMA node, so returning NUMA node zero\n",
      "2022-04-13 11:42:11.169104: I tensorflow/stream_executor/cuda/cuda_gpu_executor.cc:937] successful NUMA node read from SysFS had negative value (-1), but there must be at least one NUMA node, so returning NUMA node zero\n",
      "2022-04-13 11:42:13.636401: I tensorflow/stream_executor/cuda/cuda_gpu_executor.cc:937] successful NUMA node read from SysFS had negative value (-1), but there must be at least one NUMA node, so returning NUMA node zero\n",
      "2022-04-13 11:42:13.637698: I tensorflow/stream_executor/cuda/cuda_gpu_executor.cc:937] successful NUMA node read from SysFS had negative value (-1), but there must be at least one NUMA node, so returning NUMA node zero\n",
      "2022-04-13 11:42:13.638668: I tensorflow/stream_executor/cuda/cuda_gpu_executor.cc:937] successful NUMA node read from SysFS had negative value (-1), but there must be at least one NUMA node, so returning NUMA node zero\n",
      "2022-04-13 11:42:13.639686: I tensorflow/core/common_runtime/gpu/gpu_device.cc:1510] Created device /job:localhost/replica:0/task:0/device:GPU:0 with 15403 MB memory:  -> device: 0, name: Tesla P100-PCIE-16GB, pci bus id: 0000:00:04.0, compute capability: 6.0\n"
     ]
    }
   ],
   "source": [
    "train_size = dataset_size * 90 // 100     # train_size=1003854\n",
    "dataset = tf.data.Dataset.from_tensor_slices(encoded[:train_size])"
   ]
  },
  {
   "cell_type": "markdown",
   "id": "b31d213b",
   "metadata": {
    "papermill": {
     "duration": 0.061171,
     "end_time": "2022-04-13T11:42:14.118720",
     "exception": false,
     "start_time": "2022-04-13T11:42:14.057549",
     "status": "completed"
    },
    "tags": []
   },
   "source": [
    "## 使用Char-RNN模型 Using the Char-RNN model"
   ]
  },
  {
   "cell_type": "markdown",
   "id": "c841cdde",
   "metadata": {
    "papermill": {
     "duration": 0.052096,
     "end_time": "2022-04-13T11:42:14.222575",
     "exception": false,
     "start_time": "2022-04-13T11:42:14.170479",
     "status": "completed"
    },
    "tags": []
   },
   "source": [
    "- 首先需要对数据进行预处理\n",
    "    \n",
    "    对文本进行编码，将每个字符都用ID来表示(从0开始), 并使用独热编码."
   ]
  },
  {
   "cell_type": "code",
   "execution_count": 13,
   "id": "81325bbd",
   "metadata": {
    "execution": {
     "iopub.execute_input": "2022-04-13T11:42:14.334968Z",
     "iopub.status.busy": "2022-04-13T11:42:14.332693Z",
     "iopub.status.idle": "2022-04-13T11:42:14.335688Z",
     "shell.execute_reply": "2022-04-13T11:42:14.336294Z",
     "shell.execute_reply.started": "2022-04-13T11:39:33.970111Z"
    },
    "papermill": {
     "duration": 0.06124,
     "end_time": "2022-04-13T11:42:14.336448",
     "exception": false,
     "start_time": "2022-04-13T11:42:14.275208",
     "status": "completed"
    },
    "tags": []
   },
   "outputs": [],
   "source": [
    "def preprocess(tests):\n",
    "    X = np.array(tokenizer.texts_to_sequences(tests)) - 1\n",
    "    return tf.one_hot(X, max_id)"
   ]
  },
  {
   "cell_type": "markdown",
   "id": "391822d3",
   "metadata": {
    "papermill": {
     "duration": 0.051579,
     "end_time": "2022-04-13T11:42:14.440527",
     "exception": false,
     "start_time": "2022-04-13T11:42:14.388948",
     "status": "completed"
    },
    "tags": []
   },
   "source": [
    "## 有状态RNN  Stateful RNN"
   ]
  },
  {
   "cell_type": "markdown",
   "id": "bc456e8f",
   "metadata": {
    "papermill": {
     "duration": 0.052893,
     "end_time": "2022-04-13T11:42:14.544238",
     "exception": false,
     "start_time": "2022-04-13T11:42:14.491345",
     "status": "completed"
    },
    "tags": []
   },
   "source": [
    "### 原理及数据集划分"
   ]
  },
  {
   "cell_type": "markdown",
   "id": "f9697e37",
   "metadata": {
    "papermill": {
     "duration": 0.050731,
     "end_time": "2022-04-13T11:42:14.646196",
     "exception": false,
     "start_time": "2022-04-13T11:42:14.595465",
     "status": "completed"
    },
    "tags": []
   },
   "source": [
    "在Keras调用`LSTM/GRU`的参数中，有一个`stateful`参数，默认是`False`，也就是`无状态模式stateless`，为`True`的话就是`有状态模式stateful`."
   ]
  },
  {
   "cell_type": "markdown",
   "id": "da50351f",
   "metadata": {
    "papermill": {
     "duration": 0.051474,
     "end_time": "2022-04-13T11:42:14.748439",
     "exception": false,
     "start_time": "2022-04-13T11:42:14.696965",
     "status": "completed"
    },
    "tags": []
   },
   "source": [
    ">- `stateless LSTM`\n",
    ">  \n",
    ">  `stateless`就是与`stateful`相反了，就是sample之间没有前后状态传递的关系，输入samples后，默认就会shuffle，可以说是**每个sample独立**，适合输入一些没有关系的样本。\n",
    "\n",
    "> - `stateful LSTM`\n",
    ">    \n",
    ">    除了正常的单个sample内部时间步之间的状态互相传递外，sample之间的状态还能互相传递。但是需要确定`batch_size`大小，传递的时候是前一个`batch`的第$i$个sample最终输出状态，传递给后一个`batch`的第$i$个sample，作为其状态的初始化值。\n",
    ">     \n",
    ">         解放军第72集团军某旅500名抗洪子弟兵撤离安徽铜陵枞阳县，赶赴合肥庐江县继续抗洪。当地百姓冒着大雨追着驶出的车辆，递上自家的莲蓬、葡萄、熟鸡蛋等食物，送别子弟兵。\n",
    "    第一句话为一个sample，第二句话为第二个sample，每个sample内部的word为一个时间步，很明显前后两个sample是相互关联的。**如果设置`batch_size=1`,则第一句话最终输出状态(即最后一个word的状态输出)，就可以传递给第二句话作为其初始状态值**。\n",
    ">    \n",
    ">   - 优点：后面的语句有了更合理的初始化状态值，显然会加快网络的收敛，所以需要更小的网络、更少的训练时间。\n",
    ">   - 缺点：每一个`epoch`后，要重置一下状态，因为训练一遍了，状态不能循环使用，要从头开始。\n",
    ">   - 使用注意事项：**调用`fit()` 时指定 `shuffle = False`**，要保证sample之间的前后顺序；可以使用`model.reset_states()`来重置模型中所有层的状态，也可使用`layer.reset_states()`来重置指定有状态 RNN 层的状态。\n",
    "\n",
    "\n",
    "\n",
    "> 参考: https://www.cnblogs.com/gczr/p/13393883.html"
   ]
  },
  {
   "cell_type": "markdown",
   "id": "26afd13f",
   "metadata": {
    "papermill": {
     "duration": 0.050417,
     "end_time": "2022-04-13T11:42:14.849100",
     "exception": false,
     "start_time": "2022-04-13T11:42:14.798683",
     "status": "completed"
    },
    "tags": []
   },
   "source": [
    "`stateful RNN`只在前一批次的序列离开，后一批次中的对应输入序列开始的情况下才有意义。\n",
    "\n",
    "- 首先,**使用序列且没有重叠的输入序列**（而不是用来训练无状态RNN时的打散和重叠的序列）。\n",
    "    - 当创建`Dataset`时，**调用`window()`必须使用`shift=n_steps`**（而不是`shift=1`）。\n",
    "            例: window_size=31, shfit=30, \n",
    "                train_x=[1,...,31] (31-1=30), train_y=[2,...,31], \n",
    "                next, train_x=[31,...,61], train_y=[32...62],\n",
    "    - 不能使用`shuffle()`方法。但是，准备`stateful RNN`数据集的批处理会麻烦些。事实上，如果调用`batch(32)`，32个连续的窗口会放到一个相同的批处理中，而下一个批处理不会再这些窗口的每个中断处继续。第一个批次含有窗口1到32，第二个批次批次含有窗口33到64，因此每个批次中的第一个窗口（第一批次的窗口1和第二批次的窗口33），它们是不连续的。\n",
    "  \n",
    "  \n",
    "- 最简单办法是**使用只包含单个窗口的\"批处理\"**：\n",
    "   <img src=\"./images/other/15-23.png\" width=\"500\">"
   ]
  },
  {
   "cell_type": "code",
   "execution_count": 14,
   "id": "3cc00f51",
   "metadata": {
    "execution": {
     "iopub.execute_input": "2022-04-13T11:42:14.957422Z",
     "iopub.status.busy": "2022-04-13T11:42:14.956291Z",
     "iopub.status.idle": "2022-04-13T11:42:14.967021Z",
     "shell.execute_reply": "2022-04-13T11:42:14.966465Z",
     "shell.execute_reply.started": "2022-04-13T11:39:33.983331Z"
    },
    "papermill": {
     "duration": 0.066658,
     "end_time": "2022-04-13T11:42:14.967172",
     "exception": false,
     "start_time": "2022-04-13T11:42:14.900514",
     "status": "completed"
    },
    "tags": []
   },
   "outputs": [],
   "source": [
    "initialization(42)\n",
    "\n",
    "n_steps = 100 \n",
    "window_length = n_steps + 1  "
   ]
  },
  {
   "cell_type": "markdown",
   "id": "8de9384e",
   "metadata": {
    "papermill": {
     "duration": 0.050206,
     "end_time": "2022-04-13T11:42:15.069074",
     "exception": false,
     "start_time": "2022-04-13T11:42:15.018868",
     "status": "completed"
    },
    "tags": []
   },
   "source": [
    "- 使用以下方法也可以**实现批处理**\n",
    "   - 将莎士比亚作品切分成32段等长的文本\n",
    "   - 每个文本创建一个连续输入的数据集\n",
    "   - 最后使用`tf.train.Dataset.zip(datasets).map(lambda *windows: tf.stack(windows))`来创建合适的连续批处理，其中批处理中的第$n$个输入序列恰好是上一个批处理中第$n$个输入序列结束位置的开始."
   ]
  },
  {
   "cell_type": "code",
   "execution_count": 15,
   "id": "f7d22f4b",
   "metadata": {
    "execution": {
     "iopub.execute_input": "2022-04-13T11:42:15.176817Z",
     "iopub.status.busy": "2022-04-13T11:42:15.175721Z",
     "iopub.status.idle": "2022-04-13T11:42:15.178505Z",
     "shell.execute_reply": "2022-04-13T11:42:15.179044Z",
     "shell.execute_reply.started": "2022-04-13T11:39:34.008412Z"
    },
    "papermill": {
     "duration": 0.059144,
     "end_time": "2022-04-13T11:42:15.179196",
     "exception": false,
     "start_time": "2022-04-13T11:42:15.120052",
     "status": "completed"
    },
    "tags": []
   },
   "outputs": [],
   "source": [
    "batch_size = 32\n",
    "encoded_parts = np.array_split(ary=encoded[:train_size],\n",
    "                               indices_or_sections=batch_size)\n",
    "# 划分为32段等长的文本\n",
    "# 每段31371个字符, 最后一段为31370"
   ]
  },
  {
   "cell_type": "code",
   "execution_count": 16,
   "id": "ee6eb5c7",
   "metadata": {
    "execution": {
     "iopub.execute_input": "2022-04-13T11:42:15.293864Z",
     "iopub.status.busy": "2022-04-13T11:42:15.293007Z",
     "iopub.status.idle": "2022-04-13T11:42:15.560025Z",
     "shell.execute_reply": "2022-04-13T11:42:15.559365Z",
     "shell.execute_reply.started": "2022-04-13T11:39:34.017746Z"
    },
    "papermill": {
     "duration": 0.328772,
     "end_time": "2022-04-13T11:42:15.560234",
     "exception": false,
     "start_time": "2022-04-13T11:42:15.231462",
     "status": "completed"
    },
    "tags": []
   },
   "outputs": [],
   "source": [
    "datasets = []\n",
    "\n",
    "for encoded_part in encoded_parts:\n",
    "    dataset = tf.data.Dataset.from_tensor_slices(encoded_part)\n",
    "    dataset = dataset.window(size=window_length,\n",
    "                             shift=n_steps,\n",
    "                             drop_remainder=True)\n",
    "    dataset = dataset.flat_map(lambda window:window.batch(window_length))\n",
    "    datasets.append(dataset)"
   ]
  },
  {
   "cell_type": "markdown",
   "id": "bf884e09",
   "metadata": {
    "papermill": {
     "duration": 0.0508,
     "end_time": "2022-04-13T11:42:15.662545",
     "exception": false,
     "start_time": "2022-04-13T11:42:15.611745",
     "status": "completed"
    },
    "tags": []
   },
   "source": [
    "    encoded_part_size=31371\n",
    "    迭代次数: ( len(text)-window_size ) // shift +1 \n",
    "           = ( 31371 - 101 ) // 100 + 1 = 313\n",
    "    即: 共有313个窗口, 每个窗口大小为101"
   ]
  },
  {
   "cell_type": "code",
   "execution_count": 17,
   "id": "2c6138e4",
   "metadata": {
    "execution": {
     "iopub.execute_input": "2022-04-13T11:42:15.774875Z",
     "iopub.status.busy": "2022-04-13T11:42:15.773751Z",
     "iopub.status.idle": "2022-04-13T11:42:15.815442Z",
     "shell.execute_reply": "2022-04-13T11:42:15.816067Z",
     "shell.execute_reply.started": "2022-04-13T11:39:34.266109Z"
    },
    "papermill": {
     "duration": 0.10146,
     "end_time": "2022-04-13T11:42:15.816243",
     "exception": false,
     "start_time": "2022-04-13T11:42:15.714783",
     "status": "completed"
    },
    "tags": []
   },
   "outputs": [
    {
     "data": {
      "text/plain": [
       "<MapDataset shapes: (32, None), types: tf.int64>"
      ]
     },
     "execution_count": 17,
     "metadata": {},
     "output_type": "execute_result"
    }
   ],
   "source": [
    "dataset = tf.data.Dataset.zip(\n",
    "    tuple(datasets)).map(lambda *windows: tf.stack(windows))\n",
    "dataset"
   ]
  },
  {
   "cell_type": "code",
   "execution_count": 18,
   "id": "aa4f8905",
   "metadata": {
    "execution": {
     "iopub.execute_input": "2022-04-13T11:42:15.927718Z",
     "iopub.status.busy": "2022-04-13T11:42:15.925598Z",
     "iopub.status.idle": "2022-04-13T11:42:15.988974Z",
     "shell.execute_reply": "2022-04-13T11:42:15.988415Z",
     "shell.execute_reply.started": "2022-04-13T11:39:34.309132Z"
    },
    "papermill": {
     "duration": 0.120202,
     "end_time": "2022-04-13T11:42:15.989137",
     "exception": false,
     "start_time": "2022-04-13T11:42:15.868935",
     "status": "completed"
    },
    "tags": []
   },
   "outputs": [],
   "source": [
    "dataset = dataset.map(lambda window: (window[:, :-1], window[:, 1:]))\n",
    "dataset = dataset.map(lambda X_batch, y_batch:\n",
    "                      (tf.one_hot(X_batch, max_id), y_batch))\n",
    "dataset = dataset.prefetch(1)"
   ]
  },
  {
   "cell_type": "code",
   "execution_count": 19,
   "id": "68b709ee",
   "metadata": {
    "execution": {
     "iopub.execute_input": "2022-04-13T11:42:16.098141Z",
     "iopub.status.busy": "2022-04-13T11:42:16.097247Z",
     "iopub.status.idle": "2022-04-13T11:42:16.417472Z",
     "shell.execute_reply": "2022-04-13T11:42:16.418090Z",
     "shell.execute_reply.started": "2022-04-13T11:39:34.341919Z"
    },
    "papermill": {
     "duration": 0.377884,
     "end_time": "2022-04-13T11:42:16.418268",
     "exception": false,
     "start_time": "2022-04-13T11:42:16.040384",
     "status": "completed"
    },
    "tags": []
   },
   "outputs": [
    {
     "name": "stderr",
     "output_type": "stream",
     "text": [
      "2022-04-13 11:42:16.208058: I tensorflow/compiler/mlir/mlir_graph_optimization_pass.cc:185] None of the MLIR Optimization Passes are enabled (registered 2)\n"
     ]
    },
    {
     "name": "stdout",
     "output_type": "stream",
     "text": [
      "(32, 100, 39) (32, 100)\n"
     ]
    }
   ],
   "source": [
    "for X_batch, y_batch in dataset.take(1): \n",
    "    print(X_batch.shape, y_batch.shape) "
   ]
  },
  {
   "cell_type": "markdown",
   "id": "192f7a16",
   "metadata": {
    "papermill": {
     "duration": 0.052764,
     "end_time": "2022-04-13T11:42:16.524269",
     "exception": false,
     "start_time": "2022-04-13T11:42:16.471505",
     "status": "completed"
    },
    "tags": []
   },
   "source": [
    "### 搭建并训练模型"
   ]
  },
  {
   "cell_type": "markdown",
   "id": "9ad9509c",
   "metadata": {
    "papermill": {
     "duration": 0.053268,
     "end_time": "2022-04-13T11:42:16.630648",
     "exception": false,
     "start_time": "2022-04-13T11:42:16.577380",
     "status": "completed"
    },
    "tags": []
   },
   "source": [
    "1. 搭建`stateful RNN`模型\n",
    "    - 创建每个循环层时需要**设置`stateful=True`**\n",
    "    - 有状态RNN需要知道批次大小（因为要为批次中的每个输入序列保留一个状态），所以要必须在第一层中设置`batch_input_shape`。\n",
    "        - 注意:可以不用指定第二个维度，因为输入可以有任意长度."
   ]
  },
  {
   "cell_type": "code",
   "execution_count": 20,
   "id": "39586ba8",
   "metadata": {
    "execution": {
     "iopub.execute_input": "2022-04-13T11:42:16.742559Z",
     "iopub.status.busy": "2022-04-13T11:42:16.741848Z",
     "iopub.status.idle": "2022-04-13T11:42:17.292118Z",
     "shell.execute_reply": "2022-04-13T11:42:17.291292Z",
     "shell.execute_reply.started": "2022-04-13T11:39:34.579762Z"
    },
    "papermill": {
     "duration": 0.608991,
     "end_time": "2022-04-13T11:42:17.292274",
     "exception": false,
     "start_time": "2022-04-13T11:42:16.683283",
     "status": "completed"
    },
    "tags": []
   },
   "outputs": [],
   "source": [
    "model = keras.models.Sequential([\n",
    "    keras.layers.GRU(128, return_sequences=True, stateful=True,\n",
    "                     dropout=0.2,\n",
    "                     batch_input_shape=[batch_size, None, max_id]),\n",
    "    keras.layers.GRU(128, return_sequences=True, stateful=True,\n",
    "                     dropout=0.2,),\n",
    "    keras.layers.TimeDistributed(keras.layers.Dense(max_id,\n",
    "                                                    activation=\"softmax\"))\n",
    "])"
   ]
  },
  {
   "cell_type": "markdown",
   "id": "c0b6f597",
   "metadata": {
    "papermill": {
     "duration": 0.053156,
     "end_time": "2022-04-13T11:42:17.399509",
     "exception": false,
     "start_time": "2022-04-13T11:42:17.346353",
     "status": "completed"
    },
    "tags": []
   },
   "source": [
    "2. 在每个`epoch`之后, 需要先重设状态, 然后再返回到文本的开头。因此, 我们需要使用回调函数."
   ]
  },
  {
   "cell_type": "code",
   "execution_count": 21,
   "id": "1203ed62",
   "metadata": {
    "execution": {
     "iopub.execute_input": "2022-04-13T11:42:17.509271Z",
     "iopub.status.busy": "2022-04-13T11:42:17.508448Z",
     "iopub.status.idle": "2022-04-13T11:42:17.512508Z",
     "shell.execute_reply": "2022-04-13T11:42:17.513070Z",
     "shell.execute_reply.started": "2022-04-13T11:39:34.928962Z"
    },
    "papermill": {
     "duration": 0.062036,
     "end_time": "2022-04-13T11:42:17.513228",
     "exception": false,
     "start_time": "2022-04-13T11:42:17.451192",
     "status": "completed"
    },
    "tags": []
   },
   "outputs": [],
   "source": [
    "class ResetStatesCallback(keras.callbacks.Callback):\n",
    "    def on_epoch_begin(self, epoch, logs):\n",
    "        self.model.reset_states()"
   ]
  },
  {
   "cell_type": "code",
   "execution_count": 22,
   "id": "02aab7d8",
   "metadata": {
    "execution": {
     "iopub.execute_input": "2022-04-13T11:42:17.627736Z",
     "iopub.status.busy": "2022-04-13T11:42:17.627090Z",
     "iopub.status.idle": "2022-04-13T11:42:17.631238Z",
     "shell.execute_reply": "2022-04-13T11:42:17.631821Z",
     "shell.execute_reply.started": "2022-04-13T11:39:34.938039Z"
    },
    "papermill": {
     "duration": 0.065869,
     "end_time": "2022-04-13T11:42:17.632033",
     "exception": false,
     "start_time": "2022-04-13T11:42:17.566164",
     "status": "completed"
    },
    "tags": []
   },
   "outputs": [],
   "source": [
    "EarlyStoppingCallback = keras.callbacks.EarlyStopping(patience=10,  # 至多10个轮次\n",
    "                                                      restore_best_weights=True)"
   ]
  },
  {
   "cell_type": "markdown",
   "id": "496a5bb4",
   "metadata": {
    "papermill": {
     "duration": 0.054954,
     "end_time": "2022-04-13T11:42:17.746571",
     "exception": false,
     "start_time": "2022-04-13T11:42:17.691617",
     "status": "completed"
    },
    "tags": []
   },
   "source": [
    "3. 编译并训练模型"
   ]
  },
  {
   "cell_type": "code",
   "execution_count": 23,
   "id": "be757cd5",
   "metadata": {
    "execution": {
     "iopub.execute_input": "2022-04-13T11:42:17.862182Z",
     "iopub.status.busy": "2022-04-13T11:42:17.861128Z",
     "iopub.status.idle": "2022-04-13T11:55:49.680288Z",
     "shell.execute_reply": "2022-04-13T11:55:49.681008Z",
     "shell.execute_reply.started": "2022-04-13T11:39:34.952502Z"
    },
    "papermill": {
     "duration": 811.882395,
     "end_time": "2022-04-13T11:55:49.681196",
     "exception": false,
     "start_time": "2022-04-13T11:42:17.798801",
     "status": "completed"
    },
    "scrolled": true,
    "tags": []
   },
   "outputs": [
    {
     "name": "stdout",
     "output_type": "stream",
     "text": [
      "Epoch 1/100\n"
     ]
    },
    {
     "name": "stderr",
     "output_type": "stream",
     "text": [
      "2022-04-13 11:42:22.105494: I tensorflow/stream_executor/cuda/cuda_dnn.cc:369] Loaded cuDNN version 8005\n"
     ]
    },
    {
     "name": "stdout",
     "output_type": "stream",
     "text": [
      "313/313 [==============================] - 11s 19ms/step - loss: 2.6204\n",
      "Epoch 2/100\n",
      "313/313 [==============================] - 7s 21ms/step - loss: 2.2427\n",
      "Epoch 3/100\n",
      "313/313 [==============================] - 6s 18ms/step - loss: 2.1129\n",
      "Epoch 4/100\n",
      "313/313 [==============================] - 6s 20ms/step - loss: 2.0384\n",
      "Epoch 5/100\n",
      "313/313 [==============================] - 6s 20ms/step - loss: 1.9869\n",
      "Epoch 6/100\n",
      "313/313 [==============================] - 6s 19ms/step - loss: 1.9511\n",
      "Epoch 7/100\n",
      "313/313 [==============================] - 6s 20ms/step - loss: 1.9225\n",
      "Epoch 8/100\n",
      "313/313 [==============================] - 6s 19ms/step - loss: 1.8983\n",
      "Epoch 9/100\n",
      "313/313 [==============================] - 6s 19ms/step - loss: 1.8815\n",
      "Epoch 10/100\n",
      "313/313 [==============================] - 6s 20ms/step - loss: 1.8663\n",
      "Epoch 11/100\n",
      "313/313 [==============================] - 6s 20ms/step - loss: 1.8505\n",
      "Epoch 12/100\n",
      "313/313 [==============================] - 6s 19ms/step - loss: 1.8422\n",
      "Epoch 13/100\n",
      "313/313 [==============================] - 6s 19ms/step - loss: 1.8310\n",
      "Epoch 14/100\n",
      "313/313 [==============================] - 6s 19ms/step - loss: 1.8235\n",
      "Epoch 15/100\n",
      "313/313 [==============================] - 6s 20ms/step - loss: 1.8156\n",
      "Epoch 16/100\n",
      "313/313 [==============================] - 6s 20ms/step - loss: 1.8072\n",
      "Epoch 17/100\n",
      "313/313 [==============================] - 6s 19ms/step - loss: 1.7996\n",
      "Epoch 18/100\n",
      "313/313 [==============================] - 6s 18ms/step - loss: 1.7970\n",
      "Epoch 19/100\n",
      "313/313 [==============================] - 6s 20ms/step - loss: 1.7899\n",
      "Epoch 20/100\n",
      "313/313 [==============================] - 7s 23ms/step - loss: 1.7817\n",
      "Epoch 21/100\n",
      "313/313 [==============================] - 6s 19ms/step - loss: 1.7803\n",
      "Epoch 22/100\n",
      "313/313 [==============================] - 7s 21ms/step - loss: 1.7766\n",
      "Epoch 23/100\n",
      "313/313 [==============================] - 7s 21ms/step - loss: 1.7715\n",
      "Epoch 24/100\n",
      "313/313 [==============================] - 6s 19ms/step - loss: 1.7676\n",
      "Epoch 25/100\n",
      "313/313 [==============================] - 6s 20ms/step - loss: 1.7646\n",
      "Epoch 26/100\n",
      "313/313 [==============================] - 7s 21ms/step - loss: 1.7625\n",
      "Epoch 27/100\n",
      "313/313 [==============================] - 6s 21ms/step - loss: 1.7582\n",
      "Epoch 28/100\n",
      "313/313 [==============================] - 6s 19ms/step - loss: 1.7561\n",
      "Epoch 29/100\n",
      "313/313 [==============================] - 6s 18ms/step - loss: 1.7526\n",
      "Epoch 30/100\n",
      "313/313 [==============================] - 7s 21ms/step - loss: 1.7517\n",
      "Epoch 31/100\n",
      "313/313 [==============================] - 6s 20ms/step - loss: 1.7480\n",
      "Epoch 32/100\n",
      "313/313 [==============================] - 6s 18ms/step - loss: 1.7462\n",
      "Epoch 33/100\n",
      "313/313 [==============================] - 6s 20ms/step - loss: 1.7417\n",
      "Epoch 34/100\n",
      "313/313 [==============================] - 7s 21ms/step - loss: 1.7417\n",
      "Epoch 35/100\n",
      "313/313 [==============================] - 7s 24ms/step - loss: 1.7385\n",
      "Epoch 36/100\n",
      "313/313 [==============================] - 6s 19ms/step - loss: 1.7389\n",
      "Epoch 37/100\n",
      "313/313 [==============================] - 6s 19ms/step - loss: 1.7354\n",
      "Epoch 38/100\n",
      "313/313 [==============================] - 6s 20ms/step - loss: 1.7318\n",
      "Epoch 39/100\n",
      "313/313 [==============================] - 8s 24ms/step - loss: 1.7309\n",
      "Epoch 40/100\n",
      "313/313 [==============================] - 6s 19ms/step - loss: 1.7306\n",
      "Epoch 41/100\n",
      "313/313 [==============================] - 6s 18ms/step - loss: 1.7280\n",
      "Epoch 42/100\n",
      "313/313 [==============================] - 6s 18ms/step - loss: 1.7253\n",
      "Epoch 43/100\n",
      "313/313 [==============================] - 7s 22ms/step - loss: 1.7232\n",
      "Epoch 44/100\n",
      "313/313 [==============================] - 6s 18ms/step - loss: 1.7220\n",
      "Epoch 45/100\n",
      "313/313 [==============================] - 7s 21ms/step - loss: 1.7221\n",
      "Epoch 46/100\n",
      "313/313 [==============================] - 7s 21ms/step - loss: 1.7184\n",
      "Epoch 47/100\n",
      "313/313 [==============================] - 8s 24ms/step - loss: 1.7184\n",
      "Epoch 48/100\n",
      "313/313 [==============================] - 6s 18ms/step - loss: 1.7181\n",
      "Epoch 49/100\n",
      "313/313 [==============================] - 6s 18ms/step - loss: 1.7143\n",
      "Epoch 50/100\n",
      "313/313 [==============================] - 6s 19ms/step - loss: 1.7136\n",
      "Epoch 51/100\n",
      "313/313 [==============================] - 6s 18ms/step - loss: 1.7141\n",
      "Epoch 52/100\n",
      "313/313 [==============================] - 6s 19ms/step - loss: 1.7127\n",
      "Epoch 53/100\n",
      "313/313 [==============================] - 6s 18ms/step - loss: 1.7106\n",
      "Epoch 54/100\n",
      "313/313 [==============================] - 7s 23ms/step - loss: 1.7106\n",
      "Epoch 55/100\n",
      "313/313 [==============================] - 6s 20ms/step - loss: 1.7086\n",
      "Epoch 56/100\n",
      "313/313 [==============================] - 6s 18ms/step - loss: 1.7068\n",
      "Epoch 57/100\n",
      "313/313 [==============================] - 8s 26ms/step - loss: 1.7072\n",
      "Epoch 58/100\n",
      "313/313 [==============================] - 7s 21ms/step - loss: 1.7053\n",
      "Epoch 59/100\n",
      "313/313 [==============================] - 6s 18ms/step - loss: 1.7058\n",
      "Epoch 60/100\n",
      "313/313 [==============================] - 6s 19ms/step - loss: 1.7035\n",
      "Epoch 61/100\n",
      "313/313 [==============================] - 6s 19ms/step - loss: 1.7038\n",
      "Epoch 62/100\n",
      "313/313 [==============================] - 7s 22ms/step - loss: 1.7006\n",
      "Epoch 63/100\n",
      "313/313 [==============================] - 6s 18ms/step - loss: 1.7010\n",
      "Epoch 64/100\n",
      "313/313 [==============================] - 6s 18ms/step - loss: 1.6999\n",
      "Epoch 65/100\n",
      "313/313 [==============================] - 6s 19ms/step - loss: 1.7000\n",
      "Epoch 66/100\n",
      "313/313 [==============================] - 8s 25ms/step - loss: 1.7000\n",
      "Epoch 67/100\n",
      "313/313 [==============================] - 7s 22ms/step - loss: 1.6990\n",
      "Epoch 68/100\n",
      "313/313 [==============================] - 6s 19ms/step - loss: 1.6969\n",
      "Epoch 69/100\n",
      "313/313 [==============================] - 6s 18ms/step - loss: 1.6970\n",
      "Epoch 70/100\n",
      "313/313 [==============================] - 6s 19ms/step - loss: 1.6972\n",
      "Epoch 71/100\n",
      "313/313 [==============================] - 7s 22ms/step - loss: 1.6970\n",
      "Epoch 72/100\n",
      "313/313 [==============================] - 6s 20ms/step - loss: 1.6953\n",
      "Epoch 73/100\n",
      "313/313 [==============================] - 6s 18ms/step - loss: 1.6944\n",
      "Epoch 74/100\n",
      "313/313 [==============================] - 6s 19ms/step - loss: 1.6915\n",
      "Epoch 75/100\n",
      "313/313 [==============================] - 8s 26ms/step - loss: 1.6921\n",
      "Epoch 76/100\n",
      "313/313 [==============================] - 6s 18ms/step - loss: 1.6929\n",
      "Epoch 77/100\n",
      "313/313 [==============================] - 6s 18ms/step - loss: 1.6912\n",
      "Epoch 78/100\n",
      "313/313 [==============================] - 6s 19ms/step - loss: 1.6903\n",
      "Epoch 79/100\n",
      "313/313 [==============================] - 7s 22ms/step - loss: 1.6908\n",
      "Epoch 80/100\n",
      "313/313 [==============================] - 6s 19ms/step - loss: 1.6893\n",
      "Epoch 81/100\n",
      "313/313 [==============================] - 6s 19ms/step - loss: 1.6873\n",
      "Epoch 82/100\n",
      "313/313 [==============================] - 6s 18ms/step - loss: 1.6863\n",
      "Epoch 83/100\n",
      "313/313 [==============================] - 9s 28ms/step - loss: 1.6857\n",
      "Epoch 84/100\n",
      "313/313 [==============================] - 7s 23ms/step - loss: 1.6873\n",
      "Epoch 85/100\n",
      "313/313 [==============================] - 6s 18ms/step - loss: 1.6861\n",
      "Epoch 86/100\n",
      "313/313 [==============================] - 6s 19ms/step - loss: 1.6845\n",
      "Epoch 87/100\n",
      "313/313 [==============================] - 6s 19ms/step - loss: 1.6844\n",
      "Epoch 88/100\n",
      "313/313 [==============================] - 6s 18ms/step - loss: 1.6835\n",
      "Epoch 89/100\n",
      "313/313 [==============================] - 6s 18ms/step - loss: 1.6838\n",
      "Epoch 90/100\n",
      "313/313 [==============================] - 6s 19ms/step - loss: 1.6839\n",
      "Epoch 91/100\n",
      "313/313 [==============================] - 6s 18ms/step - loss: 1.6822\n",
      "Epoch 92/100\n",
      "313/313 [==============================] - 7s 21ms/step - loss: 1.6831\n",
      "Epoch 93/100\n",
      "313/313 [==============================] - 6s 19ms/step - loss: 1.6822\n",
      "Epoch 94/100\n",
      "313/313 [==============================] - 6s 20ms/step - loss: 1.6807\n",
      "Epoch 95/100\n",
      "313/313 [==============================] - 6s 19ms/step - loss: 1.6805\n",
      "Epoch 96/100\n",
      "313/313 [==============================] - 6s 19ms/step - loss: 1.6807\n",
      "Epoch 97/100\n",
      "313/313 [==============================] - 6s 19ms/step - loss: 1.6796\n",
      "Epoch 98/100\n",
      "313/313 [==============================] - 6s 19ms/step - loss: 1.6784\n",
      "Epoch 99/100\n",
      "313/313 [==============================] - 6s 18ms/step - loss: 1.6806\n",
      "Epoch 100/100\n",
      "313/313 [==============================] - 6s 20ms/step - loss: 1.6788\n"
     ]
    }
   ],
   "source": [
    "model.compile(loss=\"sparse_categorical_crossentropy\", optimizer=\"adam\")\n",
    "history = model.fit(dataset, epochs=100,\n",
    "                    callbacks=[ResetStatesCallback(), EarlyStoppingCallback])"
   ]
  },
  {
   "cell_type": "code",
   "execution_count": 24,
   "id": "23c27573",
   "metadata": {
    "execution": {
     "iopub.execute_input": "2022-04-13T11:55:59.242152Z",
     "iopub.status.busy": "2022-04-13T11:55:59.234291Z",
     "iopub.status.idle": "2022-04-13T11:55:59.280227Z",
     "shell.execute_reply": "2022-04-13T11:55:59.279584Z",
     "shell.execute_reply.started": "2022-04-13T11:41:23.207726Z"
    },
    "papermill": {
     "duration": 4.884947,
     "end_time": "2022-04-13T11:55:59.280376",
     "exception": false,
     "start_time": "2022-04-13T11:55:54.395429",
     "status": "completed"
    },
    "tags": []
   },
   "outputs": [],
   "source": [
    "model.save(\"./models/my_stateful_RNN.h5\")"
   ]
  },
  {
   "cell_type": "code",
   "execution_count": 25,
   "id": "47626182",
   "metadata": {
    "execution": {
     "iopub.execute_input": "2022-04-13T11:56:08.806325Z",
     "iopub.status.busy": "2022-04-13T11:56:08.805171Z",
     "iopub.status.idle": "2022-04-13T11:56:09.335240Z",
     "shell.execute_reply": "2022-04-13T11:56:09.334342Z",
     "shell.execute_reply.started": "2022-04-13T11:41:23.210025Z"
    },
    "papermill": {
     "duration": 5.491895,
     "end_time": "2022-04-13T11:56:09.335385",
     "exception": false,
     "start_time": "2022-04-13T11:56:03.843490",
     "status": "completed"
    },
    "tags": []
   },
   "outputs": [],
   "source": [
    "model = keras.models.load_model('./models/my_stateful_RNN.h5')"
   ]
  },
  {
   "cell_type": "code",
   "execution_count": 26,
   "id": "52982d7d",
   "metadata": {
    "execution": {
     "iopub.execute_input": "2022-04-13T11:56:19.558930Z",
     "iopub.status.busy": "2022-04-13T11:56:19.557636Z",
     "iopub.status.idle": "2022-04-13T11:56:19.559948Z",
     "shell.execute_reply": "2022-04-13T11:56:19.560662Z",
     "shell.execute_reply.started": "2022-04-13T11:41:23.212345Z"
    },
    "papermill": {
     "duration": 5.669497,
     "end_time": "2022-04-13T11:56:19.560842",
     "exception": false,
     "start_time": "2022-04-13T11:56:13.891345",
     "status": "completed"
    },
    "tags": []
   },
   "outputs": [],
   "source": [
    "history_dict = history.history\n",
    "train_loss = history_dict[\"loss\"]"
   ]
  },
  {
   "cell_type": "code",
   "execution_count": 27,
   "id": "6e15c963",
   "metadata": {
    "execution": {
     "iopub.execute_input": "2022-04-13T11:56:29.083193Z",
     "iopub.status.busy": "2022-04-13T11:56:29.081980Z",
     "iopub.status.idle": "2022-04-13T11:56:29.345698Z",
     "shell.execute_reply": "2022-04-13T11:56:29.345160Z",
     "shell.execute_reply.started": "2022-04-13T11:41:23.214640Z"
    },
    "papermill": {
     "duration": 5.225427,
     "end_time": "2022-04-13T11:56:29.345866",
     "exception": false,
     "start_time": "2022-04-13T11:56:24.120439",
     "status": "completed"
    },
    "tags": []
   },
   "outputs": [
    {
     "data": {
      "text/plain": [
       "Text(0, 0.5, 'loss')"
      ]
     },
     "execution_count": 27,
     "metadata": {},
     "output_type": "execute_result"
    },
    {
     "data": {
      "image/png": "[encoded data removed]",
      "text/plain": [
       "<Figure size 432x288 with 1 Axes>"
      ]
     },
     "metadata": {
      "needs_background": "light"
     },
     "output_type": "display_data"
    }
   ],
   "source": [
    "epochs = 100\n",
    "# figure 1\n",
    "plt.figure()\n",
    "plt.plot(range(epochs), train_loss, label='train_loss')\n",
    "plt.legend()\n",
    "plt.grid(True)\n",
    "plt.xlabel('epochs')\n",
    "plt.ylabel('loss')"
   ]
  },
  {
   "cell_type": "code",
   "execution_count": null,
   "id": "e1bc9dbd",
   "metadata": {
    "papermill": {
     "duration": 4.743222,
     "end_time": "2022-04-13T11:56:38.606126",
     "exception": false,
     "start_time": "2022-04-13T11:56:33.862904",
     "status": "completed"
    },
    "tags": []
   },
   "outputs": [],
   "source": []
  }
 ],
 "metadata": {
  "hide_input": false,
  "kernelspec": {
   "display_name": "Python 3",
   "language": "python",
   "name": "python3"
  },
  "language_info": {
   "codemirror_mode": {
    "name": "ipython",
    "version": 3
   },
   "file_extension": ".py",
   "mimetype": "text/x-python",
   "name": "python",
   "nbconvert_exporter": "python",
   "pygments_lexer": "ipython3",
   "version": "3.7.4"
  },
  "papermill": {
   "default_parameters": {},
   "duration": 897.569316,
   "end_time": "2022-04-13T11:56:46.383284",
   "environment_variables": {},
   "exception": null,
   "input_path": "__notebook__.ipynb",
   "output_path": "__notebook__.ipynb",
   "parameters": {},
   "start_time": "2022-04-13T11:41:48.813968",
   "version": "2.3.3"
  },
  "toc": {
   "base_numbering": 1,
   "nav_menu": {},
   "number_sections": true,
   "sideBar": true,
   "skip_h1_title": false,
   "title_cell": "目录",
   "title_sidebar": "目录",
   "toc_cell": false,
   "toc_position": {},
   "toc_section_display": true,
   "toc_window_display": false
  }
 },
 "nbformat": 4,
 "nbformat_minor": 5
}
